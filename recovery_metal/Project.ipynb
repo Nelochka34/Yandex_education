{
 "cells": [
  {
   "cell_type": "markdown",
   "metadata": {
    "toc": true
   },
   "source": [
    "<h1>Содержание<span class=\"tocSkip\"></span></h1>\n",
    "<div class=\"toc\"><ul class=\"toc-item\"><li><span><a href=\"#Подготовка-данных\" data-toc-modified-id=\"Подготовка-данных-1\"><span class=\"toc-item-num\">1&nbsp;&nbsp;</span>Подготовка данных</a></span></li><li><span><a href=\"#Анализ-данных\" data-toc-modified-id=\"Анализ-данных-2\"><span class=\"toc-item-num\">2&nbsp;&nbsp;</span>Анализ данных</a></span></li><li><span><a href=\"#Модель\" data-toc-modified-id=\"Модель-3\"><span class=\"toc-item-num\">3&nbsp;&nbsp;</span>Модель</a></span><ul class=\"toc-item\"><li><span><a href=\"#Напишем-функцию-для-вычисления-итоговой-метрики-качества-модели-sMAPE-(Symmetric-Mean-Absolute-Percentage-Error)\" data-toc-modified-id=\"Напишем-функцию-для-вычисления-итоговой-метрики-качества-модели-sMAPE-(Symmetric-Mean-Absolute-Percentage-Error)-3.1\"><span class=\"toc-item-num\">3.1&nbsp;&nbsp;</span>Напишем функцию для вычисления итоговой метрики качества модели sMAPE (Symmetric Mean Absolute Percentage Error)</a></span></li><li><span><a href=\"#Определим-параметры-для-обучающей-выборки:\" data-toc-modified-id=\"Определим-параметры-для-обучающей-выборки:-3.2\"><span class=\"toc-item-num\">3.2&nbsp;&nbsp;</span>Определим параметры для обучающей выборки:</a></span></li><li><span><a href=\"#Исследуем-несколько-моделей-и-выберем-лучший-результат:\" data-toc-modified-id=\"Исследуем-несколько-моделей-и-выберем-лучший-результат:-3.3\"><span class=\"toc-item-num\">3.3&nbsp;&nbsp;</span>Исследуем несколько моделей и выберем лучший результат:</a></span><ul class=\"toc-item\"><li><span><a href=\"#Для-линейной-регрессии\" data-toc-modified-id=\"Для-линейной-регрессии-3.3.1\"><span class=\"toc-item-num\">3.3.1&nbsp;&nbsp;</span>Для линейной регрессии</a></span></li><li><span><a href=\"#Для-модели-Дерево-решений\" data-toc-modified-id=\"Для-модели-Дерево-решений-3.3.2\"><span class=\"toc-item-num\">3.3.2&nbsp;&nbsp;</span>Для модели Дерево решений</a></span></li><li><span><a href=\"#Для-модели-Случайный-лес\" data-toc-modified-id=\"Для-модели-Случайный-лес-3.3.3\"><span class=\"toc-item-num\">3.3.3&nbsp;&nbsp;</span>Для модели Случайный лес</a></span></li><li><span><a href=\"#Для-модели-Градиентного-бустинга\" data-toc-modified-id=\"Для-модели-Градиентного-бустинга-3.3.4\"><span class=\"toc-item-num\">3.3.4&nbsp;&nbsp;</span>Для модели Градиентного бустинга</a></span></li></ul></li><li><span><a href=\"#Определим-параметры-для-для-тестовой-выборки:\" data-toc-modified-id=\"Определим-параметры-для-для-тестовой-выборки:-3.4\"><span class=\"toc-item-num\">3.4&nbsp;&nbsp;</span>Определим параметры для для тестовой выборки:</a></span></li><li><span><a href=\"#Посчитаем-sMAPE-для-тестовой-выборки:\" data-toc-modified-id=\"Посчитаем-sMAPE-для-тестовой-выборки:-3.5\"><span class=\"toc-item-num\">3.5&nbsp;&nbsp;</span>Посчитаем sMAPE для тестовой выборки:</a></span></li><li><span><a href=\"#Создадим-константную-модель,-чтобы-сравнить-ее-с-полученной.\" data-toc-modified-id=\"Создадим-константную-модель,-чтобы-сравнить-ее-с-полученной.-3.6\"><span class=\"toc-item-num\">3.6&nbsp;&nbsp;</span>Создадим константную модель, чтобы сравнить ее с полученной.</a></span></li></ul></li><li><span><a href=\"#Вывод:\" data-toc-modified-id=\"Вывод:-4\"><span class=\"toc-item-num\">4&nbsp;&nbsp;</span>Вывод:</a></span></li><li><span><a href=\"#Чек-лист-готовности-проекта\" data-toc-modified-id=\"Чек-лист-готовности-проекта-5\"><span class=\"toc-item-num\">5&nbsp;&nbsp;</span>Чек-лист готовности проекта</a></span></li></ul></div>"
   ]
  },
  {
   "cell_type": "markdown",
   "metadata": {},
   "source": [
    "# Восстановление золота из руды"
   ]
  },
  {
   "cell_type": "markdown",
   "metadata": {},
   "source": [
    "## Подготовка данных"
   ]
  },
  {
   "cell_type": "code",
   "execution_count": 1,
   "metadata": {},
   "outputs": [],
   "source": [
    "import pandas as pd\n",
    "import matplotlib.pyplot as plt\n",
    "import numpy as np\n",
    "import seaborn as sns\n",
    "from sklearn.ensemble import RandomForestRegressor\n",
    "from sklearn.tree import DecisionTreeRegressor\n",
    "from sklearn.linear_model import LinearRegression\n",
    "from sklearn.metrics import mean_squared_error\n",
    "from sklearn.model_selection import train_test_split\n",
    "from sklearn.preprocessing import StandardScaler\n",
    "from sklearn.metrics import mean_absolute_error\n",
    "from sklearn.model_selection import cross_val_score\n",
    "from sklearn.metrics import make_scorer\n",
    "from sklearn.dummy import DummyRegressor\n",
    "from sklearn.model_selection import GridSearchCV\n",
    "from catboost import CatBoostRegressor"
   ]
  },
  {
   "cell_type": "code",
   "execution_count": 2,
   "metadata": {},
   "outputs": [],
   "source": [
    "train = pd.read_csv('/datasets/gold_recovery_train_new.csv', index_col='date',parse_dates=True)    # откроем файлы\n",
    "test = pd.read_csv('/datasets/gold_recovery_test_new.csv', index_col='date',parse_dates=True)\n",
    "full = pd.read_csv('/datasets/gold_recovery_full_new.csv', index_col='date',parse_dates=True)"
   ]
  },
  {
   "cell_type": "code",
   "execution_count": 3,
   "metadata": {},
   "outputs": [
    {
     "name": "stdout",
     "output_type": "stream",
     "text": [
      "<class 'pandas.core.frame.DataFrame'>\n",
      "DatetimeIndex: 19439 entries, 2016-01-15 00:00:00 to 2018-08-18 10:59:59\n",
      "Data columns (total 86 columns):\n",
      " #   Column                                              Non-Null Count  Dtype  \n",
      "---  ------                                              --------------  -----  \n",
      " 0   final.output.concentrate_ag                         19438 non-null  float64\n",
      " 1   final.output.concentrate_pb                         19438 non-null  float64\n",
      " 2   final.output.concentrate_sol                        19228 non-null  float64\n",
      " 3   final.output.concentrate_au                         19439 non-null  float64\n",
      " 4   final.output.recovery                               19439 non-null  float64\n",
      " 5   final.output.tail_ag                                19438 non-null  float64\n",
      " 6   final.output.tail_pb                                19338 non-null  float64\n",
      " 7   final.output.tail_sol                               19433 non-null  float64\n",
      " 8   final.output.tail_au                                19439 non-null  float64\n",
      " 9   primary_cleaner.input.sulfate                       19415 non-null  float64\n",
      " 10  primary_cleaner.input.depressant                    19402 non-null  float64\n",
      " 11  primary_cleaner.input.feed_size                     19439 non-null  float64\n",
      " 12  primary_cleaner.input.xanthate                      19335 non-null  float64\n",
      " 13  primary_cleaner.output.concentrate_ag               19439 non-null  float64\n",
      " 14  primary_cleaner.output.concentrate_pb               19323 non-null  float64\n",
      " 15  primary_cleaner.output.concentrate_sol              19069 non-null  float64\n",
      " 16  primary_cleaner.output.concentrate_au               19439 non-null  float64\n",
      " 17  primary_cleaner.output.tail_ag                      19435 non-null  float64\n",
      " 18  primary_cleaner.output.tail_pb                      19418 non-null  float64\n",
      " 19  primary_cleaner.output.tail_sol                     19377 non-null  float64\n",
      " 20  primary_cleaner.output.tail_au                      19439 non-null  float64\n",
      " 21  primary_cleaner.state.floatbank8_a_air              19435 non-null  float64\n",
      " 22  primary_cleaner.state.floatbank8_a_level            19438 non-null  float64\n",
      " 23  primary_cleaner.state.floatbank8_b_air              19435 non-null  float64\n",
      " 24  primary_cleaner.state.floatbank8_b_level            19438 non-null  float64\n",
      " 25  primary_cleaner.state.floatbank8_c_air              19437 non-null  float64\n",
      " 26  primary_cleaner.state.floatbank8_c_level            19438 non-null  float64\n",
      " 27  primary_cleaner.state.floatbank8_d_air              19436 non-null  float64\n",
      " 28  primary_cleaner.state.floatbank8_d_level            19438 non-null  float64\n",
      " 29  rougher.calculation.sulfate_to_au_concentrate       19437 non-null  float64\n",
      " 30  rougher.calculation.floatbank10_sulfate_to_au_feed  19437 non-null  float64\n",
      " 31  rougher.calculation.floatbank11_sulfate_to_au_feed  19437 non-null  float64\n",
      " 32  rougher.calculation.au_pb_ratio                     19439 non-null  float64\n",
      " 33  rougher.input.feed_ag                               19439 non-null  float64\n",
      " 34  rougher.input.feed_pb                               19339 non-null  float64\n",
      " 35  rougher.input.feed_rate                             19428 non-null  float64\n",
      " 36  rougher.input.feed_size                             19294 non-null  float64\n",
      " 37  rougher.input.feed_sol                              19340 non-null  float64\n",
      " 38  rougher.input.feed_au                               19439 non-null  float64\n",
      " 39  rougher.input.floatbank10_sulfate                   19405 non-null  float64\n",
      " 40  rougher.input.floatbank10_xanthate                  19431 non-null  float64\n",
      " 41  rougher.input.floatbank11_sulfate                   19395 non-null  float64\n",
      " 42  rougher.input.floatbank11_xanthate                  18986 non-null  float64\n",
      " 43  rougher.output.concentrate_ag                       19439 non-null  float64\n",
      " 44  rougher.output.concentrate_pb                       19439 non-null  float64\n",
      " 45  rougher.output.concentrate_sol                      19416 non-null  float64\n",
      " 46  rougher.output.concentrate_au                       19439 non-null  float64\n",
      " 47  rougher.output.recovery                             19439 non-null  float64\n",
      " 48  rougher.output.tail_ag                              19438 non-null  float64\n",
      " 49  rougher.output.tail_pb                              19439 non-null  float64\n",
      " 50  rougher.output.tail_sol                             19439 non-null  float64\n",
      " 51  rougher.output.tail_au                              19439 non-null  float64\n",
      " 52  rougher.state.floatbank10_a_air                     19438 non-null  float64\n",
      " 53  rougher.state.floatbank10_a_level                   19438 non-null  float64\n",
      " 54  rougher.state.floatbank10_b_air                     19438 non-null  float64\n",
      " 55  rougher.state.floatbank10_b_level                   19438 non-null  float64\n",
      " 56  rougher.state.floatbank10_c_air                     19438 non-null  float64\n",
      " 57  rougher.state.floatbank10_c_level                   19438 non-null  float64\n",
      " 58  rougher.state.floatbank10_d_air                     19439 non-null  float64\n",
      " 59  rougher.state.floatbank10_d_level                   19439 non-null  float64\n",
      " 60  rougher.state.floatbank10_e_air                     19003 non-null  float64\n",
      " 61  rougher.state.floatbank10_e_level                   19439 non-null  float64\n",
      " 62  rougher.state.floatbank10_f_air                     19439 non-null  float64\n",
      " 63  rougher.state.floatbank10_f_level                   19439 non-null  float64\n",
      " 64  secondary_cleaner.output.tail_ag                    19437 non-null  float64\n",
      " 65  secondary_cleaner.output.tail_pb                    19427 non-null  float64\n",
      " 66  secondary_cleaner.output.tail_sol                   17691 non-null  float64\n",
      " 67  secondary_cleaner.output.tail_au                    19439 non-null  float64\n",
      " 68  secondary_cleaner.state.floatbank2_a_air            19219 non-null  float64\n",
      " 69  secondary_cleaner.state.floatbank2_a_level          19438 non-null  float64\n",
      " 70  secondary_cleaner.state.floatbank2_b_air            19416 non-null  float64\n",
      " 71  secondary_cleaner.state.floatbank2_b_level          19438 non-null  float64\n",
      " 72  secondary_cleaner.state.floatbank3_a_air            19426 non-null  float64\n",
      " 73  secondary_cleaner.state.floatbank3_a_level          19438 non-null  float64\n",
      " 74  secondary_cleaner.state.floatbank3_b_air            19438 non-null  float64\n",
      " 75  secondary_cleaner.state.floatbank3_b_level          19438 non-null  float64\n",
      " 76  secondary_cleaner.state.floatbank4_a_air            19433 non-null  float64\n",
      " 77  secondary_cleaner.state.floatbank4_a_level          19438 non-null  float64\n",
      " 78  secondary_cleaner.state.floatbank4_b_air            19438 non-null  float64\n",
      " 79  secondary_cleaner.state.floatbank4_b_level          19438 non-null  float64\n",
      " 80  secondary_cleaner.state.floatbank5_a_air            19438 non-null  float64\n",
      " 81  secondary_cleaner.state.floatbank5_a_level          19438 non-null  float64\n",
      " 82  secondary_cleaner.state.floatbank5_b_air            19438 non-null  float64\n",
      " 83  secondary_cleaner.state.floatbank5_b_level          19438 non-null  float64\n",
      " 84  secondary_cleaner.state.floatbank6_a_air            19437 non-null  float64\n",
      " 85  secondary_cleaner.state.floatbank6_a_level          19438 non-null  float64\n",
      "dtypes: float64(86)\n",
      "memory usage: 12.9 MB\n"
     ]
    }
   ],
   "source": [
    "full.info() # ознакомимся с данными, исходный датасет содержит обучающую и тестовую выборки со всеми признаками."
   ]
  },
  {
   "cell_type": "code",
   "execution_count": 4,
   "metadata": {},
   "outputs": [],
   "source": [
    "pd.set_option('display.max_rows', None)   # осуществим вывод полностью "
   ]
  },
  {
   "cell_type": "markdown",
   "metadata": {},
   "source": [
    "Избавимся от пропусков, заменив их предыдущими значениями:"
   ]
  },
  {
   "cell_type": "code",
   "execution_count": 5,
   "metadata": {},
   "outputs": [],
   "source": [
    "train = train.fillna(method='bfill')\n",
    "test = test.fillna(method='bfill')\n",
    "full = full.fillna(method='bfill')"
   ]
  },
  {
   "cell_type": "code",
   "execution_count": 6,
   "metadata": {},
   "outputs": [
    {
     "data": {
      "text/plain": [
       "(14149, 86)"
      ]
     },
     "execution_count": 6,
     "metadata": {},
     "output_type": "execute_result"
    }
   ],
   "source": [
    "train.shape # размер обучающей выборки"
   ]
  },
  {
   "cell_type": "code",
   "execution_count": 7,
   "metadata": {},
   "outputs": [
    {
     "data": {
      "text/plain": [
       "(5290, 52)"
      ]
     },
     "execution_count": 7,
     "metadata": {},
     "output_type": "execute_result"
    }
   ],
   "source": [
    "test.shape # размер тестовой выборки"
   ]
  },
  {
   "cell_type": "code",
   "execution_count": 8,
   "metadata": {},
   "outputs": [
    {
     "data": {
      "text/plain": [
       "(19439, 86)"
      ]
     },
     "execution_count": 8,
     "metadata": {},
     "output_type": "execute_result"
    }
   ],
   "source": [
    "full.shape # размер исходной выборки"
   ]
  },
  {
   "cell_type": "markdown",
   "metadata": {},
   "source": [
    "Вычислим эффективность обогащения (recovery) на обучающей выборке. <br>\n",
    "Рассчитывается она по формуле: \n",
    "recovery = ((C * (F - T)) / (F * (C - T))) * 100%\n",
    "где:<br>\n",
    "C — доля золота в концентрате после флотации/очистки;<br>\n",
    "F — доля золота в сырье/концентрате до флотации/очистки;<br>\n",
    "T — доля золота в отвальных хвостах после флотации/очистки.<br>\n",
    "Основываясь на полученных данных, необходимые нам признаки для проверки формулы это:<br>\n",
    "rougher.output.concentrate_au (С)<br>\n",
    "rougher.input.feed_au (F)<br>\n",
    "rougher.output.tail_au (T)<br>\n",
    "А сам результат работы формулы находится в столбце \"rougher.output.recovery\"<br>"
   ]
  },
  {
   "cell_type": "code",
   "execution_count": 9,
   "metadata": {},
   "outputs": [],
   "source": [
    "C = train['rougher.output.concentrate_au']\n",
    "F = train['rougher.input.feed_au']\n",
    "T = train['rougher.output.tail_au']"
   ]
  },
  {
   "cell_type": "code",
   "execution_count": 10,
   "metadata": {},
   "outputs": [],
   "source": [
    "recovery = ((C * (F - T)) / (F * (C - T))) * 100"
   ]
  },
  {
   "cell_type": "markdown",
   "metadata": {},
   "source": [
    "Проверим, что она расчитана правильно. Построим гистограммы расчитанных значений и значений, представленных в выборке"
   ]
  },
  {
   "cell_type": "code",
   "execution_count": 11,
   "metadata": {},
   "outputs": [
    {
     "data": {
      "text/plain": [
       "<AxesSubplot:>"
      ]
     },
     "execution_count": 11,
     "metadata": {},
     "output_type": "execute_result"
    },
    {
     "data": {
      "image/png": "[encoded data removed]",
      "text/plain": [
       "<Figure size 432x288 with 1 Axes>"
      ]
     },
     "metadata": {
      "needs_background": "light"
     },
     "output_type": "display_data"
    }
   ],
   "source": [
    "train['rougher.output.recovery'].hist(bins = 100)"
   ]
  },
  {
   "cell_type": "code",
   "execution_count": 12,
   "metadata": {},
   "outputs": [
    {
     "data": {
      "text/plain": [
       "<AxesSubplot:>"
      ]
     },
     "execution_count": 12,
     "metadata": {},
     "output_type": "execute_result"
    },
    {
     "data": {
      "image/png": "[encoded data removed]",
      "text/plain": [
       "<Figure size 432x288 with 1 Axes>"
      ]
     },
     "metadata": {
      "needs_background": "light"
     },
     "output_type": "display_data"
    }
   ],
   "source": [
    "recovery.hist(bins = 100)"
   ]
  },
  {
   "cell_type": "markdown",
   "metadata": {},
   "source": [
    "Видно, что на графиках нет различий между расчитанными значениями эффективности и полученной в выборке. Посчитаем MAE и оценим среднее абсолютное отклонение. "
   ]
  },
  {
   "cell_type": "code",
   "execution_count": 13,
   "metadata": {},
   "outputs": [
    {
     "name": "stdout",
     "output_type": "stream",
     "text": [
      "MAE: 9.73512347450521e-15\n"
     ]
    }
   ],
   "source": [
    "MAE = mean_absolute_error(train['rougher.output.recovery'], recovery)\n",
    "print(\"MAE:\", MAE)"
   ]
  },
  {
   "cell_type": "markdown",
   "metadata": {},
   "source": [
    "Среднее абсолютное отклонение ничтожно мало. Расчеты верны. "
   ]
  },
  {
   "cell_type": "markdown",
   "metadata": {},
   "source": [
    "Проанализируем признаки, недоступные в тестовой выборке:"
   ]
  },
  {
   "cell_type": "code",
   "execution_count": 14,
   "metadata": {},
   "outputs": [
    {
     "data": {
      "text/plain": [
       "{'final.output.concentrate_ag',\n",
       " 'final.output.concentrate_au',\n",
       " 'final.output.concentrate_pb',\n",
       " 'final.output.concentrate_sol',\n",
       " 'final.output.recovery',\n",
       " 'final.output.tail_ag',\n",
       " 'final.output.tail_au',\n",
       " 'final.output.tail_pb',\n",
       " 'final.output.tail_sol',\n",
       " 'primary_cleaner.output.concentrate_ag',\n",
       " 'primary_cleaner.output.concentrate_au',\n",
       " 'primary_cleaner.output.concentrate_pb',\n",
       " 'primary_cleaner.output.concentrate_sol',\n",
       " 'primary_cleaner.output.tail_ag',\n",
       " 'primary_cleaner.output.tail_au',\n",
       " 'primary_cleaner.output.tail_pb',\n",
       " 'primary_cleaner.output.tail_sol',\n",
       " 'rougher.calculation.au_pb_ratio',\n",
       " 'rougher.calculation.floatbank10_sulfate_to_au_feed',\n",
       " 'rougher.calculation.floatbank11_sulfate_to_au_feed',\n",
       " 'rougher.calculation.sulfate_to_au_concentrate',\n",
       " 'rougher.output.concentrate_ag',\n",
       " 'rougher.output.concentrate_au',\n",
       " 'rougher.output.concentrate_pb',\n",
       " 'rougher.output.concentrate_sol',\n",
       " 'rougher.output.recovery',\n",
       " 'rougher.output.tail_ag',\n",
       " 'rougher.output.tail_au',\n",
       " 'rougher.output.tail_pb',\n",
       " 'rougher.output.tail_sol',\n",
       " 'secondary_cleaner.output.tail_ag',\n",
       " 'secondary_cleaner.output.tail_au',\n",
       " 'secondary_cleaner.output.tail_pb',\n",
       " 'secondary_cleaner.output.tail_sol'}"
      ]
     },
     "execution_count": 14,
     "metadata": {},
     "output_type": "execute_result"
    }
   ],
   "source": [
    "missed_test_columns = set(list(train.columns.values))-set(list(test.columns.values))\n",
    "missed_test_columns"
   ]
  },
  {
   "cell_type": "markdown",
   "metadata": {},
   "source": [
    "Некоторые параметры недоступны, потому что замеряются и/или рассчитываются значительно позже. Из-за этого в тестовой выборке отсутствуют некоторые признаки, которые могут быть в обучающей. Также в тестовом наборе нет целевых признаков."
   ]
  },
  {
   "cell_type": "markdown",
   "metadata": {},
   "source": [
    "Теперь добавим в тестовую выборку недостающие признаки: "
   ]
  },
  {
   "cell_type": "code",
   "execution_count": 15,
   "metadata": {},
   "outputs": [],
   "source": [
    "full_merged = full[[\"rougher.output.recovery\", \"final.output.recovery\", \"rougher.output.concentrate_au\", \"rougher.output.concentrate_ag\", \"rougher.output.concentrate_pb\", \"rougher.output.concentrate_sol\", \"final.output.concentrate_au\", \"final.output.concentrate_ag\", \"final.output.concentrate_pb\", \"final.output.concentrate_sol\"]]\n",
    "test = test.merge(full_merged, on=\"date\", how=\"left\")"
   ]
  },
  {
   "cell_type": "code",
   "execution_count": 16,
   "metadata": {},
   "outputs": [
    {
     "name": "stdout",
     "output_type": "stream",
     "text": [
      "(14149, 86)\n",
      "(5290, 62)\n"
     ]
    }
   ],
   "source": [
    "print(train.shape)\n",
    "print(test.shape)"
   ]
  },
  {
   "cell_type": "markdown",
   "metadata": {},
   "source": [
    "Теперь у нас есть готовые обучающая  и тестовая выборки. "
   ]
  },
  {
   "cell_type": "markdown",
   "metadata": {},
   "source": [
    "Некоторые параметры замеряются или рассчитываются значительно позже, поэтому их нет в тестсовой выборке. Также в тестовой выборке нет целевых признаков."
   ]
  },
  {
   "cell_type": "markdown",
   "metadata": {},
   "source": [
    "## Анализ данных"
   ]
  },
  {
   "cell_type": "markdown",
   "metadata": {},
   "source": [
    "Посмотрим, как меняется концентрация металлов (Au, Ag, Pb) на различных этапах очистки.\n"
   ]
  },
  {
   "cell_type": "code",
   "execution_count": 17,
   "metadata": {},
   "outputs": [],
   "source": [
    "#подготовим датасет с необходимыми данными для золота\n",
    "au_data = (full[[\n",
    "    'rougher.input.feed_au', \n",
    "    'rougher.output.concentrate_au', \n",
    "    'primary_cleaner.output.concentrate_au', \n",
    "    'final.output.concentrate_au']].copy())"
   ]
  },
  {
   "cell_type": "code",
   "execution_count": 18,
   "metadata": {},
   "outputs": [],
   "source": [
    "#серебра\n",
    "ag_data = (full[[\n",
    "    'rougher.input.feed_ag', \n",
    "    'rougher.output.concentrate_ag', \n",
    "    'primary_cleaner.output.concentrate_ag', \n",
    "    'final.output.concentrate_ag']].copy())"
   ]
  },
  {
   "cell_type": "code",
   "execution_count": 19,
   "metadata": {},
   "outputs": [],
   "source": [
    "#свинца\n",
    "pb_data = (full[[\n",
    "    'rougher.input.feed_pb', \n",
    "    'rougher.output.concentrate_pb', \n",
    "    'primary_cleaner.output.concentrate_pb', \n",
    "    'final.output.concentrate_pb']].copy())"
   ]
  },
  {
   "cell_type": "code",
   "execution_count": 20,
   "metadata": {},
   "outputs": [],
   "source": [
    "def draw_hist (data, title):\n",
    "    fig, ax = plt.subplots()\n",
    "    ax.set_ylabel('Кол-во наблюдений')\n",
    "    ax.set_xlabel('Концентрация металла')\n",
    "    ax.set_title(title)\n",
    "    for col in data:\n",
    "        data[col].hist(alpha=.3) \n",
    "        ax.legend(['Исходное сырье','Флотация','Первичная очистка', 'Вторичная очистка'])"
   ]
  },
  {
   "cell_type": "code",
   "execution_count": 21,
   "metadata": {},
   "outputs": [
    {
     "data": {
      "image/png": "[encoded data removed]",
      "text/plain": [
       "<Figure size 432x288 with 1 Axes>"
      ]
     },
     "metadata": {
      "needs_background": "light"
     },
     "output_type": "display_data"
    },
    {
     "data": {
      "image/png": "[encoded data removed]",
      "text/plain": [
       "<Figure size 432x288 with 1 Axes>"
      ]
     },
     "metadata": {
      "needs_background": "light"
     },
     "output_type": "display_data"
    },
    {
     "data": {
      "image/png": "[encoded data removed]",
      "text/plain": [
       "<Figure size 432x288 with 1 Axes>"
      ]
     },
     "metadata": {
      "needs_background": "light"
     },
     "output_type": "display_data"
    }
   ],
   "source": [
    "draw_hist(au_data, 'Золото') # Постоим графики\n",
    "draw_hist(ag_data, 'Серебро')\n",
    "draw_hist(pb_data, 'Свинец')"
   ]
  },
  {
   "cell_type": "markdown",
   "metadata": {},
   "source": [
    "Из информации из графиков можно сделать выводы о том, что концентрация металлов с очисткой изменяется. У золота концентрация с очисткой ростет, у серебра концентрация ниже, чем до очистки, у свинци практически не меняется.  "
   ]
  },
  {
   "cell_type": "markdown",
   "metadata": {},
   "source": [
    "Далее сравним распределения размеров гранул сырья на обучающей и тестовой выборках. "
   ]
  },
  {
   "cell_type": "markdown",
   "metadata": {},
   "source": [
    "В обучающей и тестовой выборках есть признаки primary_cleaner.input.feed_size, rougher.input.feed_size. Сравним их распределения. Если они будут отличаться,оценка модели будет не правильной. "
   ]
  },
  {
   "cell_type": "code",
   "execution_count": 22,
   "metadata": {},
   "outputs": [
    {
     "data": {
      "text/plain": [
       "<AxesSubplot:>"
      ]
     },
     "execution_count": 22,
     "metadata": {},
     "output_type": "execute_result"
    },
    {
     "data": {
      "image/png": "[encoded data removed]",
      "text/plain": [
       "<Figure size 432x288 with 1 Axes>"
      ]
     },
     "metadata": {
      "needs_background": "light"
     },
     "output_type": "display_data"
    }
   ],
   "source": [
    "train['primary_cleaner.input.feed_size'].hist(bins = 50)\n",
    "test['primary_cleaner.input.feed_size'].hist(bins = 50)"
   ]
  },
  {
   "cell_type": "code",
   "execution_count": 23,
   "metadata": {},
   "outputs": [
    {
     "data": {
      "text/plain": [
       "<AxesSubplot:>"
      ]
     },
     "execution_count": 23,
     "metadata": {},
     "output_type": "execute_result"
    },
    {
     "data": {
      "image/png": "[encoded data removed]",
      "text/plain": [
       "<Figure size 432x288 with 1 Axes>"
      ]
     },
     "metadata": {
      "needs_background": "light"
     },
     "output_type": "display_data"
    }
   ],
   "source": [
    "train['rougher.input.feed_size'].hist(bins = 50)\n",
    "test['rougher.input.feed_size'].hist(bins = 50)"
   ]
  },
  {
   "cell_type": "markdown",
   "metadata": {},
   "source": [
    "Распределения не сильно отличаются друг от друга, это не доолжно повлиять на оценку модели. "
   ]
  },
  {
   "cell_type": "markdown",
   "metadata": {},
   "source": [
    "Исследуем суммарную концентрацию всех веществ на разных стадиях: в сырье, в черновом и финальном концентратах."
   ]
  },
  {
   "cell_type": "code",
   "execution_count": 24,
   "metadata": {},
   "outputs": [
    {
     "data": {
      "text/html": [
       "<div>\n",
       "<style scoped>\n",
       "    .dataframe tbody tr th:only-of-type {\n",
       "        vertical-align: middle;\n",
       "    }\n",
       "\n",
       "    .dataframe tbody tr th {\n",
       "        vertical-align: top;\n",
       "    }\n",
       "\n",
       "    .dataframe thead th {\n",
       "        text-align: right;\n",
       "    }\n",
       "</style>\n",
       "<table border=\"1\" class=\"dataframe\">\n",
       "  <thead>\n",
       "    <tr style=\"text-align: right;\">\n",
       "      <th></th>\n",
       "      <th>rougher.input.feed_ag</th>\n",
       "      <th>rougher.input.feed_pb</th>\n",
       "      <th>rougher.input.feed_sol</th>\n",
       "      <th>rougher.input.feed_au</th>\n",
       "      <th>primary_cleaner.output.concentrate_ag</th>\n",
       "      <th>primary_cleaner.output.concentrate_pb</th>\n",
       "      <th>primary_cleaner.output.concentrate_sol</th>\n",
       "      <th>primary_cleaner.output.concentrate_au</th>\n",
       "      <th>final.output.concentrate_ag</th>\n",
       "      <th>final.output.concentrate_pb</th>\n",
       "      <th>final.output.concentrate_sol</th>\n",
       "      <th>final.output.concentrate_au</th>\n",
       "    </tr>\n",
       "    <tr>\n",
       "      <th>date</th>\n",
       "      <th></th>\n",
       "      <th></th>\n",
       "      <th></th>\n",
       "      <th></th>\n",
       "      <th></th>\n",
       "      <th></th>\n",
       "      <th></th>\n",
       "      <th></th>\n",
       "      <th></th>\n",
       "      <th></th>\n",
       "      <th></th>\n",
       "      <th></th>\n",
       "    </tr>\n",
       "  </thead>\n",
       "  <tbody>\n",
       "    <tr>\n",
       "      <th>2016-01-15 00:00:00</th>\n",
       "      <td>6.100378</td>\n",
       "      <td>2.284912</td>\n",
       "      <td>36.808594</td>\n",
       "      <td>6.486150</td>\n",
       "      <td>8.547551</td>\n",
       "      <td>10.389648</td>\n",
       "      <td>19.529297</td>\n",
       "      <td>34.174427</td>\n",
       "      <td>6.055403</td>\n",
       "      <td>9.889648</td>\n",
       "      <td>5.507324</td>\n",
       "      <td>42.192020</td>\n",
       "    </tr>\n",
       "    <tr>\n",
       "      <th>2016-01-15 01:00:00</th>\n",
       "      <td>6.161113</td>\n",
       "      <td>2.266033</td>\n",
       "      <td>35.753385</td>\n",
       "      <td>6.478583</td>\n",
       "      <td>8.558743</td>\n",
       "      <td>10.497069</td>\n",
       "      <td>19.369147</td>\n",
       "      <td>34.118526</td>\n",
       "      <td>6.029369</td>\n",
       "      <td>9.968944</td>\n",
       "      <td>5.257781</td>\n",
       "      <td>42.701629</td>\n",
       "    </tr>\n",
       "    <tr>\n",
       "      <th>2016-01-15 02:00:00</th>\n",
       "      <td>6.116455</td>\n",
       "      <td>2.159622</td>\n",
       "      <td>35.971630</td>\n",
       "      <td>6.362222</td>\n",
       "      <td>8.603505</td>\n",
       "      <td>10.354494</td>\n",
       "      <td>19.167579</td>\n",
       "      <td>33.969464</td>\n",
       "      <td>6.055926</td>\n",
       "      <td>10.213995</td>\n",
       "      <td>5.383759</td>\n",
       "      <td>42.657501</td>\n",
       "    </tr>\n",
       "    <tr>\n",
       "      <th>2016-01-15 03:00:00</th>\n",
       "      <td>6.043309</td>\n",
       "      <td>2.037807</td>\n",
       "      <td>36.862241</td>\n",
       "      <td>6.118189</td>\n",
       "      <td>7.221879</td>\n",
       "      <td>8.496563</td>\n",
       "      <td>15.978538</td>\n",
       "      <td>28.260743</td>\n",
       "      <td>6.047977</td>\n",
       "      <td>9.977019</td>\n",
       "      <td>4.858634</td>\n",
       "      <td>42.689819</td>\n",
       "    </tr>\n",
       "    <tr>\n",
       "      <th>2016-01-15 04:00:00</th>\n",
       "      <td>6.060915</td>\n",
       "      <td>1.786875</td>\n",
       "      <td>34.347666</td>\n",
       "      <td>5.663707</td>\n",
       "      <td>9.089428</td>\n",
       "      <td>9.986786</td>\n",
       "      <td>19.199864</td>\n",
       "      <td>33.044932</td>\n",
       "      <td>6.148599</td>\n",
       "      <td>10.142511</td>\n",
       "      <td>4.939416</td>\n",
       "      <td>42.774141</td>\n",
       "    </tr>\n",
       "  </tbody>\n",
       "</table>\n",
       "</div>"
      ],
      "text/plain": [
       "                     rougher.input.feed_ag  rougher.input.feed_pb  \\\n",
       "date                                                                \n",
       "2016-01-15 00:00:00               6.100378               2.284912   \n",
       "2016-01-15 01:00:00               6.161113               2.266033   \n",
       "2016-01-15 02:00:00               6.116455               2.159622   \n",
       "2016-01-15 03:00:00               6.043309               2.037807   \n",
       "2016-01-15 04:00:00               6.060915               1.786875   \n",
       "\n",
       "                     rougher.input.feed_sol  rougher.input.feed_au  \\\n",
       "date                                                                 \n",
       "2016-01-15 00:00:00               36.808594               6.486150   \n",
       "2016-01-15 01:00:00               35.753385               6.478583   \n",
       "2016-01-15 02:00:00               35.971630               6.362222   \n",
       "2016-01-15 03:00:00               36.862241               6.118189   \n",
       "2016-01-15 04:00:00               34.347666               5.663707   \n",
       "\n",
       "                     primary_cleaner.output.concentrate_ag  \\\n",
       "date                                                         \n",
       "2016-01-15 00:00:00                               8.547551   \n",
       "2016-01-15 01:00:00                               8.558743   \n",
       "2016-01-15 02:00:00                               8.603505   \n",
       "2016-01-15 03:00:00                               7.221879   \n",
       "2016-01-15 04:00:00                               9.089428   \n",
       "\n",
       "                     primary_cleaner.output.concentrate_pb  \\\n",
       "date                                                         \n",
       "2016-01-15 00:00:00                              10.389648   \n",
       "2016-01-15 01:00:00                              10.497069   \n",
       "2016-01-15 02:00:00                              10.354494   \n",
       "2016-01-15 03:00:00                               8.496563   \n",
       "2016-01-15 04:00:00                               9.986786   \n",
       "\n",
       "                     primary_cleaner.output.concentrate_sol  \\\n",
       "date                                                          \n",
       "2016-01-15 00:00:00                               19.529297   \n",
       "2016-01-15 01:00:00                               19.369147   \n",
       "2016-01-15 02:00:00                               19.167579   \n",
       "2016-01-15 03:00:00                               15.978538   \n",
       "2016-01-15 04:00:00                               19.199864   \n",
       "\n",
       "                     primary_cleaner.output.concentrate_au  \\\n",
       "date                                                         \n",
       "2016-01-15 00:00:00                              34.174427   \n",
       "2016-01-15 01:00:00                              34.118526   \n",
       "2016-01-15 02:00:00                              33.969464   \n",
       "2016-01-15 03:00:00                              28.260743   \n",
       "2016-01-15 04:00:00                              33.044932   \n",
       "\n",
       "                     final.output.concentrate_ag  final.output.concentrate_pb  \\\n",
       "date                                                                            \n",
       "2016-01-15 00:00:00                     6.055403                     9.889648   \n",
       "2016-01-15 01:00:00                     6.029369                     9.968944   \n",
       "2016-01-15 02:00:00                     6.055926                    10.213995   \n",
       "2016-01-15 03:00:00                     6.047977                     9.977019   \n",
       "2016-01-15 04:00:00                     6.148599                    10.142511   \n",
       "\n",
       "                     final.output.concentrate_sol  final.output.concentrate_au  \n",
       "date                                                                            \n",
       "2016-01-15 00:00:00                      5.507324                    42.192020  \n",
       "2016-01-15 01:00:00                      5.257781                    42.701629  \n",
       "2016-01-15 02:00:00                      5.383759                    42.657501  \n",
       "2016-01-15 03:00:00                      4.858634                    42.689819  \n",
       "2016-01-15 04:00:00                      4.939416                    42.774141  "
      ]
     },
     "execution_count": 24,
     "metadata": {},
     "output_type": "execute_result"
    }
   ],
   "source": [
    "#создадим новый датасет с данныим о концентрации веществ\n",
    "con_data = full[['rougher.input.feed_ag', 'rougher.input.feed_pb', 'rougher.input.feed_sol', \\\n",
    "                 'rougher.input.feed_au', 'primary_cleaner.output.concentrate_ag', 'primary_cleaner.output.concentrate_pb', \\\n",
    "                 'primary_cleaner.output.concentrate_sol', 'primary_cleaner.output.concentrate_au', \\\n",
    "                 'final.output.concentrate_ag', 'final.output.concentrate_pb', 'final.output.concentrate_sol',\\\n",
    "                 'final.output.concentrate_au']].copy()\n",
    "con_data.head(5)"
   ]
  },
  {
   "cell_type": "code",
   "execution_count": 25,
   "metadata": {},
   "outputs": [],
   "source": [
    "# проссумируем концентрацию веществ на разной стадии\n",
    "con_data['conc_sum_rougher'] = con_data['rougher.input.feed_ag'] + con_data['rougher.input.feed_pb'] + \\\n",
    "    con_data['rougher.input.feed_au']\n",
    "con_data['conc_sum_primary'] = con_data['primary_cleaner.output.concentrate_ag'] +\\\n",
    "    con_data['primary_cleaner.output.concentrate_pb'] + con_data['primary_cleaner.output.concentrate_au']\n",
    "con_data['conc_sum_final'] = con_data['final.output.concentrate_ag'] + con_data['final.output.concentrate_pb'] + \\\n",
    "    con_data['final.output.concentrate_au']"
   ]
  },
  {
   "cell_type": "code",
   "execution_count": 26,
   "metadata": {},
   "outputs": [
    {
     "data": {
      "image/png": "[encoded data removed]",
      "text/plain": [
       "<Figure size 432x288 with 1 Axes>"
      ]
     },
     "metadata": {
      "needs_background": "light"
     },
     "output_type": "display_data"
    }
   ],
   "source": [
    "plt.hist([con_data['conc_sum_rougher'], con_data['conc_sum_primary'], con_data['conc_sum_final']], bins = 100, alpha=1, \n",
    "         label=['rougher', 'primary', 'final'])\n",
    "#plt.figure(figsize = (10,8))\n",
    "plt.legend()\n",
    "plt.show()"
   ]
  },
  {
   "cell_type": "code",
   "execution_count": 27,
   "metadata": {},
   "outputs": [
    {
     "data": {
      "text/plain": [
       "(5290, 62)"
      ]
     },
     "metadata": {},
     "output_type": "display_data"
    },
    {
     "data": {
      "text/plain": [
       "(14149, 86)"
      ]
     },
     "metadata": {},
     "output_type": "display_data"
    }
   ],
   "source": [
    "display(test.shape)\n",
    "display(train.shape)"
   ]
  },
  {
   "cell_type": "markdown",
   "metadata": {},
   "source": [
    "На графике видны нулевые аномалии. Избавимся от них, получив чистые выборки:"
   ]
  },
  {
   "cell_type": "code",
   "execution_count": 28,
   "metadata": {},
   "outputs": [],
   "source": [
    "features_rough_concentrate = [\n",
    "    'rougher.output.concentrate_au',\n",
    "    'rougher.output.concentrate_ag',\n",
    "    'rougher.output.concentrate_pb',\n",
    "    'rougher.output.concentrate_sol',\n",
    "]\n",
    "\n",
    "features_input_concentrate = [\n",
    "    'rougher.input.feed_au',\n",
    "    'rougher.input.feed_ag',\n",
    "    'rougher.input.feed_pb',\n",
    "    'rougher.input.feed_sol',\n",
    "]\n",
    "features_final_concentrate = [\n",
    "    'final.output.concentrate_au',\n",
    "    'final.output.concentrate_ag',\n",
    "    'final.output.concentrate_pb',\n",
    "    'final.output.concentrate_sol',\n",
    "]"
   ]
  },
  {
   "cell_type": "code",
   "execution_count": 29,
   "metadata": {},
   "outputs": [],
   "source": [
    "train = train[train[features_input_concentrate].sum(1) > 0]\n",
    "train = train[train[features_rough_concentrate].sum(1) > 0]\n",
    "train = train[train[features_final_concentrate].sum(1) > 0]"
   ]
  },
  {
   "cell_type": "code",
   "execution_count": 30,
   "metadata": {},
   "outputs": [
    {
     "name": "stderr",
     "output_type": "stream",
     "text": [
      "/tmp/ipykernel_282/1155270940.py:4: UserWarning: Boolean Series key will be reindexed to match DataFrame index.\n",
      "  test = test[full[features_final_concentrate].sum(1) > 0]\n"
     ]
    },
    {
     "data": {
      "text/plain": [
       "(5154, 62)"
      ]
     },
     "metadata": {},
     "output_type": "display_data"
    },
    {
     "data": {
      "text/plain": [
       "(13795, 86)"
      ]
     },
     "metadata": {},
     "output_type": "display_data"
    }
   ],
   "source": [
    "full = full.loc[test.index]\n",
    "test = test[full[features_input_concentrate].sum(1) > 0]\n",
    "test = test[full[features_rough_concentrate].sum(1) > 0]\n",
    "test = test[full[features_final_concentrate].sum(1) > 0]\n",
    "display(test.shape)\n",
    "display(train.shape)"
   ]
  },
  {
   "cell_type": "markdown",
   "metadata": {},
   "source": [
    "## Модель"
   ]
  },
  {
   "cell_type": "markdown",
   "metadata": {},
   "source": [
    "### Напишем функцию для вычисления итоговой метрики качества модели sMAPE (Symmetric Mean Absolute Percentage Error)"
   ]
  },
  {
   "cell_type": "code",
   "execution_count": 31,
   "metadata": {},
   "outputs": [],
   "source": [
    "def smape(target, predicted):\n",
    "    numerator = np.abs(target - predicted)\n",
    "    denominator = (np.abs(target) + np.abs(predicted)) / 2 \n",
    "    rezult = 1 / len(target) * np.sum(numerator / denominator) * 100\n",
    "    return rezult"
   ]
  },
  {
   "cell_type": "markdown",
   "metadata": {},
   "source": [
    "Итоговое sMAPE:"
   ]
  },
  {
   "cell_type": "code",
   "execution_count": 32,
   "metadata": {},
   "outputs": [],
   "source": [
    "def itog_smape(rougher, final):\n",
    "    itog = 0.25*rougher + 0.75*final\n",
    "    return itog"
   ]
  },
  {
   "cell_type": "markdown",
   "metadata": {},
   "source": [
    "### Определим параметры для обучающей выборки: "
   ]
  },
  {
   "cell_type": "code",
   "execution_count": 33,
   "metadata": {},
   "outputs": [],
   "source": [
    "features_train = train.drop(columns=[\"rougher.output.recovery\", \"final.output.recovery\"], axis=1)"
   ]
  },
  {
   "cell_type": "code",
   "execution_count": 34,
   "metadata": {},
   "outputs": [],
   "source": [
    "target_rougher = train['rougher.output.recovery']\n",
    "target_final = train['final.output.recovery']"
   ]
  },
  {
   "cell_type": "markdown",
   "metadata": {},
   "source": [
    "### Исследуем несколько моделей и выберем лучший результат:"
   ]
  },
  {
   "cell_type": "markdown",
   "metadata": {},
   "source": [
    "#### Для линейной регрессии"
   ]
  },
  {
   "cell_type": "code",
   "execution_count": 35,
   "metadata": {},
   "outputs": [],
   "source": [
    "model_lr = LinearRegression() # рассмотрим на модели Линейной регрессии"
   ]
  },
  {
   "cell_type": "code",
   "execution_count": 36,
   "metadata": {},
   "outputs": [],
   "source": [
    "parameters_lr = {'fit_intercept':[True,False], 'normalize':[True,False], 'copy_X':[True, False]}"
   ]
  },
  {
   "cell_type": "code",
   "execution_count": 37,
   "metadata": {},
   "outputs": [
    {
     "data": {
      "text/plain": [
       "GridSearchCV(estimator=LinearRegression(),\n",
       "             param_grid={'copy_X': [True, False],\n",
       "                         'fit_intercept': [True, False],\n",
       "                         'normalize': [True, False]})"
      ]
     },
     "execution_count": 37,
     "metadata": {},
     "output_type": "execute_result"
    }
   ],
   "source": [
    "grid = GridSearchCV(model_lr,parameters_lr, cv=None)  # подберем оптимальное значение параметров\n",
    "grid.fit(features_train, target_rougher)"
   ]
  },
  {
   "cell_type": "code",
   "execution_count": 38,
   "metadata": {},
   "outputs": [
    {
     "data": {
      "text/plain": [
       "{'copy_X': True, 'fit_intercept': True, 'normalize': False}"
      ]
     },
     "execution_count": 38,
     "metadata": {},
     "output_type": "execute_result"
    }
   ],
   "source": [
    "grid.best_params_"
   ]
  },
  {
   "cell_type": "code",
   "execution_count": 39,
   "metadata": {},
   "outputs": [],
   "source": [
    "model_lr_optimal = LinearRegression(copy_X=True, fit_intercept=True, normalize=False)"
   ]
  },
  {
   "cell_type": "code",
   "execution_count": 40,
   "metadata": {},
   "outputs": [],
   "source": [
    "scores_lr = cross_val_score(model_lr_optimal, features_train, target_rougher,\\\n",
    "                            scoring=make_scorer(smape, greater_is_better=False), cv=5)"
   ]
  },
  {
   "cell_type": "code",
   "execution_count": 41,
   "metadata": {},
   "outputs": [],
   "source": [
    "final_scores_lr = sum(scores_lr)/len(scores_lr) # средняя оценка качества методом кросс-валидации для Линейной регессии"
   ]
  },
  {
   "cell_type": "code",
   "execution_count": 42,
   "metadata": {},
   "outputs": [
    {
     "name": "stdout",
     "output_type": "stream",
     "text": [
      "средняя оценка качества методом кросс-валидации для Линейной регессии: -2.8212525429909543\n"
     ]
    }
   ],
   "source": [
    "print(\"средняя оценка качества методом кросс-валидации для Линейной регессии:\", final_scores_lr)"
   ]
  },
  {
   "cell_type": "markdown",
   "metadata": {},
   "source": [
    "#### Для модели Дерево решений"
   ]
  },
  {
   "cell_type": "code",
   "execution_count": 43,
   "metadata": {},
   "outputs": [],
   "source": [
    "model_tree=DecisionTreeRegressor() # на модели Дерево решений"
   ]
  },
  {
   "cell_type": "code",
   "execution_count": 44,
   "metadata": {},
   "outputs": [],
   "source": [
    "parametrs = { 'max_depth': range (1,13, 1), # глубина дерева от 1 до 13 с шагом 1\n",
    "             'min_samples_leaf': range (1,8),\n",
    "              'min_samples_split': range (2,10,2)\n",
    "              }"
   ]
  },
  {
   "cell_type": "code",
   "execution_count": 45,
   "metadata": {},
   "outputs": [],
   "source": [
    "# grid = GridSearchCV(model_tree, parametrs, cv=5) # Очень долго считаются параметры, сразу подставим посчитанные значения\n",
    "# grid.fit(features_train, target_rougher)"
   ]
  },
  {
   "cell_type": "code",
   "execution_count": 46,
   "metadata": {},
   "outputs": [],
   "source": [
    "#grid.best_params_"
   ]
  },
  {
   "cell_type": "code",
   "execution_count": 47,
   "metadata": {},
   "outputs": [],
   "source": [
    "model_tree_optimal=DecisionTreeRegressor(max_depth=6, min_samples_leaf=5, min_samples_split=2) # применим оптимальные пареметры"
   ]
  },
  {
   "cell_type": "code",
   "execution_count": 48,
   "metadata": {},
   "outputs": [],
   "source": [
    "scores_tr = cross_val_score(model_tree_optimal, features_train, target_rougher,\\\n",
    "                            scoring=make_scorer(smape, greater_is_better=False), cv=5)"
   ]
  },
  {
   "cell_type": "code",
   "execution_count": 49,
   "metadata": {},
   "outputs": [],
   "source": [
    "final_scores_tr = sum(scores_tr)/len(scores_tr)"
   ]
  },
  {
   "cell_type": "code",
   "execution_count": 50,
   "metadata": {},
   "outputs": [
    {
     "name": "stdout",
     "output_type": "stream",
     "text": [
      "средняя оценка качества методом кросс-валидации для Дерева решений: -2.8212525429909543\n"
     ]
    }
   ],
   "source": [
    "print(\"средняя оценка качества методом кросс-валидации для Дерева решений:\", final_scores_lr)"
   ]
  },
  {
   "cell_type": "markdown",
   "metadata": {},
   "source": [
    "#### Для модели Случайный лес"
   ]
  },
  {
   "cell_type": "code",
   "execution_count": 51,
   "metadata": {},
   "outputs": [],
   "source": [
    "model_rf = RandomForestRegressor() # на модели Случайный лес"
   ]
  },
  {
   "cell_type": "markdown",
   "metadata": {},
   "source": [
    "Подберем оптимальые параметры методом GridSearchCV. Отдельно создадим параметры, которые будем прогонять GridSearch’ем. "
   ]
  },
  {
   "cell_type": "code",
   "execution_count": 52,
   "metadata": {},
   "outputs": [],
   "source": [
    "parametrs = { 'n_estimators': range (10, 51, 10),  #число деревьев в лесу. Оно будет изменяться от 10 до 50 с шагом 10\n",
    "              'max_depth': range (1,13, 2), # глубина дерева от 1 до 13 с шагом 2\n",
    "              }"
   ]
  },
  {
   "cell_type": "code",
   "execution_count": 53,
   "metadata": {},
   "outputs": [],
   "source": [
    "# grid = GridSearchCV(model_rf, parametrs, cv=5) # # Очень долго считаются параметры, сразу подставим посчитанные значения\n",
    "# grid.fit(features_train, target_rougher)"
   ]
  },
  {
   "cell_type": "code",
   "execution_count": 54,
   "metadata": {},
   "outputs": [],
   "source": [
    "# grid.best_params_ # наилучшие параметры"
   ]
  },
  {
   "cell_type": "code",
   "execution_count": 55,
   "metadata": {},
   "outputs": [],
   "source": [
    "model_rf_optimal = RandomForestRegressor(n_estimators =20, max_depth = 7) # применим модель с наилучшими параметрами"
   ]
  },
  {
   "cell_type": "code",
   "execution_count": 56,
   "metadata": {},
   "outputs": [],
   "source": [
    "scores_rf = cross_val_score(model_rf_optimal, features_train, target_rougher, scoring=make_scorer(smape, greater_is_better=False),\\\n",
    "                            cv=5)"
   ]
  },
  {
   "cell_type": "code",
   "execution_count": 57,
   "metadata": {},
   "outputs": [],
   "source": [
    "final_scores_rf = sum(scores_rf)/len(scores_rf)"
   ]
  },
  {
   "cell_type": "code",
   "execution_count": 58,
   "metadata": {},
   "outputs": [
    {
     "name": "stdout",
     "output_type": "stream",
     "text": [
      "средняя оценка качества методом кросс-валидации для Случайного леса: -1.7371668402291391\n"
     ]
    }
   ],
   "source": [
    "print(\"средняя оценка качества методом кросс-валидации для Случайного леса:\", final_scores_rf)"
   ]
  },
  {
   "cell_type": "markdown",
   "metadata": {},
   "source": [
    "#### Для модели Градиентного бустинга"
   ]
  },
  {
   "cell_type": "code",
   "execution_count": 59,
   "metadata": {},
   "outputs": [],
   "source": [
    "model_cb = CatBoostRegressor()"
   ]
  },
  {
   "cell_type": "code",
   "execution_count": 60,
   "metadata": {},
   "outputs": [],
   "source": [
    "parametrs = { 'iterations': range (1, 3), 'learning_rate': range (1, 3), 'depth': range (1, 5)}           "
   ]
  },
  {
   "cell_type": "code",
   "execution_count": 61,
   "metadata": {},
   "outputs": [],
   "source": [
    "# grid = GridSearchCV(model_cb, parametrs, cv=5) # Обучим \n",
    "# grid.fit(features_train, target_rougher)"
   ]
  },
  {
   "cell_type": "code",
   "execution_count": 62,
   "metadata": {},
   "outputs": [],
   "source": [
    "# grid.best_params_ "
   ]
  },
  {
   "cell_type": "code",
   "execution_count": 63,
   "metadata": {},
   "outputs": [],
   "source": [
    "model_cb_optimal = CatBoostRegressor(iterations=1, learning_rate=1, depth=3)"
   ]
  },
  {
   "cell_type": "code",
   "execution_count": 64,
   "metadata": {},
   "outputs": [
    {
     "name": "stdout",
     "output_type": "stream",
     "text": [
      "0:\tlearn: 5.0070121\ttotal: 70.1ms\tremaining: 0us\n",
      "0:\tlearn: 5.5212930\ttotal: 16ms\tremaining: 0us\n",
      "0:\tlearn: 5.7219229\ttotal: 15.5ms\tremaining: 0us\n",
      "0:\tlearn: 5.7255669\ttotal: 15.6ms\tremaining: 0us\n",
      "0:\tlearn: 5.1688018\ttotal: 14.8ms\tremaining: 0us\n"
     ]
    }
   ],
   "source": [
    "scores_cb = cross_val_score(model_cb_optimal, features_train, target_rougher, scoring=make_scorer(smape, greater_is_better=False),\\\n",
    "                            cv=5)"
   ]
  },
  {
   "cell_type": "code",
   "execution_count": 65,
   "metadata": {},
   "outputs": [],
   "source": [
    "final_scores_cb = sum(scores_cb)/len(scores_cb)"
   ]
  },
  {
   "cell_type": "code",
   "execution_count": 66,
   "metadata": {},
   "outputs": [
    {
     "name": "stdout",
     "output_type": "stream",
     "text": [
      "средняя оценка качества методом кросс-валидации для Градиентного бустинга: -5.824929156473382\n"
     ]
    }
   ],
   "source": [
    "print(\"средняя оценка качества методом кросс-валидации для Градиентного бустинга:\", final_scores_cb)"
   ]
  },
  {
   "cell_type": "markdown",
   "metadata": {},
   "source": [
    "Лучшее значение средней оценки качества показала модель Случайный лес. "
   ]
  },
  {
   "cell_type": "markdown",
   "metadata": {},
   "source": [
    "### Определим параметры для для тестовой выборки:"
   ]
  },
  {
   "cell_type": "code",
   "execution_count": 67,
   "metadata": {},
   "outputs": [],
   "source": [
    "target_test_rougher = test['rougher.output.recovery']\n",
    "target_test_final = test['final.output.recovery']"
   ]
  },
  {
   "cell_type": "code",
   "execution_count": 68,
   "metadata": {},
   "outputs": [],
   "source": [
    "features_test = test.drop(columns=[\"rougher.output.recovery\", \"final.output.recovery\"], axis=1)"
   ]
  },
  {
   "cell_type": "code",
   "execution_count": 69,
   "metadata": {},
   "outputs": [],
   "source": [
    "lg_rougher = model_rf_optimal.fit(features_test, target_test_rougher)\n",
    "lg_final = model_rf_optimal.fit(features_test, target_test_final)"
   ]
  },
  {
   "cell_type": "code",
   "execution_count": 70,
   "metadata": {},
   "outputs": [],
   "source": [
    "lg_predictions_rougher = lg_rougher.predict(features_test)\n",
    "lg_predictions_final = lg_final.predict(features_test)"
   ]
  },
  {
   "cell_type": "markdown",
   "metadata": {},
   "source": [
    "### Посчитаем sMAPE для тестовой выборки: "
   ]
  },
  {
   "cell_type": "code",
   "execution_count": 71,
   "metadata": {},
   "outputs": [
    {
     "name": "stdout",
     "output_type": "stream",
     "text": [
      "Итоговое значение sMAPE: 9.688937033029424\n"
     ]
    }
   ],
   "source": [
    "rougher_test_smape = smape(target_test_rougher, lg_predictions_rougher)\n",
    "final_test_smape = smape(target_test_final, lg_predictions_final)\n",
    "test_smape_final = itog_smape(rougher_test_smape, final_test_smape)\n",
    "print(\"Итоговое значение sMAPE:\", test_smape_final)"
   ]
  },
  {
   "cell_type": "markdown",
   "metadata": {},
   "source": [
    "### Создадим константную модель, чтобы сравнить ее с полученной. "
   ]
  },
  {
   "cell_type": "code",
   "execution_count": 72,
   "metadata": {},
   "outputs": [],
   "source": [
    "dummy = DummyRegressor(strategy = 'mean')\n",
    "dummy_1 = DummyRegressor(strategy = 'mean')\n",
    "\n",
    "dummy_rougher = dummy.fit(features_train, target_rougher)\n",
    "dummy_predictions_rougher = dummy_rougher.predict(features_test)\n",
    "\n",
    "dummy_final = dummy_1.fit(features_train, target_final)\n",
    "dummy_predictions_final = dummy_final.predict(features_test)"
   ]
  },
  {
   "cell_type": "code",
   "execution_count": 73,
   "metadata": {},
   "outputs": [],
   "source": [
    "smape_rougher_dummy = smape(target_test_rougher, dummy_predictions_rougher)"
   ]
  },
  {
   "cell_type": "code",
   "execution_count": 74,
   "metadata": {},
   "outputs": [],
   "source": [
    "smape_final_dummy = smape(target_test_final, dummy_predictions_final)"
   ]
  },
  {
   "cell_type": "code",
   "execution_count": 75,
   "metadata": {},
   "outputs": [
    {
     "data": {
      "text/plain": [
       "7.766604067388526"
      ]
     },
     "execution_count": 75,
     "metadata": {},
     "output_type": "execute_result"
    }
   ],
   "source": [
    "itog_smape(smape_rougher_dummy, smape_final_dummy)"
   ]
  },
  {
   "cell_type": "markdown",
   "metadata": {},
   "source": [
    "Разница не значительна. Это говорит о том, что построенная модель адекватна. "
   ]
  },
  {
   "cell_type": "markdown",
   "metadata": {},
   "source": [
    "## Вывод:"
   ]
  },
  {
   "cell_type": "markdown",
   "metadata": {},
   "source": [
    "1. Открыли и изучили данные, подготовили для работы. Проанализировали выбрки и выделили признаки. <br>\n",
    "2. Провели анализ данных: получили информацию о том, как меняется концентрация металлов на различных этапах очистки, сравнили распределения размеров гранул сырья на обучающей и тестовой выборках, исследовали суммарную концентрацию всех веществ на разных стадиях: в сырье, в черновом и финальном концентратах. Построили графики для наглядности. Сделали выводы. <br>\n",
    "3. Написали формулу для вычисления симметричной средней абсолютной процентной ошибки (sMAPE). Обучили разные модели (линейной регрессии, дерево решений, случайный лес), оценили их качество кросс-валидацией. Выбрали  лучшую модель (Случайный лес) и проверили её на тестовой выборке. При этом значение sMAPE оказалось равно: 9,7. "
   ]
  },
  {
   "cell_type": "markdown",
   "metadata": {},
   "source": [
    "## Чек-лист готовности проекта"
   ]
  },
  {
   "cell_type": "markdown",
   "metadata": {},
   "source": [
    "- [x]  Jupyter Notebook открыт\n",
    "- [x]  Весь код выполняется без ошибок\n",
    "- [x]  Ячейки с кодом расположены в порядке выполнения\n",
    "- [x]  Выполнен шаг 1: данные подготовлены\n",
    "    - [x]  Проверена формула вычисления эффективности обогащения\n",
    "    - [x]  Проанализированы признаки, недоступные в тестовой выборке\n",
    "    - [x]  Проведена предобработка данных\n",
    "- [x]  Выполнен шаг 2: данные проанализированы\n",
    "    - [x]  Исследовано изменение концентрации элементов на каждом этапе\n",
    "    - [x]  Проанализированы распределения размеров гранул на обучающей и тестовой выборках\n",
    "    - [x]  Исследованы суммарные концентрации\n",
    "- [x]  Выполнен шаг 3: построена модель прогнозирования\n",
    "    - [x]  Написана функция для вычисления итогового *sMAPE*\n",
    "    - [x]  Обучено и проверено несколько моделей\n",
    "    - [x]  Выбрана лучшая модель, её качество проверено на тестовой выборке"
   ]
  }
 ],
 "metadata": {
  "ExecuteTimeLog": [
   {
    "duration": 6,
    "start_time": "2022-04-09T08:43:06.608Z"
   },
   {
    "duration": 763,
    "start_time": "2022-04-09T09:08:24.290Z"
   },
   {
    "duration": 26,
    "start_time": "2022-04-09T09:08:38.882Z"
   },
   {
    "duration": 20,
    "start_time": "2022-04-09T09:11:02.933Z"
   },
   {
    "duration": 158,
    "start_time": "2022-04-09T09:11:16.531Z"
   },
   {
    "duration": 14,
    "start_time": "2022-04-09T09:14:22.956Z"
   },
   {
    "duration": 5,
    "start_time": "2022-04-09T09:18:48.919Z"
   },
   {
    "duration": 5,
    "start_time": "2022-04-09T09:19:07.018Z"
   },
   {
    "duration": 15,
    "start_time": "2022-04-09T09:23:33.919Z"
   },
   {
    "duration": 183,
    "start_time": "2022-04-09T09:23:49.931Z"
   },
   {
    "duration": 17,
    "start_time": "2022-04-09T09:27:11.652Z"
   },
   {
    "duration": 12,
    "start_time": "2022-04-09T09:31:12.038Z"
   },
   {
    "duration": 4,
    "start_time": "2022-04-09T09:31:17.830Z"
   },
   {
    "duration": 4,
    "start_time": "2022-04-09T09:31:22.069Z"
   },
   {
    "duration": 13,
    "start_time": "2022-04-09T09:31:28.391Z"
   },
   {
    "duration": 26,
    "start_time": "2022-04-09T09:36:24.714Z"
   },
   {
    "duration": 21,
    "start_time": "2022-04-09T09:36:39.940Z"
   },
   {
    "duration": 13,
    "start_time": "2022-04-09T09:37:15.044Z"
   },
   {
    "duration": 20,
    "start_time": "2022-04-09T09:37:45.588Z"
   },
   {
    "duration": 13,
    "start_time": "2022-04-09T09:37:56.828Z"
   },
   {
    "duration": 5,
    "start_time": "2022-04-09T09:38:41.072Z"
   },
   {
    "duration": 5,
    "start_time": "2022-04-09T09:39:18.372Z"
   },
   {
    "duration": 11,
    "start_time": "2022-04-09T09:44:11.430Z"
   },
   {
    "duration": 4,
    "start_time": "2022-04-09T09:51:15.828Z"
   },
   {
    "duration": 3,
    "start_time": "2022-04-09T09:52:04.113Z"
   },
   {
    "duration": 10,
    "start_time": "2022-04-09T09:52:05.994Z"
   },
   {
    "duration": 215,
    "start_time": "2022-04-09T09:52:16.610Z"
   },
   {
    "duration": 406,
    "start_time": "2022-04-09T09:54:34.578Z"
   },
   {
    "duration": 468,
    "start_time": "2022-04-09T09:54:56.573Z"
   },
   {
    "duration": 5,
    "start_time": "2022-04-09T10:04:53.952Z"
   },
   {
    "duration": 6,
    "start_time": "2022-04-09T10:06:28.129Z"
   },
   {
    "duration": 8,
    "start_time": "2022-04-09T10:06:33.063Z"
   },
   {
    "duration": 7,
    "start_time": "2022-04-09T10:07:20.650Z"
   },
   {
    "duration": 14,
    "start_time": "2022-04-09T10:15:06.620Z"
   },
   {
    "duration": 7,
    "start_time": "2022-04-09T10:15:11.776Z"
   },
   {
    "duration": 2162,
    "start_time": "2022-04-09T10:16:00.916Z"
   },
   {
    "duration": 1797,
    "start_time": "2022-04-09T10:16:12.812Z"
   },
   {
    "duration": 2043,
    "start_time": "2022-04-09T10:16:25.048Z"
   },
   {
    "duration": 11103,
    "start_time": "2022-04-09T10:16:41.299Z"
   },
   {
    "duration": 21,
    "start_time": "2022-04-09T10:17:29.934Z"
   },
   {
    "duration": 17,
    "start_time": "2022-04-09T10:17:42.796Z"
   },
   {
    "duration": 21,
    "start_time": "2022-04-09T10:17:54.343Z"
   },
   {
    "duration": 20,
    "start_time": "2022-04-09T10:44:13.200Z"
   },
   {
    "duration": 108,
    "start_time": "2022-04-09T10:46:43.712Z"
   },
   {
    "duration": 13,
    "start_time": "2022-04-09T10:54:40.914Z"
   },
   {
    "duration": 5,
    "start_time": "2022-04-09T10:56:22.530Z"
   },
   {
    "duration": 13,
    "start_time": "2022-04-09T10:56:32.199Z"
   },
   {
    "duration": 8,
    "start_time": "2022-04-09T10:56:57.498Z"
   },
   {
    "duration": 6,
    "start_time": "2022-04-09T10:58:11.630Z"
   },
   {
    "duration": 11,
    "start_time": "2022-04-09T10:58:54.898Z"
   },
   {
    "duration": 54,
    "start_time": "2022-04-09T10:59:14.044Z"
   },
   {
    "duration": 20,
    "start_time": "2022-04-09T10:59:38.085Z"
   },
   {
    "duration": 7,
    "start_time": "2022-04-09T11:00:25.386Z"
   },
   {
    "duration": 20,
    "start_time": "2022-04-09T11:00:57.257Z"
   },
   {
    "duration": 7,
    "start_time": "2022-04-09T11:05:11.146Z"
   },
   {
    "duration": 31,
    "start_time": "2022-04-09T11:05:20.434Z"
   },
   {
    "duration": 15,
    "start_time": "2022-04-09T11:14:40.867Z"
   },
   {
    "duration": 11,
    "start_time": "2022-04-09T11:15:36.413Z"
   },
   {
    "duration": 12,
    "start_time": "2022-04-09T11:16:06.621Z"
   },
   {
    "duration": 12,
    "start_time": "2022-04-09T11:16:26.733Z"
   },
   {
    "duration": 11,
    "start_time": "2022-04-09T11:17:34.186Z"
   },
   {
    "duration": 11,
    "start_time": "2022-04-09T11:17:36.813Z"
   },
   {
    "duration": 2027,
    "start_time": "2022-04-09T11:17:46.321Z"
   },
   {
    "duration": 781,
    "start_time": "2022-04-09T11:17:48.351Z"
   },
   {
    "duration": 42,
    "start_time": "2022-04-09T11:17:49.135Z"
   },
   {
    "duration": 4,
    "start_time": "2022-04-09T11:17:49.180Z"
   },
   {
    "duration": 20,
    "start_time": "2022-04-09T11:17:49.187Z"
   },
   {
    "duration": 4,
    "start_time": "2022-04-09T11:17:49.209Z"
   },
   {
    "duration": 7,
    "start_time": "2022-04-09T11:17:49.215Z"
   },
   {
    "duration": 52,
    "start_time": "2022-04-09T11:17:49.225Z"
   },
   {
    "duration": 115,
    "start_time": "2022-04-09T11:17:49.280Z"
   },
   {
    "duration": 0,
    "start_time": "2022-04-09T11:17:49.399Z"
   },
   {
    "duration": 0,
    "start_time": "2022-04-09T11:17:49.400Z"
   },
   {
    "duration": 0,
    "start_time": "2022-04-09T11:17:49.403Z"
   },
   {
    "duration": 0,
    "start_time": "2022-04-09T11:17:49.405Z"
   },
   {
    "duration": 0,
    "start_time": "2022-04-09T11:17:49.407Z"
   },
   {
    "duration": 0,
    "start_time": "2022-04-09T11:17:49.409Z"
   },
   {
    "duration": 0,
    "start_time": "2022-04-09T11:17:49.411Z"
   },
   {
    "duration": 0,
    "start_time": "2022-04-09T11:17:49.413Z"
   },
   {
    "duration": 0,
    "start_time": "2022-04-09T11:17:49.416Z"
   },
   {
    "duration": 5,
    "start_time": "2022-04-09T11:19:13.882Z"
   },
   {
    "duration": 15,
    "start_time": "2022-04-09T11:19:13.889Z"
   },
   {
    "duration": 396,
    "start_time": "2022-04-09T11:19:13.906Z"
   },
   {
    "duration": 386,
    "start_time": "2022-04-09T11:19:14.305Z"
   },
   {
    "duration": 6,
    "start_time": "2022-04-09T11:19:14.694Z"
   },
   {
    "duration": 9,
    "start_time": "2022-04-09T11:19:14.702Z"
   },
   {
    "duration": 191,
    "start_time": "2022-04-09T11:19:14.713Z"
   },
   {
    "duration": 0,
    "start_time": "2022-04-09T11:19:14.907Z"
   },
   {
    "duration": 0,
    "start_time": "2022-04-09T11:19:14.909Z"
   },
   {
    "duration": 20,
    "start_time": "2022-04-09T11:19:34.143Z"
   },
   {
    "duration": 19,
    "start_time": "2022-04-09T11:20:00.420Z"
   },
   {
    "duration": 7,
    "start_time": "2022-04-09T11:20:06.533Z"
   },
   {
    "duration": 18,
    "start_time": "2022-04-09T11:20:17.138Z"
   },
   {
    "duration": 7,
    "start_time": "2022-04-09T11:20:52.879Z"
   },
   {
    "duration": 11,
    "start_time": "2022-04-09T11:21:15.851Z"
   },
   {
    "duration": 10,
    "start_time": "2022-04-09T11:21:26.836Z"
   },
   {
    "duration": 9267,
    "start_time": "2022-04-09T11:21:37.884Z"
   },
   {
    "duration": 6183,
    "start_time": "2022-04-09T11:21:52.664Z"
   },
   {
    "duration": 8,
    "start_time": "2022-04-09T11:22:11.741Z"
   },
   {
    "duration": 33,
    "start_time": "2022-04-09T11:22:22.822Z"
   },
   {
    "duration": 4,
    "start_time": "2022-04-09T11:40:36.171Z"
   },
   {
    "duration": 6,
    "start_time": "2022-04-09T11:41:55.113Z"
   },
   {
    "duration": 22,
    "start_time": "2022-04-09T11:45:40.668Z"
   },
   {
    "duration": 5,
    "start_time": "2022-04-09T11:46:38.088Z"
   },
   {
    "duration": 5,
    "start_time": "2022-04-09T11:47:12.608Z"
   },
   {
    "duration": 5,
    "start_time": "2022-04-09T11:56:37.231Z"
   },
   {
    "duration": 4,
    "start_time": "2022-04-09T11:58:25.518Z"
   },
   {
    "duration": 6,
    "start_time": "2022-04-09T11:58:39.570Z"
   },
   {
    "duration": 1799,
    "start_time": "2022-04-09T11:58:45.056Z"
   },
   {
    "duration": 2170,
    "start_time": "2022-04-09T11:59:17.640Z"
   },
   {
    "duration": 1008,
    "start_time": "2022-04-09T11:59:19.817Z"
   },
   {
    "duration": 48,
    "start_time": "2022-04-09T11:59:20.827Z"
   },
   {
    "duration": 4,
    "start_time": "2022-04-09T11:59:20.877Z"
   },
   {
    "duration": 21,
    "start_time": "2022-04-09T11:59:20.884Z"
   },
   {
    "duration": 5,
    "start_time": "2022-04-09T11:59:20.907Z"
   },
   {
    "duration": 9,
    "start_time": "2022-04-09T11:59:20.914Z"
   },
   {
    "duration": 51,
    "start_time": "2022-04-09T11:59:20.925Z"
   },
   {
    "duration": 10,
    "start_time": "2022-04-09T11:59:20.979Z"
   },
   {
    "duration": 17,
    "start_time": "2022-04-09T11:59:20.992Z"
   },
   {
    "duration": 415,
    "start_time": "2022-04-09T11:59:21.011Z"
   },
   {
    "duration": 410,
    "start_time": "2022-04-09T11:59:21.429Z"
   },
   {
    "duration": 7,
    "start_time": "2022-04-09T11:59:21.841Z"
   },
   {
    "duration": 7,
    "start_time": "2022-04-09T11:59:21.875Z"
   },
   {
    "duration": 7,
    "start_time": "2022-04-09T11:59:21.885Z"
   },
   {
    "duration": 25,
    "start_time": "2022-04-09T11:59:21.895Z"
   },
   {
    "duration": 7,
    "start_time": "2022-04-09T11:59:21.922Z"
   },
   {
    "duration": 127,
    "start_time": "2022-04-09T11:59:21.973Z"
   },
   {
    "duration": 5,
    "start_time": "2022-04-09T11:59:22.103Z"
   },
   {
    "duration": 19,
    "start_time": "2022-04-09T11:59:22.110Z"
   },
   {
    "duration": 42,
    "start_time": "2022-04-09T11:59:22.132Z"
   },
   {
    "duration": 2691,
    "start_time": "2022-04-09T11:59:22.177Z"
   },
   {
    "duration": 2005,
    "start_time": "2022-04-09T12:00:20.490Z"
   },
   {
    "duration": 9,
    "start_time": "2022-04-09T12:00:28.171Z"
   },
   {
    "duration": 10,
    "start_time": "2022-04-09T12:01:24.716Z"
   },
   {
    "duration": 18,
    "start_time": "2022-04-09T12:04:42.714Z"
   },
   {
    "duration": 5,
    "start_time": "2022-04-09T12:05:02.112Z"
   },
   {
    "duration": 14,
    "start_time": "2022-04-09T12:13:14.756Z"
   },
   {
    "duration": 6,
    "start_time": "2022-04-09T12:13:20.620Z"
   },
   {
    "duration": 5,
    "start_time": "2022-04-09T12:13:43.704Z"
   },
   {
    "duration": 12,
    "start_time": "2022-04-09T12:13:53.639Z"
   },
   {
    "duration": 5,
    "start_time": "2022-04-09T12:13:57.949Z"
   },
   {
    "duration": 5,
    "start_time": "2022-04-09T12:14:59.870Z"
   },
   {
    "duration": 375,
    "start_time": "2022-04-09T12:15:21.889Z"
   },
   {
    "duration": 353,
    "start_time": "2022-04-09T12:16:15.524Z"
   },
   {
    "duration": 1153,
    "start_time": "2022-04-09T12:17:58.491Z"
   },
   {
    "duration": 364,
    "start_time": "2022-04-09T12:29:18.857Z"
   },
   {
    "duration": 649,
    "start_time": "2022-04-09T12:29:42.343Z"
   },
   {
    "duration": 553,
    "start_time": "2022-04-09T12:30:33.024Z"
   },
   {
    "duration": 394,
    "start_time": "2022-04-09T12:30:55.322Z"
   },
   {
    "duration": 358,
    "start_time": "2022-04-09T12:31:15.908Z"
   },
   {
    "duration": 109,
    "start_time": "2022-04-09T12:32:59.097Z"
   },
   {
    "duration": 32,
    "start_time": "2022-04-09T12:45:45.159Z"
   },
   {
    "duration": 28,
    "start_time": "2022-04-09T12:46:10.863Z"
   },
   {
    "duration": 11,
    "start_time": "2022-04-09T12:50:49.711Z"
   },
   {
    "duration": 9,
    "start_time": "2022-04-09T12:51:33.560Z"
   },
   {
    "duration": 283,
    "start_time": "2022-04-09T12:51:52.045Z"
   },
   {
    "duration": 119,
    "start_time": "2022-04-09T12:52:36.977Z"
   },
   {
    "duration": 399,
    "start_time": "2022-04-09T12:52:44.518Z"
   },
   {
    "duration": 478,
    "start_time": "2022-04-09T12:53:14.198Z"
   },
   {
    "duration": 345,
    "start_time": "2022-04-09T12:53:42.041Z"
   },
   {
    "duration": 299,
    "start_time": "2022-04-09T12:56:24.568Z"
   },
   {
    "duration": 284,
    "start_time": "2022-04-09T12:56:32.193Z"
   },
   {
    "duration": 298,
    "start_time": "2022-04-09T12:58:40.525Z"
   },
   {
    "duration": 286,
    "start_time": "2022-04-09T12:58:48.530Z"
   },
   {
    "duration": 300,
    "start_time": "2022-04-09T12:59:27.323Z"
   },
   {
    "duration": 287,
    "start_time": "2022-04-09T12:59:48.604Z"
   },
   {
    "duration": 458,
    "start_time": "2022-04-09T13:00:52.826Z"
   },
   {
    "duration": 299,
    "start_time": "2022-04-09T13:00:59.278Z"
   },
   {
    "duration": 315,
    "start_time": "2022-04-09T13:03:20.987Z"
   },
   {
    "duration": 435,
    "start_time": "2022-04-09T13:03:44.934Z"
   },
   {
    "duration": 474,
    "start_time": "2022-04-09T13:04:04.567Z"
   },
   {
    "duration": 602,
    "start_time": "2022-04-09T13:04:20.511Z"
   },
   {
    "duration": 743,
    "start_time": "2022-04-09T13:04:56.177Z"
   },
   {
    "duration": 602,
    "start_time": "2022-04-09T13:05:12.874Z"
   },
   {
    "duration": 603,
    "start_time": "2022-04-09T13:07:04.917Z"
   },
   {
    "duration": 469,
    "start_time": "2022-04-09T13:07:52.970Z"
   },
   {
    "duration": 766,
    "start_time": "2022-04-09T13:08:03.648Z"
   },
   {
    "duration": 13,
    "start_time": "2022-04-09T13:09:15.391Z"
   },
   {
    "duration": 396,
    "start_time": "2022-04-09T13:09:26.788Z"
   },
   {
    "duration": 364,
    "start_time": "2022-04-09T13:09:40.889Z"
   },
   {
    "duration": 497,
    "start_time": "2022-04-09T13:09:54.757Z"
   },
   {
    "duration": 449,
    "start_time": "2022-04-09T13:10:09.773Z"
   },
   {
    "duration": 459,
    "start_time": "2022-04-09T13:10:29.946Z"
   },
   {
    "duration": 590,
    "start_time": "2022-04-09T13:10:43.896Z"
   },
   {
    "duration": 409,
    "start_time": "2022-04-09T13:24:51.939Z"
   },
   {
    "duration": 5,
    "start_time": "2022-04-09T13:25:03.001Z"
   },
   {
    "duration": 10,
    "start_time": "2022-04-09T13:27:05.845Z"
   },
   {
    "duration": 2481,
    "start_time": "2022-04-09T13:27:11.533Z"
   },
   {
    "duration": 12,
    "start_time": "2022-04-09T13:27:33.215Z"
   },
   {
    "duration": 64,
    "start_time": "2022-04-09T13:28:42.503Z"
   },
   {
    "duration": 61,
    "start_time": "2022-04-09T13:28:56.862Z"
   },
   {
    "duration": 146,
    "start_time": "2022-04-09T13:32:15.365Z"
   },
   {
    "duration": 205,
    "start_time": "2022-04-09T13:32:23.821Z"
   },
   {
    "duration": 130,
    "start_time": "2022-04-09T13:32:54.285Z"
   },
   {
    "duration": 60,
    "start_time": "2022-04-09T13:33:06.229Z"
   },
   {
    "duration": 20,
    "start_time": "2022-04-09T13:33:31.862Z"
   },
   {
    "duration": 19,
    "start_time": "2022-04-09T13:34:04.803Z"
   },
   {
    "duration": 21,
    "start_time": "2022-04-09T13:35:03.408Z"
   },
   {
    "duration": 45,
    "start_time": "2022-04-09T13:35:28.092Z"
   },
   {
    "duration": 75,
    "start_time": "2022-04-09T13:35:52.072Z"
   },
   {
    "duration": 10,
    "start_time": "2022-04-09T13:36:13.675Z"
   },
   {
    "duration": 50,
    "start_time": "2022-04-09T13:36:20.129Z"
   },
   {
    "duration": 11,
    "start_time": "2022-04-09T13:38:33.253Z"
   },
   {
    "duration": 18,
    "start_time": "2022-04-09T13:39:08.731Z"
   },
   {
    "duration": 137,
    "start_time": "2022-04-09T13:40:32.345Z"
   },
   {
    "duration": 17,
    "start_time": "2022-04-09T13:40:37.711Z"
   },
   {
    "duration": 1861,
    "start_time": "2022-04-09T13:41:26.981Z"
   },
   {
    "duration": 814,
    "start_time": "2022-04-09T13:41:28.846Z"
   },
   {
    "duration": 30,
    "start_time": "2022-04-09T13:41:29.662Z"
   },
   {
    "duration": 4,
    "start_time": "2022-04-09T13:41:29.695Z"
   },
   {
    "duration": 22,
    "start_time": "2022-04-09T13:41:29.701Z"
   },
   {
    "duration": 5,
    "start_time": "2022-04-09T13:41:29.725Z"
   },
   {
    "duration": 43,
    "start_time": "2022-04-09T13:41:29.732Z"
   },
   {
    "duration": 9,
    "start_time": "2022-04-09T13:41:29.778Z"
   },
   {
    "duration": 7,
    "start_time": "2022-04-09T13:41:29.789Z"
   },
   {
    "duration": 11,
    "start_time": "2022-04-09T13:41:29.800Z"
   },
   {
    "duration": 448,
    "start_time": "2022-04-09T13:41:29.813Z"
   },
   {
    "duration": 393,
    "start_time": "2022-04-09T13:41:30.263Z"
   },
   {
    "duration": 6,
    "start_time": "2022-04-09T13:41:30.659Z"
   },
   {
    "duration": 12,
    "start_time": "2022-04-09T13:41:30.674Z"
   },
   {
    "duration": 12,
    "start_time": "2022-04-09T13:41:30.688Z"
   },
   {
    "duration": 29,
    "start_time": "2022-04-09T13:41:30.702Z"
   },
   {
    "duration": 115,
    "start_time": "2022-04-09T13:41:30.734Z"
   },
   {
    "duration": 44,
    "start_time": "2022-04-09T13:41:30.852Z"
   },
   {
    "duration": 4,
    "start_time": "2022-04-09T13:41:30.899Z"
   },
   {
    "duration": 22,
    "start_time": "2022-04-09T13:41:30.905Z"
   },
   {
    "duration": 47,
    "start_time": "2022-04-09T13:41:30.929Z"
   },
   {
    "duration": 6,
    "start_time": "2022-04-09T13:41:30.978Z"
   },
   {
    "duration": 29,
    "start_time": "2022-04-09T13:41:30.986Z"
   },
   {
    "duration": 16,
    "start_time": "2022-04-09T13:41:31.018Z"
   },
   {
    "duration": 14,
    "start_time": "2022-04-09T13:41:31.036Z"
   },
   {
    "duration": 25,
    "start_time": "2022-04-09T13:41:31.053Z"
   },
   {
    "duration": 11,
    "start_time": "2022-04-09T13:41:31.080Z"
   },
   {
    "duration": 1243,
    "start_time": "2022-04-09T13:41:31.096Z"
   },
   {
    "duration": 408,
    "start_time": "2022-04-09T13:41:32.341Z"
   },
   {
    "duration": 383,
    "start_time": "2022-04-09T13:41:32.752Z"
   },
   {
    "duration": 42,
    "start_time": "2022-04-09T13:41:33.137Z"
   },
   {
    "duration": 10,
    "start_time": "2022-04-09T13:41:33.181Z"
   },
   {
    "duration": 592,
    "start_time": "2022-04-09T13:41:33.194Z"
   },
   {
    "duration": 224,
    "start_time": "2022-04-09T13:41:33.788Z"
   },
   {
    "duration": 16,
    "start_time": "2022-04-09T13:42:06.542Z"
   },
   {
    "duration": 24,
    "start_time": "2022-04-09T13:42:16.195Z"
   },
   {
    "duration": 18,
    "start_time": "2022-04-09T13:42:43.331Z"
   },
   {
    "duration": 20,
    "start_time": "2022-04-09T13:43:11.178Z"
   },
   {
    "duration": 139,
    "start_time": "2022-04-09T13:43:19.136Z"
   },
   {
    "duration": 21,
    "start_time": "2022-04-09T13:43:25.447Z"
   },
   {
    "duration": 14,
    "start_time": "2022-04-09T13:44:32.974Z"
   },
   {
    "duration": 19,
    "start_time": "2022-04-09T13:46:56.747Z"
   },
   {
    "duration": 12,
    "start_time": "2022-04-09T13:48:40.880Z"
   },
   {
    "duration": 129,
    "start_time": "2022-04-09T13:49:05.989Z"
   },
   {
    "duration": 5,
    "start_time": "2022-04-09T14:21:07.661Z"
   },
   {
    "duration": 5,
    "start_time": "2022-04-09T14:25:12.204Z"
   },
   {
    "duration": 3,
    "start_time": "2022-04-09T14:30:21.195Z"
   },
   {
    "duration": 3,
    "start_time": "2022-04-09T14:32:12.595Z"
   },
   {
    "duration": 13,
    "start_time": "2022-04-09T14:32:19.761Z"
   },
   {
    "duration": 14,
    "start_time": "2022-04-09T14:32:30.021Z"
   },
   {
    "duration": 3,
    "start_time": "2022-04-09T14:33:21.969Z"
   },
   {
    "duration": 13,
    "start_time": "2022-04-09T14:33:25.487Z"
   },
   {
    "duration": 97,
    "start_time": "2022-04-09T14:33:42.555Z"
   },
   {
    "duration": 2053,
    "start_time": "2022-04-09T14:33:52.400Z"
   },
   {
    "duration": 838,
    "start_time": "2022-04-09T14:33:54.455Z"
   },
   {
    "duration": 28,
    "start_time": "2022-04-09T14:33:55.295Z"
   },
   {
    "duration": 3,
    "start_time": "2022-04-09T14:33:55.326Z"
   },
   {
    "duration": 56,
    "start_time": "2022-04-09T14:33:55.332Z"
   },
   {
    "duration": 6,
    "start_time": "2022-04-09T14:33:55.390Z"
   },
   {
    "duration": 7,
    "start_time": "2022-04-09T14:33:55.398Z"
   },
   {
    "duration": 7,
    "start_time": "2022-04-09T14:33:55.407Z"
   },
   {
    "duration": 6,
    "start_time": "2022-04-09T14:33:55.416Z"
   },
   {
    "duration": 9,
    "start_time": "2022-04-09T14:33:55.475Z"
   },
   {
    "duration": 443,
    "start_time": "2022-04-09T14:33:55.486Z"
   },
   {
    "duration": 398,
    "start_time": "2022-04-09T14:33:55.931Z"
   },
   {
    "duration": 6,
    "start_time": "2022-04-09T14:33:56.331Z"
   },
   {
    "duration": 9,
    "start_time": "2022-04-09T14:33:56.339Z"
   },
   {
    "duration": 5,
    "start_time": "2022-04-09T14:33:56.374Z"
   },
   {
    "duration": 23,
    "start_time": "2022-04-09T14:33:56.382Z"
   },
   {
    "duration": 152,
    "start_time": "2022-04-09T14:33:56.408Z"
   },
   {
    "duration": 44,
    "start_time": "2022-04-09T14:33:56.563Z"
   },
   {
    "duration": 4,
    "start_time": "2022-04-09T14:33:56.610Z"
   },
   {
    "duration": 17,
    "start_time": "2022-04-09T14:33:56.616Z"
   },
   {
    "duration": 19,
    "start_time": "2022-04-09T14:33:56.673Z"
   },
   {
    "duration": 5,
    "start_time": "2022-04-09T14:33:56.695Z"
   },
   {
    "duration": 8,
    "start_time": "2022-04-09T14:33:56.703Z"
   },
   {
    "duration": 63,
    "start_time": "2022-04-09T14:33:56.714Z"
   },
   {
    "duration": 7,
    "start_time": "2022-04-09T14:33:56.780Z"
   },
   {
    "duration": 7,
    "start_time": "2022-04-09T14:33:56.790Z"
   },
   {
    "duration": 12,
    "start_time": "2022-04-09T14:33:56.800Z"
   },
   {
    "duration": 5,
    "start_time": "2022-04-09T14:33:56.820Z"
   },
   {
    "duration": 1135,
    "start_time": "2022-04-09T14:33:56.874Z"
   },
   {
    "duration": 399,
    "start_time": "2022-04-09T14:33:58.011Z"
   },
   {
    "duration": 382,
    "start_time": "2022-04-09T14:33:58.412Z"
   },
   {
    "duration": 29,
    "start_time": "2022-04-09T14:33:58.796Z"
   },
   {
    "duration": 10,
    "start_time": "2022-04-09T14:33:58.828Z"
   },
   {
    "duration": 603,
    "start_time": "2022-04-09T14:33:58.840Z"
   },
   {
    "duration": 4,
    "start_time": "2022-04-09T14:33:59.445Z"
   },
   {
    "duration": 23,
    "start_time": "2022-04-09T14:33:59.451Z"
   },
   {
    "duration": 4,
    "start_time": "2022-04-09T14:33:59.476Z"
   },
   {
    "duration": 260,
    "start_time": "2022-04-09T14:33:59.482Z"
   },
   {
    "duration": 88,
    "start_time": "2022-04-09T14:35:32.089Z"
   },
   {
    "duration": 85,
    "start_time": "2022-04-09T14:36:14.410Z"
   },
   {
    "duration": 9,
    "start_time": "2022-04-09T14:40:01.299Z"
   },
   {
    "duration": 2208,
    "start_time": "2022-04-09T14:40:12.152Z"
   },
   {
    "duration": 799,
    "start_time": "2022-04-09T14:40:14.363Z"
   },
   {
    "duration": 43,
    "start_time": "2022-04-09T14:40:15.173Z"
   },
   {
    "duration": 5,
    "start_time": "2022-04-09T14:40:15.220Z"
   },
   {
    "duration": 57,
    "start_time": "2022-04-09T14:40:15.228Z"
   },
   {
    "duration": 5,
    "start_time": "2022-04-09T14:40:15.288Z"
   },
   {
    "duration": 7,
    "start_time": "2022-04-09T14:40:15.295Z"
   },
   {
    "duration": 8,
    "start_time": "2022-04-09T14:40:15.305Z"
   },
   {
    "duration": 8,
    "start_time": "2022-04-09T14:40:15.316Z"
   },
   {
    "duration": 53,
    "start_time": "2022-04-09T14:40:15.329Z"
   },
   {
    "duration": 416,
    "start_time": "2022-04-09T14:40:15.384Z"
   },
   {
    "duration": 393,
    "start_time": "2022-04-09T14:40:15.803Z"
   },
   {
    "duration": 6,
    "start_time": "2022-04-09T14:40:16.198Z"
   },
   {
    "duration": 9,
    "start_time": "2022-04-09T14:40:16.206Z"
   },
   {
    "duration": 6,
    "start_time": "2022-04-09T14:40:16.217Z"
   },
   {
    "duration": 62,
    "start_time": "2022-04-09T14:40:16.225Z"
   },
   {
    "duration": 94,
    "start_time": "2022-04-09T14:40:16.289Z"
   },
   {
    "duration": 31,
    "start_time": "2022-04-09T14:40:16.386Z"
   },
   {
    "duration": 4,
    "start_time": "2022-04-09T14:40:16.420Z"
   },
   {
    "duration": 57,
    "start_time": "2022-04-09T14:40:16.427Z"
   },
   {
    "duration": 18,
    "start_time": "2022-04-09T14:40:16.487Z"
   },
   {
    "duration": 10,
    "start_time": "2022-04-09T14:40:16.508Z"
   },
   {
    "duration": 6,
    "start_time": "2022-04-09T14:40:16.521Z"
   },
   {
    "duration": 50,
    "start_time": "2022-04-09T14:40:16.529Z"
   },
   {
    "duration": 13,
    "start_time": "2022-04-09T14:40:16.582Z"
   },
   {
    "duration": 8,
    "start_time": "2022-04-09T14:40:16.598Z"
   },
   {
    "duration": 9,
    "start_time": "2022-04-09T14:40:16.608Z"
   },
   {
    "duration": 55,
    "start_time": "2022-04-09T14:40:16.622Z"
   },
   {
    "duration": 7,
    "start_time": "2022-04-09T14:40:16.679Z"
   },
   {
    "duration": 1167,
    "start_time": "2022-04-09T14:40:16.688Z"
   },
   {
    "duration": 416,
    "start_time": "2022-04-09T14:40:17.857Z"
   },
   {
    "duration": 413,
    "start_time": "2022-04-09T14:40:18.276Z"
   },
   {
    "duration": 31,
    "start_time": "2022-04-09T14:40:18.692Z"
   },
   {
    "duration": 48,
    "start_time": "2022-04-09T14:40:18.726Z"
   },
   {
    "duration": 607,
    "start_time": "2022-04-09T14:40:18.776Z"
   },
   {
    "duration": 5,
    "start_time": "2022-04-09T14:40:19.387Z"
   },
   {
    "duration": 6,
    "start_time": "2022-04-09T14:40:19.395Z"
   },
   {
    "duration": 7,
    "start_time": "2022-04-09T14:40:19.404Z"
   },
   {
    "duration": 67,
    "start_time": "2022-04-09T14:40:19.414Z"
   },
   {
    "duration": 169,
    "start_time": "2022-04-09T14:43:43.435Z"
   },
   {
    "duration": 2262,
    "start_time": "2022-04-09T14:44:37.566Z"
   },
   {
    "duration": 1191,
    "start_time": "2022-04-09T14:44:39.835Z"
   },
   {
    "duration": 54,
    "start_time": "2022-04-09T14:44:41.028Z"
   },
   {
    "duration": 5,
    "start_time": "2022-04-09T14:44:41.084Z"
   },
   {
    "duration": 27,
    "start_time": "2022-04-09T14:44:41.092Z"
   },
   {
    "duration": 6,
    "start_time": "2022-04-09T14:44:41.122Z"
   },
   {
    "duration": 7,
    "start_time": "2022-04-09T14:44:41.130Z"
   },
   {
    "duration": 5,
    "start_time": "2022-04-09T14:44:41.175Z"
   },
   {
    "duration": 6,
    "start_time": "2022-04-09T14:44:41.183Z"
   },
   {
    "duration": 19,
    "start_time": "2022-04-09T14:44:41.191Z"
   },
   {
    "duration": 454,
    "start_time": "2022-04-09T14:44:41.212Z"
   },
   {
    "duration": 516,
    "start_time": "2022-04-09T14:44:41.669Z"
   },
   {
    "duration": 6,
    "start_time": "2022-04-09T14:44:42.187Z"
   },
   {
    "duration": 9,
    "start_time": "2022-04-09T14:44:42.198Z"
   },
   {
    "duration": 9,
    "start_time": "2022-04-09T14:44:42.210Z"
   },
   {
    "duration": 170,
    "start_time": "2022-04-09T14:44:42.222Z"
   },
   {
    "duration": 8,
    "start_time": "2022-04-09T14:44:42.394Z"
   },
   {
    "duration": 27,
    "start_time": "2022-04-09T14:44:42.404Z"
   },
   {
    "duration": 40,
    "start_time": "2022-04-09T14:44:42.434Z"
   },
   {
    "duration": 17,
    "start_time": "2022-04-09T14:44:42.477Z"
   },
   {
    "duration": 14,
    "start_time": "2022-04-09T14:44:42.496Z"
   },
   {
    "duration": 9,
    "start_time": "2022-04-09T14:44:42.512Z"
   },
   {
    "duration": 7,
    "start_time": "2022-04-09T14:44:42.523Z"
   },
   {
    "duration": 12,
    "start_time": "2022-04-09T14:44:42.574Z"
   },
   {
    "duration": 9,
    "start_time": "2022-04-09T14:44:42.589Z"
   },
   {
    "duration": 7,
    "start_time": "2022-04-09T14:44:42.601Z"
   },
   {
    "duration": 6,
    "start_time": "2022-04-09T14:44:42.611Z"
   },
   {
    "duration": 54,
    "start_time": "2022-04-09T14:44:42.620Z"
   },
   {
    "duration": 6,
    "start_time": "2022-04-09T14:44:42.677Z"
   },
   {
    "duration": 1710,
    "start_time": "2022-04-09T14:44:42.686Z"
   },
   {
    "duration": 594,
    "start_time": "2022-04-09T14:44:44.399Z"
   },
   {
    "duration": 401,
    "start_time": "2022-04-09T14:44:44.995Z"
   },
   {
    "duration": 28,
    "start_time": "2022-04-09T14:44:45.398Z"
   },
   {
    "duration": 12,
    "start_time": "2022-04-09T14:44:45.428Z"
   },
   {
    "duration": 867,
    "start_time": "2022-04-09T14:44:45.474Z"
   },
   {
    "duration": 5,
    "start_time": "2022-04-09T14:44:46.343Z"
   },
   {
    "duration": 23,
    "start_time": "2022-04-09T14:44:46.351Z"
   },
   {
    "duration": 4,
    "start_time": "2022-04-09T14:44:46.377Z"
   },
   {
    "duration": 27,
    "start_time": "2022-04-09T14:44:46.384Z"
   },
   {
    "duration": 205,
    "start_time": "2022-04-09T14:44:46.414Z"
   },
   {
    "duration": 13,
    "start_time": "2022-04-09T14:47:12.623Z"
   },
   {
    "duration": 6,
    "start_time": "2022-04-09T14:47:34.015Z"
   },
   {
    "duration": 56,
    "start_time": "2022-04-09T14:47:40.697Z"
   },
   {
    "duration": 52,
    "start_time": "2022-04-09T14:48:13.989Z"
   },
   {
    "duration": 51,
    "start_time": "2022-04-09T14:49:33.005Z"
   },
   {
    "duration": 180,
    "start_time": "2022-04-09T14:50:30.875Z"
   },
   {
    "duration": 60,
    "start_time": "2022-04-09T14:51:44.057Z"
   },
   {
    "duration": 61,
    "start_time": "2022-04-09T14:51:50.156Z"
   },
   {
    "duration": 53,
    "start_time": "2022-04-09T14:52:35.667Z"
   },
   {
    "duration": 53,
    "start_time": "2022-04-09T14:52:41.001Z"
   },
   {
    "duration": 52,
    "start_time": "2022-04-09T14:52:47.943Z"
   },
   {
    "duration": 53,
    "start_time": "2022-04-09T14:52:53.047Z"
   },
   {
    "duration": 2000,
    "start_time": "2022-04-09T14:53:27.191Z"
   },
   {
    "duration": 845,
    "start_time": "2022-04-09T14:53:29.194Z"
   },
   {
    "duration": 41,
    "start_time": "2022-04-09T14:53:30.042Z"
   },
   {
    "duration": 4,
    "start_time": "2022-04-09T14:53:30.086Z"
   },
   {
    "duration": 23,
    "start_time": "2022-04-09T14:53:30.092Z"
   },
   {
    "duration": 5,
    "start_time": "2022-04-09T14:53:30.117Z"
   },
   {
    "duration": 50,
    "start_time": "2022-04-09T14:53:30.125Z"
   },
   {
    "duration": 9,
    "start_time": "2022-04-09T14:53:30.177Z"
   },
   {
    "duration": 7,
    "start_time": "2022-04-09T14:53:30.188Z"
   },
   {
    "duration": 17,
    "start_time": "2022-04-09T14:53:30.199Z"
   },
   {
    "duration": 432,
    "start_time": "2022-04-09T14:53:30.218Z"
   },
   {
    "duration": 406,
    "start_time": "2022-04-09T14:53:30.652Z"
   },
   {
    "duration": 15,
    "start_time": "2022-04-09T14:53:31.061Z"
   },
   {
    "duration": 18,
    "start_time": "2022-04-09T14:53:31.078Z"
   },
   {
    "duration": 21,
    "start_time": "2022-04-09T14:53:31.098Z"
   },
   {
    "duration": 28,
    "start_time": "2022-04-09T14:53:31.121Z"
   },
   {
    "duration": 116,
    "start_time": "2022-04-09T14:53:31.152Z"
   },
   {
    "duration": 28,
    "start_time": "2022-04-09T14:53:31.274Z"
   },
   {
    "duration": 5,
    "start_time": "2022-04-09T14:53:31.305Z"
   },
   {
    "duration": 19,
    "start_time": "2022-04-09T14:53:31.312Z"
   },
   {
    "duration": 54,
    "start_time": "2022-04-09T14:53:31.333Z"
   },
   {
    "duration": 15,
    "start_time": "2022-04-09T14:53:31.390Z"
   },
   {
    "duration": 8,
    "start_time": "2022-04-09T14:53:31.407Z"
   },
   {
    "duration": 9,
    "start_time": "2022-04-09T14:53:31.417Z"
   },
   {
    "duration": 50,
    "start_time": "2022-04-09T14:53:31.428Z"
   },
   {
    "duration": 9,
    "start_time": "2022-04-09T14:53:31.481Z"
   },
   {
    "duration": 11,
    "start_time": "2022-04-09T14:53:31.492Z"
   },
   {
    "duration": 7,
    "start_time": "2022-04-09T14:53:31.508Z"
   },
   {
    "duration": 11,
    "start_time": "2022-04-09T14:53:31.518Z"
   },
   {
    "duration": 1201,
    "start_time": "2022-04-09T14:53:31.532Z"
   },
   {
    "duration": 422,
    "start_time": "2022-04-09T14:53:32.736Z"
   },
   {
    "duration": 381,
    "start_time": "2022-04-09T14:53:33.161Z"
   },
   {
    "duration": 42,
    "start_time": "2022-04-09T14:53:33.545Z"
   },
   {
    "duration": 10,
    "start_time": "2022-04-09T14:53:33.590Z"
   },
   {
    "duration": 597,
    "start_time": "2022-04-09T14:53:33.603Z"
   },
   {
    "duration": 4,
    "start_time": "2022-04-09T14:53:34.202Z"
   },
   {
    "duration": 19,
    "start_time": "2022-04-09T14:53:34.209Z"
   },
   {
    "duration": 16,
    "start_time": "2022-04-09T14:53:34.231Z"
   },
   {
    "duration": 41,
    "start_time": "2022-04-09T14:53:34.250Z"
   },
   {
    "duration": 63,
    "start_time": "2022-04-09T14:53:34.294Z"
   },
   {
    "duration": 176,
    "start_time": "2022-04-09T14:54:00.908Z"
   },
   {
    "duration": 7,
    "start_time": "2022-04-09T14:54:48.233Z"
   },
   {
    "duration": 52,
    "start_time": "2022-04-09T14:54:53.992Z"
   },
   {
    "duration": 2122,
    "start_time": "2022-04-09T14:55:06.984Z"
   },
   {
    "duration": 852,
    "start_time": "2022-04-09T14:55:09.109Z"
   },
   {
    "duration": 32,
    "start_time": "2022-04-09T14:55:09.963Z"
   },
   {
    "duration": 4,
    "start_time": "2022-04-09T14:55:09.998Z"
   },
   {
    "duration": 29,
    "start_time": "2022-04-09T14:55:10.004Z"
   },
   {
    "duration": 38,
    "start_time": "2022-04-09T14:55:10.036Z"
   },
   {
    "duration": 7,
    "start_time": "2022-04-09T14:55:10.077Z"
   },
   {
    "duration": 7,
    "start_time": "2022-04-09T14:55:10.087Z"
   },
   {
    "duration": 6,
    "start_time": "2022-04-09T14:55:10.097Z"
   },
   {
    "duration": 65,
    "start_time": "2022-04-09T14:55:10.109Z"
   },
   {
    "duration": 427,
    "start_time": "2022-04-09T14:55:10.177Z"
   },
   {
    "duration": 405,
    "start_time": "2022-04-09T14:55:10.606Z"
   },
   {
    "duration": 7,
    "start_time": "2022-04-09T14:55:11.013Z"
   },
   {
    "duration": 16,
    "start_time": "2022-04-09T14:55:11.022Z"
   },
   {
    "duration": 33,
    "start_time": "2022-04-09T14:55:11.041Z"
   },
   {
    "duration": 28,
    "start_time": "2022-04-09T14:55:11.077Z"
   },
   {
    "duration": 105,
    "start_time": "2022-04-09T14:55:11.107Z"
   },
   {
    "duration": 29,
    "start_time": "2022-04-09T14:55:11.215Z"
   },
   {
    "duration": 4,
    "start_time": "2022-04-09T14:55:11.275Z"
   },
   {
    "duration": 19,
    "start_time": "2022-04-09T14:55:11.281Z"
   },
   {
    "duration": 16,
    "start_time": "2022-04-09T14:55:11.302Z"
   },
   {
    "duration": 9,
    "start_time": "2022-04-09T14:55:11.320Z"
   },
   {
    "duration": 46,
    "start_time": "2022-04-09T14:55:11.332Z"
   },
   {
    "duration": 8,
    "start_time": "2022-04-09T14:55:11.380Z"
   },
   {
    "duration": 12,
    "start_time": "2022-04-09T14:55:11.390Z"
   },
   {
    "duration": 8,
    "start_time": "2022-04-09T14:55:11.404Z"
   },
   {
    "duration": 7,
    "start_time": "2022-04-09T14:55:11.415Z"
   },
   {
    "duration": 6,
    "start_time": "2022-04-09T14:55:11.475Z"
   },
   {
    "duration": 9,
    "start_time": "2022-04-09T14:55:11.483Z"
   },
   {
    "duration": 1203,
    "start_time": "2022-04-09T14:55:11.494Z"
   },
   {
    "duration": 423,
    "start_time": "2022-04-09T14:55:12.699Z"
   },
   {
    "duration": 394,
    "start_time": "2022-04-09T14:55:13.124Z"
   },
   {
    "duration": 53,
    "start_time": "2022-04-09T14:55:13.520Z"
   },
   {
    "duration": 14,
    "start_time": "2022-04-09T14:55:13.576Z"
   },
   {
    "duration": 629,
    "start_time": "2022-04-09T14:55:13.593Z"
   },
   {
    "duration": 5,
    "start_time": "2022-04-09T14:55:14.225Z"
   },
   {
    "duration": 6,
    "start_time": "2022-04-09T14:55:14.233Z"
   },
   {
    "duration": 33,
    "start_time": "2022-04-09T14:55:14.242Z"
   },
   {
    "duration": 31,
    "start_time": "2022-04-09T14:55:14.278Z"
   },
   {
    "duration": 89,
    "start_time": "2022-04-09T14:55:14.311Z"
   },
   {
    "duration": 59,
    "start_time": "2022-04-09T14:55:23.186Z"
   },
   {
    "duration": 169,
    "start_time": "2022-04-09T14:58:50.674Z"
   },
   {
    "duration": 13,
    "start_time": "2022-04-09T14:59:02.937Z"
   },
   {
    "duration": 28,
    "start_time": "2022-04-09T14:59:12.304Z"
   },
   {
    "duration": 27,
    "start_time": "2022-04-09T14:59:39.855Z"
   },
   {
    "duration": 62,
    "start_time": "2022-04-09T15:00:57.510Z"
   },
   {
    "duration": 55,
    "start_time": "2022-04-09T15:03:19.311Z"
   },
   {
    "duration": 54,
    "start_time": "2022-04-09T15:03:25.951Z"
   },
   {
    "duration": 53,
    "start_time": "2022-04-09T15:03:35.215Z"
   },
   {
    "duration": 187,
    "start_time": "2022-04-09T15:09:23.743Z"
   },
   {
    "duration": 53,
    "start_time": "2022-04-09T15:10:33.025Z"
   },
   {
    "duration": 57,
    "start_time": "2022-04-09T15:13:20.010Z"
   },
   {
    "duration": 36,
    "start_time": "2022-04-09T15:28:39.895Z"
   },
   {
    "duration": 209,
    "start_time": "2022-04-09T15:28:49.398Z"
   },
   {
    "duration": 7,
    "start_time": "2022-04-09T15:29:01.806Z"
   },
   {
    "duration": 12,
    "start_time": "2022-04-09T15:29:28.897Z"
   },
   {
    "duration": 6,
    "start_time": "2022-04-09T15:29:40.657Z"
   },
   {
    "duration": 11162,
    "start_time": "2022-04-09T15:29:53.484Z"
   },
   {
    "duration": 32,
    "start_time": "2022-04-09T15:30:08.246Z"
   },
   {
    "duration": 16,
    "start_time": "2022-04-09T15:30:49.789Z"
   },
   {
    "duration": 14,
    "start_time": "2022-04-09T15:30:52.292Z"
   },
   {
    "duration": 221,
    "start_time": "2022-04-09T15:30:58.557Z"
   },
   {
    "duration": 6,
    "start_time": "2022-04-09T15:31:11.182Z"
   },
   {
    "duration": 22,
    "start_time": "2022-04-09T15:32:27.574Z"
   },
   {
    "duration": 13,
    "start_time": "2022-04-09T15:32:30.379Z"
   },
   {
    "duration": 18,
    "start_time": "2022-04-09T15:34:25.033Z"
   },
   {
    "duration": 5,
    "start_time": "2022-04-09T15:34:30.633Z"
   },
   {
    "duration": 1927,
    "start_time": "2022-04-09T15:34:50.703Z"
   },
   {
    "duration": 809,
    "start_time": "2022-04-09T15:34:52.634Z"
   },
   {
    "duration": 41,
    "start_time": "2022-04-09T15:34:53.446Z"
   },
   {
    "duration": 5,
    "start_time": "2022-04-09T15:34:53.490Z"
   },
   {
    "duration": 26,
    "start_time": "2022-04-09T15:34:53.498Z"
   },
   {
    "duration": 5,
    "start_time": "2022-04-09T15:34:53.526Z"
   },
   {
    "duration": 42,
    "start_time": "2022-04-09T15:34:53.533Z"
   },
   {
    "duration": 9,
    "start_time": "2022-04-09T15:34:53.577Z"
   },
   {
    "duration": 9,
    "start_time": "2022-04-09T15:34:53.588Z"
   },
   {
    "duration": 14,
    "start_time": "2022-04-09T15:34:53.599Z"
   },
   {
    "duration": 406,
    "start_time": "2022-04-09T15:34:53.615Z"
   },
   {
    "duration": 389,
    "start_time": "2022-04-09T15:34:54.023Z"
   },
   {
    "duration": 6,
    "start_time": "2022-04-09T15:34:54.414Z"
   },
   {
    "duration": 26,
    "start_time": "2022-04-09T15:34:54.425Z"
   },
   {
    "duration": 23,
    "start_time": "2022-04-09T15:34:54.452Z"
   },
   {
    "duration": 118,
    "start_time": "2022-04-09T15:34:54.477Z"
   },
   {
    "duration": 6,
    "start_time": "2022-04-09T15:34:54.598Z"
   },
   {
    "duration": 40,
    "start_time": "2022-04-09T15:34:54.606Z"
   },
   {
    "duration": 4,
    "start_time": "2022-04-09T15:34:54.648Z"
   },
   {
    "duration": 16,
    "start_time": "2022-04-09T15:34:54.674Z"
   },
   {
    "duration": 15,
    "start_time": "2022-04-09T15:34:54.692Z"
   },
   {
    "duration": 10,
    "start_time": "2022-04-09T15:34:54.709Z"
   },
   {
    "duration": 53,
    "start_time": "2022-04-09T15:34:54.721Z"
   },
   {
    "duration": 7,
    "start_time": "2022-04-09T15:34:54.776Z"
   },
   {
    "duration": 10,
    "start_time": "2022-04-09T15:34:54.785Z"
   },
   {
    "duration": 5,
    "start_time": "2022-04-09T15:34:54.797Z"
   },
   {
    "duration": 9,
    "start_time": "2022-04-09T15:34:54.804Z"
   },
   {
    "duration": 6,
    "start_time": "2022-04-09T15:34:54.816Z"
   },
   {
    "duration": 49,
    "start_time": "2022-04-09T15:34:54.825Z"
   },
   {
    "duration": 1130,
    "start_time": "2022-04-09T15:34:54.876Z"
   },
   {
    "duration": 402,
    "start_time": "2022-04-09T15:34:56.009Z"
   },
   {
    "duration": 374,
    "start_time": "2022-04-09T15:34:56.413Z"
   },
   {
    "duration": 29,
    "start_time": "2022-04-09T15:34:56.789Z"
   },
   {
    "duration": 11,
    "start_time": "2022-04-09T15:34:56.820Z"
   },
   {
    "duration": 582,
    "start_time": "2022-04-09T15:34:56.833Z"
   },
   {
    "duration": 4,
    "start_time": "2022-04-09T15:34:57.418Z"
   },
   {
    "duration": 5,
    "start_time": "2022-04-09T15:34:57.424Z"
   },
   {
    "duration": 4,
    "start_time": "2022-04-09T15:34:57.432Z"
   },
   {
    "duration": 37,
    "start_time": "2022-04-09T15:34:57.439Z"
   },
   {
    "duration": 33,
    "start_time": "2022-04-09T15:34:57.479Z"
   },
   {
    "duration": 6,
    "start_time": "2022-04-09T15:34:57.520Z"
   },
   {
    "duration": 74,
    "start_time": "2022-04-09T15:34:57.529Z"
   },
   {
    "duration": 89,
    "start_time": "2022-04-09T15:34:57.606Z"
   },
   {
    "duration": 196,
    "start_time": "2022-04-09T15:34:57.698Z"
   },
   {
    "duration": 57,
    "start_time": "2022-04-09T15:35:18.553Z"
   },
   {
    "duration": 24,
    "start_time": "2022-04-09T15:36:00.857Z"
   },
   {
    "duration": 7,
    "start_time": "2022-04-09T15:36:02.826Z"
   },
   {
    "duration": 26,
    "start_time": "2022-04-09T15:37:46.334Z"
   },
   {
    "duration": 149,
    "start_time": "2022-04-09T15:38:00.674Z"
   },
   {
    "duration": 6,
    "start_time": "2022-04-09T15:38:29.228Z"
   },
   {
    "duration": 37,
    "start_time": "2022-04-09T15:38:56.282Z"
   },
   {
    "duration": 48,
    "start_time": "2022-04-09T15:39:35.765Z"
   },
   {
    "duration": 48,
    "start_time": "2022-04-09T15:39:39.679Z"
   },
   {
    "duration": 31,
    "start_time": "2022-04-09T15:40:16.308Z"
   },
   {
    "duration": 34,
    "start_time": "2022-04-09T15:40:18.787Z"
   },
   {
    "duration": 2605,
    "start_time": "2022-04-09T15:40:30.623Z"
   },
   {
    "duration": 1028,
    "start_time": "2022-04-09T15:40:33.232Z"
   },
   {
    "duration": 32,
    "start_time": "2022-04-09T15:40:34.263Z"
   },
   {
    "duration": 4,
    "start_time": "2022-04-09T15:40:34.297Z"
   },
   {
    "duration": 22,
    "start_time": "2022-04-09T15:40:34.304Z"
   },
   {
    "duration": 45,
    "start_time": "2022-04-09T15:40:34.328Z"
   },
   {
    "duration": 6,
    "start_time": "2022-04-09T15:40:34.376Z"
   },
   {
    "duration": 8,
    "start_time": "2022-04-09T15:40:34.384Z"
   },
   {
    "duration": 8,
    "start_time": "2022-04-09T15:40:34.394Z"
   },
   {
    "duration": 12,
    "start_time": "2022-04-09T15:40:34.404Z"
   },
   {
    "duration": 451,
    "start_time": "2022-04-09T15:40:34.418Z"
   },
   {
    "duration": 404,
    "start_time": "2022-04-09T15:40:34.871Z"
   },
   {
    "duration": 6,
    "start_time": "2022-04-09T15:40:35.277Z"
   },
   {
    "duration": 7,
    "start_time": "2022-04-09T15:40:35.288Z"
   },
   {
    "duration": 8,
    "start_time": "2022-04-09T15:40:35.298Z"
   },
   {
    "duration": 158,
    "start_time": "2022-04-09T15:40:35.308Z"
   },
   {
    "duration": 6,
    "start_time": "2022-04-09T15:40:35.473Z"
   },
   {
    "duration": 30,
    "start_time": "2022-04-09T15:40:35.482Z"
   },
   {
    "duration": 3,
    "start_time": "2022-04-09T15:40:35.514Z"
   },
   {
    "duration": 66,
    "start_time": "2022-04-09T15:40:35.519Z"
   },
   {
    "duration": 16,
    "start_time": "2022-04-09T15:40:35.588Z"
   },
   {
    "duration": 9,
    "start_time": "2022-04-09T15:40:35.606Z"
   },
   {
    "duration": 8,
    "start_time": "2022-04-09T15:40:35.617Z"
   },
   {
    "duration": 49,
    "start_time": "2022-04-09T15:40:35.627Z"
   },
   {
    "duration": 15,
    "start_time": "2022-04-09T15:40:35.678Z"
   },
   {
    "duration": 9,
    "start_time": "2022-04-09T15:40:35.695Z"
   },
   {
    "duration": 24,
    "start_time": "2022-04-09T15:40:35.706Z"
   },
   {
    "duration": 42,
    "start_time": "2022-04-09T15:40:35.732Z"
   },
   {
    "duration": 6,
    "start_time": "2022-04-09T15:40:35.776Z"
   },
   {
    "duration": 1235,
    "start_time": "2022-04-09T15:40:35.784Z"
   },
   {
    "duration": 419,
    "start_time": "2022-04-09T15:40:37.022Z"
   },
   {
    "duration": 448,
    "start_time": "2022-04-09T15:40:37.443Z"
   },
   {
    "duration": 30,
    "start_time": "2022-04-09T15:40:37.894Z"
   },
   {
    "duration": 11,
    "start_time": "2022-04-09T15:40:37.927Z"
   },
   {
    "duration": 739,
    "start_time": "2022-04-09T15:40:37.940Z"
   },
   {
    "duration": 5,
    "start_time": "2022-04-09T15:40:38.681Z"
   },
   {
    "duration": 8,
    "start_time": "2022-04-09T15:40:38.688Z"
   },
   {
    "duration": 7,
    "start_time": "2022-04-09T15:40:38.699Z"
   },
   {
    "duration": 14,
    "start_time": "2022-04-09T15:40:38.708Z"
   },
   {
    "duration": 76,
    "start_time": "2022-04-09T15:40:38.725Z"
   },
   {
    "duration": 209,
    "start_time": "2022-04-09T15:40:38.806Z"
   },
   {
    "duration": 0,
    "start_time": "2022-04-09T15:40:39.017Z"
   },
   {
    "duration": 0,
    "start_time": "2022-04-09T15:40:39.019Z"
   },
   {
    "duration": 12,
    "start_time": "2022-04-09T15:40:55.681Z"
   },
   {
    "duration": 2492,
    "start_time": "2022-04-09T15:41:54.358Z"
   },
   {
    "duration": 958,
    "start_time": "2022-04-09T15:41:56.853Z"
   },
   {
    "duration": 26,
    "start_time": "2022-04-09T15:41:57.814Z"
   },
   {
    "duration": 31,
    "start_time": "2022-04-09T15:41:57.842Z"
   },
   {
    "duration": 16,
    "start_time": "2022-04-09T15:41:57.877Z"
   },
   {
    "duration": 6,
    "start_time": "2022-04-09T15:41:57.894Z"
   },
   {
    "duration": 6,
    "start_time": "2022-04-09T15:41:57.902Z"
   },
   {
    "duration": 6,
    "start_time": "2022-04-09T15:41:57.910Z"
   },
   {
    "duration": 58,
    "start_time": "2022-04-09T15:41:57.918Z"
   },
   {
    "duration": 14,
    "start_time": "2022-04-09T15:41:57.978Z"
   },
   {
    "duration": 431,
    "start_time": "2022-04-09T15:41:57.994Z"
   },
   {
    "duration": 391,
    "start_time": "2022-04-09T15:41:58.427Z"
   },
   {
    "duration": 6,
    "start_time": "2022-04-09T15:41:58.820Z"
   },
   {
    "duration": 6,
    "start_time": "2022-04-09T15:41:58.831Z"
   },
   {
    "duration": 35,
    "start_time": "2022-04-09T15:41:58.839Z"
   },
   {
    "duration": 126,
    "start_time": "2022-04-09T15:41:58.877Z"
   },
   {
    "duration": 6,
    "start_time": "2022-04-09T15:41:59.005Z"
   },
   {
    "duration": 27,
    "start_time": "2022-04-09T15:41:59.013Z"
   },
   {
    "duration": 32,
    "start_time": "2022-04-09T15:41:59.042Z"
   },
   {
    "duration": 18,
    "start_time": "2022-04-09T15:41:59.077Z"
   },
   {
    "duration": 16,
    "start_time": "2022-04-09T15:41:59.097Z"
   },
   {
    "duration": 9,
    "start_time": "2022-04-09T15:41:59.115Z"
   },
   {
    "duration": 7,
    "start_time": "2022-04-09T15:41:59.126Z"
   },
   {
    "duration": 6,
    "start_time": "2022-04-09T15:41:59.175Z"
   },
   {
    "duration": 9,
    "start_time": "2022-04-09T15:41:59.184Z"
   },
   {
    "duration": 6,
    "start_time": "2022-04-09T15:41:59.195Z"
   },
   {
    "duration": 9,
    "start_time": "2022-04-09T15:41:59.203Z"
   },
   {
    "duration": 7,
    "start_time": "2022-04-09T15:41:59.214Z"
   },
   {
    "duration": 6,
    "start_time": "2022-04-09T15:41:59.273Z"
   },
   {
    "duration": 1149,
    "start_time": "2022-04-09T15:41:59.281Z"
   },
   {
    "duration": 424,
    "start_time": "2022-04-09T15:42:00.432Z"
   },
   {
    "duration": 487,
    "start_time": "2022-04-09T15:42:00.858Z"
   },
   {
    "duration": 47,
    "start_time": "2022-04-09T15:42:01.347Z"
   },
   {
    "duration": 10,
    "start_time": "2022-04-09T15:42:01.396Z"
   },
   {
    "duration": 620,
    "start_time": "2022-04-09T15:42:01.408Z"
   },
   {
    "duration": 5,
    "start_time": "2022-04-09T15:42:02.030Z"
   },
   {
    "duration": 37,
    "start_time": "2022-04-09T15:42:02.037Z"
   },
   {
    "duration": 29,
    "start_time": "2022-04-09T15:42:02.077Z"
   },
   {
    "duration": 26,
    "start_time": "2022-04-09T15:42:02.108Z"
   },
   {
    "duration": 39,
    "start_time": "2022-04-09T15:42:02.136Z"
   },
   {
    "duration": 39,
    "start_time": "2022-04-09T15:42:02.181Z"
   },
   {
    "duration": 58,
    "start_time": "2022-04-09T15:42:02.222Z"
   },
   {
    "duration": 50,
    "start_time": "2022-04-09T15:42:02.283Z"
   },
   {
    "duration": 313,
    "start_time": "2022-04-09T15:42:02.335Z"
   },
   {
    "duration": 24,
    "start_time": "2022-04-09T15:42:14.962Z"
   },
   {
    "duration": 34,
    "start_time": "2022-04-09T16:00:28.903Z"
   },
   {
    "duration": 32,
    "start_time": "2022-04-09T16:00:43.201Z"
   },
   {
    "duration": 24,
    "start_time": "2022-04-09T16:01:34.228Z"
   },
   {
    "duration": 18,
    "start_time": "2022-04-09T16:01:47.388Z"
   },
   {
    "duration": 32,
    "start_time": "2022-04-09T16:05:18.661Z"
   },
   {
    "duration": 33,
    "start_time": "2022-04-09T16:05:42.695Z"
   },
   {
    "duration": 18,
    "start_time": "2022-04-09T17:30:07.788Z"
   },
   {
    "duration": 2588,
    "start_time": "2022-04-09T17:30:36.327Z"
   },
   {
    "duration": 1203,
    "start_time": "2022-04-09T17:30:38.918Z"
   },
   {
    "duration": 51,
    "start_time": "2022-04-09T17:30:40.124Z"
   },
   {
    "duration": 5,
    "start_time": "2022-04-09T17:30:40.178Z"
   },
   {
    "duration": 25,
    "start_time": "2022-04-09T17:30:40.185Z"
   },
   {
    "duration": 6,
    "start_time": "2022-04-09T17:30:40.212Z"
   },
   {
    "duration": 6,
    "start_time": "2022-04-09T17:30:40.220Z"
   },
   {
    "duration": 47,
    "start_time": "2022-04-09T17:30:40.228Z"
   },
   {
    "duration": 5,
    "start_time": "2022-04-09T17:30:40.278Z"
   },
   {
    "duration": 11,
    "start_time": "2022-04-09T17:30:40.288Z"
   },
   {
    "duration": 431,
    "start_time": "2022-04-09T17:30:40.302Z"
   },
   {
    "duration": 398,
    "start_time": "2022-04-09T17:30:40.736Z"
   },
   {
    "duration": 7,
    "start_time": "2022-04-09T17:30:41.137Z"
   },
   {
    "duration": 148,
    "start_time": "2022-04-09T17:30:41.147Z"
   },
   {
    "duration": 8,
    "start_time": "2022-04-09T17:30:41.298Z"
   },
   {
    "duration": 10,
    "start_time": "2022-04-09T17:30:41.308Z"
   },
   {
    "duration": 58,
    "start_time": "2022-04-09T17:30:41.320Z"
   },
   {
    "duration": 6,
    "start_time": "2022-04-09T17:30:41.381Z"
   },
   {
    "duration": 30,
    "start_time": "2022-04-09T17:30:41.389Z"
   },
   {
    "duration": 4,
    "start_time": "2022-04-09T17:30:41.421Z"
   },
   {
    "duration": 58,
    "start_time": "2022-04-09T17:30:41.427Z"
   },
   {
    "duration": 21,
    "start_time": "2022-04-09T17:30:41.487Z"
   },
   {
    "duration": 10,
    "start_time": "2022-04-09T17:30:41.510Z"
   },
   {
    "duration": 9,
    "start_time": "2022-04-09T17:30:41.523Z"
   },
   {
    "duration": 40,
    "start_time": "2022-04-09T17:30:41.534Z"
   },
   {
    "duration": 12,
    "start_time": "2022-04-09T17:30:41.577Z"
   },
   {
    "duration": 5,
    "start_time": "2022-04-09T17:30:41.592Z"
   },
   {
    "duration": 5,
    "start_time": "2022-04-09T17:30:41.603Z"
   },
   {
    "duration": 6,
    "start_time": "2022-04-09T17:30:41.610Z"
   },
   {
    "duration": 55,
    "start_time": "2022-04-09T17:30:41.619Z"
   },
   {
    "duration": 1134,
    "start_time": "2022-04-09T17:30:41.677Z"
   },
   {
    "duration": 425,
    "start_time": "2022-04-09T17:30:42.814Z"
   },
   {
    "duration": 388,
    "start_time": "2022-04-09T17:30:43.242Z"
   },
   {
    "duration": 49,
    "start_time": "2022-04-09T17:30:43.633Z"
   },
   {
    "duration": 12,
    "start_time": "2022-04-09T17:30:43.685Z"
   },
   {
    "duration": 586,
    "start_time": "2022-04-09T17:30:43.700Z"
   },
   {
    "duration": 6,
    "start_time": "2022-04-09T17:30:44.288Z"
   },
   {
    "duration": 7,
    "start_time": "2022-04-09T17:30:44.297Z"
   },
   {
    "duration": 6,
    "start_time": "2022-04-09T17:30:44.307Z"
   },
   {
    "duration": 74,
    "start_time": "2022-04-09T17:30:44.316Z"
   },
   {
    "duration": 26,
    "start_time": "2022-04-09T17:30:44.393Z"
   },
   {
    "duration": 66,
    "start_time": "2022-04-09T17:30:44.421Z"
   },
   {
    "duration": 157,
    "start_time": "2022-04-09T17:30:44.490Z"
   },
   {
    "duration": 51,
    "start_time": "2022-04-09T17:30:44.649Z"
   },
   {
    "duration": 196,
    "start_time": "2022-04-09T17:30:44.703Z"
   },
   {
    "duration": 19,
    "start_time": "2022-04-09T17:31:20.765Z"
   },
   {
    "duration": 1978,
    "start_time": "2022-04-09T17:32:38.433Z"
   },
   {
    "duration": 1787,
    "start_time": "2022-04-09T17:33:02.323Z"
   },
   {
    "duration": 21,
    "start_time": "2022-04-09T17:33:42.737Z"
   },
   {
    "duration": 20,
    "start_time": "2022-04-09T17:34:59.490Z"
   },
   {
    "duration": 2111,
    "start_time": "2022-04-09T17:35:30.436Z"
   },
   {
    "duration": 898,
    "start_time": "2022-04-09T17:35:32.550Z"
   },
   {
    "duration": 44,
    "start_time": "2022-04-09T17:35:33.451Z"
   },
   {
    "duration": 5,
    "start_time": "2022-04-09T17:35:33.498Z"
   },
   {
    "duration": 24,
    "start_time": "2022-04-09T17:35:33.506Z"
   },
   {
    "duration": 45,
    "start_time": "2022-04-09T17:35:33.533Z"
   },
   {
    "duration": 22,
    "start_time": "2022-04-09T17:35:33.580Z"
   },
   {
    "duration": 24,
    "start_time": "2022-04-09T17:35:33.604Z"
   },
   {
    "duration": 13,
    "start_time": "2022-04-09T17:35:33.631Z"
   },
   {
    "duration": 36,
    "start_time": "2022-04-09T17:35:33.648Z"
   },
   {
    "duration": 572,
    "start_time": "2022-04-09T17:35:33.687Z"
   },
   {
    "duration": 559,
    "start_time": "2022-04-09T17:35:34.262Z"
   },
   {
    "duration": 8,
    "start_time": "2022-04-09T17:35:34.823Z"
   },
   {
    "duration": 168,
    "start_time": "2022-04-09T17:35:34.837Z"
   },
   {
    "duration": 36,
    "start_time": "2022-04-09T17:35:35.007Z"
   },
   {
    "duration": 33,
    "start_time": "2022-04-09T17:35:35.045Z"
   },
   {
    "duration": 14,
    "start_time": "2022-04-09T17:35:35.080Z"
   },
   {
    "duration": 25,
    "start_time": "2022-04-09T17:35:35.097Z"
   },
   {
    "duration": 52,
    "start_time": "2022-04-09T17:35:35.125Z"
   },
   {
    "duration": 32,
    "start_time": "2022-04-09T17:35:35.180Z"
   },
   {
    "duration": 4,
    "start_time": "2022-04-09T17:35:35.215Z"
   },
   {
    "duration": 60,
    "start_time": "2022-04-09T17:35:35.223Z"
   },
   {
    "duration": 29,
    "start_time": "2022-04-09T17:35:35.285Z"
   },
   {
    "duration": 13,
    "start_time": "2022-04-09T17:35:35.316Z"
   },
   {
    "duration": 9,
    "start_time": "2022-04-09T17:35:35.332Z"
   },
   {
    "duration": 33,
    "start_time": "2022-04-09T17:35:35.344Z"
   },
   {
    "duration": 16,
    "start_time": "2022-04-09T17:35:35.379Z"
   },
   {
    "duration": 8,
    "start_time": "2022-04-09T17:35:35.397Z"
   },
   {
    "duration": 9,
    "start_time": "2022-04-09T17:35:35.408Z"
   },
   {
    "duration": 55,
    "start_time": "2022-04-09T17:35:35.420Z"
   },
   {
    "duration": 15,
    "start_time": "2022-04-09T17:35:35.477Z"
   },
   {
    "duration": 1602,
    "start_time": "2022-04-09T17:35:35.494Z"
   },
   {
    "duration": 573,
    "start_time": "2022-04-09T17:35:37.098Z"
   },
   {
    "duration": 381,
    "start_time": "2022-04-09T17:35:37.674Z"
   },
   {
    "duration": 39,
    "start_time": "2022-04-09T17:35:38.057Z"
   },
   {
    "duration": 13,
    "start_time": "2022-04-09T17:35:38.099Z"
   },
   {
    "duration": 647,
    "start_time": "2022-04-09T17:35:38.115Z"
   },
   {
    "duration": 10,
    "start_time": "2022-04-09T17:35:38.764Z"
   },
   {
    "duration": 13,
    "start_time": "2022-04-09T17:35:38.777Z"
   },
   {
    "duration": 5,
    "start_time": "2022-04-09T17:35:38.793Z"
   },
   {
    "duration": 73,
    "start_time": "2022-04-09T17:35:38.805Z"
   },
   {
    "duration": 25,
    "start_time": "2022-04-09T17:35:38.881Z"
   },
   {
    "duration": 69,
    "start_time": "2022-04-09T17:35:38.908Z"
   },
   {
    "duration": 41,
    "start_time": "2022-04-09T17:35:38.979Z"
   },
   {
    "duration": 207,
    "start_time": "2022-04-09T17:35:39.022Z"
   },
   {
    "duration": 300,
    "start_time": "2022-04-09T17:35:39.231Z"
   },
   {
    "duration": 19,
    "start_time": "2022-04-09T17:45:46.858Z"
   },
   {
    "duration": 1900,
    "start_time": "2022-04-09T17:48:37.370Z"
   },
   {
    "duration": 749,
    "start_time": "2022-04-09T17:48:39.273Z"
   },
   {
    "duration": 27,
    "start_time": "2022-04-09T17:48:40.025Z"
   },
   {
    "duration": 19,
    "start_time": "2022-04-09T17:48:40.055Z"
   },
   {
    "duration": 20,
    "start_time": "2022-04-09T17:48:40.077Z"
   },
   {
    "duration": 6,
    "start_time": "2022-04-09T17:48:40.101Z"
   },
   {
    "duration": 8,
    "start_time": "2022-04-09T17:48:40.109Z"
   },
   {
    "duration": 56,
    "start_time": "2022-04-09T17:48:40.119Z"
   },
   {
    "duration": 5,
    "start_time": "2022-04-09T17:48:40.179Z"
   },
   {
    "duration": 13,
    "start_time": "2022-04-09T17:48:40.187Z"
   },
   {
    "duration": 415,
    "start_time": "2022-04-09T17:48:40.202Z"
   },
   {
    "duration": 390,
    "start_time": "2022-04-09T17:48:40.620Z"
   },
   {
    "duration": 6,
    "start_time": "2022-04-09T17:48:41.012Z"
   },
   {
    "duration": 107,
    "start_time": "2022-04-09T17:48:44.094Z"
   },
   {
    "duration": 172,
    "start_time": "2022-04-09T17:55:03.685Z"
   },
   {
    "duration": 4,
    "start_time": "2022-04-09T17:56:48.910Z"
   },
   {
    "duration": 8,
    "start_time": "2022-04-09T17:57:09.311Z"
   },
   {
    "duration": 20,
    "start_time": "2022-04-09T17:57:20.927Z"
   },
   {
    "duration": 5,
    "start_time": "2022-04-09T18:01:00.027Z"
   },
   {
    "duration": 20,
    "start_time": "2022-04-09T18:01:01.879Z"
   },
   {
    "duration": 2231,
    "start_time": "2022-04-09T18:01:13.328Z"
   },
   {
    "duration": 791,
    "start_time": "2022-04-09T18:01:15.562Z"
   },
   {
    "duration": 39,
    "start_time": "2022-04-09T18:01:16.355Z"
   },
   {
    "duration": 5,
    "start_time": "2022-04-09T18:01:16.398Z"
   },
   {
    "duration": 21,
    "start_time": "2022-04-09T18:01:16.406Z"
   },
   {
    "duration": 44,
    "start_time": "2022-04-09T18:01:16.429Z"
   },
   {
    "duration": 6,
    "start_time": "2022-04-09T18:01:16.477Z"
   },
   {
    "duration": 6,
    "start_time": "2022-04-09T18:01:16.486Z"
   },
   {
    "duration": 7,
    "start_time": "2022-04-09T18:01:16.494Z"
   },
   {
    "duration": 10,
    "start_time": "2022-04-09T18:01:16.504Z"
   },
   {
    "duration": 446,
    "start_time": "2022-04-09T18:01:16.516Z"
   },
   {
    "duration": 524,
    "start_time": "2022-04-09T18:01:16.964Z"
   },
   {
    "duration": 6,
    "start_time": "2022-04-09T18:01:17.490Z"
   },
   {
    "duration": 143,
    "start_time": "2022-04-09T18:01:17.498Z"
   },
   {
    "duration": 36,
    "start_time": "2022-04-09T18:01:37.465Z"
   },
   {
    "duration": 5,
    "start_time": "2022-04-09T18:01:39.762Z"
   },
   {
    "duration": 8,
    "start_time": "2022-04-09T18:01:43.408Z"
   },
   {
    "duration": 19,
    "start_time": "2022-04-09T18:01:45.566Z"
   },
   {
    "duration": 176,
    "start_time": "2022-04-09T18:05:11.169Z"
   },
   {
    "duration": 8,
    "start_time": "2022-04-09T18:05:26.556Z"
   },
   {
    "duration": 19,
    "start_time": "2022-04-09T18:05:40.203Z"
   },
   {
    "duration": 5,
    "start_time": "2022-04-09T18:07:05.860Z"
   },
   {
    "duration": 17,
    "start_time": "2022-04-09T18:12:15.073Z"
   },
   {
    "duration": 20,
    "start_time": "2022-04-09T18:12:25.371Z"
   },
   {
    "duration": 4,
    "start_time": "2022-04-09T18:12:30.772Z"
   },
   {
    "duration": 1902,
    "start_time": "2022-04-09T18:18:32.211Z"
   },
   {
    "duration": 771,
    "start_time": "2022-04-09T18:18:34.116Z"
   },
   {
    "duration": 27,
    "start_time": "2022-04-09T18:18:34.889Z"
   },
   {
    "duration": 4,
    "start_time": "2022-04-09T18:18:34.918Z"
   },
   {
    "duration": 51,
    "start_time": "2022-04-09T18:18:34.924Z"
   },
   {
    "duration": 5,
    "start_time": "2022-04-09T18:18:34.977Z"
   },
   {
    "duration": 6,
    "start_time": "2022-04-09T18:18:34.984Z"
   },
   {
    "duration": 9,
    "start_time": "2022-04-09T18:18:34.993Z"
   },
   {
    "duration": 9,
    "start_time": "2022-04-09T18:18:35.005Z"
   },
   {
    "duration": 24,
    "start_time": "2022-04-09T18:18:55.344Z"
   },
   {
    "duration": 35,
    "start_time": "2022-04-09T18:19:06.563Z"
   },
   {
    "duration": 35,
    "start_time": "2022-04-09T18:19:17.341Z"
   },
   {
    "duration": 5,
    "start_time": "2022-04-09T18:19:20.595Z"
   },
   {
    "duration": 9,
    "start_time": "2022-04-09T18:19:22.750Z"
   },
   {
    "duration": 18,
    "start_time": "2022-04-09T18:19:24.944Z"
   },
   {
    "duration": 1886,
    "start_time": "2022-04-09T18:19:33.053Z"
   },
   {
    "duration": 839,
    "start_time": "2022-04-09T18:19:34.942Z"
   },
   {
    "duration": 28,
    "start_time": "2022-04-09T18:19:35.784Z"
   },
   {
    "duration": 4,
    "start_time": "2022-04-09T18:19:35.815Z"
   },
   {
    "duration": 37,
    "start_time": "2022-04-09T18:19:35.821Z"
   },
   {
    "duration": 6,
    "start_time": "2022-04-09T18:19:35.874Z"
   },
   {
    "duration": 13,
    "start_time": "2022-04-09T18:19:35.881Z"
   },
   {
    "duration": 18,
    "start_time": "2022-04-09T18:19:35.897Z"
   },
   {
    "duration": 10,
    "start_time": "2022-04-09T18:19:35.917Z"
   },
   {
    "duration": 42,
    "start_time": "2022-04-09T18:19:35.931Z"
   },
   {
    "duration": 409,
    "start_time": "2022-04-09T18:19:35.976Z"
   },
   {
    "duration": 403,
    "start_time": "2022-04-09T18:19:36.387Z"
   },
   {
    "duration": 7,
    "start_time": "2022-04-09T18:19:36.793Z"
   },
   {
    "duration": 148,
    "start_time": "2022-04-09T18:19:36.802Z"
   },
   {
    "duration": 4,
    "start_time": "2022-04-09T18:19:36.952Z"
   },
   {
    "duration": 8,
    "start_time": "2022-04-09T18:19:36.974Z"
   },
   {
    "duration": 17,
    "start_time": "2022-04-09T18:19:47.743Z"
   },
   {
    "duration": 14,
    "start_time": "2022-04-09T18:32:33.451Z"
   },
   {
    "duration": 1989,
    "start_time": "2022-04-09T18:32:42.557Z"
   },
   {
    "duration": 807,
    "start_time": "2022-04-09T18:32:44.549Z"
   },
   {
    "duration": 35,
    "start_time": "2022-04-09T18:32:45.358Z"
   },
   {
    "duration": 4,
    "start_time": "2022-04-09T18:32:45.395Z"
   },
   {
    "duration": 21,
    "start_time": "2022-04-09T18:32:45.402Z"
   },
   {
    "duration": 6,
    "start_time": "2022-04-09T18:32:45.425Z"
   },
   {
    "duration": 44,
    "start_time": "2022-04-09T18:32:45.433Z"
   },
   {
    "duration": 5,
    "start_time": "2022-04-09T18:32:45.480Z"
   },
   {
    "duration": 8,
    "start_time": "2022-04-09T18:32:45.487Z"
   },
   {
    "duration": 14,
    "start_time": "2022-04-09T18:32:45.497Z"
   },
   {
    "duration": 441,
    "start_time": "2022-04-09T18:32:45.513Z"
   },
   {
    "duration": 395,
    "start_time": "2022-04-09T18:32:45.956Z"
   },
   {
    "duration": 5,
    "start_time": "2022-04-09T18:32:46.353Z"
   },
   {
    "duration": 111,
    "start_time": "2022-04-09T18:32:48.574Z"
   },
   {
    "duration": 39,
    "start_time": "2022-04-09T18:32:53.913Z"
   },
   {
    "duration": 5,
    "start_time": "2022-04-09T18:32:57.511Z"
   },
   {
    "duration": 10,
    "start_time": "2022-04-09T18:33:00.396Z"
   },
   {
    "duration": 17,
    "start_time": "2022-04-09T18:33:02.514Z"
   },
   {
    "duration": 4,
    "start_time": "2022-04-09T18:35:00.993Z"
   },
   {
    "duration": 5,
    "start_time": "2022-04-09T18:35:16.293Z"
   },
   {
    "duration": 5,
    "start_time": "2022-04-09T18:35:18.183Z"
   },
   {
    "duration": 4,
    "start_time": "2022-04-09T18:35:20.311Z"
   },
   {
    "duration": 6,
    "start_time": "2022-04-09T18:35:52.387Z"
   },
   {
    "duration": 160,
    "start_time": "2022-04-09T18:35:58.698Z"
   },
   {
    "duration": 12,
    "start_time": "2022-04-09T18:36:15.922Z"
   },
   {
    "duration": 19,
    "start_time": "2022-04-09T18:36:40.920Z"
   },
   {
    "duration": 17,
    "start_time": "2022-04-09T18:37:03.025Z"
   },
   {
    "duration": 17,
    "start_time": "2022-04-09T18:37:36.453Z"
   },
   {
    "duration": 2163,
    "start_time": "2022-04-09T18:38:44.857Z"
   },
   {
    "duration": 872,
    "start_time": "2022-04-09T18:38:47.024Z"
   },
   {
    "duration": 32,
    "start_time": "2022-04-09T18:38:47.898Z"
   },
   {
    "duration": 4,
    "start_time": "2022-04-09T18:38:47.932Z"
   },
   {
    "duration": 50,
    "start_time": "2022-04-09T18:38:47.940Z"
   },
   {
    "duration": 6,
    "start_time": "2022-04-09T18:38:47.992Z"
   },
   {
    "duration": 11,
    "start_time": "2022-04-09T18:38:48.001Z"
   },
   {
    "duration": 7,
    "start_time": "2022-04-09T18:38:48.015Z"
   },
   {
    "duration": 50,
    "start_time": "2022-04-09T18:38:48.024Z"
   },
   {
    "duration": 11,
    "start_time": "2022-04-09T18:38:48.077Z"
   },
   {
    "duration": 441,
    "start_time": "2022-04-09T18:38:48.090Z"
   },
   {
    "duration": 405,
    "start_time": "2022-04-09T18:38:48.533Z"
   },
   {
    "duration": 6,
    "start_time": "2022-04-09T18:38:48.941Z"
   },
   {
    "duration": 143,
    "start_time": "2022-04-09T18:38:48.950Z"
   },
   {
    "duration": 5,
    "start_time": "2022-04-09T18:38:58.620Z"
   },
   {
    "duration": 35,
    "start_time": "2022-04-09T18:39:00.930Z"
   },
   {
    "duration": 5,
    "start_time": "2022-04-09T18:39:29.851Z"
   },
   {
    "duration": 8,
    "start_time": "2022-04-09T18:39:42.017Z"
   },
   {
    "duration": 21,
    "start_time": "2022-04-09T18:39:44.602Z"
   },
   {
    "duration": 18,
    "start_time": "2022-04-09T18:40:03.973Z"
   },
   {
    "duration": 20,
    "start_time": "2022-04-09T18:40:33.550Z"
   },
   {
    "duration": 18,
    "start_time": "2022-04-09T18:40:36.193Z"
   },
   {
    "duration": 31,
    "start_time": "2022-04-09T18:40:38.428Z"
   },
   {
    "duration": 5,
    "start_time": "2022-04-09T18:40:42.088Z"
   },
   {
    "duration": 4,
    "start_time": "2022-04-09T18:46:23.572Z"
   },
   {
    "duration": 161,
    "start_time": "2022-04-09T18:46:25.469Z"
   },
   {
    "duration": 1891,
    "start_time": "2022-04-09T18:46:35.179Z"
   },
   {
    "duration": 791,
    "start_time": "2022-04-09T18:46:37.073Z"
   },
   {
    "duration": 30,
    "start_time": "2022-04-09T18:46:37.866Z"
   },
   {
    "duration": 3,
    "start_time": "2022-04-09T18:46:37.899Z"
   },
   {
    "duration": 20,
    "start_time": "2022-04-09T18:46:37.904Z"
   },
   {
    "duration": 6,
    "start_time": "2022-04-09T18:46:37.926Z"
   },
   {
    "duration": 5,
    "start_time": "2022-04-09T18:46:37.973Z"
   },
   {
    "duration": 9,
    "start_time": "2022-04-09T18:46:37.980Z"
   },
   {
    "duration": 8,
    "start_time": "2022-04-09T18:46:37.992Z"
   },
   {
    "duration": 10,
    "start_time": "2022-04-09T18:46:38.004Z"
   },
   {
    "duration": 441,
    "start_time": "2022-04-09T18:46:38.016Z"
   },
   {
    "duration": 401,
    "start_time": "2022-04-09T18:46:38.459Z"
   },
   {
    "duration": 15,
    "start_time": "2022-04-09T18:46:38.862Z"
   },
   {
    "duration": 140,
    "start_time": "2022-04-09T18:46:38.879Z"
   },
   {
    "duration": 4,
    "start_time": "2022-04-09T18:46:39.022Z"
   },
   {
    "duration": 4,
    "start_time": "2022-04-09T18:47:04.904Z"
   },
   {
    "duration": 5,
    "start_time": "2022-04-09T18:47:06.668Z"
   },
   {
    "duration": 39,
    "start_time": "2022-04-09T18:47:12.596Z"
   },
   {
    "duration": 9,
    "start_time": "2022-04-09T18:47:37.619Z"
   },
   {
    "duration": 22,
    "start_time": "2022-04-09T18:47:40.294Z"
   },
   {
    "duration": 5,
    "start_time": "2022-04-09T18:52:00.055Z"
   },
   {
    "duration": 25,
    "start_time": "2022-04-09T18:52:04.293Z"
   },
   {
    "duration": 16,
    "start_time": "2022-04-09T18:52:06.479Z"
   },
   {
    "duration": 4,
    "start_time": "2022-04-09T18:52:08.516Z"
   },
   {
    "duration": 1921,
    "start_time": "2022-04-09T18:52:28.839Z"
   },
   {
    "duration": 837,
    "start_time": "2022-04-09T18:52:30.763Z"
   },
   {
    "duration": 28,
    "start_time": "2022-04-09T18:52:31.602Z"
   },
   {
    "duration": 4,
    "start_time": "2022-04-09T18:52:31.633Z"
   },
   {
    "duration": 48,
    "start_time": "2022-04-09T18:52:31.638Z"
   },
   {
    "duration": 6,
    "start_time": "2022-04-09T18:52:31.688Z"
   },
   {
    "duration": 8,
    "start_time": "2022-04-09T18:52:31.696Z"
   },
   {
    "duration": 8,
    "start_time": "2022-04-09T18:52:31.706Z"
   },
   {
    "duration": 10,
    "start_time": "2022-04-09T18:52:31.716Z"
   },
   {
    "duration": 51,
    "start_time": "2022-04-09T18:52:31.730Z"
   },
   {
    "duration": 423,
    "start_time": "2022-04-09T18:52:31.784Z"
   },
   {
    "duration": 490,
    "start_time": "2022-04-09T18:52:32.209Z"
   },
   {
    "duration": 5,
    "start_time": "2022-04-09T18:52:32.701Z"
   },
   {
    "duration": 137,
    "start_time": "2022-04-09T18:52:32.708Z"
   },
   {
    "duration": 4,
    "start_time": "2022-04-09T18:52:32.847Z"
   },
   {
    "duration": 21,
    "start_time": "2022-04-09T18:52:32.853Z"
   },
   {
    "duration": 8,
    "start_time": "2022-04-09T18:52:32.876Z"
   },
   {
    "duration": 20,
    "start_time": "2022-04-09T18:52:32.886Z"
   },
   {
    "duration": 17,
    "start_time": "2022-04-09T18:52:32.908Z"
   },
   {
    "duration": 6,
    "start_time": "2022-04-09T18:52:37.030Z"
   },
   {
    "duration": 1981,
    "start_time": "2022-04-09T19:02:26.880Z"
   },
   {
    "duration": 813,
    "start_time": "2022-04-09T19:02:28.866Z"
   },
   {
    "duration": 30,
    "start_time": "2022-04-09T19:02:29.681Z"
   },
   {
    "duration": 5,
    "start_time": "2022-04-09T19:02:29.714Z"
   },
   {
    "duration": 61,
    "start_time": "2022-04-09T19:02:29.724Z"
   },
   {
    "duration": 7,
    "start_time": "2022-04-09T19:02:29.788Z"
   },
   {
    "duration": 7,
    "start_time": "2022-04-09T19:02:29.798Z"
   },
   {
    "duration": 10,
    "start_time": "2022-04-09T19:02:29.807Z"
   },
   {
    "duration": 5,
    "start_time": "2022-04-09T19:02:29.820Z"
   },
   {
    "duration": 13,
    "start_time": "2022-04-09T19:02:29.875Z"
   },
   {
    "duration": 431,
    "start_time": "2022-04-09T19:02:29.891Z"
   },
   {
    "duration": 394,
    "start_time": "2022-04-09T19:02:30.324Z"
   },
   {
    "duration": 6,
    "start_time": "2022-04-09T19:02:30.720Z"
   },
   {
    "duration": 151,
    "start_time": "2022-04-09T19:02:30.731Z"
   },
   {
    "duration": 4,
    "start_time": "2022-04-09T19:02:30.884Z"
   },
   {
    "duration": 23,
    "start_time": "2022-04-09T19:02:30.890Z"
   },
   {
    "duration": 19,
    "start_time": "2022-04-09T19:02:30.915Z"
   },
   {
    "duration": 36,
    "start_time": "2022-04-09T19:02:30.936Z"
   },
   {
    "duration": 30,
    "start_time": "2022-04-09T19:02:30.974Z"
   },
   {
    "duration": 19,
    "start_time": "2022-04-09T19:02:31.007Z"
   },
   {
    "duration": 30,
    "start_time": "2022-04-09T19:02:31.028Z"
   },
   {
    "duration": 22,
    "start_time": "2022-04-09T19:02:31.060Z"
   },
   {
    "duration": 20,
    "start_time": "2022-04-09T19:02:31.084Z"
   },
   {
    "duration": 25,
    "start_time": "2022-04-09T19:02:31.106Z"
   },
   {
    "duration": 1274,
    "start_time": "2022-04-09T19:02:31.133Z"
   },
   {
    "duration": 415,
    "start_time": "2022-04-09T19:02:32.409Z"
   },
   {
    "duration": 376,
    "start_time": "2022-04-09T19:02:32.826Z"
   },
   {
    "duration": 27,
    "start_time": "2022-04-09T19:02:33.205Z"
   },
   {
    "duration": 36,
    "start_time": "2022-04-09T19:02:33.234Z"
   },
   {
    "duration": 574,
    "start_time": "2022-04-09T19:02:33.274Z"
   },
   {
    "duration": 4,
    "start_time": "2022-04-09T19:02:33.851Z"
   },
   {
    "duration": 23,
    "start_time": "2022-04-09T19:02:33.857Z"
   },
   {
    "duration": 183,
    "start_time": "2022-04-09T19:02:33.882Z"
   },
   {
    "duration": 0,
    "start_time": "2022-04-09T19:02:34.074Z"
   },
   {
    "duration": 0,
    "start_time": "2022-04-09T19:02:34.076Z"
   },
   {
    "duration": 0,
    "start_time": "2022-04-09T19:02:34.078Z"
   },
   {
    "duration": 0,
    "start_time": "2022-04-09T19:02:34.079Z"
   },
   {
    "duration": 0,
    "start_time": "2022-04-09T19:02:34.081Z"
   },
   {
    "duration": 0,
    "start_time": "2022-04-09T19:02:34.082Z"
   },
   {
    "duration": 1747,
    "start_time": "2022-04-09T19:07:04.199Z"
   },
   {
    "duration": 8,
    "start_time": "2022-04-09T19:20:42.997Z"
   },
   {
    "duration": 1829,
    "start_time": "2022-04-09T19:21:06.370Z"
   },
   {
    "duration": 1931,
    "start_time": "2022-04-09T19:21:16.475Z"
   },
   {
    "duration": 2076,
    "start_time": "2022-04-09T19:24:18.692Z"
   },
   {
    "duration": 874,
    "start_time": "2022-04-09T19:24:20.772Z"
   },
   {
    "duration": 40,
    "start_time": "2022-04-09T19:24:21.649Z"
   },
   {
    "duration": 4,
    "start_time": "2022-04-09T19:24:21.692Z"
   },
   {
    "duration": 23,
    "start_time": "2022-04-09T19:24:21.698Z"
   },
   {
    "duration": 6,
    "start_time": "2022-04-09T19:24:21.723Z"
   },
   {
    "duration": 45,
    "start_time": "2022-04-09T19:24:21.731Z"
   },
   {
    "duration": 8,
    "start_time": "2022-04-09T19:24:21.779Z"
   },
   {
    "duration": 5,
    "start_time": "2022-04-09T19:24:21.790Z"
   },
   {
    "duration": 12,
    "start_time": "2022-04-09T19:24:21.801Z"
   },
   {
    "duration": 540,
    "start_time": "2022-04-09T19:24:21.816Z"
   },
   {
    "duration": 426,
    "start_time": "2022-04-09T19:24:22.358Z"
   },
   {
    "duration": 6,
    "start_time": "2022-04-09T19:24:22.786Z"
   },
   {
    "duration": 149,
    "start_time": "2022-04-09T19:24:22.794Z"
   },
   {
    "duration": 4,
    "start_time": "2022-04-09T19:24:22.945Z"
   },
   {
    "duration": 22,
    "start_time": "2022-04-09T19:24:22.952Z"
   },
   {
    "duration": 14,
    "start_time": "2022-04-09T19:24:22.976Z"
   },
   {
    "duration": 20,
    "start_time": "2022-04-09T19:24:22.992Z"
   },
   {
    "duration": 68,
    "start_time": "2022-04-09T19:24:23.016Z"
   },
   {
    "duration": 5,
    "start_time": "2022-04-09T19:24:23.087Z"
   },
   {
    "duration": 5,
    "start_time": "2022-04-09T19:24:23.095Z"
   },
   {
    "duration": 6,
    "start_time": "2022-04-09T19:24:23.102Z"
   },
   {
    "duration": 7,
    "start_time": "2022-04-09T19:24:23.110Z"
   },
   {
    "duration": 54,
    "start_time": "2022-04-09T19:24:23.120Z"
   },
   {
    "duration": 1187,
    "start_time": "2022-04-09T19:24:23.176Z"
   },
   {
    "duration": 429,
    "start_time": "2022-04-09T19:24:24.373Z"
   },
   {
    "duration": 397,
    "start_time": "2022-04-09T19:24:24.805Z"
   },
   {
    "duration": 30,
    "start_time": "2022-04-09T19:24:25.210Z"
   },
   {
    "duration": 38,
    "start_time": "2022-04-09T19:24:25.243Z"
   },
   {
    "duration": 605,
    "start_time": "2022-04-09T19:24:25.283Z"
   },
   {
    "duration": 5,
    "start_time": "2022-04-09T19:24:25.890Z"
   },
   {
    "duration": 4,
    "start_time": "2022-04-09T19:24:32.527Z"
   },
   {
    "duration": 5,
    "start_time": "2022-04-09T19:24:35.495Z"
   },
   {
    "duration": 2248,
    "start_time": "2022-04-09T19:24:38.121Z"
   },
   {
    "duration": 234,
    "start_time": "2022-04-09T19:25:07.765Z"
   },
   {
    "duration": 1960,
    "start_time": "2022-04-09T19:25:51.737Z"
   },
   {
    "duration": 1772,
    "start_time": "2022-04-09T19:26:06.572Z"
   },
   {
    "duration": 226,
    "start_time": "2022-04-09T19:26:21.592Z"
   },
   {
    "duration": 1726,
    "start_time": "2022-04-09T19:26:31.701Z"
   },
   {
    "duration": 7,
    "start_time": "2022-04-09T19:27:22.448Z"
   },
   {
    "duration": 4,
    "start_time": "2022-04-09T19:27:34.902Z"
   },
   {
    "duration": 12,
    "start_time": "2022-04-09T19:27:41.201Z"
   },
   {
    "duration": 32,
    "start_time": "2022-04-09T19:27:46.772Z"
   },
   {
    "duration": 13,
    "start_time": "2022-04-09T19:28:01.355Z"
   },
   {
    "duration": 4,
    "start_time": "2022-04-09T19:28:08.100Z"
   },
   {
    "duration": 21,
    "start_time": "2022-04-09T19:28:16.892Z"
   },
   {
    "duration": 20,
    "start_time": "2022-04-09T19:28:35.328Z"
   },
   {
    "duration": 12,
    "start_time": "2022-04-09T19:28:49.721Z"
   },
   {
    "duration": 271,
    "start_time": "2022-04-09T19:28:55.749Z"
   },
   {
    "duration": 28,
    "start_time": "2022-04-09T19:30:58.094Z"
   },
   {
    "duration": 1951,
    "start_time": "2022-04-09T19:32:35.360Z"
   },
   {
    "duration": 821,
    "start_time": "2022-04-09T19:32:37.314Z"
   },
   {
    "duration": 40,
    "start_time": "2022-04-09T19:32:38.137Z"
   },
   {
    "duration": 4,
    "start_time": "2022-04-09T19:32:38.180Z"
   },
   {
    "duration": 21,
    "start_time": "2022-04-09T19:32:38.186Z"
   },
   {
    "duration": 6,
    "start_time": "2022-04-09T19:32:38.209Z"
   },
   {
    "duration": 8,
    "start_time": "2022-04-09T19:32:38.217Z"
   },
   {
    "duration": 6,
    "start_time": "2022-04-09T19:32:38.274Z"
   },
   {
    "duration": 7,
    "start_time": "2022-04-09T19:32:38.282Z"
   },
   {
    "duration": 11,
    "start_time": "2022-04-09T19:32:38.292Z"
   },
   {
    "duration": 424,
    "start_time": "2022-04-09T19:32:38.305Z"
   },
   {
    "duration": 392,
    "start_time": "2022-04-09T19:32:38.731Z"
   },
   {
    "duration": 6,
    "start_time": "2022-04-09T19:32:39.125Z"
   },
   {
    "duration": 135,
    "start_time": "2022-04-09T19:32:39.133Z"
   },
   {
    "duration": 36,
    "start_time": "2022-04-09T19:32:47.545Z"
   },
   {
    "duration": 4,
    "start_time": "2022-04-09T19:32:53.735Z"
   },
   {
    "duration": 5,
    "start_time": "2022-04-09T19:32:56.687Z"
   },
   {
    "duration": 13,
    "start_time": "2022-04-09T19:32:59.023Z"
   },
   {
    "duration": 22,
    "start_time": "2022-04-09T19:33:10.203Z"
   },
   {
    "duration": 170,
    "start_time": "2022-04-09T19:34:11.728Z"
   },
   {
    "duration": 16,
    "start_time": "2022-04-09T19:34:28.809Z"
   },
   {
    "duration": 1948,
    "start_time": "2022-04-09T19:34:40.367Z"
   },
   {
    "duration": 851,
    "start_time": "2022-04-09T19:34:42.319Z"
   },
   {
    "duration": 28,
    "start_time": "2022-04-09T19:34:43.174Z"
   },
   {
    "duration": 3,
    "start_time": "2022-04-09T19:34:43.204Z"
   },
   {
    "duration": 17,
    "start_time": "2022-04-09T19:34:43.211Z"
   },
   {
    "duration": 46,
    "start_time": "2022-04-09T19:34:43.230Z"
   },
   {
    "duration": 5,
    "start_time": "2022-04-09T19:34:43.278Z"
   },
   {
    "duration": 6,
    "start_time": "2022-04-09T19:34:43.285Z"
   },
   {
    "duration": 4,
    "start_time": "2022-04-09T19:34:43.294Z"
   },
   {
    "duration": 11,
    "start_time": "2022-04-09T19:34:43.300Z"
   },
   {
    "duration": 434,
    "start_time": "2022-04-09T19:34:43.313Z"
   },
   {
    "duration": 388,
    "start_time": "2022-04-09T19:34:43.749Z"
   },
   {
    "duration": 6,
    "start_time": "2022-04-09T19:34:44.140Z"
   },
   {
    "duration": 151,
    "start_time": "2022-04-09T19:34:44.149Z"
   },
   {
    "duration": 23,
    "start_time": "2022-04-09T19:34:47.201Z"
   },
   {
    "duration": 4,
    "start_time": "2022-04-09T19:35:23.711Z"
   },
   {
    "duration": 5,
    "start_time": "2022-04-09T19:35:27.209Z"
   },
   {
    "duration": 10,
    "start_time": "2022-04-09T19:35:31.300Z"
   },
   {
    "duration": 22,
    "start_time": "2022-04-09T19:35:34.583Z"
   },
   {
    "duration": 2022,
    "start_time": "2022-04-09T19:36:01.138Z"
   },
   {
    "duration": 840,
    "start_time": "2022-04-09T19:36:03.163Z"
   },
   {
    "duration": 28,
    "start_time": "2022-04-09T19:36:04.005Z"
   },
   {
    "duration": 4,
    "start_time": "2022-04-09T19:36:04.035Z"
   },
   {
    "duration": 43,
    "start_time": "2022-04-09T19:36:04.042Z"
   },
   {
    "duration": 6,
    "start_time": "2022-04-09T19:36:04.087Z"
   },
   {
    "duration": 9,
    "start_time": "2022-04-09T19:36:04.095Z"
   },
   {
    "duration": 9,
    "start_time": "2022-04-09T19:36:04.106Z"
   },
   {
    "duration": 7,
    "start_time": "2022-04-09T19:36:04.117Z"
   },
   {
    "duration": 57,
    "start_time": "2022-04-09T19:36:04.126Z"
   },
   {
    "duration": 424,
    "start_time": "2022-04-09T19:36:04.185Z"
   },
   {
    "duration": 397,
    "start_time": "2022-04-09T19:36:04.611Z"
   },
   {
    "duration": 7,
    "start_time": "2022-04-09T19:36:05.011Z"
   },
   {
    "duration": 162,
    "start_time": "2022-04-09T19:36:05.024Z"
   },
   {
    "duration": 26,
    "start_time": "2022-04-09T19:36:05.189Z"
   },
   {
    "duration": 4,
    "start_time": "2022-04-09T19:36:05.218Z"
   },
   {
    "duration": 7,
    "start_time": "2022-04-09T19:36:05.225Z"
   },
   {
    "duration": 50,
    "start_time": "2022-04-09T19:36:05.234Z"
   },
   {
    "duration": 10,
    "start_time": "2022-04-09T19:36:11.360Z"
   },
   {
    "duration": 21,
    "start_time": "2022-04-09T19:36:13.183Z"
   },
   {
    "duration": 4,
    "start_time": "2022-04-09T19:37:04.591Z"
   },
   {
    "duration": 160,
    "start_time": "2022-04-09T19:37:06.527Z"
   },
   {
    "duration": 12,
    "start_time": "2022-04-09T19:37:26.755Z"
   },
   {
    "duration": 1828,
    "start_time": "2022-04-09T19:37:35.804Z"
   },
   {
    "duration": 800,
    "start_time": "2022-04-09T19:37:37.634Z"
   },
   {
    "duration": 38,
    "start_time": "2022-04-09T19:37:38.437Z"
   },
   {
    "duration": 4,
    "start_time": "2022-04-09T19:37:38.478Z"
   },
   {
    "duration": 18,
    "start_time": "2022-04-09T19:37:38.484Z"
   },
   {
    "duration": 5,
    "start_time": "2022-04-09T19:37:38.505Z"
   },
   {
    "duration": 5,
    "start_time": "2022-04-09T19:37:38.512Z"
   },
   {
    "duration": 55,
    "start_time": "2022-04-09T19:37:38.519Z"
   },
   {
    "duration": 5,
    "start_time": "2022-04-09T19:37:38.576Z"
   },
   {
    "duration": 11,
    "start_time": "2022-04-09T19:37:38.584Z"
   },
   {
    "duration": 425,
    "start_time": "2022-04-09T19:37:38.597Z"
   },
   {
    "duration": 493,
    "start_time": "2022-04-09T19:37:39.024Z"
   },
   {
    "duration": 6,
    "start_time": "2022-04-09T19:37:39.519Z"
   },
   {
    "duration": 134,
    "start_time": "2022-04-09T19:37:39.527Z"
   },
   {
    "duration": 25,
    "start_time": "2022-04-09T19:37:39.663Z"
   },
   {
    "duration": 5,
    "start_time": "2022-04-09T19:37:56.506Z"
   },
   {
    "duration": 4,
    "start_time": "2022-04-09T19:37:59.194Z"
   },
   {
    "duration": 9,
    "start_time": "2022-04-09T19:38:01.780Z"
   },
   {
    "duration": 23,
    "start_time": "2022-04-09T19:38:03.740Z"
   },
   {
    "duration": 5,
    "start_time": "2022-04-09T19:38:14.593Z"
   },
   {
    "duration": 1996,
    "start_time": "2022-04-09T19:38:50.837Z"
   },
   {
    "duration": 801,
    "start_time": "2022-04-09T19:38:52.837Z"
   },
   {
    "duration": 42,
    "start_time": "2022-04-09T19:38:53.640Z"
   },
   {
    "duration": 5,
    "start_time": "2022-04-09T19:38:53.684Z"
   },
   {
    "duration": 19,
    "start_time": "2022-04-09T19:38:53.693Z"
   },
   {
    "duration": 5,
    "start_time": "2022-04-09T19:38:53.715Z"
   },
   {
    "duration": 50,
    "start_time": "2022-04-09T19:38:53.723Z"
   },
   {
    "duration": 6,
    "start_time": "2022-04-09T19:38:53.776Z"
   },
   {
    "duration": 6,
    "start_time": "2022-04-09T19:38:53.784Z"
   },
   {
    "duration": 12,
    "start_time": "2022-04-09T19:38:53.792Z"
   },
   {
    "duration": 436,
    "start_time": "2022-04-09T19:38:53.806Z"
   },
   {
    "duration": 390,
    "start_time": "2022-04-09T19:38:54.244Z"
   },
   {
    "duration": 6,
    "start_time": "2022-04-09T19:38:54.637Z"
   },
   {
    "duration": 136,
    "start_time": "2022-04-09T19:38:54.648Z"
   },
   {
    "duration": 21,
    "start_time": "2022-04-09T19:38:54.787Z"
   },
   {
    "duration": 4,
    "start_time": "2022-04-09T19:38:54.810Z"
   },
   {
    "duration": 7,
    "start_time": "2022-04-09T19:38:54.817Z"
   },
   {
    "duration": 54,
    "start_time": "2022-04-09T19:38:54.825Z"
   },
   {
    "duration": 17,
    "start_time": "2022-04-09T19:38:54.881Z"
   },
   {
    "duration": 17,
    "start_time": "2022-04-09T19:38:54.900Z"
   },
   {
    "duration": 10,
    "start_time": "2022-04-09T19:38:54.919Z"
   },
   {
    "duration": 8,
    "start_time": "2022-04-09T19:38:54.931Z"
   },
   {
    "duration": 6,
    "start_time": "2022-04-09T19:38:54.974Z"
   },
   {
    "duration": 10,
    "start_time": "2022-04-09T19:38:54.982Z"
   },
   {
    "duration": 7,
    "start_time": "2022-04-09T19:38:54.994Z"
   },
   {
    "duration": 1130,
    "start_time": "2022-04-09T19:38:55.003Z"
   },
   {
    "duration": 404,
    "start_time": "2022-04-09T19:38:56.136Z"
   },
   {
    "duration": 377,
    "start_time": "2022-04-09T19:38:56.542Z"
   },
   {
    "duration": 27,
    "start_time": "2022-04-09T19:38:56.922Z"
   },
   {
    "duration": 29,
    "start_time": "2022-04-09T19:38:56.952Z"
   },
   {
    "duration": 585,
    "start_time": "2022-04-09T19:38:56.983Z"
   },
   {
    "duration": 4,
    "start_time": "2022-04-09T19:38:57.574Z"
   },
   {
    "duration": 9,
    "start_time": "2022-04-09T19:38:57.580Z"
   },
   {
    "duration": 9,
    "start_time": "2022-04-09T19:38:57.591Z"
   },
   {
    "duration": 5,
    "start_time": "2022-04-09T19:38:57.602Z"
   },
   {
    "duration": 15,
    "start_time": "2022-04-09T19:38:57.609Z"
   },
   {
    "duration": 217,
    "start_time": "2022-04-09T19:38:57.626Z"
   },
   {
    "duration": 0,
    "start_time": "2022-04-09T19:38:57.845Z"
   },
   {
    "duration": 0,
    "start_time": "2022-04-09T19:38:57.847Z"
   },
   {
    "duration": 0,
    "start_time": "2022-04-09T19:38:57.849Z"
   },
   {
    "duration": 0,
    "start_time": "2022-04-09T19:38:57.851Z"
   },
   {
    "duration": 26,
    "start_time": "2022-04-09T19:39:53.882Z"
   },
   {
    "duration": 137,
    "start_time": "2022-04-09T19:40:28.050Z"
   },
   {
    "duration": 36,
    "start_time": "2022-04-09T19:40:44.323Z"
   },
   {
    "duration": 12,
    "start_time": "2022-04-09T19:41:16.009Z"
   },
   {
    "duration": 31,
    "start_time": "2022-04-09T19:41:31.279Z"
   },
   {
    "duration": 4,
    "start_time": "2022-04-09T19:43:01.560Z"
   },
   {
    "duration": 7,
    "start_time": "2022-04-09T19:43:08.711Z"
   },
   {
    "duration": 24,
    "start_time": "2022-04-09T19:43:33.206Z"
   },
   {
    "duration": 22,
    "start_time": "2022-04-09T19:43:48.278Z"
   },
   {
    "duration": 30,
    "start_time": "2022-04-09T19:43:50.929Z"
   },
   {
    "duration": 11,
    "start_time": "2022-04-09T19:43:58.487Z"
   },
   {
    "duration": 24,
    "start_time": "2022-04-09T19:47:43.336Z"
   },
   {
    "duration": 15,
    "start_time": "2022-04-09T19:47:45.401Z"
   },
   {
    "duration": 12,
    "start_time": "2022-04-09T19:48:01.198Z"
   },
   {
    "duration": 1993,
    "start_time": "2022-04-09T19:48:13.942Z"
   },
   {
    "duration": 801,
    "start_time": "2022-04-09T19:48:15.938Z"
   },
   {
    "duration": 47,
    "start_time": "2022-04-09T19:48:16.741Z"
   },
   {
    "duration": 5,
    "start_time": "2022-04-09T19:48:16.792Z"
   },
   {
    "duration": 23,
    "start_time": "2022-04-09T19:48:16.799Z"
   },
   {
    "duration": 7,
    "start_time": "2022-04-09T19:48:16.825Z"
   },
   {
    "duration": 43,
    "start_time": "2022-04-09T19:48:16.835Z"
   },
   {
    "duration": 7,
    "start_time": "2022-04-09T19:48:16.881Z"
   },
   {
    "duration": 6,
    "start_time": "2022-04-09T19:48:16.891Z"
   },
   {
    "duration": 13,
    "start_time": "2022-04-09T19:48:16.902Z"
   },
   {
    "duration": 458,
    "start_time": "2022-04-09T19:48:16.918Z"
   },
   {
    "duration": 395,
    "start_time": "2022-04-09T19:48:17.378Z"
   },
   {
    "duration": 6,
    "start_time": "2022-04-09T19:48:17.776Z"
   },
   {
    "duration": 139,
    "start_time": "2022-04-09T19:48:17.783Z"
   },
   {
    "duration": 21,
    "start_time": "2022-04-09T19:48:17.924Z"
   },
   {
    "duration": 4,
    "start_time": "2022-04-09T19:48:17.947Z"
   },
   {
    "duration": 6,
    "start_time": "2022-04-09T19:48:17.973Z"
   },
   {
    "duration": 12,
    "start_time": "2022-04-09T19:48:17.981Z"
   },
   {
    "duration": 19,
    "start_time": "2022-04-09T19:48:17.996Z"
   },
   {
    "duration": 16,
    "start_time": "2022-04-09T19:48:18.017Z"
   },
   {
    "duration": 5,
    "start_time": "2022-04-09T19:48:18.074Z"
   },
   {
    "duration": 7,
    "start_time": "2022-04-09T19:48:18.081Z"
   },
   {
    "duration": 7,
    "start_time": "2022-04-09T19:48:18.090Z"
   },
   {
    "duration": 6,
    "start_time": "2022-04-09T19:48:18.099Z"
   },
   {
    "duration": 6,
    "start_time": "2022-04-09T19:48:18.107Z"
   },
   {
    "duration": 1169,
    "start_time": "2022-04-09T19:48:18.115Z"
   },
   {
    "duration": 420,
    "start_time": "2022-04-09T19:48:19.286Z"
   },
   {
    "duration": 376,
    "start_time": "2022-04-09T19:48:19.710Z"
   },
   {
    "duration": 26,
    "start_time": "2022-04-09T19:48:20.089Z"
   },
   {
    "duration": 10,
    "start_time": "2022-04-09T19:48:20.117Z"
   },
   {
    "duration": 596,
    "start_time": "2022-04-09T19:48:20.130Z"
   },
   {
    "duration": 4,
    "start_time": "2022-04-09T19:48:20.729Z"
   },
   {
    "duration": 21,
    "start_time": "2022-04-09T19:48:20.735Z"
   },
   {
    "duration": 17,
    "start_time": "2022-04-09T19:48:20.758Z"
   },
   {
    "duration": 9,
    "start_time": "2022-04-09T19:48:20.777Z"
   },
   {
    "duration": 23,
    "start_time": "2022-04-09T19:48:20.788Z"
   },
   {
    "duration": 30,
    "start_time": "2022-04-09T19:48:27.869Z"
   },
   {
    "duration": 29,
    "start_time": "2022-04-09T19:48:31.133Z"
   },
   {
    "duration": 162,
    "start_time": "2022-04-09T19:48:40.984Z"
   },
   {
    "duration": 29,
    "start_time": "2022-04-09T19:48:56.697Z"
   },
   {
    "duration": 7,
    "start_time": "2022-04-09T19:49:55.191Z"
   },
   {
    "duration": 11,
    "start_time": "2022-04-09T19:51:13.283Z"
   },
   {
    "duration": 1927,
    "start_time": "2022-04-09T19:51:34.013Z"
   },
   {
    "duration": 813,
    "start_time": "2022-04-09T19:51:35.942Z"
   },
   {
    "duration": 31,
    "start_time": "2022-04-09T19:51:36.757Z"
   },
   {
    "duration": 3,
    "start_time": "2022-04-09T19:51:36.791Z"
   },
   {
    "duration": 19,
    "start_time": "2022-04-09T19:51:36.796Z"
   },
   {
    "duration": 5,
    "start_time": "2022-04-09T19:51:36.817Z"
   },
   {
    "duration": 6,
    "start_time": "2022-04-09T19:51:36.824Z"
   },
   {
    "duration": 5,
    "start_time": "2022-04-09T19:51:36.874Z"
   },
   {
    "duration": 7,
    "start_time": "2022-04-09T19:51:36.881Z"
   },
   {
    "duration": 10,
    "start_time": "2022-04-09T19:51:36.891Z"
   },
   {
    "duration": 423,
    "start_time": "2022-04-09T19:51:36.903Z"
   },
   {
    "duration": 397,
    "start_time": "2022-04-09T19:51:37.328Z"
   },
   {
    "duration": 5,
    "start_time": "2022-04-09T19:51:37.727Z"
   },
   {
    "duration": 133,
    "start_time": "2022-04-09T19:51:37.734Z"
   },
   {
    "duration": 18,
    "start_time": "2022-04-09T19:51:37.874Z"
   },
   {
    "duration": 4,
    "start_time": "2022-04-09T19:51:37.894Z"
   },
   {
    "duration": 8,
    "start_time": "2022-04-09T19:51:37.900Z"
   },
   {
    "duration": 12,
    "start_time": "2022-04-09T19:51:37.910Z"
   },
   {
    "duration": 60,
    "start_time": "2022-04-09T19:51:37.924Z"
   },
   {
    "duration": 15,
    "start_time": "2022-04-09T19:51:37.986Z"
   },
   {
    "duration": 6,
    "start_time": "2022-04-09T19:51:38.003Z"
   },
   {
    "duration": 7,
    "start_time": "2022-04-09T19:51:38.011Z"
   },
   {
    "duration": 15,
    "start_time": "2022-04-09T19:51:38.020Z"
   },
   {
    "duration": 37,
    "start_time": "2022-04-09T19:51:38.037Z"
   },
   {
    "duration": 6,
    "start_time": "2022-04-09T19:51:38.077Z"
   },
   {
    "duration": 1130,
    "start_time": "2022-04-09T19:51:38.085Z"
   },
   {
    "duration": 401,
    "start_time": "2022-04-09T19:51:39.218Z"
   },
   {
    "duration": 374,
    "start_time": "2022-04-09T19:51:39.624Z"
   },
   {
    "duration": 27,
    "start_time": "2022-04-09T19:51:40.000Z"
   },
   {
    "duration": 10,
    "start_time": "2022-04-09T19:51:40.029Z"
   },
   {
    "duration": 603,
    "start_time": "2022-04-09T19:51:40.041Z"
   },
   {
    "duration": 4,
    "start_time": "2022-04-09T19:51:40.647Z"
   },
   {
    "duration": 22,
    "start_time": "2022-04-09T19:51:40.653Z"
   },
   {
    "duration": 13,
    "start_time": "2022-04-09T19:51:40.678Z"
   },
   {
    "duration": 12,
    "start_time": "2022-04-09T19:51:40.693Z"
   },
   {
    "duration": 15,
    "start_time": "2022-04-09T19:51:40.707Z"
   },
   {
    "duration": 12,
    "start_time": "2022-04-09T19:51:44.325Z"
   },
   {
    "duration": 28,
    "start_time": "2022-04-09T19:53:12.733Z"
   },
   {
    "duration": 6,
    "start_time": "2022-04-09T19:53:14.717Z"
   },
   {
    "duration": 1927,
    "start_time": "2022-04-09T19:53:27.917Z"
   },
   {
    "duration": 858,
    "start_time": "2022-04-09T19:53:29.847Z"
   },
   {
    "duration": 27,
    "start_time": "2022-04-09T19:53:30.708Z"
   },
   {
    "duration": 3,
    "start_time": "2022-04-09T19:53:30.738Z"
   },
   {
    "duration": 43,
    "start_time": "2022-04-09T19:53:30.743Z"
   },
   {
    "duration": 5,
    "start_time": "2022-04-09T19:53:30.788Z"
   },
   {
    "duration": 9,
    "start_time": "2022-04-09T19:53:30.795Z"
   },
   {
    "duration": 7,
    "start_time": "2022-04-09T19:53:30.807Z"
   },
   {
    "duration": 7,
    "start_time": "2022-04-09T19:53:30.816Z"
   },
   {
    "duration": 54,
    "start_time": "2022-04-09T19:53:30.827Z"
   },
   {
    "duration": 430,
    "start_time": "2022-04-09T19:53:30.883Z"
   },
   {
    "duration": 399,
    "start_time": "2022-04-09T19:53:31.315Z"
   },
   {
    "duration": 7,
    "start_time": "2022-04-09T19:53:31.716Z"
   },
   {
    "duration": 153,
    "start_time": "2022-04-09T19:53:31.726Z"
   },
   {
    "duration": 27,
    "start_time": "2022-04-09T19:53:31.883Z"
   },
   {
    "duration": 4,
    "start_time": "2022-04-09T19:53:31.913Z"
   },
   {
    "duration": 14,
    "start_time": "2022-04-09T19:53:31.920Z"
   },
   {
    "duration": 11,
    "start_time": "2022-04-09T19:53:31.974Z"
   },
   {
    "duration": 25,
    "start_time": "2022-04-09T19:53:31.987Z"
   },
   {
    "duration": 16,
    "start_time": "2022-04-09T19:53:32.015Z"
   },
   {
    "duration": 60,
    "start_time": "2022-04-09T19:53:32.034Z"
   },
   {
    "duration": 4,
    "start_time": "2022-04-09T19:53:32.096Z"
   },
   {
    "duration": 12,
    "start_time": "2022-04-09T19:53:32.102Z"
   },
   {
    "duration": 11,
    "start_time": "2022-04-09T19:53:32.116Z"
   },
   {
    "duration": 6,
    "start_time": "2022-04-09T19:53:32.130Z"
   },
   {
    "duration": 38,
    "start_time": "2022-04-09T19:53:32.138Z"
   },
   {
    "duration": 1223,
    "start_time": "2022-04-09T19:53:32.178Z"
   },
   {
    "duration": 419,
    "start_time": "2022-04-09T19:53:33.405Z"
   },
   {
    "duration": 394,
    "start_time": "2022-04-09T19:53:33.827Z"
   },
   {
    "duration": 51,
    "start_time": "2022-04-09T19:53:34.224Z"
   },
   {
    "duration": 12,
    "start_time": "2022-04-09T19:53:34.279Z"
   },
   {
    "duration": 634,
    "start_time": "2022-04-09T19:53:34.295Z"
   },
   {
    "duration": 4,
    "start_time": "2022-04-09T19:53:34.932Z"
   },
   {
    "duration": 6,
    "start_time": "2022-04-09T19:53:34.938Z"
   },
   {
    "duration": 29,
    "start_time": "2022-04-09T19:53:34.946Z"
   },
   {
    "duration": 4,
    "start_time": "2022-04-09T19:53:34.978Z"
   },
   {
    "duration": 13,
    "start_time": "2022-04-09T19:53:34.984Z"
   },
   {
    "duration": 16,
    "start_time": "2022-04-09T19:53:35.000Z"
   },
   {
    "duration": 65,
    "start_time": "2022-04-09T19:53:35.019Z"
   },
   {
    "duration": 168,
    "start_time": "2022-04-09T19:53:35.086Z"
   },
   {
    "duration": 0,
    "start_time": "2022-04-09T19:53:35.256Z"
   },
   {
    "duration": 0,
    "start_time": "2022-04-09T19:53:35.258Z"
   },
   {
    "duration": 0,
    "start_time": "2022-04-09T19:53:35.260Z"
   },
   {
    "duration": 0,
    "start_time": "2022-04-09T19:53:35.274Z"
   },
   {
    "duration": 17,
    "start_time": "2022-04-09T19:53:46.520Z"
   },
   {
    "duration": 11,
    "start_time": "2022-04-09T19:53:49.158Z"
   },
   {
    "duration": 12,
    "start_time": "2022-04-09T19:54:24.493Z"
   },
   {
    "duration": 1967,
    "start_time": "2022-04-09T19:54:44.389Z"
   },
   {
    "duration": 827,
    "start_time": "2022-04-09T19:54:46.359Z"
   },
   {
    "duration": 28,
    "start_time": "2022-04-09T19:54:47.188Z"
   },
   {
    "duration": 4,
    "start_time": "2022-04-09T19:54:47.218Z"
   },
   {
    "duration": 53,
    "start_time": "2022-04-09T19:54:47.226Z"
   },
   {
    "duration": 6,
    "start_time": "2022-04-09T19:54:47.281Z"
   },
   {
    "duration": 13,
    "start_time": "2022-04-09T19:54:47.289Z"
   },
   {
    "duration": 8,
    "start_time": "2022-04-09T19:54:47.304Z"
   },
   {
    "duration": 5,
    "start_time": "2022-04-09T19:54:47.314Z"
   },
   {
    "duration": 55,
    "start_time": "2022-04-09T19:54:47.322Z"
   },
   {
    "duration": 406,
    "start_time": "2022-04-09T19:54:47.379Z"
   },
   {
    "duration": 394,
    "start_time": "2022-04-09T19:54:47.787Z"
   },
   {
    "duration": 7,
    "start_time": "2022-04-09T19:54:48.183Z"
   },
   {
    "duration": 143,
    "start_time": "2022-04-09T19:54:48.194Z"
   },
   {
    "duration": 35,
    "start_time": "2022-04-09T19:54:48.339Z"
   },
   {
    "duration": 4,
    "start_time": "2022-04-09T19:54:48.376Z"
   },
   {
    "duration": 10,
    "start_time": "2022-04-09T19:54:48.383Z"
   },
   {
    "duration": 23,
    "start_time": "2022-04-09T19:54:48.395Z"
   },
   {
    "duration": 23,
    "start_time": "2022-04-09T19:54:48.421Z"
   },
   {
    "duration": 39,
    "start_time": "2022-04-09T19:54:48.447Z"
   },
   {
    "duration": 24,
    "start_time": "2022-04-09T19:54:48.489Z"
   },
   {
    "duration": 5,
    "start_time": "2022-04-09T19:54:48.515Z"
   },
   {
    "duration": 18,
    "start_time": "2022-04-09T19:54:48.522Z"
   },
   {
    "duration": 32,
    "start_time": "2022-04-09T19:54:48.542Z"
   },
   {
    "duration": 19,
    "start_time": "2022-04-09T19:54:48.576Z"
   },
   {
    "duration": 6,
    "start_time": "2022-04-09T19:54:48.597Z"
   },
   {
    "duration": 1139,
    "start_time": "2022-04-09T19:54:48.606Z"
   },
   {
    "duration": 439,
    "start_time": "2022-04-09T19:54:49.747Z"
   },
   {
    "duration": 398,
    "start_time": "2022-04-09T19:54:50.188Z"
   },
   {
    "duration": 29,
    "start_time": "2022-04-09T19:54:50.588Z"
   },
   {
    "duration": 61,
    "start_time": "2022-04-09T19:54:50.619Z"
   },
   {
    "duration": 653,
    "start_time": "2022-04-09T19:54:50.683Z"
   },
   {
    "duration": 4,
    "start_time": "2022-04-09T19:54:51.338Z"
   },
   {
    "duration": 7,
    "start_time": "2022-04-09T19:54:51.345Z"
   },
   {
    "duration": 22,
    "start_time": "2022-04-09T19:54:51.354Z"
   },
   {
    "duration": 13,
    "start_time": "2022-04-09T19:54:51.378Z"
   },
   {
    "duration": 34,
    "start_time": "2022-04-09T19:54:55.755Z"
   },
   {
    "duration": 22,
    "start_time": "2022-04-09T19:55:04.536Z"
   },
   {
    "duration": 164,
    "start_time": "2022-04-09T19:55:12.369Z"
   },
   {
    "duration": 11,
    "start_time": "2022-04-09T19:55:23.293Z"
   },
   {
    "duration": 1946,
    "start_time": "2022-04-09T19:56:44.052Z"
   },
   {
    "duration": 823,
    "start_time": "2022-04-09T19:56:46.000Z"
   },
   {
    "duration": 28,
    "start_time": "2022-04-09T19:56:46.825Z"
   },
   {
    "duration": 19,
    "start_time": "2022-04-09T19:56:46.855Z"
   },
   {
    "duration": 17,
    "start_time": "2022-04-09T19:56:46.877Z"
   },
   {
    "duration": 5,
    "start_time": "2022-04-09T19:56:46.897Z"
   },
   {
    "duration": 7,
    "start_time": "2022-04-09T19:56:46.905Z"
   },
   {
    "duration": 5,
    "start_time": "2022-04-09T19:56:46.914Z"
   },
   {
    "duration": 5,
    "start_time": "2022-04-09T19:56:46.973Z"
   },
   {
    "duration": 10,
    "start_time": "2022-04-09T19:56:46.980Z"
   },
   {
    "duration": 425,
    "start_time": "2022-04-09T19:56:46.992Z"
   },
   {
    "duration": 396,
    "start_time": "2022-04-09T19:56:47.419Z"
   },
   {
    "duration": 7,
    "start_time": "2022-04-09T19:56:47.817Z"
   },
   {
    "duration": 140,
    "start_time": "2022-04-09T19:56:47.828Z"
   },
   {
    "duration": 21,
    "start_time": "2022-04-09T19:56:47.973Z"
   },
   {
    "duration": 4,
    "start_time": "2022-04-09T19:56:47.996Z"
   },
   {
    "duration": 6,
    "start_time": "2022-04-09T19:56:48.002Z"
   },
   {
    "duration": 9,
    "start_time": "2022-04-09T19:56:48.010Z"
   },
   {
    "duration": 59,
    "start_time": "2022-04-09T19:56:48.021Z"
   },
   {
    "duration": 17,
    "start_time": "2022-04-09T19:56:48.082Z"
   },
   {
    "duration": 24,
    "start_time": "2022-04-09T19:56:48.101Z"
   },
   {
    "duration": 6,
    "start_time": "2022-04-09T19:56:48.127Z"
   },
   {
    "duration": 7,
    "start_time": "2022-04-09T19:56:48.174Z"
   },
   {
    "duration": 8,
    "start_time": "2022-04-09T19:56:48.184Z"
   },
   {
    "duration": 10,
    "start_time": "2022-04-09T19:56:48.195Z"
   },
   {
    "duration": 8,
    "start_time": "2022-04-09T19:56:48.208Z"
   },
   {
    "duration": 1158,
    "start_time": "2022-04-09T19:56:48.218Z"
   },
   {
    "duration": 409,
    "start_time": "2022-04-09T19:56:49.379Z"
   },
   {
    "duration": 412,
    "start_time": "2022-04-09T19:56:49.790Z"
   },
   {
    "duration": 29,
    "start_time": "2022-04-09T19:56:50.204Z"
   },
   {
    "duration": 10,
    "start_time": "2022-04-09T19:56:50.235Z"
   },
   {
    "duration": 694,
    "start_time": "2022-04-09T19:56:50.247Z"
   },
   {
    "duration": 4,
    "start_time": "2022-04-09T19:56:50.943Z"
   },
   {
    "duration": 4,
    "start_time": "2022-04-09T19:56:50.974Z"
   },
   {
    "duration": 11,
    "start_time": "2022-04-09T19:56:50.981Z"
   },
   {
    "duration": 22,
    "start_time": "2022-04-09T19:56:50.994Z"
   },
   {
    "duration": 57,
    "start_time": "2022-04-09T19:56:51.018Z"
   },
   {
    "duration": 3,
    "start_time": "2022-04-09T19:56:51.077Z"
   },
   {
    "duration": 21,
    "start_time": "2022-04-09T19:56:59.862Z"
   },
   {
    "duration": 1085,
    "start_time": "2022-04-09T19:57:30.300Z"
   },
   {
    "duration": 898,
    "start_time": "2022-04-09T20:05:02.581Z"
   },
   {
    "duration": 697,
    "start_time": "2022-04-09T20:05:09.686Z"
   },
   {
    "duration": 784,
    "start_time": "2022-04-09T20:05:26.589Z"
   },
   {
    "duration": 2571,
    "start_time": "2022-04-09T20:06:51.956Z"
   },
   {
    "duration": 809,
    "start_time": "2022-04-09T20:09:15.271Z"
   },
   {
    "duration": 2662,
    "start_time": "2022-04-09T20:09:18.200Z"
   },
   {
    "duration": 14852,
    "start_time": "2022-04-09T20:10:41.942Z"
   },
   {
    "duration": 108,
    "start_time": "2022-04-09T20:13:09.021Z"
   },
   {
    "duration": 4,
    "start_time": "2022-04-09T20:15:19.096Z"
   },
   {
    "duration": 7,
    "start_time": "2022-04-09T20:15:46.206Z"
   },
   {
    "duration": 32,
    "start_time": "2022-04-09T20:15:53.437Z"
   },
   {
    "duration": 18,
    "start_time": "2022-04-09T20:16:37.719Z"
   },
   {
    "duration": 168,
    "start_time": "2022-04-09T20:16:46.507Z"
   },
   {
    "duration": 1981,
    "start_time": "2022-04-09T20:17:13.061Z"
   },
   {
    "duration": 815,
    "start_time": "2022-04-09T20:17:15.044Z"
   },
   {
    "duration": 31,
    "start_time": "2022-04-09T20:17:15.861Z"
   },
   {
    "duration": 4,
    "start_time": "2022-04-09T20:17:15.895Z"
   },
   {
    "duration": 22,
    "start_time": "2022-04-09T20:17:15.901Z"
   },
   {
    "duration": 5,
    "start_time": "2022-04-09T20:17:15.925Z"
   },
   {
    "duration": 45,
    "start_time": "2022-04-09T20:17:15.932Z"
   },
   {
    "duration": 6,
    "start_time": "2022-04-09T20:17:15.980Z"
   },
   {
    "duration": 5,
    "start_time": "2022-04-09T20:17:15.988Z"
   },
   {
    "duration": 10,
    "start_time": "2022-04-09T20:17:15.996Z"
   },
   {
    "duration": 441,
    "start_time": "2022-04-09T20:17:16.007Z"
   },
   {
    "duration": 402,
    "start_time": "2022-04-09T20:17:16.450Z"
   },
   {
    "duration": 6,
    "start_time": "2022-04-09T20:17:16.854Z"
   },
   {
    "duration": 137,
    "start_time": "2022-04-09T20:17:16.874Z"
   },
   {
    "duration": 22,
    "start_time": "2022-04-09T20:17:17.013Z"
   },
   {
    "duration": 5,
    "start_time": "2022-04-09T20:17:17.037Z"
   },
   {
    "duration": 7,
    "start_time": "2022-04-09T20:17:17.044Z"
   },
   {
    "duration": 11,
    "start_time": "2022-04-09T20:17:17.074Z"
   },
   {
    "duration": 23,
    "start_time": "2022-04-09T20:17:17.088Z"
   },
   {
    "duration": 67,
    "start_time": "2022-04-09T20:17:17.114Z"
   },
   {
    "duration": 24,
    "start_time": "2022-04-09T20:17:17.184Z"
   },
   {
    "duration": 4,
    "start_time": "2022-04-09T20:17:17.210Z"
   },
   {
    "duration": 7,
    "start_time": "2022-04-09T20:17:17.216Z"
   },
   {
    "duration": 49,
    "start_time": "2022-04-09T20:17:17.225Z"
   },
   {
    "duration": 9,
    "start_time": "2022-04-09T20:17:17.276Z"
   },
   {
    "duration": 7,
    "start_time": "2022-04-09T20:17:17.287Z"
   },
   {
    "duration": 1164,
    "start_time": "2022-04-09T20:17:17.296Z"
   },
   {
    "duration": 394,
    "start_time": "2022-04-09T20:17:18.475Z"
   },
   {
    "duration": 371,
    "start_time": "2022-04-09T20:17:18.874Z"
   },
   {
    "duration": 42,
    "start_time": "2022-04-09T20:17:19.247Z"
   },
   {
    "duration": 10,
    "start_time": "2022-04-09T20:17:19.291Z"
   },
   {
    "duration": 582,
    "start_time": "2022-04-09T20:17:19.303Z"
   },
   {
    "duration": 4,
    "start_time": "2022-04-09T20:17:19.887Z"
   },
   {
    "duration": 6,
    "start_time": "2022-04-09T20:17:19.893Z"
   },
   {
    "duration": 6,
    "start_time": "2022-04-09T20:17:19.901Z"
   },
   {
    "duration": 10,
    "start_time": "2022-04-09T20:17:19.909Z"
   },
   {
    "duration": 77,
    "start_time": "2022-04-09T20:17:19.921Z"
   },
   {
    "duration": 4,
    "start_time": "2022-04-09T20:17:20.000Z"
   },
   {
    "duration": 975,
    "start_time": "2022-04-09T20:17:20.005Z"
   },
   {
    "duration": 2727,
    "start_time": "2022-04-09T20:17:20.983Z"
   },
   {
    "duration": 14662,
    "start_time": "2022-04-09T20:17:23.712Z"
   },
   {
    "duration": 5,
    "start_time": "2022-04-09T20:17:38.377Z"
   },
   {
    "duration": 11,
    "start_time": "2022-04-09T20:17:38.384Z"
   },
   {
    "duration": 4,
    "start_time": "2022-04-09T20:17:43.183Z"
   },
   {
    "duration": 7,
    "start_time": "2022-04-09T20:17:45.524Z"
   },
   {
    "duration": 438,
    "start_time": "2022-04-09T20:24:54.643Z"
   },
   {
    "duration": 106,
    "start_time": "2022-04-09T20:29:24.114Z"
   },
   {
    "duration": 6,
    "start_time": "2022-04-09T20:29:51.059Z"
   },
   {
    "duration": 195,
    "start_time": "2022-04-09T20:32:05.201Z"
   },
   {
    "duration": 42,
    "start_time": "2022-04-09T20:32:31.449Z"
   },
   {
    "duration": 6,
    "start_time": "2022-04-09T20:32:35.447Z"
   },
   {
    "duration": 29,
    "start_time": "2022-04-09T20:32:56.473Z"
   },
   {
    "duration": 5,
    "start_time": "2022-04-09T20:33:42.536Z"
   },
   {
    "duration": 6,
    "start_time": "2022-04-09T20:33:46.419Z"
   },
   {
    "duration": 449,
    "start_time": "2022-04-09T20:33:48.235Z"
   },
   {
    "duration": 8,
    "start_time": "2022-04-09T20:33:50.528Z"
   },
   {
    "duration": 13,
    "start_time": "2022-04-09T20:33:53.743Z"
   },
   {
    "duration": 100,
    "start_time": "2022-04-09T20:33:57.038Z"
   },
   {
    "duration": 12,
    "start_time": "2022-04-09T20:34:14.203Z"
   },
   {
    "duration": 5,
    "start_time": "2022-04-09T21:37:15.121Z"
   },
   {
    "duration": 16,
    "start_time": "2022-04-09T21:37:27.609Z"
   },
   {
    "duration": 10,
    "start_time": "2022-04-09T21:37:33.643Z"
   },
   {
    "duration": 1637,
    "start_time": "2022-04-10T10:53:34.042Z"
   },
   {
    "duration": 610,
    "start_time": "2022-04-10T10:53:35.681Z"
   },
   {
    "duration": 16,
    "start_time": "2022-04-10T10:53:36.293Z"
   },
   {
    "duration": 2,
    "start_time": "2022-04-10T10:53:36.311Z"
   },
   {
    "duration": 21,
    "start_time": "2022-04-10T10:53:36.315Z"
   },
   {
    "duration": 3,
    "start_time": "2022-04-10T10:53:36.338Z"
   },
   {
    "duration": 23,
    "start_time": "2022-04-10T10:53:36.343Z"
   },
   {
    "duration": 7,
    "start_time": "2022-04-10T10:53:36.367Z"
   },
   {
    "duration": 25,
    "start_time": "2022-04-10T10:53:36.375Z"
   },
   {
    "duration": 14,
    "start_time": "2022-04-10T10:53:36.402Z"
   },
   {
    "duration": 214,
    "start_time": "2022-04-10T10:53:36.417Z"
   },
   {
    "duration": 194,
    "start_time": "2022-04-10T10:53:36.633Z"
   },
   {
    "duration": 5,
    "start_time": "2022-04-10T10:53:36.828Z"
   },
   {
    "duration": 93,
    "start_time": "2022-04-10T10:53:36.834Z"
   },
   {
    "duration": 15,
    "start_time": "2022-04-10T10:53:36.929Z"
   },
   {
    "duration": 3,
    "start_time": "2022-04-10T10:53:36.945Z"
   },
   {
    "duration": 5,
    "start_time": "2022-04-10T10:53:36.949Z"
   },
   {
    "duration": 28,
    "start_time": "2022-04-10T10:53:36.956Z"
   },
   {
    "duration": 13,
    "start_time": "2022-04-10T10:53:36.985Z"
   },
   {
    "duration": 11,
    "start_time": "2022-04-10T10:53:36.999Z"
   },
   {
    "duration": 14,
    "start_time": "2022-04-10T10:53:37.012Z"
   },
   {
    "duration": 4,
    "start_time": "2022-04-10T10:53:37.027Z"
   },
   {
    "duration": 5,
    "start_time": "2022-04-10T10:53:37.032Z"
   },
   {
    "duration": 6,
    "start_time": "2022-04-10T10:53:37.038Z"
   },
   {
    "duration": 5,
    "start_time": "2022-04-10T10:53:37.045Z"
   },
   {
    "duration": 30,
    "start_time": "2022-04-10T10:53:37.052Z"
   },
   {
    "duration": 598,
    "start_time": "2022-04-10T10:53:37.084Z"
   },
   {
    "duration": 215,
    "start_time": "2022-04-10T10:53:37.685Z"
   },
   {
    "duration": 191,
    "start_time": "2022-04-10T10:53:37.901Z"
   },
   {
    "duration": 16,
    "start_time": "2022-04-10T10:53:38.094Z"
   },
   {
    "duration": 7,
    "start_time": "2022-04-10T10:53:38.111Z"
   },
   {
    "duration": 303,
    "start_time": "2022-04-10T10:53:38.119Z"
   },
   {
    "duration": 4,
    "start_time": "2022-04-10T10:53:38.423Z"
   },
   {
    "duration": 4,
    "start_time": "2022-04-10T10:53:38.429Z"
   },
   {
    "duration": 4,
    "start_time": "2022-04-10T10:53:38.434Z"
   },
   {
    "duration": 8,
    "start_time": "2022-04-10T10:53:38.440Z"
   },
   {
    "duration": 32,
    "start_time": "2022-04-10T10:53:38.450Z"
   },
   {
    "duration": 802,
    "start_time": "2022-04-10T10:53:38.483Z"
   },
   {
    "duration": 2111,
    "start_time": "2022-04-10T10:53:39.290Z"
   },
   {
    "duration": 10767,
    "start_time": "2022-04-10T10:53:41.403Z"
   },
   {
    "duration": 9,
    "start_time": "2022-04-10T10:53:52.171Z"
   },
   {
    "duration": 8,
    "start_time": "2022-04-10T10:53:52.182Z"
   },
   {
    "duration": 296,
    "start_time": "2022-04-10T10:53:52.192Z"
   },
   {
    "duration": 93,
    "start_time": "2022-04-10T10:53:52.490Z"
   },
   {
    "duration": 3,
    "start_time": "2022-04-10T10:56:00.803Z"
   },
   {
    "duration": 1542,
    "start_time": "2022-04-10T10:56:10.019Z"
   },
   {
    "duration": 660,
    "start_time": "2022-04-10T10:56:11.564Z"
   },
   {
    "duration": 17,
    "start_time": "2022-04-10T10:56:12.226Z"
   },
   {
    "duration": 2,
    "start_time": "2022-04-10T10:56:12.245Z"
   },
   {
    "duration": 14,
    "start_time": "2022-04-10T10:56:12.249Z"
   },
   {
    "duration": 17,
    "start_time": "2022-04-10T10:56:12.264Z"
   },
   {
    "duration": 7,
    "start_time": "2022-04-10T10:56:12.283Z"
   },
   {
    "duration": 7,
    "start_time": "2022-04-10T10:56:12.292Z"
   },
   {
    "duration": 6,
    "start_time": "2022-04-10T10:56:12.300Z"
   },
   {
    "duration": 13,
    "start_time": "2022-04-10T10:56:12.308Z"
   },
   {
    "duration": 237,
    "start_time": "2022-04-10T10:56:12.323Z"
   },
   {
    "duration": 214,
    "start_time": "2022-04-10T10:56:12.562Z"
   },
   {
    "duration": 5,
    "start_time": "2022-04-10T10:56:12.777Z"
   },
   {
    "duration": 82,
    "start_time": "2022-04-10T10:56:12.785Z"
   },
   {
    "duration": 22,
    "start_time": "2022-04-10T10:56:12.868Z"
   },
   {
    "duration": 3,
    "start_time": "2022-04-10T10:56:12.891Z"
   },
   {
    "duration": 5,
    "start_time": "2022-04-10T10:56:12.895Z"
   },
   {
    "duration": 8,
    "start_time": "2022-04-10T10:56:12.901Z"
   },
   {
    "duration": 12,
    "start_time": "2022-04-10T10:56:12.910Z"
   },
   {
    "duration": 11,
    "start_time": "2022-04-10T10:56:12.923Z"
   },
   {
    "duration": 44,
    "start_time": "2022-04-10T10:56:12.936Z"
   },
   {
    "duration": 3,
    "start_time": "2022-04-10T10:56:12.982Z"
   },
   {
    "duration": 6,
    "start_time": "2022-04-10T10:56:12.987Z"
   },
   {
    "duration": 6,
    "start_time": "2022-04-10T10:56:12.994Z"
   },
   {
    "duration": 9,
    "start_time": "2022-04-10T10:56:13.001Z"
   },
   {
    "duration": 6,
    "start_time": "2022-04-10T10:56:13.011Z"
   },
   {
    "duration": 613,
    "start_time": "2022-04-10T10:56:13.018Z"
   },
   {
    "duration": 215,
    "start_time": "2022-04-10T10:56:13.632Z"
   },
   {
    "duration": 205,
    "start_time": "2022-04-10T10:56:13.848Z"
   },
   {
    "duration": 17,
    "start_time": "2022-04-10T10:56:14.055Z"
   },
   {
    "duration": 8,
    "start_time": "2022-04-10T10:56:14.081Z"
   },
   {
    "duration": 315,
    "start_time": "2022-04-10T10:56:14.091Z"
   },
   {
    "duration": 3,
    "start_time": "2022-04-10T10:56:14.408Z"
   },
   {
    "duration": 5,
    "start_time": "2022-04-10T10:56:14.412Z"
   },
   {
    "duration": 4,
    "start_time": "2022-04-10T10:56:14.418Z"
   },
   {
    "duration": 7,
    "start_time": "2022-04-10T10:56:14.424Z"
   },
   {
    "duration": 18,
    "start_time": "2022-04-10T10:56:14.433Z"
   },
   {
    "duration": 629,
    "start_time": "2022-04-10T10:56:14.453Z"
   },
   {
    "duration": 2045,
    "start_time": "2022-04-10T10:56:15.084Z"
   },
   {
    "duration": 10628,
    "start_time": "2022-04-10T10:56:17.131Z"
   },
   {
    "duration": 3,
    "start_time": "2022-04-10T10:56:27.763Z"
   },
   {
    "duration": 14,
    "start_time": "2022-04-10T10:56:27.767Z"
   },
   {
    "duration": 303,
    "start_time": "2022-04-10T10:56:27.782Z"
   },
   {
    "duration": 97,
    "start_time": "2022-04-10T10:56:28.087Z"
   },
   {
    "duration": 3,
    "start_time": "2022-04-10T10:57:29.723Z"
   },
   {
    "duration": 14,
    "start_time": "2022-04-10T11:02:11.245Z"
   },
   {
    "duration": 1444,
    "start_time": "2022-04-10T11:02:20.061Z"
   },
   {
    "duration": 616,
    "start_time": "2022-04-10T11:02:21.507Z"
   },
   {
    "duration": 16,
    "start_time": "2022-04-10T11:02:22.125Z"
   },
   {
    "duration": 3,
    "start_time": "2022-04-10T11:02:22.142Z"
   },
   {
    "duration": 13,
    "start_time": "2022-04-10T11:02:22.147Z"
   },
   {
    "duration": 21,
    "start_time": "2022-04-10T11:02:22.161Z"
   },
   {
    "duration": 5,
    "start_time": "2022-04-10T11:02:22.184Z"
   },
   {
    "duration": 6,
    "start_time": "2022-04-10T11:02:22.191Z"
   },
   {
    "duration": 8,
    "start_time": "2022-04-10T11:02:22.198Z"
   },
   {
    "duration": 16,
    "start_time": "2022-04-10T11:02:22.207Z"
   },
   {
    "duration": 211,
    "start_time": "2022-04-10T11:02:22.224Z"
   },
   {
    "duration": 201,
    "start_time": "2022-04-10T11:02:22.437Z"
   },
   {
    "duration": 4,
    "start_time": "2022-04-10T11:02:22.639Z"
   },
   {
    "duration": 93,
    "start_time": "2022-04-10T11:02:22.646Z"
   },
   {
    "duration": 13,
    "start_time": "2022-04-10T11:02:22.740Z"
   },
   {
    "duration": 2,
    "start_time": "2022-04-10T11:02:22.755Z"
   },
   {
    "duration": 5,
    "start_time": "2022-04-10T11:02:22.759Z"
   },
   {
    "duration": 20,
    "start_time": "2022-04-10T11:02:22.765Z"
   },
   {
    "duration": 15,
    "start_time": "2022-04-10T11:02:22.786Z"
   },
   {
    "duration": 11,
    "start_time": "2022-04-10T11:02:22.802Z"
   },
   {
    "duration": 16,
    "start_time": "2022-04-10T11:02:22.815Z"
   },
   {
    "duration": 118,
    "start_time": "2022-04-10T11:02:22.832Z"
   },
   {
    "duration": 0,
    "start_time": "2022-04-10T11:02:22.952Z"
   },
   {
    "duration": 0,
    "start_time": "2022-04-10T11:02:22.953Z"
   },
   {
    "duration": 0,
    "start_time": "2022-04-10T11:02:22.954Z"
   },
   {
    "duration": 0,
    "start_time": "2022-04-10T11:02:22.955Z"
   },
   {
    "duration": 0,
    "start_time": "2022-04-10T11:02:22.956Z"
   },
   {
    "duration": 0,
    "start_time": "2022-04-10T11:02:22.957Z"
   },
   {
    "duration": 0,
    "start_time": "2022-04-10T11:02:22.958Z"
   },
   {
    "duration": 0,
    "start_time": "2022-04-10T11:02:22.959Z"
   },
   {
    "duration": 0,
    "start_time": "2022-04-10T11:02:22.960Z"
   },
   {
    "duration": 0,
    "start_time": "2022-04-10T11:02:22.961Z"
   },
   {
    "duration": 0,
    "start_time": "2022-04-10T11:02:22.962Z"
   },
   {
    "duration": 0,
    "start_time": "2022-04-10T11:02:22.980Z"
   },
   {
    "duration": 0,
    "start_time": "2022-04-10T11:02:22.982Z"
   },
   {
    "duration": 0,
    "start_time": "2022-04-10T11:02:22.982Z"
   },
   {
    "duration": 0,
    "start_time": "2022-04-10T11:02:22.983Z"
   },
   {
    "duration": 0,
    "start_time": "2022-04-10T11:02:22.984Z"
   },
   {
    "duration": 0,
    "start_time": "2022-04-10T11:02:22.985Z"
   },
   {
    "duration": 0,
    "start_time": "2022-04-10T11:02:22.986Z"
   },
   {
    "duration": 0,
    "start_time": "2022-04-10T11:02:22.987Z"
   },
   {
    "duration": 0,
    "start_time": "2022-04-10T11:02:22.988Z"
   },
   {
    "duration": 0,
    "start_time": "2022-04-10T11:02:22.989Z"
   },
   {
    "duration": 0,
    "start_time": "2022-04-10T11:02:22.990Z"
   },
   {
    "duration": 1428,
    "start_time": "2022-04-10T11:03:30.528Z"
   },
   {
    "duration": 605,
    "start_time": "2022-04-10T11:03:31.958Z"
   },
   {
    "duration": 22,
    "start_time": "2022-04-10T11:03:32.565Z"
   },
   {
    "duration": 3,
    "start_time": "2022-04-10T11:03:32.589Z"
   },
   {
    "duration": 14,
    "start_time": "2022-04-10T11:03:32.595Z"
   },
   {
    "duration": 3,
    "start_time": "2022-04-10T11:03:32.610Z"
   },
   {
    "duration": 6,
    "start_time": "2022-04-10T11:03:32.615Z"
   },
   {
    "duration": 5,
    "start_time": "2022-04-10T11:03:32.622Z"
   },
   {
    "duration": 6,
    "start_time": "2022-04-10T11:03:32.629Z"
   },
   {
    "duration": 9,
    "start_time": "2022-04-10T11:03:32.636Z"
   },
   {
    "duration": 229,
    "start_time": "2022-04-10T11:03:32.646Z"
   },
   {
    "duration": 204,
    "start_time": "2022-04-10T11:03:32.880Z"
   },
   {
    "duration": 3,
    "start_time": "2022-04-10T11:03:33.086Z"
   },
   {
    "duration": 90,
    "start_time": "2022-04-10T11:03:33.092Z"
   },
   {
    "duration": 14,
    "start_time": "2022-04-10T11:03:33.183Z"
   },
   {
    "duration": 5,
    "start_time": "2022-04-10T11:03:33.198Z"
   },
   {
    "duration": 8,
    "start_time": "2022-04-10T11:03:33.205Z"
   },
   {
    "duration": 8,
    "start_time": "2022-04-10T11:03:33.215Z"
   },
   {
    "duration": 21,
    "start_time": "2022-04-10T11:03:33.224Z"
   },
   {
    "duration": 11,
    "start_time": "2022-04-10T11:03:33.247Z"
   },
   {
    "duration": 32,
    "start_time": "2022-04-10T11:03:33.260Z"
   },
   {
    "duration": 3,
    "start_time": "2022-04-10T11:03:33.293Z"
   },
   {
    "duration": 6,
    "start_time": "2022-04-10T11:03:33.298Z"
   },
   {
    "duration": 5,
    "start_time": "2022-04-10T11:03:33.306Z"
   },
   {
    "duration": 6,
    "start_time": "2022-04-10T11:03:33.312Z"
   },
   {
    "duration": 6,
    "start_time": "2022-04-10T11:03:33.320Z"
   },
   {
    "duration": 609,
    "start_time": "2022-04-10T11:03:33.328Z"
   },
   {
    "duration": 212,
    "start_time": "2022-04-10T11:03:33.939Z"
   },
   {
    "duration": 203,
    "start_time": "2022-04-10T11:03:34.152Z"
   },
   {
    "duration": 16,
    "start_time": "2022-04-10T11:03:34.357Z"
   },
   {
    "duration": 6,
    "start_time": "2022-04-10T11:03:34.380Z"
   },
   {
    "duration": 308,
    "start_time": "2022-04-10T11:03:34.387Z"
   },
   {
    "duration": 2,
    "start_time": "2022-04-10T11:03:34.697Z"
   },
   {
    "duration": 5,
    "start_time": "2022-04-10T11:03:34.701Z"
   },
   {
    "duration": 5,
    "start_time": "2022-04-10T11:03:34.707Z"
   },
   {
    "duration": 8,
    "start_time": "2022-04-10T11:03:34.713Z"
   },
   {
    "duration": 22,
    "start_time": "2022-04-10T11:03:34.723Z"
   },
   {
    "duration": 742,
    "start_time": "2022-04-10T11:03:34.746Z"
   },
   {
    "duration": 1986,
    "start_time": "2022-04-10T11:03:35.490Z"
   },
   {
    "duration": 11007,
    "start_time": "2022-04-10T11:03:37.480Z"
   },
   {
    "duration": 3,
    "start_time": "2022-04-10T11:03:48.491Z"
   },
   {
    "duration": 10,
    "start_time": "2022-04-10T11:03:48.496Z"
   },
   {
    "duration": 380,
    "start_time": "2022-04-10T11:03:48.508Z"
   },
   {
    "duration": 10,
    "start_time": "2022-04-10T11:03:48.980Z"
   },
   {
    "duration": 7,
    "start_time": "2022-04-10T11:04:18.939Z"
   },
   {
    "duration": 9,
    "start_time": "2022-04-10T11:05:30.311Z"
   },
   {
    "duration": 9,
    "start_time": "2022-04-10T11:05:36.652Z"
   },
   {
    "duration": 5,
    "start_time": "2022-04-10T11:05:54.336Z"
   },
   {
    "duration": 3,
    "start_time": "2022-04-10T11:06:01.813Z"
   },
   {
    "duration": 4,
    "start_time": "2022-04-10T11:06:19.524Z"
   },
   {
    "duration": 1442,
    "start_time": "2022-04-10T11:09:41.609Z"
   },
   {
    "duration": 913,
    "start_time": "2022-04-10T11:09:43.053Z"
   },
   {
    "duration": 22,
    "start_time": "2022-04-10T11:09:43.968Z"
   },
   {
    "duration": 3,
    "start_time": "2022-04-10T11:09:43.993Z"
   },
   {
    "duration": 16,
    "start_time": "2022-04-10T11:09:43.997Z"
   },
   {
    "duration": 4,
    "start_time": "2022-04-10T11:09:44.014Z"
   },
   {
    "duration": 4,
    "start_time": "2022-04-10T11:09:44.020Z"
   },
   {
    "duration": 5,
    "start_time": "2022-04-10T11:09:44.025Z"
   },
   {
    "duration": 4,
    "start_time": "2022-04-10T11:09:44.032Z"
   },
   {
    "duration": 7,
    "start_time": "2022-04-10T11:09:44.039Z"
   },
   {
    "duration": 215,
    "start_time": "2022-04-10T11:09:44.080Z"
   },
   {
    "duration": 208,
    "start_time": "2022-04-10T11:09:44.297Z"
   },
   {
    "duration": 4,
    "start_time": "2022-04-10T11:09:44.508Z"
   },
   {
    "duration": 108,
    "start_time": "2022-04-10T11:09:44.514Z"
   },
   {
    "duration": 13,
    "start_time": "2022-04-10T11:09:44.624Z"
   },
   {
    "duration": 2,
    "start_time": "2022-04-10T11:09:44.639Z"
   },
   {
    "duration": 7,
    "start_time": "2022-04-10T11:09:44.643Z"
   },
   {
    "duration": 9,
    "start_time": "2022-04-10T11:09:44.651Z"
   },
   {
    "duration": 25,
    "start_time": "2022-04-10T11:09:44.662Z"
   },
   {
    "duration": 10,
    "start_time": "2022-04-10T11:09:44.689Z"
   },
   {
    "duration": 18,
    "start_time": "2022-04-10T11:09:44.701Z"
   },
   {
    "duration": 4,
    "start_time": "2022-04-10T11:09:44.720Z"
   },
   {
    "duration": 7,
    "start_time": "2022-04-10T11:09:44.725Z"
   },
   {
    "duration": 8,
    "start_time": "2022-04-10T11:09:44.734Z"
   },
   {
    "duration": 11,
    "start_time": "2022-04-10T11:09:44.743Z"
   },
   {
    "duration": 27,
    "start_time": "2022-04-10T11:09:44.756Z"
   },
   {
    "duration": 924,
    "start_time": "2022-04-10T11:09:44.784Z"
   },
   {
    "duration": 336,
    "start_time": "2022-04-10T11:09:45.712Z"
   },
   {
    "duration": 358,
    "start_time": "2022-04-10T11:09:46.050Z"
   },
   {
    "duration": 17,
    "start_time": "2022-04-10T11:09:46.410Z"
   },
   {
    "duration": 7,
    "start_time": "2022-04-10T11:09:46.429Z"
   },
   {
    "duration": 358,
    "start_time": "2022-04-10T11:09:46.437Z"
   },
   {
    "duration": 3,
    "start_time": "2022-04-10T11:09:46.796Z"
   },
   {
    "duration": 5,
    "start_time": "2022-04-10T11:09:46.800Z"
   },
   {
    "duration": 4,
    "start_time": "2022-04-10T11:09:46.807Z"
   },
   {
    "duration": 9,
    "start_time": "2022-04-10T11:09:46.813Z"
   },
   {
    "duration": 22,
    "start_time": "2022-04-10T11:09:46.823Z"
   },
   {
    "duration": 1038,
    "start_time": "2022-04-10T11:09:46.847Z"
   },
   {
    "duration": 1994,
    "start_time": "2022-04-10T11:09:47.887Z"
   },
   {
    "duration": 10879,
    "start_time": "2022-04-10T11:09:49.882Z"
   },
   {
    "duration": 3,
    "start_time": "2022-04-10T11:10:00.762Z"
   },
   {
    "duration": 30,
    "start_time": "2022-04-10T11:10:00.767Z"
   },
   {
    "duration": 398,
    "start_time": "2022-04-10T11:10:00.799Z"
   },
   {
    "duration": 102,
    "start_time": "2022-04-10T11:10:01.280Z"
   },
   {
    "duration": 19,
    "start_time": "2022-04-10T11:10:01.384Z"
   },
   {
    "duration": 19,
    "start_time": "2022-04-10T11:10:01.405Z"
   },
   {
    "duration": 7,
    "start_time": "2022-04-10T11:10:26.317Z"
   },
   {
    "duration": 7,
    "start_time": "2022-04-10T11:12:31.859Z"
   },
   {
    "duration": 6,
    "start_time": "2022-04-10T11:12:39.927Z"
   },
   {
    "duration": 153,
    "start_time": "2022-04-10T11:13:36.211Z"
   },
   {
    "duration": 1534,
    "start_time": "2022-04-10T11:21:08.532Z"
   },
   {
    "duration": 657,
    "start_time": "2022-04-10T11:21:10.068Z"
   },
   {
    "duration": 19,
    "start_time": "2022-04-10T11:21:10.727Z"
   },
   {
    "duration": 2,
    "start_time": "2022-04-10T11:21:10.748Z"
   },
   {
    "duration": 30,
    "start_time": "2022-04-10T11:21:10.752Z"
   },
   {
    "duration": 4,
    "start_time": "2022-04-10T11:21:10.783Z"
   },
   {
    "duration": 5,
    "start_time": "2022-04-10T11:21:10.788Z"
   },
   {
    "duration": 5,
    "start_time": "2022-04-10T11:21:10.794Z"
   },
   {
    "duration": 5,
    "start_time": "2022-04-10T11:21:10.801Z"
   },
   {
    "duration": 8,
    "start_time": "2022-04-10T11:21:10.808Z"
   },
   {
    "duration": 242,
    "start_time": "2022-04-10T11:21:10.818Z"
   },
   {
    "duration": 211,
    "start_time": "2022-04-10T11:21:11.062Z"
   },
   {
    "duration": 8,
    "start_time": "2022-04-10T11:21:11.275Z"
   },
   {
    "duration": 97,
    "start_time": "2022-04-10T11:21:11.285Z"
   },
   {
    "duration": 14,
    "start_time": "2022-04-10T11:21:11.383Z"
   },
   {
    "duration": 3,
    "start_time": "2022-04-10T11:21:11.398Z"
   },
   {
    "duration": 13,
    "start_time": "2022-04-10T11:21:11.402Z"
   },
   {
    "duration": 9,
    "start_time": "2022-04-10T11:21:11.416Z"
   },
   {
    "duration": 15,
    "start_time": "2022-04-10T11:21:11.426Z"
   },
   {
    "duration": 13,
    "start_time": "2022-04-10T11:21:11.443Z"
   },
   {
    "duration": 35,
    "start_time": "2022-04-10T11:21:11.457Z"
   },
   {
    "duration": 3,
    "start_time": "2022-04-10T11:21:11.493Z"
   },
   {
    "duration": 7,
    "start_time": "2022-04-10T11:21:11.498Z"
   },
   {
    "duration": 6,
    "start_time": "2022-04-10T11:21:11.506Z"
   },
   {
    "duration": 9,
    "start_time": "2022-04-10T11:21:11.513Z"
   },
   {
    "duration": 4,
    "start_time": "2022-04-10T11:21:11.523Z"
   },
   {
    "duration": 644,
    "start_time": "2022-04-10T11:21:11.529Z"
   },
   {
    "duration": 222,
    "start_time": "2022-04-10T11:21:12.175Z"
   },
   {
    "duration": 210,
    "start_time": "2022-04-10T11:21:12.399Z"
   },
   {
    "duration": 17,
    "start_time": "2022-04-10T11:21:12.611Z"
   },
   {
    "duration": 6,
    "start_time": "2022-04-10T11:21:12.630Z"
   },
   {
    "duration": 328,
    "start_time": "2022-04-10T11:21:12.637Z"
   },
   {
    "duration": 3,
    "start_time": "2022-04-10T11:21:12.967Z"
   },
   {
    "duration": 10,
    "start_time": "2022-04-10T11:21:12.971Z"
   },
   {
    "duration": 5,
    "start_time": "2022-04-10T11:21:12.982Z"
   },
   {
    "duration": 8,
    "start_time": "2022-04-10T11:21:12.988Z"
   },
   {
    "duration": 19,
    "start_time": "2022-04-10T11:21:12.998Z"
   },
   {
    "duration": 862,
    "start_time": "2022-04-10T11:21:13.019Z"
   },
   {
    "duration": 1951,
    "start_time": "2022-04-10T11:21:13.883Z"
   },
   {
    "duration": 10876,
    "start_time": "2022-04-10T11:21:15.835Z"
   },
   {
    "duration": 2,
    "start_time": "2022-04-10T11:21:26.715Z"
   },
   {
    "duration": 9,
    "start_time": "2022-04-10T11:21:26.719Z"
   },
   {
    "duration": 353,
    "start_time": "2022-04-10T11:21:26.729Z"
   },
   {
    "duration": 98,
    "start_time": "2022-04-10T11:21:27.084Z"
   },
   {
    "duration": 114,
    "start_time": "2022-04-11T12:58:03.052Z"
   },
   {
    "duration": 42,
    "start_time": "2022-04-11T13:31:59.636Z"
   },
   {
    "duration": 1615,
    "start_time": "2022-04-11T13:32:05.010Z"
   },
   {
    "duration": 612,
    "start_time": "2022-04-11T13:32:06.627Z"
   },
   {
    "duration": 29,
    "start_time": "2022-04-11T13:32:07.241Z"
   },
   {
    "duration": 3,
    "start_time": "2022-04-11T13:32:07.272Z"
   },
   {
    "duration": 13,
    "start_time": "2022-04-11T13:32:07.277Z"
   },
   {
    "duration": 3,
    "start_time": "2022-04-11T13:32:07.292Z"
   },
   {
    "duration": 10,
    "start_time": "2022-04-11T13:32:07.297Z"
   },
   {
    "duration": 6,
    "start_time": "2022-04-11T13:32:07.308Z"
   },
   {
    "duration": 7,
    "start_time": "2022-04-11T13:32:07.315Z"
   },
   {
    "duration": 9,
    "start_time": "2022-04-11T13:32:07.323Z"
   },
   {
    "duration": 234,
    "start_time": "2022-04-11T13:32:07.333Z"
   },
   {
    "duration": 222,
    "start_time": "2022-04-11T13:32:07.568Z"
   },
   {
    "duration": 6,
    "start_time": "2022-04-11T13:32:07.792Z"
   },
   {
    "duration": 117,
    "start_time": "2022-04-11T13:32:07.801Z"
   },
   {
    "duration": 14,
    "start_time": "2022-04-11T13:32:07.921Z"
   },
   {
    "duration": 3,
    "start_time": "2022-04-11T13:32:07.936Z"
   },
   {
    "duration": 6,
    "start_time": "2022-04-11T13:32:07.940Z"
   },
   {
    "duration": 6,
    "start_time": "2022-04-11T13:32:07.958Z"
   },
   {
    "duration": 16,
    "start_time": "2022-04-11T13:32:07.965Z"
   },
   {
    "duration": 10,
    "start_time": "2022-04-11T13:32:07.983Z"
   },
   {
    "duration": 15,
    "start_time": "2022-04-11T13:32:07.995Z"
   },
   {
    "duration": 3,
    "start_time": "2022-04-11T13:32:08.012Z"
   },
   {
    "duration": 9,
    "start_time": "2022-04-11T13:32:08.017Z"
   },
   {
    "duration": 30,
    "start_time": "2022-04-11T13:32:08.028Z"
   },
   {
    "duration": 6,
    "start_time": "2022-04-11T13:32:08.060Z"
   },
   {
    "duration": 5,
    "start_time": "2022-04-11T13:32:08.067Z"
   },
   {
    "duration": 658,
    "start_time": "2022-04-11T13:32:08.073Z"
   },
   {
    "duration": 223,
    "start_time": "2022-04-11T13:32:08.733Z"
   },
   {
    "duration": 202,
    "start_time": "2022-04-11T13:32:08.958Z"
   },
   {
    "duration": 16,
    "start_time": "2022-04-11T13:32:09.162Z"
   },
   {
    "duration": 8,
    "start_time": "2022-04-11T13:32:09.180Z"
   },
   {
    "duration": 316,
    "start_time": "2022-04-11T13:32:14.907Z"
   },
   {
    "duration": 4,
    "start_time": "2022-04-11T13:32:34.081Z"
   },
   {
    "duration": 416,
    "start_time": "2022-04-11T13:32:42.177Z"
   },
   {
    "duration": 305,
    "start_time": "2022-04-11T13:32:55.406Z"
   },
   {
    "duration": 299,
    "start_time": "2022-04-11T13:34:18.779Z"
   },
   {
    "duration": 299,
    "start_time": "2022-04-11T13:34:24.030Z"
   },
   {
    "duration": 313,
    "start_time": "2022-04-11T13:34:30.520Z"
   },
   {
    "duration": 429,
    "start_time": "2022-04-11T13:34:38.659Z"
   },
   {
    "duration": 301,
    "start_time": "2022-04-11T13:34:46.566Z"
   },
   {
    "duration": 262,
    "start_time": "2022-04-11T13:34:55.812Z"
   },
   {
    "duration": 263,
    "start_time": "2022-04-11T13:35:23.797Z"
   },
   {
    "duration": 388,
    "start_time": "2022-04-11T13:36:08.080Z"
   },
   {
    "duration": 266,
    "start_time": "2022-04-11T13:37:24.946Z"
   },
   {
    "duration": 397,
    "start_time": "2022-04-11T13:38:47.891Z"
   },
   {
    "duration": 672,
    "start_time": "2022-04-11T13:38:59.135Z"
   },
   {
    "duration": 591,
    "start_time": "2022-04-11T13:40:05.548Z"
   },
   {
    "duration": 1049,
    "start_time": "2022-04-11T13:40:15.532Z"
   },
   {
    "duration": 491,
    "start_time": "2022-04-11T13:40:29.357Z"
   },
   {
    "duration": 71,
    "start_time": "2022-04-12T15:19:03.776Z"
   },
   {
    "duration": 2260,
    "start_time": "2022-04-12T15:19:08.053Z"
   },
   {
    "duration": 810,
    "start_time": "2022-04-12T15:19:10.316Z"
   },
   {
    "duration": 39,
    "start_time": "2022-04-12T15:19:11.129Z"
   },
   {
    "duration": 4,
    "start_time": "2022-04-12T15:19:11.171Z"
   },
   {
    "duration": 37,
    "start_time": "2022-04-12T15:19:11.177Z"
   },
   {
    "duration": 6,
    "start_time": "2022-04-12T15:19:13.859Z"
   },
   {
    "duration": 7,
    "start_time": "2022-04-12T15:19:47.111Z"
   },
   {
    "duration": 14,
    "start_time": "2022-04-12T15:20:07.332Z"
   },
   {
    "duration": 7,
    "start_time": "2022-04-12T15:20:26.099Z"
   },
   {
    "duration": 15,
    "start_time": "2022-04-12T15:20:31.593Z"
   },
   {
    "duration": 14,
    "start_time": "2022-04-12T18:06:03.956Z"
   },
   {
    "duration": 22,
    "start_time": "2022-04-12T18:06:49.378Z"
   },
   {
    "duration": 19,
    "start_time": "2022-04-12T18:06:55.223Z"
   },
   {
    "duration": 15,
    "start_time": "2022-04-12T18:07:19.219Z"
   },
   {
    "duration": 19,
    "start_time": "2022-04-12T18:07:22.772Z"
   },
   {
    "duration": 15,
    "start_time": "2022-04-12T18:07:42.259Z"
   },
   {
    "duration": 14,
    "start_time": "2022-04-12T18:07:47.040Z"
   },
   {
    "duration": 15,
    "start_time": "2022-04-12T18:08:09.550Z"
   },
   {
    "duration": 16,
    "start_time": "2022-04-12T18:08:14.227Z"
   },
   {
    "duration": 17,
    "start_time": "2022-04-12T18:08:31.572Z"
   },
   {
    "duration": 15,
    "start_time": "2022-04-12T18:09:35.395Z"
   },
   {
    "duration": 14,
    "start_time": "2022-04-12T18:09:39.007Z"
   },
   {
    "duration": 15,
    "start_time": "2022-04-12T18:09:57.021Z"
   },
   {
    "duration": 15,
    "start_time": "2022-04-12T18:10:03.627Z"
   },
   {
    "duration": 14,
    "start_time": "2022-04-12T18:10:25.848Z"
   },
   {
    "duration": 13,
    "start_time": "2022-04-12T18:10:52.303Z"
   },
   {
    "duration": 15,
    "start_time": "2022-04-12T18:13:14.684Z"
   },
   {
    "duration": 17,
    "start_time": "2022-04-12T18:13:20.414Z"
   },
   {
    "duration": 16,
    "start_time": "2022-04-12T18:14:20.450Z"
   },
   {
    "duration": 13,
    "start_time": "2022-04-12T18:14:27.292Z"
   },
   {
    "duration": 27,
    "start_time": "2022-04-12T18:14:47.767Z"
   },
   {
    "duration": 24,
    "start_time": "2022-04-12T18:15:21.140Z"
   },
   {
    "duration": 15,
    "start_time": "2022-04-12T18:15:27.719Z"
   },
   {
    "duration": 18,
    "start_time": "2022-04-12T18:15:58.819Z"
   },
   {
    "duration": 15,
    "start_time": "2022-04-12T18:16:03.893Z"
   },
   {
    "duration": 18,
    "start_time": "2022-04-12T18:16:32.298Z"
   },
   {
    "duration": 14,
    "start_time": "2022-04-12T18:16:37.794Z"
   },
   {
    "duration": 19,
    "start_time": "2022-04-12T18:17:06.876Z"
   },
   {
    "duration": 16,
    "start_time": "2022-04-12T18:17:13.475Z"
   },
   {
    "duration": 15,
    "start_time": "2022-04-12T18:18:32.949Z"
   },
   {
    "duration": 18,
    "start_time": "2022-04-12T18:20:15.478Z"
   },
   {
    "duration": 12,
    "start_time": "2022-04-12T18:20:21.351Z"
   },
   {
    "duration": 10,
    "start_time": "2022-04-12T18:20:46.972Z"
   },
   {
    "duration": 2025,
    "start_time": "2022-04-12T18:21:05.109Z"
   },
   {
    "duration": 2585,
    "start_time": "2022-04-12T18:21:07.136Z"
   },
   {
    "duration": 27,
    "start_time": "2022-04-12T18:21:09.724Z"
   },
   {
    "duration": 3,
    "start_time": "2022-04-12T18:21:09.754Z"
   },
   {
    "duration": 20,
    "start_time": "2022-04-12T18:21:09.761Z"
   },
   {
    "duration": 19,
    "start_time": "2022-04-12T18:21:09.783Z"
   },
   {
    "duration": 12,
    "start_time": "2022-04-12T18:21:09.803Z"
   },
   {
    "duration": 18,
    "start_time": "2022-04-12T18:21:09.853Z"
   },
   {
    "duration": 9,
    "start_time": "2022-04-12T18:21:09.873Z"
   },
   {
    "duration": 5,
    "start_time": "2022-04-12T18:21:09.884Z"
   },
   {
    "duration": 8,
    "start_time": "2022-04-12T18:21:09.891Z"
   },
   {
    "duration": 8,
    "start_time": "2022-04-12T18:21:09.901Z"
   },
   {
    "duration": 5,
    "start_time": "2022-04-12T18:21:09.952Z"
   },
   {
    "duration": 16,
    "start_time": "2022-04-12T18:21:09.962Z"
   },
   {
    "duration": 411,
    "start_time": "2022-04-12T18:21:09.981Z"
   },
   {
    "duration": 387,
    "start_time": "2022-04-12T18:21:10.394Z"
   },
   {
    "duration": 6,
    "start_time": "2022-04-12T18:21:10.783Z"
   },
   {
    "duration": 128,
    "start_time": "2022-04-12T18:21:10.791Z"
   },
   {
    "duration": 34,
    "start_time": "2022-04-12T18:21:10.921Z"
   },
   {
    "duration": 4,
    "start_time": "2022-04-12T18:21:10.957Z"
   },
   {
    "duration": 10,
    "start_time": "2022-04-12T18:21:10.963Z"
   },
   {
    "duration": 11,
    "start_time": "2022-04-12T18:21:10.975Z"
   },
   {
    "duration": 18,
    "start_time": "2022-04-12T18:21:10.988Z"
   },
   {
    "duration": 44,
    "start_time": "2022-04-12T18:21:11.008Z"
   },
   {
    "duration": 25,
    "start_time": "2022-04-12T18:21:11.054Z"
   },
   {
    "duration": 4,
    "start_time": "2022-04-12T18:21:11.082Z"
   },
   {
    "duration": 16,
    "start_time": "2022-04-12T18:21:11.088Z"
   },
   {
    "duration": 15,
    "start_time": "2022-04-12T18:21:11.106Z"
   },
   {
    "duration": 17,
    "start_time": "2022-04-12T18:21:11.123Z"
   },
   {
    "duration": 5,
    "start_time": "2022-04-12T18:21:11.152Z"
   },
   {
    "duration": 1119,
    "start_time": "2022-04-12T18:21:11.159Z"
   },
   {
    "duration": 400,
    "start_time": "2022-04-12T18:21:12.280Z"
   },
   {
    "duration": 365,
    "start_time": "2022-04-12T18:21:12.683Z"
   },
   {
    "duration": 26,
    "start_time": "2022-04-12T18:21:13.052Z"
   },
   {
    "duration": 10,
    "start_time": "2022-04-12T18:21:13.080Z"
   },
   {
    "duration": 1052,
    "start_time": "2022-04-12T18:21:13.092Z"
   },
   {
    "duration": 4,
    "start_time": "2022-04-12T18:21:14.151Z"
   },
   {
    "duration": 7,
    "start_time": "2022-04-12T18:21:14.158Z"
   },
   {
    "duration": 7,
    "start_time": "2022-04-12T18:21:14.167Z"
   },
   {
    "duration": 11,
    "start_time": "2022-04-12T18:21:14.176Z"
   },
   {
    "duration": 29,
    "start_time": "2022-04-12T18:21:14.193Z"
   },
   {
    "duration": 176,
    "start_time": "2022-04-12T18:21:14.252Z"
   },
   {
    "duration": 0,
    "start_time": "2022-04-12T18:21:14.430Z"
   },
   {
    "duration": 0,
    "start_time": "2022-04-12T18:21:14.431Z"
   },
   {
    "duration": 0,
    "start_time": "2022-04-12T18:21:14.433Z"
   },
   {
    "duration": 0,
    "start_time": "2022-04-12T18:21:14.434Z"
   },
   {
    "duration": 0,
    "start_time": "2022-04-12T18:21:14.451Z"
   },
   {
    "duration": 0,
    "start_time": "2022-04-12T18:21:14.453Z"
   },
   {
    "duration": 48,
    "start_time": "2022-04-13T15:50:16.985Z"
   },
   {
    "duration": 2021,
    "start_time": "2022-04-13T15:50:23.505Z"
   },
   {
    "duration": 764,
    "start_time": "2022-04-13T15:50:25.529Z"
   },
   {
    "duration": 29,
    "start_time": "2022-04-13T15:50:26.295Z"
   },
   {
    "duration": 3,
    "start_time": "2022-04-13T15:50:26.328Z"
   },
   {
    "duration": 17,
    "start_time": "2022-04-13T15:50:26.333Z"
   },
   {
    "duration": 31,
    "start_time": "2022-04-13T15:50:26.352Z"
   },
   {
    "duration": 15,
    "start_time": "2022-04-13T15:50:26.384Z"
   },
   {
    "duration": 16,
    "start_time": "2022-04-13T15:50:26.401Z"
   },
   {
    "duration": 9,
    "start_time": "2022-04-13T15:50:26.420Z"
   },
   {
    "duration": 5,
    "start_time": "2022-04-13T15:50:26.433Z"
   },
   {
    "duration": 39,
    "start_time": "2022-04-13T15:50:26.440Z"
   },
   {
    "duration": 9,
    "start_time": "2022-04-13T15:50:26.481Z"
   },
   {
    "duration": 15,
    "start_time": "2022-04-13T15:50:26.492Z"
   },
   {
    "duration": 17,
    "start_time": "2022-04-13T15:50:26.510Z"
   },
   {
    "duration": 294,
    "start_time": "2022-04-13T15:50:26.530Z"
   },
   {
    "duration": 257,
    "start_time": "2022-04-13T15:50:26.826Z"
   },
   {
    "duration": 5,
    "start_time": "2022-04-13T15:50:27.085Z"
   },
   {
    "duration": 147,
    "start_time": "2022-04-13T15:50:27.092Z"
   },
   {
    "duration": 32,
    "start_time": "2022-04-13T15:50:27.241Z"
   },
   {
    "duration": 4,
    "start_time": "2022-04-13T15:50:27.275Z"
   },
   {
    "duration": 6,
    "start_time": "2022-04-13T15:50:27.281Z"
   },
   {
    "duration": 15,
    "start_time": "2022-04-13T15:50:27.289Z"
   },
   {
    "duration": 20,
    "start_time": "2022-04-13T15:50:27.306Z"
   },
   {
    "duration": 47,
    "start_time": "2022-04-13T15:50:27.328Z"
   },
   {
    "duration": 28,
    "start_time": "2022-04-13T15:50:27.377Z"
   },
   {
    "duration": 4,
    "start_time": "2022-04-13T15:50:27.407Z"
   },
   {
    "duration": 8,
    "start_time": "2022-04-13T15:50:27.413Z"
   },
   {
    "duration": 8,
    "start_time": "2022-04-13T15:50:27.425Z"
   },
   {
    "duration": 8,
    "start_time": "2022-04-13T15:50:27.434Z"
   },
   {
    "duration": 38,
    "start_time": "2022-04-13T15:50:27.444Z"
   },
   {
    "duration": 777,
    "start_time": "2022-04-13T15:50:27.485Z"
   },
   {
    "duration": 295,
    "start_time": "2022-04-13T15:50:28.264Z"
   },
   {
    "duration": 244,
    "start_time": "2022-04-13T15:50:28.561Z"
   },
   {
    "duration": 32,
    "start_time": "2022-04-13T15:50:28.806Z"
   },
   {
    "duration": 11,
    "start_time": "2022-04-13T15:50:28.840Z"
   },
   {
    "duration": 723,
    "start_time": "2022-04-13T15:50:28.875Z"
   },
   {
    "duration": 186,
    "start_time": "2022-04-13T15:50:34.112Z"
   },
   {
    "duration": 7,
    "start_time": "2022-04-13T15:50:39.889Z"
   },
   {
    "duration": 7,
    "start_time": "2022-04-13T15:50:54.177Z"
   },
   {
    "duration": 7,
    "start_time": "2022-04-13T15:51:04.128Z"
   },
   {
    "duration": 5,
    "start_time": "2022-04-13T15:51:15.663Z"
   },
   {
    "duration": 6,
    "start_time": "2022-04-13T15:51:36.732Z"
   },
   {
    "duration": 77,
    "start_time": "2022-04-13T15:56:42.160Z"
   },
   {
    "duration": 90,
    "start_time": "2022-04-13T16:09:19.147Z"
   },
   {
    "duration": 119,
    "start_time": "2022-04-13T16:10:36.519Z"
   },
   {
    "duration": 10,
    "start_time": "2022-04-13T16:10:55.260Z"
   },
   {
    "duration": 8,
    "start_time": "2022-04-13T16:11:20.244Z"
   },
   {
    "duration": 104,
    "start_time": "2022-04-13T16:11:27.927Z"
   },
   {
    "duration": 12,
    "start_time": "2022-04-13T16:11:36.557Z"
   },
   {
    "duration": 23,
    "start_time": "2022-04-13T16:12:57.161Z"
   },
   {
    "duration": 2178,
    "start_time": "2022-04-13T16:18:17.869Z"
   },
   {
    "duration": 23,
    "start_time": "2022-04-13T16:18:58.995Z"
   },
   {
    "duration": 43,
    "start_time": "2022-04-13T16:19:33.103Z"
   },
   {
    "duration": 12,
    "start_time": "2022-04-13T16:19:51.183Z"
   },
   {
    "duration": 39,
    "start_time": "2022-04-13T16:20:14.998Z"
   },
   {
    "duration": 20,
    "start_time": "2022-04-13T16:20:25.967Z"
   },
   {
    "duration": 1437,
    "start_time": "2022-04-13T16:22:01.315Z"
   },
   {
    "duration": 753,
    "start_time": "2022-04-13T16:22:02.754Z"
   },
   {
    "duration": 20,
    "start_time": "2022-04-13T16:22:03.509Z"
   },
   {
    "duration": 3,
    "start_time": "2022-04-13T16:22:03.531Z"
   },
   {
    "duration": 15,
    "start_time": "2022-04-13T16:22:03.536Z"
   },
   {
    "duration": 28,
    "start_time": "2022-04-13T16:22:03.553Z"
   },
   {
    "duration": 19,
    "start_time": "2022-04-13T16:22:03.582Z"
   },
   {
    "duration": 14,
    "start_time": "2022-04-13T16:22:03.603Z"
   },
   {
    "duration": 14,
    "start_time": "2022-04-13T16:22:03.619Z"
   },
   {
    "duration": 6,
    "start_time": "2022-04-13T16:22:03.635Z"
   },
   {
    "duration": 11,
    "start_time": "2022-04-13T16:22:03.642Z"
   },
   {
    "duration": 11,
    "start_time": "2022-04-13T16:22:03.654Z"
   },
   {
    "duration": 4,
    "start_time": "2022-04-13T16:22:03.672Z"
   },
   {
    "duration": 9,
    "start_time": "2022-04-13T16:22:03.677Z"
   },
   {
    "duration": 251,
    "start_time": "2022-04-13T16:22:03.688Z"
   },
   {
    "duration": 243,
    "start_time": "2022-04-13T16:22:03.941Z"
   },
   {
    "duration": 5,
    "start_time": "2022-04-13T16:22:04.186Z"
   },
   {
    "duration": 135,
    "start_time": "2022-04-13T16:22:04.193Z"
   },
   {
    "duration": 18,
    "start_time": "2022-04-13T16:22:04.330Z"
   },
   {
    "duration": 3,
    "start_time": "2022-04-13T16:22:04.350Z"
   },
   {
    "duration": 20,
    "start_time": "2022-04-13T16:22:04.355Z"
   },
   {
    "duration": 14,
    "start_time": "2022-04-13T16:22:04.377Z"
   },
   {
    "duration": 16,
    "start_time": "2022-04-13T16:22:04.392Z"
   },
   {
    "duration": 14,
    "start_time": "2022-04-13T16:22:04.409Z"
   },
   {
    "duration": 22,
    "start_time": "2022-04-13T16:22:04.424Z"
   },
   {
    "duration": 4,
    "start_time": "2022-04-13T16:22:04.448Z"
   },
   {
    "duration": 4,
    "start_time": "2022-04-13T16:22:04.474Z"
   },
   {
    "duration": 6,
    "start_time": "2022-04-13T16:22:04.481Z"
   },
   {
    "duration": 5,
    "start_time": "2022-04-13T16:22:04.489Z"
   },
   {
    "duration": 5,
    "start_time": "2022-04-13T16:22:04.495Z"
   },
   {
    "duration": 742,
    "start_time": "2022-04-13T16:22:04.501Z"
   },
   {
    "duration": 251,
    "start_time": "2022-04-13T16:22:05.245Z"
   },
   {
    "duration": 226,
    "start_time": "2022-04-13T16:22:05.497Z"
   },
   {
    "duration": 20,
    "start_time": "2022-04-13T16:22:05.724Z"
   },
   {
    "duration": 27,
    "start_time": "2022-04-13T16:22:05.746Z"
   },
   {
    "duration": 685,
    "start_time": "2022-04-13T16:22:05.775Z"
   },
   {
    "duration": 18,
    "start_time": "2022-04-13T16:22:06.462Z"
   },
   {
    "duration": 12,
    "start_time": "2022-04-13T16:22:06.482Z"
   },
   {
    "duration": 30,
    "start_time": "2022-04-13T16:22:06.496Z"
   },
   {
    "duration": 49,
    "start_time": "2022-04-13T16:22:06.528Z"
   },
   {
    "duration": 14,
    "start_time": "2022-04-13T16:22:06.579Z"
   },
   {
    "duration": 5,
    "start_time": "2022-04-13T16:22:06.595Z"
   },
   {
    "duration": 6,
    "start_time": "2022-04-13T16:22:06.601Z"
   },
   {
    "duration": 8,
    "start_time": "2022-04-13T16:22:06.609Z"
   },
   {
    "duration": 16,
    "start_time": "2022-04-13T16:22:06.619Z"
   },
   {
    "duration": 40,
    "start_time": "2022-04-13T16:22:06.636Z"
   },
   {
    "duration": 114,
    "start_time": "2022-04-13T16:22:06.677Z"
   },
   {
    "duration": 0,
    "start_time": "2022-04-13T16:22:06.793Z"
   },
   {
    "duration": 0,
    "start_time": "2022-04-13T16:22:06.794Z"
   },
   {
    "duration": 0,
    "start_time": "2022-04-13T16:22:06.795Z"
   },
   {
    "duration": 0,
    "start_time": "2022-04-13T16:22:06.796Z"
   },
   {
    "duration": 0,
    "start_time": "2022-04-13T16:22:06.797Z"
   },
   {
    "duration": 0,
    "start_time": "2022-04-13T16:22:06.798Z"
   },
   {
    "duration": 13,
    "start_time": "2022-04-13T16:29:27.619Z"
   },
   {
    "duration": 1326,
    "start_time": "2022-04-13T16:29:38.118Z"
   },
   {
    "duration": 729,
    "start_time": "2022-04-13T16:29:39.446Z"
   },
   {
    "duration": 17,
    "start_time": "2022-04-13T16:29:40.177Z"
   },
   {
    "duration": 3,
    "start_time": "2022-04-13T16:29:40.195Z"
   },
   {
    "duration": 13,
    "start_time": "2022-04-13T16:29:40.200Z"
   },
   {
    "duration": 12,
    "start_time": "2022-04-13T16:29:40.214Z"
   },
   {
    "duration": 9,
    "start_time": "2022-04-13T16:29:40.228Z"
   },
   {
    "duration": 37,
    "start_time": "2022-04-13T16:29:40.238Z"
   },
   {
    "duration": 6,
    "start_time": "2022-04-13T16:29:40.277Z"
   },
   {
    "duration": 6,
    "start_time": "2022-04-13T16:29:40.285Z"
   },
   {
    "duration": 9,
    "start_time": "2022-04-13T16:29:40.292Z"
   },
   {
    "duration": 8,
    "start_time": "2022-04-13T16:29:40.302Z"
   },
   {
    "duration": 5,
    "start_time": "2022-04-13T16:29:40.312Z"
   },
   {
    "duration": 9,
    "start_time": "2022-04-13T16:29:40.320Z"
   },
   {
    "duration": 262,
    "start_time": "2022-04-13T16:29:40.330Z"
   },
   {
    "duration": 236,
    "start_time": "2022-04-13T16:29:40.594Z"
   },
   {
    "duration": 5,
    "start_time": "2022-04-13T16:29:40.831Z"
   },
   {
    "duration": 132,
    "start_time": "2022-04-13T16:29:40.838Z"
   },
   {
    "duration": 17,
    "start_time": "2022-04-13T16:29:40.973Z"
   },
   {
    "duration": 3,
    "start_time": "2022-04-13T16:29:40.992Z"
   },
   {
    "duration": 7,
    "start_time": "2022-04-13T16:29:40.997Z"
   },
   {
    "duration": 12,
    "start_time": "2022-04-13T16:29:41.005Z"
   },
   {
    "duration": 19,
    "start_time": "2022-04-13T16:29:41.020Z"
   },
   {
    "duration": 35,
    "start_time": "2022-04-13T16:29:41.041Z"
   },
   {
    "duration": 22,
    "start_time": "2022-04-13T16:29:41.078Z"
   },
   {
    "duration": 3,
    "start_time": "2022-04-13T16:29:41.102Z"
   },
   {
    "duration": 13,
    "start_time": "2022-04-13T16:29:41.107Z"
   },
   {
    "duration": 8,
    "start_time": "2022-04-13T16:29:41.121Z"
   },
   {
    "duration": 7,
    "start_time": "2022-04-13T16:29:41.131Z"
   },
   {
    "duration": 5,
    "start_time": "2022-04-13T16:29:41.139Z"
   },
   {
    "duration": 756,
    "start_time": "2022-04-13T16:29:41.145Z"
   },
   {
    "duration": 248,
    "start_time": "2022-04-13T16:29:41.902Z"
   },
   {
    "duration": 235,
    "start_time": "2022-04-13T16:29:42.153Z"
   },
   {
    "duration": 17,
    "start_time": "2022-04-13T16:29:42.390Z"
   },
   {
    "duration": 7,
    "start_time": "2022-04-13T16:29:42.409Z"
   },
   {
    "duration": 678,
    "start_time": "2022-04-13T16:29:42.417Z"
   },
   {
    "duration": 11,
    "start_time": "2022-04-13T16:29:43.097Z"
   },
   {
    "duration": 11,
    "start_time": "2022-04-13T16:29:43.110Z"
   },
   {
    "duration": 15,
    "start_time": "2022-04-13T16:29:43.122Z"
   },
   {
    "duration": 49,
    "start_time": "2022-04-13T16:29:43.138Z"
   },
   {
    "duration": 30,
    "start_time": "2022-04-13T16:29:43.191Z"
   },
   {
    "duration": 13,
    "start_time": "2022-04-13T16:29:43.223Z"
   },
   {
    "duration": 4,
    "start_time": "2022-04-13T16:29:43.238Z"
   },
   {
    "duration": 9,
    "start_time": "2022-04-13T16:29:43.243Z"
   },
   {
    "duration": 32,
    "start_time": "2022-04-13T16:29:43.254Z"
   },
   {
    "duration": 19,
    "start_time": "2022-04-13T16:29:43.288Z"
   },
   {
    "duration": 24,
    "start_time": "2022-04-13T16:29:43.309Z"
   },
   {
    "duration": 115,
    "start_time": "2022-04-13T16:29:43.335Z"
   },
   {
    "duration": 0,
    "start_time": "2022-04-13T16:29:43.452Z"
   },
   {
    "duration": 0,
    "start_time": "2022-04-13T16:29:43.453Z"
   },
   {
    "duration": 0,
    "start_time": "2022-04-13T16:29:43.454Z"
   },
   {
    "duration": 0,
    "start_time": "2022-04-13T16:29:43.456Z"
   },
   {
    "duration": 0,
    "start_time": "2022-04-13T16:29:43.457Z"
   },
   {
    "duration": 0,
    "start_time": "2022-04-13T16:29:43.458Z"
   },
   {
    "duration": 14,
    "start_time": "2022-04-13T16:30:16.307Z"
   },
   {
    "duration": 2688,
    "start_time": "2022-04-13T16:44:30.830Z"
   },
   {
    "duration": 20,
    "start_time": "2022-04-13T16:45:02.584Z"
   },
   {
    "duration": 1395,
    "start_time": "2022-04-13T16:46:53.746Z"
   },
   {
    "duration": 721,
    "start_time": "2022-04-13T16:46:55.144Z"
   },
   {
    "duration": 27,
    "start_time": "2022-04-13T16:46:55.867Z"
   },
   {
    "duration": 3,
    "start_time": "2022-04-13T16:46:55.896Z"
   },
   {
    "duration": 16,
    "start_time": "2022-04-13T16:46:55.901Z"
   },
   {
    "duration": 15,
    "start_time": "2022-04-13T16:46:55.919Z"
   },
   {
    "duration": 11,
    "start_time": "2022-04-13T16:46:55.935Z"
   },
   {
    "duration": 37,
    "start_time": "2022-04-13T16:46:55.947Z"
   },
   {
    "duration": 25,
    "start_time": "2022-04-13T16:46:55.989Z"
   },
   {
    "duration": 8,
    "start_time": "2022-04-13T16:46:56.017Z"
   },
   {
    "duration": 8,
    "start_time": "2022-04-13T16:46:56.027Z"
   },
   {
    "duration": 10,
    "start_time": "2022-04-13T16:46:56.037Z"
   },
   {
    "duration": 14,
    "start_time": "2022-04-13T16:46:56.050Z"
   },
   {
    "duration": 34,
    "start_time": "2022-04-13T16:46:56.067Z"
   },
   {
    "duration": 254,
    "start_time": "2022-04-13T16:46:56.103Z"
   },
   {
    "duration": 239,
    "start_time": "2022-04-13T16:46:56.358Z"
   },
   {
    "duration": 4,
    "start_time": "2022-04-13T16:46:56.598Z"
   },
   {
    "duration": 124,
    "start_time": "2022-04-13T16:46:56.603Z"
   },
   {
    "duration": 15,
    "start_time": "2022-04-13T16:46:56.729Z"
   },
   {
    "duration": 3,
    "start_time": "2022-04-13T16:46:56.745Z"
   },
   {
    "duration": 29,
    "start_time": "2022-04-13T16:46:56.749Z"
   },
   {
    "duration": 20,
    "start_time": "2022-04-13T16:46:56.780Z"
   },
   {
    "duration": 17,
    "start_time": "2022-04-13T16:46:56.802Z"
   },
   {
    "duration": 12,
    "start_time": "2022-04-13T16:46:56.821Z"
   },
   {
    "duration": 22,
    "start_time": "2022-04-13T16:46:56.835Z"
   },
   {
    "duration": 4,
    "start_time": "2022-04-13T16:46:56.859Z"
   },
   {
    "duration": 18,
    "start_time": "2022-04-13T16:46:56.864Z"
   },
   {
    "duration": 11,
    "start_time": "2022-04-13T16:46:56.886Z"
   },
   {
    "duration": 6,
    "start_time": "2022-04-13T16:46:56.898Z"
   },
   {
    "duration": 5,
    "start_time": "2022-04-13T16:46:56.905Z"
   },
   {
    "duration": 723,
    "start_time": "2022-04-13T16:46:56.912Z"
   },
   {
    "duration": 246,
    "start_time": "2022-04-13T16:46:57.636Z"
   },
   {
    "duration": 227,
    "start_time": "2022-04-13T16:46:57.884Z"
   },
   {
    "duration": 19,
    "start_time": "2022-04-13T16:46:58.112Z"
   },
   {
    "duration": 7,
    "start_time": "2022-04-13T16:46:58.133Z"
   },
   {
    "duration": 692,
    "start_time": "2022-04-13T16:46:58.142Z"
   },
   {
    "duration": 11,
    "start_time": "2022-04-13T16:46:58.836Z"
   },
   {
    "duration": 25,
    "start_time": "2022-04-13T16:46:58.848Z"
   },
   {
    "duration": 16,
    "start_time": "2022-04-13T16:46:58.876Z"
   },
   {
    "duration": 25,
    "start_time": "2022-04-13T16:47:03.822Z"
   },
   {
    "duration": 21,
    "start_time": "2022-04-13T16:55:19.248Z"
   },
   {
    "duration": 17,
    "start_time": "2022-04-13T16:55:29.600Z"
   },
   {
    "duration": 1426,
    "start_time": "2022-04-13T16:55:42.416Z"
   },
   {
    "duration": 765,
    "start_time": "2022-04-13T16:55:43.844Z"
   },
   {
    "duration": 25,
    "start_time": "2022-04-13T16:55:44.611Z"
   },
   {
    "duration": 4,
    "start_time": "2022-04-13T16:55:44.638Z"
   },
   {
    "duration": 42,
    "start_time": "2022-04-13T16:55:44.644Z"
   },
   {
    "duration": 21,
    "start_time": "2022-04-13T16:55:44.688Z"
   },
   {
    "duration": 15,
    "start_time": "2022-04-13T16:55:44.711Z"
   },
   {
    "duration": 13,
    "start_time": "2022-04-13T16:55:44.727Z"
   },
   {
    "duration": 7,
    "start_time": "2022-04-13T16:55:44.741Z"
   },
   {
    "duration": 5,
    "start_time": "2022-04-13T16:55:44.749Z"
   },
   {
    "duration": 19,
    "start_time": "2022-04-13T16:55:44.756Z"
   },
   {
    "duration": 31,
    "start_time": "2022-04-13T16:55:44.777Z"
   },
   {
    "duration": 6,
    "start_time": "2022-04-13T16:55:44.809Z"
   },
   {
    "duration": 10,
    "start_time": "2022-04-13T16:55:44.818Z"
   },
   {
    "duration": 282,
    "start_time": "2022-04-13T16:55:44.829Z"
   },
   {
    "duration": 244,
    "start_time": "2022-04-13T16:55:45.112Z"
   },
   {
    "duration": 5,
    "start_time": "2022-04-13T16:55:45.357Z"
   },
   {
    "duration": 145,
    "start_time": "2022-04-13T16:55:45.363Z"
   },
   {
    "duration": 17,
    "start_time": "2022-04-13T16:55:45.510Z"
   },
   {
    "duration": 3,
    "start_time": "2022-04-13T16:55:45.528Z"
   },
   {
    "duration": 6,
    "start_time": "2022-04-13T16:55:45.533Z"
   },
   {
    "duration": 17,
    "start_time": "2022-04-13T16:55:45.540Z"
   },
   {
    "duration": 40,
    "start_time": "2022-04-13T16:55:45.576Z"
   },
   {
    "duration": 12,
    "start_time": "2022-04-13T16:55:45.617Z"
   },
   {
    "duration": 19,
    "start_time": "2022-04-13T16:55:45.631Z"
   },
   {
    "duration": 3,
    "start_time": "2022-04-13T16:55:45.652Z"
   },
   {
    "duration": 7,
    "start_time": "2022-04-13T16:55:45.656Z"
   },
   {
    "duration": 15,
    "start_time": "2022-04-13T16:55:45.664Z"
   },
   {
    "duration": 29,
    "start_time": "2022-04-13T16:55:45.681Z"
   },
   {
    "duration": 5,
    "start_time": "2022-04-13T16:55:45.712Z"
   },
   {
    "duration": 767,
    "start_time": "2022-04-13T16:55:45.718Z"
   },
   {
    "duration": 270,
    "start_time": "2022-04-13T16:55:46.487Z"
   },
   {
    "duration": 268,
    "start_time": "2022-04-13T16:55:46.759Z"
   },
   {
    "duration": 20,
    "start_time": "2022-04-13T16:55:47.028Z"
   },
   {
    "duration": 7,
    "start_time": "2022-04-13T16:55:47.050Z"
   },
   {
    "duration": 767,
    "start_time": "2022-04-13T16:55:47.058Z"
   },
   {
    "duration": 12,
    "start_time": "2022-04-13T16:55:47.826Z"
   },
   {
    "duration": 11,
    "start_time": "2022-04-13T16:55:47.840Z"
   },
   {
    "duration": 24,
    "start_time": "2022-04-13T16:55:55.288Z"
   },
   {
    "duration": 34,
    "start_time": "2022-04-13T16:58:10.370Z"
   },
   {
    "duration": 138,
    "start_time": "2022-04-13T16:58:46.675Z"
   },
   {
    "duration": 126,
    "start_time": "2022-04-13T16:58:57.496Z"
   },
   {
    "duration": 207,
    "start_time": "2022-04-13T16:59:40.089Z"
   },
   {
    "duration": 130,
    "start_time": "2022-04-13T16:59:52.482Z"
   },
   {
    "duration": 114,
    "start_time": "2022-04-13T17:00:48.191Z"
   },
   {
    "duration": 121,
    "start_time": "2022-04-13T17:01:41.598Z"
   },
   {
    "duration": 9297,
    "start_time": "2022-04-13T17:01:47.205Z"
   },
   {
    "duration": 22,
    "start_time": "2022-04-13T17:02:11.354Z"
   },
   {
    "duration": 112,
    "start_time": "2022-04-13T17:03:29.798Z"
   },
   {
    "duration": 19,
    "start_time": "2022-04-13T17:03:33.501Z"
   },
   {
    "duration": 26,
    "start_time": "2022-04-13T17:04:46.776Z"
   },
   {
    "duration": 21,
    "start_time": "2022-04-13T17:04:53.738Z"
   },
   {
    "duration": 12,
    "start_time": "2022-04-13T17:05:28.484Z"
   },
   {
    "duration": 116,
    "start_time": "2022-04-13T17:05:53.507Z"
   },
   {
    "duration": 17,
    "start_time": "2022-04-13T17:06:15.293Z"
   },
   {
    "duration": 1388,
    "start_time": "2022-04-13T17:08:28.788Z"
   },
   {
    "duration": 682,
    "start_time": "2022-04-13T17:08:30.178Z"
   },
   {
    "duration": 19,
    "start_time": "2022-04-13T17:08:30.861Z"
   },
   {
    "duration": 2,
    "start_time": "2022-04-13T17:08:30.882Z"
   },
   {
    "duration": 19,
    "start_time": "2022-04-13T17:08:30.886Z"
   },
   {
    "duration": 13,
    "start_time": "2022-04-13T17:08:30.906Z"
   },
   {
    "duration": 18,
    "start_time": "2022-04-13T17:08:30.920Z"
   },
   {
    "duration": 37,
    "start_time": "2022-04-13T17:08:30.940Z"
   },
   {
    "duration": 6,
    "start_time": "2022-04-13T17:08:30.979Z"
   },
   {
    "duration": 4,
    "start_time": "2022-04-13T17:08:30.987Z"
   },
   {
    "duration": 8,
    "start_time": "2022-04-13T17:08:30.993Z"
   },
   {
    "duration": 10,
    "start_time": "2022-04-13T17:08:31.003Z"
   },
   {
    "duration": 10,
    "start_time": "2022-04-13T17:08:31.014Z"
   },
   {
    "duration": 24,
    "start_time": "2022-04-13T17:08:31.025Z"
   },
   {
    "duration": 251,
    "start_time": "2022-04-13T17:08:31.051Z"
   },
   {
    "duration": 232,
    "start_time": "2022-04-13T17:08:31.303Z"
   },
   {
    "duration": 4,
    "start_time": "2022-04-13T17:08:31.537Z"
   },
   {
    "duration": 134,
    "start_time": "2022-04-13T17:08:31.543Z"
   },
   {
    "duration": 14,
    "start_time": "2022-04-13T17:08:31.678Z"
   },
   {
    "duration": 3,
    "start_time": "2022-04-13T17:08:31.694Z"
   },
   {
    "duration": 10,
    "start_time": "2022-04-13T17:08:31.699Z"
   },
   {
    "duration": 9,
    "start_time": "2022-04-13T17:08:31.711Z"
   },
   {
    "duration": 16,
    "start_time": "2022-04-13T17:08:31.722Z"
   },
   {
    "duration": 42,
    "start_time": "2022-04-13T17:08:31.739Z"
   },
   {
    "duration": 18,
    "start_time": "2022-04-13T17:08:31.783Z"
   },
   {
    "duration": 3,
    "start_time": "2022-04-13T17:08:31.803Z"
   },
   {
    "duration": 8,
    "start_time": "2022-04-13T17:08:31.807Z"
   },
   {
    "duration": 7,
    "start_time": "2022-04-13T17:08:31.818Z"
   },
   {
    "duration": 14,
    "start_time": "2022-04-13T17:08:31.827Z"
   },
   {
    "duration": 14,
    "start_time": "2022-04-13T17:08:31.843Z"
   },
   {
    "duration": 719,
    "start_time": "2022-04-13T17:08:31.874Z"
   },
   {
    "duration": 256,
    "start_time": "2022-04-13T17:08:32.595Z"
   },
   {
    "duration": 259,
    "start_time": "2022-04-13T17:08:32.853Z"
   },
   {
    "duration": 18,
    "start_time": "2022-04-13T17:08:33.114Z"
   },
   {
    "duration": 7,
    "start_time": "2022-04-13T17:08:33.134Z"
   },
   {
    "duration": 705,
    "start_time": "2022-04-13T17:08:33.142Z"
   },
   {
    "duration": 12,
    "start_time": "2022-04-13T17:08:33.848Z"
   },
   {
    "duration": 12,
    "start_time": "2022-04-13T17:08:33.872Z"
   },
   {
    "duration": 21,
    "start_time": "2022-04-13T17:08:33.885Z"
   },
   {
    "duration": 14,
    "start_time": "2022-04-13T17:08:33.908Z"
   },
   {
    "duration": 165,
    "start_time": "2022-04-13T17:08:33.923Z"
   },
   {
    "duration": 5,
    "start_time": "2022-04-13T17:08:34.090Z"
   },
   {
    "duration": 6,
    "start_time": "2022-04-13T17:08:34.096Z"
   },
   {
    "duration": 6,
    "start_time": "2022-04-13T17:08:34.104Z"
   },
   {
    "duration": 8,
    "start_time": "2022-04-13T17:08:34.112Z"
   },
   {
    "duration": 27,
    "start_time": "2022-04-13T17:08:34.122Z"
   },
   {
    "duration": 926,
    "start_time": "2022-04-13T17:08:34.151Z"
   },
   {
    "duration": 2410,
    "start_time": "2022-04-13T17:08:35.079Z"
   },
   {
    "duration": 13396,
    "start_time": "2022-04-13T17:08:37.491Z"
   },
   {
    "duration": 3,
    "start_time": "2022-04-13T17:08:50.889Z"
   },
   {
    "duration": 12,
    "start_time": "2022-04-13T17:08:50.893Z"
   },
   {
    "duration": 391,
    "start_time": "2022-04-13T17:08:50.906Z"
   },
   {
    "duration": 13,
    "start_time": "2022-04-13T17:08:51.374Z"
   },
   {
    "duration": 13,
    "start_time": "2022-04-13T17:16:03.034Z"
   },
   {
    "duration": 7,
    "start_time": "2022-04-13T17:20:33.170Z"
   },
   {
    "duration": 133,
    "start_time": "2022-04-13T17:21:16.201Z"
   },
   {
    "duration": 6,
    "start_time": "2022-04-13T17:21:32.640Z"
   },
   {
    "duration": 12,
    "start_time": "2022-04-13T17:21:44.100Z"
   },
   {
    "duration": 1443,
    "start_time": "2022-04-13T17:25:28.441Z"
   },
   {
    "duration": 685,
    "start_time": "2022-04-13T17:25:29.886Z"
   },
   {
    "duration": 19,
    "start_time": "2022-04-13T17:25:30.573Z"
   },
   {
    "duration": 18,
    "start_time": "2022-04-13T17:25:30.594Z"
   },
   {
    "duration": 30,
    "start_time": "2022-04-13T17:25:30.614Z"
   },
   {
    "duration": 18,
    "start_time": "2022-04-13T17:25:30.646Z"
   },
   {
    "duration": 14,
    "start_time": "2022-04-13T17:25:30.665Z"
   },
   {
    "duration": 12,
    "start_time": "2022-04-13T17:25:30.681Z"
   },
   {
    "duration": 21,
    "start_time": "2022-04-13T17:25:30.695Z"
   },
   {
    "duration": 21,
    "start_time": "2022-04-13T17:25:30.719Z"
   },
   {
    "duration": 22,
    "start_time": "2022-04-13T17:25:30.741Z"
   },
   {
    "duration": 14,
    "start_time": "2022-04-13T17:25:30.765Z"
   },
   {
    "duration": 9,
    "start_time": "2022-04-13T17:25:30.780Z"
   },
   {
    "duration": 21,
    "start_time": "2022-04-13T17:25:30.791Z"
   },
   {
    "duration": 241,
    "start_time": "2022-04-13T17:25:30.814Z"
   },
   {
    "duration": 228,
    "start_time": "2022-04-13T17:25:31.057Z"
   },
   {
    "duration": 5,
    "start_time": "2022-04-13T17:25:31.287Z"
   },
   {
    "duration": 131,
    "start_time": "2022-04-13T17:25:31.294Z"
   },
   {
    "duration": 17,
    "start_time": "2022-04-13T17:25:31.427Z"
   },
   {
    "duration": 4,
    "start_time": "2022-04-13T17:25:31.446Z"
   },
   {
    "duration": 23,
    "start_time": "2022-04-13T17:25:31.452Z"
   },
   {
    "duration": 11,
    "start_time": "2022-04-13T17:25:31.477Z"
   },
   {
    "duration": 22,
    "start_time": "2022-04-13T17:25:31.490Z"
   },
   {
    "duration": 14,
    "start_time": "2022-04-13T17:25:31.514Z"
   },
   {
    "duration": 20,
    "start_time": "2022-04-13T17:25:31.530Z"
   },
   {
    "duration": 23,
    "start_time": "2022-04-13T17:25:31.552Z"
   },
   {
    "duration": 13,
    "start_time": "2022-04-13T17:25:31.577Z"
   },
   {
    "duration": 10,
    "start_time": "2022-04-13T17:25:31.595Z"
   },
   {
    "duration": 7,
    "start_time": "2022-04-13T17:25:31.607Z"
   },
   {
    "duration": 13,
    "start_time": "2022-04-13T17:25:31.616Z"
   },
   {
    "duration": 702,
    "start_time": "2022-04-13T17:25:31.631Z"
   },
   {
    "duration": 241,
    "start_time": "2022-04-13T17:25:32.334Z"
   },
   {
    "duration": 222,
    "start_time": "2022-04-13T17:25:32.576Z"
   },
   {
    "duration": 20,
    "start_time": "2022-04-13T17:25:32.799Z"
   },
   {
    "duration": 8,
    "start_time": "2022-04-13T17:25:32.820Z"
   },
   {
    "duration": 705,
    "start_time": "2022-04-13T17:25:32.830Z"
   },
   {
    "duration": 11,
    "start_time": "2022-04-13T17:25:33.537Z"
   },
   {
    "duration": 10,
    "start_time": "2022-04-13T17:25:33.549Z"
   },
   {
    "duration": 14,
    "start_time": "2022-04-13T17:25:33.572Z"
   },
   {
    "duration": 1332,
    "start_time": "2022-04-13T17:25:39.104Z"
   },
   {
    "duration": 1178,
    "start_time": "2022-04-13T17:26:42.571Z"
   },
   {
    "duration": 1236,
    "start_time": "2022-04-13T17:26:56.217Z"
   },
   {
    "duration": 81,
    "start_time": "2022-04-13T17:27:37.634Z"
   },
   {
    "duration": 76,
    "start_time": "2022-04-13T17:28:13.476Z"
   },
   {
    "duration": 85,
    "start_time": "2022-04-13T17:29:28.025Z"
   },
   {
    "duration": 75,
    "start_time": "2022-04-13T17:29:39.482Z"
   },
   {
    "duration": 1231,
    "start_time": "2022-04-13T17:29:52.535Z"
   },
   {
    "duration": 1260,
    "start_time": "2022-04-13T17:30:15.407Z"
   },
   {
    "duration": 5,
    "start_time": "2022-04-13T17:31:36.206Z"
   },
   {
    "duration": 6,
    "start_time": "2022-04-13T17:32:01.345Z"
   },
   {
    "duration": 29,
    "start_time": "2022-04-13T17:32:31.755Z"
   },
   {
    "duration": 13,
    "start_time": "2022-04-13T17:32:34.593Z"
   },
   {
    "duration": 78,
    "start_time": "2022-04-13T17:35:18.139Z"
   },
   {
    "duration": 12,
    "start_time": "2022-04-13T17:36:09.457Z"
   },
   {
    "duration": 12,
    "start_time": "2022-04-13T17:50:25.201Z"
   },
   {
    "duration": 1477,
    "start_time": "2022-04-13T17:51:02.219Z"
   },
   {
    "duration": 678,
    "start_time": "2022-04-13T17:51:03.698Z"
   },
   {
    "duration": 19,
    "start_time": "2022-04-13T17:51:04.378Z"
   },
   {
    "duration": 4,
    "start_time": "2022-04-13T17:51:04.399Z"
   },
   {
    "duration": 18,
    "start_time": "2022-04-13T17:51:04.404Z"
   },
   {
    "duration": 14,
    "start_time": "2022-04-13T17:51:04.424Z"
   },
   {
    "duration": 38,
    "start_time": "2022-04-13T17:51:04.440Z"
   },
   {
    "duration": 13,
    "start_time": "2022-04-13T17:51:04.480Z"
   },
   {
    "duration": 10,
    "start_time": "2022-04-13T17:51:04.494Z"
   },
   {
    "duration": 4,
    "start_time": "2022-04-13T17:51:04.506Z"
   },
   {
    "duration": 9,
    "start_time": "2022-04-13T17:51:04.512Z"
   },
   {
    "duration": 6,
    "start_time": "2022-04-13T17:51:04.523Z"
   },
   {
    "duration": 5,
    "start_time": "2022-04-13T17:51:04.531Z"
   },
   {
    "duration": 36,
    "start_time": "2022-04-13T17:51:04.537Z"
   },
   {
    "duration": 247,
    "start_time": "2022-04-13T17:51:04.575Z"
   },
   {
    "duration": 251,
    "start_time": "2022-04-13T17:51:04.824Z"
   },
   {
    "duration": 5,
    "start_time": "2022-04-13T17:51:05.077Z"
   },
   {
    "duration": 130,
    "start_time": "2022-04-13T17:51:05.084Z"
   },
   {
    "duration": 16,
    "start_time": "2022-04-13T17:51:05.216Z"
   },
   {
    "duration": 3,
    "start_time": "2022-04-13T17:51:05.234Z"
   },
   {
    "duration": 11,
    "start_time": "2022-04-13T17:51:05.238Z"
   },
   {
    "duration": 24,
    "start_time": "2022-04-13T17:51:05.251Z"
   },
   {
    "duration": 13,
    "start_time": "2022-04-13T17:51:05.277Z"
   },
   {
    "duration": 12,
    "start_time": "2022-04-13T17:51:05.292Z"
   },
   {
    "duration": 21,
    "start_time": "2022-04-13T17:51:05.306Z"
   },
   {
    "duration": 3,
    "start_time": "2022-04-13T17:51:05.329Z"
   },
   {
    "duration": 7,
    "start_time": "2022-04-13T17:51:05.334Z"
   },
   {
    "duration": 4,
    "start_time": "2022-04-13T17:51:05.344Z"
   },
   {
    "duration": 9,
    "start_time": "2022-04-13T17:51:05.373Z"
   },
   {
    "duration": 6,
    "start_time": "2022-04-13T17:51:05.384Z"
   },
   {
    "duration": 696,
    "start_time": "2022-04-13T17:51:05.391Z"
   },
   {
    "duration": 242,
    "start_time": "2022-04-13T17:51:06.089Z"
   },
   {
    "duration": 225,
    "start_time": "2022-04-13T17:51:06.332Z"
   },
   {
    "duration": 23,
    "start_time": "2022-04-13T17:51:06.559Z"
   },
   {
    "duration": 8,
    "start_time": "2022-04-13T17:51:06.584Z"
   },
   {
    "duration": 690,
    "start_time": "2022-04-13T17:51:06.593Z"
   },
   {
    "duration": 11,
    "start_time": "2022-04-13T17:51:07.285Z"
   },
   {
    "duration": 12,
    "start_time": "2022-04-13T17:51:07.297Z"
   },
   {
    "duration": 13,
    "start_time": "2022-04-13T17:51:07.310Z"
   },
   {
    "duration": 4,
    "start_time": "2022-04-13T17:51:07.324Z"
   },
   {
    "duration": 8,
    "start_time": "2022-04-13T17:51:07.329Z"
   },
   {
    "duration": 59,
    "start_time": "2022-04-13T17:51:07.338Z"
   },
   {
    "duration": 13,
    "start_time": "2022-04-13T17:51:07.398Z"
   },
   {
    "duration": 18,
    "start_time": "2022-04-13T17:51:07.413Z"
   },
   {
    "duration": 13,
    "start_time": "2022-04-13T17:51:07.433Z"
   },
   {
    "duration": 164,
    "start_time": "2022-04-13T17:51:07.447Z"
   },
   {
    "duration": 3,
    "start_time": "2022-04-13T17:51:07.613Z"
   },
   {
    "duration": 5,
    "start_time": "2022-04-13T17:51:07.617Z"
   },
   {
    "duration": 5,
    "start_time": "2022-04-13T17:51:07.624Z"
   },
   {
    "duration": 7,
    "start_time": "2022-04-13T17:51:07.631Z"
   },
   {
    "duration": 34,
    "start_time": "2022-04-13T17:51:07.640Z"
   },
   {
    "duration": 706,
    "start_time": "2022-04-13T17:51:07.676Z"
   },
   {
    "duration": 2256,
    "start_time": "2022-04-13T17:51:08.384Z"
   },
   {
    "duration": 73,
    "start_time": "2022-04-13T17:51:18.431Z"
   },
   {
    "duration": 283,
    "start_time": "2022-04-13T17:51:56.893Z"
   },
   {
    "duration": 107,
    "start_time": "2022-04-13T17:52:11.257Z"
   },
   {
    "duration": 9,
    "start_time": "2022-04-13T17:53:56.315Z"
   },
   {
    "duration": 4,
    "start_time": "2022-04-13T17:54:55.561Z"
   },
   {
    "duration": 3,
    "start_time": "2022-04-13T17:55:22.147Z"
   },
   {
    "duration": 13003,
    "start_time": "2022-04-13T17:55:44.037Z"
   },
   {
    "duration": 12811,
    "start_time": "2022-04-13T17:56:34.327Z"
   },
   {
    "duration": 11,
    "start_time": "2022-04-13T17:57:38.302Z"
   },
   {
    "duration": 15,
    "start_time": "2022-04-13T17:58:05.467Z"
   },
   {
    "duration": 12,
    "start_time": "2022-04-13T17:58:07.759Z"
   },
   {
    "duration": 11,
    "start_time": "2022-04-13T17:58:39.438Z"
   },
   {
    "duration": 4,
    "start_time": "2022-04-13T18:03:47.820Z"
   },
   {
    "duration": 12883,
    "start_time": "2022-04-13T18:04:01.441Z"
   },
   {
    "duration": 11,
    "start_time": "2022-04-13T18:06:17.754Z"
   },
   {
    "duration": 10,
    "start_time": "2022-04-13T18:06:30.377Z"
   },
   {
    "duration": 4,
    "start_time": "2022-04-13T18:07:07.288Z"
   },
   {
    "duration": 13321,
    "start_time": "2022-04-13T18:07:15.061Z"
   },
   {
    "duration": 4,
    "start_time": "2022-04-13T18:08:16.785Z"
   },
   {
    "duration": 3,
    "start_time": "2022-04-13T18:08:42.556Z"
   },
   {
    "duration": 13393,
    "start_time": "2022-04-13T18:09:08.844Z"
   },
   {
    "duration": 13651,
    "start_time": "2022-04-13T18:16:14.231Z"
   },
   {
    "duration": 11,
    "start_time": "2022-04-13T18:19:02.095Z"
   },
   {
    "duration": 11,
    "start_time": "2022-04-13T18:22:38.031Z"
   },
   {
    "duration": 13401,
    "start_time": "2022-04-13T18:23:56.035Z"
   },
   {
    "duration": 65,
    "start_time": "2022-04-13T18:24:13.607Z"
   },
   {
    "duration": 6,
    "start_time": "2022-04-13T18:24:33.253Z"
   },
   {
    "duration": 14,
    "start_time": "2022-04-13T18:24:40.614Z"
   },
   {
    "duration": 18,
    "start_time": "2022-04-13T18:25:28.052Z"
   },
   {
    "duration": 5,
    "start_time": "2022-04-13T18:27:43.283Z"
   },
   {
    "duration": 17,
    "start_time": "2022-04-13T18:27:49.844Z"
   },
   {
    "duration": 13107,
    "start_time": "2022-04-13T18:31:45.617Z"
   },
   {
    "duration": 2,
    "start_time": "2022-04-13T18:32:37.134Z"
   },
   {
    "duration": 4,
    "start_time": "2022-04-13T18:32:56.551Z"
   },
   {
    "duration": 144,
    "start_time": "2022-04-13T18:34:03.510Z"
   },
   {
    "duration": 3,
    "start_time": "2022-04-13T18:35:06.953Z"
   },
   {
    "duration": 4,
    "start_time": "2022-04-13T18:35:09.266Z"
   },
   {
    "duration": 110,
    "start_time": "2022-04-13T18:35:11.487Z"
   },
   {
    "duration": 2,
    "start_time": "2022-04-13T18:36:22.000Z"
   },
   {
    "duration": 5,
    "start_time": "2022-04-13T18:37:11.687Z"
   },
   {
    "duration": 5,
    "start_time": "2022-04-13T18:37:31.978Z"
   },
   {
    "duration": 3,
    "start_time": "2022-04-13T18:37:59.496Z"
   },
   {
    "duration": 4,
    "start_time": "2022-04-13T18:38:42.884Z"
   },
   {
    "duration": 8,
    "start_time": "2022-04-13T18:40:20.648Z"
   },
   {
    "duration": 12,
    "start_time": "2022-04-13T18:40:40.891Z"
   },
   {
    "duration": 1342,
    "start_time": "2022-04-13T18:42:41.676Z"
   },
   {
    "duration": 1199,
    "start_time": "2022-04-13T18:42:43.020Z"
   },
   {
    "duration": 18,
    "start_time": "2022-04-13T18:42:44.221Z"
   },
   {
    "duration": 3,
    "start_time": "2022-04-13T18:42:44.241Z"
   },
   {
    "duration": 14,
    "start_time": "2022-04-13T18:42:44.245Z"
   },
   {
    "duration": 17,
    "start_time": "2022-04-13T18:42:44.260Z"
   },
   {
    "duration": 10,
    "start_time": "2022-04-13T18:42:44.278Z"
   },
   {
    "duration": 13,
    "start_time": "2022-04-13T18:42:44.289Z"
   },
   {
    "duration": 7,
    "start_time": "2022-04-13T18:42:44.304Z"
   },
   {
    "duration": 4,
    "start_time": "2022-04-13T18:42:44.314Z"
   },
   {
    "duration": 6,
    "start_time": "2022-04-13T18:42:44.319Z"
   },
   {
    "duration": 6,
    "start_time": "2022-04-13T18:42:44.326Z"
   },
   {
    "duration": 40,
    "start_time": "2022-04-13T18:42:44.334Z"
   },
   {
    "duration": 6,
    "start_time": "2022-04-13T18:42:44.375Z"
   },
   {
    "duration": 242,
    "start_time": "2022-04-13T18:42:44.383Z"
   },
   {
    "duration": 228,
    "start_time": "2022-04-13T18:42:44.627Z"
   },
   {
    "duration": 16,
    "start_time": "2022-04-13T18:42:44.857Z"
   },
   {
    "duration": 107,
    "start_time": "2022-04-13T18:42:44.874Z"
   },
   {
    "duration": 15,
    "start_time": "2022-04-13T18:42:44.983Z"
   },
   {
    "duration": 3,
    "start_time": "2022-04-13T18:42:45.000Z"
   },
   {
    "duration": 16,
    "start_time": "2022-04-13T18:42:45.005Z"
   },
   {
    "duration": 24,
    "start_time": "2022-04-13T18:42:45.024Z"
   },
   {
    "duration": 15,
    "start_time": "2022-04-13T18:42:45.050Z"
   },
   {
    "duration": 17,
    "start_time": "2022-04-13T18:42:45.066Z"
   },
   {
    "duration": 17,
    "start_time": "2022-04-13T18:42:45.085Z"
   },
   {
    "duration": 3,
    "start_time": "2022-04-13T18:42:45.104Z"
   },
   {
    "duration": 7,
    "start_time": "2022-04-13T18:42:45.109Z"
   },
   {
    "duration": 4,
    "start_time": "2022-04-13T18:42:45.120Z"
   },
   {
    "duration": 6,
    "start_time": "2022-04-13T18:42:45.125Z"
   },
   {
    "duration": 8,
    "start_time": "2022-04-13T18:42:45.133Z"
   },
   {
    "duration": 712,
    "start_time": "2022-04-13T18:42:45.143Z"
   },
   {
    "duration": 246,
    "start_time": "2022-04-13T18:42:45.857Z"
   },
   {
    "duration": 232,
    "start_time": "2022-04-13T18:42:46.104Z"
   },
   {
    "duration": 19,
    "start_time": "2022-04-13T18:42:46.338Z"
   },
   {
    "duration": 21,
    "start_time": "2022-04-13T18:42:46.359Z"
   },
   {
    "duration": 651,
    "start_time": "2022-04-13T18:42:46.381Z"
   },
   {
    "duration": 11,
    "start_time": "2022-04-13T18:42:47.034Z"
   },
   {
    "duration": 10,
    "start_time": "2022-04-13T18:42:47.047Z"
   },
   {
    "duration": 14,
    "start_time": "2022-04-13T18:42:47.072Z"
   },
   {
    "duration": 3,
    "start_time": "2022-04-13T18:42:47.088Z"
   },
   {
    "duration": 7,
    "start_time": "2022-04-13T18:42:47.093Z"
   },
   {
    "duration": 28,
    "start_time": "2022-04-13T18:42:47.102Z"
   },
   {
    "duration": 43,
    "start_time": "2022-04-13T18:42:47.132Z"
   },
   {
    "duration": 19,
    "start_time": "2022-04-13T18:42:47.177Z"
   },
   {
    "duration": 14,
    "start_time": "2022-04-13T18:42:47.198Z"
   },
   {
    "duration": 160,
    "start_time": "2022-04-13T18:42:47.213Z"
   },
   {
    "duration": 3,
    "start_time": "2022-04-13T18:42:47.375Z"
   },
   {
    "duration": 7,
    "start_time": "2022-04-13T18:42:47.380Z"
   },
   {
    "duration": 5,
    "start_time": "2022-04-13T18:42:47.389Z"
   },
   {
    "duration": 7,
    "start_time": "2022-04-13T18:42:47.396Z"
   },
   {
    "duration": 21,
    "start_time": "2022-04-13T18:42:47.405Z"
   },
   {
    "duration": 748,
    "start_time": "2022-04-13T18:42:47.428Z"
   },
   {
    "duration": 2304,
    "start_time": "2022-04-13T18:42:48.178Z"
   },
   {
    "duration": 106,
    "start_time": "2022-04-13T18:42:50.484Z"
   },
   {
    "duration": 0,
    "start_time": "2022-04-13T18:42:50.592Z"
   },
   {
    "duration": 0,
    "start_time": "2022-04-13T18:42:50.593Z"
   },
   {
    "duration": 0,
    "start_time": "2022-04-13T18:42:50.594Z"
   },
   {
    "duration": 0,
    "start_time": "2022-04-13T18:42:50.595Z"
   },
   {
    "duration": 0,
    "start_time": "2022-04-13T18:42:50.595Z"
   },
   {
    "duration": 0,
    "start_time": "2022-04-13T18:42:50.596Z"
   },
   {
    "duration": 0,
    "start_time": "2022-04-13T18:42:50.597Z"
   },
   {
    "duration": 0,
    "start_time": "2022-04-13T18:42:50.598Z"
   },
   {
    "duration": 0,
    "start_time": "2022-04-13T18:42:50.599Z"
   },
   {
    "duration": 2,
    "start_time": "2022-04-13T18:43:17.801Z"
   },
   {
    "duration": 13157,
    "start_time": "2022-04-13T18:43:20.001Z"
   },
   {
    "duration": 63,
    "start_time": "2022-04-13T18:43:33.160Z"
   },
   {
    "duration": 3,
    "start_time": "2022-04-13T18:43:33.225Z"
   },
   {
    "duration": 20,
    "start_time": "2022-04-13T18:43:33.229Z"
   },
   {
    "duration": 6,
    "start_time": "2022-04-13T18:43:48.139Z"
   },
   {
    "duration": 3,
    "start_time": "2022-04-13T18:43:50.349Z"
   },
   {
    "duration": 5,
    "start_time": "2022-04-13T18:43:52.201Z"
   },
   {
    "duration": 8,
    "start_time": "2022-04-13T18:43:55.147Z"
   },
   {
    "duration": 15,
    "start_time": "2022-04-13T18:43:57.545Z"
   },
   {
    "duration": 44,
    "start_time": "2022-04-13T18:55:08.743Z"
   },
   {
    "duration": 12,
    "start_time": "2022-04-13T18:55:14.544Z"
   },
   {
    "duration": 1367,
    "start_time": "2022-04-13T18:55:24.586Z"
   },
   {
    "duration": 636,
    "start_time": "2022-04-13T18:55:25.955Z"
   },
   {
    "duration": 18,
    "start_time": "2022-04-13T18:55:26.592Z"
   },
   {
    "duration": 3,
    "start_time": "2022-04-13T18:55:26.612Z"
   },
   {
    "duration": 14,
    "start_time": "2022-04-13T18:55:26.616Z"
   },
   {
    "duration": 13,
    "start_time": "2022-04-13T18:55:26.631Z"
   },
   {
    "duration": 34,
    "start_time": "2022-04-13T18:55:26.645Z"
   },
   {
    "duration": 11,
    "start_time": "2022-04-13T18:55:26.681Z"
   },
   {
    "duration": 6,
    "start_time": "2022-04-13T18:55:26.694Z"
   },
   {
    "duration": 4,
    "start_time": "2022-04-13T18:55:26.703Z"
   },
   {
    "duration": 7,
    "start_time": "2022-04-13T18:55:26.708Z"
   },
   {
    "duration": 6,
    "start_time": "2022-04-13T18:55:26.717Z"
   },
   {
    "duration": 5,
    "start_time": "2022-04-13T18:55:26.725Z"
   },
   {
    "duration": 13,
    "start_time": "2022-04-13T18:55:26.731Z"
   },
   {
    "duration": 267,
    "start_time": "2022-04-13T18:55:26.745Z"
   },
   {
    "duration": 228,
    "start_time": "2022-04-13T18:55:27.014Z"
   },
   {
    "duration": 5,
    "start_time": "2022-04-13T18:55:27.244Z"
   },
   {
    "duration": 123,
    "start_time": "2022-04-13T18:55:27.251Z"
   },
   {
    "duration": 16,
    "start_time": "2022-04-13T18:55:27.376Z"
   },
   {
    "duration": 3,
    "start_time": "2022-04-13T18:55:27.394Z"
   },
   {
    "duration": 6,
    "start_time": "2022-04-13T18:55:27.399Z"
   },
   {
    "duration": 12,
    "start_time": "2022-04-13T18:55:27.406Z"
   },
   {
    "duration": 17,
    "start_time": "2022-04-13T18:55:27.419Z"
   },
   {
    "duration": 36,
    "start_time": "2022-04-13T18:55:27.437Z"
   },
   {
    "duration": 20,
    "start_time": "2022-04-13T18:55:27.475Z"
   },
   {
    "duration": 3,
    "start_time": "2022-04-13T18:55:27.496Z"
   },
   {
    "duration": 7,
    "start_time": "2022-04-13T18:55:27.500Z"
   },
   {
    "duration": 4,
    "start_time": "2022-04-13T18:55:27.511Z"
   },
   {
    "duration": 7,
    "start_time": "2022-04-13T18:55:27.517Z"
   },
   {
    "duration": 7,
    "start_time": "2022-04-13T18:55:27.526Z"
   },
   {
    "duration": 740,
    "start_time": "2022-04-13T18:55:27.535Z"
   },
   {
    "duration": 259,
    "start_time": "2022-04-13T18:55:28.277Z"
   },
   {
    "duration": 238,
    "start_time": "2022-04-13T18:55:28.537Z"
   },
   {
    "duration": 19,
    "start_time": "2022-04-13T18:55:28.777Z"
   },
   {
    "duration": 8,
    "start_time": "2022-04-13T18:55:28.797Z"
   },
   {
    "duration": 702,
    "start_time": "2022-04-13T18:55:28.806Z"
   },
   {
    "duration": 10,
    "start_time": "2022-04-13T18:55:29.510Z"
   },
   {
    "duration": 11,
    "start_time": "2022-04-13T18:55:29.522Z"
   },
   {
    "duration": 15,
    "start_time": "2022-04-13T18:55:29.534Z"
   },
   {
    "duration": 24,
    "start_time": "2022-04-13T18:55:29.550Z"
   },
   {
    "duration": 8,
    "start_time": "2022-04-13T18:55:29.576Z"
   },
   {
    "duration": 28,
    "start_time": "2022-04-13T18:55:29.585Z"
   },
   {
    "duration": 12,
    "start_time": "2022-04-13T18:55:29.615Z"
   },
   {
    "duration": 16,
    "start_time": "2022-04-13T18:55:29.629Z"
   },
   {
    "duration": 38,
    "start_time": "2022-04-13T18:55:29.647Z"
   },
   {
    "duration": 147,
    "start_time": "2022-04-13T18:55:29.687Z"
   },
   {
    "duration": 3,
    "start_time": "2022-04-13T18:55:29.836Z"
   },
   {
    "duration": 10,
    "start_time": "2022-04-13T18:55:29.841Z"
   },
   {
    "duration": 6,
    "start_time": "2022-04-13T18:55:29.852Z"
   },
   {
    "duration": 14,
    "start_time": "2022-04-13T18:55:29.859Z"
   },
   {
    "duration": 20,
    "start_time": "2022-04-13T18:55:29.874Z"
   },
   {
    "duration": 688,
    "start_time": "2022-04-13T18:55:29.895Z"
   },
   {
    "duration": 2208,
    "start_time": "2022-04-13T18:55:30.674Z"
   },
   {
    "duration": 3,
    "start_time": "2022-04-13T18:55:32.884Z"
   },
   {
    "duration": 13220,
    "start_time": "2022-04-13T18:55:32.889Z"
   },
   {
    "duration": 68,
    "start_time": "2022-04-13T18:55:46.111Z"
   },
   {
    "duration": 2,
    "start_time": "2022-04-13T18:55:46.181Z"
   },
   {
    "duration": 6,
    "start_time": "2022-04-13T18:55:46.185Z"
   },
   {
    "duration": 108,
    "start_time": "2022-04-13T18:55:46.192Z"
   },
   {
    "duration": 0,
    "start_time": "2022-04-13T18:55:46.302Z"
   },
   {
    "duration": 0,
    "start_time": "2022-04-13T18:55:46.303Z"
   },
   {
    "duration": 0,
    "start_time": "2022-04-13T18:55:46.304Z"
   },
   {
    "duration": 0,
    "start_time": "2022-04-13T18:55:46.305Z"
   },
   {
    "duration": 0,
    "start_time": "2022-04-13T18:55:46.306Z"
   },
   {
    "duration": 6,
    "start_time": "2022-04-13T18:55:56.038Z"
   },
   {
    "duration": 11,
    "start_time": "2022-04-13T18:56:06.403Z"
   },
   {
    "duration": 5,
    "start_time": "2022-04-13T18:56:14.047Z"
   },
   {
    "duration": 3,
    "start_time": "2022-04-13T18:56:16.952Z"
   },
   {
    "duration": 4,
    "start_time": "2022-04-13T18:56:18.939Z"
   },
   {
    "duration": 7,
    "start_time": "2022-04-13T18:56:21.006Z"
   },
   {
    "duration": 11,
    "start_time": "2022-04-13T18:56:23.512Z"
   },
   {
    "duration": 6,
    "start_time": "2022-04-13T18:56:32.518Z"
   },
   {
    "duration": 3,
    "start_time": "2022-04-13T18:57:28.966Z"
   },
   {
    "duration": 3,
    "start_time": "2022-04-13T18:57:32.900Z"
   },
   {
    "duration": 5,
    "start_time": "2022-04-13T18:57:50.821Z"
   },
   {
    "duration": 6,
    "start_time": "2022-04-13T18:58:12.658Z"
   },
   {
    "duration": 7,
    "start_time": "2022-04-13T18:58:22.176Z"
   },
   {
    "duration": 3,
    "start_time": "2022-04-13T19:03:18.130Z"
   },
   {
    "duration": 8,
    "start_time": "2022-04-13T19:03:20.501Z"
   },
   {
    "duration": 7,
    "start_time": "2022-04-13T19:03:22.851Z"
   },
   {
    "duration": 6,
    "start_time": "2022-04-13T19:03:24.866Z"
   },
   {
    "duration": 3,
    "start_time": "2022-04-13T19:03:28.109Z"
   },
   {
    "duration": 3,
    "start_time": "2022-04-13T19:03:29.588Z"
   },
   {
    "duration": 5,
    "start_time": "2022-04-13T19:03:31.268Z"
   },
   {
    "duration": 6,
    "start_time": "2022-04-13T19:03:33.130Z"
   },
   {
    "duration": 8,
    "start_time": "2022-04-13T19:03:34.806Z"
   },
   {
    "duration": 3,
    "start_time": "2022-04-13T19:05:27.958Z"
   },
   {
    "duration": 3,
    "start_time": "2022-04-13T19:10:02.339Z"
   },
   {
    "duration": 3,
    "start_time": "2022-04-13T19:10:04.101Z"
   },
   {
    "duration": 6,
    "start_time": "2022-04-13T19:10:05.625Z"
   },
   {
    "duration": 7,
    "start_time": "2022-04-13T19:10:08.072Z"
   },
   {
    "duration": 168,
    "start_time": "2022-04-13T19:10:10.293Z"
   },
   {
    "duration": 135,
    "start_time": "2022-04-13T19:10:24.868Z"
   },
   {
    "duration": 7,
    "start_time": "2022-04-13T19:10:34.492Z"
   },
   {
    "duration": 4172,
    "start_time": "2022-04-13T19:12:36.693Z"
   },
   {
    "duration": 655,
    "start_time": "2022-04-13T19:12:40.868Z"
   },
   {
    "duration": 18,
    "start_time": "2022-04-13T19:12:41.525Z"
   },
   {
    "duration": 3,
    "start_time": "2022-04-13T19:12:41.545Z"
   },
   {
    "duration": 29,
    "start_time": "2022-04-13T19:12:41.550Z"
   },
   {
    "duration": 13,
    "start_time": "2022-04-13T19:12:41.580Z"
   },
   {
    "duration": 9,
    "start_time": "2022-04-13T19:12:41.595Z"
   },
   {
    "duration": 11,
    "start_time": "2022-04-13T19:12:41.606Z"
   },
   {
    "duration": 6,
    "start_time": "2022-04-13T19:12:41.619Z"
   },
   {
    "duration": 4,
    "start_time": "2022-04-13T19:12:41.627Z"
   },
   {
    "duration": 5,
    "start_time": "2022-04-13T19:12:41.633Z"
   },
   {
    "duration": 39,
    "start_time": "2022-04-13T19:12:41.639Z"
   },
   {
    "duration": 5,
    "start_time": "2022-04-13T19:12:41.680Z"
   },
   {
    "duration": 9,
    "start_time": "2022-04-13T19:12:41.688Z"
   },
   {
    "duration": 258,
    "start_time": "2022-04-13T19:12:41.698Z"
   },
   {
    "duration": 238,
    "start_time": "2022-04-13T19:12:41.958Z"
   },
   {
    "duration": 5,
    "start_time": "2022-04-13T19:12:42.198Z"
   },
   {
    "duration": 124,
    "start_time": "2022-04-13T19:12:42.204Z"
   },
   {
    "duration": 16,
    "start_time": "2022-04-13T19:12:42.329Z"
   },
   {
    "duration": 3,
    "start_time": "2022-04-13T19:12:42.347Z"
   },
   {
    "duration": 22,
    "start_time": "2022-04-13T19:12:42.351Z"
   },
   {
    "duration": 7,
    "start_time": "2022-04-13T19:12:42.375Z"
   },
   {
    "duration": 15,
    "start_time": "2022-04-13T19:12:42.383Z"
   },
   {
    "duration": 12,
    "start_time": "2022-04-13T19:12:42.400Z"
   },
   {
    "duration": 21,
    "start_time": "2022-04-13T19:12:42.414Z"
   },
   {
    "duration": 3,
    "start_time": "2022-04-13T19:12:42.437Z"
   },
   {
    "duration": 32,
    "start_time": "2022-04-13T19:12:42.442Z"
   },
   {
    "duration": 7,
    "start_time": "2022-04-13T19:12:42.476Z"
   },
   {
    "duration": 5,
    "start_time": "2022-04-13T19:12:42.485Z"
   },
   {
    "duration": 6,
    "start_time": "2022-04-13T19:12:42.492Z"
   },
   {
    "duration": 703,
    "start_time": "2022-04-13T19:12:42.499Z"
   },
   {
    "duration": 253,
    "start_time": "2022-04-13T19:12:43.204Z"
   },
   {
    "duration": 240,
    "start_time": "2022-04-13T19:12:43.459Z"
   },
   {
    "duration": 18,
    "start_time": "2022-04-13T19:12:43.701Z"
   },
   {
    "duration": 7,
    "start_time": "2022-04-13T19:12:43.721Z"
   },
   {
    "duration": 719,
    "start_time": "2022-04-13T19:12:43.730Z"
   },
   {
    "duration": 12,
    "start_time": "2022-04-13T19:12:44.451Z"
   },
   {
    "duration": 12,
    "start_time": "2022-04-13T19:12:44.472Z"
   },
   {
    "duration": 16,
    "start_time": "2022-04-13T19:12:44.486Z"
   },
   {
    "duration": 4,
    "start_time": "2022-04-13T19:12:44.505Z"
   },
   {
    "duration": 10,
    "start_time": "2022-04-13T19:12:44.514Z"
   },
   {
    "duration": 57,
    "start_time": "2022-04-13T19:12:44.526Z"
   },
   {
    "duration": 14,
    "start_time": "2022-04-13T19:12:44.585Z"
   },
   {
    "duration": 17,
    "start_time": "2022-04-13T19:12:44.601Z"
   },
   {
    "duration": 15,
    "start_time": "2022-04-13T19:12:44.620Z"
   },
   {
    "duration": 168,
    "start_time": "2022-04-13T19:12:44.636Z"
   },
   {
    "duration": 4,
    "start_time": "2022-04-13T19:12:44.806Z"
   },
   {
    "duration": 5,
    "start_time": "2022-04-13T19:12:44.812Z"
   },
   {
    "duration": 6,
    "start_time": "2022-04-13T19:12:44.819Z"
   },
   {
    "duration": 16,
    "start_time": "2022-04-13T19:12:44.827Z"
   },
   {
    "duration": 41,
    "start_time": "2022-04-13T19:12:44.845Z"
   },
   {
    "duration": 2,
    "start_time": "2022-04-13T19:12:48.472Z"
   },
   {
    "duration": 3,
    "start_time": "2022-04-13T19:12:50.730Z"
   },
   {
    "duration": 108,
    "start_time": "2022-04-13T19:14:00.118Z"
   },
   {
    "duration": 11,
    "start_time": "2022-04-13T19:17:17.511Z"
   },
   {
    "duration": 229,
    "start_time": "2022-04-13T19:18:14.445Z"
   },
   {
    "duration": 9,
    "start_time": "2022-04-13T19:18:43.585Z"
   },
   {
    "duration": 3,
    "start_time": "2022-04-13T19:19:08.103Z"
   },
   {
    "duration": 3,
    "start_time": "2022-04-13T19:19:18.112Z"
   },
   {
    "duration": 4,
    "start_time": "2022-04-13T19:19:36.384Z"
   },
   {
    "duration": 8,
    "start_time": "2022-04-13T19:19:50.096Z"
   },
   {
    "duration": 7,
    "start_time": "2022-04-13T19:20:01.601Z"
   },
   {
    "duration": 143,
    "start_time": "2022-04-13T19:24:51.370Z"
   },
   {
    "duration": 6,
    "start_time": "2022-04-13T19:25:03.935Z"
   },
   {
    "duration": 7,
    "start_time": "2022-04-13T19:25:34.208Z"
   },
   {
    "duration": 128,
    "start_time": "2022-04-13T19:25:50.920Z"
   },
   {
    "duration": 6,
    "start_time": "2022-04-13T19:25:56.554Z"
   },
   {
    "duration": 6,
    "start_time": "2022-04-13T19:25:58.638Z"
   },
   {
    "duration": 4,
    "start_time": "2022-04-13T19:26:12.817Z"
   },
   {
    "duration": 4,
    "start_time": "2022-04-13T19:27:00.934Z"
   },
   {
    "duration": 6,
    "start_time": "2022-04-13T19:27:06.636Z"
   },
   {
    "duration": 6,
    "start_time": "2022-04-13T19:27:12.699Z"
   },
   {
    "duration": 5,
    "start_time": "2022-04-13T19:27:54.318Z"
   },
   {
    "duration": 6,
    "start_time": "2022-04-13T19:28:32.726Z"
   },
   {
    "duration": 7,
    "start_time": "2022-04-13T19:28:53.397Z"
   },
   {
    "duration": 5,
    "start_time": "2022-04-13T19:31:19.941Z"
   },
   {
    "duration": 6,
    "start_time": "2022-04-13T19:31:26.963Z"
   },
   {
    "duration": 5,
    "start_time": "2022-04-13T19:31:42.862Z"
   },
   {
    "duration": 5,
    "start_time": "2022-04-13T19:32:10.259Z"
   },
   {
    "duration": 7,
    "start_time": "2022-04-13T19:32:21.984Z"
   },
   {
    "duration": 6,
    "start_time": "2022-04-13T19:33:34.623Z"
   },
   {
    "duration": 49,
    "start_time": "2022-04-14T15:10:31.293Z"
   },
   {
    "duration": 6,
    "start_time": "2022-04-14T15:10:34.651Z"
   },
   {
    "duration": 1787,
    "start_time": "2022-04-14T15:10:39.496Z"
   },
   {
    "duration": 663,
    "start_time": "2022-04-14T15:10:41.286Z"
   },
   {
    "duration": 25,
    "start_time": "2022-04-14T15:10:41.952Z"
   },
   {
    "duration": 3,
    "start_time": "2022-04-14T15:10:41.979Z"
   },
   {
    "duration": 13,
    "start_time": "2022-04-14T15:10:41.984Z"
   },
   {
    "duration": 13,
    "start_time": "2022-04-14T15:10:42.023Z"
   },
   {
    "duration": 14,
    "start_time": "2022-04-14T15:10:42.037Z"
   },
   {
    "duration": 13,
    "start_time": "2022-04-14T15:10:42.052Z"
   },
   {
    "duration": 6,
    "start_time": "2022-04-14T15:10:42.067Z"
   },
   {
    "duration": 4,
    "start_time": "2022-04-14T15:10:42.075Z"
   },
   {
    "duration": 5,
    "start_time": "2022-04-14T15:10:42.080Z"
   },
   {
    "duration": 37,
    "start_time": "2022-04-14T15:10:42.086Z"
   },
   {
    "duration": 3,
    "start_time": "2022-04-14T15:10:42.125Z"
   },
   {
    "duration": 10,
    "start_time": "2022-04-14T15:10:42.132Z"
   },
   {
    "duration": 247,
    "start_time": "2022-04-14T15:10:42.144Z"
   },
   {
    "duration": 305,
    "start_time": "2022-04-14T15:10:42.394Z"
   },
   {
    "duration": 5,
    "start_time": "2022-04-14T15:10:42.700Z"
   },
   {
    "duration": 35,
    "start_time": "2022-04-14T15:10:42.706Z"
   },
   {
    "duration": 15,
    "start_time": "2022-04-14T15:10:42.742Z"
   },
   {
    "duration": 2,
    "start_time": "2022-04-14T15:10:42.759Z"
   },
   {
    "duration": 6,
    "start_time": "2022-04-14T15:10:42.763Z"
   },
   {
    "duration": 8,
    "start_time": "2022-04-14T15:10:42.770Z"
   },
   {
    "duration": 12,
    "start_time": "2022-04-14T15:10:42.780Z"
   },
   {
    "duration": 39,
    "start_time": "2022-04-14T15:10:42.794Z"
   },
   {
    "duration": 16,
    "start_time": "2022-04-14T15:10:42.835Z"
   },
   {
    "duration": 3,
    "start_time": "2022-04-14T15:10:42.853Z"
   },
   {
    "duration": 7,
    "start_time": "2022-04-14T15:10:42.858Z"
   },
   {
    "duration": 9,
    "start_time": "2022-04-14T15:10:42.867Z"
   },
   {
    "duration": 12,
    "start_time": "2022-04-14T15:10:42.878Z"
   },
   {
    "duration": 8,
    "start_time": "2022-04-14T15:10:42.892Z"
   },
   {
    "duration": 686,
    "start_time": "2022-04-14T15:10:42.902Z"
   },
   {
    "duration": 244,
    "start_time": "2022-04-14T15:10:43.590Z"
   },
   {
    "duration": 228,
    "start_time": "2022-04-14T15:10:43.836Z"
   },
   {
    "duration": 17,
    "start_time": "2022-04-14T15:10:44.065Z"
   },
   {
    "duration": 18,
    "start_time": "2022-04-14T15:10:44.083Z"
   },
   {
    "duration": 624,
    "start_time": "2022-04-14T15:10:44.102Z"
   },
   {
    "duration": 11,
    "start_time": "2022-04-14T15:10:44.728Z"
   },
   {
    "duration": 10,
    "start_time": "2022-04-14T15:10:44.741Z"
   },
   {
    "duration": 13,
    "start_time": "2022-04-14T15:10:44.753Z"
   },
   {
    "duration": 4,
    "start_time": "2022-04-14T15:10:44.767Z"
   },
   {
    "duration": 6,
    "start_time": "2022-04-14T15:10:44.776Z"
   },
   {
    "duration": 65,
    "start_time": "2022-04-14T15:10:44.783Z"
   },
   {
    "duration": 13,
    "start_time": "2022-04-14T15:10:44.850Z"
   },
   {
    "duration": 18,
    "start_time": "2022-04-14T15:10:44.865Z"
   },
   {
    "duration": 11,
    "start_time": "2022-04-14T15:10:44.885Z"
   },
   {
    "duration": 156,
    "start_time": "2022-04-14T15:10:44.897Z"
   },
   {
    "duration": 3,
    "start_time": "2022-04-14T15:10:45.055Z"
   },
   {
    "duration": 13,
    "start_time": "2022-04-14T15:10:45.060Z"
   },
   {
    "duration": 6,
    "start_time": "2022-04-14T15:10:45.074Z"
   },
   {
    "duration": 7,
    "start_time": "2022-04-14T15:10:45.082Z"
   },
   {
    "duration": 20,
    "start_time": "2022-04-14T15:10:45.090Z"
   },
   {
    "duration": 3,
    "start_time": "2022-04-14T15:10:45.123Z"
   },
   {
    "duration": 395,
    "start_time": "2022-04-14T15:10:45.128Z"
   },
   {
    "duration": 103,
    "start_time": "2022-04-14T15:10:45.525Z"
   },
   {
    "duration": 93,
    "start_time": "2022-04-14T15:10:45.630Z"
   },
   {
    "duration": 98,
    "start_time": "2022-04-14T15:10:45.726Z"
   },
   {
    "duration": 14,
    "start_time": "2022-04-14T15:10:45.826Z"
   },
   {
    "duration": 27,
    "start_time": "2022-04-14T15:10:45.842Z"
   },
   {
    "duration": 24,
    "start_time": "2022-04-14T15:10:45.871Z"
   },
   {
    "duration": 15,
    "start_time": "2022-04-14T15:10:45.897Z"
   },
   {
    "duration": 22,
    "start_time": "2022-04-14T15:10:45.914Z"
   },
   {
    "duration": 22,
    "start_time": "2022-04-14T15:10:45.937Z"
   },
   {
    "duration": 2326,
    "start_time": "2022-04-14T15:10:45.961Z"
   },
   {
    "duration": 2,
    "start_time": "2022-04-14T15:10:48.289Z"
   },
   {
    "duration": 13915,
    "start_time": "2022-04-14T15:10:48.293Z"
   },
   {
    "duration": 65,
    "start_time": "2022-04-14T15:11:02.210Z"
   },
   {
    "duration": 2,
    "start_time": "2022-04-14T15:11:02.277Z"
   },
   {
    "duration": 2,
    "start_time": "2022-04-14T15:11:05.068Z"
   },
   {
    "duration": 6,
    "start_time": "2022-04-14T15:11:06.739Z"
   },
   {
    "duration": 4,
    "start_time": "2022-04-14T15:11:25.238Z"
   },
   {
    "duration": 4,
    "start_time": "2022-04-14T15:11:44.943Z"
   },
   {
    "duration": 73,
    "start_time": "2022-04-14T15:12:22.932Z"
   },
   {
    "duration": 3,
    "start_time": "2022-04-14T15:12:26.149Z"
   },
   {
    "duration": 4,
    "start_time": "2022-04-14T15:12:28.511Z"
   },
   {
    "duration": 6,
    "start_time": "2022-04-14T15:12:30.285Z"
   },
   {
    "duration": 6,
    "start_time": "2022-04-14T15:12:32.189Z"
   },
   {
    "duration": 4,
    "start_time": "2022-04-14T15:12:33.925Z"
   },
   {
    "duration": 5,
    "start_time": "2022-04-14T15:12:39.420Z"
   },
   {
    "duration": 6,
    "start_time": "2022-04-14T15:13:22.931Z"
   },
   {
    "duration": 7,
    "start_time": "2022-04-14T15:13:37.033Z"
   },
   {
    "duration": 3,
    "start_time": "2022-04-14T15:13:53.703Z"
   },
   {
    "duration": 2,
    "start_time": "2022-04-14T15:13:59.661Z"
   },
   {
    "duration": 14069,
    "start_time": "2022-04-14T15:14:14.615Z"
   },
   {
    "duration": 67,
    "start_time": "2022-04-14T15:14:35.748Z"
   },
   {
    "duration": 3,
    "start_time": "2022-04-14T15:15:04.685Z"
   },
   {
    "duration": 2,
    "start_time": "2022-04-14T15:15:44.500Z"
   },
   {
    "duration": 6,
    "start_time": "2022-04-14T15:15:58.495Z"
   },
   {
    "duration": 6,
    "start_time": "2022-04-14T15:16:13.528Z"
   },
   {
    "duration": 168,
    "start_time": "2022-04-14T15:17:03.739Z"
   },
   {
    "duration": 6,
    "start_time": "2022-04-14T15:17:10.758Z"
   },
   {
    "duration": 160,
    "start_time": "2022-04-14T15:17:12.833Z"
   },
   {
    "duration": 167,
    "start_time": "2022-04-14T15:17:25.806Z"
   },
   {
    "duration": 5,
    "start_time": "2022-04-14T15:17:55.135Z"
   },
   {
    "duration": 6,
    "start_time": "2022-04-14T15:18:12.358Z"
   },
   {
    "duration": 5,
    "start_time": "2022-04-14T15:18:48.847Z"
   },
   {
    "duration": 5,
    "start_time": "2022-04-14T15:19:11.023Z"
   },
   {
    "duration": 1613,
    "start_time": "2022-04-14T15:23:09.880Z"
   },
   {
    "duration": 822,
    "start_time": "2022-04-14T15:23:11.495Z"
   },
   {
    "duration": 19,
    "start_time": "2022-04-14T15:23:12.319Z"
   },
   {
    "duration": 8,
    "start_time": "2022-04-14T15:23:12.340Z"
   },
   {
    "duration": 32,
    "start_time": "2022-04-14T15:23:12.350Z"
   },
   {
    "duration": 16,
    "start_time": "2022-04-14T15:23:12.384Z"
   },
   {
    "duration": 25,
    "start_time": "2022-04-14T15:23:12.402Z"
   },
   {
    "duration": 27,
    "start_time": "2022-04-14T15:23:12.429Z"
   },
   {
    "duration": 23,
    "start_time": "2022-04-14T15:23:12.458Z"
   },
   {
    "duration": 8,
    "start_time": "2022-04-14T15:23:12.483Z"
   },
   {
    "duration": 21,
    "start_time": "2022-04-14T15:23:12.493Z"
   },
   {
    "duration": 23,
    "start_time": "2022-04-14T15:23:12.516Z"
   },
   {
    "duration": 31,
    "start_time": "2022-04-14T15:23:12.541Z"
   },
   {
    "duration": 24,
    "start_time": "2022-04-14T15:23:12.576Z"
   },
   {
    "duration": 243,
    "start_time": "2022-04-14T15:23:12.602Z"
   },
   {
    "duration": 239,
    "start_time": "2022-04-14T15:23:12.847Z"
   },
   {
    "duration": 5,
    "start_time": "2022-04-14T15:23:13.088Z"
   },
   {
    "duration": 127,
    "start_time": "2022-04-14T15:23:13.094Z"
   },
   {
    "duration": 15,
    "start_time": "2022-04-14T15:23:13.223Z"
   },
   {
    "duration": 3,
    "start_time": "2022-04-14T15:23:13.239Z"
   },
   {
    "duration": 11,
    "start_time": "2022-04-14T15:23:13.243Z"
   },
   {
    "duration": 15,
    "start_time": "2022-04-14T15:23:13.256Z"
   },
   {
    "duration": 32,
    "start_time": "2022-04-14T15:23:13.273Z"
   },
   {
    "duration": 15,
    "start_time": "2022-04-14T15:23:13.306Z"
   },
   {
    "duration": 40,
    "start_time": "2022-04-14T15:23:13.323Z"
   },
   {
    "duration": 13,
    "start_time": "2022-04-14T15:23:13.365Z"
   },
   {
    "duration": 19,
    "start_time": "2022-04-14T15:23:13.379Z"
   },
   {
    "duration": 18,
    "start_time": "2022-04-14T15:23:13.399Z"
   },
   {
    "duration": 13,
    "start_time": "2022-04-14T15:23:13.418Z"
   },
   {
    "duration": 23,
    "start_time": "2022-04-14T15:23:13.433Z"
   },
   {
    "duration": 696,
    "start_time": "2022-04-14T15:23:13.458Z"
   },
   {
    "duration": 245,
    "start_time": "2022-04-14T15:23:14.156Z"
   },
   {
    "duration": 204,
    "start_time": "2022-04-14T15:23:14.403Z"
   },
   {
    "duration": 29,
    "start_time": "2022-04-14T15:23:14.608Z"
   },
   {
    "duration": 7,
    "start_time": "2022-04-14T15:23:14.638Z"
   },
   {
    "duration": 754,
    "start_time": "2022-04-14T15:23:14.647Z"
   },
   {
    "duration": 21,
    "start_time": "2022-04-14T15:23:15.402Z"
   },
   {
    "duration": 11,
    "start_time": "2022-04-14T15:23:15.424Z"
   },
   {
    "duration": 14,
    "start_time": "2022-04-14T15:23:15.437Z"
   },
   {
    "duration": 3,
    "start_time": "2022-04-14T15:23:15.453Z"
   },
   {
    "duration": 5,
    "start_time": "2022-04-14T15:23:15.461Z"
   },
   {
    "duration": 60,
    "start_time": "2022-04-14T15:23:15.468Z"
   },
   {
    "duration": 13,
    "start_time": "2022-04-14T15:23:15.530Z"
   },
   {
    "duration": 18,
    "start_time": "2022-04-14T15:23:15.544Z"
   },
   {
    "duration": 13,
    "start_time": "2022-04-14T15:23:15.563Z"
   },
   {
    "duration": 160,
    "start_time": "2022-04-14T15:23:15.577Z"
   },
   {
    "duration": 4,
    "start_time": "2022-04-14T15:23:15.739Z"
   },
   {
    "duration": 5,
    "start_time": "2022-04-14T15:23:15.745Z"
   },
   {
    "duration": 5,
    "start_time": "2022-04-14T15:23:15.752Z"
   },
   {
    "duration": 7,
    "start_time": "2022-04-14T15:23:15.758Z"
   },
   {
    "duration": 26,
    "start_time": "2022-04-14T15:23:15.767Z"
   },
   {
    "duration": 5,
    "start_time": "2022-04-14T15:23:15.795Z"
   },
   {
    "duration": 321,
    "start_time": "2022-04-14T15:23:15.802Z"
   },
   {
    "duration": 103,
    "start_time": "2022-04-14T15:23:16.126Z"
   },
   {
    "duration": 4,
    "start_time": "2022-04-14T15:23:16.231Z"
   },
   {
    "duration": 99,
    "start_time": "2022-04-14T15:23:16.324Z"
   },
   {
    "duration": 4,
    "start_time": "2022-04-14T15:23:16.425Z"
   },
   {
    "duration": 14,
    "start_time": "2022-04-14T15:23:16.430Z"
   },
   {
    "duration": 121,
    "start_time": "2022-04-14T15:23:16.446Z"
   },
   {
    "duration": 0,
    "start_time": "2022-04-14T15:23:16.568Z"
   },
   {
    "duration": 0,
    "start_time": "2022-04-14T15:23:16.569Z"
   },
   {
    "duration": 0,
    "start_time": "2022-04-14T15:23:16.571Z"
   },
   {
    "duration": 0,
    "start_time": "2022-04-14T15:23:16.572Z"
   },
   {
    "duration": 0,
    "start_time": "2022-04-14T15:23:16.573Z"
   },
   {
    "duration": 0,
    "start_time": "2022-04-14T15:23:16.574Z"
   },
   {
    "duration": 0,
    "start_time": "2022-04-14T15:23:16.575Z"
   },
   {
    "duration": 0,
    "start_time": "2022-04-14T15:23:16.577Z"
   },
   {
    "duration": 0,
    "start_time": "2022-04-14T15:23:16.578Z"
   },
   {
    "duration": 0,
    "start_time": "2022-04-14T15:23:16.579Z"
   },
   {
    "duration": 0,
    "start_time": "2022-04-14T15:23:16.580Z"
   },
   {
    "duration": 0,
    "start_time": "2022-04-14T15:23:16.581Z"
   },
   {
    "duration": 0,
    "start_time": "2022-04-14T15:23:16.583Z"
   },
   {
    "duration": 6,
    "start_time": "2022-04-14T15:23:35.841Z"
   },
   {
    "duration": 4,
    "start_time": "2022-04-14T15:23:45.705Z"
   },
   {
    "duration": 720,
    "start_time": "2022-04-14T15:23:45.711Z"
   },
   {
    "duration": 17,
    "start_time": "2022-04-14T15:23:46.433Z"
   },
   {
    "duration": 2,
    "start_time": "2022-04-14T15:23:46.452Z"
   },
   {
    "duration": 11,
    "start_time": "2022-04-14T15:23:46.456Z"
   },
   {
    "duration": 13,
    "start_time": "2022-04-14T15:23:46.468Z"
   },
   {
    "duration": 9,
    "start_time": "2022-04-14T15:23:46.482Z"
   },
   {
    "duration": 41,
    "start_time": "2022-04-14T15:23:46.492Z"
   },
   {
    "duration": 5,
    "start_time": "2022-04-14T15:23:46.535Z"
   },
   {
    "duration": 7,
    "start_time": "2022-04-14T15:23:46.542Z"
   },
   {
    "duration": 3,
    "start_time": "2022-04-14T15:23:46.551Z"
   },
   {
    "duration": 12,
    "start_time": "2022-04-14T15:23:46.556Z"
   },
   {
    "duration": 9,
    "start_time": "2022-04-14T15:23:46.569Z"
   },
   {
    "duration": 11,
    "start_time": "2022-04-14T15:23:46.579Z"
   },
   {
    "duration": 217,
    "start_time": "2022-04-14T15:23:46.592Z"
   },
   {
    "duration": 222,
    "start_time": "2022-04-14T15:23:46.811Z"
   },
   {
    "duration": 5,
    "start_time": "2022-04-14T15:23:47.034Z"
   },
   {
    "duration": 20,
    "start_time": "2022-04-14T15:23:47.042Z"
   },
   {
    "duration": 15,
    "start_time": "2022-04-14T15:23:47.064Z"
   },
   {
    "duration": 3,
    "start_time": "2022-04-14T15:23:47.080Z"
   },
   {
    "duration": 5,
    "start_time": "2022-04-14T15:23:47.084Z"
   },
   {
    "duration": 8,
    "start_time": "2022-04-14T15:23:47.122Z"
   },
   {
    "duration": 14,
    "start_time": "2022-04-14T15:23:47.132Z"
   },
   {
    "duration": 14,
    "start_time": "2022-04-14T15:23:47.148Z"
   },
   {
    "duration": 14,
    "start_time": "2022-04-14T15:23:47.164Z"
   },
   {
    "duration": 3,
    "start_time": "2022-04-14T15:23:47.180Z"
   },
   {
    "duration": 38,
    "start_time": "2022-04-14T15:23:47.185Z"
   },
   {
    "duration": 6,
    "start_time": "2022-04-14T15:23:47.225Z"
   },
   {
    "duration": 27,
    "start_time": "2022-04-14T15:23:47.235Z"
   },
   {
    "duration": 17,
    "start_time": "2022-04-14T15:23:47.264Z"
   },
   {
    "duration": 666,
    "start_time": "2022-04-14T15:23:47.283Z"
   },
   {
    "duration": 353,
    "start_time": "2022-04-14T15:23:47.950Z"
   },
   {
    "duration": 215,
    "start_time": "2022-04-14T15:23:48.304Z"
   },
   {
    "duration": 17,
    "start_time": "2022-04-14T15:23:48.522Z"
   },
   {
    "duration": 7,
    "start_time": "2022-04-14T15:23:48.540Z"
   },
   {
    "duration": 535,
    "start_time": "2022-04-14T15:23:48.549Z"
   },
   {
    "duration": 10,
    "start_time": "2022-04-14T15:23:49.085Z"
   },
   {
    "duration": 26,
    "start_time": "2022-04-14T15:23:49.097Z"
   },
   {
    "duration": 22,
    "start_time": "2022-04-14T15:23:49.125Z"
   },
   {
    "duration": 3,
    "start_time": "2022-04-14T15:23:49.149Z"
   },
   {
    "duration": 12,
    "start_time": "2022-04-14T15:23:49.154Z"
   },
   {
    "duration": 32,
    "start_time": "2022-04-14T15:23:49.168Z"
   },
   {
    "duration": 21,
    "start_time": "2022-04-14T15:23:49.202Z"
   },
   {
    "duration": 17,
    "start_time": "2022-04-14T15:23:49.225Z"
   },
   {
    "duration": 11,
    "start_time": "2022-04-14T15:23:49.244Z"
   },
   {
    "duration": 139,
    "start_time": "2022-04-14T15:23:49.257Z"
   },
   {
    "duration": 3,
    "start_time": "2022-04-14T15:23:49.398Z"
   },
   {
    "duration": 4,
    "start_time": "2022-04-14T15:23:49.403Z"
   },
   {
    "duration": 15,
    "start_time": "2022-04-14T15:23:49.408Z"
   },
   {
    "duration": 7,
    "start_time": "2022-04-14T15:23:49.424Z"
   },
   {
    "duration": 21,
    "start_time": "2022-04-14T15:23:49.433Z"
   },
   {
    "duration": 4,
    "start_time": "2022-04-14T15:23:49.455Z"
   },
   {
    "duration": 269,
    "start_time": "2022-04-14T15:23:49.461Z"
   },
   {
    "duration": 96,
    "start_time": "2022-04-14T15:23:49.732Z"
   },
   {
    "duration": 93,
    "start_time": "2022-04-14T15:23:49.830Z"
   },
   {
    "duration": 4,
    "start_time": "2022-04-14T15:23:49.926Z"
   },
   {
    "duration": 96,
    "start_time": "2022-04-14T15:23:49.932Z"
   },
   {
    "duration": 9,
    "start_time": "2022-04-14T15:23:50.029Z"
   },
   {
    "duration": 8,
    "start_time": "2022-04-14T15:23:50.040Z"
   },
   {
    "duration": 4,
    "start_time": "2022-04-14T15:23:50.050Z"
   },
   {
    "duration": 8,
    "start_time": "2022-04-14T15:23:50.056Z"
   },
   {
    "duration": 6,
    "start_time": "2022-04-14T15:23:50.066Z"
   },
   {
    "duration": 5,
    "start_time": "2022-04-14T15:23:50.073Z"
   },
   {
    "duration": 8,
    "start_time": "2022-04-14T15:23:50.079Z"
   },
   {
    "duration": 14013,
    "start_time": "2022-04-14T15:23:50.089Z"
   },
   {
    "duration": 71,
    "start_time": "2022-04-14T15:24:04.104Z"
   },
   {
    "duration": 3,
    "start_time": "2022-04-14T15:24:04.177Z"
   },
   {
    "duration": 5,
    "start_time": "2022-04-14T15:24:04.182Z"
   },
   {
    "duration": 6,
    "start_time": "2022-04-14T15:24:04.189Z"
   },
   {
    "duration": 5,
    "start_time": "2022-04-14T15:24:04.197Z"
   },
   {
    "duration": 24,
    "start_time": "2022-04-14T15:24:04.203Z"
   },
   {
    "duration": 7,
    "start_time": "2022-04-14T15:24:04.228Z"
   },
   {
    "duration": 28,
    "start_time": "2022-04-14T15:24:04.236Z"
   },
   {
    "duration": 3,
    "start_time": "2022-04-14T15:24:18.852Z"
   },
   {
    "duration": 3,
    "start_time": "2022-04-14T15:25:50.631Z"
   },
   {
    "duration": 3,
    "start_time": "2022-04-14T15:27:05.704Z"
   },
   {
    "duration": 14111,
    "start_time": "2022-04-14T15:28:24.762Z"
   },
   {
    "duration": 78,
    "start_time": "2022-04-14T15:29:21.688Z"
   },
   {
    "duration": 3,
    "start_time": "2022-04-14T15:29:44.759Z"
   },
   {
    "duration": 3,
    "start_time": "2022-04-14T15:29:56.722Z"
   },
   {
    "duration": 3,
    "start_time": "2022-04-14T15:30:05.557Z"
   },
   {
    "duration": 4,
    "start_time": "2022-04-14T15:30:53.327Z"
   },
   {
    "duration": 5,
    "start_time": "2022-04-14T15:33:49.370Z"
   },
   {
    "duration": 6,
    "start_time": "2022-04-14T15:34:29.880Z"
   },
   {
    "duration": 6,
    "start_time": "2022-04-14T15:34:46.956Z"
   },
   {
    "duration": 6,
    "start_time": "2022-04-14T15:35:11.350Z"
   },
   {
    "duration": 6,
    "start_time": "2022-04-14T15:35:29.505Z"
   },
   {
    "duration": 1226,
    "start_time": "2022-04-14T15:42:12.102Z"
   },
   {
    "duration": 1304,
    "start_time": "2022-04-14T15:43:05.119Z"
   },
   {
    "duration": 3,
    "start_time": "2022-04-14T15:43:36.423Z"
   },
   {
    "duration": 3,
    "start_time": "2022-04-14T15:43:46.366Z"
   },
   {
    "duration": 1840,
    "start_time": "2022-04-14T15:44:54.091Z"
   },
   {
    "duration": 777,
    "start_time": "2022-04-14T15:44:55.934Z"
   },
   {
    "duration": 22,
    "start_time": "2022-04-14T15:44:56.713Z"
   },
   {
    "duration": 3,
    "start_time": "2022-04-14T15:44:56.737Z"
   },
   {
    "duration": 14,
    "start_time": "2022-04-14T15:44:56.741Z"
   },
   {
    "duration": 13,
    "start_time": "2022-04-14T15:44:56.757Z"
   },
   {
    "duration": 9,
    "start_time": "2022-04-14T15:44:56.771Z"
   },
   {
    "duration": 43,
    "start_time": "2022-04-14T15:44:56.782Z"
   },
   {
    "duration": 6,
    "start_time": "2022-04-14T15:44:56.827Z"
   },
   {
    "duration": 3,
    "start_time": "2022-04-14T15:44:56.836Z"
   },
   {
    "duration": 5,
    "start_time": "2022-04-14T15:44:56.841Z"
   },
   {
    "duration": 7,
    "start_time": "2022-04-14T15:44:56.847Z"
   },
   {
    "duration": 11,
    "start_time": "2022-04-14T15:44:56.856Z"
   },
   {
    "duration": 22,
    "start_time": "2022-04-14T15:44:56.868Z"
   },
   {
    "duration": 239,
    "start_time": "2022-04-14T15:44:56.892Z"
   },
   {
    "duration": 235,
    "start_time": "2022-04-14T15:44:57.133Z"
   },
   {
    "duration": 4,
    "start_time": "2022-04-14T15:44:57.370Z"
   },
   {
    "duration": 107,
    "start_time": "2022-04-14T15:44:57.375Z"
   },
   {
    "duration": 19,
    "start_time": "2022-04-14T15:44:57.484Z"
   },
   {
    "duration": 18,
    "start_time": "2022-04-14T15:44:57.505Z"
   },
   {
    "duration": 7,
    "start_time": "2022-04-14T15:44:57.525Z"
   },
   {
    "duration": 11,
    "start_time": "2022-04-14T15:44:57.534Z"
   },
   {
    "duration": 16,
    "start_time": "2022-04-14T15:44:57.547Z"
   },
   {
    "duration": 12,
    "start_time": "2022-04-14T15:44:57.564Z"
   },
   {
    "duration": 21,
    "start_time": "2022-04-14T15:44:57.578Z"
   },
   {
    "duration": 3,
    "start_time": "2022-04-14T15:44:57.622Z"
   },
   {
    "duration": 5,
    "start_time": "2022-04-14T15:44:57.626Z"
   },
   {
    "duration": 5,
    "start_time": "2022-04-14T15:44:57.635Z"
   },
   {
    "duration": 10,
    "start_time": "2022-04-14T15:44:57.641Z"
   },
   {
    "duration": 8,
    "start_time": "2022-04-14T15:44:57.653Z"
   },
   {
    "duration": 674,
    "start_time": "2022-04-14T15:44:57.662Z"
   },
   {
    "duration": 232,
    "start_time": "2022-04-14T15:44:58.338Z"
   },
   {
    "duration": 215,
    "start_time": "2022-04-14T15:44:58.572Z"
   },
   {
    "duration": 19,
    "start_time": "2022-04-14T15:44:58.788Z"
   },
   {
    "duration": 20,
    "start_time": "2022-04-14T15:44:58.808Z"
   },
   {
    "duration": 652,
    "start_time": "2022-04-14T15:44:58.830Z"
   },
   {
    "duration": 11,
    "start_time": "2022-04-14T15:44:59.484Z"
   },
   {
    "duration": 11,
    "start_time": "2022-04-14T15:44:59.496Z"
   },
   {
    "duration": 25,
    "start_time": "2022-04-14T15:44:59.508Z"
   },
   {
    "duration": 3,
    "start_time": "2022-04-14T15:44:59.535Z"
   },
   {
    "duration": 8,
    "start_time": "2022-04-14T15:44:59.540Z"
   },
   {
    "duration": 29,
    "start_time": "2022-04-14T15:44:59.549Z"
   },
   {
    "duration": 13,
    "start_time": "2022-04-14T15:44:59.580Z"
   },
   {
    "duration": 43,
    "start_time": "2022-04-14T15:44:59.594Z"
   },
   {
    "duration": 12,
    "start_time": "2022-04-14T15:44:59.639Z"
   },
   {
    "duration": 154,
    "start_time": "2022-04-14T15:44:59.652Z"
   },
   {
    "duration": 3,
    "start_time": "2022-04-14T15:44:59.808Z"
   },
   {
    "duration": 10,
    "start_time": "2022-04-14T15:44:59.813Z"
   },
   {
    "duration": 6,
    "start_time": "2022-04-14T15:44:59.825Z"
   },
   {
    "duration": 7,
    "start_time": "2022-04-14T15:44:59.833Z"
   },
   {
    "duration": 29,
    "start_time": "2022-04-14T15:44:59.842Z"
   },
   {
    "duration": 2,
    "start_time": "2022-04-14T15:44:59.874Z"
   },
   {
    "duration": 6,
    "start_time": "2022-04-14T15:44:59.878Z"
   },
   {
    "duration": 10,
    "start_time": "2022-04-14T15:44:59.886Z"
   },
   {
    "duration": 1928,
    "start_time": "2022-04-14T15:44:59.898Z"
   },
   {
    "duration": 3,
    "start_time": "2022-04-14T15:45:01.829Z"
   },
   {
    "duration": 3,
    "start_time": "2022-04-14T15:45:05.698Z"
   },
   {
    "duration": 107,
    "start_time": "2022-04-14T15:46:19.476Z"
   },
   {
    "duration": 3,
    "start_time": "2022-04-14T15:46:28.309Z"
   },
   {
    "duration": 1976,
    "start_time": "2022-04-15T15:59:13.320Z"
   },
   {
    "duration": 872,
    "start_time": "2022-04-15T15:59:15.298Z"
   },
   {
    "duration": 35,
    "start_time": "2022-04-15T15:59:16.172Z"
   },
   {
    "duration": 5,
    "start_time": "2022-04-15T15:59:16.209Z"
   },
   {
    "duration": 36,
    "start_time": "2022-04-15T15:59:16.217Z"
   },
   {
    "duration": 13,
    "start_time": "2022-04-15T15:59:16.255Z"
   },
   {
    "duration": 9,
    "start_time": "2022-04-15T15:59:16.270Z"
   },
   {
    "duration": 20,
    "start_time": "2022-04-15T15:59:16.280Z"
   },
   {
    "duration": 42,
    "start_time": "2022-04-15T15:59:16.301Z"
   },
   {
    "duration": 10,
    "start_time": "2022-04-15T15:59:16.345Z"
   },
   {
    "duration": 8,
    "start_time": "2022-04-15T15:59:16.357Z"
   },
   {
    "duration": 8,
    "start_time": "2022-04-15T15:59:16.367Z"
   },
   {
    "duration": 7,
    "start_time": "2022-04-15T15:59:16.377Z"
   },
   {
    "duration": 58,
    "start_time": "2022-04-15T15:59:16.389Z"
   },
   {
    "duration": 438,
    "start_time": "2022-04-15T15:59:16.450Z"
   },
   {
    "duration": 419,
    "start_time": "2022-04-15T15:59:16.891Z"
   },
   {
    "duration": 6,
    "start_time": "2022-04-15T15:59:17.312Z"
   },
   {
    "duration": 151,
    "start_time": "2022-04-15T15:59:17.326Z"
   },
   {
    "duration": 25,
    "start_time": "2022-04-15T15:59:17.479Z"
   },
   {
    "duration": 29,
    "start_time": "2022-04-15T15:59:17.506Z"
   },
   {
    "duration": 9,
    "start_time": "2022-04-15T15:59:17.537Z"
   },
   {
    "duration": 18,
    "start_time": "2022-04-15T15:59:17.548Z"
   },
   {
    "duration": 14,
    "start_time": "2022-04-15T15:59:17.568Z"
   },
   {
    "duration": 21,
    "start_time": "2022-04-15T15:59:17.584Z"
   },
   {
    "duration": 52,
    "start_time": "2022-04-15T15:59:17.607Z"
   },
   {
    "duration": 4,
    "start_time": "2022-04-15T15:59:17.660Z"
   },
   {
    "duration": 13,
    "start_time": "2022-04-15T15:59:17.666Z"
   },
   {
    "duration": 7,
    "start_time": "2022-04-15T15:59:17.681Z"
   },
   {
    "duration": 48,
    "start_time": "2022-04-15T15:59:17.689Z"
   },
   {
    "duration": 10,
    "start_time": "2022-04-15T15:59:17.739Z"
   },
   {
    "duration": 1251,
    "start_time": "2022-04-15T15:59:17.751Z"
   },
   {
    "duration": 383,
    "start_time": "2022-04-15T15:59:19.004Z"
   },
   {
    "duration": 288,
    "start_time": "2022-04-15T15:59:19.392Z"
   },
   {
    "duration": 21,
    "start_time": "2022-04-15T15:59:19.683Z"
   },
   {
    "duration": 50,
    "start_time": "2022-04-15T15:59:19.706Z"
   },
   {
    "duration": 864,
    "start_time": "2022-04-15T15:59:19.758Z"
   },
   {
    "duration": 15,
    "start_time": "2022-04-15T15:59:20.626Z"
   },
   {
    "duration": 19,
    "start_time": "2022-04-15T15:59:20.643Z"
   },
   {
    "duration": 29,
    "start_time": "2022-04-15T15:59:20.664Z"
   },
   {
    "duration": 10,
    "start_time": "2022-04-15T15:59:20.702Z"
   },
   {
    "duration": 27,
    "start_time": "2022-04-15T15:59:20.719Z"
   },
   {
    "duration": 31,
    "start_time": "2022-04-15T15:59:20.748Z"
   },
   {
    "duration": 14,
    "start_time": "2022-04-15T15:59:20.781Z"
   },
   {
    "duration": 58,
    "start_time": "2022-04-15T15:59:20.797Z"
   },
   {
    "duration": 11,
    "start_time": "2022-04-15T15:59:20.857Z"
   },
   {
    "duration": 176,
    "start_time": "2022-04-15T15:59:20.870Z"
   },
   {
    "duration": 4,
    "start_time": "2022-04-15T15:59:21.049Z"
   },
   {
    "duration": 7,
    "start_time": "2022-04-15T15:59:21.054Z"
   },
   {
    "duration": 7,
    "start_time": "2022-04-15T15:59:21.063Z"
   },
   {
    "duration": 10,
    "start_time": "2022-04-15T15:59:21.072Z"
   },
   {
    "duration": 27,
    "start_time": "2022-04-15T15:59:21.084Z"
   },
   {
    "duration": 30,
    "start_time": "2022-04-15T15:59:21.113Z"
   },
   {
    "duration": 2301,
    "start_time": "2022-04-15T15:59:21.144Z"
   },
   {
    "duration": 59,
    "start_time": "2022-04-15T15:59:23.447Z"
   },
   {
    "duration": 10,
    "start_time": "2022-04-15T15:59:30.721Z"
   },
   {
    "duration": 4,
    "start_time": "2022-04-15T16:02:59.153Z"
   },
   {
    "duration": 215,
    "start_time": "2022-04-15T16:04:57.030Z"
   },
   {
    "duration": 14,
    "start_time": "2022-04-15T16:05:38.155Z"
   },
   {
    "duration": 5,
    "start_time": "2022-04-15T16:05:41.315Z"
   },
   {
    "duration": 5778,
    "start_time": "2022-04-15T16:05:43.320Z"
   },
   {
    "duration": 2,
    "start_time": "2022-04-15T16:05:52.924Z"
   },
   {
    "duration": 12,
    "start_time": "2022-04-15T16:06:22.814Z"
   },
   {
    "duration": 3,
    "start_time": "2022-04-15T16:06:27.676Z"
   },
   {
    "duration": 9,
    "start_time": "2022-04-15T16:06:29.338Z"
   },
   {
    "duration": 1835,
    "start_time": "2022-04-15T16:06:43.407Z"
   },
   {
    "duration": 779,
    "start_time": "2022-04-15T16:06:45.244Z"
   },
   {
    "duration": 22,
    "start_time": "2022-04-15T16:06:46.025Z"
   },
   {
    "duration": 3,
    "start_time": "2022-04-15T16:06:46.049Z"
   },
   {
    "duration": 14,
    "start_time": "2022-04-15T16:06:46.055Z"
   },
   {
    "duration": 50,
    "start_time": "2022-04-15T16:06:46.071Z"
   },
   {
    "duration": 24,
    "start_time": "2022-04-15T16:06:46.123Z"
   },
   {
    "duration": 15,
    "start_time": "2022-04-15T16:06:46.149Z"
   },
   {
    "duration": 9,
    "start_time": "2022-04-15T16:06:46.166Z"
   },
   {
    "duration": 21,
    "start_time": "2022-04-15T16:06:46.177Z"
   },
   {
    "duration": 26,
    "start_time": "2022-04-15T16:06:46.201Z"
   },
   {
    "duration": 10,
    "start_time": "2022-04-15T16:06:46.229Z"
   },
   {
    "duration": 5,
    "start_time": "2022-04-15T16:06:46.241Z"
   },
   {
    "duration": 17,
    "start_time": "2022-04-15T16:06:46.249Z"
   },
   {
    "duration": 289,
    "start_time": "2022-04-15T16:06:46.268Z"
   },
   {
    "duration": 278,
    "start_time": "2022-04-15T16:06:46.559Z"
   },
   {
    "duration": 5,
    "start_time": "2022-04-15T16:06:46.840Z"
   },
   {
    "duration": 123,
    "start_time": "2022-04-15T16:06:46.846Z"
   },
   {
    "duration": 27,
    "start_time": "2022-04-15T16:06:46.971Z"
   },
   {
    "duration": 7,
    "start_time": "2022-04-15T16:06:47.000Z"
   },
   {
    "duration": 22,
    "start_time": "2022-04-15T16:06:47.009Z"
   },
   {
    "duration": 9,
    "start_time": "2022-04-15T16:06:47.033Z"
   },
   {
    "duration": 14,
    "start_time": "2022-04-15T16:06:47.044Z"
   },
   {
    "duration": 14,
    "start_time": "2022-04-15T16:06:47.060Z"
   },
   {
    "duration": 30,
    "start_time": "2022-04-15T16:06:47.093Z"
   },
   {
    "duration": 11,
    "start_time": "2022-04-15T16:06:47.125Z"
   },
   {
    "duration": 9,
    "start_time": "2022-04-15T16:06:47.138Z"
   },
   {
    "duration": 13,
    "start_time": "2022-04-15T16:06:47.149Z"
   },
   {
    "duration": 8,
    "start_time": "2022-04-15T16:06:47.164Z"
   },
   {
    "duration": 7,
    "start_time": "2022-04-15T16:06:47.174Z"
   },
   {
    "duration": 870,
    "start_time": "2022-04-15T16:06:47.183Z"
   },
   {
    "duration": 476,
    "start_time": "2022-04-15T16:06:48.055Z"
   },
   {
    "duration": 292,
    "start_time": "2022-04-15T16:06:48.533Z"
   },
   {
    "duration": 25,
    "start_time": "2022-04-15T16:06:48.826Z"
   },
   {
    "duration": 10,
    "start_time": "2022-04-15T16:06:48.853Z"
   },
   {
    "duration": 1199,
    "start_time": "2022-04-15T16:06:48.865Z"
   },
   {
    "duration": 16,
    "start_time": "2022-04-15T16:06:50.066Z"
   },
   {
    "duration": 21,
    "start_time": "2022-04-15T16:06:50.085Z"
   },
   {
    "duration": 32,
    "start_time": "2022-04-15T16:06:50.109Z"
   },
   {
    "duration": 4,
    "start_time": "2022-04-15T16:06:50.143Z"
   },
   {
    "duration": 6,
    "start_time": "2022-04-15T16:06:50.152Z"
   },
   {
    "duration": 57,
    "start_time": "2022-04-15T16:06:50.159Z"
   },
   {
    "duration": 23,
    "start_time": "2022-04-15T16:06:50.219Z"
   },
   {
    "duration": 27,
    "start_time": "2022-04-15T16:06:50.244Z"
   },
   {
    "duration": 41,
    "start_time": "2022-04-15T16:06:50.274Z"
   },
   {
    "duration": 157,
    "start_time": "2022-04-15T16:06:50.318Z"
   },
   {
    "duration": 4,
    "start_time": "2022-04-15T16:06:50.477Z"
   },
   {
    "duration": 23,
    "start_time": "2022-04-15T16:06:50.483Z"
   },
   {
    "duration": 20,
    "start_time": "2022-04-15T16:06:50.508Z"
   },
   {
    "duration": 7,
    "start_time": "2022-04-15T16:06:50.530Z"
   },
   {
    "duration": 35,
    "start_time": "2022-04-15T16:06:50.540Z"
   },
   {
    "duration": 3,
    "start_time": "2022-04-15T16:06:50.578Z"
   },
   {
    "duration": 4630,
    "start_time": "2022-04-15T16:06:50.582Z"
   },
   {
    "duration": 14,
    "start_time": "2022-04-15T16:06:55.220Z"
   },
   {
    "duration": 45,
    "start_time": "2022-04-15T16:06:55.294Z"
   },
   {
    "duration": 6,
    "start_time": "2022-04-15T16:06:55.342Z"
   },
   {
    "duration": 5843,
    "start_time": "2022-04-15T16:06:55.350Z"
   },
   {
    "duration": 4,
    "start_time": "2022-04-15T16:07:01.197Z"
   },
   {
    "duration": 4,
    "start_time": "2022-04-15T16:07:12.643Z"
   },
   {
    "duration": 7,
    "start_time": "2022-04-15T16:07:57.129Z"
   },
   {
    "duration": 3,
    "start_time": "2022-04-15T16:08:14.574Z"
   },
   {
    "duration": 34965,
    "start_time": "2022-04-15T16:08:44.757Z"
   },
   {
    "duration": 3,
    "start_time": "2022-04-15T16:09:29.083Z"
   },
   {
    "duration": 5,
    "start_time": "2022-04-15T16:09:34.538Z"
   },
   {
    "duration": 3,
    "start_time": "2022-04-15T16:14:46.825Z"
   },
   {
    "duration": 2093,
    "start_time": "2022-04-15T16:14:49.051Z"
   },
   {
    "duration": 3,
    "start_time": "2022-04-15T16:14:55.862Z"
   },
   {
    "duration": 6,
    "start_time": "2022-04-15T16:14:58.033Z"
   },
   {
    "duration": 3,
    "start_time": "2022-04-15T16:15:07.136Z"
   },
   {
    "duration": 3317,
    "start_time": "2022-04-15T16:15:09.272Z"
   },
   {
    "duration": 3,
    "start_time": "2022-04-15T16:15:16.440Z"
   },
   {
    "duration": 3,
    "start_time": "2022-04-15T16:15:19.034Z"
   },
   {
    "duration": 143,
    "start_time": "2022-04-15T16:34:26.805Z"
   },
   {
    "duration": 4,
    "start_time": "2022-04-15T16:34:53.559Z"
   },
   {
    "duration": 25,
    "start_time": "2022-04-15T16:35:00.876Z"
   },
   {
    "duration": 12,
    "start_time": "2022-04-15T16:35:40.538Z"
   },
   {
    "duration": 5,
    "start_time": "2022-04-15T16:35:49.362Z"
   },
   {
    "duration": 6,
    "start_time": "2022-04-15T16:35:51.712Z"
   },
   {
    "duration": 9,
    "start_time": "2022-04-15T16:36:07.376Z"
   },
   {
    "duration": 9,
    "start_time": "2022-04-15T16:36:25.561Z"
   },
   {
    "duration": 4,
    "start_time": "2022-04-15T16:36:34.619Z"
   },
   {
    "duration": 5,
    "start_time": "2022-04-15T16:36:36.953Z"
   },
   {
    "duration": 10,
    "start_time": "2022-04-15T16:37:19.609Z"
   },
   {
    "duration": 14,
    "start_time": "2022-04-15T16:37:37.629Z"
   },
   {
    "duration": 5,
    "start_time": "2022-04-15T16:37:53.984Z"
   },
   {
    "duration": 2153,
    "start_time": "2022-04-15T16:53:02.623Z"
   },
   {
    "duration": 1052,
    "start_time": "2022-04-15T16:53:04.778Z"
   },
   {
    "duration": 26,
    "start_time": "2022-04-15T16:53:05.832Z"
   },
   {
    "duration": 3,
    "start_time": "2022-04-15T16:53:05.861Z"
   },
   {
    "duration": 41,
    "start_time": "2022-04-15T16:53:05.867Z"
   },
   {
    "duration": 21,
    "start_time": "2022-04-15T16:53:05.910Z"
   },
   {
    "duration": 14,
    "start_time": "2022-04-15T16:53:05.934Z"
   },
   {
    "duration": 17,
    "start_time": "2022-04-15T16:53:05.950Z"
   },
   {
    "duration": 8,
    "start_time": "2022-04-15T16:53:05.969Z"
   },
   {
    "duration": 12,
    "start_time": "2022-04-15T16:53:05.996Z"
   },
   {
    "duration": 27,
    "start_time": "2022-04-15T16:53:06.011Z"
   },
   {
    "duration": 4,
    "start_time": "2022-04-15T16:53:06.040Z"
   },
   {
    "duration": 5,
    "start_time": "2022-04-15T16:53:06.046Z"
   },
   {
    "duration": 12,
    "start_time": "2022-04-15T16:53:06.054Z"
   },
   {
    "duration": 283,
    "start_time": "2022-04-15T16:53:06.068Z"
   },
   {
    "duration": 275,
    "start_time": "2022-04-15T16:53:06.352Z"
   },
   {
    "duration": 5,
    "start_time": "2022-04-15T16:53:06.629Z"
   },
   {
    "duration": 134,
    "start_time": "2022-04-15T16:53:06.636Z"
   },
   {
    "duration": 36,
    "start_time": "2022-04-15T16:53:06.772Z"
   },
   {
    "duration": 5,
    "start_time": "2022-04-15T16:53:06.814Z"
   },
   {
    "duration": 14,
    "start_time": "2022-04-15T16:53:06.824Z"
   },
   {
    "duration": 9,
    "start_time": "2022-04-15T16:53:06.840Z"
   },
   {
    "duration": 21,
    "start_time": "2022-04-15T16:53:06.852Z"
   },
   {
    "duration": 28,
    "start_time": "2022-04-15T16:53:06.876Z"
   },
   {
    "duration": 22,
    "start_time": "2022-04-15T16:53:06.906Z"
   },
   {
    "duration": 3,
    "start_time": "2022-04-15T16:53:06.930Z"
   },
   {
    "duration": 12,
    "start_time": "2022-04-15T16:53:06.935Z"
   },
   {
    "duration": 5,
    "start_time": "2022-04-15T16:53:06.949Z"
   },
   {
    "duration": 7,
    "start_time": "2022-04-15T16:53:06.956Z"
   },
   {
    "duration": 8,
    "start_time": "2022-04-15T16:53:06.964Z"
   },
   {
    "duration": 859,
    "start_time": "2022-04-15T16:53:06.974Z"
   },
   {
    "duration": 304,
    "start_time": "2022-04-15T16:53:07.834Z"
   },
   {
    "duration": 266,
    "start_time": "2022-04-15T16:53:08.141Z"
   },
   {
    "duration": 25,
    "start_time": "2022-04-15T16:53:08.409Z"
   },
   {
    "duration": 8,
    "start_time": "2022-04-15T16:53:08.436Z"
   },
   {
    "duration": 1136,
    "start_time": "2022-04-15T16:53:08.446Z"
   },
   {
    "duration": 20,
    "start_time": "2022-04-15T16:53:09.584Z"
   },
   {
    "duration": 36,
    "start_time": "2022-04-15T16:53:09.606Z"
   },
   {
    "duration": 19,
    "start_time": "2022-04-15T16:53:09.645Z"
   },
   {
    "duration": 5,
    "start_time": "2022-04-15T16:53:09.666Z"
   },
   {
    "duration": 20,
    "start_time": "2022-04-15T16:53:09.678Z"
   },
   {
    "duration": 41,
    "start_time": "2022-04-15T16:53:09.701Z"
   },
   {
    "duration": 13,
    "start_time": "2022-04-15T16:53:09.745Z"
   },
   {
    "duration": 35,
    "start_time": "2022-04-15T16:53:09.761Z"
   },
   {
    "duration": 19,
    "start_time": "2022-04-15T16:53:09.798Z"
   },
   {
    "duration": 218,
    "start_time": "2022-04-15T16:53:09.827Z"
   },
   {
    "duration": 4,
    "start_time": "2022-04-15T16:53:10.048Z"
   },
   {
    "duration": 7,
    "start_time": "2022-04-15T16:53:10.055Z"
   },
   {
    "duration": 15,
    "start_time": "2022-04-15T16:53:10.064Z"
   },
   {
    "duration": 22,
    "start_time": "2022-04-15T16:53:10.081Z"
   },
   {
    "duration": 70,
    "start_time": "2022-04-15T16:53:10.105Z"
   },
   {
    "duration": 12,
    "start_time": "2022-04-15T16:53:10.177Z"
   },
   {
    "duration": 4048,
    "start_time": "2022-04-15T16:53:10.191Z"
   },
   {
    "duration": 3,
    "start_time": "2022-04-15T16:53:14.241Z"
   },
   {
    "duration": 12,
    "start_time": "2022-04-15T16:53:14.299Z"
   },
   {
    "duration": 76,
    "start_time": "2022-04-15T16:53:14.322Z"
   },
   {
    "duration": 3912,
    "start_time": "2022-04-15T16:53:14.400Z"
   },
   {
    "duration": 3,
    "start_time": "2022-04-15T16:53:18.315Z"
   },
   {
    "duration": 14,
    "start_time": "2022-04-15T16:53:18.322Z"
   },
   {
    "duration": 3,
    "start_time": "2022-04-15T16:53:18.339Z"
   },
   {
    "duration": 37553,
    "start_time": "2022-04-15T16:53:18.344Z"
   },
   {
    "duration": 11,
    "start_time": "2022-04-15T16:53:55.902Z"
   },
   {
    "duration": 25,
    "start_time": "2022-04-15T16:53:55.917Z"
   },
   {
    "duration": 5,
    "start_time": "2022-04-15T16:53:55.944Z"
   },
   {
    "duration": 9,
    "start_time": "2022-04-15T16:53:55.950Z"
   },
   {
    "duration": 1865,
    "start_time": "2022-04-15T16:53:55.961Z"
   },
   {
    "duration": 0,
    "start_time": "2022-04-15T16:53:57.828Z"
   },
   {
    "duration": 0,
    "start_time": "2022-04-15T16:53:57.829Z"
   },
   {
    "duration": 0,
    "start_time": "2022-04-15T16:53:57.831Z"
   },
   {
    "duration": 0,
    "start_time": "2022-04-15T16:53:57.832Z"
   },
   {
    "duration": 0,
    "start_time": "2022-04-15T16:53:57.833Z"
   },
   {
    "duration": 2146,
    "start_time": "2022-04-15T16:56:40.655Z"
   },
   {
    "duration": 634,
    "start_time": "2022-04-15T16:56:53.183Z"
   },
   {
    "duration": 16,
    "start_time": "2022-04-15T16:57:03.341Z"
   },
   {
    "duration": 5,
    "start_time": "2022-04-15T16:58:48.647Z"
   },
   {
    "duration": 35,
    "start_time": "2022-04-15T16:58:51.081Z"
   },
   {
    "duration": 1837,
    "start_time": "2022-04-15T16:59:14.306Z"
   },
   {
    "duration": 807,
    "start_time": "2022-04-15T16:59:16.145Z"
   },
   {
    "duration": 22,
    "start_time": "2022-04-15T16:59:16.954Z"
   },
   {
    "duration": 17,
    "start_time": "2022-04-15T16:59:16.979Z"
   },
   {
    "duration": 43,
    "start_time": "2022-04-15T16:59:16.998Z"
   },
   {
    "duration": 14,
    "start_time": "2022-04-15T16:59:17.044Z"
   },
   {
    "duration": 11,
    "start_time": "2022-04-15T16:59:17.061Z"
   },
   {
    "duration": 27,
    "start_time": "2022-04-15T16:59:17.075Z"
   },
   {
    "duration": 12,
    "start_time": "2022-04-15T16:59:17.105Z"
   },
   {
    "duration": 15,
    "start_time": "2022-04-15T16:59:17.120Z"
   },
   {
    "duration": 9,
    "start_time": "2022-04-15T16:59:17.136Z"
   },
   {
    "duration": 6,
    "start_time": "2022-04-15T16:59:17.148Z"
   },
   {
    "duration": 11,
    "start_time": "2022-04-15T16:59:17.156Z"
   },
   {
    "duration": 17,
    "start_time": "2022-04-15T16:59:17.169Z"
   },
   {
    "duration": 321,
    "start_time": "2022-04-15T16:59:17.188Z"
   },
   {
    "duration": 382,
    "start_time": "2022-04-15T16:59:17.516Z"
   },
   {
    "duration": 15,
    "start_time": "2022-04-15T16:59:17.901Z"
   },
   {
    "duration": 139,
    "start_time": "2022-04-15T16:59:17.919Z"
   },
   {
    "duration": 16,
    "start_time": "2022-04-15T16:59:18.060Z"
   },
   {
    "duration": 18,
    "start_time": "2022-04-15T16:59:18.078Z"
   },
   {
    "duration": 8,
    "start_time": "2022-04-15T16:59:18.099Z"
   },
   {
    "duration": 33,
    "start_time": "2022-04-15T16:59:18.116Z"
   },
   {
    "duration": 21,
    "start_time": "2022-04-15T16:59:18.151Z"
   },
   {
    "duration": 12,
    "start_time": "2022-04-15T16:59:18.174Z"
   },
   {
    "duration": 29,
    "start_time": "2022-04-15T16:59:18.188Z"
   },
   {
    "duration": 26,
    "start_time": "2022-04-15T16:59:18.219Z"
   },
   {
    "duration": 9,
    "start_time": "2022-04-15T16:59:18.247Z"
   },
   {
    "duration": 6,
    "start_time": "2022-04-15T16:59:18.262Z"
   },
   {
    "duration": 6,
    "start_time": "2022-04-15T16:59:18.269Z"
   },
   {
    "duration": 6,
    "start_time": "2022-04-15T16:59:18.277Z"
   },
   {
    "duration": 1090,
    "start_time": "2022-04-15T16:59:18.285Z"
   },
   {
    "duration": 462,
    "start_time": "2022-04-15T16:59:19.377Z"
   },
   {
    "duration": 428,
    "start_time": "2022-04-15T16:59:19.842Z"
   },
   {
    "duration": 41,
    "start_time": "2022-04-15T16:59:20.272Z"
   },
   {
    "duration": 20,
    "start_time": "2022-04-15T16:59:20.319Z"
   },
   {
    "duration": 1390,
    "start_time": "2022-04-15T16:59:20.343Z"
   },
   {
    "duration": 13,
    "start_time": "2022-04-15T16:59:21.735Z"
   },
   {
    "duration": 12,
    "start_time": "2022-04-15T16:59:21.750Z"
   },
   {
    "duration": 56,
    "start_time": "2022-04-15T16:59:21.764Z"
   },
   {
    "duration": 10,
    "start_time": "2022-04-15T16:59:21.822Z"
   },
   {
    "duration": 8,
    "start_time": "2022-04-15T16:59:21.836Z"
   },
   {
    "duration": 32,
    "start_time": "2022-04-15T16:59:21.847Z"
   },
   {
    "duration": 28,
    "start_time": "2022-04-15T16:59:21.881Z"
   },
   {
    "duration": 36,
    "start_time": "2022-04-15T16:59:21.917Z"
   },
   {
    "duration": 13,
    "start_time": "2022-04-15T16:59:21.954Z"
   },
   {
    "duration": 178,
    "start_time": "2022-04-15T16:59:21.969Z"
   },
   {
    "duration": 4,
    "start_time": "2022-04-15T16:59:22.149Z"
   },
   {
    "duration": 5,
    "start_time": "2022-04-15T16:59:22.155Z"
   },
   {
    "duration": 5,
    "start_time": "2022-04-15T16:59:22.162Z"
   },
   {
    "duration": 30,
    "start_time": "2022-04-15T16:59:22.169Z"
   },
   {
    "duration": 55,
    "start_time": "2022-04-15T16:59:22.202Z"
   },
   {
    "duration": 4,
    "start_time": "2022-04-15T16:59:22.259Z"
   },
   {
    "duration": 3760,
    "start_time": "2022-04-15T16:59:22.265Z"
   },
   {
    "duration": 68,
    "start_time": "2022-04-15T16:59:26.030Z"
   },
   {
    "duration": 40,
    "start_time": "2022-04-15T16:59:26.100Z"
   },
   {
    "duration": 10,
    "start_time": "2022-04-15T16:59:26.143Z"
   },
   {
    "duration": 3794,
    "start_time": "2022-04-15T16:59:26.155Z"
   },
   {
    "duration": 3,
    "start_time": "2022-04-15T16:59:29.951Z"
   },
   {
    "duration": 10,
    "start_time": "2022-04-15T16:59:29.956Z"
   },
   {
    "duration": 7,
    "start_time": "2022-04-15T16:59:29.968Z"
   },
   {
    "duration": 33685,
    "start_time": "2022-04-15T16:59:29.977Z"
   },
   {
    "duration": 3,
    "start_time": "2022-04-15T17:00:03.664Z"
   },
   {
    "duration": 9,
    "start_time": "2022-04-15T17:00:03.669Z"
   },
   {
    "duration": 20,
    "start_time": "2022-04-15T17:00:03.680Z"
   },
   {
    "duration": 37,
    "start_time": "2022-04-15T17:00:03.702Z"
   },
   {
    "duration": 1396,
    "start_time": "2022-04-15T17:00:03.741Z"
   },
   {
    "duration": 240,
    "start_time": "2022-04-15T17:00:05.196Z"
   },
   {
    "duration": 0,
    "start_time": "2022-04-15T17:00:05.438Z"
   },
   {
    "duration": 0,
    "start_time": "2022-04-15T17:00:05.439Z"
   },
   {
    "duration": 0,
    "start_time": "2022-04-15T17:00:05.441Z"
   },
   {
    "duration": 0,
    "start_time": "2022-04-15T17:00:05.442Z"
   },
   {
    "duration": 0,
    "start_time": "2022-04-15T17:00:05.443Z"
   },
   {
    "duration": 12,
    "start_time": "2022-04-15T17:00:14.266Z"
   },
   {
    "duration": 18,
    "start_time": "2022-04-15T17:01:16.110Z"
   },
   {
    "duration": 8,
    "start_time": "2022-04-15T17:01:27.818Z"
   },
   {
    "duration": 5,
    "start_time": "2022-04-15T17:02:31.180Z"
   },
   {
    "duration": 16,
    "start_time": "2022-04-15T17:02:35.660Z"
   },
   {
    "duration": 22,
    "start_time": "2022-04-15T17:02:49.812Z"
   },
   {
    "duration": 4,
    "start_time": "2022-04-15T17:03:08.531Z"
   },
   {
    "duration": 1723,
    "start_time": "2022-04-15T17:03:10.890Z"
   },
   {
    "duration": 51,
    "start_time": "2022-04-15T17:03:19.385Z"
   },
   {
    "duration": 18,
    "start_time": "2022-04-15T17:04:18.227Z"
   },
   {
    "duration": 17,
    "start_time": "2022-04-15T17:05:21.136Z"
   },
   {
    "duration": 12,
    "start_time": "2022-04-15T17:08:02.520Z"
   },
   {
    "duration": 7,
    "start_time": "2022-04-15T17:12:50.360Z"
   },
   {
    "duration": 14,
    "start_time": "2022-04-15T17:15:11.033Z"
   },
   {
    "duration": 4,
    "start_time": "2022-04-15T17:15:13.649Z"
   },
   {
    "duration": 12,
    "start_time": "2022-04-15T17:16:05.211Z"
   },
   {
    "duration": 1037,
    "start_time": "2022-04-15T17:16:10.995Z"
   },
   {
    "duration": 659,
    "start_time": "2022-04-15T17:16:18.072Z"
   },
   {
    "duration": 27,
    "start_time": "2022-04-15T17:16:22.411Z"
   },
   {
    "duration": 8,
    "start_time": "2022-04-15T17:16:39.604Z"
   },
   {
    "duration": 4345,
    "start_time": "2022-04-15T17:17:09.773Z"
   },
   {
    "duration": 1092,
    "start_time": "2022-04-15T17:17:14.125Z"
   },
   {
    "duration": 16,
    "start_time": "2022-04-15T17:17:29.171Z"
   },
   {
    "duration": 2266,
    "start_time": "2022-04-16T14:18:10.081Z"
   },
   {
    "duration": 735,
    "start_time": "2022-04-16T14:18:12.349Z"
   },
   {
    "duration": 26,
    "start_time": "2022-04-16T14:18:13.086Z"
   },
   {
    "duration": 3,
    "start_time": "2022-04-16T14:18:13.115Z"
   },
   {
    "duration": 41,
    "start_time": "2022-04-16T14:18:13.122Z"
   },
   {
    "duration": 20,
    "start_time": "2022-04-16T14:18:13.166Z"
   },
   {
    "duration": 11,
    "start_time": "2022-04-16T14:18:13.188Z"
   },
   {
    "duration": 17,
    "start_time": "2022-04-16T14:18:13.201Z"
   },
   {
    "duration": 10,
    "start_time": "2022-04-16T14:18:13.252Z"
   },
   {
    "duration": 5,
    "start_time": "2022-04-16T14:18:13.264Z"
   },
   {
    "duration": 7,
    "start_time": "2022-04-16T14:18:13.272Z"
   },
   {
    "duration": 9,
    "start_time": "2022-04-16T14:18:13.281Z"
   },
   {
    "duration": 4,
    "start_time": "2022-04-16T14:18:13.292Z"
   },
   {
    "duration": 53,
    "start_time": "2022-04-16T14:18:13.301Z"
   },
   {
    "duration": 386,
    "start_time": "2022-04-16T14:18:13.357Z"
   },
   {
    "duration": 435,
    "start_time": "2022-04-16T14:18:13.746Z"
   },
   {
    "duration": 5,
    "start_time": "2022-04-16T14:18:14.183Z"
   },
   {
    "duration": 54,
    "start_time": "2022-04-16T14:18:14.190Z"
   },
   {
    "duration": 24,
    "start_time": "2022-04-16T14:18:14.246Z"
   },
   {
    "duration": 12,
    "start_time": "2022-04-16T14:18:14.272Z"
   },
   {
    "duration": 20,
    "start_time": "2022-04-16T14:18:14.286Z"
   },
   {
    "duration": 21,
    "start_time": "2022-04-16T14:18:14.308Z"
   },
   {
    "duration": 27,
    "start_time": "2022-04-16T14:18:14.331Z"
   },
   {
    "duration": 20,
    "start_time": "2022-04-16T14:18:14.361Z"
   },
   {
    "duration": 26,
    "start_time": "2022-04-16T14:18:14.383Z"
   },
   {
    "duration": 4,
    "start_time": "2022-04-16T14:18:14.411Z"
   },
   {
    "duration": 12,
    "start_time": "2022-04-16T14:18:14.417Z"
   },
   {
    "duration": 23,
    "start_time": "2022-04-16T14:18:14.431Z"
   },
   {
    "duration": 14,
    "start_time": "2022-04-16T14:18:14.456Z"
   },
   {
    "duration": 8,
    "start_time": "2022-04-16T14:18:14.472Z"
   },
   {
    "duration": 1133,
    "start_time": "2022-04-16T14:18:14.482Z"
   },
   {
    "duration": 408,
    "start_time": "2022-04-16T14:18:15.617Z"
   },
   {
    "duration": 381,
    "start_time": "2022-04-16T14:18:16.028Z"
   },
   {
    "duration": 44,
    "start_time": "2022-04-16T14:18:16.412Z"
   },
   {
    "duration": 13,
    "start_time": "2022-04-16T14:18:16.458Z"
   },
   {
    "duration": 1046,
    "start_time": "2022-04-16T14:18:16.473Z"
   },
   {
    "duration": 15,
    "start_time": "2022-04-16T14:18:17.521Z"
   },
   {
    "duration": 28,
    "start_time": "2022-04-16T14:18:17.538Z"
   },
   {
    "duration": 22,
    "start_time": "2022-04-16T14:18:17.568Z"
   },
   {
    "duration": 4,
    "start_time": "2022-04-16T14:18:17.592Z"
   },
   {
    "duration": 8,
    "start_time": "2022-04-16T14:18:17.602Z"
   },
   {
    "duration": 77,
    "start_time": "2022-04-16T14:18:17.612Z"
   },
   {
    "duration": 21,
    "start_time": "2022-04-16T14:18:17.691Z"
   },
   {
    "duration": 49,
    "start_time": "2022-04-16T14:18:17.714Z"
   },
   {
    "duration": 16,
    "start_time": "2022-04-16T14:18:17.765Z"
   },
   {
    "duration": 231,
    "start_time": "2022-04-16T14:18:17.783Z"
   },
   {
    "duration": 5,
    "start_time": "2022-04-16T14:18:18.016Z"
   },
   {
    "duration": 9,
    "start_time": "2022-04-16T14:18:18.023Z"
   },
   {
    "duration": 18,
    "start_time": "2022-04-16T14:18:18.034Z"
   },
   {
    "duration": 13,
    "start_time": "2022-04-16T14:18:18.054Z"
   },
   {
    "duration": 34,
    "start_time": "2022-04-16T14:18:18.069Z"
   },
   {
    "duration": 4,
    "start_time": "2022-04-16T14:18:18.106Z"
   },
   {
    "duration": 1447,
    "start_time": "2022-04-16T14:18:18.113Z"
   },
   {
    "duration": 97,
    "start_time": "2022-04-16T14:18:19.563Z"
   },
   {
    "duration": 99,
    "start_time": "2022-04-16T14:18:19.664Z"
   },
   {
    "duration": 15,
    "start_time": "2022-04-16T14:18:19.765Z"
   },
   {
    "duration": 3143,
    "start_time": "2022-04-16T14:18:19.782Z"
   },
   {
    "duration": 4,
    "start_time": "2022-04-16T14:18:22.928Z"
   },
   {
    "duration": 17,
    "start_time": "2022-04-16T14:18:22.935Z"
   },
   {
    "duration": 7,
    "start_time": "2022-04-16T14:18:22.955Z"
   },
   {
    "duration": 34282,
    "start_time": "2022-04-16T14:18:22.965Z"
   },
   {
    "duration": 4,
    "start_time": "2022-04-16T14:18:57.249Z"
   },
   {
    "duration": 8,
    "start_time": "2022-04-16T14:18:57.256Z"
   },
   {
    "duration": 6,
    "start_time": "2022-04-16T14:18:57.266Z"
   },
   {
    "duration": 8,
    "start_time": "2022-04-16T14:18:57.274Z"
   },
   {
    "duration": 370,
    "start_time": "2022-04-16T14:18:57.284Z"
   },
   {
    "duration": 301,
    "start_time": "2022-04-16T14:18:57.657Z"
   },
   {
    "duration": 0,
    "start_time": "2022-04-16T14:18:57.960Z"
   },
   {
    "duration": 0,
    "start_time": "2022-04-16T14:18:57.962Z"
   },
   {
    "duration": 0,
    "start_time": "2022-04-16T14:18:57.963Z"
   },
   {
    "duration": 0,
    "start_time": "2022-04-16T14:18:57.964Z"
   },
   {
    "duration": 0,
    "start_time": "2022-04-16T14:18:57.966Z"
   },
   {
    "duration": 20,
    "start_time": "2022-04-16T14:19:50.378Z"
   },
   {
    "duration": 9,
    "start_time": "2022-04-16T14:20:08.944Z"
   },
   {
    "duration": 9,
    "start_time": "2022-04-16T14:20:49.835Z"
   },
   {
    "duration": 3925,
    "start_time": "2022-04-16T14:21:00.787Z"
   },
   {
    "duration": 10,
    "start_time": "2022-04-16T14:21:16.220Z"
   },
   {
    "duration": 11,
    "start_time": "2022-04-16T14:21:21.824Z"
   },
   {
    "duration": 28,
    "start_time": "2022-04-16T14:21:24.549Z"
   },
   {
    "duration": 27,
    "start_time": "2022-04-16T14:22:36.901Z"
   },
   {
    "duration": 2039,
    "start_time": "2022-04-16T14:24:31.221Z"
   },
   {
    "duration": 784,
    "start_time": "2022-04-16T14:24:33.263Z"
   },
   {
    "duration": 27,
    "start_time": "2022-04-16T14:24:34.052Z"
   },
   {
    "duration": 4,
    "start_time": "2022-04-16T14:24:34.081Z"
   },
   {
    "duration": 17,
    "start_time": "2022-04-16T14:24:34.089Z"
   },
   {
    "duration": 47,
    "start_time": "2022-04-16T14:24:34.108Z"
   },
   {
    "duration": 13,
    "start_time": "2022-04-16T14:24:34.157Z"
   },
   {
    "duration": 18,
    "start_time": "2022-04-16T14:24:34.172Z"
   },
   {
    "duration": 9,
    "start_time": "2022-04-16T14:24:34.192Z"
   },
   {
    "duration": 49,
    "start_time": "2022-04-16T14:24:34.203Z"
   },
   {
    "duration": 5,
    "start_time": "2022-04-16T14:24:34.255Z"
   },
   {
    "duration": 18,
    "start_time": "2022-04-16T14:24:34.262Z"
   },
   {
    "duration": 13,
    "start_time": "2022-04-16T14:24:34.282Z"
   },
   {
    "duration": 34,
    "start_time": "2022-04-16T14:24:34.299Z"
   },
   {
    "duration": 386,
    "start_time": "2022-04-16T14:24:34.335Z"
   },
   {
    "duration": 389,
    "start_time": "2022-04-16T14:24:34.723Z"
   },
   {
    "duration": 6,
    "start_time": "2022-04-16T14:24:35.114Z"
   },
   {
    "duration": 136,
    "start_time": "2022-04-16T14:24:35.123Z"
   },
   {
    "duration": 21,
    "start_time": "2022-04-16T14:24:35.262Z"
   },
   {
    "duration": 8,
    "start_time": "2022-04-16T14:24:35.285Z"
   },
   {
    "duration": 26,
    "start_time": "2022-04-16T14:24:35.295Z"
   },
   {
    "duration": 22,
    "start_time": "2022-04-16T14:24:35.324Z"
   },
   {
    "duration": 28,
    "start_time": "2022-04-16T14:24:35.348Z"
   },
   {
    "duration": 16,
    "start_time": "2022-04-16T14:24:35.378Z"
   },
   {
    "duration": 40,
    "start_time": "2022-04-16T14:24:35.396Z"
   },
   {
    "duration": 14,
    "start_time": "2022-04-16T14:24:35.438Z"
   },
   {
    "duration": 27,
    "start_time": "2022-04-16T14:24:35.454Z"
   },
   {
    "duration": 22,
    "start_time": "2022-04-16T14:24:35.483Z"
   },
   {
    "duration": 17,
    "start_time": "2022-04-16T14:24:35.508Z"
   },
   {
    "duration": 25,
    "start_time": "2022-04-16T14:24:35.527Z"
   },
   {
    "duration": 1171,
    "start_time": "2022-04-16T14:24:35.554Z"
   },
   {
    "duration": 406,
    "start_time": "2022-04-16T14:24:36.727Z"
   },
   {
    "duration": 380,
    "start_time": "2022-04-16T14:24:37.135Z"
   },
   {
    "duration": 38,
    "start_time": "2022-04-16T14:24:37.517Z"
   },
   {
    "duration": 11,
    "start_time": "2022-04-16T14:24:37.557Z"
   },
   {
    "duration": 1076,
    "start_time": "2022-04-16T14:24:37.570Z"
   },
   {
    "duration": 15,
    "start_time": "2022-04-16T14:24:38.651Z"
   },
   {
    "duration": 16,
    "start_time": "2022-04-16T14:24:38.668Z"
   },
   {
    "duration": 37,
    "start_time": "2022-04-16T14:24:38.686Z"
   },
   {
    "duration": 5,
    "start_time": "2022-04-16T14:24:38.725Z"
   },
   {
    "duration": 8,
    "start_time": "2022-04-16T14:24:38.756Z"
   },
   {
    "duration": 49,
    "start_time": "2022-04-16T14:24:38.766Z"
   },
   {
    "duration": 40,
    "start_time": "2022-04-16T14:24:38.817Z"
   },
   {
    "duration": 25,
    "start_time": "2022-04-16T14:24:38.859Z"
   },
   {
    "duration": 16,
    "start_time": "2022-04-16T14:24:38.887Z"
   },
   {
    "duration": 251,
    "start_time": "2022-04-16T14:24:38.905Z"
   },
   {
    "duration": 5,
    "start_time": "2022-04-16T14:24:39.158Z"
   },
   {
    "duration": 13,
    "start_time": "2022-04-16T14:24:39.165Z"
   },
   {
    "duration": 15,
    "start_time": "2022-04-16T14:24:39.181Z"
   },
   {
    "duration": 13,
    "start_time": "2022-04-16T14:24:39.198Z"
   },
   {
    "duration": 41,
    "start_time": "2022-04-16T14:24:39.213Z"
   },
   {
    "duration": 4,
    "start_time": "2022-04-16T14:24:39.256Z"
   },
   {
    "duration": 1696,
    "start_time": "2022-04-16T14:24:39.262Z"
   },
   {
    "duration": 93,
    "start_time": "2022-04-16T14:24:40.962Z"
   },
   {
    "duration": 8,
    "start_time": "2022-04-16T14:24:41.057Z"
   },
   {
    "duration": 17,
    "start_time": "2022-04-16T14:24:41.069Z"
   },
   {
    "duration": 3337,
    "start_time": "2022-04-16T14:24:41.089Z"
   },
   {
    "duration": 4,
    "start_time": "2022-04-16T14:24:44.429Z"
   },
   {
    "duration": 19,
    "start_time": "2022-04-16T14:24:44.436Z"
   },
   {
    "duration": 7,
    "start_time": "2022-04-16T14:24:44.458Z"
   },
   {
    "duration": 34453,
    "start_time": "2022-04-16T14:24:44.467Z"
   },
   {
    "duration": 4,
    "start_time": "2022-04-16T14:25:18.922Z"
   },
   {
    "duration": 8,
    "start_time": "2022-04-16T14:25:18.928Z"
   },
   {
    "duration": 3,
    "start_time": "2022-04-16T14:25:18.952Z"
   },
   {
    "duration": 12,
    "start_time": "2022-04-16T14:25:18.957Z"
   },
   {
    "duration": 382,
    "start_time": "2022-04-16T14:25:18.971Z"
   },
   {
    "duration": 4400,
    "start_time": "2022-04-16T14:25:25.040Z"
   },
   {
    "duration": 171,
    "start_time": "2022-04-16T14:25:34.117Z"
   },
   {
    "duration": 20,
    "start_time": "2022-04-16T14:25:40.522Z"
   },
   {
    "duration": 11,
    "start_time": "2022-04-16T14:26:20.078Z"
   },
   {
    "duration": 4,
    "start_time": "2022-04-16T14:27:31.949Z"
   },
   {
    "duration": 8,
    "start_time": "2022-04-16T14:27:34.213Z"
   },
   {
    "duration": 76,
    "start_time": "2022-04-16T14:27:40.576Z"
   },
   {
    "duration": 8,
    "start_time": "2022-04-16T14:27:42.718Z"
   },
   {
    "duration": 13,
    "start_time": "2022-04-16T14:27:48.266Z"
   },
   {
    "duration": 6,
    "start_time": "2022-04-16T14:28:04.131Z"
   },
   {
    "duration": 7,
    "start_time": "2022-04-16T14:28:06.352Z"
   },
   {
    "duration": 6,
    "start_time": "2022-04-16T14:28:08.152Z"
   },
   {
    "duration": 5,
    "start_time": "2022-04-16T14:28:10.208Z"
   },
   {
    "duration": 2068,
    "start_time": "2022-04-16T14:28:32.772Z"
   },
   {
    "duration": 784,
    "start_time": "2022-04-16T14:28:34.844Z"
   },
   {
    "duration": 37,
    "start_time": "2022-04-16T14:28:35.630Z"
   },
   {
    "duration": 4,
    "start_time": "2022-04-16T14:28:35.671Z"
   },
   {
    "duration": 30,
    "start_time": "2022-04-16T14:28:35.678Z"
   },
   {
    "duration": 18,
    "start_time": "2022-04-16T14:28:35.710Z"
   },
   {
    "duration": 13,
    "start_time": "2022-04-16T14:28:35.756Z"
   },
   {
    "duration": 17,
    "start_time": "2022-04-16T14:28:35.771Z"
   },
   {
    "duration": 10,
    "start_time": "2022-04-16T14:28:35.790Z"
   },
   {
    "duration": 5,
    "start_time": "2022-04-16T14:28:35.804Z"
   },
   {
    "duration": 43,
    "start_time": "2022-04-16T14:28:35.811Z"
   },
   {
    "duration": 9,
    "start_time": "2022-04-16T14:28:35.856Z"
   },
   {
    "duration": 7,
    "start_time": "2022-04-16T14:28:35.867Z"
   },
   {
    "duration": 18,
    "start_time": "2022-04-16T14:28:35.876Z"
   },
   {
    "duration": 410,
    "start_time": "2022-04-16T14:28:35.897Z"
   },
   {
    "duration": 395,
    "start_time": "2022-04-16T14:28:36.309Z"
   },
   {
    "duration": 6,
    "start_time": "2022-04-16T14:28:36.706Z"
   },
   {
    "duration": 138,
    "start_time": "2022-04-16T14:28:36.714Z"
   },
   {
    "duration": 21,
    "start_time": "2022-04-16T14:28:36.854Z"
   },
   {
    "duration": 4,
    "start_time": "2022-04-16T14:28:36.877Z"
   },
   {
    "duration": 9,
    "start_time": "2022-04-16T14:28:36.883Z"
   },
   {
    "duration": 16,
    "start_time": "2022-04-16T14:28:36.894Z"
   },
   {
    "duration": 43,
    "start_time": "2022-04-16T14:28:36.913Z"
   },
   {
    "duration": 18,
    "start_time": "2022-04-16T14:28:36.958Z"
   },
   {
    "duration": 25,
    "start_time": "2022-04-16T14:28:36.978Z"
   },
   {
    "duration": 5,
    "start_time": "2022-04-16T14:28:37.005Z"
   },
   {
    "duration": 42,
    "start_time": "2022-04-16T14:28:37.012Z"
   },
   {
    "duration": 20,
    "start_time": "2022-04-16T14:28:37.060Z"
   },
   {
    "duration": 36,
    "start_time": "2022-04-16T14:28:37.082Z"
   },
   {
    "duration": 16,
    "start_time": "2022-04-16T14:28:37.120Z"
   },
   {
    "duration": 1141,
    "start_time": "2022-04-16T14:28:37.138Z"
   },
   {
    "duration": 403,
    "start_time": "2022-04-16T14:28:38.281Z"
   },
   {
    "duration": 366,
    "start_time": "2022-04-16T14:28:38.687Z"
   },
   {
    "duration": 26,
    "start_time": "2022-04-16T14:28:39.055Z"
   },
   {
    "duration": 10,
    "start_time": "2022-04-16T14:28:39.084Z"
   },
   {
    "duration": 1061,
    "start_time": "2022-04-16T14:28:39.096Z"
   },
   {
    "duration": 14,
    "start_time": "2022-04-16T14:28:40.160Z"
   },
   {
    "duration": 15,
    "start_time": "2022-04-16T14:28:40.177Z"
   },
   {
    "duration": 23,
    "start_time": "2022-04-16T14:28:40.194Z"
   },
   {
    "duration": 34,
    "start_time": "2022-04-16T14:28:40.219Z"
   },
   {
    "duration": 11,
    "start_time": "2022-04-16T14:28:40.255Z"
   },
   {
    "duration": 46,
    "start_time": "2022-04-16T14:28:40.268Z"
   },
   {
    "duration": 39,
    "start_time": "2022-04-16T14:28:40.316Z"
   },
   {
    "duration": 26,
    "start_time": "2022-04-16T14:28:40.357Z"
   },
   {
    "duration": 16,
    "start_time": "2022-04-16T14:28:40.385Z"
   },
   {
    "duration": 255,
    "start_time": "2022-04-16T14:28:40.403Z"
   },
   {
    "duration": 5,
    "start_time": "2022-04-16T14:28:40.660Z"
   },
   {
    "duration": 7,
    "start_time": "2022-04-16T14:28:40.666Z"
   },
   {
    "duration": 9,
    "start_time": "2022-04-16T14:28:40.675Z"
   },
   {
    "duration": 16,
    "start_time": "2022-04-16T14:28:40.686Z"
   },
   {
    "duration": 46,
    "start_time": "2022-04-16T14:28:40.705Z"
   },
   {
    "duration": 3,
    "start_time": "2022-04-16T14:28:40.753Z"
   },
   {
    "duration": 1393,
    "start_time": "2022-04-16T14:28:40.758Z"
   },
   {
    "duration": 5,
    "start_time": "2022-04-16T14:28:42.155Z"
   },
   {
    "duration": 98,
    "start_time": "2022-04-16T14:28:42.163Z"
   },
   {
    "duration": 8,
    "start_time": "2022-04-16T14:28:42.264Z"
   },
   {
    "duration": 3133,
    "start_time": "2022-04-16T14:28:42.274Z"
   },
   {
    "duration": 4,
    "start_time": "2022-04-16T14:28:45.409Z"
   },
   {
    "duration": 8,
    "start_time": "2022-04-16T14:28:45.415Z"
   },
   {
    "duration": 11,
    "start_time": "2022-04-16T14:28:45.425Z"
   },
   {
    "duration": 34492,
    "start_time": "2022-04-16T14:28:45.451Z"
   },
   {
    "duration": 8,
    "start_time": "2022-04-16T14:29:19.945Z"
   },
   {
    "duration": 10,
    "start_time": "2022-04-16T14:29:19.955Z"
   },
   {
    "duration": 6,
    "start_time": "2022-04-16T14:29:19.967Z"
   },
   {
    "duration": 8,
    "start_time": "2022-04-16T14:29:19.975Z"
   },
   {
    "duration": 367,
    "start_time": "2022-04-16T14:29:19.985Z"
   },
   {
    "duration": 96,
    "start_time": "2022-04-16T14:29:20.356Z"
   },
   {
    "duration": 11,
    "start_time": "2022-04-16T14:29:20.454Z"
   },
   {
    "duration": 188,
    "start_time": "2022-04-16T14:29:20.468Z"
   },
   {
    "duration": 5,
    "start_time": "2022-04-16T14:29:20.659Z"
   },
   {
    "duration": 14,
    "start_time": "2022-04-16T14:29:20.666Z"
   },
   {
    "duration": 7,
    "start_time": "2022-04-16T14:29:20.683Z"
   },
   {
    "duration": 8,
    "start_time": "2022-04-16T14:29:20.692Z"
   },
   {
    "duration": 65,
    "start_time": "2022-04-17T11:28:07.084Z"
   },
   {
    "duration": 1630,
    "start_time": "2022-04-17T11:41:51.307Z"
   },
   {
    "duration": 3,
    "start_time": "2022-04-17T11:48:07.151Z"
   },
   {
    "duration": 100,
    "start_time": "2022-04-17T11:49:13.728Z"
   },
   {
    "duration": 2,
    "start_time": "2022-04-17T11:49:17.590Z"
   },
   {
    "duration": 3,
    "start_time": "2022-04-17T11:49:19.835Z"
   },
   {
    "duration": 12,
    "start_time": "2022-04-17T11:49:21.964Z"
   },
   {
    "duration": 4,
    "start_time": "2022-04-17T11:49:26.860Z"
   },
   {
    "duration": 651,
    "start_time": "2022-04-17T11:49:26.866Z"
   },
   {
    "duration": 17,
    "start_time": "2022-04-17T11:49:27.518Z"
   },
   {
    "duration": 3,
    "start_time": "2022-04-17T11:49:27.537Z"
   },
   {
    "duration": 13,
    "start_time": "2022-04-17T11:49:27.542Z"
   },
   {
    "duration": 13,
    "start_time": "2022-04-17T11:49:27.557Z"
   },
   {
    "duration": 34,
    "start_time": "2022-04-17T11:49:27.571Z"
   },
   {
    "duration": 11,
    "start_time": "2022-04-17T11:49:27.606Z"
   },
   {
    "duration": 8,
    "start_time": "2022-04-17T11:49:27.619Z"
   },
   {
    "duration": 4,
    "start_time": "2022-04-17T11:49:27.628Z"
   },
   {
    "duration": 7,
    "start_time": "2022-04-17T11:49:27.635Z"
   },
   {
    "duration": 6,
    "start_time": "2022-04-17T11:49:27.643Z"
   },
   {
    "duration": 5,
    "start_time": "2022-04-17T11:49:27.650Z"
   },
   {
    "duration": 11,
    "start_time": "2022-04-17T11:49:27.656Z"
   },
   {
    "duration": 238,
    "start_time": "2022-04-17T11:49:27.668Z"
   },
   {
    "duration": 273,
    "start_time": "2022-04-17T11:49:27.908Z"
   },
   {
    "duration": 4,
    "start_time": "2022-04-17T11:49:28.183Z"
   },
   {
    "duration": 30,
    "start_time": "2022-04-17T11:49:28.189Z"
   },
   {
    "duration": 13,
    "start_time": "2022-04-17T11:49:28.221Z"
   },
   {
    "duration": 3,
    "start_time": "2022-04-17T11:49:28.235Z"
   },
   {
    "duration": 5,
    "start_time": "2022-04-17T11:49:28.240Z"
   },
   {
    "duration": 8,
    "start_time": "2022-04-17T11:49:28.246Z"
   },
   {
    "duration": 14,
    "start_time": "2022-04-17T11:49:28.256Z"
   },
   {
    "duration": 11,
    "start_time": "2022-04-17T11:49:28.300Z"
   },
   {
    "duration": 20,
    "start_time": "2022-04-17T11:49:28.313Z"
   },
   {
    "duration": 3,
    "start_time": "2022-04-17T11:49:28.335Z"
   },
   {
    "duration": 6,
    "start_time": "2022-04-17T11:49:28.339Z"
   },
   {
    "duration": 6,
    "start_time": "2022-04-17T11:49:28.346Z"
   },
   {
    "duration": 4,
    "start_time": "2022-04-17T11:49:28.356Z"
   },
   {
    "duration": 5,
    "start_time": "2022-04-17T11:49:28.361Z"
   },
   {
    "duration": 647,
    "start_time": "2022-04-17T11:49:28.367Z"
   },
   {
    "duration": 216,
    "start_time": "2022-04-17T11:49:29.016Z"
   },
   {
    "duration": 200,
    "start_time": "2022-04-17T11:49:29.234Z"
   },
   {
    "duration": 16,
    "start_time": "2022-04-17T11:49:29.436Z"
   },
   {
    "duration": 7,
    "start_time": "2022-04-17T11:49:29.454Z"
   },
   {
    "duration": 592,
    "start_time": "2022-04-17T11:49:29.462Z"
   },
   {
    "duration": 10,
    "start_time": "2022-04-17T11:49:30.056Z"
   },
   {
    "duration": 11,
    "start_time": "2022-04-17T11:49:30.068Z"
   },
   {
    "duration": 27,
    "start_time": "2022-04-17T11:49:30.080Z"
   },
   {
    "duration": 3,
    "start_time": "2022-04-17T11:49:30.109Z"
   },
   {
    "duration": 16,
    "start_time": "2022-04-17T11:49:30.114Z"
   },
   {
    "duration": 30,
    "start_time": "2022-04-17T11:49:30.131Z"
   },
   {
    "duration": 13,
    "start_time": "2022-04-17T11:49:30.162Z"
   },
   {
    "duration": 29,
    "start_time": "2022-04-17T11:49:30.176Z"
   },
   {
    "duration": 12,
    "start_time": "2022-04-17T11:49:30.207Z"
   },
   {
    "duration": 150,
    "start_time": "2022-04-17T11:49:30.221Z"
   },
   {
    "duration": 4,
    "start_time": "2022-04-17T11:49:30.373Z"
   },
   {
    "duration": 5,
    "start_time": "2022-04-17T11:49:30.379Z"
   },
   {
    "duration": 17,
    "start_time": "2022-04-17T11:49:30.386Z"
   },
   {
    "duration": 15,
    "start_time": "2022-04-17T11:49:30.405Z"
   },
   {
    "duration": 31,
    "start_time": "2022-04-17T11:49:30.423Z"
   },
   {
    "duration": 4,
    "start_time": "2022-04-17T11:49:30.456Z"
   },
   {
    "duration": 2239,
    "start_time": "2022-04-17T11:49:30.462Z"
   },
   {
    "duration": 3,
    "start_time": "2022-04-17T11:49:32.702Z"
   },
   {
    "duration": 22,
    "start_time": "2022-04-17T11:49:32.708Z"
   },
   {
    "duration": 90,
    "start_time": "2022-04-17T11:49:32.732Z"
   },
   {
    "duration": 2454,
    "start_time": "2022-04-17T11:49:32.823Z"
   },
   {
    "duration": 4,
    "start_time": "2022-04-17T11:49:35.278Z"
   },
   {
    "duration": 7,
    "start_time": "2022-04-17T11:49:35.283Z"
   },
   {
    "duration": 3,
    "start_time": "2022-04-17T11:49:35.301Z"
   },
   {
    "duration": 4,
    "start_time": "2022-04-17T11:49:35.306Z"
   },
   {
    "duration": 849922,
    "start_time": "2022-04-17T11:49:40.805Z"
   },
   {
    "duration": 4,
    "start_time": "2022-04-17T12:04:13.294Z"
   },
   {
    "duration": 10,
    "start_time": "2022-04-17T12:05:55.624Z"
   },
   {
    "duration": 4,
    "start_time": "2022-04-17T12:06:03.104Z"
   },
   {
    "duration": 21787,
    "start_time": "2022-04-17T12:06:05.700Z"
   },
   {
    "duration": 3,
    "start_time": "2022-04-17T12:06:30.876Z"
   },
   {
    "duration": 4,
    "start_time": "2022-04-17T12:06:33.573Z"
   },
   {
    "duration": 2,
    "start_time": "2022-04-17T12:07:23.421Z"
   },
   {
    "duration": 3,
    "start_time": "2022-04-17T12:10:10.751Z"
   },
   {
    "duration": 3,
    "start_time": "2022-04-17T12:10:14.170Z"
   },
   {
    "duration": 563102,
    "start_time": "2022-04-17T12:10:22.950Z"
   },
   {
    "duration": 3,
    "start_time": "2022-04-17T12:20:35.592Z"
   },
   {
    "duration": 3,
    "start_time": "2022-04-17T12:22:13.855Z"
   },
   {
    "duration": 1547,
    "start_time": "2022-04-17T12:22:20.398Z"
   },
   {
    "duration": 3,
    "start_time": "2022-04-17T12:22:23.299Z"
   },
   {
    "duration": 3,
    "start_time": "2022-04-17T12:22:25.665Z"
   },
   {
    "duration": 3,
    "start_time": "2022-04-17T12:22:29.746Z"
   },
   {
    "duration": 3,
    "start_time": "2022-04-17T12:23:09.156Z"
   },
   {
    "duration": 3,
    "start_time": "2022-04-17T12:23:57.827Z"
   },
   {
    "duration": 3,
    "start_time": "2022-04-17T12:24:18.633Z"
   },
   {
    "duration": 12173,
    "start_time": "2022-04-17T12:24:34.332Z"
   },
   {
    "duration": 5,
    "start_time": "2022-04-17T12:24:48.841Z"
   },
   {
    "duration": 3,
    "start_time": "2022-04-17T12:25:53.833Z"
   },
   {
    "duration": 1428,
    "start_time": "2022-04-17T12:26:01.275Z"
   },
   {
    "duration": 4,
    "start_time": "2022-04-17T12:26:06.358Z"
   },
   {
    "duration": 6,
    "start_time": "2022-04-17T12:26:13.092Z"
   },
   {
    "duration": 3,
    "start_time": "2022-04-17T12:26:21.112Z"
   },
   {
    "duration": 1447,
    "start_time": "2022-04-17T12:27:09.078Z"
   },
   {
    "duration": 634,
    "start_time": "2022-04-17T12:27:10.527Z"
   },
   {
    "duration": 18,
    "start_time": "2022-04-17T12:27:11.163Z"
   },
   {
    "duration": 3,
    "start_time": "2022-04-17T12:27:11.182Z"
   },
   {
    "duration": 11,
    "start_time": "2022-04-17T12:27:11.201Z"
   },
   {
    "duration": 12,
    "start_time": "2022-04-17T12:27:11.213Z"
   },
   {
    "duration": 9,
    "start_time": "2022-04-17T12:27:11.227Z"
   },
   {
    "duration": 11,
    "start_time": "2022-04-17T12:27:11.238Z"
   },
   {
    "duration": 7,
    "start_time": "2022-04-17T12:27:11.250Z"
   },
   {
    "duration": 4,
    "start_time": "2022-04-17T12:27:11.258Z"
   },
   {
    "duration": 39,
    "start_time": "2022-04-17T12:27:11.263Z"
   },
   {
    "duration": 5,
    "start_time": "2022-04-17T12:27:11.304Z"
   },
   {
    "duration": 5,
    "start_time": "2022-04-17T12:27:11.310Z"
   },
   {
    "duration": 8,
    "start_time": "2022-04-17T12:27:11.318Z"
   },
   {
    "duration": 227,
    "start_time": "2022-04-17T12:27:11.328Z"
   },
   {
    "duration": 211,
    "start_time": "2022-04-17T12:27:11.557Z"
   },
   {
    "duration": 5,
    "start_time": "2022-04-17T12:27:11.769Z"
   },
   {
    "duration": 135,
    "start_time": "2022-04-17T12:27:11.776Z"
   },
   {
    "duration": 21,
    "start_time": "2022-04-17T12:27:11.913Z"
   },
   {
    "duration": 4,
    "start_time": "2022-04-17T12:27:11.936Z"
   },
   {
    "duration": 7,
    "start_time": "2022-04-17T12:27:11.942Z"
   },
   {
    "duration": 9,
    "start_time": "2022-04-17T12:27:11.952Z"
   },
   {
    "duration": 38,
    "start_time": "2022-04-17T12:27:11.962Z"
   },
   {
    "duration": 12,
    "start_time": "2022-04-17T12:27:12.001Z"
   },
   {
    "duration": 18,
    "start_time": "2022-04-17T12:27:12.015Z"
   },
   {
    "duration": 4,
    "start_time": "2022-04-17T12:27:12.034Z"
   },
   {
    "duration": 5,
    "start_time": "2022-04-17T12:27:12.039Z"
   },
   {
    "duration": 5,
    "start_time": "2022-04-17T12:27:12.045Z"
   },
   {
    "duration": 6,
    "start_time": "2022-04-17T12:27:12.052Z"
   },
   {
    "duration": 8,
    "start_time": "2022-04-17T12:27:12.060Z"
   },
   {
    "duration": 666,
    "start_time": "2022-04-17T12:27:12.069Z"
   },
   {
    "duration": 240,
    "start_time": "2022-04-17T12:27:12.737Z"
   },
   {
    "duration": 211,
    "start_time": "2022-04-17T12:27:12.979Z"
   },
   {
    "duration": 21,
    "start_time": "2022-04-17T12:27:13.191Z"
   },
   {
    "duration": 7,
    "start_time": "2022-04-17T12:27:13.214Z"
   },
   {
    "duration": 614,
    "start_time": "2022-04-17T12:27:13.222Z"
   },
   {
    "duration": 11,
    "start_time": "2022-04-17T12:27:13.837Z"
   },
   {
    "duration": 10,
    "start_time": "2022-04-17T12:27:13.850Z"
   },
   {
    "duration": 14,
    "start_time": "2022-04-17T12:27:13.861Z"
   },
   {
    "duration": 23,
    "start_time": "2022-04-17T12:27:13.877Z"
   },
   {
    "duration": 9,
    "start_time": "2022-04-17T12:27:13.904Z"
   },
   {
    "duration": 32,
    "start_time": "2022-04-17T12:27:13.914Z"
   },
   {
    "duration": 13,
    "start_time": "2022-04-17T12:27:13.947Z"
   },
   {
    "duration": 39,
    "start_time": "2022-04-17T12:27:13.962Z"
   },
   {
    "duration": 13,
    "start_time": "2022-04-17T12:27:14.002Z"
   },
   {
    "duration": 145,
    "start_time": "2022-04-17T12:27:14.017Z"
   },
   {
    "duration": 4,
    "start_time": "2022-04-17T12:27:14.163Z"
   },
   {
    "duration": 7,
    "start_time": "2022-04-17T12:27:14.169Z"
   },
   {
    "duration": 12,
    "start_time": "2022-04-17T12:27:14.178Z"
   },
   {
    "duration": 12,
    "start_time": "2022-04-17T12:27:14.191Z"
   },
   {
    "duration": 21,
    "start_time": "2022-04-17T12:27:14.205Z"
   },
   {
    "duration": 14,
    "start_time": "2022-04-17T12:27:14.228Z"
   },
   {
    "duration": 7,
    "start_time": "2022-04-17T12:27:14.244Z"
   },
   {
    "duration": 13452,
    "start_time": "2022-04-17T12:27:14.253Z"
   },
   {
    "duration": 7,
    "start_time": "2022-04-17T12:27:27.707Z"
   },
   {
    "duration": 91,
    "start_time": "2022-04-17T12:27:27.715Z"
   },
   {
    "duration": 1299,
    "start_time": "2022-04-17T12:27:27.808Z"
   },
   {
    "duration": 3,
    "start_time": "2022-04-17T12:27:29.111Z"
   },
   {
    "duration": 84,
    "start_time": "2022-04-17T12:27:29.116Z"
   },
   {
    "duration": 3,
    "start_time": "2022-04-17T12:27:29.202Z"
   },
   {
    "duration": 7,
    "start_time": "2022-04-17T12:27:29.207Z"
   },
   {
    "duration": 553429,
    "start_time": "2022-04-17T12:27:29.215Z"
   },
   {
    "duration": 3,
    "start_time": "2022-04-17T12:36:42.646Z"
   },
   {
    "duration": 5,
    "start_time": "2022-04-17T12:36:42.651Z"
   },
   {
    "duration": 1546,
    "start_time": "2022-04-17T12:36:42.657Z"
   },
   {
    "duration": 3,
    "start_time": "2022-04-17T12:36:44.205Z"
   },
   {
    "duration": 8,
    "start_time": "2022-04-17T12:36:44.210Z"
   },
   {
    "duration": 4,
    "start_time": "2022-04-17T12:36:44.220Z"
   },
   {
    "duration": 6,
    "start_time": "2022-04-17T12:36:44.226Z"
   },
   {
    "duration": 927781,
    "start_time": "2022-04-17T12:36:44.233Z"
   },
   {
    "duration": 4,
    "start_time": "2022-04-17T12:52:12.015Z"
   },
   {
    "duration": 8,
    "start_time": "2022-04-17T12:52:12.020Z"
   },
   {
    "duration": 21499,
    "start_time": "2022-04-17T12:52:12.029Z"
   },
   {
    "duration": 3,
    "start_time": "2022-04-17T12:52:33.530Z"
   },
   {
    "duration": 7,
    "start_time": "2022-04-17T12:52:33.535Z"
   },
   {
    "duration": 113,
    "start_time": "2022-04-17T12:52:33.546Z"
   },
   {
    "duration": 0,
    "start_time": "2022-04-17T12:52:33.661Z"
   },
   {
    "duration": 0,
    "start_time": "2022-04-17T12:52:33.662Z"
   },
   {
    "duration": 22,
    "start_time": "2022-04-17T12:53:32.005Z"
   },
   {
    "duration": 3,
    "start_time": "2022-04-17T12:53:42.653Z"
   },
   {
    "duration": 3,
    "start_time": "2022-04-17T12:54:01.190Z"
   },
   {
    "duration": 53246,
    "start_time": "2022-04-17T12:54:03.333Z"
   },
   {
    "duration": 3,
    "start_time": "2022-04-17T12:54:56.581Z"
   },
   {
    "duration": 14,
    "start_time": "2022-04-17T12:54:56.586Z"
   },
   {
    "duration": 3,
    "start_time": "2022-04-17T12:55:03.319Z"
   },
   {
    "duration": 3,
    "start_time": "2022-04-17T12:55:07.051Z"
   },
   {
    "duration": 581808,
    "start_time": "2022-04-17T12:55:11.984Z"
   },
   {
    "duration": 0,
    "start_time": "2022-04-17T13:04:53.794Z"
   },
   {
    "duration": 3,
    "start_time": "2022-04-17T13:05:09.550Z"
   },
   {
    "duration": 97459,
    "start_time": "2022-04-17T13:05:14.052Z"
   },
   {
    "duration": 4,
    "start_time": "2022-04-17T13:06:51.513Z"
   },
   {
    "duration": 3,
    "start_time": "2022-04-17T13:12:41.690Z"
   },
   {
    "duration": 6138,
    "start_time": "2022-04-17T13:13:03.588Z"
   },
   {
    "duration": 5895,
    "start_time": "2022-04-17T13:13:32.494Z"
   },
   {
    "duration": 2,
    "start_time": "2022-04-17T13:13:51.016Z"
   },
   {
    "duration": 5,
    "start_time": "2022-04-17T13:14:21.692Z"
   },
   {
    "duration": 4250,
    "start_time": "2022-04-18T12:41:23.354Z"
   },
   {
    "duration": 208,
    "start_time": "2022-04-18T12:45:28.551Z"
   },
   {
    "duration": 8,
    "start_time": "2022-04-18T12:45:38.782Z"
   },
   {
    "duration": 888,
    "start_time": "2022-04-18T12:45:38.794Z"
   },
   {
    "duration": 30,
    "start_time": "2022-04-18T12:45:39.685Z"
   },
   {
    "duration": 4,
    "start_time": "2022-04-18T12:45:39.718Z"
   },
   {
    "duration": 26,
    "start_time": "2022-04-18T12:45:39.727Z"
   },
   {
    "duration": 47,
    "start_time": "2022-04-18T12:45:39.756Z"
   },
   {
    "duration": 13,
    "start_time": "2022-04-18T12:45:39.806Z"
   },
   {
    "duration": 20,
    "start_time": "2022-04-18T12:45:39.822Z"
   },
   {
    "duration": 9,
    "start_time": "2022-04-18T12:45:39.844Z"
   },
   {
    "duration": 7,
    "start_time": "2022-04-18T12:45:39.894Z"
   },
   {
    "duration": 10,
    "start_time": "2022-04-18T12:45:39.904Z"
   },
   {
    "duration": 12,
    "start_time": "2022-04-18T12:45:39.916Z"
   },
   {
    "duration": 12,
    "start_time": "2022-04-18T12:45:39.930Z"
   },
   {
    "duration": 16,
    "start_time": "2022-04-18T12:45:39.947Z"
   },
   {
    "duration": 432,
    "start_time": "2022-04-18T12:45:39.965Z"
   },
   {
    "duration": 499,
    "start_time": "2022-04-18T12:45:40.400Z"
   },
   {
    "duration": 8,
    "start_time": "2022-04-18T12:45:40.902Z"
   },
   {
    "duration": 40,
    "start_time": "2022-04-18T12:45:40.912Z"
   },
   {
    "duration": 45,
    "start_time": "2022-04-18T12:45:40.955Z"
   },
   {
    "duration": 4,
    "start_time": "2022-04-18T12:45:41.003Z"
   },
   {
    "duration": 12,
    "start_time": "2022-04-18T12:45:41.010Z"
   },
   {
    "duration": 12,
    "start_time": "2022-04-18T12:45:41.025Z"
   },
   {
    "duration": 19,
    "start_time": "2022-04-18T12:45:41.039Z"
   },
   {
    "duration": 43,
    "start_time": "2022-04-18T12:45:41.061Z"
   },
   {
    "duration": 24,
    "start_time": "2022-04-18T12:45:41.107Z"
   },
   {
    "duration": 4,
    "start_time": "2022-04-18T12:45:41.134Z"
   },
   {
    "duration": 9,
    "start_time": "2022-04-18T12:45:41.140Z"
   },
   {
    "duration": 43,
    "start_time": "2022-04-18T12:45:41.151Z"
   },
   {
    "duration": 9,
    "start_time": "2022-04-18T12:45:41.196Z"
   },
   {
    "duration": 10,
    "start_time": "2022-04-18T12:45:41.207Z"
   },
   {
    "duration": 1184,
    "start_time": "2022-04-18T12:45:41.219Z"
   },
   {
    "duration": 407,
    "start_time": "2022-04-18T12:45:42.405Z"
   },
   {
    "duration": 368,
    "start_time": "2022-04-18T12:45:42.814Z"
   },
   {
    "duration": 33,
    "start_time": "2022-04-18T12:45:43.184Z"
   },
   {
    "duration": 10,
    "start_time": "2022-04-18T12:45:43.219Z"
   },
   {
    "duration": 1273,
    "start_time": "2022-04-18T12:45:43.231Z"
   },
   {
    "duration": 23,
    "start_time": "2022-04-18T12:45:44.507Z"
   },
   {
    "duration": 24,
    "start_time": "2022-04-18T12:45:44.533Z"
   },
   {
    "duration": 57,
    "start_time": "2022-04-18T12:45:44.560Z"
   },
   {
    "duration": 5,
    "start_time": "2022-04-18T12:45:44.620Z"
   },
   {
    "duration": 8,
    "start_time": "2022-04-18T12:45:44.634Z"
   },
   {
    "duration": 79,
    "start_time": "2022-04-18T12:45:44.644Z"
   },
   {
    "duration": 26,
    "start_time": "2022-04-18T12:45:44.726Z"
   },
   {
    "duration": 59,
    "start_time": "2022-04-18T12:45:44.755Z"
   },
   {
    "duration": 17,
    "start_time": "2022-04-18T12:45:44.818Z"
   },
   {
    "duration": 242,
    "start_time": "2022-04-18T12:45:44.838Z"
   },
   {
    "duration": 5,
    "start_time": "2022-04-18T12:45:45.083Z"
   },
   {
    "duration": 11,
    "start_time": "2022-04-18T12:45:45.094Z"
   },
   {
    "duration": 12,
    "start_time": "2022-04-18T12:45:45.107Z"
   },
   {
    "duration": 16,
    "start_time": "2022-04-18T12:45:45.122Z"
   },
   {
    "duration": 69,
    "start_time": "2022-04-18T12:45:45.141Z"
   },
   {
    "duration": 4,
    "start_time": "2022-04-18T12:45:45.213Z"
   },
   {
    "duration": 9,
    "start_time": "2022-04-18T12:45:45.219Z"
   },
   {
    "duration": 16883,
    "start_time": "2022-04-18T12:45:45.230Z"
   },
   {
    "duration": 8,
    "start_time": "2022-04-18T12:46:02.193Z"
   },
   {
    "duration": 91,
    "start_time": "2022-04-18T12:46:02.204Z"
   },
   {
    "duration": 1596,
    "start_time": "2022-04-18T12:46:02.297Z"
   },
   {
    "duration": 6,
    "start_time": "2022-04-18T12:46:03.896Z"
   },
   {
    "duration": 91,
    "start_time": "2022-04-18T12:46:03.907Z"
   },
   {
    "duration": 8,
    "start_time": "2022-04-18T12:46:04.001Z"
   },
   {
    "duration": 12,
    "start_time": "2022-04-18T12:46:04.011Z"
   },
   {
    "duration": 862275,
    "start_time": "2022-04-18T12:46:04.026Z"
   },
   {
    "duration": 5,
    "start_time": "2022-04-18T13:00:26.303Z"
   },
   {
    "duration": 6,
    "start_time": "2022-04-18T13:00:26.310Z"
   },
   {
    "duration": 2091,
    "start_time": "2022-04-18T13:00:26.319Z"
   },
   {
    "duration": 4,
    "start_time": "2022-04-18T13:00:28.412Z"
   },
   {
    "duration": 9,
    "start_time": "2022-04-18T13:00:28.419Z"
   },
   {
    "duration": 7,
    "start_time": "2022-04-18T13:00:28.431Z"
   },
   {
    "duration": 11,
    "start_time": "2022-04-18T13:00:28.440Z"
   },
   {
    "duration": 1295827,
    "start_time": "2022-04-18T13:00:28.453Z"
   },
   {
    "duration": 12,
    "start_time": "2022-04-18T13:22:04.282Z"
   },
   {
    "duration": 10,
    "start_time": "2022-04-18T13:22:04.296Z"
   },
   {
    "duration": 69549,
    "start_time": "2022-04-18T13:22:04.308Z"
   },
   {
    "duration": 4,
    "start_time": "2022-04-18T13:23:13.859Z"
   },
   {
    "duration": 8,
    "start_time": "2022-04-18T13:23:13.865Z"
   },
   {
    "duration": 10,
    "start_time": "2022-04-18T13:23:13.875Z"
   },
   {
    "duration": 8,
    "start_time": "2022-04-18T13:23:13.887Z"
   },
   {
    "duration": 109650,
    "start_time": "2022-04-18T13:23:13.897Z"
   },
   {
    "duration": 5,
    "start_time": "2022-04-18T13:25:03.549Z"
   },
   {
    "duration": 7,
    "start_time": "2022-04-18T13:25:03.556Z"
   },
   {
    "duration": 7226,
    "start_time": "2022-04-18T13:25:03.565Z"
   },
   {
    "duration": 4,
    "start_time": "2022-04-18T13:25:10.793Z"
   },
   {
    "duration": 9,
    "start_time": "2022-04-18T13:25:10.799Z"
   },
   {
    "duration": 6,
    "start_time": "2022-04-18T13:25:10.810Z"
   },
   {
    "duration": 185,
    "start_time": "2022-04-18T13:25:10.825Z"
   },
   {
    "duration": 0,
    "start_time": "2022-04-18T13:25:11.013Z"
   },
   {
    "duration": 4,
    "start_time": "2022-04-18T13:27:10.245Z"
   },
   {
    "duration": 28143,
    "start_time": "2022-04-18T13:27:13.707Z"
   },
   {
    "duration": 3,
    "start_time": "2022-04-18T13:27:41.853Z"
   },
   {
    "duration": 11,
    "start_time": "2022-04-18T13:27:41.858Z"
   },
   {
    "duration": 6,
    "start_time": "2022-04-18T13:28:19.179Z"
   },
   {
    "duration": 13828,
    "start_time": "2022-04-18T13:28:23.601Z"
   },
   {
    "duration": 25,
    "start_time": "2022-04-18T13:28:45.285Z"
   },
   {
    "duration": 4,
    "start_time": "2022-04-18T13:28:47.204Z"
   },
   {
    "duration": 22,
    "start_time": "2022-04-18T13:28:48.962Z"
   },
   {
    "duration": 9,
    "start_time": "2022-04-18T13:28:53.224Z"
   },
   {
    "duration": 8,
    "start_time": "2022-04-18T13:28:57.452Z"
   },
   {
    "duration": 6,
    "start_time": "2022-04-18T13:28:59.933Z"
   },
   {
    "duration": 6,
    "start_time": "2022-04-18T13:29:01.997Z"
   },
   {
    "duration": 5,
    "start_time": "2022-04-18T13:29:04.825Z"
   },
   {
    "duration": 29,
    "start_time": "2022-04-18T13:31:34.269Z"
   },
   {
    "duration": 22,
    "start_time": "2022-04-18T13:32:16.443Z"
   },
   {
    "duration": 4,
    "start_time": "2022-04-18T13:32:48.615Z"
   },
   {
    "duration": 11,
    "start_time": "2022-04-18T13:32:58.441Z"
   },
   {
    "duration": 11,
    "start_time": "2022-04-18T13:33:18.299Z"
   },
   {
    "duration": 15,
    "start_time": "2022-04-18T13:36:01.356Z"
   },
   {
    "duration": 11,
    "start_time": "2022-04-18T13:38:18.942Z"
   },
   {
    "duration": 11,
    "start_time": "2022-04-18T13:38:30.994Z"
   },
   {
    "duration": 7,
    "start_time": "2022-04-18T13:38:47.608Z"
   },
   {
    "duration": 794,
    "start_time": "2022-04-18T13:38:47.617Z"
   },
   {
    "duration": 26,
    "start_time": "2022-04-18T13:38:48.413Z"
   },
   {
    "duration": 4,
    "start_time": "2022-04-18T13:38:48.443Z"
   },
   {
    "duration": 23,
    "start_time": "2022-04-18T13:38:48.450Z"
   },
   {
    "duration": 19,
    "start_time": "2022-04-18T13:38:48.493Z"
   },
   {
    "duration": 14,
    "start_time": "2022-04-18T13:38:48.514Z"
   },
   {
    "duration": 17,
    "start_time": "2022-04-18T13:38:48.530Z"
   },
   {
    "duration": 45,
    "start_time": "2022-04-18T13:38:48.549Z"
   },
   {
    "duration": 5,
    "start_time": "2022-04-18T13:38:48.598Z"
   },
   {
    "duration": 9,
    "start_time": "2022-04-18T13:38:48.605Z"
   },
   {
    "duration": 10,
    "start_time": "2022-04-18T13:38:48.617Z"
   },
   {
    "duration": 8,
    "start_time": "2022-04-18T13:38:48.629Z"
   },
   {
    "duration": 13,
    "start_time": "2022-04-18T13:38:48.639Z"
   },
   {
    "duration": 392,
    "start_time": "2022-04-18T13:38:48.654Z"
   },
   {
    "duration": 466,
    "start_time": "2022-04-18T13:38:49.048Z"
   },
   {
    "duration": 6,
    "start_time": "2022-04-18T13:38:49.517Z"
   },
   {
    "duration": 33,
    "start_time": "2022-04-18T13:38:49.525Z"
   },
   {
    "duration": 42,
    "start_time": "2022-04-18T13:38:49.560Z"
   },
   {
    "duration": 5,
    "start_time": "2022-04-18T13:38:49.605Z"
   },
   {
    "duration": 13,
    "start_time": "2022-04-18T13:38:49.612Z"
   },
   {
    "duration": 11,
    "start_time": "2022-04-18T13:38:49.627Z"
   },
   {
    "duration": 21,
    "start_time": "2022-04-18T13:38:49.640Z"
   },
   {
    "duration": 36,
    "start_time": "2022-04-18T13:38:49.663Z"
   },
   {
    "duration": 20,
    "start_time": "2022-04-18T13:38:49.702Z"
   },
   {
    "duration": 4,
    "start_time": "2022-04-18T13:38:49.724Z"
   },
   {
    "duration": 7,
    "start_time": "2022-04-18T13:38:49.731Z"
   },
   {
    "duration": 6,
    "start_time": "2022-04-18T13:38:49.743Z"
   },
   {
    "duration": 43,
    "start_time": "2022-04-18T13:38:49.751Z"
   },
   {
    "duration": 6,
    "start_time": "2022-04-18T13:38:49.796Z"
   },
   {
    "duration": 1181,
    "start_time": "2022-04-18T13:38:49.804Z"
   },
   {
    "duration": 402,
    "start_time": "2022-04-18T13:38:50.988Z"
   },
   {
    "duration": 367,
    "start_time": "2022-04-18T13:38:51.392Z"
   },
   {
    "duration": 35,
    "start_time": "2022-04-18T13:38:51.761Z"
   },
   {
    "duration": 10,
    "start_time": "2022-04-18T13:38:51.798Z"
   },
   {
    "duration": 1360,
    "start_time": "2022-04-18T13:38:51.810Z"
   },
   {
    "duration": 21,
    "start_time": "2022-04-18T13:38:53.172Z"
   },
   {
    "duration": 16,
    "start_time": "2022-04-18T13:38:53.195Z"
   },
   {
    "duration": 7,
    "start_time": "2022-04-18T13:38:53.213Z"
   },
   {
    "duration": 16,
    "start_time": "2022-04-18T13:38:53.222Z"
   },
   {
    "duration": 20,
    "start_time": "2022-04-18T13:38:56.859Z"
   },
   {
    "duration": 22,
    "start_time": "2022-04-18T13:39:55.026Z"
   },
   {
    "duration": 34,
    "start_time": "2022-04-18T14:27:09.671Z"
   },
   {
    "duration": 9,
    "start_time": "2022-04-18T14:27:15.717Z"
   },
   {
    "duration": 878,
    "start_time": "2022-04-18T14:27:15.728Z"
   },
   {
    "duration": 27,
    "start_time": "2022-04-18T14:27:16.610Z"
   },
   {
    "duration": 4,
    "start_time": "2022-04-18T14:27:16.639Z"
   },
   {
    "duration": 45,
    "start_time": "2022-04-18T14:27:16.647Z"
   },
   {
    "duration": 20,
    "start_time": "2022-04-18T14:27:16.695Z"
   },
   {
    "duration": 14,
    "start_time": "2022-04-18T14:27:16.718Z"
   },
   {
    "duration": 22,
    "start_time": "2022-04-18T14:27:16.735Z"
   },
   {
    "duration": 41,
    "start_time": "2022-04-18T14:27:16.760Z"
   },
   {
    "duration": 7,
    "start_time": "2022-04-18T14:27:16.804Z"
   },
   {
    "duration": 5,
    "start_time": "2022-04-18T14:27:16.817Z"
   },
   {
    "duration": 10,
    "start_time": "2022-04-18T14:27:16.824Z"
   },
   {
    "duration": 57,
    "start_time": "2022-04-18T14:27:16.836Z"
   },
   {
    "duration": 15,
    "start_time": "2022-04-18T14:27:16.896Z"
   },
   {
    "duration": 410,
    "start_time": "2022-04-18T14:27:16.913Z"
   },
   {
    "duration": 408,
    "start_time": "2022-04-18T14:27:17.325Z"
   },
   {
    "duration": 6,
    "start_time": "2022-04-18T14:27:17.736Z"
   },
   {
    "duration": 51,
    "start_time": "2022-04-18T14:27:17.744Z"
   },
   {
    "duration": 21,
    "start_time": "2022-04-18T14:27:17.797Z"
   },
   {
    "duration": 5,
    "start_time": "2022-04-18T14:27:17.820Z"
   },
   {
    "duration": 7,
    "start_time": "2022-04-18T14:27:17.827Z"
   },
   {
    "duration": 10,
    "start_time": "2022-04-18T14:27:17.836Z"
   },
   {
    "duration": 55,
    "start_time": "2022-04-18T14:27:17.849Z"
   },
   {
    "duration": 15,
    "start_time": "2022-04-18T14:27:17.906Z"
   },
   {
    "duration": 20,
    "start_time": "2022-04-18T14:27:17.923Z"
   },
   {
    "duration": 5,
    "start_time": "2022-04-18T14:27:17.945Z"
   },
   {
    "duration": 41,
    "start_time": "2022-04-18T14:27:17.952Z"
   },
   {
    "duration": 9,
    "start_time": "2022-04-18T14:27:17.996Z"
   },
   {
    "duration": 7,
    "start_time": "2022-04-18T14:27:18.012Z"
   },
   {
    "duration": 17,
    "start_time": "2022-04-18T14:27:18.021Z"
   },
   {
    "duration": 1155,
    "start_time": "2022-04-18T14:27:18.040Z"
   },
   {
    "duration": 562,
    "start_time": "2022-04-18T14:27:19.198Z"
   },
   {
    "duration": 384,
    "start_time": "2022-04-18T14:27:19.762Z"
   },
   {
    "duration": 25,
    "start_time": "2022-04-18T14:27:20.149Z"
   },
   {
    "duration": 25,
    "start_time": "2022-04-18T14:27:20.176Z"
   },
   {
    "duration": 976,
    "start_time": "2022-04-18T14:27:20.203Z"
   },
   {
    "duration": 21,
    "start_time": "2022-04-18T14:27:21.181Z"
   },
   {
    "duration": 22,
    "start_time": "2022-04-18T14:27:21.204Z"
   },
   {
    "duration": 9,
    "start_time": "2022-04-18T14:27:21.228Z"
   },
   {
    "duration": 24,
    "start_time": "2022-04-18T14:27:21.239Z"
   },
   {
    "duration": 24,
    "start_time": "2022-04-18T14:27:27.350Z"
   },
   {
    "duration": 15,
    "start_time": "2022-04-18T14:27:35.363Z"
   },
   {
    "duration": 22,
    "start_time": "2022-04-18T14:27:37.639Z"
   },
   {
    "duration": 22,
    "start_time": "2022-04-18T14:27:55.430Z"
   },
   {
    "duration": 20,
    "start_time": "2022-04-18T14:32:15.508Z"
   },
   {
    "duration": 170,
    "start_time": "2022-04-18T14:36:48.509Z"
   },
   {
    "duration": 3196,
    "start_time": "2022-04-18T14:37:00.903Z"
   },
   {
    "duration": 3046,
    "start_time": "2022-04-18T14:37:14.585Z"
   },
   {
    "duration": 185,
    "start_time": "2022-04-18T14:37:31.899Z"
   },
   {
    "duration": 11,
    "start_time": "2022-04-18T14:37:37.333Z"
   },
   {
    "duration": 14,
    "start_time": "2022-04-18T14:37:43.518Z"
   },
   {
    "duration": 7,
    "start_time": "2022-04-18T14:48:55.054Z"
   },
   {
    "duration": 6,
    "start_time": "2022-04-18T14:49:55.784Z"
   },
   {
    "duration": 26,
    "start_time": "2022-04-18T14:50:58.680Z"
   },
   {
    "duration": 26,
    "start_time": "2022-04-18T14:51:06.098Z"
   },
   {
    "duration": 37,
    "start_time": "2022-04-18T14:53:01.397Z"
   },
   {
    "duration": 2598,
    "start_time": "2022-04-18T14:55:38.101Z"
   },
   {
    "duration": 786,
    "start_time": "2022-04-18T14:55:40.702Z"
   },
   {
    "duration": 26,
    "start_time": "2022-04-18T14:55:41.491Z"
   },
   {
    "duration": 3,
    "start_time": "2022-04-18T14:55:41.520Z"
   },
   {
    "duration": 21,
    "start_time": "2022-04-18T14:55:41.525Z"
   },
   {
    "duration": 54,
    "start_time": "2022-04-18T14:55:41.548Z"
   },
   {
    "duration": 15,
    "start_time": "2022-04-18T14:55:41.604Z"
   },
   {
    "duration": 20,
    "start_time": "2022-04-18T14:55:41.621Z"
   },
   {
    "duration": 16,
    "start_time": "2022-04-18T14:55:41.643Z"
   },
   {
    "duration": 9,
    "start_time": "2022-04-18T14:55:41.700Z"
   },
   {
    "duration": 7,
    "start_time": "2022-04-18T14:55:41.712Z"
   },
   {
    "duration": 8,
    "start_time": "2022-04-18T14:55:41.721Z"
   },
   {
    "duration": 6,
    "start_time": "2022-04-18T14:55:41.732Z"
   },
   {
    "duration": 56,
    "start_time": "2022-04-18T14:55:41.740Z"
   },
   {
    "duration": 405,
    "start_time": "2022-04-18T14:55:41.798Z"
   },
   {
    "duration": 511,
    "start_time": "2022-04-18T14:55:42.205Z"
   },
   {
    "duration": 7,
    "start_time": "2022-04-18T14:55:42.720Z"
   },
   {
    "duration": 52,
    "start_time": "2022-04-18T14:55:42.729Z"
   },
   {
    "duration": 22,
    "start_time": "2022-04-18T14:55:42.792Z"
   },
   {
    "duration": 4,
    "start_time": "2022-04-18T14:55:42.816Z"
   },
   {
    "duration": 11,
    "start_time": "2022-04-18T14:55:42.822Z"
   },
   {
    "duration": 16,
    "start_time": "2022-04-18T14:55:42.836Z"
   },
   {
    "duration": 49,
    "start_time": "2022-04-18T14:55:42.855Z"
   },
   {
    "duration": 23,
    "start_time": "2022-04-18T14:55:42.907Z"
   },
   {
    "duration": 28,
    "start_time": "2022-04-18T14:55:42.932Z"
   },
   {
    "duration": 4,
    "start_time": "2022-04-18T14:55:42.962Z"
   },
   {
    "duration": 6,
    "start_time": "2022-04-18T14:55:42.994Z"
   },
   {
    "duration": 5,
    "start_time": "2022-04-18T14:55:43.005Z"
   },
   {
    "duration": 8,
    "start_time": "2022-04-18T14:55:43.013Z"
   },
   {
    "duration": 7,
    "start_time": "2022-04-18T14:55:43.023Z"
   },
   {
    "duration": 1140,
    "start_time": "2022-04-18T14:55:43.032Z"
   },
   {
    "duration": 403,
    "start_time": "2022-04-18T14:55:44.175Z"
   },
   {
    "duration": 364,
    "start_time": "2022-04-18T14:55:44.580Z"
   },
   {
    "duration": 28,
    "start_time": "2022-04-18T14:55:44.946Z"
   },
   {
    "duration": 14,
    "start_time": "2022-04-18T14:55:44.994Z"
   },
   {
    "duration": 1066,
    "start_time": "2022-04-18T14:55:45.011Z"
   },
   {
    "duration": 8,
    "start_time": "2022-04-18T14:55:49.513Z"
   },
   {
    "duration": 4,
    "start_time": "2022-04-18T14:55:51.580Z"
   },
   {
    "duration": 308,
    "start_time": "2022-04-18T14:55:54.971Z"
   },
   {
    "duration": 36,
    "start_time": "2022-04-18T14:57:29.080Z"
   },
   {
    "duration": 28,
    "start_time": "2022-04-18T14:57:46.925Z"
   },
   {
    "duration": 2749,
    "start_time": "2022-04-18T14:59:35.383Z"
   },
   {
    "duration": 2292,
    "start_time": "2022-04-18T14:59:38.135Z"
   },
   {
    "duration": 27,
    "start_time": "2022-04-18T14:59:40.429Z"
   },
   {
    "duration": 3,
    "start_time": "2022-04-18T14:59:40.459Z"
   },
   {
    "duration": 42,
    "start_time": "2022-04-18T14:59:40.465Z"
   },
   {
    "duration": 19,
    "start_time": "2022-04-18T14:59:40.509Z"
   },
   {
    "duration": 12,
    "start_time": "2022-04-18T14:59:40.531Z"
   },
   {
    "duration": 51,
    "start_time": "2022-04-18T14:59:40.545Z"
   },
   {
    "duration": 9,
    "start_time": "2022-04-18T14:59:40.598Z"
   },
   {
    "duration": 7,
    "start_time": "2022-04-18T14:59:40.610Z"
   },
   {
    "duration": 9,
    "start_time": "2022-04-18T14:59:40.619Z"
   },
   {
    "duration": 7,
    "start_time": "2022-04-18T14:59:40.630Z"
   },
   {
    "duration": 5,
    "start_time": "2022-04-18T14:59:40.640Z"
   },
   {
    "duration": 54,
    "start_time": "2022-04-18T14:59:40.650Z"
   },
   {
    "duration": 399,
    "start_time": "2022-04-18T14:59:40.706Z"
   },
   {
    "duration": 521,
    "start_time": "2022-04-18T14:59:41.108Z"
   },
   {
    "duration": 6,
    "start_time": "2022-04-18T14:59:41.631Z"
   },
   {
    "duration": 61,
    "start_time": "2022-04-18T14:59:41.639Z"
   },
   {
    "duration": 22,
    "start_time": "2022-04-18T14:59:41.703Z"
   },
   {
    "duration": 4,
    "start_time": "2022-04-18T14:59:41.728Z"
   },
   {
    "duration": 7,
    "start_time": "2022-04-18T14:59:41.735Z"
   },
   {
    "duration": 49,
    "start_time": "2022-04-18T14:59:41.745Z"
   },
   {
    "duration": 27,
    "start_time": "2022-04-18T14:59:41.797Z"
   },
   {
    "duration": 17,
    "start_time": "2022-04-18T14:59:41.826Z"
   },
   {
    "duration": 4,
    "start_time": "2022-04-18T14:59:41.847Z"
   },
   {
    "duration": 12,
    "start_time": "2022-04-18T14:59:41.853Z"
   },
   {
    "duration": 9,
    "start_time": "2022-04-18T14:59:41.892Z"
   },
   {
    "duration": 8,
    "start_time": "2022-04-18T14:59:41.903Z"
   },
   {
    "duration": 9,
    "start_time": "2022-04-18T14:59:41.913Z"
   },
   {
    "duration": 6,
    "start_time": "2022-04-18T14:59:41.924Z"
   },
   {
    "duration": 1259,
    "start_time": "2022-04-18T14:59:41.933Z"
   },
   {
    "duration": 425,
    "start_time": "2022-04-18T14:59:43.195Z"
   },
   {
    "duration": 380,
    "start_time": "2022-04-18T14:59:43.623Z"
   },
   {
    "duration": 28,
    "start_time": "2022-04-18T14:59:44.005Z"
   },
   {
    "duration": 10,
    "start_time": "2022-04-18T14:59:44.036Z"
   },
   {
    "duration": 1118,
    "start_time": "2022-04-18T14:59:44.048Z"
   },
   {
    "duration": 24,
    "start_time": "2022-04-18T14:59:45.170Z"
   },
   {
    "duration": 6,
    "start_time": "2022-04-18T14:59:45.197Z"
   },
   {
    "duration": 180,
    "start_time": "2022-04-18T14:59:48.959Z"
   },
   {
    "duration": 29,
    "start_time": "2022-04-18T15:02:13.750Z"
   },
   {
    "duration": 11,
    "start_time": "2022-04-18T15:02:25.311Z"
   },
   {
    "duration": 10,
    "start_time": "2022-04-18T15:02:34.342Z"
   },
   {
    "duration": 5,
    "start_time": "2022-04-18T15:04:31.623Z"
   },
   {
    "duration": 14,
    "start_time": "2022-04-18T15:04:44.400Z"
   },
   {
    "duration": 5,
    "start_time": "2022-04-18T15:04:50.557Z"
   },
   {
    "duration": 5,
    "start_time": "2022-04-18T15:05:00.243Z"
   },
   {
    "duration": 6,
    "start_time": "2022-04-18T15:05:26.985Z"
   },
   {
    "duration": 16,
    "start_time": "2022-04-18T15:05:44.200Z"
   },
   {
    "duration": 7,
    "start_time": "2022-04-18T15:06:02.613Z"
   },
   {
    "duration": 17,
    "start_time": "2022-04-18T15:06:52.442Z"
   },
   {
    "duration": 419,
    "start_time": "2022-04-18T15:07:18.235Z"
   },
   {
    "duration": 5,
    "start_time": "2022-04-18T15:07:29.832Z"
   },
   {
    "duration": 8,
    "start_time": "2022-04-18T15:07:43.807Z"
   },
   {
    "duration": 6,
    "start_time": "2022-04-18T15:08:31.484Z"
   },
   {
    "duration": 6,
    "start_time": "2022-04-18T15:08:34.679Z"
   },
   {
    "duration": 1103,
    "start_time": "2022-04-18T15:09:31.959Z"
   },
   {
    "duration": 2094,
    "start_time": "2022-04-18T15:09:53.044Z"
   },
   {
    "duration": 796,
    "start_time": "2022-04-18T15:09:55.141Z"
   },
   {
    "duration": 25,
    "start_time": "2022-04-18T15:09:55.939Z"
   },
   {
    "duration": 3,
    "start_time": "2022-04-18T15:09:55.968Z"
   },
   {
    "duration": 23,
    "start_time": "2022-04-18T15:09:55.993Z"
   },
   {
    "duration": 7,
    "start_time": "2022-04-18T15:09:56.019Z"
   },
   {
    "duration": 7,
    "start_time": "2022-04-18T15:09:56.029Z"
   },
   {
    "duration": 13,
    "start_time": "2022-04-18T15:09:56.038Z"
   },
   {
    "duration": 40,
    "start_time": "2022-04-18T15:09:56.053Z"
   },
   {
    "duration": 12,
    "start_time": "2022-04-18T15:09:56.097Z"
   },
   {
    "duration": 404,
    "start_time": "2022-04-18T15:09:56.111Z"
   },
   {
    "duration": 468,
    "start_time": "2022-04-18T15:09:56.518Z"
   },
   {
    "duration": 8,
    "start_time": "2022-04-18T15:09:56.988Z"
   },
   {
    "duration": 7,
    "start_time": "2022-04-18T15:10:06.580Z"
   },
   {
    "duration": 3,
    "start_time": "2022-04-18T15:10:37.744Z"
   },
   {
    "duration": 179,
    "start_time": "2022-04-18T15:11:40.785Z"
   },
   {
    "duration": 18,
    "start_time": "2022-04-18T15:11:46.785Z"
   },
   {
    "duration": 5,
    "start_time": "2022-04-18T15:12:09.169Z"
   },
   {
    "duration": 4628,
    "start_time": "2022-04-18T15:12:37.724Z"
   },
   {
    "duration": 1160,
    "start_time": "2022-04-18T15:12:42.356Z"
   },
   {
    "duration": 37,
    "start_time": "2022-04-18T15:12:43.519Z"
   },
   {
    "duration": 4,
    "start_time": "2022-04-18T15:12:43.561Z"
   },
   {
    "duration": 30,
    "start_time": "2022-04-18T15:12:43.592Z"
   },
   {
    "duration": 10,
    "start_time": "2022-04-18T15:12:43.625Z"
   },
   {
    "duration": 12,
    "start_time": "2022-04-18T15:12:43.638Z"
   },
   {
    "duration": 41,
    "start_time": "2022-04-18T15:12:43.652Z"
   },
   {
    "duration": 5,
    "start_time": "2022-04-18T15:12:43.696Z"
   },
   {
    "duration": 17,
    "start_time": "2022-04-18T15:12:43.706Z"
   },
   {
    "duration": 640,
    "start_time": "2022-04-18T15:12:43.725Z"
   },
   {
    "duration": 484,
    "start_time": "2022-04-18T15:12:44.368Z"
   },
   {
    "duration": 7,
    "start_time": "2022-04-18T15:12:44.854Z"
   },
   {
    "duration": 31,
    "start_time": "2022-04-18T15:12:44.863Z"
   },
   {
    "duration": 3,
    "start_time": "2022-04-18T15:12:44.897Z"
   },
   {
    "duration": 6,
    "start_time": "2022-04-18T15:12:44.903Z"
   },
   {
    "duration": 11,
    "start_time": "2022-04-18T15:12:44.912Z"
   },
   {
    "duration": 12,
    "start_time": "2022-04-18T15:12:44.926Z"
   },
   {
    "duration": 56,
    "start_time": "2022-04-18T15:12:44.941Z"
   },
   {
    "duration": 5,
    "start_time": "2022-04-18T15:12:44.999Z"
   },
   {
    "duration": 16,
    "start_time": "2022-04-18T15:12:45.006Z"
   },
   {
    "duration": 9,
    "start_time": "2022-04-18T15:12:45.026Z"
   },
   {
    "duration": 5,
    "start_time": "2022-04-18T15:12:52.497Z"
   },
   {
    "duration": 9,
    "start_time": "2022-04-18T15:13:21.973Z"
   },
   {
    "duration": 6,
    "start_time": "2022-04-18T15:13:24.374Z"
   },
   {
    "duration": 34,
    "start_time": "2022-04-18T15:13:27.189Z"
   },
   {
    "duration": 29,
    "start_time": "2022-04-18T15:13:29.382Z"
   },
   {
    "duration": 9,
    "start_time": "2022-04-18T15:17:41.144Z"
   },
   {
    "duration": 5,
    "start_time": "2022-04-18T15:17:53.614Z"
   },
   {
    "duration": 35,
    "start_time": "2022-04-18T15:18:03.332Z"
   },
   {
    "duration": 2802,
    "start_time": "2022-04-18T15:18:51.877Z"
   },
   {
    "duration": 847,
    "start_time": "2022-04-18T15:18:54.682Z"
   },
   {
    "duration": 26,
    "start_time": "2022-04-18T15:18:55.532Z"
   },
   {
    "duration": 4,
    "start_time": "2022-04-18T15:18:55.562Z"
   },
   {
    "duration": 52,
    "start_time": "2022-04-18T15:18:55.569Z"
   },
   {
    "duration": 7,
    "start_time": "2022-04-18T15:18:55.623Z"
   },
   {
    "duration": 10,
    "start_time": "2022-04-18T15:18:55.632Z"
   },
   {
    "duration": 10,
    "start_time": "2022-04-18T15:18:55.644Z"
   },
   {
    "duration": 12,
    "start_time": "2022-04-18T15:18:55.656Z"
   },
   {
    "duration": 18,
    "start_time": "2022-04-18T15:18:55.693Z"
   },
   {
    "duration": 415,
    "start_time": "2022-04-18T15:18:55.713Z"
   },
   {
    "duration": 466,
    "start_time": "2022-04-18T15:18:56.130Z"
   },
   {
    "duration": 6,
    "start_time": "2022-04-18T15:18:56.598Z"
   },
   {
    "duration": 9,
    "start_time": "2022-04-18T15:18:56.606Z"
   },
   {
    "duration": 4,
    "start_time": "2022-04-18T15:18:56.618Z"
   },
   {
    "duration": 6,
    "start_time": "2022-04-18T15:18:56.624Z"
   },
   {
    "duration": 6,
    "start_time": "2022-04-18T15:18:56.632Z"
   },
   {
    "duration": 8,
    "start_time": "2022-04-18T15:18:56.640Z"
   },
   {
    "duration": 57,
    "start_time": "2022-04-18T15:18:56.650Z"
   },
   {
    "duration": 7,
    "start_time": "2022-04-18T15:18:56.709Z"
   },
   {
    "duration": 6,
    "start_time": "2022-04-18T15:18:56.718Z"
   },
   {
    "duration": 9,
    "start_time": "2022-04-18T15:18:56.726Z"
   },
   {
    "duration": 8,
    "start_time": "2022-04-18T15:18:56.737Z"
   },
   {
    "duration": 7,
    "start_time": "2022-04-18T15:18:56.748Z"
   },
   {
    "duration": 36,
    "start_time": "2022-04-18T15:18:56.758Z"
   },
   {
    "duration": 6,
    "start_time": "2022-04-18T15:18:56.796Z"
   },
   {
    "duration": 7,
    "start_time": "2022-04-18T15:18:56.805Z"
   },
   {
    "duration": 1148,
    "start_time": "2022-04-18T15:18:56.821Z"
   },
   {
    "duration": 406,
    "start_time": "2022-04-18T15:18:57.971Z"
   },
   {
    "duration": 366,
    "start_time": "2022-04-18T15:18:58.380Z"
   },
   {
    "duration": 187,
    "start_time": "2022-04-18T15:18:58.749Z"
   },
   {
    "duration": 0,
    "start_time": "2022-04-18T15:18:58.938Z"
   },
   {
    "duration": 0,
    "start_time": "2022-04-18T15:18:58.942Z"
   },
   {
    "duration": 0,
    "start_time": "2022-04-18T15:18:58.944Z"
   },
   {
    "duration": 1,
    "start_time": "2022-04-18T15:18:58.945Z"
   },
   {
    "duration": 0,
    "start_time": "2022-04-18T15:18:58.947Z"
   },
   {
    "duration": 0,
    "start_time": "2022-04-18T15:18:58.948Z"
   },
   {
    "duration": 0,
    "start_time": "2022-04-18T15:18:58.950Z"
   },
   {
    "duration": 0,
    "start_time": "2022-04-18T15:18:58.952Z"
   },
   {
    "duration": 0,
    "start_time": "2022-04-18T15:18:58.953Z"
   },
   {
    "duration": 0,
    "start_time": "2022-04-18T15:18:58.955Z"
   },
   {
    "duration": 0,
    "start_time": "2022-04-18T15:18:58.956Z"
   },
   {
    "duration": 0,
    "start_time": "2022-04-18T15:18:58.958Z"
   },
   {
    "duration": 0,
    "start_time": "2022-04-18T15:18:58.959Z"
   },
   {
    "duration": 0,
    "start_time": "2022-04-18T15:18:58.993Z"
   },
   {
    "duration": 0,
    "start_time": "2022-04-18T15:18:58.995Z"
   },
   {
    "duration": 0,
    "start_time": "2022-04-18T15:18:58.996Z"
   },
   {
    "duration": 0,
    "start_time": "2022-04-18T15:18:58.998Z"
   },
   {
    "duration": 0,
    "start_time": "2022-04-18T15:18:58.999Z"
   },
   {
    "duration": 0,
    "start_time": "2022-04-18T15:18:59.001Z"
   },
   {
    "duration": 0,
    "start_time": "2022-04-18T15:18:59.003Z"
   },
   {
    "duration": 0,
    "start_time": "2022-04-18T15:18:59.004Z"
   },
   {
    "duration": 0,
    "start_time": "2022-04-18T15:18:59.006Z"
   },
   {
    "duration": 0,
    "start_time": "2022-04-18T15:18:59.007Z"
   },
   {
    "duration": 0,
    "start_time": "2022-04-18T15:18:59.009Z"
   },
   {
    "duration": 0,
    "start_time": "2022-04-18T15:18:59.010Z"
   },
   {
    "duration": 0,
    "start_time": "2022-04-18T15:18:59.011Z"
   },
   {
    "duration": 0,
    "start_time": "2022-04-18T15:18:59.013Z"
   },
   {
    "duration": 0,
    "start_time": "2022-04-18T15:18:59.015Z"
   },
   {
    "duration": 0,
    "start_time": "2022-04-18T15:18:59.016Z"
   },
   {
    "duration": 0,
    "start_time": "2022-04-18T15:18:59.017Z"
   },
   {
    "duration": 0,
    "start_time": "2022-04-18T15:18:59.020Z"
   },
   {
    "duration": 0,
    "start_time": "2022-04-18T15:18:59.022Z"
   },
   {
    "duration": 0,
    "start_time": "2022-04-18T15:18:59.024Z"
   },
   {
    "duration": 0,
    "start_time": "2022-04-18T15:18:59.027Z"
   },
   {
    "duration": 0,
    "start_time": "2022-04-18T15:18:59.029Z"
   },
   {
    "duration": 0,
    "start_time": "2022-04-18T15:18:59.096Z"
   },
   {
    "duration": 0,
    "start_time": "2022-04-18T15:18:59.097Z"
   },
   {
    "duration": 0,
    "start_time": "2022-04-18T15:18:59.099Z"
   },
   {
    "duration": 0,
    "start_time": "2022-04-18T15:18:59.100Z"
   },
   {
    "duration": 0,
    "start_time": "2022-04-18T15:18:59.102Z"
   },
   {
    "duration": 0,
    "start_time": "2022-04-18T15:18:59.103Z"
   },
   {
    "duration": 0,
    "start_time": "2022-04-18T15:18:59.104Z"
   },
   {
    "duration": 0,
    "start_time": "2022-04-18T15:18:59.106Z"
   },
   {
    "duration": 0,
    "start_time": "2022-04-18T15:18:59.107Z"
   },
   {
    "duration": 0,
    "start_time": "2022-04-18T15:18:59.108Z"
   },
   {
    "duration": 0,
    "start_time": "2022-04-18T15:18:59.110Z"
   },
   {
    "duration": 0,
    "start_time": "2022-04-18T15:18:59.111Z"
   },
   {
    "duration": 0,
    "start_time": "2022-04-18T15:18:59.113Z"
   },
   {
    "duration": 0,
    "start_time": "2022-04-18T15:18:59.114Z"
   },
   {
    "duration": 0,
    "start_time": "2022-04-18T15:18:59.116Z"
   },
   {
    "duration": 0,
    "start_time": "2022-04-18T15:18:59.117Z"
   },
   {
    "duration": 0,
    "start_time": "2022-04-18T15:18:59.119Z"
   },
   {
    "duration": 0,
    "start_time": "2022-04-18T15:18:59.120Z"
   },
   {
    "duration": 208,
    "start_time": "2022-04-18T15:19:03.985Z"
   },
   {
    "duration": 27,
    "start_time": "2022-04-18T15:19:44.785Z"
   },
   {
    "duration": 26,
    "start_time": "2022-04-18T15:19:48.916Z"
   },
   {
    "duration": 15,
    "start_time": "2022-04-18T15:19:48.945Z"
   },
   {
    "duration": 1072,
    "start_time": "2022-04-18T15:19:48.962Z"
   },
   {
    "duration": 8,
    "start_time": "2022-04-18T15:19:50.037Z"
   },
   {
    "duration": 7,
    "start_time": "2022-04-18T15:19:50.048Z"
   },
   {
    "duration": 63,
    "start_time": "2022-04-18T15:19:50.057Z"
   },
   {
    "duration": 27,
    "start_time": "2022-04-18T15:19:50.122Z"
   },
   {
    "duration": 7,
    "start_time": "2022-04-18T15:19:50.151Z"
   },
   {
    "duration": 4,
    "start_time": "2022-04-18T15:19:50.193Z"
   },
   {
    "duration": 9,
    "start_time": "2022-04-18T15:19:50.203Z"
   },
   {
    "duration": 15,
    "start_time": "2022-04-18T15:19:50.214Z"
   },
   {
    "duration": 14,
    "start_time": "2022-04-18T15:19:50.231Z"
   },
   {
    "duration": 12,
    "start_time": "2022-04-18T15:19:50.247Z"
   },
   {
    "duration": 19639,
    "start_time": "2022-04-18T15:19:50.261Z"
   },
   {
    "duration": 93,
    "start_time": "2022-04-18T15:20:09.902Z"
   },
   {
    "duration": 13,
    "start_time": "2022-04-18T15:20:09.998Z"
   },
   {
    "duration": 1885,
    "start_time": "2022-04-18T15:20:10.013Z"
   },
   {
    "duration": 94,
    "start_time": "2022-04-18T15:20:11.901Z"
   },
   {
    "duration": 108,
    "start_time": "2022-04-18T15:20:11.999Z"
   },
   {
    "duration": 13,
    "start_time": "2022-04-18T15:20:12.110Z"
   },
   {
    "duration": 22,
    "start_time": "2022-04-18T15:20:12.125Z"
   },
   {
    "duration": 9,
    "start_time": "2022-04-18T15:20:12.149Z"
   },
   {
    "duration": 7,
    "start_time": "2022-04-18T15:20:12.160Z"
   },
   {
    "duration": 6,
    "start_time": "2022-04-18T15:20:12.169Z"
   },
   {
    "duration": 2984,
    "start_time": "2022-04-18T15:20:12.177Z"
   },
   {
    "duration": 3,
    "start_time": "2022-04-18T15:20:15.163Z"
   },
   {
    "duration": 10,
    "start_time": "2022-04-18T15:20:15.169Z"
   },
   {
    "duration": 4,
    "start_time": "2022-04-18T15:20:15.197Z"
   },
   {
    "duration": 6,
    "start_time": "2022-04-18T15:20:15.203Z"
   },
   {
    "duration": 9,
    "start_time": "2022-04-18T15:20:15.211Z"
   },
   {
    "duration": 10,
    "start_time": "2022-04-18T15:20:15.222Z"
   },
   {
    "duration": 10,
    "start_time": "2022-04-18T15:20:15.234Z"
   },
   {
    "duration": 43335,
    "start_time": "2022-04-18T15:20:15.246Z"
   },
   {
    "duration": 4,
    "start_time": "2022-04-18T15:20:58.583Z"
   },
   {
    "duration": 18,
    "start_time": "2022-04-18T15:20:58.592Z"
   },
   {
    "duration": 10,
    "start_time": "2022-04-18T15:20:58.613Z"
   },
   {
    "duration": 6,
    "start_time": "2022-04-18T15:20:58.625Z"
   },
   {
    "duration": 6,
    "start_time": "2022-04-18T15:20:58.633Z"
   },
   {
    "duration": 5,
    "start_time": "2022-04-18T15:20:58.641Z"
   },
   {
    "duration": 8,
    "start_time": "2022-04-18T15:20:58.648Z"
   },
   {
    "duration": 7389,
    "start_time": "2022-04-18T15:20:58.658Z"
   },
   {
    "duration": 4,
    "start_time": "2022-04-18T15:21:06.049Z"
   },
   {
    "duration": 10,
    "start_time": "2022-04-18T15:21:06.055Z"
   },
   {
    "duration": 9,
    "start_time": "2022-04-18T15:21:06.068Z"
   },
   {
    "duration": 24,
    "start_time": "2022-04-18T15:21:06.079Z"
   },
   {
    "duration": 0,
    "start_time": "2022-04-18T15:21:06.105Z"
   },
   {
    "duration": 0,
    "start_time": "2022-04-18T15:21:06.106Z"
   },
   {
    "duration": 0,
    "start_time": "2022-04-18T15:21:06.108Z"
   },
   {
    "duration": 1,
    "start_time": "2022-04-18T15:21:06.109Z"
   },
   {
    "duration": 0,
    "start_time": "2022-04-18T15:21:06.111Z"
   },
   {
    "duration": 0,
    "start_time": "2022-04-18T15:21:06.113Z"
   },
   {
    "duration": 0,
    "start_time": "2022-04-18T15:21:06.114Z"
   },
   {
    "duration": 0,
    "start_time": "2022-04-18T15:21:06.116Z"
   },
   {
    "duration": 4,
    "start_time": "2022-04-18T15:21:09.903Z"
   },
   {
    "duration": 5,
    "start_time": "2022-04-18T15:21:11.875Z"
   },
   {
    "duration": 5,
    "start_time": "2022-04-18T15:21:41.009Z"
   },
   {
    "duration": 23,
    "start_time": "2022-04-18T15:21:41.017Z"
   },
   {
    "duration": 0,
    "start_time": "2022-04-18T15:21:41.043Z"
   },
   {
    "duration": 0,
    "start_time": "2022-04-18T15:21:41.045Z"
   },
   {
    "duration": 0,
    "start_time": "2022-04-18T15:21:41.046Z"
   },
   {
    "duration": 0,
    "start_time": "2022-04-18T15:21:41.048Z"
   },
   {
    "duration": 0,
    "start_time": "2022-04-18T15:21:41.049Z"
   },
   {
    "duration": 0,
    "start_time": "2022-04-18T15:21:41.051Z"
   },
   {
    "duration": 20,
    "start_time": "2022-04-18T15:21:56.322Z"
   },
   {
    "duration": 14,
    "start_time": "2022-04-18T15:24:32.708Z"
   },
   {
    "duration": 8,
    "start_time": "2022-04-18T15:24:37.945Z"
   },
   {
    "duration": 4,
    "start_time": "2022-04-18T15:25:21.243Z"
   },
   {
    "duration": 5,
    "start_time": "2022-04-18T15:25:22.796Z"
   },
   {
    "duration": 22882,
    "start_time": "2022-04-18T15:25:24.402Z"
   },
   {
    "duration": 1,
    "start_time": "2022-04-18T15:25:47.286Z"
   },
   {
    "duration": 1995,
    "start_time": "2022-04-18T15:25:51.839Z"
   },
   {
    "duration": 789,
    "start_time": "2022-04-18T15:25:53.837Z"
   },
   {
    "duration": 24,
    "start_time": "2022-04-18T15:25:54.628Z"
   },
   {
    "duration": 4,
    "start_time": "2022-04-18T15:25:54.654Z"
   },
   {
    "duration": 48,
    "start_time": "2022-04-18T15:25:54.661Z"
   },
   {
    "duration": 8,
    "start_time": "2022-04-18T15:25:54.711Z"
   },
   {
    "duration": 10,
    "start_time": "2022-04-18T15:25:54.721Z"
   },
   {
    "duration": 12,
    "start_time": "2022-04-18T15:25:54.734Z"
   },
   {
    "duration": 6,
    "start_time": "2022-04-18T15:25:54.748Z"
   },
   {
    "duration": 8,
    "start_time": "2022-04-18T15:25:54.757Z"
   },
   {
    "duration": 379,
    "start_time": "2022-04-18T15:25:54.794Z"
   },
   {
    "duration": 448,
    "start_time": "2022-04-18T15:25:55.175Z"
   },
   {
    "duration": 6,
    "start_time": "2022-04-18T15:25:55.626Z"
   },
   {
    "duration": 8,
    "start_time": "2022-04-18T15:25:55.637Z"
   },
   {
    "duration": 9,
    "start_time": "2022-04-18T15:25:55.647Z"
   },
   {
    "duration": 9,
    "start_time": "2022-04-18T15:25:55.658Z"
   },
   {
    "duration": 27,
    "start_time": "2022-04-18T15:25:55.669Z"
   },
   {
    "duration": 8,
    "start_time": "2022-04-18T15:25:55.698Z"
   },
   {
    "duration": 25,
    "start_time": "2022-04-18T15:25:55.708Z"
   },
   {
    "duration": 3,
    "start_time": "2022-04-18T15:25:55.735Z"
   },
   {
    "duration": 8,
    "start_time": "2022-04-18T15:25:55.741Z"
   },
   {
    "duration": 15,
    "start_time": "2022-04-18T15:25:55.752Z"
   },
   {
    "duration": 24,
    "start_time": "2022-04-18T15:25:55.770Z"
   },
   {
    "duration": 11,
    "start_time": "2022-04-18T15:25:55.796Z"
   },
   {
    "duration": 13,
    "start_time": "2022-04-18T15:25:55.810Z"
   },
   {
    "duration": 12,
    "start_time": "2022-04-18T15:25:55.825Z"
   },
   {
    "duration": 10,
    "start_time": "2022-04-18T15:25:55.839Z"
   },
   {
    "duration": 1128,
    "start_time": "2022-04-18T15:25:55.851Z"
   },
   {
    "duration": 401,
    "start_time": "2022-04-18T15:25:56.981Z"
   },
   {
    "duration": 423,
    "start_time": "2022-04-18T15:25:57.384Z"
   },
   {
    "duration": 92,
    "start_time": "2022-04-18T15:25:57.810Z"
   },
   {
    "duration": 13,
    "start_time": "2022-04-18T15:25:57.904Z"
   },
   {
    "duration": 1321,
    "start_time": "2022-04-18T15:25:57.919Z"
   },
   {
    "duration": 7,
    "start_time": "2022-04-18T15:25:59.242Z"
   },
   {
    "duration": 5,
    "start_time": "2022-04-18T15:25:59.251Z"
   },
   {
    "duration": 51,
    "start_time": "2022-04-18T15:25:59.258Z"
   },
   {
    "duration": 28,
    "start_time": "2022-04-18T15:25:59.311Z"
   },
   {
    "duration": 4,
    "start_time": "2022-04-18T15:25:59.341Z"
   },
   {
    "duration": 7,
    "start_time": "2022-04-18T15:25:59.347Z"
   },
   {
    "duration": 15,
    "start_time": "2022-04-18T15:25:59.356Z"
   },
   {
    "duration": 16,
    "start_time": "2022-04-18T15:25:59.378Z"
   },
   {
    "duration": 7,
    "start_time": "2022-04-18T15:25:59.396Z"
   },
   {
    "duration": 8,
    "start_time": "2022-04-18T15:25:59.406Z"
   },
   {
    "duration": 18479,
    "start_time": "2022-04-18T15:25:59.417Z"
   },
   {
    "duration": 95,
    "start_time": "2022-04-18T15:26:17.903Z"
   },
   {
    "duration": 5,
    "start_time": "2022-04-18T15:26:18.000Z"
   },
   {
    "duration": 2190,
    "start_time": "2022-04-18T15:26:18.007Z"
   },
   {
    "duration": 93,
    "start_time": "2022-04-18T15:26:20.200Z"
   },
   {
    "duration": 7,
    "start_time": "2022-04-18T15:26:20.296Z"
   },
   {
    "duration": 15,
    "start_time": "2022-04-18T15:26:20.306Z"
   },
   {
    "duration": 8,
    "start_time": "2022-04-18T15:26:20.324Z"
   },
   {
    "duration": 8,
    "start_time": "2022-04-18T15:26:20.334Z"
   },
   {
    "duration": 8,
    "start_time": "2022-04-18T15:26:20.344Z"
   },
   {
    "duration": 10,
    "start_time": "2022-04-18T15:26:20.354Z"
   },
   {
    "duration": 3341,
    "start_time": "2022-04-18T15:26:20.366Z"
   },
   {
    "duration": 4,
    "start_time": "2022-04-18T15:26:23.709Z"
   },
   {
    "duration": 7,
    "start_time": "2022-04-18T15:26:23.715Z"
   },
   {
    "duration": 7,
    "start_time": "2022-04-18T15:26:23.724Z"
   },
   {
    "duration": 7,
    "start_time": "2022-04-18T15:26:23.733Z"
   },
   {
    "duration": 9,
    "start_time": "2022-04-18T15:26:23.742Z"
   },
   {
    "duration": 6,
    "start_time": "2022-04-18T15:26:23.753Z"
   },
   {
    "duration": 4,
    "start_time": "2022-04-18T15:26:23.793Z"
   },
   {
    "duration": 42128,
    "start_time": "2022-04-18T15:26:23.800Z"
   },
   {
    "duration": 3,
    "start_time": "2022-04-18T15:27:05.931Z"
   },
   {
    "duration": 14,
    "start_time": "2022-04-18T15:27:05.937Z"
   },
   {
    "duration": 6,
    "start_time": "2022-04-18T15:27:05.954Z"
   },
   {
    "duration": 10,
    "start_time": "2022-04-18T15:27:05.963Z"
   },
   {
    "duration": 3,
    "start_time": "2022-04-18T15:27:05.992Z"
   },
   {
    "duration": 9,
    "start_time": "2022-04-18T15:27:05.997Z"
   },
   {
    "duration": 13,
    "start_time": "2022-04-18T15:27:06.008Z"
   },
   {
    "duration": 7137,
    "start_time": "2022-04-18T15:27:06.024Z"
   },
   {
    "duration": 4,
    "start_time": "2022-04-18T15:27:13.163Z"
   },
   {
    "duration": 9,
    "start_time": "2022-04-18T15:27:13.169Z"
   },
   {
    "duration": 8,
    "start_time": "2022-04-18T15:27:13.180Z"
   },
   {
    "duration": 9,
    "start_time": "2022-04-18T15:27:13.190Z"
   },
   {
    "duration": 21778,
    "start_time": "2022-04-18T15:27:13.201Z"
   },
   {
    "duration": 176,
    "start_time": "2022-04-18T15:27:34.982Z"
   },
   {
    "duration": 0,
    "start_time": "2022-04-18T15:27:35.161Z"
   },
   {
    "duration": 0,
    "start_time": "2022-04-18T15:27:35.163Z"
   },
   {
    "duration": 0,
    "start_time": "2022-04-18T15:27:35.165Z"
   },
   {
    "duration": 0,
    "start_time": "2022-04-18T15:27:35.167Z"
   },
   {
    "duration": 0,
    "start_time": "2022-04-18T15:27:35.169Z"
   },
   {
    "duration": 1533,
    "start_time": "2022-04-18T15:28:09.471Z"
   },
   {
    "duration": 19,
    "start_time": "2022-04-18T15:28:18.242Z"
   },
   {
    "duration": 392,
    "start_time": "2022-04-18T15:30:46.551Z"
   },
   {
    "duration": 11,
    "start_time": "2022-04-18T15:30:49.565Z"
   },
   {
    "duration": 10,
    "start_time": "2022-04-18T15:30:53.463Z"
   },
   {
    "duration": 7,
    "start_time": "2022-04-18T15:31:01.624Z"
   },
   {
    "duration": 5,
    "start_time": "2022-04-18T15:31:03.746Z"
   },
   {
    "duration": 6,
    "start_time": "2022-04-18T15:31:05.689Z"
   },
   {
    "duration": 5,
    "start_time": "2022-04-18T15:31:07.544Z"
   },
   {
    "duration": 5415,
    "start_time": "2022-04-18T15:31:35.478Z"
   },
   {
    "duration": 22,
    "start_time": "2022-04-18T15:31:40.896Z"
   },
   {
    "duration": 10,
    "start_time": "2022-04-18T15:31:43.123Z"
   },
   {
    "duration": 190,
    "start_time": "2022-04-18T15:32:17.382Z"
   },
   {
    "duration": 4,
    "start_time": "2022-04-18T15:37:04.934Z"
   },
   {
    "duration": 2143,
    "start_time": "2022-04-18T15:37:59.226Z"
   },
   {
    "duration": 823,
    "start_time": "2022-04-18T15:38:01.371Z"
   },
   {
    "duration": 25,
    "start_time": "2022-04-18T15:38:02.196Z"
   },
   {
    "duration": 4,
    "start_time": "2022-04-18T15:38:02.224Z"
   },
   {
    "duration": 33,
    "start_time": "2022-04-18T15:38:02.230Z"
   },
   {
    "duration": 33,
    "start_time": "2022-04-18T15:38:02.265Z"
   },
   {
    "duration": 13,
    "start_time": "2022-04-18T15:38:02.301Z"
   },
   {
    "duration": 9,
    "start_time": "2022-04-18T15:38:02.317Z"
   },
   {
    "duration": 8,
    "start_time": "2022-04-18T15:38:02.328Z"
   },
   {
    "duration": 14,
    "start_time": "2022-04-18T15:38:02.340Z"
   },
   {
    "duration": 405,
    "start_time": "2022-04-18T15:38:02.356Z"
   },
   {
    "duration": 458,
    "start_time": "2022-04-18T15:38:02.763Z"
   },
   {
    "duration": 7,
    "start_time": "2022-04-18T15:38:03.223Z"
   },
   {
    "duration": 20,
    "start_time": "2022-04-18T15:38:03.232Z"
   },
   {
    "duration": 31,
    "start_time": "2022-04-18T15:38:03.254Z"
   },
   {
    "duration": 6,
    "start_time": "2022-04-18T15:38:03.293Z"
   },
   {
    "duration": 10,
    "start_time": "2022-04-18T15:38:03.301Z"
   },
   {
    "duration": 10,
    "start_time": "2022-04-18T15:38:03.313Z"
   },
   {
    "duration": 8,
    "start_time": "2022-04-18T15:38:03.325Z"
   },
   {
    "duration": 12,
    "start_time": "2022-04-18T15:38:03.335Z"
   },
   {
    "duration": 1160,
    "start_time": "2022-04-18T15:38:03.349Z"
   },
   {
    "duration": 405,
    "start_time": "2022-04-18T15:38:04.511Z"
   },
   {
    "duration": 366,
    "start_time": "2022-04-18T15:38:04.918Z"
   },
   {
    "duration": 33,
    "start_time": "2022-04-18T15:38:05.286Z"
   },
   {
    "duration": 12,
    "start_time": "2022-04-18T15:38:05.321Z"
   },
   {
    "duration": 817,
    "start_time": "2022-04-18T15:38:05.336Z"
   },
   {
    "duration": 0,
    "start_time": "2022-04-18T15:38:06.157Z"
   },
   {
    "duration": 0,
    "start_time": "2022-04-18T15:38:06.160Z"
   },
   {
    "duration": 0,
    "start_time": "2022-04-18T15:38:06.161Z"
   },
   {
    "duration": 0,
    "start_time": "2022-04-18T15:38:06.162Z"
   },
   {
    "duration": 0,
    "start_time": "2022-04-18T15:38:06.165Z"
   },
   {
    "duration": 0,
    "start_time": "2022-04-18T15:38:06.166Z"
   },
   {
    "duration": 0,
    "start_time": "2022-04-18T15:38:06.167Z"
   },
   {
    "duration": 0,
    "start_time": "2022-04-18T15:38:06.169Z"
   },
   {
    "duration": 0,
    "start_time": "2022-04-18T15:38:06.170Z"
   },
   {
    "duration": 0,
    "start_time": "2022-04-18T15:38:06.194Z"
   },
   {
    "duration": 0,
    "start_time": "2022-04-18T15:38:06.196Z"
   },
   {
    "duration": 0,
    "start_time": "2022-04-18T15:38:06.197Z"
   },
   {
    "duration": 0,
    "start_time": "2022-04-18T15:38:06.199Z"
   },
   {
    "duration": 0,
    "start_time": "2022-04-18T15:38:06.200Z"
   },
   {
    "duration": 0,
    "start_time": "2022-04-18T15:38:06.202Z"
   },
   {
    "duration": 0,
    "start_time": "2022-04-18T15:38:06.203Z"
   },
   {
    "duration": 0,
    "start_time": "2022-04-18T15:38:06.204Z"
   },
   {
    "duration": 0,
    "start_time": "2022-04-18T15:38:06.205Z"
   },
   {
    "duration": 0,
    "start_time": "2022-04-18T15:38:06.207Z"
   },
   {
    "duration": 0,
    "start_time": "2022-04-18T15:38:06.208Z"
   },
   {
    "duration": 0,
    "start_time": "2022-04-18T15:38:06.209Z"
   },
   {
    "duration": 0,
    "start_time": "2022-04-18T15:38:06.210Z"
   },
   {
    "duration": 0,
    "start_time": "2022-04-18T15:38:06.211Z"
   },
   {
    "duration": 0,
    "start_time": "2022-04-18T15:38:06.213Z"
   },
   {
    "duration": 0,
    "start_time": "2022-04-18T15:38:06.214Z"
   },
   {
    "duration": 0,
    "start_time": "2022-04-18T15:38:06.215Z"
   },
   {
    "duration": 0,
    "start_time": "2022-04-18T15:38:06.216Z"
   },
   {
    "duration": 0,
    "start_time": "2022-04-18T15:38:06.218Z"
   },
   {
    "duration": 0,
    "start_time": "2022-04-18T15:38:06.219Z"
   },
   {
    "duration": 0,
    "start_time": "2022-04-18T15:38:06.221Z"
   },
   {
    "duration": 0,
    "start_time": "2022-04-18T15:38:06.222Z"
   },
   {
    "duration": 0,
    "start_time": "2022-04-18T15:38:06.224Z"
   },
   {
    "duration": 0,
    "start_time": "2022-04-18T15:38:06.226Z"
   },
   {
    "duration": 0,
    "start_time": "2022-04-18T15:38:06.227Z"
   },
   {
    "duration": 0,
    "start_time": "2022-04-18T15:38:06.229Z"
   },
   {
    "duration": 0,
    "start_time": "2022-04-18T15:38:06.294Z"
   },
   {
    "duration": 0,
    "start_time": "2022-04-18T15:38:06.295Z"
   },
   {
    "duration": 0,
    "start_time": "2022-04-18T15:38:06.297Z"
   },
   {
    "duration": 0,
    "start_time": "2022-04-18T15:38:06.298Z"
   },
   {
    "duration": 0,
    "start_time": "2022-04-18T15:38:06.300Z"
   },
   {
    "duration": 0,
    "start_time": "2022-04-18T15:38:06.301Z"
   },
   {
    "duration": 0,
    "start_time": "2022-04-18T15:38:06.303Z"
   },
   {
    "duration": 0,
    "start_time": "2022-04-18T15:38:06.305Z"
   },
   {
    "duration": 2140,
    "start_time": "2022-04-18T15:38:15.778Z"
   },
   {
    "duration": 824,
    "start_time": "2022-04-18T15:38:17.920Z"
   },
   {
    "duration": 25,
    "start_time": "2022-04-18T15:38:18.746Z"
   },
   {
    "duration": 20,
    "start_time": "2022-04-18T15:38:18.773Z"
   },
   {
    "duration": 24,
    "start_time": "2022-04-18T15:38:18.797Z"
   },
   {
    "duration": 11,
    "start_time": "2022-04-18T15:38:18.824Z"
   },
   {
    "duration": 17,
    "start_time": "2022-04-18T15:38:18.838Z"
   },
   {
    "duration": 38,
    "start_time": "2022-04-18T15:38:18.857Z"
   },
   {
    "duration": 14,
    "start_time": "2022-04-18T15:38:18.897Z"
   },
   {
    "duration": 17,
    "start_time": "2022-04-18T15:38:18.913Z"
   },
   {
    "duration": 668,
    "start_time": "2022-04-18T15:38:18.933Z"
   },
   {
    "duration": 489,
    "start_time": "2022-04-18T15:38:19.604Z"
   },
   {
    "duration": 7,
    "start_time": "2022-04-18T15:38:20.095Z"
   },
   {
    "duration": 9,
    "start_time": "2022-04-18T15:38:20.108Z"
   },
   {
    "duration": 28,
    "start_time": "2022-04-18T15:38:20.120Z"
   },
   {
    "duration": 7,
    "start_time": "2022-04-18T15:38:20.150Z"
   },
   {
    "duration": 7,
    "start_time": "2022-04-18T15:38:20.193Z"
   },
   {
    "duration": 10,
    "start_time": "2022-04-18T15:38:20.202Z"
   },
   {
    "duration": 9,
    "start_time": "2022-04-18T15:38:20.214Z"
   },
   {
    "duration": 10,
    "start_time": "2022-04-18T15:38:20.226Z"
   },
   {
    "duration": 1676,
    "start_time": "2022-04-18T15:38:20.238Z"
   },
   {
    "duration": 413,
    "start_time": "2022-04-18T15:38:21.916Z"
   },
   {
    "duration": 365,
    "start_time": "2022-04-18T15:38:22.331Z"
   },
   {
    "duration": 29,
    "start_time": "2022-04-18T15:38:22.699Z"
   },
   {
    "duration": 13,
    "start_time": "2022-04-18T15:38:22.730Z"
   },
   {
    "duration": 1156,
    "start_time": "2022-04-18T15:38:22.746Z"
   },
   {
    "duration": 7,
    "start_time": "2022-04-18T15:38:23.904Z"
   },
   {
    "duration": 8,
    "start_time": "2022-04-18T15:38:23.913Z"
   },
   {
    "duration": 36,
    "start_time": "2022-04-18T15:38:23.923Z"
   },
   {
    "duration": 49,
    "start_time": "2022-04-18T15:38:23.962Z"
   },
   {
    "duration": 4,
    "start_time": "2022-04-18T15:38:24.014Z"
   },
   {
    "duration": 8,
    "start_time": "2022-04-18T15:38:24.021Z"
   },
   {
    "duration": 14,
    "start_time": "2022-04-18T15:38:24.031Z"
   },
   {
    "duration": 8,
    "start_time": "2022-04-18T15:38:24.048Z"
   },
   {
    "duration": 40,
    "start_time": "2022-04-18T15:38:24.058Z"
   },
   {
    "duration": 10,
    "start_time": "2022-04-18T15:38:24.100Z"
   },
   {
    "duration": 24782,
    "start_time": "2022-04-18T15:38:24.113Z"
   },
   {
    "duration": 95,
    "start_time": "2022-04-18T15:38:48.898Z"
   },
   {
    "duration": 7,
    "start_time": "2022-04-18T15:38:48.996Z"
   },
   {
    "duration": 2298,
    "start_time": "2022-04-18T15:38:49.006Z"
   },
   {
    "duration": 86,
    "start_time": "2022-04-18T15:38:51.311Z"
   },
   {
    "duration": 97,
    "start_time": "2022-04-18T15:38:51.401Z"
   },
   {
    "duration": 5,
    "start_time": "2022-04-18T15:38:51.500Z"
   },
   {
    "duration": 6,
    "start_time": "2022-04-18T15:38:51.507Z"
   },
   {
    "duration": 7,
    "start_time": "2022-04-18T15:38:51.515Z"
   },
   {
    "duration": 6,
    "start_time": "2022-04-18T15:38:51.524Z"
   },
   {
    "duration": 6,
    "start_time": "2022-04-18T15:38:51.532Z"
   },
   {
    "duration": 3149,
    "start_time": "2022-04-18T15:38:51.540Z"
   },
   {
    "duration": 4,
    "start_time": "2022-04-18T15:38:54.691Z"
   },
   {
    "duration": 11,
    "start_time": "2022-04-18T15:38:54.697Z"
   },
   {
    "duration": 6,
    "start_time": "2022-04-18T15:38:54.710Z"
   },
   {
    "duration": 7,
    "start_time": "2022-04-18T15:38:54.718Z"
   },
   {
    "duration": 7,
    "start_time": "2022-04-18T15:38:54.727Z"
   },
   {
    "duration": 11,
    "start_time": "2022-04-18T15:38:54.736Z"
   },
   {
    "duration": 43,
    "start_time": "2022-04-18T15:38:54.750Z"
   },
   {
    "duration": 43645,
    "start_time": "2022-04-18T15:38:54.796Z"
   },
   {
    "duration": 5,
    "start_time": "2022-04-18T15:39:38.443Z"
   },
   {
    "duration": 7,
    "start_time": "2022-04-18T15:39:38.451Z"
   },
   {
    "duration": 33,
    "start_time": "2022-04-18T15:39:38.460Z"
   },
   {
    "duration": 5,
    "start_time": "2022-04-18T15:39:38.496Z"
   },
   {
    "duration": 4,
    "start_time": "2022-04-18T15:39:38.504Z"
   },
   {
    "duration": 14,
    "start_time": "2022-04-18T15:39:38.511Z"
   },
   {
    "duration": 5,
    "start_time": "2022-04-18T15:39:38.527Z"
   },
   {
    "duration": 7411,
    "start_time": "2022-04-18T15:39:38.534Z"
   },
   {
    "duration": 4,
    "start_time": "2022-04-18T15:39:45.947Z"
   },
   {
    "duration": 9,
    "start_time": "2022-04-18T15:39:45.953Z"
   },
   {
    "duration": 8,
    "start_time": "2022-04-18T15:39:45.964Z"
   },
   {
    "duration": 9,
    "start_time": "2022-04-18T15:39:45.974Z"
   },
   {
    "duration": 5825,
    "start_time": "2022-04-18T15:39:45.986Z"
   },
   {
    "duration": 22,
    "start_time": "2022-04-18T15:39:51.813Z"
   },
   {
    "duration": 9,
    "start_time": "2022-04-18T15:39:51.838Z"
   },
   {
    "duration": 13,
    "start_time": "2022-04-18T15:39:51.849Z"
   },
   {
    "duration": 31,
    "start_time": "2022-04-18T15:39:51.864Z"
   },
   {
    "duration": 8,
    "start_time": "2022-04-18T15:39:51.898Z"
   },
   {
    "duration": 14,
    "start_time": "2022-04-18T15:39:51.908Z"
   }
  ],
  "kernelspec": {
   "display_name": "Python 3 (ipykernel)",
   "language": "python",
   "name": "python3"
  },
  "language_info": {
   "codemirror_mode": {
    "name": "ipython",
    "version": 3
   },
   "file_extension": ".py",
   "mimetype": "text/x-python",
   "name": "python",
   "nbconvert_exporter": "python",
   "pygments_lexer": "ipython3",
   "version": "3.10.0"
  },
  "toc": {
   "base_numbering": 1,
   "nav_menu": {},
   "number_sections": true,
   "sideBar": true,
   "skip_h1_title": true,
   "title_cell": "Содержание",
   "title_sidebar": "Contents",
   "toc_cell": true,
   "toc_position": {},
   "toc_section_display": true,
   "toc_window_display": true
  }
 },
 "nbformat": 4,
 "nbformat_minor": 4
}
