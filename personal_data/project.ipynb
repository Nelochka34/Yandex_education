{
 "cells": [
  {
   "cell_type": "markdown",
   "metadata": {},
   "source": [
    "# Защита персональных данных клиентов"
   ]
  },
  {
   "cell_type": "markdown",
   "metadata": {},
   "source": [
    "## Загрузка и подготовка данных"
   ]
  },
  {
   "cell_type": "code",
   "execution_count": 1,
   "metadata": {},
   "outputs": [],
   "source": [
    "import pandas as pd\n",
    "import matplotlib.pyplot as plt\n",
    "import numpy as np\n",
    "import seaborn as sns\n",
    "from sklearn.model_selection import train_test_split\n",
    "from sklearn.linear_model import LinearRegression\n",
    "from sklearn.metrics import r2_score, mean_squared_error"
   ]
  },
  {
   "cell_type": "code",
   "execution_count": 2,
   "metadata": {},
   "outputs": [],
   "source": [
    "df = pd.read_csv('/datasets/insurance.csv')"
   ]
  },
  {
   "cell_type": "code",
   "execution_count": 3,
   "metadata": {},
   "outputs": [
    {
     "name": "stdout",
     "output_type": "stream",
     "text": [
      "<class 'pandas.core.frame.DataFrame'>\n",
      "RangeIndex: 5000 entries, 0 to 4999\n",
      "Data columns (total 5 columns):\n",
      " #   Column             Non-Null Count  Dtype  \n",
      "---  ------             --------------  -----  \n",
      " 0   Пол                5000 non-null   int64  \n",
      " 1   Возраст            5000 non-null   float64\n",
      " 2   Зарплата           5000 non-null   float64\n",
      " 3   Члены семьи        5000 non-null   int64  \n",
      " 4   Страховые выплаты  5000 non-null   int64  \n",
      "dtypes: float64(2), int64(3)\n",
      "memory usage: 195.4 KB\n"
     ]
    }
   ],
   "source": [
    "df.info()  # получим информацию о данных"
   ]
  },
  {
   "cell_type": "markdown",
   "metadata": {},
   "source": [
    "Данные хорошие, пропусков нет. "
   ]
  },
  {
   "cell_type": "code",
   "execution_count": 4,
   "metadata": {},
   "outputs": [
    {
     "data": {
      "text/html": [
       "<div>\n",
       "<style scoped>\n",
       "    .dataframe tbody tr th:only-of-type {\n",
       "        vertical-align: middle;\n",
       "    }\n",
       "\n",
       "    .dataframe tbody tr th {\n",
       "        vertical-align: top;\n",
       "    }\n",
       "\n",
       "    .dataframe thead th {\n",
       "        text-align: right;\n",
       "    }\n",
       "</style>\n",
       "<table border=\"1\" class=\"dataframe\">\n",
       "  <thead>\n",
       "    <tr style=\"text-align: right;\">\n",
       "      <th></th>\n",
       "      <th>Пол</th>\n",
       "      <th>Возраст</th>\n",
       "      <th>Зарплата</th>\n",
       "      <th>Члены семьи</th>\n",
       "      <th>Страховые выплаты</th>\n",
       "    </tr>\n",
       "  </thead>\n",
       "  <tbody>\n",
       "    <tr>\n",
       "      <th>count</th>\n",
       "      <td>5000.000000</td>\n",
       "      <td>5000.000000</td>\n",
       "      <td>5000.000000</td>\n",
       "      <td>5000.000000</td>\n",
       "      <td>5000.000000</td>\n",
       "    </tr>\n",
       "    <tr>\n",
       "      <th>mean</th>\n",
       "      <td>0.499000</td>\n",
       "      <td>30.952800</td>\n",
       "      <td>39916.360000</td>\n",
       "      <td>1.194200</td>\n",
       "      <td>0.148000</td>\n",
       "    </tr>\n",
       "    <tr>\n",
       "      <th>std</th>\n",
       "      <td>0.500049</td>\n",
       "      <td>8.440807</td>\n",
       "      <td>9900.083569</td>\n",
       "      <td>1.091387</td>\n",
       "      <td>0.463183</td>\n",
       "    </tr>\n",
       "    <tr>\n",
       "      <th>min</th>\n",
       "      <td>0.000000</td>\n",
       "      <td>18.000000</td>\n",
       "      <td>5300.000000</td>\n",
       "      <td>0.000000</td>\n",
       "      <td>0.000000</td>\n",
       "    </tr>\n",
       "    <tr>\n",
       "      <th>25%</th>\n",
       "      <td>0.000000</td>\n",
       "      <td>24.000000</td>\n",
       "      <td>33300.000000</td>\n",
       "      <td>0.000000</td>\n",
       "      <td>0.000000</td>\n",
       "    </tr>\n",
       "    <tr>\n",
       "      <th>50%</th>\n",
       "      <td>0.000000</td>\n",
       "      <td>30.000000</td>\n",
       "      <td>40200.000000</td>\n",
       "      <td>1.000000</td>\n",
       "      <td>0.000000</td>\n",
       "    </tr>\n",
       "    <tr>\n",
       "      <th>75%</th>\n",
       "      <td>1.000000</td>\n",
       "      <td>37.000000</td>\n",
       "      <td>46600.000000</td>\n",
       "      <td>2.000000</td>\n",
       "      <td>0.000000</td>\n",
       "    </tr>\n",
       "    <tr>\n",
       "      <th>max</th>\n",
       "      <td>1.000000</td>\n",
       "      <td>65.000000</td>\n",
       "      <td>79000.000000</td>\n",
       "      <td>6.000000</td>\n",
       "      <td>5.000000</td>\n",
       "    </tr>\n",
       "  </tbody>\n",
       "</table>\n",
       "</div>"
      ],
      "text/plain": [
       "               Пол      Возраст      Зарплата  Члены семьи  Страховые выплаты\n",
       "count  5000.000000  5000.000000   5000.000000  5000.000000        5000.000000\n",
       "mean      0.499000    30.952800  39916.360000     1.194200           0.148000\n",
       "std       0.500049     8.440807   9900.083569     1.091387           0.463183\n",
       "min       0.000000    18.000000   5300.000000     0.000000           0.000000\n",
       "25%       0.000000    24.000000  33300.000000     0.000000           0.000000\n",
       "50%       0.000000    30.000000  40200.000000     1.000000           0.000000\n",
       "75%       1.000000    37.000000  46600.000000     2.000000           0.000000\n",
       "max       1.000000    65.000000  79000.000000     6.000000           5.000000"
      ]
     },
     "execution_count": 4,
     "metadata": {},
     "output_type": "execute_result"
    }
   ],
   "source": [
    "df.describe() # выведем статистическую информацию о данных"
   ]
  },
  {
   "cell_type": "markdown",
   "metadata": {},
   "source": [
    "Переименуем столбцы:"
   ]
  },
  {
   "cell_type": "code",
   "execution_count": 5,
   "metadata": {},
   "outputs": [],
   "source": [
    "df.columns = ['gender', 'age', 'salary', 'family', 'payments']"
   ]
  },
  {
   "cell_type": "code",
   "execution_count": 6,
   "metadata": {},
   "outputs": [],
   "source": [
    "df[\"salary\"] = df[\"salary\"].round().astype(int) # округлим и приведем к целому типу"
   ]
  },
  {
   "cell_type": "code",
   "execution_count": 7,
   "metadata": {},
   "outputs": [],
   "source": [
    "df[\"age\"] = df[\"age\"].round().astype(int)"
   ]
  },
  {
   "cell_type": "code",
   "execution_count": 8,
   "metadata": {},
   "outputs": [
    {
     "data": {
      "text/html": [
       "<div>\n",
       "<style scoped>\n",
       "    .dataframe tbody tr th:only-of-type {\n",
       "        vertical-align: middle;\n",
       "    }\n",
       "\n",
       "    .dataframe tbody tr th {\n",
       "        vertical-align: top;\n",
       "    }\n",
       "\n",
       "    .dataframe thead th {\n",
       "        text-align: right;\n",
       "    }\n",
       "</style>\n",
       "<table border=\"1\" class=\"dataframe\">\n",
       "  <thead>\n",
       "    <tr style=\"text-align: right;\">\n",
       "      <th></th>\n",
       "      <th>gender</th>\n",
       "      <th>age</th>\n",
       "      <th>salary</th>\n",
       "      <th>family</th>\n",
       "      <th>payments</th>\n",
       "    </tr>\n",
       "  </thead>\n",
       "  <tbody>\n",
       "    <tr>\n",
       "      <th>0</th>\n",
       "      <td>1</td>\n",
       "      <td>41</td>\n",
       "      <td>49600</td>\n",
       "      <td>1</td>\n",
       "      <td>0</td>\n",
       "    </tr>\n",
       "    <tr>\n",
       "      <th>1</th>\n",
       "      <td>0</td>\n",
       "      <td>46</td>\n",
       "      <td>38000</td>\n",
       "      <td>1</td>\n",
       "      <td>1</td>\n",
       "    </tr>\n",
       "    <tr>\n",
       "      <th>2</th>\n",
       "      <td>0</td>\n",
       "      <td>29</td>\n",
       "      <td>21000</td>\n",
       "      <td>0</td>\n",
       "      <td>0</td>\n",
       "    </tr>\n",
       "    <tr>\n",
       "      <th>3</th>\n",
       "      <td>0</td>\n",
       "      <td>21</td>\n",
       "      <td>41700</td>\n",
       "      <td>2</td>\n",
       "      <td>0</td>\n",
       "    </tr>\n",
       "    <tr>\n",
       "      <th>4</th>\n",
       "      <td>1</td>\n",
       "      <td>28</td>\n",
       "      <td>26100</td>\n",
       "      <td>0</td>\n",
       "      <td>0</td>\n",
       "    </tr>\n",
       "  </tbody>\n",
       "</table>\n",
       "</div>"
      ],
      "text/plain": [
       "   gender  age  salary  family  payments\n",
       "0       1   41   49600       1         0\n",
       "1       0   46   38000       1         1\n",
       "2       0   29   21000       0         0\n",
       "3       0   21   41700       2         0\n",
       "4       1   28   26100       0         0"
      ]
     },
     "execution_count": 8,
     "metadata": {},
     "output_type": "execute_result"
    }
   ],
   "source": [
    "df.head(5)"
   ]
  },
  {
   "cell_type": "markdown",
   "metadata": {},
   "source": [
    "**Признаки**: пол, возраст и зарплата застрахованного, количество членов его семьи. <br/>\n",
    "**Целевой признак**: количество страховых выплат клиенту за последние 5 лет."
   ]
  },
  {
   "cell_type": "code",
   "execution_count": 9,
   "metadata": {},
   "outputs": [],
   "source": [
    "X = df.drop('payments', axis=1) \n",
    "y = df['payments']"
   ]
  },
  {
   "cell_type": "code",
   "execution_count": 10,
   "metadata": {},
   "outputs": [
    {
     "name": "stdout",
     "output_type": "stream",
     "text": [
      "(5000, 4)\n",
      "(5000,)\n"
     ]
    }
   ],
   "source": [
    "print(X.shape)\n",
    "print(y.shape)"
   ]
  },
  {
   "cell_type": "markdown",
   "metadata": {},
   "source": [
    "Оценим коэффициент корреляции между возрастом и количеством страховых выплат клиентов:"
   ]
  },
  {
   "cell_type": "code",
   "execution_count": 11,
   "metadata": {},
   "outputs": [
    {
     "data": {
      "text/plain": [
       "0.6510300979467256"
      ]
     },
     "execution_count": 11,
     "metadata": {},
     "output_type": "execute_result"
    }
   ],
   "source": [
    "df['age'].corr(df['payments'])"
   ]
  },
  {
   "cell_type": "code",
   "execution_count": 12,
   "metadata": {},
   "outputs": [
    {
     "data": {
      "text/plain": [
       "<AxesSubplot:xlabel='age'>"
      ]
     },
     "execution_count": 12,
     "metadata": {},
     "output_type": "execute_result"
    },
    {
     "data": {
      "image/png": "[encoded data removed]",
      "text/plain": [
       "<Figure size 1080x360 with 1 Axes>"
      ]
     },
     "metadata": {
      "needs_background": "light"
     },
     "output_type": "display_data"
    }
   ],
   "source": [
    "(df\n",
    " .pivot_table(index = 'age', values = 'payments')\n",
    " .plot(grid=True, style='o-', figsize=(15,5))\n",
    " ) "
   ]
  },
  {
   "cell_type": "markdown",
   "metadata": {},
   "source": [
    "Коэффициент корреляции Пирсона между возрастом и количеством страховых выплат клиентов равен 0,651. Что говорит о том, что при увеличении возраста клиентов ростет и количество страховых выплат, но рост слабый. <br/>\n",
    "На графике видно, что клиенты в возрасте до 42 лет не получили ни одной выплаты, до 55 - 2 выплаты, до 65 - 4.Один клиент в возрасте 65 лет получил выплату 5 раз. "
   ]
  },
  {
   "cell_type": "markdown",
   "metadata": {},
   "source": [
    "## Умножение матриц"
   ]
  },
  {
   "cell_type": "markdown",
   "metadata": {},
   "source": [
    "Обозначения:\n",
    "\n",
    "- $X$ — матрица признаков (нулевой столбец состоит из единиц)\n",
    "\n",
    "- $y$ — вектор целевого признака\n",
    "\n",
    "- $P$ — матрица, на которую умножаются признаки\n",
    "\n",
    "- $w$ — вектор весов линейной регрессии (нулевой элемент равен сдвигу)\n",
    "- $w*$ - вектор весов линейной регрессии матрицы полученной домножение исходной на обратимую матрицу(нулевой элемент равен сдвигу)\n",
    "- $a$ - вектор предсказаний по исходной матрице\n",
    "- $a*$ - вектор предсказаний, полученный по исходной матрице, домноженной на обратимую"
   ]
  },
  {
   "cell_type": "markdown",
   "metadata": {},
   "source": [
    "1. Произведем умножение исходной матрицы на обратимую и выясним изменится ли качество линейной регрессии? "
   ]
  },
  {
   "cell_type": "markdown",
   "metadata": {},
   "source": [
    "**Исходня матрица признаков X:**"
   ]
  },
  {
   "cell_type": "markdown",
   "metadata": {},
   "source": [
    "Предсказания:\n",
    "\n",
    "$$\n",
    "a = Xw\n",
    "$$\n",
    "\n",
    "Формула обучения:\n",
    "\n",
    "$$\n",
    "w = (X^T X)^{-1} X^T y\n",
    "$$\n",
    "\n",
    "Тогда формула предсказания будет такой: \n",
    "\n",
    "$$\n",
    "a = X(X^T X)^{-1} X^T y\n",
    "$$\n"
   ]
  },
  {
   "cell_type": "markdown",
   "metadata": {},
   "source": [
    "**Матрица признаков X.dot(P):**"
   ]
  },
  {
   "cell_type": "markdown",
   "metadata": {},
   "source": [
    "Предсказания: \n",
    "$$\n",
    "a = XPw\n",
    "$$\n",
    "\n",
    "Обучение: \n",
    "$$\n",
    "w = ((XP)^T XP)^{-1} (XP)^T y\n",
    "$$\n",
    "\n",
    "Используя преобразования, получим :\n",
    "$$\n",
    "w = (P^T(X^TX)P)^{-1} P^TX^T y = P^{-1}(X^TX)^{-1}(P^T)^{-1}P^TX^Ty\n",
    "$$\n",
    "\n",
    "Так как $(P^T)^{-1}P^T = E$, получаем: \n",
    "$$ \n",
    "w = P^{-1}(X^TX)^{-1}X^Ty\n",
    "$$\n",
    "\n",
    "Отсюда получим предсказание: \n",
    "$$\n",
    "a = XPw = XPP^{-1}(X^TX)^{-1}X^Ty = X(X^TX)^{-1}X^Ty\n",
    "$$\n",
    "\n",
    "**Ответ:** Получили результат: формулы для предсказаний точно совпадают. Т.е умножение матрицы признаков на обратимую матрицу не влияет на результат предсказания для модели линейной регрессии. "
   ]
  },
  {
   "cell_type": "markdown",
   "metadata": {},
   "source": [
    "Создадим различные матрицы: "
   ]
  },
  {
   "cell_type": "code",
   "execution_count": 13,
   "metadata": {},
   "outputs": [
    {
     "data": {
      "text/plain": [
       "array([[1., 0., 0., 0.],\n",
       "       [0., 1., 0., 0.],\n",
       "       [0., 0., 1., 0.],\n",
       "       [0., 0., 0., 1.]])"
      ]
     },
     "execution_count": 13,
     "metadata": {},
     "output_type": "execute_result"
    }
   ],
   "source": [
    "E = np.eye(4) # единичная матрица\n",
    "E"
   ]
  },
  {
   "cell_type": "code",
   "execution_count": 14,
   "metadata": {},
   "outputs": [
    {
     "data": {
      "text/plain": [
       "(5000, 4)"
      ]
     },
     "execution_count": 14,
     "metadata": {},
     "output_type": "execute_result"
    }
   ],
   "source": [
    "X_E = X.dot(E) # получим произведение матрицы признаков на единичную\n",
    "X_E.shape"
   ]
  },
  {
   "cell_type": "code",
   "execution_count": 15,
   "metadata": {},
   "outputs": [],
   "source": [
    "Z = np.random.normal(size =(4, 4)) # рандомная матрица"
   ]
  },
  {
   "cell_type": "markdown",
   "metadata": {},
   "source": [
    "Проверим существует ли к полученной матрице обратная:"
   ]
  },
  {
   "cell_type": "code",
   "execution_count": 16,
   "metadata": {},
   "outputs": [],
   "source": [
    "Z_1 = np.linalg.inv(Z)"
   ]
  },
  {
   "cell_type": "code",
   "execution_count": 17,
   "metadata": {},
   "outputs": [
    {
     "data": {
      "text/plain": [
       "array([[ 0.33971695, -0.60965119,  0.54360916,  0.97670203],\n",
       "       [-0.69840337, -1.07939297,  0.81706324,  1.41046343],\n",
       "       [-0.27492498, -1.98339192,  0.64598338,  1.86043865],\n",
       "       [-0.72632636, -1.73850984,  0.82268265,  1.18657519]])"
      ]
     },
     "execution_count": 17,
     "metadata": {},
     "output_type": "execute_result"
    }
   ],
   "source": [
    "Z_1"
   ]
  },
  {
   "cell_type": "markdown",
   "metadata": {},
   "source": [
    "Полученная матрица имеет обратную, значит она обратима. "
   ]
  },
  {
   "cell_type": "code",
   "execution_count": 18,
   "metadata": {},
   "outputs": [
    {
     "data": {
      "text/plain": [
       "(4, 4)"
      ]
     },
     "execution_count": 18,
     "metadata": {},
     "output_type": "execute_result"
    }
   ],
   "source": [
    "Z.shape"
   ]
  },
  {
   "cell_type": "code",
   "execution_count": 19,
   "metadata": {},
   "outputs": [
    {
     "data": {
      "text/plain": [
       "(5000, 4)"
      ]
     },
     "execution_count": 19,
     "metadata": {},
     "output_type": "execute_result"
    }
   ],
   "source": [
    "X_Z = X.dot(Z)\n",
    "X_Z.shape"
   ]
  },
  {
   "cell_type": "markdown",
   "metadata": {},
   "source": [
    "Напишем функцию подсчета метрик R2 и MSE для линейной регрессии:"
   ]
  },
  {
   "cell_type": "code",
   "execution_count": 20,
   "metadata": {},
   "outputs": [],
   "source": [
    "def metrics_r2(X,y):  # ф-ия подчета метрики R2\n",
    "    model = LinearRegression()\n",
    "    model.fit(X,y)\n",
    "    predict = model.predict(X)\n",
    "    return r2_score(y, predict)"
   ]
  },
  {
   "cell_type": "code",
   "execution_count": 21,
   "metadata": {},
   "outputs": [
    {
     "name": "stdout",
     "output_type": "stream",
     "text": [
      "Метрика R2 для линейной регрессии матрицы признаков: 0.4249455028666801\n"
     ]
    }
   ],
   "source": [
    "print(\"Метрика R2 для линейной регрессии матрицы признаков:\", metrics_r2(X,y))"
   ]
  },
  {
   "cell_type": "code",
   "execution_count": 22,
   "metadata": {},
   "outputs": [
    {
     "name": "stdout",
     "output_type": "stream",
     "text": [
      "Метрика R2 для линейной регрессии матрицы признаков, умноженной на рандомную матрицу: 0.4249455028666683\n"
     ]
    }
   ],
   "source": [
    "print(\"Метрика R2 для линейной регрессии матрицы признаков, умноженной на рандомную матрицу:\", metrics_r2(X_Z,y))"
   ]
  },
  {
   "cell_type": "code",
   "execution_count": 23,
   "metadata": {},
   "outputs": [
    {
     "name": "stdout",
     "output_type": "stream",
     "text": [
      "Метрика R2 для линейной регрессии матрицы признаков, умноженной на единичную матрицу: 0.4249455028666801\n"
     ]
    }
   ],
   "source": [
    "print(\"Метрика R2 для линейной регрессии матрицы признаков, умноженной на единичную матрицу:\", metrics_r2(X_E,y))"
   ]
  },
  {
   "cell_type": "code",
   "execution_count": 24,
   "metadata": {},
   "outputs": [],
   "source": [
    "def metrics_mse(X,y):  # ф-ия подчета метрики MSE\n",
    "    model = LinearRegression()\n",
    "    model.fit(X,y)\n",
    "    predict = model.predict(X)\n",
    "    return mean_squared_error(y,predict)"
   ]
  },
  {
   "cell_type": "code",
   "execution_count": 25,
   "metadata": {},
   "outputs": [
    {
     "name": "stdout",
     "output_type": "stream",
     "text": [
      "Метрика MSE для линейной регрессии матрицы признаков: 0.12334688941710859\n"
     ]
    }
   ],
   "source": [
    "print(\"Метрика MSE для линейной регрессии матрицы признаков:\", metrics_mse(X,y))"
   ]
  },
  {
   "cell_type": "code",
   "execution_count": 26,
   "metadata": {},
   "outputs": [
    {
     "name": "stdout",
     "output_type": "stream",
     "text": [
      "Метрика MSE для линейной регрессии матрицы признаков, умноженной на рандомную матрицу: 0.12334688941710859\n"
     ]
    }
   ],
   "source": [
    "print(\"Метрика MSE для линейной регрессии матрицы признаков, умноженной на рандомную матрицу:\", metrics_mse(X,y))"
   ]
  },
  {
   "cell_type": "code",
   "execution_count": 27,
   "metadata": {},
   "outputs": [
    {
     "name": "stdout",
     "output_type": "stream",
     "text": [
      "Метрика MSE для линейной регрессии матрицы признаков, умноженной на единичную матрицу: 0.12334688941710859\n"
     ]
    }
   ],
   "source": [
    "print(\"Метрика MSE для линейной регрессии матрицы признаков, умноженной на единичную матрицу:\",  metrics_mse(X_E,y))"
   ]
  },
  {
   "cell_type": "markdown",
   "metadata": {},
   "source": [
    "С использованием метрик R2 и MSE видно, что при умножении единичной и рандомной матриц на матрицу признаков значение метрик не меняется. Это подтвержает теорию, полученную выше. <br/>\n",
    "Предсказание исходной матрицы = предсказаниям исходной умноженной на обратимую. "
   ]
  },
  {
   "cell_type": "markdown",
   "metadata": {},
   "source": [
    "## Алгоритм преобразования"
   ]
  },
  {
   "cell_type": "markdown",
   "metadata": {},
   "source": [
    "Матрицу признаков можно умножить на обратимую, как показали вычисления на результат это не повлияет. Результат умножения матриц:"
   ]
  },
  {
   "cell_type": "code",
   "execution_count": 28,
   "metadata": {},
   "outputs": [
    {
     "data": {
      "text/html": [
       "<div>\n",
       "<style scoped>\n",
       "    .dataframe tbody tr th:only-of-type {\n",
       "        vertical-align: middle;\n",
       "    }\n",
       "\n",
       "    .dataframe tbody tr th {\n",
       "        vertical-align: top;\n",
       "    }\n",
       "\n",
       "    .dataframe thead th {\n",
       "        text-align: right;\n",
       "    }\n",
       "</style>\n",
       "<table border=\"1\" class=\"dataframe\">\n",
       "  <thead>\n",
       "    <tr style=\"text-align: right;\">\n",
       "      <th></th>\n",
       "      <th>0</th>\n",
       "      <th>1</th>\n",
       "      <th>2</th>\n",
       "      <th>3</th>\n",
       "    </tr>\n",
       "  </thead>\n",
       "  <tbody>\n",
       "    <tr>\n",
       "      <th>0</th>\n",
       "      <td>87641.768965</td>\n",
       "      <td>-1569.301930</td>\n",
       "      <td>-94816.024717</td>\n",
       "      <td>78388.582085</td>\n",
       "    </tr>\n",
       "    <tr>\n",
       "      <th>1</th>\n",
       "      <td>67145.021416</td>\n",
       "      <td>-1183.994129</td>\n",
       "      <td>-72645.651593</td>\n",
       "      <td>60040.931697</td>\n",
       "    </tr>\n",
       "    <tr>\n",
       "      <th>2</th>\n",
       "      <td>37106.932992</td>\n",
       "      <td>-650.701607</td>\n",
       "      <td>-40147.876473</td>\n",
       "      <td>33177.868221</td>\n",
       "    </tr>\n",
       "    <tr>\n",
       "      <th>3</th>\n",
       "      <td>73680.180919</td>\n",
       "      <td>-1333.097255</td>\n",
       "      <td>-79709.075329</td>\n",
       "      <td>65914.531243</td>\n",
       "    </tr>\n",
       "    <tr>\n",
       "      <th>4</th>\n",
       "      <td>46119.228776</td>\n",
       "      <td>-819.271036</td>\n",
       "      <td>-49895.568651</td>\n",
       "      <td>41243.447900</td>\n",
       "    </tr>\n",
       "    <tr>\n",
       "      <th>...</th>\n",
       "      <td>...</td>\n",
       "      <td>...</td>\n",
       "      <td>...</td>\n",
       "      <td>...</td>\n",
       "    </tr>\n",
       "    <tr>\n",
       "      <th>4995</th>\n",
       "      <td>63079.410433</td>\n",
       "      <td>-1129.123190</td>\n",
       "      <td>-68243.015735</td>\n",
       "      <td>56420.143974</td>\n",
       "    </tr>\n",
       "    <tr>\n",
       "      <th>4996</th>\n",
       "      <td>92587.250659</td>\n",
       "      <td>-1667.860920</td>\n",
       "      <td>-100165.690056</td>\n",
       "      <td>82822.752010</td>\n",
       "    </tr>\n",
       "    <tr>\n",
       "      <th>4997</th>\n",
       "      <td>59898.379539</td>\n",
       "      <td>-1079.863625</td>\n",
       "      <td>-64800.051208</td>\n",
       "      <td>53581.736595</td>\n",
       "    </tr>\n",
       "    <tr>\n",
       "      <th>4998</th>\n",
       "      <td>57779.177341</td>\n",
       "      <td>-1038.282376</td>\n",
       "      <td>-62506.156439</td>\n",
       "      <td>51680.912901</td>\n",
       "    </tr>\n",
       "    <tr>\n",
       "      <th>4999</th>\n",
       "      <td>71738.752435</td>\n",
       "      <td>-1291.104928</td>\n",
       "      <td>-77609.613914</td>\n",
       "      <td>64170.056315</td>\n",
       "    </tr>\n",
       "  </tbody>\n",
       "</table>\n",
       "<p>5000 rows × 4 columns</p>\n",
       "</div>"
      ],
      "text/plain": [
       "                 0            1              2             3\n",
       "0     87641.768965 -1569.301930  -94816.024717  78388.582085\n",
       "1     67145.021416 -1183.994129  -72645.651593  60040.931697\n",
       "2     37106.932992  -650.701607  -40147.876473  33177.868221\n",
       "3     73680.180919 -1333.097255  -79709.075329  65914.531243\n",
       "4     46119.228776  -819.271036  -49895.568651  41243.447900\n",
       "...            ...          ...            ...           ...\n",
       "4995  63079.410433 -1129.123190  -68243.015735  56420.143974\n",
       "4996  92587.250659 -1667.860920 -100165.690056  82822.752010\n",
       "4997  59898.379539 -1079.863625  -64800.051208  53581.736595\n",
       "4998  57779.177341 -1038.282376  -62506.156439  51680.912901\n",
       "4999  71738.752435 -1291.104928  -77609.613914  64170.056315\n",
       "\n",
       "[5000 rows x 4 columns]"
      ]
     },
     "execution_count": 28,
     "metadata": {},
     "output_type": "execute_result"
    }
   ],
   "source": [
    "X_Z"
   ]
  },
  {
   "cell_type": "markdown",
   "metadata": {},
   "source": [
    "## Проверка алгоритма"
   ]
  },
  {
   "cell_type": "markdown",
   "metadata": {},
   "source": [
    "Разделим данные на обучающую выборку и тестовую:"
   ]
  },
  {
   "cell_type": "code",
   "execution_count": 29,
   "metadata": {},
   "outputs": [],
   "source": [
    "X_train, X_test, y_train, y_test = train_test_split(\n",
    "    X, y, test_size=0.25, random_state=12345)"
   ]
  },
  {
   "cell_type": "code",
   "execution_count": 30,
   "metadata": {},
   "outputs": [
    {
     "name": "stdout",
     "output_type": "stream",
     "text": [
      "(3750, 4) (1250, 4) (3750,) (1250,)\n"
     ]
    }
   ],
   "source": [
    "print(X_train.shape, X_test.shape, y_train.shape, y_test.shape)"
   ]
  },
  {
   "cell_type": "code",
   "execution_count": 31,
   "metadata": {},
   "outputs": [
    {
     "name": "stdout",
     "output_type": "stream",
     "text": [
      "Метрика R2 для модели линейная регрессия 0.43522757127026546\n"
     ]
    }
   ],
   "source": [
    "model = LinearRegression() \n",
    "model.fit(X_train, y_train) # обучим \n",
    "predict = model.predict(X_test)  # проведем предсказания на тестовой выборке\n",
    "R2 = r2_score(y_test, predict)\n",
    "print(\"Метрика R2 для модели линейная регрессия\", R2)"
   ]
  },
  {
   "cell_type": "code",
   "execution_count": 32,
   "metadata": {},
   "outputs": [
    {
     "data": {
      "text/plain": [
       "(1250, 4)"
      ]
     },
     "execution_count": 32,
     "metadata": {},
     "output_type": "execute_result"
    }
   ],
   "source": [
    "X_test_Z = X_test.dot(Z)  # Домножим тестовую выборку на рандомную обратимую матрицу. \n",
    "X_test_Z.shape"
   ]
  },
  {
   "cell_type": "markdown",
   "metadata": {},
   "source": [
    "Получим предсказание и посчитаем метрику R2:"
   ]
  },
  {
   "cell_type": "code",
   "execution_count": 33,
   "metadata": {},
   "outputs": [
    {
     "name": "stdout",
     "output_type": "stream",
     "text": [
      "Метрика R2 для на модели линейная регрессия c преобразованиями 0.43522757127026546\n"
     ]
    }
   ],
   "source": [
    "predict_Z = model.predict(X_test_Z)  # проведем предсказания на тестовой выборке\n",
    "R2_Z = r2_score(y_test, predict_Z)\n",
    "print(\"Метрика R2 для на модели линейная регрессия c преобразованиями\", R2)"
   ]
  },
  {
   "cell_type": "markdown",
   "metadata": {},
   "source": [
    "## Вывод:"
   ]
  },
  {
   "cell_type": "markdown",
   "metadata": {},
   "source": [
    "Значения метрик R2 для моделей линейной регрессии для тестовой выборки и тестовой выборки, умноженной на обратимую матрицу, абсолютно совпали. Это говорит о том, что качество линейной регрессии не отличается от регрессии до преобразований. Что и требовалось доказать! "
   ]
  }
 ],
 "metadata": {
  "ExecuteTimeLog": [
   {
    "duration": 1811,
    "start_time": "2022-05-01T15:44:16.182Z"
   },
   {
    "duration": 33,
    "start_time": "2022-05-01T15:45:35.432Z"
   },
   {
    "duration": 19,
    "start_time": "2022-05-01T15:45:47.282Z"
   },
   {
    "duration": 39,
    "start_time": "2022-05-01T15:46:00.867Z"
   },
   {
    "duration": 34,
    "start_time": "2022-05-01T15:48:01.037Z"
   },
   {
    "duration": 30,
    "start_time": "2022-05-01T16:03:56.757Z"
   },
   {
    "duration": 15,
    "start_time": "2022-05-01T16:03:58.262Z"
   },
   {
    "duration": 31,
    "start_time": "2022-05-01T16:04:02.647Z"
   },
   {
    "duration": 176,
    "start_time": "2022-05-01T16:04:33.788Z"
   },
   {
    "duration": 179,
    "start_time": "2022-05-01T16:08:48.268Z"
   },
   {
    "duration": 164,
    "start_time": "2022-05-01T16:08:54.693Z"
   },
   {
    "duration": 168,
    "start_time": "2022-05-01T16:09:10.448Z"
   },
   {
    "duration": 152,
    "start_time": "2022-05-01T16:11:39.918Z"
   },
   {
    "duration": 11,
    "start_time": "2022-05-01T16:12:25.137Z"
   },
   {
    "duration": 164,
    "start_time": "2022-05-01T16:12:37.257Z"
   },
   {
    "duration": 692,
    "start_time": "2022-05-01T16:14:20.013Z"
   },
   {
    "duration": 701,
    "start_time": "2022-05-01T16:14:31.083Z"
   },
   {
    "duration": 4,
    "start_time": "2022-05-01T16:15:23.112Z"
   },
   {
    "duration": 30,
    "start_time": "2022-05-01T16:15:23.127Z"
   },
   {
    "duration": 16,
    "start_time": "2022-05-01T16:15:23.159Z"
   },
   {
    "duration": 32,
    "start_time": "2022-05-01T16:15:23.178Z"
   },
   {
    "duration": 681,
    "start_time": "2022-05-01T16:15:23.212Z"
   },
   {
    "duration": 718,
    "start_time": "2022-05-01T16:16:11.108Z"
   },
   {
    "duration": 13,
    "start_time": "2022-05-01T16:17:05.607Z"
   },
   {
    "duration": 13,
    "start_time": "2022-05-01T16:17:23.487Z"
   },
   {
    "duration": 169,
    "start_time": "2022-05-01T16:17:42.332Z"
   },
   {
    "duration": 168,
    "start_time": "2022-05-01T16:17:57.567Z"
   },
   {
    "duration": 18,
    "start_time": "2022-05-01T16:18:07.277Z"
   },
   {
    "duration": 13,
    "start_time": "2022-05-01T16:18:25.957Z"
   },
   {
    "duration": 15,
    "start_time": "2022-05-01T16:18:33.868Z"
   },
   {
    "duration": 3,
    "start_time": "2022-05-01T16:19:09.708Z"
   },
   {
    "duration": 13,
    "start_time": "2022-05-01T16:19:21.188Z"
   },
   {
    "duration": 5,
    "start_time": "2022-05-01T18:26:00.707Z"
   },
   {
    "duration": 11,
    "start_time": "2022-05-01T18:26:08.990Z"
   },
   {
    "duration": 15,
    "start_time": "2022-05-01T18:26:29.890Z"
   },
   {
    "duration": 1432,
    "start_time": "2022-05-01T18:26:41.747Z"
   },
   {
    "duration": 21,
    "start_time": "2022-05-01T18:26:43.182Z"
   },
   {
    "duration": 16,
    "start_time": "2022-05-01T18:26:43.205Z"
   },
   {
    "duration": 39,
    "start_time": "2022-05-01T18:26:43.223Z"
   },
   {
    "duration": 4,
    "start_time": "2022-05-01T18:26:43.264Z"
   },
   {
    "duration": 5,
    "start_time": "2022-05-01T18:26:43.293Z"
   },
   {
    "duration": 21,
    "start_time": "2022-05-01T18:26:43.300Z"
   },
   {
    "duration": 12,
    "start_time": "2022-05-01T18:27:06.527Z"
   },
   {
    "duration": 4,
    "start_time": "2022-05-01T18:27:24.598Z"
   },
   {
    "duration": 11,
    "start_time": "2022-05-01T18:27:26.898Z"
   },
   {
    "duration": 5,
    "start_time": "2022-05-01T18:28:59.887Z"
   },
   {
    "duration": 11,
    "start_time": "2022-05-01T18:29:01.707Z"
   },
   {
    "duration": 5,
    "start_time": "2022-05-01T18:33:16.754Z"
   },
   {
    "duration": 23,
    "start_time": "2022-05-01T18:33:16.761Z"
   },
   {
    "duration": 16,
    "start_time": "2022-05-01T18:33:16.786Z"
   },
   {
    "duration": 32,
    "start_time": "2022-05-01T18:33:16.804Z"
   },
   {
    "duration": 4,
    "start_time": "2022-05-01T18:33:16.839Z"
   },
   {
    "duration": 10,
    "start_time": "2022-05-01T18:33:16.845Z"
   },
   {
    "duration": 7,
    "start_time": "2022-05-01T18:33:16.857Z"
   },
   {
    "duration": 35,
    "start_time": "2022-05-01T18:33:16.866Z"
   },
   {
    "duration": 10,
    "start_time": "2022-05-01T18:49:42.916Z"
   },
   {
    "duration": 138,
    "start_time": "2022-05-01T18:50:12.908Z"
   },
   {
    "duration": 5,
    "start_time": "2022-05-01T18:50:19.469Z"
   },
   {
    "duration": 6,
    "start_time": "2022-05-01T18:54:05.601Z"
   },
   {
    "duration": 5,
    "start_time": "2022-05-01T18:54:35.992Z"
   },
   {
    "duration": 60,
    "start_time": "2022-05-01T18:54:41.442Z"
   },
   {
    "duration": 516,
    "start_time": "2022-05-01T18:54:59.020Z"
   },
   {
    "duration": 9,
    "start_time": "2022-05-01T18:55:03.128Z"
   },
   {
    "duration": 172,
    "start_time": "2022-05-01T19:00:21.386Z"
   },
   {
    "duration": 49,
    "start_time": "2022-05-01T19:00:29.956Z"
   },
   {
    "duration": 13,
    "start_time": "2022-05-01T19:01:02.806Z"
   },
   {
    "duration": 6,
    "start_time": "2022-05-01T19:01:22.616Z"
   },
   {
    "duration": 6,
    "start_time": "2022-05-01T19:01:25.647Z"
   },
   {
    "duration": 7,
    "start_time": "2022-05-01T19:01:59.647Z"
   },
   {
    "duration": 8,
    "start_time": "2022-05-01T19:02:07.746Z"
   },
   {
    "duration": 18,
    "start_time": "2022-05-01T19:03:39.612Z"
   },
   {
    "duration": 13,
    "start_time": "2022-05-01T19:03:51.052Z"
   },
   {
    "duration": 21,
    "start_time": "2022-05-01T19:04:07.172Z"
   },
   {
    "duration": 16,
    "start_time": "2022-05-01T19:10:12.146Z"
   },
   {
    "duration": 36,
    "start_time": "2022-05-01T19:10:52.652Z"
   },
   {
    "duration": 11,
    "start_time": "2022-05-01T19:10:59.487Z"
   },
   {
    "duration": 107,
    "start_time": "2022-05-01T19:14:59.687Z"
   },
   {
    "duration": 12,
    "start_time": "2022-05-01T19:15:06.597Z"
   },
   {
    "duration": 197,
    "start_time": "2022-05-01T19:18:03.266Z"
   },
   {
    "duration": 7,
    "start_time": "2022-05-01T19:19:44.926Z"
   },
   {
    "duration": 12,
    "start_time": "2022-05-01T19:19:51.277Z"
   },
   {
    "duration": 184,
    "start_time": "2022-05-01T19:20:52.267Z"
   },
   {
    "duration": 6,
    "start_time": "2022-05-01T19:22:45.857Z"
   },
   {
    "duration": 6,
    "start_time": "2022-05-01T19:22:50.247Z"
   },
   {
    "duration": 9,
    "start_time": "2022-05-01T19:23:06.922Z"
   },
   {
    "duration": 7,
    "start_time": "2022-05-01T19:25:30.462Z"
   },
   {
    "duration": 190,
    "start_time": "2022-05-01T19:25:46.237Z"
   },
   {
    "duration": 12,
    "start_time": "2022-05-01T19:26:04.147Z"
   },
   {
    "duration": 6,
    "start_time": "2022-05-01T19:26:05.772Z"
   },
   {
    "duration": 194,
    "start_time": "2022-05-01T19:26:08.207Z"
   },
   {
    "duration": 6,
    "start_time": "2022-05-01T19:27:02.487Z"
   },
   {
    "duration": 194,
    "start_time": "2022-05-01T19:27:04.237Z"
   },
   {
    "duration": 6,
    "start_time": "2022-05-01T19:28:36.053Z"
   },
   {
    "duration": 186,
    "start_time": "2022-05-01T19:28:39.087Z"
   },
   {
    "duration": 4,
    "start_time": "2022-05-01T19:34:17.867Z"
   },
   {
    "duration": 6,
    "start_time": "2022-05-01T19:34:32.927Z"
   },
   {
    "duration": 17,
    "start_time": "2022-05-01T19:34:35.497Z"
   },
   {
    "duration": 6,
    "start_time": "2022-05-01T19:34:49.147Z"
   },
   {
    "duration": 6,
    "start_time": "2022-05-01T19:34:52.192Z"
   },
   {
    "duration": 16,
    "start_time": "2022-05-01T19:34:54.327Z"
   },
   {
    "duration": 3,
    "start_time": "2022-05-01T19:34:56.343Z"
   },
   {
    "duration": 6,
    "start_time": "2022-05-01T19:34:57.732Z"
   },
   {
    "duration": 17,
    "start_time": "2022-05-01T19:34:59.633Z"
   },
   {
    "duration": 14,
    "start_time": "2022-05-01T19:35:25.393Z"
   },
   {
    "duration": 4,
    "start_time": "2022-05-01T19:35:50.048Z"
   },
   {
    "duration": 5,
    "start_time": "2022-05-01T19:35:53.603Z"
   },
   {
    "duration": 17,
    "start_time": "2022-05-01T19:35:55.397Z"
   },
   {
    "duration": 5,
    "start_time": "2022-05-01T19:37:56.947Z"
   },
   {
    "duration": 7,
    "start_time": "2022-05-01T19:37:58.328Z"
   },
   {
    "duration": 19,
    "start_time": "2022-05-01T19:38:00.047Z"
   },
   {
    "duration": 4,
    "start_time": "2022-05-01T19:38:10.942Z"
   },
   {
    "duration": 6,
    "start_time": "2022-05-01T19:38:12.343Z"
   },
   {
    "duration": 18,
    "start_time": "2022-05-01T19:38:14.422Z"
   },
   {
    "duration": 6,
    "start_time": "2022-05-01T19:43:39.548Z"
   },
   {
    "duration": 1963,
    "start_time": "2022-05-01T19:43:50.608Z"
   },
   {
    "duration": 23,
    "start_time": "2022-05-01T19:43:52.574Z"
   },
   {
    "duration": 22,
    "start_time": "2022-05-01T19:43:52.601Z"
   },
   {
    "duration": 66,
    "start_time": "2022-05-01T19:43:52.627Z"
   },
   {
    "duration": 7,
    "start_time": "2022-05-01T19:43:52.695Z"
   },
   {
    "duration": 8,
    "start_time": "2022-05-01T19:43:52.705Z"
   },
   {
    "duration": 7,
    "start_time": "2022-05-01T19:43:52.716Z"
   },
   {
    "duration": 16,
    "start_time": "2022-05-01T19:43:52.726Z"
   },
   {
    "duration": 7,
    "start_time": "2022-05-01T19:43:52.745Z"
   },
   {
    "duration": 7,
    "start_time": "2022-05-01T19:43:52.792Z"
   },
   {
    "duration": 342,
    "start_time": "2022-05-01T19:43:52.801Z"
   },
   {
    "duration": 0,
    "start_time": "2022-05-01T19:43:53.145Z"
   },
   {
    "duration": 0,
    "start_time": "2022-05-01T19:43:53.146Z"
   },
   {
    "duration": 0,
    "start_time": "2022-05-01T19:43:53.148Z"
   },
   {
    "duration": 4,
    "start_time": "2022-05-01T19:44:20.849Z"
   },
   {
    "duration": 22,
    "start_time": "2022-05-01T19:44:26.628Z"
   },
   {
    "duration": 4,
    "start_time": "2022-05-01T19:44:29.218Z"
   },
   {
    "duration": 9,
    "start_time": "2022-05-01T19:44:30.768Z"
   },
   {
    "duration": 18,
    "start_time": "2022-05-01T19:44:32.928Z"
   },
   {
    "duration": 46,
    "start_time": "2022-05-02T08:00:00.448Z"
   },
   {
    "duration": 1621,
    "start_time": "2022-05-02T08:00:05.516Z"
   },
   {
    "duration": 14,
    "start_time": "2022-05-02T08:00:07.139Z"
   },
   {
    "duration": 12,
    "start_time": "2022-05-02T08:00:07.155Z"
   },
   {
    "duration": 33,
    "start_time": "2022-05-02T08:00:07.168Z"
   },
   {
    "duration": 4,
    "start_time": "2022-05-02T08:00:07.206Z"
   },
   {
    "duration": 7,
    "start_time": "2022-05-02T08:00:07.212Z"
   },
   {
    "duration": 5,
    "start_time": "2022-05-02T08:00:07.220Z"
   },
   {
    "duration": 9,
    "start_time": "2022-05-02T08:00:07.226Z"
   },
   {
    "duration": 6,
    "start_time": "2022-05-02T08:00:07.236Z"
   },
   {
    "duration": 5,
    "start_time": "2022-05-02T08:00:07.244Z"
   },
   {
    "duration": 5,
    "start_time": "2022-05-02T08:00:07.250Z"
   },
   {
    "duration": 57,
    "start_time": "2022-05-02T08:00:07.256Z"
   },
   {
    "duration": 93,
    "start_time": "2022-05-02T08:00:07.316Z"
   },
   {
    "duration": 7,
    "start_time": "2022-05-02T08:00:07.413Z"
   },
   {
    "duration": 159,
    "start_time": "2022-05-02T08:00:07.422Z"
   },
   {
    "duration": 3,
    "start_time": "2022-05-02T08:36:20.315Z"
   },
   {
    "duration": 18,
    "start_time": "2022-05-02T08:36:20.334Z"
   },
   {
    "duration": 11,
    "start_time": "2022-05-02T08:36:20.354Z"
   },
   {
    "duration": 30,
    "start_time": "2022-05-02T08:36:20.367Z"
   },
   {
    "duration": 3,
    "start_time": "2022-05-02T08:36:20.399Z"
   },
   {
    "duration": 10,
    "start_time": "2022-05-02T08:36:20.403Z"
   },
   {
    "duration": 9,
    "start_time": "2022-05-02T08:36:20.415Z"
   },
   {
    "duration": 10,
    "start_time": "2022-05-02T08:36:20.425Z"
   },
   {
    "duration": 5,
    "start_time": "2022-05-02T08:36:20.437Z"
   },
   {
    "duration": 4,
    "start_time": "2022-05-02T08:36:20.444Z"
   },
   {
    "duration": 4,
    "start_time": "2022-05-02T08:36:20.450Z"
   },
   {
    "duration": 59,
    "start_time": "2022-05-02T08:36:20.456Z"
   },
   {
    "duration": 91,
    "start_time": "2022-05-02T08:36:20.518Z"
   },
   {
    "duration": 5,
    "start_time": "2022-05-02T08:36:20.611Z"
   },
   {
    "duration": 14,
    "start_time": "2022-05-02T08:36:20.618Z"
   },
   {
    "duration": 4,
    "start_time": "2022-05-02T11:42:23.094Z"
   },
   {
    "duration": 4,
    "start_time": "2022-05-02T11:42:24.679Z"
   },
   {
    "duration": 4,
    "start_time": "2022-05-02T11:43:07.254Z"
   },
   {
    "duration": 103,
    "start_time": "2022-05-02T11:43:20.239Z"
   },
   {
    "duration": 3,
    "start_time": "2022-05-02T11:44:24.794Z"
   },
   {
    "duration": 142,
    "start_time": "2022-05-02T11:45:07.299Z"
   },
   {
    "duration": 227,
    "start_time": "2022-05-02T11:46:06.074Z"
   },
   {
    "duration": 3,
    "start_time": "2022-05-02T11:46:44.454Z"
   },
   {
    "duration": 1506,
    "start_time": "2022-05-02T11:46:59.880Z"
   },
   {
    "duration": 13,
    "start_time": "2022-05-02T11:47:01.388Z"
   },
   {
    "duration": 12,
    "start_time": "2022-05-02T11:47:01.403Z"
   },
   {
    "duration": 27,
    "start_time": "2022-05-02T11:47:01.417Z"
   },
   {
    "duration": 4,
    "start_time": "2022-05-02T11:47:01.446Z"
   },
   {
    "duration": 8,
    "start_time": "2022-05-02T11:47:01.451Z"
   },
   {
    "duration": 6,
    "start_time": "2022-05-02T11:47:01.461Z"
   },
   {
    "duration": 8,
    "start_time": "2022-05-02T11:47:01.469Z"
   },
   {
    "duration": 4,
    "start_time": "2022-05-02T11:47:01.508Z"
   },
   {
    "duration": 9,
    "start_time": "2022-05-02T11:47:01.514Z"
   },
   {
    "duration": 12,
    "start_time": "2022-05-02T11:47:01.524Z"
   },
   {
    "duration": 8,
    "start_time": "2022-05-02T11:47:01.538Z"
   },
   {
    "duration": 13,
    "start_time": "2022-05-02T11:47:01.548Z"
   },
   {
    "duration": 225,
    "start_time": "2022-05-02T11:47:01.562Z"
   },
   {
    "duration": 0,
    "start_time": "2022-05-02T11:47:01.789Z"
   },
   {
    "duration": 0,
    "start_time": "2022-05-02T11:47:01.790Z"
   },
   {
    "duration": 0,
    "start_time": "2022-05-02T11:47:01.792Z"
   },
   {
    "duration": 3,
    "start_time": "2022-05-02T11:47:45.620Z"
   },
   {
    "duration": 115,
    "start_time": "2022-05-02T11:47:52.615Z"
   },
   {
    "duration": 1425,
    "start_time": "2022-05-02T11:48:03.564Z"
   },
   {
    "duration": 14,
    "start_time": "2022-05-02T11:48:04.991Z"
   },
   {
    "duration": 13,
    "start_time": "2022-05-02T11:48:05.007Z"
   },
   {
    "duration": 30,
    "start_time": "2022-05-02T11:48:05.023Z"
   },
   {
    "duration": 5,
    "start_time": "2022-05-02T11:48:05.055Z"
   },
   {
    "duration": 14,
    "start_time": "2022-05-02T11:48:05.062Z"
   },
   {
    "duration": 9,
    "start_time": "2022-05-02T11:48:05.077Z"
   },
   {
    "duration": 9,
    "start_time": "2022-05-02T11:48:05.107Z"
   },
   {
    "duration": 11,
    "start_time": "2022-05-02T11:48:05.118Z"
   },
   {
    "duration": 20,
    "start_time": "2022-05-02T11:48:05.132Z"
   },
   {
    "duration": 4,
    "start_time": "2022-05-02T11:48:05.155Z"
   },
   {
    "duration": 302,
    "start_time": "2022-05-02T11:48:08.384Z"
   },
   {
    "duration": 45,
    "start_time": "2022-05-02T11:49:00.764Z"
   },
   {
    "duration": 4,
    "start_time": "2022-05-02T11:49:03.834Z"
   },
   {
    "duration": 12,
    "start_time": "2022-05-02T11:49:05.549Z"
   },
   {
    "duration": 1434,
    "start_time": "2022-05-02T11:49:54.354Z"
   },
   {
    "duration": 13,
    "start_time": "2022-05-02T11:49:55.790Z"
   },
   {
    "duration": 13,
    "start_time": "2022-05-02T11:49:55.804Z"
   },
   {
    "duration": 28,
    "start_time": "2022-05-02T11:49:55.819Z"
   },
   {
    "duration": 3,
    "start_time": "2022-05-02T11:49:55.848Z"
   },
   {
    "duration": 11,
    "start_time": "2022-05-02T11:49:55.852Z"
   },
   {
    "duration": 4,
    "start_time": "2022-05-02T11:49:55.865Z"
   },
   {
    "duration": 42,
    "start_time": "2022-05-02T11:49:55.870Z"
   },
   {
    "duration": 5,
    "start_time": "2022-05-02T11:49:55.914Z"
   },
   {
    "duration": 3,
    "start_time": "2022-05-02T11:49:55.922Z"
   },
   {
    "duration": 4,
    "start_time": "2022-05-02T11:50:02.993Z"
   },
   {
    "duration": 3,
    "start_time": "2022-05-02T11:50:05.488Z"
   },
   {
    "duration": 217,
    "start_time": "2022-05-02T11:50:07.864Z"
   },
   {
    "duration": 5,
    "start_time": "2022-05-02T11:51:35.263Z"
   },
   {
    "duration": 4,
    "start_time": "2022-05-02T11:51:36.834Z"
   },
   {
    "duration": 126,
    "start_time": "2022-05-02T11:51:38.704Z"
   },
   {
    "duration": 1523,
    "start_time": "2022-05-02T11:55:11.393Z"
   },
   {
    "duration": 14,
    "start_time": "2022-05-02T11:55:12.918Z"
   },
   {
    "duration": 13,
    "start_time": "2022-05-02T11:55:12.934Z"
   },
   {
    "duration": 30,
    "start_time": "2022-05-02T11:55:12.949Z"
   },
   {
    "duration": 3,
    "start_time": "2022-05-02T11:55:12.981Z"
   },
   {
    "duration": 30,
    "start_time": "2022-05-02T11:55:12.985Z"
   },
   {
    "duration": 6,
    "start_time": "2022-05-02T11:55:13.016Z"
   },
   {
    "duration": 10,
    "start_time": "2022-05-02T11:55:13.024Z"
   },
   {
    "duration": 5,
    "start_time": "2022-05-02T11:55:13.036Z"
   },
   {
    "duration": 3,
    "start_time": "2022-05-02T11:55:13.043Z"
   },
   {
    "duration": 6,
    "start_time": "2022-05-02T11:55:13.048Z"
   },
   {
    "duration": 4,
    "start_time": "2022-05-02T11:55:17.432Z"
   },
   {
    "duration": 39,
    "start_time": "2022-05-02T11:55:19.073Z"
   },
   {
    "duration": 5,
    "start_time": "2022-05-02T11:59:00.862Z"
   },
   {
    "duration": 144,
    "start_time": "2022-05-02T12:00:41.626Z"
   },
   {
    "duration": 4,
    "start_time": "2022-05-02T12:00:47.758Z"
   },
   {
    "duration": 13,
    "start_time": "2022-05-02T12:00:49.677Z"
   },
   {
    "duration": 10,
    "start_time": "2022-05-02T12:01:04.777Z"
   },
   {
    "duration": 5,
    "start_time": "2022-05-02T12:01:26.298Z"
   },
   {
    "duration": 3,
    "start_time": "2022-05-02T12:02:08.792Z"
   },
   {
    "duration": 5,
    "start_time": "2022-05-02T12:02:19.273Z"
   },
   {
    "duration": 12,
    "start_time": "2022-05-02T12:04:07.062Z"
   },
   {
    "duration": 9,
    "start_time": "2022-05-02T12:04:14.962Z"
   },
   {
    "duration": 5,
    "start_time": "2022-05-02T12:04:19.862Z"
   },
   {
    "duration": 9,
    "start_time": "2022-05-02T12:06:07.257Z"
   },
   {
    "duration": 10,
    "start_time": "2022-05-02T12:06:43.417Z"
   },
   {
    "duration": 104,
    "start_time": "2022-05-02T12:07:07.602Z"
   },
   {
    "duration": 3,
    "start_time": "2022-05-02T12:08:02.262Z"
   },
   {
    "duration": 12,
    "start_time": "2022-05-02T12:08:14.156Z"
   },
   {
    "duration": 11,
    "start_time": "2022-05-02T12:08:15.671Z"
   },
   {
    "duration": 12,
    "start_time": "2022-05-02T12:08:17.487Z"
   },
   {
    "duration": 3,
    "start_time": "2022-05-02T12:09:25.092Z"
   },
   {
    "duration": 3,
    "start_time": "2022-05-02T12:09:27.797Z"
   },
   {
    "duration": 91,
    "start_time": "2022-05-02T12:09:49.021Z"
   },
   {
    "duration": 4,
    "start_time": "2022-05-02T12:10:39.901Z"
   },
   {
    "duration": 3,
    "start_time": "2022-05-02T12:10:51.372Z"
   },
   {
    "duration": 9,
    "start_time": "2022-05-02T12:10:57.149Z"
   },
   {
    "duration": 92,
    "start_time": "2022-05-02T12:21:15.416Z"
   },
   {
    "duration": 101,
    "start_time": "2022-05-02T12:21:15.511Z"
   },
   {
    "duration": 13,
    "start_time": "2022-05-02T12:21:15.613Z"
   },
   {
    "duration": 25,
    "start_time": "2022-05-02T12:21:15.629Z"
   },
   {
    "duration": 4,
    "start_time": "2022-05-02T12:21:15.656Z"
   },
   {
    "duration": 5,
    "start_time": "2022-05-02T12:21:15.662Z"
   },
   {
    "duration": 42,
    "start_time": "2022-05-02T12:21:15.669Z"
   },
   {
    "duration": 11,
    "start_time": "2022-05-02T12:21:15.713Z"
   },
   {
    "duration": 5,
    "start_time": "2022-05-02T12:21:15.726Z"
   },
   {
    "duration": 9,
    "start_time": "2022-05-02T12:21:15.733Z"
   },
   {
    "duration": 6,
    "start_time": "2022-05-02T12:21:15.744Z"
   },
   {
    "duration": 8,
    "start_time": "2022-05-02T12:21:15.752Z"
   },
   {
    "duration": 4,
    "start_time": "2022-05-02T12:21:15.762Z"
   },
   {
    "duration": 5,
    "start_time": "2022-05-02T12:21:15.767Z"
   },
   {
    "duration": 6,
    "start_time": "2022-05-02T12:21:15.807Z"
   },
   {
    "duration": 4,
    "start_time": "2022-05-02T12:21:15.814Z"
   },
   {
    "duration": 88,
    "start_time": "2022-05-02T12:21:15.820Z"
   },
   {
    "duration": 105,
    "start_time": "2022-05-02T12:21:15.910Z"
   },
   {
    "duration": 96,
    "start_time": "2022-05-02T12:21:16.018Z"
   },
   {
    "duration": 90,
    "start_time": "2022-05-02T12:21:16.117Z"
   },
   {
    "duration": 98,
    "start_time": "2022-05-02T12:21:16.210Z"
   },
   {
    "duration": 100,
    "start_time": "2022-05-02T12:21:16.311Z"
   },
   {
    "duration": 1436,
    "start_time": "2022-05-02T12:21:21.954Z"
   },
   {
    "duration": 13,
    "start_time": "2022-05-02T12:21:23.392Z"
   },
   {
    "duration": 12,
    "start_time": "2022-05-02T12:21:23.407Z"
   },
   {
    "duration": 27,
    "start_time": "2022-05-02T12:21:23.421Z"
   },
   {
    "duration": 2,
    "start_time": "2022-05-02T12:21:23.450Z"
   },
   {
    "duration": 7,
    "start_time": "2022-05-02T12:21:23.454Z"
   },
   {
    "duration": 4,
    "start_time": "2022-05-02T12:21:23.462Z"
   },
   {
    "duration": 44,
    "start_time": "2022-05-02T12:21:23.467Z"
   },
   {
    "duration": 9,
    "start_time": "2022-05-02T12:21:23.513Z"
   },
   {
    "duration": 6,
    "start_time": "2022-05-02T12:21:23.524Z"
   },
   {
    "duration": 8,
    "start_time": "2022-05-02T12:21:23.532Z"
   },
   {
    "duration": 7,
    "start_time": "2022-05-02T12:21:23.541Z"
   },
   {
    "duration": 3,
    "start_time": "2022-05-02T12:21:23.550Z"
   },
   {
    "duration": 6,
    "start_time": "2022-05-02T12:21:23.555Z"
   },
   {
    "duration": 6,
    "start_time": "2022-05-02T12:21:23.562Z"
   },
   {
    "duration": 3,
    "start_time": "2022-05-02T12:21:23.608Z"
   },
   {
    "duration": 93,
    "start_time": "2022-05-02T12:21:23.613Z"
   },
   {
    "duration": 106,
    "start_time": "2022-05-02T12:21:23.709Z"
   },
   {
    "duration": 96,
    "start_time": "2022-05-02T12:21:23.817Z"
   },
   {
    "duration": 91,
    "start_time": "2022-05-02T12:21:23.917Z"
   },
   {
    "duration": 106,
    "start_time": "2022-05-02T12:21:24.011Z"
   },
   {
    "duration": 88,
    "start_time": "2022-05-02T12:21:24.123Z"
   },
   {
    "duration": 14,
    "start_time": "2022-05-02T12:21:38.032Z"
   },
   {
    "duration": 11,
    "start_time": "2022-05-02T12:21:39.648Z"
   },
   {
    "duration": 10,
    "start_time": "2022-05-02T12:21:42.222Z"
   },
   {
    "duration": 9,
    "start_time": "2022-05-02T12:22:04.273Z"
   },
   {
    "duration": 11,
    "start_time": "2022-05-02T12:39:17.598Z"
   },
   {
    "duration": 115,
    "start_time": "2022-05-02T12:49:49.752Z"
   },
   {
    "duration": 3,
    "start_time": "2022-05-02T12:50:16.677Z"
   },
   {
    "duration": 5,
    "start_time": "2022-05-02T12:50:22.209Z"
   },
   {
    "duration": 3,
    "start_time": "2022-05-02T12:50:31.877Z"
   },
   {
    "duration": 4,
    "start_time": "2022-05-02T12:50:52.679Z"
   },
   {
    "duration": 5,
    "start_time": "2022-05-02T12:50:54.911Z"
   },
   {
    "duration": 4,
    "start_time": "2022-05-02T12:51:03.118Z"
   },
   {
    "duration": 9,
    "start_time": "2022-05-02T12:51:39.060Z"
   },
   {
    "duration": 3,
    "start_time": "2022-05-02T12:51:58.139Z"
   },
   {
    "duration": 9,
    "start_time": "2022-05-02T12:54:08.240Z"
   },
   {
    "duration": 8,
    "start_time": "2022-05-02T12:54:56.322Z"
   },
   {
    "duration": 9,
    "start_time": "2022-05-02T12:57:20.330Z"
   },
   {
    "duration": 6,
    "start_time": "2022-05-02T12:58:00.879Z"
   },
   {
    "duration": 4,
    "start_time": "2022-05-02T12:58:17.221Z"
   },
   {
    "duration": 10,
    "start_time": "2022-05-02T12:58:36.801Z"
   },
   {
    "duration": 5,
    "start_time": "2022-05-02T12:59:59.393Z"
   },
   {
    "duration": 4,
    "start_time": "2022-05-02T13:00:45.191Z"
   },
   {
    "duration": 5,
    "start_time": "2022-05-02T13:01:40.599Z"
   },
   {
    "duration": 6,
    "start_time": "2022-05-02T13:02:04.671Z"
   },
   {
    "duration": 10,
    "start_time": "2022-05-02T13:02:35.511Z"
   },
   {
    "duration": 6,
    "start_time": "2022-05-02T13:02:43.217Z"
   },
   {
    "duration": 7,
    "start_time": "2022-05-02T13:03:06.352Z"
   },
   {
    "duration": 1501,
    "start_time": "2022-05-02T13:05:15.419Z"
   },
   {
    "duration": 13,
    "start_time": "2022-05-02T13:05:16.923Z"
   },
   {
    "duration": 12,
    "start_time": "2022-05-02T13:05:16.938Z"
   },
   {
    "duration": 28,
    "start_time": "2022-05-02T13:05:16.952Z"
   },
   {
    "duration": 5,
    "start_time": "2022-05-02T13:05:16.982Z"
   },
   {
    "duration": 25,
    "start_time": "2022-05-02T13:05:16.989Z"
   },
   {
    "duration": 5,
    "start_time": "2022-05-02T13:05:17.017Z"
   },
   {
    "duration": 9,
    "start_time": "2022-05-02T13:05:17.024Z"
   },
   {
    "duration": 5,
    "start_time": "2022-05-02T13:05:17.035Z"
   },
   {
    "duration": 6,
    "start_time": "2022-05-02T13:05:17.042Z"
   },
   {
    "duration": 5,
    "start_time": "2022-05-02T13:05:17.049Z"
   },
   {
    "duration": 5,
    "start_time": "2022-05-02T13:05:17.056Z"
   },
   {
    "duration": 4,
    "start_time": "2022-05-02T13:05:17.063Z"
   },
   {
    "duration": 4,
    "start_time": "2022-05-02T13:05:17.070Z"
   },
   {
    "duration": 14,
    "start_time": "2022-05-02T13:05:17.108Z"
   },
   {
    "duration": 4,
    "start_time": "2022-05-02T13:05:17.124Z"
   },
   {
    "duration": 77,
    "start_time": "2022-05-02T13:05:17.130Z"
   },
   {
    "duration": 114,
    "start_time": "2022-05-02T13:05:17.209Z"
   },
   {
    "duration": 102,
    "start_time": "2022-05-02T13:05:17.325Z"
   },
   {
    "duration": 88,
    "start_time": "2022-05-02T13:05:17.433Z"
   },
   {
    "duration": 94,
    "start_time": "2022-05-02T13:05:17.524Z"
   },
   {
    "duration": 87,
    "start_time": "2022-05-02T13:05:17.622Z"
   },
   {
    "duration": 102,
    "start_time": "2022-05-02T13:05:17.722Z"
   },
   {
    "duration": 193,
    "start_time": "2022-05-02T13:05:17.827Z"
   },
   {
    "duration": 6,
    "start_time": "2022-05-02T13:05:18.022Z"
   },
   {
    "duration": 5,
    "start_time": "2022-05-02T13:05:18.029Z"
   },
   {
    "duration": 9,
    "start_time": "2022-05-02T13:05:18.035Z"
   },
   {
    "duration": 6,
    "start_time": "2022-05-02T13:05:18.046Z"
   },
   {
    "duration": 7,
    "start_time": "2022-05-02T13:05:18.053Z"
   },
   {
    "duration": 66,
    "start_time": "2022-05-03T11:39:49.570Z"
   },
   {
    "duration": 1806,
    "start_time": "2022-05-03T11:40:00.719Z"
   },
   {
    "duration": 19,
    "start_time": "2022-05-03T11:40:02.527Z"
   },
   {
    "duration": 14,
    "start_time": "2022-05-03T11:40:02.547Z"
   },
   {
    "duration": 52,
    "start_time": "2022-05-03T11:40:02.563Z"
   },
   {
    "duration": 6,
    "start_time": "2022-05-03T11:40:02.617Z"
   },
   {
    "duration": 18,
    "start_time": "2022-05-03T11:40:02.625Z"
   },
   {
    "duration": 18,
    "start_time": "2022-05-03T11:40:02.644Z"
   },
   {
    "duration": 41,
    "start_time": "2022-05-03T11:40:02.664Z"
   },
   {
    "duration": 8,
    "start_time": "2022-05-03T11:40:02.707Z"
   },
   {
    "duration": 19,
    "start_time": "2022-05-03T11:40:02.718Z"
   },
   {
    "duration": 29,
    "start_time": "2022-05-03T11:40:02.739Z"
   },
   {
    "duration": 37,
    "start_time": "2022-05-03T11:40:02.770Z"
   },
   {
    "duration": 13,
    "start_time": "2022-05-03T11:40:02.809Z"
   },
   {
    "duration": 14,
    "start_time": "2022-05-03T11:40:02.824Z"
   },
   {
    "duration": 151,
    "start_time": "2022-05-03T11:40:02.841Z"
   },
   {
    "duration": 14,
    "start_time": "2022-05-03T11:40:02.994Z"
   },
   {
    "duration": 12,
    "start_time": "2022-05-03T11:40:03.010Z"
   },
   {
    "duration": 14,
    "start_time": "2022-05-03T11:40:03.024Z"
   },
   {
    "duration": 100,
    "start_time": "2022-05-03T11:40:03.092Z"
   },
   {
    "duration": 184,
    "start_time": "2022-05-03T11:40:03.198Z"
   },
   {
    "duration": 103,
    "start_time": "2022-05-03T11:40:03.384Z"
   },
   {
    "duration": 15,
    "start_time": "2022-05-03T11:40:03.489Z"
   },
   {
    "duration": 184,
    "start_time": "2022-05-03T11:40:03.506Z"
   },
   {
    "duration": 92,
    "start_time": "2022-05-03T11:40:03.692Z"
   },
   {
    "duration": 201,
    "start_time": "2022-05-03T11:40:03.787Z"
   },
   {
    "duration": 12,
    "start_time": "2022-05-03T11:40:03.990Z"
   },
   {
    "duration": 9,
    "start_time": "2022-05-03T11:40:04.004Z"
   },
   {
    "duration": 13,
    "start_time": "2022-05-03T11:40:04.016Z"
   },
   {
    "duration": 5,
    "start_time": "2022-05-03T11:40:04.031Z"
   },
   {
    "duration": 8,
    "start_time": "2022-05-03T11:40:04.038Z"
   },
   {
    "duration": 6,
    "start_time": "2022-05-03T11:40:19.271Z"
   },
   {
    "duration": 5,
    "start_time": "2022-05-03T11:48:03.689Z"
   },
   {
    "duration": 184,
    "start_time": "2022-05-03T11:49:06.639Z"
   },
   {
    "duration": 1474,
    "start_time": "2022-05-03T12:04:00.348Z"
   },
   {
    "duration": 14,
    "start_time": "2022-05-03T12:04:01.825Z"
   },
   {
    "duration": 13,
    "start_time": "2022-05-03T12:04:01.841Z"
   },
   {
    "duration": 41,
    "start_time": "2022-05-03T12:04:01.856Z"
   },
   {
    "duration": 4,
    "start_time": "2022-05-03T12:04:01.898Z"
   },
   {
    "duration": 10,
    "start_time": "2022-05-03T12:04:01.903Z"
   },
   {
    "duration": 17,
    "start_time": "2022-05-03T12:04:01.915Z"
   },
   {
    "duration": 16,
    "start_time": "2022-05-03T12:04:01.934Z"
   },
   {
    "duration": 10,
    "start_time": "2022-05-03T12:04:01.952Z"
   },
   {
    "duration": 5,
    "start_time": "2022-05-03T12:04:01.976Z"
   },
   {
    "duration": 14,
    "start_time": "2022-05-03T12:04:01.983Z"
   },
   {
    "duration": 192,
    "start_time": "2022-05-03T12:04:01.999Z"
   },
   {
    "duration": 5,
    "start_time": "2022-05-03T12:04:02.193Z"
   },
   {
    "duration": 8,
    "start_time": "2022-05-03T12:04:02.200Z"
   },
   {
    "duration": 6,
    "start_time": "2022-05-03T12:04:02.209Z"
   },
   {
    "duration": 19,
    "start_time": "2022-05-03T12:04:02.216Z"
   },
   {
    "duration": 40,
    "start_time": "2022-05-03T12:04:02.238Z"
   },
   {
    "duration": 20,
    "start_time": "2022-05-03T12:04:02.280Z"
   },
   {
    "duration": 16,
    "start_time": "2022-05-03T12:04:02.374Z"
   },
   {
    "duration": 13,
    "start_time": "2022-05-03T12:04:02.392Z"
   },
   {
    "duration": 23,
    "start_time": "2022-05-03T12:04:02.406Z"
   },
   {
    "duration": 105,
    "start_time": "2022-05-03T12:04:02.490Z"
   },
   {
    "duration": 198,
    "start_time": "2022-05-03T12:04:02.597Z"
   },
   {
    "duration": 182,
    "start_time": "2022-05-03T12:04:02.798Z"
   },
   {
    "duration": 35,
    "start_time": "2022-05-03T12:04:02.982Z"
   },
   {
    "duration": 119,
    "start_time": "2022-05-03T12:04:03.076Z"
   },
   {
    "duration": 198,
    "start_time": "2022-05-03T12:04:03.198Z"
   },
   {
    "duration": 184,
    "start_time": "2022-05-03T12:04:03.401Z"
   },
   {
    "duration": 6,
    "start_time": "2022-05-03T12:04:03.587Z"
   },
   {
    "duration": 6,
    "start_time": "2022-05-03T12:04:03.595Z"
   },
   {
    "duration": 12,
    "start_time": "2022-05-03T12:04:03.603Z"
   },
   {
    "duration": 5,
    "start_time": "2022-05-03T12:04:03.617Z"
   },
   {
    "duration": 8,
    "start_time": "2022-05-03T12:04:03.623Z"
   }
  ],
  "kernelspec": {
   "display_name": "Python 3 (ipykernel)",
   "language": "python",
   "name": "python3"
  },
  "language_info": {
   "codemirror_mode": {
    "name": "ipython",
    "version": 3
   },
   "file_extension": ".py",
   "mimetype": "text/x-python",
   "name": "python",
   "nbconvert_exporter": "python",
   "pygments_lexer": "ipython3",
   "version": "3.10.0"
  },
  "toc": {
   "base_numbering": 1,
   "nav_menu": {},
   "number_sections": true,
   "sideBar": true,
   "skip_h1_title": true,
   "title_cell": "Содержание",
   "title_sidebar": "Contents",
   "toc_cell": true,
   "toc_position": {},
   "toc_section_display": true,
   "toc_window_display": true
  }
 },
 "nbformat": 4,
 "nbformat_minor": 4
}
