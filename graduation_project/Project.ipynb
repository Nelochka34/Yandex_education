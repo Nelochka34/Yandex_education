{
 "cells": [
  {
   "cell_type": "markdown",
   "id": "0d077a2e",
   "metadata": {},
   "source": [
    "# Проект \"Телеком \""
   ]
  },
  {
   "cell_type": "markdown",
   "id": "a970e8a4",
   "metadata": {},
   "source": [
    "##  Загрузка и исследование данных"
   ]
  },
  {
   "cell_type": "code",
   "execution_count": 1,
   "id": "5765c5a8",
   "metadata": {},
   "outputs": [],
   "source": [
    "import pandas as pd #импортируем библиотеки\n",
    "import numpy as np\n",
    "import matplotlib.pyplot as plt\n",
    "import seaborn as sns\n",
    "import datetime\n",
    "import time\n",
    "from sklearn.model_selection import train_test_split\n",
    "from sklearn.preprocessing import StandardScaler\n",
    "from sklearn.metrics import f1_score, recall_score, precision_score, confusion_matrix, accuracy_score, roc_auc_score, roc_curve\n",
    "from sklearn.model_selection import GridSearchCV\n",
    "from sklearn.utils import shuffle\n",
    "from sklearn.linear_model import LogisticRegression\n",
    "from sklearn.tree import DecisionTreeClassifier\n",
    "from sklearn.ensemble import RandomForestClassifier\n",
    "from catboost import CatBoostClassifier\n",
    "import lightgbm as ltb\n",
    "import lightgbm as LGBMClassifier"
   ]
  },
  {
   "cell_type": "code",
   "execution_count": 2,
   "id": "3d8c0097-7c1c-4f06-bc0c-24c8eff40773",
   "metadata": {},
   "outputs": [],
   "source": [
    "try: # загрузим данные\n",
    "    df_contract = pd.read_csv('/datasets/final_provider/contract.csv')\n",
    "    df_internet = pd.read_csv('/datasets/final_provider/internet.csv')\n",
    "    df_personal = pd.read_csv('/datasets/final_provider/personal.csv')\n",
    "    df_phone = pd.read_csv('/datasets/final_provider/phone.csv')\n",
    "except: \n",
    "    df_contract = pd.read_csv('contract.csv')\n",
    "    df_internet = pd.read_csv('internet.csv')\n",
    "    df_personal = pd.read_csv('personal.csv')\n",
    "    df_phone = pd.read_csv('phone.csv')"
   ]
  },
  {
   "cell_type": "code",
   "execution_count": 3,
   "id": "3ad45013-1c35-4b93-885c-e274209b0a31",
   "metadata": {},
   "outputs": [
    {
     "data": {
      "text/html": [
       "<div>\n",
       "<style scoped>\n",
       "    .dataframe tbody tr th:only-of-type {\n",
       "        vertical-align: middle;\n",
       "    }\n",
       "\n",
       "    .dataframe tbody tr th {\n",
       "        vertical-align: top;\n",
       "    }\n",
       "\n",
       "    .dataframe thead th {\n",
       "        text-align: right;\n",
       "    }\n",
       "</style>\n",
       "<table border=\"1\" class=\"dataframe\">\n",
       "  <thead>\n",
       "    <tr style=\"text-align: right;\">\n",
       "      <th></th>\n",
       "      <th>customerID</th>\n",
       "      <th>BeginDate</th>\n",
       "      <th>EndDate</th>\n",
       "      <th>Type</th>\n",
       "      <th>PaperlessBilling</th>\n",
       "      <th>PaymentMethod</th>\n",
       "      <th>MonthlyCharges</th>\n",
       "      <th>TotalCharges</th>\n",
       "    </tr>\n",
       "  </thead>\n",
       "  <tbody>\n",
       "    <tr>\n",
       "      <th>0</th>\n",
       "      <td>7590-VHVEG</td>\n",
       "      <td>2020-01-01</td>\n",
       "      <td>No</td>\n",
       "      <td>Month-to-month</td>\n",
       "      <td>Yes</td>\n",
       "      <td>Electronic check</td>\n",
       "      <td>29.85</td>\n",
       "      <td>29.85</td>\n",
       "    </tr>\n",
       "    <tr>\n",
       "      <th>1</th>\n",
       "      <td>5575-GNVDE</td>\n",
       "      <td>2017-04-01</td>\n",
       "      <td>No</td>\n",
       "      <td>One year</td>\n",
       "      <td>No</td>\n",
       "      <td>Mailed check</td>\n",
       "      <td>56.95</td>\n",
       "      <td>1889.5</td>\n",
       "    </tr>\n",
       "    <tr>\n",
       "      <th>2</th>\n",
       "      <td>3668-QPYBK</td>\n",
       "      <td>2019-10-01</td>\n",
       "      <td>2019-12-01 00:00:00</td>\n",
       "      <td>Month-to-month</td>\n",
       "      <td>Yes</td>\n",
       "      <td>Mailed check</td>\n",
       "      <td>53.85</td>\n",
       "      <td>108.15</td>\n",
       "    </tr>\n",
       "    <tr>\n",
       "      <th>3</th>\n",
       "      <td>7795-CFOCW</td>\n",
       "      <td>2016-05-01</td>\n",
       "      <td>No</td>\n",
       "      <td>One year</td>\n",
       "      <td>No</td>\n",
       "      <td>Bank transfer (automatic)</td>\n",
       "      <td>42.30</td>\n",
       "      <td>1840.75</td>\n",
       "    </tr>\n",
       "    <tr>\n",
       "      <th>4</th>\n",
       "      <td>9237-HQITU</td>\n",
       "      <td>2019-09-01</td>\n",
       "      <td>2019-11-01 00:00:00</td>\n",
       "      <td>Month-to-month</td>\n",
       "      <td>Yes</td>\n",
       "      <td>Electronic check</td>\n",
       "      <td>70.70</td>\n",
       "      <td>151.65</td>\n",
       "    </tr>\n",
       "  </tbody>\n",
       "</table>\n",
       "</div>"
      ],
      "text/plain": [
       "   customerID   BeginDate              EndDate            Type  \\\n",
       "0  7590-VHVEG  2020-01-01                   No  Month-to-month   \n",
       "1  5575-GNVDE  2017-04-01                   No        One year   \n",
       "2  3668-QPYBK  2019-10-01  2019-12-01 00:00:00  Month-to-month   \n",
       "3  7795-CFOCW  2016-05-01                   No        One year   \n",
       "4  9237-HQITU  2019-09-01  2019-11-01 00:00:00  Month-to-month   \n",
       "\n",
       "  PaperlessBilling              PaymentMethod  MonthlyCharges TotalCharges  \n",
       "0              Yes           Electronic check           29.85        29.85  \n",
       "1               No               Mailed check           56.95       1889.5  \n",
       "2              Yes               Mailed check           53.85       108.15  \n",
       "3               No  Bank transfer (automatic)           42.30      1840.75  \n",
       "4              Yes           Electronic check           70.70       151.65  "
      ]
     },
     "execution_count": 3,
     "metadata": {},
     "output_type": "execute_result"
    }
   ],
   "source": [
    "df_contract.head() # датасет \"информация о договоре\""
   ]
  },
  {
   "cell_type": "code",
   "execution_count": 4,
   "id": "466ac47b-2ba8-427b-8230-39d10e4d8e86",
   "metadata": {},
   "outputs": [
    {
     "name": "stdout",
     "output_type": "stream",
     "text": [
      "<class 'pandas.core.frame.DataFrame'>\n",
      "RangeIndex: 7043 entries, 0 to 7042\n",
      "Data columns (total 8 columns):\n",
      " #   Column            Non-Null Count  Dtype  \n",
      "---  ------            --------------  -----  \n",
      " 0   customerID        7043 non-null   object \n",
      " 1   BeginDate         7043 non-null   object \n",
      " 2   EndDate           7043 non-null   object \n",
      " 3   Type              7043 non-null   object \n",
      " 4   PaperlessBilling  7043 non-null   object \n",
      " 5   PaymentMethod     7043 non-null   object \n",
      " 6   MonthlyCharges    7043 non-null   float64\n",
      " 7   TotalCharges      7043 non-null   object \n",
      "dtypes: float64(1), object(7)\n",
      "memory usage: 440.3+ KB\n"
     ]
    }
   ],
   "source": [
    "df_contract.info() # общая информация о датасете"
   ]
  },
  {
   "cell_type": "code",
   "execution_count": 5,
   "id": "a8cccd4d",
   "metadata": {},
   "outputs": [
    {
     "data": {
      "text/plain": [
       "count    7043.000000\n",
       "mean       64.761692\n",
       "std        30.090047\n",
       "min        18.250000\n",
       "25%        35.500000\n",
       "50%        70.350000\n",
       "75%        89.850000\n",
       "max       118.750000\n",
       "Name: MonthlyCharges, dtype: float64"
      ]
     },
     "execution_count": 5,
     "metadata": {},
     "output_type": "execute_result"
    }
   ],
   "source": [
    "df_contract[\"MonthlyCharges\"].describe() # статистические данные"
   ]
  },
  {
   "cell_type": "markdown",
   "id": "1b043dab",
   "metadata": {},
   "source": [
    "В датасете contract данные представлены в типе данных - объект. Пропусков данных нет. "
   ]
  },
  {
   "cell_type": "code",
   "execution_count": 6,
   "id": "a00dc9e6",
   "metadata": {},
   "outputs": [
    {
     "data": {
      "text/html": [
       "<div>\n",
       "<style scoped>\n",
       "    .dataframe tbody tr th:only-of-type {\n",
       "        vertical-align: middle;\n",
       "    }\n",
       "\n",
       "    .dataframe tbody tr th {\n",
       "        vertical-align: top;\n",
       "    }\n",
       "\n",
       "    .dataframe thead th {\n",
       "        text-align: right;\n",
       "    }\n",
       "</style>\n",
       "<table border=\"1\" class=\"dataframe\">\n",
       "  <thead>\n",
       "    <tr style=\"text-align: right;\">\n",
       "      <th></th>\n",
       "      <th>customerID</th>\n",
       "      <th>InternetService</th>\n",
       "      <th>OnlineSecurity</th>\n",
       "      <th>OnlineBackup</th>\n",
       "      <th>DeviceProtection</th>\n",
       "      <th>TechSupport</th>\n",
       "      <th>StreamingTV</th>\n",
       "      <th>StreamingMovies</th>\n",
       "    </tr>\n",
       "  </thead>\n",
       "  <tbody>\n",
       "    <tr>\n",
       "      <th>0</th>\n",
       "      <td>7590-VHVEG</td>\n",
       "      <td>DSL</td>\n",
       "      <td>No</td>\n",
       "      <td>Yes</td>\n",
       "      <td>No</td>\n",
       "      <td>No</td>\n",
       "      <td>No</td>\n",
       "      <td>No</td>\n",
       "    </tr>\n",
       "    <tr>\n",
       "      <th>1</th>\n",
       "      <td>5575-GNVDE</td>\n",
       "      <td>DSL</td>\n",
       "      <td>Yes</td>\n",
       "      <td>No</td>\n",
       "      <td>Yes</td>\n",
       "      <td>No</td>\n",
       "      <td>No</td>\n",
       "      <td>No</td>\n",
       "    </tr>\n",
       "    <tr>\n",
       "      <th>2</th>\n",
       "      <td>3668-QPYBK</td>\n",
       "      <td>DSL</td>\n",
       "      <td>Yes</td>\n",
       "      <td>Yes</td>\n",
       "      <td>No</td>\n",
       "      <td>No</td>\n",
       "      <td>No</td>\n",
       "      <td>No</td>\n",
       "    </tr>\n",
       "    <tr>\n",
       "      <th>3</th>\n",
       "      <td>7795-CFOCW</td>\n",
       "      <td>DSL</td>\n",
       "      <td>Yes</td>\n",
       "      <td>No</td>\n",
       "      <td>Yes</td>\n",
       "      <td>Yes</td>\n",
       "      <td>No</td>\n",
       "      <td>No</td>\n",
       "    </tr>\n",
       "    <tr>\n",
       "      <th>4</th>\n",
       "      <td>9237-HQITU</td>\n",
       "      <td>Fiber optic</td>\n",
       "      <td>No</td>\n",
       "      <td>No</td>\n",
       "      <td>No</td>\n",
       "      <td>No</td>\n",
       "      <td>No</td>\n",
       "      <td>No</td>\n",
       "    </tr>\n",
       "  </tbody>\n",
       "</table>\n",
       "</div>"
      ],
      "text/plain": [
       "   customerID InternetService OnlineSecurity OnlineBackup DeviceProtection  \\\n",
       "0  7590-VHVEG             DSL             No          Yes               No   \n",
       "1  5575-GNVDE             DSL            Yes           No              Yes   \n",
       "2  3668-QPYBK             DSL            Yes          Yes               No   \n",
       "3  7795-CFOCW             DSL            Yes           No              Yes   \n",
       "4  9237-HQITU     Fiber optic             No           No               No   \n",
       "\n",
       "  TechSupport StreamingTV StreamingMovies  \n",
       "0          No          No              No  \n",
       "1          No          No              No  \n",
       "2          No          No              No  \n",
       "3         Yes          No              No  \n",
       "4          No          No              No  "
      ]
     },
     "execution_count": 6,
     "metadata": {},
     "output_type": "execute_result"
    }
   ],
   "source": [
    "df_internet.head() # датасет \"информация об интернет-услугах\""
   ]
  },
  {
   "cell_type": "code",
   "execution_count": 7,
   "id": "b709f21b",
   "metadata": {},
   "outputs": [
    {
     "name": "stdout",
     "output_type": "stream",
     "text": [
      "<class 'pandas.core.frame.DataFrame'>\n",
      "RangeIndex: 5517 entries, 0 to 5516\n",
      "Data columns (total 8 columns):\n",
      " #   Column            Non-Null Count  Dtype \n",
      "---  ------            --------------  ----- \n",
      " 0   customerID        5517 non-null   object\n",
      " 1   InternetService   5517 non-null   object\n",
      " 2   OnlineSecurity    5517 non-null   object\n",
      " 3   OnlineBackup      5517 non-null   object\n",
      " 4   DeviceProtection  5517 non-null   object\n",
      " 5   TechSupport       5517 non-null   object\n",
      " 6   StreamingTV       5517 non-null   object\n",
      " 7   StreamingMovies   5517 non-null   object\n",
      "dtypes: object(8)\n",
      "memory usage: 344.9+ KB\n"
     ]
    }
   ],
   "source": [
    "df_internet.info() # общая информация  пропусков данных нет"
   ]
  },
  {
   "cell_type": "code",
   "execution_count": 8,
   "id": "849d1629",
   "metadata": {},
   "outputs": [
    {
     "data": {
      "text/html": [
       "<div>\n",
       "<style scoped>\n",
       "    .dataframe tbody tr th:only-of-type {\n",
       "        vertical-align: middle;\n",
       "    }\n",
       "\n",
       "    .dataframe tbody tr th {\n",
       "        vertical-align: top;\n",
       "    }\n",
       "\n",
       "    .dataframe thead th {\n",
       "        text-align: right;\n",
       "    }\n",
       "</style>\n",
       "<table border=\"1\" class=\"dataframe\">\n",
       "  <thead>\n",
       "    <tr style=\"text-align: right;\">\n",
       "      <th></th>\n",
       "      <th>customerID</th>\n",
       "      <th>gender</th>\n",
       "      <th>SeniorCitizen</th>\n",
       "      <th>Partner</th>\n",
       "      <th>Dependents</th>\n",
       "    </tr>\n",
       "  </thead>\n",
       "  <tbody>\n",
       "    <tr>\n",
       "      <th>0</th>\n",
       "      <td>7590-VHVEG</td>\n",
       "      <td>Female</td>\n",
       "      <td>0</td>\n",
       "      <td>Yes</td>\n",
       "      <td>No</td>\n",
       "    </tr>\n",
       "    <tr>\n",
       "      <th>1</th>\n",
       "      <td>5575-GNVDE</td>\n",
       "      <td>Male</td>\n",
       "      <td>0</td>\n",
       "      <td>No</td>\n",
       "      <td>No</td>\n",
       "    </tr>\n",
       "    <tr>\n",
       "      <th>2</th>\n",
       "      <td>3668-QPYBK</td>\n",
       "      <td>Male</td>\n",
       "      <td>0</td>\n",
       "      <td>No</td>\n",
       "      <td>No</td>\n",
       "    </tr>\n",
       "    <tr>\n",
       "      <th>3</th>\n",
       "      <td>7795-CFOCW</td>\n",
       "      <td>Male</td>\n",
       "      <td>0</td>\n",
       "      <td>No</td>\n",
       "      <td>No</td>\n",
       "    </tr>\n",
       "    <tr>\n",
       "      <th>4</th>\n",
       "      <td>9237-HQITU</td>\n",
       "      <td>Female</td>\n",
       "      <td>0</td>\n",
       "      <td>No</td>\n",
       "      <td>No</td>\n",
       "    </tr>\n",
       "  </tbody>\n",
       "</table>\n",
       "</div>"
      ],
      "text/plain": [
       "   customerID  gender  SeniorCitizen Partner Dependents\n",
       "0  7590-VHVEG  Female              0     Yes         No\n",
       "1  5575-GNVDE    Male              0      No         No\n",
       "2  3668-QPYBK    Male              0      No         No\n",
       "3  7795-CFOCW    Male              0      No         No\n",
       "4  9237-HQITU  Female              0      No         No"
      ]
     },
     "execution_count": 8,
     "metadata": {},
     "output_type": "execute_result"
    }
   ],
   "source": [
    "df_personal.head() # датасет \"персональные данные клиента\""
   ]
  },
  {
   "cell_type": "code",
   "execution_count": 9,
   "id": "afb711a8",
   "metadata": {},
   "outputs": [
    {
     "name": "stdout",
     "output_type": "stream",
     "text": [
      "<class 'pandas.core.frame.DataFrame'>\n",
      "RangeIndex: 7043 entries, 0 to 7042\n",
      "Data columns (total 5 columns):\n",
      " #   Column         Non-Null Count  Dtype \n",
      "---  ------         --------------  ----- \n",
      " 0   customerID     7043 non-null   object\n",
      " 1   gender         7043 non-null   object\n",
      " 2   SeniorCitizen  7043 non-null   int64 \n",
      " 3   Partner        7043 non-null   object\n",
      " 4   Dependents     7043 non-null   object\n",
      "dtypes: int64(1), object(4)\n",
      "memory usage: 275.2+ KB\n"
     ]
    }
   ],
   "source": [
    "df_personal.info() # пропусков данных нет"
   ]
  },
  {
   "cell_type": "code",
   "execution_count": 10,
   "id": "7a16ea87",
   "metadata": {},
   "outputs": [
    {
     "data": {
      "text/html": [
       "<div>\n",
       "<style scoped>\n",
       "    .dataframe tbody tr th:only-of-type {\n",
       "        vertical-align: middle;\n",
       "    }\n",
       "\n",
       "    .dataframe tbody tr th {\n",
       "        vertical-align: top;\n",
       "    }\n",
       "\n",
       "    .dataframe thead th {\n",
       "        text-align: right;\n",
       "    }\n",
       "</style>\n",
       "<table border=\"1\" class=\"dataframe\">\n",
       "  <thead>\n",
       "    <tr style=\"text-align: right;\">\n",
       "      <th></th>\n",
       "      <th>customerID</th>\n",
       "      <th>MultipleLines</th>\n",
       "    </tr>\n",
       "  </thead>\n",
       "  <tbody>\n",
       "    <tr>\n",
       "      <th>0</th>\n",
       "      <td>5575-GNVDE</td>\n",
       "      <td>No</td>\n",
       "    </tr>\n",
       "    <tr>\n",
       "      <th>1</th>\n",
       "      <td>3668-QPYBK</td>\n",
       "      <td>No</td>\n",
       "    </tr>\n",
       "    <tr>\n",
       "      <th>2</th>\n",
       "      <td>9237-HQITU</td>\n",
       "      <td>No</td>\n",
       "    </tr>\n",
       "    <tr>\n",
       "      <th>3</th>\n",
       "      <td>9305-CDSKC</td>\n",
       "      <td>Yes</td>\n",
       "    </tr>\n",
       "    <tr>\n",
       "      <th>4</th>\n",
       "      <td>1452-KIOVK</td>\n",
       "      <td>Yes</td>\n",
       "    </tr>\n",
       "  </tbody>\n",
       "</table>\n",
       "</div>"
      ],
      "text/plain": [
       "   customerID MultipleLines\n",
       "0  5575-GNVDE            No\n",
       "1  3668-QPYBK            No\n",
       "2  9237-HQITU            No\n",
       "3  9305-CDSKC           Yes\n",
       "4  1452-KIOVK           Yes"
      ]
     },
     "execution_count": 10,
     "metadata": {},
     "output_type": "execute_result"
    }
   ],
   "source": [
    "df_phone.head() # датасет \"информация об услугах телефонии\""
   ]
  },
  {
   "cell_type": "code",
   "execution_count": 11,
   "id": "43745253",
   "metadata": {},
   "outputs": [
    {
     "name": "stdout",
     "output_type": "stream",
     "text": [
      "<class 'pandas.core.frame.DataFrame'>\n",
      "RangeIndex: 6361 entries, 0 to 6360\n",
      "Data columns (total 2 columns):\n",
      " #   Column         Non-Null Count  Dtype \n",
      "---  ------         --------------  ----- \n",
      " 0   customerID     6361 non-null   object\n",
      " 1   MultipleLines  6361 non-null   object\n",
      "dtypes: object(2)\n",
      "memory usage: 99.5+ KB\n"
     ]
    }
   ],
   "source": [
    "df_phone.info() # пропусков данных нет"
   ]
  },
  {
   "cell_type": "markdown",
   "id": "7bbb8e2a",
   "metadata": {},
   "source": [
    "##  Подготовка данных"
   ]
  },
  {
   "cell_type": "markdown",
   "id": "18b4da63",
   "metadata": {},
   "source": [
    "1. Приведем названия признаков к нижнему регистру: "
   ]
  },
  {
   "cell_type": "code",
   "execution_count": 12,
   "id": "0b4b9cc5",
   "metadata": {},
   "outputs": [],
   "source": [
    "df_contract.columns = df_contract.columns.str.lower()"
   ]
  },
  {
   "cell_type": "code",
   "execution_count": 13,
   "id": "8e15da20",
   "metadata": {},
   "outputs": [],
   "source": [
    "df_internet.columns = df_internet.columns.str.lower()"
   ]
  },
  {
   "cell_type": "code",
   "execution_count": 14,
   "id": "bdb46204",
   "metadata": {},
   "outputs": [],
   "source": [
    "df_personal.columns = df_personal.columns.str.lower()"
   ]
  },
  {
   "cell_type": "code",
   "execution_count": 15,
   "id": "b7887edd",
   "metadata": {},
   "outputs": [],
   "source": [
    "df_phone.columns = df_phone.columns.str.lower()"
   ]
  },
  {
   "cell_type": "markdown",
   "id": "ebefe22e",
   "metadata": {},
   "source": [
    "2. Создадим целевой признак churn (отток абонентов) на основе признака EndDate. А также признак churn_digit. "
   ]
  },
  {
   "cell_type": "code",
   "execution_count": 16,
   "id": "8722cc3a",
   "metadata": {},
   "outputs": [],
   "source": [
    "df_contract.loc[df_contract['enddate'] == 'No', 'churn'] = False # если есть EndDate, то  churn равен True"
   ]
  },
  {
   "cell_type": "code",
   "execution_count": 17,
   "id": "75b15acc",
   "metadata": {},
   "outputs": [],
   "source": [
    "df_contract.loc[df_contract['enddate'] == 'No', 'churn_digit'] = 0 # если нет данных EndDate, то  churn_digit равен 0"
   ]
  },
  {
   "cell_type": "code",
   "execution_count": 18,
   "id": "b81f7b37",
   "metadata": {},
   "outputs": [],
   "source": [
    "df_contract.loc[df_contract['enddate'] != 'No', 'churn_digit'] = 1 # если есть в  EndDate, то  churn_digit равен 0"
   ]
  },
  {
   "cell_type": "code",
   "execution_count": 19,
   "id": "f8adfc15",
   "metadata": {},
   "outputs": [],
   "source": [
    "df_contract['churn'] = df_contract['churn'].astype('bool') # новый признак имеет булев тип"
   ]
  },
  {
   "cell_type": "code",
   "execution_count": 20,
   "id": "a823943b",
   "metadata": {},
   "outputs": [
    {
     "data": {
      "text/html": [
       "<div>\n",
       "<style scoped>\n",
       "    .dataframe tbody tr th:only-of-type {\n",
       "        vertical-align: middle;\n",
       "    }\n",
       "\n",
       "    .dataframe tbody tr th {\n",
       "        vertical-align: top;\n",
       "    }\n",
       "\n",
       "    .dataframe thead th {\n",
       "        text-align: right;\n",
       "    }\n",
       "</style>\n",
       "<table border=\"1\" class=\"dataframe\">\n",
       "  <thead>\n",
       "    <tr style=\"text-align: right;\">\n",
       "      <th></th>\n",
       "      <th>customerid</th>\n",
       "      <th>begindate</th>\n",
       "      <th>enddate</th>\n",
       "      <th>type</th>\n",
       "      <th>paperlessbilling</th>\n",
       "      <th>paymentmethod</th>\n",
       "      <th>monthlycharges</th>\n",
       "      <th>totalcharges</th>\n",
       "      <th>churn</th>\n",
       "      <th>churn_digit</th>\n",
       "    </tr>\n",
       "  </thead>\n",
       "  <tbody>\n",
       "    <tr>\n",
       "      <th>0</th>\n",
       "      <td>7590-VHVEG</td>\n",
       "      <td>2020-01-01</td>\n",
       "      <td>No</td>\n",
       "      <td>Month-to-month</td>\n",
       "      <td>Yes</td>\n",
       "      <td>Electronic check</td>\n",
       "      <td>29.85</td>\n",
       "      <td>29.85</td>\n",
       "      <td>False</td>\n",
       "      <td>0.0</td>\n",
       "    </tr>\n",
       "    <tr>\n",
       "      <th>1</th>\n",
       "      <td>5575-GNVDE</td>\n",
       "      <td>2017-04-01</td>\n",
       "      <td>No</td>\n",
       "      <td>One year</td>\n",
       "      <td>No</td>\n",
       "      <td>Mailed check</td>\n",
       "      <td>56.95</td>\n",
       "      <td>1889.5</td>\n",
       "      <td>False</td>\n",
       "      <td>0.0</td>\n",
       "    </tr>\n",
       "    <tr>\n",
       "      <th>2</th>\n",
       "      <td>3668-QPYBK</td>\n",
       "      <td>2019-10-01</td>\n",
       "      <td>2019-12-01 00:00:00</td>\n",
       "      <td>Month-to-month</td>\n",
       "      <td>Yes</td>\n",
       "      <td>Mailed check</td>\n",
       "      <td>53.85</td>\n",
       "      <td>108.15</td>\n",
       "      <td>True</td>\n",
       "      <td>1.0</td>\n",
       "    </tr>\n",
       "    <tr>\n",
       "      <th>3</th>\n",
       "      <td>7795-CFOCW</td>\n",
       "      <td>2016-05-01</td>\n",
       "      <td>No</td>\n",
       "      <td>One year</td>\n",
       "      <td>No</td>\n",
       "      <td>Bank transfer (automatic)</td>\n",
       "      <td>42.30</td>\n",
       "      <td>1840.75</td>\n",
       "      <td>False</td>\n",
       "      <td>0.0</td>\n",
       "    </tr>\n",
       "    <tr>\n",
       "      <th>4</th>\n",
       "      <td>9237-HQITU</td>\n",
       "      <td>2019-09-01</td>\n",
       "      <td>2019-11-01 00:00:00</td>\n",
       "      <td>Month-to-month</td>\n",
       "      <td>Yes</td>\n",
       "      <td>Electronic check</td>\n",
       "      <td>70.70</td>\n",
       "      <td>151.65</td>\n",
       "      <td>True</td>\n",
       "      <td>1.0</td>\n",
       "    </tr>\n",
       "  </tbody>\n",
       "</table>\n",
       "</div>"
      ],
      "text/plain": [
       "   customerid   begindate              enddate            type  \\\n",
       "0  7590-VHVEG  2020-01-01                   No  Month-to-month   \n",
       "1  5575-GNVDE  2017-04-01                   No        One year   \n",
       "2  3668-QPYBK  2019-10-01  2019-12-01 00:00:00  Month-to-month   \n",
       "3  7795-CFOCW  2016-05-01                   No        One year   \n",
       "4  9237-HQITU  2019-09-01  2019-11-01 00:00:00  Month-to-month   \n",
       "\n",
       "  paperlessbilling              paymentmethod  monthlycharges totalcharges  \\\n",
       "0              Yes           Electronic check           29.85        29.85   \n",
       "1               No               Mailed check           56.95       1889.5   \n",
       "2              Yes               Mailed check           53.85       108.15   \n",
       "3               No  Bank transfer (automatic)           42.30      1840.75   \n",
       "4              Yes           Electronic check           70.70       151.65   \n",
       "\n",
       "   churn  churn_digit  \n",
       "0  False          0.0  \n",
       "1  False          0.0  \n",
       "2   True          1.0  \n",
       "3  False          0.0  \n",
       "4   True          1.0  "
      ]
     },
     "execution_count": 20,
     "metadata": {},
     "output_type": "execute_result"
    }
   ],
   "source": [
    "df_contract.head() # проверка"
   ]
  },
  {
   "cell_type": "markdown",
   "id": "49cb42f8",
   "metadata": {},
   "source": []
  },
  {
   "cell_type": "code",
   "execution_count": 21,
   "id": "4dd4fd5c",
   "metadata": {},
   "outputs": [
    {
     "data": {
      "image/png": "[encoded data removed]",
      "text/plain": [
       "<Figure size 432x288 with 1 Axes>"
      ]
     },
     "metadata": {
      "needs_background": "light"
     },
     "output_type": "display_data"
    }
   ],
   "source": [
    "df_contract['churn_digit'].value_counts().plot(kind='bar',grid=True, title='отток клиентов')\n",
    "plt.show()"
   ]
  },
  {
   "cell_type": "markdown",
   "id": "9dd513c7",
   "metadata": {},
   "source": [
    "Видно, что отток клиентов описывается соотношением 1:2 (остались-ушли). Далее проведем борьбу с дисбалансом. "
   ]
  },
  {
   "cell_type": "markdown",
   "id": "c4940ba5",
   "metadata": {},
   "source": [
    "3. Пребразуем строковые значения с датой в формат datetime:"
   ]
  },
  {
   "cell_type": "code",
   "execution_count": 22,
   "id": "5a6c3fea",
   "metadata": {},
   "outputs": [],
   "source": [
    "df_contract['begindate'] = pd.to_datetime(df_contract['begindate'], format = '%Y.%m.%d')\n",
    "df_contract['enddate'] = pd.to_datetime(df_contract['enddate'], format = '%Y.%m.%d', errors='coerce')"
   ]
  },
  {
   "cell_type": "code",
   "execution_count": 23,
   "id": "f727dafe",
   "metadata": {},
   "outputs": [],
   "source": [
    "df_contract['enddate1']= df_contract['enddate'].fillna('2020-02-01') \n",
    "# столбец, в котором момент окончания проставлена дата 2020-02-01, по указанию задачи"
   ]
  },
  {
   "cell_type": "code",
   "execution_count": 24,
   "id": "ee6dbce3",
   "metadata": {},
   "outputs": [
    {
     "name": "stdout",
     "output_type": "stream",
     "text": [
      "<class 'pandas.core.frame.DataFrame'>\n",
      "RangeIndex: 7043 entries, 0 to 7042\n",
      "Data columns (total 11 columns):\n",
      " #   Column            Non-Null Count  Dtype         \n",
      "---  ------            --------------  -----         \n",
      " 0   customerid        7043 non-null   object        \n",
      " 1   begindate         7043 non-null   datetime64[ns]\n",
      " 2   enddate           1869 non-null   datetime64[ns]\n",
      " 3   type              7043 non-null   object        \n",
      " 4   paperlessbilling  7043 non-null   object        \n",
      " 5   paymentmethod     7043 non-null   object        \n",
      " 6   monthlycharges    7043 non-null   float64       \n",
      " 7   totalcharges      7043 non-null   object        \n",
      " 8   churn             7043 non-null   bool          \n",
      " 9   churn_digit       7043 non-null   float64       \n",
      " 10  enddate1          7043 non-null   object        \n",
      "dtypes: bool(1), datetime64[ns](2), float64(2), object(6)\n",
      "memory usage: 557.2+ KB\n"
     ]
    }
   ],
   "source": [
    "df_contract.info()"
   ]
  },
  {
   "cell_type": "markdown",
   "id": "1556ead8",
   "metadata": {},
   "source": [
    "Посчитаем сколько времени пользователя является клиентом: "
   ]
  },
  {
   "cell_type": "code",
   "execution_count": 25,
   "id": "8c514a9e",
   "metadata": {},
   "outputs": [],
   "source": [
    "#вспомогательные столбцы для вычислений, ниже удалим\n",
    "df_contract['begin_year'] = pd.DatetimeIndex(df_contract['begindate']).year\n",
    "df_contract['end_year'] = pd.DatetimeIndex(df_contract['enddate1']).year\n",
    "df_contract['begin_month'] = pd.DatetimeIndex(df_contract['begindate']).month\n",
    "df_contract['end_month'] = pd.DatetimeIndex(df_contract['enddate1']).month"
   ]
  },
  {
   "cell_type": "code",
   "execution_count": 26,
   "id": "a1623ae2",
   "metadata": {},
   "outputs": [],
   "source": [
    "#добавляем признак Months: сколько полных месяцев клиент с нами\n",
    "df_contract['months'] = ((df_contract['end_year']- df_contract['begin_year']) * 12 + (df_contract['end_month'] - df_contract['begin_month']))\n"
   ]
  },
  {
   "cell_type": "code",
   "execution_count": 27,
   "id": "5ee2a835",
   "metadata": {},
   "outputs": [
    {
     "data": {
      "text/html": [
       "<div>\n",
       "<style scoped>\n",
       "    .dataframe tbody tr th:only-of-type {\n",
       "        vertical-align: middle;\n",
       "    }\n",
       "\n",
       "    .dataframe tbody tr th {\n",
       "        vertical-align: top;\n",
       "    }\n",
       "\n",
       "    .dataframe thead th {\n",
       "        text-align: right;\n",
       "    }\n",
       "</style>\n",
       "<table border=\"1\" class=\"dataframe\">\n",
       "  <thead>\n",
       "    <tr style=\"text-align: right;\">\n",
       "      <th></th>\n",
       "      <th>customerid</th>\n",
       "      <th>begindate</th>\n",
       "      <th>enddate</th>\n",
       "      <th>type</th>\n",
       "      <th>paperlessbilling</th>\n",
       "      <th>paymentmethod</th>\n",
       "      <th>monthlycharges</th>\n",
       "      <th>totalcharges</th>\n",
       "      <th>churn</th>\n",
       "      <th>churn_digit</th>\n",
       "      <th>enddate1</th>\n",
       "      <th>begin_year</th>\n",
       "      <th>end_year</th>\n",
       "      <th>begin_month</th>\n",
       "      <th>end_month</th>\n",
       "      <th>months</th>\n",
       "    </tr>\n",
       "  </thead>\n",
       "  <tbody>\n",
       "    <tr>\n",
       "      <th>0</th>\n",
       "      <td>7590-VHVEG</td>\n",
       "      <td>2020-01-01</td>\n",
       "      <td>NaT</td>\n",
       "      <td>Month-to-month</td>\n",
       "      <td>Yes</td>\n",
       "      <td>Electronic check</td>\n",
       "      <td>29.85</td>\n",
       "      <td>29.85</td>\n",
       "      <td>False</td>\n",
       "      <td>0.0</td>\n",
       "      <td>2020-02-01</td>\n",
       "      <td>2020</td>\n",
       "      <td>2020</td>\n",
       "      <td>1</td>\n",
       "      <td>2</td>\n",
       "      <td>1</td>\n",
       "    </tr>\n",
       "    <tr>\n",
       "      <th>1</th>\n",
       "      <td>5575-GNVDE</td>\n",
       "      <td>2017-04-01</td>\n",
       "      <td>NaT</td>\n",
       "      <td>One year</td>\n",
       "      <td>No</td>\n",
       "      <td>Mailed check</td>\n",
       "      <td>56.95</td>\n",
       "      <td>1889.5</td>\n",
       "      <td>False</td>\n",
       "      <td>0.0</td>\n",
       "      <td>2020-02-01</td>\n",
       "      <td>2017</td>\n",
       "      <td>2020</td>\n",
       "      <td>4</td>\n",
       "      <td>2</td>\n",
       "      <td>34</td>\n",
       "    </tr>\n",
       "  </tbody>\n",
       "</table>\n",
       "</div>"
      ],
      "text/plain": [
       "   customerid  begindate enddate            type paperlessbilling  \\\n",
       "0  7590-VHVEG 2020-01-01     NaT  Month-to-month              Yes   \n",
       "1  5575-GNVDE 2017-04-01     NaT        One year               No   \n",
       "\n",
       "      paymentmethod  monthlycharges totalcharges  churn  churn_digit  \\\n",
       "0  Electronic check           29.85        29.85  False          0.0   \n",
       "1      Mailed check           56.95       1889.5  False          0.0   \n",
       "\n",
       "     enddate1  begin_year  end_year  begin_month  end_month  months  \n",
       "0  2020-02-01        2020      2020            1          2       1  \n",
       "1  2020-02-01        2017      2020            4          2      34  "
      ]
     },
     "execution_count": 27,
     "metadata": {},
     "output_type": "execute_result"
    }
   ],
   "source": [
    "df_contract.head(2)"
   ]
  },
  {
   "cell_type": "code",
   "execution_count": 28,
   "id": "868a6282",
   "metadata": {},
   "outputs": [],
   "source": [
    "df_contract['enddate1'] = pd.to_datetime(df_contract['enddate1'], format = '%Y.%m.%d')"
   ]
  },
  {
   "cell_type": "markdown",
   "id": "e882c4cc",
   "metadata": {},
   "source": [
    "<div class=\"alert alert-info\">\n",
    "<h16> Введем параметр day, количество дней, которое пользователь является клиентом \n",
    "<br> </h16>\n",
    "</div>"
   ]
  },
  {
   "cell_type": "code",
   "execution_count": 29,
   "id": "073fc2f3",
   "metadata": {},
   "outputs": [],
   "source": [
    "df_contract['day'] = (df_contract['enddate1']- df_contract['begindate'])\n",
    "# df_contract['day'] = df_contract['day'].astype('float')"
   ]
  },
  {
   "cell_type": "code",
   "execution_count": 30,
   "id": "dd7a5359",
   "metadata": {},
   "outputs": [
    {
     "data": {
      "text/html": [
       "<div>\n",
       "<style scoped>\n",
       "    .dataframe tbody tr th:only-of-type {\n",
       "        vertical-align: middle;\n",
       "    }\n",
       "\n",
       "    .dataframe tbody tr th {\n",
       "        vertical-align: top;\n",
       "    }\n",
       "\n",
       "    .dataframe thead th {\n",
       "        text-align: right;\n",
       "    }\n",
       "</style>\n",
       "<table border=\"1\" class=\"dataframe\">\n",
       "  <thead>\n",
       "    <tr style=\"text-align: right;\">\n",
       "      <th></th>\n",
       "      <th>customerid</th>\n",
       "      <th>begindate</th>\n",
       "      <th>enddate</th>\n",
       "      <th>type</th>\n",
       "      <th>paperlessbilling</th>\n",
       "      <th>paymentmethod</th>\n",
       "      <th>monthlycharges</th>\n",
       "      <th>totalcharges</th>\n",
       "      <th>churn</th>\n",
       "      <th>churn_digit</th>\n",
       "      <th>enddate1</th>\n",
       "      <th>begin_year</th>\n",
       "      <th>end_year</th>\n",
       "      <th>begin_month</th>\n",
       "      <th>end_month</th>\n",
       "      <th>months</th>\n",
       "      <th>day</th>\n",
       "    </tr>\n",
       "  </thead>\n",
       "  <tbody>\n",
       "    <tr>\n",
       "      <th>0</th>\n",
       "      <td>7590-VHVEG</td>\n",
       "      <td>2020-01-01</td>\n",
       "      <td>NaT</td>\n",
       "      <td>Month-to-month</td>\n",
       "      <td>Yes</td>\n",
       "      <td>Electronic check</td>\n",
       "      <td>29.85</td>\n",
       "      <td>29.85</td>\n",
       "      <td>False</td>\n",
       "      <td>0.0</td>\n",
       "      <td>2020-02-01</td>\n",
       "      <td>2020</td>\n",
       "      <td>2020</td>\n",
       "      <td>1</td>\n",
       "      <td>2</td>\n",
       "      <td>1</td>\n",
       "      <td>31 days</td>\n",
       "    </tr>\n",
       "    <tr>\n",
       "      <th>1</th>\n",
       "      <td>5575-GNVDE</td>\n",
       "      <td>2017-04-01</td>\n",
       "      <td>NaT</td>\n",
       "      <td>One year</td>\n",
       "      <td>No</td>\n",
       "      <td>Mailed check</td>\n",
       "      <td>56.95</td>\n",
       "      <td>1889.5</td>\n",
       "      <td>False</td>\n",
       "      <td>0.0</td>\n",
       "      <td>2020-02-01</td>\n",
       "      <td>2017</td>\n",
       "      <td>2020</td>\n",
       "      <td>4</td>\n",
       "      <td>2</td>\n",
       "      <td>34</td>\n",
       "      <td>1036 days</td>\n",
       "    </tr>\n",
       "    <tr>\n",
       "      <th>2</th>\n",
       "      <td>3668-QPYBK</td>\n",
       "      <td>2019-10-01</td>\n",
       "      <td>2019-12-01</td>\n",
       "      <td>Month-to-month</td>\n",
       "      <td>Yes</td>\n",
       "      <td>Mailed check</td>\n",
       "      <td>53.85</td>\n",
       "      <td>108.15</td>\n",
       "      <td>True</td>\n",
       "      <td>1.0</td>\n",
       "      <td>2019-12-01</td>\n",
       "      <td>2019</td>\n",
       "      <td>2019</td>\n",
       "      <td>10</td>\n",
       "      <td>12</td>\n",
       "      <td>2</td>\n",
       "      <td>61 days</td>\n",
       "    </tr>\n",
       "    <tr>\n",
       "      <th>3</th>\n",
       "      <td>7795-CFOCW</td>\n",
       "      <td>2016-05-01</td>\n",
       "      <td>NaT</td>\n",
       "      <td>One year</td>\n",
       "      <td>No</td>\n",
       "      <td>Bank transfer (automatic)</td>\n",
       "      <td>42.30</td>\n",
       "      <td>1840.75</td>\n",
       "      <td>False</td>\n",
       "      <td>0.0</td>\n",
       "      <td>2020-02-01</td>\n",
       "      <td>2016</td>\n",
       "      <td>2020</td>\n",
       "      <td>5</td>\n",
       "      <td>2</td>\n",
       "      <td>45</td>\n",
       "      <td>1371 days</td>\n",
       "    </tr>\n",
       "    <tr>\n",
       "      <th>4</th>\n",
       "      <td>9237-HQITU</td>\n",
       "      <td>2019-09-01</td>\n",
       "      <td>2019-11-01</td>\n",
       "      <td>Month-to-month</td>\n",
       "      <td>Yes</td>\n",
       "      <td>Electronic check</td>\n",
       "      <td>70.70</td>\n",
       "      <td>151.65</td>\n",
       "      <td>True</td>\n",
       "      <td>1.0</td>\n",
       "      <td>2019-11-01</td>\n",
       "      <td>2019</td>\n",
       "      <td>2019</td>\n",
       "      <td>9</td>\n",
       "      <td>11</td>\n",
       "      <td>2</td>\n",
       "      <td>61 days</td>\n",
       "    </tr>\n",
       "  </tbody>\n",
       "</table>\n",
       "</div>"
      ],
      "text/plain": [
       "   customerid  begindate    enddate            type paperlessbilling  \\\n",
       "0  7590-VHVEG 2020-01-01        NaT  Month-to-month              Yes   \n",
       "1  5575-GNVDE 2017-04-01        NaT        One year               No   \n",
       "2  3668-QPYBK 2019-10-01 2019-12-01  Month-to-month              Yes   \n",
       "3  7795-CFOCW 2016-05-01        NaT        One year               No   \n",
       "4  9237-HQITU 2019-09-01 2019-11-01  Month-to-month              Yes   \n",
       "\n",
       "               paymentmethod  monthlycharges totalcharges  churn  churn_digit  \\\n",
       "0           Electronic check           29.85        29.85  False          0.0   \n",
       "1               Mailed check           56.95       1889.5  False          0.0   \n",
       "2               Mailed check           53.85       108.15   True          1.0   \n",
       "3  Bank transfer (automatic)           42.30      1840.75  False          0.0   \n",
       "4           Electronic check           70.70       151.65   True          1.0   \n",
       "\n",
       "    enddate1  begin_year  end_year  begin_month  end_month  months       day  \n",
       "0 2020-02-01        2020      2020            1          2       1   31 days  \n",
       "1 2020-02-01        2017      2020            4          2      34 1036 days  \n",
       "2 2019-12-01        2019      2019           10         12       2   61 days  \n",
       "3 2020-02-01        2016      2020            5          2      45 1371 days  \n",
       "4 2019-11-01        2019      2019            9         11       2   61 days  "
      ]
     },
     "execution_count": 30,
     "metadata": {},
     "output_type": "execute_result"
    }
   ],
   "source": [
    "df_contract.head()"
   ]
  },
  {
   "cell_type": "code",
   "execution_count": 120,
   "id": "189afe18",
   "metadata": {
    "scrolled": true
   },
   "outputs": [],
   "source": [
    "df_contract['day'] = pd.DataFrame(df_contract['day']).apply(np.float32) \n",
    "# изменим тип данных указанного параметра на float"
   ]
  },
  {
   "cell_type": "code",
   "execution_count": 32,
   "id": "c76fa858",
   "metadata": {},
   "outputs": [
    {
     "name": "stdout",
     "output_type": "stream",
     "text": [
      "<class 'pandas.core.frame.DataFrame'>\n",
      "RangeIndex: 7043 entries, 0 to 7042\n",
      "Data columns (total 17 columns):\n",
      " #   Column            Non-Null Count  Dtype         \n",
      "---  ------            --------------  -----         \n",
      " 0   customerid        7043 non-null   object        \n",
      " 1   begindate         7043 non-null   datetime64[ns]\n",
      " 2   enddate           1869 non-null   datetime64[ns]\n",
      " 3   type              7043 non-null   object        \n",
      " 4   paperlessbilling  7043 non-null   object        \n",
      " 5   paymentmethod     7043 non-null   object        \n",
      " 6   monthlycharges    7043 non-null   float64       \n",
      " 7   totalcharges      7043 non-null   object        \n",
      " 8   churn             7043 non-null   bool          \n",
      " 9   churn_digit       7043 non-null   float64       \n",
      " 10  enddate1          7043 non-null   datetime64[ns]\n",
      " 11  begin_year        7043 non-null   int64         \n",
      " 12  end_year          7043 non-null   int64         \n",
      " 13  begin_month       7043 non-null   int64         \n",
      " 14  end_month         7043 non-null   int64         \n",
      " 15  months            7043 non-null   int64         \n",
      " 16  day               7043 non-null   float32       \n",
      "dtypes: bool(1), datetime64[ns](3), float32(1), float64(2), int64(5), object(5)\n",
      "memory usage: 859.9+ KB\n"
     ]
    }
   ],
   "source": [
    "df_contract.info()"
   ]
  },
  {
   "cell_type": "code",
   "execution_count": 33,
   "id": "8746471d",
   "metadata": {},
   "outputs": [
    {
     "data": {
      "text/html": [
       "<div>\n",
       "<style scoped>\n",
       "    .dataframe tbody tr th:only-of-type {\n",
       "        vertical-align: middle;\n",
       "    }\n",
       "\n",
       "    .dataframe tbody tr th {\n",
       "        vertical-align: top;\n",
       "    }\n",
       "\n",
       "    .dataframe thead th {\n",
       "        text-align: right;\n",
       "    }\n",
       "</style>\n",
       "<table border=\"1\" class=\"dataframe\">\n",
       "  <thead>\n",
       "    <tr style=\"text-align: right;\">\n",
       "      <th></th>\n",
       "      <th>customerid</th>\n",
       "      <th>begindate</th>\n",
       "      <th>enddate</th>\n",
       "      <th>type</th>\n",
       "      <th>paperlessbilling</th>\n",
       "      <th>paymentmethod</th>\n",
       "      <th>monthlycharges</th>\n",
       "      <th>totalcharges</th>\n",
       "      <th>churn</th>\n",
       "      <th>churn_digit</th>\n",
       "      <th>enddate1</th>\n",
       "      <th>begin_year</th>\n",
       "      <th>end_year</th>\n",
       "      <th>begin_month</th>\n",
       "      <th>end_month</th>\n",
       "      <th>months</th>\n",
       "      <th>day</th>\n",
       "    </tr>\n",
       "  </thead>\n",
       "  <tbody>\n",
       "    <tr>\n",
       "      <th>0</th>\n",
       "      <td>7590-VHVEG</td>\n",
       "      <td>2020-01-01</td>\n",
       "      <td>NaT</td>\n",
       "      <td>Month-to-month</td>\n",
       "      <td>Yes</td>\n",
       "      <td>Electronic check</td>\n",
       "      <td>29.85</td>\n",
       "      <td>29.85</td>\n",
       "      <td>False</td>\n",
       "      <td>0.0</td>\n",
       "      <td>2020-02-01</td>\n",
       "      <td>2020</td>\n",
       "      <td>2020</td>\n",
       "      <td>1</td>\n",
       "      <td>2</td>\n",
       "      <td>1</td>\n",
       "      <td>2.678400e+15</td>\n",
       "    </tr>\n",
       "    <tr>\n",
       "      <th>1</th>\n",
       "      <td>5575-GNVDE</td>\n",
       "      <td>2017-04-01</td>\n",
       "      <td>NaT</td>\n",
       "      <td>One year</td>\n",
       "      <td>No</td>\n",
       "      <td>Mailed check</td>\n",
       "      <td>56.95</td>\n",
       "      <td>1889.5</td>\n",
       "      <td>False</td>\n",
       "      <td>0.0</td>\n",
       "      <td>2020-02-01</td>\n",
       "      <td>2017</td>\n",
       "      <td>2020</td>\n",
       "      <td>4</td>\n",
       "      <td>2</td>\n",
       "      <td>34</td>\n",
       "      <td>8.951040e+16</td>\n",
       "    </tr>\n",
       "    <tr>\n",
       "      <th>2</th>\n",
       "      <td>3668-QPYBK</td>\n",
       "      <td>2019-10-01</td>\n",
       "      <td>2019-12-01</td>\n",
       "      <td>Month-to-month</td>\n",
       "      <td>Yes</td>\n",
       "      <td>Mailed check</td>\n",
       "      <td>53.85</td>\n",
       "      <td>108.15</td>\n",
       "      <td>True</td>\n",
       "      <td>1.0</td>\n",
       "      <td>2019-12-01</td>\n",
       "      <td>2019</td>\n",
       "      <td>2019</td>\n",
       "      <td>10</td>\n",
       "      <td>12</td>\n",
       "      <td>2</td>\n",
       "      <td>5.270400e+15</td>\n",
       "    </tr>\n",
       "    <tr>\n",
       "      <th>3</th>\n",
       "      <td>7795-CFOCW</td>\n",
       "      <td>2016-05-01</td>\n",
       "      <td>NaT</td>\n",
       "      <td>One year</td>\n",
       "      <td>No</td>\n",
       "      <td>Bank transfer (automatic)</td>\n",
       "      <td>42.30</td>\n",
       "      <td>1840.75</td>\n",
       "      <td>False</td>\n",
       "      <td>0.0</td>\n",
       "      <td>2020-02-01</td>\n",
       "      <td>2016</td>\n",
       "      <td>2020</td>\n",
       "      <td>5</td>\n",
       "      <td>2</td>\n",
       "      <td>45</td>\n",
       "      <td>1.184544e+17</td>\n",
       "    </tr>\n",
       "    <tr>\n",
       "      <th>4</th>\n",
       "      <td>9237-HQITU</td>\n",
       "      <td>2019-09-01</td>\n",
       "      <td>2019-11-01</td>\n",
       "      <td>Month-to-month</td>\n",
       "      <td>Yes</td>\n",
       "      <td>Electronic check</td>\n",
       "      <td>70.70</td>\n",
       "      <td>151.65</td>\n",
       "      <td>True</td>\n",
       "      <td>1.0</td>\n",
       "      <td>2019-11-01</td>\n",
       "      <td>2019</td>\n",
       "      <td>2019</td>\n",
       "      <td>9</td>\n",
       "      <td>11</td>\n",
       "      <td>2</td>\n",
       "      <td>5.270400e+15</td>\n",
       "    </tr>\n",
       "  </tbody>\n",
       "</table>\n",
       "</div>"
      ],
      "text/plain": [
       "   customerid  begindate    enddate            type paperlessbilling  \\\n",
       "0  7590-VHVEG 2020-01-01        NaT  Month-to-month              Yes   \n",
       "1  5575-GNVDE 2017-04-01        NaT        One year               No   \n",
       "2  3668-QPYBK 2019-10-01 2019-12-01  Month-to-month              Yes   \n",
       "3  7795-CFOCW 2016-05-01        NaT        One year               No   \n",
       "4  9237-HQITU 2019-09-01 2019-11-01  Month-to-month              Yes   \n",
       "\n",
       "               paymentmethod  monthlycharges totalcharges  churn  churn_digit  \\\n",
       "0           Electronic check           29.85        29.85  False          0.0   \n",
       "1               Mailed check           56.95       1889.5  False          0.0   \n",
       "2               Mailed check           53.85       108.15   True          1.0   \n",
       "3  Bank transfer (automatic)           42.30      1840.75  False          0.0   \n",
       "4           Electronic check           70.70       151.65   True          1.0   \n",
       "\n",
       "    enddate1  begin_year  end_year  begin_month  end_month  months  \\\n",
       "0 2020-02-01        2020      2020            1          2       1   \n",
       "1 2020-02-01        2017      2020            4          2      34   \n",
       "2 2019-12-01        2019      2019           10         12       2   \n",
       "3 2020-02-01        2016      2020            5          2      45   \n",
       "4 2019-11-01        2019      2019            9         11       2   \n",
       "\n",
       "            day  \n",
       "0  2.678400e+15  \n",
       "1  8.951040e+16  \n",
       "2  5.270400e+15  \n",
       "3  1.184544e+17  \n",
       "4  5.270400e+15  "
      ]
     },
     "execution_count": 33,
     "metadata": {},
     "output_type": "execute_result"
    }
   ],
   "source": [
    "df_contract.head()"
   ]
  },
  {
   "cell_type": "code",
   "execution_count": 34,
   "id": "2caf3781",
   "metadata": {},
   "outputs": [],
   "source": [
    "df_contract = df_contract.drop(['begin_year','end_year','begin_month','end_month', 'enddate1'], axis=1)"
   ]
  },
  {
   "cell_type": "code",
   "execution_count": 35,
   "id": "d82b103e",
   "metadata": {},
   "outputs": [
    {
     "data": {
      "text/plain": [
       "customerid             0\n",
       "begindate              0\n",
       "enddate             5174\n",
       "type                   0\n",
       "paperlessbilling       0\n",
       "paymentmethod          0\n",
       "monthlycharges         0\n",
       "totalcharges           0\n",
       "churn                  0\n",
       "churn_digit            0\n",
       "months                 0\n",
       "day                    0\n",
       "dtype: int64"
      ]
     },
     "execution_count": 35,
     "metadata": {},
     "output_type": "execute_result"
    }
   ],
   "source": [
    "df_contract.isnull().sum()"
   ]
  },
  {
   "cell_type": "markdown",
   "id": "8c102bd2",
   "metadata": {},
   "source": [
    "4. Преобразуем признак totalcharges (сумма всех платежей) в float64:"
   ]
  },
  {
   "cell_type": "code",
   "execution_count": 36,
   "id": "ffd2488d",
   "metadata": {},
   "outputs": [],
   "source": [
    "df_contract.loc[df_contract['totalcharges'] == ' ', 'totalcharges'] = df_contract['monthlycharges']\n",
    "df_contract['totalcharges'] = df_contract['totalcharges'].astype('float')\n",
    "# в столбце totalcharges есть пустые значения, заменим его на monthlycharges"
   ]
  },
  {
   "cell_type": "code",
   "execution_count": 37,
   "id": "a9d9e84d",
   "metadata": {},
   "outputs": [
    {
     "name": "stdout",
     "output_type": "stream",
     "text": [
      "<class 'pandas.core.frame.DataFrame'>\n",
      "RangeIndex: 7043 entries, 0 to 7042\n",
      "Data columns (total 12 columns):\n",
      " #   Column            Non-Null Count  Dtype         \n",
      "---  ------            --------------  -----         \n",
      " 0   customerid        7043 non-null   object        \n",
      " 1   begindate         7043 non-null   datetime64[ns]\n",
      " 2   enddate           1869 non-null   datetime64[ns]\n",
      " 3   type              7043 non-null   object        \n",
      " 4   paperlessbilling  7043 non-null   object        \n",
      " 5   paymentmethod     7043 non-null   object        \n",
      " 6   monthlycharges    7043 non-null   float64       \n",
      " 7   totalcharges      7043 non-null   float64       \n",
      " 8   churn             7043 non-null   bool          \n",
      " 9   churn_digit       7043 non-null   float64       \n",
      " 10  months            7043 non-null   int64         \n",
      " 11  day               7043 non-null   float32       \n",
      "dtypes: bool(1), datetime64[ns](2), float32(1), float64(3), int64(1), object(4)\n",
      "memory usage: 584.7+ KB\n"
     ]
    }
   ],
   "source": [
    "df_contract.info() # проверка типов данных"
   ]
  },
  {
   "cell_type": "markdown",
   "id": "72a3255d",
   "metadata": {},
   "source": [
    "5. Соединим датафреймы: "
   ]
  },
  {
   "cell_type": "code",
   "execution_count": 38,
   "id": "88d76dde",
   "metadata": {},
   "outputs": [],
   "source": [
    "df1 = df_contract.merge(df_internet, on='customerid', how='left') \n",
    "# выбираем левый тип соединения, чтобы все значения из df_internet попали в df_contract по ключу customerid"
   ]
  },
  {
   "cell_type": "code",
   "execution_count": 39,
   "id": "6164d5d6",
   "metadata": {},
   "outputs": [
    {
     "name": "stdout",
     "output_type": "stream",
     "text": [
      "<class 'pandas.core.frame.DataFrame'>\n",
      "Int64Index: 7043 entries, 0 to 7042\n",
      "Data columns (total 19 columns):\n",
      " #   Column            Non-Null Count  Dtype         \n",
      "---  ------            --------------  -----         \n",
      " 0   customerid        7043 non-null   object        \n",
      " 1   begindate         7043 non-null   datetime64[ns]\n",
      " 2   enddate           1869 non-null   datetime64[ns]\n",
      " 3   type              7043 non-null   object        \n",
      " 4   paperlessbilling  7043 non-null   object        \n",
      " 5   paymentmethod     7043 non-null   object        \n",
      " 6   monthlycharges    7043 non-null   float64       \n",
      " 7   totalcharges      7043 non-null   float64       \n",
      " 8   churn             7043 non-null   bool          \n",
      " 9   churn_digit       7043 non-null   float64       \n",
      " 10  months            7043 non-null   int64         \n",
      " 11  day               7043 non-null   float32       \n",
      " 12  internetservice   5517 non-null   object        \n",
      " 13  onlinesecurity    5517 non-null   object        \n",
      " 14  onlinebackup      5517 non-null   object        \n",
      " 15  deviceprotection  5517 non-null   object        \n",
      " 16  techsupport       5517 non-null   object        \n",
      " 17  streamingtv       5517 non-null   object        \n",
      " 18  streamingmovies   5517 non-null   object        \n",
      "dtypes: bool(1), datetime64[ns](2), float32(1), float64(3), int64(1), object(11)\n",
      "memory usage: 1.0+ MB\n"
     ]
    }
   ],
   "source": [
    "df1.info()  # проверка соединения "
   ]
  },
  {
   "cell_type": "code",
   "execution_count": 40,
   "id": "21b447b2",
   "metadata": {},
   "outputs": [],
   "source": [
    "df2 = df1.merge(df_personal, on='customerid')"
   ]
  },
  {
   "cell_type": "code",
   "execution_count": 41,
   "id": "7b5f4466",
   "metadata": {},
   "outputs": [],
   "source": [
    "df = df2.merge(df_phone, on='customerid', how='left')"
   ]
  },
  {
   "cell_type": "code",
   "execution_count": 42,
   "id": "addb4432",
   "metadata": {},
   "outputs": [
    {
     "name": "stdout",
     "output_type": "stream",
     "text": [
      "<class 'pandas.core.frame.DataFrame'>\n",
      "Int64Index: 7043 entries, 0 to 7042\n",
      "Data columns (total 24 columns):\n",
      " #   Column            Non-Null Count  Dtype         \n",
      "---  ------            --------------  -----         \n",
      " 0   customerid        7043 non-null   object        \n",
      " 1   begindate         7043 non-null   datetime64[ns]\n",
      " 2   enddate           1869 non-null   datetime64[ns]\n",
      " 3   type              7043 non-null   object        \n",
      " 4   paperlessbilling  7043 non-null   object        \n",
      " 5   paymentmethod     7043 non-null   object        \n",
      " 6   monthlycharges    7043 non-null   float64       \n",
      " 7   totalcharges      7043 non-null   float64       \n",
      " 8   churn             7043 non-null   bool          \n",
      " 9   churn_digit       7043 non-null   float64       \n",
      " 10  months            7043 non-null   int64         \n",
      " 11  day               7043 non-null   float32       \n",
      " 12  internetservice   5517 non-null   object        \n",
      " 13  onlinesecurity    5517 non-null   object        \n",
      " 14  onlinebackup      5517 non-null   object        \n",
      " 15  deviceprotection  5517 non-null   object        \n",
      " 16  techsupport       5517 non-null   object        \n",
      " 17  streamingtv       5517 non-null   object        \n",
      " 18  streamingmovies   5517 non-null   object        \n",
      " 19  gender            7043 non-null   object        \n",
      " 20  seniorcitizen     7043 non-null   int64         \n",
      " 21  partner           7043 non-null   object        \n",
      " 22  dependents        7043 non-null   object        \n",
      " 23  multiplelines     6361 non-null   object        \n",
      "dtypes: bool(1), datetime64[ns](2), float32(1), float64(3), int64(2), object(15)\n",
      "memory usage: 1.3+ MB\n"
     ]
    }
   ],
   "source": [
    "df.info() # получили итоговый датафрейм"
   ]
  },
  {
   "cell_type": "markdown",
   "id": "cfb6f17f",
   "metadata": {},
   "source": [
    "##  Проведение исследования данных "
   ]
  },
  {
   "cell_type": "markdown",
   "id": "5284eb12",
   "metadata": {},
   "source": [
    "Сравните распределения величин ежемесячных платежей (MonthlyCharges) всех клиентов и тех, кто ушёл. Для каждой группы посчитайте статистики: средние, минимальные и максимальные значения, медиану и величины 25%- и 75%-квартилей. Постройте гистограммы распределения.\n",
    "\n",
    "Сравните поведение клиентов этих двух групп. Для каждой постройте два любых графика, изображающих:\n",
    "\n",
    "- долю пользователей телефонной связи;\n",
    "- долю интернет-пользователей."
   ]
  },
  {
   "cell_type": "markdown",
   "id": "d48eeb27",
   "metadata": {},
   "source": [
    "1. Выделим группы абонентов и построим для них требуемые графики:<br>\n",
    "    - для группы ушедших абонентов:"
   ]
  },
  {
   "cell_type": "code",
   "execution_count": 43,
   "id": "7eacd90e",
   "metadata": {},
   "outputs": [
    {
     "data": {
      "text/plain": [
       "(1869, 24)"
      ]
     },
     "execution_count": 43,
     "metadata": {},
     "output_type": "execute_result"
    }
   ],
   "source": [
    "df_churn = df[df['churn'] == True]\n",
    "df_churn.shape"
   ]
  },
  {
   "cell_type": "code",
   "execution_count": 44,
   "id": "de6d373e",
   "metadata": {},
   "outputs": [
    {
     "data": {
      "text/plain": [
       "count    1869.000000\n",
       "mean       74.441332\n",
       "std        24.666053\n",
       "min        18.850000\n",
       "25%        56.150000\n",
       "50%        79.650000\n",
       "75%        94.200000\n",
       "max       118.350000\n",
       "Name: monthlycharges, dtype: float64"
      ]
     },
     "execution_count": 44,
     "metadata": {},
     "output_type": "execute_result"
    }
   ],
   "source": [
    "df_churn['monthlycharges'].describe() \n",
    "# статистическое распределение величины monthlycharges (ежемесячного платёжа) для ушедших клиентов"
   ]
  },
  {
   "cell_type": "code",
   "execution_count": 45,
   "id": "211ffcce",
   "metadata": {},
   "outputs": [
    {
     "data": {
      "text/plain": [
       "79.65"
      ]
     },
     "execution_count": 45,
     "metadata": {},
     "output_type": "execute_result"
    }
   ],
   "source": [
    "df_churn['monthlycharges'].median()"
   ]
  },
  {
   "cell_type": "markdown",
   "id": "23ec3aee",
   "metadata": {},
   "source": [
    "Среднее значение ежемесячного платежа для ушедших клинтов было - 74.4, минимальное значение - 18.9, максимальное значение платежа - 118.4, медианное значение - 79.6. Величина 25%- квартили - 56.1, 75%-квартили - 94.2. "
   ]
  },
  {
   "cell_type": "code",
   "execution_count": 46,
   "id": "86f3f53f",
   "metadata": {},
   "outputs": [
    {
     "data": {
      "text/plain": [
       "<AxesSubplot:>"
      ]
     },
     "execution_count": 46,
     "metadata": {},
     "output_type": "execute_result"
    },
    {
     "data": {
      "image/png": "[encoded data removed]",
      "text/plain": [
       "<Figure size 432x288 with 1 Axes>"
      ]
     },
     "metadata": {
      "needs_background": "light"
     },
     "output_type": "display_data"
    }
   ],
   "source": [
    "df_churn['monthlycharges'].hist(bins = 50) # гистограмма распределения ежемесячного платёжа по ушедшим клиентам"
   ]
  },
  {
   "cell_type": "code",
   "execution_count": 47,
   "id": "6933f8f4",
   "metadata": {},
   "outputs": [
    {
     "data": {
      "image/png": "[encoded data removed]",
      "text/plain": [
       "<Figure size 432x288 with 1 Axes>"
      ]
     },
     "metadata": {
      "needs_background": "light"
     },
     "output_type": "display_data"
    }
   ],
   "source": [
    "boxplot = df_churn.boxplot(column=['monthlycharges']) \n",
    "# распределение данных на графике \"ящик с усами\", на котором видно всю указанную выше статистическую информацию"
   ]
  },
  {
   "cell_type": "code",
   "execution_count": 48,
   "id": "e54d6fbf",
   "metadata": {},
   "outputs": [
    {
     "data": {
      "text/plain": [
       "(1869, 24)"
      ]
     },
     "execution_count": 48,
     "metadata": {},
     "output_type": "execute_result"
    }
   ],
   "source": [
    "df_churn.shape # напомним размер выборки"
   ]
  },
  {
   "cell_type": "code",
   "execution_count": 49,
   "id": "25ade2b1",
   "metadata": {},
   "outputs": [
    {
     "name": "stderr",
     "output_type": "stream",
     "text": [
      "/tmp/ipykernel_600/784367437.py:1: SettingWithCopyWarning: \n",
      "A value is trying to be set on a copy of a slice from a DataFrame.\n",
      "Try using .loc[row_indexer,col_indexer] = value instead\n",
      "\n",
      "See the caveats in the documentation: https://pandas.pydata.org/pandas-docs/stable/user_guide/indexing.html#returning-a-view-versus-a-copy\n",
      "  df_churn['internetservice'] = df_churn['internetservice'].fillna('No_internet')\n",
      "/tmp/ipykernel_600/784367437.py:2: SettingWithCopyWarning: \n",
      "A value is trying to be set on a copy of a slice from a DataFrame.\n",
      "Try using .loc[row_indexer,col_indexer] = value instead\n",
      "\n",
      "See the caveats in the documentation: https://pandas.pydata.org/pandas-docs/stable/user_guide/indexing.html#returning-a-view-versus-a-copy\n",
      "  df_churn['multiplelines'] = df_churn['multiplelines'].fillna('No_phone')\n"
     ]
    }
   ],
   "source": [
    "df_churn['internetservice'] = df_churn['internetservice'].fillna('No_internet')\n",
    "df_churn['multiplelines'] = df_churn['multiplelines'].fillna('No_phone')"
   ]
  },
  {
   "cell_type": "code",
   "execution_count": 50,
   "id": "61f1984a",
   "metadata": {},
   "outputs": [
    {
     "data": {
      "text/plain": [
       "array(['DSL', 'Fiber optic', 'No_internet'], dtype=object)"
      ]
     },
     "execution_count": 50,
     "metadata": {},
     "output_type": "execute_result"
    }
   ],
   "source": [
    "df_churn['internetservice'].unique()"
   ]
  },
  {
   "cell_type": "code",
   "execution_count": 51,
   "id": "9f9d023c",
   "metadata": {},
   "outputs": [
    {
     "data": {
      "text/plain": [
       "array(['No', 'Yes', 'No_phone'], dtype=object)"
      ]
     },
     "execution_count": 51,
     "metadata": {},
     "output_type": "execute_result"
    }
   ],
   "source": [
    "df_churn['multiplelines'].unique()"
   ]
  },
  {
   "cell_type": "markdown",
   "id": "fe95c4b1",
   "metadata": {},
   "source": [
    "Ведем новое поле phone_internet, в котором значение 0 для тех, кто пользовался только телефонной связью, 1 - если подключен только интернет, 2 - если были и интернет и телефон. "
   ]
  },
  {
   "cell_type": "code",
   "execution_count": 52,
   "id": "f2da368e",
   "metadata": {},
   "outputs": [
    {
     "name": "stderr",
     "output_type": "stream",
     "text": [
      "/opt/conda/lib/python3.9/site-packages/pandas/core/indexing.py:1599: SettingWithCopyWarning: \n",
      "A value is trying to be set on a copy of a slice from a DataFrame.\n",
      "Try using .loc[row_indexer,col_indexer] = value instead\n",
      "\n",
      "See the caveats in the documentation: https://pandas.pydata.org/pandas-docs/stable/user_guide/indexing.html#returning-a-view-versus-a-copy\n",
      "  self.obj[key] = infer_fill_value(value)\n",
      "/opt/conda/lib/python3.9/site-packages/pandas/core/indexing.py:1720: SettingWithCopyWarning: \n",
      "A value is trying to be set on a copy of a slice from a DataFrame.\n",
      "Try using .loc[row_indexer,col_indexer] = value instead\n",
      "\n",
      "See the caveats in the documentation: https://pandas.pydata.org/pandas-docs/stable/user_guide/indexing.html#returning-a-view-versus-a-copy\n",
      "  self._setitem_single_column(loc, value, pi)\n",
      "/tmp/ipykernel_600/144968195.py:3: SettingWithCopyWarning: \n",
      "A value is trying to be set on a copy of a slice from a DataFrame.\n",
      "Try using .loc[row_indexer,col_indexer] = value instead\n",
      "\n",
      "See the caveats in the documentation: https://pandas.pydata.org/pandas-docs/stable/user_guide/indexing.html#returning-a-view-versus-a-copy\n",
      "  df_churn['phone_internet'] = df_churn['phone_internet'].fillna(2) # 2 если есть интернет и телефон\n"
     ]
    }
   ],
   "source": [
    "df_churn.loc[df_churn['internetservice'] == 'No_internet', 'phone_internet'] = 0  # 0 если только телефон\n",
    "df_churn.loc[df_churn['multiplelines'] == 'No_phone', 'phone_internet'] = 1 # 1 если есть только интернет\n",
    "df_churn['phone_internet'] = df_churn['phone_internet'].fillna(2) # 2 если есть интернет и телефон"
   ]
  },
  {
   "cell_type": "markdown",
   "id": "3fe871db",
   "metadata": {},
   "source": [
    "На круговой диаграмме отобразим процент среди ушедших пользователей: <br>\n",
    "долю пользователей телефонной связи - 6 %;\n",
    "долю интернет-пользователей - 9% ."
   ]
  },
  {
   "cell_type": "code",
   "execution_count": 53,
   "id": "b997d00c",
   "metadata": {},
   "outputs": [
    {
     "data": {
      "text/plain": [
       "<AxesSubplot:ylabel='internetservice'>"
      ]
     },
     "execution_count": 53,
     "metadata": {},
     "output_type": "execute_result"
    },
    {
     "data": {
      "image/png": "[encoded data removed]",
      "text/plain": [
       "<Figure size 432x288 with 1 Axes>"
      ]
     },
     "metadata": {},
     "output_type": "display_data"
    }
   ],
   "source": [
    "df_churn_total = df_churn.groupby('phone_internet')['internetservice'].count().sort_values()\n",
    "df_churn_total.plot.pie(autopct='%1.1f%%', labels = ['Phone only', 'Internet only', 'All Services'])"
   ]
  },
  {
   "cell_type": "markdown",
   "id": "ebe1a552",
   "metadata": {},
   "source": [
    "    - для всех клиентов:"
   ]
  },
  {
   "cell_type": "code",
   "execution_count": 54,
   "id": "0067b107",
   "metadata": {},
   "outputs": [
    {
     "data": {
      "text/plain": [
       "count    7043.000000\n",
       "mean       64.761692\n",
       "std        30.090047\n",
       "min        18.250000\n",
       "25%        35.500000\n",
       "50%        70.350000\n",
       "75%        89.850000\n",
       "max       118.750000\n",
       "Name: monthlycharges, dtype: float64"
      ]
     },
     "execution_count": 54,
     "metadata": {},
     "output_type": "execute_result"
    }
   ],
   "source": [
    "df['monthlycharges'].describe() "
   ]
  },
  {
   "cell_type": "code",
   "execution_count": 55,
   "id": "ff7efe14",
   "metadata": {},
   "outputs": [
    {
     "data": {
      "text/plain": [
       "70.35"
      ]
     },
     "execution_count": 55,
     "metadata": {},
     "output_type": "execute_result"
    }
   ],
   "source": [
    "df['monthlycharges'].median()"
   ]
  },
  {
   "cell_type": "markdown",
   "id": "7fd1174d",
   "metadata": {},
   "source": [
    "Среднее значение ежемесячного платежа для всех клинтов - 64,8, минимальное значение - 18.3, максимальное значение платежа - 118.8, медианное значение - 70.4. Величина 25%- квартили - 35,5, 75%-квартили - 89,9. "
   ]
  },
  {
   "cell_type": "code",
   "execution_count": 56,
   "id": "73634518",
   "metadata": {},
   "outputs": [
    {
     "data": {
      "text/plain": [
       "<AxesSubplot:>"
      ]
     },
     "execution_count": 56,
     "metadata": {},
     "output_type": "execute_result"
    },
    {
     "data": {
      "image/png": "[encoded data removed]",
      "text/plain": [
       "<Figure size 432x288 with 1 Axes>"
      ]
     },
     "metadata": {
      "needs_background": "light"
     },
     "output_type": "display_data"
    }
   ],
   "source": [
    "df['monthlycharges'].hist(bins = 50) # гистограмма распределения ежемесячного платёжа по всем клиентам"
   ]
  },
  {
   "cell_type": "code",
   "execution_count": 57,
   "id": "d4bd7f3b",
   "metadata": {},
   "outputs": [
    {
     "data": {
      "image/png": "[encoded data removed]",
      "text/plain": [
       "<Figure size 432x288 with 1 Axes>"
      ]
     },
     "metadata": {
      "needs_background": "light"
     },
     "output_type": "display_data"
    }
   ],
   "source": [
    "boxplot2 = df.boxplot(column=['monthlycharges']) \n",
    "# распределение данных на графике \"ящик с усами\", на котором видно всю указанную выше статистическую информацию"
   ]
  },
  {
   "cell_type": "markdown",
   "id": "6c14e02a",
   "metadata": {},
   "source": [
    "Уберем выбросы, находящиеся за 1.5 межквартальным интервалом, добавленного к Q3, для этого:"
   ]
  },
  {
   "cell_type": "code",
   "execution_count": 59,
   "id": "bfeaa13b",
   "metadata": {},
   "outputs": [
    {
     "data": {
      "text/plain": [
       "(7043, 24)"
      ]
     },
     "execution_count": 59,
     "metadata": {},
     "output_type": "execute_result"
    }
   ],
   "source": [
    "df.shape"
   ]
  },
  {
   "cell_type": "code",
   "execution_count": 60,
   "id": "9a6f854c",
   "metadata": {},
   "outputs": [],
   "source": [
    "df['internetservice'] = df['internetservice'].fillna('No_internet')\n",
    "df['multiplelines'] = df['multiplelines'].fillna('No_phone')"
   ]
  },
  {
   "cell_type": "code",
   "execution_count": 61,
   "id": "d8080eaf",
   "metadata": {},
   "outputs": [],
   "source": [
    "df.loc[df['internetservice'] == 'No_internet', 'phone_internet'] = 0  # 0 если только телефон\n",
    "df.loc[df['multiplelines'] == 'No_phone', 'phone_internet'] = 1 # 1 если есть только интернет\n",
    "df['phone_internet'] = df['phone_internet'].fillna(2) # 2 если есть интернет и телефон"
   ]
  },
  {
   "cell_type": "code",
   "execution_count": 62,
   "id": "16dbcafd",
   "metadata": {},
   "outputs": [
    {
     "data": {
      "text/plain": [
       "<AxesSubplot:ylabel='internetservice'>"
      ]
     },
     "execution_count": 62,
     "metadata": {},
     "output_type": "execute_result"
    },
    {
     "data": {
      "image/png": "[encoded data removed]",
      "text/plain": [
       "<Figure size 432x288 with 1 Axes>"
      ]
     },
     "metadata": {},
     "output_type": "display_data"
    }
   ],
   "source": [
    "df_total = df.groupby('phone_internet')['internetservice'].count().sort_values()\n",
    "df_total\n",
    "df_total.plot.pie(autopct='%1.1f%%', labels = ['Phone only', 'Internet only', 'All Services'])\n"
   ]
  },
  {
   "cell_type": "markdown",
   "id": "545c469a",
   "metadata": {},
   "source": [
    "На круговой диаграмме отобразим процент среди пользователей: <br>\n",
    "долю пользователей телефонной связи - 10%;\n",
    "долю интернет-пользователей - 23% ."
   ]
  },
  {
   "cell_type": "code",
   "execution_count": 63,
   "id": "587991ba",
   "metadata": {},
   "outputs": [
    {
     "name": "stdout",
     "output_type": "stream",
     "text": [
      "<class 'pandas.core.frame.DataFrame'>\n",
      "Int64Index: 7043 entries, 0 to 7042\n",
      "Data columns (total 25 columns):\n",
      " #   Column            Non-Null Count  Dtype         \n",
      "---  ------            --------------  -----         \n",
      " 0   customerid        7043 non-null   object        \n",
      " 1   begindate         7043 non-null   datetime64[ns]\n",
      " 2   enddate           1869 non-null   datetime64[ns]\n",
      " 3   type              7043 non-null   object        \n",
      " 4   paperlessbilling  7043 non-null   object        \n",
      " 5   paymentmethod     7043 non-null   object        \n",
      " 6   monthlycharges    7043 non-null   float64       \n",
      " 7   totalcharges      7043 non-null   float64       \n",
      " 8   churn             7043 non-null   bool          \n",
      " 9   churn_digit       7043 non-null   float64       \n",
      " 10  months            7043 non-null   int64         \n",
      " 11  day               7043 non-null   float32       \n",
      " 12  internetservice   7043 non-null   object        \n",
      " 13  onlinesecurity    5517 non-null   object        \n",
      " 14  onlinebackup      5517 non-null   object        \n",
      " 15  deviceprotection  5517 non-null   object        \n",
      " 16  techsupport       5517 non-null   object        \n",
      " 17  streamingtv       5517 non-null   object        \n",
      " 18  streamingmovies   5517 non-null   object        \n",
      " 19  gender            7043 non-null   object        \n",
      " 20  seniorcitizen     7043 non-null   int64         \n",
      " 21  partner           7043 non-null   object        \n",
      " 22  dependents        7043 non-null   object        \n",
      " 23  multiplelines     7043 non-null   object        \n",
      " 24  phone_internet    7043 non-null   float64       \n",
      "dtypes: bool(1), datetime64[ns](2), float32(1), float64(4), int64(2), object(15)\n",
      "memory usage: 1.3+ MB\n"
     ]
    }
   ],
   "source": [
    "df.info()"
   ]
  },
  {
   "cell_type": "markdown",
   "id": "5ce69d52",
   "metadata": {},
   "source": [
    "1. Проведем кодирование данных:"
   ]
  },
  {
   "cell_type": "code",
   "execution_count": 64,
   "id": "f6359e19",
   "metadata": {},
   "outputs": [],
   "source": [
    "df = df.drop(columns = ['customerid', 'churn', 'begindate', 'enddate']) \n",
    "# удалим столбцы, так как они не имеют значение для дальнейшего исследования"
   ]
  },
  {
   "cell_type": "code",
   "execution_count": 65,
   "id": "7c532751",
   "metadata": {},
   "outputs": [
    {
     "name": "stdout",
     "output_type": "stream",
     "text": [
      "<class 'pandas.core.frame.DataFrame'>\n",
      "Int64Index: 7043 entries, 0 to 7042\n",
      "Data columns (total 21 columns):\n",
      " #   Column            Non-Null Count  Dtype  \n",
      "---  ------            --------------  -----  \n",
      " 0   type              7043 non-null   object \n",
      " 1   paperlessbilling  7043 non-null   object \n",
      " 2   paymentmethod     7043 non-null   object \n",
      " 3   monthlycharges    7043 non-null   float64\n",
      " 4   totalcharges      7043 non-null   float64\n",
      " 5   churn_digit       7043 non-null   float64\n",
      " 6   months            7043 non-null   int64  \n",
      " 7   day               7043 non-null   float32\n",
      " 8   internetservice   7043 non-null   object \n",
      " 9   onlinesecurity    5517 non-null   object \n",
      " 10  onlinebackup      5517 non-null   object \n",
      " 11  deviceprotection  5517 non-null   object \n",
      " 12  techsupport       5517 non-null   object \n",
      " 13  streamingtv       5517 non-null   object \n",
      " 14  streamingmovies   5517 non-null   object \n",
      " 15  gender            7043 non-null   object \n",
      " 16  seniorcitizen     7043 non-null   int64  \n",
      " 17  partner           7043 non-null   object \n",
      " 18  dependents        7043 non-null   object \n",
      " 19  multiplelines     7043 non-null   object \n",
      " 20  phone_internet    7043 non-null   float64\n",
      "dtypes: float32(1), float64(4), int64(2), object(14)\n",
      "memory usage: 1.2+ MB\n"
     ]
    }
   ],
   "source": [
    "df.info() # проверим, что осталось"
   ]
  },
  {
   "cell_type": "code",
   "execution_count": 66,
   "id": "ce0c44f0",
   "metadata": {},
   "outputs": [],
   "source": [
    "df_ohe = pd.get_dummies(df, drop_first=True) # произведем кодирование номинальных переменных"
   ]
  },
  {
   "cell_type": "code",
   "execution_count": 67,
   "id": "7662be73",
   "metadata": {},
   "outputs": [
    {
     "name": "stdout",
     "output_type": "stream",
     "text": [
      "<class 'pandas.core.frame.DataFrame'>\n",
      "Int64Index: 7043 entries, 0 to 7042\n",
      "Data columns (total 26 columns):\n",
      " #   Column                                 Non-Null Count  Dtype  \n",
      "---  ------                                 --------------  -----  \n",
      " 0   monthlycharges                         7043 non-null   float64\n",
      " 1   totalcharges                           7043 non-null   float64\n",
      " 2   churn_digit                            7043 non-null   float64\n",
      " 3   months                                 7043 non-null   int64  \n",
      " 4   day                                    7043 non-null   float32\n",
      " 5   seniorcitizen                          7043 non-null   int64  \n",
      " 6   phone_internet                         7043 non-null   float64\n",
      " 7   type_One year                          7043 non-null   uint8  \n",
      " 8   type_Two year                          7043 non-null   uint8  \n",
      " 9   paperlessbilling_Yes                   7043 non-null   uint8  \n",
      " 10  paymentmethod_Credit card (automatic)  7043 non-null   uint8  \n",
      " 11  paymentmethod_Electronic check         7043 non-null   uint8  \n",
      " 12  paymentmethod_Mailed check             7043 non-null   uint8  \n",
      " 13  internetservice_Fiber optic            7043 non-null   uint8  \n",
      " 14  internetservice_No_internet            7043 non-null   uint8  \n",
      " 15  onlinesecurity_Yes                     7043 non-null   uint8  \n",
      " 16  onlinebackup_Yes                       7043 non-null   uint8  \n",
      " 17  deviceprotection_Yes                   7043 non-null   uint8  \n",
      " 18  techsupport_Yes                        7043 non-null   uint8  \n",
      " 19  streamingtv_Yes                        7043 non-null   uint8  \n",
      " 20  streamingmovies_Yes                    7043 non-null   uint8  \n",
      " 21  gender_Male                            7043 non-null   uint8  \n",
      " 22  partner_Yes                            7043 non-null   uint8  \n",
      " 23  dependents_Yes                         7043 non-null   uint8  \n",
      " 24  multiplelines_No_phone                 7043 non-null   uint8  \n",
      " 25  multiplelines_Yes                      7043 non-null   uint8  \n",
      "dtypes: float32(1), float64(4), int64(2), uint8(19)\n",
      "memory usage: 543.4 KB\n"
     ]
    }
   ],
   "source": [
    "df_ohe.info() # проверим результат кодирования"
   ]
  },
  {
   "cell_type": "code",
   "execution_count": 68,
   "id": "e11967c2",
   "metadata": {},
   "outputs": [
    {
     "data": {
      "text/html": [
       "<div>\n",
       "<style scoped>\n",
       "    .dataframe tbody tr th:only-of-type {\n",
       "        vertical-align: middle;\n",
       "    }\n",
       "\n",
       "    .dataframe tbody tr th {\n",
       "        vertical-align: top;\n",
       "    }\n",
       "\n",
       "    .dataframe thead th {\n",
       "        text-align: right;\n",
       "    }\n",
       "</style>\n",
       "<table border=\"1\" class=\"dataframe\">\n",
       "  <thead>\n",
       "    <tr style=\"text-align: right;\">\n",
       "      <th></th>\n",
       "      <th>monthlycharges</th>\n",
       "      <th>totalcharges</th>\n",
       "      <th>churn_digit</th>\n",
       "      <th>months</th>\n",
       "      <th>day</th>\n",
       "      <th>seniorcitizen</th>\n",
       "      <th>phone_internet</th>\n",
       "      <th>type_One year</th>\n",
       "      <th>type_Two year</th>\n",
       "      <th>paperlessbilling_Yes</th>\n",
       "      <th>...</th>\n",
       "      <th>onlinebackup_Yes</th>\n",
       "      <th>deviceprotection_Yes</th>\n",
       "      <th>techsupport_Yes</th>\n",
       "      <th>streamingtv_Yes</th>\n",
       "      <th>streamingmovies_Yes</th>\n",
       "      <th>gender_Male</th>\n",
       "      <th>partner_Yes</th>\n",
       "      <th>dependents_Yes</th>\n",
       "      <th>multiplelines_No_phone</th>\n",
       "      <th>multiplelines_Yes</th>\n",
       "    </tr>\n",
       "  </thead>\n",
       "  <tbody>\n",
       "    <tr>\n",
       "      <th>0</th>\n",
       "      <td>29.85</td>\n",
       "      <td>29.85</td>\n",
       "      <td>0.0</td>\n",
       "      <td>1</td>\n",
       "      <td>2.678400e+15</td>\n",
       "      <td>0</td>\n",
       "      <td>1.0</td>\n",
       "      <td>0</td>\n",
       "      <td>0</td>\n",
       "      <td>1</td>\n",
       "      <td>...</td>\n",
       "      <td>1</td>\n",
       "      <td>0</td>\n",
       "      <td>0</td>\n",
       "      <td>0</td>\n",
       "      <td>0</td>\n",
       "      <td>0</td>\n",
       "      <td>1</td>\n",
       "      <td>0</td>\n",
       "      <td>1</td>\n",
       "      <td>0</td>\n",
       "    </tr>\n",
       "    <tr>\n",
       "      <th>1</th>\n",
       "      <td>56.95</td>\n",
       "      <td>1889.50</td>\n",
       "      <td>0.0</td>\n",
       "      <td>34</td>\n",
       "      <td>8.951040e+16</td>\n",
       "      <td>0</td>\n",
       "      <td>2.0</td>\n",
       "      <td>1</td>\n",
       "      <td>0</td>\n",
       "      <td>0</td>\n",
       "      <td>...</td>\n",
       "      <td>0</td>\n",
       "      <td>1</td>\n",
       "      <td>0</td>\n",
       "      <td>0</td>\n",
       "      <td>0</td>\n",
       "      <td>1</td>\n",
       "      <td>0</td>\n",
       "      <td>0</td>\n",
       "      <td>0</td>\n",
       "      <td>0</td>\n",
       "    </tr>\n",
       "    <tr>\n",
       "      <th>2</th>\n",
       "      <td>53.85</td>\n",
       "      <td>108.15</td>\n",
       "      <td>1.0</td>\n",
       "      <td>2</td>\n",
       "      <td>5.270400e+15</td>\n",
       "      <td>0</td>\n",
       "      <td>2.0</td>\n",
       "      <td>0</td>\n",
       "      <td>0</td>\n",
       "      <td>1</td>\n",
       "      <td>...</td>\n",
       "      <td>1</td>\n",
       "      <td>0</td>\n",
       "      <td>0</td>\n",
       "      <td>0</td>\n",
       "      <td>0</td>\n",
       "      <td>1</td>\n",
       "      <td>0</td>\n",
       "      <td>0</td>\n",
       "      <td>0</td>\n",
       "      <td>0</td>\n",
       "    </tr>\n",
       "    <tr>\n",
       "      <th>3</th>\n",
       "      <td>42.30</td>\n",
       "      <td>1840.75</td>\n",
       "      <td>0.0</td>\n",
       "      <td>45</td>\n",
       "      <td>1.184544e+17</td>\n",
       "      <td>0</td>\n",
       "      <td>1.0</td>\n",
       "      <td>1</td>\n",
       "      <td>0</td>\n",
       "      <td>0</td>\n",
       "      <td>...</td>\n",
       "      <td>0</td>\n",
       "      <td>1</td>\n",
       "      <td>1</td>\n",
       "      <td>0</td>\n",
       "      <td>0</td>\n",
       "      <td>1</td>\n",
       "      <td>0</td>\n",
       "      <td>0</td>\n",
       "      <td>1</td>\n",
       "      <td>0</td>\n",
       "    </tr>\n",
       "    <tr>\n",
       "      <th>4</th>\n",
       "      <td>70.70</td>\n",
       "      <td>151.65</td>\n",
       "      <td>1.0</td>\n",
       "      <td>2</td>\n",
       "      <td>5.270400e+15</td>\n",
       "      <td>0</td>\n",
       "      <td>2.0</td>\n",
       "      <td>0</td>\n",
       "      <td>0</td>\n",
       "      <td>1</td>\n",
       "      <td>...</td>\n",
       "      <td>0</td>\n",
       "      <td>0</td>\n",
       "      <td>0</td>\n",
       "      <td>0</td>\n",
       "      <td>0</td>\n",
       "      <td>0</td>\n",
       "      <td>0</td>\n",
       "      <td>0</td>\n",
       "      <td>0</td>\n",
       "      <td>0</td>\n",
       "    </tr>\n",
       "    <tr>\n",
       "      <th>...</th>\n",
       "      <td>...</td>\n",
       "      <td>...</td>\n",
       "      <td>...</td>\n",
       "      <td>...</td>\n",
       "      <td>...</td>\n",
       "      <td>...</td>\n",
       "      <td>...</td>\n",
       "      <td>...</td>\n",
       "      <td>...</td>\n",
       "      <td>...</td>\n",
       "      <td>...</td>\n",
       "      <td>...</td>\n",
       "      <td>...</td>\n",
       "      <td>...</td>\n",
       "      <td>...</td>\n",
       "      <td>...</td>\n",
       "      <td>...</td>\n",
       "      <td>...</td>\n",
       "      <td>...</td>\n",
       "      <td>...</td>\n",
       "      <td>...</td>\n",
       "    </tr>\n",
       "    <tr>\n",
       "      <th>7038</th>\n",
       "      <td>84.80</td>\n",
       "      <td>1990.50</td>\n",
       "      <td>0.0</td>\n",
       "      <td>24</td>\n",
       "      <td>6.307200e+16</td>\n",
       "      <td>0</td>\n",
       "      <td>2.0</td>\n",
       "      <td>1</td>\n",
       "      <td>0</td>\n",
       "      <td>1</td>\n",
       "      <td>...</td>\n",
       "      <td>0</td>\n",
       "      <td>1</td>\n",
       "      <td>1</td>\n",
       "      <td>1</td>\n",
       "      <td>1</td>\n",
       "      <td>1</td>\n",
       "      <td>1</td>\n",
       "      <td>1</td>\n",
       "      <td>0</td>\n",
       "      <td>1</td>\n",
       "    </tr>\n",
       "    <tr>\n",
       "      <th>7039</th>\n",
       "      <td>103.20</td>\n",
       "      <td>7362.90</td>\n",
       "      <td>0.0</td>\n",
       "      <td>72</td>\n",
       "      <td>1.893024e+17</td>\n",
       "      <td>0</td>\n",
       "      <td>2.0</td>\n",
       "      <td>1</td>\n",
       "      <td>0</td>\n",
       "      <td>1</td>\n",
       "      <td>...</td>\n",
       "      <td>1</td>\n",
       "      <td>1</td>\n",
       "      <td>0</td>\n",
       "      <td>1</td>\n",
       "      <td>1</td>\n",
       "      <td>0</td>\n",
       "      <td>1</td>\n",
       "      <td>1</td>\n",
       "      <td>0</td>\n",
       "      <td>1</td>\n",
       "    </tr>\n",
       "    <tr>\n",
       "      <th>7040</th>\n",
       "      <td>29.60</td>\n",
       "      <td>346.45</td>\n",
       "      <td>0.0</td>\n",
       "      <td>11</td>\n",
       "      <td>2.911680e+16</td>\n",
       "      <td>0</td>\n",
       "      <td>1.0</td>\n",
       "      <td>0</td>\n",
       "      <td>0</td>\n",
       "      <td>1</td>\n",
       "      <td>...</td>\n",
       "      <td>0</td>\n",
       "      <td>0</td>\n",
       "      <td>0</td>\n",
       "      <td>0</td>\n",
       "      <td>0</td>\n",
       "      <td>0</td>\n",
       "      <td>1</td>\n",
       "      <td>1</td>\n",
       "      <td>1</td>\n",
       "      <td>0</td>\n",
       "    </tr>\n",
       "    <tr>\n",
       "      <th>7041</th>\n",
       "      <td>74.40</td>\n",
       "      <td>306.60</td>\n",
       "      <td>1.0</td>\n",
       "      <td>4</td>\n",
       "      <td>1.062720e+16</td>\n",
       "      <td>1</td>\n",
       "      <td>2.0</td>\n",
       "      <td>0</td>\n",
       "      <td>0</td>\n",
       "      <td>1</td>\n",
       "      <td>...</td>\n",
       "      <td>0</td>\n",
       "      <td>0</td>\n",
       "      <td>0</td>\n",
       "      <td>0</td>\n",
       "      <td>0</td>\n",
       "      <td>1</td>\n",
       "      <td>1</td>\n",
       "      <td>0</td>\n",
       "      <td>0</td>\n",
       "      <td>1</td>\n",
       "    </tr>\n",
       "    <tr>\n",
       "      <th>7042</th>\n",
       "      <td>105.65</td>\n",
       "      <td>6844.50</td>\n",
       "      <td>0.0</td>\n",
       "      <td>66</td>\n",
       "      <td>1.736640e+17</td>\n",
       "      <td>0</td>\n",
       "      <td>2.0</td>\n",
       "      <td>0</td>\n",
       "      <td>1</td>\n",
       "      <td>1</td>\n",
       "      <td>...</td>\n",
       "      <td>0</td>\n",
       "      <td>1</td>\n",
       "      <td>1</td>\n",
       "      <td>1</td>\n",
       "      <td>1</td>\n",
       "      <td>1</td>\n",
       "      <td>0</td>\n",
       "      <td>0</td>\n",
       "      <td>0</td>\n",
       "      <td>0</td>\n",
       "    </tr>\n",
       "  </tbody>\n",
       "</table>\n",
       "<p>7043 rows × 26 columns</p>\n",
       "</div>"
      ],
      "text/plain": [
       "      monthlycharges  totalcharges  churn_digit  months           day  \\\n",
       "0              29.85         29.85          0.0       1  2.678400e+15   \n",
       "1              56.95       1889.50          0.0      34  8.951040e+16   \n",
       "2              53.85        108.15          1.0       2  5.270400e+15   \n",
       "3              42.30       1840.75          0.0      45  1.184544e+17   \n",
       "4              70.70        151.65          1.0       2  5.270400e+15   \n",
       "...              ...           ...          ...     ...           ...   \n",
       "7038           84.80       1990.50          0.0      24  6.307200e+16   \n",
       "7039          103.20       7362.90          0.0      72  1.893024e+17   \n",
       "7040           29.60        346.45          0.0      11  2.911680e+16   \n",
       "7041           74.40        306.60          1.0       4  1.062720e+16   \n",
       "7042          105.65       6844.50          0.0      66  1.736640e+17   \n",
       "\n",
       "      seniorcitizen  phone_internet  type_One year  type_Two year  \\\n",
       "0                 0             1.0              0              0   \n",
       "1                 0             2.0              1              0   \n",
       "2                 0             2.0              0              0   \n",
       "3                 0             1.0              1              0   \n",
       "4                 0             2.0              0              0   \n",
       "...             ...             ...            ...            ...   \n",
       "7038              0             2.0              1              0   \n",
       "7039              0             2.0              1              0   \n",
       "7040              0             1.0              0              0   \n",
       "7041              1             2.0              0              0   \n",
       "7042              0             2.0              0              1   \n",
       "\n",
       "      paperlessbilling_Yes  ...  onlinebackup_Yes  deviceprotection_Yes  \\\n",
       "0                        1  ...                 1                     0   \n",
       "1                        0  ...                 0                     1   \n",
       "2                        1  ...                 1                     0   \n",
       "3                        0  ...                 0                     1   \n",
       "4                        1  ...                 0                     0   \n",
       "...                    ...  ...               ...                   ...   \n",
       "7038                     1  ...                 0                     1   \n",
       "7039                     1  ...                 1                     1   \n",
       "7040                     1  ...                 0                     0   \n",
       "7041                     1  ...                 0                     0   \n",
       "7042                     1  ...                 0                     1   \n",
       "\n",
       "      techsupport_Yes  streamingtv_Yes  streamingmovies_Yes  gender_Male  \\\n",
       "0                   0                0                    0            0   \n",
       "1                   0                0                    0            1   \n",
       "2                   0                0                    0            1   \n",
       "3                   1                0                    0            1   \n",
       "4                   0                0                    0            0   \n",
       "...               ...              ...                  ...          ...   \n",
       "7038                1                1                    1            1   \n",
       "7039                0                1                    1            0   \n",
       "7040                0                0                    0            0   \n",
       "7041                0                0                    0            1   \n",
       "7042                1                1                    1            1   \n",
       "\n",
       "      partner_Yes  dependents_Yes  multiplelines_No_phone  multiplelines_Yes  \n",
       "0               1               0                       1                  0  \n",
       "1               0               0                       0                  0  \n",
       "2               0               0                       0                  0  \n",
       "3               0               0                       1                  0  \n",
       "4               0               0                       0                  0  \n",
       "...           ...             ...                     ...                ...  \n",
       "7038            1               1                       0                  1  \n",
       "7039            1               1                       0                  1  \n",
       "7040            1               1                       1                  0  \n",
       "7041            1               0                       0                  1  \n",
       "7042            0               0                       0                  0  \n",
       "\n",
       "[7043 rows x 26 columns]"
      ]
     },
     "execution_count": 68,
     "metadata": {},
     "output_type": "execute_result"
    }
   ],
   "source": [
    "df_ohe"
   ]
  },
  {
   "cell_type": "code",
   "execution_count": 74,
   "id": "7a87ce77",
   "metadata": {},
   "outputs": [
    {
     "name": "stdout",
     "output_type": "stream",
     "text": [
      "<class 'pandas.core.frame.DataFrame'>\n",
      "Int64Index: 7043 entries, 0 to 7042\n",
      "Data columns (total 26 columns):\n",
      " #   Column                                 Non-Null Count  Dtype  \n",
      "---  ------                                 --------------  -----  \n",
      " 0   monthlycharges                         7043 non-null   float64\n",
      " 1   totalcharges                           7043 non-null   float64\n",
      " 2   churn_digit                            7043 non-null   float64\n",
      " 3   months                                 7043 non-null   int64  \n",
      " 4   day                                    7043 non-null   float32\n",
      " 5   seniorcitizen                          7043 non-null   int64  \n",
      " 6   phone_internet                         7043 non-null   float64\n",
      " 7   type_One year                          7043 non-null   uint8  \n",
      " 8   type_Two year                          7043 non-null   uint8  \n",
      " 9   paperlessbilling_Yes                   7043 non-null   uint8  \n",
      " 10  paymentmethod_Credit card (automatic)  7043 non-null   uint8  \n",
      " 11  paymentmethod_Electronic check         7043 non-null   uint8  \n",
      " 12  paymentmethod_Mailed check             7043 non-null   uint8  \n",
      " 13  internetservice_Fiber optic            7043 non-null   uint8  \n",
      " 14  internetservice_No_internet            7043 non-null   uint8  \n",
      " 15  onlinesecurity_Yes                     7043 non-null   uint8  \n",
      " 16  onlinebackup_Yes                       7043 non-null   uint8  \n",
      " 17  deviceprotection_Yes                   7043 non-null   uint8  \n",
      " 18  techsupport_Yes                        7043 non-null   uint8  \n",
      " 19  streamingtv_Yes                        7043 non-null   uint8  \n",
      " 20  streamingmovies_Yes                    7043 non-null   uint8  \n",
      " 21  gender_Male                            7043 non-null   uint8  \n",
      " 22  partner_Yes                            7043 non-null   uint8  \n",
      " 23  dependents_Yes                         7043 non-null   uint8  \n",
      " 24  multiplelines_No_phone                 7043 non-null   uint8  \n",
      " 25  multiplelines_Yes                      7043 non-null   uint8  \n",
      "dtypes: float32(1), float64(4), int64(2), uint8(19)\n",
      "memory usage: 543.4 KB\n"
     ]
    }
   ],
   "source": [
    "df_ohe.info()"
   ]
  },
  {
   "cell_type": "markdown",
   "id": "bfbcc6b2",
   "metadata": {},
   "source": [
    "2. Разобъем данные на выборки (обучающая, валидационная). На кроссвалидации определим лучшую модель, на тестовой определим метрику:"
   ]
  },
  {
   "cell_type": "code",
   "execution_count": 75,
   "id": "c23d365e",
   "metadata": {},
   "outputs": [],
   "source": [
    "df_valid, df_test = train_test_split(df_ohe, test_size=0.25, random_state=25072022) "
   ]
  },
  {
   "cell_type": "code",
   "execution_count": 76,
   "id": "2a1e2806",
   "metadata": {},
   "outputs": [
    {
     "data": {
      "text/plain": [
       "(1761, 26)"
      ]
     },
     "execution_count": 76,
     "metadata": {},
     "output_type": "execute_result"
    }
   ],
   "source": [
    "df_test.shape # размер тестовой выборки"
   ]
  },
  {
   "cell_type": "code",
   "execution_count": 77,
   "id": "18cb8132",
   "metadata": {},
   "outputs": [
    {
     "data": {
      "text/plain": [
       "(5282, 26)"
      ]
     },
     "execution_count": 77,
     "metadata": {},
     "output_type": "execute_result"
    }
   ],
   "source": [
    "df_valid.shape # размер валидациионной выборки"
   ]
  },
  {
   "cell_type": "markdown",
   "id": "8ed242fe",
   "metadata": {},
   "source": [
    "3. Создадим признаки: "
   ]
  },
  {
   "cell_type": "code",
   "execution_count": 78,
   "id": "7f4fb49d",
   "metadata": {},
   "outputs": [],
   "source": [
    "target_test = df_test['churn_digit'] # целевой признак тестовой выборки\n",
    "features_test = df_test.drop(['churn_digit'], axis=1) "
   ]
  },
  {
   "cell_type": "code",
   "execution_count": 79,
   "id": "ae7ea13b",
   "metadata": {},
   "outputs": [],
   "source": [
    "target_valid = df_valid['churn_digit'] # целевой признак валидационной выборки\n",
    "features_valid = df_valid.drop(['churn_digit'], axis=1) "
   ]
  },
  {
   "cell_type": "markdown",
   "id": "1e725592",
   "metadata": {},
   "source": [
    "4. Масштабирование данных: <br>\n",
    "Признаки имеют данные разного масштаба. Проведем масштабированое путем стандартизации данных:"
   ]
  },
  {
   "cell_type": "code",
   "execution_count": 80,
   "id": "263962be",
   "metadata": {},
   "outputs": [],
   "source": [
    "numeric = ['monthlycharges', 'totalcharges', 'months', 'day']\n",
    "scaler = StandardScaler()\n",
    "scaler.fit(features_test[numeric])\n",
    "features_test[numeric] = scaler.transform(features_test[numeric])\n",
    "features_valid[numeric] = scaler.transform(features_valid[numeric])\n",
    "pd.options.mode.chained_assignment = None # чтобы убрать предупреждение"
   ]
  },
  {
   "cell_type": "code",
   "execution_count": 81,
   "id": "09af1ce3",
   "metadata": {},
   "outputs": [
    {
     "name": "stdout",
     "output_type": "stream",
     "text": [
      "features_test: (1761, 25)\n",
      "target_test (1761,)\n",
      "features_valid (5282, 25)\n",
      "target_valid (5282,)\n"
     ]
    }
   ],
   "source": [
    "print(\"features_test:\", features_test.shape)\n",
    "print(\"target_test\", target_test.shape)\n",
    "print(\"features_valid\", features_valid.shape)\n",
    "print(\"target_valid\", target_valid.shape)"
   ]
  },
  {
   "cell_type": "markdown",
   "id": "f191b829",
   "metadata": {},
   "source": [
    "Так как целевой признак принимает одно из двух значений: 0 или 1, то задача предсказания будет являться задачей классификации. "
   ]
  },
  {
   "cell_type": "markdown",
   "id": "401e2f25",
   "metadata": {},
   "source": [
    "Проведем анализ важности признаков:"
   ]
  },
  {
   "cell_type": "markdown",
   "id": "9fbc2320",
   "metadata": {},
   "source": [
    "На примере модели Дерево решений"
   ]
  },
  {
   "cell_type": "code",
   "execution_count": 82,
   "id": "c380c4c6",
   "metadata": {},
   "outputs": [],
   "source": [
    "model_tree = DecisionTreeClassifier(class_weight = 'balanced', random_state=25072022)"
   ]
  },
  {
   "cell_type": "code",
   "execution_count": 83,
   "id": "7a857198",
   "metadata": {},
   "outputs": [],
   "source": [
    "tree_param = {'criterion':['gini','entropy'],'max_depth':[4,5,6,7,8,9,10,11,12,15,20,30,40,50,70,90,120,150]}\n",
    "#grid_tree = GridSearchCV(model_tree, tree_param, cv=5, scoring='roc_auc')  \n",
    "#grid_tree.fit(features_valid, target_valid)\n",
    "#grid_tree.best_params_  \n",
    "# подберем оптимальные параметры модели, закоментим, потому что долго"
   ]
  },
  {
   "cell_type": "code",
   "execution_count": 84,
   "id": "d12a8c15",
   "metadata": {},
   "outputs": [],
   "source": [
    "model_tree_optimal = DecisionTreeClassifier(class_weight = 'balanced', criterion = 'gini', max_depth = 6, random_state=25072022)\n",
    "model_tree_optimal.fit(features_valid, target_valid)\n",
    "prediction_tree_test = model_tree_optimal.predict(features_test)"
   ]
  },
  {
   "cell_type": "markdown",
   "id": "4f72189c",
   "metadata": {},
   "source": [
    "Проведем анализа важности факторов с помощью команды feature_importances_. \n",
    "Отберем топ 6 признаков, которые максимально влияют на целевой признак. В дальнейшем все исследование проведем с использованием этих признаков. "
   ]
  },
  {
   "cell_type": "code",
   "execution_count": 85,
   "id": "d30089de",
   "metadata": {},
   "outputs": [
    {
     "data": {
      "image/png": "[encoded data removed]",
      "text/plain": [
       "<Figure size 1152x1008 with 1 Axes>"
      ]
     },
     "metadata": {
      "needs_background": "light"
     },
     "output_type": "display_data"
    }
   ],
   "source": [
    "skl_iris_imp = pd.Series(model_tree_optimal.feature_importances_,\n",
    "                         df_ohe.drop(['churn_digit'], axis=1).columns)\n",
    "\n",
    "fig, ax = plt.subplots(figsize=(16,14))\n",
    "skl_iris_imp.plot.bar(ax=ax)\n",
    "ax.set_title(\"Важность признаков\")\n",
    "ax.set_ylabel('Важность')\n",
    "fig.tight_layout()"
   ]
  },
  {
   "cell_type": "markdown",
   "id": "9f5ae74d",
   "metadata": {},
   "source": [
    "Как видно из графика максимальное влияние на целевой признак оакзывают: 'type_One year', 'type_Two year', 'monthlycharges', 'totalcharges', 'months', 'internetservice_Fiber optic'. \n",
    "Остальные признаки имеют слабое значение, удалим их:"
   ]
  },
  {
   "cell_type": "code",
   "execution_count": 86,
   "id": "f391b3a3",
   "metadata": {},
   "outputs": [
    {
     "name": "stdout",
     "output_type": "stream",
     "text": [
      "<class 'pandas.core.frame.DataFrame'>\n",
      "Int64Index: 7043 entries, 0 to 7042\n",
      "Data columns (total 7 columns):\n",
      " #   Column                       Non-Null Count  Dtype  \n",
      "---  ------                       --------------  -----  \n",
      " 0   monthlycharges               7043 non-null   float64\n",
      " 1   totalcharges                 7043 non-null   float64\n",
      " 2   churn_digit                  7043 non-null   float64\n",
      " 3   day                          7043 non-null   float32\n",
      " 4   type_One year                7043 non-null   uint8  \n",
      " 5   type_Two year                7043 non-null   uint8  \n",
      " 6   internetservice_Fiber optic  7043 non-null   uint8  \n",
      "dtypes: float32(1), float64(3), uint8(3)\n",
      "memory usage: 268.2 KB\n"
     ]
    }
   ],
   "source": [
    "df_ohe_drop = df_ohe.drop(columns = ['months', 'partner_Yes', 'dependents_Yes', 'seniorcitizen', 'paymentmethod_Credit card (automatic)', 'paymentmethod_Electronic check', 'paymentmethod_Mailed check', 'phone_internet', 'internetservice_No_internet', 'onlinesecurity_Yes', 'onlinebackup_Yes', 'deviceprotection_Yes', 'streamingtv_Yes', 'streamingmovies_Yes', 'gender_Male', 'multiplelines_No_phone', 'multiplelines_Yes', 'paperlessbilling_Yes', 'techsupport_Yes', 'partner_Yes']) \n",
    "df_ohe_drop.info()"
   ]
  },
  {
   "cell_type": "markdown",
   "id": "46740144",
   "metadata": {},
   "source": [
    "Далее с полученным датафреймом заново разобьем данные на выборки и дальнейшее исследование проведем с полученными DF."
   ]
  },
  {
   "cell_type": "code",
   "execution_count": 87,
   "id": "04addbbb",
   "metadata": {},
   "outputs": [],
   "source": [
    "df_valid_drop, df_test_drop = train_test_split(df_ohe_drop, test_size=0.25, random_state=25072022) "
   ]
  },
  {
   "cell_type": "code",
   "execution_count": 88,
   "id": "fcb626dd",
   "metadata": {},
   "outputs": [],
   "source": [
    "target_test_drop = df_test_drop['churn_digit'] # целевой признак тестовой выборки\n",
    "features_test_drop = df_test_drop.drop(['churn_digit'], axis=1) "
   ]
  },
  {
   "cell_type": "code",
   "execution_count": 89,
   "id": "fa99d7b7",
   "metadata": {},
   "outputs": [],
   "source": [
    "target_valid_drop = df_valid_drop['churn_digit'] # целевой признак валидационной выборки\n",
    "features_valid_drop = df_valid_drop.drop(['churn_digit'], axis=1) "
   ]
  },
  {
   "cell_type": "code",
   "execution_count": 90,
   "id": "530880c9",
   "metadata": {},
   "outputs": [],
   "source": [
    "numeric = ['monthlycharges', 'totalcharges', 'day']\n",
    "scaler = StandardScaler()\n",
    "scaler.fit(features_test_drop[numeric])\n",
    "features_test_drop[numeric] = scaler.transform(features_test_drop[numeric])\n",
    "features_valid_drop[numeric] = scaler.transform(features_valid_drop[numeric])\n",
    "pd.options.mode.chained_assignment = None # чтобы убрать предупреждение"
   ]
  },
  {
   "cell_type": "code",
   "execution_count": 91,
   "id": "2c81b0bf",
   "metadata": {},
   "outputs": [
    {
     "name": "stdout",
     "output_type": "stream",
     "text": [
      "features_test_drop: (1761, 6)\n",
      "target_test_drop (1761,)\n",
      "features_valid_drop (5282, 6)\n",
      "target_valid_drop (5282,)\n"
     ]
    }
   ],
   "source": [
    "print(\"features_test_drop:\", features_test_drop.shape)\n",
    "print(\"target_test_drop\", target_test_drop.shape)\n",
    "print(\"features_valid_drop\", features_valid_drop.shape)\n",
    "print(\"target_valid_drop\", target_valid_drop.shape)"
   ]
  },
  {
   "cell_type": "markdown",
   "id": "ec18c56f",
   "metadata": {},
   "source": [
    "Проведем борьбу с дисбалансом. \n",
    "Объектов отрицательного класса больше. Продублируем объекты положительного класса и объединим их с объектами отрицательного класса."
   ]
  },
  {
   "cell_type": "code",
   "execution_count": 92,
   "id": "b6722ac1",
   "metadata": {},
   "outputs": [],
   "source": [
    "def upsample(features, target, repeat): \n",
    "    features_zeros = features[target == 0] #  разделим обучающую выборку на отрицательные и положительные объекты\n",
    "    features_ones = features[target == 1]\n",
    "    target_zeros = target[target == 0]\n",
    "    target_ones = target[target == 1]\n",
    "    \n",
    "    features_upsampled = pd.concat([features_zeros] + [features_ones] * repeat)\n",
    "    target_upsampled = pd.concat([target_zeros] + [target_ones] * repeat)\n",
    "    \n",
    "    features_upsampled, target_upsampled = shuffle(features_upsampled, target_upsampled, random_state=12345) \n",
    "    return features_upsampled, target_upsampled \n",
    "\n",
    "features_upsampled, target_upsampled = upsample(features_valid_drop, target_valid_drop, 10)"
   ]
  },
  {
   "cell_type": "markdown",
   "id": "0be6e700",
   "metadata": {},
   "source": [
    "## Исследование моделей"
   ]
  },
  {
   "cell_type": "markdown",
   "id": "99552415",
   "metadata": {},
   "source": [
    "Исследуем несколько моделей и выберем лучший результат."
   ]
  },
  {
   "cell_type": "markdown",
   "id": "e190f216",
   "metadata": {},
   "source": [
    "1. Логистическая регрессия"
   ]
  },
  {
   "cell_type": "code",
   "execution_count": 93,
   "id": "8d460196",
   "metadata": {
    "scrolled": true
   },
   "outputs": [
    {
     "name": "stderr",
     "output_type": "stream",
     "text": [
      "/opt/conda/lib/python3.9/site-packages/sklearn/model_selection/_validation.py:610: FitFailedWarning: Estimator fit failed. The score on this train-test partition for these parameters will be set to nan. Details: \n",
      "Traceback (most recent call last):\n",
      "  File \"/opt/conda/lib/python3.9/site-packages/sklearn/model_selection/_validation.py\", line 593, in _fit_and_score\n",
      "    estimator.fit(X_train, y_train, **fit_params)\n",
      "  File \"/opt/conda/lib/python3.9/site-packages/sklearn/linear_model/_logistic.py\", line 1306, in fit\n",
      "    solver = _check_solver(self.solver, self.penalty, self.dual)\n",
      "  File \"/opt/conda/lib/python3.9/site-packages/sklearn/linear_model/_logistic.py\", line 443, in _check_solver\n",
      "    raise ValueError(\"Solver %s supports only 'l2' or 'none' penalties, \"\n",
      "ValueError: Solver lbfgs supports only 'l2' or 'none' penalties, got l1 penalty.\n",
      "\n",
      "  warnings.warn(\"Estimator fit failed. The score on this train-test\"\n",
      "/opt/conda/lib/python3.9/site-packages/sklearn/model_selection/_validation.py:610: FitFailedWarning: Estimator fit failed. The score on this train-test partition for these parameters will be set to nan. Details: \n",
      "Traceback (most recent call last):\n",
      "  File \"/opt/conda/lib/python3.9/site-packages/sklearn/model_selection/_validation.py\", line 593, in _fit_and_score\n",
      "    estimator.fit(X_train, y_train, **fit_params)\n",
      "  File \"/opt/conda/lib/python3.9/site-packages/sklearn/linear_model/_logistic.py\", line 1306, in fit\n",
      "    solver = _check_solver(self.solver, self.penalty, self.dual)\n",
      "  File \"/opt/conda/lib/python3.9/site-packages/sklearn/linear_model/_logistic.py\", line 443, in _check_solver\n",
      "    raise ValueError(\"Solver %s supports only 'l2' or 'none' penalties, \"\n",
      "ValueError: Solver lbfgs supports only 'l2' or 'none' penalties, got l1 penalty.\n",
      "\n",
      "  warnings.warn(\"Estimator fit failed. The score on this train-test\"\n",
      "/opt/conda/lib/python3.9/site-packages/sklearn/model_selection/_validation.py:610: FitFailedWarning: Estimator fit failed. The score on this train-test partition for these parameters will be set to nan. Details: \n",
      "Traceback (most recent call last):\n",
      "  File \"/opt/conda/lib/python3.9/site-packages/sklearn/model_selection/_validation.py\", line 593, in _fit_and_score\n",
      "    estimator.fit(X_train, y_train, **fit_params)\n",
      "  File \"/opt/conda/lib/python3.9/site-packages/sklearn/linear_model/_logistic.py\", line 1306, in fit\n",
      "    solver = _check_solver(self.solver, self.penalty, self.dual)\n",
      "  File \"/opt/conda/lib/python3.9/site-packages/sklearn/linear_model/_logistic.py\", line 443, in _check_solver\n",
      "    raise ValueError(\"Solver %s supports only 'l2' or 'none' penalties, \"\n",
      "ValueError: Solver lbfgs supports only 'l2' or 'none' penalties, got l1 penalty.\n",
      "\n",
      "  warnings.warn(\"Estimator fit failed. The score on this train-test\"\n",
      "/opt/conda/lib/python3.9/site-packages/sklearn/model_selection/_validation.py:610: FitFailedWarning: Estimator fit failed. The score on this train-test partition for these parameters will be set to nan. Details: \n",
      "Traceback (most recent call last):\n",
      "  File \"/opt/conda/lib/python3.9/site-packages/sklearn/model_selection/_validation.py\", line 593, in _fit_and_score\n",
      "    estimator.fit(X_train, y_train, **fit_params)\n",
      "  File \"/opt/conda/lib/python3.9/site-packages/sklearn/linear_model/_logistic.py\", line 1306, in fit\n",
      "    solver = _check_solver(self.solver, self.penalty, self.dual)\n",
      "  File \"/opt/conda/lib/python3.9/site-packages/sklearn/linear_model/_logistic.py\", line 443, in _check_solver\n",
      "    raise ValueError(\"Solver %s supports only 'l2' or 'none' penalties, \"\n",
      "ValueError: Solver lbfgs supports only 'l2' or 'none' penalties, got l1 penalty.\n",
      "\n",
      "  warnings.warn(\"Estimator fit failed. The score on this train-test\"\n",
      "/opt/conda/lib/python3.9/site-packages/sklearn/model_selection/_validation.py:610: FitFailedWarning: Estimator fit failed. The score on this train-test partition for these parameters will be set to nan. Details: \n",
      "Traceback (most recent call last):\n",
      "  File \"/opt/conda/lib/python3.9/site-packages/sklearn/model_selection/_validation.py\", line 593, in _fit_and_score\n",
      "    estimator.fit(X_train, y_train, **fit_params)\n",
      "  File \"/opt/conda/lib/python3.9/site-packages/sklearn/linear_model/_logistic.py\", line 1306, in fit\n",
      "    solver = _check_solver(self.solver, self.penalty, self.dual)\n",
      "  File \"/opt/conda/lib/python3.9/site-packages/sklearn/linear_model/_logistic.py\", line 443, in _check_solver\n",
      "    raise ValueError(\"Solver %s supports only 'l2' or 'none' penalties, \"\n",
      "ValueError: Solver lbfgs supports only 'l2' or 'none' penalties, got l1 penalty.\n",
      "\n",
      "  warnings.warn(\"Estimator fit failed. The score on this train-test\"\n",
      "/opt/conda/lib/python3.9/site-packages/sklearn/model_selection/_search.py:918: UserWarning: One or more of the test scores are non-finite: [       nan 0.83056731 0.83056731 0.83059511 0.83059475 0.83059439]\n",
      "  warnings.warn(\n"
     ]
    },
    {
     "data": {
      "text/plain": [
       "{'C': 10}"
      ]
     },
     "execution_count": 93,
     "metadata": {},
     "output_type": "execute_result"
    }
   ],
   "source": [
    "model_lr = LogisticRegression(random_state=25072022)\n",
    "parameters_lr = [{'penalty':['l1','l2']}, \n",
    "              {'C':[1, 10, 100, 1000]}]\n",
    "grid_lr = GridSearchCV(model_lr,parameters_lr, cv=5, scoring='roc_auc')  \n",
    "grid_lr.fit(features_upsampled, target_upsampled)\n",
    "grid_lr.best_params_  # подберем оптимальные параметры модели"
   ]
  },
  {
   "cell_type": "code",
   "execution_count": 94,
   "id": "e467333c",
   "metadata": {},
   "outputs": [],
   "source": [
    "model_lr_optimal = LogisticRegression(penalty = 'l2', random_state=25072022)"
   ]
  },
  {
   "cell_type": "code",
   "execution_count": 95,
   "id": "20939eb4",
   "metadata": {},
   "outputs": [
    {
     "data": {
      "text/plain": [
       "LogisticRegression(random_state=25072022)"
      ]
     },
     "execution_count": 95,
     "metadata": {},
     "output_type": "execute_result"
    }
   ],
   "source": [
    "model_lr_optimal.fit(features_upsampled, target_upsampled)"
   ]
  },
  {
   "cell_type": "code",
   "execution_count": 96,
   "id": "8b857f30",
   "metadata": {},
   "outputs": [
    {
     "name": "stdout",
     "output_type": "stream",
     "text": [
      "для логистической регрессии AUC-ROC равно 0.8334311481842902\n"
     ]
    }
   ],
   "source": [
    "probabilities_valid_model_logistic = model_lr_optimal.predict_proba(features_test_drop)\n",
    "probabilities_one_valid_model_logistic = probabilities_valid_model_logistic[:, 1]\n",
    "\n",
    "auc_roc_model_logistic = roc_auc_score(target_test_drop, probabilities_one_valid_model_logistic)\n",
    "print('для логистической регрессии AUC-ROC равно', auc_roc_model_logistic)"
   ]
  },
  {
   "cell_type": "code",
   "execution_count": 97,
   "id": "0d2b8740",
   "metadata": {},
   "outputs": [],
   "source": [
    "fpr_log, tpr_log, thresholds_log = roc_curve(target_test_drop, probabilities_one_valid_model_logistic)"
   ]
  },
  {
   "cell_type": "markdown",
   "id": "849ab3d0",
   "metadata": {},
   "source": [
    "2. Дерево решений"
   ]
  },
  {
   "cell_type": "code",
   "execution_count": 98,
   "id": "e18c40f5",
   "metadata": {},
   "outputs": [],
   "source": [
    "model_tree_dr = DecisionTreeClassifier(class_weight = 'balanced', random_state=25072022)"
   ]
  },
  {
   "cell_type": "code",
   "execution_count": 99,
   "id": "98a7f941",
   "metadata": {},
   "outputs": [],
   "source": [
    "tree_param = {'criterion':['gini','entropy'],'max_depth':[4,5,6,7,8,9,10,11,12,15,20,30,40,50,70,90,120,150]}\n",
    "#grid_tree = GridSearchCV(model_tree_dr, tree_param, cv=5, scoring='roc_auc')  \n",
    "#grid_tree.fit(features_upsampled, target_upsampled)\n",
    "#grid_tree.best_params_  \n",
    "# подберем оптимальные параметры модели, закоментим, потому что долго"
   ]
  },
  {
   "cell_type": "code",
   "execution_count": 100,
   "id": "1ecb556c",
   "metadata": {},
   "outputs": [
    {
     "data": {
      "text/plain": [
       "DecisionTreeClassifier(class_weight='balanced', criterion='entropy',\n",
       "                       max_depth=20, random_state=25072022)"
      ]
     },
     "execution_count": 100,
     "metadata": {},
     "output_type": "execute_result"
    }
   ],
   "source": [
    "model_tree_dr_optimal = DecisionTreeClassifier(class_weight = 'balanced', criterion = 'entropy', max_depth = 20, random_state=25072022)\n",
    "model_tree_dr_optimal.fit(features_upsampled, target_upsampled)"
   ]
  },
  {
   "cell_type": "code",
   "execution_count": 101,
   "id": "34c53c44",
   "metadata": {},
   "outputs": [
    {
     "name": "stdout",
     "output_type": "stream",
     "text": [
      "для решающего девева AUC-ROC равно 0.766963352421699\n"
     ]
    }
   ],
   "source": [
    "probabilities__valid_model_tree=model_tree_dr_optimal.predict_proba(features_test_drop)\n",
    "probabilities_one_valid_tree=probabilities__valid_model_tree[:,1]\n",
    "\n",
    "auc_roc_model_tree = roc_auc_score(target_test_drop, probabilities_one_valid_tree)\n",
    "print('для решающего девева AUC-ROC равно', auc_roc_model_tree)"
   ]
  },
  {
   "cell_type": "code",
   "execution_count": 102,
   "id": "bee42e23",
   "metadata": {},
   "outputs": [],
   "source": [
    "fpr_tree, tpr_tree, thresholds_tree = roc_curve(target_test_drop, probabilities_one_valid_tree)"
   ]
  },
  {
   "cell_type": "markdown",
   "id": "e461260c",
   "metadata": {},
   "source": [
    "3. Случайный лес"
   ]
  },
  {
   "cell_type": "code",
   "execution_count": 103,
   "id": "83dbe102",
   "metadata": {},
   "outputs": [],
   "source": [
    "model_forest = RandomForestClassifier(class_weight = 'balanced', random_state=25072022)"
   ]
  },
  {
   "cell_type": "code",
   "execution_count": 104,
   "id": "e5cd129d",
   "metadata": {},
   "outputs": [],
   "source": [
    "parametrs_rf = { 'n_estimators': range (10, 50, 10),\n",
    "              'max_depth': range (1,30, 5),\n",
    "              'min_samples_leaf': range (1,10),\n",
    "              'min_samples_split': range (2,10,2) }\n",
    "\n",
    "#grid_rf = GridSearchCV(model_forest,parametrs_rf, cv=5, scoring='roc_auc')  \n",
    "#grid_rf.fit(features_upsampled, target_upsampled)\n",
    "#grid_rf.best_params_  \n",
    "\n",
    "# Закоментируем, потому что очень долго длится подбор параметров "
   ]
  },
  {
   "cell_type": "code",
   "execution_count": 105,
   "id": "79088906",
   "metadata": {},
   "outputs": [
    {
     "data": {
      "text/plain": [
       "RandomForestClassifier(class_weight='balanced', max_depth=26, n_estimators=40)"
      ]
     },
     "execution_count": 105,
     "metadata": {},
     "output_type": "execute_result"
    }
   ],
   "source": [
    "model_rf_optimal = RandomForestClassifier(class_weight = 'balanced', max_depth = 26, min_samples_leaf = 1, min_samples_split = 2,\\\n",
    "                                          n_estimators = 40)\n",
    "model_rf_optimal.fit(features_upsampled, target_upsampled)"
   ]
  },
  {
   "cell_type": "code",
   "execution_count": 106,
   "id": "5937615d",
   "metadata": {},
   "outputs": [
    {
     "name": "stdout",
     "output_type": "stream",
     "text": [
      "для случайного леса AUC-ROC равно 0.8415764049743194\n"
     ]
    }
   ],
   "source": [
    "probabilities__valid_model_forest=model_rf_optimal.predict_proba(features_test_drop)\n",
    "probabilities_one_valid_forest=probabilities__valid_model_forest[:,1]\n",
    "\n",
    "auc_roc_model_forest = roc_auc_score(target_test_drop, probabilities_one_valid_forest)\n",
    "print('для случайного леса AUC-ROC равно', auc_roc_model_forest)"
   ]
  },
  {
   "cell_type": "code",
   "execution_count": 107,
   "id": "7e45cd01",
   "metadata": {},
   "outputs": [],
   "source": [
    "fpr_forest, tpr_forest, thresholds_forest = roc_curve(target_test_drop, probabilities_one_valid_forest)"
   ]
  },
  {
   "cell_type": "markdown",
   "id": "9f02052f",
   "metadata": {},
   "source": [
    "4. Градиентный бустинг(CatBoost)"
   ]
  },
  {
   "cell_type": "code",
   "execution_count": 108,
   "id": "050fe4e1",
   "metadata": {},
   "outputs": [],
   "source": [
    "model_cb = CatBoostClassifier(random_state=25072022)"
   ]
  },
  {
   "cell_type": "code",
   "execution_count": 109,
   "id": "43340a88",
   "metadata": {},
   "outputs": [],
   "source": [
    "parametrs_gb = { 'learning_rate': [0.03, 0.1], 'depth': [4, 6, 10], 'l2_leaf_reg': [1, 3]}  \n",
    "#grid_gb = GridSearchCV(model_cb, parametrs_gb, scoring='roc_auc') # Обучим \n",
    "#grid_gb.fit(features_upsampled, target_upsampled)\n",
    "#grid_gb.best_params_  # подберем оптимальные параметры модели  "
   ]
  },
  {
   "cell_type": "code",
   "execution_count": 110,
   "id": "fb8a509c",
   "metadata": {},
   "outputs": [
    {
     "name": "stdout",
     "output_type": "stream",
     "text": [
      "0:\tlearn: 0.6176761\ttotal: 54.6ms\tremaining: 54.6s\n",
      "1:\tlearn: 0.5675144\ttotal: 58.5ms\tremaining: 29.2s\n",
      "2:\tlearn: 0.5230061\ttotal: 62.3ms\tremaining: 20.7s\n",
      "3:\tlearn: 0.4851244\ttotal: 72.4ms\tremaining: 18s\n",
      "4:\tlearn: 0.4530095\ttotal: 92.7ms\tremaining: 18.5s\n",
      "5:\tlearn: 0.4291376\ttotal: 109ms\tremaining: 18.1s\n",
      "6:\tlearn: 0.4139461\ttotal: 115ms\tremaining: 16.4s\n",
      "7:\tlearn: 0.4009506\ttotal: 121ms\tremaining: 15s\n",
      "8:\tlearn: 0.3849260\ttotal: 138ms\tremaining: 15.2s\n",
      "9:\tlearn: 0.3789438\ttotal: 142ms\tremaining: 14.1s\n",
      "10:\tlearn: 0.3682841\ttotal: 159ms\tremaining: 14.3s\n",
      "11:\tlearn: 0.3595341\ttotal: 177ms\tremaining: 14.5s\n",
      "12:\tlearn: 0.3565087\ttotal: 181ms\tremaining: 13.7s\n",
      "13:\tlearn: 0.3503866\ttotal: 200ms\tremaining: 14.1s\n",
      "14:\tlearn: 0.3454303\ttotal: 217ms\tremaining: 14.3s\n",
      "15:\tlearn: 0.3398918\ttotal: 234ms\tremaining: 14.4s\n",
      "16:\tlearn: 0.3344996\ttotal: 251ms\tremaining: 14.5s\n",
      "17:\tlearn: 0.3313065\ttotal: 268ms\tremaining: 14.6s\n",
      "18:\tlearn: 0.3275950\ttotal: 285ms\tremaining: 14.7s\n",
      "19:\tlearn: 0.3244664\ttotal: 301ms\tremaining: 14.8s\n",
      "20:\tlearn: 0.3213454\ttotal: 318ms\tremaining: 14.8s\n",
      "21:\tlearn: 0.3193222\ttotal: 336ms\tremaining: 15s\n",
      "22:\tlearn: 0.3173230\ttotal: 353ms\tremaining: 15s\n",
      "23:\tlearn: 0.3142880\ttotal: 371ms\tremaining: 15.1s\n",
      "24:\tlearn: 0.3121930\ttotal: 389ms\tremaining: 15.2s\n",
      "25:\tlearn: 0.3100675\ttotal: 406ms\tremaining: 15.2s\n",
      "26:\tlearn: 0.3081147\ttotal: 424ms\tremaining: 15.3s\n",
      "27:\tlearn: 0.3062766\ttotal: 441ms\tremaining: 15.3s\n",
      "28:\tlearn: 0.3040729\ttotal: 462ms\tremaining: 15.5s\n",
      "29:\tlearn: 0.3013107\ttotal: 485ms\tremaining: 15.7s\n",
      "30:\tlearn: 0.3003391\ttotal: 504ms\tremaining: 15.8s\n",
      "31:\tlearn: 0.2979197\ttotal: 524ms\tremaining: 15.8s\n",
      "32:\tlearn: 0.2961907\ttotal: 543ms\tremaining: 15.9s\n",
      "33:\tlearn: 0.2946003\ttotal: 561ms\tremaining: 15.9s\n",
      "34:\tlearn: 0.2921251\ttotal: 578ms\tremaining: 15.9s\n",
      "35:\tlearn: 0.2900944\ttotal: 597ms\tremaining: 16s\n",
      "36:\tlearn: 0.2882990\ttotal: 624ms\tremaining: 16.2s\n",
      "37:\tlearn: 0.2869062\ttotal: 652ms\tremaining: 16.5s\n",
      "38:\tlearn: 0.2846464\ttotal: 675ms\tremaining: 16.6s\n",
      "39:\tlearn: 0.2826381\ttotal: 695ms\tremaining: 16.7s\n",
      "40:\tlearn: 0.2805966\ttotal: 715ms\tremaining: 16.7s\n",
      "41:\tlearn: 0.2791669\ttotal: 739ms\tremaining: 16.9s\n",
      "42:\tlearn: 0.2773129\ttotal: 761ms\tremaining: 16.9s\n",
      "43:\tlearn: 0.2754489\ttotal: 785ms\tremaining: 17.1s\n",
      "44:\tlearn: 0.2740828\ttotal: 809ms\tremaining: 17.2s\n",
      "45:\tlearn: 0.2729201\ttotal: 834ms\tremaining: 17.3s\n",
      "46:\tlearn: 0.2707915\ttotal: 857ms\tremaining: 17.4s\n",
      "47:\tlearn: 0.2692503\ttotal: 880ms\tremaining: 17.5s\n",
      "48:\tlearn: 0.2678881\ttotal: 901ms\tremaining: 17.5s\n",
      "49:\tlearn: 0.2664405\ttotal: 925ms\tremaining: 17.6s\n",
      "50:\tlearn: 0.2651206\ttotal: 954ms\tremaining: 17.7s\n",
      "51:\tlearn: 0.2636865\ttotal: 981ms\tremaining: 17.9s\n",
      "52:\tlearn: 0.2628719\ttotal: 1.01s\tremaining: 18.1s\n",
      "53:\tlearn: 0.2617604\ttotal: 1.03s\tremaining: 18s\n",
      "54:\tlearn: 0.2605188\ttotal: 1.05s\tremaining: 18s\n",
      "55:\tlearn: 0.2594129\ttotal: 1.07s\tremaining: 18s\n",
      "56:\tlearn: 0.2577146\ttotal: 1.09s\tremaining: 18s\n",
      "57:\tlearn: 0.2565396\ttotal: 1.1s\tremaining: 18s\n",
      "58:\tlearn: 0.2557184\ttotal: 1.12s\tremaining: 17.9s\n",
      "59:\tlearn: 0.2543728\ttotal: 1.14s\tremaining: 17.9s\n",
      "60:\tlearn: 0.2532160\ttotal: 1.16s\tremaining: 17.8s\n",
      "61:\tlearn: 0.2524255\ttotal: 1.18s\tremaining: 17.8s\n",
      "62:\tlearn: 0.2516563\ttotal: 1.19s\tremaining: 17.8s\n",
      "63:\tlearn: 0.2508864\ttotal: 1.21s\tremaining: 17.7s\n",
      "64:\tlearn: 0.2497252\ttotal: 1.23s\tremaining: 17.6s\n",
      "65:\tlearn: 0.2488662\ttotal: 1.24s\tremaining: 17.6s\n",
      "66:\tlearn: 0.2479130\ttotal: 1.26s\tremaining: 17.6s\n",
      "67:\tlearn: 0.2466133\ttotal: 1.28s\tremaining: 17.5s\n",
      "68:\tlearn: 0.2454363\ttotal: 1.3s\tremaining: 17.5s\n",
      "69:\tlearn: 0.2447667\ttotal: 1.32s\tremaining: 17.5s\n",
      "70:\tlearn: 0.2440949\ttotal: 1.33s\tremaining: 17.5s\n",
      "71:\tlearn: 0.2398741\ttotal: 1.35s\tremaining: 17.4s\n",
      "72:\tlearn: 0.2389449\ttotal: 1.37s\tremaining: 17.4s\n",
      "73:\tlearn: 0.2378497\ttotal: 1.39s\tremaining: 17.4s\n",
      "74:\tlearn: 0.2371094\ttotal: 1.41s\tremaining: 17.3s\n",
      "75:\tlearn: 0.2359143\ttotal: 1.42s\tremaining: 17.3s\n",
      "76:\tlearn: 0.2348181\ttotal: 1.44s\tremaining: 17.3s\n",
      "77:\tlearn: 0.2334524\ttotal: 1.46s\tremaining: 17.3s\n",
      "78:\tlearn: 0.2323483\ttotal: 1.48s\tremaining: 17.2s\n",
      "79:\tlearn: 0.2306911\ttotal: 1.5s\tremaining: 17.2s\n",
      "80:\tlearn: 0.2296727\ttotal: 1.52s\tremaining: 17.2s\n",
      "81:\tlearn: 0.2282754\ttotal: 1.53s\tremaining: 17.2s\n",
      "82:\tlearn: 0.2271384\ttotal: 1.55s\tremaining: 17.1s\n",
      "83:\tlearn: 0.2264732\ttotal: 1.57s\tremaining: 17.1s\n",
      "84:\tlearn: 0.2264161\ttotal: 1.57s\tremaining: 16.9s\n",
      "85:\tlearn: 0.2254982\ttotal: 1.59s\tremaining: 16.9s\n",
      "86:\tlearn: 0.2246136\ttotal: 1.61s\tremaining: 16.9s\n",
      "87:\tlearn: 0.2234487\ttotal: 1.63s\tremaining: 16.8s\n",
      "88:\tlearn: 0.2223492\ttotal: 1.64s\tremaining: 16.8s\n",
      "89:\tlearn: 0.2210637\ttotal: 1.66s\tremaining: 16.8s\n",
      "90:\tlearn: 0.2201839\ttotal: 1.68s\tremaining: 16.8s\n",
      "91:\tlearn: 0.2190392\ttotal: 1.7s\tremaining: 16.7s\n",
      "92:\tlearn: 0.2179909\ttotal: 1.71s\tremaining: 16.7s\n",
      "93:\tlearn: 0.2168520\ttotal: 1.73s\tremaining: 16.7s\n",
      "94:\tlearn: 0.2157718\ttotal: 1.75s\tremaining: 16.6s\n",
      "95:\tlearn: 0.2146643\ttotal: 1.76s\tremaining: 16.6s\n",
      "96:\tlearn: 0.2132861\ttotal: 1.78s\tremaining: 16.6s\n",
      "97:\tlearn: 0.2116450\ttotal: 1.8s\tremaining: 16.6s\n",
      "98:\tlearn: 0.2107501\ttotal: 1.82s\tremaining: 16.5s\n",
      "99:\tlearn: 0.2095949\ttotal: 1.83s\tremaining: 16.5s\n",
      "100:\tlearn: 0.2088996\ttotal: 1.85s\tremaining: 16.5s\n",
      "101:\tlearn: 0.2079469\ttotal: 1.87s\tremaining: 16.4s\n",
      "102:\tlearn: 0.2069269\ttotal: 1.89s\tremaining: 16.4s\n",
      "103:\tlearn: 0.2062000\ttotal: 1.9s\tremaining: 16.4s\n",
      "104:\tlearn: 0.2051913\ttotal: 1.92s\tremaining: 16.4s\n",
      "105:\tlearn: 0.2036736\ttotal: 1.94s\tremaining: 16.4s\n",
      "106:\tlearn: 0.2025582\ttotal: 1.96s\tremaining: 16.3s\n",
      "107:\tlearn: 0.2016776\ttotal: 1.98s\tremaining: 16.3s\n",
      "108:\tlearn: 0.2002936\ttotal: 2s\tremaining: 16.3s\n",
      "109:\tlearn: 0.1991093\ttotal: 2.02s\tremaining: 16.3s\n",
      "110:\tlearn: 0.1977998\ttotal: 2.04s\tremaining: 16.3s\n",
      "111:\tlearn: 0.1968627\ttotal: 2.05s\tremaining: 16.3s\n",
      "112:\tlearn: 0.1960453\ttotal: 2.07s\tremaining: 16.2s\n",
      "113:\tlearn: 0.1953204\ttotal: 2.09s\tremaining: 16.2s\n",
      "114:\tlearn: 0.1944464\ttotal: 2.1s\tremaining: 16.2s\n",
      "115:\tlearn: 0.1934926\ttotal: 2.12s\tremaining: 16.2s\n",
      "116:\tlearn: 0.1928655\ttotal: 2.14s\tremaining: 16.1s\n",
      "117:\tlearn: 0.1919751\ttotal: 2.16s\tremaining: 16.1s\n",
      "118:\tlearn: 0.1911167\ttotal: 2.18s\tremaining: 16.1s\n",
      "119:\tlearn: 0.1904850\ttotal: 2.19s\tremaining: 16.1s\n",
      "120:\tlearn: 0.1895229\ttotal: 2.21s\tremaining: 16.1s\n",
      "121:\tlearn: 0.1883311\ttotal: 2.23s\tremaining: 16.1s\n",
      "122:\tlearn: 0.1872165\ttotal: 2.25s\tremaining: 16s\n",
      "123:\tlearn: 0.1859356\ttotal: 2.27s\tremaining: 16s\n",
      "124:\tlearn: 0.1852471\ttotal: 2.28s\tremaining: 16s\n",
      "125:\tlearn: 0.1847003\ttotal: 2.3s\tremaining: 16s\n",
      "126:\tlearn: 0.1838981\ttotal: 2.32s\tremaining: 15.9s\n",
      "127:\tlearn: 0.1827475\ttotal: 2.33s\tremaining: 15.9s\n",
      "128:\tlearn: 0.1821172\ttotal: 2.35s\tremaining: 15.9s\n",
      "129:\tlearn: 0.1815604\ttotal: 2.37s\tremaining: 15.9s\n",
      "130:\tlearn: 0.1806201\ttotal: 2.39s\tremaining: 15.8s\n",
      "131:\tlearn: 0.1801273\ttotal: 2.41s\tremaining: 15.8s\n",
      "132:\tlearn: 0.1794579\ttotal: 2.42s\tremaining: 15.8s\n",
      "133:\tlearn: 0.1783953\ttotal: 2.44s\tremaining: 15.8s\n",
      "134:\tlearn: 0.1779645\ttotal: 2.46s\tremaining: 15.8s\n",
      "135:\tlearn: 0.1774829\ttotal: 2.48s\tremaining: 15.7s\n",
      "136:\tlearn: 0.1768755\ttotal: 2.5s\tremaining: 15.7s\n",
      "137:\tlearn: 0.1760225\ttotal: 2.51s\tremaining: 15.7s\n",
      "138:\tlearn: 0.1747695\ttotal: 2.53s\tremaining: 15.7s\n",
      "139:\tlearn: 0.1741247\ttotal: 2.55s\tremaining: 15.7s\n",
      "140:\tlearn: 0.1731711\ttotal: 2.56s\tremaining: 15.6s\n",
      "141:\tlearn: 0.1723387\ttotal: 2.58s\tremaining: 15.6s\n",
      "142:\tlearn: 0.1715002\ttotal: 2.6s\tremaining: 15.6s\n",
      "143:\tlearn: 0.1701585\ttotal: 2.62s\tremaining: 15.6s\n",
      "144:\tlearn: 0.1693461\ttotal: 2.63s\tremaining: 15.5s\n",
      "145:\tlearn: 0.1688273\ttotal: 2.65s\tremaining: 15.5s\n",
      "146:\tlearn: 0.1684151\ttotal: 2.67s\tremaining: 15.5s\n",
      "147:\tlearn: 0.1680424\ttotal: 2.68s\tremaining: 15.5s\n",
      "148:\tlearn: 0.1673305\ttotal: 2.7s\tremaining: 15.4s\n",
      "149:\tlearn: 0.1669566\ttotal: 2.72s\tremaining: 15.4s\n",
      "150:\tlearn: 0.1660204\ttotal: 2.74s\tremaining: 15.4s\n",
      "151:\tlearn: 0.1651620\ttotal: 2.76s\tremaining: 15.4s\n",
      "152:\tlearn: 0.1642522\ttotal: 2.77s\tremaining: 15.4s\n",
      "153:\tlearn: 0.1635027\ttotal: 2.79s\tremaining: 15.3s\n",
      "154:\tlearn: 0.1627869\ttotal: 2.81s\tremaining: 15.3s\n",
      "155:\tlearn: 0.1618342\ttotal: 2.83s\tremaining: 15.3s\n",
      "156:\tlearn: 0.1614273\ttotal: 2.84s\tremaining: 15.3s\n",
      "157:\tlearn: 0.1605440\ttotal: 2.86s\tremaining: 15.2s\n",
      "158:\tlearn: 0.1596573\ttotal: 2.88s\tremaining: 15.2s\n",
      "159:\tlearn: 0.1585879\ttotal: 2.89s\tremaining: 15.2s\n",
      "160:\tlearn: 0.1583036\ttotal: 2.91s\tremaining: 15.2s\n",
      "161:\tlearn: 0.1577088\ttotal: 2.93s\tremaining: 15.2s\n",
      "162:\tlearn: 0.1571094\ttotal: 2.95s\tremaining: 15.1s\n",
      "163:\tlearn: 0.1566577\ttotal: 2.96s\tremaining: 15.1s\n",
      "164:\tlearn: 0.1561890\ttotal: 2.98s\tremaining: 15.1s\n",
      "165:\tlearn: 0.1557478\ttotal: 3s\tremaining: 15.1s\n",
      "166:\tlearn: 0.1553791\ttotal: 3.02s\tremaining: 15.1s\n",
      "167:\tlearn: 0.1546147\ttotal: 3.03s\tremaining: 15s\n",
      "168:\tlearn: 0.1536889\ttotal: 3.05s\tremaining: 15s\n",
      "169:\tlearn: 0.1533441\ttotal: 3.07s\tremaining: 15s\n",
      "170:\tlearn: 0.1530316\ttotal: 3.09s\tremaining: 15s\n",
      "171:\tlearn: 0.1522698\ttotal: 3.11s\tremaining: 15s\n",
      "172:\tlearn: 0.1517266\ttotal: 3.13s\tremaining: 15s\n",
      "173:\tlearn: 0.1514339\ttotal: 3.15s\tremaining: 15s\n",
      "174:\tlearn: 0.1509325\ttotal: 3.17s\tremaining: 14.9s\n",
      "175:\tlearn: 0.1503590\ttotal: 3.19s\tremaining: 14.9s\n",
      "176:\tlearn: 0.1497911\ttotal: 3.21s\tremaining: 14.9s\n",
      "177:\tlearn: 0.1489159\ttotal: 3.23s\tremaining: 14.9s\n",
      "178:\tlearn: 0.1484307\ttotal: 3.25s\tremaining: 14.9s\n",
      "179:\tlearn: 0.1478584\ttotal: 3.27s\tremaining: 14.9s\n",
      "180:\tlearn: 0.1471394\ttotal: 3.29s\tremaining: 14.9s\n",
      "181:\tlearn: 0.1465195\ttotal: 3.31s\tremaining: 14.9s\n",
      "182:\tlearn: 0.1459880\ttotal: 3.33s\tremaining: 14.9s\n",
      "183:\tlearn: 0.1452728\ttotal: 3.35s\tremaining: 14.8s\n",
      "184:\tlearn: 0.1448999\ttotal: 3.36s\tremaining: 14.8s\n",
      "185:\tlearn: 0.1445771\ttotal: 3.38s\tremaining: 14.8s\n",
      "186:\tlearn: 0.1440026\ttotal: 3.4s\tremaining: 14.8s\n",
      "187:\tlearn: 0.1437598\ttotal: 3.41s\tremaining: 14.7s\n",
      "188:\tlearn: 0.1433227\ttotal: 3.43s\tremaining: 14.7s\n",
      "189:\tlearn: 0.1426932\ttotal: 3.45s\tremaining: 14.7s\n",
      "190:\tlearn: 0.1420442\ttotal: 3.47s\tremaining: 14.7s\n",
      "191:\tlearn: 0.1416969\ttotal: 3.48s\tremaining: 14.7s\n",
      "192:\tlearn: 0.1412563\ttotal: 3.5s\tremaining: 14.6s\n",
      "193:\tlearn: 0.1408503\ttotal: 3.52s\tremaining: 14.6s\n",
      "194:\tlearn: 0.1404569\ttotal: 3.54s\tremaining: 14.6s\n",
      "195:\tlearn: 0.1400301\ttotal: 3.56s\tremaining: 14.6s\n",
      "196:\tlearn: 0.1394085\ttotal: 3.57s\tremaining: 14.6s\n",
      "197:\tlearn: 0.1390847\ttotal: 3.59s\tremaining: 14.5s\n",
      "198:\tlearn: 0.1386403\ttotal: 3.6s\tremaining: 14.5s\n",
      "199:\tlearn: 0.1379045\ttotal: 3.62s\tremaining: 14.5s\n",
      "200:\tlearn: 0.1372751\ttotal: 3.64s\tremaining: 14.5s\n",
      "201:\tlearn: 0.1368069\ttotal: 3.66s\tremaining: 14.4s\n",
      "202:\tlearn: 0.1363134\ttotal: 3.67s\tremaining: 14.4s\n",
      "203:\tlearn: 0.1357475\ttotal: 3.69s\tremaining: 14.4s\n",
      "204:\tlearn: 0.1352983\ttotal: 3.71s\tremaining: 14.4s\n",
      "205:\tlearn: 0.1346925\ttotal: 3.73s\tremaining: 14.4s\n",
      "206:\tlearn: 0.1343581\ttotal: 3.75s\tremaining: 14.4s\n",
      "207:\tlearn: 0.1339139\ttotal: 3.77s\tremaining: 14.4s\n",
      "208:\tlearn: 0.1333677\ttotal: 3.79s\tremaining: 14.3s\n",
      "209:\tlearn: 0.1327887\ttotal: 3.81s\tremaining: 14.3s\n",
      "210:\tlearn: 0.1325146\ttotal: 3.82s\tremaining: 14.3s\n",
      "211:\tlearn: 0.1322491\ttotal: 3.84s\tremaining: 14.3s\n",
      "212:\tlearn: 0.1317867\ttotal: 3.86s\tremaining: 14.3s\n",
      "213:\tlearn: 0.1314083\ttotal: 3.88s\tremaining: 14.2s\n",
      "214:\tlearn: 0.1311698\ttotal: 3.9s\tremaining: 14.2s\n",
      "215:\tlearn: 0.1307318\ttotal: 3.91s\tremaining: 14.2s\n",
      "216:\tlearn: 0.1304413\ttotal: 3.93s\tremaining: 14.2s\n",
      "217:\tlearn: 0.1302049\ttotal: 3.95s\tremaining: 14.2s\n",
      "218:\tlearn: 0.1296616\ttotal: 3.97s\tremaining: 14.1s\n",
      "219:\tlearn: 0.1295047\ttotal: 3.98s\tremaining: 14.1s\n",
      "220:\tlearn: 0.1290156\ttotal: 4s\tremaining: 14.1s\n",
      "221:\tlearn: 0.1287968\ttotal: 4.02s\tremaining: 14.1s\n",
      "222:\tlearn: 0.1283983\ttotal: 4.04s\tremaining: 14.1s\n",
      "223:\tlearn: 0.1280601\ttotal: 4.05s\tremaining: 14s\n",
      "224:\tlearn: 0.1273636\ttotal: 4.07s\tremaining: 14s\n",
      "225:\tlearn: 0.1265766\ttotal: 4.09s\tremaining: 14s\n",
      "226:\tlearn: 0.1260748\ttotal: 4.11s\tremaining: 14s\n",
      "227:\tlearn: 0.1258417\ttotal: 4.12s\tremaining: 14s\n",
      "228:\tlearn: 0.1255957\ttotal: 4.14s\tremaining: 13.9s\n",
      "229:\tlearn: 0.1249249\ttotal: 4.16s\tremaining: 13.9s\n",
      "230:\tlearn: 0.1243864\ttotal: 4.17s\tremaining: 13.9s\n",
      "231:\tlearn: 0.1242057\ttotal: 4.19s\tremaining: 13.9s\n",
      "232:\tlearn: 0.1239335\ttotal: 4.21s\tremaining: 13.9s\n",
      "233:\tlearn: 0.1235119\ttotal: 4.23s\tremaining: 13.8s\n",
      "234:\tlearn: 0.1230898\ttotal: 4.25s\tremaining: 13.8s\n",
      "235:\tlearn: 0.1224924\ttotal: 4.26s\tremaining: 13.8s\n",
      "236:\tlearn: 0.1219424\ttotal: 4.28s\tremaining: 13.8s\n",
      "237:\tlearn: 0.1214493\ttotal: 4.3s\tremaining: 13.8s\n",
      "238:\tlearn: 0.1212204\ttotal: 4.32s\tremaining: 13.8s\n",
      "239:\tlearn: 0.1208601\ttotal: 4.34s\tremaining: 13.8s\n",
      "240:\tlearn: 0.1204435\ttotal: 4.36s\tremaining: 13.7s\n",
      "241:\tlearn: 0.1198852\ttotal: 4.38s\tremaining: 13.7s\n",
      "242:\tlearn: 0.1195297\ttotal: 4.4s\tremaining: 13.7s\n",
      "243:\tlearn: 0.1190480\ttotal: 4.42s\tremaining: 13.7s\n",
      "244:\tlearn: 0.1186851\ttotal: 4.43s\tremaining: 13.7s\n",
      "245:\tlearn: 0.1181612\ttotal: 4.45s\tremaining: 13.6s\n",
      "246:\tlearn: 0.1175213\ttotal: 4.47s\tremaining: 13.6s\n",
      "247:\tlearn: 0.1169880\ttotal: 4.49s\tremaining: 13.6s\n",
      "248:\tlearn: 0.1165418\ttotal: 4.51s\tremaining: 13.6s\n",
      "249:\tlearn: 0.1161487\ttotal: 4.53s\tremaining: 13.6s\n",
      "250:\tlearn: 0.1157548\ttotal: 4.54s\tremaining: 13.6s\n",
      "251:\tlearn: 0.1153964\ttotal: 4.56s\tremaining: 13.5s\n",
      "252:\tlearn: 0.1151648\ttotal: 4.58s\tremaining: 13.5s\n",
      "253:\tlearn: 0.1148797\ttotal: 4.59s\tremaining: 13.5s\n",
      "254:\tlearn: 0.1144078\ttotal: 4.61s\tremaining: 13.5s\n",
      "255:\tlearn: 0.1142354\ttotal: 4.63s\tremaining: 13.4s\n",
      "256:\tlearn: 0.1139195\ttotal: 4.64s\tremaining: 13.4s\n",
      "257:\tlearn: 0.1137354\ttotal: 4.66s\tremaining: 13.4s\n",
      "258:\tlearn: 0.1134486\ttotal: 4.68s\tremaining: 13.4s\n",
      "259:\tlearn: 0.1130386\ttotal: 4.7s\tremaining: 13.4s\n",
      "260:\tlearn: 0.1127864\ttotal: 4.72s\tremaining: 13.4s\n",
      "261:\tlearn: 0.1126059\ttotal: 4.74s\tremaining: 13.3s\n",
      "262:\tlearn: 0.1122270\ttotal: 4.75s\tremaining: 13.3s\n",
      "263:\tlearn: 0.1118047\ttotal: 4.77s\tremaining: 13.3s\n",
      "264:\tlearn: 0.1116130\ttotal: 4.79s\tremaining: 13.3s\n",
      "265:\tlearn: 0.1112470\ttotal: 4.8s\tremaining: 13.3s\n",
      "266:\tlearn: 0.1108451\ttotal: 4.82s\tremaining: 13.2s\n",
      "267:\tlearn: 0.1104934\ttotal: 4.84s\tremaining: 13.2s\n",
      "268:\tlearn: 0.1102605\ttotal: 4.86s\tremaining: 13.2s\n",
      "269:\tlearn: 0.1098353\ttotal: 4.88s\tremaining: 13.2s\n",
      "270:\tlearn: 0.1096959\ttotal: 4.9s\tremaining: 13.2s\n",
      "271:\tlearn: 0.1093900\ttotal: 4.92s\tremaining: 13.2s\n",
      "272:\tlearn: 0.1092657\ttotal: 4.93s\tremaining: 13.1s\n",
      "273:\tlearn: 0.1087758\ttotal: 4.95s\tremaining: 13.1s\n",
      "274:\tlearn: 0.1083626\ttotal: 4.97s\tremaining: 13.1s\n",
      "275:\tlearn: 0.1079047\ttotal: 4.99s\tremaining: 13.1s\n",
      "276:\tlearn: 0.1074576\ttotal: 5.01s\tremaining: 13.1s\n",
      "277:\tlearn: 0.1069858\ttotal: 5.03s\tremaining: 13.1s\n",
      "278:\tlearn: 0.1065759\ttotal: 5.04s\tremaining: 13s\n",
      "279:\tlearn: 0.1063933\ttotal: 5.06s\tremaining: 13s\n",
      "280:\tlearn: 0.1059956\ttotal: 5.08s\tremaining: 13s\n",
      "281:\tlearn: 0.1057072\ttotal: 5.1s\tremaining: 13s\n",
      "282:\tlearn: 0.1053541\ttotal: 5.12s\tremaining: 13s\n",
      "283:\tlearn: 0.1050815\ttotal: 5.13s\tremaining: 12.9s\n",
      "284:\tlearn: 0.1047939\ttotal: 5.15s\tremaining: 12.9s\n",
      "285:\tlearn: 0.1046889\ttotal: 5.17s\tremaining: 12.9s\n",
      "286:\tlearn: 0.1043414\ttotal: 5.18s\tremaining: 12.9s\n",
      "287:\tlearn: 0.1039945\ttotal: 5.2s\tremaining: 12.9s\n",
      "288:\tlearn: 0.1036706\ttotal: 5.22s\tremaining: 12.8s\n",
      "289:\tlearn: 0.1033599\ttotal: 5.24s\tremaining: 12.8s\n",
      "290:\tlearn: 0.1030497\ttotal: 5.25s\tremaining: 12.8s\n",
      "291:\tlearn: 0.1027001\ttotal: 5.27s\tremaining: 12.8s\n",
      "292:\tlearn: 0.1023846\ttotal: 5.29s\tremaining: 12.8s\n",
      "293:\tlearn: 0.1020954\ttotal: 5.31s\tremaining: 12.7s\n",
      "294:\tlearn: 0.1019069\ttotal: 5.33s\tremaining: 12.7s\n",
      "295:\tlearn: 0.1017180\ttotal: 5.34s\tremaining: 12.7s\n",
      "296:\tlearn: 0.1015545\ttotal: 5.36s\tremaining: 12.7s\n",
      "297:\tlearn: 0.1013054\ttotal: 5.38s\tremaining: 12.7s\n",
      "298:\tlearn: 0.1009633\ttotal: 5.39s\tremaining: 12.6s\n",
      "299:\tlearn: 0.1006091\ttotal: 5.41s\tremaining: 12.6s\n",
      "300:\tlearn: 0.1003651\ttotal: 5.43s\tremaining: 12.6s\n",
      "301:\tlearn: 0.1001316\ttotal: 5.45s\tremaining: 12.6s\n",
      "302:\tlearn: 0.0999221\ttotal: 5.47s\tremaining: 12.6s\n",
      "303:\tlearn: 0.0995846\ttotal: 5.48s\tremaining: 12.6s\n",
      "304:\tlearn: 0.0993088\ttotal: 5.5s\tremaining: 12.5s\n",
      "305:\tlearn: 0.0989680\ttotal: 5.52s\tremaining: 12.5s\n",
      "306:\tlearn: 0.0986067\ttotal: 5.54s\tremaining: 12.5s\n",
      "307:\tlearn: 0.0984030\ttotal: 5.56s\tremaining: 12.5s\n",
      "308:\tlearn: 0.0981680\ttotal: 5.58s\tremaining: 12.5s\n",
      "309:\tlearn: 0.0979080\ttotal: 5.59s\tremaining: 12.4s\n",
      "310:\tlearn: 0.0976475\ttotal: 5.61s\tremaining: 12.4s\n",
      "311:\tlearn: 0.0972558\ttotal: 5.63s\tremaining: 12.4s\n",
      "312:\tlearn: 0.0969720\ttotal: 5.64s\tremaining: 12.4s\n",
      "313:\tlearn: 0.0966799\ttotal: 5.66s\tremaining: 12.4s\n",
      "314:\tlearn: 0.0962849\ttotal: 5.68s\tremaining: 12.4s\n",
      "315:\tlearn: 0.0960329\ttotal: 5.7s\tremaining: 12.3s\n",
      "316:\tlearn: 0.0957682\ttotal: 5.72s\tremaining: 12.3s\n",
      "317:\tlearn: 0.0954499\ttotal: 5.74s\tremaining: 12.3s\n",
      "318:\tlearn: 0.0951868\ttotal: 5.76s\tremaining: 12.3s\n",
      "319:\tlearn: 0.0950474\ttotal: 5.78s\tremaining: 12.3s\n",
      "320:\tlearn: 0.0948283\ttotal: 5.79s\tremaining: 12.3s\n",
      "321:\tlearn: 0.0946804\ttotal: 5.81s\tremaining: 12.2s\n",
      "322:\tlearn: 0.0944217\ttotal: 5.83s\tremaining: 12.2s\n",
      "323:\tlearn: 0.0940908\ttotal: 5.85s\tremaining: 12.2s\n",
      "324:\tlearn: 0.0939021\ttotal: 5.87s\tremaining: 12.2s\n",
      "325:\tlearn: 0.0936184\ttotal: 5.88s\tremaining: 12.2s\n",
      "326:\tlearn: 0.0932844\ttotal: 5.9s\tremaining: 12.1s\n",
      "327:\tlearn: 0.0930488\ttotal: 5.92s\tremaining: 12.1s\n",
      "328:\tlearn: 0.0928509\ttotal: 5.94s\tremaining: 12.1s\n",
      "329:\tlearn: 0.0927861\ttotal: 5.95s\tremaining: 12.1s\n",
      "330:\tlearn: 0.0926014\ttotal: 5.97s\tremaining: 12.1s\n",
      "331:\tlearn: 0.0922863\ttotal: 5.99s\tremaining: 12.1s\n",
      "332:\tlearn: 0.0921300\ttotal: 6.01s\tremaining: 12s\n",
      "333:\tlearn: 0.0919477\ttotal: 6.03s\tremaining: 12s\n",
      "334:\tlearn: 0.0918336\ttotal: 6.05s\tremaining: 12s\n",
      "335:\tlearn: 0.0916745\ttotal: 6.06s\tremaining: 12s\n",
      "336:\tlearn: 0.0913909\ttotal: 6.08s\tremaining: 12s\n",
      "337:\tlearn: 0.0911518\ttotal: 6.1s\tremaining: 11.9s\n",
      "338:\tlearn: 0.0907117\ttotal: 6.12s\tremaining: 11.9s\n",
      "339:\tlearn: 0.0903713\ttotal: 6.14s\tremaining: 11.9s\n",
      "340:\tlearn: 0.0900268\ttotal: 6.16s\tremaining: 11.9s\n",
      "341:\tlearn: 0.0897175\ttotal: 6.17s\tremaining: 11.9s\n",
      "342:\tlearn: 0.0895943\ttotal: 6.19s\tremaining: 11.9s\n",
      "343:\tlearn: 0.0893272\ttotal: 6.21s\tremaining: 11.8s\n",
      "344:\tlearn: 0.0890640\ttotal: 6.23s\tremaining: 11.8s\n",
      "345:\tlearn: 0.0888401\ttotal: 6.25s\tremaining: 11.8s\n",
      "346:\tlearn: 0.0886498\ttotal: 6.26s\tremaining: 11.8s\n",
      "347:\tlearn: 0.0884066\ttotal: 6.28s\tremaining: 11.8s\n",
      "348:\tlearn: 0.0881990\ttotal: 6.3s\tremaining: 11.8s\n",
      "349:\tlearn: 0.0878388\ttotal: 6.32s\tremaining: 11.7s\n",
      "350:\tlearn: 0.0875300\ttotal: 6.34s\tremaining: 11.7s\n",
      "351:\tlearn: 0.0872757\ttotal: 6.35s\tremaining: 11.7s\n",
      "352:\tlearn: 0.0871596\ttotal: 6.37s\tremaining: 11.7s\n",
      "353:\tlearn: 0.0869612\ttotal: 6.39s\tremaining: 11.7s\n",
      "354:\tlearn: 0.0868224\ttotal: 6.41s\tremaining: 11.6s\n",
      "355:\tlearn: 0.0866434\ttotal: 6.43s\tremaining: 11.6s\n",
      "356:\tlearn: 0.0864163\ttotal: 6.45s\tremaining: 11.6s\n",
      "357:\tlearn: 0.0861710\ttotal: 6.46s\tremaining: 11.6s\n",
      "358:\tlearn: 0.0860889\ttotal: 6.48s\tremaining: 11.6s\n",
      "359:\tlearn: 0.0858914\ttotal: 6.5s\tremaining: 11.6s\n",
      "360:\tlearn: 0.0856355\ttotal: 6.52s\tremaining: 11.5s\n",
      "361:\tlearn: 0.0854271\ttotal: 6.54s\tremaining: 11.5s\n",
      "362:\tlearn: 0.0852742\ttotal: 6.56s\tremaining: 11.5s\n",
      "363:\tlearn: 0.0850601\ttotal: 6.58s\tremaining: 11.5s\n",
      "364:\tlearn: 0.0848512\ttotal: 6.6s\tremaining: 11.5s\n",
      "365:\tlearn: 0.0845814\ttotal: 6.61s\tremaining: 11.5s\n",
      "366:\tlearn: 0.0843494\ttotal: 6.63s\tremaining: 11.4s\n",
      "367:\tlearn: 0.0841442\ttotal: 6.65s\tremaining: 11.4s\n",
      "368:\tlearn: 0.0839604\ttotal: 6.67s\tremaining: 11.4s\n",
      "369:\tlearn: 0.0837461\ttotal: 6.68s\tremaining: 11.4s\n",
      "370:\tlearn: 0.0834802\ttotal: 6.7s\tremaining: 11.4s\n",
      "371:\tlearn: 0.0832099\ttotal: 6.72s\tremaining: 11.3s\n",
      "372:\tlearn: 0.0830755\ttotal: 6.74s\tremaining: 11.3s\n",
      "373:\tlearn: 0.0827798\ttotal: 6.75s\tremaining: 11.3s\n",
      "374:\tlearn: 0.0826937\ttotal: 6.77s\tremaining: 11.3s\n",
      "375:\tlearn: 0.0824856\ttotal: 6.79s\tremaining: 11.3s\n",
      "376:\tlearn: 0.0822716\ttotal: 6.8s\tremaining: 11.2s\n",
      "377:\tlearn: 0.0820137\ttotal: 6.82s\tremaining: 11.2s\n",
      "378:\tlearn: 0.0818649\ttotal: 6.84s\tremaining: 11.2s\n",
      "379:\tlearn: 0.0815956\ttotal: 6.85s\tremaining: 11.2s\n",
      "380:\tlearn: 0.0814480\ttotal: 6.87s\tremaining: 11.2s\n",
      "381:\tlearn: 0.0812952\ttotal: 6.89s\tremaining: 11.1s\n",
      "382:\tlearn: 0.0812276\ttotal: 6.91s\tremaining: 11.1s\n",
      "383:\tlearn: 0.0810282\ttotal: 6.92s\tremaining: 11.1s\n",
      "384:\tlearn: 0.0808194\ttotal: 6.94s\tremaining: 11.1s\n",
      "385:\tlearn: 0.0805414\ttotal: 6.96s\tremaining: 11.1s\n",
      "386:\tlearn: 0.0803335\ttotal: 6.97s\tremaining: 11s\n",
      "387:\tlearn: 0.0799479\ttotal: 6.99s\tremaining: 11s\n",
      "388:\tlearn: 0.0797269\ttotal: 7.01s\tremaining: 11s\n",
      "389:\tlearn: 0.0795719\ttotal: 7.03s\tremaining: 11s\n",
      "390:\tlearn: 0.0793380\ttotal: 7.04s\tremaining: 11s\n",
      "391:\tlearn: 0.0790963\ttotal: 7.06s\tremaining: 11s\n",
      "392:\tlearn: 0.0789076\ttotal: 7.08s\tremaining: 10.9s\n",
      "393:\tlearn: 0.0786459\ttotal: 7.09s\tremaining: 10.9s\n",
      "394:\tlearn: 0.0785177\ttotal: 7.11s\tremaining: 10.9s\n",
      "395:\tlearn: 0.0783554\ttotal: 7.13s\tremaining: 10.9s\n",
      "396:\tlearn: 0.0779697\ttotal: 7.15s\tremaining: 10.9s\n",
      "397:\tlearn: 0.0778306\ttotal: 7.16s\tremaining: 10.8s\n",
      "398:\tlearn: 0.0776608\ttotal: 7.18s\tremaining: 10.8s\n",
      "399:\tlearn: 0.0774867\ttotal: 7.2s\tremaining: 10.8s\n",
      "400:\tlearn: 0.0773007\ttotal: 7.21s\tremaining: 10.8s\n",
      "401:\tlearn: 0.0771092\ttotal: 7.23s\tremaining: 10.8s\n",
      "402:\tlearn: 0.0769031\ttotal: 7.25s\tremaining: 10.7s\n",
      "403:\tlearn: 0.0768227\ttotal: 7.27s\tremaining: 10.7s\n",
      "404:\tlearn: 0.0766293\ttotal: 7.28s\tremaining: 10.7s\n",
      "405:\tlearn: 0.0765039\ttotal: 7.3s\tremaining: 10.7s\n",
      "406:\tlearn: 0.0763169\ttotal: 7.32s\tremaining: 10.7s\n",
      "407:\tlearn: 0.0762753\ttotal: 7.33s\tremaining: 10.6s\n",
      "408:\tlearn: 0.0761797\ttotal: 7.35s\tremaining: 10.6s\n",
      "409:\tlearn: 0.0759744\ttotal: 7.37s\tremaining: 10.6s\n",
      "410:\tlearn: 0.0758836\ttotal: 7.39s\tremaining: 10.6s\n",
      "411:\tlearn: 0.0757367\ttotal: 7.41s\tremaining: 10.6s\n",
      "412:\tlearn: 0.0755921\ttotal: 7.42s\tremaining: 10.6s\n",
      "413:\tlearn: 0.0755091\ttotal: 7.44s\tremaining: 10.5s\n",
      "414:\tlearn: 0.0753491\ttotal: 7.46s\tremaining: 10.5s\n",
      "415:\tlearn: 0.0752131\ttotal: 7.47s\tremaining: 10.5s\n",
      "416:\tlearn: 0.0751071\ttotal: 7.49s\tremaining: 10.5s\n",
      "417:\tlearn: 0.0749538\ttotal: 7.51s\tremaining: 10.5s\n",
      "418:\tlearn: 0.0748235\ttotal: 7.53s\tremaining: 10.4s\n",
      "419:\tlearn: 0.0747051\ttotal: 7.54s\tremaining: 10.4s\n",
      "420:\tlearn: 0.0745560\ttotal: 7.56s\tremaining: 10.4s\n",
      "421:\tlearn: 0.0743732\ttotal: 7.58s\tremaining: 10.4s\n",
      "422:\tlearn: 0.0742083\ttotal: 7.6s\tremaining: 10.4s\n",
      "423:\tlearn: 0.0740447\ttotal: 7.61s\tremaining: 10.3s\n",
      "424:\tlearn: 0.0738661\ttotal: 7.63s\tremaining: 10.3s\n",
      "425:\tlearn: 0.0736102\ttotal: 7.65s\tremaining: 10.3s\n",
      "426:\tlearn: 0.0734456\ttotal: 7.67s\tremaining: 10.3s\n",
      "427:\tlearn: 0.0733023\ttotal: 7.69s\tremaining: 10.3s\n",
      "428:\tlearn: 0.0730710\ttotal: 7.71s\tremaining: 10.3s\n",
      "429:\tlearn: 0.0729483\ttotal: 7.72s\tremaining: 10.2s\n",
      "430:\tlearn: 0.0727268\ttotal: 7.74s\tremaining: 10.2s\n",
      "431:\tlearn: 0.0725654\ttotal: 7.76s\tremaining: 10.2s\n",
      "432:\tlearn: 0.0724586\ttotal: 7.77s\tremaining: 10.2s\n",
      "433:\tlearn: 0.0721722\ttotal: 7.79s\tremaining: 10.2s\n",
      "434:\tlearn: 0.0720058\ttotal: 7.81s\tremaining: 10.1s\n",
      "435:\tlearn: 0.0719143\ttotal: 7.83s\tremaining: 10.1s\n",
      "436:\tlearn: 0.0716214\ttotal: 7.84s\tremaining: 10.1s\n",
      "437:\tlearn: 0.0713964\ttotal: 7.86s\tremaining: 10.1s\n",
      "438:\tlearn: 0.0712469\ttotal: 7.88s\tremaining: 10.1s\n",
      "439:\tlearn: 0.0711025\ttotal: 7.89s\tremaining: 10s\n",
      "440:\tlearn: 0.0709181\ttotal: 7.91s\tremaining: 10s\n",
      "441:\tlearn: 0.0707826\ttotal: 7.93s\tremaining: 10s\n",
      "442:\tlearn: 0.0706151\ttotal: 7.95s\tremaining: 9.99s\n",
      "443:\tlearn: 0.0704919\ttotal: 7.97s\tremaining: 9.98s\n",
      "444:\tlearn: 0.0703303\ttotal: 7.98s\tremaining: 9.96s\n",
      "445:\tlearn: 0.0701919\ttotal: 8s\tremaining: 9.94s\n",
      "446:\tlearn: 0.0700596\ttotal: 8.02s\tremaining: 9.93s\n",
      "447:\tlearn: 0.0699264\ttotal: 8.04s\tremaining: 9.91s\n",
      "448:\tlearn: 0.0698030\ttotal: 8.06s\tremaining: 9.89s\n",
      "449:\tlearn: 0.0695317\ttotal: 8.08s\tremaining: 9.87s\n",
      "450:\tlearn: 0.0693684\ttotal: 8.1s\tremaining: 9.85s\n",
      "451:\tlearn: 0.0691707\ttotal: 8.11s\tremaining: 9.84s\n",
      "452:\tlearn: 0.0690673\ttotal: 8.13s\tremaining: 9.82s\n",
      "453:\tlearn: 0.0689560\ttotal: 8.15s\tremaining: 9.8s\n",
      "454:\tlearn: 0.0687675\ttotal: 8.17s\tremaining: 9.78s\n",
      "455:\tlearn: 0.0686916\ttotal: 8.19s\tremaining: 9.77s\n",
      "456:\tlearn: 0.0685926\ttotal: 8.21s\tremaining: 9.75s\n",
      "457:\tlearn: 0.0684362\ttotal: 8.22s\tremaining: 9.73s\n",
      "458:\tlearn: 0.0682253\ttotal: 8.24s\tremaining: 9.71s\n",
      "459:\tlearn: 0.0681259\ttotal: 8.26s\tremaining: 9.7s\n",
      "460:\tlearn: 0.0678849\ttotal: 8.28s\tremaining: 9.68s\n",
      "461:\tlearn: 0.0677852\ttotal: 8.29s\tremaining: 9.66s\n",
      "462:\tlearn: 0.0676133\ttotal: 8.31s\tremaining: 9.64s\n",
      "463:\tlearn: 0.0674675\ttotal: 8.33s\tremaining: 9.62s\n",
      "464:\tlearn: 0.0674002\ttotal: 8.35s\tremaining: 9.6s\n",
      "465:\tlearn: 0.0672383\ttotal: 8.36s\tremaining: 9.58s\n",
      "466:\tlearn: 0.0671376\ttotal: 8.38s\tremaining: 9.56s\n",
      "467:\tlearn: 0.0670685\ttotal: 8.4s\tremaining: 9.55s\n",
      "468:\tlearn: 0.0669970\ttotal: 8.42s\tremaining: 9.53s\n",
      "469:\tlearn: 0.0668567\ttotal: 8.44s\tremaining: 9.51s\n",
      "470:\tlearn: 0.0667158\ttotal: 8.45s\tremaining: 9.49s\n",
      "471:\tlearn: 0.0665804\ttotal: 8.47s\tremaining: 9.48s\n",
      "472:\tlearn: 0.0664427\ttotal: 8.49s\tremaining: 9.46s\n",
      "473:\tlearn: 0.0662427\ttotal: 8.51s\tremaining: 9.44s\n",
      "474:\tlearn: 0.0661110\ttotal: 8.53s\tremaining: 9.42s\n",
      "475:\tlearn: 0.0659673\ttotal: 8.54s\tremaining: 9.4s\n",
      "476:\tlearn: 0.0658274\ttotal: 8.56s\tremaining: 9.38s\n",
      "477:\tlearn: 0.0657052\ttotal: 8.58s\tremaining: 9.37s\n",
      "478:\tlearn: 0.0656264\ttotal: 8.6s\tremaining: 9.35s\n",
      "479:\tlearn: 0.0654121\ttotal: 8.61s\tremaining: 9.33s\n",
      "480:\tlearn: 0.0653131\ttotal: 8.63s\tremaining: 9.31s\n",
      "481:\tlearn: 0.0651729\ttotal: 8.65s\tremaining: 9.29s\n",
      "482:\tlearn: 0.0649924\ttotal: 8.66s\tremaining: 9.27s\n",
      "483:\tlearn: 0.0648438\ttotal: 8.68s\tremaining: 9.26s\n",
      "484:\tlearn: 0.0647169\ttotal: 8.71s\tremaining: 9.24s\n",
      "485:\tlearn: 0.0645947\ttotal: 8.72s\tremaining: 9.23s\n",
      "486:\tlearn: 0.0643852\ttotal: 8.74s\tremaining: 9.21s\n",
      "487:\tlearn: 0.0641874\ttotal: 8.76s\tremaining: 9.19s\n",
      "488:\tlearn: 0.0640832\ttotal: 8.78s\tremaining: 9.17s\n",
      "489:\tlearn: 0.0639449\ttotal: 8.79s\tremaining: 9.15s\n",
      "490:\tlearn: 0.0638510\ttotal: 8.81s\tremaining: 9.14s\n",
      "491:\tlearn: 0.0637392\ttotal: 8.83s\tremaining: 9.12s\n",
      "492:\tlearn: 0.0635920\ttotal: 8.85s\tremaining: 9.1s\n",
      "493:\tlearn: 0.0633978\ttotal: 8.87s\tremaining: 9.08s\n",
      "494:\tlearn: 0.0632247\ttotal: 8.88s\tremaining: 9.06s\n",
      "495:\tlearn: 0.0630703\ttotal: 8.9s\tremaining: 9.05s\n",
      "496:\tlearn: 0.0629712\ttotal: 8.92s\tremaining: 9.03s\n",
      "497:\tlearn: 0.0628078\ttotal: 8.94s\tremaining: 9.01s\n",
      "498:\tlearn: 0.0626495\ttotal: 8.96s\tremaining: 8.99s\n",
      "499:\tlearn: 0.0625611\ttotal: 8.97s\tremaining: 8.97s\n",
      "500:\tlearn: 0.0624468\ttotal: 8.99s\tremaining: 8.96s\n",
      "501:\tlearn: 0.0623250\ttotal: 9.01s\tremaining: 8.94s\n",
      "502:\tlearn: 0.0622336\ttotal: 9.03s\tremaining: 8.92s\n",
      "503:\tlearn: 0.0621745\ttotal: 9.05s\tremaining: 8.9s\n",
      "504:\tlearn: 0.0620790\ttotal: 9.06s\tremaining: 8.88s\n",
      "505:\tlearn: 0.0619502\ttotal: 9.08s\tremaining: 8.87s\n",
      "506:\tlearn: 0.0618137\ttotal: 9.1s\tremaining: 8.85s\n",
      "507:\tlearn: 0.0617692\ttotal: 9.12s\tremaining: 8.83s\n",
      "508:\tlearn: 0.0617459\ttotal: 9.12s\tremaining: 8.8s\n",
      "509:\tlearn: 0.0616180\ttotal: 9.14s\tremaining: 8.78s\n",
      "510:\tlearn: 0.0614952\ttotal: 9.16s\tremaining: 8.76s\n",
      "511:\tlearn: 0.0613409\ttotal: 9.17s\tremaining: 8.74s\n",
      "512:\tlearn: 0.0613239\ttotal: 9.18s\tremaining: 8.71s\n",
      "513:\tlearn: 0.0612025\ttotal: 9.2s\tremaining: 8.7s\n",
      "514:\tlearn: 0.0611316\ttotal: 9.21s\tremaining: 8.68s\n",
      "515:\tlearn: 0.0609397\ttotal: 9.23s\tremaining: 8.66s\n",
      "516:\tlearn: 0.0607633\ttotal: 9.25s\tremaining: 8.64s\n",
      "517:\tlearn: 0.0606047\ttotal: 9.27s\tremaining: 8.62s\n",
      "518:\tlearn: 0.0605906\ttotal: 9.27s\tremaining: 8.59s\n",
      "519:\tlearn: 0.0605064\ttotal: 9.29s\tremaining: 8.57s\n",
      "520:\tlearn: 0.0603953\ttotal: 9.31s\tremaining: 8.55s\n",
      "521:\tlearn: 0.0603048\ttotal: 9.32s\tremaining: 8.54s\n",
      "522:\tlearn: 0.0602146\ttotal: 9.34s\tremaining: 8.52s\n",
      "523:\tlearn: 0.0601580\ttotal: 9.36s\tremaining: 8.5s\n",
      "524:\tlearn: 0.0601067\ttotal: 9.38s\tremaining: 8.48s\n",
      "525:\tlearn: 0.0600127\ttotal: 9.39s\tremaining: 8.46s\n",
      "526:\tlearn: 0.0599854\ttotal: 9.41s\tremaining: 8.44s\n",
      "527:\tlearn: 0.0599106\ttotal: 9.43s\tremaining: 8.43s\n",
      "528:\tlearn: 0.0598222\ttotal: 9.44s\tremaining: 8.41s\n",
      "529:\tlearn: 0.0596914\ttotal: 9.46s\tremaining: 8.39s\n",
      "530:\tlearn: 0.0596222\ttotal: 9.48s\tremaining: 8.37s\n",
      "531:\tlearn: 0.0595159\ttotal: 9.5s\tremaining: 8.35s\n",
      "532:\tlearn: 0.0594126\ttotal: 9.51s\tremaining: 8.34s\n",
      "533:\tlearn: 0.0593407\ttotal: 9.53s\tremaining: 8.32s\n",
      "534:\tlearn: 0.0591915\ttotal: 9.55s\tremaining: 8.3s\n",
      "535:\tlearn: 0.0590635\ttotal: 9.57s\tremaining: 8.28s\n",
      "536:\tlearn: 0.0589470\ttotal: 9.58s\tremaining: 8.26s\n",
      "537:\tlearn: 0.0588238\ttotal: 9.6s\tremaining: 8.24s\n",
      "538:\tlearn: 0.0587762\ttotal: 9.62s\tremaining: 8.22s\n",
      "539:\tlearn: 0.0586266\ttotal: 9.63s\tremaining: 8.21s\n",
      "540:\tlearn: 0.0584988\ttotal: 9.65s\tremaining: 8.19s\n",
      "541:\tlearn: 0.0583928\ttotal: 9.67s\tremaining: 8.17s\n",
      "542:\tlearn: 0.0582817\ttotal: 9.69s\tremaining: 8.15s\n",
      "543:\tlearn: 0.0581874\ttotal: 9.71s\tremaining: 8.14s\n",
      "544:\tlearn: 0.0580439\ttotal: 9.72s\tremaining: 8.12s\n",
      "545:\tlearn: 0.0579557\ttotal: 9.74s\tremaining: 8.1s\n",
      "546:\tlearn: 0.0578521\ttotal: 9.76s\tremaining: 8.08s\n",
      "547:\tlearn: 0.0577429\ttotal: 9.78s\tremaining: 8.06s\n",
      "548:\tlearn: 0.0576203\ttotal: 9.79s\tremaining: 8.04s\n",
      "549:\tlearn: 0.0575448\ttotal: 9.81s\tremaining: 8.03s\n",
      "550:\tlearn: 0.0574208\ttotal: 9.83s\tremaining: 8.01s\n",
      "551:\tlearn: 0.0573064\ttotal: 9.86s\tremaining: 8s\n",
      "552:\tlearn: 0.0572074\ttotal: 9.88s\tremaining: 7.99s\n",
      "553:\tlearn: 0.0570989\ttotal: 9.91s\tremaining: 7.98s\n",
      "554:\tlearn: 0.0570565\ttotal: 9.92s\tremaining: 7.96s\n",
      "555:\tlearn: 0.0569490\ttotal: 9.94s\tremaining: 7.94s\n",
      "556:\tlearn: 0.0567631\ttotal: 9.96s\tremaining: 7.92s\n",
      "557:\tlearn: 0.0565943\ttotal: 9.97s\tremaining: 7.9s\n",
      "558:\tlearn: 0.0564506\ttotal: 9.99s\tremaining: 7.88s\n",
      "559:\tlearn: 0.0563362\ttotal: 10s\tremaining: 7.87s\n",
      "560:\tlearn: 0.0562046\ttotal: 10s\tremaining: 7.85s\n",
      "561:\tlearn: 0.0561216\ttotal: 10s\tremaining: 7.83s\n",
      "562:\tlearn: 0.0559895\ttotal: 10.1s\tremaining: 7.81s\n",
      "563:\tlearn: 0.0558701\ttotal: 10.1s\tremaining: 7.8s\n",
      "564:\tlearn: 0.0557569\ttotal: 10.1s\tremaining: 7.78s\n",
      "565:\tlearn: 0.0556440\ttotal: 10.1s\tremaining: 7.76s\n",
      "566:\tlearn: 0.0555440\ttotal: 10.1s\tremaining: 7.74s\n",
      "567:\tlearn: 0.0554232\ttotal: 10.2s\tremaining: 7.72s\n",
      "568:\tlearn: 0.0552787\ttotal: 10.2s\tremaining: 7.71s\n",
      "569:\tlearn: 0.0551585\ttotal: 10.2s\tremaining: 7.69s\n",
      "570:\tlearn: 0.0550763\ttotal: 10.2s\tremaining: 7.67s\n",
      "571:\tlearn: 0.0549451\ttotal: 10.2s\tremaining: 7.65s\n",
      "572:\tlearn: 0.0548160\ttotal: 10.2s\tremaining: 7.63s\n",
      "573:\tlearn: 0.0547152\ttotal: 10.3s\tremaining: 7.62s\n",
      "574:\tlearn: 0.0546258\ttotal: 10.3s\tremaining: 7.6s\n",
      "575:\tlearn: 0.0545378\ttotal: 10.3s\tremaining: 7.59s\n",
      "576:\tlearn: 0.0544307\ttotal: 10.3s\tremaining: 7.57s\n",
      "577:\tlearn: 0.0542884\ttotal: 10.3s\tremaining: 7.56s\n",
      "578:\tlearn: 0.0542477\ttotal: 10.4s\tremaining: 7.54s\n",
      "579:\tlearn: 0.0541054\ttotal: 10.4s\tremaining: 7.53s\n",
      "580:\tlearn: 0.0539599\ttotal: 10.4s\tremaining: 7.51s\n",
      "581:\tlearn: 0.0539030\ttotal: 10.4s\tremaining: 7.49s\n",
      "582:\tlearn: 0.0538273\ttotal: 10.5s\tremaining: 7.48s\n",
      "583:\tlearn: 0.0537447\ttotal: 10.5s\tremaining: 7.46s\n",
      "584:\tlearn: 0.0536461\ttotal: 10.5s\tremaining: 7.45s\n",
      "585:\tlearn: 0.0535448\ttotal: 10.5s\tremaining: 7.44s\n",
      "586:\tlearn: 0.0534911\ttotal: 10.6s\tremaining: 7.42s\n",
      "587:\tlearn: 0.0534793\ttotal: 10.6s\tremaining: 7.39s\n",
      "588:\tlearn: 0.0533442\ttotal: 10.6s\tremaining: 7.38s\n",
      "589:\tlearn: 0.0532638\ttotal: 10.6s\tremaining: 7.36s\n",
      "590:\tlearn: 0.0531998\ttotal: 10.6s\tremaining: 7.34s\n",
      "591:\tlearn: 0.0530943\ttotal: 10.6s\tremaining: 7.32s\n",
      "592:\tlearn: 0.0530263\ttotal: 10.6s\tremaining: 7.3s\n",
      "593:\tlearn: 0.0529811\ttotal: 10.7s\tremaining: 7.29s\n",
      "594:\tlearn: 0.0528647\ttotal: 10.7s\tremaining: 7.27s\n",
      "595:\tlearn: 0.0527918\ttotal: 10.7s\tremaining: 7.26s\n",
      "596:\tlearn: 0.0526408\ttotal: 10.7s\tremaining: 7.25s\n",
      "597:\tlearn: 0.0525532\ttotal: 10.8s\tremaining: 7.23s\n",
      "598:\tlearn: 0.0525202\ttotal: 10.8s\tremaining: 7.21s\n",
      "599:\tlearn: 0.0524283\ttotal: 10.8s\tremaining: 7.19s\n",
      "600:\tlearn: 0.0523179\ttotal: 10.8s\tremaining: 7.17s\n",
      "601:\tlearn: 0.0522591\ttotal: 10.8s\tremaining: 7.15s\n",
      "602:\tlearn: 0.0521661\ttotal: 10.8s\tremaining: 7.13s\n",
      "603:\tlearn: 0.0520666\ttotal: 10.9s\tremaining: 7.11s\n",
      "604:\tlearn: 0.0520496\ttotal: 10.9s\tremaining: 7.09s\n",
      "605:\tlearn: 0.0519879\ttotal: 10.9s\tremaining: 7.07s\n",
      "606:\tlearn: 0.0519020\ttotal: 10.9s\tremaining: 7.05s\n",
      "607:\tlearn: 0.0518790\ttotal: 10.9s\tremaining: 7.03s\n",
      "608:\tlearn: 0.0518261\ttotal: 10.9s\tremaining: 7.01s\n",
      "609:\tlearn: 0.0517202\ttotal: 10.9s\tremaining: 6.99s\n",
      "610:\tlearn: 0.0516707\ttotal: 11s\tremaining: 6.97s\n",
      "611:\tlearn: 0.0515772\ttotal: 11s\tremaining: 6.96s\n",
      "612:\tlearn: 0.0515171\ttotal: 11s\tremaining: 6.94s\n",
      "613:\tlearn: 0.0513672\ttotal: 11s\tremaining: 6.92s\n",
      "614:\tlearn: 0.0512784\ttotal: 11s\tremaining: 6.9s\n",
      "615:\tlearn: 0.0511977\ttotal: 11s\tremaining: 6.88s\n",
      "616:\tlearn: 0.0510808\ttotal: 11.1s\tremaining: 6.87s\n",
      "617:\tlearn: 0.0510352\ttotal: 11.1s\tremaining: 6.85s\n",
      "618:\tlearn: 0.0509142\ttotal: 11.1s\tremaining: 6.83s\n",
      "619:\tlearn: 0.0508221\ttotal: 11.1s\tremaining: 6.81s\n",
      "620:\tlearn: 0.0507326\ttotal: 11.1s\tremaining: 6.79s\n",
      "621:\tlearn: 0.0506676\ttotal: 11.1s\tremaining: 6.77s\n",
      "622:\tlearn: 0.0505917\ttotal: 11.2s\tremaining: 6.75s\n",
      "623:\tlearn: 0.0505047\ttotal: 11.2s\tremaining: 6.74s\n",
      "624:\tlearn: 0.0504092\ttotal: 11.2s\tremaining: 6.72s\n",
      "625:\tlearn: 0.0503318\ttotal: 11.2s\tremaining: 6.7s\n",
      "626:\tlearn: 0.0502508\ttotal: 11.2s\tremaining: 6.68s\n",
      "627:\tlearn: 0.0501629\ttotal: 11.2s\tremaining: 6.66s\n",
      "628:\tlearn: 0.0501541\ttotal: 11.3s\tremaining: 6.64s\n",
      "629:\tlearn: 0.0500850\ttotal: 11.3s\tremaining: 6.62s\n",
      "630:\tlearn: 0.0499605\ttotal: 11.3s\tremaining: 6.6s\n",
      "631:\tlearn: 0.0498843\ttotal: 11.3s\tremaining: 6.58s\n",
      "632:\tlearn: 0.0498114\ttotal: 11.3s\tremaining: 6.56s\n",
      "633:\tlearn: 0.0497191\ttotal: 11.3s\tremaining: 6.55s\n",
      "634:\tlearn: 0.0496563\ttotal: 11.4s\tremaining: 6.53s\n",
      "635:\tlearn: 0.0495973\ttotal: 11.4s\tremaining: 6.51s\n",
      "636:\tlearn: 0.0494542\ttotal: 11.4s\tremaining: 6.49s\n",
      "637:\tlearn: 0.0494045\ttotal: 11.4s\tremaining: 6.47s\n",
      "638:\tlearn: 0.0493247\ttotal: 11.4s\tremaining: 6.45s\n",
      "639:\tlearn: 0.0492319\ttotal: 11.4s\tremaining: 6.43s\n",
      "640:\tlearn: 0.0491242\ttotal: 11.5s\tremaining: 6.42s\n",
      "641:\tlearn: 0.0490567\ttotal: 11.5s\tremaining: 6.4s\n",
      "642:\tlearn: 0.0489523\ttotal: 11.5s\tremaining: 6.38s\n",
      "643:\tlearn: 0.0488820\ttotal: 11.5s\tremaining: 6.36s\n",
      "644:\tlearn: 0.0487862\ttotal: 11.5s\tremaining: 6.34s\n",
      "645:\tlearn: 0.0487336\ttotal: 11.5s\tremaining: 6.32s\n",
      "646:\tlearn: 0.0486589\ttotal: 11.6s\tremaining: 6.31s\n",
      "647:\tlearn: 0.0485362\ttotal: 11.6s\tremaining: 6.29s\n",
      "648:\tlearn: 0.0485104\ttotal: 11.6s\tremaining: 6.27s\n",
      "649:\tlearn: 0.0484026\ttotal: 11.6s\tremaining: 6.26s\n",
      "650:\tlearn: 0.0483461\ttotal: 11.6s\tremaining: 6.24s\n",
      "651:\tlearn: 0.0482758\ttotal: 11.7s\tremaining: 6.23s\n",
      "652:\tlearn: 0.0482418\ttotal: 11.7s\tremaining: 6.21s\n",
      "653:\tlearn: 0.0482041\ttotal: 11.7s\tremaining: 6.2s\n",
      "654:\tlearn: 0.0481145\ttotal: 11.7s\tremaining: 6.18s\n",
      "655:\tlearn: 0.0480606\ttotal: 11.7s\tremaining: 6.16s\n",
      "656:\tlearn: 0.0480246\ttotal: 11.8s\tremaining: 6.14s\n",
      "657:\tlearn: 0.0478849\ttotal: 11.8s\tremaining: 6.12s\n",
      "658:\tlearn: 0.0478073\ttotal: 11.8s\tremaining: 6.11s\n",
      "659:\tlearn: 0.0477574\ttotal: 11.8s\tremaining: 6.09s\n",
      "660:\tlearn: 0.0477289\ttotal: 11.8s\tremaining: 6.07s\n",
      "661:\tlearn: 0.0476588\ttotal: 11.9s\tremaining: 6.05s\n",
      "662:\tlearn: 0.0475857\ttotal: 11.9s\tremaining: 6.03s\n",
      "663:\tlearn: 0.0475412\ttotal: 11.9s\tremaining: 6.01s\n",
      "664:\tlearn: 0.0474731\ttotal: 11.9s\tremaining: 6s\n",
      "665:\tlearn: 0.0473792\ttotal: 11.9s\tremaining: 5.98s\n",
      "666:\tlearn: 0.0472800\ttotal: 11.9s\tremaining: 5.96s\n",
      "667:\tlearn: 0.0471678\ttotal: 12s\tremaining: 5.94s\n",
      "668:\tlearn: 0.0471151\ttotal: 12s\tremaining: 5.92s\n",
      "669:\tlearn: 0.0470195\ttotal: 12s\tremaining: 5.91s\n",
      "670:\tlearn: 0.0469267\ttotal: 12s\tremaining: 5.89s\n",
      "671:\tlearn: 0.0468992\ttotal: 12s\tremaining: 5.87s\n",
      "672:\tlearn: 0.0468439\ttotal: 12s\tremaining: 5.85s\n",
      "673:\tlearn: 0.0468053\ttotal: 12.1s\tremaining: 5.83s\n",
      "674:\tlearn: 0.0467444\ttotal: 12.1s\tremaining: 5.82s\n",
      "675:\tlearn: 0.0466566\ttotal: 12.1s\tremaining: 5.8s\n",
      "676:\tlearn: 0.0466134\ttotal: 12.1s\tremaining: 5.78s\n",
      "677:\tlearn: 0.0465520\ttotal: 12.1s\tremaining: 5.76s\n",
      "678:\tlearn: 0.0464619\ttotal: 12.1s\tremaining: 5.74s\n",
      "679:\tlearn: 0.0463951\ttotal: 12.2s\tremaining: 5.72s\n",
      "680:\tlearn: 0.0462879\ttotal: 12.2s\tremaining: 5.7s\n",
      "681:\tlearn: 0.0462038\ttotal: 12.2s\tremaining: 5.69s\n",
      "682:\tlearn: 0.0461108\ttotal: 12.2s\tremaining: 5.67s\n",
      "683:\tlearn: 0.0460443\ttotal: 12.2s\tremaining: 5.65s\n",
      "684:\tlearn: 0.0459873\ttotal: 12.2s\tremaining: 5.63s\n",
      "685:\tlearn: 0.0459177\ttotal: 12.3s\tremaining: 5.61s\n",
      "686:\tlearn: 0.0458247\ttotal: 12.3s\tremaining: 5.59s\n",
      "687:\tlearn: 0.0457418\ttotal: 12.3s\tremaining: 5.58s\n",
      "688:\tlearn: 0.0456896\ttotal: 12.3s\tremaining: 5.56s\n",
      "689:\tlearn: 0.0455920\ttotal: 12.3s\tremaining: 5.54s\n",
      "690:\tlearn: 0.0455337\ttotal: 12.4s\tremaining: 5.52s\n",
      "691:\tlearn: 0.0454810\ttotal: 12.4s\tremaining: 5.5s\n",
      "692:\tlearn: 0.0453839\ttotal: 12.4s\tremaining: 5.49s\n",
      "693:\tlearn: 0.0453013\ttotal: 12.4s\tremaining: 5.47s\n",
      "694:\tlearn: 0.0452079\ttotal: 12.4s\tremaining: 5.45s\n",
      "695:\tlearn: 0.0451704\ttotal: 12.4s\tremaining: 5.43s\n",
      "696:\tlearn: 0.0450679\ttotal: 12.5s\tremaining: 5.41s\n",
      "697:\tlearn: 0.0449970\ttotal: 12.5s\tremaining: 5.4s\n",
      "698:\tlearn: 0.0449482\ttotal: 12.5s\tremaining: 5.38s\n",
      "699:\tlearn: 0.0448846\ttotal: 12.5s\tremaining: 5.36s\n",
      "700:\tlearn: 0.0447949\ttotal: 12.5s\tremaining: 5.34s\n",
      "701:\tlearn: 0.0447186\ttotal: 12.5s\tremaining: 5.32s\n",
      "702:\tlearn: 0.0446787\ttotal: 12.6s\tremaining: 5.3s\n",
      "703:\tlearn: 0.0446569\ttotal: 12.6s\tremaining: 5.29s\n",
      "704:\tlearn: 0.0445717\ttotal: 12.6s\tremaining: 5.27s\n",
      "705:\tlearn: 0.0444798\ttotal: 12.6s\tremaining: 5.25s\n",
      "706:\tlearn: 0.0443944\ttotal: 12.6s\tremaining: 5.23s\n",
      "707:\tlearn: 0.0443389\ttotal: 12.6s\tremaining: 5.21s\n",
      "708:\tlearn: 0.0442757\ttotal: 12.7s\tremaining: 5.2s\n",
      "709:\tlearn: 0.0442420\ttotal: 12.7s\tremaining: 5.18s\n",
      "710:\tlearn: 0.0441701\ttotal: 12.7s\tremaining: 5.16s\n",
      "711:\tlearn: 0.0441441\ttotal: 12.7s\tremaining: 5.14s\n",
      "712:\tlearn: 0.0440767\ttotal: 12.7s\tremaining: 5.12s\n",
      "713:\tlearn: 0.0440086\ttotal: 12.7s\tremaining: 5.11s\n",
      "714:\tlearn: 0.0439196\ttotal: 12.8s\tremaining: 5.09s\n",
      "715:\tlearn: 0.0438604\ttotal: 12.8s\tremaining: 5.07s\n",
      "716:\tlearn: 0.0438018\ttotal: 12.8s\tremaining: 5.05s\n",
      "717:\tlearn: 0.0437287\ttotal: 12.8s\tremaining: 5.03s\n",
      "718:\tlearn: 0.0436021\ttotal: 12.8s\tremaining: 5.01s\n",
      "719:\tlearn: 0.0435217\ttotal: 12.8s\tremaining: 5s\n",
      "720:\tlearn: 0.0434530\ttotal: 12.9s\tremaining: 4.98s\n",
      "721:\tlearn: 0.0433774\ttotal: 12.9s\tremaining: 4.96s\n",
      "722:\tlearn: 0.0433456\ttotal: 12.9s\tremaining: 4.94s\n",
      "723:\tlearn: 0.0432769\ttotal: 12.9s\tremaining: 4.92s\n",
      "724:\tlearn: 0.0432130\ttotal: 12.9s\tremaining: 4.91s\n",
      "725:\tlearn: 0.0431628\ttotal: 12.9s\tremaining: 4.89s\n",
      "726:\tlearn: 0.0430781\ttotal: 13s\tremaining: 4.87s\n",
      "727:\tlearn: 0.0430388\ttotal: 13s\tremaining: 4.85s\n",
      "728:\tlearn: 0.0429955\ttotal: 13s\tremaining: 4.83s\n",
      "729:\tlearn: 0.0429205\ttotal: 13s\tremaining: 4.81s\n",
      "730:\tlearn: 0.0428795\ttotal: 13s\tremaining: 4.8s\n",
      "731:\tlearn: 0.0428007\ttotal: 13.1s\tremaining: 4.78s\n",
      "732:\tlearn: 0.0427446\ttotal: 13.1s\tremaining: 4.76s\n",
      "733:\tlearn: 0.0426579\ttotal: 13.1s\tremaining: 4.74s\n",
      "734:\tlearn: 0.0426056\ttotal: 13.1s\tremaining: 4.72s\n",
      "735:\tlearn: 0.0425395\ttotal: 13.1s\tremaining: 4.71s\n",
      "736:\tlearn: 0.0424842\ttotal: 13.1s\tremaining: 4.69s\n",
      "737:\tlearn: 0.0424153\ttotal: 13.2s\tremaining: 4.67s\n",
      "738:\tlearn: 0.0423700\ttotal: 13.2s\tremaining: 4.66s\n",
      "739:\tlearn: 0.0423117\ttotal: 13.2s\tremaining: 4.64s\n",
      "740:\tlearn: 0.0422442\ttotal: 13.2s\tremaining: 4.62s\n",
      "741:\tlearn: 0.0422133\ttotal: 13.2s\tremaining: 4.6s\n",
      "742:\tlearn: 0.0421347\ttotal: 13.3s\tremaining: 4.58s\n",
      "743:\tlearn: 0.0420362\ttotal: 13.3s\tremaining: 4.57s\n",
      "744:\tlearn: 0.0419773\ttotal: 13.3s\tremaining: 4.55s\n",
      "745:\tlearn: 0.0419164\ttotal: 13.3s\tremaining: 4.53s\n",
      "746:\tlearn: 0.0418413\ttotal: 13.3s\tremaining: 4.51s\n",
      "747:\tlearn: 0.0417866\ttotal: 13.3s\tremaining: 4.49s\n",
      "748:\tlearn: 0.0417248\ttotal: 13.4s\tremaining: 4.48s\n",
      "749:\tlearn: 0.0416496\ttotal: 13.4s\tremaining: 4.46s\n",
      "750:\tlearn: 0.0415705\ttotal: 13.4s\tremaining: 4.44s\n",
      "751:\tlearn: 0.0415206\ttotal: 13.4s\tremaining: 4.42s\n",
      "752:\tlearn: 0.0414739\ttotal: 13.4s\tremaining: 4.4s\n",
      "753:\tlearn: 0.0414086\ttotal: 13.4s\tremaining: 4.39s\n",
      "754:\tlearn: 0.0413354\ttotal: 13.5s\tremaining: 4.37s\n",
      "755:\tlearn: 0.0412615\ttotal: 13.5s\tremaining: 4.35s\n",
      "756:\tlearn: 0.0412377\ttotal: 13.5s\tremaining: 4.33s\n",
      "757:\tlearn: 0.0411980\ttotal: 13.5s\tremaining: 4.31s\n",
      "758:\tlearn: 0.0411430\ttotal: 13.5s\tremaining: 4.3s\n",
      "759:\tlearn: 0.0410754\ttotal: 13.5s\tremaining: 4.28s\n",
      "760:\tlearn: 0.0409986\ttotal: 13.6s\tremaining: 4.26s\n",
      "761:\tlearn: 0.0409793\ttotal: 13.6s\tremaining: 4.24s\n",
      "762:\tlearn: 0.0409299\ttotal: 13.6s\tremaining: 4.22s\n",
      "763:\tlearn: 0.0408863\ttotal: 13.6s\tremaining: 4.21s\n",
      "764:\tlearn: 0.0408233\ttotal: 13.6s\tremaining: 4.19s\n",
      "765:\tlearn: 0.0407555\ttotal: 13.7s\tremaining: 4.17s\n",
      "766:\tlearn: 0.0407157\ttotal: 13.7s\tremaining: 4.15s\n",
      "767:\tlearn: 0.0406665\ttotal: 13.7s\tremaining: 4.13s\n",
      "768:\tlearn: 0.0406205\ttotal: 13.7s\tremaining: 4.12s\n",
      "769:\tlearn: 0.0405606\ttotal: 13.7s\tremaining: 4.1s\n",
      "770:\tlearn: 0.0405012\ttotal: 13.7s\tremaining: 4.08s\n",
      "771:\tlearn: 0.0404167\ttotal: 13.8s\tremaining: 4.06s\n",
      "772:\tlearn: 0.0403557\ttotal: 13.8s\tremaining: 4.04s\n",
      "773:\tlearn: 0.0403038\ttotal: 13.8s\tremaining: 4.03s\n",
      "774:\tlearn: 0.0402595\ttotal: 13.8s\tremaining: 4.01s\n",
      "775:\tlearn: 0.0402121\ttotal: 13.8s\tremaining: 3.99s\n",
      "776:\tlearn: 0.0401599\ttotal: 13.8s\tremaining: 3.97s\n",
      "777:\tlearn: 0.0400857\ttotal: 13.9s\tremaining: 3.95s\n",
      "778:\tlearn: 0.0399972\ttotal: 13.9s\tremaining: 3.94s\n",
      "779:\tlearn: 0.0399411\ttotal: 13.9s\tremaining: 3.92s\n",
      "780:\tlearn: 0.0399109\ttotal: 13.9s\tremaining: 3.9s\n",
      "781:\tlearn: 0.0398036\ttotal: 13.9s\tremaining: 3.88s\n",
      "782:\tlearn: 0.0397512\ttotal: 13.9s\tremaining: 3.86s\n",
      "783:\tlearn: 0.0397171\ttotal: 14s\tremaining: 3.85s\n",
      "784:\tlearn: 0.0396707\ttotal: 14s\tremaining: 3.83s\n",
      "785:\tlearn: 0.0396019\ttotal: 14s\tremaining: 3.81s\n",
      "786:\tlearn: 0.0395745\ttotal: 14s\tremaining: 3.79s\n",
      "787:\tlearn: 0.0395098\ttotal: 14s\tremaining: 3.77s\n",
      "788:\tlearn: 0.0394410\ttotal: 14s\tremaining: 3.76s\n",
      "789:\tlearn: 0.0393815\ttotal: 14.1s\tremaining: 3.74s\n",
      "790:\tlearn: 0.0393295\ttotal: 14.1s\tremaining: 3.72s\n",
      "791:\tlearn: 0.0393088\ttotal: 14.1s\tremaining: 3.7s\n",
      "792:\tlearn: 0.0392528\ttotal: 14.1s\tremaining: 3.68s\n",
      "793:\tlearn: 0.0392205\ttotal: 14.1s\tremaining: 3.67s\n",
      "794:\tlearn: 0.0391724\ttotal: 14.1s\tremaining: 3.65s\n",
      "795:\tlearn: 0.0391200\ttotal: 14.2s\tremaining: 3.63s\n",
      "796:\tlearn: 0.0390709\ttotal: 14.2s\tremaining: 3.61s\n",
      "797:\tlearn: 0.0390188\ttotal: 14.2s\tremaining: 3.6s\n",
      "798:\tlearn: 0.0389580\ttotal: 14.2s\tremaining: 3.58s\n",
      "799:\tlearn: 0.0389186\ttotal: 14.3s\tremaining: 3.56s\n",
      "800:\tlearn: 0.0388956\ttotal: 14.3s\tremaining: 3.55s\n",
      "801:\tlearn: 0.0388550\ttotal: 14.3s\tremaining: 3.53s\n",
      "802:\tlearn: 0.0388169\ttotal: 14.3s\tremaining: 3.52s\n",
      "803:\tlearn: 0.0387501\ttotal: 14.4s\tremaining: 3.5s\n",
      "804:\tlearn: 0.0387320\ttotal: 14.4s\tremaining: 3.48s\n",
      "805:\tlearn: 0.0386812\ttotal: 14.4s\tremaining: 3.46s\n",
      "806:\tlearn: 0.0386558\ttotal: 14.4s\tremaining: 3.45s\n",
      "807:\tlearn: 0.0386101\ttotal: 14.4s\tremaining: 3.43s\n",
      "808:\tlearn: 0.0385622\ttotal: 14.4s\tremaining: 3.41s\n",
      "809:\tlearn: 0.0385119\ttotal: 14.5s\tremaining: 3.39s\n",
      "810:\tlearn: 0.0384556\ttotal: 14.5s\tremaining: 3.37s\n",
      "811:\tlearn: 0.0383540\ttotal: 14.5s\tremaining: 3.36s\n",
      "812:\tlearn: 0.0383115\ttotal: 14.5s\tremaining: 3.34s\n",
      "813:\tlearn: 0.0382615\ttotal: 14.5s\tremaining: 3.32s\n",
      "814:\tlearn: 0.0382203\ttotal: 14.5s\tremaining: 3.3s\n",
      "815:\tlearn: 0.0381423\ttotal: 14.6s\tremaining: 3.28s\n",
      "816:\tlearn: 0.0380958\ttotal: 14.6s\tremaining: 3.26s\n",
      "817:\tlearn: 0.0380413\ttotal: 14.6s\tremaining: 3.25s\n",
      "818:\tlearn: 0.0379981\ttotal: 14.6s\tremaining: 3.23s\n",
      "819:\tlearn: 0.0379410\ttotal: 14.6s\tremaining: 3.21s\n",
      "820:\tlearn: 0.0378860\ttotal: 14.6s\tremaining: 3.19s\n",
      "821:\tlearn: 0.0378323\ttotal: 14.7s\tremaining: 3.17s\n",
      "822:\tlearn: 0.0377804\ttotal: 14.7s\tremaining: 3.16s\n",
      "823:\tlearn: 0.0377284\ttotal: 14.7s\tremaining: 3.14s\n",
      "824:\tlearn: 0.0376785\ttotal: 14.7s\tremaining: 3.12s\n",
      "825:\tlearn: 0.0376549\ttotal: 14.7s\tremaining: 3.1s\n",
      "826:\tlearn: 0.0376164\ttotal: 14.7s\tremaining: 3.08s\n",
      "827:\tlearn: 0.0375726\ttotal: 14.8s\tremaining: 3.07s\n",
      "828:\tlearn: 0.0375334\ttotal: 14.8s\tremaining: 3.05s\n",
      "829:\tlearn: 0.0375138\ttotal: 14.8s\tremaining: 3.03s\n",
      "830:\tlearn: 0.0374589\ttotal: 14.8s\tremaining: 3.01s\n",
      "831:\tlearn: 0.0374089\ttotal: 14.8s\tremaining: 2.99s\n",
      "832:\tlearn: 0.0373700\ttotal: 14.8s\tremaining: 2.98s\n",
      "833:\tlearn: 0.0373015\ttotal: 14.9s\tremaining: 2.96s\n",
      "834:\tlearn: 0.0372465\ttotal: 14.9s\tremaining: 2.94s\n",
      "835:\tlearn: 0.0372218\ttotal: 14.9s\tremaining: 2.92s\n",
      "836:\tlearn: 0.0371649\ttotal: 14.9s\tremaining: 2.9s\n",
      "837:\tlearn: 0.0370741\ttotal: 14.9s\tremaining: 2.88s\n",
      "838:\tlearn: 0.0370587\ttotal: 14.9s\tremaining: 2.87s\n",
      "839:\tlearn: 0.0370053\ttotal: 15s\tremaining: 2.85s\n",
      "840:\tlearn: 0.0369639\ttotal: 15s\tremaining: 2.83s\n",
      "841:\tlearn: 0.0369577\ttotal: 15s\tremaining: 2.81s\n",
      "842:\tlearn: 0.0369095\ttotal: 15s\tremaining: 2.79s\n",
      "843:\tlearn: 0.0369041\ttotal: 15s\tremaining: 2.77s\n",
      "844:\tlearn: 0.0368616\ttotal: 15s\tremaining: 2.75s\n",
      "845:\tlearn: 0.0367869\ttotal: 15s\tremaining: 2.74s\n",
      "846:\tlearn: 0.0367183\ttotal: 15.1s\tremaining: 2.72s\n",
      "847:\tlearn: 0.0366869\ttotal: 15.1s\tremaining: 2.7s\n",
      "848:\tlearn: 0.0366535\ttotal: 15.1s\tremaining: 2.68s\n",
      "849:\tlearn: 0.0365992\ttotal: 15.1s\tremaining: 2.67s\n",
      "850:\tlearn: 0.0365423\ttotal: 15.1s\tremaining: 2.65s\n",
      "851:\tlearn: 0.0365153\ttotal: 15.1s\tremaining: 2.63s\n",
      "852:\tlearn: 0.0364856\ttotal: 15.2s\tremaining: 2.61s\n",
      "853:\tlearn: 0.0364266\ttotal: 15.2s\tremaining: 2.59s\n",
      "854:\tlearn: 0.0363815\ttotal: 15.2s\tremaining: 2.58s\n",
      "855:\tlearn: 0.0363469\ttotal: 15.2s\tremaining: 2.56s\n",
      "856:\tlearn: 0.0363162\ttotal: 15.2s\tremaining: 2.54s\n",
      "857:\tlearn: 0.0362939\ttotal: 15.2s\tremaining: 2.52s\n",
      "858:\tlearn: 0.0362543\ttotal: 15.2s\tremaining: 2.5s\n",
      "859:\tlearn: 0.0362005\ttotal: 15.3s\tremaining: 2.48s\n",
      "860:\tlearn: 0.0361306\ttotal: 15.3s\tremaining: 2.47s\n",
      "861:\tlearn: 0.0360888\ttotal: 15.3s\tremaining: 2.45s\n",
      "862:\tlearn: 0.0360644\ttotal: 15.3s\tremaining: 2.43s\n",
      "863:\tlearn: 0.0360075\ttotal: 15.3s\tremaining: 2.41s\n",
      "864:\tlearn: 0.0359955\ttotal: 15.3s\tremaining: 2.39s\n",
      "865:\tlearn: 0.0359451\ttotal: 15.4s\tremaining: 2.38s\n",
      "866:\tlearn: 0.0359046\ttotal: 15.4s\tremaining: 2.36s\n",
      "867:\tlearn: 0.0358740\ttotal: 15.4s\tremaining: 2.34s\n",
      "868:\tlearn: 0.0358344\ttotal: 15.4s\tremaining: 2.32s\n",
      "869:\tlearn: 0.0358004\ttotal: 15.4s\tremaining: 2.3s\n",
      "870:\tlearn: 0.0357724\ttotal: 15.4s\tremaining: 2.29s\n",
      "871:\tlearn: 0.0357631\ttotal: 15.5s\tremaining: 2.27s\n",
      "872:\tlearn: 0.0357229\ttotal: 15.5s\tremaining: 2.25s\n",
      "873:\tlearn: 0.0356934\ttotal: 15.5s\tremaining: 2.23s\n",
      "874:\tlearn: 0.0356611\ttotal: 15.5s\tremaining: 2.21s\n",
      "875:\tlearn: 0.0356300\ttotal: 15.5s\tremaining: 2.2s\n",
      "876:\tlearn: 0.0356168\ttotal: 15.5s\tremaining: 2.18s\n",
      "877:\tlearn: 0.0355895\ttotal: 15.6s\tremaining: 2.16s\n",
      "878:\tlearn: 0.0355592\ttotal: 15.6s\tremaining: 2.14s\n",
      "879:\tlearn: 0.0355246\ttotal: 15.6s\tremaining: 2.13s\n",
      "880:\tlearn: 0.0354941\ttotal: 15.6s\tremaining: 2.11s\n",
      "881:\tlearn: 0.0354545\ttotal: 15.6s\tremaining: 2.09s\n",
      "882:\tlearn: 0.0354243\ttotal: 15.6s\tremaining: 2.07s\n",
      "883:\tlearn: 0.0353556\ttotal: 15.7s\tremaining: 2.05s\n",
      "884:\tlearn: 0.0352903\ttotal: 15.7s\tremaining: 2.04s\n",
      "885:\tlearn: 0.0352320\ttotal: 15.7s\tremaining: 2.02s\n",
      "886:\tlearn: 0.0352049\ttotal: 15.7s\tremaining: 2s\n",
      "887:\tlearn: 0.0351422\ttotal: 15.7s\tremaining: 1.98s\n",
      "888:\tlearn: 0.0350709\ttotal: 15.7s\tremaining: 1.97s\n",
      "889:\tlearn: 0.0350365\ttotal: 15.8s\tremaining: 1.95s\n",
      "890:\tlearn: 0.0349845\ttotal: 15.8s\tremaining: 1.93s\n",
      "891:\tlearn: 0.0349436\ttotal: 15.8s\tremaining: 1.91s\n",
      "892:\tlearn: 0.0349146\ttotal: 15.8s\tremaining: 1.89s\n",
      "893:\tlearn: 0.0348842\ttotal: 15.8s\tremaining: 1.88s\n",
      "894:\tlearn: 0.0348744\ttotal: 15.8s\tremaining: 1.86s\n",
      "895:\tlearn: 0.0348315\ttotal: 15.9s\tremaining: 1.84s\n",
      "896:\tlearn: 0.0347596\ttotal: 15.9s\tremaining: 1.82s\n",
      "897:\tlearn: 0.0347246\ttotal: 15.9s\tremaining: 1.81s\n",
      "898:\tlearn: 0.0346945\ttotal: 15.9s\tremaining: 1.79s\n",
      "899:\tlearn: 0.0346483\ttotal: 15.9s\tremaining: 1.77s\n",
      "900:\tlearn: 0.0346113\ttotal: 16s\tremaining: 1.75s\n",
      "901:\tlearn: 0.0345778\ttotal: 16s\tremaining: 1.74s\n",
      "902:\tlearn: 0.0345501\ttotal: 16s\tremaining: 1.72s\n",
      "903:\tlearn: 0.0345311\ttotal: 16s\tremaining: 1.7s\n",
      "904:\tlearn: 0.0345040\ttotal: 16s\tremaining: 1.68s\n",
      "905:\tlearn: 0.0344214\ttotal: 16s\tremaining: 1.66s\n",
      "906:\tlearn: 0.0343616\ttotal: 16.1s\tremaining: 1.65s\n",
      "907:\tlearn: 0.0343009\ttotal: 16.1s\tremaining: 1.63s\n",
      "908:\tlearn: 0.0342490\ttotal: 16.1s\tremaining: 1.61s\n",
      "909:\tlearn: 0.0342215\ttotal: 16.1s\tremaining: 1.59s\n",
      "910:\tlearn: 0.0342024\ttotal: 16.1s\tremaining: 1.57s\n",
      "911:\tlearn: 0.0341671\ttotal: 16.1s\tremaining: 1.56s\n",
      "912:\tlearn: 0.0341180\ttotal: 16.2s\tremaining: 1.54s\n",
      "913:\tlearn: 0.0340739\ttotal: 16.2s\tremaining: 1.52s\n",
      "914:\tlearn: 0.0340403\ttotal: 16.2s\tremaining: 1.5s\n",
      "915:\tlearn: 0.0339935\ttotal: 16.2s\tremaining: 1.49s\n",
      "916:\tlearn: 0.0339514\ttotal: 16.2s\tremaining: 1.47s\n",
      "917:\tlearn: 0.0339362\ttotal: 16.2s\tremaining: 1.45s\n",
      "918:\tlearn: 0.0338992\ttotal: 16.2s\tremaining: 1.43s\n",
      "919:\tlearn: 0.0338733\ttotal: 16.3s\tremaining: 1.41s\n",
      "920:\tlearn: 0.0338380\ttotal: 16.3s\tremaining: 1.4s\n",
      "921:\tlearn: 0.0338166\ttotal: 16.3s\tremaining: 1.38s\n",
      "922:\tlearn: 0.0337828\ttotal: 16.3s\tremaining: 1.36s\n",
      "923:\tlearn: 0.0337482\ttotal: 16.3s\tremaining: 1.34s\n",
      "924:\tlearn: 0.0337233\ttotal: 16.3s\tremaining: 1.32s\n",
      "925:\tlearn: 0.0336996\ttotal: 16.4s\tremaining: 1.31s\n",
      "926:\tlearn: 0.0336903\ttotal: 16.4s\tremaining: 1.29s\n",
      "927:\tlearn: 0.0336546\ttotal: 16.4s\tremaining: 1.27s\n",
      "928:\tlearn: 0.0336138\ttotal: 16.4s\tremaining: 1.25s\n",
      "929:\tlearn: 0.0335733\ttotal: 16.4s\tremaining: 1.24s\n",
      "930:\tlearn: 0.0335443\ttotal: 16.5s\tremaining: 1.22s\n",
      "931:\tlearn: 0.0334777\ttotal: 16.5s\tremaining: 1.2s\n",
      "932:\tlearn: 0.0334446\ttotal: 16.5s\tremaining: 1.18s\n",
      "933:\tlearn: 0.0334252\ttotal: 16.5s\tremaining: 1.17s\n",
      "934:\tlearn: 0.0333771\ttotal: 16.5s\tremaining: 1.15s\n",
      "935:\tlearn: 0.0333457\ttotal: 16.5s\tremaining: 1.13s\n",
      "936:\tlearn: 0.0333045\ttotal: 16.5s\tremaining: 1.11s\n",
      "937:\tlearn: 0.0332785\ttotal: 16.6s\tremaining: 1.09s\n",
      "938:\tlearn: 0.0332068\ttotal: 16.6s\tremaining: 1.08s\n",
      "939:\tlearn: 0.0331919\ttotal: 16.6s\tremaining: 1.06s\n",
      "940:\tlearn: 0.0331709\ttotal: 16.6s\tremaining: 1.04s\n",
      "941:\tlearn: 0.0331547\ttotal: 16.6s\tremaining: 1.02s\n",
      "942:\tlearn: 0.0331087\ttotal: 16.7s\tremaining: 1.01s\n",
      "943:\tlearn: 0.0330852\ttotal: 16.7s\tremaining: 989ms\n",
      "944:\tlearn: 0.0330683\ttotal: 16.7s\tremaining: 971ms\n",
      "945:\tlearn: 0.0330481\ttotal: 16.7s\tremaining: 954ms\n",
      "946:\tlearn: 0.0330259\ttotal: 16.7s\tremaining: 936ms\n",
      "947:\tlearn: 0.0329707\ttotal: 16.7s\tremaining: 918ms\n",
      "948:\tlearn: 0.0329337\ttotal: 16.8s\tremaining: 901ms\n",
      "949:\tlearn: 0.0329018\ttotal: 16.8s\tremaining: 883ms\n",
      "950:\tlearn: 0.0328575\ttotal: 16.8s\tremaining: 865ms\n",
      "951:\tlearn: 0.0328442\ttotal: 16.8s\tremaining: 848ms\n",
      "952:\tlearn: 0.0327938\ttotal: 16.8s\tremaining: 830ms\n",
      "953:\tlearn: 0.0327545\ttotal: 16.8s\tremaining: 812ms\n",
      "954:\tlearn: 0.0327146\ttotal: 16.9s\tremaining: 794ms\n",
      "955:\tlearn: 0.0327108\ttotal: 16.9s\tremaining: 776ms\n",
      "956:\tlearn: 0.0326890\ttotal: 16.9s\tremaining: 758ms\n",
      "957:\tlearn: 0.0326608\ttotal: 16.9s\tremaining: 741ms\n",
      "958:\tlearn: 0.0326461\ttotal: 16.9s\tremaining: 723ms\n",
      "959:\tlearn: 0.0326170\ttotal: 16.9s\tremaining: 705ms\n",
      "960:\tlearn: 0.0325798\ttotal: 16.9s\tremaining: 688ms\n",
      "961:\tlearn: 0.0325336\ttotal: 17s\tremaining: 670ms\n",
      "962:\tlearn: 0.0324745\ttotal: 17s\tremaining: 652ms\n",
      "963:\tlearn: 0.0324390\ttotal: 17s\tremaining: 634ms\n",
      "964:\tlearn: 0.0324164\ttotal: 17s\tremaining: 617ms\n",
      "965:\tlearn: 0.0323779\ttotal: 17s\tremaining: 599ms\n",
      "966:\tlearn: 0.0323407\ttotal: 17s\tremaining: 581ms\n",
      "967:\tlearn: 0.0322994\ttotal: 17.1s\tremaining: 564ms\n",
      "968:\tlearn: 0.0322638\ttotal: 17.1s\tremaining: 546ms\n",
      "969:\tlearn: 0.0322362\ttotal: 17.1s\tremaining: 528ms\n",
      "970:\tlearn: 0.0322041\ttotal: 17.1s\tremaining: 511ms\n",
      "971:\tlearn: 0.0321732\ttotal: 17.1s\tremaining: 493ms\n",
      "972:\tlearn: 0.0321619\ttotal: 17.1s\tremaining: 475ms\n",
      "973:\tlearn: 0.0321374\ttotal: 17.1s\tremaining: 458ms\n",
      "974:\tlearn: 0.0320950\ttotal: 17.2s\tremaining: 440ms\n",
      "975:\tlearn: 0.0320484\ttotal: 17.2s\tremaining: 422ms\n",
      "976:\tlearn: 0.0320453\ttotal: 17.2s\tremaining: 405ms\n",
      "977:\tlearn: 0.0320177\ttotal: 17.2s\tremaining: 387ms\n",
      "978:\tlearn: 0.0319836\ttotal: 17.2s\tremaining: 369ms\n",
      "979:\tlearn: 0.0319462\ttotal: 17.2s\tremaining: 352ms\n",
      "980:\tlearn: 0.0319136\ttotal: 17.3s\tremaining: 334ms\n",
      "981:\tlearn: 0.0318726\ttotal: 17.3s\tremaining: 317ms\n",
      "982:\tlearn: 0.0318489\ttotal: 17.3s\tremaining: 299ms\n",
      "983:\tlearn: 0.0318267\ttotal: 17.3s\tremaining: 281ms\n",
      "984:\tlearn: 0.0318241\ttotal: 17.3s\tremaining: 264ms\n",
      "985:\tlearn: 0.0317946\ttotal: 17.3s\tremaining: 246ms\n",
      "986:\tlearn: 0.0317550\ttotal: 17.3s\tremaining: 228ms\n",
      "987:\tlearn: 0.0317277\ttotal: 17.4s\tremaining: 211ms\n",
      "988:\tlearn: 0.0316967\ttotal: 17.4s\tremaining: 193ms\n",
      "989:\tlearn: 0.0316566\ttotal: 17.4s\tremaining: 176ms\n",
      "990:\tlearn: 0.0316318\ttotal: 17.4s\tremaining: 158ms\n",
      "991:\tlearn: 0.0316003\ttotal: 17.4s\tremaining: 141ms\n",
      "992:\tlearn: 0.0315670\ttotal: 17.4s\tremaining: 123ms\n",
      "993:\tlearn: 0.0315545\ttotal: 17.5s\tremaining: 105ms\n",
      "994:\tlearn: 0.0315320\ttotal: 17.5s\tremaining: 87.9ms\n",
      "995:\tlearn: 0.0315046\ttotal: 17.5s\tremaining: 70.3ms\n",
      "996:\tlearn: 0.0314811\ttotal: 17.5s\tremaining: 52.7ms\n",
      "997:\tlearn: 0.0314473\ttotal: 17.5s\tremaining: 35.1ms\n",
      "998:\tlearn: 0.0314079\ttotal: 17.5s\tremaining: 17.6ms\n",
      "999:\tlearn: 0.0313784\ttotal: 17.6s\tremaining: 0us\n"
     ]
    },
    {
     "data": {
      "text/plain": [
       "<catboost.core.CatBoostClassifier at 0x7f077d20aa00>"
      ]
     },
     "execution_count": 110,
     "metadata": {},
     "output_type": "execute_result"
    }
   ],
   "source": [
    "model_cb_optimal = CatBoostClassifier(depth = 10, l2_leaf_reg = 1, learning_rate = 0.1, random_state=25072022)\n",
    "model_cb_optimal.fit(features_upsampled, target_upsampled)"
   ]
  },
  {
   "cell_type": "code",
   "execution_count": 111,
   "id": "52239d7f",
   "metadata": {},
   "outputs": [
    {
     "name": "stdout",
     "output_type": "stream",
     "text": [
      "для градиентного бустинга (CatBoost) AUC-ROC равно 0.9022855684316171\n"
     ]
    }
   ],
   "source": [
    "probabilities__valid_model_gb=model_cb_optimal.predict_proba(features_test_drop)\n",
    "probabilities_one_valid_gb=probabilities__valid_model_gb[:,1]\n",
    "\n",
    "auc_roc_model_gb = roc_auc_score(target_test_drop, probabilities_one_valid_gb)\n",
    "print('для градиентного бустинга (CatBoost) AUC-ROC равно', auc_roc_model_gb)"
   ]
  },
  {
   "cell_type": "code",
   "execution_count": 112,
   "id": "a964ef03",
   "metadata": {},
   "outputs": [],
   "source": [
    "fpr_gb, tpr_gb, thresholds_gb = roc_curve(target_test_drop, probabilities_one_valid_gb)"
   ]
  },
  {
   "cell_type": "markdown",
   "id": "3f93a61c",
   "metadata": {},
   "source": [
    "5. Градиентный бустинг (LGBM)"
   ]
  },
  {
   "cell_type": "code",
   "execution_count": 113,
   "id": "71714ff5",
   "metadata": {},
   "outputs": [],
   "source": [
    "model_lgbm = ltb.LGBMClassifier(class_weight='balanced', objective='binary', reg_alpha = 0, metric = 'roc_auc', random_state=25072022)\n",
    "param_lgbm = {'learning_rate': [0.01, 0.1 ,0.5], 'min_child_samples' : [10,50,100], 'max_depth': [0, 20]}\n",
    "#grid_lgbm = GridSearchCV(model_lgbm, param_lgbm, scoring='roc_auc') # Обучим \n",
    "#grid_lgbm.fit(features_upsampled, target_upsampled)\n",
    "#grid_lgbm.best_params_  # подберем оптимальные параметры модели  "
   ]
  },
  {
   "cell_type": "code",
   "execution_count": 114,
   "id": "b8302337",
   "metadata": {},
   "outputs": [
    {
     "data": {
      "text/plain": [
       "LGBMClassifier(class_weight='balanced', learning_rate=0.5, max_depth=20,\n",
       "               metric='roc_auc', min_child_samples=10, n_estimators=60,\n",
       "               objective='binary', random_state=25072022, reg_alpha=0)"
      ]
     },
     "execution_count": 114,
     "metadata": {},
     "output_type": "execute_result"
    }
   ],
   "source": [
    "model_lgbm_optimal = ltb.LGBMClassifier(learning_rate=0.5, max_depth=20, n_estimators=60, min_child_samples = 10, class_weight='balanced',\n",
    "                               reg_alpha = 0, objective='binary', metric = 'roc_auc', random_state=25072022)\n",
    "model_lgbm_optimal.fit(features_upsampled, target_upsampled)"
   ]
  },
  {
   "cell_type": "code",
   "execution_count": 115,
   "id": "18dc6527",
   "metadata": {},
   "outputs": [
    {
     "name": "stdout",
     "output_type": "stream",
     "text": [
      "для градиентного бустинга (lgbm) AUC-ROC равно 0.8946785827149003\n"
     ]
    }
   ],
   "source": [
    "probabilities__valid_model_lgbm=model_lgbm_optimal.predict_proba(features_test_drop)\n",
    "probabilities_one_valid_lgbm=probabilities__valid_model_lgbm[:,1]\n",
    "\n",
    "auc_roc_model_lgbm = roc_auc_score(target_test_drop, probabilities_one_valid_lgbm)\n",
    "print('для градиентного бустинга (lgbm) AUC-ROC равно', auc_roc_model_lgbm)"
   ]
  },
  {
   "cell_type": "code",
   "execution_count": 116,
   "id": "2c3140f4",
   "metadata": {},
   "outputs": [],
   "source": [
    "fpr_lgbm, tpr_lgbm, thresholds_lgbm = roc_curve(target_test_drop, probabilities_one_valid_lgbm)"
   ]
  },
  {
   "cell_type": "code",
   "execution_count": 117,
   "id": "eb1b7a6e",
   "metadata": {},
   "outputs": [
    {
     "data": {
      "image/png": "[encoded data removed]",
      "text/plain": [
       "<Figure size 432x288 with 1 Axes>"
      ]
     },
     "metadata": {
      "needs_background": "light"
     },
     "output_type": "display_data"
    }
   ],
   "source": [
    "plt.figure()\n",
    "plt.plot(fpr_log, tpr_log)\n",
    "plt.plot(fpr_tree, tpr_tree)\n",
    "plt.plot(fpr_forest, tpr_forest)\n",
    "plt.plot(fpr_gb, tpr_gb)\n",
    "plt.plot(fpr_lgbm, tpr_lgbm)\n",
    "plt.xlim([0.0, 1.0])\n",
    "plt.ylim([0.0, 1.0])\n",
    "plt.xlabel('False Positive Rate')\n",
    "plt.ylabel('True Positive Rate')\n",
    "plt.title('ROC-кривая моделей')\n",
    "plt.legend(('Логистическая регрессия','Дерево решений', 'Случайный лес', 'градиентный бустинг (catboost)', 'градиентный бустинг (lgbm)'),\n",
    "           loc= 'upper left') \n",
    "plt.show() "
   ]
  },
  {
   "cell_type": "markdown",
   "id": "3282fa11",
   "metadata": {},
   "source": [
    "## Анализ моделей "
   ]
  },
  {
   "cell_type": "code",
   "execution_count": 118,
   "id": "0cd1a2f5",
   "metadata": {},
   "outputs": [
    {
     "data": {
      "text/html": [
       "<div>\n",
       "<style scoped>\n",
       "    .dataframe tbody tr th:only-of-type {\n",
       "        vertical-align: middle;\n",
       "    }\n",
       "\n",
       "    .dataframe tbody tr th {\n",
       "        vertical-align: top;\n",
       "    }\n",
       "\n",
       "    .dataframe thead th {\n",
       "        text-align: right;\n",
       "    }\n",
       "</style>\n",
       "<table border=\"1\" class=\"dataframe\">\n",
       "  <thead>\n",
       "    <tr style=\"text-align: right;\">\n",
       "      <th></th>\n",
       "      <th>модель</th>\n",
       "      <th>значение roc-auc</th>\n",
       "    </tr>\n",
       "  </thead>\n",
       "  <tbody>\n",
       "    <tr>\n",
       "      <th>0</th>\n",
       "      <td>Логистическая регрессия</td>\n",
       "      <td>0.833431</td>\n",
       "    </tr>\n",
       "    <tr>\n",
       "      <th>1</th>\n",
       "      <td>Дерево решений</td>\n",
       "      <td>0.766963</td>\n",
       "    </tr>\n",
       "    <tr>\n",
       "      <th>2</th>\n",
       "      <td>Случайный лес</td>\n",
       "      <td>0.841576</td>\n",
       "    </tr>\n",
       "    <tr>\n",
       "      <th>3</th>\n",
       "      <td>Градиентный бустинг(CatBoost)</td>\n",
       "      <td>0.902286</td>\n",
       "    </tr>\n",
       "    <tr>\n",
       "      <th>4</th>\n",
       "      <td>Градиентный бустинг (LGBM)</td>\n",
       "      <td>0.894679</td>\n",
       "    </tr>\n",
       "  </tbody>\n",
       "</table>\n",
       "</div>"
      ],
      "text/plain": [
       "                          модель  значение roc-auc\n",
       "0        Логистическая регрессия          0.833431\n",
       "1                 Дерево решений          0.766963\n",
       "2                  Случайный лес          0.841576\n",
       "3  Градиентный бустинг(CatBoost)          0.902286\n",
       "4     Градиентный бустинг (LGBM)          0.894679"
      ]
     },
     "execution_count": 118,
     "metadata": {},
     "output_type": "execute_result"
    }
   ],
   "source": [
    "rezult = pd.DataFrame({\"модель\": [\"Логистическая регрессия\", \"Дерево решений\", \"Случайный лес\", \"Градиентный бустинг(CatBoost)\", \"Градиентный бустинг (LGBM)\"], \"значение roc-auc\": [auc_roc_model_logistic, auc_roc_model_tree, auc_roc_model_forest, auc_roc_model_gb, auc_roc_model_lgbm]})\n",
    "rezult"
   ]
  },
  {
   "cell_type": "markdown",
   "id": "72677273",
   "metadata": {},
   "source": [
    "## Отчет о работе"
   ]
  },
  {
   "cell_type": "markdown",
   "id": "cc0909a6",
   "metadata": {},
   "source": [
    "1. Полученные датассеты были загружены, изучены. Проведены преобразовния: изменены форматы данных у необходимых полей, введены дополнительные поля, необходимые для анализа данных: day (количество дней, которое абонет является клиентом компании),  целевой признак churn_digit, показывающий отток клиентов. <br>\n",
    "2. Изучена статистическая информация по полученным датасетам. Построены графики, отображающие долю пользователей телефонной связи, долю интернет-пользователей для ушедших, а также для всех клиентов оператора. <br>\n",
    "3. Произведено кодирование номинальных переменных. Получены коэффициенты корреляции, отображающие зависимость параметров. Отобраны параметры, имеющие максимальный коэффициент корреляции с целевым признаком. <br>\n",
    "4. Данные разбила на 2 выборки: на кроссвалидации определим лучшую модель, на тестовой определим метрику. <br>\n",
    "5. Ключевые шаги в достижении наилучшего результата (значении метрики) это проведение масштабирования данных, а также борьба с дисбалансом путем увеличения выборки. <br>\n",
    "6. Исследовала несколько моделей: Логистическая регрессия, Дерево решений, Случайный лес, Градиентный бустинг(CatBoost), Градиентный бустинг (LGBM). Для каждой модели были подобраны гиперпараметры. В результате для каждой модели рассчитана метрика roc-auc, использующаяся для оценивания качества упорядочивания алгоритмов объектов двух классов.<br>\n",
    "7. В результате анализа моделей видно, что модель Градиентный бустинг(CatBoost)\t показывает значение немного лучше остальных - 0,9. Эта модель - лидер по поиску истинноположительных ответов. Это говорит о том, что она с большей вероятностью по сравнению с остальными моделями найдет тех клиентов, которые собираются уйти. <br>\n"
   ]
  },
  {
   "cell_type": "code",
   "execution_count": null,
   "id": "4797e6d6",
   "metadata": {},
   "outputs": [],
   "source": []
  }
 ],
 "metadata": {
  "ExecuteTimeLog": [
   {
    "duration": 81,
    "start_time": "2022-07-28T13:39:40.161Z"
   },
   {
    "duration": 672,
    "start_time": "2022-07-28T13:39:48.938Z"
   },
   {
    "duration": 99,
    "start_time": "2022-07-28T13:39:49.612Z"
   },
   {
    "duration": 14,
    "start_time": "2022-07-28T13:39:49.716Z"
   },
   {
    "duration": 16,
    "start_time": "2022-07-28T13:39:50.048Z"
   },
   {
    "duration": 7,
    "start_time": "2022-07-28T13:39:50.398Z"
   },
   {
    "duration": 17,
    "start_time": "2022-07-28T13:39:51.117Z"
   },
   {
    "duration": 17,
    "start_time": "2022-07-28T13:39:51.336Z"
   },
   {
    "duration": 15,
    "start_time": "2022-07-28T13:39:51.623Z"
   },
   {
    "duration": 11,
    "start_time": "2022-07-28T13:39:51.886Z"
   },
   {
    "duration": 8,
    "start_time": "2022-07-28T13:39:52.157Z"
   },
   {
    "duration": 13,
    "start_time": "2022-07-28T13:39:52.424Z"
   },
   {
    "duration": 3,
    "start_time": "2022-07-28T13:39:53.655Z"
   },
   {
    "duration": 3,
    "start_time": "2022-07-28T13:39:53.990Z"
   },
   {
    "duration": 3,
    "start_time": "2022-07-28T13:39:54.302Z"
   },
   {
    "duration": 4,
    "start_time": "2022-07-28T13:39:54.605Z"
   },
   {
    "duration": 5,
    "start_time": "2022-07-28T13:39:55.790Z"
   },
   {
    "duration": 5,
    "start_time": "2022-07-28T13:39:56.142Z"
   },
   {
    "duration": 12,
    "start_time": "2022-07-28T13:39:56.685Z"
   },
   {
    "duration": 12,
    "start_time": "2022-07-28T13:39:57.350Z"
   },
   {
    "duration": 11,
    "start_time": "2022-07-28T13:39:57.821Z"
   },
   {
    "duration": 14,
    "start_time": "2022-07-28T13:39:57.989Z"
   },
   {
    "duration": 11,
    "start_time": "2022-07-28T13:39:58.454Z"
   },
   {
    "duration": 14,
    "start_time": "2022-07-28T13:39:58.702Z"
   },
   {
    "duration": 18,
    "start_time": "2022-07-28T13:39:58.935Z"
   },
   {
    "duration": 16,
    "start_time": "2022-07-28T13:39:59.135Z"
   },
   {
    "duration": 20,
    "start_time": "2022-07-28T13:39:59.342Z"
   },
   {
    "duration": 13,
    "start_time": "2022-07-28T13:40:00.302Z"
   },
   {
    "duration": 10,
    "start_time": "2022-07-28T13:40:00.736Z"
   },
   {
    "duration": 5,
    "start_time": "2022-07-28T13:40:01.094Z"
   },
   {
    "duration": 256,
    "start_time": "2022-07-28T13:40:01.798Z"
   },
   {
    "duration": 110,
    "start_time": "2022-07-28T13:40:02.190Z"
   },
   {
    "duration": 5,
    "start_time": "2022-07-28T13:40:02.750Z"
   },
   {
    "duration": 7,
    "start_time": "2022-07-28T13:40:03.241Z"
   },
   {
    "duration": 5,
    "start_time": "2022-07-28T13:40:04.365Z"
   },
   {
    "duration": 5,
    "start_time": "2022-07-28T13:40:05.234Z"
   },
   {
    "duration": 9,
    "start_time": "2022-07-28T13:40:07.638Z"
   },
   {
    "duration": 90,
    "start_time": "2022-07-28T13:40:08.534Z"
   },
   {
    "duration": 9,
    "start_time": "2022-07-28T13:40:09.550Z"
   },
   {
    "duration": 6,
    "start_time": "2022-07-28T13:40:09.999Z"
   },
   {
    "duration": 167,
    "start_time": "2022-07-28T13:40:10.766Z"
   },
   {
    "duration": 155,
    "start_time": "2022-07-28T13:40:11.189Z"
   },
   {
    "duration": 4,
    "start_time": "2022-07-28T13:40:11.602Z"
   },
   {
    "duration": 5,
    "start_time": "2022-07-28T13:40:11.973Z"
   },
   {
    "duration": 9,
    "start_time": "2022-07-28T13:40:12.358Z"
   },
   {
    "duration": 83,
    "start_time": "2022-07-28T13:40:12.894Z"
   },
   {
    "duration": 3,
    "start_time": "2022-07-28T13:51:30.689Z"
   },
   {
    "duration": 104,
    "start_time": "2022-07-28T13:51:31.585Z"
   },
   {
    "duration": 16,
    "start_time": "2022-07-28T13:51:32.740Z"
   },
   {
    "duration": 14,
    "start_time": "2022-07-28T13:51:33.721Z"
   },
   {
    "duration": 4,
    "start_time": "2022-07-28T15:36:35.927Z"
   },
   {
    "duration": 3,
    "start_time": "2022-07-28T15:36:36.214Z"
   },
   {
    "duration": 3,
    "start_time": "2022-07-28T15:36:36.486Z"
   },
   {
    "duration": 3,
    "start_time": "2022-07-28T15:36:36.871Z"
   },
   {
    "duration": 7,
    "start_time": "2022-07-28T15:36:37.502Z"
   },
   {
    "duration": 5,
    "start_time": "2022-07-28T15:36:37.726Z"
   },
   {
    "duration": 11,
    "start_time": "2022-07-28T15:36:38.471Z"
   },
   {
    "duration": 11,
    "start_time": "2022-07-28T15:36:39.310Z"
   },
   {
    "duration": 5,
    "start_time": "2022-07-28T15:36:39.654Z"
   },
   {
    "duration": 16,
    "start_time": "2022-07-28T15:36:39.815Z"
   },
   {
    "duration": 16,
    "start_time": "2022-07-28T15:36:40.127Z"
   },
   {
    "duration": 16,
    "start_time": "2022-07-28T15:36:40.278Z"
   },
   {
    "duration": 14,
    "start_time": "2022-07-28T15:36:40.438Z"
   },
   {
    "duration": 10,
    "start_time": "2022-07-28T15:36:40.599Z"
   },
   {
    "duration": 21,
    "start_time": "2022-07-28T15:36:40.758Z"
   },
   {
    "duration": 9,
    "start_time": "2022-07-28T15:36:41.750Z"
   },
   {
    "duration": 8,
    "start_time": "2022-07-28T15:36:41.991Z"
   },
   {
    "duration": 4,
    "start_time": "2022-07-28T15:36:42.214Z"
   },
   {
    "duration": 187,
    "start_time": "2022-07-28T15:36:42.574Z"
   },
   {
    "duration": 114,
    "start_time": "2022-07-28T15:36:42.766Z"
   },
   {
    "duration": 4,
    "start_time": "2022-07-28T15:36:42.966Z"
   },
   {
    "duration": 5,
    "start_time": "2022-07-28T15:36:43.167Z"
   },
   {
    "duration": 5,
    "start_time": "2022-07-28T15:36:43.382Z"
   },
   {
    "duration": 5,
    "start_time": "2022-07-28T15:36:43.575Z"
   },
   {
    "duration": 9,
    "start_time": "2022-07-28T15:36:43.935Z"
   },
   {
    "duration": 98,
    "start_time": "2022-07-28T15:36:44.270Z"
   },
   {
    "duration": 8,
    "start_time": "2022-07-28T15:36:44.686Z"
   },
   {
    "duration": 5,
    "start_time": "2022-07-28T15:36:44.886Z"
   },
   {
    "duration": 177,
    "start_time": "2022-07-28T15:36:45.270Z"
   },
   {
    "duration": 116,
    "start_time": "2022-07-28T15:36:45.450Z"
   },
   {
    "duration": 5,
    "start_time": "2022-07-28T15:36:45.628Z"
   },
   {
    "duration": 5,
    "start_time": "2022-07-28T15:36:45.798Z"
   },
   {
    "duration": 7,
    "start_time": "2022-07-28T15:36:45.983Z"
   },
   {
    "duration": 83,
    "start_time": "2022-07-28T15:36:46.175Z"
   },
   {
    "duration": 6,
    "start_time": "2022-07-28T16:14:36.687Z"
   },
   {
    "duration": 3,
    "start_time": "2022-07-28T16:14:49.638Z"
   },
   {
    "duration": 99,
    "start_time": "2022-07-28T16:14:49.758Z"
   },
   {
    "duration": 10,
    "start_time": "2022-07-28T16:14:49.901Z"
   },
   {
    "duration": 13,
    "start_time": "2022-07-28T16:14:50.038Z"
   },
   {
    "duration": 8,
    "start_time": "2022-07-28T16:14:50.191Z"
   },
   {
    "duration": 11,
    "start_time": "2022-07-28T16:14:50.462Z"
   },
   {
    "duration": 11,
    "start_time": "2022-07-28T16:14:50.582Z"
   },
   {
    "duration": 9,
    "start_time": "2022-07-28T16:14:50.734Z"
   },
   {
    "duration": 13,
    "start_time": "2022-07-28T16:14:50.886Z"
   },
   {
    "duration": 8,
    "start_time": "2022-07-28T16:14:51.022Z"
   },
   {
    "duration": 11,
    "start_time": "2022-07-28T16:14:51.431Z"
   },
   {
    "duration": 3,
    "start_time": "2022-07-28T16:14:52.542Z"
   },
   {
    "duration": 2,
    "start_time": "2022-07-28T16:14:52.695Z"
   },
   {
    "duration": 3,
    "start_time": "2022-07-28T16:14:52.846Z"
   },
   {
    "duration": 3,
    "start_time": "2022-07-28T16:14:52.999Z"
   },
   {
    "duration": 5,
    "start_time": "2022-07-28T16:14:53.463Z"
   },
   {
    "duration": 4,
    "start_time": "2022-07-28T16:14:53.774Z"
   },
   {
    "duration": 11,
    "start_time": "2022-07-28T16:14:54.408Z"
   },
   {
    "duration": 8,
    "start_time": "2022-07-28T16:14:55.311Z"
   },
   {
    "duration": 6,
    "start_time": "2022-07-28T16:14:55.703Z"
   },
   {
    "duration": 12,
    "start_time": "2022-07-28T16:14:55.863Z"
   },
   {
    "duration": 11,
    "start_time": "2022-07-28T16:14:56.576Z"
   },
   {
    "duration": 15,
    "start_time": "2022-07-28T16:14:56.943Z"
   },
   {
    "duration": 14,
    "start_time": "2022-07-28T16:14:57.383Z"
   },
   {
    "duration": 11,
    "start_time": "2022-07-28T16:14:57.559Z"
   },
   {
    "duration": 17,
    "start_time": "2022-07-28T16:14:58.015Z"
   },
   {
    "duration": 8,
    "start_time": "2022-07-28T16:15:00.350Z"
   },
   {
    "duration": 9,
    "start_time": "2022-07-28T16:15:04.062Z"
   },
   {
    "duration": 5,
    "start_time": "2022-07-28T16:15:05.287Z"
   },
   {
    "duration": 173,
    "start_time": "2022-07-28T16:15:09.839Z"
   },
   {
    "duration": 87,
    "start_time": "2022-07-28T16:15:12.704Z"
   },
   {
    "duration": 4,
    "start_time": "2022-07-28T16:15:13.414Z"
   },
   {
    "duration": 6,
    "start_time": "2022-07-28T16:16:21.302Z"
   },
   {
    "duration": 29,
    "start_time": "2022-07-28T16:16:52.990Z"
   },
   {
    "duration": 6,
    "start_time": "2022-07-28T16:17:05.398Z"
   },
   {
    "duration": 7,
    "start_time": "2022-07-28T16:17:17.126Z"
   },
   {
    "duration": 8,
    "start_time": "2022-07-28T16:17:34.391Z"
   },
   {
    "duration": 7,
    "start_time": "2022-07-28T16:17:49.142Z"
   },
   {
    "duration": 7,
    "start_time": "2022-07-28T16:18:37.206Z"
   },
   {
    "duration": 7,
    "start_time": "2022-07-28T16:20:14.597Z"
   },
   {
    "duration": 5,
    "start_time": "2022-07-28T16:20:29.901Z"
   },
   {
    "duration": 5,
    "start_time": "2022-07-28T16:20:30.237Z"
   },
   {
    "duration": 8,
    "start_time": "2022-07-28T16:20:31.309Z"
   },
   {
    "duration": 174,
    "start_time": "2022-07-28T16:21:00.166Z"
   },
   {
    "duration": 51,
    "start_time": "2022-07-28T18:31:52.117Z"
   },
   {
    "duration": 42,
    "start_time": "2022-07-29T10:46:46.854Z"
   },
   {
    "duration": 744,
    "start_time": "2022-07-29T10:47:02.054Z"
   },
   {
    "duration": 273,
    "start_time": "2022-07-29T10:47:02.801Z"
   },
   {
    "duration": 14,
    "start_time": "2022-07-29T10:47:03.076Z"
   },
   {
    "duration": 15,
    "start_time": "2022-07-29T10:47:03.091Z"
   },
   {
    "duration": 26,
    "start_time": "2022-07-29T10:47:03.108Z"
   },
   {
    "duration": 12,
    "start_time": "2022-07-29T10:47:03.135Z"
   },
   {
    "duration": 11,
    "start_time": "2022-07-29T10:47:03.148Z"
   },
   {
    "duration": 13,
    "start_time": "2022-07-29T10:47:03.161Z"
   },
   {
    "duration": 19,
    "start_time": "2022-07-29T10:47:03.175Z"
   },
   {
    "duration": 20,
    "start_time": "2022-07-29T10:47:03.196Z"
   },
   {
    "duration": 30,
    "start_time": "2022-07-29T10:47:03.217Z"
   },
   {
    "duration": 12,
    "start_time": "2022-07-29T10:47:03.248Z"
   },
   {
    "duration": 5,
    "start_time": "2022-07-29T10:47:03.261Z"
   },
   {
    "duration": 7,
    "start_time": "2022-07-29T10:47:03.267Z"
   },
   {
    "duration": 5,
    "start_time": "2022-07-29T10:47:03.275Z"
   },
   {
    "duration": 7,
    "start_time": "2022-07-29T10:47:03.281Z"
   },
   {
    "duration": 20,
    "start_time": "2022-07-29T10:47:03.289Z"
   },
   {
    "duration": 6,
    "start_time": "2022-07-29T10:47:03.311Z"
   },
   {
    "duration": 37,
    "start_time": "2022-07-29T10:47:03.318Z"
   },
   {
    "duration": 18,
    "start_time": "2022-07-29T10:47:03.356Z"
   },
   {
    "duration": 26,
    "start_time": "2022-07-29T10:47:03.375Z"
   },
   {
    "duration": 26,
    "start_time": "2022-07-29T10:47:03.403Z"
   },
   {
    "duration": 14,
    "start_time": "2022-07-29T10:47:03.431Z"
   },
   {
    "duration": 16,
    "start_time": "2022-07-29T10:47:03.447Z"
   },
   {
    "duration": 10,
    "start_time": "2022-07-29T10:47:03.464Z"
   },
   {
    "duration": 9,
    "start_time": "2022-07-29T10:47:03.475Z"
   },
   {
    "duration": 14,
    "start_time": "2022-07-29T10:47:03.486Z"
   },
   {
    "duration": 8,
    "start_time": "2022-07-29T10:47:03.503Z"
   },
   {
    "duration": 7,
    "start_time": "2022-07-29T10:47:03.513Z"
   },
   {
    "duration": 4,
    "start_time": "2022-07-29T10:47:03.522Z"
   },
   {
    "duration": 170,
    "start_time": "2022-07-29T10:47:03.528Z"
   },
   {
    "duration": 82,
    "start_time": "2022-07-29T10:47:03.699Z"
   },
   {
    "duration": 4,
    "start_time": "2022-07-29T10:47:03.782Z"
   },
   {
    "duration": 9,
    "start_time": "2022-07-29T10:47:03.787Z"
   },
   {
    "duration": 8,
    "start_time": "2022-07-29T10:47:03.797Z"
   },
   {
    "duration": 6,
    "start_time": "2022-07-29T10:47:03.807Z"
   },
   {
    "duration": 13,
    "start_time": "2022-07-29T10:47:03.815Z"
   },
   {
    "duration": 144,
    "start_time": "2022-07-29T10:47:03.829Z"
   },
   {
    "duration": 8,
    "start_time": "2022-07-29T10:47:03.975Z"
   },
   {
    "duration": 8,
    "start_time": "2022-07-29T10:47:03.984Z"
   },
   {
    "duration": 152,
    "start_time": "2022-07-29T10:47:03.993Z"
   },
   {
    "duration": 87,
    "start_time": "2022-07-29T10:47:04.146Z"
   },
   {
    "duration": 3,
    "start_time": "2022-07-29T10:47:04.234Z"
   },
   {
    "duration": 45,
    "start_time": "2022-07-29T10:47:04.239Z"
   },
   {
    "duration": 11,
    "start_time": "2022-07-29T10:47:04.285Z"
   },
   {
    "duration": 75,
    "start_time": "2022-07-29T10:47:04.297Z"
   },
   {
    "duration": 5,
    "start_time": "2022-07-29T10:48:15.166Z"
   },
   {
    "duration": 586,
    "start_time": "2022-07-29T10:48:37.253Z"
   },
   {
    "duration": 91,
    "start_time": "2022-07-29T10:48:37.841Z"
   },
   {
    "duration": 13,
    "start_time": "2022-07-29T10:48:37.934Z"
   },
   {
    "duration": 23,
    "start_time": "2022-07-29T10:48:37.949Z"
   },
   {
    "duration": 17,
    "start_time": "2022-07-29T10:48:37.973Z"
   },
   {
    "duration": 26,
    "start_time": "2022-07-29T10:48:37.991Z"
   },
   {
    "duration": 34,
    "start_time": "2022-07-29T10:48:38.019Z"
   },
   {
    "duration": 25,
    "start_time": "2022-07-29T10:48:38.055Z"
   },
   {
    "duration": 32,
    "start_time": "2022-07-29T10:48:38.081Z"
   },
   {
    "duration": 25,
    "start_time": "2022-07-29T10:48:38.116Z"
   },
   {
    "duration": 18,
    "start_time": "2022-07-29T10:48:38.142Z"
   },
   {
    "duration": 14,
    "start_time": "2022-07-29T10:48:38.162Z"
   },
   {
    "duration": 19,
    "start_time": "2022-07-29T10:48:38.178Z"
   },
   {
    "duration": 11,
    "start_time": "2022-07-29T10:48:38.198Z"
   },
   {
    "duration": 20,
    "start_time": "2022-07-29T10:48:38.210Z"
   },
   {
    "duration": 25,
    "start_time": "2022-07-29T10:48:38.232Z"
   },
   {
    "duration": 25,
    "start_time": "2022-07-29T10:48:38.259Z"
   },
   {
    "duration": 19,
    "start_time": "2022-07-29T10:48:38.286Z"
   },
   {
    "duration": 19,
    "start_time": "2022-07-29T10:48:38.306Z"
   },
   {
    "duration": 29,
    "start_time": "2022-07-29T10:48:38.327Z"
   },
   {
    "duration": 24,
    "start_time": "2022-07-29T10:48:38.357Z"
   },
   {
    "duration": 18,
    "start_time": "2022-07-29T10:48:38.383Z"
   },
   {
    "duration": 26,
    "start_time": "2022-07-29T10:48:38.403Z"
   },
   {
    "duration": 9,
    "start_time": "2022-07-29T10:48:38.431Z"
   },
   {
    "duration": 12,
    "start_time": "2022-07-29T10:48:38.442Z"
   },
   {
    "duration": 10,
    "start_time": "2022-07-29T10:48:38.455Z"
   },
   {
    "duration": 10,
    "start_time": "2022-07-29T10:48:38.466Z"
   },
   {
    "duration": 15,
    "start_time": "2022-07-29T10:48:38.479Z"
   },
   {
    "duration": 10,
    "start_time": "2022-07-29T10:48:38.495Z"
   },
   {
    "duration": 15,
    "start_time": "2022-07-29T10:48:38.506Z"
   },
   {
    "duration": 5,
    "start_time": "2022-07-29T10:48:38.522Z"
   },
   {
    "duration": 198,
    "start_time": "2022-07-29T10:48:38.528Z"
   },
   {
    "duration": 93,
    "start_time": "2022-07-29T10:48:38.728Z"
   },
   {
    "duration": 4,
    "start_time": "2022-07-29T10:48:38.823Z"
   },
   {
    "duration": 29,
    "start_time": "2022-07-29T10:48:38.828Z"
   },
   {
    "duration": 12,
    "start_time": "2022-07-29T10:48:38.858Z"
   },
   {
    "duration": 9,
    "start_time": "2022-07-29T10:48:38.871Z"
   },
   {
    "duration": 10,
    "start_time": "2022-07-29T10:48:38.881Z"
   },
   {
    "duration": 110,
    "start_time": "2022-07-29T10:48:38.892Z"
   },
   {
    "duration": 10,
    "start_time": "2022-07-29T10:48:39.004Z"
   },
   {
    "duration": 4,
    "start_time": "2022-07-29T10:48:39.015Z"
   },
   {
    "duration": 203,
    "start_time": "2022-07-29T10:48:39.020Z"
   },
   {
    "duration": 97,
    "start_time": "2022-07-29T10:48:39.225Z"
   },
   {
    "duration": 4,
    "start_time": "2022-07-29T10:48:39.324Z"
   },
   {
    "duration": 8,
    "start_time": "2022-07-29T10:48:39.329Z"
   },
   {
    "duration": 8,
    "start_time": "2022-07-29T10:48:39.339Z"
   },
   {
    "duration": 86,
    "start_time": "2022-07-29T10:48:39.348Z"
   },
   {
    "duration": 5,
    "start_time": "2022-07-29T10:49:52.583Z"
   },
   {
    "duration": 535,
    "start_time": "2022-07-29T10:50:24.621Z"
   },
   {
    "duration": 91,
    "start_time": "2022-07-29T10:50:25.158Z"
   },
   {
    "duration": 14,
    "start_time": "2022-07-29T10:50:25.251Z"
   },
   {
    "duration": 11,
    "start_time": "2022-07-29T10:50:25.267Z"
   },
   {
    "duration": 15,
    "start_time": "2022-07-29T10:50:25.280Z"
   },
   {
    "duration": 8,
    "start_time": "2022-07-29T10:50:25.297Z"
   },
   {
    "duration": 16,
    "start_time": "2022-07-29T10:50:25.307Z"
   },
   {
    "duration": 9,
    "start_time": "2022-07-29T10:50:25.325Z"
   },
   {
    "duration": 13,
    "start_time": "2022-07-29T10:50:25.336Z"
   },
   {
    "duration": 9,
    "start_time": "2022-07-29T10:50:25.350Z"
   },
   {
    "duration": 18,
    "start_time": "2022-07-29T10:50:25.360Z"
   },
   {
    "duration": 3,
    "start_time": "2022-07-29T10:50:25.380Z"
   },
   {
    "duration": 6,
    "start_time": "2022-07-29T10:50:25.384Z"
   },
   {
    "duration": 6,
    "start_time": "2022-07-29T10:50:25.392Z"
   },
   {
    "duration": 10,
    "start_time": "2022-07-29T10:50:25.399Z"
   },
   {
    "duration": 10,
    "start_time": "2022-07-29T10:50:25.411Z"
   },
   {
    "duration": 18,
    "start_time": "2022-07-29T10:50:25.423Z"
   },
   {
    "duration": 9,
    "start_time": "2022-07-29T10:50:25.442Z"
   },
   {
    "duration": 10,
    "start_time": "2022-07-29T10:50:25.453Z"
   },
   {
    "duration": 16,
    "start_time": "2022-07-29T10:50:25.464Z"
   },
   {
    "duration": 10,
    "start_time": "2022-07-29T10:50:25.482Z"
   },
   {
    "duration": 5,
    "start_time": "2022-07-29T10:50:25.494Z"
   },
   {
    "duration": 13,
    "start_time": "2022-07-29T10:50:25.500Z"
   },
   {
    "duration": 11,
    "start_time": "2022-07-29T10:50:25.514Z"
   },
   {
    "duration": 13,
    "start_time": "2022-07-29T10:50:25.526Z"
   },
   {
    "duration": 35,
    "start_time": "2022-07-29T10:50:25.540Z"
   },
   {
    "duration": 10,
    "start_time": "2022-07-29T10:50:25.576Z"
   },
   {
    "duration": 18,
    "start_time": "2022-07-29T10:50:25.587Z"
   },
   {
    "duration": 9,
    "start_time": "2022-07-29T10:50:25.606Z"
   },
   {
    "duration": 7,
    "start_time": "2022-07-29T10:50:25.616Z"
   },
   {
    "duration": 5,
    "start_time": "2022-07-29T10:50:25.624Z"
   },
   {
    "duration": 182,
    "start_time": "2022-07-29T10:50:25.630Z"
   },
   {
    "duration": 88,
    "start_time": "2022-07-29T10:50:25.814Z"
   },
   {
    "duration": 3,
    "start_time": "2022-07-29T10:50:25.904Z"
   },
   {
    "duration": 13,
    "start_time": "2022-07-29T10:50:25.908Z"
   },
   {
    "duration": 9,
    "start_time": "2022-07-29T10:50:25.922Z"
   },
   {
    "duration": 6,
    "start_time": "2022-07-29T10:50:25.932Z"
   },
   {
    "duration": 18,
    "start_time": "2022-07-29T10:50:25.940Z"
   },
   {
    "duration": 82,
    "start_time": "2022-07-29T10:50:25.960Z"
   },
   {
    "duration": 8,
    "start_time": "2022-07-29T10:50:26.043Z"
   },
   {
    "duration": 4,
    "start_time": "2022-07-29T10:50:26.054Z"
   },
   {
    "duration": 186,
    "start_time": "2022-07-29T10:50:26.073Z"
   },
   {
    "duration": 83,
    "start_time": "2022-07-29T10:50:26.261Z"
   },
   {
    "duration": 4,
    "start_time": "2022-07-29T10:50:26.346Z"
   },
   {
    "duration": 24,
    "start_time": "2022-07-29T10:50:26.351Z"
   },
   {
    "duration": 7,
    "start_time": "2022-07-29T10:50:26.376Z"
   },
   {
    "duration": 74,
    "start_time": "2022-07-29T10:50:26.385Z"
   },
   {
    "duration": 638,
    "start_time": "2022-07-29T11:06:44.771Z"
   },
   {
    "duration": 92,
    "start_time": "2022-07-29T11:06:45.411Z"
   },
   {
    "duration": 14,
    "start_time": "2022-07-29T11:06:45.505Z"
   },
   {
    "duration": 14,
    "start_time": "2022-07-29T11:06:45.521Z"
   },
   {
    "duration": 7,
    "start_time": "2022-07-29T11:06:45.536Z"
   },
   {
    "duration": 9,
    "start_time": "2022-07-29T11:06:45.545Z"
   },
   {
    "duration": 11,
    "start_time": "2022-07-29T11:06:45.555Z"
   },
   {
    "duration": 16,
    "start_time": "2022-07-29T11:06:45.567Z"
   },
   {
    "duration": 13,
    "start_time": "2022-07-29T11:06:45.584Z"
   },
   {
    "duration": 10,
    "start_time": "2022-07-29T11:06:45.600Z"
   },
   {
    "duration": 12,
    "start_time": "2022-07-29T11:06:45.611Z"
   },
   {
    "duration": 5,
    "start_time": "2022-07-29T11:06:45.624Z"
   },
   {
    "duration": 5,
    "start_time": "2022-07-29T11:06:45.630Z"
   },
   {
    "duration": 5,
    "start_time": "2022-07-29T11:06:45.636Z"
   },
   {
    "duration": 6,
    "start_time": "2022-07-29T11:06:45.643Z"
   },
   {
    "duration": 7,
    "start_time": "2022-07-29T11:06:45.650Z"
   },
   {
    "duration": 15,
    "start_time": "2022-07-29T11:06:45.658Z"
   },
   {
    "duration": 3,
    "start_time": "2022-07-29T11:06:45.675Z"
   },
   {
    "duration": 15,
    "start_time": "2022-07-29T11:06:45.679Z"
   },
   {
    "duration": 15,
    "start_time": "2022-07-29T11:06:45.695Z"
   },
   {
    "duration": 13,
    "start_time": "2022-07-29T11:06:45.711Z"
   },
   {
    "duration": 5,
    "start_time": "2022-07-29T11:06:45.725Z"
   },
   {
    "duration": 13,
    "start_time": "2022-07-29T11:06:45.731Z"
   },
   {
    "duration": 10,
    "start_time": "2022-07-29T11:06:45.745Z"
   },
   {
    "duration": 19,
    "start_time": "2022-07-29T11:06:45.756Z"
   },
   {
    "duration": 10,
    "start_time": "2022-07-29T11:06:45.777Z"
   },
   {
    "duration": 11,
    "start_time": "2022-07-29T11:06:45.789Z"
   },
   {
    "duration": 14,
    "start_time": "2022-07-29T11:06:45.803Z"
   },
   {
    "duration": 9,
    "start_time": "2022-07-29T11:06:45.818Z"
   },
   {
    "duration": 7,
    "start_time": "2022-07-29T11:06:45.828Z"
   },
   {
    "duration": 5,
    "start_time": "2022-07-29T11:06:45.836Z"
   },
   {
    "duration": 202,
    "start_time": "2022-07-29T11:06:45.842Z"
   },
   {
    "duration": 90,
    "start_time": "2022-07-29T11:06:46.046Z"
   },
   {
    "duration": 3,
    "start_time": "2022-07-29T11:06:46.138Z"
   },
   {
    "duration": 7,
    "start_time": "2022-07-29T11:06:46.143Z"
   },
   {
    "duration": 22,
    "start_time": "2022-07-29T11:06:46.151Z"
   },
   {
    "duration": 4,
    "start_time": "2022-07-29T11:06:46.174Z"
   },
   {
    "duration": 11,
    "start_time": "2022-07-29T11:06:46.179Z"
   },
   {
    "duration": 86,
    "start_time": "2022-07-29T11:06:46.191Z"
   },
   {
    "duration": 7,
    "start_time": "2022-07-29T11:06:46.278Z"
   },
   {
    "duration": 11,
    "start_time": "2022-07-29T11:06:46.287Z"
   },
   {
    "duration": 193,
    "start_time": "2022-07-29T11:06:46.300Z"
   },
   {
    "duration": 85,
    "start_time": "2022-07-29T11:06:46.495Z"
   },
   {
    "duration": 3,
    "start_time": "2022-07-29T11:06:46.582Z"
   },
   {
    "duration": 7,
    "start_time": "2022-07-29T11:06:46.586Z"
   },
   {
    "duration": 7,
    "start_time": "2022-07-29T11:06:46.594Z"
   },
   {
    "duration": 84,
    "start_time": "2022-07-29T11:06:46.602Z"
   },
   {
    "duration": 719,
    "start_time": "2022-07-29T11:08:49.146Z"
   },
   {
    "duration": 103,
    "start_time": "2022-07-29T11:08:49.866Z"
   },
   {
    "duration": 13,
    "start_time": "2022-07-29T11:08:49.971Z"
   },
   {
    "duration": 11,
    "start_time": "2022-07-29T11:08:49.986Z"
   },
   {
    "duration": 9,
    "start_time": "2022-07-29T11:08:49.999Z"
   },
   {
    "duration": 9,
    "start_time": "2022-07-29T11:08:50.009Z"
   },
   {
    "duration": 14,
    "start_time": "2022-07-29T11:08:50.019Z"
   },
   {
    "duration": 11,
    "start_time": "2022-07-29T11:08:50.034Z"
   },
   {
    "duration": 35,
    "start_time": "2022-07-29T11:08:50.047Z"
   },
   {
    "duration": 9,
    "start_time": "2022-07-29T11:08:50.083Z"
   },
   {
    "duration": 14,
    "start_time": "2022-07-29T11:08:50.094Z"
   },
   {
    "duration": 5,
    "start_time": "2022-07-29T11:08:50.109Z"
   },
   {
    "duration": 10,
    "start_time": "2022-07-29T11:08:50.115Z"
   },
   {
    "duration": 8,
    "start_time": "2022-07-29T11:08:50.127Z"
   },
   {
    "duration": 8,
    "start_time": "2022-07-29T11:08:50.136Z"
   },
   {
    "duration": 7,
    "start_time": "2022-07-29T11:08:50.145Z"
   },
   {
    "duration": 9,
    "start_time": "2022-07-29T11:08:50.153Z"
   },
   {
    "duration": 12,
    "start_time": "2022-07-29T11:08:50.163Z"
   },
   {
    "duration": 11,
    "start_time": "2022-07-29T11:08:50.176Z"
   },
   {
    "duration": 14,
    "start_time": "2022-07-29T11:08:50.188Z"
   },
   {
    "duration": 18,
    "start_time": "2022-07-29T11:08:50.203Z"
   },
   {
    "duration": 6,
    "start_time": "2022-07-29T11:08:50.223Z"
   },
   {
    "duration": 16,
    "start_time": "2022-07-29T11:08:50.230Z"
   },
   {
    "duration": 10,
    "start_time": "2022-07-29T11:08:50.247Z"
   },
   {
    "duration": 14,
    "start_time": "2022-07-29T11:08:50.258Z"
   },
   {
    "duration": 10,
    "start_time": "2022-07-29T11:08:50.274Z"
   },
   {
    "duration": 10,
    "start_time": "2022-07-29T11:08:50.285Z"
   },
   {
    "duration": 14,
    "start_time": "2022-07-29T11:08:50.297Z"
   },
   {
    "duration": 11,
    "start_time": "2022-07-29T11:08:50.313Z"
   },
   {
    "duration": 8,
    "start_time": "2022-07-29T11:08:50.325Z"
   },
   {
    "duration": 4,
    "start_time": "2022-07-29T11:08:50.334Z"
   },
   {
    "duration": 189,
    "start_time": "2022-07-29T11:08:50.340Z"
   },
   {
    "duration": 95,
    "start_time": "2022-07-29T11:08:50.531Z"
   },
   {
    "duration": 3,
    "start_time": "2022-07-29T11:08:50.627Z"
   },
   {
    "duration": 16,
    "start_time": "2022-07-29T11:08:50.632Z"
   },
   {
    "duration": 20,
    "start_time": "2022-07-29T11:08:50.650Z"
   },
   {
    "duration": 7,
    "start_time": "2022-07-29T11:08:50.671Z"
   },
   {
    "duration": 11,
    "start_time": "2022-07-29T11:08:50.680Z"
   },
   {
    "duration": 87,
    "start_time": "2022-07-29T11:08:50.693Z"
   },
   {
    "duration": 8,
    "start_time": "2022-07-29T11:08:50.782Z"
   },
   {
    "duration": 5,
    "start_time": "2022-07-29T11:08:50.792Z"
   },
   {
    "duration": 224,
    "start_time": "2022-07-29T11:08:50.798Z"
   },
   {
    "duration": 84,
    "start_time": "2022-07-29T11:08:51.024Z"
   },
   {
    "duration": 3,
    "start_time": "2022-07-29T11:08:51.110Z"
   },
   {
    "duration": 7,
    "start_time": "2022-07-29T11:08:51.114Z"
   },
   {
    "duration": 14,
    "start_time": "2022-07-29T11:08:51.122Z"
   },
   {
    "duration": 72,
    "start_time": "2022-07-29T11:08:51.137Z"
   },
   {
    "duration": 818,
    "start_time": "2022-07-29T22:07:23.069Z"
   },
   {
    "duration": 154,
    "start_time": "2022-07-29T22:07:23.889Z"
   },
   {
    "duration": 17,
    "start_time": "2022-07-29T22:07:24.046Z"
   },
   {
    "duration": 18,
    "start_time": "2022-07-29T22:07:24.065Z"
   },
   {
    "duration": 8,
    "start_time": "2022-07-29T22:07:24.085Z"
   },
   {
    "duration": 26,
    "start_time": "2022-07-29T22:07:24.095Z"
   },
   {
    "duration": 23,
    "start_time": "2022-07-29T22:07:24.231Z"
   },
   {
    "duration": 10,
    "start_time": "2022-07-29T22:07:24.373Z"
   },
   {
    "duration": 18,
    "start_time": "2022-07-29T22:07:24.535Z"
   },
   {
    "duration": 8,
    "start_time": "2022-07-29T22:07:24.683Z"
   },
   {
    "duration": 13,
    "start_time": "2022-07-29T22:07:24.849Z"
   },
   {
    "duration": 4,
    "start_time": "2022-07-29T22:07:26.163Z"
   },
   {
    "duration": 5,
    "start_time": "2022-07-29T22:07:26.334Z"
   },
   {
    "duration": 4,
    "start_time": "2022-07-29T22:07:26.491Z"
   },
   {
    "duration": 3,
    "start_time": "2022-07-29T22:07:26.658Z"
   },
   {
    "duration": 15,
    "start_time": "2022-07-29T22:07:27.005Z"
   },
   {
    "duration": 5,
    "start_time": "2022-07-29T22:07:27.181Z"
   },
   {
    "duration": 6,
    "start_time": "2022-07-29T22:07:27.341Z"
   },
   {
    "duration": 3,
    "start_time": "2022-07-29T22:07:27.499Z"
   },
   {
    "duration": 13,
    "start_time": "2022-07-29T22:07:27.651Z"
   },
   {
    "duration": 10,
    "start_time": "2022-07-29T22:07:27.971Z"
   },
   {
    "duration": 13,
    "start_time": "2022-07-29T22:07:28.306Z"
   },
   {
    "duration": 13,
    "start_time": "2022-07-29T22:07:28.475Z"
   },
   {
    "duration": 26,
    "start_time": "2022-07-29T22:07:28.803Z"
   },
   {
    "duration": 19,
    "start_time": "2022-07-29T22:07:28.978Z"
   },
   {
    "duration": 12,
    "start_time": "2022-07-29T22:07:29.147Z"
   },
   {
    "duration": 21,
    "start_time": "2022-07-29T22:07:29.331Z"
   },
   {
    "duration": 30,
    "start_time": "2022-07-29T22:07:29.499Z"
   },
   {
    "duration": 12,
    "start_time": "2022-07-29T22:07:30.850Z"
   },
   {
    "duration": 16,
    "start_time": "2022-07-29T22:07:31.038Z"
   },
   {
    "duration": 5,
    "start_time": "2022-07-29T22:07:31.203Z"
   },
   {
    "duration": 260,
    "start_time": "2022-07-29T22:07:31.554Z"
   },
   {
    "duration": 156,
    "start_time": "2022-07-29T22:07:31.817Z"
   },
   {
    "duration": 5,
    "start_time": "2022-07-29T22:07:31.975Z"
   },
   {
    "duration": 8,
    "start_time": "2022-07-29T22:07:32.238Z"
   },
   {
    "duration": 7,
    "start_time": "2022-07-29T22:07:32.426Z"
   },
   {
    "duration": 7,
    "start_time": "2022-07-29T22:07:32.587Z"
   },
   {
    "duration": 12,
    "start_time": "2022-07-29T22:07:32.934Z"
   },
   {
    "duration": 124,
    "start_time": "2022-07-29T22:07:33.259Z"
   },
   {
    "duration": 13,
    "start_time": "2022-07-29T22:07:33.634Z"
   },
   {
    "duration": 5,
    "start_time": "2022-07-29T22:07:33.787Z"
   },
   {
    "duration": 232,
    "start_time": "2022-07-29T22:07:34.145Z"
   },
   {
    "duration": 223,
    "start_time": "2022-07-29T22:07:34.379Z"
   },
   {
    "duration": 5,
    "start_time": "2022-07-29T22:07:34.604Z"
   },
   {
    "duration": 5,
    "start_time": "2022-07-29T22:07:34.662Z"
   },
   {
    "duration": 11,
    "start_time": "2022-07-29T22:07:34.843Z"
   },
   {
    "duration": 109,
    "start_time": "2022-07-29T22:07:35.003Z"
   },
   {
    "duration": 1317,
    "start_time": "2022-08-01T08:19:31.399Z"
   },
   {
    "duration": 124,
    "start_time": "2022-08-01T08:19:32.718Z"
   },
   {
    "duration": 19,
    "start_time": "2022-08-01T08:20:01.715Z"
   },
   {
    "duration": 14,
    "start_time": "2022-08-01T08:20:02.611Z"
   },
   {
    "duration": 9,
    "start_time": "2022-08-01T08:20:03.242Z"
   },
   {
    "duration": 10,
    "start_time": "2022-08-01T08:20:05.080Z"
   },
   {
    "duration": 11,
    "start_time": "2022-08-01T08:20:05.689Z"
   },
   {
    "duration": 9,
    "start_time": "2022-08-01T08:20:05.883Z"
   },
   {
    "duration": 11,
    "start_time": "2022-08-01T08:20:06.418Z"
   },
   {
    "duration": 8,
    "start_time": "2022-08-01T08:20:06.648Z"
   },
   {
    "duration": 10,
    "start_time": "2022-08-01T08:20:06.858Z"
   },
   {
    "duration": 3,
    "start_time": "2022-08-01T08:21:10.950Z"
   },
   {
    "duration": 12,
    "start_time": "2022-08-01T08:21:11.603Z"
   },
   {
    "duration": 3,
    "start_time": "2022-08-01T08:21:12.295Z"
   },
   {
    "duration": 3,
    "start_time": "2022-08-01T08:21:12.682Z"
   },
   {
    "duration": 7,
    "start_time": "2022-08-01T08:21:14.191Z"
   },
   {
    "duration": 5,
    "start_time": "2022-08-01T08:21:14.518Z"
   },
   {
    "duration": 15,
    "start_time": "2022-08-01T08:21:14.526Z"
   },
   {
    "duration": 11,
    "start_time": "2022-08-01T08:21:14.543Z"
   },
   {
    "duration": 19,
    "start_time": "2022-08-01T08:21:14.562Z"
   },
   {
    "duration": 8,
    "start_time": "2022-08-01T08:38:48.037Z"
   },
   {
    "duration": 120,
    "start_time": "2022-08-01T08:38:57.550Z"
   },
   {
    "duration": 8,
    "start_time": "2022-08-01T08:38:58.920Z"
   },
   {
    "duration": 15,
    "start_time": "2022-08-01T08:38:59.056Z"
   },
   {
    "duration": 14,
    "start_time": "2022-08-01T08:38:59.190Z"
   },
   {
    "duration": 11,
    "start_time": "2022-08-01T08:38:59.547Z"
   },
   {
    "duration": 7,
    "start_time": "2022-08-01T08:38:59.714Z"
   },
   {
    "duration": 7,
    "start_time": "2022-08-01T08:39:00.356Z"
   },
   {
    "duration": 9,
    "start_time": "2022-08-01T08:39:00.713Z"
   },
   {
    "duration": 15,
    "start_time": "2022-08-01T08:39:01.000Z"
   },
   {
    "duration": 18,
    "start_time": "2022-08-01T08:39:01.195Z"
   },
   {
    "duration": 12,
    "start_time": "2022-08-01T08:39:01.958Z"
   },
   {
    "duration": 16,
    "start_time": "2022-08-01T08:39:02.684Z"
   },
   {
    "duration": 13,
    "start_time": "2022-08-01T08:39:03.549Z"
   },
   {
    "duration": 15,
    "start_time": "2022-08-01T08:39:04.200Z"
   },
   {
    "duration": 17,
    "start_time": "2022-08-01T08:39:04.350Z"
   },
   {
    "duration": 10,
    "start_time": "2022-08-01T08:39:07.173Z"
   },
   {
    "duration": 9,
    "start_time": "2022-08-01T08:39:07.317Z"
   },
   {
    "duration": 8,
    "start_time": "2022-08-01T08:39:07.499Z"
   },
   {
    "duration": 189,
    "start_time": "2022-08-01T08:39:07.908Z"
   },
   {
    "duration": 122,
    "start_time": "2022-08-01T08:39:08.099Z"
   },
   {
    "duration": 4,
    "start_time": "2022-08-01T08:39:08.271Z"
   },
   {
    "duration": 5,
    "start_time": "2022-08-01T08:39:09.051Z"
   },
   {
    "duration": 13,
    "start_time": "2022-08-01T08:39:09.203Z"
   },
   {
    "duration": 5,
    "start_time": "2022-08-01T08:39:10.014Z"
   },
   {
    "duration": 8,
    "start_time": "2022-08-01T08:39:10.395Z"
   },
   {
    "duration": 98,
    "start_time": "2022-08-01T08:39:10.660Z"
   },
   {
    "duration": 10,
    "start_time": "2022-08-01T08:39:11.272Z"
   },
   {
    "duration": 5,
    "start_time": "2022-08-01T08:39:11.447Z"
   },
   {
    "duration": 245,
    "start_time": "2022-08-01T08:39:11.774Z"
   },
   {
    "duration": 106,
    "start_time": "2022-08-01T08:39:12.021Z"
   },
   {
    "duration": 7,
    "start_time": "2022-08-01T08:39:12.273Z"
   },
   {
    "duration": 2,
    "start_time": "2022-08-01T08:39:13.936Z"
   },
   {
    "duration": 4,
    "start_time": "2022-08-01T08:39:14.537Z"
   },
   {
    "duration": 5,
    "start_time": "2022-08-01T08:39:15.858Z"
   },
   {
    "duration": 17,
    "start_time": "2022-08-01T08:39:17.302Z"
   },
   {
    "duration": 86,
    "start_time": "2022-08-01T08:39:17.559Z"
   },
   {
    "duration": 15,
    "start_time": "2022-08-01T08:39:20.756Z"
   },
   {
    "duration": 8,
    "start_time": "2022-08-01T08:39:24.813Z"
   },
   {
    "duration": 14,
    "start_time": "2022-08-01T08:39:25.157Z"
   },
   {
    "duration": 24,
    "start_time": "2022-08-01T08:39:26.043Z"
   },
   {
    "duration": 17,
    "start_time": "2022-08-01T08:39:28.345Z"
   },
   {
    "duration": 50,
    "start_time": "2022-08-01T08:39:29.391Z"
   },
   {
    "duration": 15,
    "start_time": "2022-08-01T08:39:31.442Z"
   },
   {
    "duration": 9,
    "start_time": "2022-08-01T08:39:33.202Z"
   },
   {
    "duration": 11,
    "start_time": "2022-08-01T08:39:33.846Z"
   },
   {
    "duration": 5,
    "start_time": "2022-08-01T08:39:35.468Z"
   },
   {
    "duration": 4,
    "start_time": "2022-08-01T08:39:35.945Z"
   },
   {
    "duration": 5,
    "start_time": "2022-08-01T08:39:36.097Z"
   },
   {
    "duration": 15,
    "start_time": "2022-08-01T08:39:50.518Z"
   },
   {
    "duration": 4,
    "start_time": "2022-08-01T08:39:59.758Z"
   },
   {
    "duration": 4,
    "start_time": "2022-08-01T08:40:00.471Z"
   },
   {
    "duration": 14,
    "start_time": "2022-08-01T08:40:00.623Z"
   },
   {
    "duration": 31,
    "start_time": "2022-08-01T08:40:02.890Z"
   },
   {
    "duration": 4,
    "start_time": "2022-08-01T08:40:07.714Z"
   },
   {
    "duration": 1729,
    "start_time": "2022-08-02T19:19:20.722Z"
   },
   {
    "duration": 425,
    "start_time": "2022-08-02T19:19:22.455Z"
   },
   {
    "duration": 17,
    "start_time": "2022-08-02T19:19:22.882Z"
   },
   {
    "duration": 32,
    "start_time": "2022-08-02T19:19:22.909Z"
   },
   {
    "duration": 13,
    "start_time": "2022-08-02T19:19:22.945Z"
   },
   {
    "duration": 13,
    "start_time": "2022-08-02T19:19:22.960Z"
   },
   {
    "duration": 20,
    "start_time": "2022-08-02T19:19:22.975Z"
   },
   {
    "duration": 22,
    "start_time": "2022-08-02T19:19:22.997Z"
   },
   {
    "duration": 34,
    "start_time": "2022-08-02T19:19:23.025Z"
   },
   {
    "duration": 8,
    "start_time": "2022-08-02T19:19:23.062Z"
   },
   {
    "duration": 11,
    "start_time": "2022-08-02T19:19:23.071Z"
   },
   {
    "duration": 7,
    "start_time": "2022-08-02T19:19:23.084Z"
   },
   {
    "duration": 42,
    "start_time": "2022-08-02T19:19:23.093Z"
   },
   {
    "duration": 14,
    "start_time": "2022-08-02T19:19:23.137Z"
   },
   {
    "duration": 6,
    "start_time": "2022-08-02T19:19:23.153Z"
   },
   {
    "duration": 8,
    "start_time": "2022-08-02T19:19:23.161Z"
   },
   {
    "duration": 7,
    "start_time": "2022-08-02T19:19:23.171Z"
   },
   {
    "duration": 4,
    "start_time": "2022-08-02T19:19:23.180Z"
   },
   {
    "duration": 7,
    "start_time": "2022-08-02T19:19:23.186Z"
   },
   {
    "duration": 18,
    "start_time": "2022-08-02T19:19:23.195Z"
   },
   {
    "duration": 164,
    "start_time": "2022-08-02T19:19:23.214Z"
   },
   {
    "duration": 11,
    "start_time": "2022-08-02T19:19:23.380Z"
   },
   {
    "duration": 42,
    "start_time": "2022-08-02T19:19:23.392Z"
   },
   {
    "duration": 23,
    "start_time": "2022-08-02T19:19:23.437Z"
   },
   {
    "duration": 24,
    "start_time": "2022-08-02T19:19:23.462Z"
   },
   {
    "duration": 7,
    "start_time": "2022-08-02T19:19:23.490Z"
   },
   {
    "duration": 35,
    "start_time": "2022-08-02T19:19:23.499Z"
   },
   {
    "duration": 19,
    "start_time": "2022-08-02T19:19:23.540Z"
   },
   {
    "duration": 9,
    "start_time": "2022-08-02T19:19:23.561Z"
   },
   {
    "duration": 19,
    "start_time": "2022-08-02T19:19:23.572Z"
   },
   {
    "duration": 12,
    "start_time": "2022-08-02T19:19:23.593Z"
   },
   {
    "duration": 37,
    "start_time": "2022-08-02T19:19:23.610Z"
   },
   {
    "duration": 14,
    "start_time": "2022-08-02T19:19:23.649Z"
   },
   {
    "duration": 17,
    "start_time": "2022-08-02T19:19:23.666Z"
   },
   {
    "duration": 21,
    "start_time": "2022-08-02T19:19:23.685Z"
   },
   {
    "duration": 12,
    "start_time": "2022-08-02T19:19:23.708Z"
   },
   {
    "duration": 44,
    "start_time": "2022-08-02T19:19:23.722Z"
   },
   {
    "duration": 6,
    "start_time": "2022-08-02T19:19:23.768Z"
   },
   {
    "duration": 311,
    "start_time": "2022-08-02T19:19:23.776Z"
   },
   {
    "duration": 99,
    "start_time": "2022-08-02T19:19:24.089Z"
   },
   {
    "duration": 22,
    "start_time": "2022-08-02T19:19:24.190Z"
   },
   {
    "duration": 30,
    "start_time": "2022-08-02T19:19:24.214Z"
   },
   {
    "duration": 16,
    "start_time": "2022-08-02T19:19:24.246Z"
   },
   {
    "duration": 11,
    "start_time": "2022-08-02T19:19:24.264Z"
   },
   {
    "duration": 18,
    "start_time": "2022-08-02T19:19:24.276Z"
   },
   {
    "duration": 153,
    "start_time": "2022-08-02T19:19:24.296Z"
   },
   {
    "duration": 9,
    "start_time": "2022-08-02T19:19:24.451Z"
   },
   {
    "duration": 12,
    "start_time": "2022-08-02T19:19:24.462Z"
   },
   {
    "duration": 183,
    "start_time": "2022-08-02T19:19:24.476Z"
   },
   {
    "duration": 136,
    "start_time": "2022-08-02T19:19:24.661Z"
   },
   {
    "duration": 7,
    "start_time": "2022-08-02T19:19:24.798Z"
   },
   {
    "duration": 37,
    "start_time": "2022-08-02T19:19:24.808Z"
   },
   {
    "duration": 7,
    "start_time": "2022-08-02T19:19:24.849Z"
   },
   {
    "duration": 13,
    "start_time": "2022-08-02T19:19:24.857Z"
   },
   {
    "duration": 127,
    "start_time": "2022-08-02T19:19:24.872Z"
   },
   {
    "duration": 21,
    "start_time": "2022-08-02T19:19:25.001Z"
   },
   {
    "duration": 33,
    "start_time": "2022-08-02T19:19:25.024Z"
   },
   {
    "duration": 19,
    "start_time": "2022-08-02T19:19:25.059Z"
   },
   {
    "duration": 28,
    "start_time": "2022-08-02T19:19:25.080Z"
   },
   {
    "duration": 18,
    "start_time": "2022-08-02T19:19:25.110Z"
   },
   {
    "duration": 17,
    "start_time": "2022-08-02T19:19:25.130Z"
   },
   {
    "duration": 18,
    "start_time": "2022-08-02T19:19:25.148Z"
   },
   {
    "duration": 23,
    "start_time": "2022-08-02T19:19:25.172Z"
   },
   {
    "duration": 62,
    "start_time": "2022-08-02T19:19:25.198Z"
   },
   {
    "duration": 37,
    "start_time": "2022-08-02T19:19:25.262Z"
   },
   {
    "duration": 56,
    "start_time": "2022-08-02T19:19:25.301Z"
   },
   {
    "duration": 22,
    "start_time": "2022-08-02T19:19:25.360Z"
   },
   {
    "duration": 8,
    "start_time": "2022-08-02T19:19:25.384Z"
   },
   {
    "duration": 46,
    "start_time": "2022-08-02T19:19:25.394Z"
   },
   {
    "duration": 25,
    "start_time": "2022-08-02T19:19:25.441Z"
   },
   {
    "duration": 23,
    "start_time": "2022-08-02T19:19:25.468Z"
   },
   {
    "duration": 83,
    "start_time": "2022-08-02T19:19:25.493Z"
   },
   {
    "duration": 11,
    "start_time": "2022-08-02T19:19:25.577Z"
   },
   {
    "duration": 20,
    "start_time": "2022-08-02T19:19:25.590Z"
   },
   {
    "duration": 31,
    "start_time": "2022-08-02T19:19:25.620Z"
   },
   {
    "duration": 42,
    "start_time": "2022-08-02T19:19:25.654Z"
   },
   {
    "duration": 632,
    "start_time": "2022-08-02T19:19:25.699Z"
   },
   {
    "duration": 15,
    "start_time": "2022-08-02T19:19:26.332Z"
   },
   {
    "duration": 25,
    "start_time": "2022-08-02T19:19:26.349Z"
   },
   {
    "duration": 21,
    "start_time": "2022-08-02T19:19:26.376Z"
   },
   {
    "duration": 45,
    "start_time": "2022-08-02T19:19:26.400Z"
   },
   {
    "duration": 28,
    "start_time": "2022-08-02T19:19:26.453Z"
   },
   {
    "duration": 68,
    "start_time": "2022-08-02T19:19:26.483Z"
   },
   {
    "duration": 20,
    "start_time": "2022-08-02T19:19:26.554Z"
   },
   {
    "duration": 16045,
    "start_time": "2022-08-02T19:19:26.576Z"
   },
   {
    "duration": 72,
    "start_time": "2022-08-02T19:19:42.634Z"
   },
   {
    "duration": 604,
    "start_time": "2022-08-02T19:19:42.715Z"
   },
   {
    "duration": 111,
    "start_time": "2022-08-02T19:19:43.326Z"
   },
   {
    "duration": 97,
    "start_time": "2022-08-02T19:19:43.446Z"
   },
   {
    "duration": 20,
    "start_time": "2022-08-02T19:19:43.545Z"
   },
   {
    "duration": 6290,
    "start_time": "2022-08-02T19:19:43.566Z"
   },
   {
    "duration": 65,
    "start_time": "2022-08-02T19:19:49.859Z"
   },
   {
    "duration": 10,
    "start_time": "2022-08-02T19:19:49.926Z"
   },
   {
    "duration": 24,
    "start_time": "2022-08-02T19:19:49.938Z"
   },
   {
    "duration": 4,
    "start_time": "2022-08-02T19:19:49.964Z"
   },
   {
    "duration": 5,
    "start_time": "2022-08-02T19:19:49.969Z"
   },
   {
    "duration": 480,
    "start_time": "2022-08-02T19:19:49.976Z"
   },
   {
    "duration": 25,
    "start_time": "2022-08-02T19:19:50.458Z"
   },
   {
    "duration": 25,
    "start_time": "2022-08-02T19:19:50.485Z"
   },
   {
    "duration": 34,
    "start_time": "2022-08-02T19:19:50.512Z"
   },
   {
    "duration": 6,
    "start_time": "2022-08-02T19:19:50.548Z"
   },
   {
    "duration": 6159,
    "start_time": "2022-08-02T19:19:50.555Z"
   },
   {
    "duration": 14,
    "start_time": "2022-08-02T19:19:56.719Z"
   },
   {
    "duration": 4,
    "start_time": "2022-08-02T19:19:56.736Z"
   },
   {
    "duration": 4,
    "start_time": "2022-08-02T19:19:56.742Z"
   },
   {
    "duration": 14276,
    "start_time": "2022-08-02T19:19:56.748Z"
   },
   {
    "duration": 75,
    "start_time": "2022-08-02T19:20:11.028Z"
   },
   {
    "duration": 4,
    "start_time": "2022-08-02T19:20:11.106Z"
   },
   {
    "duration": 198,
    "start_time": "2022-08-02T19:20:11.113Z"
   },
   {
    "duration": 10,
    "start_time": "2022-08-02T19:20:11.313Z"
   },
   {
    "duration": 21,
    "start_time": "2022-08-02T19:20:11.327Z"
   },
   {
    "duration": 3,
    "start_time": "2022-08-02T19:20:27.632Z"
   },
   {
    "duration": 600,
    "start_time": "2022-08-02T19:20:28.732Z"
   },
   {
    "duration": 11,
    "start_time": "2022-08-02T19:20:29.633Z"
   },
   {
    "duration": 186,
    "start_time": "2022-08-02T19:21:04.135Z"
   },
   {
    "duration": 1194,
    "start_time": "2022-08-03T03:04:29.819Z"
   },
   {
    "duration": 98,
    "start_time": "2022-08-03T03:04:31.015Z"
   },
   {
    "duration": 15,
    "start_time": "2022-08-03T03:04:31.919Z"
   },
   {
    "duration": 18,
    "start_time": "2022-08-03T03:04:32.160Z"
   },
   {
    "duration": 9,
    "start_time": "2022-08-03T03:04:32.718Z"
   },
   {
    "duration": 11,
    "start_time": "2022-08-03T03:04:33.925Z"
   },
   {
    "duration": 18,
    "start_time": "2022-08-03T03:04:34.470Z"
   },
   {
    "duration": 12,
    "start_time": "2022-08-03T03:04:34.728Z"
   },
   {
    "duration": 11,
    "start_time": "2022-08-03T03:04:35.719Z"
   },
   {
    "duration": 6,
    "start_time": "2022-08-03T03:04:36.343Z"
   },
   {
    "duration": 9,
    "start_time": "2022-08-03T03:04:36.519Z"
   },
   {
    "duration": 3,
    "start_time": "2022-08-03T03:04:42.295Z"
   },
   {
    "duration": 3,
    "start_time": "2022-08-03T03:04:42.456Z"
   },
   {
    "duration": 3,
    "start_time": "2022-08-03T03:04:42.663Z"
   },
   {
    "duration": 4,
    "start_time": "2022-08-03T03:04:42.984Z"
   },
   {
    "duration": 6,
    "start_time": "2022-08-03T03:04:43.333Z"
   },
   {
    "duration": 6,
    "start_time": "2022-08-03T03:04:43.495Z"
   },
   {
    "duration": 5,
    "start_time": "2022-08-03T03:04:43.676Z"
   },
   {
    "duration": 5,
    "start_time": "2022-08-03T03:04:43.842Z"
   },
   {
    "duration": 12,
    "start_time": "2022-08-03T03:04:44.032Z"
   },
   {
    "duration": 108,
    "start_time": "2022-08-03T03:04:46.040Z"
   },
   {
    "duration": 8,
    "start_time": "2022-08-03T03:04:47.361Z"
   },
   {
    "duration": 13,
    "start_time": "2022-08-03T03:04:50.119Z"
   },
   {
    "duration": 14,
    "start_time": "2022-08-03T03:04:51.836Z"
   },
   {
    "duration": 11,
    "start_time": "2022-08-03T03:04:57.319Z"
   },
   {
    "duration": 8,
    "start_time": "2022-08-03T03:04:58.239Z"
   },
   {
    "duration": 6,
    "start_time": "2022-08-03T03:04:58.756Z"
   },
   {
    "duration": 8,
    "start_time": "2022-08-03T03:05:00.930Z"
   },
   {
    "duration": 7,
    "start_time": "2022-08-03T03:05:01.419Z"
   },
   {
    "duration": 13,
    "start_time": "2022-08-03T03:05:01.828Z"
   },
   {
    "duration": 12,
    "start_time": "2022-08-03T03:05:03.489Z"
   },
   {
    "duration": 22,
    "start_time": "2022-08-03T03:05:03.734Z"
   },
   {
    "duration": 17,
    "start_time": "2022-08-03T03:05:04.362Z"
   },
   {
    "duration": 17,
    "start_time": "2022-08-03T03:05:04.620Z"
   },
   {
    "duration": 25,
    "start_time": "2022-08-03T03:05:04.765Z"
   },
   {
    "duration": 12,
    "start_time": "2022-08-03T03:05:06.521Z"
   },
   {
    "duration": 10,
    "start_time": "2022-08-03T03:05:06.720Z"
   },
   {
    "duration": 5,
    "start_time": "2022-08-03T03:05:06.887Z"
   },
   {
    "duration": 148,
    "start_time": "2022-08-03T03:05:07.256Z"
   },
   {
    "duration": 91,
    "start_time": "2022-08-03T03:05:07.515Z"
   },
   {
    "duration": 4,
    "start_time": "2022-08-03T03:05:07.681Z"
   },
   {
    "duration": 4,
    "start_time": "2022-08-03T03:05:08.015Z"
   },
   {
    "duration": 4,
    "start_time": "2022-08-03T03:05:08.581Z"
   },
   {
    "duration": 6,
    "start_time": "2022-08-03T03:05:08.790Z"
   },
   {
    "duration": 7,
    "start_time": "2022-08-03T03:05:09.456Z"
   },
   {
    "duration": 166,
    "start_time": "2022-08-03T03:05:09.795Z"
   },
   {
    "duration": 7,
    "start_time": "2022-08-03T03:05:10.164Z"
   },
   {
    "duration": 5,
    "start_time": "2022-08-03T03:05:10.345Z"
   },
   {
    "duration": 146,
    "start_time": "2022-08-03T03:05:10.679Z"
   },
   {
    "duration": 83,
    "start_time": "2022-08-03T03:05:10.865Z"
   },
   {
    "duration": 2,
    "start_time": "2022-08-03T03:05:11.186Z"
   },
   {
    "duration": 4,
    "start_time": "2022-08-03T03:05:14.558Z"
   },
   {
    "duration": 5,
    "start_time": "2022-08-03T03:05:15.047Z"
   },
   {
    "duration": 10,
    "start_time": "2022-08-03T03:05:15.236Z"
   },
   {
    "duration": 84,
    "start_time": "2022-08-03T03:05:15.427Z"
   },
   {
    "duration": 15,
    "start_time": "2022-08-03T03:05:16.156Z"
   },
   {
    "duration": 6,
    "start_time": "2022-08-03T03:05:18.855Z"
   },
   {
    "duration": 15,
    "start_time": "2022-08-03T03:05:20.588Z"
   },
   {
    "duration": 21,
    "start_time": "2022-08-03T03:05:22.111Z"
   },
   {
    "duration": 13,
    "start_time": "2022-08-03T03:05:22.551Z"
   },
   {
    "duration": 2,
    "start_time": "2022-08-03T03:05:23.424Z"
   },
   {
    "duration": 22,
    "start_time": "2022-08-03T03:05:35.692Z"
   },
   {
    "duration": 1720,
    "start_time": "2022-08-03T06:09:19.219Z"
   },
   {
    "duration": 314,
    "start_time": "2022-08-03T06:09:20.941Z"
   },
   {
    "duration": 19,
    "start_time": "2022-08-03T06:09:21.257Z"
   },
   {
    "duration": 30,
    "start_time": "2022-08-03T06:09:21.277Z"
   },
   {
    "duration": 13,
    "start_time": "2022-08-03T06:09:21.311Z"
   },
   {
    "duration": 13,
    "start_time": "2022-08-03T06:09:21.326Z"
   },
   {
    "duration": 23,
    "start_time": "2022-08-03T06:09:21.340Z"
   },
   {
    "duration": 23,
    "start_time": "2022-08-03T06:09:21.366Z"
   },
   {
    "duration": 24,
    "start_time": "2022-08-03T06:09:21.392Z"
   },
   {
    "duration": 14,
    "start_time": "2022-08-03T06:09:21.417Z"
   },
   {
    "duration": 13,
    "start_time": "2022-08-03T06:09:21.432Z"
   },
   {
    "duration": 6,
    "start_time": "2022-08-03T06:09:21.446Z"
   },
   {
    "duration": 15,
    "start_time": "2022-08-03T06:09:21.453Z"
   },
   {
    "duration": 16,
    "start_time": "2022-08-03T06:09:21.471Z"
   },
   {
    "duration": 10,
    "start_time": "2022-08-03T06:09:21.490Z"
   },
   {
    "duration": 17,
    "start_time": "2022-08-03T06:09:21.502Z"
   },
   {
    "duration": 9,
    "start_time": "2022-08-03T06:09:21.521Z"
   },
   {
    "duration": 7,
    "start_time": "2022-08-03T06:09:21.532Z"
   },
   {
    "duration": 6,
    "start_time": "2022-08-03T06:09:21.541Z"
   },
   {
    "duration": 14,
    "start_time": "2022-08-03T06:09:21.549Z"
   },
   {
    "duration": 154,
    "start_time": "2022-08-03T06:09:21.565Z"
   },
   {
    "duration": 9,
    "start_time": "2022-08-03T06:09:21.721Z"
   },
   {
    "duration": 17,
    "start_time": "2022-08-03T06:09:21.731Z"
   },
   {
    "duration": 18,
    "start_time": "2022-08-03T06:09:21.749Z"
   },
   {
    "duration": 19,
    "start_time": "2022-08-03T06:09:21.787Z"
   },
   {
    "duration": 11,
    "start_time": "2022-08-03T06:09:21.808Z"
   },
   {
    "duration": 32,
    "start_time": "2022-08-03T06:09:24.930Z"
   },
   {
    "duration": 22,
    "start_time": "2022-08-03T06:09:33.523Z"
   },
   {
    "duration": 155,
    "start_time": "2022-08-03T06:15:20.018Z"
   },
   {
    "duration": 7,
    "start_time": "2022-08-03T06:16:05.417Z"
   },
   {
    "duration": 13,
    "start_time": "2022-08-03T06:16:07.960Z"
   },
   {
    "duration": 4,
    "start_time": "2022-08-03T06:16:35.620Z"
   },
   {
    "duration": 14,
    "start_time": "2022-08-03T06:16:49.365Z"
   },
   {
    "duration": 19,
    "start_time": "2022-08-03T06:17:10.917Z"
   },
   {
    "duration": 55,
    "start_time": "2022-08-03T06:19:10.083Z"
   },
   {
    "duration": 17,
    "start_time": "2022-08-03T06:19:16.421Z"
   },
   {
    "duration": 4,
    "start_time": "2022-08-03T06:21:59.824Z"
   },
   {
    "duration": 1448,
    "start_time": "2022-08-03T06:22:51.326Z"
   },
   {
    "duration": 103,
    "start_time": "2022-08-03T06:22:52.776Z"
   },
   {
    "duration": 14,
    "start_time": "2022-08-03T06:22:52.881Z"
   },
   {
    "duration": 13,
    "start_time": "2022-08-03T06:22:52.897Z"
   },
   {
    "duration": 19,
    "start_time": "2022-08-03T06:22:52.913Z"
   },
   {
    "duration": 10,
    "start_time": "2022-08-03T06:22:52.934Z"
   },
   {
    "duration": 16,
    "start_time": "2022-08-03T06:22:52.945Z"
   },
   {
    "duration": 28,
    "start_time": "2022-08-03T06:22:52.963Z"
   },
   {
    "duration": 12,
    "start_time": "2022-08-03T06:22:52.993Z"
   },
   {
    "duration": 19,
    "start_time": "2022-08-03T06:22:53.007Z"
   },
   {
    "duration": 14,
    "start_time": "2022-08-03T06:22:53.028Z"
   },
   {
    "duration": 8,
    "start_time": "2022-08-03T06:22:53.044Z"
   },
   {
    "duration": 7,
    "start_time": "2022-08-03T06:22:53.053Z"
   },
   {
    "duration": 9,
    "start_time": "2022-08-03T06:22:53.062Z"
   },
   {
    "duration": 12,
    "start_time": "2022-08-03T06:22:53.073Z"
   },
   {
    "duration": 9,
    "start_time": "2022-08-03T06:22:53.087Z"
   },
   {
    "duration": 10,
    "start_time": "2022-08-03T06:22:53.097Z"
   },
   {
    "duration": 9,
    "start_time": "2022-08-03T06:22:53.108Z"
   },
   {
    "duration": 8,
    "start_time": "2022-08-03T06:22:53.118Z"
   },
   {
    "duration": 21,
    "start_time": "2022-08-03T06:22:53.127Z"
   },
   {
    "duration": 123,
    "start_time": "2022-08-03T06:22:53.151Z"
   },
   {
    "duration": 18,
    "start_time": "2022-08-03T06:22:53.276Z"
   },
   {
    "duration": 14,
    "start_time": "2022-08-03T06:22:53.296Z"
   },
   {
    "duration": 17,
    "start_time": "2022-08-03T06:22:53.311Z"
   },
   {
    "duration": 12,
    "start_time": "2022-08-03T06:22:53.330Z"
   },
   {
    "duration": 9,
    "start_time": "2022-08-03T06:22:53.344Z"
   },
   {
    "duration": 42,
    "start_time": "2022-08-03T06:22:53.355Z"
   },
   {
    "duration": 6,
    "start_time": "2022-08-03T06:22:53.399Z"
   },
   {
    "duration": 9,
    "start_time": "2022-08-03T06:22:53.407Z"
   },
   {
    "duration": 16,
    "start_time": "2022-08-03T06:22:53.417Z"
   },
   {
    "duration": 9,
    "start_time": "2022-08-03T06:22:53.435Z"
   },
   {
    "duration": 10,
    "start_time": "2022-08-03T06:22:53.447Z"
   },
   {
    "duration": 30,
    "start_time": "2022-08-03T06:22:53.459Z"
   },
   {
    "duration": 12,
    "start_time": "2022-08-03T06:22:53.491Z"
   },
   {
    "duration": 12,
    "start_time": "2022-08-03T06:22:53.505Z"
   },
   {
    "duration": 17,
    "start_time": "2022-08-03T06:22:53.519Z"
   },
   {
    "duration": 13,
    "start_time": "2022-08-03T06:22:53.538Z"
   },
   {
    "duration": 14,
    "start_time": "2022-08-03T06:22:53.586Z"
   },
   {
    "duration": 17,
    "start_time": "2022-08-03T06:22:53.602Z"
   },
   {
    "duration": 10,
    "start_time": "2022-08-03T06:22:53.621Z"
   },
   {
    "duration": 8,
    "start_time": "2022-08-03T06:22:53.636Z"
   },
   {
    "duration": 8,
    "start_time": "2022-08-03T06:22:53.645Z"
   },
   {
    "duration": 178,
    "start_time": "2022-08-03T06:22:53.687Z"
   },
   {
    "duration": 199,
    "start_time": "2022-08-03T06:22:53.867Z"
   },
   {
    "duration": 5,
    "start_time": "2022-08-03T06:22:54.068Z"
   },
   {
    "duration": 7,
    "start_time": "2022-08-03T06:22:54.086Z"
   },
   {
    "duration": 6,
    "start_time": "2022-08-03T06:22:54.096Z"
   },
   {
    "duration": 5,
    "start_time": "2022-08-03T06:22:54.105Z"
   },
   {
    "duration": 12,
    "start_time": "2022-08-03T06:22:54.112Z"
   },
   {
    "duration": 121,
    "start_time": "2022-08-03T06:22:54.125Z"
   },
   {
    "duration": 7,
    "start_time": "2022-08-03T06:22:54.248Z"
   },
   {
    "duration": 4,
    "start_time": "2022-08-03T06:22:54.257Z"
   },
   {
    "duration": 185,
    "start_time": "2022-08-03T06:22:54.286Z"
   },
   {
    "duration": 115,
    "start_time": "2022-08-03T06:22:54.473Z"
   },
   {
    "duration": 4,
    "start_time": "2022-08-03T06:22:54.590Z"
   },
   {
    "duration": 12,
    "start_time": "2022-08-03T06:22:54.596Z"
   },
   {
    "duration": 18,
    "start_time": "2022-08-03T06:22:54.610Z"
   },
   {
    "duration": 15,
    "start_time": "2022-08-03T06:22:54.630Z"
   },
   {
    "duration": 87,
    "start_time": "2022-08-03T06:22:54.647Z"
   },
   {
    "duration": 18,
    "start_time": "2022-08-03T06:22:54.736Z"
   },
   {
    "duration": 6,
    "start_time": "2022-08-03T06:22:54.756Z"
   },
   {
    "duration": 40,
    "start_time": "2022-08-03T06:22:54.764Z"
   },
   {
    "duration": 25,
    "start_time": "2022-08-03T06:22:54.805Z"
   },
   {
    "duration": 22,
    "start_time": "2022-08-03T06:22:54.832Z"
   },
   {
    "duration": 55,
    "start_time": "2022-08-03T06:22:54.856Z"
   },
   {
    "duration": 2,
    "start_time": "2022-08-03T06:22:54.914Z"
   },
   {
    "duration": 15,
    "start_time": "2022-08-03T06:22:54.918Z"
   },
   {
    "duration": 9,
    "start_time": "2022-08-03T06:22:54.935Z"
   },
   {
    "duration": 9,
    "start_time": "2022-08-03T06:22:54.946Z"
   },
   {
    "duration": 12,
    "start_time": "2022-08-03T06:22:54.957Z"
   },
   {
    "duration": 21,
    "start_time": "2022-08-03T06:22:54.972Z"
   },
   {
    "duration": 7,
    "start_time": "2022-08-03T06:22:54.995Z"
   },
   {
    "duration": 9,
    "start_time": "2022-08-03T06:22:55.004Z"
   },
   {
    "duration": 15,
    "start_time": "2022-08-03T06:22:55.016Z"
   },
   {
    "duration": 8,
    "start_time": "2022-08-03T06:22:55.034Z"
   },
   {
    "duration": 9,
    "start_time": "2022-08-03T06:22:55.043Z"
   },
   {
    "duration": 41,
    "start_time": "2022-08-03T06:22:55.054Z"
   },
   {
    "duration": 6,
    "start_time": "2022-08-03T06:22:55.098Z"
   },
   {
    "duration": 15,
    "start_time": "2022-08-03T06:22:55.105Z"
   },
   {
    "duration": 7,
    "start_time": "2022-08-03T06:22:55.122Z"
   },
   {
    "duration": 185,
    "start_time": "2022-08-03T06:22:55.131Z"
   },
   {
    "duration": 0,
    "start_time": "2022-08-03T06:22:55.318Z"
   },
   {
    "duration": 0,
    "start_time": "2022-08-03T06:22:55.319Z"
   },
   {
    "duration": 0,
    "start_time": "2022-08-03T06:22:55.321Z"
   },
   {
    "duration": 0,
    "start_time": "2022-08-03T06:22:55.322Z"
   },
   {
    "duration": 0,
    "start_time": "2022-08-03T06:22:55.324Z"
   },
   {
    "duration": 0,
    "start_time": "2022-08-03T06:22:55.325Z"
   },
   {
    "duration": 0,
    "start_time": "2022-08-03T06:22:55.326Z"
   },
   {
    "duration": 0,
    "start_time": "2022-08-03T06:22:55.328Z"
   },
   {
    "duration": 0,
    "start_time": "2022-08-03T06:22:55.330Z"
   },
   {
    "duration": 0,
    "start_time": "2022-08-03T06:22:55.331Z"
   },
   {
    "duration": 0,
    "start_time": "2022-08-03T06:22:55.332Z"
   },
   {
    "duration": 0,
    "start_time": "2022-08-03T06:22:55.334Z"
   },
   {
    "duration": 0,
    "start_time": "2022-08-03T06:22:55.335Z"
   },
   {
    "duration": 0,
    "start_time": "2022-08-03T06:22:55.337Z"
   },
   {
    "duration": 0,
    "start_time": "2022-08-03T06:22:55.338Z"
   },
   {
    "duration": 0,
    "start_time": "2022-08-03T06:22:55.340Z"
   },
   {
    "duration": 0,
    "start_time": "2022-08-03T06:22:55.341Z"
   },
   {
    "duration": 0,
    "start_time": "2022-08-03T06:22:55.342Z"
   },
   {
    "duration": 0,
    "start_time": "2022-08-03T06:22:55.343Z"
   },
   {
    "duration": 0,
    "start_time": "2022-08-03T06:22:55.345Z"
   },
   {
    "duration": 0,
    "start_time": "2022-08-03T06:22:55.347Z"
   },
   {
    "duration": 0,
    "start_time": "2022-08-03T06:22:55.350Z"
   },
   {
    "duration": 0,
    "start_time": "2022-08-03T06:22:55.352Z"
   },
   {
    "duration": 0,
    "start_time": "2022-08-03T06:22:55.352Z"
   },
   {
    "duration": 0,
    "start_time": "2022-08-03T06:22:55.353Z"
   },
   {
    "duration": 0,
    "start_time": "2022-08-03T06:22:55.355Z"
   },
   {
    "duration": 0,
    "start_time": "2022-08-03T06:22:55.386Z"
   },
   {
    "duration": 0,
    "start_time": "2022-08-03T06:22:55.388Z"
   },
   {
    "duration": 0,
    "start_time": "2022-08-03T06:22:55.389Z"
   },
   {
    "duration": 0,
    "start_time": "2022-08-03T06:22:55.390Z"
   },
   {
    "duration": 0,
    "start_time": "2022-08-03T06:22:55.391Z"
   },
   {
    "duration": 0,
    "start_time": "2022-08-03T06:22:55.393Z"
   },
   {
    "duration": 0,
    "start_time": "2022-08-03T06:22:55.394Z"
   },
   {
    "duration": 0,
    "start_time": "2022-08-03T06:22:55.395Z"
   },
   {
    "duration": 861,
    "start_time": "2022-08-03T06:28:10.570Z"
   },
   {
    "duration": 760,
    "start_time": "2022-08-03T06:28:51.842Z"
   },
   {
    "duration": 850,
    "start_time": "2022-08-03T06:29:14.986Z"
   },
   {
    "duration": 839,
    "start_time": "2022-08-03T06:29:35.825Z"
   },
   {
    "duration": 1364,
    "start_time": "2022-08-03T06:29:53.643Z"
   },
   {
    "duration": 101,
    "start_time": "2022-08-03T06:29:55.009Z"
   },
   {
    "duration": 13,
    "start_time": "2022-08-03T06:29:55.112Z"
   },
   {
    "duration": 14,
    "start_time": "2022-08-03T06:29:55.128Z"
   },
   {
    "duration": 13,
    "start_time": "2022-08-03T06:29:55.143Z"
   },
   {
    "duration": 9,
    "start_time": "2022-08-03T06:29:55.158Z"
   },
   {
    "duration": 18,
    "start_time": "2022-08-03T06:29:55.169Z"
   },
   {
    "duration": 13,
    "start_time": "2022-08-03T06:29:55.189Z"
   },
   {
    "duration": 13,
    "start_time": "2022-08-03T06:29:55.204Z"
   },
   {
    "duration": 25,
    "start_time": "2022-08-03T06:29:55.219Z"
   },
   {
    "duration": 22,
    "start_time": "2022-08-03T06:29:55.246Z"
   },
   {
    "duration": 24,
    "start_time": "2022-08-03T06:29:55.269Z"
   },
   {
    "duration": 6,
    "start_time": "2022-08-03T06:29:55.294Z"
   },
   {
    "duration": 7,
    "start_time": "2022-08-03T06:29:55.301Z"
   },
   {
    "duration": 7,
    "start_time": "2022-08-03T06:29:55.309Z"
   },
   {
    "duration": 8,
    "start_time": "2022-08-03T06:29:55.318Z"
   },
   {
    "duration": 8,
    "start_time": "2022-08-03T06:29:55.329Z"
   },
   {
    "duration": 7,
    "start_time": "2022-08-03T06:29:55.338Z"
   },
   {
    "duration": 8,
    "start_time": "2022-08-03T06:29:55.347Z"
   },
   {
    "duration": 20,
    "start_time": "2022-08-03T06:29:55.357Z"
   },
   {
    "duration": 112,
    "start_time": "2022-08-03T06:29:55.387Z"
   },
   {
    "duration": 9,
    "start_time": "2022-08-03T06:29:55.500Z"
   },
   {
    "duration": 13,
    "start_time": "2022-08-03T06:29:55.511Z"
   },
   {
    "duration": 16,
    "start_time": "2022-08-03T06:29:55.525Z"
   },
   {
    "duration": 10,
    "start_time": "2022-08-03T06:29:55.543Z"
   },
   {
    "duration": 32,
    "start_time": "2022-08-03T06:29:55.555Z"
   },
   {
    "duration": 14,
    "start_time": "2022-08-03T06:29:55.588Z"
   },
   {
    "duration": 14,
    "start_time": "2022-08-03T06:29:55.606Z"
   },
   {
    "duration": 5,
    "start_time": "2022-08-03T06:29:58.943Z"
   },
   {
    "duration": 13,
    "start_time": "2022-08-03T06:30:09.124Z"
   },
   {
    "duration": 117,
    "start_time": "2022-08-03T06:30:28.873Z"
   },
   {
    "duration": 5,
    "start_time": "2022-08-03T06:30:42.633Z"
   },
   {
    "duration": 15,
    "start_time": "2022-08-03T06:30:45.873Z"
   },
   {
    "duration": 16,
    "start_time": "2022-08-03T06:31:41.357Z"
   },
   {
    "duration": 1347,
    "start_time": "2022-08-03T06:31:58.125Z"
   },
   {
    "duration": 103,
    "start_time": "2022-08-03T06:31:59.474Z"
   },
   {
    "duration": 15,
    "start_time": "2022-08-03T06:31:59.578Z"
   },
   {
    "duration": 16,
    "start_time": "2022-08-03T06:31:59.595Z"
   },
   {
    "duration": 17,
    "start_time": "2022-08-03T06:31:59.613Z"
   },
   {
    "duration": 11,
    "start_time": "2022-08-03T06:31:59.632Z"
   },
   {
    "duration": 27,
    "start_time": "2022-08-03T06:31:59.645Z"
   },
   {
    "duration": 17,
    "start_time": "2022-08-03T06:31:59.674Z"
   },
   {
    "duration": 18,
    "start_time": "2022-08-03T06:31:59.693Z"
   },
   {
    "duration": 24,
    "start_time": "2022-08-03T06:31:59.713Z"
   },
   {
    "duration": 13,
    "start_time": "2022-08-03T06:31:59.738Z"
   },
   {
    "duration": 9,
    "start_time": "2022-08-03T06:31:59.752Z"
   },
   {
    "duration": 11,
    "start_time": "2022-08-03T06:31:59.762Z"
   },
   {
    "duration": 10,
    "start_time": "2022-08-03T06:31:59.776Z"
   },
   {
    "duration": 10,
    "start_time": "2022-08-03T06:31:59.788Z"
   },
   {
    "duration": 23,
    "start_time": "2022-08-03T06:31:59.799Z"
   },
   {
    "duration": 24,
    "start_time": "2022-08-03T06:31:59.823Z"
   },
   {
    "duration": 17,
    "start_time": "2022-08-03T06:31:59.848Z"
   },
   {
    "duration": 13,
    "start_time": "2022-08-03T06:31:59.867Z"
   },
   {
    "duration": 31,
    "start_time": "2022-08-03T06:31:59.882Z"
   },
   {
    "duration": 120,
    "start_time": "2022-08-03T06:31:59.914Z"
   },
   {
    "duration": 10,
    "start_time": "2022-08-03T06:32:00.036Z"
   },
   {
    "duration": 25,
    "start_time": "2022-08-03T06:32:00.048Z"
   },
   {
    "duration": 23,
    "start_time": "2022-08-03T06:32:00.074Z"
   },
   {
    "duration": 21,
    "start_time": "2022-08-03T06:32:00.099Z"
   },
   {
    "duration": 5,
    "start_time": "2022-08-03T06:32:00.122Z"
   },
   {
    "duration": 22,
    "start_time": "2022-08-03T06:32:00.128Z"
   },
   {
    "duration": 17,
    "start_time": "2022-08-03T06:32:00.152Z"
   },
   {
    "duration": 116,
    "start_time": "2022-08-03T06:32:02.970Z"
   },
   {
    "duration": 4,
    "start_time": "2022-08-03T06:32:24.191Z"
   },
   {
    "duration": 13,
    "start_time": "2022-08-03T06:32:32.223Z"
   },
   {
    "duration": 16,
    "start_time": "2022-08-03T06:32:49.156Z"
   },
   {
    "duration": 19,
    "start_time": "2022-08-03T06:32:55.641Z"
   },
   {
    "duration": 1554,
    "start_time": "2022-08-03T06:37:15.457Z"
   },
   {
    "duration": 105,
    "start_time": "2022-08-03T06:37:17.013Z"
   },
   {
    "duration": 15,
    "start_time": "2022-08-03T06:37:17.120Z"
   },
   {
    "duration": 12,
    "start_time": "2022-08-03T06:37:17.137Z"
   },
   {
    "duration": 8,
    "start_time": "2022-08-03T06:37:17.151Z"
   },
   {
    "duration": 10,
    "start_time": "2022-08-03T06:37:17.160Z"
   },
   {
    "duration": 22,
    "start_time": "2022-08-03T06:37:17.171Z"
   },
   {
    "duration": 10,
    "start_time": "2022-08-03T06:37:17.195Z"
   },
   {
    "duration": 12,
    "start_time": "2022-08-03T06:37:17.207Z"
   },
   {
    "duration": 8,
    "start_time": "2022-08-03T06:37:17.220Z"
   },
   {
    "duration": 10,
    "start_time": "2022-08-03T06:37:17.230Z"
   },
   {
    "duration": 8,
    "start_time": "2022-08-03T06:37:17.242Z"
   },
   {
    "duration": 6,
    "start_time": "2022-08-03T06:37:17.252Z"
   },
   {
    "duration": 4,
    "start_time": "2022-08-03T06:37:17.287Z"
   },
   {
    "duration": 6,
    "start_time": "2022-08-03T06:37:17.292Z"
   },
   {
    "duration": 9,
    "start_time": "2022-08-03T06:37:17.300Z"
   },
   {
    "duration": 7,
    "start_time": "2022-08-03T06:37:17.310Z"
   },
   {
    "duration": 6,
    "start_time": "2022-08-03T06:37:17.319Z"
   },
   {
    "duration": 5,
    "start_time": "2022-08-03T06:37:17.327Z"
   },
   {
    "duration": 13,
    "start_time": "2022-08-03T06:37:17.334Z"
   },
   {
    "duration": 138,
    "start_time": "2022-08-03T06:37:17.349Z"
   },
   {
    "duration": 9,
    "start_time": "2022-08-03T06:37:17.488Z"
   },
   {
    "duration": 15,
    "start_time": "2022-08-03T06:37:17.498Z"
   },
   {
    "duration": 13,
    "start_time": "2022-08-03T06:37:17.514Z"
   },
   {
    "duration": 11,
    "start_time": "2022-08-03T06:37:17.529Z"
   },
   {
    "duration": 6,
    "start_time": "2022-08-03T06:37:17.542Z"
   },
   {
    "duration": 46,
    "start_time": "2022-08-03T06:37:17.550Z"
   },
   {
    "duration": 6,
    "start_time": "2022-08-03T06:37:17.598Z"
   },
   {
    "duration": 114,
    "start_time": "2022-08-03T06:37:20.824Z"
   },
   {
    "duration": 13,
    "start_time": "2022-08-03T06:42:02.868Z"
   },
   {
    "duration": 18,
    "start_time": "2022-08-03T06:42:24.968Z"
   },
   {
    "duration": 1365,
    "start_time": "2022-08-03T06:42:33.277Z"
   },
   {
    "duration": 105,
    "start_time": "2022-08-03T06:42:34.643Z"
   },
   {
    "duration": 15,
    "start_time": "2022-08-03T06:42:34.750Z"
   },
   {
    "duration": 13,
    "start_time": "2022-08-03T06:42:34.767Z"
   },
   {
    "duration": 10,
    "start_time": "2022-08-03T06:42:34.782Z"
   },
   {
    "duration": 10,
    "start_time": "2022-08-03T06:42:34.793Z"
   },
   {
    "duration": 16,
    "start_time": "2022-08-03T06:42:34.804Z"
   },
   {
    "duration": 12,
    "start_time": "2022-08-03T06:42:34.822Z"
   },
   {
    "duration": 14,
    "start_time": "2022-08-03T06:42:34.835Z"
   },
   {
    "duration": 7,
    "start_time": "2022-08-03T06:42:34.852Z"
   },
   {
    "duration": 28,
    "start_time": "2022-08-03T06:42:34.861Z"
   },
   {
    "duration": 6,
    "start_time": "2022-08-03T06:42:34.891Z"
   },
   {
    "duration": 5,
    "start_time": "2022-08-03T06:42:34.898Z"
   },
   {
    "duration": 9,
    "start_time": "2022-08-03T06:42:34.905Z"
   },
   {
    "duration": 4,
    "start_time": "2022-08-03T06:42:34.916Z"
   },
   {
    "duration": 10,
    "start_time": "2022-08-03T06:42:34.922Z"
   },
   {
    "duration": 8,
    "start_time": "2022-08-03T06:42:34.933Z"
   },
   {
    "duration": 14,
    "start_time": "2022-08-03T06:42:34.942Z"
   },
   {
    "duration": 5,
    "start_time": "2022-08-03T06:42:34.957Z"
   },
   {
    "duration": 17,
    "start_time": "2022-08-03T06:42:34.963Z"
   },
   {
    "duration": 114,
    "start_time": "2022-08-03T06:42:34.986Z"
   },
   {
    "duration": 8,
    "start_time": "2022-08-03T06:42:35.102Z"
   },
   {
    "duration": 18,
    "start_time": "2022-08-03T06:42:35.112Z"
   },
   {
    "duration": 15,
    "start_time": "2022-08-03T06:42:35.131Z"
   },
   {
    "duration": 11,
    "start_time": "2022-08-03T06:42:35.147Z"
   },
   {
    "duration": 5,
    "start_time": "2022-08-03T06:42:35.160Z"
   },
   {
    "duration": 26,
    "start_time": "2022-08-03T06:42:35.166Z"
   },
   {
    "duration": 7,
    "start_time": "2022-08-03T06:42:35.195Z"
   },
   {
    "duration": 113,
    "start_time": "2022-08-03T06:42:39.247Z"
   },
   {
    "duration": 5,
    "start_time": "2022-08-03T06:47:52.786Z"
   },
   {
    "duration": 9,
    "start_time": "2022-08-03T06:48:43.664Z"
   },
   {
    "duration": 7,
    "start_time": "2022-08-03T06:55:00.067Z"
   },
   {
    "duration": 10,
    "start_time": "2022-08-03T06:55:09.187Z"
   },
   {
    "duration": 12,
    "start_time": "2022-08-03T06:55:41.877Z"
   },
   {
    "duration": 4,
    "start_time": "2022-08-03T06:59:56.617Z"
   },
   {
    "duration": 11,
    "start_time": "2022-08-03T07:01:30.620Z"
   },
   {
    "duration": 9,
    "start_time": "2022-08-03T07:03:48.127Z"
   },
   {
    "duration": 4,
    "start_time": "2022-08-03T07:04:08.147Z"
   },
   {
    "duration": 14,
    "start_time": "2022-08-03T07:04:23.267Z"
   },
   {
    "duration": 1493,
    "start_time": "2022-08-03T07:04:35.382Z"
   },
   {
    "duration": 107,
    "start_time": "2022-08-03T07:04:36.877Z"
   },
   {
    "duration": 15,
    "start_time": "2022-08-03T07:04:36.985Z"
   },
   {
    "duration": 13,
    "start_time": "2022-08-03T07:04:37.001Z"
   },
   {
    "duration": 13,
    "start_time": "2022-08-03T07:04:37.015Z"
   },
   {
    "duration": 9,
    "start_time": "2022-08-03T07:04:37.030Z"
   },
   {
    "duration": 13,
    "start_time": "2022-08-03T07:04:37.041Z"
   },
   {
    "duration": 40,
    "start_time": "2022-08-03T07:04:37.056Z"
   },
   {
    "duration": 13,
    "start_time": "2022-08-03T07:04:37.098Z"
   },
   {
    "duration": 7,
    "start_time": "2022-08-03T07:04:37.114Z"
   },
   {
    "duration": 15,
    "start_time": "2022-08-03T07:04:37.123Z"
   },
   {
    "duration": 10,
    "start_time": "2022-08-03T07:04:37.140Z"
   },
   {
    "duration": 6,
    "start_time": "2022-08-03T07:04:37.151Z"
   },
   {
    "duration": 27,
    "start_time": "2022-08-03T07:04:37.159Z"
   },
   {
    "duration": 4,
    "start_time": "2022-08-03T07:04:37.188Z"
   },
   {
    "duration": 9,
    "start_time": "2022-08-03T07:04:37.195Z"
   },
   {
    "duration": 14,
    "start_time": "2022-08-03T07:04:37.206Z"
   },
   {
    "duration": 15,
    "start_time": "2022-08-03T07:04:37.222Z"
   },
   {
    "duration": 5,
    "start_time": "2022-08-03T07:04:37.239Z"
   },
   {
    "duration": 24,
    "start_time": "2022-08-03T07:04:37.246Z"
   },
   {
    "duration": 126,
    "start_time": "2022-08-03T07:04:37.271Z"
   },
   {
    "duration": 8,
    "start_time": "2022-08-03T07:04:37.399Z"
   },
   {
    "duration": 22,
    "start_time": "2022-08-03T07:04:37.408Z"
   },
   {
    "duration": 19,
    "start_time": "2022-08-03T07:04:37.431Z"
   },
   {
    "duration": 9,
    "start_time": "2022-08-03T07:04:37.452Z"
   },
   {
    "duration": 24,
    "start_time": "2022-08-03T07:04:37.463Z"
   },
   {
    "duration": 13,
    "start_time": "2022-08-03T07:04:37.488Z"
   },
   {
    "duration": 16,
    "start_time": "2022-08-03T07:04:37.504Z"
   },
   {
    "duration": 6,
    "start_time": "2022-08-03T07:04:37.521Z"
   },
   {
    "duration": 110,
    "start_time": "2022-08-03T07:04:40.615Z"
   },
   {
    "duration": 9,
    "start_time": "2022-08-03T07:05:51.623Z"
   },
   {
    "duration": 14,
    "start_time": "2022-08-03T07:06:14.837Z"
   },
   {
    "duration": 9,
    "start_time": "2022-08-03T07:08:55.536Z"
   },
   {
    "duration": 10,
    "start_time": "2022-08-03T07:09:21.216Z"
   },
   {
    "duration": 14,
    "start_time": "2022-08-03T07:09:28.243Z"
   },
   {
    "duration": 20,
    "start_time": "2022-08-03T07:10:01.386Z"
   },
   {
    "duration": 24,
    "start_time": "2022-08-03T07:11:00.947Z"
   },
   {
    "duration": 21,
    "start_time": "2022-08-03T07:11:19.446Z"
   },
   {
    "duration": 10,
    "start_time": "2022-08-03T07:12:22.111Z"
   },
   {
    "duration": 15,
    "start_time": "2022-08-03T07:12:50.545Z"
   },
   {
    "duration": 356,
    "start_time": "2022-08-03T07:13:37.456Z"
   },
   {
    "duration": 4,
    "start_time": "2022-08-03T07:14:35.349Z"
   },
   {
    "duration": 14,
    "start_time": "2022-08-03T07:14:38.209Z"
   },
   {
    "duration": 16,
    "start_time": "2022-08-03T07:14:53.030Z"
   },
   {
    "duration": 1488,
    "start_time": "2022-08-03T07:16:25.709Z"
   },
   {
    "duration": 119,
    "start_time": "2022-08-03T07:16:27.199Z"
   },
   {
    "duration": 14,
    "start_time": "2022-08-03T07:16:27.320Z"
   },
   {
    "duration": 13,
    "start_time": "2022-08-03T07:16:27.336Z"
   },
   {
    "duration": 12,
    "start_time": "2022-08-03T07:16:27.351Z"
   },
   {
    "duration": 15,
    "start_time": "2022-08-03T07:16:27.365Z"
   },
   {
    "duration": 21,
    "start_time": "2022-08-03T07:16:27.382Z"
   },
   {
    "duration": 12,
    "start_time": "2022-08-03T07:16:27.405Z"
   },
   {
    "duration": 18,
    "start_time": "2022-08-03T07:16:27.419Z"
   },
   {
    "duration": 6,
    "start_time": "2022-08-03T07:16:27.440Z"
   },
   {
    "duration": 39,
    "start_time": "2022-08-03T07:16:27.448Z"
   },
   {
    "duration": 3,
    "start_time": "2022-08-03T07:16:27.488Z"
   },
   {
    "duration": 6,
    "start_time": "2022-08-03T07:16:27.492Z"
   },
   {
    "duration": 5,
    "start_time": "2022-08-03T07:16:27.499Z"
   },
   {
    "duration": 8,
    "start_time": "2022-08-03T07:16:27.506Z"
   },
   {
    "duration": 10,
    "start_time": "2022-08-03T07:16:27.516Z"
   },
   {
    "duration": 7,
    "start_time": "2022-08-03T07:16:27.527Z"
   },
   {
    "duration": 18,
    "start_time": "2022-08-03T07:16:27.536Z"
   },
   {
    "duration": 11,
    "start_time": "2022-08-03T07:16:27.556Z"
   },
   {
    "duration": 26,
    "start_time": "2022-08-03T07:16:27.570Z"
   },
   {
    "duration": 126,
    "start_time": "2022-08-03T07:16:27.598Z"
   },
   {
    "duration": 9,
    "start_time": "2022-08-03T07:16:27.726Z"
   },
   {
    "duration": 20,
    "start_time": "2022-08-03T07:16:27.736Z"
   },
   {
    "duration": 19,
    "start_time": "2022-08-03T07:16:27.757Z"
   },
   {
    "duration": 10,
    "start_time": "2022-08-03T07:16:27.787Z"
   },
   {
    "duration": 6,
    "start_time": "2022-08-03T07:16:27.799Z"
   },
   {
    "duration": 19,
    "start_time": "2022-08-03T07:16:27.807Z"
   },
   {
    "duration": 10,
    "start_time": "2022-08-03T07:16:27.829Z"
   },
   {
    "duration": 11,
    "start_time": "2022-08-03T07:16:27.841Z"
   },
   {
    "duration": 15,
    "start_time": "2022-08-03T07:16:27.854Z"
   },
   {
    "duration": 124,
    "start_time": "2022-08-03T07:16:33.009Z"
   },
   {
    "duration": 11,
    "start_time": "2022-08-03T07:16:42.009Z"
   },
   {
    "duration": 1455,
    "start_time": "2022-08-03T07:17:42.512Z"
   },
   {
    "duration": 127,
    "start_time": "2022-08-03T07:17:43.969Z"
   },
   {
    "duration": 16,
    "start_time": "2022-08-03T07:17:44.098Z"
   },
   {
    "duration": 14,
    "start_time": "2022-08-03T07:17:44.116Z"
   },
   {
    "duration": 11,
    "start_time": "2022-08-03T07:17:44.131Z"
   },
   {
    "duration": 10,
    "start_time": "2022-08-03T07:17:44.144Z"
   },
   {
    "duration": 35,
    "start_time": "2022-08-03T07:17:44.156Z"
   },
   {
    "duration": 12,
    "start_time": "2022-08-03T07:17:44.193Z"
   },
   {
    "duration": 14,
    "start_time": "2022-08-03T07:17:44.207Z"
   },
   {
    "duration": 7,
    "start_time": "2022-08-03T07:17:44.224Z"
   },
   {
    "duration": 12,
    "start_time": "2022-08-03T07:17:44.232Z"
   },
   {
    "duration": 6,
    "start_time": "2022-08-03T07:17:44.245Z"
   },
   {
    "duration": 6,
    "start_time": "2022-08-03T07:17:44.252Z"
   },
   {
    "duration": 4,
    "start_time": "2022-08-03T07:17:44.286Z"
   },
   {
    "duration": 7,
    "start_time": "2022-08-03T07:17:44.291Z"
   },
   {
    "duration": 8,
    "start_time": "2022-08-03T07:17:44.300Z"
   },
   {
    "duration": 7,
    "start_time": "2022-08-03T07:17:44.309Z"
   },
   {
    "duration": 7,
    "start_time": "2022-08-03T07:17:44.317Z"
   },
   {
    "duration": 7,
    "start_time": "2022-08-03T07:17:44.325Z"
   },
   {
    "duration": 53,
    "start_time": "2022-08-03T07:17:44.334Z"
   },
   {
    "duration": 122,
    "start_time": "2022-08-03T07:17:44.389Z"
   },
   {
    "duration": 8,
    "start_time": "2022-08-03T07:17:44.513Z"
   },
   {
    "duration": 18,
    "start_time": "2022-08-03T07:17:44.523Z"
   },
   {
    "duration": 17,
    "start_time": "2022-08-03T07:17:44.542Z"
   },
   {
    "duration": 27,
    "start_time": "2022-08-03T07:17:44.560Z"
   },
   {
    "duration": 8,
    "start_time": "2022-08-03T07:17:44.588Z"
   },
   {
    "duration": 22,
    "start_time": "2022-08-03T07:17:44.598Z"
   },
   {
    "duration": 10,
    "start_time": "2022-08-03T07:17:44.622Z"
   },
   {
    "duration": 7,
    "start_time": "2022-08-03T07:17:44.633Z"
   },
   {
    "duration": 16,
    "start_time": "2022-08-03T07:17:44.641Z"
   },
   {
    "duration": 374,
    "start_time": "2022-08-03T07:17:50.335Z"
   },
   {
    "duration": 5,
    "start_time": "2022-08-03T07:18:10.024Z"
   },
   {
    "duration": 295,
    "start_time": "2022-08-03T07:18:13.184Z"
   },
   {
    "duration": 10,
    "start_time": "2022-08-03T07:18:19.114Z"
   },
   {
    "duration": 3,
    "start_time": "2022-08-03T07:18:23.334Z"
   },
   {
    "duration": 14,
    "start_time": "2022-08-03T07:18:34.144Z"
   },
   {
    "duration": 24,
    "start_time": "2022-08-03T07:18:50.279Z"
   },
   {
    "duration": 1405,
    "start_time": "2022-08-03T07:19:18.683Z"
   },
   {
    "duration": 114,
    "start_time": "2022-08-03T07:19:20.090Z"
   },
   {
    "duration": 15,
    "start_time": "2022-08-03T07:19:20.206Z"
   },
   {
    "duration": 21,
    "start_time": "2022-08-03T07:19:20.223Z"
   },
   {
    "duration": 16,
    "start_time": "2022-08-03T07:19:20.246Z"
   },
   {
    "duration": 14,
    "start_time": "2022-08-03T07:19:20.263Z"
   },
   {
    "duration": 18,
    "start_time": "2022-08-03T07:19:20.279Z"
   },
   {
    "duration": 16,
    "start_time": "2022-08-03T07:19:20.299Z"
   },
   {
    "duration": 15,
    "start_time": "2022-08-03T07:19:20.317Z"
   },
   {
    "duration": 7,
    "start_time": "2022-08-03T07:19:20.334Z"
   },
   {
    "duration": 15,
    "start_time": "2022-08-03T07:19:20.342Z"
   },
   {
    "duration": 7,
    "start_time": "2022-08-03T07:19:20.359Z"
   },
   {
    "duration": 19,
    "start_time": "2022-08-03T07:19:20.368Z"
   },
   {
    "duration": 8,
    "start_time": "2022-08-03T07:19:20.388Z"
   },
   {
    "duration": 6,
    "start_time": "2022-08-03T07:19:20.397Z"
   },
   {
    "duration": 9,
    "start_time": "2022-08-03T07:19:20.404Z"
   },
   {
    "duration": 12,
    "start_time": "2022-08-03T07:19:20.414Z"
   },
   {
    "duration": 9,
    "start_time": "2022-08-03T07:19:20.428Z"
   },
   {
    "duration": 10,
    "start_time": "2022-08-03T07:19:20.439Z"
   },
   {
    "duration": 16,
    "start_time": "2022-08-03T07:19:20.451Z"
   },
   {
    "duration": 129,
    "start_time": "2022-08-03T07:19:20.469Z"
   },
   {
    "duration": 9,
    "start_time": "2022-08-03T07:19:20.600Z"
   },
   {
    "duration": 23,
    "start_time": "2022-08-03T07:19:20.610Z"
   },
   {
    "duration": 23,
    "start_time": "2022-08-03T07:19:20.635Z"
   },
   {
    "duration": 9,
    "start_time": "2022-08-03T07:19:20.660Z"
   },
   {
    "duration": 5,
    "start_time": "2022-08-03T07:19:20.671Z"
   },
   {
    "duration": 14,
    "start_time": "2022-08-03T07:19:20.687Z"
   },
   {
    "duration": 16,
    "start_time": "2022-08-03T07:19:20.704Z"
   },
   {
    "duration": 13,
    "start_time": "2022-08-03T07:19:20.721Z"
   },
   {
    "duration": 14,
    "start_time": "2022-08-03T07:19:26.433Z"
   },
   {
    "duration": 17,
    "start_time": "2022-08-03T07:19:30.744Z"
   },
   {
    "duration": 336,
    "start_time": "2022-08-03T07:19:41.131Z"
   },
   {
    "duration": 13,
    "start_time": "2022-08-03T07:21:43.807Z"
   },
   {
    "duration": 10,
    "start_time": "2022-08-03T07:22:10.112Z"
   },
   {
    "duration": 1400,
    "start_time": "2022-08-03T07:22:17.583Z"
   },
   {
    "duration": 104,
    "start_time": "2022-08-03T07:22:18.985Z"
   },
   {
    "duration": 15,
    "start_time": "2022-08-03T07:22:19.090Z"
   },
   {
    "duration": 14,
    "start_time": "2022-08-03T07:22:19.108Z"
   },
   {
    "duration": 11,
    "start_time": "2022-08-03T07:22:19.124Z"
   },
   {
    "duration": 16,
    "start_time": "2022-08-03T07:22:19.137Z"
   },
   {
    "duration": 47,
    "start_time": "2022-08-03T07:22:19.155Z"
   },
   {
    "duration": 13,
    "start_time": "2022-08-03T07:22:19.205Z"
   },
   {
    "duration": 14,
    "start_time": "2022-08-03T07:22:19.220Z"
   },
   {
    "duration": 7,
    "start_time": "2022-08-03T07:22:19.236Z"
   },
   {
    "duration": 12,
    "start_time": "2022-08-03T07:22:19.244Z"
   },
   {
    "duration": 29,
    "start_time": "2022-08-03T07:22:19.258Z"
   },
   {
    "duration": 7,
    "start_time": "2022-08-03T07:22:19.289Z"
   },
   {
    "duration": 8,
    "start_time": "2022-08-03T07:22:19.299Z"
   },
   {
    "duration": 7,
    "start_time": "2022-08-03T07:22:19.309Z"
   },
   {
    "duration": 12,
    "start_time": "2022-08-03T07:22:19.319Z"
   },
   {
    "duration": 8,
    "start_time": "2022-08-03T07:22:19.333Z"
   },
   {
    "duration": 6,
    "start_time": "2022-08-03T07:22:19.343Z"
   },
   {
    "duration": 5,
    "start_time": "2022-08-03T07:22:19.351Z"
   },
   {
    "duration": 36,
    "start_time": "2022-08-03T07:22:19.358Z"
   },
   {
    "duration": 127,
    "start_time": "2022-08-03T07:22:19.396Z"
   },
   {
    "duration": 9,
    "start_time": "2022-08-03T07:22:19.525Z"
   },
   {
    "duration": 17,
    "start_time": "2022-08-03T07:22:19.535Z"
   },
   {
    "duration": 32,
    "start_time": "2022-08-03T07:22:19.554Z"
   },
   {
    "duration": 10,
    "start_time": "2022-08-03T07:22:19.588Z"
   },
   {
    "duration": 6,
    "start_time": "2022-08-03T07:22:19.600Z"
   },
   {
    "duration": 21,
    "start_time": "2022-08-03T07:22:19.607Z"
   },
   {
    "duration": 7,
    "start_time": "2022-08-03T07:22:19.633Z"
   },
   {
    "duration": 7,
    "start_time": "2022-08-03T07:22:19.641Z"
   },
   {
    "duration": 17,
    "start_time": "2022-08-03T07:22:19.649Z"
   },
   {
    "duration": 33,
    "start_time": "2022-08-03T07:22:19.668Z"
   },
   {
    "duration": 135,
    "start_time": "2022-08-03T07:22:26.317Z"
   },
   {
    "duration": 10,
    "start_time": "2022-08-03T07:22:30.073Z"
   },
   {
    "duration": 9,
    "start_time": "2022-08-03T07:23:10.772Z"
   },
   {
    "duration": 10,
    "start_time": "2022-08-03T07:23:21.912Z"
   },
   {
    "duration": 18,
    "start_time": "2022-08-03T07:24:06.449Z"
   },
   {
    "duration": 6,
    "start_time": "2022-08-03T07:25:13.120Z"
   },
   {
    "duration": 14,
    "start_time": "2022-08-03T07:26:58.490Z"
   },
   {
    "duration": 11,
    "start_time": "2022-08-03T07:29:01.719Z"
   },
   {
    "duration": 12,
    "start_time": "2022-08-03T07:29:10.015Z"
   },
   {
    "duration": 10,
    "start_time": "2022-08-03T07:29:14.169Z"
   },
   {
    "duration": 10,
    "start_time": "2022-08-03T07:29:27.587Z"
   },
   {
    "duration": 10,
    "start_time": "2022-08-03T07:29:38.890Z"
   },
   {
    "duration": 9,
    "start_time": "2022-08-03T07:29:42.613Z"
   },
   {
    "duration": 6,
    "start_time": "2022-08-03T07:29:49.128Z"
   },
   {
    "duration": 5,
    "start_time": "2022-08-03T07:30:17.740Z"
   },
   {
    "duration": 5,
    "start_time": "2022-08-03T07:30:23.385Z"
   },
   {
    "duration": 4,
    "start_time": "2022-08-03T07:30:29.340Z"
   },
   {
    "duration": 5,
    "start_time": "2022-08-03T07:30:38.480Z"
   },
   {
    "duration": 5,
    "start_time": "2022-08-03T07:30:44.569Z"
   },
   {
    "duration": 13,
    "start_time": "2022-08-03T07:31:05.378Z"
   },
   {
    "duration": 6,
    "start_time": "2022-08-03T07:34:04.109Z"
   },
   {
    "duration": 14,
    "start_time": "2022-08-03T07:34:06.955Z"
   },
   {
    "duration": 1481,
    "start_time": "2022-08-03T07:34:59.765Z"
   },
   {
    "duration": 122,
    "start_time": "2022-08-03T07:35:01.248Z"
   },
   {
    "duration": 21,
    "start_time": "2022-08-03T07:35:01.372Z"
   },
   {
    "duration": 18,
    "start_time": "2022-08-03T07:35:01.395Z"
   },
   {
    "duration": 23,
    "start_time": "2022-08-03T07:35:01.415Z"
   },
   {
    "duration": 17,
    "start_time": "2022-08-03T07:35:01.440Z"
   },
   {
    "duration": 31,
    "start_time": "2022-08-03T07:35:01.460Z"
   },
   {
    "duration": 29,
    "start_time": "2022-08-03T07:35:01.494Z"
   },
   {
    "duration": 44,
    "start_time": "2022-08-03T07:35:01.525Z"
   },
   {
    "duration": 17,
    "start_time": "2022-08-03T07:35:01.573Z"
   },
   {
    "duration": 57,
    "start_time": "2022-08-03T07:35:01.591Z"
   },
   {
    "duration": 32,
    "start_time": "2022-08-03T07:35:01.651Z"
   },
   {
    "duration": 29,
    "start_time": "2022-08-03T07:35:01.685Z"
   },
   {
    "duration": 12,
    "start_time": "2022-08-03T07:35:01.716Z"
   },
   {
    "duration": 14,
    "start_time": "2022-08-03T07:35:01.730Z"
   },
   {
    "duration": 25,
    "start_time": "2022-08-03T07:35:01.746Z"
   },
   {
    "duration": 18,
    "start_time": "2022-08-03T07:35:01.773Z"
   },
   {
    "duration": 11,
    "start_time": "2022-08-03T07:35:01.793Z"
   },
   {
    "duration": 22,
    "start_time": "2022-08-03T07:35:01.807Z"
   },
   {
    "duration": 20,
    "start_time": "2022-08-03T07:35:01.832Z"
   },
   {
    "duration": 148,
    "start_time": "2022-08-03T07:35:01.854Z"
   },
   {
    "duration": 10,
    "start_time": "2022-08-03T07:35:02.003Z"
   },
   {
    "duration": 31,
    "start_time": "2022-08-03T07:35:02.015Z"
   },
   {
    "duration": 39,
    "start_time": "2022-08-03T07:35:02.050Z"
   },
   {
    "duration": 20,
    "start_time": "2022-08-03T07:35:02.092Z"
   },
   {
    "duration": 29,
    "start_time": "2022-08-03T07:35:02.115Z"
   },
   {
    "duration": 27,
    "start_time": "2022-08-03T07:35:02.146Z"
   },
   {
    "duration": 21,
    "start_time": "2022-08-03T07:35:02.178Z"
   },
   {
    "duration": 20,
    "start_time": "2022-08-03T07:35:02.200Z"
   },
   {
    "duration": 28,
    "start_time": "2022-08-03T07:35:02.222Z"
   },
   {
    "duration": 13,
    "start_time": "2022-08-03T07:35:02.252Z"
   },
   {
    "duration": 18,
    "start_time": "2022-08-03T07:35:02.267Z"
   },
   {
    "duration": 22,
    "start_time": "2022-08-03T07:35:02.287Z"
   },
   {
    "duration": 15,
    "start_time": "2022-08-03T07:35:02.311Z"
   },
   {
    "duration": 11,
    "start_time": "2022-08-03T07:35:02.328Z"
   },
   {
    "duration": 10,
    "start_time": "2022-08-03T07:35:02.343Z"
   },
   {
    "duration": 44,
    "start_time": "2022-08-03T07:35:02.355Z"
   },
   {
    "duration": 16,
    "start_time": "2022-08-03T07:35:02.402Z"
   },
   {
    "duration": 17,
    "start_time": "2022-08-03T07:35:02.421Z"
   },
   {
    "duration": 13,
    "start_time": "2022-08-03T07:35:02.440Z"
   },
   {
    "duration": 41,
    "start_time": "2022-08-03T07:35:02.455Z"
   },
   {
    "duration": 23,
    "start_time": "2022-08-03T07:35:02.498Z"
   },
   {
    "duration": 9,
    "start_time": "2022-08-03T07:35:02.522Z"
   },
   {
    "duration": 9,
    "start_time": "2022-08-03T07:35:02.534Z"
   },
   {
    "duration": 8,
    "start_time": "2022-08-03T07:35:02.545Z"
   },
   {
    "duration": 242,
    "start_time": "2022-08-03T07:35:02.554Z"
   },
   {
    "duration": 184,
    "start_time": "2022-08-03T07:35:02.798Z"
   },
   {
    "duration": 5,
    "start_time": "2022-08-03T07:35:02.987Z"
   },
   {
    "duration": 11,
    "start_time": "2022-08-03T07:35:02.994Z"
   },
   {
    "duration": 9,
    "start_time": "2022-08-03T07:35:03.007Z"
   },
   {
    "duration": 7,
    "start_time": "2022-08-03T07:35:03.019Z"
   },
   {
    "duration": 11,
    "start_time": "2022-08-03T07:35:03.028Z"
   },
   {
    "duration": 119,
    "start_time": "2022-08-03T07:35:03.041Z"
   },
   {
    "duration": 11,
    "start_time": "2022-08-03T07:35:03.162Z"
   },
   {
    "duration": 23,
    "start_time": "2022-08-03T07:35:03.174Z"
   },
   {
    "duration": 201,
    "start_time": "2022-08-03T07:35:03.198Z"
   },
   {
    "duration": 104,
    "start_time": "2022-08-03T07:35:03.400Z"
   },
   {
    "duration": 2,
    "start_time": "2022-08-03T07:35:03.506Z"
   },
   {
    "duration": 131,
    "start_time": "2022-08-03T07:35:03.510Z"
   },
   {
    "duration": 12,
    "start_time": "2022-08-03T07:35:03.643Z"
   },
   {
    "duration": 24,
    "start_time": "2022-08-03T07:35:03.657Z"
   },
   {
    "duration": 129,
    "start_time": "2022-08-03T07:35:03.683Z"
   },
   {
    "duration": 23,
    "start_time": "2022-08-03T07:35:03.817Z"
   },
   {
    "duration": 5,
    "start_time": "2022-08-03T07:35:03.842Z"
   },
   {
    "duration": 20,
    "start_time": "2022-08-03T07:35:03.849Z"
   },
   {
    "duration": 47,
    "start_time": "2022-08-03T07:35:03.871Z"
   },
   {
    "duration": 17,
    "start_time": "2022-08-03T07:35:03.920Z"
   },
   {
    "duration": 30,
    "start_time": "2022-08-03T07:35:03.939Z"
   },
   {
    "duration": 3,
    "start_time": "2022-08-03T07:35:03.987Z"
   },
   {
    "duration": 28,
    "start_time": "2022-08-03T07:35:03.992Z"
   },
   {
    "duration": 14,
    "start_time": "2022-08-03T07:35:04.025Z"
   },
   {
    "duration": 15,
    "start_time": "2022-08-03T07:35:04.041Z"
   },
   {
    "duration": 9,
    "start_time": "2022-08-03T07:35:04.057Z"
   },
   {
    "duration": 25,
    "start_time": "2022-08-03T07:35:04.068Z"
   },
   {
    "duration": 7,
    "start_time": "2022-08-03T07:35:04.094Z"
   },
   {
    "duration": 12,
    "start_time": "2022-08-03T07:35:04.103Z"
   },
   {
    "duration": 14,
    "start_time": "2022-08-03T07:35:04.117Z"
   },
   {
    "duration": 5,
    "start_time": "2022-08-03T07:35:04.134Z"
   },
   {
    "duration": 21,
    "start_time": "2022-08-03T07:35:04.140Z"
   },
   {
    "duration": 33,
    "start_time": "2022-08-03T07:35:04.164Z"
   },
   {
    "duration": 8,
    "start_time": "2022-08-03T07:35:04.198Z"
   },
   {
    "duration": 40,
    "start_time": "2022-08-03T07:35:04.215Z"
   },
   {
    "duration": 15,
    "start_time": "2022-08-03T07:35:04.257Z"
   },
   {
    "duration": 37,
    "start_time": "2022-08-03T07:35:04.274Z"
   },
   {
    "duration": 575,
    "start_time": "2022-08-03T07:35:04.313Z"
   },
   {
    "duration": 15,
    "start_time": "2022-08-03T07:35:04.890Z"
   },
   {
    "duration": 7,
    "start_time": "2022-08-03T07:35:04.907Z"
   },
   {
    "duration": 10,
    "start_time": "2022-08-03T07:35:04.916Z"
   },
   {
    "duration": 43,
    "start_time": "2022-08-03T07:35:04.928Z"
   },
   {
    "duration": 25,
    "start_time": "2022-08-03T07:35:04.973Z"
   },
   {
    "duration": 5,
    "start_time": "2022-08-03T07:35:05.000Z"
   },
   {
    "duration": 27,
    "start_time": "2022-08-03T07:35:05.007Z"
   },
   {
    "duration": 17750,
    "start_time": "2022-08-03T07:35:05.037Z"
   },
   {
    "duration": 4,
    "start_time": "2022-08-03T07:35:22.789Z"
   },
   {
    "duration": 400,
    "start_time": "2022-08-03T07:35:22.795Z"
   },
   {
    "duration": 99,
    "start_time": "2022-08-03T07:35:23.197Z"
   },
   {
    "duration": 200,
    "start_time": "2022-08-03T07:35:23.298Z"
   },
   {
    "duration": 6,
    "start_time": "2022-08-03T07:35:23.499Z"
   },
   {
    "duration": 6390,
    "start_time": "2022-08-03T07:35:23.507Z"
   },
   {
    "duration": 42,
    "start_time": "2022-08-03T07:35:29.898Z"
   },
   {
    "duration": 8,
    "start_time": "2022-08-03T07:35:29.942Z"
   },
   {
    "duration": 4,
    "start_time": "2022-08-03T07:35:29.952Z"
   },
   {
    "duration": 9,
    "start_time": "2022-08-03T07:35:29.957Z"
   },
   {
    "duration": 6,
    "start_time": "2022-08-03T07:35:29.987Z"
   },
   {
    "duration": 378,
    "start_time": "2022-08-03T07:35:29.994Z"
   },
   {
    "duration": 31,
    "start_time": "2022-08-03T07:35:30.374Z"
   },
   {
    "duration": 4,
    "start_time": "2022-08-03T07:35:30.407Z"
   },
   {
    "duration": 23,
    "start_time": "2022-08-03T07:35:30.413Z"
   },
   {
    "duration": 14,
    "start_time": "2022-08-03T07:35:30.437Z"
   },
   {
    "duration": 5235,
    "start_time": "2022-08-03T07:35:30.452Z"
   },
   {
    "duration": 8,
    "start_time": "2022-08-03T07:35:35.690Z"
   },
   {
    "duration": 10,
    "start_time": "2022-08-03T07:35:35.700Z"
   },
   {
    "duration": 13,
    "start_time": "2022-08-03T07:35:35.711Z"
   },
   {
    "duration": 12967,
    "start_time": "2022-08-03T07:35:35.725Z"
   },
   {
    "duration": 15,
    "start_time": "2022-08-03T07:35:48.693Z"
   },
   {
    "duration": 77,
    "start_time": "2022-08-03T07:35:48.710Z"
   },
   {
    "duration": 204,
    "start_time": "2022-08-03T07:35:48.789Z"
   },
   {
    "duration": 9,
    "start_time": "2022-08-03T07:35:48.995Z"
   },
   {
    "duration": 13,
    "start_time": "2022-08-03T07:37:05.408Z"
   },
   {
    "duration": 122,
    "start_time": "2022-08-03T07:37:57.885Z"
   },
   {
    "duration": 9,
    "start_time": "2022-08-03T07:38:41.131Z"
   },
   {
    "duration": 3,
    "start_time": "2022-08-03T07:38:47.892Z"
   },
   {
    "duration": 462,
    "start_time": "2022-08-03T07:38:53.238Z"
   },
   {
    "duration": 12,
    "start_time": "2022-08-03T07:38:56.513Z"
   },
   {
    "duration": 5,
    "start_time": "2022-08-03T07:39:00.194Z"
   },
   {
    "duration": 3,
    "start_time": "2022-08-03T07:39:04.417Z"
   },
   {
    "duration": 1582,
    "start_time": "2022-08-03T07:39:12.767Z"
   },
   {
    "duration": 107,
    "start_time": "2022-08-03T07:39:14.352Z"
   },
   {
    "duration": 16,
    "start_time": "2022-08-03T07:39:14.460Z"
   },
   {
    "duration": 30,
    "start_time": "2022-08-03T07:39:14.478Z"
   },
   {
    "duration": 10,
    "start_time": "2022-08-03T07:39:14.511Z"
   },
   {
    "duration": 11,
    "start_time": "2022-08-03T07:39:14.523Z"
   },
   {
    "duration": 15,
    "start_time": "2022-08-03T07:39:14.536Z"
   },
   {
    "duration": 13,
    "start_time": "2022-08-03T07:39:14.553Z"
   },
   {
    "duration": 27,
    "start_time": "2022-08-03T07:39:14.568Z"
   },
   {
    "duration": 10,
    "start_time": "2022-08-03T07:39:14.598Z"
   },
   {
    "duration": 17,
    "start_time": "2022-08-03T07:39:14.610Z"
   },
   {
    "duration": 9,
    "start_time": "2022-08-03T07:39:14.629Z"
   },
   {
    "duration": 8,
    "start_time": "2022-08-03T07:39:14.640Z"
   },
   {
    "duration": 7,
    "start_time": "2022-08-03T07:39:14.651Z"
   },
   {
    "duration": 5,
    "start_time": "2022-08-03T07:39:14.660Z"
   },
   {
    "duration": 25,
    "start_time": "2022-08-03T07:39:14.666Z"
   },
   {
    "duration": 7,
    "start_time": "2022-08-03T07:39:14.693Z"
   },
   {
    "duration": 7,
    "start_time": "2022-08-03T07:39:14.702Z"
   },
   {
    "duration": 9,
    "start_time": "2022-08-03T07:39:14.710Z"
   },
   {
    "duration": 19,
    "start_time": "2022-08-03T07:39:14.721Z"
   },
   {
    "duration": 138,
    "start_time": "2022-08-03T07:39:14.742Z"
   },
   {
    "duration": 9,
    "start_time": "2022-08-03T07:39:14.886Z"
   },
   {
    "duration": 17,
    "start_time": "2022-08-03T07:39:14.896Z"
   },
   {
    "duration": 29,
    "start_time": "2022-08-03T07:39:14.915Z"
   },
   {
    "duration": 14,
    "start_time": "2022-08-03T07:39:14.946Z"
   },
   {
    "duration": 25,
    "start_time": "2022-08-03T07:39:14.962Z"
   },
   {
    "duration": 15,
    "start_time": "2022-08-03T07:39:14.988Z"
   },
   {
    "duration": 26,
    "start_time": "2022-08-03T07:39:15.005Z"
   },
   {
    "duration": 12,
    "start_time": "2022-08-03T07:39:15.033Z"
   },
   {
    "duration": 23,
    "start_time": "2022-08-03T07:39:15.046Z"
   },
   {
    "duration": 7,
    "start_time": "2022-08-03T07:39:15.071Z"
   },
   {
    "duration": 19,
    "start_time": "2022-08-03T07:39:15.080Z"
   },
   {
    "duration": 22,
    "start_time": "2022-08-03T07:39:15.102Z"
   },
   {
    "duration": 23,
    "start_time": "2022-08-03T07:39:15.126Z"
   },
   {
    "duration": 11,
    "start_time": "2022-08-03T07:39:15.151Z"
   },
   {
    "duration": 10,
    "start_time": "2022-08-03T07:39:15.164Z"
   },
   {
    "duration": 25,
    "start_time": "2022-08-03T07:39:15.176Z"
   },
   {
    "duration": 15,
    "start_time": "2022-08-03T07:39:15.203Z"
   },
   {
    "duration": 24,
    "start_time": "2022-08-03T07:39:15.220Z"
   },
   {
    "duration": 12,
    "start_time": "2022-08-03T07:39:15.246Z"
   },
   {
    "duration": 11,
    "start_time": "2022-08-03T07:39:15.289Z"
   },
   {
    "duration": 17,
    "start_time": "2022-08-03T07:39:15.301Z"
   },
   {
    "duration": 9,
    "start_time": "2022-08-03T07:39:15.319Z"
   },
   {
    "duration": 9,
    "start_time": "2022-08-03T07:39:15.330Z"
   },
   {
    "duration": 6,
    "start_time": "2022-08-03T07:39:15.341Z"
   },
   {
    "duration": 214,
    "start_time": "2022-08-03T07:39:15.349Z"
   },
   {
    "duration": 190,
    "start_time": "2022-08-03T07:39:15.566Z"
   },
   {
    "duration": 4,
    "start_time": "2022-08-03T07:39:15.758Z"
   },
   {
    "duration": 9,
    "start_time": "2022-08-03T07:39:15.764Z"
   },
   {
    "duration": 12,
    "start_time": "2022-08-03T07:39:15.788Z"
   },
   {
    "duration": 8,
    "start_time": "2022-08-03T07:39:15.803Z"
   },
   {
    "duration": 15,
    "start_time": "2022-08-03T07:39:15.812Z"
   },
   {
    "duration": 106,
    "start_time": "2022-08-03T07:39:15.829Z"
   },
   {
    "duration": 9,
    "start_time": "2022-08-03T07:39:15.937Z"
   },
   {
    "duration": 7,
    "start_time": "2022-08-03T07:39:15.948Z"
   },
   {
    "duration": 206,
    "start_time": "2022-08-03T07:39:15.957Z"
   },
   {
    "duration": 138,
    "start_time": "2022-08-03T07:39:16.165Z"
   },
   {
    "duration": 3,
    "start_time": "2022-08-03T07:39:16.306Z"
   },
   {
    "duration": 21,
    "start_time": "2022-08-03T07:39:16.311Z"
   },
   {
    "duration": 14,
    "start_time": "2022-08-03T07:39:16.334Z"
   },
   {
    "duration": 17,
    "start_time": "2022-08-03T07:39:16.350Z"
   },
   {
    "duration": 129,
    "start_time": "2022-08-03T07:39:16.369Z"
   },
   {
    "duration": 24,
    "start_time": "2022-08-03T07:39:16.501Z"
   },
   {
    "duration": 8,
    "start_time": "2022-08-03T07:39:16.528Z"
   },
   {
    "duration": 31,
    "start_time": "2022-08-03T07:39:16.538Z"
   },
   {
    "duration": 26,
    "start_time": "2022-08-03T07:39:16.587Z"
   },
   {
    "duration": 18,
    "start_time": "2022-08-03T07:39:16.615Z"
   },
   {
    "duration": 55,
    "start_time": "2022-08-03T07:39:16.635Z"
   },
   {
    "duration": 3,
    "start_time": "2022-08-03T07:39:16.692Z"
   },
   {
    "duration": 7,
    "start_time": "2022-08-03T07:39:16.697Z"
   },
   {
    "duration": 8,
    "start_time": "2022-08-03T07:39:16.705Z"
   },
   {
    "duration": 6,
    "start_time": "2022-08-03T07:39:16.714Z"
   },
   {
    "duration": 4,
    "start_time": "2022-08-03T07:39:16.722Z"
   },
   {
    "duration": 24,
    "start_time": "2022-08-03T07:39:16.728Z"
   },
   {
    "duration": 33,
    "start_time": "2022-08-03T07:39:16.754Z"
   },
   {
    "duration": 4,
    "start_time": "2022-08-03T07:39:16.789Z"
   },
   {
    "duration": 8,
    "start_time": "2022-08-03T07:39:16.794Z"
   },
   {
    "duration": 12,
    "start_time": "2022-08-03T07:39:16.804Z"
   },
   {
    "duration": 6,
    "start_time": "2022-08-03T07:39:16.818Z"
   },
   {
    "duration": 20,
    "start_time": "2022-08-03T07:39:16.827Z"
   },
   {
    "duration": 5,
    "start_time": "2022-08-03T07:39:16.848Z"
   },
   {
    "duration": 5,
    "start_time": "2022-08-03T07:39:16.854Z"
   },
   {
    "duration": 31,
    "start_time": "2022-08-03T07:39:16.860Z"
   },
   {
    "duration": 26,
    "start_time": "2022-08-03T07:39:16.893Z"
   },
   {
    "duration": 488,
    "start_time": "2022-08-03T07:39:16.921Z"
   },
   {
    "duration": 13,
    "start_time": "2022-08-03T07:39:17.411Z"
   },
   {
    "duration": 6,
    "start_time": "2022-08-03T07:39:17.426Z"
   },
   {
    "duration": 7,
    "start_time": "2022-08-03T07:39:17.434Z"
   },
   {
    "duration": 40,
    "start_time": "2022-08-03T07:39:17.442Z"
   },
   {
    "duration": 143,
    "start_time": "2022-08-03T07:39:17.484Z"
   },
   {
    "duration": 0,
    "start_time": "2022-08-03T07:39:17.628Z"
   },
   {
    "duration": 0,
    "start_time": "2022-08-03T07:39:17.629Z"
   },
   {
    "duration": 0,
    "start_time": "2022-08-03T07:39:17.631Z"
   },
   {
    "duration": 0,
    "start_time": "2022-08-03T07:39:17.633Z"
   },
   {
    "duration": 0,
    "start_time": "2022-08-03T07:39:17.636Z"
   },
   {
    "duration": 0,
    "start_time": "2022-08-03T07:39:17.637Z"
   },
   {
    "duration": 0,
    "start_time": "2022-08-03T07:39:17.639Z"
   },
   {
    "duration": 0,
    "start_time": "2022-08-03T07:39:17.641Z"
   },
   {
    "duration": 0,
    "start_time": "2022-08-03T07:39:17.642Z"
   },
   {
    "duration": 0,
    "start_time": "2022-08-03T07:39:17.644Z"
   },
   {
    "duration": 1,
    "start_time": "2022-08-03T07:39:17.645Z"
   },
   {
    "duration": 0,
    "start_time": "2022-08-03T07:39:17.647Z"
   },
   {
    "duration": 0,
    "start_time": "2022-08-03T07:39:17.649Z"
   },
   {
    "duration": 0,
    "start_time": "2022-08-03T07:39:17.687Z"
   },
   {
    "duration": 0,
    "start_time": "2022-08-03T07:39:17.689Z"
   },
   {
    "duration": 0,
    "start_time": "2022-08-03T07:39:17.691Z"
   },
   {
    "duration": 0,
    "start_time": "2022-08-03T07:39:17.692Z"
   },
   {
    "duration": 0,
    "start_time": "2022-08-03T07:39:17.694Z"
   },
   {
    "duration": 0,
    "start_time": "2022-08-03T07:39:17.696Z"
   },
   {
    "duration": 0,
    "start_time": "2022-08-03T07:39:17.697Z"
   },
   {
    "duration": 0,
    "start_time": "2022-08-03T07:39:17.698Z"
   },
   {
    "duration": 0,
    "start_time": "2022-08-03T07:39:17.700Z"
   },
   {
    "duration": 0,
    "start_time": "2022-08-03T07:39:17.701Z"
   },
   {
    "duration": 0,
    "start_time": "2022-08-03T07:39:17.703Z"
   },
   {
    "duration": 0,
    "start_time": "2022-08-03T07:39:17.704Z"
   },
   {
    "duration": 0,
    "start_time": "2022-08-03T07:39:17.706Z"
   },
   {
    "duration": 0,
    "start_time": "2022-08-03T07:39:17.708Z"
   },
   {
    "duration": 0,
    "start_time": "2022-08-03T07:39:17.709Z"
   },
   {
    "duration": 1476,
    "start_time": "2022-08-03T07:41:25.138Z"
   },
   {
    "duration": 103,
    "start_time": "2022-08-03T07:41:26.616Z"
   },
   {
    "duration": 14,
    "start_time": "2022-08-03T07:41:26.721Z"
   },
   {
    "duration": 12,
    "start_time": "2022-08-03T07:41:26.738Z"
   },
   {
    "duration": 11,
    "start_time": "2022-08-03T07:41:26.751Z"
   },
   {
    "duration": 10,
    "start_time": "2022-08-03T07:41:26.764Z"
   },
   {
    "duration": 22,
    "start_time": "2022-08-03T07:41:26.776Z"
   },
   {
    "duration": 11,
    "start_time": "2022-08-03T07:41:26.800Z"
   },
   {
    "duration": 17,
    "start_time": "2022-08-03T07:41:26.812Z"
   },
   {
    "duration": 7,
    "start_time": "2022-08-03T07:41:26.832Z"
   },
   {
    "duration": 10,
    "start_time": "2022-08-03T07:41:26.841Z"
   },
   {
    "duration": 6,
    "start_time": "2022-08-03T07:41:26.853Z"
   },
   {
    "duration": 8,
    "start_time": "2022-08-03T07:41:26.886Z"
   },
   {
    "duration": 7,
    "start_time": "2022-08-03T07:41:26.896Z"
   },
   {
    "duration": 8,
    "start_time": "2022-08-03T07:41:26.905Z"
   },
   {
    "duration": 8,
    "start_time": "2022-08-03T07:41:26.915Z"
   },
   {
    "duration": 6,
    "start_time": "2022-08-03T07:41:26.926Z"
   },
   {
    "duration": 13,
    "start_time": "2022-08-03T07:41:26.934Z"
   },
   {
    "duration": 8,
    "start_time": "2022-08-03T07:41:26.949Z"
   },
   {
    "duration": 14,
    "start_time": "2022-08-03T07:41:26.959Z"
   },
   {
    "duration": 128,
    "start_time": "2022-08-03T07:41:26.987Z"
   },
   {
    "duration": 9,
    "start_time": "2022-08-03T07:41:27.117Z"
   },
   {
    "duration": 21,
    "start_time": "2022-08-03T07:41:27.127Z"
   },
   {
    "duration": 15,
    "start_time": "2022-08-03T07:41:27.150Z"
   },
   {
    "duration": 23,
    "start_time": "2022-08-03T07:41:27.167Z"
   },
   {
    "duration": 5,
    "start_time": "2022-08-03T07:41:27.192Z"
   },
   {
    "duration": 16,
    "start_time": "2022-08-03T07:41:27.198Z"
   },
   {
    "duration": 9,
    "start_time": "2022-08-03T07:41:27.218Z"
   },
   {
    "duration": 9,
    "start_time": "2022-08-03T07:41:27.228Z"
   },
   {
    "duration": 21,
    "start_time": "2022-08-03T07:41:27.238Z"
   },
   {
    "duration": 27,
    "start_time": "2022-08-03T07:41:27.261Z"
   },
   {
    "duration": 18,
    "start_time": "2022-08-03T07:41:27.290Z"
   },
   {
    "duration": 15,
    "start_time": "2022-08-03T07:41:27.310Z"
   },
   {
    "duration": 7,
    "start_time": "2022-08-03T07:41:27.327Z"
   },
   {
    "duration": 10,
    "start_time": "2022-08-03T07:41:27.336Z"
   },
   {
    "duration": 7,
    "start_time": "2022-08-03T07:41:27.348Z"
   },
   {
    "duration": 38,
    "start_time": "2022-08-03T07:41:27.356Z"
   },
   {
    "duration": 11,
    "start_time": "2022-08-03T07:41:27.396Z"
   },
   {
    "duration": 22,
    "start_time": "2022-08-03T07:41:27.408Z"
   },
   {
    "duration": 15,
    "start_time": "2022-08-03T07:41:27.432Z"
   },
   {
    "duration": 16,
    "start_time": "2022-08-03T07:41:27.448Z"
   },
   {
    "duration": 24,
    "start_time": "2022-08-03T07:41:27.487Z"
   },
   {
    "duration": 10,
    "start_time": "2022-08-03T07:41:27.513Z"
   },
   {
    "duration": 10,
    "start_time": "2022-08-03T07:41:27.525Z"
   },
   {
    "duration": 6,
    "start_time": "2022-08-03T07:41:27.542Z"
   },
   {
    "duration": 243,
    "start_time": "2022-08-03T07:41:27.550Z"
   },
   {
    "duration": 174,
    "start_time": "2022-08-03T07:41:27.795Z"
   },
   {
    "duration": 5,
    "start_time": "2022-08-03T07:41:27.971Z"
   },
   {
    "duration": 5,
    "start_time": "2022-08-03T07:41:27.987Z"
   },
   {
    "duration": 9,
    "start_time": "2022-08-03T07:41:27.994Z"
   },
   {
    "duration": 11,
    "start_time": "2022-08-03T07:41:28.005Z"
   },
   {
    "duration": 18,
    "start_time": "2022-08-03T07:41:28.018Z"
   },
   {
    "duration": 107,
    "start_time": "2022-08-03T07:41:28.038Z"
   },
   {
    "duration": 8,
    "start_time": "2022-08-03T07:41:28.147Z"
   },
   {
    "duration": 8,
    "start_time": "2022-08-03T07:41:28.156Z"
   },
   {
    "duration": 193,
    "start_time": "2022-08-03T07:41:28.166Z"
   },
   {
    "duration": 96,
    "start_time": "2022-08-03T07:41:28.361Z"
   },
   {
    "duration": 3,
    "start_time": "2022-08-03T07:41:28.459Z"
   },
   {
    "duration": 11,
    "start_time": "2022-08-03T07:41:28.463Z"
   },
   {
    "duration": 13,
    "start_time": "2022-08-03T07:41:28.475Z"
   },
   {
    "duration": 8,
    "start_time": "2022-08-03T07:41:28.490Z"
   },
   {
    "duration": 94,
    "start_time": "2022-08-03T07:41:28.499Z"
   },
   {
    "duration": 15,
    "start_time": "2022-08-03T07:41:28.595Z"
   },
   {
    "duration": 5,
    "start_time": "2022-08-03T07:41:28.612Z"
   },
   {
    "duration": 16,
    "start_time": "2022-08-03T07:41:28.619Z"
   },
   {
    "duration": 37,
    "start_time": "2022-08-03T07:41:28.637Z"
   },
   {
    "duration": 20,
    "start_time": "2022-08-03T07:41:28.676Z"
   },
   {
    "duration": 27,
    "start_time": "2022-08-03T07:41:28.698Z"
   },
   {
    "duration": 3,
    "start_time": "2022-08-03T07:41:28.726Z"
   },
   {
    "duration": 8,
    "start_time": "2022-08-03T07:41:28.730Z"
   },
   {
    "duration": 8,
    "start_time": "2022-08-03T07:41:28.740Z"
   },
   {
    "duration": 7,
    "start_time": "2022-08-03T07:41:28.749Z"
   },
   {
    "duration": 6,
    "start_time": "2022-08-03T07:41:28.757Z"
   },
   {
    "duration": 34,
    "start_time": "2022-08-03T07:41:28.764Z"
   },
   {
    "duration": 7,
    "start_time": "2022-08-03T07:41:28.801Z"
   },
   {
    "duration": 5,
    "start_time": "2022-08-03T07:41:28.810Z"
   },
   {
    "duration": 8,
    "start_time": "2022-08-03T07:41:28.816Z"
   },
   {
    "duration": 8,
    "start_time": "2022-08-03T07:41:28.825Z"
   },
   {
    "duration": 10,
    "start_time": "2022-08-03T07:41:28.835Z"
   },
   {
    "duration": 40,
    "start_time": "2022-08-03T07:41:28.847Z"
   },
   {
    "duration": 4,
    "start_time": "2022-08-03T07:41:28.889Z"
   },
   {
    "duration": 2,
    "start_time": "2022-08-03T07:41:28.899Z"
   },
   {
    "duration": 8,
    "start_time": "2022-08-03T07:41:28.903Z"
   },
   {
    "duration": 31,
    "start_time": "2022-08-03T07:41:28.912Z"
   },
   {
    "duration": 531,
    "start_time": "2022-08-03T07:41:28.944Z"
   },
   {
    "duration": 21,
    "start_time": "2022-08-03T07:41:29.476Z"
   },
   {
    "duration": 6,
    "start_time": "2022-08-03T07:41:29.499Z"
   },
   {
    "duration": 8,
    "start_time": "2022-08-03T07:41:29.506Z"
   },
   {
    "duration": 11,
    "start_time": "2022-08-03T07:41:29.517Z"
   },
   {
    "duration": 18,
    "start_time": "2022-08-03T07:41:29.530Z"
   },
   {
    "duration": 4,
    "start_time": "2022-08-03T07:41:29.551Z"
   },
   {
    "duration": 33,
    "start_time": "2022-08-03T07:41:29.557Z"
   },
   {
    "duration": 16596,
    "start_time": "2022-08-03T07:41:29.592Z"
   },
   {
    "duration": 3,
    "start_time": "2022-08-03T07:41:46.190Z"
   },
   {
    "duration": 393,
    "start_time": "2022-08-03T07:41:46.195Z"
   },
   {
    "duration": 12,
    "start_time": "2022-08-03T07:41:46.591Z"
   },
   {
    "duration": 14,
    "start_time": "2022-08-03T07:41:46.687Z"
   },
   {
    "duration": 87,
    "start_time": "2022-08-03T07:41:46.704Z"
   },
   {
    "duration": 5789,
    "start_time": "2022-08-03T07:41:46.792Z"
   },
   {
    "duration": 43,
    "start_time": "2022-08-03T07:41:52.583Z"
   },
   {
    "duration": 8,
    "start_time": "2022-08-03T07:41:52.628Z"
   },
   {
    "duration": 19,
    "start_time": "2022-08-03T07:41:52.637Z"
   },
   {
    "duration": 26,
    "start_time": "2022-08-03T07:41:52.657Z"
   },
   {
    "duration": 34,
    "start_time": "2022-08-03T07:41:52.685Z"
   },
   {
    "duration": 417,
    "start_time": "2022-08-03T07:41:52.721Z"
   },
   {
    "duration": 23,
    "start_time": "2022-08-03T07:41:53.139Z"
   },
   {
    "duration": 33,
    "start_time": "2022-08-03T07:41:53.164Z"
   },
   {
    "duration": 29,
    "start_time": "2022-08-03T07:41:53.198Z"
   },
   {
    "duration": 28,
    "start_time": "2022-08-03T07:41:53.229Z"
   },
   {
    "duration": 5510,
    "start_time": "2022-08-03T07:41:53.259Z"
   },
   {
    "duration": 7,
    "start_time": "2022-08-03T07:41:58.771Z"
   },
   {
    "duration": 12,
    "start_time": "2022-08-03T07:41:58.780Z"
   },
   {
    "duration": 7,
    "start_time": "2022-08-03T07:41:58.794Z"
   },
   {
    "duration": 13195,
    "start_time": "2022-08-03T07:41:58.803Z"
   },
   {
    "duration": 91,
    "start_time": "2022-08-03T07:42:12.000Z"
   },
   {
    "duration": 4,
    "start_time": "2022-08-03T07:42:12.093Z"
   },
   {
    "duration": 212,
    "start_time": "2022-08-03T07:42:12.098Z"
   },
   {
    "duration": 9,
    "start_time": "2022-08-03T07:42:12.313Z"
   },
   {
    "duration": 1490,
    "start_time": "2022-08-03T07:43:56.076Z"
   },
   {
    "duration": 110,
    "start_time": "2022-08-03T07:43:57.568Z"
   },
   {
    "duration": 21,
    "start_time": "2022-08-03T07:43:57.680Z"
   },
   {
    "duration": 19,
    "start_time": "2022-08-03T07:43:57.704Z"
   },
   {
    "duration": 10,
    "start_time": "2022-08-03T07:43:57.725Z"
   },
   {
    "duration": 15,
    "start_time": "2022-08-03T07:43:57.738Z"
   },
   {
    "duration": 38,
    "start_time": "2022-08-03T07:43:57.755Z"
   },
   {
    "duration": 10,
    "start_time": "2022-08-03T07:43:57.796Z"
   },
   {
    "duration": 19,
    "start_time": "2022-08-03T07:43:57.808Z"
   },
   {
    "duration": 9,
    "start_time": "2022-08-03T07:43:57.831Z"
   },
   {
    "duration": 18,
    "start_time": "2022-08-03T07:43:57.841Z"
   },
   {
    "duration": 26,
    "start_time": "2022-08-03T07:43:57.861Z"
   },
   {
    "duration": 4,
    "start_time": "2022-08-03T07:43:57.888Z"
   },
   {
    "duration": 8,
    "start_time": "2022-08-03T07:43:57.894Z"
   },
   {
    "duration": 10,
    "start_time": "2022-08-03T07:43:57.904Z"
   },
   {
    "duration": 11,
    "start_time": "2022-08-03T07:43:57.916Z"
   },
   {
    "duration": 9,
    "start_time": "2022-08-03T07:43:57.930Z"
   },
   {
    "duration": 7,
    "start_time": "2022-08-03T07:43:57.940Z"
   },
   {
    "duration": 8,
    "start_time": "2022-08-03T07:43:57.948Z"
   },
   {
    "duration": 30,
    "start_time": "2022-08-03T07:43:57.958Z"
   },
   {
    "duration": 189,
    "start_time": "2022-08-03T07:43:57.992Z"
   },
   {
    "duration": 11,
    "start_time": "2022-08-03T07:43:58.187Z"
   },
   {
    "duration": 28,
    "start_time": "2022-08-03T07:43:58.200Z"
   },
   {
    "duration": 21,
    "start_time": "2022-08-03T07:43:58.230Z"
   },
   {
    "duration": 15,
    "start_time": "2022-08-03T07:43:58.254Z"
   },
   {
    "duration": 18,
    "start_time": "2022-08-03T07:43:58.271Z"
   },
   {
    "duration": 18,
    "start_time": "2022-08-03T07:43:58.291Z"
   },
   {
    "duration": 11,
    "start_time": "2022-08-03T07:43:58.314Z"
   },
   {
    "duration": 8,
    "start_time": "2022-08-03T07:43:58.327Z"
   },
   {
    "duration": 28,
    "start_time": "2022-08-03T07:43:58.337Z"
   },
   {
    "duration": 23,
    "start_time": "2022-08-03T07:43:58.367Z"
   },
   {
    "duration": 22,
    "start_time": "2022-08-03T07:43:58.392Z"
   },
   {
    "duration": 18,
    "start_time": "2022-08-03T07:43:58.416Z"
   },
   {
    "duration": 15,
    "start_time": "2022-08-03T07:43:58.435Z"
   },
   {
    "duration": 12,
    "start_time": "2022-08-03T07:43:58.452Z"
   },
   {
    "duration": 26,
    "start_time": "2022-08-03T07:43:58.466Z"
   },
   {
    "duration": 17,
    "start_time": "2022-08-03T07:43:58.494Z"
   },
   {
    "duration": 12,
    "start_time": "2022-08-03T07:43:58.513Z"
   },
   {
    "duration": 22,
    "start_time": "2022-08-03T07:43:58.526Z"
   },
   {
    "duration": 37,
    "start_time": "2022-08-03T07:43:58.550Z"
   },
   {
    "duration": 15,
    "start_time": "2022-08-03T07:43:58.590Z"
   },
   {
    "duration": 23,
    "start_time": "2022-08-03T07:43:58.607Z"
   },
   {
    "duration": 10,
    "start_time": "2022-08-03T07:43:58.632Z"
   },
   {
    "duration": 9,
    "start_time": "2022-08-03T07:43:58.643Z"
   },
   {
    "duration": 36,
    "start_time": "2022-08-03T07:43:58.654Z"
   },
   {
    "duration": 189,
    "start_time": "2022-08-03T07:43:58.692Z"
   },
   {
    "duration": 168,
    "start_time": "2022-08-03T07:43:58.886Z"
   },
   {
    "duration": 4,
    "start_time": "2022-08-03T07:43:59.056Z"
   },
   {
    "duration": 6,
    "start_time": "2022-08-03T07:43:59.062Z"
   },
   {
    "duration": 4,
    "start_time": "2022-08-03T07:43:59.087Z"
   },
   {
    "duration": 10,
    "start_time": "2022-08-03T07:43:59.093Z"
   },
   {
    "duration": 9,
    "start_time": "2022-08-03T07:43:59.104Z"
   },
   {
    "duration": 152,
    "start_time": "2022-08-03T07:43:59.115Z"
   },
   {
    "duration": 8,
    "start_time": "2022-08-03T07:43:59.269Z"
   },
   {
    "duration": 4,
    "start_time": "2022-08-03T07:43:59.287Z"
   },
   {
    "duration": 178,
    "start_time": "2022-08-03T07:43:59.293Z"
   },
   {
    "duration": 114,
    "start_time": "2022-08-03T07:43:59.473Z"
   },
   {
    "duration": 3,
    "start_time": "2022-08-03T07:43:59.588Z"
   },
   {
    "duration": 8,
    "start_time": "2022-08-03T07:43:59.592Z"
   },
   {
    "duration": 10,
    "start_time": "2022-08-03T07:43:59.602Z"
   },
   {
    "duration": 9,
    "start_time": "2022-08-03T07:43:59.613Z"
   },
   {
    "duration": 100,
    "start_time": "2022-08-03T07:43:59.623Z"
   },
   {
    "duration": 19,
    "start_time": "2022-08-03T07:43:59.724Z"
   },
   {
    "duration": 6,
    "start_time": "2022-08-03T07:43:59.744Z"
   },
   {
    "duration": 35,
    "start_time": "2022-08-03T07:43:59.752Z"
   },
   {
    "duration": 31,
    "start_time": "2022-08-03T07:43:59.789Z"
   },
   {
    "duration": 16,
    "start_time": "2022-08-03T07:43:59.822Z"
   },
   {
    "duration": 52,
    "start_time": "2022-08-03T07:43:59.840Z"
   },
   {
    "duration": 3,
    "start_time": "2022-08-03T07:43:59.894Z"
   },
   {
    "duration": 23,
    "start_time": "2022-08-03T07:43:59.898Z"
   },
   {
    "duration": 9,
    "start_time": "2022-08-03T07:43:59.925Z"
   },
   {
    "duration": 5,
    "start_time": "2022-08-03T07:43:59.935Z"
   },
   {
    "duration": 6,
    "start_time": "2022-08-03T07:43:59.942Z"
   },
   {
    "duration": 28,
    "start_time": "2022-08-03T07:43:59.951Z"
   },
   {
    "duration": 7,
    "start_time": "2022-08-03T07:43:59.982Z"
   },
   {
    "duration": 11,
    "start_time": "2022-08-03T07:43:59.991Z"
   },
   {
    "duration": 7,
    "start_time": "2022-08-03T07:44:00.004Z"
   },
   {
    "duration": 22,
    "start_time": "2022-08-03T07:44:00.012Z"
   },
   {
    "duration": 25,
    "start_time": "2022-08-03T07:44:00.036Z"
   },
   {
    "duration": 39,
    "start_time": "2022-08-03T07:44:00.064Z"
   },
   {
    "duration": 5,
    "start_time": "2022-08-03T07:44:00.105Z"
   },
   {
    "duration": 9,
    "start_time": "2022-08-03T07:44:00.118Z"
   },
   {
    "duration": 4725,
    "start_time": "2022-08-03T07:44:03.075Z"
   },
   {
    "duration": 22,
    "start_time": "2022-08-03T07:44:26.875Z"
   },
   {
    "duration": 30,
    "start_time": "2022-08-03T07:49:22.521Z"
   },
   {
    "duration": 559,
    "start_time": "2022-08-03T07:49:28.184Z"
   },
   {
    "duration": 17,
    "start_time": "2022-08-03T07:49:56.026Z"
   },
   {
    "duration": 129,
    "start_time": "2022-08-03T07:51:01.263Z"
   },
   {
    "duration": 1507,
    "start_time": "2022-08-03T07:51:43.577Z"
   },
   {
    "duration": 107,
    "start_time": "2022-08-03T07:51:45.087Z"
   },
   {
    "duration": 15,
    "start_time": "2022-08-03T07:51:45.196Z"
   },
   {
    "duration": 16,
    "start_time": "2022-08-03T07:51:45.213Z"
   },
   {
    "duration": 19,
    "start_time": "2022-08-03T07:51:45.233Z"
   },
   {
    "duration": 14,
    "start_time": "2022-08-03T07:51:45.254Z"
   },
   {
    "duration": 35,
    "start_time": "2022-08-03T07:51:45.270Z"
   },
   {
    "duration": 13,
    "start_time": "2022-08-03T07:51:45.307Z"
   },
   {
    "duration": 14,
    "start_time": "2022-08-03T07:51:45.323Z"
   },
   {
    "duration": 12,
    "start_time": "2022-08-03T07:51:45.340Z"
   },
   {
    "duration": 37,
    "start_time": "2022-08-03T07:51:45.354Z"
   },
   {
    "duration": 9,
    "start_time": "2022-08-03T07:51:45.393Z"
   },
   {
    "duration": 11,
    "start_time": "2022-08-03T07:51:45.405Z"
   },
   {
    "duration": 4,
    "start_time": "2022-08-03T07:51:45.420Z"
   },
   {
    "duration": 7,
    "start_time": "2022-08-03T07:51:45.426Z"
   },
   {
    "duration": 10,
    "start_time": "2022-08-03T07:51:45.435Z"
   },
   {
    "duration": 6,
    "start_time": "2022-08-03T07:51:45.447Z"
   },
   {
    "duration": 38,
    "start_time": "2022-08-03T07:51:45.455Z"
   },
   {
    "duration": 18,
    "start_time": "2022-08-03T07:51:45.495Z"
   },
   {
    "duration": 18,
    "start_time": "2022-08-03T07:51:45.515Z"
   },
   {
    "duration": 118,
    "start_time": "2022-08-03T07:51:45.535Z"
   },
   {
    "duration": 10,
    "start_time": "2022-08-03T07:51:45.655Z"
   },
   {
    "duration": 26,
    "start_time": "2022-08-03T07:51:45.667Z"
   },
   {
    "duration": 15,
    "start_time": "2022-08-03T07:51:45.695Z"
   },
   {
    "duration": 10,
    "start_time": "2022-08-03T07:51:45.711Z"
   },
   {
    "duration": 7,
    "start_time": "2022-08-03T07:51:45.722Z"
   },
   {
    "duration": 25,
    "start_time": "2022-08-03T07:51:45.731Z"
   },
   {
    "duration": 34,
    "start_time": "2022-08-03T07:51:45.758Z"
   },
   {
    "duration": 6,
    "start_time": "2022-08-03T07:51:45.794Z"
   },
   {
    "duration": 18,
    "start_time": "2022-08-03T07:51:45.802Z"
   },
   {
    "duration": 8,
    "start_time": "2022-08-03T07:51:45.822Z"
   },
   {
    "duration": 18,
    "start_time": "2022-08-03T07:51:45.831Z"
   },
   {
    "duration": 37,
    "start_time": "2022-08-03T07:51:45.851Z"
   },
   {
    "duration": 8,
    "start_time": "2022-08-03T07:51:45.891Z"
   },
   {
    "duration": 11,
    "start_time": "2022-08-03T07:51:45.901Z"
   },
   {
    "duration": 10,
    "start_time": "2022-08-03T07:51:45.914Z"
   },
   {
    "duration": 26,
    "start_time": "2022-08-03T07:51:45.926Z"
   },
   {
    "duration": 42,
    "start_time": "2022-08-03T07:51:45.955Z"
   },
   {
    "duration": 32,
    "start_time": "2022-08-03T07:51:45.999Z"
   },
   {
    "duration": 26,
    "start_time": "2022-08-03T07:51:46.034Z"
   },
   {
    "duration": 21,
    "start_time": "2022-08-03T07:51:46.065Z"
   },
   {
    "duration": 18,
    "start_time": "2022-08-03T07:51:46.088Z"
   },
   {
    "duration": 20,
    "start_time": "2022-08-03T07:51:46.108Z"
   },
   {
    "duration": 22,
    "start_time": "2022-08-03T07:51:46.130Z"
   },
   {
    "duration": 11,
    "start_time": "2022-08-03T07:51:46.153Z"
   },
   {
    "duration": 289,
    "start_time": "2022-08-03T07:51:46.166Z"
   },
   {
    "duration": 223,
    "start_time": "2022-08-03T07:51:46.458Z"
   },
   {
    "duration": 4,
    "start_time": "2022-08-03T07:51:46.686Z"
   },
   {
    "duration": 8,
    "start_time": "2022-08-03T07:51:46.692Z"
   },
   {
    "duration": 8,
    "start_time": "2022-08-03T07:51:46.702Z"
   },
   {
    "duration": 8,
    "start_time": "2022-08-03T07:51:46.712Z"
   },
   {
    "duration": 12,
    "start_time": "2022-08-03T07:51:46.721Z"
   },
   {
    "duration": 154,
    "start_time": "2022-08-03T07:51:46.735Z"
   },
   {
    "duration": 10,
    "start_time": "2022-08-03T07:51:46.891Z"
   },
   {
    "duration": 6,
    "start_time": "2022-08-03T07:51:46.904Z"
   },
   {
    "duration": 218,
    "start_time": "2022-08-03T07:51:46.911Z"
   },
   {
    "duration": 120,
    "start_time": "2022-08-03T07:51:47.131Z"
   },
   {
    "duration": 3,
    "start_time": "2022-08-03T07:51:47.253Z"
   },
   {
    "duration": 16,
    "start_time": "2022-08-03T07:51:47.258Z"
   },
   {
    "duration": 16,
    "start_time": "2022-08-03T07:51:47.275Z"
   },
   {
    "duration": 16,
    "start_time": "2022-08-03T07:51:47.294Z"
   },
   {
    "duration": 101,
    "start_time": "2022-08-03T07:51:47.311Z"
   },
   {
    "duration": 17,
    "start_time": "2022-08-03T07:51:47.414Z"
   },
   {
    "duration": 16,
    "start_time": "2022-08-03T07:51:47.433Z"
   },
   {
    "duration": 36,
    "start_time": "2022-08-03T07:51:47.451Z"
   },
   {
    "duration": 29,
    "start_time": "2022-08-03T07:51:47.489Z"
   },
   {
    "duration": 21,
    "start_time": "2022-08-03T07:51:47.519Z"
   },
   {
    "duration": 65,
    "start_time": "2022-08-03T07:51:47.543Z"
   },
   {
    "duration": 4,
    "start_time": "2022-08-03T07:51:47.610Z"
   },
   {
    "duration": 34,
    "start_time": "2022-08-03T07:51:47.616Z"
   },
   {
    "duration": 28,
    "start_time": "2022-08-03T07:51:47.652Z"
   },
   {
    "duration": 11,
    "start_time": "2022-08-03T07:51:47.682Z"
   },
   {
    "duration": 18,
    "start_time": "2022-08-03T07:51:47.695Z"
   },
   {
    "duration": 29,
    "start_time": "2022-08-03T07:51:47.715Z"
   },
   {
    "duration": 10,
    "start_time": "2022-08-03T07:51:47.746Z"
   },
   {
    "duration": 17,
    "start_time": "2022-08-03T07:51:47.759Z"
   },
   {
    "duration": 13,
    "start_time": "2022-08-03T07:51:47.778Z"
   },
   {
    "duration": 27,
    "start_time": "2022-08-03T07:51:47.793Z"
   },
   {
    "duration": 11,
    "start_time": "2022-08-03T07:51:47.822Z"
   },
   {
    "duration": 40,
    "start_time": "2022-08-03T07:51:47.835Z"
   },
   {
    "duration": 29,
    "start_time": "2022-08-03T07:51:47.877Z"
   },
   {
    "duration": 19,
    "start_time": "2022-08-03T07:51:47.909Z"
   },
   {
    "duration": 17,
    "start_time": "2022-08-03T07:51:47.929Z"
   },
   {
    "duration": 49,
    "start_time": "2022-08-03T07:51:47.949Z"
   },
   {
    "duration": 516,
    "start_time": "2022-08-03T07:51:48.001Z"
   },
   {
    "duration": 19,
    "start_time": "2022-08-03T07:51:48.519Z"
   },
   {
    "duration": 5,
    "start_time": "2022-08-03T07:51:48.541Z"
   },
   {
    "duration": 9,
    "start_time": "2022-08-03T07:51:48.547Z"
   },
   {
    "duration": 10,
    "start_time": "2022-08-03T07:51:48.558Z"
   },
   {
    "duration": 22,
    "start_time": "2022-08-03T07:51:48.586Z"
   },
   {
    "duration": 20,
    "start_time": "2022-08-03T07:51:48.610Z"
   },
   {
    "duration": 16,
    "start_time": "2022-08-03T07:51:48.632Z"
   },
   {
    "duration": 24154,
    "start_time": "2022-08-03T07:51:48.650Z"
   },
   {
    "duration": 85,
    "start_time": "2022-08-03T07:52:12.807Z"
   },
   {
    "duration": 305,
    "start_time": "2022-08-03T07:52:12.898Z"
   },
   {
    "duration": 96,
    "start_time": "2022-08-03T07:52:13.208Z"
   },
   {
    "duration": 85,
    "start_time": "2022-08-03T07:52:13.307Z"
   },
   {
    "duration": 90,
    "start_time": "2022-08-03T07:52:13.398Z"
   },
   {
    "duration": 6406,
    "start_time": "2022-08-03T07:52:13.490Z"
   },
   {
    "duration": 67,
    "start_time": "2022-08-03T07:52:19.898Z"
   },
   {
    "duration": 22,
    "start_time": "2022-08-03T07:52:19.967Z"
   },
   {
    "duration": 5,
    "start_time": "2022-08-03T07:52:19.991Z"
   },
   {
    "duration": 17,
    "start_time": "2022-08-03T07:52:19.998Z"
   },
   {
    "duration": 1498,
    "start_time": "2022-08-03T07:56:27.503Z"
   },
   {
    "duration": 111,
    "start_time": "2022-08-03T07:56:29.003Z"
   },
   {
    "duration": 21,
    "start_time": "2022-08-03T07:56:29.116Z"
   },
   {
    "duration": 19,
    "start_time": "2022-08-03T07:56:29.140Z"
   },
   {
    "duration": 27,
    "start_time": "2022-08-03T07:56:29.161Z"
   },
   {
    "duration": 15,
    "start_time": "2022-08-03T07:56:29.190Z"
   },
   {
    "duration": 34,
    "start_time": "2022-08-03T07:56:29.207Z"
   },
   {
    "duration": 10,
    "start_time": "2022-08-03T07:56:29.243Z"
   },
   {
    "duration": 42,
    "start_time": "2022-08-03T07:56:29.255Z"
   },
   {
    "duration": 16,
    "start_time": "2022-08-03T07:56:29.304Z"
   },
   {
    "duration": 30,
    "start_time": "2022-08-03T07:56:29.322Z"
   },
   {
    "duration": 13,
    "start_time": "2022-08-03T07:56:29.354Z"
   },
   {
    "duration": 24,
    "start_time": "2022-08-03T07:56:29.370Z"
   },
   {
    "duration": 15,
    "start_time": "2022-08-03T07:56:29.396Z"
   },
   {
    "duration": 11,
    "start_time": "2022-08-03T07:56:29.413Z"
   },
   {
    "duration": 10,
    "start_time": "2022-08-03T07:56:29.427Z"
   },
   {
    "duration": 13,
    "start_time": "2022-08-03T07:56:29.439Z"
   },
   {
    "duration": 16,
    "start_time": "2022-08-03T07:56:29.454Z"
   },
   {
    "duration": 9,
    "start_time": "2022-08-03T07:56:29.472Z"
   },
   {
    "duration": 20,
    "start_time": "2022-08-03T07:56:29.483Z"
   },
   {
    "duration": 135,
    "start_time": "2022-08-03T07:56:29.505Z"
   },
   {
    "duration": 14,
    "start_time": "2022-08-03T07:56:29.642Z"
   },
   {
    "duration": 34,
    "start_time": "2022-08-03T07:56:29.661Z"
   },
   {
    "duration": 15,
    "start_time": "2022-08-03T07:56:29.697Z"
   },
   {
    "duration": 10,
    "start_time": "2022-08-03T07:56:29.714Z"
   },
   {
    "duration": 10,
    "start_time": "2022-08-03T07:56:29.726Z"
   },
   {
    "duration": 16,
    "start_time": "2022-08-03T07:56:29.738Z"
   },
   {
    "duration": 30,
    "start_time": "2022-08-03T07:56:29.760Z"
   },
   {
    "duration": 8,
    "start_time": "2022-08-03T07:56:29.792Z"
   },
   {
    "duration": 18,
    "start_time": "2022-08-03T07:56:29.802Z"
   },
   {
    "duration": 7,
    "start_time": "2022-08-03T07:56:29.822Z"
   },
   {
    "duration": 23,
    "start_time": "2022-08-03T07:56:29.832Z"
   },
   {
    "duration": 51,
    "start_time": "2022-08-03T07:56:29.857Z"
   },
   {
    "duration": 33,
    "start_time": "2022-08-03T07:56:29.911Z"
   },
   {
    "duration": 29,
    "start_time": "2022-08-03T07:56:29.946Z"
   },
   {
    "duration": 20,
    "start_time": "2022-08-03T07:56:29.977Z"
   },
   {
    "duration": 62,
    "start_time": "2022-08-03T07:56:29.999Z"
   },
   {
    "duration": 21,
    "start_time": "2022-08-03T07:56:30.063Z"
   },
   {
    "duration": 32,
    "start_time": "2022-08-03T07:56:30.086Z"
   },
   {
    "duration": 35,
    "start_time": "2022-08-03T07:56:30.121Z"
   },
   {
    "duration": 34,
    "start_time": "2022-08-03T07:56:30.158Z"
   },
   {
    "duration": 38,
    "start_time": "2022-08-03T07:56:30.194Z"
   },
   {
    "duration": 12,
    "start_time": "2022-08-03T07:56:30.234Z"
   },
   {
    "duration": 30,
    "start_time": "2022-08-03T07:56:30.249Z"
   },
   {
    "duration": 29,
    "start_time": "2022-08-03T07:56:30.281Z"
   },
   {
    "duration": 195,
    "start_time": "2022-08-03T07:56:30.312Z"
   },
   {
    "duration": 208,
    "start_time": "2022-08-03T07:56:30.509Z"
   },
   {
    "duration": 6,
    "start_time": "2022-08-03T07:56:30.720Z"
   },
   {
    "duration": 42,
    "start_time": "2022-08-03T07:56:30.728Z"
   },
   {
    "duration": 46,
    "start_time": "2022-08-03T07:56:30.772Z"
   },
   {
    "duration": 24,
    "start_time": "2022-08-03T07:56:30.820Z"
   },
   {
    "duration": 26,
    "start_time": "2022-08-03T07:56:30.847Z"
   },
   {
    "duration": 110,
    "start_time": "2022-08-03T07:56:30.876Z"
   },
   {
    "duration": 10,
    "start_time": "2022-08-03T07:56:30.988Z"
   },
   {
    "duration": 15,
    "start_time": "2022-08-03T07:56:31.000Z"
   },
   {
    "duration": 198,
    "start_time": "2022-08-03T07:56:31.018Z"
   },
   {
    "duration": 116,
    "start_time": "2022-08-03T07:56:31.219Z"
   },
   {
    "duration": 2,
    "start_time": "2022-08-03T07:56:31.338Z"
   },
   {
    "duration": 33,
    "start_time": "2022-08-03T07:56:31.342Z"
   },
   {
    "duration": 35,
    "start_time": "2022-08-03T07:56:31.377Z"
   },
   {
    "duration": 19,
    "start_time": "2022-08-03T07:56:31.414Z"
   },
   {
    "duration": 122,
    "start_time": "2022-08-03T07:56:31.435Z"
   },
   {
    "duration": 38,
    "start_time": "2022-08-03T07:56:31.560Z"
   },
   {
    "duration": 6,
    "start_time": "2022-08-03T07:56:31.600Z"
   },
   {
    "duration": 37,
    "start_time": "2022-08-03T07:56:31.608Z"
   },
   {
    "duration": 47,
    "start_time": "2022-08-03T07:56:31.647Z"
   },
   {
    "duration": 15,
    "start_time": "2022-08-03T07:56:31.696Z"
   },
   {
    "duration": 44,
    "start_time": "2022-08-03T07:56:31.713Z"
   },
   {
    "duration": 28,
    "start_time": "2022-08-03T07:56:31.759Z"
   },
   {
    "duration": 3,
    "start_time": "2022-08-03T07:56:31.789Z"
   },
   {
    "duration": 9,
    "start_time": "2022-08-03T07:56:31.793Z"
   },
   {
    "duration": 10,
    "start_time": "2022-08-03T07:56:31.803Z"
   },
   {
    "duration": 6,
    "start_time": "2022-08-03T07:56:31.815Z"
   },
   {
    "duration": 20,
    "start_time": "2022-08-03T07:56:31.823Z"
   },
   {
    "duration": 7,
    "start_time": "2022-08-03T07:56:31.845Z"
   },
   {
    "duration": 36,
    "start_time": "2022-08-03T07:56:31.854Z"
   },
   {
    "duration": 8,
    "start_time": "2022-08-03T07:56:31.891Z"
   },
   {
    "duration": 9,
    "start_time": "2022-08-03T07:56:31.901Z"
   },
   {
    "duration": 7,
    "start_time": "2022-08-03T07:56:31.912Z"
   },
   {
    "duration": 20,
    "start_time": "2022-08-03T07:56:31.920Z"
   },
   {
    "duration": 45,
    "start_time": "2022-08-03T07:56:31.942Z"
   },
   {
    "duration": 4,
    "start_time": "2022-08-03T07:56:31.998Z"
   },
   {
    "duration": 16,
    "start_time": "2022-08-03T07:56:32.003Z"
   },
   {
    "duration": 34,
    "start_time": "2022-08-03T07:56:32.021Z"
   },
   {
    "duration": 598,
    "start_time": "2022-08-03T07:56:32.057Z"
   },
   {
    "duration": 32,
    "start_time": "2022-08-03T07:56:32.657Z"
   },
   {
    "duration": 10,
    "start_time": "2022-08-03T07:56:32.691Z"
   },
   {
    "duration": 10,
    "start_time": "2022-08-03T07:56:32.703Z"
   },
   {
    "duration": 6,
    "start_time": "2022-08-03T07:56:32.715Z"
   },
   {
    "duration": 20,
    "start_time": "2022-08-03T07:56:32.724Z"
   },
   {
    "duration": 40,
    "start_time": "2022-08-03T07:56:32.746Z"
   },
   {
    "duration": 16,
    "start_time": "2022-08-03T07:56:32.789Z"
   },
   {
    "duration": 20593,
    "start_time": "2022-08-03T07:56:32.808Z"
   },
   {
    "duration": 84,
    "start_time": "2022-08-03T07:56:53.403Z"
   },
   {
    "duration": 315,
    "start_time": "2022-08-03T07:56:53.489Z"
   },
   {
    "duration": 92,
    "start_time": "2022-08-03T07:56:53.806Z"
   },
   {
    "duration": 100,
    "start_time": "2022-08-03T07:56:53.901Z"
   },
   {
    "duration": 92,
    "start_time": "2022-08-03T07:56:54.003Z"
   },
   {
    "duration": 6069,
    "start_time": "2022-08-03T07:56:54.097Z"
   },
   {
    "duration": 61,
    "start_time": "2022-08-03T07:57:00.168Z"
   },
   {
    "duration": 11,
    "start_time": "2022-08-03T07:57:00.231Z"
   },
   {
    "duration": 12,
    "start_time": "2022-08-03T07:57:00.245Z"
   },
   {
    "duration": 4,
    "start_time": "2022-08-03T07:57:00.260Z"
   },
   {
    "duration": 907262,
    "start_time": "2022-08-03T07:57:00.267Z"
   },
   {
    "duration": 452,
    "start_time": "2022-08-03T08:12:07.531Z"
   },
   {
    "duration": 26,
    "start_time": "2022-08-03T08:12:07.986Z"
   },
   {
    "duration": 6,
    "start_time": "2022-08-03T08:12:08.014Z"
   },
   {
    "duration": 64,
    "start_time": "2022-08-03T08:12:08.022Z"
   },
   {
    "duration": 649843,
    "start_time": "2022-08-03T08:12:08.088Z"
   },
   {
    "duration": 7321,
    "start_time": "2022-08-03T08:22:57.933Z"
   },
   {
    "duration": 8,
    "start_time": "2022-08-03T08:23:05.255Z"
   },
   {
    "duration": 9,
    "start_time": "2022-08-03T08:23:05.265Z"
   },
   {
    "duration": 1500,
    "start_time": "2022-08-03T09:19:20.405Z"
   },
   {
    "duration": 110,
    "start_time": "2022-08-03T09:19:21.906Z"
   },
   {
    "duration": 18,
    "start_time": "2022-08-03T09:19:22.017Z"
   },
   {
    "duration": 17,
    "start_time": "2022-08-03T09:19:22.037Z"
   },
   {
    "duration": 11,
    "start_time": "2022-08-03T09:19:22.057Z"
   },
   {
    "duration": 9,
    "start_time": "2022-08-03T09:19:22.070Z"
   },
   {
    "duration": 15,
    "start_time": "2022-08-03T09:19:22.081Z"
   },
   {
    "duration": 12,
    "start_time": "2022-08-03T09:19:22.097Z"
   },
   {
    "duration": 16,
    "start_time": "2022-08-03T09:19:22.110Z"
   },
   {
    "duration": 13,
    "start_time": "2022-08-03T09:19:22.127Z"
   },
   {
    "duration": 13,
    "start_time": "2022-08-03T09:19:22.141Z"
   },
   {
    "duration": 31,
    "start_time": "2022-08-03T09:19:22.156Z"
   },
   {
    "duration": 12,
    "start_time": "2022-08-03T09:19:22.189Z"
   },
   {
    "duration": 5,
    "start_time": "2022-08-03T09:19:22.205Z"
   },
   {
    "duration": 7,
    "start_time": "2022-08-03T09:19:22.212Z"
   },
   {
    "duration": 10,
    "start_time": "2022-08-03T09:19:22.221Z"
   },
   {
    "duration": 10,
    "start_time": "2022-08-03T09:19:22.233Z"
   },
   {
    "duration": 8,
    "start_time": "2022-08-03T09:19:22.245Z"
   },
   {
    "duration": 6,
    "start_time": "2022-08-03T09:19:22.254Z"
   },
   {
    "duration": 17,
    "start_time": "2022-08-03T09:19:22.262Z"
   },
   {
    "duration": 119,
    "start_time": "2022-08-03T09:19:22.286Z"
   },
   {
    "duration": 8,
    "start_time": "2022-08-03T09:19:22.407Z"
   },
   {
    "duration": 16,
    "start_time": "2022-08-03T09:19:22.417Z"
   },
   {
    "duration": 15,
    "start_time": "2022-08-03T09:19:22.435Z"
   },
   {
    "duration": 11,
    "start_time": "2022-08-03T09:19:22.452Z"
   },
   {
    "duration": 5,
    "start_time": "2022-08-03T09:19:22.487Z"
   },
   {
    "duration": 14,
    "start_time": "2022-08-03T09:19:22.494Z"
   },
   {
    "duration": 8,
    "start_time": "2022-08-03T09:19:22.510Z"
   },
   {
    "duration": 11,
    "start_time": "2022-08-03T09:19:22.520Z"
   },
   {
    "duration": 26,
    "start_time": "2022-08-03T09:19:22.532Z"
   },
   {
    "duration": 7,
    "start_time": "2022-08-03T09:19:22.560Z"
   },
   {
    "duration": 28,
    "start_time": "2022-08-03T09:19:22.569Z"
   },
   {
    "duration": 15,
    "start_time": "2022-08-03T09:19:22.598Z"
   },
   {
    "duration": 9,
    "start_time": "2022-08-03T09:19:22.615Z"
   },
   {
    "duration": 7,
    "start_time": "2022-08-03T09:19:22.626Z"
   },
   {
    "duration": 8,
    "start_time": "2022-08-03T09:19:22.634Z"
   },
   {
    "duration": 11,
    "start_time": "2022-08-03T09:19:22.644Z"
   },
   {
    "duration": 39,
    "start_time": "2022-08-03T09:19:22.657Z"
   },
   {
    "duration": 14,
    "start_time": "2022-08-03T09:19:22.698Z"
   },
   {
    "duration": 10,
    "start_time": "2022-08-03T09:19:22.714Z"
   },
   {
    "duration": 15,
    "start_time": "2022-08-03T09:19:22.731Z"
   },
   {
    "duration": 62,
    "start_time": "2022-08-03T09:19:22.747Z"
   },
   {
    "duration": 11,
    "start_time": "2022-08-03T09:19:22.812Z"
   },
   {
    "duration": 9,
    "start_time": "2022-08-03T09:19:22.825Z"
   },
   {
    "duration": 9,
    "start_time": "2022-08-03T09:19:22.836Z"
   },
   {
    "duration": 187,
    "start_time": "2022-08-03T09:19:22.847Z"
   },
   {
    "duration": 176,
    "start_time": "2022-08-03T09:19:23.036Z"
   },
   {
    "duration": 4,
    "start_time": "2022-08-03T09:19:23.215Z"
   },
   {
    "duration": 8,
    "start_time": "2022-08-03T09:19:23.221Z"
   },
   {
    "duration": 6,
    "start_time": "2022-08-03T09:19:23.230Z"
   },
   {
    "duration": 8,
    "start_time": "2022-08-03T09:19:23.238Z"
   },
   {
    "duration": 10,
    "start_time": "2022-08-03T09:19:23.248Z"
   },
   {
    "duration": 109,
    "start_time": "2022-08-03T09:19:23.287Z"
   },
   {
    "duration": 9,
    "start_time": "2022-08-03T09:19:23.398Z"
   },
   {
    "duration": 6,
    "start_time": "2022-08-03T09:19:23.408Z"
   },
   {
    "duration": 186,
    "start_time": "2022-08-03T09:19:23.415Z"
   },
   {
    "duration": 99,
    "start_time": "2022-08-03T09:19:23.603Z"
   },
   {
    "duration": 3,
    "start_time": "2022-08-03T09:19:23.703Z"
   },
   {
    "duration": 7,
    "start_time": "2022-08-03T09:19:23.708Z"
   },
   {
    "duration": 8,
    "start_time": "2022-08-03T09:19:23.717Z"
   },
   {
    "duration": 11,
    "start_time": "2022-08-03T09:19:23.726Z"
   },
   {
    "duration": 103,
    "start_time": "2022-08-03T09:19:23.739Z"
   },
   {
    "duration": 17,
    "start_time": "2022-08-03T09:19:23.843Z"
   },
   {
    "duration": 5,
    "start_time": "2022-08-03T09:19:23.862Z"
   },
   {
    "duration": 37,
    "start_time": "2022-08-03T09:19:23.869Z"
   },
   {
    "duration": 23,
    "start_time": "2022-08-03T09:19:23.908Z"
   },
   {
    "duration": 13,
    "start_time": "2022-08-03T09:19:23.933Z"
   },
   {
    "duration": 66,
    "start_time": "2022-08-03T09:19:23.949Z"
   },
   {
    "duration": 3,
    "start_time": "2022-08-03T09:19:24.017Z"
   },
   {
    "duration": 20,
    "start_time": "2022-08-03T09:19:24.022Z"
   },
   {
    "duration": 8,
    "start_time": "2022-08-03T09:19:24.045Z"
   },
   {
    "duration": 13,
    "start_time": "2022-08-03T09:19:24.054Z"
   },
   {
    "duration": 9,
    "start_time": "2022-08-03T09:19:24.069Z"
   },
   {
    "duration": 25,
    "start_time": "2022-08-03T09:19:24.080Z"
   },
   {
    "duration": 6,
    "start_time": "2022-08-03T09:19:24.107Z"
   },
   {
    "duration": 10,
    "start_time": "2022-08-03T09:19:24.114Z"
   },
   {
    "duration": 13,
    "start_time": "2022-08-03T09:19:24.126Z"
   },
   {
    "duration": 7,
    "start_time": "2022-08-03T09:19:24.141Z"
   },
   {
    "duration": 6,
    "start_time": "2022-08-03T09:19:24.149Z"
   },
   {
    "duration": 20,
    "start_time": "2022-08-03T09:19:24.157Z"
   },
   {
    "duration": 9,
    "start_time": "2022-08-03T09:19:24.179Z"
   },
   {
    "duration": 5,
    "start_time": "2022-08-03T09:19:24.189Z"
   },
   {
    "duration": 5,
    "start_time": "2022-08-03T09:19:24.196Z"
   },
   {
    "duration": 24,
    "start_time": "2022-08-03T09:19:24.204Z"
   },
   {
    "duration": 485,
    "start_time": "2022-08-03T09:19:24.230Z"
   },
   {
    "duration": 11,
    "start_time": "2022-08-03T09:19:24.717Z"
   },
   {
    "duration": 8,
    "start_time": "2022-08-03T09:19:24.730Z"
   },
   {
    "duration": 6,
    "start_time": "2022-08-03T09:19:24.740Z"
   },
   {
    "duration": 14,
    "start_time": "2022-08-03T09:19:24.748Z"
   },
   {
    "duration": 30,
    "start_time": "2022-08-03T09:19:24.763Z"
   },
   {
    "duration": 4,
    "start_time": "2022-08-03T09:19:24.794Z"
   },
   {
    "duration": 25,
    "start_time": "2022-08-03T09:19:24.800Z"
   },
   {
    "duration": 13472,
    "start_time": "2022-08-03T09:19:24.826Z"
   },
   {
    "duration": 88,
    "start_time": "2022-08-03T09:19:38.300Z"
   },
   {
    "duration": 403,
    "start_time": "2022-08-03T09:19:38.390Z"
   },
   {
    "duration": 92,
    "start_time": "2022-08-03T09:19:38.796Z"
   },
   {
    "duration": 102,
    "start_time": "2022-08-03T09:19:38.890Z"
   },
   {
    "duration": 3,
    "start_time": "2022-08-03T09:19:38.994Z"
   },
   {
    "duration": 13,
    "start_time": "2022-08-03T09:19:38.999Z"
   },
   {
    "duration": 64,
    "start_time": "2022-08-03T09:19:39.015Z"
   },
   {
    "duration": 11,
    "start_time": "2022-08-03T09:19:39.087Z"
   },
   {
    "duration": 4,
    "start_time": "2022-08-03T09:19:39.100Z"
   },
   {
    "duration": 3,
    "start_time": "2022-08-03T09:19:39.106Z"
   },
   {
    "duration": 6,
    "start_time": "2022-08-03T09:19:39.111Z"
   },
   {
    "duration": 53,
    "start_time": "2022-08-03T09:19:39.119Z"
   },
   {
    "duration": 0,
    "start_time": "2022-08-03T09:19:39.174Z"
   },
   {
    "duration": 0,
    "start_time": "2022-08-03T09:19:39.176Z"
   },
   {
    "duration": 0,
    "start_time": "2022-08-03T09:19:39.178Z"
   },
   {
    "duration": 0,
    "start_time": "2022-08-03T09:19:39.180Z"
   },
   {
    "duration": 0,
    "start_time": "2022-08-03T09:19:39.181Z"
   },
   {
    "duration": 0,
    "start_time": "2022-08-03T09:19:39.182Z"
   },
   {
    "duration": 0,
    "start_time": "2022-08-03T09:19:39.183Z"
   },
   {
    "duration": 0,
    "start_time": "2022-08-03T09:19:39.185Z"
   },
   {
    "duration": 0,
    "start_time": "2022-08-03T09:19:39.186Z"
   },
   {
    "duration": 0,
    "start_time": "2022-08-03T09:19:39.187Z"
   },
   {
    "duration": 0,
    "start_time": "2022-08-03T09:19:39.188Z"
   },
   {
    "duration": 0,
    "start_time": "2022-08-03T09:19:39.189Z"
   },
   {
    "duration": 0,
    "start_time": "2022-08-03T09:19:39.190Z"
   },
   {
    "duration": 524,
    "start_time": "2022-08-03T09:22:50.811Z"
   },
   {
    "duration": 495,
    "start_time": "2022-08-03T09:22:56.456Z"
   },
   {
    "duration": 34,
    "start_time": "2022-08-03T09:22:56.953Z"
   },
   {
    "duration": 5,
    "start_time": "2022-08-03T09:22:56.990Z"
   },
   {
    "duration": 6,
    "start_time": "2022-08-03T09:22:56.998Z"
   },
   {
    "duration": 8,
    "start_time": "2022-08-03T09:22:57.007Z"
   },
   {
    "duration": 18692,
    "start_time": "2022-08-03T09:22:57.017Z"
   },
   {
    "duration": 14,
    "start_time": "2022-08-03T09:23:15.711Z"
   },
   {
    "duration": 5,
    "start_time": "2022-08-03T09:23:15.727Z"
   },
   {
    "duration": 8635363,
    "start_time": "2022-08-03T09:23:15.734Z"
   },
   {
    "duration": 91,
    "start_time": "2022-08-03T11:47:11.297Z"
   },
   {
    "duration": 5,
    "start_time": "2022-08-03T11:47:11.389Z"
   },
   {
    "duration": 183,
    "start_time": "2022-08-03T11:47:11.395Z"
   },
   {
    "duration": 11,
    "start_time": "2022-08-03T11:47:11.580Z"
   },
   {
    "duration": 201,
    "start_time": "2022-08-03T11:47:11.595Z"
   },
   {
    "duration": 1611,
    "start_time": "2022-08-03T11:50:04.377Z"
   },
   {
    "duration": 140,
    "start_time": "2022-08-03T11:50:05.990Z"
   },
   {
    "duration": 24,
    "start_time": "2022-08-03T11:50:06.133Z"
   },
   {
    "duration": 14,
    "start_time": "2022-08-03T11:50:06.159Z"
   },
   {
    "duration": 26,
    "start_time": "2022-08-03T11:50:06.175Z"
   },
   {
    "duration": 16,
    "start_time": "2022-08-03T11:50:06.203Z"
   },
   {
    "duration": 20,
    "start_time": "2022-08-03T11:50:06.221Z"
   },
   {
    "duration": 44,
    "start_time": "2022-08-03T11:50:06.243Z"
   },
   {
    "duration": 20,
    "start_time": "2022-08-03T11:50:06.289Z"
   },
   {
    "duration": 16,
    "start_time": "2022-08-03T11:50:06.311Z"
   },
   {
    "duration": 21,
    "start_time": "2022-08-03T11:50:06.330Z"
   },
   {
    "duration": 7,
    "start_time": "2022-08-03T11:50:06.353Z"
   },
   {
    "duration": 14,
    "start_time": "2022-08-03T11:50:06.362Z"
   },
   {
    "duration": 7,
    "start_time": "2022-08-03T11:50:06.387Z"
   },
   {
    "duration": 10,
    "start_time": "2022-08-03T11:50:06.397Z"
   },
   {
    "duration": 10,
    "start_time": "2022-08-03T11:50:06.410Z"
   },
   {
    "duration": 19,
    "start_time": "2022-08-03T11:50:06.423Z"
   },
   {
    "duration": 21,
    "start_time": "2022-08-03T11:50:06.444Z"
   },
   {
    "duration": 9,
    "start_time": "2022-08-03T11:50:06.468Z"
   },
   {
    "duration": 22,
    "start_time": "2022-08-03T11:50:06.479Z"
   },
   {
    "duration": 175,
    "start_time": "2022-08-03T11:50:06.503Z"
   },
   {
    "duration": 12,
    "start_time": "2022-08-03T11:50:06.679Z"
   },
   {
    "duration": 18,
    "start_time": "2022-08-03T11:50:06.693Z"
   },
   {
    "duration": 19,
    "start_time": "2022-08-03T11:50:06.712Z"
   },
   {
    "duration": 10,
    "start_time": "2022-08-03T11:50:06.733Z"
   },
   {
    "duration": 5,
    "start_time": "2022-08-03T11:50:06.745Z"
   },
   {
    "duration": 37,
    "start_time": "2022-08-03T11:50:06.752Z"
   },
   {
    "duration": 9,
    "start_time": "2022-08-03T11:50:06.790Z"
   },
   {
    "duration": 6,
    "start_time": "2022-08-03T11:50:06.801Z"
   },
   {
    "duration": 18,
    "start_time": "2022-08-03T11:50:06.809Z"
   },
   {
    "duration": 8,
    "start_time": "2022-08-03T11:50:06.829Z"
   },
   {
    "duration": 18,
    "start_time": "2022-08-03T11:50:06.841Z"
   },
   {
    "duration": 36,
    "start_time": "2022-08-03T11:50:06.861Z"
   },
   {
    "duration": 9,
    "start_time": "2022-08-03T11:50:06.899Z"
   },
   {
    "duration": 10,
    "start_time": "2022-08-03T11:50:06.910Z"
   },
   {
    "duration": 8,
    "start_time": "2022-08-03T11:50:06.922Z"
   },
   {
    "duration": 16,
    "start_time": "2022-08-03T11:50:06.932Z"
   },
   {
    "duration": 44,
    "start_time": "2022-08-03T11:50:06.950Z"
   },
   {
    "duration": 14,
    "start_time": "2022-08-03T11:50:06.996Z"
   },
   {
    "duration": 12,
    "start_time": "2022-08-03T11:50:07.012Z"
   },
   {
    "duration": 12,
    "start_time": "2022-08-03T11:50:07.030Z"
   },
   {
    "duration": 46,
    "start_time": "2022-08-03T11:50:07.044Z"
   },
   {
    "duration": 10,
    "start_time": "2022-08-03T11:50:07.092Z"
   },
   {
    "duration": 11,
    "start_time": "2022-08-03T11:50:07.104Z"
   },
   {
    "duration": 6,
    "start_time": "2022-08-03T11:50:07.117Z"
   },
   {
    "duration": 209,
    "start_time": "2022-08-03T11:50:07.126Z"
   },
   {
    "duration": 179,
    "start_time": "2022-08-03T11:50:07.336Z"
   },
   {
    "duration": 4,
    "start_time": "2022-08-03T11:50:07.517Z"
   },
   {
    "duration": 10,
    "start_time": "2022-08-03T11:50:07.523Z"
   },
   {
    "duration": 14,
    "start_time": "2022-08-03T11:50:07.535Z"
   },
   {
    "duration": 8,
    "start_time": "2022-08-03T11:50:07.551Z"
   },
   {
    "duration": 30,
    "start_time": "2022-08-03T11:50:07.561Z"
   },
   {
    "duration": 116,
    "start_time": "2022-08-03T11:50:07.594Z"
   },
   {
    "duration": 10,
    "start_time": "2022-08-03T11:50:07.711Z"
   },
   {
    "duration": 6,
    "start_time": "2022-08-03T11:50:07.723Z"
   },
   {
    "duration": 185,
    "start_time": "2022-08-03T11:50:07.730Z"
   },
   {
    "duration": 117,
    "start_time": "2022-08-03T11:50:07.917Z"
   },
   {
    "duration": 3,
    "start_time": "2022-08-03T11:50:08.036Z"
   },
   {
    "duration": 12,
    "start_time": "2022-08-03T11:50:08.041Z"
   },
   {
    "duration": 10,
    "start_time": "2022-08-03T11:50:08.055Z"
   },
   {
    "duration": 27,
    "start_time": "2022-08-03T11:50:08.068Z"
   },
   {
    "duration": 100,
    "start_time": "2022-08-03T11:50:08.097Z"
   },
   {
    "duration": 19,
    "start_time": "2022-08-03T11:50:08.199Z"
   },
   {
    "duration": 6,
    "start_time": "2022-08-03T11:50:08.220Z"
   },
   {
    "duration": 27,
    "start_time": "2022-08-03T11:50:08.228Z"
   },
   {
    "duration": 43,
    "start_time": "2022-08-03T11:50:08.257Z"
   },
   {
    "duration": 14,
    "start_time": "2022-08-03T11:50:08.302Z"
   },
   {
    "duration": 30,
    "start_time": "2022-08-03T11:50:08.318Z"
   },
   {
    "duration": 2,
    "start_time": "2022-08-03T11:50:08.350Z"
   },
   {
    "duration": 10,
    "start_time": "2022-08-03T11:50:08.353Z"
   },
   {
    "duration": 5,
    "start_time": "2022-08-03T11:50:08.387Z"
   },
   {
    "duration": 11,
    "start_time": "2022-08-03T11:50:08.393Z"
   },
   {
    "duration": 5,
    "start_time": "2022-08-03T11:50:08.405Z"
   },
   {
    "duration": 17,
    "start_time": "2022-08-03T11:50:08.412Z"
   },
   {
    "duration": 5,
    "start_time": "2022-08-03T11:50:08.431Z"
   },
   {
    "duration": 6,
    "start_time": "2022-08-03T11:50:08.438Z"
   },
   {
    "duration": 5,
    "start_time": "2022-08-03T11:50:08.447Z"
   },
   {
    "duration": 34,
    "start_time": "2022-08-03T11:50:08.454Z"
   },
   {
    "duration": 6,
    "start_time": "2022-08-03T11:50:08.490Z"
   },
   {
    "duration": 27,
    "start_time": "2022-08-03T11:50:08.498Z"
   },
   {
    "duration": 4,
    "start_time": "2022-08-03T11:50:08.527Z"
   },
   {
    "duration": 6,
    "start_time": "2022-08-03T11:50:08.533Z"
   },
   {
    "duration": 7,
    "start_time": "2022-08-03T11:50:08.541Z"
   },
   {
    "duration": 43,
    "start_time": "2022-08-03T11:50:08.550Z"
   },
   {
    "duration": 519,
    "start_time": "2022-08-03T11:50:08.595Z"
   },
   {
    "duration": 13,
    "start_time": "2022-08-03T11:50:09.115Z"
   },
   {
    "duration": 7,
    "start_time": "2022-08-03T11:50:09.130Z"
   },
   {
    "duration": 7,
    "start_time": "2022-08-03T11:50:09.138Z"
   },
   {
    "duration": 8,
    "start_time": "2022-08-03T11:50:09.146Z"
   },
   {
    "duration": 36,
    "start_time": "2022-08-03T11:50:09.155Z"
   },
   {
    "duration": 5,
    "start_time": "2022-08-03T11:50:09.193Z"
   },
   {
    "duration": 15,
    "start_time": "2022-08-03T11:50:09.199Z"
   },
   {
    "duration": 14470,
    "start_time": "2022-08-03T11:50:09.216Z"
   },
   {
    "duration": 4,
    "start_time": "2022-08-03T11:50:23.689Z"
   },
   {
    "duration": 592,
    "start_time": "2022-08-03T11:50:23.695Z"
   },
   {
    "duration": 98,
    "start_time": "2022-08-03T11:50:24.290Z"
   },
   {
    "duration": 102,
    "start_time": "2022-08-03T11:50:24.391Z"
   },
   {
    "duration": 3,
    "start_time": "2022-08-03T11:50:24.495Z"
   },
   {
    "duration": 7,
    "start_time": "2022-08-03T11:50:24.500Z"
   },
   {
    "duration": 48,
    "start_time": "2022-08-03T11:50:24.508Z"
   },
   {
    "duration": 8,
    "start_time": "2022-08-03T11:50:24.558Z"
   },
   {
    "duration": 5,
    "start_time": "2022-08-03T11:50:24.587Z"
   },
   {
    "duration": 20,
    "start_time": "2022-08-03T11:50:24.593Z"
   },
   {
    "duration": 17,
    "start_time": "2022-08-03T11:50:24.614Z"
   },
   {
    "duration": 488,
    "start_time": "2022-08-03T11:50:24.633Z"
   },
   {
    "duration": 26,
    "start_time": "2022-08-03T11:50:25.122Z"
   },
   {
    "duration": 4,
    "start_time": "2022-08-03T11:50:25.149Z"
   },
   {
    "duration": 25,
    "start_time": "2022-08-03T11:50:25.154Z"
   },
   {
    "duration": 25,
    "start_time": "2022-08-03T11:50:25.181Z"
   },
   {
    "duration": 18855,
    "start_time": "2022-08-03T11:50:25.208Z"
   },
   {
    "duration": 14,
    "start_time": "2022-08-03T11:50:44.065Z"
   },
   {
    "duration": 5,
    "start_time": "2022-08-03T11:50:44.081Z"
   },
   {
    "duration": 6,
    "start_time": "2022-08-03T11:50:44.087Z"
   },
   {
    "duration": 174923,
    "start_time": "2022-08-03T11:50:44.095Z"
   },
   {
    "duration": 87,
    "start_time": "2022-08-03T11:53:39.019Z"
   },
   {
    "duration": 8,
    "start_time": "2022-08-03T11:53:39.107Z"
   },
   {
    "duration": 233,
    "start_time": "2022-08-03T11:53:39.117Z"
   },
   {
    "duration": 11,
    "start_time": "2022-08-03T11:53:39.352Z"
   },
   {
    "duration": 75,
    "start_time": "2022-08-03T12:00:07.815Z"
   },
   {
    "duration": 4,
    "start_time": "2022-08-03T12:04:04.459Z"
   }
  ],
  "kernelspec": {
   "display_name": "Python 3 (ipykernel)",
   "language": "python",
   "name": "python3"
  },
  "language_info": {
   "codemirror_mode": {
    "name": "ipython",
    "version": 3
   },
   "file_extension": ".py",
   "mimetype": "text/x-python",
   "name": "python",
   "nbconvert_exporter": "python",
   "pygments_lexer": "ipython3",
   "version": "3.10.0"
  },
  "toc": {
   "base_numbering": 1,
   "nav_menu": {
    "height": "83.987px",
    "width": "266.713px"
   },
   "number_sections": true,
   "sideBar": true,
   "skip_h1_title": true,
   "title_cell": "Table of Contents",
   "title_sidebar": "Contents",
   "toc_cell": false,
   "toc_position": {
    "height": "calc(100% - 180px)",
    "left": "10px",
    "top": "150px",
    "width": "165px"
   },
   "toc_section_display": true,
   "toc_window_display": false
  }
 },
 "nbformat": 4,
 "nbformat_minor": 5
}
