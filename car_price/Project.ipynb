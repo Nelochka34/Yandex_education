{
 "cells": [
  {
   "cell_type": "markdown",
   "metadata": {},
   "source": [
    "## Загрузка и подготовка данных"
   ]
  },
  {
   "cell_type": "code",
   "execution_count": 1,
   "metadata": {},
   "outputs": [],
   "source": [
    "import pandas as pd #импортируем библиотеки\n",
    "import numpy as np\n",
    "from sklearn.model_selection import train_test_split\n",
    "from sklearn.linear_model import LinearRegression\n",
    "from sklearn.preprocessing import OrdinalEncoder\n",
    "from sklearn.preprocessing import OneHotEncoder\n",
    "from sklearn.metrics import mean_squared_error\n",
    "from sklearn.tree import DecisionTreeRegressor\n",
    "from sklearn.model_selection import GridSearchCV\n",
    "from catboost import CatBoostRegressor\n",
    "from lightgbm import LGBMRegressor\n",
    "import time\n",
    "from sklearn import preprocessing\n",
    "import lightgbm as ltb\n",
    "from sklearn.preprocessing import StandardScaler"
   ]
  },
  {
   "cell_type": "code",
   "execution_count": 2,
   "metadata": {},
   "outputs": [],
   "source": [
    "try: \n",
    "    df = pd.read_csv('/datasets/autos.csv')\n",
    "except: \n",
    "    df = pd.read_csv(\"autos.csv\")"
   ]
  },
  {
   "cell_type": "code",
   "execution_count": 3,
   "metadata": {},
   "outputs": [
    {
     "name": "stdout",
     "output_type": "stream",
     "text": [
      "<class 'pandas.core.frame.DataFrame'>\n",
      "RangeIndex: 354369 entries, 0 to 354368\n",
      "Data columns (total 16 columns):\n",
      " #   Column             Non-Null Count   Dtype \n",
      "---  ------             --------------   ----- \n",
      " 0   DateCrawled        354369 non-null  object\n",
      " 1   Price              354369 non-null  int64 \n",
      " 2   VehicleType        316879 non-null  object\n",
      " 3   RegistrationYear   354369 non-null  int64 \n",
      " 4   Gearbox            334536 non-null  object\n",
      " 5   Power              354369 non-null  int64 \n",
      " 6   Model              334664 non-null  object\n",
      " 7   Kilometer          354369 non-null  int64 \n",
      " 8   RegistrationMonth  354369 non-null  int64 \n",
      " 9   FuelType           321474 non-null  object\n",
      " 10  Brand              354369 non-null  object\n",
      " 11  NotRepaired        283215 non-null  object\n",
      " 12  DateCreated        354369 non-null  object\n",
      " 13  NumberOfPictures   354369 non-null  int64 \n",
      " 14  PostalCode         354369 non-null  int64 \n",
      " 15  LastSeen           354369 non-null  object\n",
      "dtypes: int64(7), object(9)\n",
      "memory usage: 43.3+ MB\n"
     ]
    }
   ],
   "source": [
    "df.info() # получим общую информацю об импортируемых данных"
   ]
  },
  {
   "cell_type": "code",
   "execution_count": 4,
   "metadata": {},
   "outputs": [
    {
     "data": {
      "text/html": [
       "<div>\n",
       "<style scoped>\n",
       "    .dataframe tbody tr th:only-of-type {\n",
       "        vertical-align: middle;\n",
       "    }\n",
       "\n",
       "    .dataframe tbody tr th {\n",
       "        vertical-align: top;\n",
       "    }\n",
       "\n",
       "    .dataframe thead th {\n",
       "        text-align: right;\n",
       "    }\n",
       "</style>\n",
       "<table border=\"1\" class=\"dataframe\">\n",
       "  <thead>\n",
       "    <tr style=\"text-align: right;\">\n",
       "      <th></th>\n",
       "      <th>DateCrawled</th>\n",
       "      <th>Price</th>\n",
       "      <th>VehicleType</th>\n",
       "      <th>RegistrationYear</th>\n",
       "      <th>Gearbox</th>\n",
       "      <th>Power</th>\n",
       "      <th>Model</th>\n",
       "      <th>Kilometer</th>\n",
       "      <th>RegistrationMonth</th>\n",
       "      <th>FuelType</th>\n",
       "      <th>Brand</th>\n",
       "      <th>NotRepaired</th>\n",
       "      <th>DateCreated</th>\n",
       "      <th>NumberOfPictures</th>\n",
       "      <th>PostalCode</th>\n",
       "      <th>LastSeen</th>\n",
       "    </tr>\n",
       "  </thead>\n",
       "  <tbody>\n",
       "    <tr>\n",
       "      <th>0</th>\n",
       "      <td>2016-03-24 11:52:17</td>\n",
       "      <td>480</td>\n",
       "      <td>NaN</td>\n",
       "      <td>1993</td>\n",
       "      <td>manual</td>\n",
       "      <td>0</td>\n",
       "      <td>golf</td>\n",
       "      <td>150000</td>\n",
       "      <td>0</td>\n",
       "      <td>petrol</td>\n",
       "      <td>volkswagen</td>\n",
       "      <td>NaN</td>\n",
       "      <td>2016-03-24 00:00:00</td>\n",
       "      <td>0</td>\n",
       "      <td>70435</td>\n",
       "      <td>2016-04-07 03:16:57</td>\n",
       "    </tr>\n",
       "    <tr>\n",
       "      <th>1</th>\n",
       "      <td>2016-03-24 10:58:45</td>\n",
       "      <td>18300</td>\n",
       "      <td>coupe</td>\n",
       "      <td>2011</td>\n",
       "      <td>manual</td>\n",
       "      <td>190</td>\n",
       "      <td>NaN</td>\n",
       "      <td>125000</td>\n",
       "      <td>5</td>\n",
       "      <td>gasoline</td>\n",
       "      <td>audi</td>\n",
       "      <td>yes</td>\n",
       "      <td>2016-03-24 00:00:00</td>\n",
       "      <td>0</td>\n",
       "      <td>66954</td>\n",
       "      <td>2016-04-07 01:46:50</td>\n",
       "    </tr>\n",
       "    <tr>\n",
       "      <th>2</th>\n",
       "      <td>2016-03-14 12:52:21</td>\n",
       "      <td>9800</td>\n",
       "      <td>suv</td>\n",
       "      <td>2004</td>\n",
       "      <td>auto</td>\n",
       "      <td>163</td>\n",
       "      <td>grand</td>\n",
       "      <td>125000</td>\n",
       "      <td>8</td>\n",
       "      <td>gasoline</td>\n",
       "      <td>jeep</td>\n",
       "      <td>NaN</td>\n",
       "      <td>2016-03-14 00:00:00</td>\n",
       "      <td>0</td>\n",
       "      <td>90480</td>\n",
       "      <td>2016-04-05 12:47:46</td>\n",
       "    </tr>\n",
       "    <tr>\n",
       "      <th>3</th>\n",
       "      <td>2016-03-17 16:54:04</td>\n",
       "      <td>1500</td>\n",
       "      <td>small</td>\n",
       "      <td>2001</td>\n",
       "      <td>manual</td>\n",
       "      <td>75</td>\n",
       "      <td>golf</td>\n",
       "      <td>150000</td>\n",
       "      <td>6</td>\n",
       "      <td>petrol</td>\n",
       "      <td>volkswagen</td>\n",
       "      <td>no</td>\n",
       "      <td>2016-03-17 00:00:00</td>\n",
       "      <td>0</td>\n",
       "      <td>91074</td>\n",
       "      <td>2016-03-17 17:40:17</td>\n",
       "    </tr>\n",
       "    <tr>\n",
       "      <th>4</th>\n",
       "      <td>2016-03-31 17:25:20</td>\n",
       "      <td>3600</td>\n",
       "      <td>small</td>\n",
       "      <td>2008</td>\n",
       "      <td>manual</td>\n",
       "      <td>69</td>\n",
       "      <td>fabia</td>\n",
       "      <td>90000</td>\n",
       "      <td>7</td>\n",
       "      <td>gasoline</td>\n",
       "      <td>skoda</td>\n",
       "      <td>no</td>\n",
       "      <td>2016-03-31 00:00:00</td>\n",
       "      <td>0</td>\n",
       "      <td>60437</td>\n",
       "      <td>2016-04-06 10:17:21</td>\n",
       "    </tr>\n",
       "  </tbody>\n",
       "</table>\n",
       "</div>"
      ],
      "text/plain": [
       "           DateCrawled  Price VehicleType  RegistrationYear Gearbox  Power  \\\n",
       "0  2016-03-24 11:52:17    480         NaN              1993  manual      0   \n",
       "1  2016-03-24 10:58:45  18300       coupe              2011  manual    190   \n",
       "2  2016-03-14 12:52:21   9800         suv              2004    auto    163   \n",
       "3  2016-03-17 16:54:04   1500       small              2001  manual     75   \n",
       "4  2016-03-31 17:25:20   3600       small              2008  manual     69   \n",
       "\n",
       "   Model  Kilometer  RegistrationMonth  FuelType       Brand NotRepaired  \\\n",
       "0   golf     150000                  0    petrol  volkswagen         NaN   \n",
       "1    NaN     125000                  5  gasoline        audi         yes   \n",
       "2  grand     125000                  8  gasoline        jeep         NaN   \n",
       "3   golf     150000                  6    petrol  volkswagen          no   \n",
       "4  fabia      90000                  7  gasoline       skoda          no   \n",
       "\n",
       "           DateCreated  NumberOfPictures  PostalCode             LastSeen  \n",
       "0  2016-03-24 00:00:00                 0       70435  2016-04-07 03:16:57  \n",
       "1  2016-03-24 00:00:00                 0       66954  2016-04-07 01:46:50  \n",
       "2  2016-03-14 00:00:00                 0       90480  2016-04-05 12:47:46  \n",
       "3  2016-03-17 00:00:00                 0       91074  2016-03-17 17:40:17  \n",
       "4  2016-03-31 00:00:00                 0       60437  2016-04-06 10:17:21  "
      ]
     },
     "execution_count": 4,
     "metadata": {},
     "output_type": "execute_result"
    }
   ],
   "source": [
    "df.head(5)"
   ]
  },
  {
   "cell_type": "code",
   "execution_count": 5,
   "metadata": {},
   "outputs": [],
   "source": [
    "df.columns = df.columns.str.lower() # Заменим названия столбцов (приведем к нижнему регистру)"
   ]
  },
  {
   "cell_type": "code",
   "execution_count": 6,
   "metadata": {},
   "outputs": [
    {
     "name": "stdout",
     "output_type": "stream",
     "text": [
      "<class 'pandas.core.frame.DataFrame'>\n",
      "RangeIndex: 354369 entries, 0 to 354368\n",
      "Data columns (total 16 columns):\n",
      " #   Column             Non-Null Count   Dtype \n",
      "---  ------             --------------   ----- \n",
      " 0   datecrawled        354369 non-null  object\n",
      " 1   price              354369 non-null  int64 \n",
      " 2   vehicletype        316879 non-null  object\n",
      " 3   registrationyear   354369 non-null  int64 \n",
      " 4   gearbox            334536 non-null  object\n",
      " 5   power              354369 non-null  int64 \n",
      " 6   model              334664 non-null  object\n",
      " 7   kilometer          354369 non-null  int64 \n",
      " 8   registrationmonth  354369 non-null  int64 \n",
      " 9   fueltype           321474 non-null  object\n",
      " 10  brand              354369 non-null  object\n",
      " 11  notrepaired        283215 non-null  object\n",
      " 12  datecreated        354369 non-null  object\n",
      " 13  numberofpictures   354369 non-null  int64 \n",
      " 14  postalcode         354369 non-null  int64 \n",
      " 15  lastseen           354369 non-null  object\n",
      "dtypes: int64(7), object(9)\n",
      "memory usage: 43.3+ MB\n"
     ]
    }
   ],
   "source": [
    "df.info()"
   ]
  },
  {
   "cell_type": "markdown",
   "metadata": {},
   "source": [
    "### Описание данных"
   ]
  },
  {
   "cell_type": "markdown",
   "metadata": {},
   "source": [
    "Признак \"PostalCode\" не имеет значения для дальнейших вычислений (не несет информативной цености), удалим его:"
   ]
  },
  {
   "cell_type": "code",
   "execution_count": 7,
   "metadata": {},
   "outputs": [],
   "source": [
    "df = df.drop('postalcode', axis=1)"
   ]
  },
  {
   "cell_type": "markdown",
   "metadata": {},
   "source": [
    "Приведем признаки \"datecreated\", \"lastseen\" к формату Даты: "
   ]
  },
  {
   "cell_type": "code",
   "execution_count": 8,
   "metadata": {},
   "outputs": [],
   "source": [
    "df[\"datecreated\"] = pd.to_datetime(df[\"datecreated\"])"
   ]
  },
  {
   "cell_type": "code",
   "execution_count": 9,
   "metadata": {},
   "outputs": [],
   "source": [
    "df[\"lastseen\"] = pd.to_datetime(df[\"lastseen\"])"
   ]
  },
  {
   "cell_type": "code",
   "execution_count": 10,
   "metadata": {},
   "outputs": [
    {
     "data": {
      "text/html": [
       "<div>\n",
       "<style scoped>\n",
       "    .dataframe tbody tr th:only-of-type {\n",
       "        vertical-align: middle;\n",
       "    }\n",
       "\n",
       "    .dataframe tbody tr th {\n",
       "        vertical-align: top;\n",
       "    }\n",
       "\n",
       "    .dataframe thead th {\n",
       "        text-align: right;\n",
       "    }\n",
       "</style>\n",
       "<table border=\"1\" class=\"dataframe\">\n",
       "  <thead>\n",
       "    <tr style=\"text-align: right;\">\n",
       "      <th></th>\n",
       "      <th>datecrawled</th>\n",
       "      <th>price</th>\n",
       "      <th>vehicletype</th>\n",
       "      <th>registrationyear</th>\n",
       "      <th>gearbox</th>\n",
       "      <th>power</th>\n",
       "      <th>model</th>\n",
       "      <th>kilometer</th>\n",
       "      <th>registrationmonth</th>\n",
       "      <th>fueltype</th>\n",
       "      <th>brand</th>\n",
       "      <th>notrepaired</th>\n",
       "      <th>datecreated</th>\n",
       "      <th>numberofpictures</th>\n",
       "      <th>lastseen</th>\n",
       "    </tr>\n",
       "  </thead>\n",
       "  <tbody>\n",
       "    <tr>\n",
       "      <th>0</th>\n",
       "      <td>2016-03-24 11:52:17</td>\n",
       "      <td>480</td>\n",
       "      <td>NaN</td>\n",
       "      <td>1993</td>\n",
       "      <td>manual</td>\n",
       "      <td>0</td>\n",
       "      <td>golf</td>\n",
       "      <td>150000</td>\n",
       "      <td>0</td>\n",
       "      <td>petrol</td>\n",
       "      <td>volkswagen</td>\n",
       "      <td>NaN</td>\n",
       "      <td>2016-03-24</td>\n",
       "      <td>0</td>\n",
       "      <td>2016-04-07 03:16:57</td>\n",
       "    </tr>\n",
       "    <tr>\n",
       "      <th>1</th>\n",
       "      <td>2016-03-24 10:58:45</td>\n",
       "      <td>18300</td>\n",
       "      <td>coupe</td>\n",
       "      <td>2011</td>\n",
       "      <td>manual</td>\n",
       "      <td>190</td>\n",
       "      <td>NaN</td>\n",
       "      <td>125000</td>\n",
       "      <td>5</td>\n",
       "      <td>gasoline</td>\n",
       "      <td>audi</td>\n",
       "      <td>yes</td>\n",
       "      <td>2016-03-24</td>\n",
       "      <td>0</td>\n",
       "      <td>2016-04-07 01:46:50</td>\n",
       "    </tr>\n",
       "    <tr>\n",
       "      <th>2</th>\n",
       "      <td>2016-03-14 12:52:21</td>\n",
       "      <td>9800</td>\n",
       "      <td>suv</td>\n",
       "      <td>2004</td>\n",
       "      <td>auto</td>\n",
       "      <td>163</td>\n",
       "      <td>grand</td>\n",
       "      <td>125000</td>\n",
       "      <td>8</td>\n",
       "      <td>gasoline</td>\n",
       "      <td>jeep</td>\n",
       "      <td>NaN</td>\n",
       "      <td>2016-03-14</td>\n",
       "      <td>0</td>\n",
       "      <td>2016-04-05 12:47:46</td>\n",
       "    </tr>\n",
       "    <tr>\n",
       "      <th>3</th>\n",
       "      <td>2016-03-17 16:54:04</td>\n",
       "      <td>1500</td>\n",
       "      <td>small</td>\n",
       "      <td>2001</td>\n",
       "      <td>manual</td>\n",
       "      <td>75</td>\n",
       "      <td>golf</td>\n",
       "      <td>150000</td>\n",
       "      <td>6</td>\n",
       "      <td>petrol</td>\n",
       "      <td>volkswagen</td>\n",
       "      <td>no</td>\n",
       "      <td>2016-03-17</td>\n",
       "      <td>0</td>\n",
       "      <td>2016-03-17 17:40:17</td>\n",
       "    </tr>\n",
       "    <tr>\n",
       "      <th>4</th>\n",
       "      <td>2016-03-31 17:25:20</td>\n",
       "      <td>3600</td>\n",
       "      <td>small</td>\n",
       "      <td>2008</td>\n",
       "      <td>manual</td>\n",
       "      <td>69</td>\n",
       "      <td>fabia</td>\n",
       "      <td>90000</td>\n",
       "      <td>7</td>\n",
       "      <td>gasoline</td>\n",
       "      <td>skoda</td>\n",
       "      <td>no</td>\n",
       "      <td>2016-03-31</td>\n",
       "      <td>0</td>\n",
       "      <td>2016-04-06 10:17:21</td>\n",
       "    </tr>\n",
       "  </tbody>\n",
       "</table>\n",
       "</div>"
      ],
      "text/plain": [
       "           datecrawled  price vehicletype  registrationyear gearbox  power  \\\n",
       "0  2016-03-24 11:52:17    480         NaN              1993  manual      0   \n",
       "1  2016-03-24 10:58:45  18300       coupe              2011  manual    190   \n",
       "2  2016-03-14 12:52:21   9800         suv              2004    auto    163   \n",
       "3  2016-03-17 16:54:04   1500       small              2001  manual     75   \n",
       "4  2016-03-31 17:25:20   3600       small              2008  manual     69   \n",
       "\n",
       "   model  kilometer  registrationmonth  fueltype       brand notrepaired  \\\n",
       "0   golf     150000                  0    petrol  volkswagen         NaN   \n",
       "1    NaN     125000                  5  gasoline        audi         yes   \n",
       "2  grand     125000                  8  gasoline        jeep         NaN   \n",
       "3   golf     150000                  6    petrol  volkswagen          no   \n",
       "4  fabia      90000                  7  gasoline       skoda          no   \n",
       "\n",
       "  datecreated  numberofpictures            lastseen  \n",
       "0  2016-03-24                 0 2016-04-07 03:16:57  \n",
       "1  2016-03-24                 0 2016-04-07 01:46:50  \n",
       "2  2016-03-14                 0 2016-04-05 12:47:46  \n",
       "3  2016-03-17                 0 2016-03-17 17:40:17  \n",
       "4  2016-03-31                 0 2016-04-06 10:17:21  "
      ]
     },
     "execution_count": 10,
     "metadata": {},
     "output_type": "execute_result"
    }
   ],
   "source": [
    "df.head()"
   ]
  },
  {
   "cell_type": "markdown",
   "metadata": {},
   "source": [
    "Проверим имеются ли пропуски в значениях:"
   ]
  },
  {
   "cell_type": "code",
   "execution_count": 11,
   "metadata": {},
   "outputs": [
    {
     "data": {
      "text/plain": [
       "datecrawled              0\n",
       "price                    0\n",
       "vehicletype          37490\n",
       "registrationyear         0\n",
       "gearbox              19833\n",
       "power                    0\n",
       "model                19705\n",
       "kilometer                0\n",
       "registrationmonth        0\n",
       "fueltype             32895\n",
       "brand                    0\n",
       "notrepaired          71154\n",
       "datecreated              0\n",
       "numberofpictures         0\n",
       "lastseen                 0\n",
       "dtype: int64"
      ]
     },
     "execution_count": 11,
     "metadata": {},
     "output_type": "execute_result"
    }
   ],
   "source": [
    "df.isnull().sum()"
   ]
  },
  {
   "cell_type": "markdown",
   "metadata": {},
   "source": [
    "Обработка пропусков значений: "
   ]
  },
  {
   "cell_type": "markdown",
   "metadata": {},
   "source": [
    "    - введем новую категорию unknown (неизвестно) и заменим на нее пропуски в признаках \"vehicletype\", \"model\",\n",
    "    \"notrepaired\", \"gearbox\", \"fueltype\". "
   ]
  },
  {
   "cell_type": "code",
   "execution_count": 12,
   "metadata": {},
   "outputs": [],
   "source": [
    "df[\"vehicletype\"] = df[\"vehicletype\"].fillna(\"unknown\")"
   ]
  },
  {
   "cell_type": "code",
   "execution_count": 13,
   "metadata": {},
   "outputs": [],
   "source": [
    "df[\"model\"] = df[\"model\"].fillna(\"unknown\")"
   ]
  },
  {
   "cell_type": "code",
   "execution_count": 14,
   "metadata": {},
   "outputs": [],
   "source": [
    "df[\"notrepaired\"] = df[\"notrepaired\"].fillna(\"unknown\")"
   ]
  },
  {
   "cell_type": "code",
   "execution_count": 15,
   "metadata": {},
   "outputs": [],
   "source": [
    "df[\"gearbox\"] = df[\"gearbox\"].fillna(\"unknown\")"
   ]
  },
  {
   "cell_type": "code",
   "execution_count": 16,
   "metadata": {},
   "outputs": [],
   "source": [
    "df[\"fueltype\"] = df[\"fueltype\"].fillna(\"unknown\")"
   ]
  },
  {
   "cell_type": "code",
   "execution_count": 17,
   "metadata": {},
   "outputs": [
    {
     "data": {
      "text/plain": [
       "datecrawled          0\n",
       "price                0\n",
       "vehicletype          0\n",
       "registrationyear     0\n",
       "gearbox              0\n",
       "power                0\n",
       "model                0\n",
       "kilometer            0\n",
       "registrationmonth    0\n",
       "fueltype             0\n",
       "brand                0\n",
       "notrepaired          0\n",
       "datecreated          0\n",
       "numberofpictures     0\n",
       "lastseen             0\n",
       "dtype: int64"
      ]
     },
     "execution_count": 17,
     "metadata": {},
     "output_type": "execute_result"
    }
   ],
   "source": [
    "df.isnull().sum() # проверим"
   ]
  },
  {
   "cell_type": "code",
   "execution_count": 18,
   "metadata": {},
   "outputs": [
    {
     "data": {
      "text/html": [
       "<div>\n",
       "<style scoped>\n",
       "    .dataframe tbody tr th:only-of-type {\n",
       "        vertical-align: middle;\n",
       "    }\n",
       "\n",
       "    .dataframe tbody tr th {\n",
       "        vertical-align: top;\n",
       "    }\n",
       "\n",
       "    .dataframe thead th {\n",
       "        text-align: right;\n",
       "    }\n",
       "</style>\n",
       "<table border=\"1\" class=\"dataframe\">\n",
       "  <thead>\n",
       "    <tr style=\"text-align: right;\">\n",
       "      <th></th>\n",
       "      <th>price</th>\n",
       "      <th>registrationyear</th>\n",
       "      <th>power</th>\n",
       "      <th>kilometer</th>\n",
       "      <th>registrationmonth</th>\n",
       "      <th>numberofpictures</th>\n",
       "    </tr>\n",
       "  </thead>\n",
       "  <tbody>\n",
       "    <tr>\n",
       "      <th>count</th>\n",
       "      <td>354369.000000</td>\n",
       "      <td>354369.000000</td>\n",
       "      <td>354369.000000</td>\n",
       "      <td>354369.000000</td>\n",
       "      <td>354369.000000</td>\n",
       "      <td>354369.0</td>\n",
       "    </tr>\n",
       "    <tr>\n",
       "      <th>mean</th>\n",
       "      <td>4416.656776</td>\n",
       "      <td>2004.234448</td>\n",
       "      <td>110.094337</td>\n",
       "      <td>128211.172535</td>\n",
       "      <td>5.714645</td>\n",
       "      <td>0.0</td>\n",
       "    </tr>\n",
       "    <tr>\n",
       "      <th>std</th>\n",
       "      <td>4514.158514</td>\n",
       "      <td>90.227958</td>\n",
       "      <td>189.850405</td>\n",
       "      <td>37905.341530</td>\n",
       "      <td>3.726421</td>\n",
       "      <td>0.0</td>\n",
       "    </tr>\n",
       "    <tr>\n",
       "      <th>min</th>\n",
       "      <td>0.000000</td>\n",
       "      <td>1000.000000</td>\n",
       "      <td>0.000000</td>\n",
       "      <td>5000.000000</td>\n",
       "      <td>0.000000</td>\n",
       "      <td>0.0</td>\n",
       "    </tr>\n",
       "    <tr>\n",
       "      <th>25%</th>\n",
       "      <td>1050.000000</td>\n",
       "      <td>1999.000000</td>\n",
       "      <td>69.000000</td>\n",
       "      <td>125000.000000</td>\n",
       "      <td>3.000000</td>\n",
       "      <td>0.0</td>\n",
       "    </tr>\n",
       "    <tr>\n",
       "      <th>50%</th>\n",
       "      <td>2700.000000</td>\n",
       "      <td>2003.000000</td>\n",
       "      <td>105.000000</td>\n",
       "      <td>150000.000000</td>\n",
       "      <td>6.000000</td>\n",
       "      <td>0.0</td>\n",
       "    </tr>\n",
       "    <tr>\n",
       "      <th>75%</th>\n",
       "      <td>6400.000000</td>\n",
       "      <td>2008.000000</td>\n",
       "      <td>143.000000</td>\n",
       "      <td>150000.000000</td>\n",
       "      <td>9.000000</td>\n",
       "      <td>0.0</td>\n",
       "    </tr>\n",
       "    <tr>\n",
       "      <th>max</th>\n",
       "      <td>20000.000000</td>\n",
       "      <td>9999.000000</td>\n",
       "      <td>20000.000000</td>\n",
       "      <td>150000.000000</td>\n",
       "      <td>12.000000</td>\n",
       "      <td>0.0</td>\n",
       "    </tr>\n",
       "  </tbody>\n",
       "</table>\n",
       "</div>"
      ],
      "text/plain": [
       "               price  registrationyear          power      kilometer  \\\n",
       "count  354369.000000     354369.000000  354369.000000  354369.000000   \n",
       "mean     4416.656776       2004.234448     110.094337  128211.172535   \n",
       "std      4514.158514         90.227958     189.850405   37905.341530   \n",
       "min         0.000000       1000.000000       0.000000    5000.000000   \n",
       "25%      1050.000000       1999.000000      69.000000  125000.000000   \n",
       "50%      2700.000000       2003.000000     105.000000  150000.000000   \n",
       "75%      6400.000000       2008.000000     143.000000  150000.000000   \n",
       "max     20000.000000       9999.000000   20000.000000  150000.000000   \n",
       "\n",
       "       registrationmonth  numberofpictures  \n",
       "count      354369.000000          354369.0  \n",
       "mean            5.714645               0.0  \n",
       "std             3.726421               0.0  \n",
       "min             0.000000               0.0  \n",
       "25%             3.000000               0.0  \n",
       "50%             6.000000               0.0  \n",
       "75%             9.000000               0.0  \n",
       "max            12.000000               0.0  "
      ]
     },
     "execution_count": 18,
     "metadata": {},
     "output_type": "execute_result"
    }
   ],
   "source": [
    "df.describe() # оценим статистические данные"
   ]
  },
  {
   "cell_type": "markdown",
   "metadata": {},
   "source": [
    "Заметим, что \"numberofpictures\" все время равно 0. Также удалим этот столбец, т.к не предствляет значения."
   ]
  },
  {
   "cell_type": "code",
   "execution_count": 19,
   "metadata": {},
   "outputs": [],
   "source": [
    "df = df.drop('numberofpictures', axis=1)"
   ]
  },
  {
   "cell_type": "markdown",
   "metadata": {},
   "source": [
    "Избавимся от выбросов:"
   ]
  },
  {
   "cell_type": "code",
   "execution_count": 20,
   "metadata": {},
   "outputs": [],
   "source": [
    "df_pivot = df.pivot_table(index= 'registrationyear', values = 'model', aggfunc = 'count') \n",
    "# постороим зависимость количества моделей от года регстрации автомобиля."
   ]
  },
  {
   "cell_type": "code",
   "execution_count": 21,
   "metadata": {},
   "outputs": [],
   "source": [
    "#<font color=\"red\">❌ Комментарий ревьювера    У тебя не было импорта</font>\n",
    "import matplotlib.pyplot as plt "
   ]
  },
  {
   "cell_type": "code",
   "execution_count": 22,
   "metadata": {},
   "outputs": [
    {
     "data": {
      "image/png": "[encoded data removed]",
      "text/plain": [
       "<Figure size 1440x720 with 1 Axes>"
      ]
     },
     "metadata": {
      "needs_background": "light"
     },
     "output_type": "display_data"
    }
   ],
   "source": [
    "df_pivot.plot(figsize =(20,10), grid = True)\n",
    "plt.show()"
   ]
  },
  {
   "cell_type": "markdown",
   "metadata": {},
   "source": [
    "Видим, что присутствует большое количество выбросов: ограничимся интервалом года выпуска от 1970 до 2017: "
   ]
  },
  {
   "cell_type": "code",
   "execution_count": 23,
   "metadata": {},
   "outputs": [],
   "source": [
    "df = df.query('registrationyear <= 2017 and registrationyear >= 1970')"
   ]
  },
  {
   "cell_type": "code",
   "execution_count": 24,
   "metadata": {},
   "outputs": [
    {
     "data": {
      "text/plain": [
       "2017"
      ]
     },
     "execution_count": 24,
     "metadata": {},
     "output_type": "execute_result"
    }
   ],
   "source": [
    "df[\"registrationyear\"].max()"
   ]
  },
  {
   "cell_type": "code",
   "execution_count": 25,
   "metadata": {},
   "outputs": [],
   "source": [
    "df_pivot2 = df.pivot_table(index= 'registrationyear', values = 'model', aggfunc = 'count') \n",
    "# постороим зависимость количества моделей от года регстрации автомобиля."
   ]
  },
  {
   "cell_type": "code",
   "execution_count": 26,
   "metadata": {},
   "outputs": [
    {
     "data": {
      "image/png": "[encoded data removed]",
      "text/plain": [
       "<Figure size 1440x720 with 1 Axes>"
      ]
     },
     "metadata": {
      "needs_background": "light"
     },
     "output_type": "display_data"
    }
   ],
   "source": [
    "df_pivot2.plot(figsize =(20,10), grid = True)\n",
    "plt.show()"
   ]
  },
  {
   "cell_type": "markdown",
   "metadata": {},
   "source": [
    "Аналогично постоим зависимость количества моделей от мощности двигателя."
   ]
  },
  {
   "cell_type": "code",
   "execution_count": 27,
   "metadata": {},
   "outputs": [],
   "source": [
    "df_power = df.pivot_table(index= 'power', values = 'model', aggfunc = 'count') \n",
    "# постороим зависимость количества моделей от мощности автомобиля."
   ]
  },
  {
   "cell_type": "code",
   "execution_count": 28,
   "metadata": {},
   "outputs": [
    {
     "data": {
      "image/png": "[encoded data removed]",
      "text/plain": [
       "<Figure size 1440x720 with 1 Axes>"
      ]
     },
     "metadata": {
      "needs_background": "light"
     },
     "output_type": "display_data"
    }
   ],
   "source": [
    "df_power.plot(figsize =(20,10), grid = True)\n",
    "plt.show()"
   ]
  },
  {
   "cell_type": "markdown",
   "metadata": {},
   "source": [
    "Видим, что также писутствуют выбросы. Ограничим мощность двигателя. "
   ]
  },
  {
   "cell_type": "code",
   "execution_count": 29,
   "metadata": {},
   "outputs": [],
   "source": [
    "df = df.query('power <= 350 and power >= 50')"
   ]
  },
  {
   "cell_type": "code",
   "execution_count": 30,
   "metadata": {},
   "outputs": [],
   "source": [
    "df_power2 = df.pivot_table(index= 'power', values = 'model', aggfunc = 'count') "
   ]
  },
  {
   "cell_type": "code",
   "execution_count": 31,
   "metadata": {},
   "outputs": [
    {
     "data": {
      "image/png": "[encoded data removed]",
      "text/plain": [
       "<Figure size 1440x720 with 1 Axes>"
      ]
     },
     "metadata": {
      "needs_background": "light"
     },
     "output_type": "display_data"
    }
   ],
   "source": [
    "df_power2.plot(figsize =(20,10), grid = True)\n",
    "plt.show()"
   ]
  },
  {
   "cell_type": "markdown",
   "metadata": {},
   "source": [
    "<font color=\"green\">✔️ Комментарий ревьювера   \n",
    "Хорошо, согласен.  </font>\n"
   ]
  },
  {
   "cell_type": "markdown",
   "metadata": {},
   "source": [
    "Избавились от выбросов. Далее выберем значения, где год регитсрации автомобиля не превышает дату создания анкеты. "
   ]
  },
  {
   "cell_type": "code",
   "execution_count": 32,
   "metadata": {},
   "outputs": [],
   "source": [
    "df[\"year_created\"] = pd.DatetimeIndex(df[\"datecreated\"]).year # создадим столбец год создания анкеты"
   ]
  },
  {
   "cell_type": "markdown",
   "metadata": {},
   "source": [
    "Определим имеются ли значения: где год регистрации автомобиля \"registrationyear\" позже, чем год создания анкеты \"year_created\":"
   ]
  },
  {
   "cell_type": "code",
   "execution_count": 33,
   "metadata": {},
   "outputs": [
    {
     "data": {
      "text/plain": [
       "(7573, 15)"
      ]
     },
     "execution_count": 33,
     "metadata": {},
     "output_type": "execute_result"
    }
   ],
   "source": [
    "df_year = df.query('registrationyear > year_created')\n",
    "df_year.shape"
   ]
  },
  {
   "cell_type": "markdown",
   "metadata": {},
   "source": [
    "Получили вывод, в данных имеются ошибки: год регистрации автомобиля позже, чем создания анкеты. Удалим из общего DF подобные значения:"
   ]
  },
  {
   "cell_type": "code",
   "execution_count": 34,
   "metadata": {},
   "outputs": [
    {
     "data": {
      "text/plain": [
       "(295995, 15)"
      ]
     },
     "execution_count": 34,
     "metadata": {},
     "output_type": "execute_result"
    }
   ],
   "source": [
    "df_all = df.query('registrationyear <= year_created') # получили реальные данные\n",
    "df_all.shape"
   ]
  },
  {
   "cell_type": "code",
   "execution_count": 35,
   "metadata": {},
   "outputs": [],
   "source": [
    "df_all = df_all.drop(\"year_created\", axis=1) # удалим вспомогательный столбец"
   ]
  },
  {
   "cell_type": "markdown",
   "metadata": {},
   "source": [
    "Признаки \"datecrawled\", \"datecreated\", \"lastseen\" удалим, так как они бесполезны с точки зрения анализа и постороения модели. "
   ]
  },
  {
   "cell_type": "code",
   "execution_count": 36,
   "metadata": {},
   "outputs": [],
   "source": [
    "df_all = df_all.drop(columns = ['datecrawled', 'datecreated', 'lastseen'])"
   ]
  },
  {
   "cell_type": "markdown",
   "metadata": {},
   "source": [
    "Кодирование данных:"
   ]
  },
  {
   "cell_type": "code",
   "execution_count": 37,
   "metadata": {},
   "outputs": [
    {
     "data": {
      "text/plain": [
       "<function matplotlib.pyplot.show(close=None, block=None)>"
      ]
     },
     "execution_count": 37,
     "metadata": {},
     "output_type": "execute_result"
    },
    {
     "data": {
      "image/png": "[encoded data removed]",
      "text/plain": [
       "<Figure size 864x576 with 1 Axes>"
      ]
     },
     "metadata": {
      "needs_background": "light"
     },
     "output_type": "display_data"
    }
   ],
   "source": [
    "df_all[\"price\"].hist(bins = 100, figsize=(12, 8)) # построим Гистограмму распределения цены. \n",
    "plt.show"
   ]
  },
  {
   "cell_type": "markdown",
   "metadata": {},
   "source": [
    "Избавимся от значений цены = 0. Видимо, эти поля были не заполены. "
   ]
  },
  {
   "cell_type": "code",
   "execution_count": 38,
   "metadata": {},
   "outputs": [
    {
     "data": {
      "text/plain": [
       "(6146, 11)"
      ]
     },
     "execution_count": 38,
     "metadata": {},
     "output_type": "execute_result"
    }
   ],
   "source": [
    "df_null = df_all[df_all[\"price\"] == 0]\n",
    "df_null.shape # аж 6146 значений цены равной 0. Удалим эти значения"
   ]
  },
  {
   "cell_type": "code",
   "execution_count": 39,
   "metadata": {},
   "outputs": [
    {
     "data": {
      "text/plain": [
       "(289849, 11)"
      ]
     },
     "execution_count": 39,
     "metadata": {},
     "output_type": "execute_result"
    }
   ],
   "source": [
    "df_all = df_all.query('price != 0')\n",
    "df_all.shape"
   ]
  },
  {
   "cell_type": "code",
   "execution_count": 40,
   "metadata": {},
   "outputs": [
    {
     "data": {
      "text/plain": [
       "(289849, 11)"
      ]
     },
     "execution_count": 40,
     "metadata": {},
     "output_type": "execute_result"
    }
   ],
   "source": [
    "df_all_uncoder = df_all.copy() # сохраним выборку, чтобы далее использовать ее не кодируя при Гридиентном бустинге\n",
    "df_all_uncoder.shape"
   ]
  },
  {
   "cell_type": "markdown",
   "metadata": {},
   "source": [
    "- для кодирования признаков \"model\" и  \"brand\" применим метод OrdinalEncoder: "
   ]
  },
  {
   "cell_type": "code",
   "execution_count": 41,
   "metadata": {},
   "outputs": [],
   "source": [
    "ord_enc = OrdinalEncoder()"
   ]
  },
  {
   "cell_type": "code",
   "execution_count": 42,
   "metadata": {},
   "outputs": [],
   "source": [
    "df_all[\"make_code_model\"] = ord_enc.fit_transform(df_all[[\"model\"]])"
   ]
  },
  {
   "cell_type": "code",
   "execution_count": 43,
   "metadata": {},
   "outputs": [],
   "source": [
    "df_all[\"make_code_brand\"] = ord_enc.fit_transform(df_all[[\"brand\"]])"
   ]
  },
  {
   "cell_type": "code",
   "execution_count": 44,
   "metadata": {},
   "outputs": [
    {
     "data": {
      "text/plain": [
       "(289849, 13)"
      ]
     },
     "execution_count": 44,
     "metadata": {},
     "output_type": "execute_result"
    }
   ],
   "source": [
    "df_all.shape"
   ]
  },
  {
   "cell_type": "code",
   "execution_count": 45,
   "metadata": {},
   "outputs": [
    {
     "name": "stdout",
     "output_type": "stream",
     "text": [
      "<class 'pandas.core.frame.DataFrame'>\n",
      "Int64Index: 289849 entries, 1 to 354368\n",
      "Data columns (total 13 columns):\n",
      " #   Column             Non-Null Count   Dtype  \n",
      "---  ------             --------------   -----  \n",
      " 0   price              289849 non-null  int64  \n",
      " 1   vehicletype        289849 non-null  object \n",
      " 2   registrationyear   289849 non-null  int64  \n",
      " 3   gearbox            289849 non-null  object \n",
      " 4   power              289849 non-null  int64  \n",
      " 5   model              289849 non-null  object \n",
      " 6   kilometer          289849 non-null  int64  \n",
      " 7   registrationmonth  289849 non-null  int64  \n",
      " 8   fueltype           289849 non-null  object \n",
      " 9   brand              289849 non-null  object \n",
      " 10  notrepaired        289849 non-null  object \n",
      " 11  make_code_model    289849 non-null  float64\n",
      " 12  make_code_brand    289849 non-null  float64\n",
      "dtypes: float64(2), int64(5), object(6)\n",
      "memory usage: 31.0+ MB\n"
     ]
    }
   ],
   "source": [
    "df_all.info()"
   ]
  },
  {
   "cell_type": "markdown",
   "metadata": {},
   "source": [
    "- для кодирования данных применим метод прямого кодирования (OHE), т.к. он применяется - для номинальных категорий."
   ]
  },
  {
   "cell_type": "code",
   "execution_count": 46,
   "metadata": {},
   "outputs": [],
   "source": [
    "#column_ore = [\"model\", \"brand\"]\n",
    "#column_ohe = [\"vehicletype\", \"gearbox\", \"fueltype\", \"notrepaired\"]\n",
    "#df_all[column_ore] = ord_enc.fit_transform(df_all[column_ore])\n",
    "\n",
    "#df_all = pd.get_dummies(df_all, columns=column_ohe, drop_first=True)\n",
    "#df_all.head()"
   ]
  },
  {
   "cell_type": "code",
   "execution_count": 47,
   "metadata": {},
   "outputs": [],
   "source": [
    "data_ohe_pred = df_all[[\"vehicletype\", \"gearbox\", \"fueltype\", \"notrepaired\"]]"
   ]
  },
  {
   "cell_type": "code",
   "execution_count": 48,
   "metadata": {},
   "outputs": [],
   "source": [
    "data_ohe = pd.get_dummies(data_ohe_pred, drop_first=True)"
   ]
  },
  {
   "cell_type": "code",
   "execution_count": 49,
   "metadata": {},
   "outputs": [],
   "source": [
    "df_all = df_all.join(data_ohe)"
   ]
  },
  {
   "cell_type": "markdown",
   "metadata": {},
   "source": [
    "Уберем из DF оригинальные столбцы, которые кодировали."
   ]
  },
  {
   "cell_type": "code",
   "execution_count": 50,
   "metadata": {},
   "outputs": [],
   "source": [
    "df_rezult = df_all.drop([\"model\", \"vehicletype\", \"gearbox\", \"fueltype\", \"brand\", \"notrepaired\"], axis=1)"
   ]
  },
  {
   "cell_type": "markdown",
   "metadata": {},
   "source": [
    "разобъем данные на выборки (обучающая, валидационная): "
   ]
  },
  {
   "cell_type": "code",
   "execution_count": 51,
   "metadata": {},
   "outputs": [],
   "source": [
    "features_train, features_valid, target_train, target_valid = train_test_split(\n",
    "    df_rezult.drop('price', axis=1), df_rezult.price, test_size=0.25, random_state=12345)"
   ]
  },
  {
   "cell_type": "code",
   "execution_count": 52,
   "metadata": {},
   "outputs": [
    {
     "data": {
      "text/plain": [
       "((217386, 25), (72463, 25), (217386,), (72463,))"
      ]
     },
     "execution_count": 52,
     "metadata": {},
     "output_type": "execute_result"
    }
   ],
   "source": [
    "features_train.shape, features_valid.shape, target_train.shape, target_valid.shape"
   ]
  },
  {
   "cell_type": "markdown",
   "metadata": {},
   "source": [
    "Проведем масштабирование признаков:"
   ]
  },
  {
   "cell_type": "code",
   "execution_count": 53,
   "metadata": {},
   "outputs": [],
   "source": [
    "scaler_train = StandardScaler()"
   ]
  },
  {
   "cell_type": "code",
   "execution_count": 54,
   "metadata": {},
   "outputs": [
    {
     "data": {
      "text/plain": [
       "StandardScaler()"
      ]
     },
     "execution_count": 54,
     "metadata": {},
     "output_type": "execute_result"
    }
   ],
   "source": [
    "scaler_train.fit(features_train)"
   ]
  },
  {
   "cell_type": "code",
   "execution_count": 55,
   "metadata": {},
   "outputs": [],
   "source": [
    "features_train = scaler_train.transform(features_train)"
   ]
  },
  {
   "cell_type": "code",
   "execution_count": 56,
   "metadata": {},
   "outputs": [],
   "source": [
    "scaler_valid = StandardScaler()"
   ]
  },
  {
   "cell_type": "code",
   "execution_count": 57,
   "metadata": {},
   "outputs": [
    {
     "data": {
      "text/plain": [
       "StandardScaler()"
      ]
     },
     "execution_count": 57,
     "metadata": {},
     "output_type": "execute_result"
    }
   ],
   "source": [
    "scaler_valid.fit(features_valid)"
   ]
  },
  {
   "cell_type": "code",
   "execution_count": 58,
   "metadata": {},
   "outputs": [],
   "source": [
    "features_valid = scaler_train.transform(features_valid)"
   ]
  },
  {
   "cell_type": "code",
   "execution_count": 59,
   "metadata": {},
   "outputs": [
    {
     "name": "stderr",
     "output_type": "stream",
     "text": [
      "C:\\Users\\Nela\\AppData\\Local\\Programs\\Python\\Python310\\lib\\site-packages\\sklearn\\base.py:450: UserWarning: X does not have valid feature names, but StandardScaler was fitted with feature names\n",
      "  warnings.warn(\n"
     ]
    }
   ],
   "source": [
    "features_valid = scaler_train.transform(features_valid)"
   ]
  },
  {
   "cell_type": "markdown",
   "metadata": {},
   "source": [
    "## Обучение моделей"
   ]
  },
  {
   "cell_type": "code",
   "execution_count": 60,
   "metadata": {},
   "outputs": [],
   "source": [
    "def rmse (target_valid, predictions):\n",
    "    return mean_squared_error(target_valid, predictions, squared=False)"
   ]
  },
  {
   "cell_type": "markdown",
   "metadata": {},
   "source": [
    "Рассмотрим на модели Линейная регрессия"
   ]
  },
  {
   "cell_type": "code",
   "execution_count": 61,
   "metadata": {},
   "outputs": [
    {
     "name": "stdout",
     "output_type": "stream",
     "text": [
      "Среднеквадратическая ошибка модели методом Линейной регрессии:  510827.00630628556\n",
      "Время обучения:  0.237 секунды, Время предсказания:  0.008 секунды\n"
     ]
    }
   ],
   "source": [
    "Start1 = time.time()\n",
    "model_lr = LinearRegression() # инициализируем модель \n",
    "model_lr.fit(features_train, target_train) # обучим модель на тренировочной выборке\n",
    "Stop1 = time.time()\n",
    "Start2 = time.time()\n",
    "predictions = model_lr.predict(features_valid)\n",
    "rmse_lr = rmse(target_valid, predictions)\n",
    "Stop2 = time.time()\n",
    "print(\"Среднеквадратическая ошибка модели методом Линейной регрессии: \", rmse_lr)\n",
    "time_lr_train = round(Stop1 - Start1, 3)\n",
    "time_lr_pred = round(Stop2 - Start2, 3)\n",
    "print(\"Время обучения: \", time_lr_train, \"секунды,\", \"Время предсказания: \", time_lr_pred,  \"секунды\")"
   ]
  },
  {
   "cell_type": "markdown",
   "metadata": {},
   "source": [
    "Рассмотрим на модели Дерево решений: "
   ]
  },
  {
   "cell_type": "code",
   "execution_count": 62,
   "metadata": {},
   "outputs": [],
   "source": [
    "model_tree = DecisionTreeRegressor()"
   ]
  },
  {
   "cell_type": "markdown",
   "metadata": {},
   "source": [
    "Для моделей подберем оптимальное значение параметров: "
   ]
  },
  {
   "cell_type": "code",
   "execution_count": 63,
   "metadata": {},
   "outputs": [],
   "source": [
    "parametrs = { 'max_depth': range (1,13, 1), # глубина дерева от 1 до 13 с шагом 1\n",
    "             'min_samples_leaf': range (1,8),\n",
    "              'min_samples_split': range (2,10,2)\n",
    "              }"
   ]
  },
  {
   "cell_type": "code",
   "execution_count": 64,
   "metadata": {
    "scrolled": true
   },
   "outputs": [],
   "source": [
    "# grid = GridSearchCV(model_tree, parametrs, cv=5) # Очень долго считаются параметры, сразу подставим посчитанные значения\n",
    "# grid.fit(features_train, target_train)"
   ]
  },
  {
   "cell_type": "code",
   "execution_count": 65,
   "metadata": {},
   "outputs": [],
   "source": [
    "# grid.best_params_ # Здесь и далее сразу подставим полученные параметры"
   ]
  },
  {
   "cell_type": "code",
   "execution_count": 66,
   "metadata": {},
   "outputs": [
    {
     "name": "stdout",
     "output_type": "stream",
     "text": [
      "Среднеквадратическая ошибка модели методом Дерево решений:  4729.962160242359\n",
      "Время обучения:  0.914 секунды, Время предсказания:  0.009 секунды\n"
     ]
    }
   ],
   "source": [
    "Start1 = time.time()\n",
    "model_tree = DecisionTreeRegressor(random_state = 12345, max_depth = 12, min_samples_leaf = 7, min_samples_split = 2)\n",
    "model_tree.fit(features_train, target_train) # обучим\n",
    "Stop1 = time.time()\n",
    "\n",
    "Start2 = time.time()\n",
    "predictions_tree = model_tree.predict(features_valid)\n",
    "Stop2 = time.time()\n",
    "\n",
    "rmse_tree = rmse(target_valid, predictions_tree)\n",
    "print(\"Среднеквадратическая ошибка модели методом Дерево решений: \", rmse_tree)\n",
    "\n",
    "time_tree_train = round(Stop1 - Start1, 3)\n",
    "time_tree_pred = round(Stop2 - Start2, 3)\n",
    "print(\"Время обучения: \", time_tree_train, \"секунды,\", \"Время предсказания: \", time_tree_pred,  \"секунды\")"
   ]
  },
  {
   "cell_type": "markdown",
   "metadata": {},
   "source": [
    "Рассмотрим модель Градиентный бустинг (метод CatBoost):"
   ]
  },
  {
   "cell_type": "code",
   "execution_count": 67,
   "metadata": {},
   "outputs": [
    {
     "data": {
      "text/plain": [
       "(289849, 11)"
      ]
     },
     "execution_count": 67,
     "metadata": {},
     "output_type": "execute_result"
    }
   ],
   "source": [
    "df_all_uncoder.shape # возьмем DF без кодирования"
   ]
  },
  {
   "cell_type": "markdown",
   "metadata": {},
   "source": [
    "Приведем категориальные переменные к типу данных 'category':"
   ]
  },
  {
   "cell_type": "code",
   "execution_count": 68,
   "metadata": {},
   "outputs": [],
   "source": [
    "df_all_uncoder[[\"vehicletype\", \"gearbox\", \"model\", \"fueltype\", \"brand\", \"notrepaired\"]] =\\\n",
    "df_all_uncoder[[\"vehicletype\", \"gearbox\", \"model\", \"fueltype\", \"brand\", \"notrepaired\"]].astype(\"category\")"
   ]
  },
  {
   "cell_type": "code",
   "execution_count": 69,
   "metadata": {},
   "outputs": [],
   "source": [
    "df_all_uncoder[\"price\"] = df_all_uncoder[\"price\"].astype(\"int\")"
   ]
  },
  {
   "cell_type": "code",
   "execution_count": 70,
   "metadata": {},
   "outputs": [],
   "source": [
    "features_train1, features_valid1, target_train1, target_valid1 = train_test_split(\n",
    "    df_all_uncoder.drop('price', axis=1), df_all_uncoder.price, test_size=0.25, random_state=12345)\n",
    "# разобъем на выборки"
   ]
  },
  {
   "cell_type": "code",
   "execution_count": 71,
   "metadata": {},
   "outputs": [
    {
     "data": {
      "text/plain": [
       "((217386, 10), (72463, 10), (217386,), (72463,))"
      ]
     },
     "execution_count": 71,
     "metadata": {},
     "output_type": "execute_result"
    }
   ],
   "source": [
    "features_train1.shape, features_valid1.shape, target_train1.shape, target_valid1.shape"
   ]
  },
  {
   "cell_type": "code",
   "execution_count": 72,
   "metadata": {},
   "outputs": [],
   "source": [
    "model_cb = CatBoostRegressor()"
   ]
  },
  {
   "cell_type": "code",
   "execution_count": 73,
   "metadata": {},
   "outputs": [],
   "source": [
    "parametrs = { 'iterations': range (1, 3), 'learning_rate': range (1, 3), 'depth': range (1, 5)}   "
   ]
  },
  {
   "cell_type": "code",
   "execution_count": 74,
   "metadata": {},
   "outputs": [],
   "source": [
    "# grid = GridSearchCV(model_cb, parametrs, cv=5) \n",
    "# grid.fit(features_train, target_train)"
   ]
  },
  {
   "cell_type": "code",
   "execution_count": 75,
   "metadata": {},
   "outputs": [],
   "source": [
    "# grid.best_params_ "
   ]
  },
  {
   "cell_type": "code",
   "execution_count": 76,
   "metadata": {},
   "outputs": [],
   "source": [
    "model_cb_optimal = CatBoostRegressor(iterations=2, learning_rate=1, depth=4)"
   ]
  },
  {
   "cell_type": "code",
   "execution_count": 77,
   "metadata": {},
   "outputs": [
    {
     "name": "stdout",
     "output_type": "stream",
     "text": [
      "0:\tlearn: 3041.8593019\ttotal: 153ms\tremaining: 153ms\n",
      "1:\tlearn: 2745.0419441\ttotal: 220ms\tremaining: 0us\n",
      "Среднеквадратическая ошибка модели Градиентный бустинг методом catboost:  2743.960970150209\n",
      "Время обучения:  0.803 секунды, Время предсказания:  0.141 секунды\n"
     ]
    }
   ],
   "source": [
    "Start1 = time.time()\n",
    "cat_features = [\"vehicletype\", \"registrationyear\", \"gearbox\", \"gearbox\", \"power\", \"model\", \"kilometer\", \"registrationmonth\",\\\n",
    "                \"fueltype\", \"brand\", \"notrepaired\"]\n",
    "model_cb_optimal.fit(features_train1, target_train1, cat_features = cat_features)\n",
    "Stop1 = time.time()\n",
    "\n",
    "Start2 = time.time()\n",
    "predictions_cb = model_cb_optimal.predict(features_valid1)\n",
    "Stop2 = time.time()\n",
    "\n",
    "rmse_cb = rmse(target_valid1, predictions_cb)\n",
    "print(\"Среднеквадратическая ошибка модели Градиентный бустинг методом catboost: \", rmse_cb)\n",
    "\n",
    "time_cb_train = round(Stop1 - Start1, 3)\n",
    "time_cb_pred = round(Stop2 - Start2, 3)\n",
    "print(\"Время обучения: \", time_cb_train, \"секунды,\", \"Время предсказания: \", time_cb_pred,  \"секунды\")"
   ]
  },
  {
   "cell_type": "markdown",
   "metadata": {},
   "source": [
    "Рассмотрим модель Градиентного бустинга методом LightGBM: "
   ]
  },
  {
   "cell_type": "code",
   "execution_count": 78,
   "metadata": {},
   "outputs": [],
   "source": [
    "scoring_fit = 'neg_mean_squared_error'"
   ]
  },
  {
   "cell_type": "code",
   "execution_count": 79,
   "metadata": {},
   "outputs": [],
   "source": [
    "model_lgbm = LGBMRegressor(random_state = 54321)"
   ]
  },
  {
   "cell_type": "code",
   "execution_count": 80,
   "metadata": {},
   "outputs": [],
   "source": [
    "param_grid = {'n_estimators': [50, 100], 'max_depth': [5, 10, 12]}"
   ]
  },
  {
   "cell_type": "code",
   "execution_count": 81,
   "metadata": {},
   "outputs": [],
   "source": [
    "gs = GridSearchCV(model_lgbm, param_grid, cv = 5, scoring = scoring_fit)"
   ]
  },
  {
   "cell_type": "code",
   "execution_count": 82,
   "metadata": {},
   "outputs": [],
   "source": [
    "#gs.fit(features_train1, target_train1)"
   ]
  },
  {
   "cell_type": "code",
   "execution_count": 83,
   "metadata": {},
   "outputs": [],
   "source": [
    "# gs.best_params_  # наилучшие параметры {'max_depth': 5, 'n_estimators': 100}"
   ]
  },
  {
   "cell_type": "code",
   "execution_count": 84,
   "metadata": {},
   "outputs": [],
   "source": [
    "model_lgbm_optim = LGBMRegressor(random_state = 54321, max_depth = 5, n_estimators = 100)\n",
    "Start1 = time.time()\n",
    "model_lgbm_optim.fit(features_train1, target_train1)\n",
    "Stop1 = time.time() "
   ]
  },
  {
   "cell_type": "code",
   "execution_count": 85,
   "metadata": {},
   "outputs": [],
   "source": [
    "Start2 = time.time()\n",
    "predictions_lgbm = model_lgbm_optim.predict(features_valid1)\n",
    "Stop2 = time.time()"
   ]
  },
  {
   "cell_type": "code",
   "execution_count": 86,
   "metadata": {},
   "outputs": [
    {
     "name": "stdout",
     "output_type": "stream",
     "text": [
      "Среднеквадратическая ошибка модели Градиентный бустинг методом LGBM:  1597.2985485522902\n",
      "Время обучения:  0.745 секунды, Время предсказания:  0.167 секунды\n"
     ]
    }
   ],
   "source": [
    "rmse_lgbm = rmse(target_valid1, predictions_lgbm)\n",
    "print(\"Среднеквадратическая ошибка модели Градиентный бустинг методом LGBM: \", rmse_lgbm)\n",
    "time_lgbm_train = round(Stop1 - Start1, 3)\n",
    "time_lgbm_pred = round(Stop2 - Start2, 3)\n",
    "print(\"Время обучения: \", time_lgbm_train, \"секунды,\", \"Время предсказания: \", time_lgbm_pred,  \"секунды\")"
   ]
  },
  {
   "cell_type": "markdown",
   "metadata": {},
   "source": [
    "## Анализ моделей"
   ]
  },
  {
   "cell_type": "markdown",
   "metadata": {},
   "source": [
    "Получим таблицу с результатами:"
   ]
  },
  {
   "cell_type": "code",
   "execution_count": 87,
   "metadata": {},
   "outputs": [],
   "source": [
    "rez = pd.DataFrame({\"модель\": [\"Линейная регрессия\", \"Дерево решений\", \"Градиентный бустинг (CatBoost)\",\\\n",
    "                              \"Градиентный бустинг (LGBM)\"], \"значение RMSE\": [rmse_lr, rmse_tree, rmse_cb, rmse_lgbm],\\\n",
    "                   \"Время обучения: \": [time_lr_train, time_tree_train, time_cb_train, time_lgbm_train],\\\n",
    "                    \"Время предсказания: \": [time_lr_pred, time_tree_pred, time_cb_pred, time_lgbm_pred]})"
   ]
  },
  {
   "cell_type": "code",
   "execution_count": 88,
   "metadata": {},
   "outputs": [
    {
     "data": {
      "text/html": [
       "<div>\n",
       "<style scoped>\n",
       "    .dataframe tbody tr th:only-of-type {\n",
       "        vertical-align: middle;\n",
       "    }\n",
       "\n",
       "    .dataframe tbody tr th {\n",
       "        vertical-align: top;\n",
       "    }\n",
       "\n",
       "    .dataframe thead th {\n",
       "        text-align: right;\n",
       "    }\n",
       "</style>\n",
       "<table border=\"1\" class=\"dataframe\">\n",
       "  <thead>\n",
       "    <tr style=\"text-align: right;\">\n",
       "      <th></th>\n",
       "      <th>модель</th>\n",
       "      <th>значение RMSE</th>\n",
       "      <th>Время обучения:</th>\n",
       "      <th>Время предсказания:</th>\n",
       "    </tr>\n",
       "  </thead>\n",
       "  <tbody>\n",
       "    <tr>\n",
       "      <th>0</th>\n",
       "      <td>Линейная регрессия</td>\n",
       "      <td>510827.006306</td>\n",
       "      <td>0.237</td>\n",
       "      <td>0.008</td>\n",
       "    </tr>\n",
       "    <tr>\n",
       "      <th>1</th>\n",
       "      <td>Дерево решений</td>\n",
       "      <td>4729.962160</td>\n",
       "      <td>0.914</td>\n",
       "      <td>0.009</td>\n",
       "    </tr>\n",
       "    <tr>\n",
       "      <th>2</th>\n",
       "      <td>Градиентный бустинг (CatBoost)</td>\n",
       "      <td>2743.960970</td>\n",
       "      <td>0.803</td>\n",
       "      <td>0.141</td>\n",
       "    </tr>\n",
       "    <tr>\n",
       "      <th>3</th>\n",
       "      <td>Градиентный бустинг (LGBM)</td>\n",
       "      <td>1597.298549</td>\n",
       "      <td>0.745</td>\n",
       "      <td>0.167</td>\n",
       "    </tr>\n",
       "  </tbody>\n",
       "</table>\n",
       "</div>"
      ],
      "text/plain": [
       "                           модель  значение RMSE  Время обучения:   \\\n",
       "0              Линейная регрессия  510827.006306             0.237   \n",
       "1                  Дерево решений    4729.962160             0.914   \n",
       "2  Градиентный бустинг (CatBoost)    2743.960970             0.803   \n",
       "3      Градиентный бустинг (LGBM)    1597.298549             0.745   \n",
       "\n",
       "   Время предсказания:   \n",
       "0                 0.008  \n",
       "1                 0.009  \n",
       "2                 0.141  \n",
       "3                 0.167  "
      ]
     },
     "execution_count": 88,
     "metadata": {},
     "output_type": "execute_result"
    }
   ],
   "source": [
    "rez"
   ]
  },
  {
   "cell_type": "markdown",
   "metadata": {},
   "source": [
    "Из таблицы видно, что лучший результат значения среднеквадратической ошибки предсказания показывает модель Градиентного бустинга LightGBM, однако у этой модели самое большое время обучения. Наименьшее время обучения у модели Линейная регрессия, наименьшее время предсказания у модели Дерево решений.  "
   ]
  }
 ],
 "metadata": {
  "ExecuteTimeLog": [
   {
    "duration": 1552,
    "start_time": "2022-05-14T11:30:48.259Z"
   },
   {
    "duration": 715,
    "start_time": "2022-05-14T11:31:35.051Z"
   },
   {
    "duration": 127,
    "start_time": "2022-05-14T11:31:48.556Z"
   },
   {
    "duration": 3455,
    "start_time": "2022-05-17T12:03:28.288Z"
   },
   {
    "duration": 1445,
    "start_time": "2022-05-17T12:03:31.747Z"
   },
   {
    "duration": 351,
    "start_time": "2022-05-17T12:03:33.196Z"
   },
   {
    "duration": 67,
    "start_time": "2022-05-17T12:03:33.551Z"
   },
   {
    "duration": 5,
    "start_time": "2022-05-17T12:03:33.622Z"
   },
   {
    "duration": 193,
    "start_time": "2022-05-17T12:03:33.630Z"
   },
   {
    "duration": 58,
    "start_time": "2022-05-17T12:03:33.825Z"
   },
   {
    "duration": 171,
    "start_time": "2022-05-17T12:03:33.885Z"
   },
   {
    "duration": 171,
    "start_time": "2022-05-17T12:03:34.058Z"
   },
   {
    "duration": 39,
    "start_time": "2022-05-17T12:03:34.232Z"
   },
   {
    "duration": 166,
    "start_time": "2022-05-17T12:03:34.275Z"
   },
   {
    "duration": 30,
    "start_time": "2022-05-17T12:03:34.443Z"
   },
   {
    "duration": 47,
    "start_time": "2022-05-17T12:03:34.476Z"
   },
   {
    "duration": 42,
    "start_time": "2022-05-17T12:03:34.529Z"
   },
   {
    "duration": 39,
    "start_time": "2022-05-17T12:03:34.574Z"
   },
   {
    "duration": 32,
    "start_time": "2022-05-17T12:03:34.616Z"
   },
   {
    "duration": 142,
    "start_time": "2022-05-17T12:03:34.651Z"
   },
   {
    "duration": 122,
    "start_time": "2022-05-17T12:03:34.796Z"
   },
   {
    "duration": 38,
    "start_time": "2022-05-17T12:03:34.921Z"
   },
   {
    "duration": 80,
    "start_time": "2022-05-17T12:03:34.961Z"
   },
   {
    "duration": 1192,
    "start_time": "2022-05-17T12:03:35.043Z"
   },
   {
    "duration": 0,
    "start_time": "2022-05-17T12:03:36.239Z"
   },
   {
    "duration": 0,
    "start_time": "2022-05-17T12:03:36.241Z"
   },
   {
    "duration": 0,
    "start_time": "2022-05-17T12:03:36.243Z"
   },
   {
    "duration": 0,
    "start_time": "2022-05-17T12:03:36.245Z"
   },
   {
    "duration": 0,
    "start_time": "2022-05-17T12:03:36.247Z"
   },
   {
    "duration": 0,
    "start_time": "2022-05-17T12:03:36.249Z"
   },
   {
    "duration": 0,
    "start_time": "2022-05-17T12:03:36.252Z"
   },
   {
    "duration": 0,
    "start_time": "2022-05-17T12:03:36.254Z"
   },
   {
    "duration": 0,
    "start_time": "2022-05-17T12:03:36.256Z"
   },
   {
    "duration": 0,
    "start_time": "2022-05-17T12:03:36.258Z"
   },
   {
    "duration": 0,
    "start_time": "2022-05-17T12:03:36.260Z"
   },
   {
    "duration": 0,
    "start_time": "2022-05-17T12:03:36.262Z"
   },
   {
    "duration": 0,
    "start_time": "2022-05-17T12:03:36.264Z"
   },
   {
    "duration": 0,
    "start_time": "2022-05-17T12:03:36.266Z"
   },
   {
    "duration": 0,
    "start_time": "2022-05-17T12:03:36.311Z"
   },
   {
    "duration": 0,
    "start_time": "2022-05-17T12:03:36.313Z"
   },
   {
    "duration": 0,
    "start_time": "2022-05-17T12:03:36.315Z"
   },
   {
    "duration": 0,
    "start_time": "2022-05-17T12:03:36.316Z"
   },
   {
    "duration": 12,
    "start_time": "2022-05-17T12:03:59.888Z"
   },
   {
    "duration": 97,
    "start_time": "2022-05-17T12:05:40.896Z"
   },
   {
    "duration": 98,
    "start_time": "2022-05-17T12:05:44.949Z"
   },
   {
    "duration": 3,
    "start_time": "2022-05-17T12:05:52.027Z"
   },
   {
    "duration": 354,
    "start_time": "2022-05-17T12:05:54.480Z"
   },
   {
    "duration": 10,
    "start_time": "2022-05-17T12:06:16.732Z"
   },
   {
    "duration": 1798,
    "start_time": "2022-05-17T12:06:16.747Z"
   },
   {
    "duration": 319,
    "start_time": "2022-05-17T12:06:18.548Z"
   },
   {
    "duration": 46,
    "start_time": "2022-05-17T12:06:18.871Z"
   },
   {
    "duration": 5,
    "start_time": "2022-05-17T12:06:18.920Z"
   },
   {
    "duration": 273,
    "start_time": "2022-05-17T12:06:18.928Z"
   },
   {
    "duration": 58,
    "start_time": "2022-05-17T12:06:19.204Z"
   },
   {
    "duration": 177,
    "start_time": "2022-05-17T12:06:19.265Z"
   },
   {
    "duration": 173,
    "start_time": "2022-05-17T12:06:19.445Z"
   },
   {
    "duration": 29,
    "start_time": "2022-05-17T12:06:19.624Z"
   },
   {
    "duration": 160,
    "start_time": "2022-05-17T12:06:19.656Z"
   },
   {
    "duration": 33,
    "start_time": "2022-05-17T12:06:19.819Z"
   },
   {
    "duration": 28,
    "start_time": "2022-05-17T12:06:19.855Z"
   },
   {
    "duration": 63,
    "start_time": "2022-05-17T12:06:19.885Z"
   },
   {
    "duration": 27,
    "start_time": "2022-05-17T12:06:19.950Z"
   },
   {
    "duration": 55,
    "start_time": "2022-05-17T12:06:19.979Z"
   },
   {
    "duration": 167,
    "start_time": "2022-05-17T12:06:20.037Z"
   },
   {
    "duration": 147,
    "start_time": "2022-05-17T12:06:20.217Z"
   },
   {
    "duration": 51,
    "start_time": "2022-05-17T12:06:20.366Z"
   },
   {
    "duration": 67,
    "start_time": "2022-05-17T12:06:20.420Z"
   },
   {
    "duration": 4,
    "start_time": "2022-05-17T12:06:20.490Z"
   },
   {
    "duration": 472,
    "start_time": "2022-05-17T12:06:20.509Z"
   },
   {
    "duration": 116,
    "start_time": "2022-05-17T12:06:20.984Z"
   },
   {
    "duration": 67,
    "start_time": "2022-05-17T12:06:21.103Z"
   },
   {
    "duration": 499,
    "start_time": "2022-05-17T12:06:21.173Z"
   },
   {
    "duration": 82,
    "start_time": "2022-05-17T12:06:21.674Z"
   },
   {
    "duration": 634,
    "start_time": "2022-05-17T12:06:21.759Z"
   },
   {
    "duration": 75,
    "start_time": "2022-05-17T12:06:22.399Z"
   },
   {
    "duration": 70,
    "start_time": "2022-05-17T12:06:22.477Z"
   },
   {
    "duration": 429,
    "start_time": "2022-05-17T12:06:22.549Z"
   },
   {
    "duration": 52,
    "start_time": "2022-05-17T12:06:22.980Z"
   },
   {
    "duration": 31,
    "start_time": "2022-05-17T12:06:23.035Z"
   },
   {
    "duration": 108,
    "start_time": "2022-05-17T12:06:23.068Z"
   },
   {
    "duration": 63,
    "start_time": "2022-05-17T12:06:23.178Z"
   },
   {
    "duration": 33,
    "start_time": "2022-05-17T12:06:23.244Z"
   },
   {
    "duration": 3,
    "start_time": "2022-05-17T12:06:23.280Z"
   },
   {
    "duration": 159,
    "start_time": "2022-05-17T12:06:23.285Z"
   },
   {
    "duration": 142,
    "start_time": "2022-05-17T12:06:23.446Z"
   },
   {
    "duration": 7,
    "start_time": "2022-05-17T12:06:23.590Z"
   },
   {
    "duration": 180,
    "start_time": "2022-05-17T12:06:23.600Z"
   },
   {
    "duration": 26,
    "start_time": "2022-05-17T12:06:27.373Z"
   },
   {
    "duration": 25,
    "start_time": "2022-05-17T12:07:00.589Z"
   },
   {
    "duration": 215,
    "start_time": "2022-05-17T12:07:02.725Z"
   },
   {
    "duration": 97,
    "start_time": "2022-05-17T12:07:05.028Z"
   },
   {
    "duration": 43,
    "start_time": "2022-05-17T12:07:14.268Z"
   },
   {
    "duration": 68,
    "start_time": "2022-05-17T14:53:10.284Z"
   },
   {
    "duration": 1422,
    "start_time": "2022-05-17T14:53:14.568Z"
   },
   {
    "duration": 1001,
    "start_time": "2022-05-17T14:53:15.992Z"
   },
   {
    "duration": 145,
    "start_time": "2022-05-17T14:53:16.995Z"
   },
   {
    "duration": 22,
    "start_time": "2022-05-17T14:53:17.143Z"
   },
   {
    "duration": 4,
    "start_time": "2022-05-17T14:53:17.167Z"
   },
   {
    "duration": 149,
    "start_time": "2022-05-17T14:53:17.197Z"
   },
   {
    "duration": 50,
    "start_time": "2022-05-17T14:53:17.348Z"
   },
   {
    "duration": 128,
    "start_time": "2022-05-17T14:53:17.401Z"
   },
   {
    "duration": 104,
    "start_time": "2022-05-17T14:53:17.531Z"
   },
   {
    "duration": 15,
    "start_time": "2022-05-17T14:53:17.638Z"
   },
   {
    "duration": 126,
    "start_time": "2022-05-17T14:53:17.655Z"
   },
   {
    "duration": 26,
    "start_time": "2022-05-17T14:53:17.783Z"
   },
   {
    "duration": 21,
    "start_time": "2022-05-17T14:53:17.811Z"
   },
   {
    "duration": 23,
    "start_time": "2022-05-17T14:53:17.834Z"
   },
   {
    "duration": 55,
    "start_time": "2022-05-17T14:53:17.860Z"
   },
   {
    "duration": 21,
    "start_time": "2022-05-17T14:53:17.917Z"
   },
   {
    "duration": 121,
    "start_time": "2022-05-17T14:53:17.940Z"
   },
   {
    "duration": 110,
    "start_time": "2022-05-17T14:53:18.062Z"
   },
   {
    "duration": 35,
    "start_time": "2022-05-17T14:53:18.174Z"
   },
   {
    "duration": 38,
    "start_time": "2022-05-17T14:53:18.211Z"
   },
   {
    "duration": 377,
    "start_time": "2022-05-17T14:53:18.251Z"
   },
   {
    "duration": 229,
    "start_time": "2022-05-17T14:53:18.630Z"
   },
   {
    "duration": 73,
    "start_time": "2022-05-17T14:53:18.861Z"
   },
   {
    "duration": 91,
    "start_time": "2022-05-17T14:53:21.941Z"
   },
   {
    "duration": 11,
    "start_time": "2022-05-17T14:53:32.337Z"
   },
   {
    "duration": 12,
    "start_time": "2022-05-17T14:53:49.436Z"
   },
   {
    "duration": 16,
    "start_time": "2022-05-17T14:54:35.689Z"
   },
   {
    "duration": 5,
    "start_time": "2022-05-17T14:55:15.488Z"
   },
   {
    "duration": 10,
    "start_time": "2022-05-17T14:57:11.237Z"
   },
   {
    "duration": 4,
    "start_time": "2022-05-17T14:57:19.552Z"
   },
   {
    "duration": 853,
    "start_time": "2022-05-17T14:57:19.559Z"
   },
   {
    "duration": 143,
    "start_time": "2022-05-17T14:57:20.414Z"
   },
   {
    "duration": 14,
    "start_time": "2022-05-17T14:57:20.560Z"
   },
   {
    "duration": 24,
    "start_time": "2022-05-17T14:57:20.576Z"
   },
   {
    "duration": 147,
    "start_time": "2022-05-17T14:57:20.602Z"
   },
   {
    "duration": 27,
    "start_time": "2022-05-17T14:57:20.751Z"
   },
   {
    "duration": 88,
    "start_time": "2022-05-17T14:57:20.780Z"
   },
   {
    "duration": 94,
    "start_time": "2022-05-17T14:57:20.870Z"
   },
   {
    "duration": 33,
    "start_time": "2022-05-17T14:57:20.966Z"
   },
   {
    "duration": 114,
    "start_time": "2022-05-17T14:57:21.001Z"
   },
   {
    "duration": 22,
    "start_time": "2022-05-17T14:57:21.117Z"
   },
   {
    "duration": 22,
    "start_time": "2022-05-17T14:57:21.140Z"
   },
   {
    "duration": 40,
    "start_time": "2022-05-17T14:57:21.164Z"
   },
   {
    "duration": 23,
    "start_time": "2022-05-17T14:57:21.206Z"
   },
   {
    "duration": 22,
    "start_time": "2022-05-17T14:57:21.231Z"
   },
   {
    "duration": 124,
    "start_time": "2022-05-17T14:57:21.255Z"
   },
   {
    "duration": 90,
    "start_time": "2022-05-17T14:57:21.381Z"
   },
   {
    "duration": 34,
    "start_time": "2022-05-17T14:57:21.473Z"
   },
   {
    "duration": 32,
    "start_time": "2022-05-17T14:57:21.509Z"
   },
   {
    "duration": 2,
    "start_time": "2022-05-17T14:57:21.543Z"
   },
   {
    "duration": 217,
    "start_time": "2022-05-17T14:57:21.547Z"
   },
   {
    "duration": 51,
    "start_time": "2022-05-17T14:57:21.766Z"
   },
   {
    "duration": 5,
    "start_time": "2022-05-17T14:57:21.820Z"
   },
   {
    "duration": 33,
    "start_time": "2022-05-17T14:57:21.827Z"
   },
   {
    "duration": 228,
    "start_time": "2022-05-17T14:57:21.862Z"
   },
   {
    "duration": 34,
    "start_time": "2022-05-17T14:57:22.097Z"
   },
   {
    "duration": 238,
    "start_time": "2022-05-17T14:57:22.132Z"
   },
   {
    "duration": 44,
    "start_time": "2022-05-17T14:57:22.372Z"
   },
   {
    "duration": 27,
    "start_time": "2022-05-17T14:57:22.418Z"
   },
   {
    "duration": 361,
    "start_time": "2022-05-17T14:57:22.447Z"
   },
   {
    "duration": 29,
    "start_time": "2022-05-17T14:57:22.810Z"
   },
   {
    "duration": 19,
    "start_time": "2022-05-17T14:57:22.841Z"
   },
   {
    "duration": 52,
    "start_time": "2022-05-17T14:57:22.861Z"
   },
   {
    "duration": 30,
    "start_time": "2022-05-17T14:57:22.914Z"
   },
   {
    "duration": 21,
    "start_time": "2022-05-17T14:57:22.947Z"
   },
   {
    "duration": 19,
    "start_time": "2022-05-17T15:05:07.095Z"
   },
   {
    "duration": 5,
    "start_time": "2022-05-17T15:06:53.631Z"
   },
   {
    "duration": 284,
    "start_time": "2022-05-17T15:10:31.813Z"
   },
   {
    "duration": 286,
    "start_time": "2022-05-17T15:10:58.029Z"
   },
   {
    "duration": 282,
    "start_time": "2022-05-17T15:11:29.017Z"
   },
   {
    "duration": 254,
    "start_time": "2022-05-17T15:13:06.068Z"
   },
   {
    "duration": 288,
    "start_time": "2022-05-17T15:13:18.516Z"
   },
   {
    "duration": 400,
    "start_time": "2022-05-17T15:13:25.291Z"
   },
   {
    "duration": 258,
    "start_time": "2022-05-17T15:13:32.424Z"
   },
   {
    "duration": 284,
    "start_time": "2022-05-17T15:13:45.014Z"
   },
   {
    "duration": 248,
    "start_time": "2022-05-17T15:14:01.238Z"
   },
   {
    "duration": 261,
    "start_time": "2022-05-17T15:14:07.687Z"
   },
   {
    "duration": 371,
    "start_time": "2022-05-17T15:14:15.048Z"
   },
   {
    "duration": 1470,
    "start_time": "2022-05-17T15:14:28.127Z"
   },
   {
    "duration": 165,
    "start_time": "2022-05-17T15:14:38.102Z"
   },
   {
    "duration": 297,
    "start_time": "2022-05-17T15:14:58.003Z"
   },
   {
    "duration": 254,
    "start_time": "2022-05-17T15:15:17.649Z"
   },
   {
    "duration": 144,
    "start_time": "2022-05-17T15:15:22.287Z"
   },
   {
    "duration": 159,
    "start_time": "2022-05-17T15:15:36.483Z"
   },
   {
    "duration": 274,
    "start_time": "2022-05-17T15:15:47.486Z"
   },
   {
    "duration": 1696,
    "start_time": "2022-05-17T15:15:51.941Z"
   },
   {
    "duration": 759,
    "start_time": "2022-05-17T15:16:00.575Z"
   },
   {
    "duration": 197,
    "start_time": "2022-05-17T15:18:19.983Z"
   },
   {
    "duration": 308,
    "start_time": "2022-05-17T15:18:24.201Z"
   },
   {
    "duration": 543,
    "start_time": "2022-05-17T15:18:30.674Z"
   },
   {
    "duration": 312,
    "start_time": "2022-05-17T15:18:40.185Z"
   },
   {
    "duration": 1578,
    "start_time": "2022-05-17T15:19:27.875Z"
   },
   {
    "duration": 341,
    "start_time": "2022-05-17T15:19:35.879Z"
   },
   {
    "duration": 8,
    "start_time": "2022-05-17T15:22:13.035Z"
   },
   {
    "duration": 5,
    "start_time": "2022-05-17T15:22:35.023Z"
   },
   {
    "duration": 8,
    "start_time": "2022-05-17T15:23:49.568Z"
   },
   {
    "duration": 14,
    "start_time": "2022-05-17T15:24:17.109Z"
   },
   {
    "duration": 11,
    "start_time": "2022-05-17T15:24:34.468Z"
   },
   {
    "duration": 78,
    "start_time": "2022-05-17T15:25:04.112Z"
   },
   {
    "duration": 80,
    "start_time": "2022-05-17T15:25:17.675Z"
   },
   {
    "duration": 93,
    "start_time": "2022-05-17T15:25:27.747Z"
   },
   {
    "duration": 122,
    "start_time": "2022-05-17T15:25:38.119Z"
   },
   {
    "duration": 93,
    "start_time": "2022-05-17T15:25:48.883Z"
   },
   {
    "duration": 88,
    "start_time": "2022-05-17T15:26:06.773Z"
   },
   {
    "duration": 11,
    "start_time": "2022-05-17T15:27:00.323Z"
   },
   {
    "duration": 11,
    "start_time": "2022-05-17T15:27:14.039Z"
   },
   {
    "duration": 1499,
    "start_time": "2022-05-17T15:28:18.945Z"
   },
   {
    "duration": 7,
    "start_time": "2022-05-17T15:28:28.087Z"
   },
   {
    "duration": 21,
    "start_time": "2022-05-17T15:28:39.191Z"
   },
   {
    "duration": 10,
    "start_time": "2022-05-17T15:29:10.412Z"
   },
   {
    "duration": 11,
    "start_time": "2022-05-17T15:29:42.350Z"
   },
   {
    "duration": 56,
    "start_time": "2022-05-17T15:30:10.280Z"
   },
   {
    "duration": 38,
    "start_time": "2022-05-17T15:32:11.695Z"
   },
   {
    "duration": 33,
    "start_time": "2022-05-17T15:32:22.034Z"
   },
   {
    "duration": 25,
    "start_time": "2022-05-17T15:32:45.339Z"
   },
   {
    "duration": 4,
    "start_time": "2022-05-17T15:32:59.120Z"
   },
   {
    "duration": 1082,
    "start_time": "2022-05-17T15:32:59.126Z"
   },
   {
    "duration": 155,
    "start_time": "2022-05-17T15:33:00.212Z"
   },
   {
    "duration": 14,
    "start_time": "2022-05-17T15:33:00.369Z"
   },
   {
    "duration": 6,
    "start_time": "2022-05-17T15:33:00.398Z"
   },
   {
    "duration": 165,
    "start_time": "2022-05-17T15:33:00.406Z"
   },
   {
    "duration": 41,
    "start_time": "2022-05-17T15:33:00.572Z"
   },
   {
    "duration": 88,
    "start_time": "2022-05-17T15:33:00.615Z"
   },
   {
    "duration": 98,
    "start_time": "2022-05-17T15:33:00.708Z"
   },
   {
    "duration": 18,
    "start_time": "2022-05-17T15:33:00.809Z"
   },
   {
    "duration": 141,
    "start_time": "2022-05-17T15:33:00.829Z"
   },
   {
    "duration": 46,
    "start_time": "2022-05-17T15:33:00.972Z"
   },
   {
    "duration": 24,
    "start_time": "2022-05-17T15:33:01.020Z"
   },
   {
    "duration": 32,
    "start_time": "2022-05-17T15:33:01.046Z"
   },
   {
    "duration": 50,
    "start_time": "2022-05-17T15:33:01.080Z"
   },
   {
    "duration": 33,
    "start_time": "2022-05-17T15:33:01.133Z"
   },
   {
    "duration": 116,
    "start_time": "2022-05-17T15:33:01.169Z"
   },
   {
    "duration": 102,
    "start_time": "2022-05-17T15:33:01.288Z"
   },
   {
    "duration": 29,
    "start_time": "2022-05-17T15:33:01.392Z"
   },
   {
    "duration": 51,
    "start_time": "2022-05-17T15:33:01.423Z"
   },
   {
    "duration": 2,
    "start_time": "2022-05-17T15:33:01.476Z"
   },
   {
    "duration": 248,
    "start_time": "2022-05-17T15:33:01.480Z"
   },
   {
    "duration": 45,
    "start_time": "2022-05-17T15:33:01.730Z"
   },
   {
    "duration": 22,
    "start_time": "2022-05-17T15:33:01.779Z"
   },
   {
    "duration": 38,
    "start_time": "2022-05-17T15:33:01.803Z"
   },
   {
    "duration": 250,
    "start_time": "2022-05-17T15:33:01.843Z"
   },
   {
    "duration": 42,
    "start_time": "2022-05-17T15:33:02.095Z"
   },
   {
    "duration": 254,
    "start_time": "2022-05-17T15:33:02.138Z"
   },
   {
    "duration": 43,
    "start_time": "2022-05-17T15:33:02.399Z"
   },
   {
    "duration": 29,
    "start_time": "2022-05-17T15:33:02.444Z"
   },
   {
    "duration": 265,
    "start_time": "2022-05-17T15:33:02.475Z"
   },
   {
    "duration": 29,
    "start_time": "2022-05-17T15:33:02.741Z"
   },
   {
    "duration": 36,
    "start_time": "2022-05-17T15:33:02.771Z"
   },
   {
    "duration": 31,
    "start_time": "2022-05-17T15:33:02.810Z"
   },
   {
    "duration": 25,
    "start_time": "2022-05-17T15:33:02.843Z"
   },
   {
    "duration": 47,
    "start_time": "2022-05-17T15:33:02.869Z"
   },
   {
    "duration": 532,
    "start_time": "2022-05-17T15:33:02.918Z"
   },
   {
    "duration": 8,
    "start_time": "2022-05-17T15:33:03.452Z"
   },
   {
    "duration": 39,
    "start_time": "2022-05-17T15:33:03.462Z"
   },
   {
    "duration": 4,
    "start_time": "2022-05-17T15:33:03.503Z"
   },
   {
    "duration": 122,
    "start_time": "2022-05-17T15:33:03.510Z"
   },
   {
    "duration": 100,
    "start_time": "2022-05-17T15:33:03.634Z"
   },
   {
    "duration": 4,
    "start_time": "2022-05-17T15:33:03.736Z"
   },
   {
    "duration": 115,
    "start_time": "2022-05-17T15:33:03.741Z"
   },
   {
    "duration": 12,
    "start_time": "2022-05-17T15:33:03.858Z"
   },
   {
    "duration": 114,
    "start_time": "2022-05-17T15:33:03.872Z"
   },
   {
    "duration": 49,
    "start_time": "2022-05-17T15:33:03.988Z"
   },
   {
    "duration": 38,
    "start_time": "2022-05-17T15:33:04.038Z"
   },
   {
    "duration": 89,
    "start_time": "2022-05-17T15:33:04.078Z"
   },
   {
    "duration": 4,
    "start_time": "2022-05-17T15:33:04.169Z"
   },
   {
    "duration": 7,
    "start_time": "2022-05-17T15:33:04.175Z"
   },
   {
    "duration": 530,
    "start_time": "2022-05-17T15:33:04.184Z"
   },
   {
    "duration": 7,
    "start_time": "2022-05-17T15:33:04.719Z"
   },
   {
    "duration": 72,
    "start_time": "2022-05-17T15:33:04.729Z"
   },
   {
    "duration": 6,
    "start_time": "2022-05-17T15:33:04.804Z"
   },
   {
    "duration": 85,
    "start_time": "2022-05-17T15:33:04.813Z"
   },
   {
    "duration": 1040,
    "start_time": "2022-05-17T15:33:04.902Z"
   },
   {
    "duration": 4,
    "start_time": "2022-05-17T15:33:05.944Z"
   },
   {
    "duration": 5,
    "start_time": "2022-05-17T15:33:05.950Z"
   },
   {
    "duration": 6,
    "start_time": "2022-05-17T15:33:05.957Z"
   },
   {
    "duration": 11,
    "start_time": "2022-05-17T15:33:05.965Z"
   },
   {
    "duration": 5,
    "start_time": "2022-05-17T15:33:05.978Z"
   },
   {
    "duration": 1243,
    "start_time": "2022-05-17T15:33:05.985Z"
   },
   {
    "duration": 3,
    "start_time": "2022-05-17T15:33:07.230Z"
   },
   {
    "duration": 4679,
    "start_time": "2022-05-17T15:33:07.235Z"
   },
   {
    "duration": 9,
    "start_time": "2022-05-17T15:33:11.916Z"
   },
   {
    "duration": 8,
    "start_time": "2022-05-17T15:33:11.927Z"
   },
   {
    "duration": 13,
    "start_time": "2022-05-17T15:33:11.937Z"
   },
   {
    "duration": 103,
    "start_time": "2022-05-17T15:35:13.055Z"
   },
   {
    "duration": 5,
    "start_time": "2022-05-17T15:51:44.211Z"
   },
   {
    "duration": 115,
    "start_time": "2022-05-17T15:53:09.085Z"
   },
   {
    "duration": 57,
    "start_time": "2022-05-17T15:53:50.547Z"
   },
   {
    "duration": 119,
    "start_time": "2022-05-17T16:00:18.875Z"
   },
   {
    "duration": 56,
    "start_time": "2022-05-17T16:00:20.800Z"
   },
   {
    "duration": 33,
    "start_time": "2022-05-17T16:00:41.883Z"
   },
   {
    "duration": 13,
    "start_time": "2022-05-17T16:01:05.638Z"
   },
   {
    "duration": 4,
    "start_time": "2022-05-17T16:08:10.095Z"
   },
   {
    "duration": 447,
    "start_time": "2022-05-17T16:08:24.757Z"
   },
   {
    "duration": 1378,
    "start_time": "2022-05-17T16:08:52.970Z"
   },
   {
    "duration": 949,
    "start_time": "2022-05-17T16:08:54.350Z"
   },
   {
    "duration": 138,
    "start_time": "2022-05-17T16:08:55.301Z"
   },
   {
    "duration": 20,
    "start_time": "2022-05-17T16:08:55.442Z"
   },
   {
    "duration": 4,
    "start_time": "2022-05-17T16:08:55.463Z"
   },
   {
    "duration": 159,
    "start_time": "2022-05-17T16:08:55.469Z"
   },
   {
    "duration": 40,
    "start_time": "2022-05-17T16:08:55.630Z"
   },
   {
    "duration": 119,
    "start_time": "2022-05-17T16:08:55.672Z"
   },
   {
    "duration": 107,
    "start_time": "2022-05-17T16:08:55.793Z"
   },
   {
    "duration": 15,
    "start_time": "2022-05-17T16:08:55.904Z"
   },
   {
    "duration": 119,
    "start_time": "2022-05-17T16:08:55.921Z"
   },
   {
    "duration": 23,
    "start_time": "2022-05-17T16:08:56.042Z"
   },
   {
    "duration": 39,
    "start_time": "2022-05-17T16:08:56.067Z"
   },
   {
    "duration": 22,
    "start_time": "2022-05-17T16:08:56.108Z"
   },
   {
    "duration": 21,
    "start_time": "2022-05-17T16:08:56.132Z"
   },
   {
    "duration": 46,
    "start_time": "2022-05-17T16:08:56.155Z"
   },
   {
    "duration": 101,
    "start_time": "2022-05-17T16:08:56.203Z"
   },
   {
    "duration": 101,
    "start_time": "2022-05-17T16:08:56.306Z"
   },
   {
    "duration": 26,
    "start_time": "2022-05-17T16:08:56.409Z"
   },
   {
    "duration": 34,
    "start_time": "2022-05-17T16:08:56.437Z"
   },
   {
    "duration": 169,
    "start_time": "2022-05-17T16:08:56.473Z"
   },
   {
    "duration": 217,
    "start_time": "2022-05-17T16:08:56.644Z"
   },
   {
    "duration": 59,
    "start_time": "2022-05-17T16:08:56.863Z"
   },
   {
    "duration": 6,
    "start_time": "2022-05-17T16:08:56.923Z"
   },
   {
    "duration": 37,
    "start_time": "2022-05-17T16:08:56.931Z"
   },
   {
    "duration": 229,
    "start_time": "2022-05-17T16:08:56.970Z"
   },
   {
    "duration": 31,
    "start_time": "2022-05-17T16:08:57.201Z"
   },
   {
    "duration": 242,
    "start_time": "2022-05-17T16:08:57.237Z"
   },
   {
    "duration": 48,
    "start_time": "2022-05-17T16:08:57.481Z"
   },
   {
    "duration": 29,
    "start_time": "2022-05-17T16:08:57.531Z"
   },
   {
    "duration": 239,
    "start_time": "2022-05-17T16:08:57.562Z"
   },
   {
    "duration": 28,
    "start_time": "2022-05-17T16:08:57.803Z"
   },
   {
    "duration": 20,
    "start_time": "2022-05-17T16:08:57.833Z"
   },
   {
    "duration": 54,
    "start_time": "2022-05-17T16:08:57.854Z"
   },
   {
    "duration": 32,
    "start_time": "2022-05-17T16:08:57.910Z"
   },
   {
    "duration": 25,
    "start_time": "2022-05-17T16:08:57.943Z"
   },
   {
    "duration": 405,
    "start_time": "2022-05-17T16:08:57.970Z"
   },
   {
    "duration": 8,
    "start_time": "2022-05-17T16:08:58.377Z"
   },
   {
    "duration": 24,
    "start_time": "2022-05-17T16:08:58.398Z"
   },
   {
    "duration": 3,
    "start_time": "2022-05-17T16:08:58.424Z"
   },
   {
    "duration": 94,
    "start_time": "2022-05-17T16:08:58.429Z"
   },
   {
    "duration": 88,
    "start_time": "2022-05-17T16:08:58.525Z"
   },
   {
    "duration": 4,
    "start_time": "2022-05-17T16:08:58.615Z"
   },
   {
    "duration": 95,
    "start_time": "2022-05-17T16:08:58.621Z"
   },
   {
    "duration": 12,
    "start_time": "2022-05-17T16:08:58.718Z"
   },
   {
    "duration": 109,
    "start_time": "2022-05-17T16:08:58.732Z"
   },
   {
    "duration": 38,
    "start_time": "2022-05-17T16:08:58.843Z"
   },
   {
    "duration": 73,
    "start_time": "2022-05-17T16:08:58.883Z"
   },
   {
    "duration": 76,
    "start_time": "2022-05-17T16:08:58.958Z"
   },
   {
    "duration": 4,
    "start_time": "2022-05-17T16:08:59.037Z"
   },
   {
    "duration": 125,
    "start_time": "2022-05-17T16:08:59.044Z"
   },
   {
    "duration": 57,
    "start_time": "2022-05-17T16:08:59.171Z"
   },
   {
    "duration": 38,
    "start_time": "2022-05-17T16:08:59.230Z"
   },
   {
    "duration": 29,
    "start_time": "2022-05-17T16:08:59.270Z"
   },
   {
    "duration": 3,
    "start_time": "2022-05-17T16:08:59.301Z"
   },
   {
    "duration": 493,
    "start_time": "2022-05-17T16:08:59.306Z"
   },
   {
    "duration": 4,
    "start_time": "2022-05-17T16:08:59.805Z"
   },
   {
    "duration": 87,
    "start_time": "2022-05-17T16:08:59.812Z"
   },
   {
    "duration": 5,
    "start_time": "2022-05-17T16:08:59.901Z"
   },
   {
    "duration": 7,
    "start_time": "2022-05-17T16:08:59.907Z"
   },
   {
    "duration": 976,
    "start_time": "2022-05-17T16:08:59.916Z"
   },
   {
    "duration": 3,
    "start_time": "2022-05-17T16:09:00.896Z"
   },
   {
    "duration": 19,
    "start_time": "2022-05-17T16:09:00.901Z"
   },
   {
    "duration": 12,
    "start_time": "2022-05-17T16:09:00.922Z"
   },
   {
    "duration": 24,
    "start_time": "2022-05-17T16:09:00.936Z"
   },
   {
    "duration": 19,
    "start_time": "2022-05-17T16:09:00.963Z"
   },
   {
    "duration": 1237,
    "start_time": "2022-05-17T16:09:00.984Z"
   },
   {
    "duration": 3,
    "start_time": "2022-05-17T16:09:02.223Z"
   },
   {
    "duration": 2988,
    "start_time": "2022-05-17T16:09:02.228Z"
   },
   {
    "duration": 10,
    "start_time": "2022-05-17T16:09:05.219Z"
   },
   {
    "duration": 6,
    "start_time": "2022-05-17T16:09:05.231Z"
   },
   {
    "duration": 60,
    "start_time": "2022-05-17T16:09:05.240Z"
   },
   {
    "duration": 1121,
    "start_time": "2022-05-18T16:12:11.697Z"
   },
   {
    "duration": 2983,
    "start_time": "2022-05-18T16:12:12.820Z"
   },
   {
    "duration": 146,
    "start_time": "2022-05-18T16:12:15.805Z"
   },
   {
    "duration": 18,
    "start_time": "2022-05-18T16:12:15.953Z"
   },
   {
    "duration": 4,
    "start_time": "2022-05-18T16:12:15.973Z"
   },
   {
    "duration": 131,
    "start_time": "2022-05-18T16:12:15.980Z"
   },
   {
    "duration": 48,
    "start_time": "2022-05-18T16:12:16.113Z"
   },
   {
    "duration": 106,
    "start_time": "2022-05-18T16:12:16.163Z"
   },
   {
    "duration": 98,
    "start_time": "2022-05-18T16:12:16.271Z"
   },
   {
    "duration": 13,
    "start_time": "2022-05-18T16:12:16.370Z"
   },
   {
    "duration": 113,
    "start_time": "2022-05-18T16:12:16.385Z"
   },
   {
    "duration": 19,
    "start_time": "2022-05-18T16:12:16.499Z"
   },
   {
    "duration": 37,
    "start_time": "2022-05-18T16:12:16.520Z"
   },
   {
    "duration": 20,
    "start_time": "2022-05-18T16:12:16.560Z"
   },
   {
    "duration": 20,
    "start_time": "2022-05-18T16:12:16.582Z"
   },
   {
    "duration": 19,
    "start_time": "2022-05-18T16:12:16.603Z"
   },
   {
    "duration": 112,
    "start_time": "2022-05-18T16:12:16.623Z"
   },
   {
    "duration": 121,
    "start_time": "2022-05-18T16:12:16.736Z"
   },
   {
    "duration": 30,
    "start_time": "2022-05-18T16:12:16.859Z"
   },
   {
    "duration": 40,
    "start_time": "2022-05-18T16:12:16.891Z"
   },
   {
    "duration": 454,
    "start_time": "2022-05-18T16:12:16.933Z"
   },
   {
    "duration": 204,
    "start_time": "2022-05-18T16:12:17.389Z"
   },
   {
    "duration": 63,
    "start_time": "2022-05-18T16:12:17.595Z"
   },
   {
    "duration": 4,
    "start_time": "2022-05-18T16:12:17.660Z"
   },
   {
    "duration": 33,
    "start_time": "2022-05-18T16:12:17.665Z"
   },
   {
    "duration": 219,
    "start_time": "2022-05-18T16:12:17.700Z"
   },
   {
    "duration": 48,
    "start_time": "2022-05-18T16:12:17.921Z"
   },
   {
    "duration": 225,
    "start_time": "2022-05-18T16:12:17.971Z"
   },
   {
    "duration": 51,
    "start_time": "2022-05-18T16:12:18.198Z"
   },
   {
    "duration": 29,
    "start_time": "2022-05-18T16:12:18.252Z"
   },
   {
    "duration": 247,
    "start_time": "2022-05-18T16:12:18.282Z"
   },
   {
    "duration": 33,
    "start_time": "2022-05-18T16:12:18.530Z"
   },
   {
    "duration": 19,
    "start_time": "2022-05-18T16:12:18.564Z"
   },
   {
    "duration": 28,
    "start_time": "2022-05-18T16:12:18.585Z"
   },
   {
    "duration": 53,
    "start_time": "2022-05-18T16:12:18.615Z"
   },
   {
    "duration": 19,
    "start_time": "2022-05-18T16:12:18.670Z"
   },
   {
    "duration": 314,
    "start_time": "2022-05-18T16:12:18.690Z"
   },
   {
    "duration": 7,
    "start_time": "2022-05-18T16:12:19.006Z"
   },
   {
    "duration": 41,
    "start_time": "2022-05-18T16:12:19.015Z"
   },
   {
    "duration": 3,
    "start_time": "2022-05-18T16:12:19.058Z"
   },
   {
    "duration": 96,
    "start_time": "2022-05-18T16:12:19.065Z"
   },
   {
    "duration": 79,
    "start_time": "2022-05-18T16:12:19.163Z"
   },
   {
    "duration": 4,
    "start_time": "2022-05-18T16:12:19.246Z"
   },
   {
    "duration": 78,
    "start_time": "2022-05-18T16:12:19.251Z"
   },
   {
    "duration": 28,
    "start_time": "2022-05-18T16:12:19.331Z"
   },
   {
    "duration": 91,
    "start_time": "2022-05-18T16:12:19.360Z"
   },
   {
    "duration": 41,
    "start_time": "2022-05-18T16:12:19.456Z"
   },
   {
    "duration": 67,
    "start_time": "2022-05-18T16:12:19.499Z"
   },
   {
    "duration": 56,
    "start_time": "2022-05-18T16:12:19.568Z"
   },
   {
    "duration": 4,
    "start_time": "2022-05-18T16:12:19.625Z"
   },
   {
    "duration": 136,
    "start_time": "2022-05-18T16:12:19.630Z"
   },
   {
    "duration": 47,
    "start_time": "2022-05-18T16:12:19.767Z"
   },
   {
    "duration": 47,
    "start_time": "2022-05-18T16:12:19.816Z"
   },
   {
    "duration": 13,
    "start_time": "2022-05-18T16:12:19.865Z"
   },
   {
    "duration": 9,
    "start_time": "2022-05-18T16:12:19.881Z"
   },
   {
    "duration": 475,
    "start_time": "2022-05-18T16:12:19.892Z"
   },
   {
    "duration": 12,
    "start_time": "2022-05-18T16:12:20.445Z"
   },
   {
    "duration": 91,
    "start_time": "2022-05-18T16:12:20.460Z"
   },
   {
    "duration": 4,
    "start_time": "2022-05-18T16:12:20.553Z"
   },
   {
    "duration": 5,
    "start_time": "2022-05-18T16:12:20.558Z"
   },
   {
    "duration": 928,
    "start_time": "2022-05-18T16:12:20.565Z"
   },
   {
    "duration": 3,
    "start_time": "2022-05-18T16:12:21.495Z"
   },
   {
    "duration": 15,
    "start_time": "2022-05-18T16:12:21.500Z"
   },
   {
    "duration": 7,
    "start_time": "2022-05-18T16:12:21.517Z"
   },
   {
    "duration": 4,
    "start_time": "2022-05-18T16:12:21.526Z"
   },
   {
    "duration": 6,
    "start_time": "2022-05-18T16:12:21.531Z"
   },
   {
    "duration": 509,
    "start_time": "2022-05-18T16:12:21.538Z"
   },
   {
    "duration": 3,
    "start_time": "2022-05-18T16:12:22.056Z"
   },
   {
    "duration": 3486,
    "start_time": "2022-05-18T16:12:22.061Z"
   },
   {
    "duration": 10,
    "start_time": "2022-05-18T16:12:25.550Z"
   },
   {
    "duration": 7,
    "start_time": "2022-05-18T16:12:25.561Z"
   },
   {
    "duration": 15,
    "start_time": "2022-05-18T16:12:25.569Z"
   },
   {
    "duration": 564,
    "start_time": "2022-05-18T16:16:28.503Z"
   },
   {
    "duration": 489,
    "start_time": "2022-05-18T16:16:40.857Z"
   },
   {
    "duration": 854,
    "start_time": "2022-05-18T16:19:12.953Z"
   },
   {
    "duration": 880,
    "start_time": "2022-05-18T16:19:37.113Z"
   },
   {
    "duration": 713,
    "start_time": "2022-05-18T16:20:49.996Z"
   },
   {
    "duration": 91,
    "start_time": "2022-05-18T16:23:16.756Z"
   },
   {
    "duration": 3,
    "start_time": "2022-05-18T16:24:16.435Z"
   },
   {
    "duration": 4,
    "start_time": "2022-05-18T16:24:29.486Z"
   },
   {
    "duration": 1138,
    "start_time": "2022-05-18T16:24:40.955Z"
   },
   {
    "duration": 880,
    "start_time": "2022-05-18T16:24:42.096Z"
   },
   {
    "duration": 139,
    "start_time": "2022-05-18T16:24:42.977Z"
   },
   {
    "duration": 39,
    "start_time": "2022-05-18T16:24:43.118Z"
   },
   {
    "duration": 3,
    "start_time": "2022-05-18T16:24:43.159Z"
   },
   {
    "duration": 136,
    "start_time": "2022-05-18T16:24:43.164Z"
   },
   {
    "duration": 53,
    "start_time": "2022-05-18T16:24:43.302Z"
   },
   {
    "duration": 110,
    "start_time": "2022-05-18T16:24:43.357Z"
   },
   {
    "duration": 109,
    "start_time": "2022-05-18T16:24:43.469Z"
   },
   {
    "duration": 13,
    "start_time": "2022-05-18T16:24:43.580Z"
   },
   {
    "duration": 112,
    "start_time": "2022-05-18T16:24:43.594Z"
   },
   {
    "duration": 20,
    "start_time": "2022-05-18T16:24:43.707Z"
   },
   {
    "duration": 39,
    "start_time": "2022-05-18T16:24:43.729Z"
   },
   {
    "duration": 21,
    "start_time": "2022-05-18T16:24:43.771Z"
   },
   {
    "duration": 20,
    "start_time": "2022-05-18T16:24:43.794Z"
   },
   {
    "duration": 45,
    "start_time": "2022-05-18T16:24:43.816Z"
   },
   {
    "duration": 99,
    "start_time": "2022-05-18T16:24:43.863Z"
   },
   {
    "duration": 101,
    "start_time": "2022-05-18T16:24:43.964Z"
   },
   {
    "duration": 27,
    "start_time": "2022-05-18T16:24:44.067Z"
   },
   {
    "duration": 60,
    "start_time": "2022-05-18T16:24:44.095Z"
   },
   {
    "duration": 131,
    "start_time": "2022-05-18T16:24:44.157Z"
   },
   {
    "duration": 290,
    "start_time": "2022-05-18T16:24:44.289Z"
   },
   {
    "duration": 71,
    "start_time": "2022-05-18T16:24:44.581Z"
   },
   {
    "duration": 5,
    "start_time": "2022-05-18T16:24:44.654Z"
   },
   {
    "duration": 38,
    "start_time": "2022-05-18T16:24:44.660Z"
   },
   {
    "duration": 223,
    "start_time": "2022-05-18T16:24:44.699Z"
   },
   {
    "duration": 41,
    "start_time": "2022-05-18T16:24:44.924Z"
   },
   {
    "duration": 228,
    "start_time": "2022-05-18T16:24:44.967Z"
   },
   {
    "duration": 34,
    "start_time": "2022-05-18T16:24:45.196Z"
   },
   {
    "duration": 39,
    "start_time": "2022-05-18T16:24:45.231Z"
   },
   {
    "duration": 236,
    "start_time": "2022-05-18T16:24:45.272Z"
   },
   {
    "duration": 29,
    "start_time": "2022-05-18T16:24:45.510Z"
   },
   {
    "duration": 21,
    "start_time": "2022-05-18T16:24:45.541Z"
   },
   {
    "duration": 30,
    "start_time": "2022-05-18T16:24:45.564Z"
   },
   {
    "duration": 56,
    "start_time": "2022-05-18T16:24:45.596Z"
   },
   {
    "duration": 24,
    "start_time": "2022-05-18T16:24:45.654Z"
   },
   {
    "duration": 307,
    "start_time": "2022-05-18T16:24:45.679Z"
   },
   {
    "duration": 9,
    "start_time": "2022-05-18T16:24:45.988Z"
   },
   {
    "duration": 24,
    "start_time": "2022-05-18T16:24:45.998Z"
   },
   {
    "duration": 19,
    "start_time": "2022-05-18T16:24:46.024Z"
   },
   {
    "duration": 26,
    "start_time": "2022-05-18T16:24:46.047Z"
   },
   {
    "duration": 84,
    "start_time": "2022-05-18T16:24:46.075Z"
   },
   {
    "duration": 70,
    "start_time": "2022-05-18T16:24:46.161Z"
   },
   {
    "duration": 14,
    "start_time": "2022-05-18T16:24:46.233Z"
   },
   {
    "duration": 70,
    "start_time": "2022-05-18T16:24:46.256Z"
   },
   {
    "duration": 24,
    "start_time": "2022-05-18T16:24:46.328Z"
   },
   {
    "duration": 81,
    "start_time": "2022-05-18T16:24:46.354Z"
   },
   {
    "duration": 43,
    "start_time": "2022-05-18T16:24:46.437Z"
   },
   {
    "duration": 75,
    "start_time": "2022-05-18T16:24:46.482Z"
   },
   {
    "duration": 62,
    "start_time": "2022-05-18T16:24:46.559Z"
   },
   {
    "duration": 4,
    "start_time": "2022-05-18T16:24:46.622Z"
   },
   {
    "duration": 127,
    "start_time": "2022-05-18T16:24:46.628Z"
   },
   {
    "duration": 45,
    "start_time": "2022-05-18T16:24:46.757Z"
   },
   {
    "duration": 54,
    "start_time": "2022-05-18T16:24:46.804Z"
   },
   {
    "duration": 14,
    "start_time": "2022-05-18T16:24:46.861Z"
   },
   {
    "duration": 16,
    "start_time": "2022-05-18T16:24:46.877Z"
   },
   {
    "duration": 551,
    "start_time": "2022-05-18T16:24:46.896Z"
   },
   {
    "duration": 7,
    "start_time": "2022-05-18T16:24:47.448Z"
   },
   {
    "duration": 103,
    "start_time": "2022-05-18T16:24:47.456Z"
   },
   {
    "duration": 6,
    "start_time": "2022-05-18T16:24:47.561Z"
   },
   {
    "duration": 5,
    "start_time": "2022-05-18T16:24:47.569Z"
   },
   {
    "duration": 821,
    "start_time": "2022-05-18T16:24:47.576Z"
   },
   {
    "duration": 103,
    "start_time": "2022-05-18T16:24:48.399Z"
   },
   {
    "duration": 3,
    "start_time": "2022-05-18T16:24:48.504Z"
   },
   {
    "duration": 8,
    "start_time": "2022-05-18T16:24:48.509Z"
   },
   {
    "duration": 8,
    "start_time": "2022-05-18T16:24:48.518Z"
   },
   {
    "duration": 24,
    "start_time": "2022-05-18T16:24:48.527Z"
   },
   {
    "duration": 4,
    "start_time": "2022-05-18T16:24:48.556Z"
   },
   {
    "duration": 474,
    "start_time": "2022-05-18T16:24:48.561Z"
   },
   {
    "duration": 2,
    "start_time": "2022-05-18T16:24:49.037Z"
   },
   {
    "duration": 4299,
    "start_time": "2022-05-18T16:24:49.047Z"
   },
   {
    "duration": 11,
    "start_time": "2022-05-18T16:24:53.348Z"
   },
   {
    "duration": 160,
    "start_time": "2022-05-18T16:24:53.361Z"
   },
   {
    "duration": 0,
    "start_time": "2022-05-18T16:24:53.524Z"
   },
   {
    "duration": 8,
    "start_time": "2022-05-18T16:25:59.871Z"
   },
   {
    "duration": 1163,
    "start_time": "2022-05-18T16:26:18.509Z"
   },
   {
    "duration": 846,
    "start_time": "2022-05-18T16:26:19.674Z"
   },
   {
    "duration": 136,
    "start_time": "2022-05-18T16:26:20.522Z"
   },
   {
    "duration": 24,
    "start_time": "2022-05-18T16:26:20.660Z"
   },
   {
    "duration": 4,
    "start_time": "2022-05-18T16:26:20.687Z"
   },
   {
    "duration": 152,
    "start_time": "2022-05-18T16:26:20.692Z"
   },
   {
    "duration": 44,
    "start_time": "2022-05-18T16:26:20.845Z"
   },
   {
    "duration": 113,
    "start_time": "2022-05-18T16:26:20.891Z"
   },
   {
    "duration": 123,
    "start_time": "2022-05-18T16:26:21.006Z"
   },
   {
    "duration": 21,
    "start_time": "2022-05-18T16:26:21.131Z"
   },
   {
    "duration": 108,
    "start_time": "2022-05-18T16:26:21.154Z"
   },
   {
    "duration": 21,
    "start_time": "2022-05-18T16:26:21.264Z"
   },
   {
    "duration": 20,
    "start_time": "2022-05-18T16:26:21.287Z"
   },
   {
    "duration": 43,
    "start_time": "2022-05-18T16:26:21.311Z"
   },
   {
    "duration": 21,
    "start_time": "2022-05-18T16:26:21.356Z"
   },
   {
    "duration": 20,
    "start_time": "2022-05-18T16:26:21.379Z"
   },
   {
    "duration": 114,
    "start_time": "2022-05-18T16:26:21.401Z"
   },
   {
    "duration": 102,
    "start_time": "2022-05-18T16:26:21.516Z"
   },
   {
    "duration": 36,
    "start_time": "2022-05-18T16:26:21.620Z"
   },
   {
    "duration": 33,
    "start_time": "2022-05-18T16:26:21.657Z"
   },
   {
    "duration": 149,
    "start_time": "2022-05-18T16:26:21.692Z"
   },
   {
    "duration": 278,
    "start_time": "2022-05-18T16:26:21.843Z"
   },
   {
    "duration": 69,
    "start_time": "2022-05-18T16:26:22.122Z"
   },
   {
    "duration": 5,
    "start_time": "2022-05-18T16:26:22.193Z"
   },
   {
    "duration": 42,
    "start_time": "2022-05-18T16:26:22.199Z"
   },
   {
    "duration": 209,
    "start_time": "2022-05-18T16:26:22.243Z"
   },
   {
    "duration": 45,
    "start_time": "2022-05-18T16:26:22.454Z"
   },
   {
    "duration": 228,
    "start_time": "2022-05-18T16:26:22.500Z"
   },
   {
    "duration": 40,
    "start_time": "2022-05-18T16:26:22.730Z"
   },
   {
    "duration": 31,
    "start_time": "2022-05-18T16:26:22.772Z"
   },
   {
    "duration": 260,
    "start_time": "2022-05-18T16:26:22.805Z"
   },
   {
    "duration": 34,
    "start_time": "2022-05-18T16:26:23.067Z"
   },
   {
    "duration": 21,
    "start_time": "2022-05-18T16:26:23.102Z"
   },
   {
    "duration": 35,
    "start_time": "2022-05-18T16:26:23.125Z"
   },
   {
    "duration": 36,
    "start_time": "2022-05-18T16:26:23.161Z"
   },
   {
    "duration": 20,
    "start_time": "2022-05-18T16:26:23.199Z"
   },
   {
    "duration": 327,
    "start_time": "2022-05-18T16:26:23.221Z"
   },
   {
    "duration": 10,
    "start_time": "2022-05-18T16:26:23.550Z"
   },
   {
    "duration": 29,
    "start_time": "2022-05-18T16:26:23.562Z"
   },
   {
    "duration": 5,
    "start_time": "2022-05-18T16:26:23.593Z"
   },
   {
    "duration": 3,
    "start_time": "2022-05-18T16:26:23.604Z"
   },
   {
    "duration": 111,
    "start_time": "2022-05-18T16:26:23.608Z"
   },
   {
    "duration": 80,
    "start_time": "2022-05-18T16:26:23.721Z"
   },
   {
    "duration": 4,
    "start_time": "2022-05-18T16:26:23.803Z"
   },
   {
    "duration": 125,
    "start_time": "2022-05-18T16:26:23.809Z"
   },
   {
    "duration": 13,
    "start_time": "2022-05-18T16:26:23.936Z"
   },
   {
    "duration": 103,
    "start_time": "2022-05-18T16:26:23.951Z"
   },
   {
    "duration": 38,
    "start_time": "2022-05-18T16:26:24.055Z"
   },
   {
    "duration": 79,
    "start_time": "2022-05-18T16:26:24.095Z"
   },
   {
    "duration": 69,
    "start_time": "2022-05-18T16:26:24.175Z"
   },
   {
    "duration": 5,
    "start_time": "2022-05-18T16:26:24.246Z"
   },
   {
    "duration": 129,
    "start_time": "2022-05-18T16:26:24.253Z"
   },
   {
    "duration": 46,
    "start_time": "2022-05-18T16:26:24.384Z"
   },
   {
    "duration": 33,
    "start_time": "2022-05-18T16:26:24.441Z"
   },
   {
    "duration": 14,
    "start_time": "2022-05-18T16:26:24.476Z"
   },
   {
    "duration": 4,
    "start_time": "2022-05-18T16:26:24.492Z"
   },
   {
    "duration": 552,
    "start_time": "2022-05-18T16:26:24.497Z"
   },
   {
    "duration": 3,
    "start_time": "2022-05-18T16:26:25.052Z"
   },
   {
    "duration": 13,
    "start_time": "2022-05-18T16:26:25.143Z"
   },
   {
    "duration": 5,
    "start_time": "2022-05-18T16:26:25.242Z"
   },
   {
    "duration": 4,
    "start_time": "2022-05-18T16:26:25.249Z"
   },
   {
    "duration": 840,
    "start_time": "2022-05-18T16:26:25.255Z"
   },
   {
    "duration": 93,
    "start_time": "2022-05-18T16:26:26.097Z"
   },
   {
    "duration": 3,
    "start_time": "2022-05-18T16:26:26.191Z"
   },
   {
    "duration": 5,
    "start_time": "2022-05-18T16:26:26.196Z"
   },
   {
    "duration": 5,
    "start_time": "2022-05-18T16:26:26.202Z"
   },
   {
    "duration": 4,
    "start_time": "2022-05-18T16:26:26.209Z"
   },
   {
    "duration": 5,
    "start_time": "2022-05-18T16:26:26.215Z"
   },
   {
    "duration": 527,
    "start_time": "2022-05-18T16:26:26.222Z"
   },
   {
    "duration": 2,
    "start_time": "2022-05-18T16:26:26.751Z"
   },
   {
    "duration": 3107,
    "start_time": "2022-05-18T16:26:26.755Z"
   },
   {
    "duration": 15,
    "start_time": "2022-05-18T16:26:29.865Z"
   },
   {
    "duration": 161,
    "start_time": "2022-05-18T16:26:29.882Z"
   },
   {
    "duration": 0,
    "start_time": "2022-05-18T16:26:30.045Z"
   },
   {
    "duration": 21,
    "start_time": "2022-05-18T16:26:45.743Z"
   },
   {
    "duration": 21,
    "start_time": "2022-05-18T16:27:30.429Z"
   },
   {
    "duration": 1148,
    "start_time": "2022-05-18T16:27:37.542Z"
   },
   {
    "duration": 843,
    "start_time": "2022-05-18T16:27:38.692Z"
   },
   {
    "duration": 135,
    "start_time": "2022-05-18T16:27:39.537Z"
   },
   {
    "duration": 20,
    "start_time": "2022-05-18T16:27:39.674Z"
   },
   {
    "duration": 3,
    "start_time": "2022-05-18T16:27:39.697Z"
   },
   {
    "duration": 161,
    "start_time": "2022-05-18T16:27:39.701Z"
   },
   {
    "duration": 46,
    "start_time": "2022-05-18T16:27:39.864Z"
   },
   {
    "duration": 166,
    "start_time": "2022-05-18T16:27:39.911Z"
   },
   {
    "duration": 110,
    "start_time": "2022-05-18T16:27:40.079Z"
   },
   {
    "duration": 15,
    "start_time": "2022-05-18T16:27:40.191Z"
   },
   {
    "duration": 112,
    "start_time": "2022-05-18T16:27:40.208Z"
   },
   {
    "duration": 26,
    "start_time": "2022-05-18T16:27:40.321Z"
   },
   {
    "duration": 20,
    "start_time": "2022-05-18T16:27:40.349Z"
   },
   {
    "duration": 22,
    "start_time": "2022-05-18T16:27:40.372Z"
   },
   {
    "duration": 20,
    "start_time": "2022-05-18T16:27:40.396Z"
   },
   {
    "duration": 20,
    "start_time": "2022-05-18T16:27:40.441Z"
   },
   {
    "duration": 103,
    "start_time": "2022-05-18T16:27:40.463Z"
   },
   {
    "duration": 107,
    "start_time": "2022-05-18T16:27:40.567Z"
   },
   {
    "duration": 27,
    "start_time": "2022-05-18T16:27:40.676Z"
   },
   {
    "duration": 46,
    "start_time": "2022-05-18T16:27:40.704Z"
   },
   {
    "duration": 143,
    "start_time": "2022-05-18T16:27:40.752Z"
   },
   {
    "duration": 284,
    "start_time": "2022-05-18T16:27:40.897Z"
   },
   {
    "duration": 48,
    "start_time": "2022-05-18T16:27:41.183Z"
   },
   {
    "duration": 6,
    "start_time": "2022-05-18T16:27:41.241Z"
   },
   {
    "duration": 30,
    "start_time": "2022-05-18T16:27:41.249Z"
   },
   {
    "duration": 219,
    "start_time": "2022-05-18T16:27:41.281Z"
   },
   {
    "duration": 28,
    "start_time": "2022-05-18T16:27:41.502Z"
   },
   {
    "duration": 220,
    "start_time": "2022-05-18T16:27:41.542Z"
   },
   {
    "duration": 35,
    "start_time": "2022-05-18T16:27:41.764Z"
   },
   {
    "duration": 45,
    "start_time": "2022-05-18T16:27:41.800Z"
   },
   {
    "duration": 245,
    "start_time": "2022-05-18T16:27:41.847Z"
   },
   {
    "duration": 28,
    "start_time": "2022-05-18T16:27:42.094Z"
   },
   {
    "duration": 20,
    "start_time": "2022-05-18T16:27:42.124Z"
   },
   {
    "duration": 39,
    "start_time": "2022-05-18T16:27:42.146Z"
   },
   {
    "duration": 35,
    "start_time": "2022-05-18T16:27:42.187Z"
   },
   {
    "duration": 34,
    "start_time": "2022-05-18T16:27:42.224Z"
   },
   {
    "duration": 306,
    "start_time": "2022-05-18T16:27:42.259Z"
   },
   {
    "duration": 9,
    "start_time": "2022-05-18T16:27:42.566Z"
   },
   {
    "duration": 25,
    "start_time": "2022-05-18T16:27:42.576Z"
   },
   {
    "duration": 4,
    "start_time": "2022-05-18T16:27:42.603Z"
   },
   {
    "duration": 3,
    "start_time": "2022-05-18T16:27:42.611Z"
   },
   {
    "duration": 75,
    "start_time": "2022-05-18T16:27:42.641Z"
   },
   {
    "duration": 84,
    "start_time": "2022-05-18T16:27:42.718Z"
   },
   {
    "duration": 4,
    "start_time": "2022-05-18T16:27:42.804Z"
   },
   {
    "duration": 87,
    "start_time": "2022-05-18T16:27:42.809Z"
   },
   {
    "duration": 11,
    "start_time": "2022-05-18T16:27:42.898Z"
   },
   {
    "duration": 105,
    "start_time": "2022-05-18T16:27:42.911Z"
   },
   {
    "duration": 45,
    "start_time": "2022-05-18T16:27:43.017Z"
   },
   {
    "duration": 78,
    "start_time": "2022-05-18T16:27:43.063Z"
   },
   {
    "duration": 88,
    "start_time": "2022-05-18T16:27:43.143Z"
   },
   {
    "duration": 5,
    "start_time": "2022-05-18T16:27:43.242Z"
   },
   {
    "duration": 136,
    "start_time": "2022-05-18T16:27:43.249Z"
   },
   {
    "duration": 55,
    "start_time": "2022-05-18T16:27:43.386Z"
   },
   {
    "duration": 36,
    "start_time": "2022-05-18T16:27:43.443Z"
   },
   {
    "duration": 14,
    "start_time": "2022-05-18T16:27:43.481Z"
   },
   {
    "duration": 3,
    "start_time": "2022-05-18T16:27:43.497Z"
   },
   {
    "duration": 542,
    "start_time": "2022-05-18T16:27:43.502Z"
   },
   {
    "duration": 93,
    "start_time": "2022-05-18T16:27:44.047Z"
   },
   {
    "duration": 6,
    "start_time": "2022-05-18T16:27:44.142Z"
   },
   {
    "duration": 4,
    "start_time": "2022-05-18T16:27:44.150Z"
   },
   {
    "duration": 4,
    "start_time": "2022-05-18T16:27:44.156Z"
   },
   {
    "duration": 869,
    "start_time": "2022-05-18T16:27:44.162Z"
   },
   {
    "duration": 23,
    "start_time": "2022-05-18T16:27:45.032Z"
   },
   {
    "duration": 2,
    "start_time": "2022-05-18T16:27:45.057Z"
   },
   {
    "duration": 10,
    "start_time": "2022-05-18T16:27:45.061Z"
   },
   {
    "duration": 5,
    "start_time": "2022-05-18T16:27:45.073Z"
   },
   {
    "duration": 6,
    "start_time": "2022-05-18T16:27:45.080Z"
   },
   {
    "duration": 4,
    "start_time": "2022-05-18T16:27:45.088Z"
   },
   {
    "duration": 489,
    "start_time": "2022-05-18T16:27:45.095Z"
   },
   {
    "duration": 3,
    "start_time": "2022-05-18T16:27:45.585Z"
   },
   {
    "duration": 3156,
    "start_time": "2022-05-18T16:27:45.590Z"
   },
   {
    "duration": 9,
    "start_time": "2022-05-18T16:27:48.748Z"
   },
   {
    "duration": 129,
    "start_time": "2022-05-18T16:27:48.758Z"
   },
   {
    "duration": 0,
    "start_time": "2022-05-18T16:27:48.888Z"
   },
   {
    "duration": 14,
    "start_time": "2022-05-18T16:28:30.389Z"
   },
   {
    "duration": 1122,
    "start_time": "2022-05-18T16:28:40.868Z"
   },
   {
    "duration": 836,
    "start_time": "2022-05-18T16:28:41.992Z"
   },
   {
    "duration": 129,
    "start_time": "2022-05-18T16:28:42.830Z"
   },
   {
    "duration": 20,
    "start_time": "2022-05-18T16:28:42.961Z"
   },
   {
    "duration": 3,
    "start_time": "2022-05-18T16:28:42.984Z"
   },
   {
    "duration": 148,
    "start_time": "2022-05-18T16:28:42.988Z"
   },
   {
    "duration": 41,
    "start_time": "2022-05-18T16:28:43.140Z"
   },
   {
    "duration": 114,
    "start_time": "2022-05-18T16:28:43.183Z"
   },
   {
    "duration": 108,
    "start_time": "2022-05-18T16:28:43.298Z"
   },
   {
    "duration": 18,
    "start_time": "2022-05-18T16:28:43.408Z"
   },
   {
    "duration": 96,
    "start_time": "2022-05-18T16:28:43.446Z"
   },
   {
    "duration": 20,
    "start_time": "2022-05-18T16:28:43.544Z"
   },
   {
    "duration": 19,
    "start_time": "2022-05-18T16:28:43.566Z"
   },
   {
    "duration": 21,
    "start_time": "2022-05-18T16:28:43.588Z"
   },
   {
    "duration": 43,
    "start_time": "2022-05-18T16:28:43.610Z"
   },
   {
    "duration": 22,
    "start_time": "2022-05-18T16:28:43.654Z"
   },
   {
    "duration": 109,
    "start_time": "2022-05-18T16:28:43.678Z"
   },
   {
    "duration": 102,
    "start_time": "2022-05-18T16:28:43.789Z"
   },
   {
    "duration": 27,
    "start_time": "2022-05-18T16:28:43.893Z"
   },
   {
    "duration": 46,
    "start_time": "2022-05-18T16:28:43.922Z"
   },
   {
    "duration": 141,
    "start_time": "2022-05-18T16:28:43.970Z"
   },
   {
    "duration": 279,
    "start_time": "2022-05-18T16:28:44.113Z"
   },
   {
    "duration": 59,
    "start_time": "2022-05-18T16:28:44.394Z"
   },
   {
    "duration": 4,
    "start_time": "2022-05-18T16:28:44.455Z"
   },
   {
    "duration": 52,
    "start_time": "2022-05-18T16:28:44.461Z"
   },
   {
    "duration": 204,
    "start_time": "2022-05-18T16:28:44.515Z"
   },
   {
    "duration": 42,
    "start_time": "2022-05-18T16:28:44.720Z"
   },
   {
    "duration": 216,
    "start_time": "2022-05-18T16:28:44.763Z"
   },
   {
    "duration": 35,
    "start_time": "2022-05-18T16:28:44.981Z"
   },
   {
    "duration": 38,
    "start_time": "2022-05-18T16:28:45.018Z"
   },
   {
    "duration": 235,
    "start_time": "2022-05-18T16:28:45.057Z"
   },
   {
    "duration": 27,
    "start_time": "2022-05-18T16:28:45.294Z"
   },
   {
    "duration": 19,
    "start_time": "2022-05-18T16:28:45.322Z"
   },
   {
    "duration": 31,
    "start_time": "2022-05-18T16:28:45.342Z"
   },
   {
    "duration": 34,
    "start_time": "2022-05-18T16:28:45.374Z"
   },
   {
    "duration": 41,
    "start_time": "2022-05-18T16:28:45.410Z"
   },
   {
    "duration": 303,
    "start_time": "2022-05-18T16:28:45.452Z"
   },
   {
    "duration": 8,
    "start_time": "2022-05-18T16:28:45.756Z"
   },
   {
    "duration": 23,
    "start_time": "2022-05-18T16:28:45.765Z"
   },
   {
    "duration": 13,
    "start_time": "2022-05-18T16:28:45.790Z"
   },
   {
    "duration": 3,
    "start_time": "2022-05-18T16:28:45.809Z"
   },
   {
    "duration": 90,
    "start_time": "2022-05-18T16:28:45.841Z"
   },
   {
    "duration": 82,
    "start_time": "2022-05-18T16:28:45.932Z"
   },
   {
    "duration": 4,
    "start_time": "2022-05-18T16:28:46.016Z"
   },
   {
    "duration": 88,
    "start_time": "2022-05-18T16:28:46.021Z"
   },
   {
    "duration": 14,
    "start_time": "2022-05-18T16:28:46.111Z"
   },
   {
    "duration": 87,
    "start_time": "2022-05-18T16:28:46.141Z"
   },
   {
    "duration": 53,
    "start_time": "2022-05-18T16:28:46.229Z"
   },
   {
    "duration": 71,
    "start_time": "2022-05-18T16:28:46.284Z"
   },
   {
    "duration": 60,
    "start_time": "2022-05-18T16:28:46.357Z"
   },
   {
    "duration": 4,
    "start_time": "2022-05-18T16:28:46.419Z"
   },
   {
    "duration": 124,
    "start_time": "2022-05-18T16:28:46.441Z"
   },
   {
    "duration": 45,
    "start_time": "2022-05-18T16:28:46.567Z"
   },
   {
    "duration": 43,
    "start_time": "2022-05-18T16:28:46.614Z"
   },
   {
    "duration": 12,
    "start_time": "2022-05-18T16:28:46.659Z"
   },
   {
    "duration": 2,
    "start_time": "2022-05-18T16:28:46.673Z"
   },
   {
    "duration": 566,
    "start_time": "2022-05-18T16:28:46.677Z"
   },
   {
    "duration": 4,
    "start_time": "2022-05-18T16:28:47.245Z"
   },
   {
    "duration": 91,
    "start_time": "2022-05-18T16:28:47.251Z"
   },
   {
    "duration": 5,
    "start_time": "2022-05-18T16:28:47.344Z"
   },
   {
    "duration": 5,
    "start_time": "2022-05-18T16:28:47.350Z"
   },
   {
    "duration": 836,
    "start_time": "2022-05-18T16:28:47.357Z"
   },
   {
    "duration": 17,
    "start_time": "2022-05-18T16:28:48.195Z"
   },
   {
    "duration": 5,
    "start_time": "2022-05-18T16:28:48.214Z"
   },
   {
    "duration": 5,
    "start_time": "2022-05-18T16:28:48.220Z"
   },
   {
    "duration": 2,
    "start_time": "2022-05-18T16:28:48.242Z"
   },
   {
    "duration": 5,
    "start_time": "2022-05-18T16:28:48.245Z"
   },
   {
    "duration": 5,
    "start_time": "2022-05-18T16:28:48.251Z"
   },
   {
    "duration": 450,
    "start_time": "2022-05-18T16:28:48.258Z"
   },
   {
    "duration": 4,
    "start_time": "2022-05-18T16:28:48.710Z"
   },
   {
    "duration": 3246,
    "start_time": "2022-05-18T16:28:48.715Z"
   },
   {
    "duration": 9,
    "start_time": "2022-05-18T16:28:51.963Z"
   },
   {
    "duration": 158,
    "start_time": "2022-05-18T16:28:51.973Z"
   },
   {
    "duration": 0,
    "start_time": "2022-05-18T16:28:52.133Z"
   },
   {
    "duration": 4,
    "start_time": "2022-05-18T16:29:37.669Z"
   },
   {
    "duration": 52,
    "start_time": "2022-05-18T16:31:11.960Z"
   },
   {
    "duration": 4,
    "start_time": "2022-05-18T16:31:33.172Z"
   },
   {
    "duration": 74,
    "start_time": "2022-05-18T16:32:10.836Z"
   },
   {
    "duration": 5,
    "start_time": "2022-05-18T16:32:23.404Z"
   },
   {
    "duration": 3,
    "start_time": "2022-05-18T16:32:30.843Z"
   },
   {
    "duration": 3,
    "start_time": "2022-05-18T16:32:32.943Z"
   },
   {
    "duration": 3,
    "start_time": "2022-05-18T16:32:36.699Z"
   },
   {
    "duration": 1091,
    "start_time": "2022-05-18T16:32:48.853Z"
   },
   {
    "duration": 80,
    "start_time": "2022-05-18T16:33:28.159Z"
   },
   {
    "duration": 127,
    "start_time": "2022-05-18T16:34:29.543Z"
   },
   {
    "duration": 32,
    "start_time": "2022-05-18T16:34:37.853Z"
   },
   {
    "duration": 30,
    "start_time": "2022-05-18T16:34:42.555Z"
   },
   {
    "duration": 29,
    "start_time": "2022-05-18T16:34:46.648Z"
   },
   {
    "duration": 32,
    "start_time": "2022-05-18T16:34:47.168Z"
   },
   {
    "duration": 5,
    "start_time": "2022-05-18T16:34:47.819Z"
   },
   {
    "duration": 3,
    "start_time": "2022-05-18T16:34:49.497Z"
   },
   {
    "duration": 3,
    "start_time": "2022-05-18T16:34:50.117Z"
   },
   {
    "duration": 2,
    "start_time": "2022-05-18T16:34:50.697Z"
   },
   {
    "duration": 2,
    "start_time": "2022-05-18T16:34:51.174Z"
   },
   {
    "duration": 4,
    "start_time": "2022-05-18T16:34:51.706Z"
   },
   {
    "duration": 570,
    "start_time": "2022-05-18T16:34:53.343Z"
   },
   {
    "duration": 3122,
    "start_time": "2022-05-18T16:40:14.929Z"
   },
   {
    "duration": 372,
    "start_time": "2022-05-18T16:42:25.010Z"
   },
   {
    "duration": 5,
    "start_time": "2022-05-18T16:43:58.781Z"
   },
   {
    "duration": 31,
    "start_time": "2022-05-18T16:44:07.685Z"
   },
   {
    "duration": 12,
    "start_time": "2022-05-18T16:44:18.356Z"
   },
   {
    "duration": 8,
    "start_time": "2022-05-18T16:44:22.551Z"
   },
   {
    "duration": 300,
    "start_time": "2022-05-18T16:44:28.876Z"
   },
   {
    "duration": 860,
    "start_time": "2022-05-18T16:44:54.399Z"
   },
   {
    "duration": 403,
    "start_time": "2022-05-18T16:45:05.953Z"
   },
   {
    "duration": 38,
    "start_time": "2022-05-18T16:46:00.844Z"
   },
   {
    "duration": 26,
    "start_time": "2022-05-18T16:46:19.944Z"
   },
   {
    "duration": 17,
    "start_time": "2022-05-18T16:46:56.716Z"
   },
   {
    "duration": 10,
    "start_time": "2022-05-18T16:50:12.621Z"
   },
   {
    "duration": 5,
    "start_time": "2022-05-18T16:50:36.959Z"
   },
   {
    "duration": 5,
    "start_time": "2022-05-18T16:50:47.141Z"
   },
   {
    "duration": 457,
    "start_time": "2022-05-18T16:50:49.310Z"
   },
   {
    "duration": 17,
    "start_time": "2022-05-18T16:53:10.670Z"
   },
   {
    "duration": 76,
    "start_time": "2022-05-19T05:31:18.050Z"
   },
   {
    "duration": 17,
    "start_time": "2022-05-19T05:31:23.272Z"
   },
   {
    "duration": 7,
    "start_time": "2022-05-19T05:31:32.718Z"
   },
   {
    "duration": 1511,
    "start_time": "2022-05-19T05:31:36.387Z"
   },
   {
    "duration": 3467,
    "start_time": "2022-05-19T05:31:37.900Z"
   },
   {
    "duration": 182,
    "start_time": "2022-05-19T05:31:41.369Z"
   },
   {
    "duration": 52,
    "start_time": "2022-05-19T05:31:41.556Z"
   },
   {
    "duration": 3,
    "start_time": "2022-05-19T05:31:41.609Z"
   },
   {
    "duration": 185,
    "start_time": "2022-05-19T05:31:41.615Z"
   },
   {
    "duration": 63,
    "start_time": "2022-05-19T05:31:41.802Z"
   },
   {
    "duration": 108,
    "start_time": "2022-05-19T05:31:41.867Z"
   },
   {
    "duration": 133,
    "start_time": "2022-05-19T05:31:41.976Z"
   },
   {
    "duration": 18,
    "start_time": "2022-05-19T05:31:42.112Z"
   },
   {
    "duration": 150,
    "start_time": "2022-05-19T05:31:42.131Z"
   },
   {
    "duration": 27,
    "start_time": "2022-05-19T05:31:42.283Z"
   },
   {
    "duration": 20,
    "start_time": "2022-05-19T05:31:42.311Z"
   },
   {
    "duration": 48,
    "start_time": "2022-05-19T05:31:42.332Z"
   },
   {
    "duration": 32,
    "start_time": "2022-05-19T05:31:42.382Z"
   },
   {
    "duration": 21,
    "start_time": "2022-05-19T05:31:42.416Z"
   },
   {
    "duration": 120,
    "start_time": "2022-05-19T05:31:42.439Z"
   },
   {
    "duration": 118,
    "start_time": "2022-05-19T05:31:42.560Z"
   },
   {
    "duration": 29,
    "start_time": "2022-05-19T05:31:42.679Z"
   },
   {
    "duration": 39,
    "start_time": "2022-05-19T05:31:42.710Z"
   },
   {
    "duration": 433,
    "start_time": "2022-05-19T05:31:42.755Z"
   },
   {
    "duration": 225,
    "start_time": "2022-05-19T05:31:43.190Z"
   },
   {
    "duration": 69,
    "start_time": "2022-05-19T05:31:43.417Z"
   },
   {
    "duration": 5,
    "start_time": "2022-05-19T05:31:43.488Z"
   },
   {
    "duration": 35,
    "start_time": "2022-05-19T05:31:43.494Z"
   },
   {
    "duration": 242,
    "start_time": "2022-05-19T05:31:43.531Z"
   },
   {
    "duration": 34,
    "start_time": "2022-05-19T05:31:43.775Z"
   },
   {
    "duration": 294,
    "start_time": "2022-05-19T05:31:43.815Z"
   },
   {
    "duration": 53,
    "start_time": "2022-05-19T05:31:44.110Z"
   },
   {
    "duration": 33,
    "start_time": "2022-05-19T05:31:44.171Z"
   },
   {
    "duration": 235,
    "start_time": "2022-05-19T05:31:44.205Z"
   },
   {
    "duration": 35,
    "start_time": "2022-05-19T05:31:44.442Z"
   },
   {
    "duration": 20,
    "start_time": "2022-05-19T05:31:44.478Z"
   },
   {
    "duration": 55,
    "start_time": "2022-05-19T05:31:44.500Z"
   },
   {
    "duration": 36,
    "start_time": "2022-05-19T05:31:44.558Z"
   },
   {
    "duration": 21,
    "start_time": "2022-05-19T05:31:44.596Z"
   },
   {
    "duration": 320,
    "start_time": "2022-05-19T05:31:44.619Z"
   },
   {
    "duration": 17,
    "start_time": "2022-05-19T05:31:44.941Z"
   },
   {
    "duration": 43,
    "start_time": "2022-05-19T05:31:44.960Z"
   },
   {
    "duration": 11,
    "start_time": "2022-05-19T05:31:45.004Z"
   },
   {
    "duration": 14,
    "start_time": "2022-05-19T05:31:45.016Z"
   },
   {
    "duration": 96,
    "start_time": "2022-05-19T05:31:45.032Z"
   },
   {
    "duration": 89,
    "start_time": "2022-05-19T05:31:45.133Z"
   },
   {
    "duration": 4,
    "start_time": "2022-05-19T05:31:45.223Z"
   },
   {
    "duration": 95,
    "start_time": "2022-05-19T05:31:45.229Z"
   },
   {
    "duration": 31,
    "start_time": "2022-05-19T05:31:45.326Z"
   },
   {
    "duration": 114,
    "start_time": "2022-05-19T05:31:45.359Z"
   },
   {
    "duration": 42,
    "start_time": "2022-05-19T05:31:45.474Z"
   },
   {
    "duration": 70,
    "start_time": "2022-05-19T05:31:45.518Z"
   },
   {
    "duration": 81,
    "start_time": "2022-05-19T05:31:45.590Z"
   },
   {
    "duration": 6,
    "start_time": "2022-05-19T05:31:45.672Z"
   },
   {
    "duration": 161,
    "start_time": "2022-05-19T05:31:45.679Z"
   },
   {
    "duration": 50,
    "start_time": "2022-05-19T05:31:45.848Z"
   },
   {
    "duration": 35,
    "start_time": "2022-05-19T05:31:45.900Z"
   },
   {
    "duration": 22,
    "start_time": "2022-05-19T05:31:45.940Z"
   },
   {
    "duration": 13,
    "start_time": "2022-05-19T05:31:45.966Z"
   },
   {
    "duration": 687,
    "start_time": "2022-05-19T05:31:45.980Z"
   },
   {
    "duration": 19,
    "start_time": "2022-05-19T05:31:46.672Z"
   },
   {
    "duration": 101,
    "start_time": "2022-05-19T05:31:46.693Z"
   },
   {
    "duration": 6,
    "start_time": "2022-05-19T05:31:46.796Z"
   },
   {
    "duration": 9,
    "start_time": "2022-05-19T05:31:46.803Z"
   },
   {
    "duration": 1140,
    "start_time": "2022-05-19T05:31:46.813Z"
   },
   {
    "duration": 5,
    "start_time": "2022-05-19T05:31:47.956Z"
   },
   {
    "duration": 153,
    "start_time": "2022-05-19T05:31:47.962Z"
   },
   {
    "duration": 6,
    "start_time": "2022-05-19T05:31:48.118Z"
   },
   {
    "duration": 47,
    "start_time": "2022-05-19T05:31:48.126Z"
   },
   {
    "duration": 15,
    "start_time": "2022-05-19T05:31:48.175Z"
   },
   {
    "duration": 3,
    "start_time": "2022-05-19T05:31:48.192Z"
   },
   {
    "duration": 15,
    "start_time": "2022-05-19T05:31:48.199Z"
   },
   {
    "duration": 9,
    "start_time": "2022-05-19T05:31:48.216Z"
   },
   {
    "duration": 8,
    "start_time": "2022-05-19T05:31:48.227Z"
   },
   {
    "duration": 24,
    "start_time": "2022-05-19T05:31:48.239Z"
   },
   {
    "duration": 964,
    "start_time": "2022-05-19T05:31:48.270Z"
   },
   {
    "duration": 3,
    "start_time": "2022-05-19T05:31:55.709Z"
   },
   {
    "duration": 83,
    "start_time": "2022-05-19T05:31:56.693Z"
   },
   {
    "duration": 3,
    "start_time": "2022-05-19T05:32:09.919Z"
   },
   {
    "duration": 0,
    "start_time": "2022-05-19T05:33:04.797Z"
   },
   {
    "duration": 3,
    "start_time": "2022-05-19T05:33:09.697Z"
   },
   {
    "duration": 363755,
    "start_time": "2022-05-19T05:33:10.398Z"
   },
   {
    "duration": 0,
    "start_time": "2022-05-19T05:39:14.156Z"
   },
   {
    "duration": 4,
    "start_time": "2022-05-19T05:39:27.878Z"
   },
   {
    "duration": 857,
    "start_time": "2022-05-19T05:39:27.884Z"
   },
   {
    "duration": 158,
    "start_time": "2022-05-19T05:39:28.749Z"
   },
   {
    "duration": 12,
    "start_time": "2022-05-19T05:39:28.909Z"
   },
   {
    "duration": 5,
    "start_time": "2022-05-19T05:39:28.922Z"
   },
   {
    "duration": 160,
    "start_time": "2022-05-19T05:39:28.928Z"
   },
   {
    "duration": 27,
    "start_time": "2022-05-19T05:39:29.089Z"
   },
   {
    "duration": 112,
    "start_time": "2022-05-19T05:39:29.118Z"
   },
   {
    "duration": 97,
    "start_time": "2022-05-19T05:39:29.232Z"
   },
   {
    "duration": 17,
    "start_time": "2022-05-19T05:39:29.332Z"
   },
   {
    "duration": 131,
    "start_time": "2022-05-19T05:39:29.351Z"
   },
   {
    "duration": 24,
    "start_time": "2022-05-19T05:39:29.484Z"
   },
   {
    "duration": 33,
    "start_time": "2022-05-19T05:39:29.510Z"
   },
   {
    "duration": 34,
    "start_time": "2022-05-19T05:39:29.545Z"
   },
   {
    "duration": 30,
    "start_time": "2022-05-19T05:39:29.580Z"
   },
   {
    "duration": 20,
    "start_time": "2022-05-19T05:39:29.612Z"
   },
   {
    "duration": 120,
    "start_time": "2022-05-19T05:39:29.634Z"
   },
   {
    "duration": 117,
    "start_time": "2022-05-19T05:39:29.756Z"
   },
   {
    "duration": 22,
    "start_time": "2022-05-19T05:39:29.875Z"
   },
   {
    "duration": 38,
    "start_time": "2022-05-19T05:39:29.899Z"
   },
   {
    "duration": 10,
    "start_time": "2022-05-19T05:39:29.938Z"
   },
   {
    "duration": 246,
    "start_time": "2022-05-19T05:39:29.952Z"
   },
   {
    "duration": 50,
    "start_time": "2022-05-19T05:39:30.199Z"
   },
   {
    "duration": 4,
    "start_time": "2022-05-19T05:39:30.253Z"
   },
   {
    "duration": 54,
    "start_time": "2022-05-19T05:39:30.259Z"
   },
   {
    "duration": 211,
    "start_time": "2022-05-19T05:39:30.314Z"
   },
   {
    "duration": 49,
    "start_time": "2022-05-19T05:39:30.527Z"
   },
   {
    "duration": 237,
    "start_time": "2022-05-19T05:39:30.580Z"
   },
   {
    "duration": 48,
    "start_time": "2022-05-19T05:39:30.819Z"
   },
   {
    "duration": 31,
    "start_time": "2022-05-19T05:39:30.870Z"
   },
   {
    "duration": 323,
    "start_time": "2022-05-19T05:39:30.903Z"
   },
   {
    "duration": 33,
    "start_time": "2022-05-19T05:39:31.228Z"
   },
   {
    "duration": 19,
    "start_time": "2022-05-19T05:39:31.263Z"
   },
   {
    "duration": 28,
    "start_time": "2022-05-19T05:39:31.284Z"
   },
   {
    "duration": 53,
    "start_time": "2022-05-19T05:39:31.314Z"
   },
   {
    "duration": 18,
    "start_time": "2022-05-19T05:39:31.372Z"
   },
   {
    "duration": 306,
    "start_time": "2022-05-19T05:39:31.392Z"
   },
   {
    "duration": 8,
    "start_time": "2022-05-19T05:39:31.699Z"
   },
   {
    "duration": 41,
    "start_time": "2022-05-19T05:39:31.708Z"
   },
   {
    "duration": 15,
    "start_time": "2022-05-19T05:39:31.759Z"
   },
   {
    "duration": 16,
    "start_time": "2022-05-19T05:39:31.777Z"
   },
   {
    "duration": 100,
    "start_time": "2022-05-19T05:39:31.795Z"
   },
   {
    "duration": 98,
    "start_time": "2022-05-19T05:39:31.897Z"
   },
   {
    "duration": 5,
    "start_time": "2022-05-19T05:39:31.997Z"
   },
   {
    "duration": 103,
    "start_time": "2022-05-19T05:39:32.004Z"
   },
   {
    "duration": 14,
    "start_time": "2022-05-19T05:39:32.108Z"
   },
   {
    "duration": 109,
    "start_time": "2022-05-19T05:39:32.124Z"
   },
   {
    "duration": 42,
    "start_time": "2022-05-19T05:39:32.242Z"
   },
   {
    "duration": 79,
    "start_time": "2022-05-19T05:39:32.286Z"
   },
   {
    "duration": 57,
    "start_time": "2022-05-19T05:39:32.366Z"
   },
   {
    "duration": 4,
    "start_time": "2022-05-19T05:39:32.425Z"
   },
   {
    "duration": 335,
    "start_time": "2022-05-19T05:39:32.431Z"
   },
   {
    "duration": 110,
    "start_time": "2022-05-19T05:39:32.768Z"
   },
   {
    "duration": 35,
    "start_time": "2022-05-19T05:39:32.880Z"
   },
   {
    "duration": 43,
    "start_time": "2022-05-19T05:39:32.917Z"
   },
   {
    "duration": 31,
    "start_time": "2022-05-19T05:39:32.963Z"
   },
   {
    "duration": 854,
    "start_time": "2022-05-19T05:39:32.997Z"
   },
   {
    "duration": 4,
    "start_time": "2022-05-19T05:39:33.852Z"
   },
   {
    "duration": 118,
    "start_time": "2022-05-19T05:39:33.858Z"
   },
   {
    "duration": 10,
    "start_time": "2022-05-19T05:39:33.978Z"
   },
   {
    "duration": 3,
    "start_time": "2022-05-19T05:39:33.990Z"
   },
   {
    "duration": 857,
    "start_time": "2022-05-19T05:39:33.995Z"
   },
   {
    "duration": 5,
    "start_time": "2022-05-19T05:39:34.854Z"
   },
   {
    "duration": 163,
    "start_time": "2022-05-19T05:39:34.860Z"
   },
   {
    "duration": 6,
    "start_time": "2022-05-19T05:39:35.025Z"
   },
   {
    "duration": 49,
    "start_time": "2022-05-19T05:39:35.034Z"
   },
   {
    "duration": 6,
    "start_time": "2022-05-19T05:39:35.085Z"
   },
   {
    "duration": 14,
    "start_time": "2022-05-19T05:39:35.092Z"
   },
   {
    "duration": 5,
    "start_time": "2022-05-19T05:39:35.108Z"
   },
   {
    "duration": 9,
    "start_time": "2022-05-19T05:39:35.115Z"
   },
   {
    "duration": 4,
    "start_time": "2022-05-19T05:39:35.126Z"
   },
   {
    "duration": 50,
    "start_time": "2022-05-19T05:39:35.132Z"
   },
   {
    "duration": 873,
    "start_time": "2022-05-19T05:39:35.184Z"
   },
   {
    "duration": 3,
    "start_time": "2022-05-19T05:39:36.058Z"
   },
   {
    "duration": 8888,
    "start_time": "2022-05-19T05:39:36.063Z"
   },
   {
    "duration": 7914,
    "start_time": "2022-05-19T05:39:44.953Z"
   },
   {
    "duration": 9,
    "start_time": "2022-05-19T05:39:52.869Z"
   },
   {
    "duration": 13,
    "start_time": "2022-05-19T05:39:52.880Z"
   },
   {
    "duration": 0,
    "start_time": "2022-05-19T05:39:52.895Z"
   },
   {
    "duration": 7586,
    "start_time": "2022-05-19T05:40:47.169Z"
   },
   {
    "duration": 10,
    "start_time": "2022-05-19T05:40:54.757Z"
   },
   {
    "duration": 31,
    "start_time": "2022-05-19T05:47:55.015Z"
   },
   {
    "duration": 3,
    "start_time": "2022-05-19T05:48:01.875Z"
   },
   {
    "duration": 4,
    "start_time": "2022-05-19T05:50:01.568Z"
   },
   {
    "duration": 2,
    "start_time": "2022-05-19T05:51:29.225Z"
   },
   {
    "duration": 199684,
    "start_time": "2022-05-19T05:52:47.593Z"
   },
   {
    "duration": 5,
    "start_time": "2022-05-19T05:56:34.799Z"
   },
   {
    "duration": 9685,
    "start_time": "2022-05-19T05:58:29.464Z"
   },
   {
    "duration": 521,
    "start_time": "2022-05-19T05:58:46.537Z"
   },
   {
    "duration": 11,
    "start_time": "2022-05-19T05:58:51.156Z"
   },
   {
    "duration": 7,
    "start_time": "2022-05-19T06:02:12.370Z"
   },
   {
    "duration": 10,
    "start_time": "2022-05-19T06:02:15.377Z"
   },
   {
    "duration": 1111,
    "start_time": "2022-05-19T06:06:28.321Z"
   },
   {
    "duration": 847,
    "start_time": "2022-05-19T06:06:29.434Z"
   },
   {
    "duration": 144,
    "start_time": "2022-05-19T06:06:30.283Z"
   },
   {
    "duration": 30,
    "start_time": "2022-05-19T06:06:30.428Z"
   },
   {
    "duration": 30,
    "start_time": "2022-05-19T06:06:30.460Z"
   },
   {
    "duration": 168,
    "start_time": "2022-05-19T06:06:30.491Z"
   },
   {
    "duration": 36,
    "start_time": "2022-05-19T06:06:30.660Z"
   },
   {
    "duration": 113,
    "start_time": "2022-05-19T06:06:30.698Z"
   },
   {
    "duration": 133,
    "start_time": "2022-05-19T06:06:30.812Z"
   },
   {
    "duration": 15,
    "start_time": "2022-05-19T06:06:30.947Z"
   },
   {
    "duration": 118,
    "start_time": "2022-05-19T06:06:30.966Z"
   },
   {
    "duration": 26,
    "start_time": "2022-05-19T06:06:31.088Z"
   },
   {
    "duration": 35,
    "start_time": "2022-05-19T06:06:31.116Z"
   },
   {
    "duration": 31,
    "start_time": "2022-05-19T06:06:31.158Z"
   },
   {
    "duration": 19,
    "start_time": "2022-05-19T06:06:31.191Z"
   },
   {
    "duration": 20,
    "start_time": "2022-05-19T06:06:31.212Z"
   },
   {
    "duration": 122,
    "start_time": "2022-05-19T06:06:31.234Z"
   },
   {
    "duration": 119,
    "start_time": "2022-05-19T06:06:31.358Z"
   },
   {
    "duration": 25,
    "start_time": "2022-05-19T06:06:31.479Z"
   },
   {
    "duration": 51,
    "start_time": "2022-05-19T06:06:31.506Z"
   },
   {
    "duration": 148,
    "start_time": "2022-05-19T06:06:31.565Z"
   },
   {
    "duration": 301,
    "start_time": "2022-05-19T06:06:31.715Z"
   },
   {
    "duration": 64,
    "start_time": "2022-05-19T06:06:32.018Z"
   },
   {
    "duration": 7,
    "start_time": "2022-05-19T06:06:32.084Z"
   },
   {
    "duration": 34,
    "start_time": "2022-05-19T06:06:32.093Z"
   },
   {
    "duration": 217,
    "start_time": "2022-05-19T06:06:32.129Z"
   },
   {
    "duration": 39,
    "start_time": "2022-05-19T06:06:32.351Z"
   },
   {
    "duration": 229,
    "start_time": "2022-05-19T06:06:32.392Z"
   },
   {
    "duration": 46,
    "start_time": "2022-05-19T06:06:32.623Z"
   },
   {
    "duration": 38,
    "start_time": "2022-05-19T06:06:32.672Z"
   },
   {
    "duration": 258,
    "start_time": "2022-05-19T06:06:32.712Z"
   },
   {
    "duration": 26,
    "start_time": "2022-05-19T06:06:32.972Z"
   },
   {
    "duration": 18,
    "start_time": "2022-05-19T06:06:32.999Z"
   },
   {
    "duration": 30,
    "start_time": "2022-05-19T06:06:33.018Z"
   },
   {
    "duration": 36,
    "start_time": "2022-05-19T06:06:33.050Z"
   },
   {
    "duration": 18,
    "start_time": "2022-05-19T06:06:33.088Z"
   },
   {
    "duration": 327,
    "start_time": "2022-05-19T06:06:33.108Z"
   },
   {
    "duration": 11,
    "start_time": "2022-05-19T06:06:33.436Z"
   },
   {
    "duration": 52,
    "start_time": "2022-05-19T06:06:33.449Z"
   },
   {
    "duration": 11,
    "start_time": "2022-05-19T06:06:33.503Z"
   },
   {
    "duration": 3,
    "start_time": "2022-05-19T06:06:33.518Z"
   },
   {
    "duration": 94,
    "start_time": "2022-05-19T06:06:33.522Z"
   },
   {
    "duration": 98,
    "start_time": "2022-05-19T06:06:33.618Z"
   },
   {
    "duration": 4,
    "start_time": "2022-05-19T06:06:33.718Z"
   },
   {
    "duration": 130,
    "start_time": "2022-05-19T06:06:33.724Z"
   },
   {
    "duration": 19,
    "start_time": "2022-05-19T06:06:33.861Z"
   },
   {
    "duration": 96,
    "start_time": "2022-05-19T06:06:33.881Z"
   },
   {
    "duration": 39,
    "start_time": "2022-05-19T06:06:33.979Z"
   },
   {
    "duration": 70,
    "start_time": "2022-05-19T06:06:34.020Z"
   },
   {
    "duration": 69,
    "start_time": "2022-05-19T06:06:34.092Z"
   },
   {
    "duration": 5,
    "start_time": "2022-05-19T06:06:34.163Z"
   },
   {
    "duration": 129,
    "start_time": "2022-05-19T06:06:34.170Z"
   },
   {
    "duration": 57,
    "start_time": "2022-05-19T06:06:34.301Z"
   },
   {
    "duration": 34,
    "start_time": "2022-05-19T06:06:34.359Z"
   },
   {
    "duration": 13,
    "start_time": "2022-05-19T06:06:34.394Z"
   },
   {
    "duration": 3,
    "start_time": "2022-05-19T06:06:34.409Z"
   },
   {
    "duration": 541,
    "start_time": "2022-05-19T06:06:34.414Z"
   },
   {
    "duration": 6,
    "start_time": "2022-05-19T06:06:34.956Z"
   },
   {
    "duration": 108,
    "start_time": "2022-05-19T06:06:34.967Z"
   },
   {
    "duration": 4,
    "start_time": "2022-05-19T06:06:35.077Z"
   },
   {
    "duration": 4,
    "start_time": "2022-05-19T06:06:35.083Z"
   },
   {
    "duration": 881,
    "start_time": "2022-05-19T06:06:35.089Z"
   },
   {
    "duration": 4,
    "start_time": "2022-05-19T06:06:35.972Z"
   },
   {
    "duration": 143,
    "start_time": "2022-05-19T06:06:35.978Z"
   },
   {
    "duration": 6,
    "start_time": "2022-05-19T06:06:36.123Z"
   },
   {
    "duration": 58,
    "start_time": "2022-05-19T06:06:36.130Z"
   },
   {
    "duration": 5,
    "start_time": "2022-05-19T06:06:36.190Z"
   },
   {
    "duration": 5,
    "start_time": "2022-05-19T06:06:36.197Z"
   },
   {
    "duration": 4,
    "start_time": "2022-05-19T06:06:36.203Z"
   },
   {
    "duration": 6,
    "start_time": "2022-05-19T06:06:36.209Z"
   },
   {
    "duration": 4,
    "start_time": "2022-05-19T06:06:36.216Z"
   },
   {
    "duration": 4,
    "start_time": "2022-05-19T06:06:36.222Z"
   },
   {
    "duration": 1032,
    "start_time": "2022-05-19T06:06:36.227Z"
   },
   {
    "duration": 5,
    "start_time": "2022-05-19T06:06:37.265Z"
   },
   {
    "duration": 21,
    "start_time": "2022-05-19T06:06:37.275Z"
   },
   {
    "duration": 9,
    "start_time": "2022-05-19T06:06:37.298Z"
   },
   {
    "duration": 8,
    "start_time": "2022-05-19T06:06:37.308Z"
   },
   {
    "duration": 8,
    "start_time": "2022-05-19T06:06:37.317Z"
   },
   {
    "duration": 8,
    "start_time": "2022-05-19T06:06:37.326Z"
   },
   {
    "duration": 192035,
    "start_time": "2022-05-19T06:06:37.336Z"
   },
   {
    "duration": 137,
    "start_time": "2022-05-19T06:09:49.443Z"
   },
   {
    "duration": 0,
    "start_time": "2022-05-19T06:09:49.582Z"
   },
   {
    "duration": 0,
    "start_time": "2022-05-19T06:09:49.583Z"
   },
   {
    "duration": 0,
    "start_time": "2022-05-19T06:09:49.584Z"
   },
   {
    "duration": 0,
    "start_time": "2022-05-19T06:09:49.585Z"
   },
   {
    "duration": 561,
    "start_time": "2022-05-19T06:10:09.488Z"
   },
   {
    "duration": 5,
    "start_time": "2022-05-19T06:10:13.078Z"
   },
   {
    "duration": 5,
    "start_time": "2022-05-19T06:10:42.168Z"
   },
   {
    "duration": 10,
    "start_time": "2022-05-19T06:10:44.438Z"
   },
   {
    "duration": 1112,
    "start_time": "2022-05-19T06:11:15.375Z"
   },
   {
    "duration": 885,
    "start_time": "2022-05-19T06:11:16.490Z"
   },
   {
    "duration": 141,
    "start_time": "2022-05-19T06:11:17.376Z"
   },
   {
    "duration": 39,
    "start_time": "2022-05-19T06:11:17.519Z"
   },
   {
    "duration": 13,
    "start_time": "2022-05-19T06:11:17.560Z"
   },
   {
    "duration": 137,
    "start_time": "2022-05-19T06:11:17.574Z"
   },
   {
    "duration": 45,
    "start_time": "2022-05-19T06:11:17.713Z"
   },
   {
    "duration": 96,
    "start_time": "2022-05-19T06:11:17.763Z"
   },
   {
    "duration": 109,
    "start_time": "2022-05-19T06:11:17.862Z"
   },
   {
    "duration": 13,
    "start_time": "2022-05-19T06:11:17.973Z"
   },
   {
    "duration": 118,
    "start_time": "2022-05-19T06:11:17.988Z"
   },
   {
    "duration": 17,
    "start_time": "2022-05-19T06:11:18.108Z"
   },
   {
    "duration": 23,
    "start_time": "2022-05-19T06:11:18.127Z"
   },
   {
    "duration": 38,
    "start_time": "2022-05-19T06:11:18.154Z"
   },
   {
    "duration": 19,
    "start_time": "2022-05-19T06:11:18.194Z"
   },
   {
    "duration": 25,
    "start_time": "2022-05-19T06:11:18.214Z"
   },
   {
    "duration": 106,
    "start_time": "2022-05-19T06:11:18.245Z"
   },
   {
    "duration": 86,
    "start_time": "2022-05-19T06:11:18.358Z"
   },
   {
    "duration": 28,
    "start_time": "2022-05-19T06:11:18.445Z"
   },
   {
    "duration": 31,
    "start_time": "2022-05-19T06:11:18.475Z"
   },
   {
    "duration": 155,
    "start_time": "2022-05-19T06:11:18.508Z"
   },
   {
    "duration": 266,
    "start_time": "2022-05-19T06:11:18.667Z"
   },
   {
    "duration": 51,
    "start_time": "2022-05-19T06:11:18.935Z"
   },
   {
    "duration": 5,
    "start_time": "2022-05-19T06:11:18.987Z"
   },
   {
    "duration": 31,
    "start_time": "2022-05-19T06:11:18.993Z"
   },
   {
    "duration": 236,
    "start_time": "2022-05-19T06:11:19.026Z"
   },
   {
    "duration": 26,
    "start_time": "2022-05-19T06:11:19.268Z"
   },
   {
    "duration": 204,
    "start_time": "2022-05-19T06:11:19.296Z"
   },
   {
    "duration": 30,
    "start_time": "2022-05-19T06:11:19.501Z"
   },
   {
    "duration": 36,
    "start_time": "2022-05-19T06:11:19.543Z"
   },
   {
    "duration": 228,
    "start_time": "2022-05-19T06:11:19.580Z"
   },
   {
    "duration": 27,
    "start_time": "2022-05-19T06:11:19.810Z"
   },
   {
    "duration": 28,
    "start_time": "2022-05-19T06:11:19.838Z"
   },
   {
    "duration": 42,
    "start_time": "2022-05-19T06:11:19.869Z"
   },
   {
    "duration": 39,
    "start_time": "2022-05-19T06:11:19.913Z"
   },
   {
    "duration": 27,
    "start_time": "2022-05-19T06:11:19.955Z"
   },
   {
    "duration": 305,
    "start_time": "2022-05-19T06:11:19.984Z"
   },
   {
    "duration": 7,
    "start_time": "2022-05-19T06:11:20.290Z"
   },
   {
    "duration": 21,
    "start_time": "2022-05-19T06:11:20.299Z"
   },
   {
    "duration": 33,
    "start_time": "2022-05-19T06:11:20.322Z"
   },
   {
    "duration": 5,
    "start_time": "2022-05-19T06:11:20.359Z"
   },
   {
    "duration": 77,
    "start_time": "2022-05-19T06:11:20.369Z"
   },
   {
    "duration": 78,
    "start_time": "2022-05-19T06:11:20.448Z"
   },
   {
    "duration": 4,
    "start_time": "2022-05-19T06:11:20.527Z"
   },
   {
    "duration": 85,
    "start_time": "2022-05-19T06:11:20.541Z"
   },
   {
    "duration": 28,
    "start_time": "2022-05-19T06:11:20.627Z"
   },
   {
    "duration": 98,
    "start_time": "2022-05-19T06:11:20.656Z"
   },
   {
    "duration": 42,
    "start_time": "2022-05-19T06:11:20.761Z"
   },
   {
    "duration": 63,
    "start_time": "2022-05-19T06:11:20.804Z"
   },
   {
    "duration": 56,
    "start_time": "2022-05-19T06:11:20.869Z"
   },
   {
    "duration": 4,
    "start_time": "2022-05-19T06:11:20.927Z"
   },
   {
    "duration": 152,
    "start_time": "2022-05-19T06:11:20.941Z"
   },
   {
    "duration": 60,
    "start_time": "2022-05-19T06:11:21.095Z"
   },
   {
    "duration": 35,
    "start_time": "2022-05-19T06:11:21.161Z"
   },
   {
    "duration": 12,
    "start_time": "2022-05-19T06:11:21.197Z"
   },
   {
    "duration": 3,
    "start_time": "2022-05-19T06:11:21.211Z"
   },
   {
    "duration": 626,
    "start_time": "2022-05-19T06:11:21.215Z"
   },
   {
    "duration": 5,
    "start_time": "2022-05-19T06:11:21.844Z"
   },
   {
    "duration": 29,
    "start_time": "2022-05-19T06:11:21.851Z"
   },
   {
    "duration": 4,
    "start_time": "2022-05-19T06:11:21.882Z"
   },
   {
    "duration": 5,
    "start_time": "2022-05-19T06:11:21.888Z"
   },
   {
    "duration": 896,
    "start_time": "2022-05-19T06:11:21.894Z"
   },
   {
    "duration": 4,
    "start_time": "2022-05-19T06:11:22.791Z"
   },
   {
    "duration": 130,
    "start_time": "2022-05-19T06:11:22.797Z"
   },
   {
    "duration": 6,
    "start_time": "2022-05-19T06:11:22.929Z"
   },
   {
    "duration": 37,
    "start_time": "2022-05-19T06:11:22.947Z"
   },
   {
    "duration": 4,
    "start_time": "2022-05-19T06:11:22.985Z"
   },
   {
    "duration": 4,
    "start_time": "2022-05-19T06:11:22.990Z"
   },
   {
    "duration": 5,
    "start_time": "2022-05-19T06:11:22.995Z"
   },
   {
    "duration": 4,
    "start_time": "2022-05-19T06:11:23.002Z"
   },
   {
    "duration": 4,
    "start_time": "2022-05-19T06:11:23.007Z"
   },
   {
    "duration": 5,
    "start_time": "2022-05-19T06:11:23.012Z"
   },
   {
    "duration": 954,
    "start_time": "2022-05-19T06:11:23.018Z"
   },
   {
    "duration": 2,
    "start_time": "2022-05-19T06:11:23.974Z"
   },
   {
    "duration": 6,
    "start_time": "2022-05-19T06:11:23.978Z"
   },
   {
    "duration": 5,
    "start_time": "2022-05-19T06:11:23.985Z"
   },
   {
    "duration": 4,
    "start_time": "2022-05-19T06:11:23.991Z"
   },
   {
    "duration": 5,
    "start_time": "2022-05-19T06:11:23.996Z"
   },
   {
    "duration": 4,
    "start_time": "2022-05-19T06:11:24.002Z"
   },
   {
    "duration": 166853,
    "start_time": "2022-05-19T06:11:24.008Z"
   },
   {
    "duration": 682,
    "start_time": "2022-05-19T06:14:10.862Z"
   },
   {
    "duration": 12,
    "start_time": "2022-05-19T06:14:11.546Z"
   },
   {
    "duration": 14,
    "start_time": "2022-05-19T06:14:11.564Z"
   },
   {
    "duration": 13,
    "start_time": "2022-05-19T06:14:11.580Z"
   },
   {
    "duration": 4,
    "start_time": "2022-05-19T06:14:21.523Z"
   },
   {
    "duration": 830,
    "start_time": "2022-05-19T06:14:21.530Z"
   },
   {
    "duration": 138,
    "start_time": "2022-05-19T06:14:22.369Z"
   },
   {
    "duration": 13,
    "start_time": "2022-05-19T06:14:22.509Z"
   },
   {
    "duration": 9,
    "start_time": "2022-05-19T06:14:22.523Z"
   },
   {
    "duration": 155,
    "start_time": "2022-05-19T06:14:22.534Z"
   },
   {
    "duration": 26,
    "start_time": "2022-05-19T06:14:22.690Z"
   },
   {
    "duration": 116,
    "start_time": "2022-05-19T06:14:22.717Z"
   },
   {
    "duration": 97,
    "start_time": "2022-05-19T06:14:22.835Z"
   },
   {
    "duration": 17,
    "start_time": "2022-05-19T06:14:22.942Z"
   },
   {
    "duration": 134,
    "start_time": "2022-05-19T06:14:22.960Z"
   },
   {
    "duration": 25,
    "start_time": "2022-05-19T06:14:23.096Z"
   },
   {
    "duration": 36,
    "start_time": "2022-05-19T06:14:23.123Z"
   },
   {
    "duration": 38,
    "start_time": "2022-05-19T06:14:23.160Z"
   },
   {
    "duration": 21,
    "start_time": "2022-05-19T06:14:23.200Z"
   },
   {
    "duration": 19,
    "start_time": "2022-05-19T06:14:23.223Z"
   },
   {
    "duration": 128,
    "start_time": "2022-05-19T06:14:23.244Z"
   },
   {
    "duration": 91,
    "start_time": "2022-05-19T06:14:23.374Z"
   },
   {
    "duration": 21,
    "start_time": "2022-05-19T06:14:23.472Z"
   },
   {
    "duration": 27,
    "start_time": "2022-05-19T06:14:23.494Z"
   },
   {
    "duration": 3,
    "start_time": "2022-05-19T06:14:23.522Z"
   },
   {
    "duration": 204,
    "start_time": "2022-05-19T06:14:23.526Z"
   },
   {
    "duration": 52,
    "start_time": "2022-05-19T06:14:23.732Z"
   },
   {
    "duration": 6,
    "start_time": "2022-05-19T06:14:23.785Z"
   },
   {
    "duration": 45,
    "start_time": "2022-05-19T06:14:23.792Z"
   },
   {
    "duration": 209,
    "start_time": "2022-05-19T06:14:23.841Z"
   },
   {
    "duration": 34,
    "start_time": "2022-05-19T06:14:24.055Z"
   },
   {
    "duration": 234,
    "start_time": "2022-05-19T06:14:24.093Z"
   },
   {
    "duration": 46,
    "start_time": "2022-05-19T06:14:24.329Z"
   },
   {
    "duration": 41,
    "start_time": "2022-05-19T06:14:24.378Z"
   },
   {
    "duration": 263,
    "start_time": "2022-05-19T06:14:24.422Z"
   },
   {
    "duration": 26,
    "start_time": "2022-05-19T06:14:24.687Z"
   },
   {
    "duration": 47,
    "start_time": "2022-05-19T06:14:24.715Z"
   },
   {
    "duration": 36,
    "start_time": "2022-05-19T06:14:24.764Z"
   },
   {
    "duration": 46,
    "start_time": "2022-05-19T06:14:24.802Z"
   },
   {
    "duration": 23,
    "start_time": "2022-05-19T06:14:24.857Z"
   },
   {
    "duration": 417,
    "start_time": "2022-05-19T06:14:24.882Z"
   },
   {
    "duration": 9,
    "start_time": "2022-05-19T06:14:25.301Z"
   },
   {
    "duration": 45,
    "start_time": "2022-05-19T06:14:25.313Z"
   },
   {
    "duration": 14,
    "start_time": "2022-05-19T06:14:25.360Z"
   },
   {
    "duration": 10,
    "start_time": "2022-05-19T06:14:25.378Z"
   },
   {
    "duration": 119,
    "start_time": "2022-05-19T06:14:25.391Z"
   },
   {
    "duration": 92,
    "start_time": "2022-05-19T06:14:25.513Z"
   },
   {
    "duration": 4,
    "start_time": "2022-05-19T06:14:25.607Z"
   },
   {
    "duration": 107,
    "start_time": "2022-05-19T06:14:25.613Z"
   },
   {
    "duration": 33,
    "start_time": "2022-05-19T06:14:25.722Z"
   },
   {
    "duration": 119,
    "start_time": "2022-05-19T06:14:25.762Z"
   },
   {
    "duration": 31,
    "start_time": "2022-05-19T06:14:25.883Z"
   },
   {
    "duration": 39,
    "start_time": "2022-05-19T06:14:25.915Z"
   },
   {
    "duration": 63,
    "start_time": "2022-05-19T06:14:25.957Z"
   },
   {
    "duration": 5,
    "start_time": "2022-05-19T06:14:26.022Z"
   },
   {
    "duration": 162,
    "start_time": "2022-05-19T06:14:26.028Z"
   },
   {
    "duration": 60,
    "start_time": "2022-05-19T06:14:26.192Z"
   },
   {
    "duration": 32,
    "start_time": "2022-05-19T06:14:26.256Z"
   },
   {
    "duration": 11,
    "start_time": "2022-05-19T06:14:26.289Z"
   },
   {
    "duration": 3,
    "start_time": "2022-05-19T06:14:26.302Z"
   },
   {
    "duration": 542,
    "start_time": "2022-05-19T06:14:26.306Z"
   },
   {
    "duration": 7,
    "start_time": "2022-05-19T06:14:26.850Z"
   },
   {
    "duration": 92,
    "start_time": "2022-05-19T06:14:26.859Z"
   },
   {
    "duration": 40,
    "start_time": "2022-05-19T06:14:26.954Z"
   },
   {
    "duration": 8,
    "start_time": "2022-05-19T06:14:26.996Z"
   },
   {
    "duration": 900,
    "start_time": "2022-05-19T06:14:27.005Z"
   },
   {
    "duration": 4,
    "start_time": "2022-05-19T06:14:27.906Z"
   },
   {
    "duration": 151,
    "start_time": "2022-05-19T06:14:27.911Z"
   },
   {
    "duration": 8,
    "start_time": "2022-05-19T06:14:28.064Z"
   },
   {
    "duration": 37,
    "start_time": "2022-05-19T06:14:28.078Z"
   },
   {
    "duration": 4,
    "start_time": "2022-05-19T06:14:28.117Z"
   },
   {
    "duration": 4,
    "start_time": "2022-05-19T06:14:28.122Z"
   },
   {
    "duration": 7,
    "start_time": "2022-05-19T06:14:28.128Z"
   },
   {
    "duration": 47,
    "start_time": "2022-05-19T06:14:28.136Z"
   },
   {
    "duration": 8,
    "start_time": "2022-05-19T06:14:28.185Z"
   },
   {
    "duration": 5,
    "start_time": "2022-05-19T06:14:28.195Z"
   },
   {
    "duration": 931,
    "start_time": "2022-05-19T06:14:28.201Z"
   },
   {
    "duration": 3,
    "start_time": "2022-05-19T06:14:29.135Z"
   },
   {
    "duration": 37,
    "start_time": "2022-05-19T06:14:29.155Z"
   },
   {
    "duration": 13,
    "start_time": "2022-05-19T06:14:29.194Z"
   },
   {
    "duration": 10,
    "start_time": "2022-05-19T06:14:29.209Z"
   },
   {
    "duration": 7,
    "start_time": "2022-05-19T06:14:29.221Z"
   },
   {
    "duration": 8,
    "start_time": "2022-05-19T06:14:29.230Z"
   },
   {
    "duration": 235516,
    "start_time": "2022-05-19T06:14:29.239Z"
   },
   {
    "duration": 707,
    "start_time": "2022-05-19T06:18:24.757Z"
   },
   {
    "duration": 11,
    "start_time": "2022-05-19T06:18:25.475Z"
   },
   {
    "duration": 5,
    "start_time": "2022-05-19T06:18:25.488Z"
   },
   {
    "duration": 19,
    "start_time": "2022-05-19T06:18:25.495Z"
   },
   {
    "duration": 1282,
    "start_time": "2022-05-19T11:58:10.857Z"
   },
   {
    "duration": 2994,
    "start_time": "2022-05-19T11:58:12.142Z"
   },
   {
    "duration": 129,
    "start_time": "2022-05-19T11:58:15.138Z"
   },
   {
    "duration": 20,
    "start_time": "2022-05-19T11:58:15.268Z"
   },
   {
    "duration": 8,
    "start_time": "2022-05-19T11:58:15.290Z"
   },
   {
    "duration": 152,
    "start_time": "2022-05-19T11:58:15.299Z"
   },
   {
    "duration": 43,
    "start_time": "2022-05-19T11:58:15.453Z"
   },
   {
    "duration": 129,
    "start_time": "2022-05-19T11:58:15.514Z"
   },
   {
    "duration": 113,
    "start_time": "2022-05-19T11:58:15.645Z"
   },
   {
    "duration": 14,
    "start_time": "2022-05-19T11:58:15.760Z"
   },
   {
    "duration": 165,
    "start_time": "2022-05-19T11:58:15.776Z"
   },
   {
    "duration": 27,
    "start_time": "2022-05-19T11:58:15.942Z"
   },
   {
    "duration": 35,
    "start_time": "2022-05-19T11:58:15.971Z"
   },
   {
    "duration": 48,
    "start_time": "2022-05-19T11:58:16.008Z"
   },
   {
    "duration": 36,
    "start_time": "2022-05-19T11:58:16.058Z"
   },
   {
    "duration": 23,
    "start_time": "2022-05-19T11:58:16.096Z"
   },
   {
    "duration": 177,
    "start_time": "2022-05-19T11:58:16.121Z"
   },
   {
    "duration": 89,
    "start_time": "2022-05-19T11:58:16.300Z"
   },
   {
    "duration": 35,
    "start_time": "2022-05-19T11:58:16.390Z"
   },
   {
    "duration": 33,
    "start_time": "2022-05-19T11:58:16.426Z"
   },
   {
    "duration": 165,
    "start_time": "2022-05-19T11:58:16.460Z"
   },
   {
    "duration": 265,
    "start_time": "2022-05-19T11:58:16.627Z"
   },
   {
    "duration": 63,
    "start_time": "2022-05-19T11:58:16.893Z"
   },
   {
    "duration": 5,
    "start_time": "2022-05-19T11:58:16.958Z"
   },
   {
    "duration": 53,
    "start_time": "2022-05-19T11:58:16.964Z"
   },
   {
    "duration": 287,
    "start_time": "2022-05-19T11:58:17.019Z"
   },
   {
    "duration": 43,
    "start_time": "2022-05-19T11:58:17.312Z"
   },
   {
    "duration": 260,
    "start_time": "2022-05-19T11:58:17.357Z"
   },
   {
    "duration": 39,
    "start_time": "2022-05-19T11:58:17.619Z"
   },
   {
    "duration": 24,
    "start_time": "2022-05-19T11:58:17.660Z"
   },
   {
    "duration": 274,
    "start_time": "2022-05-19T11:58:17.686Z"
   },
   {
    "duration": 26,
    "start_time": "2022-05-19T11:58:17.962Z"
   },
   {
    "duration": 20,
    "start_time": "2022-05-19T11:58:17.990Z"
   },
   {
    "duration": 43,
    "start_time": "2022-05-19T11:58:18.012Z"
   },
   {
    "duration": 30,
    "start_time": "2022-05-19T11:58:18.056Z"
   },
   {
    "duration": 34,
    "start_time": "2022-05-19T11:58:18.089Z"
   },
   {
    "duration": 321,
    "start_time": "2022-05-19T11:58:18.127Z"
   },
   {
    "duration": 9,
    "start_time": "2022-05-19T11:58:18.449Z"
   },
   {
    "duration": 44,
    "start_time": "2022-05-19T11:58:18.459Z"
   },
   {
    "duration": 12,
    "start_time": "2022-05-19T11:58:18.505Z"
   },
   {
    "duration": 6,
    "start_time": "2022-05-19T11:58:18.522Z"
   },
   {
    "duration": 107,
    "start_time": "2022-05-19T11:58:18.530Z"
   },
   {
    "duration": 73,
    "start_time": "2022-05-19T11:58:18.639Z"
   },
   {
    "duration": 4,
    "start_time": "2022-05-19T11:58:18.713Z"
   },
   {
    "duration": 106,
    "start_time": "2022-05-19T11:58:18.719Z"
   },
   {
    "duration": 14,
    "start_time": "2022-05-19T11:58:37.107Z"
   },
   {
    "duration": 191,
    "start_time": "2022-05-19T12:00:07.229Z"
   },
   {
    "duration": 89,
    "start_time": "2022-05-19T12:02:10.568Z"
   },
   {
    "duration": 5,
    "start_time": "2022-05-19T12:04:44.450Z"
   },
   {
    "duration": 810,
    "start_time": "2022-05-19T12:04:44.456Z"
   },
   {
    "duration": 123,
    "start_time": "2022-05-19T12:04:45.268Z"
   },
   {
    "duration": 25,
    "start_time": "2022-05-19T12:04:45.392Z"
   },
   {
    "duration": 10,
    "start_time": "2022-05-19T12:04:45.419Z"
   },
   {
    "duration": 132,
    "start_time": "2022-05-19T12:04:45.430Z"
   },
   {
    "duration": 26,
    "start_time": "2022-05-19T12:04:45.564Z"
   },
   {
    "duration": 79,
    "start_time": "2022-05-19T12:04:45.592Z"
   },
   {
    "duration": 90,
    "start_time": "2022-05-19T12:04:45.673Z"
   },
   {
    "duration": 14,
    "start_time": "2022-05-19T12:04:45.764Z"
   },
   {
    "duration": 113,
    "start_time": "2022-05-19T12:04:45.781Z"
   },
   {
    "duration": 22,
    "start_time": "2022-05-19T12:04:45.895Z"
   },
   {
    "duration": 36,
    "start_time": "2022-05-19T12:04:45.919Z"
   },
   {
    "duration": 30,
    "start_time": "2022-05-19T12:04:45.957Z"
   },
   {
    "duration": 36,
    "start_time": "2022-05-19T12:04:45.988Z"
   },
   {
    "duration": 21,
    "start_time": "2022-05-19T12:04:46.025Z"
   },
   {
    "duration": 103,
    "start_time": "2022-05-19T12:04:46.047Z"
   },
   {
    "duration": 94,
    "start_time": "2022-05-19T12:04:46.152Z"
   },
   {
    "duration": 20,
    "start_time": "2022-05-19T12:04:46.247Z"
   },
   {
    "duration": 44,
    "start_time": "2022-05-19T12:04:46.268Z"
   },
   {
    "duration": 2,
    "start_time": "2022-05-19T12:04:46.314Z"
   },
   {
    "duration": 203,
    "start_time": "2022-05-19T12:04:46.318Z"
   },
   {
    "duration": 43,
    "start_time": "2022-05-19T12:04:46.522Z"
   },
   {
    "duration": 6,
    "start_time": "2022-05-19T12:04:46.567Z"
   },
   {
    "duration": 50,
    "start_time": "2022-05-19T12:04:46.574Z"
   },
   {
    "duration": 193,
    "start_time": "2022-05-19T12:04:46.626Z"
   },
   {
    "duration": 27,
    "start_time": "2022-05-19T12:04:46.821Z"
   },
   {
    "duration": 219,
    "start_time": "2022-05-19T12:04:46.849Z"
   },
   {
    "duration": 43,
    "start_time": "2022-05-19T12:04:47.071Z"
   },
   {
    "duration": 26,
    "start_time": "2022-05-19T12:04:47.115Z"
   },
   {
    "duration": 242,
    "start_time": "2022-05-19T12:04:47.142Z"
   },
   {
    "duration": 39,
    "start_time": "2022-05-19T12:04:47.386Z"
   },
   {
    "duration": 20,
    "start_time": "2022-05-19T12:04:47.426Z"
   },
   {
    "duration": 35,
    "start_time": "2022-05-19T12:04:47.448Z"
   },
   {
    "duration": 46,
    "start_time": "2022-05-19T12:04:47.485Z"
   },
   {
    "duration": 18,
    "start_time": "2022-05-19T12:04:47.533Z"
   },
   {
    "duration": 375,
    "start_time": "2022-05-19T12:04:47.552Z"
   },
   {
    "duration": 8,
    "start_time": "2022-05-19T12:04:47.929Z"
   },
   {
    "duration": 23,
    "start_time": "2022-05-19T12:04:47.938Z"
   },
   {
    "duration": 13,
    "start_time": "2022-05-19T12:04:47.962Z"
   },
   {
    "duration": 3,
    "start_time": "2022-05-19T12:04:47.976Z"
   },
   {
    "duration": 105,
    "start_time": "2022-05-19T12:04:47.980Z"
   },
   {
    "duration": 72,
    "start_time": "2022-05-19T12:04:48.087Z"
   },
   {
    "duration": 4,
    "start_time": "2022-05-19T12:04:48.160Z"
   },
   {
    "duration": 87,
    "start_time": "2022-05-19T12:04:48.165Z"
   },
   {
    "duration": 330,
    "start_time": "2022-05-19T12:05:19.891Z"
   },
   {
    "duration": 4,
    "start_time": "2022-05-19T12:06:32.682Z"
   },
   {
    "duration": 798,
    "start_time": "2022-05-19T12:06:32.688Z"
   },
   {
    "duration": 127,
    "start_time": "2022-05-19T12:06:33.487Z"
   },
   {
    "duration": 14,
    "start_time": "2022-05-19T12:06:33.617Z"
   },
   {
    "duration": 6,
    "start_time": "2022-05-19T12:06:33.633Z"
   },
   {
    "duration": 135,
    "start_time": "2022-05-19T12:06:33.641Z"
   },
   {
    "duration": 38,
    "start_time": "2022-05-19T12:06:33.778Z"
   },
   {
    "duration": 94,
    "start_time": "2022-05-19T12:06:33.818Z"
   },
   {
    "duration": 86,
    "start_time": "2022-05-19T12:06:33.915Z"
   },
   {
    "duration": 21,
    "start_time": "2022-05-19T12:06:34.002Z"
   },
   {
    "duration": 117,
    "start_time": "2022-05-19T12:06:34.025Z"
   },
   {
    "duration": 19,
    "start_time": "2022-05-19T12:06:34.143Z"
   },
   {
    "duration": 20,
    "start_time": "2022-05-19T12:06:34.164Z"
   },
   {
    "duration": 36,
    "start_time": "2022-05-19T12:06:34.186Z"
   },
   {
    "duration": 19,
    "start_time": "2022-05-19T12:06:34.223Z"
   },
   {
    "duration": 19,
    "start_time": "2022-05-19T12:06:34.244Z"
   },
   {
    "duration": 112,
    "start_time": "2022-05-19T12:06:34.264Z"
   },
   {
    "duration": 88,
    "start_time": "2022-05-19T12:06:34.377Z"
   },
   {
    "duration": 21,
    "start_time": "2022-05-19T12:06:34.466Z"
   },
   {
    "duration": 38,
    "start_time": "2022-05-19T12:06:34.488Z"
   },
   {
    "duration": 2,
    "start_time": "2022-05-19T12:06:34.528Z"
   },
   {
    "duration": 192,
    "start_time": "2022-05-19T12:06:34.531Z"
   },
   {
    "duration": 39,
    "start_time": "2022-05-19T12:06:34.724Z"
   },
   {
    "duration": 5,
    "start_time": "2022-05-19T12:06:34.766Z"
   },
   {
    "duration": 46,
    "start_time": "2022-05-19T12:06:34.772Z"
   },
   {
    "duration": 205,
    "start_time": "2022-05-19T12:06:34.820Z"
   },
   {
    "duration": 27,
    "start_time": "2022-05-19T12:06:35.027Z"
   },
   {
    "duration": 218,
    "start_time": "2022-05-19T12:06:35.055Z"
   },
   {
    "duration": 39,
    "start_time": "2022-05-19T12:06:35.274Z"
   },
   {
    "duration": 24,
    "start_time": "2022-05-19T12:06:35.314Z"
   },
   {
    "duration": 209,
    "start_time": "2022-05-19T12:06:35.339Z"
   },
   {
    "duration": 27,
    "start_time": "2022-05-19T12:06:35.549Z"
   },
   {
    "duration": 18,
    "start_time": "2022-05-19T12:06:35.577Z"
   },
   {
    "duration": 43,
    "start_time": "2022-05-19T12:06:35.596Z"
   },
   {
    "duration": 29,
    "start_time": "2022-05-19T12:06:35.640Z"
   },
   {
    "duration": 42,
    "start_time": "2022-05-19T12:06:35.670Z"
   },
   {
    "duration": 291,
    "start_time": "2022-05-19T12:06:35.714Z"
   },
   {
    "duration": 9,
    "start_time": "2022-05-19T12:06:36.007Z"
   },
   {
    "duration": 26,
    "start_time": "2022-05-19T12:06:36.017Z"
   },
   {
    "duration": 13,
    "start_time": "2022-05-19T12:06:36.044Z"
   },
   {
    "duration": 3,
    "start_time": "2022-05-19T12:06:36.058Z"
   },
   {
    "duration": 94,
    "start_time": "2022-05-19T12:06:36.062Z"
   },
   {
    "duration": 92,
    "start_time": "2022-05-19T12:06:36.158Z"
   },
   {
    "duration": 4,
    "start_time": "2022-05-19T12:06:36.251Z"
   },
   {
    "duration": 77,
    "start_time": "2022-05-19T12:06:36.256Z"
   },
   {
    "duration": 10,
    "start_time": "2022-05-19T12:07:11.065Z"
   },
   {
    "duration": 11,
    "start_time": "2022-05-19T12:07:22.135Z"
   },
   {
    "duration": 13,
    "start_time": "2022-05-19T12:08:19.036Z"
   },
   {
    "duration": 37,
    "start_time": "2022-05-19T12:10:08.931Z"
   },
   {
    "duration": 4,
    "start_time": "2022-05-19T12:10:20.995Z"
   },
   {
    "duration": 888,
    "start_time": "2022-05-19T12:10:21.001Z"
   },
   {
    "duration": 136,
    "start_time": "2022-05-19T12:10:21.891Z"
   },
   {
    "duration": 23,
    "start_time": "2022-05-19T12:10:22.029Z"
   },
   {
    "duration": 5,
    "start_time": "2022-05-19T12:10:22.054Z"
   },
   {
    "duration": 161,
    "start_time": "2022-05-19T12:10:22.060Z"
   },
   {
    "duration": 32,
    "start_time": "2022-05-19T12:10:22.222Z"
   },
   {
    "duration": 107,
    "start_time": "2022-05-19T12:10:22.256Z"
   },
   {
    "duration": 91,
    "start_time": "2022-05-19T12:10:22.365Z"
   },
   {
    "duration": 13,
    "start_time": "2022-05-19T12:10:22.458Z"
   },
   {
    "duration": 127,
    "start_time": "2022-05-19T12:10:22.475Z"
   },
   {
    "duration": 36,
    "start_time": "2022-05-19T12:10:22.603Z"
   },
   {
    "duration": 18,
    "start_time": "2022-05-19T12:10:22.641Z"
   },
   {
    "duration": 21,
    "start_time": "2022-05-19T12:10:22.661Z"
   },
   {
    "duration": 42,
    "start_time": "2022-05-19T12:10:22.684Z"
   },
   {
    "duration": 29,
    "start_time": "2022-05-19T12:10:22.727Z"
   },
   {
    "duration": 132,
    "start_time": "2022-05-19T12:10:22.758Z"
   },
   {
    "duration": 94,
    "start_time": "2022-05-19T12:10:22.892Z"
   },
   {
    "duration": 30,
    "start_time": "2022-05-19T12:10:22.987Z"
   },
   {
    "duration": 38,
    "start_time": "2022-05-19T12:10:23.018Z"
   },
   {
    "duration": 3,
    "start_time": "2022-05-19T12:10:23.058Z"
   },
   {
    "duration": 211,
    "start_time": "2022-05-19T12:10:23.063Z"
   },
   {
    "duration": 53,
    "start_time": "2022-05-19T12:10:23.275Z"
   },
   {
    "duration": 7,
    "start_time": "2022-05-19T12:10:23.330Z"
   },
   {
    "duration": 31,
    "start_time": "2022-05-19T12:10:23.338Z"
   },
   {
    "duration": 233,
    "start_time": "2022-05-19T12:10:23.370Z"
   },
   {
    "duration": 45,
    "start_time": "2022-05-19T12:10:23.604Z"
   },
   {
    "duration": 215,
    "start_time": "2022-05-19T12:10:23.651Z"
   },
   {
    "duration": 31,
    "start_time": "2022-05-19T12:10:23.869Z"
   },
   {
    "duration": 28,
    "start_time": "2022-05-19T12:10:23.911Z"
   },
   {
    "duration": 213,
    "start_time": "2022-05-19T12:10:23.940Z"
   },
   {
    "duration": 27,
    "start_time": "2022-05-19T12:10:24.154Z"
   },
   {
    "duration": 33,
    "start_time": "2022-05-19T12:10:24.183Z"
   },
   {
    "duration": 27,
    "start_time": "2022-05-19T12:10:24.218Z"
   },
   {
    "duration": 29,
    "start_time": "2022-05-19T12:10:24.247Z"
   },
   {
    "duration": 46,
    "start_time": "2022-05-19T12:10:24.278Z"
   },
   {
    "duration": 434,
    "start_time": "2022-05-19T12:10:24.326Z"
   },
   {
    "duration": 9,
    "start_time": "2022-05-19T12:10:24.761Z"
   },
   {
    "duration": 29,
    "start_time": "2022-05-19T12:10:24.771Z"
   },
   {
    "duration": 21,
    "start_time": "2022-05-19T12:10:24.813Z"
   },
   {
    "duration": 6,
    "start_time": "2022-05-19T12:10:24.837Z"
   },
   {
    "duration": 98,
    "start_time": "2022-05-19T12:10:24.844Z"
   },
   {
    "duration": 78,
    "start_time": "2022-05-19T12:10:24.943Z"
   },
   {
    "duration": 7,
    "start_time": "2022-05-19T12:10:25.022Z"
   },
   {
    "duration": 81,
    "start_time": "2022-05-19T12:10:25.034Z"
   },
   {
    "duration": 48,
    "start_time": "2022-05-19T12:10:41.293Z"
   },
   {
    "duration": 35,
    "start_time": "2022-05-19T12:11:10.073Z"
   },
   {
    "duration": 404,
    "start_time": "2022-05-19T12:13:27.214Z"
   },
   {
    "duration": 6,
    "start_time": "2022-05-19T12:13:45.518Z"
   },
   {
    "duration": 835,
    "start_time": "2022-05-19T12:13:45.527Z"
   },
   {
    "duration": 154,
    "start_time": "2022-05-19T12:13:46.364Z"
   },
   {
    "duration": 20,
    "start_time": "2022-05-19T12:13:46.520Z"
   },
   {
    "duration": 7,
    "start_time": "2022-05-19T12:13:46.542Z"
   },
   {
    "duration": 130,
    "start_time": "2022-05-19T12:13:46.551Z"
   },
   {
    "duration": 39,
    "start_time": "2022-05-19T12:13:46.683Z"
   },
   {
    "duration": 99,
    "start_time": "2022-05-19T12:13:46.724Z"
   },
   {
    "duration": 93,
    "start_time": "2022-05-19T12:13:46.826Z"
   },
   {
    "duration": 19,
    "start_time": "2022-05-19T12:13:46.922Z"
   },
   {
    "duration": 120,
    "start_time": "2022-05-19T12:13:46.944Z"
   },
   {
    "duration": 19,
    "start_time": "2022-05-19T12:13:47.065Z"
   },
   {
    "duration": 31,
    "start_time": "2022-05-19T12:13:47.085Z"
   },
   {
    "duration": 21,
    "start_time": "2022-05-19T12:13:47.120Z"
   },
   {
    "duration": 18,
    "start_time": "2022-05-19T12:13:47.143Z"
   },
   {
    "duration": 27,
    "start_time": "2022-05-19T12:13:47.163Z"
   },
   {
    "duration": 144,
    "start_time": "2022-05-19T12:13:47.191Z"
   },
   {
    "duration": 89,
    "start_time": "2022-05-19T12:13:47.338Z"
   },
   {
    "duration": 27,
    "start_time": "2022-05-19T12:13:47.429Z"
   },
   {
    "duration": 58,
    "start_time": "2022-05-19T12:13:47.458Z"
   },
   {
    "duration": 3,
    "start_time": "2022-05-19T12:13:47.519Z"
   },
   {
    "duration": 217,
    "start_time": "2022-05-19T12:13:47.524Z"
   },
   {
    "duration": 39,
    "start_time": "2022-05-19T12:13:47.743Z"
   },
   {
    "duration": 4,
    "start_time": "2022-05-19T12:13:47.784Z"
   },
   {
    "duration": 63,
    "start_time": "2022-05-19T12:13:47.790Z"
   },
   {
    "duration": 230,
    "start_time": "2022-05-19T12:13:47.855Z"
   },
   {
    "duration": 38,
    "start_time": "2022-05-19T12:13:48.086Z"
   },
   {
    "duration": 240,
    "start_time": "2022-05-19T12:13:48.126Z"
   },
   {
    "duration": 46,
    "start_time": "2022-05-19T12:13:48.370Z"
   },
   {
    "duration": 38,
    "start_time": "2022-05-19T12:13:48.418Z"
   },
   {
    "duration": 245,
    "start_time": "2022-05-19T12:13:48.457Z"
   },
   {
    "duration": 37,
    "start_time": "2022-05-19T12:13:48.703Z"
   },
   {
    "duration": 21,
    "start_time": "2022-05-19T12:13:48.742Z"
   },
   {
    "duration": 69,
    "start_time": "2022-05-19T12:13:48.764Z"
   },
   {
    "duration": 31,
    "start_time": "2022-05-19T12:13:48.835Z"
   },
   {
    "duration": 22,
    "start_time": "2022-05-19T12:13:48.868Z"
   },
   {
    "duration": 344,
    "start_time": "2022-05-19T12:13:48.892Z"
   },
   {
    "duration": 8,
    "start_time": "2022-05-19T12:13:49.238Z"
   },
   {
    "duration": 23,
    "start_time": "2022-05-19T12:13:49.248Z"
   },
   {
    "duration": 43,
    "start_time": "2022-05-19T12:13:49.272Z"
   },
   {
    "duration": 3,
    "start_time": "2022-05-19T12:13:49.318Z"
   },
   {
    "duration": 101,
    "start_time": "2022-05-19T12:13:49.323Z"
   },
   {
    "duration": 74,
    "start_time": "2022-05-19T12:13:49.426Z"
   },
   {
    "duration": 6,
    "start_time": "2022-05-19T12:13:49.512Z"
   },
   {
    "duration": 76,
    "start_time": "2022-05-19T12:13:49.519Z"
   },
   {
    "duration": 389,
    "start_time": "2022-05-19T12:13:49.597Z"
   },
   {
    "duration": 217,
    "start_time": "2022-05-19T12:14:09.331Z"
   },
   {
    "duration": 4,
    "start_time": "2022-05-19T12:14:27.796Z"
   },
   {
    "duration": 836,
    "start_time": "2022-05-19T12:14:27.802Z"
   },
   {
    "duration": 147,
    "start_time": "2022-05-19T12:14:28.641Z"
   },
   {
    "duration": 12,
    "start_time": "2022-05-19T12:14:28.790Z"
   },
   {
    "duration": 23,
    "start_time": "2022-05-19T12:14:28.814Z"
   },
   {
    "duration": 140,
    "start_time": "2022-05-19T12:14:28.839Z"
   },
   {
    "duration": 44,
    "start_time": "2022-05-19T12:14:28.981Z"
   },
   {
    "duration": 110,
    "start_time": "2022-05-19T12:14:29.027Z"
   },
   {
    "duration": 83,
    "start_time": "2022-05-19T12:14:29.139Z"
   },
   {
    "duration": 16,
    "start_time": "2022-05-19T12:14:29.233Z"
   },
   {
    "duration": 111,
    "start_time": "2022-05-19T12:14:29.251Z"
   },
   {
    "duration": 19,
    "start_time": "2022-05-19T12:14:29.363Z"
   },
   {
    "duration": 31,
    "start_time": "2022-05-19T12:14:29.384Z"
   },
   {
    "duration": 31,
    "start_time": "2022-05-19T12:14:29.418Z"
   },
   {
    "duration": 22,
    "start_time": "2022-05-19T12:14:29.451Z"
   },
   {
    "duration": 48,
    "start_time": "2022-05-19T12:14:29.474Z"
   },
   {
    "duration": 98,
    "start_time": "2022-05-19T12:14:29.524Z"
   },
   {
    "duration": 92,
    "start_time": "2022-05-19T12:14:29.627Z"
   },
   {
    "duration": 22,
    "start_time": "2022-05-19T12:14:29.725Z"
   },
   {
    "duration": 27,
    "start_time": "2022-05-19T12:14:29.748Z"
   },
   {
    "duration": 2,
    "start_time": "2022-05-19T12:14:29.777Z"
   },
   {
    "duration": 233,
    "start_time": "2022-05-19T12:14:29.780Z"
   },
   {
    "duration": 49,
    "start_time": "2022-05-19T12:14:30.015Z"
   },
   {
    "duration": 4,
    "start_time": "2022-05-19T12:14:30.066Z"
   },
   {
    "duration": 72,
    "start_time": "2022-05-19T12:14:30.072Z"
   },
   {
    "duration": 212,
    "start_time": "2022-05-19T12:14:30.146Z"
   },
   {
    "duration": 27,
    "start_time": "2022-05-19T12:14:30.360Z"
   },
   {
    "duration": 258,
    "start_time": "2022-05-19T12:14:30.389Z"
   },
   {
    "duration": 34,
    "start_time": "2022-05-19T12:14:30.651Z"
   },
   {
    "duration": 55,
    "start_time": "2022-05-19T12:14:30.686Z"
   },
   {
    "duration": 347,
    "start_time": "2022-05-19T12:14:30.743Z"
   },
   {
    "duration": 37,
    "start_time": "2022-05-19T12:14:31.093Z"
   },
   {
    "duration": 19,
    "start_time": "2022-05-19T12:14:31.133Z"
   },
   {
    "duration": 29,
    "start_time": "2022-05-19T12:14:31.154Z"
   },
   {
    "duration": 58,
    "start_time": "2022-05-19T12:14:31.184Z"
   },
   {
    "duration": 19,
    "start_time": "2022-05-19T12:14:31.247Z"
   },
   {
    "duration": 378,
    "start_time": "2022-05-19T12:14:31.268Z"
   },
   {
    "duration": 9,
    "start_time": "2022-05-19T12:14:31.648Z"
   },
   {
    "duration": 25,
    "start_time": "2022-05-19T12:14:31.659Z"
   },
   {
    "duration": 41,
    "start_time": "2022-05-19T12:14:31.686Z"
   },
   {
    "duration": 5,
    "start_time": "2022-05-19T12:14:31.729Z"
   },
   {
    "duration": 139,
    "start_time": "2022-05-19T12:14:31.736Z"
   },
   {
    "duration": 97,
    "start_time": "2022-05-19T12:14:31.877Z"
   },
   {
    "duration": 4,
    "start_time": "2022-05-19T12:14:31.975Z"
   },
   {
    "duration": 106,
    "start_time": "2022-05-19T12:14:31.981Z"
   },
   {
    "duration": 376,
    "start_time": "2022-05-19T12:14:36.179Z"
   },
   {
    "duration": 203,
    "start_time": "2022-05-19T12:34:04.863Z"
   },
   {
    "duration": 4,
    "start_time": "2022-05-19T12:34:15.643Z"
   },
   {
    "duration": 1371,
    "start_time": "2022-05-19T12:34:15.649Z"
   },
   {
    "duration": 149,
    "start_time": "2022-05-19T12:34:17.024Z"
   },
   {
    "duration": 14,
    "start_time": "2022-05-19T12:34:17.175Z"
   },
   {
    "duration": 20,
    "start_time": "2022-05-19T12:34:17.192Z"
   },
   {
    "duration": 161,
    "start_time": "2022-05-19T12:34:17.216Z"
   },
   {
    "duration": 43,
    "start_time": "2022-05-19T12:34:17.378Z"
   },
   {
    "duration": 94,
    "start_time": "2022-05-19T12:34:17.423Z"
   },
   {
    "duration": 77,
    "start_time": "2022-05-19T12:34:17.518Z"
   },
   {
    "duration": 26,
    "start_time": "2022-05-19T12:34:17.597Z"
   },
   {
    "duration": 110,
    "start_time": "2022-05-19T12:34:17.626Z"
   },
   {
    "duration": 19,
    "start_time": "2022-05-19T12:34:17.737Z"
   },
   {
    "duration": 18,
    "start_time": "2022-05-19T12:34:17.758Z"
   },
   {
    "duration": 47,
    "start_time": "2022-05-19T12:34:17.778Z"
   },
   {
    "duration": 24,
    "start_time": "2022-05-19T12:34:17.828Z"
   },
   {
    "duration": 19,
    "start_time": "2022-05-19T12:34:17.854Z"
   },
   {
    "duration": 123,
    "start_time": "2022-05-19T12:34:17.875Z"
   },
   {
    "duration": 90,
    "start_time": "2022-05-19T12:34:18.000Z"
   },
   {
    "duration": 42,
    "start_time": "2022-05-19T12:34:18.092Z"
   },
   {
    "duration": 28,
    "start_time": "2022-05-19T12:34:18.136Z"
   },
   {
    "duration": 3,
    "start_time": "2022-05-19T12:34:18.165Z"
   },
   {
    "duration": 205,
    "start_time": "2022-05-19T12:34:18.169Z"
   },
   {
    "duration": 50,
    "start_time": "2022-05-19T12:34:18.376Z"
   },
   {
    "duration": 6,
    "start_time": "2022-05-19T12:34:18.428Z"
   },
   {
    "duration": 31,
    "start_time": "2022-05-19T12:34:18.436Z"
   },
   {
    "duration": 207,
    "start_time": "2022-05-19T12:34:18.469Z"
   },
   {
    "duration": 40,
    "start_time": "2022-05-19T12:34:18.678Z"
   },
   {
    "duration": 213,
    "start_time": "2022-05-19T12:34:18.719Z"
   },
   {
    "duration": 34,
    "start_time": "2022-05-19T12:34:18.935Z"
   },
   {
    "duration": 41,
    "start_time": "2022-05-19T12:34:18.971Z"
   },
   {
    "duration": 247,
    "start_time": "2022-05-19T12:34:19.015Z"
   },
   {
    "duration": 27,
    "start_time": "2022-05-19T12:34:19.264Z"
   },
   {
    "duration": 40,
    "start_time": "2022-05-19T12:34:19.293Z"
   },
   {
    "duration": 28,
    "start_time": "2022-05-19T12:34:19.337Z"
   },
   {
    "duration": 50,
    "start_time": "2022-05-19T12:34:19.367Z"
   },
   {
    "duration": 24,
    "start_time": "2022-05-19T12:34:19.420Z"
   },
   {
    "duration": 312,
    "start_time": "2022-05-19T12:34:19.446Z"
   },
   {
    "duration": 8,
    "start_time": "2022-05-19T12:34:19.760Z"
   },
   {
    "duration": 49,
    "start_time": "2022-05-19T12:34:19.770Z"
   },
   {
    "duration": 18,
    "start_time": "2022-05-19T12:34:19.821Z"
   },
   {
    "duration": 3,
    "start_time": "2022-05-19T12:34:19.841Z"
   },
   {
    "duration": 104,
    "start_time": "2022-05-19T12:34:19.846Z"
   },
   {
    "duration": 93,
    "start_time": "2022-05-19T12:34:19.952Z"
   },
   {
    "duration": 4,
    "start_time": "2022-05-19T12:34:20.047Z"
   },
   {
    "duration": 93,
    "start_time": "2022-05-19T12:34:20.052Z"
   },
   {
    "duration": 3,
    "start_time": "2022-05-19T12:34:57.169Z"
   },
   {
    "duration": 422,
    "start_time": "2022-05-19T12:35:18.432Z"
   },
   {
    "duration": 70,
    "start_time": "2022-05-19T21:11:44.233Z"
   },
   {
    "duration": 1365,
    "start_time": "2022-05-19T21:11:49.953Z"
   },
   {
    "duration": 3292,
    "start_time": "2022-05-19T21:11:51.320Z"
   },
   {
    "duration": 137,
    "start_time": "2022-05-19T21:11:54.614Z"
   },
   {
    "duration": 24,
    "start_time": "2022-05-19T21:11:54.753Z"
   },
   {
    "duration": 3,
    "start_time": "2022-05-19T21:11:54.779Z"
   },
   {
    "duration": 264,
    "start_time": "2022-05-19T21:11:54.784Z"
   },
   {
    "duration": 49,
    "start_time": "2022-05-19T21:11:55.050Z"
   },
   {
    "duration": 138,
    "start_time": "2022-05-19T21:11:55.102Z"
   },
   {
    "duration": 123,
    "start_time": "2022-05-19T21:11:55.242Z"
   },
   {
    "duration": 20,
    "start_time": "2022-05-19T21:11:55.372Z"
   },
   {
    "duration": 111,
    "start_time": "2022-05-19T21:11:55.394Z"
   },
   {
    "duration": 41,
    "start_time": "2022-05-19T21:11:55.507Z"
   },
   {
    "duration": 32,
    "start_time": "2022-05-19T21:11:55.550Z"
   },
   {
    "duration": 31,
    "start_time": "2022-05-19T21:11:55.585Z"
   },
   {
    "duration": 51,
    "start_time": "2022-05-19T21:11:55.618Z"
   },
   {
    "duration": 25,
    "start_time": "2022-05-19T21:11:55.671Z"
   },
   {
    "duration": 116,
    "start_time": "2022-05-19T21:11:55.698Z"
   },
   {
    "duration": 108,
    "start_time": "2022-05-19T21:11:55.816Z"
   },
   {
    "duration": 36,
    "start_time": "2022-05-19T21:11:55.926Z"
   },
   {
    "duration": 52,
    "start_time": "2022-05-19T21:11:55.964Z"
   },
   {
    "duration": 471,
    "start_time": "2022-05-19T21:11:56.018Z"
   },
   {
    "duration": 265,
    "start_time": "2022-05-19T21:11:56.490Z"
   },
   {
    "duration": 70,
    "start_time": "2022-05-19T21:11:56.764Z"
   },
   {
    "duration": 7,
    "start_time": "2022-05-19T21:11:56.841Z"
   },
   {
    "duration": 51,
    "start_time": "2022-05-19T21:11:56.850Z"
   },
   {
    "duration": 324,
    "start_time": "2022-05-19T21:11:56.904Z"
   },
   {
    "duration": 38,
    "start_time": "2022-05-19T21:11:57.230Z"
   },
   {
    "duration": 235,
    "start_time": "2022-05-19T21:11:57.272Z"
   },
   {
    "duration": 48,
    "start_time": "2022-05-19T21:11:57.509Z"
   },
   {
    "duration": 39,
    "start_time": "2022-05-19T21:11:57.559Z"
   },
   {
    "duration": 269,
    "start_time": "2022-05-19T21:11:57.600Z"
   },
   {
    "duration": 27,
    "start_time": "2022-05-19T21:11:57.870Z"
   },
   {
    "duration": 21,
    "start_time": "2022-05-19T21:11:57.899Z"
   },
   {
    "duration": 35,
    "start_time": "2022-05-19T21:11:57.922Z"
   },
   {
    "duration": 35,
    "start_time": "2022-05-19T21:11:57.958Z"
   },
   {
    "duration": 21,
    "start_time": "2022-05-19T21:11:57.995Z"
   },
   {
    "duration": 387,
    "start_time": "2022-05-19T21:11:58.018Z"
   },
   {
    "duration": 9,
    "start_time": "2022-05-19T21:11:58.406Z"
   },
   {
    "duration": 38,
    "start_time": "2022-05-19T21:11:58.417Z"
   },
   {
    "duration": 12,
    "start_time": "2022-05-19T21:11:58.457Z"
   },
   {
    "duration": 2,
    "start_time": "2022-05-19T21:11:58.471Z"
   },
   {
    "duration": 98,
    "start_time": "2022-05-19T21:11:58.475Z"
   },
   {
    "duration": 85,
    "start_time": "2022-05-19T21:11:58.575Z"
   },
   {
    "duration": 6,
    "start_time": "2022-05-19T21:11:58.662Z"
   },
   {
    "duration": 102,
    "start_time": "2022-05-19T21:11:58.670Z"
   },
   {
    "duration": 3,
    "start_time": "2022-05-19T21:11:58.774Z"
   },
   {
    "duration": 16,
    "start_time": "2022-05-19T21:11:58.779Z"
   },
   {
    "duration": 136,
    "start_time": "2022-05-19T21:11:58.797Z"
   },
   {
    "duration": 46,
    "start_time": "2022-05-19T21:11:58.935Z"
   },
   {
    "duration": 83,
    "start_time": "2022-05-19T21:11:58.983Z"
   },
   {
    "duration": 74,
    "start_time": "2022-05-19T21:11:59.067Z"
   },
   {
    "duration": 7,
    "start_time": "2022-05-19T21:11:59.143Z"
   },
   {
    "duration": 11,
    "start_time": "2022-05-19T21:11:59.152Z"
   },
   {
    "duration": 79,
    "start_time": "2022-05-19T21:12:07.453Z"
   },
   {
    "duration": 16,
    "start_time": "2022-05-19T21:12:15.082Z"
   },
   {
    "duration": 1252,
    "start_time": "2022-05-19T21:12:26.867Z"
   },
   {
    "duration": 886,
    "start_time": "2022-05-19T21:12:28.122Z"
   },
   {
    "duration": 136,
    "start_time": "2022-05-19T21:12:29.010Z"
   },
   {
    "duration": 29,
    "start_time": "2022-05-19T21:12:29.148Z"
   },
   {
    "duration": 4,
    "start_time": "2022-05-19T21:12:29.179Z"
   },
   {
    "duration": 248,
    "start_time": "2022-05-19T21:12:29.186Z"
   },
   {
    "duration": 54,
    "start_time": "2022-05-19T21:12:29.436Z"
   },
   {
    "duration": 159,
    "start_time": "2022-05-19T21:12:29.493Z"
   },
   {
    "duration": 166,
    "start_time": "2022-05-19T21:12:29.654Z"
   },
   {
    "duration": 29,
    "start_time": "2022-05-19T21:12:29.822Z"
   },
   {
    "duration": 136,
    "start_time": "2022-05-19T21:12:29.853Z"
   },
   {
    "duration": 45,
    "start_time": "2022-05-19T21:12:29.991Z"
   },
   {
    "duration": 47,
    "start_time": "2022-05-19T21:12:30.038Z"
   },
   {
    "duration": 42,
    "start_time": "2022-05-19T21:12:30.089Z"
   },
   {
    "duration": 24,
    "start_time": "2022-05-19T21:12:30.133Z"
   },
   {
    "duration": 33,
    "start_time": "2022-05-19T21:12:30.159Z"
   },
   {
    "duration": 114,
    "start_time": "2022-05-19T21:12:30.194Z"
   },
   {
    "duration": 105,
    "start_time": "2022-05-19T21:12:30.310Z"
   },
   {
    "duration": 38,
    "start_time": "2022-05-19T21:12:30.417Z"
   },
   {
    "duration": 53,
    "start_time": "2022-05-19T21:12:30.457Z"
   },
   {
    "duration": 215,
    "start_time": "2022-05-19T21:12:30.512Z"
   },
   {
    "duration": 319,
    "start_time": "2022-05-19T21:12:30.729Z"
   },
   {
    "duration": 53,
    "start_time": "2022-05-19T21:12:31.050Z"
   },
   {
    "duration": 6,
    "start_time": "2022-05-19T21:12:31.105Z"
   },
   {
    "duration": 65,
    "start_time": "2022-05-19T21:12:31.113Z"
   },
   {
    "duration": 271,
    "start_time": "2022-05-19T21:12:31.180Z"
   },
   {
    "duration": 44,
    "start_time": "2022-05-19T21:12:31.453Z"
   },
   {
    "duration": 297,
    "start_time": "2022-05-19T21:12:31.499Z"
   },
   {
    "duration": 46,
    "start_time": "2022-05-19T21:12:31.798Z"
   },
   {
    "duration": 43,
    "start_time": "2022-05-19T21:12:31.846Z"
   },
   {
    "duration": 349,
    "start_time": "2022-05-19T21:12:31.892Z"
   },
   {
    "duration": 37,
    "start_time": "2022-05-19T21:12:32.243Z"
   },
   {
    "duration": 21,
    "start_time": "2022-05-19T21:12:32.282Z"
   },
   {
    "duration": 58,
    "start_time": "2022-05-19T21:12:32.305Z"
   },
   {
    "duration": 44,
    "start_time": "2022-05-19T21:12:32.366Z"
   },
   {
    "duration": 39,
    "start_time": "2022-05-19T21:12:32.413Z"
   },
   {
    "duration": 350,
    "start_time": "2022-05-19T21:12:32.454Z"
   },
   {
    "duration": 10,
    "start_time": "2022-05-19T21:12:32.806Z"
   },
   {
    "duration": 45,
    "start_time": "2022-05-19T21:12:32.818Z"
   },
   {
    "duration": 14,
    "start_time": "2022-05-19T21:12:32.866Z"
   },
   {
    "duration": 3,
    "start_time": "2022-05-19T21:12:32.885Z"
   },
   {
    "duration": 97,
    "start_time": "2022-05-19T21:12:32.890Z"
   },
   {
    "duration": 83,
    "start_time": "2022-05-19T21:12:32.989Z"
   },
   {
    "duration": 4,
    "start_time": "2022-05-19T21:12:33.074Z"
   },
   {
    "duration": 141,
    "start_time": "2022-05-19T21:12:33.080Z"
   },
   {
    "duration": 3,
    "start_time": "2022-05-19T21:12:33.223Z"
   },
   {
    "duration": 29,
    "start_time": "2022-05-19T21:12:33.228Z"
   },
   {
    "duration": 121,
    "start_time": "2022-05-19T21:12:33.259Z"
   },
   {
    "duration": 45,
    "start_time": "2022-05-19T21:12:33.382Z"
   },
   {
    "duration": 87,
    "start_time": "2022-05-19T21:12:33.428Z"
   },
   {
    "duration": 71,
    "start_time": "2022-05-19T21:12:33.518Z"
   },
   {
    "duration": 5,
    "start_time": "2022-05-19T21:12:33.590Z"
   },
   {
    "duration": 196,
    "start_time": "2022-05-19T21:12:37.134Z"
   },
   {
    "duration": 8,
    "start_time": "2022-05-19T21:12:57.090Z"
   },
   {
    "duration": 3,
    "start_time": "2022-05-19T21:13:09.017Z"
   },
   {
    "duration": 123,
    "start_time": "2022-05-19T21:13:28.408Z"
   },
   {
    "duration": 47,
    "start_time": "2022-05-19T21:15:01.639Z"
   },
   {
    "duration": 3,
    "start_time": "2022-05-19T21:15:22.549Z"
   },
   {
    "duration": 48,
    "start_time": "2022-05-19T21:15:44.330Z"
   },
   {
    "duration": 14,
    "start_time": "2022-05-19T21:16:03.828Z"
   },
   {
    "duration": 29,
    "start_time": "2022-05-19T21:16:20.513Z"
   },
   {
    "duration": 7,
    "start_time": "2022-05-19T21:16:43.189Z"
   },
   {
    "duration": 4,
    "start_time": "2022-05-19T21:17:53.330Z"
   },
   {
    "duration": 55,
    "start_time": "2022-05-20T16:00:26.446Z"
   },
   {
    "duration": 1123,
    "start_time": "2022-05-20T16:00:30.902Z"
   },
   {
    "duration": 2872,
    "start_time": "2022-05-20T16:00:32.027Z"
   },
   {
    "duration": 114,
    "start_time": "2022-05-20T16:00:34.900Z"
   },
   {
    "duration": 17,
    "start_time": "2022-05-20T16:00:35.016Z"
   },
   {
    "duration": 3,
    "start_time": "2022-05-20T16:00:35.034Z"
   },
   {
    "duration": 132,
    "start_time": "2022-05-20T16:00:35.038Z"
   },
   {
    "duration": 34,
    "start_time": "2022-05-20T16:00:35.172Z"
   },
   {
    "duration": 100,
    "start_time": "2022-05-20T16:00:35.207Z"
   },
   {
    "duration": 97,
    "start_time": "2022-05-20T16:00:35.309Z"
   },
   {
    "duration": 13,
    "start_time": "2022-05-20T16:00:35.409Z"
   },
   {
    "duration": 106,
    "start_time": "2022-05-20T16:00:35.424Z"
   },
   {
    "duration": 17,
    "start_time": "2022-05-20T16:00:35.531Z"
   },
   {
    "duration": 29,
    "start_time": "2022-05-20T16:00:35.550Z"
   },
   {
    "duration": 27,
    "start_time": "2022-05-20T16:00:35.581Z"
   },
   {
    "duration": 23,
    "start_time": "2022-05-20T16:00:35.610Z"
   },
   {
    "duration": 30,
    "start_time": "2022-05-20T16:00:35.635Z"
   },
   {
    "duration": 94,
    "start_time": "2022-05-20T16:00:35.667Z"
   },
   {
    "duration": 92,
    "start_time": "2022-05-20T16:00:35.763Z"
   },
   {
    "duration": 30,
    "start_time": "2022-05-20T16:00:35.857Z"
   },
   {
    "duration": 32,
    "start_time": "2022-05-20T16:00:35.888Z"
   },
   {
    "duration": 376,
    "start_time": "2022-05-20T16:00:35.921Z"
   },
   {
    "duration": 196,
    "start_time": "2022-05-20T16:00:36.299Z"
   },
   {
    "duration": 56,
    "start_time": "2022-05-20T16:00:36.497Z"
   },
   {
    "duration": 5,
    "start_time": "2022-05-20T16:00:36.554Z"
   },
   {
    "duration": 34,
    "start_time": "2022-05-20T16:00:36.575Z"
   },
   {
    "duration": 206,
    "start_time": "2022-05-20T16:00:36.611Z"
   },
   {
    "duration": 26,
    "start_time": "2022-05-20T16:00:36.818Z"
   },
   {
    "duration": 213,
    "start_time": "2022-05-20T16:00:36.848Z"
   },
   {
    "duration": 39,
    "start_time": "2022-05-20T16:00:37.063Z"
   },
   {
    "duration": 24,
    "start_time": "2022-05-20T16:00:37.104Z"
   },
   {
    "duration": 223,
    "start_time": "2022-05-20T16:00:37.130Z"
   },
   {
    "duration": 28,
    "start_time": "2022-05-20T16:00:37.354Z"
   },
   {
    "duration": 28,
    "start_time": "2022-05-20T16:00:37.383Z"
   },
   {
    "duration": 34,
    "start_time": "2022-05-20T16:00:37.412Z"
   },
   {
    "duration": 33,
    "start_time": "2022-05-20T16:00:37.448Z"
   },
   {
    "duration": 26,
    "start_time": "2022-05-20T16:00:37.483Z"
   },
   {
    "duration": 294,
    "start_time": "2022-05-20T16:00:37.511Z"
   },
   {
    "duration": 7,
    "start_time": "2022-05-20T16:00:37.806Z"
   },
   {
    "duration": 30,
    "start_time": "2022-05-20T16:00:37.815Z"
   },
   {
    "duration": 11,
    "start_time": "2022-05-20T16:00:37.846Z"
   },
   {
    "duration": 3,
    "start_time": "2022-05-20T16:00:37.875Z"
   },
   {
    "duration": 103,
    "start_time": "2022-05-20T16:00:37.880Z"
   },
   {
    "duration": 70,
    "start_time": "2022-05-20T16:00:37.985Z"
   },
   {
    "duration": 3,
    "start_time": "2022-05-20T16:00:38.057Z"
   },
   {
    "duration": 91,
    "start_time": "2022-05-20T16:00:38.062Z"
   },
   {
    "duration": 2,
    "start_time": "2022-05-20T16:00:38.154Z"
   },
   {
    "duration": 29,
    "start_time": "2022-05-20T16:00:38.158Z"
   },
   {
    "duration": 106,
    "start_time": "2022-05-20T16:00:38.189Z"
   },
   {
    "duration": 41,
    "start_time": "2022-05-20T16:00:38.297Z"
   },
   {
    "duration": 69,
    "start_time": "2022-05-20T16:00:38.339Z"
   },
   {
    "duration": 67,
    "start_time": "2022-05-20T16:00:38.410Z"
   },
   {
    "duration": 4,
    "start_time": "2022-05-20T16:00:38.479Z"
   },
   {
    "duration": 14,
    "start_time": "2022-05-20T16:00:38.484Z"
   },
   {
    "duration": 132,
    "start_time": "2022-05-20T16:00:38.499Z"
   },
   {
    "duration": 51,
    "start_time": "2022-05-20T16:00:38.633Z"
   },
   {
    "duration": 2,
    "start_time": "2022-05-20T16:00:38.685Z"
   },
   {
    "duration": 45,
    "start_time": "2022-05-20T16:00:38.690Z"
   },
   {
    "duration": 11,
    "start_time": "2022-05-20T16:00:38.736Z"
   },
   {
    "duration": 15,
    "start_time": "2022-05-20T16:00:38.749Z"
   },
   {
    "duration": 9,
    "start_time": "2022-05-20T16:00:38.766Z"
   },
   {
    "duration": 510,
    "start_time": "2022-05-20T16:00:38.776Z"
   },
   {
    "duration": 6,
    "start_time": "2022-05-20T16:00:39.375Z"
   },
   {
    "duration": 92,
    "start_time": "2022-05-20T16:00:39.383Z"
   },
   {
    "duration": 6,
    "start_time": "2022-05-20T16:00:39.477Z"
   },
   {
    "duration": 30,
    "start_time": "2022-05-20T16:00:39.484Z"
   },
   {
    "duration": 790,
    "start_time": "2022-05-20T16:00:39.515Z"
   },
   {
    "duration": 4,
    "start_time": "2022-05-20T16:00:40.307Z"
   },
   {
    "duration": 17,
    "start_time": "2022-05-20T16:00:45.076Z"
   },
   {
    "duration": 64,
    "start_time": "2022-05-20T16:02:59.027Z"
   },
   {
    "duration": 634,
    "start_time": "2022-05-20T16:03:47.213Z"
   },
   {
    "duration": 501,
    "start_time": "2022-05-20T16:05:05.104Z"
   },
   {
    "duration": 127,
    "start_time": "2022-05-20T16:28:04.352Z"
   },
   {
    "duration": 31,
    "start_time": "2022-05-20T16:29:18.068Z"
   },
   {
    "duration": 1175,
    "start_time": "2022-05-20T16:30:35.347Z"
   },
   {
    "duration": 846,
    "start_time": "2022-05-20T16:30:36.523Z"
   },
   {
    "duration": 170,
    "start_time": "2022-05-20T16:30:37.370Z"
   },
   {
    "duration": 46,
    "start_time": "2022-05-20T16:30:37.542Z"
   },
   {
    "duration": 7,
    "start_time": "2022-05-20T16:30:37.591Z"
   },
   {
    "duration": 157,
    "start_time": "2022-05-20T16:30:37.601Z"
   },
   {
    "duration": 50,
    "start_time": "2022-05-20T16:30:37.760Z"
   },
   {
    "duration": 113,
    "start_time": "2022-05-20T16:30:37.812Z"
   },
   {
    "duration": 100,
    "start_time": "2022-05-20T16:30:37.926Z"
   },
   {
    "duration": 14,
    "start_time": "2022-05-20T16:30:38.027Z"
   },
   {
    "duration": 134,
    "start_time": "2022-05-20T16:30:38.043Z"
   },
   {
    "duration": 19,
    "start_time": "2022-05-20T16:30:38.179Z"
   },
   {
    "duration": 26,
    "start_time": "2022-05-20T16:30:38.200Z"
   },
   {
    "duration": 23,
    "start_time": "2022-05-20T16:30:38.229Z"
   },
   {
    "duration": 40,
    "start_time": "2022-05-20T16:30:38.253Z"
   },
   {
    "duration": 23,
    "start_time": "2022-05-20T16:30:38.294Z"
   },
   {
    "duration": 136,
    "start_time": "2022-05-20T16:30:38.318Z"
   },
   {
    "duration": 95,
    "start_time": "2022-05-20T16:30:38.456Z"
   },
   {
    "duration": 30,
    "start_time": "2022-05-20T16:30:38.553Z"
   },
   {
    "duration": 31,
    "start_time": "2022-05-20T16:30:38.585Z"
   },
   {
    "duration": 139,
    "start_time": "2022-05-20T16:30:38.618Z"
   },
   {
    "duration": 264,
    "start_time": "2022-05-20T16:30:38.759Z"
   },
   {
    "duration": 56,
    "start_time": "2022-05-20T16:30:39.025Z"
   },
   {
    "duration": 5,
    "start_time": "2022-05-20T16:30:39.082Z"
   },
   {
    "duration": 32,
    "start_time": "2022-05-20T16:30:39.088Z"
   },
   {
    "duration": 203,
    "start_time": "2022-05-20T16:30:39.121Z"
   },
   {
    "duration": 53,
    "start_time": "2022-05-20T16:30:39.326Z"
   },
   {
    "duration": 223,
    "start_time": "2022-05-20T16:30:39.381Z"
   },
   {
    "duration": 32,
    "start_time": "2022-05-20T16:30:39.606Z"
   },
   {
    "duration": 39,
    "start_time": "2022-05-20T16:30:39.640Z"
   },
   {
    "duration": 264,
    "start_time": "2022-05-20T16:30:39.681Z"
   },
   {
    "duration": 25,
    "start_time": "2022-05-20T16:30:39.948Z"
   },
   {
    "duration": 18,
    "start_time": "2022-05-20T16:30:39.975Z"
   },
   {
    "duration": 31,
    "start_time": "2022-05-20T16:30:39.994Z"
   },
   {
    "duration": 51,
    "start_time": "2022-05-20T16:30:40.026Z"
   },
   {
    "duration": 21,
    "start_time": "2022-05-20T16:30:40.079Z"
   },
   {
    "duration": 290,
    "start_time": "2022-05-20T16:30:40.102Z"
   },
   {
    "duration": 10,
    "start_time": "2022-05-20T16:30:40.395Z"
   },
   {
    "duration": 26,
    "start_time": "2022-05-20T16:30:40.406Z"
   },
   {
    "duration": 11,
    "start_time": "2022-05-20T16:30:40.433Z"
   },
   {
    "duration": 3,
    "start_time": "2022-05-20T16:30:40.448Z"
   },
   {
    "duration": 72,
    "start_time": "2022-05-20T16:30:40.475Z"
   },
   {
    "duration": 74,
    "start_time": "2022-05-20T16:30:40.549Z"
   },
   {
    "duration": 4,
    "start_time": "2022-05-20T16:30:40.624Z"
   },
   {
    "duration": 80,
    "start_time": "2022-05-20T16:30:40.630Z"
   },
   {
    "duration": 3,
    "start_time": "2022-05-20T16:30:40.711Z"
   },
   {
    "duration": 16,
    "start_time": "2022-05-20T16:30:40.715Z"
   },
   {
    "duration": 106,
    "start_time": "2022-05-20T16:30:40.733Z"
   },
   {
    "duration": 48,
    "start_time": "2022-05-20T16:30:40.841Z"
   },
   {
    "duration": 59,
    "start_time": "2022-05-20T16:30:40.890Z"
   },
   {
    "duration": 71,
    "start_time": "2022-05-20T16:30:40.950Z"
   },
   {
    "duration": 4,
    "start_time": "2022-05-20T16:30:41.023Z"
   },
   {
    "duration": 6,
    "start_time": "2022-05-20T16:30:41.029Z"
   },
   {
    "duration": 129,
    "start_time": "2022-05-20T16:30:41.036Z"
   },
   {
    "duration": 44,
    "start_time": "2022-05-20T16:30:41.167Z"
   },
   {
    "duration": 2,
    "start_time": "2022-05-20T16:30:41.213Z"
   },
   {
    "duration": 38,
    "start_time": "2022-05-20T16:30:41.217Z"
   },
   {
    "duration": 11,
    "start_time": "2022-05-20T16:30:41.275Z"
   },
   {
    "duration": 9,
    "start_time": "2022-05-20T16:30:41.288Z"
   },
   {
    "duration": 2,
    "start_time": "2022-05-20T16:30:41.299Z"
   },
   {
    "duration": 477,
    "start_time": "2022-05-20T16:30:41.303Z"
   },
   {
    "duration": 5,
    "start_time": "2022-05-20T16:30:41.783Z"
   },
   {
    "duration": 115,
    "start_time": "2022-05-20T16:30:41.790Z"
   },
   {
    "duration": 9,
    "start_time": "2022-05-20T16:30:41.908Z"
   },
   {
    "duration": 12,
    "start_time": "2022-05-20T16:30:41.919Z"
   },
   {
    "duration": 876,
    "start_time": "2022-05-20T16:30:41.933Z"
   },
   {
    "duration": 5,
    "start_time": "2022-05-20T16:30:42.811Z"
   },
   {
    "duration": 251,
    "start_time": "2022-05-20T16:30:42.818Z"
   },
   {
    "duration": 6,
    "start_time": "2022-05-20T16:30:43.071Z"
   },
   {
    "duration": 51,
    "start_time": "2022-05-20T16:30:43.078Z"
   },
   {
    "duration": 4,
    "start_time": "2022-05-20T16:30:43.131Z"
   },
   {
    "duration": 9,
    "start_time": "2022-05-20T16:30:43.136Z"
   },
   {
    "duration": 5,
    "start_time": "2022-05-20T16:30:43.147Z"
   },
   {
    "duration": 21,
    "start_time": "2022-05-20T16:30:43.153Z"
   },
   {
    "duration": 3,
    "start_time": "2022-05-20T16:30:43.176Z"
   },
   {
    "duration": 10,
    "start_time": "2022-05-20T16:30:43.180Z"
   },
   {
    "duration": 1101,
    "start_time": "2022-05-20T16:30:43.191Z"
   },
   {
    "duration": 2,
    "start_time": "2022-05-20T16:30:44.294Z"
   },
   {
    "duration": 12,
    "start_time": "2022-05-20T16:30:44.298Z"
   },
   {
    "duration": 10,
    "start_time": "2022-05-20T16:30:44.311Z"
   },
   {
    "duration": 5,
    "start_time": "2022-05-20T16:30:44.322Z"
   },
   {
    "duration": 4,
    "start_time": "2022-05-20T16:30:44.329Z"
   },
   {
    "duration": 5,
    "start_time": "2022-05-20T16:30:44.334Z"
   },
   {
    "duration": 253537,
    "start_time": "2022-05-20T16:30:44.341Z"
   },
   {
    "duration": 620,
    "start_time": "2022-05-20T16:34:57.880Z"
   },
   {
    "duration": 5,
    "start_time": "2022-05-20T16:34:58.501Z"
   },
   {
    "duration": 4,
    "start_time": "2022-05-20T16:34:58.575Z"
   },
   {
    "duration": 12,
    "start_time": "2022-05-20T16:34:58.580Z"
   },
   {
    "duration": 42,
    "start_time": "2022-05-20T17:38:45.790Z"
   },
   {
    "duration": 28,
    "start_time": "2022-05-20T17:38:48.187Z"
   }
  ],
  "kernelspec": {
   "display_name": "Python 3 (ipykernel)",
   "language": "python",
   "name": "python3"
  },
  "language_info": {
   "codemirror_mode": {
    "name": "ipython",
    "version": 3
   },
   "file_extension": ".py",
   "mimetype": "text/x-python",
   "name": "python",
   "nbconvert_exporter": "python",
   "pygments_lexer": "ipython3",
   "version": "3.10.0"
  },
  "toc": {
   "base_numbering": 1,
   "nav_menu": {},
   "number_sections": true,
   "sideBar": true,
   "skip_h1_title": true,
   "title_cell": "Table of Contents",
   "title_sidebar": "Contents",
   "toc_cell": false,
   "toc_position": {},
   "toc_section_display": true,
   "toc_window_display": false
  }
 },
 "nbformat": 4,
 "nbformat_minor": 4
}
