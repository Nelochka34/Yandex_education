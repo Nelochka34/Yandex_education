{
 "cells": [
  {
   "cell_type": "markdown",
   "metadata": {},
   "source": [
    "# Рекомендация тарифов"
   ]
  },
  {
   "cell_type": "markdown",
   "metadata": {},
   "source": [
    "В вашем распоряжении данные о поведении клиентов, которые уже перешли на эти тарифы (из проекта курса «Статистический анализ данных»). Нужно построить модель для задачи классификации, которая выберет подходящий тариф. Предобработка данных не понадобится — вы её уже сделали.\n",
    "\n",
    "Постройте модель с максимально большим значением *accuracy*. Чтобы сдать проект успешно, нужно довести долю правильных ответов по крайней мере до 0.75. Проверьте *accuracy* на тестовой выборке самостоятельно."
   ]
  },
  {
   "cell_type": "markdown",
   "metadata": {},
   "source": [
    "## Откройте и изучите файл"
   ]
  },
  {
   "cell_type": "code",
   "execution_count": 1,
   "metadata": {},
   "outputs": [],
   "source": [
    "import pandas as pd #импортируем библиотеки\n",
    "from sklearn.model_selection import train_test_split\n",
    "from sklearn.tree import DecisionTreeClassifier\n",
    "from sklearn.metrics import accuracy_score\n",
    "from sklearn.model_selection import train_test_split\n",
    "from sklearn.ensemble import RandomForestClassifier\n",
    "from sklearn.linear_model import LogisticRegression\n",
    "from sklearn.dummy import DummyClassifier\n"
   ]
  },
  {
   "cell_type": "code",
   "execution_count": 11,
   "metadata": {},
   "outputs": [],
   "source": [
    "# откроем файл с данными\n",
    "\n",
    "try:\n",
    "    df = pd.read_csv(\"users_behavior.csv\")\n",
    "except:\n",
    "    df = pd.read_csv('/datasets/users_behavior.csv')"
   ]
  },
  {
   "cell_type": "code",
   "execution_count": 12,
   "metadata": {},
   "outputs": [
    {
     "name": "stdout",
     "output_type": "stream",
     "text": [
      "<class 'pandas.core.frame.DataFrame'>\n",
      "RangeIndex: 3214 entries, 0 to 3213\n",
      "Data columns (total 5 columns):\n",
      " #   Column    Non-Null Count  Dtype  \n",
      "---  ------    --------------  -----  \n",
      " 0   calls     3214 non-null   float64\n",
      " 1   minutes   3214 non-null   float64\n",
      " 2   messages  3214 non-null   float64\n",
      " 3   mb_used   3214 non-null   float64\n",
      " 4   is_ultra  3214 non-null   int64  \n",
      "dtypes: float64(4), int64(1)\n",
      "memory usage: 125.7 KB\n"
     ]
    }
   ],
   "source": [
    "df.info()"
   ]
  },
  {
   "cell_type": "markdown",
   "metadata": {},
   "source": [
    "3214 строк, 5 столбцов. Пропусков данных нет. \n",
    "\n",
    "Названия столбцов: \n",
    "\n",
    "сalls — количество звонков,\n",
    "\n",
    "minutes — суммарная длительность звонков в минутах,\n",
    "\n",
    "messages — количество sms-сообщений,\n",
    "\n",
    "mb_used — израсходованный интернет-трафик в Мб,\n",
    "\n",
    "is_ultra — каким тарифом пользовался в течение месяца («Ультра» — 1, «Смарт» — 0)."
   ]
  },
  {
   "cell_type": "markdown",
   "metadata": {},
   "source": [
    "## Разбейте данные на выборки"
   ]
  },
  {
   "cell_type": "code",
   "execution_count": 19,
   "metadata": {},
   "outputs": [],
   "source": [
    "# разбили данные на 2 выборки: 1- это обучающая и валидационная df_train_valid, 2- это тестовая 20% df_test\n",
    "df_train_valid, df_test = train_test_split(df, test_size=0.2, random_state=12345) \n",
    "\n",
    "# разобьем обучающую (60%) и валидационную (20%): \n",
    "df_train, df_valid = train_test_split(df_train_valid, test_size=0.2, random_state=12345)\n"
   ]
  },
  {
   "cell_type": "code",
   "execution_count": 5,
   "metadata": {},
   "outputs": [
    {
     "name": "stdout",
     "output_type": "stream",
     "text": [
      "(2056, 5)\n",
      "(515, 5)\n",
      "(643, 5)\n"
     ]
    }
   ],
   "source": [
    "print(df_train.shape)\n",
    "print(df_valid.shape)\n",
    "print(df_test.shape)"
   ]
  },
  {
   "cell_type": "markdown",
   "metadata": {},
   "source": [
    "Теперь у нас есть три датасета:\n",
    "\n",
    "df_train для обучения модели\n",
    "\n",
    "df_valid для поверки модели на переобучение\n",
    "\n",
    "df_test для оценки качества модели"
   ]
  },
  {
   "cell_type": "markdown",
   "metadata": {},
   "source": [
    "## Исследуйте модели"
   ]
  },
  {
   "cell_type": "markdown",
   "metadata": {},
   "source": [
    "В качестве целевого признака выступает столбец \"is_ultra\". Этот признак является категориальным. Следовательно нам необходимо решить задачу классификации.\n",
    "\n",
    "Будем использовать следующие модели машинного обучения:\n",
    "\n",
    "- Решающее дерево\n",
    "- Случайный лес\n",
    "- Логистическая регрессия\n",
    "\n",
    "У \"Решающего дерева\" и \"Случайного леса\" есть гиперпараметры, меняя которые можно подобрать наилучшую модель. У \"Решающего дерева\" это максимальная глубина дерева max_depth. У \"Случайного леса\" это количество деревьев n_estimators.\n",
    "\n",
    "Каждую модель обучим на обучающем наборе и проверим на валидационной выборке. Таким образом определим лучшую модель.\n",
    "\n",
    "Объявим переменные features и target (признаки и целевой признак)."
   ]
  },
  {
   "cell_type": "code",
   "execution_count": 20,
   "metadata": {},
   "outputs": [],
   "source": [
    "# создадим переменные, в целевую переменную запишем столбец is_ultra, а все остальные - в признаки\n",
    "# для обучающей выборки:\n",
    "features_train = df_train.drop(['is_ultra'], axis=1)\n",
    "target_train = df_train['is_ultra']\n",
    "\n",
    "# для валидационной выборки:\n",
    "features_valid = df_valid.drop(['is_ultra'], axis=1) \n",
    "target_valid = df_valid['is_ultra']"
   ]
  },
  {
   "cell_type": "markdown",
   "metadata": {},
   "source": [
    "Исследуем модели: \n",
    "- решающее дерево\n",
    "- случайный лес\n",
    "- логистическая регрессия"
   ]
  },
  {
   "cell_type": "code",
   "execution_count": 21,
   "metadata": {},
   "outputs": [
    {
     "name": "stdout",
     "output_type": "stream",
     "text": [
      "Accuracy наилучшей модели решающее дерево на валидационной выборке: 0.7572815533980582 Глубина дерева: 5\n"
     ]
    }
   ],
   "source": [
    "# решающее дерево, исследуем гиперпараметр max_depth от 1 до 5:\n",
    "best_model = None\n",
    "best_result = 0\n",
    "best_depth = 0\n",
    "for depth in range(1, 6):\n",
    "    model_tree = DecisionTreeClassifier(random_state = 12345, max_depth = depth)\n",
    "    model_tree.fit(features_train, target_train) # обучим\n",
    "    predictions_valid = model_tree.predict(features_valid) # найдем предсказания на валидационной выборке\n",
    "    result = accuracy_score(target_valid, predictions_valid)\n",
    "    if result > best_result:\n",
    "        best_model = model_tree \n",
    "        best_result = accuracy_score(target_valid, predictions_valid)\n",
    "        best_depth = depth\n",
    "\n",
    "print('Accuracy наилучшей модели решающее дерево на валидационной выборке:', best_result, \"Глубина дерева:\", depth) "
   ]
  },
  {
   "cell_type": "code",
   "execution_count": 22,
   "metadata": {},
   "outputs": [
    {
     "name": "stdout",
     "output_type": "stream",
     "text": [
      "Accuracy наилучшей модели случайный лес на валидационной выборке: 0.7728155339805826 Количество деревьев: 13\n"
     ]
    }
   ],
   "source": [
    "# исследуем модель - случайный лес\n",
    "best_model = None\n",
    "best_result = 0\n",
    "best_est = 0\n",
    "for est in range(1, 20):\n",
    "    model_forest = RandomForestClassifier(random_state=12345, n_estimators=est) # создадим модель с заданным количеством деревьев\n",
    "    model_forest.fit(features_train, target_train) # обучим модель на тренировочной выборке\n",
    "    result = model_forest.score(features_valid, target_valid) # посчитаем качество модели на валидационной выборке\n",
    "    if result > best_result:\n",
    "        best_model = model_forest \n",
    "        best_result = model_forest.score(features_valid, target_valid)\n",
    "        best_est = est\n",
    "\n",
    "print(\"Accuracy наилучшей модели случайный лес на валидационной выборке:\", best_result, \"Количество деревьев:\", best_est)"
   ]
  },
  {
   "cell_type": "code",
   "execution_count": 23,
   "metadata": {},
   "outputs": [
    {
     "name": "stdout",
     "output_type": "stream",
     "text": [
      "Accuracy модели логистической регрессии на валидационной выборке: 0.7203883495145631\n"
     ]
    },
    {
     "name": "stderr",
     "output_type": "stream",
     "text": [
      "/opt/conda/lib/python3.7/site-packages/sklearn/linear_model/logistic.py:432: FutureWarning: Default solver will be changed to 'lbfgs' in 0.22. Specify a solver to silence this warning.\n",
      "  FutureWarning)\n"
     ]
    }
   ],
   "source": [
    "# исследуем модель - логистическая регрессия\n",
    "model_lg = LogisticRegression(random_state = 12345) # инициализируем модель \n",
    "model_lg.fit(features_train, target_train) # обучим модель на тренировочной выборке\n",
    "result = model_lg.score(features_valid, target_valid) # получим метрику качества модели на валидационной выборке\n",
    "\n",
    "print(\"Accuracy модели логистической регрессии на валидационной выборке:\", result)"
   ]
  },
  {
   "cell_type": "markdown",
   "metadata": {},
   "source": [
    "Исходя из всех построенных моделей: решающее дерево, случайный лес, логистическая регрессия, можно сделать вывод, что модель с максимально большим значением accuracy это Случайный лес с количеством деревьев 13. Доля правильных ответов 0.7728155339805826.  "
   ]
  },
  {
   "cell_type": "markdown",
   "metadata": {},
   "source": [
    "## Проверьте модель на тестовой выборке"
   ]
  },
  {
   "cell_type": "code",
   "execution_count": 10,
   "metadata": {},
   "outputs": [],
   "source": [
    "# создадим переменные для тестовой выборки\n",
    "test_features = df_test.drop(['is_ultra'], axis=1)\n",
    "test_target = df_test['is_ultra']"
   ]
  },
  {
   "cell_type": "code",
   "execution_count": 11,
   "metadata": {},
   "outputs": [],
   "source": [
    "test_predictions = model_forest.predict(test_features)  # найдем предсказания на тестовой выборке"
   ]
  },
  {
   "cell_type": "code",
   "execution_count": 12,
   "metadata": {},
   "outputs": [],
   "source": [
    "accuracy_test = model_forest.score(test_features, test_target)"
   ]
  },
  {
   "cell_type": "code",
   "execution_count": 13,
   "metadata": {},
   "outputs": [
    {
     "name": "stdout",
     "output_type": "stream",
     "text": [
      "Accuracy модели случайный лес на тестовой выборке: 0.776049766718507\n"
     ]
    }
   ],
   "source": [
    "print(\"Accuracy модели случайный лес на тестовой выборке:\", accuracy_test)"
   ]
  },
  {
   "cell_type": "markdown",
   "metadata": {},
   "source": [
    "## (бонус) Проверьте модели на адекватность"
   ]
  },
  {
   "cell_type": "code",
   "execution_count": 14,
   "metadata": {},
   "outputs": [],
   "source": [
    "# формируем модель, которая в качестве предиктора выдает наиболее часто встречающееся значение\n",
    "dummy_clf = DummyClassifier(strategy=\"most_frequent\", random_state=12345)"
   ]
  },
  {
   "cell_type": "code",
   "execution_count": 15,
   "metadata": {},
   "outputs": [
    {
     "data": {
      "text/plain": [
       "DummyClassifier(constant=None, random_state=12345, strategy='most_frequent')"
      ]
     },
     "execution_count": 15,
     "metadata": {},
     "output_type": "execute_result"
    }
   ],
   "source": [
    "# обучим ее на тренировочной выборке:\n",
    "dummy_clf.fit(features_train, target_train)"
   ]
  },
  {
   "cell_type": "code",
   "execution_count": 16,
   "metadata": {},
   "outputs": [
    {
     "data": {
      "text/plain": [
       "array([0, 0, 0, ..., 0, 0, 0])"
      ]
     },
     "execution_count": 16,
     "metadata": {},
     "output_type": "execute_result"
    }
   ],
   "source": [
    "# сделаем предсказание:\n",
    "dummy_clf.predict(features_train)"
   ]
  },
  {
   "cell_type": "code",
   "execution_count": 17,
   "metadata": {},
   "outputs": [
    {
     "data": {
      "text/plain": [
       "0.6974708171206225"
      ]
     },
     "execution_count": 17,
     "metadata": {},
     "output_type": "execute_result"
    }
   ],
   "source": [
    "# расчитаем долю правильных ответов:\n",
    "result = dummy_clf.score(features_train, target_train)\n",
    "result"
   ]
  },
  {
   "cell_type": "markdown",
   "metadata": {},
   "source": [
    "# Вывод\n"
   ]
  },
  {
   "cell_type": "markdown",
   "metadata": {},
   "source": [
    "- Были рассмотрены три модели: \"Решающее дерево\", \"Случайный лес\" и \"Логистическая регрессия\". \n",
    "В каждой модели, изменяя ее гиперпараметры, мы нашли нашли лучший вариант с наибольшим количеством правильных ответов. Путем простого сравнения лучших моделей по доле правильных ответов подходит модель \"Случайного леса\" с  количеством деревьев 13.\n",
    "- Проверив модель на тестовой выборке \"Accuracy модели случайный лес на тестовой выборке: 0.776049766718507\", убедились что модель работает правильно. \n",
    "\n"
   ]
  },
  {
   "cell_type": "markdown",
   "metadata": {},
   "source": [
    "## Чек-лист готовности проекта"
   ]
  },
  {
   "cell_type": "markdown",
   "metadata": {},
   "source": [
    "Поставьте 'x' в выполненных пунктах. Далее нажмите Shift+Enter."
   ]
  },
  {
   "cell_type": "markdown",
   "metadata": {},
   "source": [
    "- [x] Jupyter Notebook открыт\n",
    "- [x] Весь код исполняется без ошибок\n",
    "- [x] Ячейки с кодом расположены в порядке исполнения\n",
    "- [x] Выполнено задание 1: данные загружены и изучены\n",
    "- [x] Выполнено задание 2: данные разбиты на три выборки\n",
    "- [x] Выполнено задание 3: проведено исследование моделей\n",
    "    - [x] Рассмотрено больше одной модели\n",
    "    - [x] Рассмотрено хотя бы 3 значения гипепараметров для какой-нибудь модели\n",
    "    - [x] Написаны выводы по результатам исследования\n",
    "- [x] Выполнено задание 3: Проведено тестирование\n",
    "- [x] Удалось достичь accuracy не меньше 0.75\n"
   ]
  }
 ],
 "metadata": {
  "ExecuteTimeLog": [
   {
    "duration": 2330,
    "start_time": "2022-03-04T18:52:21.959Z"
   },
   {
    "duration": 224,
    "start_time": "2022-03-04T18:52:24.293Z"
   },
   {
    "duration": 1986,
    "start_time": "2022-03-05T15:29:43.173Z"
   },
   {
    "duration": 217,
    "start_time": "2022-03-05T15:29:46.883Z"
   },
   {
    "duration": 16,
    "start_time": "2022-03-05T19:15:16.615Z"
   },
   {
    "duration": 9,
    "start_time": "2022-03-05T19:18:41.157Z"
   },
   {
    "duration": 69,
    "start_time": "2022-03-05T19:20:23.675Z"
   },
   {
    "duration": 176,
    "start_time": "2022-03-05T19:20:25.504Z"
   },
   {
    "duration": 13,
    "start_time": "2022-03-05T19:20:27.327Z"
   },
   {
    "duration": 9,
    "start_time": "2022-03-05T19:20:35.690Z"
   },
   {
    "duration": 9,
    "start_time": "2022-03-05T19:20:36.092Z"
   },
   {
    "duration": 6,
    "start_time": "2022-03-05T19:41:16.310Z"
   },
   {
    "duration": 37,
    "start_time": "2022-03-05T20:23:01.779Z"
   },
   {
    "duration": 7,
    "start_time": "2022-03-05T20:44:05.007Z"
   },
   {
    "duration": 9,
    "start_time": "2022-03-05T20:45:55.673Z"
   },
   {
    "duration": 16,
    "start_time": "2022-03-05T20:46:05.200Z"
   },
   {
    "duration": 23,
    "start_time": "2022-03-05T20:46:18.003Z"
   },
   {
    "duration": 17,
    "start_time": "2022-03-05T20:46:27.815Z"
   },
   {
    "duration": 17,
    "start_time": "2022-03-05T20:46:36.503Z"
   },
   {
    "duration": 18,
    "start_time": "2022-03-05T20:48:09.066Z"
   },
   {
    "duration": 18,
    "start_time": "2022-03-05T20:48:26.501Z"
   },
   {
    "duration": 16,
    "start_time": "2022-03-05T20:48:35.746Z"
   },
   {
    "duration": 3,
    "start_time": "2022-03-05T20:52:52.975Z"
   },
   {
    "duration": 994,
    "start_time": "2022-03-06T14:21:48.320Z"
   },
   {
    "duration": 155,
    "start_time": "2022-03-06T14:21:49.316Z"
   },
   {
    "duration": 8,
    "start_time": "2022-03-06T14:21:49.473Z"
   },
   {
    "duration": 8,
    "start_time": "2022-03-06T14:21:49.483Z"
   },
   {
    "duration": 303,
    "start_time": "2022-03-06T14:21:49.493Z"
   },
   {
    "duration": -127808,
    "start_time": "2022-03-06T14:23:57.606Z"
   },
   {
    "duration": 4,
    "start_time": "2022-03-06T14:22:22.340Z"
   },
   {
    "duration": 799,
    "start_time": "2022-03-06T14:40:16.477Z"
   },
   {
    "duration": 6,
    "start_time": "2022-03-06T14:40:28.984Z"
   },
   {
    "duration": 32,
    "start_time": "2022-03-06T14:40:31.491Z"
   },
   {
    "duration": 11,
    "start_time": "2022-03-06T14:42:42.726Z"
   },
   {
    "duration": 161,
    "start_time": "2022-03-06T14:42:44.482Z"
   },
   {
    "duration": 3,
    "start_time": "2022-03-06T14:42:47.587Z"
   },
   {
    "duration": 153,
    "start_time": "2022-03-06T14:42:47.592Z"
   },
   {
    "duration": 6,
    "start_time": "2022-03-06T14:42:47.748Z"
   },
   {
    "duration": 9,
    "start_time": "2022-03-06T14:42:47.756Z"
   },
   {
    "duration": 5,
    "start_time": "2022-03-06T14:42:47.766Z"
   },
   {
    "duration": 36,
    "start_time": "2022-03-06T14:42:47.773Z"
   },
   {
    "duration": 2,
    "start_time": "2022-03-06T14:42:47.811Z"
   },
   {
    "duration": 307,
    "start_time": "2022-03-06T14:44:57.225Z"
   },
   {
    "duration": 3,
    "start_time": "2022-03-06T14:46:24.371Z"
   },
   {
    "duration": 4,
    "start_time": "2022-03-06T14:46:27.189Z"
   },
   {
    "duration": 164,
    "start_time": "2022-03-06T14:46:27.194Z"
   },
   {
    "duration": 6,
    "start_time": "2022-03-06T14:46:27.360Z"
   },
   {
    "duration": 10,
    "start_time": "2022-03-06T14:46:27.368Z"
   },
   {
    "duration": 5,
    "start_time": "2022-03-06T14:46:27.379Z"
   },
   {
    "duration": 34,
    "start_time": "2022-03-06T14:46:27.386Z"
   },
   {
    "duration": 316,
    "start_time": "2022-03-06T14:46:27.422Z"
   },
   {
    "duration": 12,
    "start_time": "2022-03-06T14:53:45.299Z"
   },
   {
    "duration": 218,
    "start_time": "2022-03-06T15:02:27.594Z"
   },
   {
    "duration": 4,
    "start_time": "2022-03-06T15:02:59.911Z"
   },
   {
    "duration": 3402,
    "start_time": "2022-03-06T15:05:37.151Z"
   },
   {
    "duration": 1083,
    "start_time": "2022-03-06T15:06:57.906Z"
   },
   {
    "duration": 155,
    "start_time": "2022-03-06T15:06:58.991Z"
   },
   {
    "duration": 6,
    "start_time": "2022-03-06T15:06:59.148Z"
   },
   {
    "duration": 8,
    "start_time": "2022-03-06T15:06:59.156Z"
   },
   {
    "duration": 8,
    "start_time": "2022-03-06T15:06:59.166Z"
   },
   {
    "duration": 39,
    "start_time": "2022-03-06T15:06:59.176Z"
   },
   {
    "duration": 323,
    "start_time": "2022-03-06T15:06:59.217Z"
   },
   {
    "duration": 11,
    "start_time": "2022-03-06T15:06:59.542Z"
   },
   {
    "duration": 4,
    "start_time": "2022-03-06T15:06:59.555Z"
   },
   {
    "duration": 3630,
    "start_time": "2022-03-06T15:06:59.561Z"
   },
   {
    "duration": 324,
    "start_time": "2022-03-06T15:13:37.130Z"
   },
   {
    "duration": 33,
    "start_time": "2022-03-06T15:14:30.219Z"
   },
   {
    "duration": 32,
    "start_time": "2022-03-06T15:15:27.195Z"
   },
   {
    "duration": 34,
    "start_time": "2022-03-06T15:17:24.068Z"
   },
   {
    "duration": 31,
    "start_time": "2022-03-06T15:18:14.809Z"
   },
   {
    "duration": 37,
    "start_time": "2022-03-06T15:18:26.813Z"
   },
   {
    "duration": 4,
    "start_time": "2022-03-06T15:28:59.116Z"
   },
   {
    "duration": 4,
    "start_time": "2022-03-06T15:29:01.013Z"
   },
   {
    "duration": 3608,
    "start_time": "2022-03-06T15:29:28.612Z"
   },
   {
    "duration": 28,
    "start_time": "2022-03-06T15:32:17.077Z"
   },
   {
    "duration": 15,
    "start_time": "2022-03-06T15:35:24.763Z"
   },
   {
    "duration": 6614,
    "start_time": "2022-03-06T15:35:29.052Z"
   },
   {
    "duration": 4,
    "start_time": "2022-03-06T15:38:59.530Z"
   },
   {
    "duration": 4,
    "start_time": "2022-03-06T15:40:35.239Z"
   },
   {
    "duration": 3,
    "start_time": "2022-03-06T15:41:37.202Z"
   },
   {
    "duration": 1011,
    "start_time": "2022-03-06T15:45:59.312Z"
   },
   {
    "duration": 162,
    "start_time": "2022-03-06T15:46:00.325Z"
   },
   {
    "duration": 7,
    "start_time": "2022-03-06T15:46:00.489Z"
   },
   {
    "duration": 12,
    "start_time": "2022-03-06T15:46:00.498Z"
   },
   {
    "duration": 7,
    "start_time": "2022-03-06T15:46:00.512Z"
   },
   {
    "duration": 325,
    "start_time": "2022-03-06T15:46:00.521Z"
   },
   {
    "duration": -127803,
    "start_time": "2022-03-06T15:48:08.652Z"
   },
   {
    "duration": -127812,
    "start_time": "2022-03-06T15:48:08.662Z"
   },
   {
    "duration": -127811,
    "start_time": "2022-03-06T15:48:08.663Z"
   },
   {
    "duration": -127811,
    "start_time": "2022-03-06T15:48:08.665Z"
   },
   {
    "duration": -127812,
    "start_time": "2022-03-06T15:48:08.667Z"
   },
   {
    "duration": -127811,
    "start_time": "2022-03-06T15:48:08.668Z"
   },
   {
    "duration": -127811,
    "start_time": "2022-03-06T15:48:08.669Z"
   },
   {
    "duration": 43,
    "start_time": "2022-03-06T15:56:47.335Z"
   },
   {
    "duration": 317,
    "start_time": "2022-03-06T15:56:50.673Z"
   },
   {
    "duration": 12,
    "start_time": "2022-03-06T15:56:54.590Z"
   },
   {
    "duration": 4,
    "start_time": "2022-03-06T15:56:59.929Z"
   },
   {
    "duration": 15,
    "start_time": "2022-03-06T15:57:01.744Z"
   },
   {
    "duration": 4,
    "start_time": "2022-03-06T15:57:04.233Z"
   },
   {
    "duration": 4,
    "start_time": "2022-03-06T15:57:06.033Z"
   },
   {
    "duration": 4,
    "start_time": "2022-03-06T15:57:07.986Z"
   },
   {
    "duration": 4,
    "start_time": "2022-03-06T15:58:57.866Z"
   },
   {
    "duration": 4,
    "start_time": "2022-03-06T15:58:59.501Z"
   },
   {
    "duration": 4,
    "start_time": "2022-03-06T15:59:01.593Z"
   },
   {
    "duration": 4,
    "start_time": "2022-03-06T16:13:34.990Z"
   },
   {
    "duration": 2,
    "start_time": "2022-03-06T16:14:35.454Z"
   },
   {
    "duration": 3,
    "start_time": "2022-03-06T16:16:57.705Z"
   },
   {
    "duration": 3,
    "start_time": "2022-03-06T16:17:10.950Z"
   },
   {
    "duration": 5,
    "start_time": "2022-03-06T16:18:22.925Z"
   },
   {
    "duration": 5,
    "start_time": "2022-03-06T16:20:06.204Z"
   },
   {
    "duration": 4,
    "start_time": "2022-03-06T16:22:23.434Z"
   },
   {
    "duration": 6,
    "start_time": "2022-03-06T16:22:33.026Z"
   },
   {
    "duration": 1102,
    "start_time": "2022-03-06T16:24:29.924Z"
   },
   {
    "duration": 149,
    "start_time": "2022-03-06T16:24:31.028Z"
   },
   {
    "duration": 8,
    "start_time": "2022-03-06T16:24:31.180Z"
   },
   {
    "duration": 11,
    "start_time": "2022-03-06T16:24:31.190Z"
   },
   {
    "duration": 6,
    "start_time": "2022-03-06T16:24:31.203Z"
   },
   {
    "duration": 42,
    "start_time": "2022-03-06T16:24:31.211Z"
   },
   {
    "duration": 330,
    "start_time": "2022-03-06T16:24:31.255Z"
   },
   {
    "duration": 13,
    "start_time": "2022-03-06T16:24:31.588Z"
   },
   {
    "duration": 4,
    "start_time": "2022-03-06T16:24:31.603Z"
   },
   {
    "duration": 21,
    "start_time": "2022-03-06T16:24:31.608Z"
   },
   {
    "duration": 3,
    "start_time": "2022-03-06T16:24:31.631Z"
   },
   {
    "duration": 7,
    "start_time": "2022-03-06T16:24:31.636Z"
   },
   {
    "duration": 32,
    "start_time": "2022-03-06T16:24:31.645Z"
   },
   {
    "duration": 5,
    "start_time": "2022-03-06T16:24:31.679Z"
   },
   {
    "duration": 16,
    "start_time": "2022-03-06T16:24:31.686Z"
   },
   {
    "duration": 9,
    "start_time": "2022-03-06T16:24:31.704Z"
   },
   {
    "duration": 9,
    "start_time": "2022-03-06T16:24:31.715Z"
   },
   {
    "duration": 33,
    "start_time": "2022-03-06T16:30:13.728Z"
   },
   {
    "duration": 4,
    "start_time": "2022-03-06T16:37:19.429Z"
   },
   {
    "duration": 4,
    "start_time": "2022-03-06T16:37:21.388Z"
   },
   {
    "duration": 3,
    "start_time": "2022-03-06T16:37:23.347Z"
   },
   {
    "duration": 3,
    "start_time": "2022-03-06T16:45:08.037Z"
   },
   {
    "duration": 169,
    "start_time": "2022-03-07T14:11:40.200Z"
   },
   {
    "duration": 988,
    "start_time": "2022-03-07T14:11:45.484Z"
   },
   {
    "duration": 91,
    "start_time": "2022-03-07T14:11:46.474Z"
   },
   {
    "duration": 7,
    "start_time": "2022-03-07T14:11:46.567Z"
   },
   {
    "duration": 8,
    "start_time": "2022-03-07T14:11:46.576Z"
   },
   {
    "duration": 4,
    "start_time": "2022-03-07T14:11:46.585Z"
   },
   {
    "duration": 7,
    "start_time": "2022-03-07T14:11:46.590Z"
   },
   {
    "duration": 26,
    "start_time": "2022-03-07T14:11:46.599Z"
   },
   {
    "duration": 246,
    "start_time": "2022-03-07T14:11:46.627Z"
   },
   {
    "duration": 12,
    "start_time": "2022-03-07T14:11:46.875Z"
   },
   {
    "duration": 4,
    "start_time": "2022-03-07T14:11:46.888Z"
   },
   {
    "duration": 16,
    "start_time": "2022-03-07T14:11:46.893Z"
   },
   {
    "duration": 3,
    "start_time": "2022-03-07T14:11:46.911Z"
   },
   {
    "duration": 24,
    "start_time": "2022-03-07T14:11:46.915Z"
   },
   {
    "duration": 6,
    "start_time": "2022-03-07T14:11:46.941Z"
   },
   {
    "duration": 7,
    "start_time": "2022-03-07T14:11:46.948Z"
   },
   {
    "duration": 7,
    "start_time": "2022-03-07T14:11:46.956Z"
   },
   {
    "duration": 6,
    "start_time": "2022-03-07T14:11:46.965Z"
   },
   {
    "duration": 6,
    "start_time": "2022-03-07T14:11:46.973Z"
   },
   {
    "duration": 3,
    "start_time": "2022-03-07T14:11:58.143Z"
   },
   {
    "duration": 103,
    "start_time": "2022-03-07T14:11:58.148Z"
   },
   {
    "duration": 6,
    "start_time": "2022-03-07T14:11:58.253Z"
   },
   {
    "duration": 8,
    "start_time": "2022-03-07T14:11:58.261Z"
   },
   {
    "duration": 3,
    "start_time": "2022-03-07T14:11:58.271Z"
   },
   {
    "duration": 8,
    "start_time": "2022-03-07T14:11:58.275Z"
   },
   {
    "duration": 27,
    "start_time": "2022-03-07T14:11:58.284Z"
   },
   {
    "duration": 261,
    "start_time": "2022-03-07T14:11:58.313Z"
   },
   {
    "duration": 11,
    "start_time": "2022-03-07T14:11:58.575Z"
   },
   {
    "duration": 4,
    "start_time": "2022-03-07T14:11:58.588Z"
   },
   {
    "duration": 11,
    "start_time": "2022-03-07T14:11:58.593Z"
   },
   {
    "duration": 5,
    "start_time": "2022-03-07T14:11:58.605Z"
   },
   {
    "duration": 27,
    "start_time": "2022-03-07T14:11:58.611Z"
   },
   {
    "duration": 3,
    "start_time": "2022-03-07T14:11:58.639Z"
   },
   {
    "duration": 8,
    "start_time": "2022-03-07T14:11:58.644Z"
   },
   {
    "duration": 8,
    "start_time": "2022-03-07T14:11:58.653Z"
   },
   {
    "duration": 6,
    "start_time": "2022-03-07T14:11:58.662Z"
   },
   {
    "duration": 9,
    "start_time": "2022-03-07T14:11:58.670Z"
   },
   {
    "duration": 6,
    "start_time": "2022-03-07T14:12:11.453Z"
   },
   {
    "duration": 3,
    "start_time": "2022-03-07T14:12:13.798Z"
   },
   {
    "duration": 30,
    "start_time": "2022-03-07T14:21:25.452Z"
   },
   {
    "duration": 28,
    "start_time": "2022-03-07T14:21:42.243Z"
   },
   {
    "duration": 26,
    "start_time": "2022-03-07T14:22:07.240Z"
   },
   {
    "duration": 267,
    "start_time": "2022-03-07T14:22:15.919Z"
   },
   {
    "duration": 12,
    "start_time": "2022-03-07T14:22:19.549Z"
   },
   {
    "duration": 4,
    "start_time": "2022-03-07T14:41:22.568Z"
   },
   {
    "duration": 3,
    "start_time": "2022-03-07T14:41:25.241Z"
   },
   {
    "duration": 503,
    "start_time": "2022-03-07T14:42:55.212Z"
   },
   {
    "duration": 804,
    "start_time": "2022-03-07T14:43:03.245Z"
   },
   {
    "duration": 31,
    "start_time": "2022-03-07T14:47:52.551Z"
   },
   {
    "duration": 770,
    "start_time": "2022-03-07T14:49:28.793Z"
   },
   {
    "duration": 25,
    "start_time": "2022-03-07T14:53:17.757Z"
   },
   {
    "duration": 777,
    "start_time": "2022-03-07T14:53:57.277Z"
   },
   {
    "duration": 12,
    "start_time": "2022-03-07T14:54:18.591Z"
   },
   {
    "duration": 7,
    "start_time": "2022-03-07T14:56:24.243Z"
   },
   {
    "duration": 9,
    "start_time": "2022-03-07T14:56:52.914Z"
   },
   {
    "duration": 3,
    "start_time": "2022-03-07T14:56:55.425Z"
   },
   {
    "duration": 3,
    "start_time": "2022-03-07T14:57:25.778Z"
   },
   {
    "duration": 5,
    "start_time": "2022-03-07T14:57:28.106Z"
   },
   {
    "duration": 5,
    "start_time": "2022-03-07T14:57:30.415Z"
   },
   {
    "duration": 6,
    "start_time": "2022-03-07T14:57:33.057Z"
   },
   {
    "duration": 3,
    "start_time": "2022-03-07T15:00:47.632Z"
   },
   {
    "duration": 1019,
    "start_time": "2022-03-07T15:02:08.576Z"
   },
   {
    "duration": 99,
    "start_time": "2022-03-07T15:02:09.597Z"
   },
   {
    "duration": 7,
    "start_time": "2022-03-07T15:02:09.699Z"
   },
   {
    "duration": 15,
    "start_time": "2022-03-07T15:02:09.708Z"
   },
   {
    "duration": 12,
    "start_time": "2022-03-07T15:02:09.725Z"
   },
   {
    "duration": 8,
    "start_time": "2022-03-07T15:02:09.739Z"
   },
   {
    "duration": 30,
    "start_time": "2022-03-07T15:02:09.749Z"
   },
   {
    "duration": 798,
    "start_time": "2022-03-07T15:02:09.781Z"
   },
   {
    "duration": 13,
    "start_time": "2022-03-07T15:02:10.581Z"
   },
   {
    "duration": 5,
    "start_time": "2022-03-07T15:02:10.596Z"
   },
   {
    "duration": 15,
    "start_time": "2022-03-07T15:02:10.603Z"
   },
   {
    "duration": 22,
    "start_time": "2022-03-07T15:02:10.620Z"
   },
   {
    "duration": 11,
    "start_time": "2022-03-07T15:02:10.644Z"
   },
   {
    "duration": 15,
    "start_time": "2022-03-07T15:02:10.657Z"
   },
   {
    "duration": 18,
    "start_time": "2022-03-07T15:02:10.674Z"
   },
   {
    "duration": 4,
    "start_time": "2022-03-07T15:02:10.694Z"
   },
   {
    "duration": 14,
    "start_time": "2022-03-07T15:02:10.699Z"
   },
   {
    "duration": 6,
    "start_time": "2022-03-07T15:02:27.468Z"
   },
   {
    "duration": 7,
    "start_time": "2022-03-07T15:02:49.468Z"
   },
   {
    "duration": 6,
    "start_time": "2022-03-07T15:03:34.049Z"
   },
   {
    "duration": 24,
    "start_time": "2022-03-07T15:03:36.852Z"
   },
   {
    "duration": 769,
    "start_time": "2022-03-07T15:03:40.585Z"
   },
   {
    "duration": 13,
    "start_time": "2022-03-07T15:03:44.751Z"
   }
  ],
  "kernelspec": {
   "display_name": "Python 3 (ipykernel)",
   "language": "python",
   "name": "python3"
  },
  "language_info": {
   "codemirror_mode": {
    "name": "ipython",
    "version": 3
   },
   "file_extension": ".py",
   "mimetype": "text/x-python",
   "name": "python",
   "nbconvert_exporter": "python",
   "pygments_lexer": "ipython3",
   "version": "3.10.0"
  },
  "toc": {
   "base_numbering": 1,
   "nav_menu": {},
   "number_sections": true,
   "sideBar": true,
   "skip_h1_title": true,
   "title_cell": "Table of Contents",
   "title_sidebar": "Contents",
   "toc_cell": false,
   "toc_position": {},
   "toc_section_display": true,
   "toc_window_display": false
  }
 },
 "nbformat": 4,
 "nbformat_minor": 2
}
