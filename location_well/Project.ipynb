{
 "cells": [
  {
   "cell_type": "markdown",
   "metadata": {},
   "source": [
    "# Выбор локации для скважины"
   ]
  },
  {
   "cell_type": "markdown",
   "metadata": {},
   "source": [
    "Допустим, вы работаете в добывающей компании «ГлавРосГосНефть». Нужно решить, где бурить новую скважину.\n",
    "\n",
    "Вам предоставлены пробы нефти в трёх регионах: в каждом 10 000 месторождений, где измерили качество нефти и объём её запасов. Постройте модель машинного обучения, которая поможет определить регион, где добыча принесёт наибольшую прибыль. Проанализируйте возможную прибыль и риски техникой *Bootstrap.*\n",
    "\n",
    "Шаги для выбора локации:\n",
    "\n",
    "- В избранном регионе ищут месторождения, для каждого определяют значения признаков;\n",
    "- Строят модель и оценивают объём запасов;\n",
    "- Выбирают месторождения с самым высокими оценками значений. Количество месторождений зависит от бюджета компании и стоимости разработки одной скважины;\n",
    "- Прибыль равна суммарной прибыли отобранных месторождений."
   ]
  },
  {
   "cell_type": "markdown",
   "metadata": {},
   "source": [
    "## Загрузка и подготовка данных"
   ]
  },
  {
   "cell_type": "code",
   "execution_count": 2,
   "metadata": {},
   "outputs": [],
   "source": [
    "import pandas as pd\n",
    "import matplotlib.pyplot as plt\n",
    "import numpy as np\n",
    "import seaborn as sns\n",
    "from sklearn.tree import DecisionTreeClassifier\n",
    "from sklearn.ensemble import RandomForestClassifier\n",
    "from sklearn.linear_model import LogisticRegression\n",
    "from sklearn.linear_model import LinearRegression\n",
    "from sklearn.metrics import mean_squared_error\n",
    "from sklearn.model_selection import train_test_split\n",
    "from sklearn.preprocessing import OrdinalEncoder \n",
    "from sklearn.metrics import f1_score, recall_score, precision_score, confusion_matrix, accuracy_score, roc_auc_score, roc_curve\n",
    "from sklearn.preprocessing import StandardScaler\n",
    "from sklearn.utils import shuffle"
   ]
  },
  {
   "cell_type": "code",
   "execution_count": 3,
   "metadata": {},
   "outputs": [],
   "source": [
    "data0 = pd.read_csv('geo_data_0.csv')"
   ]
  },
  {
   "cell_type": "code",
   "execution_count": 4,
   "metadata": {},
   "outputs": [],
   "source": [
    "data1 = pd.read_csv('geo_data_1.csv')"
   ]
  },
  {
   "cell_type": "code",
   "execution_count": 5,
   "metadata": {},
   "outputs": [],
   "source": [
    "data2 = pd.read_csv('geo_data_2.csv')"
   ]
  },
  {
   "cell_type": "code",
   "execution_count": 6,
   "metadata": {},
   "outputs": [],
   "source": [
    "data = [data0, data1, data2]"
   ]
  },
  {
   "cell_type": "code",
   "execution_count": 6,
   "metadata": {},
   "outputs": [
    {
     "name": "stdout",
     "output_type": "stream",
     "text": [
      "      id        f0        f1        f2     product\n",
      "0  txEyH  0.705745 -0.497823  1.221170  105.280062\n",
      "1  2acmU  1.334711 -0.340164  4.365080   73.037750\n",
      "2  409Wp  1.022732  0.151990  1.419926   85.265647\n",
      "3  iJLyR -0.032172  0.139033  2.978566  168.620776\n",
      "4  Xdl7t  1.988431  0.155413  4.751769  154.036647\n",
      "      id         f0         f1        f2     product\n",
      "0  kBEdx -15.001348  -8.276000 -0.005876    3.179103\n",
      "1  62mP7  14.272088  -3.475083  0.999183   26.953261\n",
      "2  vyE1P   6.263187  -5.948386  5.001160  134.766305\n",
      "3  KcrkZ -13.081196 -11.506057  4.999415  137.945408\n",
      "4  AHL4O  12.702195  -8.147433  5.004363  134.766305\n",
      "      id        f0        f1        f2     product\n",
      "0  fwXo0 -1.146987  0.963328 -0.828965   27.758673\n",
      "1  WJtFt  0.262778  0.269839 -2.530187   56.069697\n",
      "2  ovLUW  0.194587  0.289035 -5.586433   62.871910\n",
      "3  q6cA6  2.236060 -0.553760  0.930038  114.572842\n",
      "4  WPMUX -0.515993  1.716266  5.899011  149.600746\n"
     ]
    }
   ],
   "source": [
    "for i in range(len(data)):   \n",
    "    print(data[i].head(5))"
   ]
  },
  {
   "cell_type": "markdown",
   "metadata": {},
   "source": [
    "где: id — уникальный идентификатор скважины;<br>\n",
    "f0, f1, f2 — три признака точек (неважно, что они означают, но сами признаки значимы);<br>\n",
    "product — объём запасов в скважине (тыс. баррелей).<br>"
   ]
  },
  {
   "cell_type": "markdown",
   "metadata": {},
   "source": [
    "В данных по 5 столбцов, 100 000 строк. Пропусков данных не обнаружено. "
   ]
  },
  {
   "cell_type": "markdown",
   "metadata": {},
   "source": [
    "product - целевой признак "
   ]
  },
  {
   "cell_type": "markdown",
   "metadata": {},
   "source": [
    "Удалим столбец id во всех таблицах, так как оне не несет значимости: "
   ]
  },
  {
   "cell_type": "code",
   "execution_count": 7,
   "metadata": {},
   "outputs": [
    {
     "name": "stdout",
     "output_type": "stream",
     "text": [
      "         f0        f1        f2     product\n",
      "0  0.705745 -0.497823  1.221170  105.280062\n",
      "1  1.334711 -0.340164  4.365080   73.037750\n",
      "2  1.022732  0.151990  1.419926   85.265647\n",
      "3 -0.032172  0.139033  2.978566  168.620776\n",
      "4  1.988431  0.155413  4.751769  154.036647\n",
      "          f0         f1        f2     product\n",
      "0 -15.001348  -8.276000 -0.005876    3.179103\n",
      "1  14.272088  -3.475083  0.999183   26.953261\n",
      "2   6.263187  -5.948386  5.001160  134.766305\n",
      "3 -13.081196 -11.506057  4.999415  137.945408\n",
      "4  12.702195  -8.147433  5.004363  134.766305\n",
      "         f0        f1        f2     product\n",
      "0 -1.146987  0.963328 -0.828965   27.758673\n",
      "1  0.262778  0.269839 -2.530187   56.069697\n",
      "2  0.194587  0.289035 -5.586433   62.871910\n",
      "3  2.236060 -0.553760  0.930038  114.572842\n",
      "4 -0.515993  1.716266  5.899011  149.600746\n"
     ]
    }
   ],
   "source": [
    "for i in range(len(data)):   # сделаем удаление столбца в цикле и выведем значения (чтобы проверить)\n",
    "    data[i] = data[i].drop(columns='id')\n",
    "    print(data[i].head(5))"
   ]
  },
  {
   "cell_type": "markdown",
   "metadata": {},
   "source": [
    "## Обучение и проверка модели"
   ]
  },
  {
   "cell_type": "markdown",
   "metadata": {},
   "source": [
    "Разобъем данные на выборки (обучающую и валидационную):"
   ]
  },
  {
   "cell_type": "code",
   "execution_count": 8,
   "metadata": {},
   "outputs": [],
   "source": [
    "target = []\n",
    "features = []\n",
    "features_train_all = []\n",
    "features_valid_all = []\n",
    "target_train_all = []\n",
    "target_valid_all = []\n",
    "predicted_valid_all = []"
   ]
  },
  {
   "cell_type": "code",
   "execution_count": 9,
   "metadata": {},
   "outputs": [
    {
     "name": "stdout",
     "output_type": "stream",
     "text": [
      "Регион № 1\n",
      "Обучающая выборка: (75000, 3) (75000,)\n",
      "Валидационная выборка: (25000, 3) (25000,)\n",
      "Средний запас предсказанного сырья 92.59256778438035\n",
      "RMSE 0 = 37.5794217150813\n",
      "\n",
      "Регион № 2\n",
      "Обучающая выборка: (75000, 3) (75000,)\n",
      "Валидационная выборка: (25000, 3) (25000,)\n",
      "Средний запас предсказанного сырья 68.728546895446\n",
      "RMSE 1 = 0.893099286775617\n",
      "\n",
      "Регион № 3\n",
      "Обучающая выборка: (75000, 3) (75000,)\n",
      "Валидационная выборка: (25000, 3) (25000,)\n",
      "Средний запас предсказанного сырья 94.96504596800489\n",
      "RMSE 2 = 40.02970873393434\n",
      "\n"
     ]
    }
   ],
   "source": [
    "for k in range(len(data)):\n",
    "    target.append(data[k]['product'])\n",
    "    features.append(data[k].drop(columns = 'product'))\n",
    "    \n",
    "    features_train, features_valid, target_train, target_valid = train_test_split(\n",
    "    features[k], target[k], test_size=0.25, random_state=12345)  # разобъем данные на обучающую и валидационную выборки в соотношении 75:25.\n",
    "    \n",
    "    model = LinearRegression() \n",
    "    model.fit(features_train, target_train) # Обучим модель и сделаем предсказания на валидационной выборке\n",
    "    predicted_valid = model.predict(features_valid) # Сохраним предсказания и правильные ответы на валидационной выборке\n",
    "    mse = mean_squared_error(target_valid, predicted_valid)\n",
    "    rmse = mse** 0.5\n",
    "    features_train.append(features_train)   \n",
    "    print(\"Регион №\", k+1)\n",
    "    print('Обучающая выборка:',features_train.shape, target_train.shape)\n",
    "    print('Валидационная выборка:', features_valid.shape, target_valid.shape)\n",
    "    print(\"Средний запас предсказанного сырья\", predicted_valid.mean())\n",
    "    print(\"RMSE\",k, '=', rmse) # Напечатаем средний запас предсказанного сырья и RMSE модели по регионам\n",
    "    print()\n",
    "    features_train_all.append(features_train) # сохраним выборки для каждого региона\n",
    "    features_valid_all.append(features_valid)\n",
    "    target_train_all.append(target_train)\n",
    "    target_valid_all.append(target_valid)\n",
    "    predicted_valid_all.append(predicted_valid) # сохраним предсказания\n",
    "    "
   ]
  },
  {
   "cell_type": "code",
   "execution_count": 10,
   "metadata": {},
   "outputs": [
    {
     "data": {
      "image/png": "[encoded data removed]",
      "text/plain": [
       "<Figure size 432x288 with 1 Axes>"
      ]
     },
     "metadata": {
      "needs_background": "light"
     },
     "output_type": "display_data"
    }
   ],
   "source": [
    "data0['product'].hist(bins=50,  legend=True) # Гистограмма распределения сырья в первом регионе\n",
    "plt.show()"
   ]
  },
  {
   "cell_type": "code",
   "execution_count": 11,
   "metadata": {},
   "outputs": [
    {
     "data": {
      "image/png": "[encoded data removed]",
      "text/plain": [
       "<Figure size 432x288 with 1 Axes>"
      ]
     },
     "metadata": {
      "needs_background": "light"
     },
     "output_type": "display_data"
    }
   ],
   "source": [
    "data1['product'].hist(bins=50,  legend=True)\n",
    "plt.show()"
   ]
  },
  {
   "cell_type": "code",
   "execution_count": 12,
   "metadata": {
    "scrolled": true
   },
   "outputs": [
    {
     "data": {
      "image/png": "[encoded data removed]",
      "text/plain": [
       "<Figure size 432x288 with 1 Axes>"
      ]
     },
     "metadata": {
      "needs_background": "light"
     },
     "output_type": "display_data"
    }
   ],
   "source": [
    "data2['product'].hist(bins=50,  legend=True)\n",
    "plt.show()"
   ]
  },
  {
   "cell_type": "markdown",
   "metadata": {},
   "source": [
    "Из данных, полученных при расчетах среднего запаса предсказанного сырья, среднеквадратичной ошибки (RMSE), и данных графиков распределений видно, что данные по второй выборке (второй регион) распределены не нормально. Этим объяснюется такое расхождение в стреднеквадратичной ошибке для второго региона. <br>\n",
    "По данным третьего региона средний запас предсказанного сырья больше, но и RMSE больше. "
   ]
  },
  {
   "cell_type": "markdown",
   "metadata": {},
   "source": [
    "Выведем ранее сохраненные выборки:"
   ]
  },
  {
   "cell_type": "code",
   "execution_count": 13,
   "metadata": {},
   "outputs": [
    {
     "name": "stdout",
     "output_type": "stream",
     "text": [
      "Обучающие выборки первого региона:\n",
      "             f0        f1         f2\n",
      "27212  0.022450  0.951034   2.197333\n",
      "7866   1.766731  0.007835   6.436602\n",
      "62041  0.724514  0.666063   1.840177\n",
      "70185 -1.104181  0.255268   2.026156\n",
      "82230 -0.635263  0.747990   6.643327\n",
      "...         ...       ...        ...\n",
      "4094   1.863680 -0.298123   1.621324\n",
      "85412 -1.162682 -0.014822   6.819941\n",
      "2177   0.862688 -0.403776   1.867662\n",
      "77285  0.846235 -0.489533   1.058786\n",
      "86498  2.019850  0.263887  11.497239\n",
      "\n",
      "[75000 rows x 3 columns]\n",
      "27212    147.370612\n",
      "7866     147.630053\n",
      "62041     77.696728\n",
      "70185     55.210501\n",
      "82230    113.891723\n",
      "            ...    \n",
      "4094     124.380793\n",
      "85412    144.874913\n",
      "2177     134.967255\n",
      "77285     64.494357\n",
      "86498    151.514894\n",
      "Name: product, Length: 75000, dtype: float64\n",
      "\n",
      "Валидационные выборки первого региона:\n",
      "             f0        f1        f2\n",
      "71751  0.948970 -0.057547  2.095727\n",
      "80493  0.992974  0.206671 -0.142278\n",
      "2655   1.199854 -0.563356 -1.852991\n",
      "53233  0.691422 -0.433347  0.564974\n",
      "91141  0.420772  0.972638  0.736190\n",
      "...         ...       ...       ...\n",
      "12581  1.841106 -0.107678  2.585648\n",
      "18456  0.041859  0.489280  2.168001\n",
      "73035  0.376389  1.054298 -0.430104\n",
      "63834  1.071330 -0.470046  4.527099\n",
      "43558  1.726318 -0.077871  5.007083\n",
      "\n",
      "[25000 rows x 3 columns]\n",
      "71751     10.038645\n",
      "80493    114.551489\n",
      "2655     132.603635\n",
      "53233    169.072125\n",
      "91141    122.325180\n",
      "            ...    \n",
      "12581    170.116726\n",
      "18456     93.632175\n",
      "73035    127.352259\n",
      "63834     99.782700\n",
      "43558    177.821022\n",
      "Name: product, Length: 25000, dtype: float64\n"
     ]
    }
   ],
   "source": [
    "print('Обучающие выборки первого региона:')\n",
    "print(features_train_all[0])\n",
    "print(target_train_all[0])\n",
    "print()\n",
    "print('Валидационные выборки первого региона:')\n",
    "print(features_valid_all[0])\n",
    "print(target_valid_all[0])"
   ]
  },
  {
   "cell_type": "code",
   "execution_count": 14,
   "metadata": {},
   "outputs": [
    {
     "name": "stdout",
     "output_type": "stream",
     "text": [
      "Предсказания для первого региона:\n",
      "[ 95.89495185  77.57258261  77.89263965 ...  61.50983303 118.18039721\n",
      " 118.16939229]\n"
     ]
    }
   ],
   "source": [
    "print('Предсказания для первого региона:')\n",
    "print(predicted_valid_all[0])"
   ]
  },
  {
   "cell_type": "markdown",
   "metadata": {},
   "source": [
    "Аналогично для каждого региона. "
   ]
  },
  {
   "cell_type": "code",
   "execution_count": 15,
   "metadata": {},
   "outputs": [
    {
     "name": "stdout",
     "output_type": "stream",
     "text": [
      "Средний предсказанный запас предсказанного сырья в регионе 1: 92.59256778438035\n",
      "Средний предсказанный запас предсказанного сырья в регионе 2: 68.728546895446\n",
      "Средний предсказанный запас предсказанного сырья в регионе 3: 94.96504596800489\n"
     ]
    }
   ],
   "source": [
    "print('Средний предсказанный запас предсказанного сырья в регионе 1:', predicted_valid_all[0].mean())\n",
    "print('Средний предсказанный запас предсказанного сырья в регионе 2:', predicted_valid_all[1].mean())\n",
    "print('Средний предсказанный запас предсказанного сырья в регионе 3:', predicted_valid_all[2].mean())"
   ]
  },
  {
   "cell_type": "markdown",
   "metadata": {},
   "source": [
    "## Подготовка к расчёту прибыли"
   ]
  },
  {
   "cell_type": "markdown",
   "metadata": {},
   "source": [
    "Рассчитаем достаточный объём сырья для безубыточной разработки новой скважины. Сравним полученный объём сырья со средним запасом в каждом регионе."
   ]
  },
  {
   "cell_type": "markdown",
   "metadata": {},
   "source": [
    "При условии того, что выделяют 10 млд на разработку скважин в регионе, вычислим сколько будет приходиться на 1 скважину (200 скважен в регионе):  "
   ]
  },
  {
   "cell_type": "code",
   "execution_count": 16,
   "metadata": {},
   "outputs": [
    {
     "data": {
      "text/plain": [
       "50000000.0"
      ]
     },
     "execution_count": 16,
     "metadata": {},
     "output_type": "execute_result"
    }
   ],
   "source": [
    "budget_for_one = 10 * 10**9/200\n",
    "budget_for_one"
   ]
  },
  {
   "cell_type": "markdown",
   "metadata": {},
   "source": [
    "При условии, что доход с 1 скважины 450 тыс, вычислим количество сырья, чтобы быть в безубытке: "
   ]
  },
  {
   "cell_type": "code",
   "execution_count": 17,
   "metadata": {},
   "outputs": [
    {
     "name": "stdout",
     "output_type": "stream",
     "text": [
      "Объем сырья (расчет) для безубыточной разработки скважины, тыс баррелей: 111.11111111111111\n"
     ]
    }
   ],
   "source": [
    "count_bar=budget_for_one/450000\n",
    "print('Объем сырья (расчет) для безубыточной разработки скважины, тыс баррелей:', count_bar)"
   ]
  },
  {
   "cell_type": "markdown",
   "metadata": {},
   "source": [
    "Сравним полученный объём сырья со средним запасом в каждом регионе."
   ]
  },
  {
   "cell_type": "code",
   "execution_count": 18,
   "metadata": {},
   "outputs": [
    {
     "name": "stdout",
     "output_type": "stream",
     "text": [
      "Необходимо для безубыточной добычи в регионе 1: 18.518543326730764\n",
      "Необходимо для безубыточной добычи в регионе 2: 42.38256421566511\n",
      "Необходимо для безубыточной добычи в регионе 3: 16.146065143106227\n"
     ]
    }
   ],
   "source": [
    "print('Необходимо для безубыточной добычи в регионе 1:', count_bar - predicted_valid_all[0].mean())\n",
    "print('Необходимо для безубыточной добычи в регионе 2:', count_bar - predicted_valid_all[1].mean())\n",
    "print('Необходимо для безубыточной добычи в регионе 3:', count_bar - predicted_valid_all[2].mean())"
   ]
  },
  {
   "cell_type": "markdown",
   "metadata": {},
   "source": [
    "Добыча в регионе 2 является более затратной. "
   ]
  },
  {
   "cell_type": "markdown",
   "metadata": {},
   "source": [
    "## Расчёт прибыли и рисков "
   ]
  },
  {
   "cell_type": "markdown",
   "metadata": {},
   "source": [
    "Напишем функцию для расчёта прибыли по выбранным скважинам и предсказаниям модели:"
   ]
  },
  {
   "cell_type": "code",
   "execution_count": 19,
   "metadata": {},
   "outputs": [],
   "source": [
    "price = 450*10**3\n",
    "budget = 10*10**9"
   ]
  },
  {
   "cell_type": "code",
   "execution_count": 20,
   "metadata": {},
   "outputs": [],
   "source": [
    "def profit(target, predictions, count):\n",
    "    profit=0\n",
    "    probs_sorted = predictions.sort_values(ascending=False).head(200) \n",
    "    selected = target[probs_sorted.index][:count] # выбрали скважины с максимальными значениями предсказаний\n",
    "    profit = (price*selected.sum()-budget)/budget # рассчитали прибыль для полученного объёма сырья\n",
    "    return profit  "
   ]
  },
  {
   "cell_type": "code",
   "execution_count": 21,
   "metadata": {},
   "outputs": [],
   "source": [
    "sample_target = []\n",
    "for n in range(len(data)):\n",
    "    sample_tar = target_valid_all[n].reset_index(drop=True)\n",
    "    sample_target.append(sample_tar)  "
   ]
  },
  {
   "cell_type": "code",
   "execution_count": 22,
   "metadata": {},
   "outputs": [],
   "source": [
    "sample_predictions = []\n",
    "for o in range(len(data)):\n",
    "    sample_pred = pd.Series(predicted_valid_all[o]) \n",
    "    sample_predictions.append(sample_pred)  "
   ]
  },
  {
   "cell_type": "code",
   "execution_count": 23,
   "metadata": {},
   "outputs": [
    {
     "name": "stdout",
     "output_type": "stream",
     "text": [
      "\n",
      "Для 1 региона:\n",
      "Средняя прибыль по прогнозу равняется 0.04259385269105924 млн рублей\n",
      "С вероятностью 95% прибыль составит от -0.010209009483793654 до 0.09479763533583689 млн рублей\n",
      "Риск убытков составляет 6.0 %\n",
      "\n",
      "Для 2 региона:\n",
      "Средняя прибыль по прогнозу равняется 0.05152227734432899 млн рублей\n",
      "С вероятностью 95% прибыль составит от 0.006887322537050176 до 0.09315475912570495 млн рублей\n",
      "Риск убытков составляет 1.0 %\n",
      "\n",
      "Для 3 региона:\n",
      "Средняя прибыль по прогнозу равняется 0.04350083627827557 млн рублей\n",
      "С вероятностью 95% прибыль составит от -0.012888054732978903 до 0.09697069541802661 млн рублей\n",
      "Риск убытков составляет 6.4 %\n"
     ]
    }
   ],
   "source": [
    "profit_values = []\n",
    "for j in range(len(data)): # Для каждого региона\n",
    "    profit_values = []\n",
    "    state = np.random.RandomState(12345)  \n",
    "    \n",
    "    for i in range(1000): # Применим Бутстреп, используем 1000 подвыборок\n",
    "        target_sample = sample_target[j].sample(500, replace=True, random_state=state)\n",
    "        predictions_sample =sample_predictions[j][target_sample.index]\n",
    "        result=profit(target_sample, predictions_sample, 200)\n",
    "        profit_values.append(result)\n",
    "        \n",
    "    profit_values = pd.Series(profit_values)\n",
    "    \n",
    "    persent_risk = (profit_values[profit_values<0].count())/len(profit_values)*100\n",
    "    \n",
    "    mean = profit_values.mean()\n",
    "    lower = profit_values.quantile(0.025)\n",
    "    upper = profit_values.quantile(0.975)\n",
    "    print()\n",
    "    print(f'Для {j+1} региона:')\n",
    "    print(f'Средняя прибыль по прогнозу равняется {mean} млн рублей')\n",
    "    print(f'С вероятностью 95% прибыль составит от {lower} до {upper} млн рублей')\n",
    "    print(f'Риск убытков составляет {persent_risk} %')\n",
    "   "
   ]
  },
  {
   "cell_type": "markdown",
   "metadata": {},
   "source": [
    "# Вывод"
   ]
  },
  {
   "cell_type": "markdown",
   "metadata": {},
   "source": [
    "По условиям задачи после оценки рисков нужно оставить лишь те регионы, в которых вероятность убытков меньше 2.5%. Такому условию удовлетворяет лишь один регион 2. Для данного региона самый малый риск убытков, наибольшая прибыль, а также данные по 2 региону обнадают наименьшей среднеквадратичной ошибкой. \n"
   ]
  },
  {
   "cell_type": "markdown",
   "metadata": {},
   "source": [
    "## Чек-лист готовности проекта"
   ]
  },
  {
   "cell_type": "markdown",
   "metadata": {},
   "source": [
    "Поставьте 'x' в выполненных пунктах. Далее нажмите Shift+Enter."
   ]
  },
  {
   "cell_type": "markdown",
   "metadata": {},
   "source": [
    "- [x]  Jupyter Notebook открыт\n",
    "- [x]  Весь код выполняется без ошибок\n",
    "- [x]  Ячейки с кодом расположены в порядке исполнения\n",
    "- [x]  Выполнен шаг 1: данные подготовлены\n",
    "- [x]  Выполнен шаг 2: модели обучены и проверены\n",
    "    - [x]  Данные корректно разбиты на обучающую и валидационную выборки\n",
    "    - [x]  Модели обучены, предсказания сделаны\n",
    "    - [x]  Предсказания и правильные ответы на валидационной выборке сохранены\n",
    "    - [x]  На экране напечатаны результаты\n",
    "    - [x]  Сделаны выводы\n",
    "- [x]  Выполнен шаг 3: проведена подготовка к расчёту прибыли\n",
    "    - [x]  Для всех ключевых значений созданы константы Python\n",
    "    - [x]  Посчитано минимальное среднее количество продукта в месторождениях региона, достаточное для разработки\n",
    "    - [x]  По предыдущему пункту сделаны выводы\n",
    "    - [x]  Написана функция расчёта прибыли\n",
    "- [x]  Выполнен шаг 4: посчитаны риски и прибыль\n",
    "    - [x]  Проведена процедура *Bootstrap*\n",
    "    - [x]  Все параметры бутстрепа соответствуют условию\n",
    "    - [x]  Найдены все нужные величины\n",
    "    - [x]  Предложен регион для разработки месторождения\n",
    "    - [x]  Выбор региона обоснован"
   ]
  }
 ],
 "metadata": {
  "ExecuteTimeLog": [
   {
    "duration": 2061,
    "start_time": "2022-03-27T15:19:54.326Z"
   },
   {
    "duration": 147,
    "start_time": "2022-03-27T15:20:32.211Z"
   },
   {
    "duration": 133,
    "start_time": "2022-03-27T15:20:57.294Z"
   },
   {
    "duration": 148,
    "start_time": "2022-03-27T15:21:28.395Z"
   },
   {
    "duration": 156,
    "start_time": "2022-03-27T15:21:43.030Z"
   },
   {
    "duration": 175,
    "start_time": "2022-03-27T15:21:49.693Z"
   },
   {
    "duration": 188,
    "start_time": "2022-03-27T15:21:51.488Z"
   },
   {
    "duration": 201,
    "start_time": "2022-03-27T15:21:53.240Z"
   },
   {
    "duration": 31,
    "start_time": "2022-03-27T15:21:55.348Z"
   },
   {
    "duration": 30,
    "start_time": "2022-03-27T15:22:13.796Z"
   },
   {
    "duration": 1638,
    "start_time": "2022-03-31T16:22:52.336Z"
   },
   {
    "duration": 136,
    "start_time": "2022-03-31T16:22:53.977Z"
   },
   {
    "duration": 128,
    "start_time": "2022-03-31T16:22:54.115Z"
   },
   {
    "duration": 127,
    "start_time": "2022-03-31T16:22:54.245Z"
   },
   {
    "duration": 17,
    "start_time": "2022-03-31T16:22:54.374Z"
   },
   {
    "duration": 15,
    "start_time": "2022-03-31T16:22:54.393Z"
   },
   {
    "duration": 4,
    "start_time": "2022-03-31T16:23:21.845Z"
   },
   {
    "duration": 133,
    "start_time": "2022-03-31T16:23:21.852Z"
   },
   {
    "duration": 123,
    "start_time": "2022-03-31T16:23:21.987Z"
   },
   {
    "duration": 130,
    "start_time": "2022-03-31T16:23:22.112Z"
   },
   {
    "duration": 16,
    "start_time": "2022-03-31T16:23:22.244Z"
   },
   {
    "duration": 15,
    "start_time": "2022-03-31T16:23:22.261Z"
   },
   {
    "duration": 15,
    "start_time": "2022-03-31T16:34:01.352Z"
   },
   {
    "duration": 4,
    "start_time": "2022-03-31T16:37:12.747Z"
   },
   {
    "duration": 17,
    "start_time": "2022-03-31T16:37:23.373Z"
   },
   {
    "duration": 4,
    "start_time": "2022-03-31T16:37:53.742Z"
   },
   {
    "duration": 150,
    "start_time": "2022-03-31T16:37:53.748Z"
   },
   {
    "duration": 133,
    "start_time": "2022-03-31T16:37:53.900Z"
   },
   {
    "duration": 135,
    "start_time": "2022-03-31T16:37:54.035Z"
   },
   {
    "duration": 16,
    "start_time": "2022-03-31T16:37:54.172Z"
   },
   {
    "duration": 16,
    "start_time": "2022-03-31T16:37:54.189Z"
   },
   {
    "duration": 32,
    "start_time": "2022-03-31T16:37:54.207Z"
   },
   {
    "duration": 3,
    "start_time": "2022-03-31T16:37:54.241Z"
   },
   {
    "duration": 18,
    "start_time": "2022-03-31T16:37:54.245Z"
   },
   {
    "duration": 13,
    "start_time": "2022-03-31T16:38:06.973Z"
   },
   {
    "duration": 5,
    "start_time": "2022-03-31T16:46:28.845Z"
   },
   {
    "duration": 122,
    "start_time": "2022-03-31T16:46:33.455Z"
   },
   {
    "duration": 12,
    "start_time": "2022-03-31T16:46:43.988Z"
   },
   {
    "duration": 16,
    "start_time": "2022-03-31T16:47:17.139Z"
   },
   {
    "duration": 10,
    "start_time": "2022-03-31T16:47:32.966Z"
   },
   {
    "duration": 13,
    "start_time": "2022-03-31T16:47:39.325Z"
   },
   {
    "duration": 19,
    "start_time": "2022-03-31T16:48:56.872Z"
   },
   {
    "duration": 2227,
    "start_time": "2022-03-31T16:49:04.396Z"
   },
   {
    "duration": 16,
    "start_time": "2022-03-31T16:49:51.120Z"
   },
   {
    "duration": 13,
    "start_time": "2022-03-31T16:49:53.145Z"
   },
   {
    "duration": 13,
    "start_time": "2022-03-31T16:50:05.759Z"
   },
   {
    "duration": 14,
    "start_time": "2022-03-31T16:50:38.483Z"
   },
   {
    "duration": 13,
    "start_time": "2022-03-31T16:50:50.946Z"
   },
   {
    "duration": 4,
    "start_time": "2022-03-31T16:50:55.008Z"
   },
   {
    "duration": 346,
    "start_time": "2022-03-31T16:50:55.014Z"
   },
   {
    "duration": 149,
    "start_time": "2022-03-31T16:50:55.362Z"
   },
   {
    "duration": 140,
    "start_time": "2022-03-31T16:50:55.512Z"
   },
   {
    "duration": 16,
    "start_time": "2022-03-31T16:50:55.655Z"
   },
   {
    "duration": 60,
    "start_time": "2022-03-31T16:50:55.673Z"
   },
   {
    "duration": 14,
    "start_time": "2022-03-31T16:50:55.735Z"
   },
   {
    "duration": 9,
    "start_time": "2022-03-31T16:50:55.751Z"
   },
   {
    "duration": 11,
    "start_time": "2022-03-31T16:50:55.762Z"
   },
   {
    "duration": 16,
    "start_time": "2022-03-31T16:51:04.818Z"
   },
   {
    "duration": 13,
    "start_time": "2022-03-31T16:51:12.731Z"
   },
   {
    "duration": 2265,
    "start_time": "2022-03-31T16:51:37.065Z"
   },
   {
    "duration": 11,
    "start_time": "2022-03-31T16:51:44.531Z"
   },
   {
    "duration": 13,
    "start_time": "2022-03-31T16:52:36.722Z"
   },
   {
    "duration": 14,
    "start_time": "2022-03-31T16:52:53.321Z"
   },
   {
    "duration": 5,
    "start_time": "2022-03-31T16:53:04.853Z"
   },
   {
    "duration": 141,
    "start_time": "2022-03-31T16:53:04.861Z"
   },
   {
    "duration": 140,
    "start_time": "2022-03-31T16:53:05.004Z"
   },
   {
    "duration": 132,
    "start_time": "2022-03-31T16:53:05.146Z"
   },
   {
    "duration": 16,
    "start_time": "2022-03-31T16:53:05.280Z"
   },
   {
    "duration": 17,
    "start_time": "2022-03-31T16:53:05.297Z"
   },
   {
    "duration": 16,
    "start_time": "2022-03-31T16:53:05.331Z"
   },
   {
    "duration": 10,
    "start_time": "2022-03-31T16:53:05.349Z"
   },
   {
    "duration": 9,
    "start_time": "2022-03-31T16:53:05.360Z"
   },
   {
    "duration": 18,
    "start_time": "2022-03-31T16:53:05.371Z"
   },
   {
    "duration": 14,
    "start_time": "2022-03-31T16:53:48.675Z"
   },
   {
    "duration": 1435,
    "start_time": "2022-03-31T16:54:02.851Z"
   },
   {
    "duration": 132,
    "start_time": "2022-03-31T16:54:04.288Z"
   },
   {
    "duration": 125,
    "start_time": "2022-03-31T16:54:04.422Z"
   },
   {
    "duration": 128,
    "start_time": "2022-03-31T16:54:04.549Z"
   },
   {
    "duration": 17,
    "start_time": "2022-03-31T16:54:04.679Z"
   },
   {
    "duration": 25,
    "start_time": "2022-03-31T16:54:04.698Z"
   },
   {
    "duration": 20,
    "start_time": "2022-03-31T16:54:04.724Z"
   },
   {
    "duration": 21,
    "start_time": "2022-03-31T16:54:04.746Z"
   },
   {
    "duration": 30,
    "start_time": "2022-03-31T16:54:04.769Z"
   },
   {
    "duration": 12,
    "start_time": "2022-03-31T16:54:18.178Z"
   },
   {
    "duration": 12,
    "start_time": "2022-03-31T16:54:22.534Z"
   },
   {
    "duration": 140,
    "start_time": "2022-03-31T17:49:17.277Z"
   },
   {
    "duration": 112,
    "start_time": "2022-03-31T17:50:44.597Z"
   },
   {
    "duration": 10,
    "start_time": "2022-03-31T17:51:00.159Z"
   },
   {
    "duration": 9,
    "start_time": "2022-03-31T17:51:45.405Z"
   },
   {
    "duration": 11,
    "start_time": "2022-03-31T18:01:28.114Z"
   },
   {
    "duration": 10,
    "start_time": "2022-03-31T18:04:57.907Z"
   },
   {
    "duration": 2,
    "start_time": "2022-03-31T18:05:03.679Z"
   },
   {
    "duration": 9,
    "start_time": "2022-03-31T18:05:05.609Z"
   },
   {
    "duration": 12,
    "start_time": "2022-03-31T18:05:29.721Z"
   },
   {
    "duration": 10,
    "start_time": "2022-03-31T18:06:19.322Z"
   },
   {
    "duration": 3,
    "start_time": "2022-03-31T18:13:44.158Z"
   },
   {
    "duration": 3,
    "start_time": "2022-03-31T18:13:48.676Z"
   },
   {
    "duration": 10,
    "start_time": "2022-03-31T18:13:51.017Z"
   },
   {
    "duration": 1428,
    "start_time": "2022-03-31T18:24:58.638Z"
   },
   {
    "duration": 147,
    "start_time": "2022-03-31T18:25:00.068Z"
   },
   {
    "duration": 168,
    "start_time": "2022-03-31T18:25:00.217Z"
   },
   {
    "duration": 128,
    "start_time": "2022-03-31T18:25:00.388Z"
   },
   {
    "duration": 18,
    "start_time": "2022-03-31T18:25:00.518Z"
   },
   {
    "duration": 17,
    "start_time": "2022-03-31T18:25:00.538Z"
   },
   {
    "duration": 15,
    "start_time": "2022-03-31T18:25:00.557Z"
   },
   {
    "duration": 13,
    "start_time": "2022-03-31T18:25:00.574Z"
   },
   {
    "duration": 9,
    "start_time": "2022-03-31T18:25:00.589Z"
   },
   {
    "duration": 145,
    "start_time": "2022-03-31T18:25:00.601Z"
   },
   {
    "duration": 0,
    "start_time": "2022-03-31T18:25:00.747Z"
   },
   {
    "duration": 0,
    "start_time": "2022-03-31T18:25:00.749Z"
   },
   {
    "duration": 9,
    "start_time": "2022-03-31T18:30:08.537Z"
   },
   {
    "duration": 10,
    "start_time": "2022-03-31T18:30:10.966Z"
   },
   {
    "duration": 10,
    "start_time": "2022-03-31T18:30:59.943Z"
   },
   {
    "duration": 10,
    "start_time": "2022-03-31T18:31:48.191Z"
   },
   {
    "duration": 9,
    "start_time": "2022-03-31T18:31:54.371Z"
   },
   {
    "duration": 5,
    "start_time": "2022-03-31T18:32:45.307Z"
   },
   {
    "duration": 4,
    "start_time": "2022-03-31T18:33:20.179Z"
   },
   {
    "duration": 9,
    "start_time": "2022-03-31T18:33:28.723Z"
   },
   {
    "duration": 4,
    "start_time": "2022-03-31T18:33:38.717Z"
   },
   {
    "duration": 2,
    "start_time": "2022-03-31T18:35:03.125Z"
   },
   {
    "duration": 9,
    "start_time": "2022-03-31T18:35:04.773Z"
   },
   {
    "duration": 2,
    "start_time": "2022-03-31T18:35:11.594Z"
   },
   {
    "duration": 10,
    "start_time": "2022-03-31T18:35:13.406Z"
   },
   {
    "duration": 1831,
    "start_time": "2022-03-31T18:35:22.651Z"
   },
   {
    "duration": 131,
    "start_time": "2022-03-31T18:35:24.484Z"
   },
   {
    "duration": 120,
    "start_time": "2022-03-31T18:35:24.617Z"
   },
   {
    "duration": 124,
    "start_time": "2022-03-31T18:35:24.740Z"
   },
   {
    "duration": 17,
    "start_time": "2022-03-31T18:35:24.866Z"
   },
   {
    "duration": 14,
    "start_time": "2022-03-31T18:35:24.885Z"
   },
   {
    "duration": 33,
    "start_time": "2022-03-31T18:35:24.901Z"
   },
   {
    "duration": 13,
    "start_time": "2022-03-31T18:35:24.936Z"
   },
   {
    "duration": 3,
    "start_time": "2022-03-31T18:35:24.950Z"
   },
   {
    "duration": 7,
    "start_time": "2022-03-31T18:35:24.955Z"
   },
   {
    "duration": 5,
    "start_time": "2022-03-31T18:35:24.963Z"
   },
   {
    "duration": 132,
    "start_time": "2022-03-31T18:35:24.970Z"
   },
   {
    "duration": 0,
    "start_time": "2022-03-31T18:35:25.103Z"
   },
   {
    "duration": 0,
    "start_time": "2022-03-31T18:35:25.104Z"
   },
   {
    "duration": 13,
    "start_time": "2022-03-31T18:38:29.707Z"
   },
   {
    "duration": 19,
    "start_time": "2022-03-31T18:38:34.931Z"
   },
   {
    "duration": 4,
    "start_time": "2022-03-31T18:39:11.740Z"
   },
   {
    "duration": 13,
    "start_time": "2022-03-31T18:39:47.168Z"
   },
   {
    "duration": 14,
    "start_time": "2022-03-31T18:40:15.981Z"
   },
   {
    "duration": 20,
    "start_time": "2022-03-31T18:40:27.422Z"
   },
   {
    "duration": 15,
    "start_time": "2022-03-31T18:45:01.712Z"
   },
   {
    "duration": 14,
    "start_time": "2022-03-31T18:45:34.967Z"
   },
   {
    "duration": 6,
    "start_time": "2022-03-31T18:45:52.253Z"
   },
   {
    "duration": 11,
    "start_time": "2022-03-31T18:45:59.584Z"
   },
   {
    "duration": 14,
    "start_time": "2022-03-31T18:46:16.682Z"
   },
   {
    "duration": 1477,
    "start_time": "2022-03-31T18:46:33.022Z"
   },
   {
    "duration": 136,
    "start_time": "2022-03-31T18:46:34.501Z"
   },
   {
    "duration": 122,
    "start_time": "2022-03-31T18:46:34.639Z"
   },
   {
    "duration": 127,
    "start_time": "2022-03-31T18:46:34.763Z"
   },
   {
    "duration": 16,
    "start_time": "2022-03-31T18:46:34.892Z"
   },
   {
    "duration": 28,
    "start_time": "2022-03-31T18:46:34.909Z"
   },
   {
    "duration": 14,
    "start_time": "2022-03-31T18:46:34.939Z"
   },
   {
    "duration": 13,
    "start_time": "2022-03-31T18:46:34.955Z"
   },
   {
    "duration": 132,
    "start_time": "2022-03-31T18:46:34.970Z"
   },
   {
    "duration": 0,
    "start_time": "2022-03-31T18:46:35.104Z"
   },
   {
    "duration": 0,
    "start_time": "2022-03-31T18:46:35.105Z"
   },
   {
    "duration": 3,
    "start_time": "2022-03-31T18:47:05.394Z"
   },
   {
    "duration": 24,
    "start_time": "2022-03-31T18:47:07.213Z"
   },
   {
    "duration": 18,
    "start_time": "2022-03-31T18:48:24.209Z"
   },
   {
    "duration": 1460,
    "start_time": "2022-03-31T18:48:34.207Z"
   },
   {
    "duration": 142,
    "start_time": "2022-03-31T18:48:35.669Z"
   },
   {
    "duration": 122,
    "start_time": "2022-03-31T18:48:35.812Z"
   },
   {
    "duration": 121,
    "start_time": "2022-03-31T18:48:35.936Z"
   },
   {
    "duration": 16,
    "start_time": "2022-03-31T18:48:36.059Z"
   },
   {
    "duration": 15,
    "start_time": "2022-03-31T18:48:36.077Z"
   },
   {
    "duration": 14,
    "start_time": "2022-03-31T18:48:36.093Z"
   },
   {
    "duration": 33,
    "start_time": "2022-03-31T18:48:36.109Z"
   },
   {
    "duration": 3,
    "start_time": "2022-03-31T18:48:36.143Z"
   },
   {
    "duration": 26,
    "start_time": "2022-03-31T18:48:36.147Z"
   },
   {
    "duration": 2,
    "start_time": "2022-03-31T18:48:36.175Z"
   },
   {
    "duration": 2597,
    "start_time": "2022-03-31T18:48:36.178Z"
   },
   {
    "duration": 16,
    "start_time": "2022-03-31T18:50:34.570Z"
   },
   {
    "duration": 1478,
    "start_time": "2022-03-31T18:50:41.311Z"
   },
   {
    "duration": 131,
    "start_time": "2022-03-31T18:50:42.791Z"
   },
   {
    "duration": 120,
    "start_time": "2022-03-31T18:50:42.923Z"
   },
   {
    "duration": 122,
    "start_time": "2022-03-31T18:50:43.045Z"
   },
   {
    "duration": 16,
    "start_time": "2022-03-31T18:50:43.169Z"
   },
   {
    "duration": 14,
    "start_time": "2022-03-31T18:50:43.186Z"
   },
   {
    "duration": 36,
    "start_time": "2022-03-31T18:50:43.201Z"
   },
   {
    "duration": 13,
    "start_time": "2022-03-31T18:50:43.238Z"
   },
   {
    "duration": 8,
    "start_time": "2022-03-31T18:50:43.252Z"
   },
   {
    "duration": 24,
    "start_time": "2022-03-31T18:50:43.263Z"
   },
   {
    "duration": 2491,
    "start_time": "2022-03-31T18:50:43.289Z"
   },
   {
    "duration": 17,
    "start_time": "2022-03-31T18:56:46.041Z"
   },
   {
    "duration": 1453,
    "start_time": "2022-03-31T18:57:22.595Z"
   },
   {
    "duration": 140,
    "start_time": "2022-03-31T18:57:24.049Z"
   },
   {
    "duration": 121,
    "start_time": "2022-03-31T18:57:24.191Z"
   },
   {
    "duration": 123,
    "start_time": "2022-03-31T18:57:24.314Z"
   },
   {
    "duration": 16,
    "start_time": "2022-03-31T18:57:24.439Z"
   },
   {
    "duration": 15,
    "start_time": "2022-03-31T18:57:24.457Z"
   },
   {
    "duration": 16,
    "start_time": "2022-03-31T18:57:24.473Z"
   },
   {
    "duration": 41,
    "start_time": "2022-03-31T18:57:24.491Z"
   },
   {
    "duration": 3,
    "start_time": "2022-03-31T18:57:24.534Z"
   },
   {
    "duration": 26,
    "start_time": "2022-03-31T18:57:24.539Z"
   },
   {
    "duration": 130,
    "start_time": "2022-03-31T18:57:24.566Z"
   },
   {
    "duration": 2,
    "start_time": "2022-03-31T18:57:48.871Z"
   },
   {
    "duration": 16,
    "start_time": "2022-03-31T18:57:50.704Z"
   },
   {
    "duration": 1395,
    "start_time": "2022-03-31T18:57:59.470Z"
   },
   {
    "duration": 133,
    "start_time": "2022-03-31T18:58:00.867Z"
   },
   {
    "duration": 126,
    "start_time": "2022-03-31T18:58:01.002Z"
   },
   {
    "duration": 130,
    "start_time": "2022-03-31T18:58:01.129Z"
   },
   {
    "duration": 18,
    "start_time": "2022-03-31T18:58:01.262Z"
   },
   {
    "duration": 16,
    "start_time": "2022-03-31T18:58:01.282Z"
   },
   {
    "duration": 36,
    "start_time": "2022-03-31T18:58:01.300Z"
   },
   {
    "duration": 13,
    "start_time": "2022-03-31T18:58:01.338Z"
   },
   {
    "duration": 5,
    "start_time": "2022-03-31T18:58:01.353Z"
   },
   {
    "duration": 28,
    "start_time": "2022-03-31T18:58:01.360Z"
   },
   {
    "duration": 13,
    "start_time": "2022-03-31T18:58:01.390Z"
   },
   {
    "duration": 144,
    "start_time": "2022-03-31T18:58:01.405Z"
   },
   {
    "duration": 14,
    "start_time": "2022-03-31T18:58:33.307Z"
   },
   {
    "duration": 12,
    "start_time": "2022-03-31T18:59:51.231Z"
   },
   {
    "duration": 1463,
    "start_time": "2022-03-31T19:00:20.454Z"
   },
   {
    "duration": 134,
    "start_time": "2022-03-31T19:00:21.919Z"
   },
   {
    "duration": 123,
    "start_time": "2022-03-31T19:00:22.055Z"
   },
   {
    "duration": 123,
    "start_time": "2022-03-31T19:00:22.181Z"
   },
   {
    "duration": 16,
    "start_time": "2022-03-31T19:00:22.306Z"
   },
   {
    "duration": 14,
    "start_time": "2022-03-31T19:00:22.331Z"
   },
   {
    "duration": 14,
    "start_time": "2022-03-31T19:00:22.347Z"
   },
   {
    "duration": 13,
    "start_time": "2022-03-31T19:00:22.363Z"
   },
   {
    "duration": 3,
    "start_time": "2022-03-31T19:00:22.377Z"
   },
   {
    "duration": 50,
    "start_time": "2022-03-31T19:00:22.382Z"
   },
   {
    "duration": 12,
    "start_time": "2022-03-31T19:00:22.434Z"
   },
   {
    "duration": 12,
    "start_time": "2022-03-31T19:00:22.448Z"
   },
   {
    "duration": 140,
    "start_time": "2022-03-31T19:00:22.461Z"
   },
   {
    "duration": 17,
    "start_time": "2022-03-31T19:00:53.423Z"
   },
   {
    "duration": 12,
    "start_time": "2022-03-31T19:04:21.997Z"
   },
   {
    "duration": 12,
    "start_time": "2022-03-31T19:04:26.930Z"
   },
   {
    "duration": 17,
    "start_time": "2022-03-31T19:05:58.418Z"
   },
   {
    "duration": 2151,
    "start_time": "2022-03-31T19:06:11.596Z"
   },
   {
    "duration": 5647,
    "start_time": "2022-03-31T19:06:27.358Z"
   },
   {
    "duration": 18,
    "start_time": "2022-03-31T19:06:37.047Z"
   },
   {
    "duration": 2187,
    "start_time": "2022-03-31T19:07:09.330Z"
   },
   {
    "duration": 16,
    "start_time": "2022-03-31T19:07:21.612Z"
   },
   {
    "duration": 2,
    "start_time": "2022-03-31T19:07:48.055Z"
   },
   {
    "duration": 14,
    "start_time": "2022-03-31T19:07:50.062Z"
   },
   {
    "duration": 2469,
    "start_time": "2022-03-31T19:07:58.812Z"
   },
   {
    "duration": 3,
    "start_time": "2022-03-31T19:08:14.769Z"
   },
   {
    "duration": 2287,
    "start_time": "2022-03-31T19:08:17.142Z"
   },
   {
    "duration": 2174,
    "start_time": "2022-03-31T19:08:32.547Z"
   },
   {
    "duration": 14,
    "start_time": "2022-03-31T19:08:39.273Z"
   },
   {
    "duration": 3,
    "start_time": "2022-03-31T19:09:04.573Z"
   },
   {
    "duration": 15,
    "start_time": "2022-03-31T19:09:07.486Z"
   },
   {
    "duration": 1477,
    "start_time": "2022-03-31T19:09:28.098Z"
   },
   {
    "duration": 142,
    "start_time": "2022-03-31T19:09:29.577Z"
   },
   {
    "duration": 124,
    "start_time": "2022-03-31T19:09:29.720Z"
   },
   {
    "duration": 131,
    "start_time": "2022-03-31T19:09:29.846Z"
   },
   {
    "duration": 15,
    "start_time": "2022-03-31T19:09:29.980Z"
   },
   {
    "duration": 16,
    "start_time": "2022-03-31T19:09:29.997Z"
   },
   {
    "duration": 16,
    "start_time": "2022-03-31T19:09:30.032Z"
   },
   {
    "duration": 18,
    "start_time": "2022-03-31T19:09:30.050Z"
   },
   {
    "duration": 5,
    "start_time": "2022-03-31T19:09:30.070Z"
   },
   {
    "duration": 27,
    "start_time": "2022-03-31T19:09:30.077Z"
   },
   {
    "duration": 26,
    "start_time": "2022-03-31T19:09:30.106Z"
   },
   {
    "duration": 21,
    "start_time": "2022-03-31T19:09:30.133Z"
   },
   {
    "duration": 2333,
    "start_time": "2022-03-31T19:09:30.156Z"
   },
   {
    "duration": 2,
    "start_time": "2022-03-31T19:09:44.629Z"
   },
   {
    "duration": 18,
    "start_time": "2022-03-31T19:09:46.886Z"
   },
   {
    "duration": 9,
    "start_time": "2022-03-31T19:10:55.836Z"
   },
   {
    "duration": 2,
    "start_time": "2022-03-31T19:11:05.124Z"
   },
   {
    "duration": 17,
    "start_time": "2022-03-31T19:11:17.405Z"
   },
   {
    "duration": 18,
    "start_time": "2022-03-31T19:11:26.196Z"
   },
   {
    "duration": 18,
    "start_time": "2022-03-31T19:11:32.035Z"
   },
   {
    "duration": 9,
    "start_time": "2022-03-31T19:13:43.297Z"
   },
   {
    "duration": 2,
    "start_time": "2022-03-31T19:14:02.932Z"
   },
   {
    "duration": 10,
    "start_time": "2022-03-31T19:14:04.772Z"
   },
   {
    "duration": 14,
    "start_time": "2022-03-31T19:14:28.362Z"
   },
   {
    "duration": 9,
    "start_time": "2022-03-31T19:14:52.316Z"
   },
   {
    "duration": 10,
    "start_time": "2022-03-31T19:15:12.106Z"
   },
   {
    "duration": 11,
    "start_time": "2022-03-31T19:22:25.561Z"
   },
   {
    "duration": 3,
    "start_time": "2022-03-31T19:23:10.320Z"
   },
   {
    "duration": 28,
    "start_time": "2022-03-31T19:24:32.483Z"
   },
   {
    "duration": 13,
    "start_time": "2022-03-31T19:24:49.590Z"
   },
   {
    "duration": 10,
    "start_time": "2022-03-31T19:24:56.378Z"
   },
   {
    "duration": 10,
    "start_time": "2022-03-31T19:32:04.100Z"
   },
   {
    "duration": 3,
    "start_time": "2022-03-31T19:32:20.965Z"
   },
   {
    "duration": 10,
    "start_time": "2022-03-31T19:32:23.184Z"
   },
   {
    "duration": 1440,
    "start_time": "2022-03-31T19:32:33.256Z"
   },
   {
    "duration": 501,
    "start_time": "2022-03-31T19:32:34.697Z"
   },
   {
    "duration": 801,
    "start_time": "2022-03-31T19:32:35.200Z"
   },
   {
    "duration": 209,
    "start_time": "2022-03-31T19:32:36.003Z"
   },
   {
    "duration": 16,
    "start_time": "2022-03-31T19:32:36.214Z"
   },
   {
    "duration": 16,
    "start_time": "2022-03-31T19:32:36.232Z"
   },
   {
    "duration": 15,
    "start_time": "2022-03-31T19:32:36.250Z"
   },
   {
    "duration": 23,
    "start_time": "2022-03-31T19:32:36.266Z"
   },
   {
    "duration": 3,
    "start_time": "2022-03-31T19:32:36.291Z"
   },
   {
    "duration": 49,
    "start_time": "2022-03-31T19:32:36.296Z"
   },
   {
    "duration": 3,
    "start_time": "2022-03-31T19:32:36.347Z"
   },
   {
    "duration": 127,
    "start_time": "2022-03-31T19:32:36.351Z"
   },
   {
    "duration": 11,
    "start_time": "2022-03-31T19:35:58.376Z"
   },
   {
    "duration": 30,
    "start_time": "2022-03-31T19:36:28.613Z"
   },
   {
    "duration": 156,
    "start_time": "2022-03-31T19:41:06.458Z"
   },
   {
    "duration": 3,
    "start_time": "2022-03-31T19:45:02.844Z"
   },
   {
    "duration": 10,
    "start_time": "2022-03-31T19:45:18.774Z"
   },
   {
    "duration": 11,
    "start_time": "2022-03-31T19:46:08.647Z"
   },
   {
    "duration": 91,
    "start_time": "2022-04-01T15:12:26.279Z"
   },
   {
    "duration": 2207,
    "start_time": "2022-04-01T15:12:40.326Z"
   },
   {
    "duration": 148,
    "start_time": "2022-04-01T15:12:42.536Z"
   },
   {
    "duration": 142,
    "start_time": "2022-04-01T15:12:42.687Z"
   },
   {
    "duration": 138,
    "start_time": "2022-04-01T15:12:42.831Z"
   },
   {
    "duration": 3,
    "start_time": "2022-04-01T15:12:42.973Z"
   },
   {
    "duration": 20,
    "start_time": "2022-04-01T15:12:42.979Z"
   },
   {
    "duration": 25,
    "start_time": "2022-04-01T15:12:43.001Z"
   },
   {
    "duration": 181,
    "start_time": "2022-04-01T15:12:43.029Z"
   },
   {
    "duration": 4,
    "start_time": "2022-04-01T15:14:01.098Z"
   },
   {
    "duration": 17,
    "start_time": "2022-04-01T15:14:03.083Z"
   },
   {
    "duration": 14,
    "start_time": "2022-04-01T15:17:40.564Z"
   },
   {
    "duration": 14,
    "start_time": "2022-04-01T15:17:43.051Z"
   },
   {
    "duration": 1819,
    "start_time": "2022-04-01T15:17:51.996Z"
   },
   {
    "duration": 144,
    "start_time": "2022-04-01T15:17:53.817Z"
   },
   {
    "duration": 132,
    "start_time": "2022-04-01T15:17:53.964Z"
   },
   {
    "duration": 139,
    "start_time": "2022-04-01T15:17:54.099Z"
   },
   {
    "duration": 3,
    "start_time": "2022-04-01T15:17:54.241Z"
   },
   {
    "duration": 30,
    "start_time": "2022-04-01T15:17:54.246Z"
   },
   {
    "duration": 26,
    "start_time": "2022-04-01T15:17:54.278Z"
   },
   {
    "duration": 4,
    "start_time": "2022-04-01T15:17:54.306Z"
   },
   {
    "duration": 187,
    "start_time": "2022-04-01T15:17:54.312Z"
   },
   {
    "duration": 17,
    "start_time": "2022-04-01T15:18:37.932Z"
   },
   {
    "duration": 117,
    "start_time": "2022-04-01T15:18:51.287Z"
   },
   {
    "duration": 15,
    "start_time": "2022-04-01T15:18:55.367Z"
   },
   {
    "duration": 16,
    "start_time": "2022-04-01T15:19:03.019Z"
   },
   {
    "duration": 16,
    "start_time": "2022-04-01T15:20:30.675Z"
   },
   {
    "duration": 1774,
    "start_time": "2022-04-01T15:20:37.497Z"
   },
   {
    "duration": 147,
    "start_time": "2022-04-01T15:20:39.274Z"
   },
   {
    "duration": 135,
    "start_time": "2022-04-01T15:20:39.423Z"
   },
   {
    "duration": 143,
    "start_time": "2022-04-01T15:20:39.561Z"
   },
   {
    "duration": 3,
    "start_time": "2022-04-01T15:20:39.707Z"
   },
   {
    "duration": 19,
    "start_time": "2022-04-01T15:20:39.713Z"
   },
   {
    "duration": 45,
    "start_time": "2022-04-01T15:20:39.734Z"
   },
   {
    "duration": 18,
    "start_time": "2022-04-01T15:20:39.781Z"
   },
   {
    "duration": 160,
    "start_time": "2022-04-01T15:20:39.801Z"
   },
   {
    "duration": 14,
    "start_time": "2022-04-01T15:21:21.195Z"
   },
   {
    "duration": 13,
    "start_time": "2022-04-01T15:21:55.263Z"
   },
   {
    "duration": 14,
    "start_time": "2022-04-01T15:21:57.467Z"
   },
   {
    "duration": 1845,
    "start_time": "2022-04-01T15:22:05.213Z"
   },
   {
    "duration": 152,
    "start_time": "2022-04-01T15:22:07.061Z"
   },
   {
    "duration": 222,
    "start_time": "2022-04-01T15:22:07.215Z"
   },
   {
    "duration": 227,
    "start_time": "2022-04-01T15:22:07.441Z"
   },
   {
    "duration": 5,
    "start_time": "2022-04-01T15:22:07.671Z"
   },
   {
    "duration": 29,
    "start_time": "2022-04-01T15:22:07.678Z"
   },
   {
    "duration": 60,
    "start_time": "2022-04-01T15:22:07.710Z"
   },
   {
    "duration": 5,
    "start_time": "2022-04-01T15:22:07.773Z"
   },
   {
    "duration": 189,
    "start_time": "2022-04-01T15:22:07.780Z"
   },
   {
    "duration": 12,
    "start_time": "2022-04-01T15:22:29.751Z"
   },
   {
    "duration": 14,
    "start_time": "2022-04-01T15:22:42.290Z"
   },
   {
    "duration": 13,
    "start_time": "2022-04-01T15:24:15.618Z"
   },
   {
    "duration": 13,
    "start_time": "2022-04-01T15:25:52.505Z"
   },
   {
    "duration": 1850,
    "start_time": "2022-04-01T15:27:22.083Z"
   },
   {
    "duration": 145,
    "start_time": "2022-04-01T15:27:23.936Z"
   },
   {
    "duration": 143,
    "start_time": "2022-04-01T15:27:24.083Z"
   },
   {
    "duration": 142,
    "start_time": "2022-04-01T15:27:24.230Z"
   },
   {
    "duration": 4,
    "start_time": "2022-04-01T15:27:24.374Z"
   },
   {
    "duration": 20,
    "start_time": "2022-04-01T15:27:24.380Z"
   },
   {
    "duration": 26,
    "start_time": "2022-04-01T15:27:24.402Z"
   },
   {
    "duration": 5,
    "start_time": "2022-04-01T15:27:24.430Z"
   },
   {
    "duration": 184,
    "start_time": "2022-04-01T15:27:24.437Z"
   },
   {
    "duration": 118,
    "start_time": "2022-04-01T15:28:16.740Z"
   },
   {
    "duration": 13,
    "start_time": "2022-04-01T15:28:25.792Z"
   },
   {
    "duration": 13,
    "start_time": "2022-04-01T15:28:38.834Z"
   },
   {
    "duration": 13,
    "start_time": "2022-04-01T15:29:02.853Z"
   },
   {
    "duration": 12,
    "start_time": "2022-04-01T15:30:14.090Z"
   },
   {
    "duration": 27,
    "start_time": "2022-04-01T15:31:49.123Z"
   },
   {
    "duration": 12,
    "start_time": "2022-04-01T15:32:28.252Z"
   },
   {
    "duration": 12,
    "start_time": "2022-04-01T15:34:33.229Z"
   },
   {
    "duration": 1845,
    "start_time": "2022-04-01T15:34:43.877Z"
   },
   {
    "duration": 143,
    "start_time": "2022-04-01T15:34:45.725Z"
   },
   {
    "duration": 132,
    "start_time": "2022-04-01T15:34:45.870Z"
   },
   {
    "duration": 139,
    "start_time": "2022-04-01T15:34:46.005Z"
   },
   {
    "duration": 3,
    "start_time": "2022-04-01T15:34:46.148Z"
   },
   {
    "duration": 26,
    "start_time": "2022-04-01T15:34:46.153Z"
   },
   {
    "duration": 25,
    "start_time": "2022-04-01T15:34:46.181Z"
   },
   {
    "duration": 5,
    "start_time": "2022-04-01T15:34:46.208Z"
   },
   {
    "duration": 172,
    "start_time": "2022-04-01T15:34:46.215Z"
   },
   {
    "duration": 16,
    "start_time": "2022-04-01T15:35:00.551Z"
   },
   {
    "duration": 12,
    "start_time": "2022-04-01T15:36:20.784Z"
   },
   {
    "duration": 13,
    "start_time": "2022-04-01T15:36:27.806Z"
   },
   {
    "duration": 1814,
    "start_time": "2022-04-01T15:36:35.402Z"
   },
   {
    "duration": 140,
    "start_time": "2022-04-01T15:36:37.218Z"
   },
   {
    "duration": 131,
    "start_time": "2022-04-01T15:36:37.361Z"
   },
   {
    "duration": 134,
    "start_time": "2022-04-01T15:36:37.494Z"
   },
   {
    "duration": 3,
    "start_time": "2022-04-01T15:36:37.632Z"
   },
   {
    "duration": 32,
    "start_time": "2022-04-01T15:36:37.637Z"
   },
   {
    "duration": 24,
    "start_time": "2022-04-01T15:36:37.672Z"
   },
   {
    "duration": 6,
    "start_time": "2022-04-01T15:36:37.698Z"
   },
   {
    "duration": 173,
    "start_time": "2022-04-01T15:36:37.706Z"
   },
   {
    "duration": 5,
    "start_time": "2022-04-01T15:36:48.457Z"
   },
   {
    "duration": 13,
    "start_time": "2022-04-01T15:37:21.148Z"
   },
   {
    "duration": 12,
    "start_time": "2022-04-01T15:37:33.442Z"
   },
   {
    "duration": 4,
    "start_time": "2022-04-01T15:37:47.067Z"
   },
   {
    "duration": 12,
    "start_time": "2022-04-01T15:37:48.766Z"
   },
   {
    "duration": 12,
    "start_time": "2022-04-01T15:37:53.708Z"
   },
   {
    "duration": 6,
    "start_time": "2022-04-01T15:37:56.434Z"
   },
   {
    "duration": 181,
    "start_time": "2022-04-01T15:37:56.442Z"
   },
   {
    "duration": 189,
    "start_time": "2022-04-01T15:37:56.626Z"
   },
   {
    "duration": 158,
    "start_time": "2022-04-01T15:37:56.821Z"
   },
   {
    "duration": 5,
    "start_time": "2022-04-01T15:37:56.983Z"
   },
   {
    "duration": 21,
    "start_time": "2022-04-01T15:37:56.991Z"
   },
   {
    "duration": 61,
    "start_time": "2022-04-01T15:37:57.015Z"
   },
   {
    "duration": 6,
    "start_time": "2022-04-01T15:37:57.079Z"
   },
   {
    "duration": 15,
    "start_time": "2022-04-01T15:37:57.088Z"
   },
   {
    "duration": 1811,
    "start_time": "2022-04-01T15:38:11.128Z"
   },
   {
    "duration": 144,
    "start_time": "2022-04-01T15:38:12.942Z"
   },
   {
    "duration": 142,
    "start_time": "2022-04-01T15:38:13.088Z"
   },
   {
    "duration": 137,
    "start_time": "2022-04-01T15:38:13.232Z"
   },
   {
    "duration": 4,
    "start_time": "2022-04-01T15:38:13.372Z"
   },
   {
    "duration": 19,
    "start_time": "2022-04-01T15:38:13.379Z"
   },
   {
    "duration": 26,
    "start_time": "2022-04-01T15:38:13.400Z"
   },
   {
    "duration": 38,
    "start_time": "2022-04-01T15:38:13.429Z"
   },
   {
    "duration": 158,
    "start_time": "2022-04-01T15:38:13.469Z"
   },
   {
    "duration": 14,
    "start_time": "2022-04-01T15:38:46.787Z"
   },
   {
    "duration": 25,
    "start_time": "2022-04-01T15:39:03.137Z"
   },
   {
    "duration": 1768,
    "start_time": "2022-04-01T15:39:16.753Z"
   },
   {
    "duration": 151,
    "start_time": "2022-04-01T15:39:18.523Z"
   },
   {
    "duration": 143,
    "start_time": "2022-04-01T15:39:18.676Z"
   },
   {
    "duration": 139,
    "start_time": "2022-04-01T15:39:18.822Z"
   },
   {
    "duration": 4,
    "start_time": "2022-04-01T15:39:18.964Z"
   },
   {
    "duration": 19,
    "start_time": "2022-04-01T15:39:18.970Z"
   },
   {
    "duration": 25,
    "start_time": "2022-04-01T15:39:18.992Z"
   },
   {
    "duration": 9,
    "start_time": "2022-04-01T15:39:19.020Z"
   },
   {
    "duration": 184,
    "start_time": "2022-04-01T15:39:19.031Z"
   },
   {
    "duration": 12,
    "start_time": "2022-04-01T15:40:10.276Z"
   },
   {
    "duration": 12,
    "start_time": "2022-04-01T15:40:16.223Z"
   },
   {
    "duration": 5,
    "start_time": "2022-04-01T15:40:25.175Z"
   },
   {
    "duration": 12,
    "start_time": "2022-04-01T15:41:47.487Z"
   },
   {
    "duration": 13,
    "start_time": "2022-04-01T15:42:00.856Z"
   },
   {
    "duration": 1795,
    "start_time": "2022-04-01T15:42:07.798Z"
   },
   {
    "duration": 139,
    "start_time": "2022-04-01T15:42:09.596Z"
   },
   {
    "duration": 135,
    "start_time": "2022-04-01T15:42:09.737Z"
   },
   {
    "duration": 137,
    "start_time": "2022-04-01T15:42:09.875Z"
   },
   {
    "duration": 3,
    "start_time": "2022-04-01T15:42:10.015Z"
   },
   {
    "duration": 27,
    "start_time": "2022-04-01T15:42:10.020Z"
   },
   {
    "duration": 35,
    "start_time": "2022-04-01T15:42:10.049Z"
   },
   {
    "duration": 8,
    "start_time": "2022-04-01T15:42:10.086Z"
   },
   {
    "duration": 171,
    "start_time": "2022-04-01T15:42:10.096Z"
   },
   {
    "duration": 5,
    "start_time": "2022-04-01T15:42:42.608Z"
   },
   {
    "duration": 6,
    "start_time": "2022-04-01T15:43:12.666Z"
   },
   {
    "duration": 12,
    "start_time": "2022-04-01T15:43:27.970Z"
   },
   {
    "duration": 14,
    "start_time": "2022-04-01T15:43:51.019Z"
   },
   {
    "duration": 13,
    "start_time": "2022-04-01T15:44:16.627Z"
   },
   {
    "duration": 1798,
    "start_time": "2022-04-01T15:45:14.616Z"
   },
   {
    "duration": 147,
    "start_time": "2022-04-01T15:45:16.417Z"
   },
   {
    "duration": 137,
    "start_time": "2022-04-01T15:45:16.568Z"
   },
   {
    "duration": 141,
    "start_time": "2022-04-01T15:45:16.707Z"
   },
   {
    "duration": 3,
    "start_time": "2022-04-01T15:45:16.851Z"
   },
   {
    "duration": 26,
    "start_time": "2022-04-01T15:45:16.857Z"
   },
   {
    "duration": 27,
    "start_time": "2022-04-01T15:45:16.885Z"
   },
   {
    "duration": 6,
    "start_time": "2022-04-01T15:45:16.914Z"
   },
   {
    "duration": 174,
    "start_time": "2022-04-01T15:45:16.922Z"
   },
   {
    "duration": 6,
    "start_time": "2022-04-01T15:45:53.420Z"
   },
   {
    "duration": 20,
    "start_time": "2022-04-01T15:45:59.430Z"
   },
   {
    "duration": 7,
    "start_time": "2022-04-01T15:46:20.779Z"
   },
   {
    "duration": 14,
    "start_time": "2022-04-01T15:46:22.549Z"
   },
   {
    "duration": 2212,
    "start_time": "2022-04-01T15:46:34.018Z"
   },
   {
    "duration": 7,
    "start_time": "2022-04-01T15:46:54.780Z"
   },
   {
    "duration": 15,
    "start_time": "2022-04-01T15:47:00.370Z"
   },
   {
    "duration": 252,
    "start_time": "2022-04-01T15:47:26.190Z"
   },
   {
    "duration": 37,
    "start_time": "2022-04-01T15:47:42.436Z"
   },
   {
    "duration": 2064,
    "start_time": "2022-04-01T15:48:00.673Z"
   },
   {
    "duration": 54,
    "start_time": "2022-04-01T15:48:12.726Z"
   },
   {
    "duration": 2060,
    "start_time": "2022-04-01T15:48:48.285Z"
   },
   {
    "duration": 15,
    "start_time": "2022-04-01T15:52:03.972Z"
   },
   {
    "duration": 2092,
    "start_time": "2022-04-01T15:54:03.896Z"
   },
   {
    "duration": 1784,
    "start_time": "2022-04-01T15:54:12.628Z"
   },
   {
    "duration": 147,
    "start_time": "2022-04-01T15:54:14.415Z"
   },
   {
    "duration": 131,
    "start_time": "2022-04-01T15:54:14.564Z"
   },
   {
    "duration": 140,
    "start_time": "2022-04-01T15:54:14.698Z"
   },
   {
    "duration": 3,
    "start_time": "2022-04-01T15:54:14.841Z"
   },
   {
    "duration": 29,
    "start_time": "2022-04-01T15:54:14.846Z"
   },
   {
    "duration": 27,
    "start_time": "2022-04-01T15:54:14.877Z"
   },
   {
    "duration": 4,
    "start_time": "2022-04-01T15:54:14.906Z"
   },
   {
    "duration": 180,
    "start_time": "2022-04-01T15:54:14.912Z"
   },
   {
    "duration": 16,
    "start_time": "2022-04-01T15:54:26.534Z"
   },
   {
    "duration": 12,
    "start_time": "2022-04-01T15:54:36.042Z"
   },
   {
    "duration": 1813,
    "start_time": "2022-04-01T15:54:50.271Z"
   },
   {
    "duration": 141,
    "start_time": "2022-04-01T15:54:52.086Z"
   },
   {
    "duration": 133,
    "start_time": "2022-04-01T15:54:52.229Z"
   },
   {
    "duration": 134,
    "start_time": "2022-04-01T15:54:52.365Z"
   },
   {
    "duration": 4,
    "start_time": "2022-04-01T15:54:52.501Z"
   },
   {
    "duration": 21,
    "start_time": "2022-04-01T15:54:52.507Z"
   },
   {
    "duration": 48,
    "start_time": "2022-04-01T15:54:52.531Z"
   },
   {
    "duration": 6,
    "start_time": "2022-04-01T15:54:52.581Z"
   },
   {
    "duration": 169,
    "start_time": "2022-04-01T15:54:52.589Z"
   },
   {
    "duration": 21,
    "start_time": "2022-04-01T15:55:40.796Z"
   },
   {
    "duration": 1923,
    "start_time": "2022-04-01T15:55:53.252Z"
   },
   {
    "duration": 150,
    "start_time": "2022-04-01T15:55:55.178Z"
   },
   {
    "duration": 141,
    "start_time": "2022-04-01T15:55:55.330Z"
   },
   {
    "duration": 146,
    "start_time": "2022-04-01T15:55:55.474Z"
   },
   {
    "duration": 4,
    "start_time": "2022-04-01T15:55:55.624Z"
   },
   {
    "duration": 21,
    "start_time": "2022-04-01T15:55:55.631Z"
   },
   {
    "duration": 26,
    "start_time": "2022-04-01T15:55:55.668Z"
   },
   {
    "duration": 4,
    "start_time": "2022-04-01T15:55:55.697Z"
   },
   {
    "duration": 184,
    "start_time": "2022-04-01T15:55:55.704Z"
   },
   {
    "duration": 12,
    "start_time": "2022-04-01T15:56:14.017Z"
   },
   {
    "duration": 6,
    "start_time": "2022-04-01T15:56:43.766Z"
   },
   {
    "duration": 19,
    "start_time": "2022-04-01T15:56:58.129Z"
   },
   {
    "duration": 1936,
    "start_time": "2022-04-01T15:57:14.159Z"
   },
   {
    "duration": 28,
    "start_time": "2022-04-01T15:57:54.675Z"
   },
   {
    "duration": 60,
    "start_time": "2022-04-01T15:58:09.323Z"
   },
   {
    "duration": 66,
    "start_time": "2022-04-01T15:58:47.985Z"
   },
   {
    "duration": 65,
    "start_time": "2022-04-01T16:07:02.798Z"
   },
   {
    "duration": 2235,
    "start_time": "2022-04-01T16:07:57.264Z"
   },
   {
    "duration": 215,
    "start_time": "2022-04-01T16:07:59.502Z"
   },
   {
    "duration": 171,
    "start_time": "2022-04-01T16:07:59.720Z"
   },
   {
    "duration": 188,
    "start_time": "2022-04-01T16:07:59.894Z"
   },
   {
    "duration": 5,
    "start_time": "2022-04-01T16:08:00.086Z"
   },
   {
    "duration": 31,
    "start_time": "2022-04-01T16:08:00.093Z"
   },
   {
    "duration": 52,
    "start_time": "2022-04-01T16:08:00.127Z"
   },
   {
    "duration": 8,
    "start_time": "2022-04-01T16:08:00.182Z"
   },
   {
    "duration": 221,
    "start_time": "2022-04-01T16:08:00.193Z"
   },
   {
    "duration": 12,
    "start_time": "2022-04-01T16:08:38.261Z"
   },
   {
    "duration": 69,
    "start_time": "2022-04-01T16:09:05.411Z"
   },
   {
    "duration": 1718,
    "start_time": "2022-04-01T16:09:09.117Z"
   },
   {
    "duration": 149,
    "start_time": "2022-04-01T16:09:10.838Z"
   },
   {
    "duration": 146,
    "start_time": "2022-04-01T16:09:10.989Z"
   },
   {
    "duration": 144,
    "start_time": "2022-04-01T16:09:11.137Z"
   },
   {
    "duration": 3,
    "start_time": "2022-04-01T16:09:11.284Z"
   },
   {
    "duration": 23,
    "start_time": "2022-04-01T16:09:11.290Z"
   },
   {
    "duration": 26,
    "start_time": "2022-04-01T16:09:11.315Z"
   },
   {
    "duration": 26,
    "start_time": "2022-04-01T16:09:11.343Z"
   },
   {
    "duration": 15,
    "start_time": "2022-04-01T16:09:11.371Z"
   },
   {
    "duration": 13,
    "start_time": "2022-04-01T16:09:56.645Z"
   },
   {
    "duration": 104,
    "start_time": "2022-04-01T16:12:04.715Z"
   },
   {
    "duration": 17,
    "start_time": "2022-04-01T16:12:31.185Z"
   },
   {
    "duration": 16,
    "start_time": "2022-04-01T16:13:01.414Z"
   },
   {
    "duration": 22,
    "start_time": "2022-04-01T16:13:30.489Z"
   },
   {
    "duration": 1963,
    "start_time": "2022-04-01T16:13:43.805Z"
   },
   {
    "duration": 157,
    "start_time": "2022-04-01T16:13:45.771Z"
   },
   {
    "duration": 140,
    "start_time": "2022-04-01T16:13:45.931Z"
   },
   {
    "duration": 145,
    "start_time": "2022-04-01T16:13:46.074Z"
   },
   {
    "duration": 4,
    "start_time": "2022-04-01T16:13:46.222Z"
   },
   {
    "duration": 20,
    "start_time": "2022-04-01T16:13:46.228Z"
   },
   {
    "duration": 26,
    "start_time": "2022-04-01T16:13:46.268Z"
   },
   {
    "duration": 5,
    "start_time": "2022-04-01T16:13:46.297Z"
   },
   {
    "duration": 176,
    "start_time": "2022-04-01T16:13:46.304Z"
   },
   {
    "duration": 19,
    "start_time": "2022-04-01T16:14:17.645Z"
   },
   {
    "duration": 19,
    "start_time": "2022-04-01T16:14:27.147Z"
   },
   {
    "duration": 2143,
    "start_time": "2022-04-01T16:15:53.624Z"
   },
   {
    "duration": 29,
    "start_time": "2022-04-01T16:16:20.639Z"
   },
   {
    "duration": 1991,
    "start_time": "2022-04-01T16:16:28.159Z"
   },
   {
    "duration": 157,
    "start_time": "2022-04-01T16:16:30.153Z"
   },
   {
    "duration": 147,
    "start_time": "2022-04-01T16:16:30.312Z"
   },
   {
    "duration": 155,
    "start_time": "2022-04-01T16:16:30.461Z"
   },
   {
    "duration": 4,
    "start_time": "2022-04-01T16:16:30.619Z"
   },
   {
    "duration": 39,
    "start_time": "2022-04-01T16:16:30.626Z"
   },
   {
    "duration": 29,
    "start_time": "2022-04-01T16:16:30.668Z"
   },
   {
    "duration": 19,
    "start_time": "2022-04-01T16:16:30.699Z"
   },
   {
    "duration": 166,
    "start_time": "2022-04-01T16:16:30.720Z"
   },
   {
    "duration": 2071,
    "start_time": "2022-04-01T16:17:33.973Z"
   },
   {
    "duration": 33,
    "start_time": "2022-04-01T16:19:29.994Z"
   },
   {
    "duration": 1928,
    "start_time": "2022-04-01T16:20:47.253Z"
   },
   {
    "duration": 149,
    "start_time": "2022-04-01T16:20:49.184Z"
   },
   {
    "duration": 138,
    "start_time": "2022-04-01T16:20:49.336Z"
   },
   {
    "duration": 138,
    "start_time": "2022-04-01T16:20:49.476Z"
   },
   {
    "duration": 4,
    "start_time": "2022-04-01T16:20:49.617Z"
   },
   {
    "duration": 20,
    "start_time": "2022-04-01T16:20:49.623Z"
   },
   {
    "duration": 42,
    "start_time": "2022-04-01T16:20:49.645Z"
   },
   {
    "duration": 6,
    "start_time": "2022-04-01T16:20:49.689Z"
   },
   {
    "duration": 2667,
    "start_time": "2022-04-01T16:20:49.697Z"
   },
   {
    "duration": 28,
    "start_time": "2022-04-01T16:21:35.341Z"
   },
   {
    "duration": 30,
    "start_time": "2022-04-01T16:25:40.963Z"
   },
   {
    "duration": 462,
    "start_time": "2022-04-01T16:26:06.508Z"
   },
   {
    "duration": 481,
    "start_time": "2022-04-01T16:26:38.988Z"
   },
   {
    "duration": 446,
    "start_time": "2022-04-01T16:26:47.923Z"
   },
   {
    "duration": 430,
    "start_time": "2022-04-01T16:26:56.145Z"
   },
   {
    "duration": 1592,
    "start_time": "2022-04-02T08:16:05.777Z"
   },
   {
    "duration": 135,
    "start_time": "2022-04-02T08:16:07.371Z"
   },
   {
    "duration": 118,
    "start_time": "2022-04-02T08:16:07.507Z"
   },
   {
    "duration": 119,
    "start_time": "2022-04-02T08:16:07.627Z"
   },
   {
    "duration": 3,
    "start_time": "2022-04-02T08:16:07.749Z"
   },
   {
    "duration": 18,
    "start_time": "2022-04-02T08:16:07.753Z"
   },
   {
    "duration": 21,
    "start_time": "2022-04-02T08:16:07.772Z"
   },
   {
    "duration": 9,
    "start_time": "2022-04-02T08:16:07.795Z"
   },
   {
    "duration": 438,
    "start_time": "2022-04-02T08:16:07.806Z"
   },
   {
    "duration": 289,
    "start_time": "2022-04-02T08:18:38.055Z"
   },
   {
    "duration": 492,
    "start_time": "2022-04-02T08:19:33.949Z"
   },
   {
    "duration": 441,
    "start_time": "2022-04-02T08:19:39.106Z"
   },
   {
    "duration": 203,
    "start_time": "2022-04-02T08:23:47.959Z"
   },
   {
    "duration": 11,
    "start_time": "2022-04-02T08:25:42.972Z"
   },
   {
    "duration": 9,
    "start_time": "2022-04-02T08:26:26.784Z"
   },
   {
    "duration": 488,
    "start_time": "2022-04-02T08:28:02.807Z"
   },
   {
    "duration": 250,
    "start_time": "2022-04-02T08:28:18.815Z"
   },
   {
    "duration": 171,
    "start_time": "2022-04-02T08:28:32.299Z"
   },
   {
    "duration": 11,
    "start_time": "2022-04-02T08:29:24.377Z"
   },
   {
    "duration": 177,
    "start_time": "2022-04-02T08:31:32.014Z"
   },
   {
    "duration": 9,
    "start_time": "2022-04-02T08:31:43.105Z"
   },
   {
    "duration": 287,
    "start_time": "2022-04-02T08:32:06.023Z"
   },
   {
    "duration": 178,
    "start_time": "2022-04-02T08:33:52.457Z"
   },
   {
    "duration": 188,
    "start_time": "2022-04-02T08:33:59.843Z"
   },
   {
    "duration": 178,
    "start_time": "2022-04-02T08:34:08.850Z"
   },
   {
    "duration": 10,
    "start_time": "2022-04-02T08:38:19.171Z"
   },
   {
    "duration": 177,
    "start_time": "2022-04-02T08:39:24.943Z"
   },
   {
    "duration": 3724,
    "start_time": "2022-04-02T08:39:30.370Z"
   },
   {
    "duration": 301,
    "start_time": "2022-04-02T08:39:53.938Z"
   },
   {
    "duration": 182,
    "start_time": "2022-04-02T08:41:36.383Z"
   },
   {
    "duration": 175,
    "start_time": "2022-04-02T08:42:24.645Z"
   },
   {
    "duration": 12,
    "start_time": "2022-04-02T08:46:14.229Z"
   },
   {
    "duration": 10,
    "start_time": "2022-04-02T08:46:29.241Z"
   },
   {
    "duration": 173,
    "start_time": "2022-04-02T08:46:47.835Z"
   },
   {
    "duration": 287,
    "start_time": "2022-04-02T08:49:50.374Z"
   },
   {
    "duration": 187,
    "start_time": "2022-04-02T08:51:32.202Z"
   },
   {
    "duration": 176,
    "start_time": "2022-04-02T08:51:42.177Z"
   },
   {
    "duration": 188,
    "start_time": "2022-04-02T08:52:22.083Z"
   },
   {
    "duration": 398,
    "start_time": "2022-04-02T08:52:32.281Z"
   },
   {
    "duration": 755,
    "start_time": "2022-04-02T08:53:01.507Z"
   },
   {
    "duration": 396,
    "start_time": "2022-04-02T08:53:09.641Z"
   },
   {
    "duration": 345,
    "start_time": "2022-04-02T08:53:36.049Z"
   },
   {
    "duration": 176,
    "start_time": "2022-04-02T08:53:42.211Z"
   },
   {
    "duration": 179,
    "start_time": "2022-04-02T08:54:01.801Z"
   },
   {
    "duration": 11,
    "start_time": "2022-04-02T08:54:28.285Z"
   },
   {
    "duration": 11,
    "start_time": "2022-04-02T08:55:43.111Z"
   },
   {
    "duration": 11,
    "start_time": "2022-04-02T08:55:58.294Z"
   },
   {
    "duration": 11,
    "start_time": "2022-04-02T08:56:05.165Z"
   },
   {
    "duration": 1467,
    "start_time": "2022-04-02T08:56:31.466Z"
   },
   {
    "duration": 123,
    "start_time": "2022-04-02T08:56:32.935Z"
   },
   {
    "duration": 119,
    "start_time": "2022-04-02T08:56:33.060Z"
   },
   {
    "duration": 116,
    "start_time": "2022-04-02T08:56:33.180Z"
   },
   {
    "duration": 2,
    "start_time": "2022-04-02T08:56:33.299Z"
   },
   {
    "duration": 17,
    "start_time": "2022-04-02T08:56:33.303Z"
   },
   {
    "duration": 26,
    "start_time": "2022-04-02T08:56:33.322Z"
   },
   {
    "duration": 8,
    "start_time": "2022-04-02T08:56:33.349Z"
   },
   {
    "duration": 385,
    "start_time": "2022-04-02T08:56:33.359Z"
   },
   {
    "duration": 482,
    "start_time": "2022-04-02T08:56:33.746Z"
   },
   {
    "duration": 385,
    "start_time": "2022-04-02T08:56:47.793Z"
   },
   {
    "duration": 184,
    "start_time": "2022-04-02T08:57:18.247Z"
   },
   {
    "duration": 1135,
    "start_time": "2022-04-02T08:57:53.593Z"
   },
   {
    "duration": 459,
    "start_time": "2022-04-02T09:01:03.417Z"
   },
   {
    "duration": 310,
    "start_time": "2022-04-02T09:01:21.233Z"
   },
   {
    "duration": 478,
    "start_time": "2022-04-02T09:01:54.234Z"
   },
   {
    "duration": 760,
    "start_time": "2022-04-02T09:06:23.272Z"
   },
   {
    "duration": 31,
    "start_time": "2022-04-02T09:06:48.720Z"
   },
   {
    "duration": 1466,
    "start_time": "2022-04-02T09:08:27.463Z"
   },
   {
    "duration": 560,
    "start_time": "2022-04-02T09:14:09.535Z"
   },
   {
    "duration": 99,
    "start_time": "2022-04-02T09:14:27.487Z"
   },
   {
    "duration": 650,
    "start_time": "2022-04-02T09:14:49.981Z"
   },
   {
    "duration": 221,
    "start_time": "2022-04-02T09:16:06.575Z"
   },
   {
    "duration": 205,
    "start_time": "2022-04-02T09:16:17.917Z"
   },
   {
    "duration": 193,
    "start_time": "2022-04-02T09:16:39.278Z"
   },
   {
    "duration": 202,
    "start_time": "2022-04-02T09:16:51.316Z"
   },
   {
    "duration": 195,
    "start_time": "2022-04-02T09:16:59.151Z"
   },
   {
    "duration": 297,
    "start_time": "2022-04-02T09:27:36.135Z"
   },
   {
    "duration": 1680,
    "start_time": "2022-04-02T09:29:11.758Z"
   },
   {
    "duration": 1363,
    "start_time": "2022-04-02T09:29:23.251Z"
   },
   {
    "duration": 122,
    "start_time": "2022-04-02T09:29:24.617Z"
   },
   {
    "duration": 113,
    "start_time": "2022-04-02T09:29:24.741Z"
   },
   {
    "duration": 118,
    "start_time": "2022-04-02T09:29:24.856Z"
   },
   {
    "duration": 3,
    "start_time": "2022-04-02T09:29:24.976Z"
   },
   {
    "duration": 23,
    "start_time": "2022-04-02T09:29:24.980Z"
   },
   {
    "duration": 29,
    "start_time": "2022-04-02T09:29:25.004Z"
   },
   {
    "duration": 11,
    "start_time": "2022-04-02T09:29:25.037Z"
   },
   {
    "duration": 399,
    "start_time": "2022-04-02T09:29:25.049Z"
   },
   {
    "duration": 1833,
    "start_time": "2022-04-02T09:29:25.451Z"
   },
   {
    "duration": 0,
    "start_time": "2022-04-02T09:29:27.285Z"
   },
   {
    "duration": 1,
    "start_time": "2022-04-02T09:29:27.286Z"
   },
   {
    "duration": 0,
    "start_time": "2022-04-02T09:29:27.288Z"
   },
   {
    "duration": 4,
    "start_time": "2022-04-02T09:30:07.507Z"
   },
   {
    "duration": 509,
    "start_time": "2022-04-02T09:34:35.932Z"
   },
   {
    "duration": 182,
    "start_time": "2022-04-02T09:34:57.257Z"
   },
   {
    "duration": 40,
    "start_time": "2022-04-02T09:35:19.106Z"
   },
   {
    "duration": 88,
    "start_time": "2022-04-02T09:35:35.352Z"
   },
   {
    "duration": 408,
    "start_time": "2022-04-02T09:36:28.435Z"
   },
   {
    "duration": 442,
    "start_time": "2022-04-02T09:36:47.709Z"
   },
   {
    "duration": 3,
    "start_time": "2022-04-02T09:38:15.230Z"
   },
   {
    "duration": 4,
    "start_time": "2022-04-02T09:38:39.637Z"
   },
   {
    "duration": 1571,
    "start_time": "2022-04-02T09:38:51.973Z"
   },
   {
    "duration": 6,
    "start_time": "2022-04-02T09:40:03.184Z"
   },
   {
    "duration": 414,
    "start_time": "2022-04-02T09:40:04.938Z"
   },
   {
    "duration": 2467,
    "start_time": "2022-04-02T09:40:33.841Z"
   },
   {
    "duration": 1488,
    "start_time": "2022-04-02T09:40:46.126Z"
   },
   {
    "duration": 420,
    "start_time": "2022-04-02T09:41:09.031Z"
   },
   {
    "duration": 543,
    "start_time": "2022-04-02T09:41:39.697Z"
   },
   {
    "duration": 557,
    "start_time": "2022-04-02T09:42:08.782Z"
   },
   {
    "duration": 1369,
    "start_time": "2022-04-02T09:42:41.785Z"
   },
   {
    "duration": 1451,
    "start_time": "2022-04-02T09:42:47.618Z"
   },
   {
    "duration": 1346,
    "start_time": "2022-04-02T09:42:55.897Z"
   },
   {
    "duration": 123,
    "start_time": "2022-04-02T09:44:11.423Z"
   },
   {
    "duration": 5,
    "start_time": "2022-04-02T09:44:16.494Z"
   },
   {
    "duration": 472,
    "start_time": "2022-04-02T09:44:18.271Z"
   },
   {
    "duration": 1446,
    "start_time": "2022-04-02T09:44:29.366Z"
   },
   {
    "duration": 7,
    "start_time": "2022-04-02T09:44:37.024Z"
   },
   {
    "duration": 3,
    "start_time": "2022-04-02T09:47:17.593Z"
   },
   {
    "duration": 436,
    "start_time": "2022-04-02T09:48:36.504Z"
   },
   {
    "duration": 7,
    "start_time": "2022-04-02T09:49:06.070Z"
   },
   {
    "duration": 6,
    "start_time": "2022-04-02T09:49:41.893Z"
   },
   {
    "duration": 1429,
    "start_time": "2022-04-02T09:49:54.955Z"
   },
   {
    "duration": 133,
    "start_time": "2022-04-02T09:49:56.386Z"
   },
   {
    "duration": 116,
    "start_time": "2022-04-02T09:49:56.521Z"
   },
   {
    "duration": 117,
    "start_time": "2022-04-02T09:49:56.639Z"
   },
   {
    "duration": 2,
    "start_time": "2022-04-02T09:49:56.759Z"
   },
   {
    "duration": 23,
    "start_time": "2022-04-02T09:49:56.762Z"
   },
   {
    "duration": 17,
    "start_time": "2022-04-02T09:49:56.787Z"
   },
   {
    "duration": 5,
    "start_time": "2022-04-02T09:49:56.806Z"
   },
   {
    "duration": 439,
    "start_time": "2022-04-02T09:49:56.812Z"
   },
   {
    "duration": 381,
    "start_time": "2022-04-02T09:49:57.253Z"
   },
   {
    "duration": 211,
    "start_time": "2022-04-02T09:49:57.637Z"
   },
   {
    "duration": 290,
    "start_time": "2022-04-02T09:49:57.849Z"
   },
   {
    "duration": 7,
    "start_time": "2022-04-02T09:49:58.141Z"
   },
   {
    "duration": 387,
    "start_time": "2022-04-02T09:50:55.564Z"
   },
   {
    "duration": 7,
    "start_time": "2022-04-02T09:51:33.446Z"
   },
   {
    "duration": 108,
    "start_time": "2022-04-02T09:52:52.160Z"
   },
   {
    "duration": 10,
    "start_time": "2022-04-02T09:53:01.093Z"
   },
   {
    "duration": 12,
    "start_time": "2022-04-02T09:53:50.500Z"
   },
   {
    "duration": 12,
    "start_time": "2022-04-02T09:54:07.041Z"
   },
   {
    "duration": 84,
    "start_time": "2022-04-02T09:56:40.629Z"
   },
   {
    "duration": 13,
    "start_time": "2022-04-02T09:56:54.558Z"
   },
   {
    "duration": 3,
    "start_time": "2022-04-02T09:59:05.157Z"
   },
   {
    "duration": 386,
    "start_time": "2022-04-02T09:59:22.564Z"
   },
   {
    "duration": 395,
    "start_time": "2022-04-02T09:59:40.256Z"
   },
   {
    "duration": 4,
    "start_time": "2022-04-02T10:00:31.433Z"
   },
   {
    "duration": 3,
    "start_time": "2022-04-02T11:39:49.208Z"
   },
   {
    "duration": 5,
    "start_time": "2022-04-02T11:41:09.350Z"
   },
   {
    "duration": 5,
    "start_time": "2022-04-02T11:41:20.617Z"
   },
   {
    "duration": 78,
    "start_time": "2022-04-02T11:50:09.718Z"
   },
   {
    "duration": 2,
    "start_time": "2022-04-02T11:50:54.418Z"
   },
   {
    "duration": 4,
    "start_time": "2022-04-02T11:51:02.640Z"
   },
   {
    "duration": 4,
    "start_time": "2022-04-02T11:51:55.128Z"
   },
   {
    "duration": 4,
    "start_time": "2022-04-02T11:53:55.053Z"
   },
   {
    "duration": 5,
    "start_time": "2022-04-02T11:55:07.842Z"
   },
   {
    "duration": 111,
    "start_time": "2022-04-02T11:57:07.477Z"
   },
   {
    "duration": 4,
    "start_time": "2022-04-02T12:01:03.089Z"
   },
   {
    "duration": 4,
    "start_time": "2022-04-02T12:01:14.041Z"
   },
   {
    "duration": 5,
    "start_time": "2022-04-02T12:04:18.860Z"
   },
   {
    "duration": 5,
    "start_time": "2022-04-02T12:04:42.224Z"
   },
   {
    "duration": 10,
    "start_time": "2022-04-02T12:24:50.904Z"
   },
   {
    "duration": 11,
    "start_time": "2022-04-02T12:25:10.193Z"
   },
   {
    "duration": 11,
    "start_time": "2022-04-02T12:26:06.264Z"
   },
   {
    "duration": 12,
    "start_time": "2022-04-02T12:27:30.058Z"
   },
   {
    "duration": 5,
    "start_time": "2022-04-02T12:34:12.936Z"
   },
   {
    "duration": 14,
    "start_time": "2022-04-02T12:40:10.796Z"
   },
   {
    "duration": 4,
    "start_time": "2022-04-02T12:41:47.130Z"
   },
   {
    "duration": 23,
    "start_time": "2022-04-02T12:41:49.678Z"
   },
   {
    "duration": 1409,
    "start_time": "2022-04-02T12:42:05.287Z"
   },
   {
    "duration": 121,
    "start_time": "2022-04-02T12:42:06.698Z"
   },
   {
    "duration": 114,
    "start_time": "2022-04-02T12:42:06.821Z"
   },
   {
    "duration": 119,
    "start_time": "2022-04-02T12:42:06.937Z"
   },
   {
    "duration": 2,
    "start_time": "2022-04-02T12:42:07.059Z"
   },
   {
    "duration": 19,
    "start_time": "2022-04-02T12:42:07.063Z"
   },
   {
    "duration": 18,
    "start_time": "2022-04-02T12:42:07.084Z"
   },
   {
    "duration": 5,
    "start_time": "2022-04-02T12:42:07.104Z"
   },
   {
    "duration": 445,
    "start_time": "2022-04-02T12:42:07.110Z"
   },
   {
    "duration": 393,
    "start_time": "2022-04-02T12:42:07.557Z"
   },
   {
    "duration": 228,
    "start_time": "2022-04-02T12:42:07.952Z"
   },
   {
    "duration": 298,
    "start_time": "2022-04-02T12:42:08.181Z"
   },
   {
    "duration": 12,
    "start_time": "2022-04-02T12:42:08.481Z"
   },
   {
    "duration": 10,
    "start_time": "2022-04-02T12:42:08.495Z"
   },
   {
    "duration": 116,
    "start_time": "2022-04-02T12:42:08.506Z"
   },
   {
    "duration": 0,
    "start_time": "2022-04-02T12:42:08.624Z"
   },
   {
    "duration": 0,
    "start_time": "2022-04-02T12:42:08.637Z"
   },
   {
    "duration": 0,
    "start_time": "2022-04-02T12:42:08.639Z"
   },
   {
    "duration": 0,
    "start_time": "2022-04-02T12:42:08.640Z"
   },
   {
    "duration": 0,
    "start_time": "2022-04-02T12:42:08.640Z"
   },
   {
    "duration": 5,
    "start_time": "2022-04-02T12:42:28.541Z"
   },
   {
    "duration": 5,
    "start_time": "2022-04-02T12:42:36.728Z"
   },
   {
    "duration": 17,
    "start_time": "2022-04-02T12:42:36.735Z"
   },
   {
    "duration": 8,
    "start_time": "2022-04-02T12:42:36.754Z"
   },
   {
    "duration": 12,
    "start_time": "2022-04-02T12:42:36.764Z"
   },
   {
    "duration": 13,
    "start_time": "2022-04-02T12:42:36.778Z"
   },
   {
    "duration": 25,
    "start_time": "2022-04-02T12:42:36.793Z"
   },
   {
    "duration": 102,
    "start_time": "2022-04-02T12:43:25.482Z"
   },
   {
    "duration": 15,
    "start_time": "2022-04-02T12:43:32.970Z"
   },
   {
    "duration": 5,
    "start_time": "2022-04-02T12:44:06.681Z"
   },
   {
    "duration": 3,
    "start_time": "2022-04-02T12:44:48.908Z"
   },
   {
    "duration": 8,
    "start_time": "2022-04-02T12:45:02.118Z"
   },
   {
    "duration": 6,
    "start_time": "2022-04-02T12:45:48.418Z"
   },
   {
    "duration": 25,
    "start_time": "2022-04-02T12:45:58.515Z"
   },
   {
    "duration": 14,
    "start_time": "2022-04-02T12:46:42.451Z"
   },
   {
    "duration": 10,
    "start_time": "2022-04-02T12:52:57.369Z"
   },
   {
    "duration": 22,
    "start_time": "2022-04-02T12:55:35.696Z"
   },
   {
    "duration": 3,
    "start_time": "2022-04-02T12:56:25.161Z"
   },
   {
    "duration": 9,
    "start_time": "2022-04-02T12:56:41.861Z"
   },
   {
    "duration": 10,
    "start_time": "2022-04-02T12:56:55.978Z"
   },
   {
    "duration": 5,
    "start_time": "2022-04-02T12:57:16.906Z"
   },
   {
    "duration": 1387,
    "start_time": "2022-04-02T12:57:35.920Z"
   },
   {
    "duration": 114,
    "start_time": "2022-04-02T12:57:37.309Z"
   },
   {
    "duration": 110,
    "start_time": "2022-04-02T12:57:37.425Z"
   },
   {
    "duration": 115,
    "start_time": "2022-04-02T12:57:37.537Z"
   },
   {
    "duration": 3,
    "start_time": "2022-04-02T12:57:37.654Z"
   },
   {
    "duration": 16,
    "start_time": "2022-04-02T12:57:37.658Z"
   },
   {
    "duration": 17,
    "start_time": "2022-04-02T12:57:37.676Z"
   },
   {
    "duration": 6,
    "start_time": "2022-04-02T12:57:37.695Z"
   },
   {
    "duration": 445,
    "start_time": "2022-04-02T12:57:37.703Z"
   },
   {
    "duration": 395,
    "start_time": "2022-04-02T12:57:38.151Z"
   },
   {
    "duration": 221,
    "start_time": "2022-04-02T12:57:38.548Z"
   },
   {
    "duration": 289,
    "start_time": "2022-04-02T12:57:38.771Z"
   },
   {
    "duration": 13,
    "start_time": "2022-04-02T12:57:39.061Z"
   },
   {
    "duration": 14,
    "start_time": "2022-04-02T12:57:39.076Z"
   },
   {
    "duration": 9,
    "start_time": "2022-04-02T12:57:39.093Z"
   },
   {
    "duration": 6,
    "start_time": "2022-04-02T12:57:39.104Z"
   },
   {
    "duration": 9,
    "start_time": "2022-04-02T12:57:39.112Z"
   },
   {
    "duration": 19,
    "start_time": "2022-04-02T12:57:39.122Z"
   },
   {
    "duration": 5,
    "start_time": "2022-04-02T12:57:39.143Z"
   },
   {
    "duration": 116,
    "start_time": "2022-04-02T12:57:39.149Z"
   },
   {
    "duration": 0,
    "start_time": "2022-04-02T12:57:39.267Z"
   },
   {
    "duration": 0,
    "start_time": "2022-04-02T12:57:39.269Z"
   },
   {
    "duration": 4,
    "start_time": "2022-04-02T12:58:02.034Z"
   },
   {
    "duration": 9,
    "start_time": "2022-04-02T12:58:12.217Z"
   },
   {
    "duration": 4,
    "start_time": "2022-04-02T12:58:19.718Z"
   },
   {
    "duration": 3,
    "start_time": "2022-04-02T12:58:55.704Z"
   },
   {
    "duration": 6,
    "start_time": "2022-04-02T12:59:00.413Z"
   },
   {
    "duration": 8,
    "start_time": "2022-04-02T12:59:13.336Z"
   },
   {
    "duration": 6,
    "start_time": "2022-04-02T12:59:31.468Z"
   },
   {
    "duration": 10,
    "start_time": "2022-04-02T12:59:40.744Z"
   },
   {
    "duration": 21,
    "start_time": "2022-04-02T12:59:50.971Z"
   },
   {
    "duration": 1369,
    "start_time": "2022-04-02T12:59:58.832Z"
   },
   {
    "duration": 122,
    "start_time": "2022-04-02T13:00:00.202Z"
   },
   {
    "duration": 120,
    "start_time": "2022-04-02T13:00:00.328Z"
   },
   {
    "duration": 118,
    "start_time": "2022-04-02T13:00:00.450Z"
   },
   {
    "duration": 3,
    "start_time": "2022-04-02T13:00:00.570Z"
   },
   {
    "duration": 33,
    "start_time": "2022-04-02T13:00:00.574Z"
   },
   {
    "duration": 61,
    "start_time": "2022-04-02T13:00:00.609Z"
   },
   {
    "duration": 11,
    "start_time": "2022-04-02T13:00:00.672Z"
   },
   {
    "duration": 552,
    "start_time": "2022-04-02T13:00:00.685Z"
   },
   {
    "duration": 326,
    "start_time": "2022-04-02T13:00:01.241Z"
   },
   {
    "duration": 244,
    "start_time": "2022-04-02T13:00:01.569Z"
   },
   {
    "duration": 325,
    "start_time": "2022-04-02T13:00:01.815Z"
   },
   {
    "duration": 13,
    "start_time": "2022-04-02T13:00:02.142Z"
   },
   {
    "duration": 109,
    "start_time": "2022-04-02T13:00:02.157Z"
   },
   {
    "duration": 45,
    "start_time": "2022-04-02T13:00:02.268Z"
   },
   {
    "duration": 19,
    "start_time": "2022-04-02T13:00:02.315Z"
   },
   {
    "duration": 56,
    "start_time": "2022-04-02T13:00:02.336Z"
   },
   {
    "duration": 45,
    "start_time": "2022-04-02T13:00:02.394Z"
   },
   {
    "duration": 37,
    "start_time": "2022-04-02T13:00:02.441Z"
   },
   {
    "duration": 24,
    "start_time": "2022-04-02T13:00:02.479Z"
   },
   {
    "duration": 58,
    "start_time": "2022-04-02T13:00:02.505Z"
   },
   {
    "duration": 156,
    "start_time": "2022-04-02T13:00:02.566Z"
   },
   {
    "duration": 3,
    "start_time": "2022-04-02T13:00:49.118Z"
   },
   {
    "duration": 1484,
    "start_time": "2022-04-02T13:00:58.335Z"
   },
   {
    "duration": 120,
    "start_time": "2022-04-02T13:00:59.821Z"
   },
   {
    "duration": 123,
    "start_time": "2022-04-02T13:00:59.943Z"
   },
   {
    "duration": 117,
    "start_time": "2022-04-02T13:01:00.068Z"
   },
   {
    "duration": 4,
    "start_time": "2022-04-02T13:01:00.188Z"
   },
   {
    "duration": 26,
    "start_time": "2022-04-02T13:01:00.193Z"
   },
   {
    "duration": 35,
    "start_time": "2022-04-02T13:01:00.222Z"
   },
   {
    "duration": 13,
    "start_time": "2022-04-02T13:01:00.259Z"
   },
   {
    "duration": 383,
    "start_time": "2022-04-02T13:01:00.274Z"
   },
   {
    "duration": 313,
    "start_time": "2022-04-02T13:01:00.739Z"
   },
   {
    "duration": 232,
    "start_time": "2022-04-02T13:01:01.054Z"
   },
   {
    "duration": 312,
    "start_time": "2022-04-02T13:01:01.288Z"
   },
   {
    "duration": 13,
    "start_time": "2022-04-02T13:01:01.602Z"
   },
   {
    "duration": 21,
    "start_time": "2022-04-02T13:01:01.618Z"
   },
   {
    "duration": 5,
    "start_time": "2022-04-02T13:01:01.641Z"
   },
   {
    "duration": 11,
    "start_time": "2022-04-02T13:01:01.648Z"
   },
   {
    "duration": 8,
    "start_time": "2022-04-02T13:01:01.661Z"
   },
   {
    "duration": 14,
    "start_time": "2022-04-02T13:01:01.671Z"
   },
   {
    "duration": 10,
    "start_time": "2022-04-02T13:01:01.687Z"
   },
   {
    "duration": 7,
    "start_time": "2022-04-02T13:01:01.699Z"
   },
   {
    "duration": 139,
    "start_time": "2022-04-02T13:01:01.708Z"
   },
   {
    "duration": 6,
    "start_time": "2022-04-02T13:03:42.628Z"
   },
   {
    "duration": 3,
    "start_time": "2022-04-02T13:05:13.968Z"
   },
   {
    "duration": 4,
    "start_time": "2022-04-02T13:09:02.311Z"
   },
   {
    "duration": 12,
    "start_time": "2022-04-02T13:09:38.161Z"
   },
   {
    "duration": 16,
    "start_time": "2022-04-02T13:09:49.146Z"
   },
   {
    "duration": 14,
    "start_time": "2022-04-02T13:10:55.249Z"
   },
   {
    "duration": 11,
    "start_time": "2022-04-02T13:12:32.122Z"
   },
   {
    "duration": 15,
    "start_time": "2022-04-02T13:12:59.549Z"
   },
   {
    "duration": 1534,
    "start_time": "2022-04-02T13:14:28.401Z"
   },
   {
    "duration": 158,
    "start_time": "2022-04-02T13:14:29.938Z"
   },
   {
    "duration": 129,
    "start_time": "2022-04-02T13:14:30.098Z"
   },
   {
    "duration": 137,
    "start_time": "2022-04-02T13:14:30.229Z"
   },
   {
    "duration": 3,
    "start_time": "2022-04-02T13:14:30.368Z"
   },
   {
    "duration": 21,
    "start_time": "2022-04-02T13:14:30.372Z"
   },
   {
    "duration": 19,
    "start_time": "2022-04-02T13:14:30.395Z"
   },
   {
    "duration": 4,
    "start_time": "2022-04-02T13:14:30.417Z"
   },
   {
    "duration": 451,
    "start_time": "2022-04-02T13:14:30.423Z"
   },
   {
    "duration": 403,
    "start_time": "2022-04-02T13:14:30.878Z"
   },
   {
    "duration": 257,
    "start_time": "2022-04-02T13:14:31.283Z"
   },
   {
    "duration": 337,
    "start_time": "2022-04-02T13:14:31.542Z"
   },
   {
    "duration": 13,
    "start_time": "2022-04-02T13:14:31.882Z"
   },
   {
    "duration": 60,
    "start_time": "2022-04-02T13:14:31.897Z"
   },
   {
    "duration": 13,
    "start_time": "2022-04-02T13:14:31.959Z"
   },
   {
    "duration": 12,
    "start_time": "2022-04-02T13:14:31.974Z"
   },
   {
    "duration": 8,
    "start_time": "2022-04-02T13:14:31.988Z"
   },
   {
    "duration": 18,
    "start_time": "2022-04-02T13:14:31.997Z"
   },
   {
    "duration": 7,
    "start_time": "2022-04-02T13:14:32.017Z"
   },
   {
    "duration": 11,
    "start_time": "2022-04-02T13:14:32.026Z"
   },
   {
    "duration": 16,
    "start_time": "2022-04-02T13:14:32.039Z"
   },
   {
    "duration": 127,
    "start_time": "2022-04-02T13:14:32.057Z"
   },
   {
    "duration": 16,
    "start_time": "2022-04-02T13:15:50.934Z"
   },
   {
    "duration": 13,
    "start_time": "2022-04-02T13:15:52.829Z"
   },
   {
    "duration": 13,
    "start_time": "2022-04-02T13:20:08.420Z"
   },
   {
    "duration": 26,
    "start_time": "2022-04-02T13:21:03.650Z"
   },
   {
    "duration": 18,
    "start_time": "2022-04-02T13:22:43.465Z"
   },
   {
    "duration": 17,
    "start_time": "2022-04-02T13:25:43.799Z"
   },
   {
    "duration": 1464,
    "start_time": "2022-04-02T14:55:50.933Z"
   },
   {
    "duration": 127,
    "start_time": "2022-04-02T14:55:52.399Z"
   },
   {
    "duration": 118,
    "start_time": "2022-04-02T14:55:52.527Z"
   },
   {
    "duration": 122,
    "start_time": "2022-04-02T14:55:52.647Z"
   },
   {
    "duration": 3,
    "start_time": "2022-04-02T14:55:52.772Z"
   },
   {
    "duration": 20,
    "start_time": "2022-04-02T14:55:52.776Z"
   },
   {
    "duration": 23,
    "start_time": "2022-04-02T14:55:52.798Z"
   },
   {
    "duration": 16,
    "start_time": "2022-04-02T14:55:52.822Z"
   },
   {
    "duration": 414,
    "start_time": "2022-04-02T14:55:52.840Z"
   },
   {
    "duration": 427,
    "start_time": "2022-04-02T14:55:53.256Z"
   },
   {
    "duration": 211,
    "start_time": "2022-04-02T14:55:53.685Z"
   },
   {
    "duration": 288,
    "start_time": "2022-04-02T14:55:53.898Z"
   },
   {
    "duration": 12,
    "start_time": "2022-04-02T14:55:54.188Z"
   },
   {
    "duration": 7,
    "start_time": "2022-04-02T14:55:54.203Z"
   },
   {
    "duration": 7,
    "start_time": "2022-04-02T14:55:54.211Z"
   },
   {
    "duration": 21,
    "start_time": "2022-04-02T14:55:54.219Z"
   },
   {
    "duration": 5,
    "start_time": "2022-04-02T14:55:54.241Z"
   },
   {
    "duration": 5,
    "start_time": "2022-04-02T14:55:54.248Z"
   },
   {
    "duration": 4,
    "start_time": "2022-04-02T14:55:54.255Z"
   },
   {
    "duration": 5,
    "start_time": "2022-04-02T14:55:54.261Z"
   },
   {
    "duration": 132,
    "start_time": "2022-04-02T14:55:54.268Z"
   },
   {
    "duration": 1615,
    "start_time": "2022-04-02T14:56:15.420Z"
   },
   {
    "duration": 123,
    "start_time": "2022-04-02T14:56:17.037Z"
   },
   {
    "duration": 119,
    "start_time": "2022-04-02T14:56:17.162Z"
   },
   {
    "duration": 120,
    "start_time": "2022-04-02T14:56:17.283Z"
   },
   {
    "duration": 3,
    "start_time": "2022-04-02T14:56:17.405Z"
   },
   {
    "duration": 17,
    "start_time": "2022-04-02T14:56:17.409Z"
   },
   {
    "duration": 20,
    "start_time": "2022-04-02T14:56:17.437Z"
   },
   {
    "duration": 6,
    "start_time": "2022-04-02T14:56:17.458Z"
   },
   {
    "duration": 388,
    "start_time": "2022-04-02T14:56:17.466Z"
   },
   {
    "duration": 392,
    "start_time": "2022-04-02T14:56:17.857Z"
   },
   {
    "duration": 214,
    "start_time": "2022-04-02T14:56:18.251Z"
   },
   {
    "duration": 301,
    "start_time": "2022-04-02T14:56:18.467Z"
   },
   {
    "duration": 13,
    "start_time": "2022-04-02T14:56:18.770Z"
   },
   {
    "duration": 10,
    "start_time": "2022-04-02T14:56:18.785Z"
   },
   {
    "duration": 6,
    "start_time": "2022-04-02T14:56:18.797Z"
   },
   {
    "duration": 6,
    "start_time": "2022-04-02T14:56:18.805Z"
   },
   {
    "duration": 27,
    "start_time": "2022-04-02T14:56:18.812Z"
   },
   {
    "duration": 5,
    "start_time": "2022-04-02T14:56:18.840Z"
   },
   {
    "duration": 8,
    "start_time": "2022-04-02T14:56:18.847Z"
   },
   {
    "duration": 8,
    "start_time": "2022-04-02T14:56:18.857Z"
   },
   {
    "duration": 125,
    "start_time": "2022-04-02T14:56:18.867Z"
   },
   {
    "duration": 12,
    "start_time": "2022-04-02T14:57:27.228Z"
   },
   {
    "duration": 1425,
    "start_time": "2022-04-02T14:57:35.268Z"
   },
   {
    "duration": 123,
    "start_time": "2022-04-02T14:57:36.695Z"
   },
   {
    "duration": 116,
    "start_time": "2022-04-02T14:57:36.820Z"
   },
   {
    "duration": 123,
    "start_time": "2022-04-02T14:57:36.938Z"
   },
   {
    "duration": 3,
    "start_time": "2022-04-02T14:57:37.063Z"
   },
   {
    "duration": 17,
    "start_time": "2022-04-02T14:57:37.068Z"
   },
   {
    "duration": 20,
    "start_time": "2022-04-02T14:57:37.086Z"
   },
   {
    "duration": 8,
    "start_time": "2022-04-02T14:57:37.108Z"
   },
   {
    "duration": 437,
    "start_time": "2022-04-02T14:57:37.117Z"
   },
   {
    "duration": 393,
    "start_time": "2022-04-02T14:57:37.557Z"
   },
   {
    "duration": 220,
    "start_time": "2022-04-02T14:57:37.952Z"
   },
   {
    "duration": 281,
    "start_time": "2022-04-02T14:57:38.174Z"
   },
   {
    "duration": 12,
    "start_time": "2022-04-02T14:57:38.457Z"
   },
   {
    "duration": 11,
    "start_time": "2022-04-02T14:57:38.471Z"
   },
   {
    "duration": 12,
    "start_time": "2022-04-02T14:57:38.483Z"
   },
   {
    "duration": 9,
    "start_time": "2022-04-02T14:57:38.496Z"
   },
   {
    "duration": 8,
    "start_time": "2022-04-02T14:57:38.507Z"
   },
   {
    "duration": 22,
    "start_time": "2022-04-02T14:57:38.517Z"
   },
   {
    "duration": 7,
    "start_time": "2022-04-02T14:57:38.541Z"
   },
   {
    "duration": 13,
    "start_time": "2022-04-02T14:57:38.550Z"
   },
   {
    "duration": 119,
    "start_time": "2022-04-02T14:57:38.565Z"
   },
   {
    "duration": 13,
    "start_time": "2022-04-02T14:57:52.677Z"
   },
   {
    "duration": 3,
    "start_time": "2022-04-02T15:05:39.201Z"
   },
   {
    "duration": 6,
    "start_time": "2022-04-02T15:05:44.872Z"
   },
   {
    "duration": 4,
    "start_time": "2022-04-02T15:05:58.125Z"
   },
   {
    "duration": 6,
    "start_time": "2022-04-02T15:08:33.967Z"
   },
   {
    "duration": 6,
    "start_time": "2022-04-02T15:08:37.947Z"
   },
   {
    "duration": 8,
    "start_time": "2022-04-02T15:08:45.122Z"
   },
   {
    "duration": 4,
    "start_time": "2022-04-02T15:08:55.974Z"
   },
   {
    "duration": 8,
    "start_time": "2022-04-02T15:12:15.996Z"
   },
   {
    "duration": 3,
    "start_time": "2022-04-02T15:12:23.848Z"
   },
   {
    "duration": 199,
    "start_time": "2022-04-02T15:12:48.688Z"
   },
   {
    "duration": 197,
    "start_time": "2022-04-02T15:13:37.713Z"
   },
   {
    "duration": 224,
    "start_time": "2022-04-02T15:13:58.858Z"
   },
   {
    "duration": 12,
    "start_time": "2022-04-02T15:14:19.070Z"
   },
   {
    "duration": 219,
    "start_time": "2022-04-02T15:14:23.193Z"
   },
   {
    "duration": 1062,
    "start_time": "2022-04-02T15:14:29.692Z"
   },
   {
    "duration": 1016,
    "start_time": "2022-04-02T15:17:48.887Z"
   },
   {
    "duration": 1057,
    "start_time": "2022-04-02T15:17:54.699Z"
   },
   {
    "duration": 4,
    "start_time": "2022-04-02T15:20:32.790Z"
   },
   {
    "duration": 4,
    "start_time": "2022-04-02T15:20:47.323Z"
   },
   {
    "duration": 4,
    "start_time": "2022-04-02T15:21:04.158Z"
   },
   {
    "duration": 4,
    "start_time": "2022-04-02T15:21:11.006Z"
   },
   {
    "duration": 4,
    "start_time": "2022-04-02T15:21:39.194Z"
   },
   {
    "duration": 3,
    "start_time": "2022-04-02T15:22:05.227Z"
   },
   {
    "duration": 7,
    "start_time": "2022-04-02T15:22:12.370Z"
   },
   {
    "duration": 9,
    "start_time": "2022-04-02T15:23:45.251Z"
   },
   {
    "duration": 7,
    "start_time": "2022-04-02T15:23:52.254Z"
   },
   {
    "duration": 11,
    "start_time": "2022-04-02T15:24:36.459Z"
   },
   {
    "duration": 12,
    "start_time": "2022-04-02T15:24:44.051Z"
   },
   {
    "duration": 10,
    "start_time": "2022-04-02T15:25:04.483Z"
   },
   {
    "duration": 10,
    "start_time": "2022-04-02T15:25:34.857Z"
   },
   {
    "duration": 10,
    "start_time": "2022-04-02T15:25:44.887Z"
   },
   {
    "duration": 4,
    "start_time": "2022-04-02T15:26:06.555Z"
   },
   {
    "duration": 5,
    "start_time": "2022-04-02T15:26:15.530Z"
   },
   {
    "duration": 6,
    "start_time": "2022-04-02T15:26:19.394Z"
   },
   {
    "duration": 96,
    "start_time": "2022-04-02T15:28:58.572Z"
   },
   {
    "duration": 177,
    "start_time": "2022-04-02T15:29:18.112Z"
   },
   {
    "duration": 4,
    "start_time": "2022-04-02T15:29:24.402Z"
   },
   {
    "duration": 5,
    "start_time": "2022-04-02T15:33:24.879Z"
   },
   {
    "duration": 6,
    "start_time": "2022-04-02T15:39:14.376Z"
   },
   {
    "duration": 14,
    "start_time": "2022-04-02T15:40:13.434Z"
   },
   {
    "duration": 5,
    "start_time": "2022-04-02T15:40:38.234Z"
   },
   {
    "duration": 14,
    "start_time": "2022-04-02T15:40:42.144Z"
   },
   {
    "duration": 5,
    "start_time": "2022-04-02T15:41:42.181Z"
   },
   {
    "duration": 20,
    "start_time": "2022-04-02T15:41:45.073Z"
   },
   {
    "duration": 97,
    "start_time": "2022-04-02T15:42:20.225Z"
   },
   {
    "duration": 1047,
    "start_time": "2022-04-02T15:42:38.528Z"
   },
   {
    "duration": 3110,
    "start_time": "2022-04-02T15:45:07.225Z"
   },
   {
    "duration": 3101,
    "start_time": "2022-04-02T15:45:33.257Z"
   },
   {
    "duration": 3266,
    "start_time": "2022-04-02T15:45:50.198Z"
   },
   {
    "duration": 3091,
    "start_time": "2022-04-02T15:46:07.387Z"
   },
   {
    "duration": 3153,
    "start_time": "2022-04-02T15:56:44.321Z"
   },
   {
    "duration": 1428,
    "start_time": "2022-04-02T16:17:32.190Z"
   },
   {
    "duration": 124,
    "start_time": "2022-04-02T16:17:33.620Z"
   },
   {
    "duration": 119,
    "start_time": "2022-04-02T16:17:33.746Z"
   },
   {
    "duration": 123,
    "start_time": "2022-04-02T16:17:33.866Z"
   },
   {
    "duration": 3,
    "start_time": "2022-04-02T16:17:33.991Z"
   },
   {
    "duration": 17,
    "start_time": "2022-04-02T16:17:33.996Z"
   },
   {
    "duration": 36,
    "start_time": "2022-04-02T16:17:34.014Z"
   },
   {
    "duration": 11,
    "start_time": "2022-04-02T16:17:34.053Z"
   },
   {
    "duration": 475,
    "start_time": "2022-04-02T16:17:34.066Z"
   },
   {
    "duration": 315,
    "start_time": "2022-04-02T16:17:34.544Z"
   },
   {
    "duration": 230,
    "start_time": "2022-04-02T16:17:34.861Z"
   },
   {
    "duration": 326,
    "start_time": "2022-04-02T16:17:35.093Z"
   },
   {
    "duration": 18,
    "start_time": "2022-04-02T16:17:35.421Z"
   },
   {
    "duration": 8,
    "start_time": "2022-04-02T16:17:35.442Z"
   },
   {
    "duration": 7,
    "start_time": "2022-04-02T16:17:35.451Z"
   },
   {
    "duration": 12,
    "start_time": "2022-04-02T16:17:35.459Z"
   },
   {
    "duration": 5,
    "start_time": "2022-04-02T16:17:35.473Z"
   },
   {
    "duration": 9,
    "start_time": "2022-04-02T16:17:35.479Z"
   },
   {
    "duration": 3,
    "start_time": "2022-04-02T16:17:35.490Z"
   },
   {
    "duration": 6,
    "start_time": "2022-04-02T16:17:35.495Z"
   },
   {
    "duration": 36,
    "start_time": "2022-04-02T16:17:35.503Z"
   },
   {
    "duration": 14,
    "start_time": "2022-04-02T16:17:35.541Z"
   },
   {
    "duration": 3526,
    "start_time": "2022-04-02T16:17:35.556Z"
   },
   {
    "duration": 1441,
    "start_time": "2022-04-02T16:34:56.642Z"
   },
   {
    "duration": 126,
    "start_time": "2022-04-02T16:34:58.085Z"
   },
   {
    "duration": 117,
    "start_time": "2022-04-02T16:34:58.212Z"
   },
   {
    "duration": 120,
    "start_time": "2022-04-02T16:34:58.331Z"
   },
   {
    "duration": 3,
    "start_time": "2022-04-02T16:34:58.452Z"
   },
   {
    "duration": 16,
    "start_time": "2022-04-02T16:34:58.457Z"
   },
   {
    "duration": 21,
    "start_time": "2022-04-02T16:34:58.474Z"
   },
   {
    "duration": 3,
    "start_time": "2022-04-02T16:34:58.497Z"
   },
   {
    "duration": 454,
    "start_time": "2022-04-02T16:34:58.502Z"
   },
   {
    "duration": 311,
    "start_time": "2022-04-02T16:34:59.041Z"
   },
   {
    "duration": 215,
    "start_time": "2022-04-02T16:34:59.353Z"
   },
   {
    "duration": 280,
    "start_time": "2022-04-02T16:34:59.570Z"
   },
   {
    "duration": 12,
    "start_time": "2022-04-02T16:34:59.852Z"
   },
   {
    "duration": 7,
    "start_time": "2022-04-02T16:34:59.866Z"
   },
   {
    "duration": 6,
    "start_time": "2022-04-02T16:34:59.875Z"
   },
   {
    "duration": 6,
    "start_time": "2022-04-02T16:34:59.882Z"
   },
   {
    "duration": 5,
    "start_time": "2022-04-02T16:34:59.889Z"
   },
   {
    "duration": 7,
    "start_time": "2022-04-02T16:34:59.895Z"
   },
   {
    "duration": 7,
    "start_time": "2022-04-02T16:34:59.904Z"
   },
   {
    "duration": 27,
    "start_time": "2022-04-02T16:34:59.912Z"
   },
   {
    "duration": 10,
    "start_time": "2022-04-02T16:34:59.941Z"
   },
   {
    "duration": 8,
    "start_time": "2022-04-02T16:34:59.952Z"
   },
   {
    "duration": 3360,
    "start_time": "2022-04-02T16:34:59.961Z"
   },
   {
    "duration": 115,
    "start_time": "2022-04-02T16:37:04.243Z"
   },
   {
    "duration": 17,
    "start_time": "2022-04-02T16:37:31.047Z"
   },
   {
    "duration": 3363,
    "start_time": "2022-04-02T16:37:40.122Z"
   },
   {
    "duration": 3302,
    "start_time": "2022-04-02T16:38:11.660Z"
   },
   {
    "duration": 2871,
    "start_time": "2022-04-02T16:42:53.765Z"
   },
   {
    "duration": 3680,
    "start_time": "2022-04-02T16:43:12.202Z"
   },
   {
    "duration": 3313,
    "start_time": "2022-04-02T16:43:25.540Z"
   },
   {
    "duration": 3313,
    "start_time": "2022-04-02T16:43:38.273Z"
   },
   {
    "duration": 3416,
    "start_time": "2022-04-02T16:44:19.165Z"
   },
   {
    "duration": 1065,
    "start_time": "2022-04-02T16:47:37.086Z"
   },
   {
    "duration": 3511,
    "start_time": "2022-04-02T16:47:48.890Z"
   },
   {
    "duration": 3507,
    "start_time": "2022-04-02T16:48:55.620Z"
   },
   {
    "duration": 3293,
    "start_time": "2022-04-02T16:50:24.560Z"
   },
   {
    "duration": 3299,
    "start_time": "2022-04-02T16:50:47.439Z"
   },
   {
    "duration": 11,
    "start_time": "2022-04-02T17:01:48.083Z"
   },
   {
    "duration": 3,
    "start_time": "2022-04-02T17:02:34.742Z"
   },
   {
    "duration": 13,
    "start_time": "2022-04-02T17:02:36.926Z"
   },
   {
    "duration": 13,
    "start_time": "2022-04-02T17:02:53.163Z"
   },
   {
    "duration": 1480,
    "start_time": "2022-04-02T17:03:03.671Z"
   },
   {
    "duration": 140,
    "start_time": "2022-04-02T17:03:05.153Z"
   },
   {
    "duration": 123,
    "start_time": "2022-04-02T17:03:05.295Z"
   },
   {
    "duration": 127,
    "start_time": "2022-04-02T17:03:05.420Z"
   },
   {
    "duration": 3,
    "start_time": "2022-04-02T17:03:05.549Z"
   },
   {
    "duration": 30,
    "start_time": "2022-04-02T17:03:05.554Z"
   },
   {
    "duration": 33,
    "start_time": "2022-04-02T17:03:05.586Z"
   },
   {
    "duration": 13,
    "start_time": "2022-04-02T17:03:05.621Z"
   },
   {
    "duration": 409,
    "start_time": "2022-04-02T17:03:05.637Z"
   },
   {
    "duration": 404,
    "start_time": "2022-04-02T17:03:06.049Z"
   },
   {
    "duration": 228,
    "start_time": "2022-04-02T17:03:06.455Z"
   },
   {
    "duration": 296,
    "start_time": "2022-04-02T17:03:06.685Z"
   },
   {
    "duration": 13,
    "start_time": "2022-04-02T17:03:06.982Z"
   },
   {
    "duration": 15,
    "start_time": "2022-04-02T17:03:06.997Z"
   },
   {
    "duration": 8,
    "start_time": "2022-04-02T17:03:07.014Z"
   },
   {
    "duration": 120,
    "start_time": "2022-04-02T17:03:07.024Z"
   },
   {
    "duration": 0,
    "start_time": "2022-04-02T17:03:07.146Z"
   },
   {
    "duration": 0,
    "start_time": "2022-04-02T17:03:07.147Z"
   },
   {
    "duration": 0,
    "start_time": "2022-04-02T17:03:07.148Z"
   },
   {
    "duration": 0,
    "start_time": "2022-04-02T17:03:07.149Z"
   },
   {
    "duration": 0,
    "start_time": "2022-04-02T17:03:07.150Z"
   },
   {
    "duration": 0,
    "start_time": "2022-04-02T17:03:07.152Z"
   },
   {
    "duration": 0,
    "start_time": "2022-04-02T17:03:07.153Z"
   },
   {
    "duration": 0,
    "start_time": "2022-04-02T17:03:07.154Z"
   },
   {
    "duration": 0,
    "start_time": "2022-04-02T17:03:07.155Z"
   },
   {
    "duration": 1424,
    "start_time": "2022-04-02T17:04:01.971Z"
   },
   {
    "duration": 128,
    "start_time": "2022-04-02T17:04:03.397Z"
   },
   {
    "duration": 117,
    "start_time": "2022-04-02T17:04:03.527Z"
   },
   {
    "duration": 121,
    "start_time": "2022-04-02T17:04:03.647Z"
   },
   {
    "duration": 3,
    "start_time": "2022-04-02T17:04:03.770Z"
   },
   {
    "duration": 23,
    "start_time": "2022-04-02T17:04:03.774Z"
   },
   {
    "duration": 21,
    "start_time": "2022-04-02T17:04:03.799Z"
   },
   {
    "duration": 17,
    "start_time": "2022-04-02T17:04:03.822Z"
   },
   {
    "duration": 416,
    "start_time": "2022-04-02T17:04:03.840Z"
   },
   {
    "duration": 395,
    "start_time": "2022-04-02T17:04:04.259Z"
   },
   {
    "duration": 228,
    "start_time": "2022-04-02T17:04:04.656Z"
   },
   {
    "duration": 321,
    "start_time": "2022-04-02T17:04:04.886Z"
   },
   {
    "duration": 29,
    "start_time": "2022-04-02T17:04:05.209Z"
   },
   {
    "duration": 8,
    "start_time": "2022-04-02T17:04:05.241Z"
   },
   {
    "duration": 9,
    "start_time": "2022-04-02T17:04:05.250Z"
   },
   {
    "duration": 7,
    "start_time": "2022-04-02T17:04:05.261Z"
   },
   {
    "duration": 12,
    "start_time": "2022-04-02T17:04:05.270Z"
   },
   {
    "duration": 8,
    "start_time": "2022-04-02T17:04:05.284Z"
   },
   {
    "duration": 7,
    "start_time": "2022-04-02T17:04:05.294Z"
   },
   {
    "duration": 10,
    "start_time": "2022-04-02T17:04:05.303Z"
   },
   {
    "duration": 23,
    "start_time": "2022-04-02T17:04:05.315Z"
   },
   {
    "duration": 16,
    "start_time": "2022-04-02T17:04:05.339Z"
   },
   {
    "duration": 3359,
    "start_time": "2022-04-02T17:04:05.357Z"
   },
   {
    "duration": 1485,
    "start_time": "2022-04-02T17:08:02.522Z"
   },
   {
    "duration": 132,
    "start_time": "2022-04-02T17:08:04.009Z"
   },
   {
    "duration": 120,
    "start_time": "2022-04-02T17:08:04.142Z"
   },
   {
    "duration": 123,
    "start_time": "2022-04-02T17:08:04.264Z"
   },
   {
    "duration": 3,
    "start_time": "2022-04-02T17:08:04.390Z"
   },
   {
    "duration": 17,
    "start_time": "2022-04-02T17:08:04.394Z"
   },
   {
    "duration": 25,
    "start_time": "2022-04-02T17:08:04.412Z"
   },
   {
    "duration": 7,
    "start_time": "2022-04-02T17:08:04.439Z"
   },
   {
    "duration": 412,
    "start_time": "2022-04-02T17:08:04.447Z"
   },
   {
    "duration": 317,
    "start_time": "2022-04-02T17:08:04.940Z"
   },
   {
    "duration": 224,
    "start_time": "2022-04-02T17:08:05.259Z"
   },
   {
    "duration": 296,
    "start_time": "2022-04-02T17:08:05.484Z"
   },
   {
    "duration": 16,
    "start_time": "2022-04-02T17:08:05.782Z"
   },
   {
    "duration": 4,
    "start_time": "2022-04-02T17:08:05.801Z"
   },
   {
    "duration": 9,
    "start_time": "2022-04-02T17:08:05.807Z"
   },
   {
    "duration": 23,
    "start_time": "2022-04-02T17:08:05.818Z"
   },
   {
    "duration": 7,
    "start_time": "2022-04-02T17:08:05.842Z"
   },
   {
    "duration": 17,
    "start_time": "2022-04-02T17:08:05.850Z"
   },
   {
    "duration": 5,
    "start_time": "2022-04-02T17:08:05.869Z"
   },
   {
    "duration": 10,
    "start_time": "2022-04-02T17:08:05.876Z"
   },
   {
    "duration": 14,
    "start_time": "2022-04-02T17:08:05.887Z"
   },
   {
    "duration": 7,
    "start_time": "2022-04-02T17:08:05.903Z"
   },
   {
    "duration": 3287,
    "start_time": "2022-04-02T17:08:05.911Z"
   }
  ],
  "kernelspec": {
   "display_name": "Python 3 (ipykernel)",
   "language": "python",
   "name": "python3"
  },
  "language_info": {
   "codemirror_mode": {
    "name": "ipython",
    "version": 3
   },
   "file_extension": ".py",
   "mimetype": "text/x-python",
   "name": "python",
   "nbconvert_exporter": "python",
   "pygments_lexer": "ipython3",
   "version": "3.10.0"
  },
  "toc": {
   "base_numbering": 1,
   "nav_menu": {},
   "number_sections": true,
   "sideBar": true,
   "skip_h1_title": true,
   "title_cell": "Table of Contents",
   "title_sidebar": "Contents",
   "toc_cell": false,
   "toc_position": {},
   "toc_section_display": true,
   "toc_window_display": false
  }
 },
 "nbformat": 4,
 "nbformat_minor": 2
}
