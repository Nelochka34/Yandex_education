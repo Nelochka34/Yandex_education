{
 "cells": [
  {
   "cell_type": "markdown",
   "metadata": {
    "toc": true
   },
   "source": [
    "<h1>Содержание<span class=\"tocSkip\"></span></h1>\n",
    "<div class=\"toc\"><ul class=\"toc-item\"><li><span><a href=\"#Подготовка-данных\" data-toc-modified-id=\"Подготовка-данных-1\"><span class=\"toc-item-num\">1&nbsp;&nbsp;</span>Подготовка данных</a></span></li><li><span><a href=\"#Исследование-задачи\" data-toc-modified-id=\"Исследование-задачи-2\"><span class=\"toc-item-num\">2&nbsp;&nbsp;</span>Исследование задачи</a></span><ul class=\"toc-item\"><li><span><a href=\"#Строим-модель-без-учета-баланса:\" data-toc-modified-id=\"Строим-модель-без-учета-баланса:-2.1\"><span class=\"toc-item-num\">2.1&nbsp;&nbsp;</span>Строим модель без учета баланса:</a></span><ul class=\"toc-item\"><li><span><a href=\"#Обучение-с-помощью-модели-решающее-дерево\" data-toc-modified-id=\"Обучение-с-помощью-модели-решающее-дерево-2.1.1\"><span class=\"toc-item-num\">2.1.1&nbsp;&nbsp;</span>Обучение с помощью модели решающее дерево</a></span></li><li><span><a href=\"#Обучение-с-помощью-модели-Случайный-лес\" data-toc-modified-id=\"Обучение-с-помощью-модели-Случайный-лес-2.1.2\"><span class=\"toc-item-num\">2.1.2&nbsp;&nbsp;</span>Обучение с помощью модели Случайный лес</a></span></li><li><span><a href=\"#Обучение-с-помощью-модели-логистическая-регрессия\" data-toc-modified-id=\"Обучение-с-помощью-модели-логистическая-регрессия-2.1.3\"><span class=\"toc-item-num\">2.1.3&nbsp;&nbsp;</span>Обучение с помощью модели логистическая регрессия</a></span></li></ul></li></ul></li><li><span><a href=\"#Борьба-с-дисбалансом\" data-toc-modified-id=\"Борьба-с-дисбалансом-3\"><span class=\"toc-item-num\">3&nbsp;&nbsp;</span>Борьба с дисбалансом</a></span><ul class=\"toc-item\"><li><span><a href=\"#Проведем-обучение-на-примере-модели-Решающее-дерево-с-учетом-дисбаланса:\" data-toc-modified-id=\"Проведем-обучение-на-примере-модели-Решающее-дерево-с-учетом-дисбаланса:-3.1\"><span class=\"toc-item-num\">3.1&nbsp;&nbsp;</span>Проведем обучение на примере модели Решающее дерево с учетом дисбаланса:</a></span></li><li><span><a href=\"#Проведем-обучение-на-примере-модели-Случайный-лес-с-учетом-дисбаланса:\" data-toc-modified-id=\"Проведем-обучение-на-примере-модели-Случайный-лес-с-учетом-дисбаланса:-3.2\"><span class=\"toc-item-num\">3.2&nbsp;&nbsp;</span>Проведем обучение на примере модели Случайный лес с учетом дисбаланса:</a></span></li><li><span><a href=\"#Проведем-обучение-на-примере-модели-Линейная-регрессия-с-учетом-дисбаланса:\" data-toc-modified-id=\"Проведем-обучение-на-примере-модели-Линейная-регрессия-с-учетом-дисбаланса:-3.3\"><span class=\"toc-item-num\">3.3&nbsp;&nbsp;</span>Проведем обучение на примере модели Линейная регрессия с учетом дисбаланса:</a></span></li><li><span><a href=\"#Исследование-метрики-AUC-ROC\" data-toc-modified-id=\"Исследование-метрики-AUC-ROC-3.4\"><span class=\"toc-item-num\">3.4&nbsp;&nbsp;</span>Исследование метрики AUC-ROC</a></span></li><li><span><a href=\"#Вывод:\" data-toc-modified-id=\"Вывод:-3.5\"><span class=\"toc-item-num\">3.5&nbsp;&nbsp;</span>Вывод:</a></span></li></ul></li><li><span><a href=\"#Тестирование-модели\" data-toc-modified-id=\"Тестирование-модели-4\"><span class=\"toc-item-num\">4&nbsp;&nbsp;</span>Тестирование модели</a></span></li><li><span><a href=\"#Чек-лист-готовности-проекта\" data-toc-modified-id=\"Чек-лист-готовности-проекта-5\"><span class=\"toc-item-num\">5&nbsp;&nbsp;</span>Чек-лист готовности проекта</a></span></li></ul></div>"
   ]
  },
  {
   "cell_type": "markdown",
   "metadata": {},
   "source": [
    "# Отток клиентов"
   ]
  },
  {
   "cell_type": "markdown",
   "metadata": {},
   "source": [
    "## Подготовка данных"
   ]
  },
  {
   "cell_type": "code",
   "execution_count": 1,
   "metadata": {},
   "outputs": [],
   "source": [
    "import pandas as pd\n",
    "import matplotlib.pyplot as plt\n",
    "import numpy as np\n",
    "from sklearn.tree import DecisionTreeClassifier\n",
    "from sklearn.ensemble import RandomForestClassifier\n",
    "from sklearn.linear_model import LogisticRegression\n",
    "from sklearn.model_selection import train_test_split\n",
    "from sklearn.preprocessing import OrdinalEncoder \n",
    "from sklearn.metrics import f1_score, recall_score, precision_score, confusion_matrix, accuracy_score, roc_auc_score, roc_curve\n",
    "from sklearn.preprocessing import StandardScaler\n",
    "from sklearn.utils import shuffle"
   ]
  },
  {
   "cell_type": "markdown",
   "metadata": {},
   "source": [
    "Загрузим данные: "
   ]
  },
  {
   "cell_type": "code",
   "execution_count": 2,
   "metadata": {},
   "outputs": [],
   "source": [
    "data = pd.read_csv(\"Churn.csv\")"
   ]
  },
  {
   "cell_type": "code",
   "execution_count": 3,
   "metadata": {},
   "outputs": [
    {
     "name": "stdout",
     "output_type": "stream",
     "text": [
      "<class 'pandas.core.frame.DataFrame'>\n",
      "RangeIndex: 10000 entries, 0 to 9999\n",
      "Data columns (total 14 columns):\n",
      " #   Column           Non-Null Count  Dtype  \n",
      "---  ------           --------------  -----  \n",
      " 0   RowNumber        10000 non-null  int64  \n",
      " 1   CustomerId       10000 non-null  int64  \n",
      " 2   Surname          10000 non-null  object \n",
      " 3   CreditScore      10000 non-null  int64  \n",
      " 4   Geography        10000 non-null  object \n",
      " 5   Gender           10000 non-null  object \n",
      " 6   Age              10000 non-null  int64  \n",
      " 7   Tenure           9091 non-null   float64\n",
      " 8   Balance          10000 non-null  float64\n",
      " 9   NumOfProducts    10000 non-null  int64  \n",
      " 10  HasCrCard        10000 non-null  int64  \n",
      " 11  IsActiveMember   10000 non-null  int64  \n",
      " 12  EstimatedSalary  10000 non-null  float64\n",
      " 13  Exited           10000 non-null  int64  \n",
      "dtypes: float64(3), int64(8), object(3)\n",
      "memory usage: 1.1+ MB\n"
     ]
    }
   ],
   "source": [
    "data.info()"
   ]
  },
  {
   "cell_type": "markdown",
   "metadata": {},
   "source": [
    "Целевой признак Exited - категориальный признак (принимает значения клиент 0 - остается, 1 - уходит)"
   ]
  },
  {
   "cell_type": "markdown",
   "metadata": {},
   "source": [
    "Заменим пропуски в столбце Tenure на медианное значение по этому столбцу:"
   ]
  },
  {
   "cell_type": "code",
   "execution_count": 4,
   "metadata": {},
   "outputs": [],
   "source": [
    "data['Tenure'] = data['Tenure'].fillna(data['Tenure'].median())"
   ]
  },
  {
   "cell_type": "code",
   "execution_count": 5,
   "metadata": {},
   "outputs": [
    {
     "data": {
      "text/plain": [
       "RowNumber          0\n",
       "CustomerId         0\n",
       "Surname            0\n",
       "CreditScore        0\n",
       "Geography          0\n",
       "Gender             0\n",
       "Age                0\n",
       "Tenure             0\n",
       "Balance            0\n",
       "NumOfProducts      0\n",
       "HasCrCard          0\n",
       "IsActiveMember     0\n",
       "EstimatedSalary    0\n",
       "Exited             0\n",
       "dtype: int64"
      ]
     },
     "execution_count": 5,
     "metadata": {},
     "output_type": "execute_result"
    }
   ],
   "source": [
    "data.isna().sum() # проверим есть ли пропуски"
   ]
  },
  {
   "cell_type": "code",
   "execution_count": 6,
   "metadata": {},
   "outputs": [],
   "source": [
    "data.columns = data.columns.str.lower() # приведем названия столбцов к нижнему регистру"
   ]
  },
  {
   "cell_type": "code",
   "execution_count": 7,
   "metadata": {},
   "outputs": [
    {
     "name": "stdout",
     "output_type": "stream",
     "text": [
      "<class 'pandas.core.frame.DataFrame'>\n",
      "RangeIndex: 10000 entries, 0 to 9999\n",
      "Data columns (total 14 columns):\n",
      " #   Column           Non-Null Count  Dtype  \n",
      "---  ------           --------------  -----  \n",
      " 0   rownumber        10000 non-null  int64  \n",
      " 1   customerid       10000 non-null  int64  \n",
      " 2   surname          10000 non-null  object \n",
      " 3   creditscore      10000 non-null  int64  \n",
      " 4   geography        10000 non-null  object \n",
      " 5   gender           10000 non-null  object \n",
      " 6   age              10000 non-null  int64  \n",
      " 7   tenure           10000 non-null  float64\n",
      " 8   balance          10000 non-null  float64\n",
      " 9   numofproducts    10000 non-null  int64  \n",
      " 10  hascrcard        10000 non-null  int64  \n",
      " 11  isactivemember   10000 non-null  int64  \n",
      " 12  estimatedsalary  10000 non-null  float64\n",
      " 13  exited           10000 non-null  int64  \n",
      "dtypes: float64(3), int64(8), object(3)\n",
      "memory usage: 1.1+ MB\n"
     ]
    }
   ],
   "source": [
    "data.info()"
   ]
  },
  {
   "cell_type": "code",
   "execution_count": 8,
   "metadata": {},
   "outputs": [],
   "source": [
    "data = data.drop(columns = ['rownumber', 'customerid', 'surname']) # удалим столбцы, так как не имеют значение"
   ]
  },
  {
   "cell_type": "code",
   "execution_count": 9,
   "metadata": {},
   "outputs": [
    {
     "data": {
      "text/html": [
       "<div>\n",
       "<style scoped>\n",
       "    .dataframe tbody tr th:only-of-type {\n",
       "        vertical-align: middle;\n",
       "    }\n",
       "\n",
       "    .dataframe tbody tr th {\n",
       "        vertical-align: top;\n",
       "    }\n",
       "\n",
       "    .dataframe thead th {\n",
       "        text-align: right;\n",
       "    }\n",
       "</style>\n",
       "<table border=\"1\" class=\"dataframe\">\n",
       "  <thead>\n",
       "    <tr style=\"text-align: right;\">\n",
       "      <th></th>\n",
       "      <th>creditscore</th>\n",
       "      <th>geography</th>\n",
       "      <th>gender</th>\n",
       "      <th>age</th>\n",
       "      <th>tenure</th>\n",
       "      <th>balance</th>\n",
       "      <th>numofproducts</th>\n",
       "      <th>hascrcard</th>\n",
       "      <th>isactivemember</th>\n",
       "      <th>estimatedsalary</th>\n",
       "      <th>exited</th>\n",
       "    </tr>\n",
       "  </thead>\n",
       "  <tbody>\n",
       "    <tr>\n",
       "      <th>0</th>\n",
       "      <td>619</td>\n",
       "      <td>France</td>\n",
       "      <td>Female</td>\n",
       "      <td>42</td>\n",
       "      <td>2.0</td>\n",
       "      <td>0.00</td>\n",
       "      <td>1</td>\n",
       "      <td>1</td>\n",
       "      <td>1</td>\n",
       "      <td>101348.88</td>\n",
       "      <td>1</td>\n",
       "    </tr>\n",
       "    <tr>\n",
       "      <th>1</th>\n",
       "      <td>608</td>\n",
       "      <td>Spain</td>\n",
       "      <td>Female</td>\n",
       "      <td>41</td>\n",
       "      <td>1.0</td>\n",
       "      <td>83807.86</td>\n",
       "      <td>1</td>\n",
       "      <td>0</td>\n",
       "      <td>1</td>\n",
       "      <td>112542.58</td>\n",
       "      <td>0</td>\n",
       "    </tr>\n",
       "    <tr>\n",
       "      <th>2</th>\n",
       "      <td>502</td>\n",
       "      <td>France</td>\n",
       "      <td>Female</td>\n",
       "      <td>42</td>\n",
       "      <td>8.0</td>\n",
       "      <td>159660.80</td>\n",
       "      <td>3</td>\n",
       "      <td>1</td>\n",
       "      <td>0</td>\n",
       "      <td>113931.57</td>\n",
       "      <td>1</td>\n",
       "    </tr>\n",
       "    <tr>\n",
       "      <th>3</th>\n",
       "      <td>699</td>\n",
       "      <td>France</td>\n",
       "      <td>Female</td>\n",
       "      <td>39</td>\n",
       "      <td>1.0</td>\n",
       "      <td>0.00</td>\n",
       "      <td>2</td>\n",
       "      <td>0</td>\n",
       "      <td>0</td>\n",
       "      <td>93826.63</td>\n",
       "      <td>0</td>\n",
       "    </tr>\n",
       "    <tr>\n",
       "      <th>4</th>\n",
       "      <td>850</td>\n",
       "      <td>Spain</td>\n",
       "      <td>Female</td>\n",
       "      <td>43</td>\n",
       "      <td>2.0</td>\n",
       "      <td>125510.82</td>\n",
       "      <td>1</td>\n",
       "      <td>1</td>\n",
       "      <td>1</td>\n",
       "      <td>79084.10</td>\n",
       "      <td>0</td>\n",
       "    </tr>\n",
       "    <tr>\n",
       "      <th>...</th>\n",
       "      <td>...</td>\n",
       "      <td>...</td>\n",
       "      <td>...</td>\n",
       "      <td>...</td>\n",
       "      <td>...</td>\n",
       "      <td>...</td>\n",
       "      <td>...</td>\n",
       "      <td>...</td>\n",
       "      <td>...</td>\n",
       "      <td>...</td>\n",
       "      <td>...</td>\n",
       "    </tr>\n",
       "    <tr>\n",
       "      <th>9995</th>\n",
       "      <td>771</td>\n",
       "      <td>France</td>\n",
       "      <td>Male</td>\n",
       "      <td>39</td>\n",
       "      <td>5.0</td>\n",
       "      <td>0.00</td>\n",
       "      <td>2</td>\n",
       "      <td>1</td>\n",
       "      <td>0</td>\n",
       "      <td>96270.64</td>\n",
       "      <td>0</td>\n",
       "    </tr>\n",
       "    <tr>\n",
       "      <th>9996</th>\n",
       "      <td>516</td>\n",
       "      <td>France</td>\n",
       "      <td>Male</td>\n",
       "      <td>35</td>\n",
       "      <td>10.0</td>\n",
       "      <td>57369.61</td>\n",
       "      <td>1</td>\n",
       "      <td>1</td>\n",
       "      <td>1</td>\n",
       "      <td>101699.77</td>\n",
       "      <td>0</td>\n",
       "    </tr>\n",
       "    <tr>\n",
       "      <th>9997</th>\n",
       "      <td>709</td>\n",
       "      <td>France</td>\n",
       "      <td>Female</td>\n",
       "      <td>36</td>\n",
       "      <td>7.0</td>\n",
       "      <td>0.00</td>\n",
       "      <td>1</td>\n",
       "      <td>0</td>\n",
       "      <td>1</td>\n",
       "      <td>42085.58</td>\n",
       "      <td>1</td>\n",
       "    </tr>\n",
       "    <tr>\n",
       "      <th>9998</th>\n",
       "      <td>772</td>\n",
       "      <td>Germany</td>\n",
       "      <td>Male</td>\n",
       "      <td>42</td>\n",
       "      <td>3.0</td>\n",
       "      <td>75075.31</td>\n",
       "      <td>2</td>\n",
       "      <td>1</td>\n",
       "      <td>0</td>\n",
       "      <td>92888.52</td>\n",
       "      <td>1</td>\n",
       "    </tr>\n",
       "    <tr>\n",
       "      <th>9999</th>\n",
       "      <td>792</td>\n",
       "      <td>France</td>\n",
       "      <td>Female</td>\n",
       "      <td>28</td>\n",
       "      <td>5.0</td>\n",
       "      <td>130142.79</td>\n",
       "      <td>1</td>\n",
       "      <td>1</td>\n",
       "      <td>0</td>\n",
       "      <td>38190.78</td>\n",
       "      <td>0</td>\n",
       "    </tr>\n",
       "  </tbody>\n",
       "</table>\n",
       "<p>10000 rows × 11 columns</p>\n",
       "</div>"
      ],
      "text/plain": [
       "      creditscore geography  gender  age  tenure    balance  numofproducts  \\\n",
       "0             619    France  Female   42     2.0       0.00              1   \n",
       "1             608     Spain  Female   41     1.0   83807.86              1   \n",
       "2             502    France  Female   42     8.0  159660.80              3   \n",
       "3             699    France  Female   39     1.0       0.00              2   \n",
       "4             850     Spain  Female   43     2.0  125510.82              1   \n",
       "...           ...       ...     ...  ...     ...        ...            ...   \n",
       "9995          771    France    Male   39     5.0       0.00              2   \n",
       "9996          516    France    Male   35    10.0   57369.61              1   \n",
       "9997          709    France  Female   36     7.0       0.00              1   \n",
       "9998          772   Germany    Male   42     3.0   75075.31              2   \n",
       "9999          792    France  Female   28     5.0  130142.79              1   \n",
       "\n",
       "      hascrcard  isactivemember  estimatedsalary  exited  \n",
       "0             1               1        101348.88       1  \n",
       "1             0               1        112542.58       0  \n",
       "2             1               0        113931.57       1  \n",
       "3             0               0         93826.63       0  \n",
       "4             1               1         79084.10       0  \n",
       "...         ...             ...              ...     ...  \n",
       "9995          1               0         96270.64       0  \n",
       "9996          1               1        101699.77       0  \n",
       "9997          0               1         42085.58       1  \n",
       "9998          1               0         92888.52       1  \n",
       "9999          1               0         38190.78       0  \n",
       "\n",
       "[10000 rows x 11 columns]"
      ]
     },
     "execution_count": 9,
     "metadata": {},
     "output_type": "execute_result"
    }
   ],
   "source": [
    "data"
   ]
  },
  {
   "cell_type": "markdown",
   "metadata": {},
   "source": [
    "Для кодирования данных применим метод прямого кодирования (OHE), т.к. он применяется - для номинальных категорий."
   ]
  },
  {
   "cell_type": "code",
   "execution_count": 11,
   "metadata": {},
   "outputs": [],
   "source": [
    "data_ohe = pd.get_dummies(data, drop_first=True)"
   ]
  },
  {
   "cell_type": "code",
   "execution_count": 12,
   "metadata": {},
   "outputs": [
    {
     "data": {
      "text/html": [
       "<div>\n",
       "<style scoped>\n",
       "    .dataframe tbody tr th:only-of-type {\n",
       "        vertical-align: middle;\n",
       "    }\n",
       "\n",
       "    .dataframe tbody tr th {\n",
       "        vertical-align: top;\n",
       "    }\n",
       "\n",
       "    .dataframe thead th {\n",
       "        text-align: right;\n",
       "    }\n",
       "</style>\n",
       "<table border=\"1\" class=\"dataframe\">\n",
       "  <thead>\n",
       "    <tr style=\"text-align: right;\">\n",
       "      <th></th>\n",
       "      <th>creditscore</th>\n",
       "      <th>age</th>\n",
       "      <th>tenure</th>\n",
       "      <th>balance</th>\n",
       "      <th>numofproducts</th>\n",
       "      <th>hascrcard</th>\n",
       "      <th>isactivemember</th>\n",
       "      <th>estimatedsalary</th>\n",
       "      <th>exited</th>\n",
       "      <th>geography_Germany</th>\n",
       "      <th>geography_Spain</th>\n",
       "      <th>gender_Male</th>\n",
       "    </tr>\n",
       "  </thead>\n",
       "  <tbody>\n",
       "    <tr>\n",
       "      <th>0</th>\n",
       "      <td>619</td>\n",
       "      <td>42</td>\n",
       "      <td>2.0</td>\n",
       "      <td>0.00</td>\n",
       "      <td>1</td>\n",
       "      <td>1</td>\n",
       "      <td>1</td>\n",
       "      <td>101348.88</td>\n",
       "      <td>1</td>\n",
       "      <td>0</td>\n",
       "      <td>0</td>\n",
       "      <td>0</td>\n",
       "    </tr>\n",
       "    <tr>\n",
       "      <th>1</th>\n",
       "      <td>608</td>\n",
       "      <td>41</td>\n",
       "      <td>1.0</td>\n",
       "      <td>83807.86</td>\n",
       "      <td>1</td>\n",
       "      <td>0</td>\n",
       "      <td>1</td>\n",
       "      <td>112542.58</td>\n",
       "      <td>0</td>\n",
       "      <td>0</td>\n",
       "      <td>1</td>\n",
       "      <td>0</td>\n",
       "    </tr>\n",
       "    <tr>\n",
       "      <th>2</th>\n",
       "      <td>502</td>\n",
       "      <td>42</td>\n",
       "      <td>8.0</td>\n",
       "      <td>159660.80</td>\n",
       "      <td>3</td>\n",
       "      <td>1</td>\n",
       "      <td>0</td>\n",
       "      <td>113931.57</td>\n",
       "      <td>1</td>\n",
       "      <td>0</td>\n",
       "      <td>0</td>\n",
       "      <td>0</td>\n",
       "    </tr>\n",
       "    <tr>\n",
       "      <th>3</th>\n",
       "      <td>699</td>\n",
       "      <td>39</td>\n",
       "      <td>1.0</td>\n",
       "      <td>0.00</td>\n",
       "      <td>2</td>\n",
       "      <td>0</td>\n",
       "      <td>0</td>\n",
       "      <td>93826.63</td>\n",
       "      <td>0</td>\n",
       "      <td>0</td>\n",
       "      <td>0</td>\n",
       "      <td>0</td>\n",
       "    </tr>\n",
       "    <tr>\n",
       "      <th>4</th>\n",
       "      <td>850</td>\n",
       "      <td>43</td>\n",
       "      <td>2.0</td>\n",
       "      <td>125510.82</td>\n",
       "      <td>1</td>\n",
       "      <td>1</td>\n",
       "      <td>1</td>\n",
       "      <td>79084.10</td>\n",
       "      <td>0</td>\n",
       "      <td>0</td>\n",
       "      <td>1</td>\n",
       "      <td>0</td>\n",
       "    </tr>\n",
       "    <tr>\n",
       "      <th>...</th>\n",
       "      <td>...</td>\n",
       "      <td>...</td>\n",
       "      <td>...</td>\n",
       "      <td>...</td>\n",
       "      <td>...</td>\n",
       "      <td>...</td>\n",
       "      <td>...</td>\n",
       "      <td>...</td>\n",
       "      <td>...</td>\n",
       "      <td>...</td>\n",
       "      <td>...</td>\n",
       "      <td>...</td>\n",
       "    </tr>\n",
       "    <tr>\n",
       "      <th>9995</th>\n",
       "      <td>771</td>\n",
       "      <td>39</td>\n",
       "      <td>5.0</td>\n",
       "      <td>0.00</td>\n",
       "      <td>2</td>\n",
       "      <td>1</td>\n",
       "      <td>0</td>\n",
       "      <td>96270.64</td>\n",
       "      <td>0</td>\n",
       "      <td>0</td>\n",
       "      <td>0</td>\n",
       "      <td>1</td>\n",
       "    </tr>\n",
       "    <tr>\n",
       "      <th>9996</th>\n",
       "      <td>516</td>\n",
       "      <td>35</td>\n",
       "      <td>10.0</td>\n",
       "      <td>57369.61</td>\n",
       "      <td>1</td>\n",
       "      <td>1</td>\n",
       "      <td>1</td>\n",
       "      <td>101699.77</td>\n",
       "      <td>0</td>\n",
       "      <td>0</td>\n",
       "      <td>0</td>\n",
       "      <td>1</td>\n",
       "    </tr>\n",
       "    <tr>\n",
       "      <th>9997</th>\n",
       "      <td>709</td>\n",
       "      <td>36</td>\n",
       "      <td>7.0</td>\n",
       "      <td>0.00</td>\n",
       "      <td>1</td>\n",
       "      <td>0</td>\n",
       "      <td>1</td>\n",
       "      <td>42085.58</td>\n",
       "      <td>1</td>\n",
       "      <td>0</td>\n",
       "      <td>0</td>\n",
       "      <td>0</td>\n",
       "    </tr>\n",
       "    <tr>\n",
       "      <th>9998</th>\n",
       "      <td>772</td>\n",
       "      <td>42</td>\n",
       "      <td>3.0</td>\n",
       "      <td>75075.31</td>\n",
       "      <td>2</td>\n",
       "      <td>1</td>\n",
       "      <td>0</td>\n",
       "      <td>92888.52</td>\n",
       "      <td>1</td>\n",
       "      <td>1</td>\n",
       "      <td>0</td>\n",
       "      <td>1</td>\n",
       "    </tr>\n",
       "    <tr>\n",
       "      <th>9999</th>\n",
       "      <td>792</td>\n",
       "      <td>28</td>\n",
       "      <td>5.0</td>\n",
       "      <td>130142.79</td>\n",
       "      <td>1</td>\n",
       "      <td>1</td>\n",
       "      <td>0</td>\n",
       "      <td>38190.78</td>\n",
       "      <td>0</td>\n",
       "      <td>0</td>\n",
       "      <td>0</td>\n",
       "      <td>0</td>\n",
       "    </tr>\n",
       "  </tbody>\n",
       "</table>\n",
       "<p>10000 rows × 12 columns</p>\n",
       "</div>"
      ],
      "text/plain": [
       "      creditscore  age  tenure    balance  numofproducts  hascrcard  \\\n",
       "0             619   42     2.0       0.00              1          1   \n",
       "1             608   41     1.0   83807.86              1          0   \n",
       "2             502   42     8.0  159660.80              3          1   \n",
       "3             699   39     1.0       0.00              2          0   \n",
       "4             850   43     2.0  125510.82              1          1   \n",
       "...           ...  ...     ...        ...            ...        ...   \n",
       "9995          771   39     5.0       0.00              2          1   \n",
       "9996          516   35    10.0   57369.61              1          1   \n",
       "9997          709   36     7.0       0.00              1          0   \n",
       "9998          772   42     3.0   75075.31              2          1   \n",
       "9999          792   28     5.0  130142.79              1          1   \n",
       "\n",
       "      isactivemember  estimatedsalary  exited  geography_Germany  \\\n",
       "0                  1        101348.88       1                  0   \n",
       "1                  1        112542.58       0                  0   \n",
       "2                  0        113931.57       1                  0   \n",
       "3                  0         93826.63       0                  0   \n",
       "4                  1         79084.10       0                  0   \n",
       "...              ...              ...     ...                ...   \n",
       "9995               0         96270.64       0                  0   \n",
       "9996               1        101699.77       0                  0   \n",
       "9997               1         42085.58       1                  0   \n",
       "9998               0         92888.52       1                  1   \n",
       "9999               0         38190.78       0                  0   \n",
       "\n",
       "      geography_Spain  gender_Male  \n",
       "0                   0            0  \n",
       "1                   1            0  \n",
       "2                   0            0  \n",
       "3                   0            0  \n",
       "4                   1            0  \n",
       "...               ...          ...  \n",
       "9995                0            1  \n",
       "9996                0            1  \n",
       "9997                0            0  \n",
       "9998                0            1  \n",
       "9999                0            0  \n",
       "\n",
       "[10000 rows x 12 columns]"
      ]
     },
     "execution_count": 12,
     "metadata": {},
     "output_type": "execute_result"
    }
   ],
   "source": [
    "data_ohe"
   ]
  },
  {
   "cell_type": "markdown",
   "metadata": {},
   "source": [
    "разобъем данные на выборки (обучающая, валидационная, тестовая): "
   ]
  },
  {
   "cell_type": "code",
   "execution_count": 13,
   "metadata": {},
   "outputs": [],
   "source": [
    "# разбили данные на 2 выборки: 1- это обучающая и валидационная data_train_valid, 2- это тестовая 20% data_test\n",
    "data_train_valid, data_test = train_test_split(data_ohe, test_size=0.2, random_state=12345) \n",
    "\n",
    "# разобьем обучающую (60%) и валидационную (20%): \n",
    "data_train, data_valid = train_test_split(data_train_valid, test_size=0.25, random_state=12345)"
   ]
  },
  {
   "cell_type": "code",
   "execution_count": 14,
   "metadata": {},
   "outputs": [
    {
     "name": "stdout",
     "output_type": "stream",
     "text": [
      "Выборка для обучения модели (6000, 12)\n",
      "Выборка для поверки модели на переобучение (2000, 12)\n",
      "Выборка для оценки качества модели (2000, 12)\n"
     ]
    }
   ],
   "source": [
    "print('Выборка для обучения модели', data_train.shape)\n",
    "print('Выборка для поверки модели на переобучение', data_valid.shape)\n",
    "print('Выборка для оценки качества модели', data_test.shape)"
   ]
  },
  {
   "cell_type": "code",
   "execution_count": 15,
   "metadata": {},
   "outputs": [],
   "source": [
    "# создадим переменные, в целевую переменную запишем столбец Exited, а все остальные - в признаки\n",
    "# для обучающей выборки:\n",
    "features_train = data_train.drop(['exited'], axis=1)\n",
    "target_train = data_train['exited']\n",
    "\n",
    "# для валидационной выборки:\n",
    "features_valid = data_valid.drop(['exited'], axis=1) \n",
    "target_valid = data_valid['exited']"
   ]
  },
  {
   "cell_type": "code",
   "execution_count": 16,
   "metadata": {},
   "outputs": [],
   "source": [
    "# создадим переменные для тестовой выборки\n",
    "test_target = data_test['exited']\n",
    "test_features = data_test.drop(['exited'], axis=1)"
   ]
  },
  {
   "cell_type": "markdown",
   "metadata": {},
   "source": [
    "Признаки имеют данные разного масштаба. Проведем масштабированое путем стандартизации данных:"
   ]
  },
  {
   "cell_type": "markdown",
   "metadata": {},
   "source": [
    "Осуществим масштабирование признаков:"
   ]
  },
  {
   "cell_type": "code",
   "execution_count": 17,
   "metadata": {},
   "outputs": [
    {
     "name": "stdout",
     "output_type": "stream",
     "text": [
      "<class 'pandas.core.frame.DataFrame'>\n",
      "RangeIndex: 10000 entries, 0 to 9999\n",
      "Data columns (total 12 columns):\n",
      " #   Column             Non-Null Count  Dtype  \n",
      "---  ------             --------------  -----  \n",
      " 0   creditscore        10000 non-null  int64  \n",
      " 1   age                10000 non-null  int64  \n",
      " 2   tenure             10000 non-null  float64\n",
      " 3   balance            10000 non-null  float64\n",
      " 4   numofproducts      10000 non-null  int64  \n",
      " 5   hascrcard          10000 non-null  int64  \n",
      " 6   isactivemember     10000 non-null  int64  \n",
      " 7   estimatedsalary    10000 non-null  float64\n",
      " 8   exited             10000 non-null  int64  \n",
      " 9   geography_Germany  10000 non-null  uint8  \n",
      " 10  geography_Spain    10000 non-null  uint8  \n",
      " 11  gender_Male        10000 non-null  uint8  \n",
      "dtypes: float64(3), int64(6), uint8(3)\n",
      "memory usage: 732.5 KB\n"
     ]
    }
   ],
   "source": [
    "data_ohe.info()"
   ]
  },
  {
   "cell_type": "code",
   "execution_count": 18,
   "metadata": {},
   "outputs": [
    {
     "data": {
      "text/html": [
       "<div>\n",
       "<style scoped>\n",
       "    .dataframe tbody tr th:only-of-type {\n",
       "        vertical-align: middle;\n",
       "    }\n",
       "\n",
       "    .dataframe tbody tr th {\n",
       "        vertical-align: top;\n",
       "    }\n",
       "\n",
       "    .dataframe thead th {\n",
       "        text-align: right;\n",
       "    }\n",
       "</style>\n",
       "<table border=\"1\" class=\"dataframe\">\n",
       "  <thead>\n",
       "    <tr style=\"text-align: right;\">\n",
       "      <th></th>\n",
       "      <th>creditscore</th>\n",
       "      <th>age</th>\n",
       "      <th>tenure</th>\n",
       "      <th>balance</th>\n",
       "      <th>numofproducts</th>\n",
       "      <th>hascrcard</th>\n",
       "      <th>isactivemember</th>\n",
       "      <th>estimatedsalary</th>\n",
       "      <th>exited</th>\n",
       "      <th>geography_Germany</th>\n",
       "      <th>geography_Spain</th>\n",
       "      <th>gender_Male</th>\n",
       "    </tr>\n",
       "  </thead>\n",
       "  <tbody>\n",
       "    <tr>\n",
       "      <th>0</th>\n",
       "      <td>619</td>\n",
       "      <td>42</td>\n",
       "      <td>2.0</td>\n",
       "      <td>0.00</td>\n",
       "      <td>1</td>\n",
       "      <td>1</td>\n",
       "      <td>1</td>\n",
       "      <td>101348.88</td>\n",
       "      <td>1</td>\n",
       "      <td>0</td>\n",
       "      <td>0</td>\n",
       "      <td>0</td>\n",
       "    </tr>\n",
       "    <tr>\n",
       "      <th>1</th>\n",
       "      <td>608</td>\n",
       "      <td>41</td>\n",
       "      <td>1.0</td>\n",
       "      <td>83807.86</td>\n",
       "      <td>1</td>\n",
       "      <td>0</td>\n",
       "      <td>1</td>\n",
       "      <td>112542.58</td>\n",
       "      <td>0</td>\n",
       "      <td>0</td>\n",
       "      <td>1</td>\n",
       "      <td>0</td>\n",
       "    </tr>\n",
       "    <tr>\n",
       "      <th>2</th>\n",
       "      <td>502</td>\n",
       "      <td>42</td>\n",
       "      <td>8.0</td>\n",
       "      <td>159660.80</td>\n",
       "      <td>3</td>\n",
       "      <td>1</td>\n",
       "      <td>0</td>\n",
       "      <td>113931.57</td>\n",
       "      <td>1</td>\n",
       "      <td>0</td>\n",
       "      <td>0</td>\n",
       "      <td>0</td>\n",
       "    </tr>\n",
       "    <tr>\n",
       "      <th>3</th>\n",
       "      <td>699</td>\n",
       "      <td>39</td>\n",
       "      <td>1.0</td>\n",
       "      <td>0.00</td>\n",
       "      <td>2</td>\n",
       "      <td>0</td>\n",
       "      <td>0</td>\n",
       "      <td>93826.63</td>\n",
       "      <td>0</td>\n",
       "      <td>0</td>\n",
       "      <td>0</td>\n",
       "      <td>0</td>\n",
       "    </tr>\n",
       "    <tr>\n",
       "      <th>4</th>\n",
       "      <td>850</td>\n",
       "      <td>43</td>\n",
       "      <td>2.0</td>\n",
       "      <td>125510.82</td>\n",
       "      <td>1</td>\n",
       "      <td>1</td>\n",
       "      <td>1</td>\n",
       "      <td>79084.10</td>\n",
       "      <td>0</td>\n",
       "      <td>0</td>\n",
       "      <td>1</td>\n",
       "      <td>0</td>\n",
       "    </tr>\n",
       "  </tbody>\n",
       "</table>\n",
       "</div>"
      ],
      "text/plain": [
       "   creditscore  age  tenure    balance  numofproducts  hascrcard  \\\n",
       "0          619   42     2.0       0.00              1          1   \n",
       "1          608   41     1.0   83807.86              1          0   \n",
       "2          502   42     8.0  159660.80              3          1   \n",
       "3          699   39     1.0       0.00              2          0   \n",
       "4          850   43     2.0  125510.82              1          1   \n",
       "\n",
       "   isactivemember  estimatedsalary  exited  geography_Germany  \\\n",
       "0               1        101348.88       1                  0   \n",
       "1               1        112542.58       0                  0   \n",
       "2               0        113931.57       1                  0   \n",
       "3               0         93826.63       0                  0   \n",
       "4               1         79084.10       0                  0   \n",
       "\n",
       "   geography_Spain  gender_Male  \n",
       "0                0            0  \n",
       "1                1            0  \n",
       "2                0            0  \n",
       "3                0            0  \n",
       "4                1            0  "
      ]
     },
     "execution_count": 18,
     "metadata": {},
     "output_type": "execute_result"
    }
   ],
   "source": [
    "data_ohe.head()"
   ]
  },
  {
   "cell_type": "code",
   "execution_count": 16,
   "metadata": {},
   "outputs": [],
   "source": [
    "numeric = ['creditscore', 'age', 'tenure', 'balance', 'numofproducts', 'isactivemember', 'estimatedsalary', 'geography_Germany', 'geography_Spain', 'gender_Male']\n",
    "scaler = StandardScaler()\n",
    "scaler.fit(features_train[numeric])\n",
    "features_train[numeric] = scaler.transform(features_train[numeric])\n",
    "features_valid[numeric] = scaler.transform(features_valid[numeric])\n",
    "test_features[numeric] = scaler.transform(test_features[numeric])\n",
    "pd.options.mode.chained_assignment = None # чтобы убрать предупреждение"
   ]
  },
  {
   "cell_type": "markdown",
   "metadata": {},
   "source": [
    "## Исследование задачи"
   ]
  },
  {
   "cell_type": "code",
   "execution_count": 17,
   "metadata": {},
   "outputs": [
    {
     "data": {
      "image/png": "[encoded data removed]",
      "text/plain": [
       "<Figure size 432x288 with 1 Axes>"
      ]
     },
     "metadata": {
      "needs_background": "light"
     },
     "output_type": "display_data"
    }
   ],
   "source": [
    "data_ohe['exited'].value_counts().plot(kind='bar',grid=True,title='отток клиентов')\n",
    "plt.show()"
   ]
  },
  {
   "cell_type": "markdown",
   "metadata": {},
   "source": [
    "Видно, что отток клиентов описывается соотношением 1:4 (остались-ушли). Присутствует дисбаланс классов. "
   ]
  },
  {
   "cell_type": "markdown",
   "metadata": {},
   "source": [
    "### Строим модель без учета баланса: "
   ]
  },
  {
   "cell_type": "markdown",
   "metadata": {},
   "source": [
    "#### Обучение с помощью модели решающее дерево"
   ]
  },
  {
   "cell_type": "markdown",
   "metadata": {},
   "source": [
    "Определим F1-меру, как одну из мер, которая оценивает качество прогноза положительного класса с разных позиций (полнота и точность) на модели решающее дерево, выберем лучшее значение f1 для максимальной глубины:"
   ]
  },
  {
   "cell_type": "code",
   "execution_count": 18,
   "metadata": {},
   "outputs": [
    {
     "name": "stdout",
     "output_type": "stream",
     "text": [
      "F1 лучшей модели решающее дерево: 0.5583596214511041 максимальная глубина: 7\n"
     ]
    }
   ],
   "source": [
    "best_result_tree = 0\n",
    "best_depth_tree = 0\n",
    "for depth in range(1,20):\n",
    "    model_tree = DecisionTreeClassifier(random_state=12345, max_depth=depth)\n",
    "    model_tree.fit(features_train, target_train)\n",
    "    predicted_tree_valid = model_tree.predict(features_valid)\n",
    "    result_tree = f1_score(target_valid, predicted_tree_valid)\n",
    "    if result_tree > best_result_tree:\n",
    "            best_result_tree = result_tree\n",
    "            best_depth_tree = depth\n",
    "print('F1 лучшей модели решающее дерево:', best_result_tree,\n",
    "      'максимальная глубина:', best_depth_tree)"
   ]
  },
  {
   "cell_type": "markdown",
   "metadata": {},
   "source": [
    "#### Обучение с помощью модели Случайный лес"
   ]
  },
  {
   "cell_type": "markdown",
   "metadata": {},
   "source": [
    "Определим f1 для модели случайный лес. Найдем лучшее значение f1, подобрав количество деревьев и глубину: "
   ]
  },
  {
   "cell_type": "code",
   "execution_count": 19,
   "metadata": {},
   "outputs": [
    {
     "name": "stdout",
     "output_type": "stream",
     "text": [
      "F1 лучшей модели случайный лес: 0.573228346456693 количество деревьев: 71 максимальная глубина: 21\n"
     ]
    }
   ],
   "source": [
    "best_result_forest = 0\n",
    "best_est_forest = 0\n",
    "best_depth_forest = 0\n",
    "for est in range(1, 100, 10):\n",
    "    for depth in range(1, 100, 10):\n",
    "        model_forest = RandomForestClassifier(random_state=1245, n_estimators=est, max_depth=depth)\n",
    "        model_forest.fit(features_train, target_train)\n",
    "        predicted_forest_valid = model_forest.predict(features_valid)\n",
    "        result_forest = f1_score(target_valid, predicted_forest_valid)\n",
    "        if result_forest > best_result_forest:\n",
    "            best_result_forest = result_forest\n",
    "            best_est_forest = est\n",
    "            best_depth_forest = depth\n",
    "print('F1 лучшей модели случайный лес:', best_result_forest,\n",
    "     'количество деревьев:', best_est_forest,\n",
    "     'максимальная глубина:', best_depth_forest)"
   ]
  },
  {
   "cell_type": "markdown",
   "metadata": {},
   "source": [
    "#### Обучение с помощью модели логистическая регрессия"
   ]
  },
  {
   "cell_type": "code",
   "execution_count": 20,
   "metadata": {},
   "outputs": [
    {
     "name": "stdout",
     "output_type": "stream",
     "text": [
      "F1 модели логистическая регрессия: 0.30131826741996237\n"
     ]
    }
   ],
   "source": [
    "model_logistic=LogisticRegression()\n",
    "model_logistic.fit(features_train,target_train)\n",
    "prediction_logistic_valid=model_logistic.predict(features_valid)\n",
    "result_logistic=f1_score(target_valid, prediction_logistic_valid)\n",
    "print('F1 модели логистическая регрессия:', result_logistic)"
   ]
  },
  {
   "cell_type": "markdown",
   "metadata": {},
   "source": [
    "Вывод: при рассмотрении данных с дисбалансом, самой лучшей моделью оказалась модель Случайный лес: мера f1 (среднее гармоническое полноты и точности) равна 0.5168539325842697 количество деревьев: 51 максимальная глубина: 81. "
   ]
  },
  {
   "cell_type": "markdown",
   "metadata": {},
   "source": [
    "## Борьба с дисбалансом"
   ]
  },
  {
   "cell_type": "markdown",
   "metadata": {},
   "source": [
    "- Используем взвешивание классов на методе логистическая регрессия: "
   ]
  },
  {
   "cell_type": "code",
   "execution_count": 21,
   "metadata": {},
   "outputs": [
    {
     "name": "stdout",
     "output_type": "stream",
     "text": [
      "F1 модели логистическая регрессия с использованием взвешивания классов: 0.47500000000000003\n"
     ]
    }
   ],
   "source": [
    "model_logistic_disb = LogisticRegression(random_state=12345, solver='liblinear', class_weight='balanced')\n",
    "model_logistic_disb.fit(features_train, target_train)\n",
    "predicted_disb_valid = model_logistic_disb.predict(features_valid)\n",
    "result_disb_logistic = f1_score(target_valid, predicted_disb_valid)\n",
    "print(\"F1 модели логистическая регрессия с использованием взвешивания классов:\", result_disb_logistic)"
   ]
  },
  {
   "cell_type": "markdown",
   "metadata": {},
   "source": [
    "- Используем метод увеличения выборки (upsampling)"
   ]
  },
  {
   "cell_type": "markdown",
   "metadata": {},
   "source": [
    "Объектов отрицательного класса больше. Продублируем объекты положительного класса и объединим их с объектами отрицательного класса."
   ]
  },
  {
   "cell_type": "code",
   "execution_count": 22,
   "metadata": {},
   "outputs": [],
   "source": [
    "def upsample(features, target, repeat): \n",
    "    features_zeros = features_train[target_train == 0] #  разделим обучающую выборку на отрицательные и положительные объекты\n",
    "    features_ones = features_train[target_train == 1]\n",
    "    target_zeros = target_train[target_train == 0]\n",
    "    target_ones = target_train[target_train == 1]\n",
    "    \n",
    "    features_upsampled = pd.concat([features_zeros] + [features_ones] * repeat)\n",
    "    target_upsampled = pd.concat([target_zeros] + [target_ones] * repeat)\n",
    "    \n",
    "    features_upsampled, target_upsampled = shuffle(features_upsampled, target_upsampled, random_state=12345) \n",
    "    return features_upsampled, target_upsampled \n",
    "\n",
    "features_upsampled, target_upsampled = upsample(features_train, target_train, 10)"
   ]
  },
  {
   "cell_type": "code",
   "execution_count": 23,
   "metadata": {},
   "outputs": [
    {
     "name": "stdout",
     "output_type": "stream",
     "text": [
      "(16971, 11)\n",
      "(16971,)\n"
     ]
    }
   ],
   "source": [
    "print(features_upsampled.shape) # напечатаем размеры реобразованных выборок\n",
    "print(target_upsampled.shape)"
   ]
  },
  {
   "cell_type": "markdown",
   "metadata": {},
   "source": [
    "- Используем метод уменьшения выборки (downsampling)"
   ]
  },
  {
   "cell_type": "code",
   "execution_count": 24,
   "metadata": {},
   "outputs": [],
   "source": [
    "def downsample(features, target, fraction):\n",
    "    features_zeros = features[target == 0]\n",
    "    features_ones = features[target == 1]\n",
    "    target_zeros = target[target == 0]\n",
    "    target_ones = target[target == 1]\n",
    "\n",
    "    features_downsampled = pd.concat([features_zeros.sample(frac=fraction, random_state=12345)] + [features_ones])\n",
    "    target_downsampled = pd.concat([target_zeros.sample(frac=fraction, random_state=12345)] + [target_ones])\n",
    "    \n",
    "    features_downsampled, target_downsampled = shuffle(features_downsampled, target_downsampled, random_state=12345)\n",
    "    \n",
    "    return features_downsampled, target_downsampled\n",
    "\n",
    "features_downsampled, target_downsampled = downsample(features_train, target_train, 0.1)"
   ]
  },
  {
   "cell_type": "markdown",
   "metadata": {},
   "source": [
    "В борьбе с дисбалансом рассмотрим методы взвешивания классов, увеличения выборки (upsampling), уменьшения выборки (downsampling). "
   ]
  },
  {
   "cell_type": "markdown",
   "metadata": {},
   "source": [
    "Проведем изучение на моделях после балансирования:"
   ]
  },
  {
   "cell_type": "markdown",
   "metadata": {},
   "source": [
    "### Проведем обучение на примере модели Решающее дерево с учетом дисбаланса:"
   ]
  },
  {
   "cell_type": "markdown",
   "metadata": {},
   "source": [
    " - - применим увеличение выборки"
   ]
  },
  {
   "cell_type": "code",
   "execution_count": 25,
   "metadata": {},
   "outputs": [
    {
     "name": "stdout",
     "output_type": "stream",
     "text": [
      "F1 лучшей модели решающее дерево с учетом дисбаланса: 0.4869186046511628 максимальная глубина: 5\n"
     ]
    }
   ],
   "source": [
    "best_result_1 = 0\n",
    "best_depth_1 = 0\n",
    "for depth in range(1,20):\n",
    "    model_tree_disb_1 = DecisionTreeClassifier(random_state=12345, max_depth=depth)\n",
    "    model_tree_disb_1.fit(features_upsampled, target_upsampled)\n",
    "    predicted_disb_1_tree_valid = model_tree_disb_1.predict(features_valid)\n",
    "    result_tree_disb_1 = f1_score(target_valid, predicted_disb_1_tree_valid)\n",
    "    if result_tree_disb_1 > best_result_1:\n",
    "            best_result_1 = result_tree_disb_1\n",
    "            best_depth_1 = depth\n",
    "print('F1 лучшей модели решающее дерево с учетом дисбаланса:', best_result_1,\n",
    "      'максимальная глубина:', best_depth_1)"
   ]
  },
  {
   "cell_type": "markdown",
   "metadata": {},
   "source": [
    "- - применим уменьшение выборки"
   ]
  },
  {
   "cell_type": "code",
   "execution_count": 26,
   "metadata": {},
   "outputs": [
    {
     "name": "stdout",
     "output_type": "stream",
     "text": [
      "F1 лучшей модели решающее дерево с учетом дисбаланса: 0.5156626506024097 максимальная глубина: 5\n"
     ]
    }
   ],
   "source": [
    "best_result_2 = 0\n",
    "best_depth_2 = 0\n",
    "for depth in range(1,50):\n",
    "    model_tree_disb_2 = DecisionTreeClassifier(random_state=12345, max_depth=depth)\n",
    "    model_tree_disb_2.fit(features_downsampled, target_downsampled)\n",
    "    predicted_disb_2_tree_valid = model_tree_disb_2.predict(features_valid)\n",
    "    result_tree_disb_2 = f1_score(target_valid, predicted_disb_2_tree_valid)\n",
    "    if result_tree_disb_2 > best_result_2:\n",
    "            best_result_2 = result_tree_disb_2\n",
    "            best_depth_2 = depth\n",
    "print('F1 лучшей модели решающее дерево с учетом дисбаланса:', best_result_2,\n",
    "      'максимальная глубина:', best_depth_2)"
   ]
  },
  {
   "cell_type": "markdown",
   "metadata": {},
   "source": [
    "### Проведем обучение на примере модели Случайный лес с учетом дисбаланса:"
   ]
  },
  {
   "cell_type": "markdown",
   "metadata": {},
   "source": [
    "- - применим увеличение выборки"
   ]
  },
  {
   "cell_type": "code",
   "execution_count": 27,
   "metadata": {},
   "outputs": [
    {
     "name": "stdout",
     "output_type": "stream",
     "text": [
      "F1 лучшей модели случайный лес с учетом дисбаланса: 0.5856353591160222\n"
     ]
    }
   ],
   "source": [
    "model_forest_disb_1 = RandomForestClassifier(random_state=1245, n_estimators=91, max_depth=21)\n",
    "model_forest_disb_1.fit(features_upsampled, target_upsampled)\n",
    "predicted_forest_valid_1 = model_forest_disb_1.predict(features_valid)\n",
    "result_forest_disb_1 = f1_score(target_valid, predicted_forest_valid_1)\n",
    "print('F1 лучшей модели случайный лес с учетом дисбаланса:', result_forest_disb_1)"
   ]
  },
  {
   "cell_type": "markdown",
   "metadata": {},
   "source": [
    "- - применим уменьшение выборки"
   ]
  },
  {
   "cell_type": "code",
   "execution_count": 28,
   "metadata": {},
   "outputs": [
    {
     "name": "stdout",
     "output_type": "stream",
     "text": [
      "F1 лучшей модели случайный лес с учетом дисбаланса: 0.4716855429713524\n"
     ]
    }
   ],
   "source": [
    "model_forest_disb_2 = RandomForestClassifier(random_state=1245, n_estimators=51, max_depth=81)\n",
    "model_forest_disb_2.fit(features_downsampled, target_downsampled)\n",
    "predicted_forest_valid_2 = model_forest_disb_2.predict(features_valid)\n",
    "result_forest_disb_2 = f1_score(target_valid, predicted_forest_valid_2)\n",
    "print('F1 лучшей модели случайный лес с учетом дисбаланса:', result_forest_disb_2)"
   ]
  },
  {
   "cell_type": "markdown",
   "metadata": {},
   "source": [
    "### Проведем обучение на примере модели Линейная регрессия с учетом дисбаланса:"
   ]
  },
  {
   "cell_type": "markdown",
   "metadata": {},
   "source": [
    "- - увеличение выборки:"
   ]
  },
  {
   "cell_type": "code",
   "execution_count": 29,
   "metadata": {},
   "outputs": [
    {
     "name": "stdout",
     "output_type": "stream",
     "text": [
      "F1 модели логистическая регрессия с использованием увеличения выборки: 0.4052863436123348\n"
     ]
    }
   ],
   "source": [
    "model_logistic_disb_2 = LogisticRegression(solver = 'liblinear', random_state=12345)\n",
    "model_logistic_disb_2.fit(features_upsampled, target_upsampled)\n",
    "predicted_disb2_valid = model_logistic_disb_2.predict(features_valid)\n",
    "result_disb2_logistic = f1_score(target_valid, predicted_disb2_valid)\n",
    "print(\"F1 модели логистическая регрессия с использованием увеличения выборки:\", result_disb2_logistic)"
   ]
  },
  {
   "cell_type": "markdown",
   "metadata": {},
   "source": [
    "- - уменьшение выборки"
   ]
  },
  {
   "cell_type": "code",
   "execution_count": 30,
   "metadata": {},
   "outputs": [
    {
     "name": "stdout",
     "output_type": "stream",
     "text": [
      "F1 модели логистическая регрессия с использованием уменьшения выборки:: 0.4064768285873814\n"
     ]
    }
   ],
   "source": [
    "model_logistic_disb_3 = LogisticRegression(solver = 'liblinear', random_state=12345)\n",
    "model_logistic_disb_2.fit(features_downsampled, target_downsampled)\n",
    "predicted_disb3_valid = model_logistic_disb_2.predict(features_valid)\n",
    "result_disb3_logistic = f1_score(target_valid, predicted_disb3_valid)\n",
    "print(\"F1 модели логистическая регрессия с использованием уменьшения выборки::\", result_disb3_logistic)"
   ]
  },
  {
   "cell_type": "markdown",
   "metadata": {},
   "source": [
    "### Исследование метрики AUC-ROC"
   ]
  },
  {
   "cell_type": "markdown",
   "metadata": {},
   "source": [
    "- Исследуем для модели Логистическая регрессия: "
   ]
  },
  {
   "cell_type": "code",
   "execution_count": 31,
   "metadata": {},
   "outputs": [
    {
     "name": "stdout",
     "output_type": "stream",
     "text": [
      "для логистической регрессии AUC-ROC равно 0.7703025977597242\n"
     ]
    }
   ],
   "source": [
    "probabilities_valid_model_logistic = model_logistic.predict_proba(features_valid)\n",
    "probabilities_one_valid_model_logistic = probabilities_valid_model_logistic[:, 1]\n",
    "\n",
    "auc_roc_model_logistic = roc_auc_score(target_valid, probabilities_one_valid_model_logistic)\n",
    "print('для логистической регрессии AUC-ROC равно', auc_roc_model_logistic)"
   ]
  },
  {
   "cell_type": "code",
   "execution_count": 32,
   "metadata": {},
   "outputs": [],
   "source": [
    "fpr_log, tpr_log, thresholds_log = roc_curve(target_valid, probabilities_one_valid_model_logistic)"
   ]
  },
  {
   "cell_type": "markdown",
   "metadata": {},
   "source": [
    "- Исследуем для модели Решающее дерево:"
   ]
  },
  {
   "cell_type": "code",
   "execution_count": 33,
   "metadata": {},
   "outputs": [
    {
     "name": "stdout",
     "output_type": "stream",
     "text": [
      "для решающего девева AUC-ROC равно 0.6900665851770492\n"
     ]
    }
   ],
   "source": [
    "probabilities__valid_model_tree=model_tree.predict_proba(features_valid)\n",
    "probabilities_one_valid_tree=probabilities__valid_model_tree[:,1]\n",
    "\n",
    "auc_roc_model_tree = roc_auc_score(target_valid, probabilities_one_valid_tree)\n",
    "print('для решающего девева AUC-ROC равно', auc_roc_model_tree)"
   ]
  },
  {
   "cell_type": "code",
   "execution_count": 34,
   "metadata": {},
   "outputs": [],
   "source": [
    "fpr_tree, tpr_tree, thresholds_tree = roc_curve(target_valid, probabilities_one_valid_tree)"
   ]
  },
  {
   "cell_type": "markdown",
   "metadata": {},
   "source": [
    "- Исследуем для модели Случайный лес:"
   ]
  },
  {
   "cell_type": "code",
   "execution_count": 35,
   "metadata": {},
   "outputs": [
    {
     "name": "stdout",
     "output_type": "stream",
     "text": [
      "для случайного леса AUC-ROC равно 0.840153452685422\n"
     ]
    }
   ],
   "source": [
    "probabilities__valid_model_forest=model_forest.predict_proba(features_valid)\n",
    "probabilities_one_valid_forest=probabilities__valid_model_forest[:,1]\n",
    "\n",
    "auc_roc_model_forest = roc_auc_score(target_valid, probabilities_one_valid_forest)\n",
    "print('для случайного леса AUC-ROC равно', auc_roc_model_forest)"
   ]
  },
  {
   "cell_type": "code",
   "execution_count": 36,
   "metadata": {},
   "outputs": [],
   "source": [
    "fpr_forest, tpr_forest, thresholds_forest = roc_curve(target_valid, probabilities_one_valid_forest)"
   ]
  },
  {
   "cell_type": "code",
   "execution_count": 37,
   "metadata": {},
   "outputs": [
    {
     "data": {
      "image/png": "[encoded data removed]",
      "text/plain": [
       "<Figure size 432x288 with 1 Axes>"
      ]
     },
     "metadata": {
      "needs_background": "light"
     },
     "output_type": "display_data"
    }
   ],
   "source": [
    "plt.figure()\n",
    "plt.plot(fpr_log, tpr_log)\n",
    "plt.plot(fpr_tree, tpr_tree)\n",
    "plt.plot(fpr_forest, tpr_forest)\n",
    "plt.xlim([0.0, 1.0])\n",
    "plt.ylim([0.0, 1.0])\n",
    "plt.xlabel('False Positive Rate')\n",
    "plt.ylabel('True Positive Rate')\n",
    "plt.title('ROC-кривая моделей')\n",
    "plt.legend(('Логистическая регрессия','Решающее дерево', 'Случайный лес'),\n",
    "           loc= 'upper left') \n",
    "plt.show() "
   ]
  },
  {
   "cell_type": "markdown",
   "metadata": {},
   "source": [
    "### Вывод: \n",
    "Значение площади под кривой. На сколько наша модель отличается от случайной. \n",
    "\n",
    "Лучшее значение метрики auc roc = 0.8065897183396057 у модели Случайный лес"
   ]
  },
  {
   "cell_type": "code",
   "execution_count": 38,
   "metadata": {},
   "outputs": [],
   "source": [
    "table = {'Решающее дерево':np.array([best_result_tree, best_result_2, auc_roc_model_tree]),\n",
    "         'Случайный лес':np.array([best_result_forest, result_forest_disb_1, auc_roc_model_forest]),\n",
    "         'Логистическая регрессия':np.array([result_logistic, result_disb2_logistic, auc_roc_model_logistic])}\n",
    "rezult_df=pd.DataFrame(table,index=['f1 без дисбаланса','f1 с учетом дисбаланса', 'AUC-ROC'])"
   ]
  },
  {
   "cell_type": "code",
   "execution_count": 39,
   "metadata": {},
   "outputs": [
    {
     "data": {
      "text/html": [
       "<div>\n",
       "<style scoped>\n",
       "    .dataframe tbody tr th:only-of-type {\n",
       "        vertical-align: middle;\n",
       "    }\n",
       "\n",
       "    .dataframe tbody tr th {\n",
       "        vertical-align: top;\n",
       "    }\n",
       "\n",
       "    .dataframe thead th {\n",
       "        text-align: right;\n",
       "    }\n",
       "</style>\n",
       "<table border=\"1\" class=\"dataframe\">\n",
       "  <thead>\n",
       "    <tr style=\"text-align: right;\">\n",
       "      <th></th>\n",
       "      <th>Решающее дерево</th>\n",
       "      <th>Случайный лес</th>\n",
       "      <th>Логистическая регрессия</th>\n",
       "    </tr>\n",
       "  </thead>\n",
       "  <tbody>\n",
       "    <tr>\n",
       "      <th>f1 без дисбаланса</th>\n",
       "      <td>0.558360</td>\n",
       "      <td>0.573228</td>\n",
       "      <td>0.301318</td>\n",
       "    </tr>\n",
       "    <tr>\n",
       "      <th>f1 с учетом дисбаланса</th>\n",
       "      <td>0.515663</td>\n",
       "      <td>0.585635</td>\n",
       "      <td>0.405286</td>\n",
       "    </tr>\n",
       "    <tr>\n",
       "      <th>AUC-ROC</th>\n",
       "      <td>0.690067</td>\n",
       "      <td>0.840153</td>\n",
       "      <td>0.770303</td>\n",
       "    </tr>\n",
       "  </tbody>\n",
       "</table>\n",
       "</div>"
      ],
      "text/plain": [
       "                        Решающее дерево  Случайный лес  \\\n",
       "f1 без дисбаланса              0.558360       0.573228   \n",
       "f1 с учетом дисбаланса         0.515663       0.585635   \n",
       "AUC-ROC                        0.690067       0.840153   \n",
       "\n",
       "                        Логистическая регрессия  \n",
       "f1 без дисбаланса                      0.301318  \n",
       "f1 с учетом дисбаланса                 0.405286  \n",
       "AUC-ROC                                0.770303  "
      ]
     },
     "execution_count": 39,
     "metadata": {},
     "output_type": "execute_result"
    }
   ],
   "source": [
    "rezult_df"
   ]
  },
  {
   "cell_type": "markdown",
   "metadata": {},
   "source": [
    "## Тестирование модели"
   ]
  },
  {
   "cell_type": "code",
   "execution_count": 40,
   "metadata": {},
   "outputs": [
    {
     "name": "stdout",
     "output_type": "stream",
     "text": [
      "F1 модели решающее дерево с использованием увеличения выборки: 0.4908675799086758\n"
     ]
    }
   ],
   "source": [
    "# Решающее дерево:\n",
    "predicted_test_tree1 = model_tree_disb_1.predict(test_features)\n",
    "result_test_tree1 = f1_score(test_target, predicted_test_tree1)\n",
    "print(\"F1 модели решающее дерево с использованием увеличения выборки:\", result_test_tree1)"
   ]
  },
  {
   "cell_type": "code",
   "execution_count": 41,
   "metadata": {},
   "outputs": [
    {
     "name": "stdout",
     "output_type": "stream",
     "text": [
      "F1 модели случайный лес с использованием увеличения выборки: 0.5930680359435174\n"
     ]
    }
   ],
   "source": [
    "# Случайный лес: \n",
    "predicted_test = model_forest_disb_1.predict(test_features)\n",
    "result_test = f1_score(test_target, predicted_test)\n",
    "print(\"F1 модели случайный лес с использованием увеличения выборки:\", result_test)"
   ]
  },
  {
   "cell_type": "code",
   "execution_count": 42,
   "metadata": {},
   "outputs": [
    {
     "name": "stdout",
     "output_type": "stream",
     "text": [
      "F1 модели случайный лес с использованием увеличения выборки: 0.49209361163820364\n"
     ]
    }
   ],
   "source": [
    "predicted_test2 = model_forest_disb_2.predict(test_features)\n",
    "result_test2 = f1_score(test_target, predicted_test2)\n",
    "print(\"F1 модели случайный лес с использованием увеличения выборки:\", result_test2)"
   ]
  },
  {
   "cell_type": "markdown",
   "metadata": {},
   "source": [
    "Определим метрику AUC-ROC для тестовой выборки на модели Случайный лес"
   ]
  },
  {
   "cell_type": "code",
   "execution_count": 43,
   "metadata": {},
   "outputs": [
    {
     "name": "stdout",
     "output_type": "stream",
     "text": [
      "для случайного леса AUC-ROC равно 0.8528714206806606\n"
     ]
    }
   ],
   "source": [
    "probabilities__test_model_forest=model_forest_disb_1.predict_proba(test_features)\n",
    "probabilities_one_test_forest=probabilities__test_model_forest[:,1]\n",
    "\n",
    "auc_roc_model_forest_test = roc_auc_score(test_target, probabilities_one_test_forest)\n",
    "print('для случайного леса AUC-ROC равно', auc_roc_model_forest_test)"
   ]
  },
  {
   "cell_type": "markdown",
   "metadata": {},
   "source": [
    "# Общий вывод: "
   ]
  },
  {
   "cell_type": "markdown",
   "metadata": {},
   "source": [
    "- Рассмотрев три модели: Решающее дерево, Случайный лес и Логистическая регрессия с учетом отсутствия баланса классов и с балансом. Можно сделать вывод о том, что наилучший вариант меры f1 на тестовой выборке данных показала модель Случайный лес с балансом классов при применении увеличения выборки, а также с гиперпараметрами: количество деревьев: 91 максимальная глубина: 21. Мера f1 равна 0.5930680359435174"
   ]
  },
  {
   "cell_type": "markdown",
   "metadata": {},
   "source": [
    "- метрика AUC-ROC для тестовой выборки на модели Случайный лес равна 0.8528714206806606. "
   ]
  },
  {
   "cell_type": "markdown",
   "metadata": {},
   "source": [
    "## Чек-лист готовности проекта"
   ]
  },
  {
   "cell_type": "markdown",
   "metadata": {},
   "source": [
    "Поставьте 'x' в выполненных пунктах. Далее нажмите Shift+Enter."
   ]
  },
  {
   "cell_type": "markdown",
   "metadata": {},
   "source": [
    "- [x]  Jupyter Notebook открыт\n",
    "- [x]  Весь код выполняется без ошибок\n",
    "- [x]  Ячейки с кодом расположены в порядке исполнения\n",
    "- [x]  Выполнен шаг 1: данные подготовлены\n",
    "- [x]  Выполнен шаг 2: задача исследована\n",
    "    - [x]  Исследован баланс классов\n",
    "    - [x]  Изучены модели без учёта дисбаланса\n",
    "    - [x]  Написаны выводы по результатам исследования\n",
    "- [x]  Выполнен шаг 3: учтён дисбаланс\n",
    "    - [x]  Применено несколько способов борьбы с дисбалансом\n",
    "    - [x]  Написаны выводы по результатам исследования\n",
    "- [x]  Выполнен шаг 4: проведено тестирование\n",
    "- [x]  Удалось достичь *F1*-меры не менее 0.59\n",
    "- [x]  Исследована метрика *AUC-ROC*"
   ]
  }
 ],
 "metadata": {
  "ExecuteTimeLog": [
   {
    "duration": 1286,
    "start_time": "2022-03-15T17:41:21.982Z"
   },
   {
    "duration": 38,
    "start_time": "2022-03-15T17:43:30.772Z"
   },
   {
    "duration": 13,
    "start_time": "2022-03-15T17:43:49.646Z"
   },
   {
    "duration": 6,
    "start_time": "2022-03-15T17:58:25.273Z"
   },
   {
    "duration": 11,
    "start_time": "2022-03-15T17:58:34.772Z"
   },
   {
    "duration": 41,
    "start_time": "2022-03-15T17:58:45.488Z"
   },
   {
    "duration": 13,
    "start_time": "2022-03-15T17:58:57.778Z"
   },
   {
    "duration": 9,
    "start_time": "2022-03-15T17:59:12.163Z"
   },
   {
    "duration": 465,
    "start_time": "2022-03-15T18:02:59.070Z"
   },
   {
    "duration": 15,
    "start_time": "2022-03-15T18:03:38.307Z"
   },
   {
    "duration": 5,
    "start_time": "2022-03-15T18:06:07.278Z"
   },
   {
    "duration": 6,
    "start_time": "2022-03-15T18:08:24.897Z"
   },
   {
    "duration": 5,
    "start_time": "2022-03-15T18:09:39.157Z"
   },
   {
    "duration": 31,
    "start_time": "2022-03-15T18:12:36.045Z"
   },
   {
    "duration": 6,
    "start_time": "2022-03-15T18:15:24.806Z"
   },
   {
    "duration": 6,
    "start_time": "2022-03-15T18:15:40.627Z"
   },
   {
    "duration": 46,
    "start_time": "2022-03-17T16:40:42.547Z"
   },
   {
    "duration": 6,
    "start_time": "2022-03-17T17:16:02.852Z"
   },
   {
    "duration": 5,
    "start_time": "2022-03-17T17:16:35.552Z"
   },
   {
    "duration": 6,
    "start_time": "2022-03-17T17:16:45.794Z"
   },
   {
    "duration": 1134,
    "start_time": "2022-03-17T17:17:01.801Z"
   },
   {
    "duration": 24,
    "start_time": "2022-03-17T17:17:02.937Z"
   },
   {
    "duration": 14,
    "start_time": "2022-03-17T17:17:02.962Z"
   },
   {
    "duration": 4,
    "start_time": "2022-03-17T17:17:02.978Z"
   },
   {
    "duration": 12,
    "start_time": "2022-03-17T17:17:02.984Z"
   },
   {
    "duration": 9,
    "start_time": "2022-03-17T17:17:02.997Z"
   },
   {
    "duration": 26,
    "start_time": "2022-03-17T17:17:03.007Z"
   },
   {
    "duration": 15,
    "start_time": "2022-03-17T17:17:03.035Z"
   },
   {
    "duration": 4,
    "start_time": "2022-03-17T17:17:03.051Z"
   },
   {
    "duration": 21,
    "start_time": "2022-03-17T17:17:03.056Z"
   },
   {
    "duration": 7,
    "start_time": "2022-03-17T17:17:03.079Z"
   },
   {
    "duration": 88,
    "start_time": "2022-03-17T17:25:11.258Z"
   },
   {
    "duration": 2,
    "start_time": "2022-03-17T17:25:44.192Z"
   },
   {
    "duration": 2,
    "start_time": "2022-03-17T17:25:50.525Z"
   },
   {
    "duration": 33,
    "start_time": "2022-03-17T17:25:52.594Z"
   },
   {
    "duration": 21,
    "start_time": "2022-03-17T17:26:04.266Z"
   },
   {
    "duration": 19,
    "start_time": "2022-03-17T17:26:29.710Z"
   },
   {
    "duration": 17,
    "start_time": "2022-03-17T17:32:35.856Z"
   },
   {
    "duration": 21,
    "start_time": "2022-03-17T17:45:32.783Z"
   },
   {
    "duration": 21,
    "start_time": "2022-03-17T17:46:17.924Z"
   },
   {
    "duration": 3,
    "start_time": "2022-03-17T17:46:38.847Z"
   },
   {
    "duration": 19,
    "start_time": "2022-03-17T17:46:44.979Z"
   },
   {
    "duration": 3,
    "start_time": "2022-03-17T17:48:07.926Z"
   },
   {
    "duration": 22,
    "start_time": "2022-03-17T17:48:10.031Z"
   },
   {
    "duration": 8,
    "start_time": "2022-03-17T17:48:34.195Z"
   },
   {
    "duration": 11,
    "start_time": "2022-03-17T17:48:46.783Z"
   },
   {
    "duration": 18,
    "start_time": "2022-03-17T17:52:23.220Z"
   },
   {
    "duration": 2,
    "start_time": "2022-03-17T18:22:43.138Z"
   },
   {
    "duration": 3,
    "start_time": "2022-03-17T18:22:54.915Z"
   },
   {
    "duration": 32,
    "start_time": "2022-03-17T18:22:56.692Z"
   },
   {
    "duration": 17,
    "start_time": "2022-03-17T18:23:29.104Z"
   },
   {
    "duration": 8,
    "start_time": "2022-03-17T18:23:39.455Z"
   },
   {
    "duration": 4,
    "start_time": "2022-03-17T18:23:44.354Z"
   },
   {
    "duration": 4,
    "start_time": "2022-03-17T18:23:46.878Z"
   },
   {
    "duration": 6,
    "start_time": "2022-03-17T18:23:49.045Z"
   },
   {
    "duration": 19,
    "start_time": "2022-03-17T18:23:51.598Z"
   },
   {
    "duration": 8,
    "start_time": "2022-03-17T18:23:57.147Z"
   },
   {
    "duration": 8,
    "start_time": "2022-03-17T18:24:08.352Z"
   },
   {
    "duration": 4,
    "start_time": "2022-03-17T18:24:12.953Z"
   },
   {
    "duration": 4,
    "start_time": "2022-03-17T18:24:15.297Z"
   },
   {
    "duration": 6,
    "start_time": "2022-03-17T18:24:18.330Z"
   },
   {
    "duration": 55,
    "start_time": "2022-03-17T18:24:20.963Z"
   },
   {
    "duration": 6,
    "start_time": "2022-03-17T18:24:22.958Z"
   },
   {
    "duration": 8,
    "start_time": "2022-03-17T18:37:50.173Z"
   },
   {
    "duration": 3,
    "start_time": "2022-03-17T18:38:03.655Z"
   },
   {
    "duration": 8,
    "start_time": "2022-03-17T18:38:08.486Z"
   },
   {
    "duration": 5,
    "start_time": "2022-03-17T18:38:17.150Z"
   },
   {
    "duration": 4,
    "start_time": "2022-03-17T18:38:23.722Z"
   },
   {
    "duration": 4,
    "start_time": "2022-03-17T18:38:28.301Z"
   },
   {
    "duration": 3,
    "start_time": "2022-03-17T18:39:24.831Z"
   },
   {
    "duration": 2,
    "start_time": "2022-03-17T18:39:51.285Z"
   },
   {
    "duration": 8,
    "start_time": "2022-03-17T18:41:08.624Z"
   },
   {
    "duration": 5,
    "start_time": "2022-03-17T18:41:14.972Z"
   },
   {
    "duration": 3,
    "start_time": "2022-03-17T18:41:33.906Z"
   },
   {
    "duration": 3,
    "start_time": "2022-03-17T18:43:05.767Z"
   },
   {
    "duration": 5,
    "start_time": "2022-03-17T18:44:22.807Z"
   },
   {
    "duration": 2,
    "start_time": "2022-03-17T18:44:43.523Z"
   },
   {
    "duration": 48,
    "start_time": "2022-03-18T16:03:57.186Z"
   },
   {
    "duration": 1110,
    "start_time": "2022-03-18T16:05:34.359Z"
   },
   {
    "duration": 4,
    "start_time": "2022-03-18T16:05:39.717Z"
   },
   {
    "duration": 42,
    "start_time": "2022-03-18T16:05:39.722Z"
   },
   {
    "duration": 13,
    "start_time": "2022-03-18T16:05:39.765Z"
   },
   {
    "duration": 10,
    "start_time": "2022-03-18T16:05:39.779Z"
   },
   {
    "duration": 21,
    "start_time": "2022-03-18T16:05:39.791Z"
   },
   {
    "duration": 3,
    "start_time": "2022-03-18T16:05:39.814Z"
   },
   {
    "duration": 45,
    "start_time": "2022-03-18T16:05:39.819Z"
   },
   {
    "duration": 18,
    "start_time": "2022-03-18T16:05:39.865Z"
   },
   {
    "duration": 8,
    "start_time": "2022-03-18T16:05:39.885Z"
   },
   {
    "duration": 10,
    "start_time": "2022-03-18T16:05:39.894Z"
   },
   {
    "duration": 12,
    "start_time": "2022-03-18T16:05:39.905Z"
   },
   {
    "duration": 19,
    "start_time": "2022-03-18T16:05:39.919Z"
   },
   {
    "duration": 83,
    "start_time": "2022-03-18T16:05:39.941Z"
   },
   {
    "duration": 61,
    "start_time": "2022-03-18T16:05:40.028Z"
   },
   {
    "duration": 0,
    "start_time": "2022-03-18T16:05:40.090Z"
   },
   {
    "duration": 0,
    "start_time": "2022-03-18T16:05:40.091Z"
   },
   {
    "duration": 0,
    "start_time": "2022-03-18T16:05:40.092Z"
   },
   {
    "duration": 6,
    "start_time": "2022-03-18T16:07:02.198Z"
   },
   {
    "duration": 3,
    "start_time": "2022-03-18T16:07:08.510Z"
   },
   {
    "duration": 7,
    "start_time": "2022-03-18T16:07:20.345Z"
   },
   {
    "duration": 4,
    "start_time": "2022-03-18T16:10:00.198Z"
   },
   {
    "duration": 3,
    "start_time": "2022-03-18T16:10:03.434Z"
   },
   {
    "duration": 29,
    "start_time": "2022-03-18T16:10:03.439Z"
   },
   {
    "duration": 11,
    "start_time": "2022-03-18T16:10:03.469Z"
   },
   {
    "duration": 4,
    "start_time": "2022-03-18T16:10:03.482Z"
   },
   {
    "duration": 13,
    "start_time": "2022-03-18T16:10:03.487Z"
   },
   {
    "duration": 5,
    "start_time": "2022-03-18T16:10:03.501Z"
   },
   {
    "duration": 47,
    "start_time": "2022-03-18T16:10:03.508Z"
   },
   {
    "duration": 17,
    "start_time": "2022-03-18T16:10:03.556Z"
   },
   {
    "duration": 9,
    "start_time": "2022-03-18T16:10:03.574Z"
   },
   {
    "duration": 4,
    "start_time": "2022-03-18T16:10:03.585Z"
   },
   {
    "duration": 13,
    "start_time": "2022-03-18T16:10:03.590Z"
   },
   {
    "duration": 13,
    "start_time": "2022-03-18T16:10:03.604Z"
   },
   {
    "duration": 65,
    "start_time": "2022-03-18T16:10:03.619Z"
   },
   {
    "duration": 5,
    "start_time": "2022-03-18T16:10:03.686Z"
   },
   {
    "duration": 7,
    "start_time": "2022-03-18T16:10:03.692Z"
   },
   {
    "duration": 4821,
    "start_time": "2022-03-18T16:10:03.701Z"
   },
   {
    "duration": 505,
    "start_time": "2022-03-18T16:12:05.950Z"
   },
   {
    "duration": 10762,
    "start_time": "2022-03-18T16:41:53.847Z"
   },
   {
    "duration": 94479,
    "start_time": "2022-03-18T16:43:04.451Z"
   },
   {
    "duration": 7923,
    "start_time": "2022-03-18T16:44:45.042Z"
   },
   {
    "duration": 37,
    "start_time": "2022-03-18T16:46:58.711Z"
   },
   {
    "duration": 34,
    "start_time": "2022-03-18T16:47:05.820Z"
   },
   {
    "duration": 8320,
    "start_time": "2022-03-18T16:47:24.398Z"
   },
   {
    "duration": 1784,
    "start_time": "2022-03-18T16:48:39.034Z"
   },
   {
    "duration": 459,
    "start_time": "2022-03-18T16:49:31.991Z"
   },
   {
    "duration": 8474,
    "start_time": "2022-03-18T16:52:57.674Z"
   },
   {
    "duration": 2085,
    "start_time": "2022-03-19T08:54:35.706Z"
   },
   {
    "duration": 47,
    "start_time": "2022-03-19T08:54:37.795Z"
   },
   {
    "duration": 18,
    "start_time": "2022-03-19T08:54:37.844Z"
   },
   {
    "duration": 7,
    "start_time": "2022-03-19T08:54:37.864Z"
   },
   {
    "duration": 17,
    "start_time": "2022-03-19T08:54:37.873Z"
   },
   {
    "duration": 3,
    "start_time": "2022-03-19T08:54:37.892Z"
   },
   {
    "duration": 87,
    "start_time": "2022-03-19T08:54:37.897Z"
   },
   {
    "duration": 30,
    "start_time": "2022-03-19T08:54:37.986Z"
   },
   {
    "duration": 25,
    "start_time": "2022-03-19T08:54:38.018Z"
   },
   {
    "duration": 6,
    "start_time": "2022-03-19T08:54:38.045Z"
   },
   {
    "duration": 6,
    "start_time": "2022-03-19T08:54:38.053Z"
   },
   {
    "duration": 8,
    "start_time": "2022-03-19T08:54:38.061Z"
   },
   {
    "duration": 127,
    "start_time": "2022-03-19T08:54:38.071Z"
   },
   {
    "duration": 7,
    "start_time": "2022-03-19T08:54:38.202Z"
   },
   {
    "duration": 688,
    "start_time": "2022-03-19T08:54:38.211Z"
   },
   {
    "duration": 13407,
    "start_time": "2022-03-19T08:54:38.901Z"
   },
   {
    "duration": 142,
    "start_time": "2022-03-19T09:31:20.654Z"
   },
   {
    "duration": 5,
    "start_time": "2022-03-19T09:31:48.852Z"
   },
   {
    "duration": 11,
    "start_time": "2022-03-19T09:31:54.425Z"
   },
   {
    "duration": 4,
    "start_time": "2022-03-19T09:33:44.381Z"
   },
   {
    "duration": 24,
    "start_time": "2022-03-19T09:33:50.577Z"
   },
   {
    "duration": 5,
    "start_time": "2022-03-19T09:34:18.339Z"
   },
   {
    "duration": 5,
    "start_time": "2022-03-19T09:34:21.761Z"
   },
   {
    "duration": 953,
    "start_time": "2022-03-19T09:34:44.256Z"
   },
   {
    "duration": 188,
    "start_time": "2022-03-19T09:35:11.002Z"
   },
   {
    "duration": 191,
    "start_time": "2022-03-19T09:35:57.976Z"
   },
   {
    "duration": 210,
    "start_time": "2022-03-19T09:36:15.763Z"
   },
   {
    "duration": 195,
    "start_time": "2022-03-19T09:37:31.735Z"
   },
   {
    "duration": 263,
    "start_time": "2022-03-19T09:37:43.819Z"
   },
   {
    "duration": 198,
    "start_time": "2022-03-19T09:38:06.912Z"
   },
   {
    "duration": 282,
    "start_time": "2022-03-19T10:00:59.002Z"
   },
   {
    "duration": 284,
    "start_time": "2022-03-19T10:01:02.232Z"
   },
   {
    "duration": 39,
    "start_time": "2022-03-19T10:01:07.832Z"
   },
   {
    "duration": 6,
    "start_time": "2022-03-19T10:07:43.121Z"
   },
   {
    "duration": 16,
    "start_time": "2022-03-19T10:12:57.713Z"
   },
   {
    "duration": 13,
    "start_time": "2022-03-19T10:13:03.585Z"
   },
   {
    "duration": 11,
    "start_time": "2022-03-19T10:13:45.435Z"
   },
   {
    "duration": 185,
    "start_time": "2022-03-19T10:14:11.487Z"
   },
   {
    "duration": 5,
    "start_time": "2022-03-19T10:14:14.937Z"
   },
   {
    "duration": 31,
    "start_time": "2022-03-19T10:14:39.473Z"
   },
   {
    "duration": 5,
    "start_time": "2022-03-19T10:15:05.772Z"
   },
   {
    "duration": 7,
    "start_time": "2022-03-19T10:21:10.907Z"
   },
   {
    "duration": 31,
    "start_time": "2022-03-19T10:22:12.656Z"
   },
   {
    "duration": 22,
    "start_time": "2022-03-19T10:22:18.344Z"
   },
   {
    "duration": 22,
    "start_time": "2022-03-19T10:23:21.842Z"
   },
   {
    "duration": 29,
    "start_time": "2022-03-19T10:23:50.509Z"
   },
   {
    "duration": 80,
    "start_time": "2022-03-19T10:32:39.998Z"
   },
   {
    "duration": 4,
    "start_time": "2022-03-19T10:33:00.757Z"
   },
   {
    "duration": 201,
    "start_time": "2022-03-19T10:39:02.942Z"
   },
   {
    "duration": 447,
    "start_time": "2022-03-19T10:43:15.583Z"
   },
   {
    "duration": 6,
    "start_time": "2022-03-19T10:43:17.798Z"
   },
   {
    "duration": 33,
    "start_time": "2022-03-19T10:43:21.890Z"
   },
   {
    "duration": 5,
    "start_time": "2022-03-19T10:43:24.091Z"
   },
   {
    "duration": 23,
    "start_time": "2022-03-19T10:43:26.968Z"
   },
   {
    "duration": 6,
    "start_time": "2022-03-19T10:44:01.266Z"
   },
   {
    "duration": 55,
    "start_time": "2022-03-19T10:44:01.275Z"
   },
   {
    "duration": 23,
    "start_time": "2022-03-19T10:44:01.333Z"
   },
   {
    "duration": 29,
    "start_time": "2022-03-19T10:44:01.359Z"
   },
   {
    "duration": 45,
    "start_time": "2022-03-19T10:44:01.392Z"
   },
   {
    "duration": 324,
    "start_time": "2022-03-19T10:44:01.439Z"
   },
   {
    "duration": 4,
    "start_time": "2022-03-19T10:44:01.765Z"
   },
   {
    "duration": 77,
    "start_time": "2022-03-19T10:44:01.771Z"
   },
   {
    "duration": 420,
    "start_time": "2022-03-19T10:44:01.851Z"
   },
   {
    "duration": 7,
    "start_time": "2022-03-19T10:44:02.274Z"
   },
   {
    "duration": 32,
    "start_time": "2022-03-19T10:44:02.283Z"
   },
   {
    "duration": 5,
    "start_time": "2022-03-19T10:44:02.318Z"
   },
   {
    "duration": 20,
    "start_time": "2022-03-19T10:44:02.344Z"
   },
   {
    "duration": 0,
    "start_time": "2022-03-19T10:44:02.367Z"
   },
   {
    "duration": 0,
    "start_time": "2022-03-19T10:44:02.368Z"
   },
   {
    "duration": 0,
    "start_time": "2022-03-19T10:44:02.370Z"
   },
   {
    "duration": 0,
    "start_time": "2022-03-19T10:44:02.373Z"
   },
   {
    "duration": 398,
    "start_time": "2022-03-19T10:44:51.550Z"
   },
   {
    "duration": 18,
    "start_time": "2022-03-19T10:45:16.150Z"
   },
   {
    "duration": 209,
    "start_time": "2022-03-19T10:45:27.912Z"
   },
   {
    "duration": 7293,
    "start_time": "2022-03-19T10:45:36.795Z"
   },
   {
    "duration": 1644,
    "start_time": "2022-03-19T10:46:10.925Z"
   },
   {
    "duration": 36,
    "start_time": "2022-03-19T10:46:12.572Z"
   },
   {
    "duration": 19,
    "start_time": "2022-03-19T10:46:12.610Z"
   },
   {
    "duration": 14,
    "start_time": "2022-03-19T10:46:12.632Z"
   },
   {
    "duration": 18,
    "start_time": "2022-03-19T10:46:12.648Z"
   },
   {
    "duration": 311,
    "start_time": "2022-03-19T10:46:12.669Z"
   },
   {
    "duration": 4,
    "start_time": "2022-03-19T10:46:12.982Z"
   },
   {
    "duration": 64,
    "start_time": "2022-03-19T10:46:12.987Z"
   },
   {
    "duration": 433,
    "start_time": "2022-03-19T10:46:13.053Z"
   },
   {
    "duration": 6,
    "start_time": "2022-03-19T10:46:13.490Z"
   },
   {
    "duration": 53,
    "start_time": "2022-03-19T10:46:13.497Z"
   },
   {
    "duration": 5,
    "start_time": "2022-03-19T10:46:13.552Z"
   },
   {
    "duration": 169,
    "start_time": "2022-03-19T10:46:13.559Z"
   },
   {
    "duration": 0,
    "start_time": "2022-03-19T10:46:13.730Z"
   },
   {
    "duration": 0,
    "start_time": "2022-03-19T10:46:13.731Z"
   },
   {
    "duration": 0,
    "start_time": "2022-03-19T10:46:13.732Z"
   },
   {
    "duration": 0,
    "start_time": "2022-03-19T10:46:13.734Z"
   },
   {
    "duration": 595,
    "start_time": "2022-03-19T10:46:24.735Z"
   },
   {
    "duration": 7377,
    "start_time": "2022-03-19T10:46:30.739Z"
   },
   {
    "duration": 43,
    "start_time": "2022-03-19T10:47:33.426Z"
   },
   {
    "duration": 198,
    "start_time": "2022-03-19T10:47:38.237Z"
   },
   {
    "duration": 7550,
    "start_time": "2022-03-19T10:47:46.376Z"
   },
   {
    "duration": 7,
    "start_time": "2022-03-19T10:48:41.945Z"
   },
   {
    "duration": 42,
    "start_time": "2022-03-19T10:50:15.363Z"
   },
   {
    "duration": 35,
    "start_time": "2022-03-19T10:51:11.476Z"
   },
   {
    "duration": 4,
    "start_time": "2022-03-19T10:56:26.470Z"
   },
   {
    "duration": 38,
    "start_time": "2022-03-19T10:56:33.451Z"
   },
   {
    "duration": 4,
    "start_time": "2022-03-19T10:57:00.770Z"
   },
   {
    "duration": 3,
    "start_time": "2022-03-19T10:57:04.984Z"
   },
   {
    "duration": 1663,
    "start_time": "2022-03-19T10:58:58.003Z"
   },
   {
    "duration": 38,
    "start_time": "2022-03-19T10:58:59.669Z"
   },
   {
    "duration": 18,
    "start_time": "2022-03-19T10:58:59.709Z"
   },
   {
    "duration": 16,
    "start_time": "2022-03-19T10:58:59.729Z"
   },
   {
    "duration": 20,
    "start_time": "2022-03-19T10:58:59.748Z"
   },
   {
    "duration": 325,
    "start_time": "2022-03-19T10:58:59.771Z"
   },
   {
    "duration": 4,
    "start_time": "2022-03-19T10:59:00.098Z"
   },
   {
    "duration": 9,
    "start_time": "2022-03-19T10:59:00.104Z"
   },
   {
    "duration": 89,
    "start_time": "2022-03-19T10:59:00.115Z"
   },
   {
    "duration": 4,
    "start_time": "2022-03-19T10:59:00.207Z"
   },
   {
    "duration": 654,
    "start_time": "2022-03-19T10:59:00.213Z"
   },
   {
    "duration": 7,
    "start_time": "2022-03-19T10:59:00.869Z"
   },
   {
    "duration": 49,
    "start_time": "2022-03-19T10:59:00.879Z"
   },
   {
    "duration": 5,
    "start_time": "2022-03-19T10:59:00.944Z"
   },
   {
    "duration": 80,
    "start_time": "2022-03-19T10:59:00.951Z"
   },
   {
    "duration": 797,
    "start_time": "2022-03-19T10:59:01.034Z"
   },
   {
    "duration": 4,
    "start_time": "2022-03-19T10:59:01.833Z"
   },
   {
    "duration": 7184,
    "start_time": "2022-03-19T10:59:01.839Z"
   },
   {
    "duration": 26621,
    "start_time": "2022-03-19T10:59:09.025Z"
   },
   {
    "duration": 47305,
    "start_time": "2022-03-19T11:04:30.145Z"
   },
   {
    "duration": 84643,
    "start_time": "2022-03-19T11:05:47.464Z"
   },
   {
    "duration": 85330,
    "start_time": "2022-03-19T11:11:19.405Z"
   },
   {
    "duration": 11296,
    "start_time": "2022-03-19T11:12:56.252Z"
   },
   {
    "duration": 653,
    "start_time": "2022-03-19T11:58:27.921Z"
   },
   {
    "duration": 684,
    "start_time": "2022-03-19T11:58:38.861Z"
   },
   {
    "duration": 664,
    "start_time": "2022-03-19T11:58:51.884Z"
   },
   {
    "duration": 136,
    "start_time": "2022-03-19T12:10:17.374Z"
   },
   {
    "duration": 141,
    "start_time": "2022-03-19T12:11:02.238Z"
   },
   {
    "duration": 6,
    "start_time": "2022-03-19T12:11:34.515Z"
   },
   {
    "duration": 13,
    "start_time": "2022-03-19T12:20:15.856Z"
   },
   {
    "duration": 210,
    "start_time": "2022-03-19T12:20:19.405Z"
   },
   {
    "duration": 7,
    "start_time": "2022-03-19T12:20:34.955Z"
   },
   {
    "duration": 596,
    "start_time": "2022-03-19T12:20:41.120Z"
   },
   {
    "duration": 5,
    "start_time": "2022-03-19T12:20:43.606Z"
   },
   {
    "duration": 680,
    "start_time": "2022-03-19T12:21:35.478Z"
   },
   {
    "duration": 1681,
    "start_time": "2022-03-19T12:24:59.387Z"
   },
   {
    "duration": 192,
    "start_time": "2022-03-19T12:30:27.463Z"
   },
   {
    "duration": 254,
    "start_time": "2022-03-19T12:32:05.803Z"
   },
   {
    "duration": 191,
    "start_time": "2022-03-19T12:32:07.968Z"
   },
   {
    "duration": 213,
    "start_time": "2022-03-19T12:32:09.531Z"
   },
   {
    "duration": 22,
    "start_time": "2022-03-19T12:53:58.463Z"
   },
   {
    "duration": 41,
    "start_time": "2022-03-19T12:54:08.165Z"
   },
   {
    "duration": 176,
    "start_time": "2022-03-19T12:57:01.318Z"
   },
   {
    "duration": 17227,
    "start_time": "2022-03-19T13:01:02.410Z"
   },
   {
    "duration": 17140,
    "start_time": "2022-03-19T13:02:39.537Z"
   },
   {
    "duration": 17358,
    "start_time": "2022-03-19T13:03:08.647Z"
   },
   {
    "duration": 168,
    "start_time": "2022-03-19T13:03:52.781Z"
   },
   {
    "duration": 17096,
    "start_time": "2022-03-19T13:04:49.743Z"
   },
   {
    "duration": 2215,
    "start_time": "2022-03-19T13:05:57.951Z"
   },
   {
    "duration": 18587,
    "start_time": "2022-03-19T13:07:05.978Z"
   },
   {
    "duration": 17440,
    "start_time": "2022-03-19T13:07:30.937Z"
   },
   {
    "duration": 2191,
    "start_time": "2022-03-19T13:07:48.380Z"
   },
   {
    "duration": 172,
    "start_time": "2022-03-19T13:09:23.521Z"
   },
   {
    "duration": 321,
    "start_time": "2022-03-19T13:09:44.777Z"
   },
   {
    "duration": 231823,
    "start_time": "2022-03-19T13:17:21.047Z"
   },
   {
    "duration": 201,
    "start_time": "2022-03-19T13:21:12.872Z"
   },
   {
    "duration": 0,
    "start_time": "2022-03-19T13:21:13.076Z"
   },
   {
    "duration": 41248,
    "start_time": "2022-03-19T13:21:28.466Z"
   },
   {
    "duration": 1685,
    "start_time": "2022-03-19T13:22:54.477Z"
   },
   {
    "duration": 276,
    "start_time": "2022-03-19T13:23:53.481Z"
   },
   {
    "duration": 268,
    "start_time": "2022-03-19T13:25:16.490Z"
   },
   {
    "duration": 5,
    "start_time": "2022-03-19T13:42:05.892Z"
   },
   {
    "duration": 96,
    "start_time": "2022-03-19T13:53:06.759Z"
   },
   {
    "duration": 12,
    "start_time": "2022-03-19T13:55:12.072Z"
   },
   {
    "duration": 74,
    "start_time": "2022-03-19T13:55:23.230Z"
   },
   {
    "duration": 60,
    "start_time": "2022-03-19T13:55:34.345Z"
   },
   {
    "duration": 13,
    "start_time": "2022-03-19T13:56:52.483Z"
   },
   {
    "duration": 8,
    "start_time": "2022-03-19T13:57:11.079Z"
   },
   {
    "duration": 19,
    "start_time": "2022-03-19T13:57:17.521Z"
   },
   {
    "duration": 6,
    "start_time": "2022-03-19T13:57:31.128Z"
   },
   {
    "duration": 194,
    "start_time": "2022-03-19T13:57:36.836Z"
   },
   {
    "duration": 195,
    "start_time": "2022-03-19T13:58:25.985Z"
   },
   {
    "duration": 150,
    "start_time": "2022-03-19T14:00:26.099Z"
   },
   {
    "duration": 5,
    "start_time": "2022-03-19T14:00:30.135Z"
   },
   {
    "duration": 6,
    "start_time": "2022-03-19T14:01:22.157Z"
   },
   {
    "duration": 194,
    "start_time": "2022-03-19T14:02:16.825Z"
   },
   {
    "duration": 240,
    "start_time": "2022-03-19T14:03:00.871Z"
   },
   {
    "duration": 331,
    "start_time": "2022-03-19T14:03:22.878Z"
   },
   {
    "duration": 78,
    "start_time": "2022-03-19T14:05:21.340Z"
   },
   {
    "duration": 5,
    "start_time": "2022-03-19T14:05:52.803Z"
   },
   {
    "duration": 247,
    "start_time": "2022-03-19T14:06:23.118Z"
   },
   {
    "duration": 2120,
    "start_time": "2022-03-19T14:12:00.653Z"
   },
   {
    "duration": 36,
    "start_time": "2022-03-19T14:12:02.776Z"
   },
   {
    "duration": 18,
    "start_time": "2022-03-19T14:12:02.815Z"
   },
   {
    "duration": 17,
    "start_time": "2022-03-19T14:12:02.835Z"
   },
   {
    "duration": 16,
    "start_time": "2022-03-19T14:12:02.856Z"
   },
   {
    "duration": 302,
    "start_time": "2022-03-19T14:12:02.874Z"
   },
   {
    "duration": 3,
    "start_time": "2022-03-19T14:12:03.179Z"
   },
   {
    "duration": 62,
    "start_time": "2022-03-19T14:12:03.185Z"
   },
   {
    "duration": 3,
    "start_time": "2022-03-19T14:12:03.249Z"
   },
   {
    "duration": 489,
    "start_time": "2022-03-19T14:12:03.254Z"
   },
   {
    "duration": 9,
    "start_time": "2022-03-19T14:12:03.746Z"
   },
   {
    "duration": 38,
    "start_time": "2022-03-19T14:12:03.760Z"
   },
   {
    "duration": 3,
    "start_time": "2022-03-19T14:12:03.800Z"
   },
   {
    "duration": 74,
    "start_time": "2022-03-19T14:12:03.807Z"
   },
   {
    "duration": 265,
    "start_time": "2022-03-19T14:12:03.883Z"
   },
   {
    "duration": 7583,
    "start_time": "2022-03-19T14:12:04.152Z"
   },
   {
    "duration": 540,
    "start_time": "2022-03-19T14:12:11.746Z"
   },
   {
    "duration": 0,
    "start_time": "2022-03-19T14:12:12.289Z"
   },
   {
    "duration": 0,
    "start_time": "2022-03-19T14:12:12.293Z"
   },
   {
    "duration": 0,
    "start_time": "2022-03-19T14:12:12.296Z"
   },
   {
    "duration": 0,
    "start_time": "2022-03-19T14:12:12.298Z"
   },
   {
    "duration": 1,
    "start_time": "2022-03-19T14:12:12.300Z"
   },
   {
    "duration": 0,
    "start_time": "2022-03-19T14:12:12.303Z"
   },
   {
    "duration": 0,
    "start_time": "2022-03-19T14:12:12.304Z"
   },
   {
    "duration": 0,
    "start_time": "2022-03-19T14:12:12.308Z"
   },
   {
    "duration": 0,
    "start_time": "2022-03-19T14:12:12.310Z"
   },
   {
    "duration": 0,
    "start_time": "2022-03-19T14:12:12.349Z"
   },
   {
    "duration": 0,
    "start_time": "2022-03-19T14:12:12.351Z"
   },
   {
    "duration": 0,
    "start_time": "2022-03-19T14:12:12.353Z"
   },
   {
    "duration": 0,
    "start_time": "2022-03-19T14:12:12.357Z"
   },
   {
    "duration": 0,
    "start_time": "2022-03-19T14:12:12.358Z"
   },
   {
    "duration": 0,
    "start_time": "2022-03-19T14:12:12.360Z"
   },
   {
    "duration": 0,
    "start_time": "2022-03-19T14:12:12.362Z"
   },
   {
    "duration": 1,
    "start_time": "2022-03-19T14:12:12.363Z"
   },
   {
    "duration": 0,
    "start_time": "2022-03-19T14:12:12.366Z"
   },
   {
    "duration": 5,
    "start_time": "2022-03-19T14:14:25.860Z"
   },
   {
    "duration": 22,
    "start_time": "2022-03-19T14:14:58.568Z"
   },
   {
    "duration": 40,
    "start_time": "2022-03-19T14:15:04.764Z"
   },
   {
    "duration": 40,
    "start_time": "2022-03-19T14:15:14.266Z"
   },
   {
    "duration": 203,
    "start_time": "2022-03-19T14:15:32.521Z"
   },
   {
    "duration": 93911,
    "start_time": "2022-03-19T14:16:46.785Z"
   },
   {
    "duration": 10646,
    "start_time": "2022-03-19T14:20:35.717Z"
   },
   {
    "duration": 769,
    "start_time": "2022-03-19T14:20:46.377Z"
   },
   {
    "duration": 676,
    "start_time": "2022-03-19T14:20:47.150Z"
   },
   {
    "duration": 12,
    "start_time": "2022-03-19T14:20:47.830Z"
   },
   {
    "duration": 299,
    "start_time": "2022-03-19T14:20:47.848Z"
   },
   {
    "duration": 19081,
    "start_time": "2022-03-19T14:20:48.151Z"
   },
   {
    "duration": 109,
    "start_time": "2022-03-19T14:21:07.235Z"
   },
   {
    "duration": 0,
    "start_time": "2022-03-19T14:21:07.348Z"
   },
   {
    "duration": 0,
    "start_time": "2022-03-19T14:21:07.351Z"
   },
   {
    "duration": 0,
    "start_time": "2022-03-19T14:21:07.353Z"
   },
   {
    "duration": 0,
    "start_time": "2022-03-19T14:21:07.355Z"
   },
   {
    "duration": 0,
    "start_time": "2022-03-19T14:21:07.358Z"
   },
   {
    "duration": 0,
    "start_time": "2022-03-19T14:21:07.360Z"
   },
   {
    "duration": 0,
    "start_time": "2022-03-19T14:21:07.361Z"
   },
   {
    "duration": 0,
    "start_time": "2022-03-19T14:21:07.365Z"
   },
   {
    "duration": 0,
    "start_time": "2022-03-19T14:21:07.368Z"
   },
   {
    "duration": 1,
    "start_time": "2022-03-19T14:21:07.369Z"
   },
   {
    "duration": 0,
    "start_time": "2022-03-19T14:21:07.371Z"
   },
   {
    "duration": 0,
    "start_time": "2022-03-19T14:21:07.376Z"
   },
   {
    "duration": 2226,
    "start_time": "2022-03-19T14:22:24.788Z"
   },
   {
    "duration": 5168,
    "start_time": "2022-03-19T14:22:54.034Z"
   },
   {
    "duration": 9268,
    "start_time": "2022-03-19T14:23:09.796Z"
   },
   {
    "duration": 3256,
    "start_time": "2022-03-19T14:23:26.609Z"
   },
   {
    "duration": 11,
    "start_time": "2022-03-19T14:24:23.268Z"
   },
   {
    "duration": 584,
    "start_time": "2022-03-19T14:24:30.048Z"
   },
   {
    "duration": 5,
    "start_time": "2022-03-19T14:24:32.052Z"
   },
   {
    "duration": 803,
    "start_time": "2022-03-19T14:24:50.925Z"
   },
   {
    "duration": 6,
    "start_time": "2022-03-19T14:24:53.187Z"
   },
   {
    "duration": 38995,
    "start_time": "2022-03-19T14:29:08.680Z"
   },
   {
    "duration": 229098,
    "start_time": "2022-03-19T14:29:47.677Z"
   },
   {
    "duration": 12,
    "start_time": "2022-03-19T14:33:37.130Z"
   },
   {
    "duration": 6,
    "start_time": "2022-03-19T14:33:37.180Z"
   },
   {
    "duration": 10,
    "start_time": "2022-03-19T14:33:37.189Z"
   },
   {
    "duration": 2061,
    "start_time": "2022-03-19T14:34:26.330Z"
   },
   {
    "duration": 37,
    "start_time": "2022-03-19T14:34:28.395Z"
   },
   {
    "duration": 35,
    "start_time": "2022-03-19T14:34:28.435Z"
   },
   {
    "duration": 6,
    "start_time": "2022-03-19T14:34:28.472Z"
   },
   {
    "duration": 13,
    "start_time": "2022-03-19T14:34:28.481Z"
   },
   {
    "duration": 356,
    "start_time": "2022-03-19T14:34:28.496Z"
   },
   {
    "duration": 8,
    "start_time": "2022-03-19T14:34:28.855Z"
   },
   {
    "duration": 88,
    "start_time": "2022-03-19T14:34:28.866Z"
   },
   {
    "duration": 6,
    "start_time": "2022-03-19T14:34:28.957Z"
   },
   {
    "duration": 10,
    "start_time": "2022-03-19T14:34:28.966Z"
   },
   {
    "duration": 50,
    "start_time": "2022-03-19T14:34:28.979Z"
   },
   {
    "duration": 219,
    "start_time": "2022-03-19T14:34:29.031Z"
   },
   {
    "duration": 191,
    "start_time": "2022-03-19T14:34:29.253Z"
   },
   {
    "duration": 0,
    "start_time": "2022-03-19T14:34:29.448Z"
   },
   {
    "duration": 0,
    "start_time": "2022-03-19T14:34:29.450Z"
   },
   {
    "duration": 0,
    "start_time": "2022-03-19T14:34:29.453Z"
   },
   {
    "duration": 0,
    "start_time": "2022-03-19T14:34:29.455Z"
   },
   {
    "duration": 0,
    "start_time": "2022-03-19T14:34:29.457Z"
   },
   {
    "duration": 0,
    "start_time": "2022-03-19T14:34:29.458Z"
   },
   {
    "duration": 0,
    "start_time": "2022-03-19T14:34:29.460Z"
   },
   {
    "duration": 0,
    "start_time": "2022-03-19T14:34:29.462Z"
   },
   {
    "duration": 0,
    "start_time": "2022-03-19T14:34:29.464Z"
   },
   {
    "duration": 0,
    "start_time": "2022-03-19T14:34:29.465Z"
   },
   {
    "duration": 0,
    "start_time": "2022-03-19T14:34:29.467Z"
   },
   {
    "duration": 0,
    "start_time": "2022-03-19T14:34:29.468Z"
   },
   {
    "duration": 0,
    "start_time": "2022-03-19T14:34:29.469Z"
   },
   {
    "duration": 0,
    "start_time": "2022-03-19T14:34:29.471Z"
   },
   {
    "duration": 0,
    "start_time": "2022-03-19T14:34:29.473Z"
   },
   {
    "duration": 0,
    "start_time": "2022-03-19T14:34:29.474Z"
   },
   {
    "duration": 0,
    "start_time": "2022-03-19T14:34:29.476Z"
   },
   {
    "duration": 0,
    "start_time": "2022-03-19T14:34:29.477Z"
   },
   {
    "duration": 0,
    "start_time": "2022-03-19T14:34:29.479Z"
   },
   {
    "duration": 74,
    "start_time": "2022-03-19T14:37:28.106Z"
   },
   {
    "duration": 240,
    "start_time": "2022-03-19T14:37:30.218Z"
   },
   {
    "duration": 11,
    "start_time": "2022-03-19T14:37:48.411Z"
   },
   {
    "duration": 6,
    "start_time": "2022-03-19T14:37:51.861Z"
   },
   {
    "duration": 38,
    "start_time": "2022-03-19T14:38:07.530Z"
   },
   {
    "duration": 230,
    "start_time": "2022-03-19T14:38:09.489Z"
   },
   {
    "duration": 28,
    "start_time": "2022-03-19T14:38:11.726Z"
   },
   {
    "duration": 63,
    "start_time": "2022-03-19T14:38:15.087Z"
   },
   {
    "duration": 2172,
    "start_time": "2022-03-19T14:38:37.904Z"
   },
   {
    "duration": 40,
    "start_time": "2022-03-19T14:38:40.079Z"
   },
   {
    "duration": 25,
    "start_time": "2022-03-19T14:38:40.122Z"
   },
   {
    "duration": 7,
    "start_time": "2022-03-19T14:38:40.150Z"
   },
   {
    "duration": 16,
    "start_time": "2022-03-19T14:38:40.160Z"
   },
   {
    "duration": 364,
    "start_time": "2022-03-19T14:38:40.179Z"
   },
   {
    "duration": 4,
    "start_time": "2022-03-19T14:38:40.545Z"
   },
   {
    "duration": 54,
    "start_time": "2022-03-19T14:38:40.551Z"
   },
   {
    "duration": 93,
    "start_time": "2022-03-19T14:38:40.607Z"
   },
   {
    "duration": 249,
    "start_time": "2022-03-19T14:38:40.704Z"
   },
   {
    "duration": 50,
    "start_time": "2022-03-19T14:38:40.955Z"
   },
   {
    "duration": 243,
    "start_time": "2022-03-19T14:38:41.008Z"
   },
   {
    "duration": 9171,
    "start_time": "2022-03-19T14:38:41.254Z"
   },
   {
    "duration": 19471,
    "start_time": "2022-03-19T14:38:50.427Z"
   },
   {
    "duration": 10751,
    "start_time": "2022-03-19T14:39:09.901Z"
   },
   {
    "duration": 792,
    "start_time": "2022-03-19T14:39:20.655Z"
   },
   {
    "duration": 772,
    "start_time": "2022-03-19T14:39:21.452Z"
   },
   {
    "duration": 5,
    "start_time": "2022-03-19T14:39:22.226Z"
   },
   {
    "duration": 263,
    "start_time": "2022-03-19T14:39:22.233Z"
   },
   {
    "duration": 22492,
    "start_time": "2022-03-19T14:39:22.498Z"
   },
   {
    "duration": 3817,
    "start_time": "2022-03-19T14:39:44.993Z"
   },
   {
    "duration": 236575,
    "start_time": "2022-03-19T14:39:48.813Z"
   },
   {
    "duration": 0,
    "start_time": "2022-03-19T14:43:45.391Z"
   },
   {
    "duration": 0,
    "start_time": "2022-03-19T14:43:45.393Z"
   },
   {
    "duration": 0,
    "start_time": "2022-03-19T14:43:45.395Z"
   },
   {
    "duration": 0,
    "start_time": "2022-03-19T14:43:45.397Z"
   },
   {
    "duration": 0,
    "start_time": "2022-03-19T14:43:45.398Z"
   },
   {
    "duration": 0,
    "start_time": "2022-03-19T14:43:45.400Z"
   },
   {
    "duration": 0,
    "start_time": "2022-03-19T14:43:45.401Z"
   },
   {
    "duration": 1,
    "start_time": "2022-03-19T14:43:45.402Z"
   },
   {
    "duration": 0,
    "start_time": "2022-03-19T14:43:45.404Z"
   },
   {
    "duration": 0,
    "start_time": "2022-03-19T14:43:45.406Z"
   },
   {
    "duration": 0,
    "start_time": "2022-03-19T14:43:45.408Z"
   },
   {
    "duration": 11,
    "start_time": "2022-03-19T14:54:34.905Z"
   },
   {
    "duration": 12,
    "start_time": "2022-03-19T14:56:05.605Z"
   },
   {
    "duration": 6,
    "start_time": "2022-03-19T14:56:20.727Z"
   },
   {
    "duration": 35,
    "start_time": "2022-03-19T14:57:47.964Z"
   },
   {
    "duration": 406,
    "start_time": "2022-03-19T14:57:55.462Z"
   },
   {
    "duration": 6,
    "start_time": "2022-03-19T14:57:57.737Z"
   },
   {
    "duration": 28,
    "start_time": "2022-03-19T15:01:05.466Z"
   },
   {
    "duration": 2248,
    "start_time": "2022-03-19T15:02:14.734Z"
   },
   {
    "duration": 38,
    "start_time": "2022-03-19T15:02:16.985Z"
   },
   {
    "duration": 28,
    "start_time": "2022-03-19T15:02:17.025Z"
   },
   {
    "duration": 8,
    "start_time": "2022-03-19T15:02:17.057Z"
   },
   {
    "duration": 20,
    "start_time": "2022-03-19T15:02:17.068Z"
   },
   {
    "duration": 314,
    "start_time": "2022-03-19T15:02:17.091Z"
   },
   {
    "duration": 4,
    "start_time": "2022-03-19T15:02:17.408Z"
   },
   {
    "duration": 73,
    "start_time": "2022-03-19T15:02:17.415Z"
   },
   {
    "duration": 86,
    "start_time": "2022-03-19T15:02:17.491Z"
   },
   {
    "duration": 504,
    "start_time": "2022-03-19T15:02:17.581Z"
   },
   {
    "duration": 7,
    "start_time": "2022-03-19T15:02:18.088Z"
   },
   {
    "duration": 55,
    "start_time": "2022-03-19T15:02:18.098Z"
   },
   {
    "duration": 49,
    "start_time": "2022-03-19T15:02:18.156Z"
   },
   {
    "duration": 238,
    "start_time": "2022-03-19T15:02:18.208Z"
   },
   {
    "duration": 8021,
    "start_time": "2022-03-19T15:02:18.450Z"
   },
   {
    "duration": 17142,
    "start_time": "2022-03-19T15:02:26.473Z"
   },
   {
    "duration": 10432,
    "start_time": "2022-03-19T15:02:43.618Z"
   },
   {
    "duration": 696,
    "start_time": "2022-03-19T15:02:54.062Z"
   },
   {
    "duration": 701,
    "start_time": "2022-03-19T15:02:54.762Z"
   },
   {
    "duration": 5,
    "start_time": "2022-03-19T15:02:55.466Z"
   },
   {
    "duration": 301,
    "start_time": "2022-03-19T15:02:55.473Z"
   },
   {
    "duration": 18855,
    "start_time": "2022-03-19T15:02:55.777Z"
   },
   {
    "duration": 3227,
    "start_time": "2022-03-19T15:03:14.635Z"
   },
   {
    "duration": 222189,
    "start_time": "2022-03-19T15:03:17.864Z"
   },
   {
    "duration": 36762,
    "start_time": "2022-03-19T15:07:00.057Z"
   },
   {
    "duration": 1846,
    "start_time": "2022-03-19T15:07:36.822Z"
   },
   {
    "duration": 317,
    "start_time": "2022-03-19T15:07:38.744Z"
   },
   {
    "duration": 200,
    "start_time": "2022-03-19T15:07:39.145Z"
   },
   {
    "duration": 8,
    "start_time": "2022-03-19T15:07:39.348Z"
   },
   {
    "duration": 64,
    "start_time": "2022-03-19T15:07:39.443Z"
   },
   {
    "duration": 6,
    "start_time": "2022-03-19T15:07:39.510Z"
   },
   {
    "duration": 112,
    "start_time": "2022-03-19T15:07:39.518Z"
   },
   {
    "duration": 13,
    "start_time": "2022-03-19T15:07:39.633Z"
   },
   {
    "duration": 262,
    "start_time": "2022-03-19T15:07:39.648Z"
   },
   {
    "duration": 3,
    "start_time": "2022-03-19T15:07:39.912Z"
   },
   {
    "duration": 25,
    "start_time": "2022-03-19T15:07:39.918Z"
   },
   {
    "duration": 10,
    "start_time": "2022-03-19T15:07:39.946Z"
   },
   {
    "duration": 423,
    "start_time": "2022-03-19T15:07:39.959Z"
   },
   {
    "duration": 383432,
    "start_time": "2022-03-19T15:13:53.601Z"
   },
   {
    "duration": 60551,
    "start_time": "2022-03-19T15:20:17.035Z"
   },
   {
    "duration": 63,
    "start_time": "2022-03-19T15:25:05.679Z"
   },
   {
    "duration": 7,
    "start_time": "2022-03-19T15:26:11.693Z"
   },
   {
    "duration": 7,
    "start_time": "2022-03-19T15:26:42.561Z"
   },
   {
    "duration": 7,
    "start_time": "2022-03-19T15:26:54.807Z"
   },
   {
    "duration": 43,
    "start_time": "2022-03-19T15:27:05.814Z"
   },
   {
    "duration": 10,
    "start_time": "2022-03-19T15:27:25.806Z"
   },
   {
    "duration": 7,
    "start_time": "2022-03-19T15:27:31.419Z"
   },
   {
    "duration": 40,
    "start_time": "2022-03-19T15:27:36.967Z"
   },
   {
    "duration": 39,
    "start_time": "2022-03-19T15:27:47.047Z"
   },
   {
    "duration": 8,
    "start_time": "2022-03-19T15:27:52.676Z"
   },
   {
    "duration": 7,
    "start_time": "2022-03-19T15:28:06.613Z"
   },
   {
    "duration": 61,
    "start_time": "2022-03-19T15:28:18.406Z"
   },
   {
    "duration": 9,
    "start_time": "2022-03-19T15:28:20.952Z"
   },
   {
    "duration": 37332,
    "start_time": "2022-03-19T15:39:34.193Z"
   },
   {
    "duration": 30257,
    "start_time": "2022-03-19T15:40:16.431Z"
   },
   {
    "duration": 30540,
    "start_time": "2022-03-19T15:43:16.998Z"
   },
   {
    "duration": 30513,
    "start_time": "2022-03-19T15:46:17.159Z"
   },
   {
    "duration": 29868,
    "start_time": "2022-03-19T15:46:57.357Z"
   },
   {
    "duration": 1688,
    "start_time": "2022-03-19T15:50:28.461Z"
   },
   {
    "duration": 370,
    "start_time": "2022-03-19T16:11:26.219Z"
   },
   {
    "duration": 194,
    "start_time": "2022-03-19T16:12:03.593Z"
   },
   {
    "duration": 270,
    "start_time": "2022-03-19T16:13:17.761Z"
   },
   {
    "duration": 9,
    "start_time": "2022-03-19T16:15:20.499Z"
   },
   {
    "duration": 52,
    "start_time": "2022-03-19T16:16:08.681Z"
   },
   {
    "duration": 9,
    "start_time": "2022-03-19T16:16:37.567Z"
   },
   {
    "duration": 53,
    "start_time": "2022-03-19T16:16:39.595Z"
   },
   {
    "duration": 2474,
    "start_time": "2022-03-19T16:21:23.557Z"
   },
   {
    "duration": 69,
    "start_time": "2022-03-19T16:21:26.035Z"
   },
   {
    "duration": 26,
    "start_time": "2022-03-19T16:21:26.107Z"
   },
   {
    "duration": 10,
    "start_time": "2022-03-19T16:21:26.136Z"
   },
   {
    "duration": 32,
    "start_time": "2022-03-19T16:21:26.148Z"
   },
   {
    "duration": 349,
    "start_time": "2022-03-19T16:21:26.183Z"
   },
   {
    "duration": 471,
    "start_time": "2022-03-19T16:21:26.535Z"
   },
   {
    "duration": 7,
    "start_time": "2022-03-19T16:21:27.008Z"
   },
   {
    "duration": 52,
    "start_time": "2022-03-19T16:21:27.018Z"
   },
   {
    "duration": 10,
    "start_time": "2022-03-19T16:21:27.075Z"
   },
   {
    "duration": 85,
    "start_time": "2022-03-19T16:21:27.087Z"
   },
   {
    "duration": 232,
    "start_time": "2022-03-19T16:21:27.174Z"
   },
   {
    "duration": 7655,
    "start_time": "2022-03-19T16:21:27.409Z"
   },
   {
    "duration": 17813,
    "start_time": "2022-03-19T16:21:35.066Z"
   },
   {
    "duration": 10871,
    "start_time": "2022-03-19T16:21:52.881Z"
   },
   {
    "duration": 698,
    "start_time": "2022-03-19T16:22:03.759Z"
   },
   {
    "duration": 767,
    "start_time": "2022-03-19T16:22:04.467Z"
   },
   {
    "duration": 8,
    "start_time": "2022-03-19T16:22:05.237Z"
   },
   {
    "duration": 233,
    "start_time": "2022-03-19T16:22:05.258Z"
   },
   {
    "duration": 23241,
    "start_time": "2022-03-19T16:22:05.493Z"
   },
   {
    "duration": 3421,
    "start_time": "2022-03-19T16:22:28.737Z"
   },
   {
    "duration": 67768,
    "start_time": "2022-03-19T16:22:32.164Z"
   },
   {
    "duration": 0,
    "start_time": "2022-03-19T16:23:39.936Z"
   },
   {
    "duration": 0,
    "start_time": "2022-03-19T16:23:39.949Z"
   },
   {
    "duration": 0,
    "start_time": "2022-03-19T16:23:39.956Z"
   },
   {
    "duration": 0,
    "start_time": "2022-03-19T16:23:39.959Z"
   },
   {
    "duration": 0,
    "start_time": "2022-03-19T16:23:39.960Z"
   },
   {
    "duration": 0,
    "start_time": "2022-03-19T16:23:39.962Z"
   },
   {
    "duration": 0,
    "start_time": "2022-03-19T16:23:39.964Z"
   },
   {
    "duration": 0,
    "start_time": "2022-03-19T16:23:39.966Z"
   },
   {
    "duration": 0,
    "start_time": "2022-03-19T16:23:39.968Z"
   },
   {
    "duration": 0,
    "start_time": "2022-03-19T16:23:39.969Z"
   },
   {
    "duration": 0,
    "start_time": "2022-03-19T16:23:39.971Z"
   },
   {
    "duration": 0,
    "start_time": "2022-03-19T16:23:39.973Z"
   },
   {
    "duration": 0,
    "start_time": "2022-03-19T16:23:39.975Z"
   },
   {
    "duration": 0,
    "start_time": "2022-03-19T16:23:39.977Z"
   },
   {
    "duration": 0,
    "start_time": "2022-03-19T16:23:39.978Z"
   },
   {
    "duration": 0,
    "start_time": "2022-03-19T16:23:39.990Z"
   },
   {
    "duration": 2066,
    "start_time": "2022-03-19T16:23:51.078Z"
   },
   {
    "duration": 39,
    "start_time": "2022-03-19T16:23:53.147Z"
   },
   {
    "duration": 20,
    "start_time": "2022-03-19T16:23:53.189Z"
   },
   {
    "duration": 6,
    "start_time": "2022-03-19T16:23:53.211Z"
   },
   {
    "duration": 35,
    "start_time": "2022-03-19T16:23:53.221Z"
   },
   {
    "duration": 307,
    "start_time": "2022-03-19T16:23:53.258Z"
   },
   {
    "duration": 478,
    "start_time": "2022-03-19T16:23:53.567Z"
   },
   {
    "duration": 7,
    "start_time": "2022-03-19T16:23:54.048Z"
   },
   {
    "duration": 53,
    "start_time": "2022-03-19T16:23:54.057Z"
   },
   {
    "duration": 12,
    "start_time": "2022-03-19T16:23:54.112Z"
   },
   {
    "duration": 72,
    "start_time": "2022-03-19T16:23:54.127Z"
   },
   {
    "duration": 230,
    "start_time": "2022-03-19T16:23:54.202Z"
   },
   {
    "duration": 7874,
    "start_time": "2022-03-19T16:23:54.434Z"
   },
   {
    "duration": 17236,
    "start_time": "2022-03-19T16:24:02.313Z"
   },
   {
    "duration": 11406,
    "start_time": "2022-03-19T16:24:19.551Z"
   },
   {
    "duration": 789,
    "start_time": "2022-03-19T16:24:30.960Z"
   },
   {
    "duration": 672,
    "start_time": "2022-03-19T16:24:31.760Z"
   },
   {
    "duration": 9,
    "start_time": "2022-03-19T16:24:32.435Z"
   },
   {
    "duration": 208,
    "start_time": "2022-03-19T16:24:32.446Z"
   },
   {
    "duration": 17681,
    "start_time": "2022-03-19T16:24:32.656Z"
   },
   {
    "duration": 3300,
    "start_time": "2022-03-19T16:24:50.343Z"
   },
   {
    "duration": 3649,
    "start_time": "2022-03-19T16:24:53.646Z"
   },
   {
    "duration": 0,
    "start_time": "2022-03-19T16:24:57.298Z"
   },
   {
    "duration": 0,
    "start_time": "2022-03-19T16:24:57.299Z"
   },
   {
    "duration": 0,
    "start_time": "2022-03-19T16:24:57.301Z"
   },
   {
    "duration": 0,
    "start_time": "2022-03-19T16:24:57.303Z"
   },
   {
    "duration": 0,
    "start_time": "2022-03-19T16:24:57.304Z"
   },
   {
    "duration": 0,
    "start_time": "2022-03-19T16:24:57.306Z"
   },
   {
    "duration": 0,
    "start_time": "2022-03-19T16:24:57.307Z"
   },
   {
    "duration": 0,
    "start_time": "2022-03-19T16:24:57.309Z"
   },
   {
    "duration": 0,
    "start_time": "2022-03-19T16:24:57.310Z"
   },
   {
    "duration": 0,
    "start_time": "2022-03-19T16:24:57.311Z"
   },
   {
    "duration": 0,
    "start_time": "2022-03-19T16:24:57.313Z"
   },
   {
    "duration": 0,
    "start_time": "2022-03-19T16:24:57.314Z"
   },
   {
    "duration": 0,
    "start_time": "2022-03-19T16:24:57.343Z"
   },
   {
    "duration": 0,
    "start_time": "2022-03-19T16:24:57.344Z"
   },
   {
    "duration": 0,
    "start_time": "2022-03-19T16:24:57.346Z"
   },
   {
    "duration": 0,
    "start_time": "2022-03-19T16:24:57.347Z"
   },
   {
    "duration": 39,
    "start_time": "2022-03-19T16:24:58.925Z"
   },
   {
    "duration": 68,
    "start_time": "2022-03-19T16:25:06.599Z"
   },
   {
    "duration": 75,
    "start_time": "2022-03-19T16:25:10.988Z"
   },
   {
    "duration": 10,
    "start_time": "2022-03-19T16:25:15.837Z"
   },
   {
    "duration": 43,
    "start_time": "2022-03-19T16:25:15.852Z"
   },
   {
    "duration": 51,
    "start_time": "2022-03-19T16:25:15.897Z"
   },
   {
    "duration": 8,
    "start_time": "2022-03-19T16:25:15.951Z"
   },
   {
    "duration": 12,
    "start_time": "2022-03-19T16:25:15.963Z"
   },
   {
    "duration": 364,
    "start_time": "2022-03-19T16:25:15.979Z"
   },
   {
    "duration": 431,
    "start_time": "2022-03-19T16:25:16.348Z"
   },
   {
    "duration": 5,
    "start_time": "2022-03-19T16:25:16.782Z"
   },
   {
    "duration": 28,
    "start_time": "2022-03-19T16:25:16.790Z"
   },
   {
    "duration": 26,
    "start_time": "2022-03-19T16:25:16.822Z"
   },
   {
    "duration": 57,
    "start_time": "2022-03-19T16:25:16.855Z"
   },
   {
    "duration": 251,
    "start_time": "2022-03-19T16:25:16.915Z"
   },
   {
    "duration": 7489,
    "start_time": "2022-03-19T16:25:17.169Z"
   },
   {
    "duration": 17522,
    "start_time": "2022-03-19T16:25:24.660Z"
   },
   {
    "duration": 10898,
    "start_time": "2022-03-19T16:25:42.184Z"
   },
   {
    "duration": 698,
    "start_time": "2022-03-19T16:25:53.086Z"
   },
   {
    "duration": 835,
    "start_time": "2022-03-19T16:25:53.789Z"
   },
   {
    "duration": 15,
    "start_time": "2022-03-19T16:25:54.627Z"
   },
   {
    "duration": 227,
    "start_time": "2022-03-19T16:25:54.647Z"
   },
   {
    "duration": 18494,
    "start_time": "2022-03-19T16:25:54.877Z"
   },
   {
    "duration": 2839,
    "start_time": "2022-03-19T16:26:13.374Z"
   },
   {
    "duration": 277048,
    "start_time": "2022-03-19T16:26:16.216Z"
   },
   {
    "duration": 0,
    "start_time": "2022-03-19T16:30:53.268Z"
   },
   {
    "duration": 0,
    "start_time": "2022-03-19T16:30:53.270Z"
   },
   {
    "duration": 0,
    "start_time": "2022-03-19T16:30:53.273Z"
   },
   {
    "duration": 0,
    "start_time": "2022-03-19T16:30:53.275Z"
   },
   {
    "duration": 0,
    "start_time": "2022-03-19T16:30:53.277Z"
   },
   {
    "duration": 0,
    "start_time": "2022-03-19T16:30:53.280Z"
   },
   {
    "duration": 0,
    "start_time": "2022-03-19T16:30:53.282Z"
   },
   {
    "duration": 0,
    "start_time": "2022-03-19T16:30:53.284Z"
   },
   {
    "duration": 0,
    "start_time": "2022-03-19T16:30:53.287Z"
   },
   {
    "duration": 0,
    "start_time": "2022-03-19T16:30:53.290Z"
   },
   {
    "duration": 0,
    "start_time": "2022-03-19T16:30:53.292Z"
   },
   {
    "duration": 0,
    "start_time": "2022-03-19T16:30:53.294Z"
   },
   {
    "duration": 0,
    "start_time": "2022-03-19T16:30:53.347Z"
   },
   {
    "duration": 0,
    "start_time": "2022-03-19T16:30:53.349Z"
   },
   {
    "duration": 0,
    "start_time": "2022-03-19T16:30:53.353Z"
   },
   {
    "duration": 27932,
    "start_time": "2022-03-19T16:31:06.139Z"
   },
   {
    "duration": 28322,
    "start_time": "2022-03-19T16:32:06.605Z"
   },
   {
    "duration": 2007,
    "start_time": "2022-03-19T16:33:34.638Z"
   },
   {
    "duration": 317,
    "start_time": "2022-03-19T16:33:36.651Z"
   },
   {
    "duration": 203,
    "start_time": "2022-03-19T16:33:36.972Z"
   },
   {
    "duration": 93,
    "start_time": "2022-03-19T16:33:37.178Z"
   },
   {
    "duration": 78,
    "start_time": "2022-03-19T16:33:37.348Z"
   },
   {
    "duration": 6,
    "start_time": "2022-03-19T16:33:37.428Z"
   },
   {
    "duration": 95,
    "start_time": "2022-03-19T16:33:37.438Z"
   },
   {
    "duration": 7,
    "start_time": "2022-03-19T16:33:37.537Z"
   },
   {
    "duration": 341,
    "start_time": "2022-03-19T16:33:37.546Z"
   },
   {
    "duration": 10,
    "start_time": "2022-03-19T16:33:37.890Z"
   },
   {
    "duration": 1708,
    "start_time": "2022-03-19T16:33:37.903Z"
   },
   {
    "duration": 39257,
    "start_time": "2022-03-19T16:33:39.614Z"
   },
   {
    "duration": 83,
    "start_time": "2022-03-19T16:34:18.874Z"
   },
   {
    "duration": 9,
    "start_time": "2022-03-19T16:34:18.960Z"
   },
   {
    "duration": 6717,
    "start_time": "2022-03-19T16:34:18.972Z"
   },
   {
    "duration": 1640,
    "start_time": "2022-03-19T16:40:53.431Z"
   },
   {
    "duration": 6,
    "start_time": "2022-03-19T16:41:37.567Z"
   },
   {
    "duration": 1618,
    "start_time": "2022-03-19T16:42:56.826Z"
   },
   {
    "duration": 1545,
    "start_time": "2022-03-19T16:43:20.738Z"
   },
   {
    "duration": 1522,
    "start_time": "2022-03-19T16:43:41.714Z"
   },
   {
    "duration": 33220,
    "start_time": "2022-03-19T16:47:39.127Z"
   },
   {
    "duration": 86,
    "start_time": "2022-03-19T16:49:12.114Z"
   },
   {
    "duration": 90,
    "start_time": "2022-03-19T16:49:22.142Z"
   },
   {
    "duration": 90,
    "start_time": "2022-03-19T16:49:47.968Z"
   },
   {
    "duration": 62,
    "start_time": "2022-03-19T16:51:16.521Z"
   },
   {
    "duration": 88,
    "start_time": "2022-03-19T16:53:03.449Z"
   },
   {
    "duration": 59,
    "start_time": "2022-03-19T16:53:25.453Z"
   },
   {
    "duration": 119,
    "start_time": "2022-03-19T16:54:04.361Z"
   },
   {
    "duration": 119,
    "start_time": "2022-03-19T16:54:31.378Z"
   },
   {
    "duration": 4,
    "start_time": "2022-03-19T16:58:47.009Z"
   },
   {
    "duration": 18,
    "start_time": "2022-03-19T16:59:04.698Z"
   },
   {
    "duration": 172,
    "start_time": "2022-03-19T16:59:29.753Z"
   },
   {
    "duration": 28,
    "start_time": "2022-03-19T17:02:58.418Z"
   },
   {
    "duration": 6,
    "start_time": "2022-03-19T17:07:31.611Z"
   },
   {
    "duration": 2038,
    "start_time": "2022-03-19T17:07:54.453Z"
   },
   {
    "duration": 39,
    "start_time": "2022-03-19T17:07:56.494Z"
   },
   {
    "duration": 27,
    "start_time": "2022-03-19T17:07:56.535Z"
   },
   {
    "duration": 10,
    "start_time": "2022-03-19T17:07:56.564Z"
   },
   {
    "duration": 14,
    "start_time": "2022-03-19T17:07:56.578Z"
   },
   {
    "duration": 4,
    "start_time": "2022-03-19T17:07:56.594Z"
   },
   {
    "duration": 48,
    "start_time": "2022-03-19T17:07:56.601Z"
   },
   {
    "duration": 316,
    "start_time": "2022-03-19T17:07:56.654Z"
   },
   {
    "duration": 456,
    "start_time": "2022-03-19T17:07:56.973Z"
   },
   {
    "duration": 14,
    "start_time": "2022-03-19T17:07:57.431Z"
   },
   {
    "duration": 179,
    "start_time": "2022-03-19T17:07:57.451Z"
   },
   {
    "duration": 0,
    "start_time": "2022-03-19T17:07:57.635Z"
   },
   {
    "duration": 0,
    "start_time": "2022-03-19T17:07:57.648Z"
   },
   {
    "duration": 0,
    "start_time": "2022-03-19T17:07:57.649Z"
   },
   {
    "duration": 0,
    "start_time": "2022-03-19T17:07:57.651Z"
   },
   {
    "duration": 0,
    "start_time": "2022-03-19T17:07:57.652Z"
   },
   {
    "duration": 0,
    "start_time": "2022-03-19T17:07:57.654Z"
   },
   {
    "duration": 0,
    "start_time": "2022-03-19T17:07:57.656Z"
   },
   {
    "duration": 0,
    "start_time": "2022-03-19T17:07:57.657Z"
   },
   {
    "duration": 0,
    "start_time": "2022-03-19T17:07:57.659Z"
   },
   {
    "duration": 0,
    "start_time": "2022-03-19T17:07:57.660Z"
   },
   {
    "duration": 0,
    "start_time": "2022-03-19T17:07:57.662Z"
   },
   {
    "duration": 0,
    "start_time": "2022-03-19T17:07:57.663Z"
   },
   {
    "duration": 0,
    "start_time": "2022-03-19T17:07:57.664Z"
   },
   {
    "duration": 0,
    "start_time": "2022-03-19T17:07:57.667Z"
   },
   {
    "duration": 0,
    "start_time": "2022-03-19T17:07:57.669Z"
   },
   {
    "duration": 0,
    "start_time": "2022-03-19T17:07:57.670Z"
   },
   {
    "duration": 0,
    "start_time": "2022-03-19T17:07:57.672Z"
   },
   {
    "duration": 0,
    "start_time": "2022-03-19T17:07:57.674Z"
   },
   {
    "duration": 0,
    "start_time": "2022-03-19T17:07:57.675Z"
   },
   {
    "duration": 0,
    "start_time": "2022-03-19T17:07:57.677Z"
   },
   {
    "duration": 0,
    "start_time": "2022-03-19T17:07:57.678Z"
   },
   {
    "duration": 0,
    "start_time": "2022-03-19T17:07:57.680Z"
   },
   {
    "duration": 0,
    "start_time": "2022-03-19T17:07:57.682Z"
   },
   {
    "duration": 0,
    "start_time": "2022-03-19T17:07:57.684Z"
   },
   {
    "duration": 0,
    "start_time": "2022-03-19T17:07:57.686Z"
   },
   {
    "duration": 0,
    "start_time": "2022-03-19T17:07:57.688Z"
   },
   {
    "duration": 0,
    "start_time": "2022-03-19T17:07:57.689Z"
   },
   {
    "duration": 36,
    "start_time": "2022-03-19T17:08:39.585Z"
   },
   {
    "duration": 32,
    "start_time": "2022-03-19T17:08:44.186Z"
   },
   {
    "duration": 3256,
    "start_time": "2022-03-19T17:08:44.221Z"
   },
   {
    "duration": 0,
    "start_time": "2022-03-19T17:08:47.480Z"
   },
   {
    "duration": 0,
    "start_time": "2022-03-19T17:08:47.482Z"
   },
   {
    "duration": 0,
    "start_time": "2022-03-19T17:08:47.484Z"
   },
   {
    "duration": 0,
    "start_time": "2022-03-19T17:08:47.485Z"
   },
   {
    "duration": 0,
    "start_time": "2022-03-19T17:08:47.487Z"
   },
   {
    "duration": 0,
    "start_time": "2022-03-19T17:08:47.488Z"
   },
   {
    "duration": 0,
    "start_time": "2022-03-19T17:08:47.490Z"
   },
   {
    "duration": 0,
    "start_time": "2022-03-19T17:08:47.491Z"
   },
   {
    "duration": 0,
    "start_time": "2022-03-19T17:08:47.493Z"
   },
   {
    "duration": 0,
    "start_time": "2022-03-19T17:08:47.495Z"
   },
   {
    "duration": 0,
    "start_time": "2022-03-19T17:08:47.496Z"
   },
   {
    "duration": 0,
    "start_time": "2022-03-19T17:08:47.498Z"
   },
   {
    "duration": 0,
    "start_time": "2022-03-19T17:08:47.500Z"
   },
   {
    "duration": 0,
    "start_time": "2022-03-19T17:08:47.501Z"
   },
   {
    "duration": 0,
    "start_time": "2022-03-19T17:08:47.502Z"
   },
   {
    "duration": 1,
    "start_time": "2022-03-19T17:08:47.503Z"
   },
   {
    "duration": 0,
    "start_time": "2022-03-19T17:08:47.505Z"
   },
   {
    "duration": 0,
    "start_time": "2022-03-19T17:08:47.507Z"
   },
   {
    "duration": 0,
    "start_time": "2022-03-19T17:08:47.509Z"
   },
   {
    "duration": 0,
    "start_time": "2022-03-19T17:08:47.510Z"
   },
   {
    "duration": 0,
    "start_time": "2022-03-19T17:08:47.512Z"
   },
   {
    "duration": 1,
    "start_time": "2022-03-19T17:08:47.513Z"
   },
   {
    "duration": 0,
    "start_time": "2022-03-19T17:08:47.515Z"
   },
   {
    "duration": 0,
    "start_time": "2022-03-19T17:08:47.517Z"
   },
   {
    "duration": 0,
    "start_time": "2022-03-19T17:08:47.547Z"
   },
   {
    "duration": 0,
    "start_time": "2022-03-19T17:08:47.549Z"
   },
   {
    "duration": 16,
    "start_time": "2022-03-19T17:09:01.704Z"
   },
   {
    "duration": 60,
    "start_time": "2022-03-19T17:09:01.723Z"
   },
   {
    "duration": 3886,
    "start_time": "2022-03-19T17:09:01.786Z"
   },
   {
    "duration": 0,
    "start_time": "2022-03-19T17:09:05.677Z"
   },
   {
    "duration": 0,
    "start_time": "2022-03-19T17:09:05.679Z"
   },
   {
    "duration": 0,
    "start_time": "2022-03-19T17:09:05.681Z"
   },
   {
    "duration": 0,
    "start_time": "2022-03-19T17:09:05.682Z"
   },
   {
    "duration": 0,
    "start_time": "2022-03-19T17:09:05.684Z"
   },
   {
    "duration": 0,
    "start_time": "2022-03-19T17:09:05.687Z"
   },
   {
    "duration": 0,
    "start_time": "2022-03-19T17:09:05.690Z"
   },
   {
    "duration": 0,
    "start_time": "2022-03-19T17:09:05.692Z"
   },
   {
    "duration": 0,
    "start_time": "2022-03-19T17:09:05.694Z"
   },
   {
    "duration": 0,
    "start_time": "2022-03-19T17:09:05.695Z"
   },
   {
    "duration": 0,
    "start_time": "2022-03-19T17:09:05.697Z"
   },
   {
    "duration": 0,
    "start_time": "2022-03-19T17:09:05.699Z"
   },
   {
    "duration": 0,
    "start_time": "2022-03-19T17:09:05.701Z"
   },
   {
    "duration": 0,
    "start_time": "2022-03-19T17:09:05.703Z"
   },
   {
    "duration": 0,
    "start_time": "2022-03-19T17:09:05.706Z"
   },
   {
    "duration": 0,
    "start_time": "2022-03-19T17:09:05.707Z"
   },
   {
    "duration": 0,
    "start_time": "2022-03-19T17:09:05.709Z"
   },
   {
    "duration": 0,
    "start_time": "2022-03-19T17:09:05.711Z"
   },
   {
    "duration": 0,
    "start_time": "2022-03-19T17:09:05.712Z"
   },
   {
    "duration": 0,
    "start_time": "2022-03-19T17:09:05.714Z"
   },
   {
    "duration": 0,
    "start_time": "2022-03-19T17:09:05.743Z"
   },
   {
    "duration": 0,
    "start_time": "2022-03-19T17:09:05.745Z"
   },
   {
    "duration": 0,
    "start_time": "2022-03-19T17:09:05.746Z"
   },
   {
    "duration": 0,
    "start_time": "2022-03-19T17:09:05.748Z"
   },
   {
    "duration": 225,
    "start_time": "2022-03-19T17:09:24.593Z"
   },
   {
    "duration": 10024,
    "start_time": "2022-03-19T17:09:33.401Z"
   },
   {
    "duration": 32681,
    "start_time": "2022-03-19T17:09:43.429Z"
   },
   {
    "duration": 12030,
    "start_time": "2022-03-19T17:10:16.114Z"
   },
   {
    "duration": 695,
    "start_time": "2022-03-19T17:10:28.149Z"
   },
   {
    "duration": 748,
    "start_time": "2022-03-19T17:10:28.847Z"
   },
   {
    "duration": 6,
    "start_time": "2022-03-19T17:10:29.597Z"
   },
   {
    "duration": 301,
    "start_time": "2022-03-19T17:10:29.606Z"
   },
   {
    "duration": 24429,
    "start_time": "2022-03-19T17:10:29.909Z"
   },
   {
    "duration": 3568,
    "start_time": "2022-03-19T17:10:54.346Z"
   },
   {
    "duration": 29241,
    "start_time": "2022-03-19T17:10:57.918Z"
   },
   {
    "duration": 8037,
    "start_time": "2022-03-19T17:11:27.162Z"
   },
   {
    "duration": 2141,
    "start_time": "2022-03-19T17:11:35.202Z"
   },
   {
    "duration": 415,
    "start_time": "2022-03-19T17:11:37.346Z"
   },
   {
    "duration": 192,
    "start_time": "2022-03-19T17:11:37.765Z"
   },
   {
    "duration": 6,
    "start_time": "2022-03-19T17:11:38.043Z"
   },
   {
    "duration": 71,
    "start_time": "2022-03-19T17:11:38.054Z"
   },
   {
    "duration": 23,
    "start_time": "2022-03-19T17:11:38.128Z"
   },
   {
    "duration": 101,
    "start_time": "2022-03-19T17:11:38.154Z"
   },
   {
    "duration": 10,
    "start_time": "2022-03-19T17:11:38.257Z"
   },
   {
    "duration": 263,
    "start_time": "2022-03-19T17:11:38.269Z"
   },
   {
    "duration": 86,
    "start_time": "2022-03-19T17:11:38.535Z"
   },
   {
    "duration": 123,
    "start_time": "2022-03-19T17:11:38.624Z"
   },
   {
    "duration": 109,
    "start_time": "2022-03-19T17:11:38.750Z"
   },
   {
    "duration": 123,
    "start_time": "2022-03-19T17:11:38.862Z"
   },
   {
    "duration": 44391,
    "start_time": "2022-03-19T17:14:47.832Z"
   },
   {
    "duration": 28,
    "start_time": "2022-03-19T17:17:12.005Z"
   },
   {
    "duration": 394,
    "start_time": "2022-03-19T17:17:26.081Z"
   },
   {
    "duration": 33,
    "start_time": "2022-03-19T17:17:28.545Z"
   },
   {
    "duration": 398,
    "start_time": "2022-03-19T17:17:40.551Z"
   },
   {
    "duration": 27,
    "start_time": "2022-03-19T17:17:43.360Z"
   },
   {
    "duration": 266,
    "start_time": "2022-03-19T17:18:16.101Z"
   },
   {
    "duration": 35,
    "start_time": "2022-03-19T17:18:18.116Z"
   },
   {
    "duration": 10822,
    "start_time": "2022-03-19T17:19:53.634Z"
   },
   {
    "duration": 11992,
    "start_time": "2022-03-19T17:21:03.315Z"
   },
   {
    "duration": 4171,
    "start_time": "2022-03-19T17:21:35.160Z"
   },
   {
    "duration": 12392,
    "start_time": "2022-03-19T17:21:48.260Z"
   },
   {
    "duration": 8,
    "start_time": "2022-03-19T17:22:21.527Z"
   },
   {
    "duration": 9,
    "start_time": "2022-03-19T17:22:25.831Z"
   },
   {
    "duration": 45136,
    "start_time": "2022-03-19T17:22:34.011Z"
   },
   {
    "duration": 229139,
    "start_time": "2022-03-19T17:24:02.818Z"
   },
   {
    "duration": 31584,
    "start_time": "2022-03-19T17:30:27.261Z"
   },
   {
    "duration": 880193,
    "start_time": "2022-03-19T17:40:59.379Z"
   },
   {
    "duration": 302457,
    "start_time": "2022-03-19T17:56:44.159Z"
   },
   {
    "duration": 14515,
    "start_time": "2022-03-19T18:06:58.009Z"
   },
   {
    "duration": 1534,
    "start_time": "2022-03-19T18:08:56.101Z"
   },
   {
    "duration": 12309,
    "start_time": "2022-03-19T18:11:03.270Z"
   },
   {
    "duration": 9548,
    "start_time": "2022-03-19T18:11:47.912Z"
   },
   {
    "duration": 9935,
    "start_time": "2022-03-19T18:12:28.628Z"
   },
   {
    "duration": 2273,
    "start_time": "2022-03-19T18:13:07.049Z"
   },
   {
    "duration": 48,
    "start_time": "2022-03-19T18:13:09.325Z"
   },
   {
    "duration": 26,
    "start_time": "2022-03-19T18:13:09.376Z"
   },
   {
    "duration": 8,
    "start_time": "2022-03-19T18:13:09.404Z"
   },
   {
    "duration": 45,
    "start_time": "2022-03-19T18:13:09.416Z"
   },
   {
    "duration": 11,
    "start_time": "2022-03-19T18:13:09.466Z"
   },
   {
    "duration": 23,
    "start_time": "2022-03-19T18:13:09.479Z"
   },
   {
    "duration": 332,
    "start_time": "2022-03-19T18:13:09.505Z"
   },
   {
    "duration": 477,
    "start_time": "2022-03-19T18:13:09.840Z"
   },
   {
    "duration": 6,
    "start_time": "2022-03-19T18:13:10.320Z"
   },
   {
    "duration": 48,
    "start_time": "2022-03-19T18:13:10.328Z"
   },
   {
    "duration": 10,
    "start_time": "2022-03-19T18:13:10.379Z"
   },
   {
    "duration": 76,
    "start_time": "2022-03-19T18:13:10.392Z"
   },
   {
    "duration": 293,
    "start_time": "2022-03-19T18:13:10.474Z"
   },
   {
    "duration": 14370,
    "start_time": "2022-03-19T18:13:10.770Z"
   },
   {
    "duration": 315363,
    "start_time": "2022-03-19T18:13:25.147Z"
   },
   {
    "duration": 11374,
    "start_time": "2022-03-19T18:18:40.513Z"
   },
   {
    "duration": 956,
    "start_time": "2022-03-19T18:18:51.889Z"
   },
   {
    "duration": 1010,
    "start_time": "2022-03-19T18:18:52.855Z"
   },
   {
    "duration": 6,
    "start_time": "2022-03-19T18:18:53.867Z"
   },
   {
    "duration": 279,
    "start_time": "2022-03-19T18:18:53.876Z"
   },
   {
    "duration": 27262,
    "start_time": "2022-03-19T18:18:54.158Z"
   },
   {
    "duration": 10096,
    "start_time": "2022-03-19T18:19:21.423Z"
   },
   {
    "duration": 14049,
    "start_time": "2022-03-19T18:19:31.521Z"
   },
   {
    "duration": 1136,
    "start_time": "2022-03-19T18:19:45.573Z"
   },
   {
    "duration": 1541,
    "start_time": "2022-03-19T18:19:46.711Z"
   },
   {
    "duration": 312,
    "start_time": "2022-03-19T18:19:48.255Z"
   },
   {
    "duration": 206,
    "start_time": "2022-03-19T18:19:48.570Z"
   },
   {
    "duration": 10,
    "start_time": "2022-03-19T18:19:48.844Z"
   },
   {
    "duration": 146,
    "start_time": "2022-03-19T18:19:48.856Z"
   },
   {
    "duration": 6,
    "start_time": "2022-03-19T18:19:49.004Z"
   },
   {
    "duration": 183,
    "start_time": "2022-03-19T18:19:49.012Z"
   },
   {
    "duration": 5,
    "start_time": "2022-03-19T18:19:49.197Z"
   },
   {
    "duration": 255,
    "start_time": "2022-03-19T18:19:49.205Z"
   },
   {
    "duration": 88,
    "start_time": "2022-03-19T18:19:49.463Z"
   },
   {
    "duration": 167,
    "start_time": "2022-03-19T18:19:49.553Z"
   },
   {
    "duration": 0,
    "start_time": "2022-03-19T18:19:49.722Z"
   },
   {
    "duration": 0,
    "start_time": "2022-03-19T18:19:49.724Z"
   },
   {
    "duration": 12,
    "start_time": "2022-03-19T18:24:33.194Z"
   },
   {
    "duration": 132,
    "start_time": "2022-03-19T18:25:10.173Z"
   },
   {
    "duration": 13,
    "start_time": "2022-03-19T18:25:15.501Z"
   },
   {
    "duration": 116,
    "start_time": "2022-03-19T18:25:40.893Z"
   },
   {
    "duration": 189,
    "start_time": "2022-03-19T18:34:38.615Z"
   },
   {
    "duration": 143,
    "start_time": "2022-03-19T18:36:11.575Z"
   },
   {
    "duration": 67,
    "start_time": "2022-03-20T12:34:18.939Z"
   },
   {
    "duration": 1661,
    "start_time": "2022-03-20T12:34:25.676Z"
   },
   {
    "duration": 32,
    "start_time": "2022-03-20T12:34:27.340Z"
   },
   {
    "duration": 16,
    "start_time": "2022-03-20T12:34:27.374Z"
   },
   {
    "duration": 5,
    "start_time": "2022-03-20T12:34:27.393Z"
   },
   {
    "duration": 11,
    "start_time": "2022-03-20T12:34:27.400Z"
   },
   {
    "duration": 20,
    "start_time": "2022-03-20T12:34:27.412Z"
   },
   {
    "duration": 16,
    "start_time": "2022-03-20T12:34:27.435Z"
   },
   {
    "duration": 92,
    "start_time": "2022-03-20T12:34:27.453Z"
   },
   {
    "duration": 0,
    "start_time": "2022-03-20T12:34:27.548Z"
   },
   {
    "duration": 0,
    "start_time": "2022-03-20T12:34:27.549Z"
   },
   {
    "duration": 0,
    "start_time": "2022-03-20T12:34:27.550Z"
   },
   {
    "duration": 0,
    "start_time": "2022-03-20T12:34:27.551Z"
   },
   {
    "duration": 0,
    "start_time": "2022-03-20T12:34:27.553Z"
   },
   {
    "duration": 0,
    "start_time": "2022-03-20T12:34:27.554Z"
   },
   {
    "duration": 0,
    "start_time": "2022-03-20T12:34:27.555Z"
   },
   {
    "duration": 0,
    "start_time": "2022-03-20T12:34:27.557Z"
   },
   {
    "duration": 0,
    "start_time": "2022-03-20T12:34:27.558Z"
   },
   {
    "duration": 0,
    "start_time": "2022-03-20T12:34:27.560Z"
   },
   {
    "duration": 0,
    "start_time": "2022-03-20T12:34:27.561Z"
   },
   {
    "duration": 0,
    "start_time": "2022-03-20T12:34:27.564Z"
   },
   {
    "duration": 0,
    "start_time": "2022-03-20T12:34:27.566Z"
   },
   {
    "duration": 0,
    "start_time": "2022-03-20T12:34:27.567Z"
   },
   {
    "duration": 0,
    "start_time": "2022-03-20T12:34:27.569Z"
   },
   {
    "duration": 0,
    "start_time": "2022-03-20T12:34:27.570Z"
   },
   {
    "duration": 0,
    "start_time": "2022-03-20T12:34:27.572Z"
   },
   {
    "duration": 0,
    "start_time": "2022-03-20T12:34:27.573Z"
   },
   {
    "duration": 0,
    "start_time": "2022-03-20T12:34:27.575Z"
   },
   {
    "duration": 0,
    "start_time": "2022-03-20T12:34:27.577Z"
   },
   {
    "duration": 0,
    "start_time": "2022-03-20T12:34:27.578Z"
   },
   {
    "duration": 0,
    "start_time": "2022-03-20T12:34:27.579Z"
   },
   {
    "duration": 0,
    "start_time": "2022-03-20T12:34:27.631Z"
   },
   {
    "duration": 0,
    "start_time": "2022-03-20T12:34:27.633Z"
   },
   {
    "duration": 0,
    "start_time": "2022-03-20T12:34:27.634Z"
   },
   {
    "duration": 0,
    "start_time": "2022-03-20T12:34:27.636Z"
   },
   {
    "duration": 0,
    "start_time": "2022-03-20T12:34:27.637Z"
   },
   {
    "duration": 0,
    "start_time": "2022-03-20T12:34:27.638Z"
   },
   {
    "duration": 0,
    "start_time": "2022-03-20T12:34:27.639Z"
   },
   {
    "duration": 0,
    "start_time": "2022-03-20T12:34:27.641Z"
   },
   {
    "duration": 0,
    "start_time": "2022-03-20T12:34:27.642Z"
   },
   {
    "duration": 16,
    "start_time": "2022-03-20T12:35:09.689Z"
   },
   {
    "duration": 6,
    "start_time": "2022-03-20T12:35:32.129Z"
   },
   {
    "duration": 9,
    "start_time": "2022-03-20T12:35:41.376Z"
   },
   {
    "duration": 10,
    "start_time": "2022-03-20T12:35:48.678Z"
   },
   {
    "duration": 9,
    "start_time": "2022-03-20T12:36:01.314Z"
   },
   {
    "duration": 9,
    "start_time": "2022-03-20T12:36:33.953Z"
   },
   {
    "duration": 9,
    "start_time": "2022-03-20T12:38:23.261Z"
   },
   {
    "duration": 9,
    "start_time": "2022-03-20T12:39:09.608Z"
   },
   {
    "duration": 1512,
    "start_time": "2022-03-20T12:39:34.520Z"
   },
   {
    "duration": 32,
    "start_time": "2022-03-20T12:39:36.034Z"
   },
   {
    "duration": 16,
    "start_time": "2022-03-20T12:39:36.067Z"
   },
   {
    "duration": 9,
    "start_time": "2022-03-20T12:39:36.084Z"
   },
   {
    "duration": 12,
    "start_time": "2022-03-20T12:39:36.096Z"
   },
   {
    "duration": 3,
    "start_time": "2022-03-20T12:39:36.109Z"
   },
   {
    "duration": 29,
    "start_time": "2022-03-20T12:39:36.114Z"
   },
   {
    "duration": 5,
    "start_time": "2022-03-20T12:39:36.144Z"
   },
   {
    "duration": 16,
    "start_time": "2022-03-20T12:39:36.150Z"
   },
   {
    "duration": 11,
    "start_time": "2022-03-20T12:39:36.168Z"
   },
   {
    "duration": 9,
    "start_time": "2022-03-20T12:39:36.180Z"
   },
   {
    "duration": 4,
    "start_time": "2022-03-20T12:39:36.191Z"
   },
   {
    "duration": 7,
    "start_time": "2022-03-20T12:39:36.231Z"
   },
   {
    "duration": 8,
    "start_time": "2022-03-20T12:39:36.242Z"
   },
   {
    "duration": 128,
    "start_time": "2022-03-20T12:39:36.251Z"
   },
   {
    "duration": 0,
    "start_time": "2022-03-20T12:39:36.381Z"
   },
   {
    "duration": 0,
    "start_time": "2022-03-20T12:39:36.383Z"
   },
   {
    "duration": 0,
    "start_time": "2022-03-20T12:39:36.385Z"
   },
   {
    "duration": 0,
    "start_time": "2022-03-20T12:39:36.386Z"
   },
   {
    "duration": 0,
    "start_time": "2022-03-20T12:39:36.388Z"
   },
   {
    "duration": 0,
    "start_time": "2022-03-20T12:39:36.389Z"
   },
   {
    "duration": 0,
    "start_time": "2022-03-20T12:39:36.391Z"
   },
   {
    "duration": 0,
    "start_time": "2022-03-20T12:39:36.393Z"
   },
   {
    "duration": 0,
    "start_time": "2022-03-20T12:39:36.394Z"
   },
   {
    "duration": 0,
    "start_time": "2022-03-20T12:39:36.395Z"
   },
   {
    "duration": 0,
    "start_time": "2022-03-20T12:39:36.397Z"
   },
   {
    "duration": 0,
    "start_time": "2022-03-20T12:39:36.398Z"
   },
   {
    "duration": 0,
    "start_time": "2022-03-20T12:39:36.400Z"
   },
   {
    "duration": 0,
    "start_time": "2022-03-20T12:39:36.401Z"
   },
   {
    "duration": 0,
    "start_time": "2022-03-20T12:39:36.432Z"
   },
   {
    "duration": 0,
    "start_time": "2022-03-20T12:39:36.433Z"
   },
   {
    "duration": 0,
    "start_time": "2022-03-20T12:39:36.435Z"
   },
   {
    "duration": 0,
    "start_time": "2022-03-20T12:39:36.437Z"
   },
   {
    "duration": 0,
    "start_time": "2022-03-20T12:39:36.438Z"
   },
   {
    "duration": 0,
    "start_time": "2022-03-20T12:39:36.440Z"
   },
   {
    "duration": 0,
    "start_time": "2022-03-20T12:39:36.441Z"
   },
   {
    "duration": 0,
    "start_time": "2022-03-20T12:39:36.443Z"
   },
   {
    "duration": 0,
    "start_time": "2022-03-20T12:39:36.444Z"
   },
   {
    "duration": 0,
    "start_time": "2022-03-20T12:39:36.446Z"
   },
   {
    "duration": 0,
    "start_time": "2022-03-20T12:39:36.448Z"
   },
   {
    "duration": 140,
    "start_time": "2022-03-20T12:41:08.855Z"
   },
   {
    "duration": 3,
    "start_time": "2022-03-20T12:43:27.108Z"
   },
   {
    "duration": 156,
    "start_time": "2022-03-20T12:44:09.461Z"
   },
   {
    "duration": 8,
    "start_time": "2022-03-20T12:44:29.499Z"
   },
   {
    "duration": 4,
    "start_time": "2022-03-20T12:44:31.158Z"
   },
   {
    "duration": 13,
    "start_time": "2022-03-20T12:45:39.902Z"
   },
   {
    "duration": 13,
    "start_time": "2022-03-20T12:46:19.628Z"
   },
   {
    "duration": 11,
    "start_time": "2022-03-20T12:46:33.939Z"
   },
   {
    "duration": 32,
    "start_time": "2022-03-20T12:48:32.427Z"
   },
   {
    "duration": 137,
    "start_time": "2022-03-20T12:48:37.728Z"
   },
   {
    "duration": 145,
    "start_time": "2022-03-20T12:48:42.529Z"
   },
   {
    "duration": 501,
    "start_time": "2022-03-20T12:48:42.676Z"
   },
   {
    "duration": 32370,
    "start_time": "2022-03-20T12:48:43.178Z"
   },
   {
    "duration": 281,
    "start_time": "2022-03-20T12:49:15.551Z"
   },
   {
    "duration": 116,
    "start_time": "2022-03-20T12:49:15.835Z"
   },
   {
    "duration": 186,
    "start_time": "2022-03-20T12:49:15.954Z"
   },
   {
    "duration": 4,
    "start_time": "2022-03-20T12:49:16.142Z"
   },
   {
    "duration": 14,
    "start_time": "2022-03-20T12:49:16.148Z"
   },
   {
    "duration": 876,
    "start_time": "2022-03-20T12:49:16.164Z"
   },
   {
    "duration": 539,
    "start_time": "2022-03-20T12:49:17.043Z"
   },
   {
    "duration": 772,
    "start_time": "2022-03-20T12:49:17.583Z"
   },
   {
    "duration": 162,
    "start_time": "2022-03-20T12:49:18.357Z"
   },
   {
    "duration": 49,
    "start_time": "2022-03-20T12:49:18.521Z"
   },
   {
    "duration": 166,
    "start_time": "2022-03-20T12:49:18.572Z"
   },
   {
    "duration": 98,
    "start_time": "2022-03-20T12:49:18.741Z"
   },
   {
    "duration": 98,
    "start_time": "2022-03-20T12:49:18.841Z"
   },
   {
    "duration": 91,
    "start_time": "2022-03-20T12:49:18.943Z"
   },
   {
    "duration": 4,
    "start_time": "2022-03-20T12:49:19.036Z"
   },
   {
    "duration": 43,
    "start_time": "2022-03-20T12:49:19.042Z"
   },
   {
    "duration": 4,
    "start_time": "2022-03-20T12:49:19.086Z"
   },
   {
    "duration": 193,
    "start_time": "2022-03-20T12:49:19.092Z"
   },
   {
    "duration": 8,
    "start_time": "2022-03-20T12:49:19.287Z"
   },
   {
    "duration": 41,
    "start_time": "2022-03-20T12:49:19.297Z"
   },
   {
    "duration": 26,
    "start_time": "2022-03-20T12:49:19.339Z"
   },
   {
    "duration": 31,
    "start_time": "2022-03-20T12:49:19.367Z"
   },
   {
    "duration": 1344,
    "start_time": "2022-03-20T12:50:47.025Z"
   },
   {
    "duration": 37,
    "start_time": "2022-03-20T13:00:49.220Z"
   },
   {
    "duration": 12,
    "start_time": "2022-03-20T13:01:01.957Z"
   },
   {
    "duration": 34,
    "start_time": "2022-03-20T13:01:24.340Z"
   },
   {
    "duration": 139,
    "start_time": "2022-03-20T13:01:24.376Z"
   },
   {
    "duration": 504,
    "start_time": "2022-03-20T13:01:24.517Z"
   },
   {
    "duration": 32539,
    "start_time": "2022-03-20T13:01:25.024Z"
   },
   {
    "duration": 172,
    "start_time": "2022-03-20T13:01:57.565Z"
   },
   {
    "duration": 201,
    "start_time": "2022-03-20T13:01:57.739Z"
   },
   {
    "duration": 24,
    "start_time": "2022-03-20T13:01:58.033Z"
   },
   {
    "duration": 74,
    "start_time": "2022-03-20T13:01:58.059Z"
   },
   {
    "duration": 11,
    "start_time": "2022-03-20T13:01:58.135Z"
   },
   {
    "duration": 831,
    "start_time": "2022-03-20T13:01:58.149Z"
   },
   {
    "duration": 526,
    "start_time": "2022-03-20T13:01:58.982Z"
   },
   {
    "duration": 1355,
    "start_time": "2022-03-20T13:01:59.510Z"
   },
   {
    "duration": 159,
    "start_time": "2022-03-20T13:02:00.867Z"
   },
   {
    "duration": 41,
    "start_time": "2022-03-20T13:02:01.031Z"
   },
   {
    "duration": 108,
    "start_time": "2022-03-20T13:02:01.136Z"
   },
   {
    "duration": 186,
    "start_time": "2022-03-20T13:02:01.247Z"
   },
   {
    "duration": 102,
    "start_time": "2022-03-20T13:02:01.436Z"
   },
   {
    "duration": 21,
    "start_time": "2022-03-20T13:02:01.540Z"
   },
   {
    "duration": 35,
    "start_time": "2022-03-20T13:02:01.563Z"
   },
   {
    "duration": 54,
    "start_time": "2022-03-20T13:02:01.601Z"
   },
   {
    "duration": 5,
    "start_time": "2022-03-20T13:02:01.657Z"
   },
   {
    "duration": 195,
    "start_time": "2022-03-20T13:02:01.664Z"
   },
   {
    "duration": 14,
    "start_time": "2022-03-20T13:02:01.861Z"
   },
   {
    "duration": 79,
    "start_time": "2022-03-20T13:02:01.877Z"
   },
   {
    "duration": 27,
    "start_time": "2022-03-20T13:02:01.958Z"
   },
   {
    "duration": 69,
    "start_time": "2022-03-20T13:02:01.987Z"
   },
   {
    "duration": 497,
    "start_time": "2022-03-20T13:16:55.295Z"
   },
   {
    "duration": 32597,
    "start_time": "2022-03-20T13:20:30.274Z"
   },
   {
    "duration": 12,
    "start_time": "2022-03-20T13:24:51.052Z"
   },
   {
    "duration": 4,
    "start_time": "2022-03-20T13:25:17.998Z"
   },
   {
    "duration": 4,
    "start_time": "2022-03-20T13:25:29.114Z"
   },
   {
    "duration": 8,
    "start_time": "2022-03-20T13:25:54.936Z"
   },
   {
    "duration": 1843,
    "start_time": "2022-03-20T13:29:46.566Z"
   },
   {
    "duration": 31,
    "start_time": "2022-03-20T13:29:48.412Z"
   },
   {
    "duration": 15,
    "start_time": "2022-03-20T13:29:48.445Z"
   },
   {
    "duration": 6,
    "start_time": "2022-03-20T13:29:48.461Z"
   },
   {
    "duration": 14,
    "start_time": "2022-03-20T13:29:48.469Z"
   },
   {
    "duration": 4,
    "start_time": "2022-03-20T13:29:48.485Z"
   },
   {
    "duration": 13,
    "start_time": "2022-03-20T13:29:48.491Z"
   },
   {
    "duration": 6,
    "start_time": "2022-03-20T13:29:48.533Z"
   },
   {
    "duration": 17,
    "start_time": "2022-03-20T13:29:48.542Z"
   },
   {
    "duration": 12,
    "start_time": "2022-03-20T13:29:48.561Z"
   },
   {
    "duration": 4,
    "start_time": "2022-03-20T13:29:48.575Z"
   },
   {
    "duration": 8,
    "start_time": "2022-03-20T13:29:48.581Z"
   },
   {
    "duration": 10,
    "start_time": "2022-03-20T13:29:48.591Z"
   },
   {
    "duration": 35,
    "start_time": "2022-03-20T13:29:48.605Z"
   },
   {
    "duration": 38,
    "start_time": "2022-03-20T13:29:48.642Z"
   },
   {
    "duration": 163,
    "start_time": "2022-03-20T13:29:48.682Z"
   },
   {
    "duration": 486,
    "start_time": "2022-03-20T13:29:48.847Z"
   },
   {
    "duration": 31199,
    "start_time": "2022-03-20T13:29:49.335Z"
   },
   {
    "duration": 196,
    "start_time": "2022-03-20T13:30:20.536Z"
   },
   {
    "duration": 110,
    "start_time": "2022-03-20T13:30:20.735Z"
   },
   {
    "duration": 190,
    "start_time": "2022-03-20T13:30:20.847Z"
   },
   {
    "duration": 8,
    "start_time": "2022-03-20T13:30:21.039Z"
   },
   {
    "duration": 18,
    "start_time": "2022-03-20T13:30:21.049Z"
   },
   {
    "duration": 803,
    "start_time": "2022-03-20T13:30:21.069Z"
   },
   {
    "duration": 133,
    "start_time": "2022-03-20T13:30:21.873Z"
   },
   {
    "duration": 0,
    "start_time": "2022-03-20T13:30:22.008Z"
   },
   {
    "duration": 0,
    "start_time": "2022-03-20T13:30:22.009Z"
   },
   {
    "duration": 0,
    "start_time": "2022-03-20T13:30:22.012Z"
   },
   {
    "duration": 0,
    "start_time": "2022-03-20T13:30:22.013Z"
   },
   {
    "duration": 0,
    "start_time": "2022-03-20T13:30:22.015Z"
   },
   {
    "duration": 0,
    "start_time": "2022-03-20T13:30:22.032Z"
   },
   {
    "duration": 0,
    "start_time": "2022-03-20T13:30:22.034Z"
   },
   {
    "duration": 0,
    "start_time": "2022-03-20T13:30:22.036Z"
   },
   {
    "duration": 0,
    "start_time": "2022-03-20T13:30:22.038Z"
   },
   {
    "duration": 0,
    "start_time": "2022-03-20T13:30:22.039Z"
   },
   {
    "duration": 0,
    "start_time": "2022-03-20T13:30:22.041Z"
   },
   {
    "duration": 0,
    "start_time": "2022-03-20T13:30:22.043Z"
   },
   {
    "duration": 0,
    "start_time": "2022-03-20T13:30:22.044Z"
   },
   {
    "duration": 0,
    "start_time": "2022-03-20T13:30:22.045Z"
   },
   {
    "duration": 0,
    "start_time": "2022-03-20T13:30:22.046Z"
   },
   {
    "duration": 0,
    "start_time": "2022-03-20T13:30:22.048Z"
   },
   {
    "duration": 0,
    "start_time": "2022-03-20T13:30:22.049Z"
   },
   {
    "duration": 522,
    "start_time": "2022-03-20T13:30:56.130Z"
   },
   {
    "duration": 560,
    "start_time": "2022-03-20T13:31:16.699Z"
   },
   {
    "duration": 1298,
    "start_time": "2022-03-20T13:31:17.261Z"
   },
   {
    "duration": 157,
    "start_time": "2022-03-20T13:31:18.561Z"
   },
   {
    "duration": 47,
    "start_time": "2022-03-20T13:31:18.721Z"
   },
   {
    "duration": 111,
    "start_time": "2022-03-20T13:31:18.831Z"
   },
   {
    "duration": 191,
    "start_time": "2022-03-20T13:31:18.944Z"
   },
   {
    "duration": 96,
    "start_time": "2022-03-20T13:31:19.141Z"
   },
   {
    "duration": 9,
    "start_time": "2022-03-20T13:31:19.239Z"
   },
   {
    "duration": 4,
    "start_time": "2022-03-20T13:31:19.251Z"
   },
   {
    "duration": 75,
    "start_time": "2022-03-20T13:31:19.258Z"
   },
   {
    "duration": 5,
    "start_time": "2022-03-20T13:31:19.335Z"
   },
   {
    "duration": 185,
    "start_time": "2022-03-20T13:31:19.342Z"
   },
   {
    "duration": 4,
    "start_time": "2022-03-20T13:31:19.530Z"
   },
   {
    "duration": 14,
    "start_time": "2022-03-20T13:31:19.537Z"
   },
   {
    "duration": 10,
    "start_time": "2022-03-20T13:31:19.553Z"
   },
   {
    "duration": 75,
    "start_time": "2022-03-20T13:31:19.565Z"
   },
   {
    "duration": 27,
    "start_time": "2022-03-20T13:31:19.642Z"
   },
   {
    "duration": 66,
    "start_time": "2022-03-20T13:31:19.671Z"
   },
   {
    "duration": 4,
    "start_time": "2022-03-20T13:31:36.738Z"
   },
   {
    "duration": 8,
    "start_time": "2022-03-20T13:31:41.913Z"
   },
   {
    "duration": 109,
    "start_time": "2022-03-20T18:49:37.615Z"
   }
  ],
  "kernelspec": {
   "display_name": "Python 3 (ipykernel)",
   "language": "python",
   "name": "python3"
  },
  "language_info": {
   "codemirror_mode": {
    "name": "ipython",
    "version": 3
   },
   "file_extension": ".py",
   "mimetype": "text/x-python",
   "name": "python",
   "nbconvert_exporter": "python",
   "pygments_lexer": "ipython3",
   "version": "3.10.0"
  },
  "toc": {
   "base_numbering": 1,
   "nav_menu": {},
   "number_sections": true,
   "sideBar": true,
   "skip_h1_title": true,
   "title_cell": "Содержание",
   "title_sidebar": "Contents",
   "toc_cell": true,
   "toc_position": {},
   "toc_section_display": true,
   "toc_window_display": true
  }
 },
 "nbformat": 4,
 "nbformat_minor": 4
}
