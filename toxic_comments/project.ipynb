{
 "cells": [
  {
   "cell_type": "markdown",
   "metadata": {},
   "source": [
    "## Загрузка и изучение данных"
   ]
  },
  {
   "cell_type": "code",
   "execution_count": 1,
   "metadata": {},
   "outputs": [],
   "source": [
    "import pandas as pd #импортируем библиотеки\n",
    "from nltk.stem.wordnet import WordNetLemmatizer\n",
    "import re \n",
    "from sklearn.model_selection import train_test_split\n",
    "import nltk\n",
    "from nltk.corpus import stopwords as nltk_stopwords\n",
    "from sklearn.feature_extraction.text import TfidfVectorizer \n",
    "from sklearn.tree import DecisionTreeClassifier\n",
    "from sklearn.model_selection import GridSearchCV\n",
    "from sklearn.metrics import f1_score\n",
    "from sklearn.linear_model import LogisticRegression\n",
    "import torch\n",
    "import transformers\n",
    "from lightgbm import LGBMRegressor\n",
    "from sklearn.ensemble import RandomForestClassifier\n",
    "from sklearn.pipeline import Pipeline\n",
    "from sklearn.preprocessing import StandardScaler\n",
    "from sklearn.pipeline import make_pipeline"
   ]
  },
  {
   "cell_type": "code",
   "execution_count": 2,
   "metadata": {},
   "outputs": [],
   "source": [
    "data =  pd.read_csv(\"/datasets/toxic_comments.csv\")"
   ]
  },
  {
   "cell_type": "code",
   "execution_count": 3,
   "metadata": {},
   "outputs": [
    {
     "name": "stdout",
     "output_type": "stream",
     "text": [
      "<class 'pandas.core.frame.DataFrame'>\n",
      "RangeIndex: 159571 entries, 0 to 159570\n",
      "Data columns (total 2 columns):\n",
      " #   Column  Non-Null Count   Dtype \n",
      "---  ------  --------------   ----- \n",
      " 0   text    159571 non-null  object\n",
      " 1   toxic   159571 non-null  int64 \n",
      "dtypes: int64(1), object(1)\n",
      "memory usage: 2.4+ MB\n"
     ]
    }
   ],
   "source": [
    "data.info() # информация о DF"
   ]
  },
  {
   "cell_type": "markdown",
   "metadata": {},
   "source": [
    "Данные чистые, без пропусков. Целевой признак - \"toxic\". "
   ]
  },
  {
   "cell_type": "code",
   "execution_count": 4,
   "metadata": {},
   "outputs": [
    {
     "data": {
      "text/html": [
       "<div>\n",
       "<style scoped>\n",
       "    .dataframe tbody tr th:only-of-type {\n",
       "        vertical-align: middle;\n",
       "    }\n",
       "\n",
       "    .dataframe tbody tr th {\n",
       "        vertical-align: top;\n",
       "    }\n",
       "\n",
       "    .dataframe thead th {\n",
       "        text-align: right;\n",
       "    }\n",
       "</style>\n",
       "<table border=\"1\" class=\"dataframe\">\n",
       "  <thead>\n",
       "    <tr style=\"text-align: right;\">\n",
       "      <th></th>\n",
       "      <th>text</th>\n",
       "      <th>toxic</th>\n",
       "    </tr>\n",
       "  </thead>\n",
       "  <tbody>\n",
       "    <tr>\n",
       "      <th>0</th>\n",
       "      <td>Explanation\\nWhy the edits made under my usern...</td>\n",
       "      <td>0</td>\n",
       "    </tr>\n",
       "    <tr>\n",
       "      <th>1</th>\n",
       "      <td>D'aww! He matches this background colour I'm s...</td>\n",
       "      <td>0</td>\n",
       "    </tr>\n",
       "    <tr>\n",
       "      <th>2</th>\n",
       "      <td>Hey man, I'm really not trying to edit war. It...</td>\n",
       "      <td>0</td>\n",
       "    </tr>\n",
       "    <tr>\n",
       "      <th>3</th>\n",
       "      <td>\"\\nMore\\nI can't make any real suggestions on ...</td>\n",
       "      <td>0</td>\n",
       "    </tr>\n",
       "    <tr>\n",
       "      <th>4</th>\n",
       "      <td>You, sir, are my hero. Any chance you remember...</td>\n",
       "      <td>0</td>\n",
       "    </tr>\n",
       "  </tbody>\n",
       "</table>\n",
       "</div>"
      ],
      "text/plain": [
       "                                                text  toxic\n",
       "0  Explanation\\nWhy the edits made under my usern...      0\n",
       "1  D'aww! He matches this background colour I'm s...      0\n",
       "2  Hey man, I'm really not trying to edit war. It...      0\n",
       "3  \"\\nMore\\nI can't make any real suggestions on ...      0\n",
       "4  You, sir, are my hero. Any chance you remember...      0"
      ]
     },
     "execution_count": 4,
     "metadata": {},
     "output_type": "execute_result"
    }
   ],
   "source": [
    "data.head(5) # посмотрим как выглядят"
   ]
  },
  {
   "cell_type": "markdown",
   "metadata": {},
   "source": [
    "Введем функцию лемматизации и очистки данных:"
   ]
  },
  {
   "cell_type": "code",
   "execution_count": 5,
   "metadata": {},
   "outputs": [
    {
     "name": "stderr",
     "output_type": "stream",
     "text": [
      "[nltk_data] Downloading package stopwords to /home/jovyan/nltk_data...\n",
      "[nltk_data]   Package stopwords is already up-to-date!\n"
     ]
    }
   ],
   "source": [
    "nltk.download('stopwords') # загрузим стоп-слова\n",
    "stopwords = set(nltk_stopwords.words('english'))"
   ]
  },
  {
   "cell_type": "code",
   "execution_count": 6,
   "metadata": {},
   "outputs": [],
   "source": [
    "def clear_text(text):\n",
    "    text_clear = ' '.join(re.sub(r'[^a-zA-z]', ' ', text).lower().split())\n",
    "    word_list = nltk.word_tokenize(text_clear)\n",
    "    return word_list"
   ]
  },
  {
   "cell_type": "code",
   "execution_count": 7,
   "metadata": {},
   "outputs": [],
   "source": [
    "lemmatizer = WordNetLemmatizer()\n",
    "def lemmatize(text):\n",
    "    lemm_text = [lemmatizer.lemmatize(w) for w in text]\n",
    "    return \" \".join(lemm_text)"
   ]
  },
  {
   "cell_type": "markdown",
   "metadata": {},
   "source": [
    "Применим функцию к данным:"
   ]
  },
  {
   "cell_type": "code",
   "execution_count": 8,
   "metadata": {},
   "outputs": [],
   "source": [
    "data[\"text\"] = data[\"text\"].apply(clear_text)  "
   ]
  },
  {
   "cell_type": "code",
   "execution_count": 9,
   "metadata": {},
   "outputs": [],
   "source": [
    "data[\"text\"] = data[\"text\"].apply(lemmatize)  "
   ]
  },
  {
   "cell_type": "code",
   "execution_count": 28,
   "metadata": {},
   "outputs": [
    {
     "data": {
      "text/html": [
       "<div>\n",
       "<style scoped>\n",
       "    .dataframe tbody tr th:only-of-type {\n",
       "        vertical-align: middle;\n",
       "    }\n",
       "\n",
       "    .dataframe tbody tr th {\n",
       "        vertical-align: top;\n",
       "    }\n",
       "\n",
       "    .dataframe thead th {\n",
       "        text-align: right;\n",
       "    }\n",
       "</style>\n",
       "<table border=\"1\" class=\"dataframe\">\n",
       "  <thead>\n",
       "    <tr style=\"text-align: right;\">\n",
       "      <th></th>\n",
       "      <th>text</th>\n",
       "      <th>toxic</th>\n",
       "    </tr>\n",
       "  </thead>\n",
       "  <tbody>\n",
       "    <tr>\n",
       "      <th>0</th>\n",
       "      <td>explanation why the edits made under my userna...</td>\n",
       "      <td>0</td>\n",
       "    </tr>\n",
       "    <tr>\n",
       "      <th>1</th>\n",
       "      <td>d aww he match this background colour i m seem...</td>\n",
       "      <td>0</td>\n",
       "    </tr>\n",
       "    <tr>\n",
       "      <th>2</th>\n",
       "      <td>hey man i m really not trying to edit war it s...</td>\n",
       "      <td>0</td>\n",
       "    </tr>\n",
       "    <tr>\n",
       "      <th>3</th>\n",
       "      <td>more i can t make any real suggestion on impro...</td>\n",
       "      <td>0</td>\n",
       "    </tr>\n",
       "    <tr>\n",
       "      <th>4</th>\n",
       "      <td>you sir are my hero any chance you remember wh...</td>\n",
       "      <td>0</td>\n",
       "    </tr>\n",
       "  </tbody>\n",
       "</table>\n",
       "</div>"
      ],
      "text/plain": [
       "                                                text  toxic\n",
       "0  explanation why the edits made under my userna...      0\n",
       "1  d aww he match this background colour i m seem...      0\n",
       "2  hey man i m really not trying to edit war it s...      0\n",
       "3  more i can t make any real suggestion on impro...      0\n",
       "4  you sir are my hero any chance you remember wh...      0"
      ]
     },
     "execution_count": 28,
     "metadata": {},
     "output_type": "execute_result"
    }
   ],
   "source": [
    "data.head()"
   ]
  },
  {
   "cell_type": "markdown",
   "metadata": {},
   "source": [
    "Выделим в данных целевой признак:"
   ]
  },
  {
   "cell_type": "code",
   "execution_count": 11,
   "metadata": {},
   "outputs": [],
   "source": [
    "target = data['toxic']\n",
    "features = data.drop(['toxic'], axis=1)"
   ]
  },
  {
   "cell_type": "markdown",
   "metadata": {},
   "source": [
    "Разделим данные на выборки (обучающая и тестовая): "
   ]
  },
  {
   "cell_type": "code",
   "execution_count": 12,
   "metadata": {},
   "outputs": [],
   "source": [
    "features_train, features_test, target_train, target_test = train_test_split(features, target, test_size=0.4, random_state=42)"
   ]
  },
  {
   "cell_type": "markdown",
   "metadata": {},
   "source": [
    "Загрузим пакет стоп-слов, это слова, которые не несут смысловой нагрузки. "
   ]
  },
  {
   "cell_type": "code",
   "execution_count": 13,
   "metadata": {},
   "outputs": [],
   "source": [
    "count_tf_idf = TfidfVectorizer(stop_words=stopwords) # создадим счетчик, указав в нем стоп-слова"
   ]
  },
  {
   "cell_type": "markdown",
   "metadata": {},
   "source": [
    "Посчитаем TF-IDF для текста, применив fit_transform. Функцию fit запускаем только на обучающей выборке, иначе тестирование будет нечестным, в модели будут учтены частоты слов из тестовой выборки. На тестовой выборке только transform. "
   ]
  },
  {
   "cell_type": "code",
   "execution_count": 14,
   "metadata": {},
   "outputs": [],
   "source": [
    "features_train = count_tf_idf.fit_transform(features_train[\"text\"].values)"
   ]
  },
  {
   "cell_type": "code",
   "execution_count": 15,
   "metadata": {},
   "outputs": [],
   "source": [
    "features_test = count_tf_idf.transform(features_test['text'].values) "
   ]
  },
  {
   "cell_type": "markdown",
   "metadata": {},
   "source": [
    "## Обучим модели"
   ]
  },
  {
   "cell_type": "markdown",
   "metadata": {},
   "source": [
    "Рассмотрим на модели Логистическая регрессия:"
   ]
  },
  {
   "cell_type": "code",
   "execution_count": null,
   "metadata": {},
   "outputs": [],
   "source": [
    "model_lr = LogisticRegression(random_state = 42, class_weight='balanced')\n",
    "params = {\n",
    "   #'penanlty': ['l1', 'l2'],        \n",
    "   'C': [0.5, 1.0, 5.0, 15.0],\n",
    "    'intercept_scaling': range(5, 100, 40), \n",
    "    'solver': ['liblinear'] \n",
    "}\n",
    "lr_gs = GridSearchCV(model_lr, params, cv=3, scoring='f1', verbose=True).fit(features_train, target_train)\n",
    "lr_gs.best_params_"
   ]
  },
  {
   "cell_type": "code",
   "execution_count": 17,
   "metadata": {},
   "outputs": [],
   "source": [
    "model_lr_best_param = LogisticRegression(random_state = 42, C = 5, intercept_scaling = 5, solver = 'liblinear')"
   ]
  },
  {
   "cell_type": "code",
   "execution_count": 27,
   "metadata": {},
   "outputs": [
    {
     "name": "stdout",
     "output_type": "stream",
     "text": [
      "Для модели Логистическая регрессия f1: 0.774861\n"
     ]
    }
   ],
   "source": [
    "model_lr_best_param.fit(features_train, target_train)\n",
    "predictions_lr = model_lr_best_param.predict(features_test)\n",
    "f1_lr = f1_score(target_test, predictions_lr)\n",
    "print(\"Для модели Логистическая регрессия f1:\", f1_lr)"
   ]
  },
  {
   "cell_type": "markdown",
   "metadata": {},
   "source": [
    "Рассмотрим на модели Дерево решений:"
   ]
  },
  {
   "cell_type": "code",
   "execution_count": 19,
   "metadata": {},
   "outputs": [
    {
     "name": "stdout",
     "output_type": "stream",
     "text": [
      "Fitting 3 folds for each of 6 candidates, totalling 18 fits\n"
     ]
    },
    {
     "data": {
      "text/plain": [
       "{'criterion': 'entropy', 'max_depth': 11}"
      ]
     },
     "execution_count": 19,
     "metadata": {},
     "output_type": "execute_result"
    }
   ],
   "source": [
    "tree = DecisionTreeClassifier(random_state = 42, class_weight='balanced')\n",
    "params = {\n",
    "   'criterion':['gini', 'entropy'],        \n",
    "   'max_depth':list(range(1,15,5)) \n",
    "}\n",
    "tree_gs = GridSearchCV(tree, params, cv=3, scoring='f1', verbose=True).fit(features_train, target_train)\n",
    "tree_gs.best_params_"
   ]
  },
  {
   "cell_type": "code",
   "execution_count": 29,
   "metadata": {},
   "outputs": [],
   "source": [
    "tree_best = DecisionTreeClassifier(criterion = 'entropy', max_depth = 11, random_state = 42)"
   ]
  },
  {
   "cell_type": "code",
   "execution_count": 32,
   "metadata": {},
   "outputs": [
    {
     "name": "stdout",
     "output_type": "stream",
     "text": [
      "Для модели Дерево решений метрика f1: 0.5875090029838461\n"
     ]
    }
   ],
   "source": [
    "tree_best.fit(features_train, target_train) # обучим\n",
    "predictions_tree = tree_best.predict(features_test)  # предскажем\n",
    "f1_tree = f1_score(target_test, predictions_tree)\n",
    "print(\"Для модели Дерево решений метрика f1:\", f1_tree)"
   ]
  },
  {
   "cell_type": "markdown",
   "metadata": {},
   "source": [
    "Рассмотрим на модели Случайный лес:"
   ]
  },
  {
   "cell_type": "code",
   "execution_count": 33,
   "metadata": {},
   "outputs": [],
   "source": [
    "model_forest = RandomForestClassifier(random_state=42, class_weight='balanced')"
   ]
  },
  {
   "cell_type": "code",
   "execution_count": 34,
   "metadata": {},
   "outputs": [
    {
     "data": {
      "text/plain": [
       "{'max_depth': 12, 'n_estimators': 100}"
      ]
     },
     "execution_count": 34,
     "metadata": {},
     "output_type": "execute_result"
    }
   ],
   "source": [
    "param_grid = {'n_estimators': [1, 100], 'max_depth': [5, 10, 12]}\n",
    "gs = GridSearchCV(model_forest, param_grid, cv=3, scoring='f1')\n",
    "gs.fit(features_train, target_train)\n",
    "gs.best_params_ "
   ]
  },
  {
   "cell_type": "code",
   "execution_count": 35,
   "metadata": {},
   "outputs": [],
   "source": [
    "model_forest_optim = RandomForestClassifier(random_state = 42, max_depth = 12, n_estimators = 100)\n",
    "model_forest_optim.fit(features_train, target_train)\n",
    "predictions_forest = model_forest_optim.predict(features_test)"
   ]
  },
  {
   "cell_type": "code",
   "execution_count": 36,
   "metadata": {},
   "outputs": [
    {
     "name": "stdout",
     "output_type": "stream",
     "text": [
      "Для модели Случайный лес f1: 0.0\n"
     ]
    }
   ],
   "source": [
    "f1_forest = f1_score(target_test, predictions_forest)\n",
    "print(\"Для модели Случайный лес f1:\", f1_forest)"
   ]
  },
  {
   "cell_type": "markdown",
   "metadata": {},
   "source": [
    "## Выводы"
   ]
  },
  {
   "cell_type": "markdown",
   "metadata": {},
   "source": [
    "С полученными данными провели очистку и лемматизацию, выдели целевой признак, разбили на выбрки. Посчитали TF-IDF для текста, загрузив стоп-слова. Обучили данные на примере моделей Логистической регрессии, Дерева решений, Случайного леса классифицировтаь комментарии на позитивные и негативные. Для всех моделей определили метрику f1. Данные приведены в таблице. Лучший результат показала модель Логистическая регрессия. "
   ]
  },
  {
   "cell_type": "code",
   "execution_count": 37,
   "metadata": {},
   "outputs": [
    {
     "data": {
      "text/html": [
       "<div>\n",
       "<style scoped>\n",
       "    .dataframe tbody tr th:only-of-type {\n",
       "        vertical-align: middle;\n",
       "    }\n",
       "\n",
       "    .dataframe tbody tr th {\n",
       "        vertical-align: top;\n",
       "    }\n",
       "\n",
       "    .dataframe thead th {\n",
       "        text-align: right;\n",
       "    }\n",
       "</style>\n",
       "<table border=\"1\" class=\"dataframe\">\n",
       "  <thead>\n",
       "    <tr style=\"text-align: right;\">\n",
       "      <th></th>\n",
       "      <th>модель</th>\n",
       "      <th>значение метриик f1</th>\n",
       "    </tr>\n",
       "  </thead>\n",
       "  <tbody>\n",
       "    <tr>\n",
       "      <th>0</th>\n",
       "      <td>Логистическая регрессия</td>\n",
       "      <td>0.774861</td>\n",
       "    </tr>\n",
       "    <tr>\n",
       "      <th>1</th>\n",
       "      <td>Дерево решений</td>\n",
       "      <td>0.587509</td>\n",
       "    </tr>\n",
       "    <tr>\n",
       "      <th>2</th>\n",
       "      <td>Случайный лес</td>\n",
       "      <td>0.000000</td>\n",
       "    </tr>\n",
       "  </tbody>\n",
       "</table>\n",
       "</div>"
      ],
      "text/plain": [
       "                    модель  значение метриик f1\n",
       "0  Логистическая регрессия             0.774861\n",
       "1           Дерево решений             0.587509\n",
       "2            Случайный лес             0.000000"
      ]
     },
     "execution_count": 37,
     "metadata": {},
     "output_type": "execute_result"
    }
   ],
   "source": [
    "rez = pd.DataFrame({\"модель\": [\"Логистическая регрессия\", \"Дерево решений\", \n",
    "                              \"Случайный лес\"], \"значение метриик f1\": [f1_lr, f1_tree, f1_forest]})\n",
    "rez"
   ]
  }
 ],
 "metadata": {
  "ExecuteTimeLog": [
   {
    "duration": 1155,
    "start_time": "2022-06-04T07:01:43.001Z"
   },
   {
    "duration": 3336,
    "start_time": "2022-06-04T07:02:30.853Z"
   },
   {
    "duration": 38,
    "start_time": "2022-06-04T07:02:45.282Z"
   },
   {
    "duration": 18,
    "start_time": "2022-06-04T07:03:22.880Z"
   },
   {
    "duration": 3,
    "start_time": "2022-06-04T07:03:31.592Z"
   },
   {
    "duration": 119356,
    "start_time": "2022-06-04T07:03:45.778Z"
   },
   {
    "duration": 168,
    "start_time": "2022-06-04T07:05:45.136Z"
   },
   {
    "duration": 0,
    "start_time": "2022-06-04T07:05:45.307Z"
   },
   {
    "duration": 5,
    "start_time": "2022-06-04T07:27:34.452Z"
   },
   {
    "duration": 23,
    "start_time": "2022-06-04T07:27:37.789Z"
   },
   {
    "duration": 245,
    "start_time": "2022-06-04T07:27:40.022Z"
   },
   {
    "duration": 11,
    "start_time": "2022-06-04T07:27:58.539Z"
   },
   {
    "duration": 10,
    "start_time": "2022-06-04T07:51:53.037Z"
   },
   {
    "duration": 3,
    "start_time": "2022-06-04T07:52:30.424Z"
   },
   {
    "duration": 3,
    "start_time": "2022-06-04T07:52:36.267Z"
   },
   {
    "duration": 710,
    "start_time": "2022-06-04T07:53:13.148Z"
   },
   {
    "duration": 10,
    "start_time": "2022-06-04T07:53:14.526Z"
   },
   {
    "duration": 16,
    "start_time": "2022-06-04T07:54:17.849Z"
   },
   {
    "duration": 5,
    "start_time": "2022-06-04T07:54:18.425Z"
   },
   {
    "duration": 3,
    "start_time": "2022-06-04T07:54:19.120Z"
   },
   {
    "duration": 743,
    "start_time": "2022-06-04T07:54:19.635Z"
   },
   {
    "duration": 254,
    "start_time": "2022-06-04T07:54:20.380Z"
   },
   {
    "duration": 10,
    "start_time": "2022-06-04T07:55:07.507Z"
   },
   {
    "duration": 23,
    "start_time": "2022-06-04T07:56:05.110Z"
   },
   {
    "duration": 14,
    "start_time": "2022-06-04T07:56:09.036Z"
   },
   {
    "duration": 4,
    "start_time": "2022-06-04T07:56:26.210Z"
   },
   {
    "duration": 867,
    "start_time": "2022-06-04T07:56:29.905Z"
   },
   {
    "duration": 6,
    "start_time": "2022-06-04T07:57:35.455Z"
   },
   {
    "duration": 6,
    "start_time": "2022-06-04T07:59:28.615Z"
   },
   {
    "duration": 23,
    "start_time": "2022-06-04T08:00:42.825Z"
   },
   {
    "duration": 23,
    "start_time": "2022-06-04T08:01:35.754Z"
   },
   {
    "duration": 6,
    "start_time": "2022-06-04T08:05:05.598Z"
   },
   {
    "duration": 12,
    "start_time": "2022-06-04T08:05:59.559Z"
   },
   {
    "duration": 12,
    "start_time": "2022-06-04T08:06:10.609Z"
   },
   {
    "duration": 4,
    "start_time": "2022-06-04T08:06:49.152Z"
   },
   {
    "duration": 17,
    "start_time": "2022-06-04T08:06:51.197Z"
   },
   {
    "duration": 33,
    "start_time": "2022-06-04T08:08:12.824Z"
   },
   {
    "duration": 30,
    "start_time": "2022-06-04T08:10:41.308Z"
   },
   {
    "duration": 4,
    "start_time": "2022-06-04T08:37:25.007Z"
   },
   {
    "duration": 4,
    "start_time": "2022-06-04T08:37:34.497Z"
   },
   {
    "duration": 9,
    "start_time": "2022-06-04T08:37:43.244Z"
   },
   {
    "duration": 4,
    "start_time": "2022-06-04T08:38:04.713Z"
   },
   {
    "duration": 10,
    "start_time": "2022-06-04T08:42:26.894Z"
   },
   {
    "duration": 4,
    "start_time": "2022-06-04T08:43:31.423Z"
   },
   {
    "duration": 3,
    "start_time": "2022-06-04T08:45:25.350Z"
   },
   {
    "duration": 6,
    "start_time": "2022-06-04T08:48:49.936Z"
   },
   {
    "duration": 37,
    "start_time": "2022-06-04T08:49:03.890Z"
   },
   {
    "duration": 35,
    "start_time": "2022-06-04T08:50:01.041Z"
   },
   {
    "duration": 49,
    "start_time": "2022-06-04T08:50:25.737Z"
   },
   {
    "duration": 57,
    "start_time": "2022-06-04T08:51:03.507Z"
   },
   {
    "duration": 57,
    "start_time": "2022-06-04T08:51:18.604Z"
   },
   {
    "duration": 55,
    "start_time": "2022-06-04T08:51:39.827Z"
   },
   {
    "duration": 229,
    "start_time": "2022-06-04T08:52:06.228Z"
   },
   {
    "duration": 48,
    "start_time": "2022-06-04T08:52:14.114Z"
   },
   {
    "duration": 49,
    "start_time": "2022-06-04T08:52:18.158Z"
   },
   {
    "duration": 214,
    "start_time": "2022-06-04T08:52:24.219Z"
   },
   {
    "duration": 494,
    "start_time": "2022-06-04T08:53:29.186Z"
   },
   {
    "duration": 1660,
    "start_time": "2022-06-04T08:53:35.218Z"
   },
   {
    "duration": 834,
    "start_time": "2022-06-04T08:53:52.307Z"
   },
   {
    "duration": 1936,
    "start_time": "2022-06-04T08:54:13.507Z"
   },
   {
    "duration": 40,
    "start_time": "2022-06-04T08:55:13.141Z"
   },
   {
    "duration": 29,
    "start_time": "2022-06-04T08:55:24.210Z"
   },
   {
    "duration": 3,
    "start_time": "2022-06-04T08:56:45.722Z"
   },
   {
    "duration": 89,
    "start_time": "2022-06-04T08:58:33.603Z"
   },
   {
    "duration": 71,
    "start_time": "2022-06-04T08:58:41.023Z"
   },
   {
    "duration": 71,
    "start_time": "2022-06-04T08:59:11.169Z"
   },
   {
    "duration": 1152,
    "start_time": "2022-06-04T08:59:40.736Z"
   },
   {
    "duration": 914,
    "start_time": "2022-06-04T08:59:41.891Z"
   },
   {
    "duration": 27,
    "start_time": "2022-06-04T08:59:42.806Z"
   },
   {
    "duration": 16,
    "start_time": "2022-06-04T08:59:42.835Z"
   },
   {
    "duration": 4,
    "start_time": "2022-06-04T08:59:42.855Z"
   },
   {
    "duration": 138203,
    "start_time": "2022-06-04T08:59:42.861Z"
   },
   {
    "duration": 8,
    "start_time": "2022-06-04T09:02:01.066Z"
   },
   {
    "duration": 31,
    "start_time": "2022-06-04T09:02:01.076Z"
   },
   {
    "duration": 200,
    "start_time": "2022-06-04T09:02:01.109Z"
   },
   {
    "duration": 4,
    "start_time": "2022-06-04T09:02:01.311Z"
   },
   {
    "duration": 888,
    "start_time": "2022-06-04T09:02:01.316Z"
   },
   {
    "duration": 300,
    "start_time": "2022-06-04T09:02:02.207Z"
   },
   {
    "duration": 1707,
    "start_time": "2022-06-04T09:02:02.509Z"
   },
   {
    "duration": 4,
    "start_time": "2022-06-04T09:02:04.220Z"
   },
   {
    "duration": 310,
    "start_time": "2022-06-04T09:02:04.225Z"
   },
   {
    "duration": 0,
    "start_time": "2022-06-04T09:02:04.537Z"
   },
   {
    "duration": 0,
    "start_time": "2022-06-04T09:02:04.539Z"
   },
   {
    "duration": 0,
    "start_time": "2022-06-04T09:02:04.540Z"
   },
   {
    "duration": 111,
    "start_time": "2022-06-04T09:06:17.361Z"
   },
   {
    "duration": 841,
    "start_time": "2022-06-04T09:06:22.117Z"
   },
   {
    "duration": 3,
    "start_time": "2022-06-04T09:06:22.960Z"
   },
   {
    "duration": 32,
    "start_time": "2022-06-04T09:06:23.119Z"
   },
   {
    "duration": 42,
    "start_time": "2022-06-04T09:06:47.519Z"
   },
   {
    "duration": 30,
    "start_time": "2022-06-04T09:07:38.153Z"
   },
   {
    "duration": 73,
    "start_time": "2022-06-04T09:07:45.407Z"
   },
   {
    "duration": 34,
    "start_time": "2022-06-04T09:07:55.435Z"
   },
   {
    "duration": 96,
    "start_time": "2022-06-04T09:08:05.969Z"
   },
   {
    "duration": 34,
    "start_time": "2022-06-04T09:08:09.007Z"
   },
   {
    "duration": 1857,
    "start_time": "2022-06-04T09:08:49.799Z"
   },
   {
    "duration": 4,
    "start_time": "2022-06-04T09:09:03.915Z"
   },
   {
    "duration": 80,
    "start_time": "2022-06-04T09:09:07.803Z"
   },
   {
    "duration": 987,
    "start_time": "2022-06-04T09:09:19.207Z"
   },
   {
    "duration": 3,
    "start_time": "2022-06-04T09:09:27.032Z"
   },
   {
    "duration": 40,
    "start_time": "2022-06-04T09:09:29.253Z"
   },
   {
    "duration": 3,
    "start_time": "2022-06-04T09:41:58.710Z"
   },
   {
    "duration": 177,
    "start_time": "2022-06-04T09:46:03.085Z"
   },
   {
    "duration": 2453,
    "start_time": "2022-06-04T09:46:30.108Z"
   },
   {
    "duration": 251,
    "start_time": "2022-06-04T09:46:36.835Z"
   },
   {
    "duration": 28782,
    "start_time": "2022-06-04T09:49:11.415Z"
   },
   {
    "duration": 10,
    "start_time": "2022-06-04T10:02:06.631Z"
   },
   {
    "duration": 854,
    "start_time": "2022-06-04T10:02:12.415Z"
   },
   {
    "duration": 35,
    "start_time": "2022-06-04T10:02:14.318Z"
   },
   {
    "duration": 8,
    "start_time": "2022-06-04T10:02:16.046Z"
   },
   {
    "duration": 48,
    "start_time": "2022-06-04T10:07:23.438Z"
   },
   {
    "duration": 37,
    "start_time": "2022-06-04T10:25:31.429Z"
   },
   {
    "duration": 3884,
    "start_time": "2022-06-04T10:25:55.943Z"
   },
   {
    "duration": 907,
    "start_time": "2022-06-04T10:25:59.829Z"
   },
   {
    "duration": 32,
    "start_time": "2022-06-04T10:26:00.737Z"
   },
   {
    "duration": 32,
    "start_time": "2022-06-04T10:26:00.770Z"
   },
   {
    "duration": 4,
    "start_time": "2022-06-04T10:26:00.805Z"
   },
   {
    "duration": 120791,
    "start_time": "2022-06-04T10:26:00.811Z"
   },
   {
    "duration": 5,
    "start_time": "2022-06-04T10:28:01.605Z"
   },
   {
    "duration": 26,
    "start_time": "2022-06-04T10:28:01.612Z"
   },
   {
    "duration": 237,
    "start_time": "2022-06-04T10:28:01.640Z"
   },
   {
    "duration": 4,
    "start_time": "2022-06-04T10:28:01.879Z"
   },
   {
    "duration": 5,
    "start_time": "2022-06-04T10:41:03.280Z"
   },
   {
    "duration": 3,
    "start_time": "2022-06-04T10:41:04.046Z"
   },
   {
    "duration": 725,
    "start_time": "2022-06-04T10:41:06.708Z"
   },
   {
    "duration": 2057,
    "start_time": "2022-06-04T10:41:16.984Z"
   },
   {
    "duration": 4,
    "start_time": "2022-06-04T10:41:24.148Z"
   },
   {
    "duration": 443,
    "start_time": "2022-06-04T10:41:24.896Z"
   },
   {
    "duration": 5,
    "start_time": "2022-06-04T10:42:11.630Z"
   },
   {
    "duration": 23,
    "start_time": "2022-06-04T10:43:04.442Z"
   },
   {
    "duration": 23,
    "start_time": "2022-06-04T10:43:13.347Z"
   },
   {
    "duration": 17,
    "start_time": "2022-06-04T10:45:02.528Z"
   },
   {
    "duration": 22,
    "start_time": "2022-06-04T10:45:45.528Z"
   },
   {
    "duration": 3834,
    "start_time": "2022-06-04T10:50:19.813Z"
   },
   {
    "duration": 896,
    "start_time": "2022-06-04T10:50:23.650Z"
   },
   {
    "duration": 31,
    "start_time": "2022-06-04T10:50:24.548Z"
   },
   {
    "duration": 20,
    "start_time": "2022-06-04T10:50:24.581Z"
   },
   {
    "duration": 4,
    "start_time": "2022-06-04T10:50:24.603Z"
   },
   {
    "duration": 130840,
    "start_time": "2022-06-04T10:50:24.609Z"
   },
   {
    "duration": 6,
    "start_time": "2022-06-04T10:52:35.452Z"
   },
   {
    "duration": 31,
    "start_time": "2022-06-04T10:52:35.459Z"
   },
   {
    "duration": 244,
    "start_time": "2022-06-04T10:52:35.492Z"
   },
   {
    "duration": 3,
    "start_time": "2022-06-04T10:52:35.739Z"
   },
   {
    "duration": 734,
    "start_time": "2022-06-04T10:52:35.744Z"
   },
   {
    "duration": 250,
    "start_time": "2022-06-04T10:55:06.751Z"
   },
   {
    "duration": 1941,
    "start_time": "2022-06-04T10:55:09.521Z"
   },
   {
    "duration": 3,
    "start_time": "2022-06-04T10:55:11.464Z"
   },
   {
    "duration": 81,
    "start_time": "2022-06-04T10:55:12.029Z"
   },
   {
    "duration": 1016,
    "start_time": "2022-06-04T10:56:11.520Z"
   },
   {
    "duration": 4,
    "start_time": "2022-06-04T10:56:18.420Z"
   },
   {
    "duration": 52,
    "start_time": "2022-06-04T10:56:19.017Z"
   },
   {
    "duration": 364,
    "start_time": "2022-06-04T10:58:49.425Z"
   },
   {
    "duration": 149,
    "start_time": "2022-06-04T10:59:28.588Z"
   },
   {
    "duration": 3,
    "start_time": "2022-06-04T10:59:41.813Z"
   },
   {
    "duration": 3,
    "start_time": "2022-06-04T10:59:55.524Z"
   },
   {
    "duration": 3411,
    "start_time": "2022-06-04T11:01:00.712Z"
   },
   {
    "duration": 3262,
    "start_time": "2022-06-04T11:02:20.837Z"
   },
   {
    "duration": 2927,
    "start_time": "2022-06-04T11:02:29.796Z"
   },
   {
    "duration": 4354,
    "start_time": "2022-06-04T11:02:46.276Z"
   },
   {
    "duration": 16,
    "start_time": "2022-06-04T11:03:17.452Z"
   },
   {
    "duration": 39,
    "start_time": "2022-06-04T11:04:43.413Z"
   },
   {
    "duration": 13,
    "start_time": "2022-06-04T11:07:45.621Z"
   },
   {
    "duration": 28,
    "start_time": "2022-06-04T11:07:52.961Z"
   },
   {
    "duration": 28,
    "start_time": "2022-06-04T11:10:16.462Z"
   },
   {
    "duration": 22,
    "start_time": "2022-06-04T11:27:01.204Z"
   },
   {
    "duration": 14,
    "start_time": "2022-06-04T11:27:11.950Z"
   },
   {
    "duration": 3,
    "start_time": "2022-06-04T11:27:17.829Z"
   },
   {
    "duration": 14004,
    "start_time": "2022-06-04T11:29:17.820Z"
   },
   {
    "duration": 105059,
    "start_time": "2022-06-04T11:30:27.662Z"
   },
   {
    "duration": 26018,
    "start_time": "2022-06-04T11:32:16.207Z"
   },
   {
    "duration": 30,
    "start_time": "2022-06-04T11:32:47.065Z"
   },
   {
    "duration": 31,
    "start_time": "2022-06-04T11:32:48.424Z"
   },
   {
    "duration": 27,
    "start_time": "2022-06-04T11:32:58.453Z"
   },
   {
    "duration": 21,
    "start_time": "2022-06-04T11:35:52.007Z"
   },
   {
    "duration": 24,
    "start_time": "2022-06-04T11:36:00.907Z"
   },
   {
    "duration": 12,
    "start_time": "2022-06-04T11:37:34.219Z"
   },
   {
    "duration": 8736,
    "start_time": "2022-06-04T12:21:35.438Z"
   },
   {
    "duration": 5,
    "start_time": "2022-06-04T12:21:47.987Z"
   },
   {
    "duration": 42,
    "start_time": "2022-06-04T12:45:00.015Z"
   },
   {
    "duration": 85,
    "start_time": "2022-06-04T13:27:31.784Z"
   },
   {
    "duration": 5826,
    "start_time": "2022-06-04T13:28:15.352Z"
   },
   {
    "duration": 7,
    "start_time": "2022-06-04T13:28:26.086Z"
   },
   {
    "duration": 4,
    "start_time": "2022-06-04T13:29:00.575Z"
   },
   {
    "duration": 3,
    "start_time": "2022-06-04T13:29:28.738Z"
   },
   {
    "duration": 215,
    "start_time": "2022-06-04T13:31:51.536Z"
   },
   {
    "duration": 9,
    "start_time": "2022-06-04T13:33:34.091Z"
   },
   {
    "duration": 4,
    "start_time": "2022-06-04T13:36:37.634Z"
   },
   {
    "duration": 327,
    "start_time": "2022-06-04T13:37:21.202Z"
   },
   {
    "duration": 12,
    "start_time": "2022-06-04T13:38:00.083Z"
   },
   {
    "duration": 30,
    "start_time": "2022-06-04T13:38:02.283Z"
   },
   {
    "duration": 3517,
    "start_time": "2022-06-04T13:38:11.816Z"
   },
   {
    "duration": 36,
    "start_time": "2022-06-04T13:38:15.334Z"
   },
   {
    "duration": 13,
    "start_time": "2022-06-04T13:38:19.643Z"
   },
   {
    "duration": 5,
    "start_time": "2022-06-04T13:38:24.687Z"
   },
   {
    "duration": 6,
    "start_time": "2022-06-04T13:38:25.393Z"
   },
   {
    "duration": 2397,
    "start_time": "2022-06-04T13:38:28.211Z"
   },
   {
    "duration": 4,
    "start_time": "2022-06-04T13:42:37.348Z"
   },
   {
    "duration": 139026,
    "start_time": "2022-06-04T13:42:39.101Z"
   },
   {
    "duration": 19,
    "start_time": "2022-06-04T13:45:04.615Z"
   },
   {
    "duration": 63,
    "start_time": "2022-06-04T13:45:05.676Z"
   },
   {
    "duration": 3,
    "start_time": "2022-06-04T13:45:08.714Z"
   },
   {
    "duration": 1048,
    "start_time": "2022-06-04T13:45:11.111Z"
   },
   {
    "duration": 0,
    "start_time": "2022-06-04T13:45:12.161Z"
   },
   {
    "duration": 37,
    "start_time": "2022-06-04T13:45:25.798Z"
   },
   {
    "duration": 1114,
    "start_time": "2022-06-04T13:45:51.086Z"
   },
   {
    "duration": 758,
    "start_time": "2022-06-04T13:48:09.013Z"
   },
   {
    "duration": 39,
    "start_time": "2022-06-04T13:58:50.477Z"
   },
   {
    "duration": 6,
    "start_time": "2022-06-04T13:59:44.192Z"
   },
   {
    "duration": 48,
    "start_time": "2022-06-04T13:59:52.256Z"
   },
   {
    "duration": 5652,
    "start_time": "2022-06-04T14:00:17.628Z"
   },
   {
    "duration": 1268,
    "start_time": "2022-06-04T14:00:23.282Z"
   },
   {
    "duration": 36,
    "start_time": "2022-06-04T14:00:24.552Z"
   },
   {
    "duration": 60,
    "start_time": "2022-06-04T14:00:24.590Z"
   },
   {
    "duration": 446,
    "start_time": "2022-06-04T14:00:24.653Z"
   },
   {
    "duration": 11,
    "start_time": "2022-06-04T14:00:25.101Z"
   },
   {
    "duration": 142078,
    "start_time": "2022-06-04T14:00:25.118Z"
   },
   {
    "duration": 23,
    "start_time": "2022-06-04T14:02:47.200Z"
   },
   {
    "duration": 154,
    "start_time": "2022-06-04T14:02:47.230Z"
   },
   {
    "duration": 6,
    "start_time": "2022-06-04T14:02:47.390Z"
   },
   {
    "duration": 526,
    "start_time": "2022-06-04T14:03:49.544Z"
   },
   {
    "duration": 32,
    "start_time": "2022-06-04T14:04:29.640Z"
   },
   {
    "duration": 710,
    "start_time": "2022-06-04T14:06:11.201Z"
   },
   {
    "duration": 3,
    "start_time": "2022-06-04T14:08:38.850Z"
   },
   {
    "duration": 28,
    "start_time": "2022-06-04T14:08:41.222Z"
   },
   {
    "duration": 7,
    "start_time": "2022-06-04T14:08:52.009Z"
   },
   {
    "duration": 26,
    "start_time": "2022-06-04T14:08:54.044Z"
   },
   {
    "duration": 5,
    "start_time": "2022-06-04T14:11:42.215Z"
   },
   {
    "duration": 11,
    "start_time": "2022-06-04T14:11:57.017Z"
   },
   {
    "duration": 4,
    "start_time": "2022-06-04T14:12:04.237Z"
   },
   {
    "duration": 32,
    "start_time": "2022-06-04T14:13:18.456Z"
   },
   {
    "duration": 8,
    "start_time": "2022-06-04T14:13:41.999Z"
   },
   {
    "duration": 22,
    "start_time": "2022-06-04T14:13:49.405Z"
   },
   {
    "duration": 41,
    "start_time": "2022-06-04T14:13:58.160Z"
   },
   {
    "duration": 33,
    "start_time": "2022-06-04T14:14:27.333Z"
   },
   {
    "duration": 3,
    "start_time": "2022-06-04T14:16:17.427Z"
   },
   {
    "duration": 4,
    "start_time": "2022-06-04T14:23:06.604Z"
   },
   {
    "duration": 3,
    "start_time": "2022-06-04T14:24:26.733Z"
   },
   {
    "duration": 231,
    "start_time": "2022-06-04T14:24:34.790Z"
   },
   {
    "duration": 3,
    "start_time": "2022-06-04T14:24:52.012Z"
   },
   {
    "duration": 230,
    "start_time": "2022-06-04T14:24:54.224Z"
   },
   {
    "duration": 4265,
    "start_time": "2022-06-04T14:25:11.431Z"
   },
   {
    "duration": 984,
    "start_time": "2022-06-04T14:25:15.699Z"
   },
   {
    "duration": 34,
    "start_time": "2022-06-04T14:25:16.691Z"
   },
   {
    "duration": 18,
    "start_time": "2022-06-04T14:25:16.727Z"
   },
   {
    "duration": 393,
    "start_time": "2022-06-04T14:25:16.747Z"
   },
   {
    "duration": 4,
    "start_time": "2022-06-04T14:25:17.142Z"
   },
   {
    "duration": 5061,
    "start_time": "2022-06-04T14:25:23.306Z"
   },
   {
    "duration": 62,
    "start_time": "2022-06-04T14:36:15.443Z"
   },
   {
    "duration": 5,
    "start_time": "2022-06-04T14:36:23.175Z"
   },
   {
    "duration": 192961,
    "start_time": "2022-06-04T14:36:39.059Z"
   },
   {
    "duration": 37,
    "start_time": "2022-06-04T15:00:44.889Z"
   },
   {
    "duration": 29,
    "start_time": "2022-06-04T15:00:46.299Z"
   },
   {
    "duration": 15,
    "start_time": "2022-06-04T15:00:47.137Z"
   },
   {
    "duration": 5,
    "start_time": "2022-06-04T15:00:52.389Z"
   },
   {
    "duration": 440,
    "start_time": "2022-06-04T15:00:57.793Z"
   },
   {
    "duration": 5247,
    "start_time": "2022-06-04T15:08:30.449Z"
   },
   {
    "duration": 1145,
    "start_time": "2022-06-04T15:08:35.698Z"
   },
   {
    "duration": 53,
    "start_time": "2022-06-04T15:08:36.850Z"
   },
   {
    "duration": 36,
    "start_time": "2022-06-04T15:08:36.907Z"
   },
   {
    "duration": 618,
    "start_time": "2022-06-04T15:08:36.946Z"
   },
   {
    "duration": 9,
    "start_time": "2022-06-04T15:08:37.572Z"
   },
   {
    "duration": 49,
    "start_time": "2022-06-04T15:08:37.586Z"
   },
   {
    "duration": 72178,
    "start_time": "2022-06-04T15:08:37.641Z"
   },
   {
    "duration": 46335,
    "start_time": "2022-06-04T15:09:49.821Z"
   },
   {
    "duration": 19,
    "start_time": "2022-06-04T15:10:36.157Z"
   },
   {
    "duration": 61,
    "start_time": "2022-06-04T15:10:36.178Z"
   },
   {
    "duration": 19,
    "start_time": "2022-06-04T15:10:36.241Z"
   },
   {
    "duration": 51,
    "start_time": "2022-06-04T15:10:36.262Z"
   },
   {
    "duration": 419,
    "start_time": "2022-06-04T15:11:12.343Z"
   },
   {
    "duration": 275,
    "start_time": "2022-06-04T15:13:29.984Z"
   },
   {
    "duration": 23,
    "start_time": "2022-06-04T15:19:19.180Z"
   },
   {
    "duration": 66,
    "start_time": "2022-06-04T15:24:38.798Z"
   },
   {
    "duration": 10,
    "start_time": "2022-06-04T15:26:05.708Z"
   },
   {
    "duration": 5849,
    "start_time": "2022-06-04T15:26:29.490Z"
   },
   {
    "duration": 1204,
    "start_time": "2022-06-04T15:26:35.344Z"
   },
   {
    "duration": 45,
    "start_time": "2022-06-04T15:26:36.550Z"
   },
   {
    "duration": 58,
    "start_time": "2022-06-04T15:26:36.597Z"
   },
   {
    "duration": 497,
    "start_time": "2022-06-04T15:26:36.656Z"
   },
   {
    "duration": 10,
    "start_time": "2022-06-04T15:26:37.155Z"
   },
   {
    "duration": 97,
    "start_time": "2022-06-04T15:26:37.167Z"
   },
   {
    "duration": 89623,
    "start_time": "2022-06-04T15:26:37.267Z"
   },
   {
    "duration": 3542,
    "start_time": "2022-06-04T15:28:06.914Z"
   },
   {
    "duration": 0,
    "start_time": "2022-06-04T15:28:10.458Z"
   },
   {
    "duration": 0,
    "start_time": "2022-06-04T15:28:10.458Z"
   },
   {
    "duration": 0,
    "start_time": "2022-06-04T15:28:10.459Z"
   },
   {
    "duration": 0,
    "start_time": "2022-06-04T15:28:10.460Z"
   },
   {
    "duration": 0,
    "start_time": "2022-06-04T15:28:10.461Z"
   },
   {
    "duration": 0,
    "start_time": "2022-06-04T15:28:10.461Z"
   },
   {
    "duration": 0,
    "start_time": "2022-06-04T15:28:10.462Z"
   },
   {
    "duration": 0,
    "start_time": "2022-06-04T15:28:10.464Z"
   },
   {
    "duration": 0,
    "start_time": "2022-06-04T15:28:10.465Z"
   },
   {
    "duration": 0,
    "start_time": "2022-06-04T15:28:10.467Z"
   },
   {
    "duration": 0,
    "start_time": "2022-06-04T15:28:10.468Z"
   },
   {
    "duration": 0,
    "start_time": "2022-06-04T15:28:10.475Z"
   },
   {
    "duration": 0,
    "start_time": "2022-06-04T15:28:10.476Z"
   },
   {
    "duration": 0,
    "start_time": "2022-06-04T15:28:10.477Z"
   },
   {
    "duration": 0,
    "start_time": "2022-06-04T15:28:10.479Z"
   },
   {
    "duration": 0,
    "start_time": "2022-06-04T15:28:10.481Z"
   },
   {
    "duration": 0,
    "start_time": "2022-06-04T15:28:10.482Z"
   },
   {
    "duration": 0,
    "start_time": "2022-06-04T15:28:10.484Z"
   },
   {
    "duration": 36,
    "start_time": "2022-06-04T15:30:57.718Z"
   },
   {
    "duration": 22,
    "start_time": "2022-06-04T15:31:20.633Z"
   },
   {
    "duration": 5,
    "start_time": "2022-06-04T15:31:29.920Z"
   },
   {
    "duration": 8,
    "start_time": "2022-06-04T15:35:42.864Z"
   },
   {
    "duration": 246,
    "start_time": "2022-06-04T15:35:48.186Z"
   },
   {
    "duration": 3,
    "start_time": "2022-06-04T15:36:47.487Z"
   },
   {
    "duration": 46363,
    "start_time": "2022-06-04T15:36:50.502Z"
   },
   {
    "duration": 25,
    "start_time": "2022-06-04T15:39:29.281Z"
   },
   {
    "duration": 33,
    "start_time": "2022-06-04T15:39:34.980Z"
   },
   {
    "duration": 53,
    "start_time": "2022-06-04T15:39:36.089Z"
   },
   {
    "duration": 29,
    "start_time": "2022-06-04T15:39:36.687Z"
   },
   {
    "duration": 2,
    "start_time": "2022-06-04T15:39:38.653Z"
   },
   {
    "duration": 5824,
    "start_time": "2022-06-04T15:39:41.213Z"
   },
   {
    "duration": 5710,
    "start_time": "2022-06-04T15:39:49.319Z"
   },
   {
    "duration": 35,
    "start_time": "2022-06-04T15:40:02.085Z"
   },
   {
    "duration": 42,
    "start_time": "2022-06-04T15:40:09.331Z"
   },
   {
    "duration": 4310,
    "start_time": "2022-06-04T15:41:17.698Z"
   },
   {
    "duration": 1129,
    "start_time": "2022-06-04T15:41:22.010Z"
   },
   {
    "duration": 53,
    "start_time": "2022-06-04T15:41:23.141Z"
   },
   {
    "duration": 48,
    "start_time": "2022-06-04T15:41:23.196Z"
   },
   {
    "duration": 501,
    "start_time": "2022-06-04T15:41:23.247Z"
   },
   {
    "duration": 3,
    "start_time": "2022-06-04T15:41:23.750Z"
   },
   {
    "duration": 71,
    "start_time": "2022-06-04T15:41:23.755Z"
   },
   {
    "duration": 68993,
    "start_time": "2022-06-04T15:41:23.828Z"
   },
   {
    "duration": 42500,
    "start_time": "2022-06-04T15:42:32.824Z"
   },
   {
    "duration": 9,
    "start_time": "2022-06-04T15:43:15.326Z"
   },
   {
    "duration": 24,
    "start_time": "2022-06-04T15:43:15.337Z"
   },
   {
    "duration": 66,
    "start_time": "2022-06-04T15:43:15.363Z"
   },
   {
    "duration": 8,
    "start_time": "2022-06-04T15:43:15.431Z"
   },
   {
    "duration": 6,
    "start_time": "2022-06-04T15:43:15.442Z"
   },
   {
    "duration": 5513,
    "start_time": "2022-06-04T15:43:15.449Z"
   },
   {
    "duration": 3339,
    "start_time": "2022-06-04T15:43:20.963Z"
   },
   {
    "duration": 8,
    "start_time": "2022-06-04T15:44:39.641Z"
   },
   {
    "duration": 449,
    "start_time": "2022-06-04T15:44:52.805Z"
   },
   {
    "duration": 26,
    "start_time": "2022-06-04T15:44:59.346Z"
   },
   {
    "duration": 29,
    "start_time": "2022-06-04T15:47:35.183Z"
   },
   {
    "duration": 30,
    "start_time": "2022-06-04T15:48:08.683Z"
   },
   {
    "duration": 5,
    "start_time": "2022-06-04T15:48:34.410Z"
   },
   {
    "duration": 40,
    "start_time": "2022-06-04T15:48:51.564Z"
   },
   {
    "duration": 47,
    "start_time": "2022-06-04T15:49:04.724Z"
   },
   {
    "duration": 44,
    "start_time": "2022-06-04T15:49:13.484Z"
   },
   {
    "duration": 43,
    "start_time": "2022-06-04T15:50:59.413Z"
   },
   {
    "duration": 48,
    "start_time": "2022-06-04T15:52:19.581Z"
   },
   {
    "duration": 78,
    "start_time": "2022-06-04T15:52:36.740Z"
   },
   {
    "duration": 4271,
    "start_time": "2022-06-04T15:59:40.706Z"
   },
   {
    "duration": 1049,
    "start_time": "2022-06-04T15:59:44.979Z"
   },
   {
    "duration": 40,
    "start_time": "2022-06-04T15:59:46.030Z"
   },
   {
    "duration": 205,
    "start_time": "2022-06-04T15:59:46.074Z"
   },
   {
    "duration": 170,
    "start_time": "2022-06-04T15:59:46.281Z"
   },
   {
    "duration": 3,
    "start_time": "2022-06-04T15:59:46.453Z"
   },
   {
    "duration": 49,
    "start_time": "2022-06-04T15:59:46.458Z"
   },
   {
    "duration": 68807,
    "start_time": "2022-06-04T15:59:46.511Z"
   },
   {
    "duration": 42541,
    "start_time": "2022-06-04T16:00:55.321Z"
   },
   {
    "duration": 27,
    "start_time": "2022-06-04T16:01:37.868Z"
   },
   {
    "duration": 32,
    "start_time": "2022-06-04T16:01:37.902Z"
   },
   {
    "duration": 69,
    "start_time": "2022-06-04T16:01:37.936Z"
   },
   {
    "duration": 6,
    "start_time": "2022-06-04T16:01:38.007Z"
   },
   {
    "duration": 5363,
    "start_time": "2022-06-04T16:01:38.015Z"
   },
   {
    "duration": 3353,
    "start_time": "2022-06-04T16:01:43.380Z"
   },
   {
    "duration": 572627,
    "start_time": "2022-06-04T16:01:46.735Z"
   },
   {
    "duration": 9,
    "start_time": "2022-06-04T16:11:19.372Z"
   },
   {
    "duration": 145850,
    "start_time": "2022-06-04T16:11:36.120Z"
   },
   {
    "duration": 4,
    "start_time": "2022-06-04T16:14:01.972Z"
   },
   {
    "duration": 5273,
    "start_time": "2022-06-04T16:14:01.978Z"
   },
   {
    "duration": 7,
    "start_time": "2022-06-04T16:14:07.252Z"
   },
   {
    "duration": 131940,
    "start_time": "2022-06-04T16:14:07.261Z"
   },
   {
    "duration": 152,
    "start_time": "2022-06-04T16:16:19.203Z"
   },
   {
    "duration": 42,
    "start_time": "2022-06-04T16:16:19.357Z"
   },
   {
    "duration": 22,
    "start_time": "2022-06-04T16:16:19.401Z"
   },
   {
    "duration": 16388,
    "start_time": "2022-06-04T16:16:19.426Z"
   },
   {
    "duration": 8,
    "start_time": "2022-06-04T16:16:35.817Z"
   },
   {
    "duration": 2,
    "start_time": "2022-06-04T16:18:11.215Z"
   },
   {
    "duration": 29,
    "start_time": "2022-06-04T16:18:11.808Z"
   },
   {
    "duration": 7048,
    "start_time": "2022-06-04T16:18:18.584Z"
   },
   {
    "duration": 7023,
    "start_time": "2022-06-04T16:18:33.337Z"
   },
   {
    "duration": 8,
    "start_time": "2022-06-04T16:18:40.366Z"
   },
   {
    "duration": 140404,
    "start_time": "2022-06-04T16:18:40.376Z"
   },
   {
    "duration": 5501,
    "start_time": "2022-06-04T16:21:00.784Z"
   },
   {
    "duration": 42,
    "start_time": "2022-06-04T16:21:06.287Z"
   },
   {
    "duration": 8,
    "start_time": "2022-06-04T16:21:13.833Z"
   }
  ],
  "kernelspec": {
   "display_name": "Python 3 (ipykernel)",
   "language": "python",
   "name": "python3"
  },
  "language_info": {
   "codemirror_mode": {
    "name": "ipython",
    "version": 3
   },
   "file_extension": ".py",
   "mimetype": "text/x-python",
   "name": "python",
   "nbconvert_exporter": "python",
   "pygments_lexer": "ipython3",
   "version": "3.10.0"
  },
  "toc": {
   "base_numbering": 1,
   "nav_menu": {},
   "number_sections": true,
   "sideBar": true,
   "skip_h1_title": true,
   "title_cell": "Содержание",
   "title_sidebar": "Contents",
   "toc_cell": true,
   "toc_position": {
    "height": "calc(100% - 180px)",
    "left": "10px",
    "top": "150px",
    "width": "302.391px"
   },
   "toc_section_display": true,
   "toc_window_display": false
  }
 },
 "nbformat": 4,
 "nbformat_minor": 4
}
